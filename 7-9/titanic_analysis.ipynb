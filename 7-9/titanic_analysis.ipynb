{
 "cells": [
  {
   "metadata": {
    "ExecuteTime": {
     "end_time": "2025-07-09T00:26:14.175187Z",
     "start_time": "2025-07-09T00:26:14.164633Z"
    }
   },
   "cell_type": "code",
   "source": [
    "import seaborn as sns\n",
    "import matplotlib.pyplot as plt\n",
    "import pandas as pd\n",
    "\n",
    "titanic = sns.load_dataset('titanic')\n",
    "# print(titanic.head())\n",
    "\n",
    "titanic.to_csv('titanic.csv', index = False)\n",
    "titanic.isnull().sum()"
   ],
   "id": "75a0811f08b3cc0b",
   "outputs": [
    {
     "data": {
      "text/plain": [
       "survived         0\n",
       "pclass           0\n",
       "sex              0\n",
       "age            177\n",
       "sibsp            0\n",
       "parch            0\n",
       "fare             0\n",
       "embarked         2\n",
       "class            0\n",
       "who              0\n",
       "adult_male       0\n",
       "deck           688\n",
       "embark_town      2\n",
       "alive            0\n",
       "alone            0\n",
       "dtype: int64"
      ]
     },
     "execution_count": 29,
     "metadata": {},
     "output_type": "execute_result"
    }
   ],
   "execution_count": 29
  },
  {
   "metadata": {
    "ExecuteTime": {
     "end_time": "2025-07-09T00:26:14.197268Z",
     "start_time": "2025-07-09T00:26:14.193984Z"
    }
   },
   "cell_type": "code",
   "source": [
    "\n",
    "titanic['age'] = titanic['age'].fillna(titanic['age'].mean())\n",
    "titanic.isnull().sum()"
   ],
   "id": "ec27b090d5c3df91",
   "outputs": [
    {
     "data": {
      "text/plain": [
       "survived         0\n",
       "pclass           0\n",
       "sex              0\n",
       "age              0\n",
       "sibsp            0\n",
       "parch            0\n",
       "fare             0\n",
       "embarked         2\n",
       "class            0\n",
       "who              0\n",
       "adult_male       0\n",
       "deck           688\n",
       "embark_town      2\n",
       "alive            0\n",
       "alone            0\n",
       "dtype: int64"
      ]
     },
     "execution_count": 30,
     "metadata": {},
     "output_type": "execute_result"
    }
   ],
   "execution_count": 30
  },
  {
   "metadata": {
    "ExecuteTime": {
     "end_time": "2025-07-09T00:26:14.234667Z",
     "start_time": "2025-07-09T00:26:14.232246Z"
    }
   },
   "cell_type": "code",
   "source": "titanic['embarked'].value_counts()",
   "id": "82ae50f409e3c500",
   "outputs": [
    {
     "data": {
      "text/plain": [
       "embarked\n",
       "S    644\n",
       "C    168\n",
       "Q     77\n",
       "Name: count, dtype: int64"
      ]
     },
     "execution_count": 31,
     "metadata": {},
     "output_type": "execute_result"
    }
   ],
   "execution_count": 31
  },
  {
   "metadata": {
    "ExecuteTime": {
     "end_time": "2025-07-09T00:26:14.277509Z",
     "start_time": "2025-07-09T00:26:14.274559Z"
    }
   },
   "cell_type": "code",
   "source": [
    "\n",
    "titanic['embarked'] = titanic['embarked'].fillna('S')\n",
    "titanic.isnull().sum()"
   ],
   "id": "8eac83fb3c0b6f14",
   "outputs": [
    {
     "data": {
      "text/plain": [
       "survived         0\n",
       "pclass           0\n",
       "sex              0\n",
       "age              0\n",
       "sibsp            0\n",
       "parch            0\n",
       "fare             0\n",
       "embarked         0\n",
       "class            0\n",
       "who              0\n",
       "adult_male       0\n",
       "deck           688\n",
       "embark_town      2\n",
       "alive            0\n",
       "alone            0\n",
       "dtype: int64"
      ]
     },
     "execution_count": 32,
     "metadata": {},
     "output_type": "execute_result"
    }
   ],
   "execution_count": 32
  },
  {
   "metadata": {
    "ExecuteTime": {
     "end_time": "2025-07-09T00:26:14.315186Z",
     "start_time": "2025-07-09T00:26:14.312258Z"
    }
   },
   "cell_type": "code",
   "source": "titanic['deck'].value_counts()",
   "id": "93a51cf93fe8c4a0",
   "outputs": [
    {
     "data": {
      "text/plain": [
       "deck\n",
       "C    59\n",
       "B    47\n",
       "D    33\n",
       "E    32\n",
       "A    15\n",
       "F    13\n",
       "G     4\n",
       "Name: count, dtype: int64"
      ]
     },
     "execution_count": 33,
     "metadata": {},
     "output_type": "execute_result"
    }
   ],
   "execution_count": 33
  },
  {
   "metadata": {
    "ExecuteTime": {
     "end_time": "2025-07-09T00:26:14.357527Z",
     "start_time": "2025-07-09T00:26:14.354641Z"
    }
   },
   "cell_type": "code",
   "source": [
    "titanic['deck'] = titanic['deck'].fillna('C')\n",
    "titanic.isnull().sum()"
   ],
   "id": "98c0be4c109a2c3a",
   "outputs": [
    {
     "data": {
      "text/plain": [
       "survived       0\n",
       "pclass         0\n",
       "sex            0\n",
       "age            0\n",
       "sibsp          0\n",
       "parch          0\n",
       "fare           0\n",
       "embarked       0\n",
       "class          0\n",
       "who            0\n",
       "adult_male     0\n",
       "deck           0\n",
       "embark_town    2\n",
       "alive          0\n",
       "alone          0\n",
       "dtype: int64"
      ]
     },
     "execution_count": 34,
     "metadata": {},
     "output_type": "execute_result"
    }
   ],
   "execution_count": 34
  }
 ],
 "metadata": {},
 "nbformat": 4,
 "nbformat_minor": 5
}
