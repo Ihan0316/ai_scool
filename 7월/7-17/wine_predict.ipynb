{
 "cells": [
  {
   "metadata": {
    "ExecuteTime": {
     "end_time": "2025-07-17T07:09:29.306585Z",
     "start_time": "2025-07-17T07:09:29.142285Z"
    }
   },
   "cell_type": "code",
   "source": [
    "import os\n",
    "import joblib\n",
    "import pandas as pd\n",
    "import numpy as np\n",
    "from sklearn.model_selection import train_test_split, StratifiedKFold, RandomizedSearchCV, GridSearchCV\n",
    "from sklearn.tree import DecisionTreeClassifier\n",
    "\n",
    "# 데이터 불러오기\n",
    "wine = pd.read_csv('https://raw.githubusercontent.com/rickiepark/hg-mldl/master/wine.csv')\n",
    "X = wine.drop(['class'], axis=1).values\n",
    "y = wine['class'].values\n",
    "\n",
    "# 데이터 분리\n",
    "X_train_val, X_test, y_train_val, y_test = train_test_split(X, y, test_size=0.2, random_state=50)\n",
    "X_train, X_val, y_train, y_val = train_test_split(X_train_val, y_train_val, test_size=0.2, random_state=50)\n",
    "\n",
    "# 하이퍼파라미터 범위 지정 (RandomizedSearch용)\n",
    "param_dist = {\n",
    "    'min_impurity_decrease': np.arange(0.0001, 0.01, 0.0005),\n",
    "    'max_depth': range(5, 30, 2),\n",
    "    'min_samples_split': range(2, 30, 2),\n",
    "    'min_samples_leaf': range(1, 20, 2),\n",
    "    'splitter': ['best', 'random'],\n",
    "    'class_weight': ['balanced', None]\n",
    "}\n",
    "\n",
    "splitter = StratifiedKFold(n_splits=10, shuffle=True, random_state=50)\n",
    "dt_cls = DecisionTreeClassifier(random_state=50)\n",
    "\n",
    "# 1단계) RandomizedSearchCV로 넓게 탐색\n",
    "random_search = RandomizedSearchCV(\n",
    "    dt_cls, param_dist, n_iter=30, cv=splitter, n_jobs=-1, random_state=50\n",
    ")\n",
    "random_search.fit(X_train, y_train)\n",
    "best_random_params = random_search.best_params_\n",
    "print('[RandomizedSearch 최적 파라미터]')\n",
    "print(best_random_params)\n",
    "\n",
    "# 2단계) GridSearchCV로 정밀 탐색 (최적값 근처로 범위 좁힘)\n",
    "param_grid = {\n",
    "    'min_impurity_decrease': [best_random_params['min_impurity_decrease'] - 0.0002,\n",
    "                              best_random_params['min_impurity_decrease'],\n",
    "                              best_random_params['min_impurity_decrease'] + 0.0002],\n",
    "    'max_depth': [best_random_params['max_depth']-1,\n",
    "                  best_random_params['max_depth'],\n",
    "                  best_random_params['max_depth']+1],\n",
    "    'min_samples_split': [best_random_params['min_samples_split']-1,\n",
    "                          best_random_params['min_samples_split', 6],\n",
    "                          best_random_params['min_samples_split']+1],\n",
    "    'min_samples_leaf': [best_random_params['min_samples_leaf']-1,\n",
    "                         best_random_params['min_samples_leaf'],\n",
    "                         best_random_params['min_samples_leaf']+1],\n",
    "    'splitter': [best_random_params['splitter']],\n",
    "    'class_weight': [best_random_params['class_weight']]\n",
    "}\n",
    "# 범위에서 0 이하 값이 들어가면 오류나니, 실제 실행 전에 수동으로 체크/수정\n",
    "\n",
    "# 음수/0 방지\n",
    "for k in ['min_impurity_decrease','max_depth','min_samples_split','min_samples_leaf']:\n",
    "    param_grid[k] = [x for x in param_grid[k] if (type(x) == float and x >= 0) or (type(x) == int and x >= 1)]\n",
    "\n",
    "grid_search = GridSearchCV(\n",
    "    dt_cls, param_grid, cv=splitter, n_jobs=-1\n",
    ")\n",
    "grid_search.fit(X_train, y_train)\n",
    "best_model = grid_search.best_estimator_\n",
    "print(\"[GridSearch 최적 파라미터]\")\n",
    "print(grid_search.best_params_)\n",
    "print(\"[CV 최고 점수]\", grid_search.best_score_)\n",
    "\n",
    "# 변수별 min/max값 출력(데이터 체크)\n",
    "print(\"alcohol:\", wine['alcohol'].min(), \"~\", wine['alcohol'].max())\n",
    "print(\"sugar:\", wine['sugar'].min(), \"~\", wine['sugar'].max())\n",
    "print(\"pH:\", wine['pH'].min(), \"~\", wine['pH'].max())\n",
    "\n",
    "# 모델 저장(폴더 생성후 저장)\n",
    "os.makedirs('./model', exist_ok=True)\n",
    "model_filename = './model/wine_optimized.joblib'\n",
    "joblib.dump(best_model, model_filename)\n",
    "print('최적화 모델이 저장되었습니다:', model_filename)"
   ],
   "id": "1fae59b1b9370414",
   "outputs": [
    {
     "name": "stdout",
     "output_type": "stream",
     "text": [
      "[RandomizedSearch 최적 파라미터]\n",
      "{'splitter': 'best', 'min_samples_split': 20, 'min_samples_leaf': 17, 'min_impurity_decrease': 0.0016, 'max_depth': 13, 'class_weight': None}\n"
     ]
    },
    {
     "ename": "KeyError",
     "evalue": "('min_samples_split', 6)",
     "output_type": "error",
     "traceback": [
      "\u001B[0;31m---------------------------------------------------------------------------\u001B[0m",
      "\u001B[0;31mKeyError\u001B[0m                                  Traceback (most recent call last)",
      "Cell \u001B[0;32mIn[13], line 48\u001B[0m\n\u001B[1;32m     37\u001B[0m \u001B[38;5;28mprint\u001B[39m(best_random_params)\n\u001B[1;32m     39\u001B[0m \u001B[38;5;66;03m# 2단계) GridSearchCV로 정밀 탐색 (최적값 근처로 범위 좁힘)\u001B[39;00m\n\u001B[1;32m     40\u001B[0m param_grid \u001B[38;5;241m=\u001B[39m {\n\u001B[1;32m     41\u001B[0m     \u001B[38;5;124m'\u001B[39m\u001B[38;5;124mmin_impurity_decrease\u001B[39m\u001B[38;5;124m'\u001B[39m: [best_random_params[\u001B[38;5;124m'\u001B[39m\u001B[38;5;124mmin_impurity_decrease\u001B[39m\u001B[38;5;124m'\u001B[39m] \u001B[38;5;241m-\u001B[39m \u001B[38;5;241m0.0002\u001B[39m,\n\u001B[1;32m     42\u001B[0m                               best_random_params[\u001B[38;5;124m'\u001B[39m\u001B[38;5;124mmin_impurity_decrease\u001B[39m\u001B[38;5;124m'\u001B[39m],\n\u001B[1;32m     43\u001B[0m                               best_random_params[\u001B[38;5;124m'\u001B[39m\u001B[38;5;124mmin_impurity_decrease\u001B[39m\u001B[38;5;124m'\u001B[39m] \u001B[38;5;241m+\u001B[39m \u001B[38;5;241m0.0002\u001B[39m],\n\u001B[1;32m     44\u001B[0m     \u001B[38;5;124m'\u001B[39m\u001B[38;5;124mmax_depth\u001B[39m\u001B[38;5;124m'\u001B[39m: [best_random_params[\u001B[38;5;124m'\u001B[39m\u001B[38;5;124mmax_depth\u001B[39m\u001B[38;5;124m'\u001B[39m]\u001B[38;5;241m-\u001B[39m\u001B[38;5;241m1\u001B[39m,\n\u001B[1;32m     45\u001B[0m                   best_random_params[\u001B[38;5;124m'\u001B[39m\u001B[38;5;124mmax_depth\u001B[39m\u001B[38;5;124m'\u001B[39m],\n\u001B[1;32m     46\u001B[0m                   best_random_params[\u001B[38;5;124m'\u001B[39m\u001B[38;5;124mmax_depth\u001B[39m\u001B[38;5;124m'\u001B[39m]\u001B[38;5;241m+\u001B[39m\u001B[38;5;241m1\u001B[39m],\n\u001B[1;32m     47\u001B[0m     \u001B[38;5;124m'\u001B[39m\u001B[38;5;124mmin_samples_split\u001B[39m\u001B[38;5;124m'\u001B[39m: [best_random_params[\u001B[38;5;124m'\u001B[39m\u001B[38;5;124mmin_samples_split\u001B[39m\u001B[38;5;124m'\u001B[39m]\u001B[38;5;241m-\u001B[39m\u001B[38;5;241m1\u001B[39m,\n\u001B[0;32m---> 48\u001B[0m                           \u001B[43mbest_random_params\u001B[49m\u001B[43m[\u001B[49m\u001B[38;5;124;43m'\u001B[39;49m\u001B[38;5;124;43mmin_samples_split\u001B[39;49m\u001B[38;5;124;43m'\u001B[39;49m\u001B[43m,\u001B[49m\u001B[43m \u001B[49m\u001B[38;5;241;43m6\u001B[39;49m\u001B[43m]\u001B[49m,\n\u001B[1;32m     49\u001B[0m                           best_random_params[\u001B[38;5;124m'\u001B[39m\u001B[38;5;124mmin_samples_split\u001B[39m\u001B[38;5;124m'\u001B[39m]\u001B[38;5;241m+\u001B[39m\u001B[38;5;241m1\u001B[39m],\n\u001B[1;32m     50\u001B[0m     \u001B[38;5;124m'\u001B[39m\u001B[38;5;124mmin_samples_leaf\u001B[39m\u001B[38;5;124m'\u001B[39m: [best_random_params[\u001B[38;5;124m'\u001B[39m\u001B[38;5;124mmin_samples_leaf\u001B[39m\u001B[38;5;124m'\u001B[39m]\u001B[38;5;241m-\u001B[39m\u001B[38;5;241m1\u001B[39m,\n\u001B[1;32m     51\u001B[0m                          best_random_params[\u001B[38;5;124m'\u001B[39m\u001B[38;5;124mmin_samples_leaf\u001B[39m\u001B[38;5;124m'\u001B[39m],\n\u001B[1;32m     52\u001B[0m                          best_random_params[\u001B[38;5;124m'\u001B[39m\u001B[38;5;124mmin_samples_leaf\u001B[39m\u001B[38;5;124m'\u001B[39m]\u001B[38;5;241m+\u001B[39m\u001B[38;5;241m1\u001B[39m],\n\u001B[1;32m     53\u001B[0m     \u001B[38;5;124m'\u001B[39m\u001B[38;5;124msplitter\u001B[39m\u001B[38;5;124m'\u001B[39m: [best_random_params[\u001B[38;5;124m'\u001B[39m\u001B[38;5;124msplitter\u001B[39m\u001B[38;5;124m'\u001B[39m]],\n\u001B[1;32m     54\u001B[0m     \u001B[38;5;124m'\u001B[39m\u001B[38;5;124mclass_weight\u001B[39m\u001B[38;5;124m'\u001B[39m: [best_random_params[\u001B[38;5;124m'\u001B[39m\u001B[38;5;124mclass_weight\u001B[39m\u001B[38;5;124m'\u001B[39m]]\n\u001B[1;32m     55\u001B[0m }\n\u001B[1;32m     56\u001B[0m \u001B[38;5;66;03m# 범위에서 0 이하 값이 들어가면 오류나니, 실제 실행 전에 수동으로 체크/수정\u001B[39;00m\n\u001B[1;32m     57\u001B[0m \n\u001B[1;32m     58\u001B[0m \u001B[38;5;66;03m# 음수/0 방지\u001B[39;00m\n\u001B[1;32m     59\u001B[0m \u001B[38;5;28;01mfor\u001B[39;00m k \u001B[38;5;129;01min\u001B[39;00m [\u001B[38;5;124m'\u001B[39m\u001B[38;5;124mmin_impurity_decrease\u001B[39m\u001B[38;5;124m'\u001B[39m,\u001B[38;5;124m'\u001B[39m\u001B[38;5;124mmax_depth\u001B[39m\u001B[38;5;124m'\u001B[39m,\u001B[38;5;124m'\u001B[39m\u001B[38;5;124mmin_samples_split\u001B[39m\u001B[38;5;124m'\u001B[39m,\u001B[38;5;124m'\u001B[39m\u001B[38;5;124mmin_samples_leaf\u001B[39m\u001B[38;5;124m'\u001B[39m]:\n",
      "\u001B[0;31mKeyError\u001B[0m: ('min_samples_split', 6)"
     ]
    }
   ],
   "execution_count": 13
  }
 ],
 "metadata": {
  "kernelspec": {
   "display_name": "Python 3",
   "language": "python",
   "name": "python3"
  },
  "language_info": {
   "codemirror_mode": {
    "name": "ipython",
    "version": 2
   },
   "file_extension": ".py",
   "mimetype": "text/x-python",
   "name": "python",
   "nbconvert_exporter": "python",
   "pygments_lexer": "ipython2",
   "version": "2.7.6"
  }
 },
 "nbformat": 4,
 "nbformat_minor": 5
}
