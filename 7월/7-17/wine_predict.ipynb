{
 "cells": [
  {
   "metadata": {
    "ExecuteTime": {
     "end_time": "2025-07-17T06:43:43.590557Z",
     "start_time": "2025-07-17T06:43:43.183978Z"
    }
   },
   "cell_type": "code",
   "source": [
    "import joblib\n",
    "import pandas as pd\n",
    "import numpy as np\n",
    "from sklearn.model_selection import train_test_split, StratifiedKFold\n",
    "from sklearn.tree import DecisionTreeClassifier\n",
    "from sklearn.model_selection import RandomizedSearchCV\n",
    "\n",
    "# wine 데이터 호출\n",
    "wine = pd.read_csv('https://raw.githubusercontent.com/rickiepark/hg-mldl/master/wine.csv')\n",
    "\n",
    "# 매개변수 지정\n",
    "X = wine.drop(['class'], axis=1).values\n",
    "y = wine['class'].values\n",
    "\n",
    "# 학습+검증 / 테스트 데이터 분리\n",
    "X_train_val, X_test, y_train_val, y_test = train_test_split(X, y, test_size=0.2, random_state=50)\n",
    "\n",
    "# 학습 / 검증 데이터 분리\n",
    "X_train, X_val, y_train, y_val = train_test_split(X_train_val, y_train_val, test_size=0.2, random_state=50)\n",
    "\n",
    "# 파라미터 정의\n",
    "params = {'min_impurity_decrease': np.arange(0.0001, 0.1000, 0.0001),\n",
    "          'max_depth': range(5, 100, 1),\n",
    "          'min_samples_split': range(2, 100, 1)}\n",
    "\n",
    "# 값 최적화\n",
    "splitter = StratifiedKFold(n_splits=10, shuffle=True, random_state=50)\n",
    "dt_cls = DecisionTreeClassifier(splitter='best', random_state=50)\n",
    "gs = RandomizedSearchCV(dt_cls, params, cv=splitter, n_iter=100, n_jobs=-1, random_state=50)\n",
    "gs.fit(X_train, y_train)\n",
    "\n",
    "# 최적의 파라미터\n",
    "print(gs.best_params_)\n",
    "\n",
    "# min, max\n",
    "print(wine['alcohol'].min(), wine['alcohol'].max())\n",
    "print(wine['sugar'].min(), wine['sugar'].max())\n",
    "print(wine['pH'].min(), wine['pH'].max())\n",
    "\n",
    "# 최고의 모델 사용\n",
    "dt = gs.best_estimator_\n",
    "\n",
    "# 최고 점수\n",
    "print(gs.best_score_)\n",
    "\n",
    "# 모델 저장 폴더 생성\n",
    "model_filename = './model/wine.joblib'\n",
    "joblib.dump(dt, model_filename)"
   ],
   "id": "1fae59b1b9370414",
   "outputs": [
    {
     "name": "stdout",
     "output_type": "stream",
     "text": [
      "{'min_samples_split': 74, 'min_impurity_decrease': 0.0008, 'max_depth': 22}\n",
      "8.0 14.9\n",
      "0.6 65.8\n",
      "2.72 4.01\n",
      "0.8633584337349397\n"
     ]
    },
    {
     "data": {
      "text/plain": [
       "['./model/wine.joblib']"
      ]
     },
     "execution_count": 3,
     "metadata": {},
     "output_type": "execute_result"
    }
   ],
   "execution_count": 3
  }
 ],
 "metadata": {
  "kernelspec": {
   "display_name": "Python 3",
   "language": "python",
   "name": "python3"
  },
  "language_info": {
   "codemirror_mode": {
    "name": "ipython",
    "version": 2
   },
   "file_extension": ".py",
   "mimetype": "text/x-python",
   "name": "python",
   "nbconvert_exporter": "python",
   "pygments_lexer": "ipython2",
   "version": "2.7.6"
  }
 },
 "nbformat": 4,
 "nbformat_minor": 5
}
