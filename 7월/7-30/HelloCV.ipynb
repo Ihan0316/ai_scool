{
 "cells": [
  {
   "cell_type": "code",
   "id": "initial_id",
   "metadata": {
    "collapsed": true
   },
   "source": [
    "# 이미지 불러오기 - 그레이스케일\n",
    "import sys\n",
    "import cv2\n",
    "\n",
    "print(\"Hello OpenCV\")\n",
    "\n",
    "img = cv2.imread(\"images/apple.png\", flags=cv2.IMREAD_GRAYSCALE)\n",
    "if img is None:\n",
    "    print(\"Image load failed!\")\n",
    "    sys.exit()\n",
    "\n",
    "cv2.namedWindow('image')\n",
    "cv2.imshow('image', img)\n",
    "\n",
    "cv2.imwrite('images/apple-gray.png', img)\n",
    "print('Image saved')\n",
    "\n",
    "cv2.waitKey(0)\n",
    "cv2.destroyAllWindows()"
   ],
   "outputs": [],
   "execution_count": null
  },
  {
   "metadata": {},
   "cell_type": "code",
   "source": [
    "# 이미지를 다양한 파일로 저장하기\n",
    "import cv2\n",
    "imgFile = 'images/beach.jpg'\n",
    "img = cv2.imread(imgFile)\n",
    "\n",
    "cv2.imwrite('images/beach.bmp', img)\n",
    "cv2.imwrite('images/beach.png', img)\n",
    "cv2.imwrite('images/beach2.png', img, [cv2.IMWRITE_PNG_COMPRESSION, 5 ])\n",
    "cv2.imwrite('images/beach2.jpg', img, [cv2.IMWRITE_JPEG_QUALITY, 20])\n",
    "print('Image saved')"
   ],
   "id": "1b0c81a70cc00c3b",
   "outputs": [],
   "execution_count": null
  },
  {
   "metadata": {},
   "cell_type": "code",
   "source": [
    "# 이미지 표시 창 제목, 사이즈 설정\n",
    "import sys\n",
    "import cv2\n",
    "\n",
    "print('Hello OpenCV')\n",
    "\n",
    "img = cv2.imread('images/apple.png')\n",
    "\n",
    "if img is None:\n",
    "    print('Image load failed!')\n",
    "    sys.exit()\n",
    "\n",
    "cv2.namedWindow('image', flags=cv2.WINDOW_NORMAL)\n",
    "cv2.resizeWindow('image', 200, 200)\n",
    "cv2.imshow('image', img)\n",
    "cv2.waitKey()\n",
    "\n",
    "cv2.imwrite('images/apple-resized.png', img)\n",
    "\n",
    "cv2.destroyAllWindows()"
   ],
   "id": "7875e7ead3059750",
   "outputs": [],
   "execution_count": null
  },
  {
   "metadata": {},
   "cell_type": "code",
   "source": [
    "# BGR 로 출력, 표에 추가 및 축 표시\n",
    "import cv2\n",
    "from matplotlib import pyplot as plt\n",
    "\n",
    "imgFile = 'images/beach.jpg'\n",
    "img = cv2.imread(imgFile)\n",
    "\n",
    "plt.axis('on')\n",
    "\n",
    "plt.imshow(img)\n",
    "plt.show()"
   ],
   "id": "1180a82d1e86b978",
   "outputs": [],
   "execution_count": null
  },
  {
   "metadata": {},
   "cell_type": "code",
   "source": [
    "# BGR -> RGB 로 변환\n",
    "import cv2\n",
    "from matplotlib import pyplot as plt\n",
    "\n",
    "imgFile = 'images/beach.jpg'\n",
    "img = cv2.imread(imgFile)\n",
    "\n",
    "plt.axis('on')\n",
    "\n",
    "imgRGB = cv2.cvtColor(img, cv2.COLOR_BGR2RGB)\n",
    "\n",
    "plt.imshow(imgRGB)\n",
    "plt.show()"
   ],
   "id": "e650457e60bcf903",
   "outputs": [],
   "execution_count": null
  },
  {
   "metadata": {},
   "cell_type": "code",
   "source": [
    "# 그레이 스케일로 변환\n",
    "import cv2\n",
    "from matplotlib import pyplot as plt\n",
    "\n",
    "imgFile = 'images/beach.jpg'\n",
    "imgGRAY = cv2.imread(imgFile, cv2.IMREAD_GRAYSCALE)\n",
    "\n",
    "plt.axis('off')\n",
    "plt.imshow(imgGRAY, cmap='gray', interpolation='bicubic')\n",
    "plt.show()"
   ],
   "id": "7e8125d30eb94298",
   "outputs": [],
   "execution_count": null
  },
  {
   "metadata": {},
   "cell_type": "code",
   "source": [
    "# 그레이 스케일로 변환 후 저장\n",
    "import cv2\n",
    "from matplotlib import pyplot as plt\n",
    "\n",
    "imgFile = 'images/beach.jpg'\n",
    "imgGRAY = cv2.imread(imgFile, cv2.IMREAD_GRAYSCALE)\n",
    "\n",
    "plt.axis('off')\n",
    "plt.imshow(imgGRAY, cmap='gray', interpolation='bicubic')\n",
    "plt.savefig('images/beach-gray.png')\n",
    "plt.show()"
   ],
   "id": "af0343638ecf3e8a",
   "outputs": [],
   "execution_count": null
  },
  {
   "metadata": {},
   "cell_type": "code",
   "source": [
    "import cv2\n",
    "import numpy as np\n",
    "\n",
    "img = np.full((400, 400, 3), 255, dtype=np.uint8)\n",
    "\n",
    "cv2.line(img, (50, 50),(200, 50),(255, 0, 0), thickness=5)\n",
    "cv2.line(img, (50, 60),(150, 160),(0, 255, 0))\n",
    "cv2.line(img, (150, 100),(250, 300),(0, 0, 255), lineType=cv2.LINE_8)\n",
    "\n",
    "cv2.imshow('Line Example', img)\n",
    "cv2.waitKey()\n",
    "cv2.destroyAllWindows()"
   ],
   "id": "a1a4fc8a5efa8810",
   "outputs": [],
   "execution_count": null
  },
  {
   "metadata": {},
   "cell_type": "code",
   "source": [
    "import cv2\n",
    "import numpy as np\n",
    "\n",
    "image = np.ones((512, 512, 3), dtype=np.uint8)\n",
    "\n",
    "cv2.drawMarker(image, (100, 100), (255, 0, 0), cv2.MARKER_CROSS, 20, 1)\n",
    "cv2.drawMarker(image, (200, 200), (0, 255, 0), cv2.MARKER_TILTED_CROSS, 40, 3)\n",
    "cv2.drawMarker(image, (300, 300), (0, 0, 255), cv2.MARKER_STAR, 60, 5)\n",
    "\n",
    "cv2.imshow('Marker Example', image)\n",
    "cv2.waitKey(0)\n",
    "cv2.destroyAllWindows()"
   ],
   "id": "cc19b84b39d484e4",
   "outputs": [],
   "execution_count": null
  },
  {
   "metadata": {},
   "cell_type": "code",
   "source": [
    "# 숙제1\n",
    "import cv2\n",
    "import numpy as np\n",
    "\n",
    "img = np.full((500, 500, 3), 255, dtype=np.uint8)\n",
    "\n",
    "# cv2.line[10, 10]에서 [500, 500]까지 파란 직선을 두께 2로 그려라\n",
    "cv2.line(img, (10, 10),(500, 500),(255, 0, 0), thickness=2)\n",
    "# cv2.line[100, 400]에서 [400, 400]까지 초록색 수평선을 그리고 선 타입을 LINE_AA로 설정\n",
    "cv2.line(img, (100, 400),(400, 400), (0, 255, 0), lineType=cv2.LINE_AA)\n",
    "# cv2.arrowedLine [50, 50]에서 [300, 50]까지 빨간색 화살표를 그리고 tipLength는 0.2로 설정\n",
    "cv2.arrowedLine(img, (50, 50),(300, 50), (0, 0, 255), tipLength=0.2)\n",
    "# cv2.arrowdLine [250, 100]에서 [250, 400]까지 아래 방향 보라색 화살표를 tipLength 0.1로 설정\n",
    "cv2.arrowedLine(img, (250, 100),(250, 400), (255, 0, 255), tipLength=0.1)\n",
    "\n",
    "cv2.imshow('Line Example', img)\n",
    "cv2.waitKey()\n",
    "cv2.destroyAllWindows()"
   ],
   "id": "52269b9ae99c3a76",
   "outputs": [],
   "execution_count": null
  }
 ],
 "metadata": {
  "kernelspec": {
   "display_name": "Python 3",
   "language": "python",
   "name": "python3"
  },
  "language_info": {
   "codemirror_mode": {
    "name": "ipython",
    "version": 2
   },
   "file_extension": ".py",
   "mimetype": "text/x-python",
   "name": "python",
   "nbconvert_exporter": "python",
   "pygments_lexer": "ipython2",
   "version": "2.7.6"
  }
 },
 "nbformat": 4,
 "nbformat_minor": 5
}
