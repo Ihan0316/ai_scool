{
 "cells": [
  {
   "cell_type": "code",
   "id": "initial_id",
   "metadata": {
    "collapsed": true
   },
   "source": [
    "import sys\n",
    "import cv2\n",
    "\n",
    "print(\"Hello OpenCV\")\n",
    "\n",
    "img = cv2.imread(\"images/apple.png\", flags=cv2.IMREAD_GRAYSCALE)\n",
    "if img is None:\n",
    "    print(\"Image load failed!\")\n",
    "    sys.exit()\n",
    "\n",
    "cv2.namedWindow('image')\n",
    "cv2.imshow('image', img)\n",
    "\n",
    "cv2.imwrite('images/apple-gray.png', img)\n",
    "print('Image saved')\n",
    "\n",
    "cv2.waitKey(0)\n",
    "cv2.destroyAllWindows()"
   ],
   "outputs": [],
   "execution_count": null
  },
  {
   "metadata": {
    "ExecuteTime": {
     "end_time": "2025-07-30T05:30:57.518041Z",
     "start_time": "2025-07-30T05:30:57.413225Z"
    }
   },
   "cell_type": "code",
   "source": [
    "import cv2\n",
    "imgFile = 'images/beach.jpg'\n",
    "img = cv2.imread(imgFile)\n",
    "\n",
    "cv2.imwrite('images/beach.bmp', img)\n",
    "cv2.imwrite('images/beach.png', img)\n",
    "cv2.imwrite('images/beach2.png', img, [cv2.IMWRITE_PNG_COMPRESSION, 5 ])\n",
    "cv2.imwrite('images/beach2.jpg', img, [cv2.IMWRITE_JPEG_QUALITY, 20])\n",
    "print('Image saved')"
   ],
   "id": "1b0c81a70cc00c3b",
   "outputs": [
    {
     "name": "stdout",
     "output_type": "stream",
     "text": [
      "Image saved\n"
     ]
    }
   ],
   "execution_count": 1
  },
  {
   "metadata": {
    "ExecuteTime": {
     "end_time": "2025-07-30T05:31:53.824306Z",
     "start_time": "2025-07-30T05:31:45.651810Z"
    }
   },
   "cell_type": "code",
   "source": [
    "import sys\n",
    "import cv2\n",
    "\n",
    "print('Hello OpenCV')\n",
    "\n",
    "img = cv2.imread('images/apple.png')\n",
    "\n",
    "if img is None:\n",
    "    print('Image load failed!')\n",
    "    sys.exit()\n",
    "\n",
    "cv2.namedWindow('image', flags=cv2.WINDOW_NORMAL)\n",
    "cv2.resizeWindow('image', 200, 200)\n",
    "cv2.imshow('image', img)\n",
    "cv2.waitKey()\n",
    "\n",
    "cv2.imwrite('images/apple-resized.png', img)\n",
    "\n",
    "cv2.destroyAllWindows()"
   ],
   "id": "7875e7ead3059750",
   "outputs": [
    {
     "name": "stdout",
     "output_type": "stream",
     "text": [
      "Hello OpenCV\n"
     ]
    }
   ],
   "execution_count": null
  }
 ],
 "metadata": {
  "kernelspec": {
   "display_name": "Python 3",
   "language": "python",
   "name": "python3"
  },
  "language_info": {
   "codemirror_mode": {
    "name": "ipython",
    "version": 2
   },
   "file_extension": ".py",
   "mimetype": "text/x-python",
   "name": "python",
   "nbconvert_exporter": "python",
   "pygments_lexer": "ipython2",
   "version": "2.7.6"
  }
 },
 "nbformat": 4,
 "nbformat_minor": 5
}
