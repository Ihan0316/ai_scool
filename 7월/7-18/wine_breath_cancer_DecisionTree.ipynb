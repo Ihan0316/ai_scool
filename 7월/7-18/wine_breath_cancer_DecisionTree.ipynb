{
 "cells": [
  {
   "metadata": {
    "ExecuteTime": {
     "end_time": "2025-07-20T02:45:37.639256Z",
     "start_time": "2025-07-20T02:45:37.624674Z"
    }
   },
   "cell_type": "code",
   "source": [
    "import pandas as pd\n",
    "import numpy as np\n",
    "import matplotlib.pyplot as plt\n",
    "from sklearn.datasets import load_wine, load_breast_cancer\n",
    "from sklearn.model_selection import train_test_split\n",
    "from sklearn.tree import DecisionTreeClassifier\n",
    "from sklearn.metrics import accuracy_score, classification_report, confusion_matrix\n",
    "from sklearn.preprocessing import StandardScaler\n",
    "import seaborn as sns\n",
    "\n",
    "# Wine 데이터 로드\n",
    "wine = load_wine()\n",
    "\n",
    "# Wine 데이터를 DataFrame 으로 변환\n",
    "df_wine = pd.DataFrame(wine.data, columns=wine.feature_names)\n",
    "df_wine['target'] = wine.target\n",
    "df_wine['class'] = [wine.target_names[i] for i in wine.target]\n",
    "\n",
    "# Wine 데이터 분할\n",
    "X_wine = df_wine.drop(['target', 'class'], axis=1)\n",
    "y_wine = df_wine['target']\n",
    "\n",
    "X_train_wine, X_test_wine, y_train_wine, y_test_wine = train_test_split(X_wine, y_wine, test_size=0.3, random_state=50)\n",
    "\n",
    "# 정규화 후 DecisionTree 학습\n",
    "scaler_wine = StandardScaler()\n",
    "X_train_wine_scaled = scaler_wine.fit_transform(X_train_wine)\n",
    "X_test_wine_scaled = scaler_wine.transform(X_test_wine)\n",
    "\n",
    "dt_wine_scaled = DecisionTreeClassifier(random_state=50)\n",
    "dt_wine_scaled.fit(X_train_wine_scaled, y_train_wine)\n",
    "\n",
    "# 예측\n",
    "y_pred_wine_scaled = dt_wine_scaled.predict(X_test_wine_scaled)\n",
    "\n",
    "# 평가\n",
    "accuracy_wine_scaled = accuracy_score(y_test_wine, y_pred_wine_scaled)\n",
    "train_accuracy_wine_scaled = accuracy_score(y_train_wine, dt_wine_scaled.predict(X_train_wine_scaled))\n",
    "\n",
    "print(f\"훈련 정확도: {train_accuracy_wine_scaled:.4f}\")\n",
    "print(f\"테스트 정확도: {accuracy_wine_scaled:.4f}\")\n",
    "print(\"\\n분류 보고서:\")\n",
    "print(classification_report(y_test_wine, y_pred_wine_scaled, target_names=wine.target_names))"
   ],
   "id": "3335ad58d23ce9",
   "outputs": [
    {
     "name": "stdout",
     "output_type": "stream",
     "text": [
      "훈련 정확도: 1.0000\n",
      "테스트 정확도: 0.9444\n",
      "\n",
      "분류 보고서:\n",
      "              precision    recall  f1-score   support\n",
      "\n",
      "     class_0       0.93      0.88      0.90        16\n",
      "     class_1       0.92      0.96      0.94        23\n",
      "     class_2       1.00      1.00      1.00        15\n",
      "\n",
      "    accuracy                           0.94        54\n",
      "   macro avg       0.95      0.94      0.95        54\n",
      "weighted avg       0.94      0.94      0.94        54\n",
      "\n"
     ]
    }
   ],
   "execution_count": 4
  },
  {
   "metadata": {
    "ExecuteTime": {
     "end_time": "2025-07-20T02:48:29.354915Z",
     "start_time": "2025-07-20T02:48:29.330812Z"
    }
   },
   "cell_type": "code",
   "source": [
    "# Breast Cancer 데이터 로드\n",
    "cancer = load_breast_cancer()\n",
    "\n",
    "# Breast Cancer 데이터를 DataFrame으로 변환\n",
    "df_cancer = pd.DataFrame(cancer.data, columns=cancer.feature_names)\n",
    "df_cancer['target'] = cancer.target\n",
    "df_cancer['class'] = [cancer.target_names[i] for i in cancer.target]\n",
    "\n",
    "# Breast Cancer 데이터 분할\n",
    "X_cancer = df_cancer.drop(['target', 'class'], axis=1)\n",
    "y_cancer = df_cancer['target']\n",
    "\n",
    "X_train_cancer, X_test_cancer, y_train_cancer, y_test_cancer = train_test_split(X_cancer, y_cancer, test_size=0.3, random_state=50)\n",
    "\n",
    "# 정규화 후 DecisionTree 학습\n",
    "scaler_cancer = StandardScaler()\n",
    "X_train_cancer_scaled = scaler_cancer.fit_transform(X_train_cancer)\n",
    "X_test_cancer_scaled = scaler_cancer.transform(X_test_cancer)\n",
    "\n",
    "dt_cancer_scaled = DecisionTreeClassifier(random_state=50)\n",
    "dt_cancer_scaled.fit(X_train_cancer_scaled, y_train_cancer)\n",
    "\n",
    "# 예측\n",
    "y_pred_cancer_scaled = dt_cancer_scaled.predict(X_test_cancer_scaled)\n",
    "\n",
    "# 평가\n",
    "accuracy_cancer_scaled = accuracy_score(y_test_cancer, y_pred_cancer_scaled)\n",
    "train_accuracy_cancer_scaled = accuracy_score(y_train_cancer, dt_cancer_scaled.predict(X_train_cancer_scaled))\n",
    "\n",
    "print(f\"훈련 정확도: {train_accuracy_cancer_scaled:.4f}\")\n",
    "print(f\"테스트 정확도: {accuracy_cancer_scaled:.4f}\")\n",
    "print(\"\\n분류 보고서:\")\n",
    "print(classification_report(y_test_cancer, y_pred_cancer_scaled, target_names=cancer.target_names))"
   ],
   "id": "15e043634ad878e5",
   "outputs": [
    {
     "name": "stdout",
     "output_type": "stream",
     "text": [
      "훈련 정확도: 1.0000\n",
      "테스트 정확도: 0.8947\n",
      "\n",
      "분류 보고서:\n",
      "              precision    recall  f1-score   support\n",
      "\n",
      "   malignant       0.82      0.90      0.85        59\n",
      "      benign       0.94      0.89      0.92       112\n",
      "\n",
      "    accuracy                           0.89       171\n",
      "   macro avg       0.88      0.90      0.89       171\n",
      "weighted avg       0.90      0.89      0.90       171\n",
      "\n"
     ]
    }
   ],
   "execution_count": 6
  }
 ],
 "metadata": {},
 "nbformat": 4,
 "nbformat_minor": 5
}
