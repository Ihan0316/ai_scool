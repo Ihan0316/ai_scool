{
 "cells": [
  {
   "cell_type": "markdown",
   "metadata": {
    "id": "ItXfxkxvosLH"
   },
   "source": [
    "# 영화 리뷰를 사용한 텍스트 분류"
   ]
  },
  {
   "cell_type": "markdown",
   "metadata": {
    "id": "Eg62Pmz3o83v"
   },
   "source": [
    "이 튜토리얼은 디스크에 저장된 일반 텍스트 파일에서 시작하는 텍스트 분류를 보여줍니다. IMDB 데이터세트에 대한 감정 분석을 수행하도록 이진 분류기를 훈련합니다. 노트북의 마지막에는 스택 오버플로에서 프로그래밍 질문에 대한 태그를 예측하도록 다중 클래스 분류기를 훈련하는 연습을 시도해볼 수 있습니다.\n"
   ]
  },
  {
   "cell_type": "markdown",
   "metadata": {},
   "source": [
    "Test\n",
    " - tf 2.19, keras 3.18\n"
   ]
  },
  {
   "cell_type": "code",
   "metadata": {
    "execution": {
     "iopub.execute_input": "2022-12-14T20:19:13.215259Z",
     "iopub.status.busy": "2022-12-14T20:19:13.214737Z",
     "iopub.status.idle": "2022-12-14T20:19:15.717042Z",
     "shell.execute_reply": "2022-12-14T20:19:15.716324Z"
    },
    "id": "8RZOuS9LWQvv",
    "ExecuteTime": {
     "end_time": "2025-07-25T01:34:03.841873Z",
     "start_time": "2025-07-25T01:34:01.242368Z"
    }
   },
   "source": [
    "import matplotlib.pyplot as plt\n",
    "import os\n",
    "import re\n",
    "import shutil\n",
    "import string\n",
    "\n",
    "import tensorflow as tf\n",
    "import keras\n",
    "import multiprocessing\n",
    "\n",
    "from keras.src.export import TFSMLayer\n",
    "from keras.src.metrics.accuracy_metrics import accuracy\n",
    "from sympy import vectorize\n",
    "from tensorflow.python.keras.models import load_model\n",
    "\n",
    "os.environ[\"CUDA_VISIBLE_DEVICES\"] = \"-1\"\n",
    "num_cores = multiprocessing.cpu_count()\n",
    "print(num_cores)\n",
    "tf.config.threading.set_intra_op_parallelism_threads(num_cores)\n",
    "tf.config.threading.set_inter_op_parallelism_threads(num_cores)"
   ],
   "outputs": [
    {
     "name": "stdout",
     "output_type": "stream",
     "text": [
      "14\n"
     ]
    }
   ],
   "execution_count": 1
  },
  {
   "cell_type": "code",
   "metadata": {
    "execution": {
     "iopub.execute_input": "2022-12-14T20:19:15.721483Z",
     "iopub.status.busy": "2022-12-14T20:19:15.720787Z",
     "iopub.status.idle": "2022-12-14T20:19:15.724858Z",
     "shell.execute_reply": "2022-12-14T20:19:15.724266Z"
    },
    "id": "6-tTFS04dChr",
    "ExecuteTime": {
     "end_time": "2025-07-25T01:34:03.895673Z",
     "start_time": "2025-07-25T01:34:03.894165Z"
    }
   },
   "source": [
    "print(tf.__version__)"
   ],
   "outputs": [
    {
     "name": "stdout",
     "output_type": "stream",
     "text": [
      "2.19.0\n"
     ]
    }
   ],
   "execution_count": 2
  },
  {
   "cell_type": "markdown",
   "metadata": {
    "id": "NBTI1bi8qdFV"
   },
   "source": [
    "## 감정 분석 (긍정-부정 분류)\n",
    "\n",
    "이 노트북은 리뷰 텍스트를 사용하여 영화 리뷰를 *긍정적* 또는 *부정적*으로 분류합니다. 중요하고 널리 적용 가능한 머신러닝 문제인 *이진* 분류의 예입니다.\n",
    "\n",
    "[IMDB 데이터세트](https://ai.stanford.edu/~amaas/data/sentiment/)에는 [인터넷 영화 데이터베이스](https://www.imdb.com/)에서 가져온 50,000개의 영화 리뷰 텍스트가 포함되어 있습니다. 훈련용 리뷰 25,000개와 테스트용 리뷰 25,000개로 나뉩니다. 훈련 및 테스트 세트는 *균형을 이룹니다*. 즉, 동일한 수의 긍정적인 리뷰와 부정적인 리뷰가 포함되어 있습니다.\n"
   ]
  },
  {
   "cell_type": "markdown",
   "metadata": {
    "id": "iAsKG535pHep"
   },
   "source": [
    "### 데이터세트 다운로드 및 탐색하기\n",
    "\n",
    "데이터 세트를 다운로드하여 추출한 다음 디렉터리 구조를 살펴보겠습니다."
   ]
  },
  {
   "cell_type": "code",
   "metadata": {
    "execution": {
     "iopub.execute_input": "2022-12-14T20:19:15.728406Z",
     "iopub.status.busy": "2022-12-14T20:19:15.727925Z",
     "iopub.status.idle": "2022-12-14T20:19:31.440444Z",
     "shell.execute_reply": "2022-12-14T20:19:31.439568Z"
    },
    "id": "k7ZYnuajVlFN",
    "ExecuteTime": {
     "end_time": "2025-07-25T01:34:20.501077Z",
     "start_time": "2025-07-25T01:34:03.902742Z"
    }
   },
   "source": [
    "url = \"https://ai.stanford.edu/~amaas/data/sentiment/aclImdb_v1.tar.gz\"\n",
    "dataset = tf.keras.utils.get_file(\"aclImdb_v1\", url,\n",
    "                                    untar=True, cache_dir='.',\n",
    "                                    cache_subdir='')"
   ],
   "outputs": [],
   "execution_count": 3
  },
  {
   "cell_type": "code",
   "metadata": {
    "ExecuteTime": {
     "end_time": "2025-07-25T01:34:20.512182Z",
     "start_time": "2025-07-25T01:34:20.508318Z"
    }
   },
   "source": "dataset, os.path.dirname(dataset)",
   "outputs": [
    {
     "data": {
      "text/plain": [
       "('./aclImdb_v1', '.')"
      ]
     },
     "execution_count": 4,
     "metadata": {},
     "output_type": "execute_result"
    }
   ],
   "execution_count": 4
  },
  {
   "cell_type": "code",
   "metadata": {
    "ExecuteTime": {
     "end_time": "2025-07-25T01:34:20.528517Z",
     "start_time": "2025-07-25T01:34:20.525228Z"
    }
   },
   "source": [
    "dataset_dir = os.path.join(os.path.dirname(dataset), 'aclImdb_v1/aclImdb')"
   ],
   "outputs": [],
   "execution_count": 5
  },
  {
   "cell_type": "code",
   "metadata": {
    "execution": {
     "iopub.execute_input": "2022-12-14T20:19:31.445175Z",
     "iopub.status.busy": "2022-12-14T20:19:31.444568Z",
     "iopub.status.idle": "2022-12-14T20:19:31.452104Z",
     "shell.execute_reply": "2022-12-14T20:19:31.451457Z"
    },
    "id": "355CfOvsV1pl",
    "ExecuteTime": {
     "end_time": "2025-07-25T01:34:20.545875Z",
     "start_time": "2025-07-25T01:34:20.541841Z"
    }
   },
   "source": "os.listdir(dataset_dir)",
   "outputs": [
    {
     "data": {
      "text/plain": [
       "['imdbEr.txt', 'test', 'imdb.vocab', 'README', 'train']"
      ]
     },
     "execution_count": 6,
     "metadata": {},
     "output_type": "execute_result"
    }
   ],
   "execution_count": 6
  },
  {
   "cell_type": "code",
   "metadata": {
    "execution": {
     "iopub.execute_input": "2022-12-14T20:19:31.455859Z",
     "iopub.status.busy": "2022-12-14T20:19:31.455285Z",
     "iopub.status.idle": "2022-12-14T20:19:31.460295Z",
     "shell.execute_reply": "2022-12-14T20:19:31.459670Z"
    },
    "id": "7ASND15oXpF1",
    "ExecuteTime": {
     "end_time": "2025-07-25T01:34:20.568223Z",
     "start_time": "2025-07-25T01:34:20.563786Z"
    }
   },
   "source": [
    "train_dir = os.path.join(dataset_dir, 'train')\n",
    "os.listdir(train_dir)"
   ],
   "outputs": [
    {
     "data": {
      "text/plain": [
       "['urls_unsup.txt',\n",
       " 'neg',\n",
       " 'urls_pos.txt',\n",
       " 'unsup',\n",
       " 'urls_neg.txt',\n",
       " 'pos',\n",
       " 'unsupBow.feat',\n",
       " 'labeledBow.feat']"
      ]
     },
     "execution_count": 7,
     "metadata": {},
     "output_type": "execute_result"
    }
   ],
   "execution_count": 7
  },
  {
   "cell_type": "markdown",
   "metadata": {
    "id": "ysMNMI1CWDFD"
   },
   "source": [
    "`aclImdb/train/pos` 및 `aclImdb/train/neg` 디렉토리에는 각각 단일 영화를 리뷰한 많은 텍스트 파일이 포함되어 있습니다. 그 중 하나를 살펴보겠습니다."
   ]
  },
  {
   "cell_type": "code",
   "metadata": {
    "execution": {
     "iopub.execute_input": "2022-12-14T20:19:31.464517Z",
     "iopub.status.busy": "2022-12-14T20:19:31.463860Z",
     "iopub.status.idle": "2022-12-14T20:19:31.468680Z",
     "shell.execute_reply": "2022-12-14T20:19:31.467922Z"
    },
    "id": "R7g8hFvzWLIZ",
    "ExecuteTime": {
     "end_time": "2025-07-25T01:34:20.590787Z",
     "start_time": "2025-07-25T01:34:20.586911Z"
    }
   },
   "source": [
    "# pos/1181_9.txt\n",
    "sample_file = os.path.join(train_dir, 'pos/1181_9.txt')\n",
    "with open(sample_file) as f:\n",
    "    print(f.read())"
   ],
   "outputs": [
    {
     "name": "stdout",
     "output_type": "stream",
     "text": [
      "Rachel Griffiths writes and directs this award winning short film. A heartwarming story about coping with grief and cherishing the memory of those we've loved and lost. Although, only 15 minutes long, Griffiths manages to capture so much emotion and truth onto film in the short space of time. Bud Tingwell gives a touching performance as Will, a widower struggling to cope with his wife's death. Will is confronted by the harsh reality of loneliness and helplessness as he proceeds to take care of Ruth's pet cow, Tulip. The film displays the grief and responsibility one feels for those they have loved and lost. Good cinematography, great direction, and superbly acted. It will bring tears to all those who have lost a loved one, and survived.\n"
     ]
    }
   ],
   "execution_count": 8
  },
  {
   "cell_type": "markdown",
   "metadata": {
    "id": "Mk20TEm6ZRFP"
   },
   "source": [
    "## 데이터세트 로드하기\n",
    "\n",
    "디스크에서 데이터를 로드하고 훈련에 적합한 형식으로 준비합니다. 이를 위해 다음과 같은 디렉토리 구조로 데이터를 준비하면 \n",
    "[text_dataset_from_directory](https://www.tensorflow.org/api_docs/python/tf/keras/preprocessing/text_dataset_from_directory) 유틸리티로 데이터 세트를 탑재할 수 있습니다.\n",
    "\n",
    "```\n",
    "main_directory/\n",
    "...class_a/\n",
    "......a_text_1.txt\n",
    "......a_text_2.txt\n",
    "...class_b/\n",
    "......b_text_1.txt\n",
    "......b_text_2.txt\n",
    "```"
   ]
  },
  {
   "cell_type": "markdown",
   "metadata": {
    "id": "nQauv38Lnok3"
   },
   "source": [
    "이진 분류를 위한 데이터세트를 준비하려면 디스크에 `class_a` 및 `class_b`에 해당하는 두 개의 폴더로 구성한다\n",
    " - 여기서 `aclImdb/train/pos` 및 `aclImdb/train/neg` 는 긍정적 영화 리뷰와 부정적 영화 리뷰 폴더이다. "
   ]
  },
  {
   "cell_type": "markdown",
   "metadata": {},
   "source": [
    "IMDB 데이터세트에는 추가 폴더가 포함되어 있으므로 이 유틸리티를 사용하기 전에 제거합니다."
   ]
  },
  {
   "cell_type": "code",
   "metadata": {
    "ExecuteTime": {
     "end_time": "2025-07-25T01:34:20.610772Z",
     "start_time": "2025-07-25T01:34:20.608500Z"
    }
   },
   "source": "# train dir",
   "outputs": [],
   "execution_count": 9
  },
  {
   "cell_type": "code",
   "metadata": {
    "ExecuteTime": {
     "end_time": "2025-07-25T01:34:20.625915Z",
     "start_time": "2025-07-25T01:34:20.623571Z"
    }
   },
   "source": "# test dir",
   "outputs": [],
   "execution_count": 10
  },
  {
   "cell_type": "code",
   "metadata": {
    "execution": {
     "iopub.execute_input": "2022-12-14T20:19:31.472540Z",
     "iopub.status.busy": "2022-12-14T20:19:31.472049Z",
     "iopub.status.idle": "2022-12-14T20:19:32.452195Z",
     "shell.execute_reply": "2022-12-14T20:19:32.451427Z"
    },
    "id": "VhejsClzaWfl",
    "ExecuteTime": {
     "end_time": "2025-07-25T01:34:24.076875Z",
     "start_time": "2025-07-25T01:34:20.636290Z"
    }
   },
   "source": [
    "# unsup 디렉토리 삭제\n",
    "remove_dir = os.path.join(train_dir, 'unsup')\n",
    "try:\n",
    "    shutil.rmtree(remove_dir)\n",
    "except FileNotFoundError as e:\n",
    "    print(e)"
   ],
   "outputs": [],
   "execution_count": 11
  },
  {
   "cell_type": "code",
   "metadata": {
    "ExecuteTime": {
     "end_time": "2025-07-25T01:34:24.086567Z",
     "start_time": "2025-07-25T01:34:24.083453Z"
    }
   },
   "source": "# pos 디렉토리의 파일 목록",
   "outputs": [],
   "execution_count": 12
  },
  {
   "cell_type": "markdown",
   "metadata": {
    "id": "95kkUdRoaeMw"
   },
   "source": [
    "다음으로 `text_dataset_from_directory` 유틸리티를 사용하여 레이블이 지정된 `tf.data.Dataset`를 만듭니다. [tf.data](https://www.tensorflow.org/guide/data)는 데이터 작업을 위한 강력한 도구 모음입니다.\n",
    "\n",
    "머신러닝 실험을 실행할 때 데이터세트를 train, validation 및 test의 세 부분으로 나누는 것이 가장 좋습니다.\n"
   ]
  },
  {
   "cell_type": "markdown",
   "metadata": {},
   "source": [
    "### train 세트\n",
    "\n",
    "IMDB 데이터세트는 이미 훈련과 테스트로 나누어져 있지만 검증 세트가 부족합니다. 아래 `validation_split` 인수를 사용하여 훈련 데이터를 80:20으로 분할하여 검증 세트를 생성해 보겠습니다."
   ]
  },
  {
   "cell_type": "code",
   "metadata": {
    "ExecuteTime": {
     "end_time": "2025-07-25T01:34:24.102940Z",
     "start_time": "2025-07-25T01:34:24.098870Z"
    }
   },
   "source": [
    "train_dir"
   ],
   "outputs": [
    {
     "data": {
      "text/plain": [
       "'./aclImdb_v1/aclImdb/train'"
      ]
     },
     "execution_count": 13,
     "metadata": {},
     "output_type": "execute_result"
    }
   ],
   "execution_count": 13
  },
  {
   "cell_type": "code",
   "metadata": {
    "execution": {
     "iopub.execute_input": "2022-12-14T20:19:32.456545Z",
     "iopub.status.busy": "2022-12-14T20:19:32.456262Z",
     "iopub.status.idle": "2022-12-14T20:19:37.425329Z",
     "shell.execute_reply": "2022-12-14T20:19:37.424557Z"
    },
    "id": "nOrK-MTYaw3C",
    "ExecuteTime": {
     "end_time": "2025-07-25T01:34:24.989978Z",
     "start_time": "2025-07-25T01:34:24.128338Z"
    }
   },
   "source": [
    "batch_size = 32\n",
    "seed = 50\n",
    "\n",
    "raw_train_ds = tf.keras.preprocessing.text_dataset_from_directory(\n",
    "    train_dir,\n",
    "    batch_size=batch_size,\n",
    "    validation_split=0.2,\n",
    "    subset=\"training\",\n",
    "    seed=seed,\n",
    ")"
   ],
   "outputs": [
    {
     "name": "stdout",
     "output_type": "stream",
     "text": [
      "Found 25000 files belonging to 2 classes.\n",
      "Using 20000 files for training.\n"
     ]
    }
   ],
   "execution_count": 14
  },
  {
   "cell_type": "markdown",
   "metadata": {
    "id": "5Y33oxOUpYkh"
   },
   "source": [
    "위에서 볼 수 있듯이 training 폴더에는 25,000개의 예제가 있으며 그 중 80%(또는 20,000개)를 훈련에 사용할 것입니다. \n",
    "\n",
    "`tf.data`를 처음 사용하는 경우 데이터세트를 반복하고 다음과 같이 몇 가지 예를 출력할 수도 있습니다."
   ]
  },
  {
   "cell_type": "code",
   "metadata": {
    "execution": {
     "iopub.execute_input": "2022-12-14T20:19:37.429536Z",
     "iopub.status.busy": "2022-12-14T20:19:37.428997Z",
     "iopub.status.idle": "2022-12-14T20:19:37.458934Z",
     "shell.execute_reply": "2022-12-14T20:19:37.458081Z"
    },
    "id": "51wNaPPApk1K",
    "ExecuteTime": {
     "end_time": "2025-07-25T01:34:25.021248Z",
     "start_time": "2025-07-25T01:34:25.007842Z"
    }
   },
   "source": [
    "# take 로 첫번째 요소 확인\n",
    "for text_batch, label_batch in raw_train_ds.take(1):\n",
    "    for i in range(3):\n",
    "        print(\"Review\", text_batch.numpy()[i])\n",
    "        print(\"Label\", label_batch.numpy()[i])"
   ],
   "outputs": [
    {
     "name": "stdout",
     "output_type": "stream",
     "text": [
      "Review b'Gee, what a heck of a movie!... I said I wanted to become a specialist in bad movies from all decades, so I decided to start by this one. It was a pretty adequate choice. I entered this adventure to find some lost gems and uncomprehended masterpieces, but I didn\\'t see anything of the sort in this pastel-coloured mess. I haven\\'t really watched many bad films before, but I\\'ve got the feeling this is what\\'s called \"so bad that\\'s good\", probably because it is so unintentionally damn funny! First of all, there are the inaccuracies. There are plot-related inaccuracies, physical inaccuracies, and also psychological inaccuracies. The latter in particular are as insane as Van Damme\\'s ass cheeks inside that blue spandex. Extremely tacky lines exist too and I won\\'t even start to talk about some of the hilarious action moves. There isn\\'t exactly bad acting from everyone involved in that hot mess of a movie, except in one particular case. Geoffrey Lewis looks completely pathetic as Frank, which is an utterly stupid character. And, to tell the truth, I was actually very surprised to see that Van Damme did a decent job playing the twins. He succeeded in achieving a different tone and mood in the two roles that was convincing to me. But the movie was mostly very bad and the sad part is that it was produced by a major motion picture studio... which is now bankrupt.'\n",
      "Label 0\n",
      "Review b'This period melodrama is one of Griffith\\'s earliest claustrophobic films. Characters trapped within a room are prevalent throughout his work and, as time went by, he would become increasingly adept at portraying their helplessness and involving the audience in their terror. In the bluntly titled Sealed Room there is one major difference to the normal plot line, in that there truly is no escape.<br /><br />Griffith achieves the claustrophobic effect here in two ways. First is his use of space. While the typical Biograph short might utilise a dozen or more sets, The Sealed Room features only two adjoining rooms \\xc2\\x96 the king\\'s court and the dove cote that becomes the eponymous tomb. The set design in these shorts is rarely referenced, but here it is crucial. The court is a large interior, with a backdrop hinting at greater depth and showing us a window and a staircase. Actors enter and leave from various directions, suggesting the room is not only spacious but also free and open. By contrast the dove cote\\'s back wall is very close to the camera, and the angles in it suggesting a hexagonal or octagonal shape make it seem even more confined.<br /><br />The second technique on display here is the cross-cutting. Anyone with an interest in Griffith\\'s work will probably know about his heavy use and development of cross-cutting to build excitement or tension. Many will also know that strictly speaking it wasn\\'t his invention. However what makes Griffith\\'s cross-cuts so effective is the way he paces the opposing images so they complement each other. The Sealed Room contains a good example of what I mean. The shots of the masons shifting the heavy bricks have a slow, step-by-step pace to them, with tension building as the wall gets higher. This movement is matched by the shots of the blissfully unaware lovers, in which Marion Leonard tears off flower petals one-by-one. As the couple realise their predicament, their rising panic is complemented by the opposing shot of the king madly thrashing his sword against the wall.<br /><br />At this point, Griffith was yet to realise that the action could be heightened further by introducing a third strand to the cross-cut. The dramatic \"ride-to-the-rescue\", here absent, was later to become a standard climax to Griffith\\'s pictures.'\n",
      "Label 1\n",
      "Review b\"Sandwiched in between San Francisco and Captains Courageous two of Spencer Tracy's greatest parts is this very curious film about war and the effects it has on some people. They Gave Him A Gun stars Spencer Tracy and Franchot Tone in the only film they ever made together and Gladys George as the woman who loves them both.<br /><br />Tracy and Tone are a couple of World War I draftees, Tone is a weak character who almost goes over the hill in boot camp, but Tracy stops him. Tracy is still playing the lovable blowhard, younger Wallace Beery type that MGM envisioned for him when they signed him away from Fox. <br /><br />Over at the front Tone gets an opportunity and takes it when during a fight he manages to get to a church tower that peers down on a German machine gun nest. He's learned to shoot by now and he does a Sergeant York. But Alvin C. York was never changed by the war the way Tone has.<br /><br />Wounded in the fight Tone convalesces at a hospital with Gladys George looking out for him. Tracy goes AWOL himself to visit his pal and he and George get something going. Later on when Tracy is reported missing in action, Tone and George marry. Tracy's brokenhearted when he comes back and learns of the marriage, but takes sit in stride. <br /><br />The rest of the film is dealing with Tone applying the the wartime skills he's learned to the gangster trade. He's a hit-man now and George doesn't really know what he does for a living. I think you can figure the rest out.<br /><br />The part of the film that gave me some trouble is that I can't believe Gladys George couldn't figure it out. She's a street smart girl, her part is very much like the one she played in The Roaring Twenties opposite James Cagney.<br /><br />Speaking of The Roaring Twenties, Humphrey Bogart's character development there is similar to Tone's although he was not the central character of the movie. In fact there are elements of They Gave Him A Gun that are to be found in Taxi Driver and in Clint Eastwood's classic, The Unforgiven. <br /><br />The World War I battle sequences are very well staged by director Woody Van Dyke. For some reason Leonard Maltin panned this film, I think it's a lot better than he gave it credit.\"\n",
      "Label 1\n"
     ]
    }
   ],
   "execution_count": 15
  },
  {
   "cell_type": "markdown",
   "metadata": {
    "id": "JWq1SUIrp1a-"
   },
   "source": [
    "리뷰에는 `<br/>`와 같은 간헐적 HTML 태그와 구두점을 포함한 원시 텍스트가 포함되어 있다\n",
    "\n",
    "레이블은 0 또는 1입니다. 이들 중 어느 것이 긍정적이고 부정적인 영화 리뷰에 해당하는지 확인하려면 데이터세트에서 `class_names` 속성을 확인할 수 있습니다.\n"
   ]
  },
  {
   "cell_type": "code",
   "metadata": {
    "execution": {
     "iopub.execute_input": "2022-12-14T20:19:37.462876Z",
     "iopub.status.busy": "2022-12-14T20:19:37.462169Z",
     "iopub.status.idle": "2022-12-14T20:19:37.466281Z",
     "shell.execute_reply": "2022-12-14T20:19:37.465646Z"
    },
    "id": "MlICTG8spyO2",
    "ExecuteTime": {
     "end_time": "2025-07-25T01:34:25.042745Z",
     "start_time": "2025-07-25T01:34:25.039458Z"
    }
   },
   "source": [
    "# 레이블\n",
    "print(\"0 :\", raw_train_ds.class_names[0])\n",
    "print(\"1 :\", raw_train_ds.class_names[1])"
   ],
   "outputs": [
    {
     "name": "stdout",
     "output_type": "stream",
     "text": [
      "0 : neg\n",
      "1 : pos\n"
     ]
    }
   ],
   "execution_count": 16
  },
  {
   "cell_type": "markdown",
   "metadata": {
    "id": "pbdO39vYqdJr"
   },
   "source": [
    "### 검증 및 테스트 데이터세트\n",
    "\n",
    "\n",
    " 위해 훈련 세트의 나머지 5,000개 리뷰를 사용합니다."
   ]
  },
  {
   "cell_type": "markdown",
   "metadata": {
    "id": "SzxazN8Hq1pF"
   },
   "source": [
    "참고: `validation_split` 및 `subset` 인수를 사용할 때 검증 및 훈련 분할이 겹치지 않도록 임의 시드를 지정하거나 `shuffle=False`를 사용한다"
   ]
  },
  {
   "cell_type": "code",
   "metadata": {
    "execution": {
     "iopub.execute_input": "2022-12-14T20:19:37.469768Z",
     "iopub.status.busy": "2022-12-14T20:19:37.469490Z",
     "iopub.status.idle": "2022-12-14T20:19:38.781205Z",
     "shell.execute_reply": "2022-12-14T20:19:38.780484Z"
    },
    "id": "JsMwwhOoqjKF",
    "ExecuteTime": {
     "end_time": "2025-07-25T01:34:25.912925Z",
     "start_time": "2025-07-25T01:34:25.076894Z"
    }
   },
   "source": [
    "# validation\n",
    "raw_val_ds = keras.utils.text_dataset_from_directory(\n",
    "    train_dir,\n",
    "    batch_size=batch_size,\n",
    "    validation_split=0.2,\n",
    "    subset=\"validation\",\n",
    "    seed=seed\n",
    ")"
   ],
   "outputs": [
    {
     "name": "stdout",
     "output_type": "stream",
     "text": [
      "Found 25000 files belonging to 2 classes.\n",
      "Using 5000 files for validation.\n"
     ]
    }
   ],
   "execution_count": 17
  },
  {
   "metadata": {
    "ExecuteTime": {
     "end_time": "2025-07-25T01:34:25.923921Z",
     "start_time": "2025-07-25T01:34:25.921779Z"
    }
   },
   "cell_type": "code",
   "source": [
    "test_dir = os.path.join(dataset_dir, 'test')\n",
    "test_dir"
   ],
   "outputs": [
    {
     "data": {
      "text/plain": [
       "'./aclImdb_v1/aclImdb/test'"
      ]
     },
     "execution_count": 18,
     "metadata": {},
     "output_type": "execute_result"
    }
   ],
   "execution_count": 18
  },
  {
   "cell_type": "code",
   "metadata": {
    "execution": {
     "iopub.execute_input": "2022-12-14T20:19:38.784689Z",
     "iopub.status.busy": "2022-12-14T20:19:38.784102Z",
     "iopub.status.idle": "2022-12-14T20:19:40.088837Z",
     "shell.execute_reply": "2022-12-14T20:19:40.088068Z"
    },
    "id": "rdSr0Nt3q_ns",
    "ExecuteTime": {
     "end_time": "2025-07-25T01:34:26.717434Z",
     "start_time": "2025-07-25T01:34:25.935304Z"
    }
   },
   "source": [
    "# test 세트\n",
    "raw_test_ds = tf.keras.preprocessing.text_dataset_from_directory(\n",
    "    test_dir,\n",
    "    batch_size=batch_size\n",
    ")"
   ],
   "outputs": [
    {
     "name": "stdout",
     "output_type": "stream",
     "text": [
      "Found 25000 files belonging to 2 classes.\n"
     ]
    }
   ],
   "execution_count": 19
  },
  {
   "cell_type": "markdown",
   "metadata": {
    "id": "qJmTiO0IYAjm"
   },
   "source": [
    "## 훈련을 위한 데이터세트 준비하기\n"
   ]
  },
  {
   "cell_type": "markdown",
   "metadata": {},
   "source": [
    "`tf.keras.layers.TextVectorization` 레이어를 사용하여 데이터를 표준화, 토큰화 및 벡터화합니다.\n",
    "\n",
    " - 표준화는 일반적으로 구두점이나 HTML 요소를 제거하여 데이터세트를 단순화하기 위해 텍스트를 전처리하는 것을 말합니다. \n",
    " - 토큰화는 문자열을 여러 토큰으로 분할하는 것을 말합니다(예: 화이트스페이스에서 분할하여 문장을 개별 단어로 분할). \n",
    " - 벡터화는 토큰을 숫자로 변환하여 신경망에 공급될 수 있도록 하는 것을 말합니다. \n"
   ]
  },
  {
   "cell_type": "markdown",
   "metadata": {},
   "source": [
    "위에서 볼 수 있듯이 리뷰에는 `<br />`와 같은 다양한 HTML 태그가 포함되어 있습니다. 이러한 태그는 `TextVectorization` 레이어의 기본 표준화 도구로 제거되지 않습니다(텍스트를 소문자로 변환하고 기본적으로 구두점을 제거하지만 HTML은 제거하지 않음). \n",
    "\n",
    "HTML을 제거하기 위해 사용자 정의 표준화 함수를 작성합니다."
   ]
  },
  {
   "cell_type": "code",
   "metadata": {
    "execution": {
     "iopub.execute_input": "2022-12-14T20:19:40.093078Z",
     "iopub.status.busy": "2022-12-14T20:19:40.092490Z",
     "iopub.status.idle": "2022-12-14T20:19:40.096731Z",
     "shell.execute_reply": "2022-12-14T20:19:40.096090Z"
    },
    "id": "SDRI_s_tX1Hk",
    "ExecuteTime": {
     "end_time": "2025-07-25T01:34:26.727479Z",
     "start_time": "2025-07-25T01:34:26.724750Z"
    }
   },
   "source": [
    "def custom_standardization(input_data):\n",
    "    lowercase = tf.strings.lower(input_data)\n",
    "    stripped_html = tf.strings.regex_replace(lowercase, '<br />', ' ')\n",
    "    return tf.strings.regex_replace(stripped_html,\n",
    "                                    '[%s]' % re.escape(string.punctuation),\n",
    "                                    '')"
   ],
   "outputs": [],
   "execution_count": 20
  },
  {
   "cell_type": "markdown",
   "metadata": {
    "id": "d2d3Aw8dsUux"
   },
   "source": [
    "다음으로 `TextVectorization` 레이어를 만듭니다. 이 레이어를 사용하여 데이터를 표준화, 토큰화 및 벡터화합니다. \n",
    "\n",
    " - 각 토큰에 대해 고유한 정수 인덱스를 생성하도록 `output_mode`를 `int`로 설정합니다.\n",
    " - 기본 분할 함수와 위에서 정의한 사용자 지정 표준화 함수를 사용하고 있습니다.\n",
    " - 레이어가 텍스트 시퀀스를 정확히 `sequence_length` 값으로 채우거나 자르도록 합니다."
   ]
  },
  {
   "cell_type": "code",
   "metadata": {
    "execution": {
     "iopub.execute_input": "2022-12-14T20:19:40.100300Z",
     "iopub.status.busy": "2022-12-14T20:19:40.099683Z",
     "iopub.status.idle": "2022-12-14T20:19:40.114008Z",
     "shell.execute_reply": "2022-12-14T20:19:40.113318Z"
    },
    "id": "-c76RvSzsMnX",
    "ExecuteTime": {
     "end_time": "2025-07-25T01:34:26.749262Z",
     "start_time": "2025-07-25T01:34:26.743989Z"
    }
   },
   "source": [
    "# TextVectorization 레이어에서 데이터를 표준화, 토큰화, 벡터화\n",
    "max_features = 10000\n",
    "sequence_length = 250\n",
    "\n",
    "vectorize_layer = keras.layers.TextVectorization(\n",
    "    standardize=custom_standardization,\n",
    "    max_tokens=max_features,\n",
    "    output_mode='int',\n",
    "    output_sequence_length=sequence_length\n",
    ")"
   ],
   "outputs": [],
   "execution_count": 21
  },
  {
   "cell_type": "markdown",
   "metadata": {
    "id": "vlFOpfF6scT6"
   },
   "source": [
    "다음으로, 전처리 레이어의 상태를 데이터세트에 맞추기 위해 `adapt`를 호출합니다. \n",
    " - 모델이 문자열 인덱스를 정수로 빌드합니다.\n",
    " - adapt를 호출할 때 훈련 데이터만 사용하는 것이 중요합니다(테스트세트를 사용하면 정보가 누출됨)."
   ]
  },
  {
   "cell_type": "code",
   "metadata": {
    "execution": {
     "iopub.execute_input": "2022-12-14T20:19:40.118021Z",
     "iopub.status.busy": "2022-12-14T20:19:40.117340Z",
     "iopub.status.idle": "2022-12-14T20:19:42.494818Z",
     "shell.execute_reply": "2022-12-14T20:19:42.493788Z"
    },
    "id": "GH4_2ZGJsa_X",
    "ExecuteTime": {
     "end_time": "2025-07-25T01:34:27.765885Z",
     "start_time": "2025-07-25T01:34:26.765160Z"
    }
   },
   "source": [
    "# adapt로 문자열 인덱스\n",
    "train_text = raw_train_ds.map(lambda x, y: x)\n",
    "vectorize_layer.adapt(train_text)"
   ],
   "outputs": [],
   "execution_count": 22
  },
  {
   "cell_type": "markdown",
   "metadata": {
    "id": "SHQVEFzNt-K_"
   },
   "source": [
    "이 레이어를 사용하여 일부 데이터를 전처리한 결과를 확인하는 함수를 만들어 보겠습니다."
   ]
  },
  {
   "cell_type": "code",
   "metadata": {
    "execution": {
     "iopub.execute_input": "2022-12-14T20:19:42.499800Z",
     "iopub.status.busy": "2022-12-14T20:19:42.499037Z",
     "iopub.status.idle": "2022-12-14T20:19:42.503069Z",
     "shell.execute_reply": "2022-12-14T20:19:42.502255Z"
    },
    "id": "SCIg_T50wOCU",
    "ExecuteTime": {
     "end_time": "2025-07-25T01:34:27.774767Z",
     "start_time": "2025-07-25T01:34:27.772380Z"
    }
   },
   "source": [
    "def vectorize_text(text, label):\n",
    "    text = tf.expand_dims(text, -1)\n",
    "    return vectorize_layer(text), label"
   ],
   "outputs": [],
   "execution_count": 23
  },
  {
   "cell_type": "markdown",
   "metadata": {},
   "source": [
    "td.data 에서 하나의 샘플 추출"
   ]
  },
  {
   "cell_type": "code",
   "metadata": {
    "execution": {
     "iopub.execute_input": "2022-12-14T20:19:42.506809Z",
     "iopub.status.busy": "2022-12-14T20:19:42.506059Z",
     "iopub.status.idle": "2022-12-14T20:19:42.570333Z",
     "shell.execute_reply": "2022-12-14T20:19:42.569615Z"
    },
    "id": "XULcm6B3xQIO",
    "ExecuteTime": {
     "end_time": "2025-07-25T01:34:27.799887Z",
     "start_time": "2025-07-25T01:34:27.788796Z"
    }
   },
   "source": [
    "# 하나의 배치를 추출 ( 32 reviews and labels)\n",
    "text_batch, label_batch = next(iter(raw_train_ds))\n",
    "first_review, first_label = text_batch[0], label_batch[0]\n",
    "print(\"Review\", first_review)"
   ],
   "outputs": [
    {
     "name": "stdout",
     "output_type": "stream",
     "text": [
      "Review tf.Tensor(b\"We showed this movie at the local Film Society, and the art-house crowd had the time of their cinematic lives. It's tasteless, groovy and very funny in a sixties kind of way. The Kraft Kitchen recipe sketch had them laughing like maniacs. The rest is a mixed bag, but the highs definitely beat the lows. By the way, whatever happened to Ken Shapiro??\", shape=(), dtype=string)\n"
     ]
    }
   ],
   "execution_count": 24
  },
  {
   "metadata": {
    "ExecuteTime": {
     "end_time": "2025-07-25T01:34:27.820884Z",
     "start_time": "2025-07-25T01:34:27.817123Z"
    }
   },
   "cell_type": "code",
   "source": "len(text_batch)",
   "outputs": [
    {
     "data": {
      "text/plain": [
       "32"
      ]
     },
     "execution_count": 25,
     "metadata": {},
     "output_type": "execute_result"
    }
   ],
   "execution_count": 25
  },
  {
   "cell_type": "code",
   "metadata": {
    "ExecuteTime": {
     "end_time": "2025-07-25T01:34:27.846505Z",
     "start_time": "2025-07-25T01:34:27.839860Z"
    }
   },
   "source": [
    "label = raw_train_ds.class_names[first_label]\n",
    "vectorized_review = vectorize_text(first_review, first_label)\n",
    "\n",
    "print(\"Label\", label)\n",
    "print(\"Vectorized review\", vectorized_review)"
   ],
   "outputs": [
    {
     "name": "stdout",
     "output_type": "stream",
     "text": [
      "Label pos\n",
      "Vectorized review (<tf.Tensor: shape=(1, 250), dtype=int64, numpy=\n",
      "array([[  71, 1144,   11,   17,   31,    2,  681,   19,  970,    3,    2,\n",
      "        5504, 2397,   66,    2,   59,    5,   64, 1326,  458,   29, 5593,\n",
      "           1,    3,   52,  157,    8,    4, 4713,  238,    5,   94,    2,\n",
      "           1, 4118, 9063, 5660,   66,   92, 1055,   38,    1,    2,  346,\n",
      "           7,    4, 1727, 3113,   18,    2,    1,  387, 1593,    2,    1,\n",
      "          32,    2,   94,  844,  562,    6, 3408,    1,    0,    0,    0,\n",
      "           0,    0,    0,    0,    0,    0,    0,    0,    0,    0,    0,\n",
      "           0,    0,    0,    0,    0,    0,    0,    0,    0,    0,    0,\n",
      "           0,    0,    0,    0,    0,    0,    0,    0,    0,    0,    0,\n",
      "           0,    0,    0,    0,    0,    0,    0,    0,    0,    0,    0,\n",
      "           0,    0,    0,    0,    0,    0,    0,    0,    0,    0,    0,\n",
      "           0,    0,    0,    0,    0,    0,    0,    0,    0,    0,    0,\n",
      "           0,    0,    0,    0,    0,    0,    0,    0,    0,    0,    0,\n",
      "           0,    0,    0,    0,    0,    0,    0,    0,    0,    0,    0,\n",
      "           0,    0,    0,    0,    0,    0,    0,    0,    0,    0,    0,\n",
      "           0,    0,    0,    0,    0,    0,    0,    0,    0,    0,    0,\n",
      "           0,    0,    0,    0,    0,    0,    0,    0,    0,    0,    0,\n",
      "           0,    0,    0,    0,    0,    0,    0,    0,    0,    0,    0,\n",
      "           0,    0,    0,    0,    0,    0,    0,    0,    0,    0,    0,\n",
      "           0,    0,    0,    0,    0,    0,    0,    0,    0,    0,    0,\n",
      "           0,    0,    0,    0,    0,    0,    0,    0,    0,    0,    0,\n",
      "           0,    0,    0,    0,    0,    0,    0,    0,    0,    0,    0,\n",
      "           0,    0,    0,    0,    0,    0,    0,    0]])>, <tf.Tensor: shape=(), dtype=int32, numpy=1>)\n"
     ]
    }
   ],
   "execution_count": 26
  },
  {
   "cell_type": "markdown",
   "metadata": {
    "id": "6u5EX0hxyNZT"
   },
   "source": [
    "위에서 볼 수 있듯이 각 토큰은 정수로 대체되었습니다. 레이어에서 `.get_vocabulary()`를 호출하여 각 정수에 해당하는 토큰(문자열)을 조회할 수 있습니다."
   ]
  },
  {
   "cell_type": "code",
   "metadata": {
    "execution": {
     "iopub.execute_input": "2022-12-14T20:19:42.574388Z",
     "iopub.status.busy": "2022-12-14T20:19:42.573766Z",
     "iopub.status.idle": "2022-12-14T20:19:42.621457Z",
     "shell.execute_reply": "2022-12-14T20:19:42.620773Z"
    },
    "id": "kRq9hTQzhVhW",
    "ExecuteTime": {
     "end_time": "2025-07-25T01:34:27.892902Z",
     "start_time": "2025-07-25T01:34:27.864754Z"
    }
   },
   "source": [
    "print(\"1287 ---> \", vectorize_layer.get_vocabulary()[1287])\n",
    "print(\" 313 ---> \", vectorize_layer.get_vocabulary()[313])\n",
    "print('Vocabulary size: {}'.format(len(vectorize_layer.get_vocabulary())))"
   ],
   "outputs": [
    {
     "name": "stdout",
     "output_type": "stream",
     "text": [
      "1287 --->  london\n",
      " 313 --->  special\n",
      "Vocabulary size: 10000\n"
     ]
    }
   ],
   "execution_count": 27
  },
  {
   "cell_type": "markdown",
   "metadata": {
    "id": "XD2H6utRydGv"
   },
   "source": [
    "모델을 훈련할 준비가 거의 되었습니다. 최종 전처리 단계로 이전에 생성한 TextVectorization 레이어를 훈련, 검증 및 테스트 데이터세트에 적용합니다."
   ]
  },
  {
   "cell_type": "code",
   "metadata": {
    "execution": {
     "iopub.execute_input": "2022-12-14T20:19:42.625295Z",
     "iopub.status.busy": "2022-12-14T20:19:42.624581Z",
     "iopub.status.idle": "2022-12-14T20:19:42.764864Z",
     "shell.execute_reply": "2022-12-14T20:19:42.764065Z"
    },
    "id": "2zhmpeViI1iG",
    "ExecuteTime": {
     "end_time": "2025-07-25T01:34:27.969276Z",
     "start_time": "2025-07-25T01:34:27.921176Z"
    }
   },
   "source": [
    "train_ds = raw_train_ds.map(vectorize_text)\n",
    "val_ds = raw_val_ds.map(vectorize_text)\n",
    "test_ds = raw_test_ds.map(vectorize_text)"
   ],
   "outputs": [],
   "execution_count": 28
  },
  {
   "metadata": {
    "ExecuteTime": {
     "end_time": "2025-07-25T01:34:27.979920Z",
     "start_time": "2025-07-25T01:34:27.976481Z"
    }
   },
   "cell_type": "code",
   "source": "type(train_ds)",
   "outputs": [
    {
     "data": {
      "text/plain": [
       "tensorflow.python.data.ops.map_op._MapDataset"
      ]
     },
     "execution_count": 29,
     "metadata": {},
     "output_type": "execute_result"
    }
   ],
   "execution_count": 29
  },
  {
   "cell_type": "markdown",
   "metadata": {
    "id": "YsVQyPMizjuO"
   },
   "source": [
    "### 성능을 높이도록 데이터세트 구성하기\n",
    "\n",
    "I/O 성능을 위해 데이터를 로드할 때 사용해야 하는 두 가지 중요한 메서드입니다.\n",
    "\n",
    "1. `.cache()`\n",
    "\n",
    "    데이터가 디스크에서 로드된 후 메모리에 데이터를 보관합니다. 이렇게 하면 모델을 훈련하는 동안 데이터세트로 인해 병목 현상이 발생하지 않습니다. 데이터세트가 너무 커서 메모리에 맞지 않는 경우, 이 메서드를 사용하여 성능이 뛰어난 온 디스크 캐시를 생성할 수도 있습니다. 많은 작은 파일보다 읽기가 더 효율적입니다.\n",
    "\n",
    "2. `.prefetch()`\n",
    "\n",
    "    훈련 중에 데이터 전처리 및 모델 실행과 겹칩니다.\n",
    "\n",
    "[데이터 성능 가이드](https://www.tensorflow.org/guide/data_performance)에서 두 가지 메서드와 데이터를 디스크에 캐싱하는 방법에 관해 자세히 알아볼 수 있습니다."
   ]
  },
  {
   "cell_type": "code",
   "metadata": {
    "execution": {
     "iopub.execute_input": "2022-12-14T20:19:42.769459Z",
     "iopub.status.busy": "2022-12-14T20:19:42.768773Z",
     "iopub.status.idle": "2022-12-14T20:19:42.777705Z",
     "shell.execute_reply": "2022-12-14T20:19:42.777073Z"
    },
    "id": "wMcs_H7izm5m",
    "ExecuteTime": {
     "end_time": "2025-07-25T02:30:16.290035Z",
     "start_time": "2025-07-25T02:30:16.284654Z"
    }
   },
   "source": [
    "# cache, prefetch 사용해 성능 높이기\n",
    "AUTOTUNE = tf.data.AUTOTUNE\n",
    "\n",
    "train_ds = train_ds.cache().prefetch(buffer_size=AUTOTUNE)\n",
    "val_ds = val_ds.cache().prefetch(buffer_size=AUTOTUNE)\n",
    "test_ds = test_ds.cache().prefetch(buffer_size=AUTOTUNE)"
   ],
   "outputs": [],
   "execution_count": 110
  },
  {
   "metadata": {
    "ExecuteTime": {
     "end_time": "2025-07-25T01:34:28.022219Z",
     "start_time": "2025-07-25T01:34:28.018360Z"
    }
   },
   "cell_type": "code",
   "source": "type(train_ds)",
   "outputs": [
    {
     "data": {
      "text/plain": [
       "tensorflow.python.data.ops.prefetch_op._PrefetchDataset"
      ]
     },
     "execution_count": 31,
     "metadata": {},
     "output_type": "execute_result"
    }
   ],
   "execution_count": 31
  },
  {
   "cell_type": "markdown",
   "metadata": {
    "id": "LLC02j2g-llC"
   },
   "source": [
    "## 모델 생성\n",
    "\n",
    "이제 신경망을 만들 차례입니다."
   ]
  },
  {
   "cell_type": "markdown",
   "metadata": {},
   "source": [
    "embedding dimesion 을 결정한다.\n",
    " - embedding_dim 은 **사용자가 직접 설정해야 하는 하이퍼파라미터(hyperparameter)**.\n",
    " - 32, 64, 128, 256과 같은 값을 많이 사용\n",
    " - 데이터셋이 크고 복잡할수록: 더 높은 embedding_dim\n",
    " - 데이터셋이 작거나 단순할수록: 너무 높은 embedding_dim은 오버피팅을 유발"
   ]
  },
  {
   "cell_type": "code",
   "metadata": {
    "execution": {
     "iopub.execute_input": "2022-12-14T20:19:42.781503Z",
     "iopub.status.busy": "2022-12-14T20:19:42.780980Z",
     "iopub.status.idle": "2022-12-14T20:19:42.784337Z",
     "shell.execute_reply": "2022-12-14T20:19:42.783705Z"
    },
    "id": "dkQP6in8yUBR",
    "ExecuteTime": {
     "end_time": "2025-07-25T01:34:28.039616Z",
     "start_time": "2025-07-25T01:34:28.037112Z"
    }
   },
   "source": [
    "embedding_dim = 16"
   ],
   "outputs": [],
   "execution_count": 32
  },
  {
   "cell_type": "code",
   "metadata": {
    "execution": {
     "iopub.execute_input": "2022-12-14T20:19:42.787859Z",
     "iopub.status.busy": "2022-12-14T20:19:42.787346Z",
     "iopub.status.idle": "2022-12-14T20:19:42.850162Z",
     "shell.execute_reply": "2022-12-14T20:19:42.849457Z"
    },
    "id": "xpKOoWgu-llD",
    "ExecuteTime": {
     "end_time": "2025-07-25T01:34:28.087359Z",
     "start_time": "2025-07-25T01:34:28.057492Z"
    }
   },
   "source": [
    "model = keras.Sequential([\n",
    "    keras.layers.Embedding(max_features + 1, embedding_dim),\n",
    "    keras.layers.Dropout(0.2),\n",
    "    keras.layers.GlobalAveragePooling1D(),\n",
    "    keras.layers.Dropout(0.2),\n",
    "    keras.layers.Dense(1)\n",
    "])\n",
    "\n",
    "model.summary()"
   ],
   "outputs": [
    {
     "data": {
      "text/plain": [
       "\u001B[1mModel: \"sequential\"\u001B[0m\n"
      ],
      "text/html": [
       "<pre style=\"white-space:pre;overflow-x:auto;line-height:normal;font-family:Menlo,'DejaVu Sans Mono',consolas,'Courier New',monospace\"><span style=\"font-weight: bold\">Model: \"sequential\"</span>\n",
       "</pre>\n"
      ]
     },
     "metadata": {},
     "output_type": "display_data"
    },
    {
     "data": {
      "text/plain": [
       "┏━━━━━━━━━━━━━━━━━━━━━━━━━━━━━━━━━┳━━━━━━━━━━━━━━━━━━━━━━━━┳━━━━━━━━━━━━━━━┓\n",
       "┃\u001B[1m \u001B[0m\u001B[1mLayer (type)                   \u001B[0m\u001B[1m \u001B[0m┃\u001B[1m \u001B[0m\u001B[1mOutput Shape          \u001B[0m\u001B[1m \u001B[0m┃\u001B[1m \u001B[0m\u001B[1m      Param #\u001B[0m\u001B[1m \u001B[0m┃\n",
       "┡━━━━━━━━━━━━━━━━━━━━━━━━━━━━━━━━━╇━━━━━━━━━━━━━━━━━━━━━━━━╇━━━━━━━━━━━━━━━┩\n",
       "│ embedding (\u001B[38;5;33mEmbedding\u001B[0m)           │ ?                      │   \u001B[38;5;34m0\u001B[0m (unbuilt) │\n",
       "├─────────────────────────────────┼────────────────────────┼───────────────┤\n",
       "│ dropout (\u001B[38;5;33mDropout\u001B[0m)               │ ?                      │             \u001B[38;5;34m0\u001B[0m │\n",
       "├─────────────────────────────────┼────────────────────────┼───────────────┤\n",
       "│ global_average_pooling1d        │ ?                      │             \u001B[38;5;34m0\u001B[0m │\n",
       "│ (\u001B[38;5;33mGlobalAveragePooling1D\u001B[0m)        │                        │               │\n",
       "├─────────────────────────────────┼────────────────────────┼───────────────┤\n",
       "│ dropout_1 (\u001B[38;5;33mDropout\u001B[0m)             │ ?                      │             \u001B[38;5;34m0\u001B[0m │\n",
       "├─────────────────────────────────┼────────────────────────┼───────────────┤\n",
       "│ dense (\u001B[38;5;33mDense\u001B[0m)                   │ ?                      │   \u001B[38;5;34m0\u001B[0m (unbuilt) │\n",
       "└─────────────────────────────────┴────────────────────────┴───────────────┘\n"
      ],
      "text/html": [
       "<pre style=\"white-space:pre;overflow-x:auto;line-height:normal;font-family:Menlo,'DejaVu Sans Mono',consolas,'Courier New',monospace\">┏━━━━━━━━━━━━━━━━━━━━━━━━━━━━━━━━━┳━━━━━━━━━━━━━━━━━━━━━━━━┳━━━━━━━━━━━━━━━┓\n",
       "┃<span style=\"font-weight: bold\"> Layer (type)                    </span>┃<span style=\"font-weight: bold\"> Output Shape           </span>┃<span style=\"font-weight: bold\">       Param # </span>┃\n",
       "┡━━━━━━━━━━━━━━━━━━━━━━━━━━━━━━━━━╇━━━━━━━━━━━━━━━━━━━━━━━━╇━━━━━━━━━━━━━━━┩\n",
       "│ embedding (<span style=\"color: #0087ff; text-decoration-color: #0087ff\">Embedding</span>)           │ ?                      │   <span style=\"color: #00af00; text-decoration-color: #00af00\">0</span> (unbuilt) │\n",
       "├─────────────────────────────────┼────────────────────────┼───────────────┤\n",
       "│ dropout (<span style=\"color: #0087ff; text-decoration-color: #0087ff\">Dropout</span>)               │ ?                      │             <span style=\"color: #00af00; text-decoration-color: #00af00\">0</span> │\n",
       "├─────────────────────────────────┼────────────────────────┼───────────────┤\n",
       "│ global_average_pooling1d        │ ?                      │             <span style=\"color: #00af00; text-decoration-color: #00af00\">0</span> │\n",
       "│ (<span style=\"color: #0087ff; text-decoration-color: #0087ff\">GlobalAveragePooling1D</span>)        │                        │               │\n",
       "├─────────────────────────────────┼────────────────────────┼───────────────┤\n",
       "│ dropout_1 (<span style=\"color: #0087ff; text-decoration-color: #0087ff\">Dropout</span>)             │ ?                      │             <span style=\"color: #00af00; text-decoration-color: #00af00\">0</span> │\n",
       "├─────────────────────────────────┼────────────────────────┼───────────────┤\n",
       "│ dense (<span style=\"color: #0087ff; text-decoration-color: #0087ff\">Dense</span>)                   │ ?                      │   <span style=\"color: #00af00; text-decoration-color: #00af00\">0</span> (unbuilt) │\n",
       "└─────────────────────────────────┴────────────────────────┴───────────────┘\n",
       "</pre>\n"
      ]
     },
     "metadata": {},
     "output_type": "display_data"
    },
    {
     "data": {
      "text/plain": [
       "\u001B[1m Total params: \u001B[0m\u001B[38;5;34m0\u001B[0m (0.00 B)\n"
      ],
      "text/html": [
       "<pre style=\"white-space:pre;overflow-x:auto;line-height:normal;font-family:Menlo,'DejaVu Sans Mono',consolas,'Courier New',monospace\"><span style=\"font-weight: bold\"> Total params: </span><span style=\"color: #00af00; text-decoration-color: #00af00\">0</span> (0.00 B)\n",
       "</pre>\n"
      ]
     },
     "metadata": {},
     "output_type": "display_data"
    },
    {
     "data": {
      "text/plain": [
       "\u001B[1m Trainable params: \u001B[0m\u001B[38;5;34m0\u001B[0m (0.00 B)\n"
      ],
      "text/html": [
       "<pre style=\"white-space:pre;overflow-x:auto;line-height:normal;font-family:Menlo,'DejaVu Sans Mono',consolas,'Courier New',monospace\"><span style=\"font-weight: bold\"> Trainable params: </span><span style=\"color: #00af00; text-decoration-color: #00af00\">0</span> (0.00 B)\n",
       "</pre>\n"
      ]
     },
     "metadata": {},
     "output_type": "display_data"
    },
    {
     "data": {
      "text/plain": [
       "\u001B[1m Non-trainable params: \u001B[0m\u001B[38;5;34m0\u001B[0m (0.00 B)\n"
      ],
      "text/html": [
       "<pre style=\"white-space:pre;overflow-x:auto;line-height:normal;font-family:Menlo,'DejaVu Sans Mono',consolas,'Courier New',monospace\"><span style=\"font-weight: bold\"> Non-trainable params: </span><span style=\"color: #00af00; text-decoration-color: #00af00\">0</span> (0.00 B)\n",
       "</pre>\n"
      ]
     },
     "metadata": {},
     "output_type": "display_data"
    }
   ],
   "execution_count": 33
  },
  {
   "cell_type": "markdown",
   "metadata": {
    "id": "6PbKQ6mucuKL"
   },
   "source": [
    "층을 순서대로 쌓아 분류기(classifier)를 만듭니다:\n",
    "\n",
    "1. 첫 번째 레이어는 `Embedding` 레이어입니다. \n",
    "    - 이 레이어는 정수로 인코딩된 리뷰를 입력 받고 각 단어 인덱스에 해당하는 임베딩 벡터를 찾습니다. \n",
    "    - 이들 벡터는 출력 배열에 차원을 추가합니다. 최종 차원은 `(batch, sequence, embedding)`이 됩니다. \n",
    "    - [단어 임베딩](https://www.tensorflow.org/text/guide/word_embeddings) 튜토리얼을 확인하세요.\n",
    "2. `GlobalAveragePooling1D` 층\n",
    "    - `sequence` 차원에 대해 평균을 계산하여 각 샘플에 대해 고정된 길이의 출력 벡터를 반환합니다. \n",
    "    - 이는 길이가 다른 입력을 다루는 가장 간단한 방법입니다.\n",
    "4. 출력 노드는 `sigmoid` 활성화 함수를 사용하여 0과 1 사이의 실수를 출력합니다. 이 값은 확률 또는 신뢰도를 나타냅니다."
   ]
  },
  {
   "cell_type": "markdown",
   "metadata": {
    "id": "L4EqVWg4-llM"
   },
   "source": [
    "### 손실 함수와 옵티마이저\n",
    "\n",
    "모델이 훈련하려면 손실 함수(loss function)과 옵티마이저(optimizer)가 필요합니다. 이 예제는 이진 분류 문제이고 모델이 확률을 출력하므로(출력층의 유닛이 하나이고 `sigmoid` 활성화 함수를 사용합니다), `binary_crossentropy` 손실 함수를 사용하겠습니다.\n",
    "\n",
    "이제 최적화 기와 손실 함수를 사용하도록 모델을 구성합니다."
   ]
  },
  {
   "cell_type": "code",
   "metadata": {
    "execution": {
     "iopub.execute_input": "2022-12-14T20:19:42.859610Z",
     "iopub.status.busy": "2022-12-14T20:19:42.858866Z",
     "iopub.status.idle": "2022-12-14T20:19:42.875293Z",
     "shell.execute_reply": "2022-12-14T20:19:42.874587Z"
    },
    "id": "Mr0GP-cQ-llN",
    "ExecuteTime": {
     "end_time": "2025-07-25T01:34:28.125685Z",
     "start_time": "2025-07-25T01:34:28.114946Z"
    }
   },
   "source": [
    "# 손실 함수와 옵티마이저\n",
    "model.compile(loss=keras.losses.BinaryCrossentropy(from_logits=True),\n",
    "                optimizer='adam',\n",
    "                metrics=['binary_accuracy'])"
   ],
   "outputs": [],
   "execution_count": 34
  },
  {
   "cell_type": "markdown",
   "metadata": {},
   "source": [
    "`from_logits=True`\n",
    " - 마지막 레이어 활성화 함수를 통과하기 전의 원시 출력값을 \"로짓(logits)\n",
    " - True: BinaryCrossentropy 손실 함수는 모델의 출력(예측값)이 로짓(logits)이라고 가정합니다.\n",
    " - 즉, 모델의 마지막 레이어에 sigmoid 활성화 함수를 적용하지 않았다는 뜻입니다.\n",
    " - 손실 함수 내부적으로 예측된 로짓 값에 시그모이드 함수를 적용하여 확률 값으로 변환해 실제 라벨과의 교차 엔트로피를 계산합니다."
   ]
  },
  {
   "cell_type": "markdown",
   "metadata": {
    "id": "35jv_fzP-llU"
   },
   "source": [
    "### 모델 훈련하기\n",
    "\n",
    "`dataset` 개체를 fit 메서드에 전달하여 모델을 훈련합니다."
   ]
  },
  {
   "cell_type": "code",
   "metadata": {
    "execution": {
     "iopub.execute_input": "2022-12-14T20:19:42.879122Z",
     "iopub.status.busy": "2022-12-14T20:19:42.878584Z",
     "iopub.status.idle": "2022-12-14T20:20:49.144887Z",
     "shell.execute_reply": "2022-12-14T20:20:49.144132Z"
    },
    "id": "tXSGrjWZ-llW",
    "ExecuteTime": {
     "end_time": "2025-07-25T01:34:53.859958Z",
     "start_time": "2025-07-25T01:34:28.142007Z"
    }
   },
   "source": [
    "epochs = 30\n",
    "\n",
    "history = model.fit(\n",
    "    train_ds,\n",
    "    validation_data=val_ds,\n",
    "    epochs=epochs\n",
    ")"
   ],
   "outputs": [
    {
     "name": "stdout",
     "output_type": "stream",
     "text": [
      "Epoch 1/30\n",
      "\u001B[1m625/625\u001B[0m \u001B[32m━━━━━━━━━━━━━━━━━━━━\u001B[0m\u001B[37m\u001B[0m \u001B[1m1s\u001B[0m 2ms/step - binary_accuracy: 0.4975 - loss: 0.6817 - val_binary_accuracy: 0.5708 - val_loss: 0.6144\n",
      "Epoch 2/30\n",
      "\u001B[1m625/625\u001B[0m \u001B[32m━━━━━━━━━━━━━━━━━━━━\u001B[0m\u001B[37m\u001B[0m \u001B[1m1s\u001B[0m 1ms/step - binary_accuracy: 0.6300 - loss: 0.5805 - val_binary_accuracy: 0.7500 - val_loss: 0.5009\n",
      "Epoch 3/30\n",
      "\u001B[1m625/625\u001B[0m \u001B[32m━━━━━━━━━━━━━━━━━━━━\u001B[0m\u001B[37m\u001B[0m \u001B[1m1s\u001B[0m 1ms/step - binary_accuracy: 0.7725 - loss: 0.4675 - val_binary_accuracy: 0.7894 - val_loss: 0.4280\n",
      "Epoch 4/30\n",
      "\u001B[1m625/625\u001B[0m \u001B[32m━━━━━━━━━━━━━━━━━━━━\u001B[0m\u001B[37m\u001B[0m \u001B[1m1s\u001B[0m 1ms/step - binary_accuracy: 0.8282 - loss: 0.3944 - val_binary_accuracy: 0.8114 - val_loss: 0.3866\n",
      "Epoch 5/30\n",
      "\u001B[1m625/625\u001B[0m \u001B[32m━━━━━━━━━━━━━━━━━━━━\u001B[0m\u001B[37m\u001B[0m \u001B[1m1s\u001B[0m 1ms/step - binary_accuracy: 0.8529 - loss: 0.3485 - val_binary_accuracy: 0.8266 - val_loss: 0.3608\n",
      "Epoch 6/30\n",
      "\u001B[1m625/625\u001B[0m \u001B[32m━━━━━━━━━━━━━━━━━━━━\u001B[0m\u001B[37m\u001B[0m \u001B[1m1s\u001B[0m 1ms/step - binary_accuracy: 0.8712 - loss: 0.3138 - val_binary_accuracy: 0.8362 - val_loss: 0.3439\n",
      "Epoch 7/30\n",
      "\u001B[1m625/625\u001B[0m \u001B[32m━━━━━━━━━━━━━━━━━━━━\u001B[0m\u001B[37m\u001B[0m \u001B[1m1s\u001B[0m 1ms/step - binary_accuracy: 0.8816 - loss: 0.2894 - val_binary_accuracy: 0.8404 - val_loss: 0.3328\n",
      "Epoch 8/30\n",
      "\u001B[1m625/625\u001B[0m \u001B[32m━━━━━━━━━━━━━━━━━━━━\u001B[0m\u001B[37m\u001B[0m \u001B[1m1s\u001B[0m 1ms/step - binary_accuracy: 0.8909 - loss: 0.2689 - val_binary_accuracy: 0.8444 - val_loss: 0.3251\n",
      "Epoch 9/30\n",
      "\u001B[1m625/625\u001B[0m \u001B[32m━━━━━━━━━━━━━━━━━━━━\u001B[0m\u001B[37m\u001B[0m \u001B[1m1s\u001B[0m 1ms/step - binary_accuracy: 0.8979 - loss: 0.2538 - val_binary_accuracy: 0.8476 - val_loss: 0.3205\n",
      "Epoch 10/30\n",
      "\u001B[1m625/625\u001B[0m \u001B[32m━━━━━━━━━━━━━━━━━━━━\u001B[0m\u001B[37m\u001B[0m \u001B[1m1s\u001B[0m 1ms/step - binary_accuracy: 0.9045 - loss: 0.2369 - val_binary_accuracy: 0.8496 - val_loss: 0.3185\n",
      "Epoch 11/30\n",
      "\u001B[1m625/625\u001B[0m \u001B[32m━━━━━━━━━━━━━━━━━━━━\u001B[0m\u001B[37m\u001B[0m \u001B[1m1s\u001B[0m 1ms/step - binary_accuracy: 0.9097 - loss: 0.2245 - val_binary_accuracy: 0.8558 - val_loss: 0.3137\n",
      "Epoch 12/30\n",
      "\u001B[1m625/625\u001B[0m \u001B[32m━━━━━━━━━━━━━━━━━━━━\u001B[0m\u001B[37m\u001B[0m \u001B[1m1s\u001B[0m 1ms/step - binary_accuracy: 0.9148 - loss: 0.2123 - val_binary_accuracy: 0.8534 - val_loss: 0.3147\n",
      "Epoch 13/30\n",
      "\u001B[1m625/625\u001B[0m \u001B[32m━━━━━━━━━━━━━━━━━━━━\u001B[0m\u001B[37m\u001B[0m \u001B[1m1s\u001B[0m 1ms/step - binary_accuracy: 0.9204 - loss: 0.2017 - val_binary_accuracy: 0.8570 - val_loss: 0.3131\n",
      "Epoch 14/30\n",
      "\u001B[1m625/625\u001B[0m \u001B[32m━━━━━━━━━━━━━━━━━━━━\u001B[0m\u001B[37m\u001B[0m \u001B[1m1s\u001B[0m 1ms/step - binary_accuracy: 0.9244 - loss: 0.1927 - val_binary_accuracy: 0.8568 - val_loss: 0.3151\n",
      "Epoch 15/30\n",
      "\u001B[1m625/625\u001B[0m \u001B[32m━━━━━━━━━━━━━━━━━━━━\u001B[0m\u001B[37m\u001B[0m \u001B[1m1s\u001B[0m 1ms/step - binary_accuracy: 0.9292 - loss: 0.1827 - val_binary_accuracy: 0.8574 - val_loss: 0.3159\n",
      "Epoch 16/30\n",
      "\u001B[1m625/625\u001B[0m \u001B[32m━━━━━━━━━━━━━━━━━━━━\u001B[0m\u001B[37m\u001B[0m \u001B[1m1s\u001B[0m 1ms/step - binary_accuracy: 0.9314 - loss: 0.1764 - val_binary_accuracy: 0.8576 - val_loss: 0.3190\n",
      "Epoch 17/30\n",
      "\u001B[1m625/625\u001B[0m \u001B[32m━━━━━━━━━━━━━━━━━━━━\u001B[0m\u001B[37m\u001B[0m \u001B[1m1s\u001B[0m 1ms/step - binary_accuracy: 0.9349 - loss: 0.1679 - val_binary_accuracy: 0.8590 - val_loss: 0.3199\n",
      "Epoch 18/30\n",
      "\u001B[1m625/625\u001B[0m \u001B[32m━━━━━━━━━━━━━━━━━━━━\u001B[0m\u001B[37m\u001B[0m \u001B[1m1s\u001B[0m 1ms/step - binary_accuracy: 0.9377 - loss: 0.1621 - val_binary_accuracy: 0.8584 - val_loss: 0.3247\n",
      "Epoch 19/30\n",
      "\u001B[1m625/625\u001B[0m \u001B[32m━━━━━━━━━━━━━━━━━━━━\u001B[0m\u001B[37m\u001B[0m \u001B[1m1s\u001B[0m 1ms/step - binary_accuracy: 0.9421 - loss: 0.1539 - val_binary_accuracy: 0.8548 - val_loss: 0.3310\n",
      "Epoch 20/30\n",
      "\u001B[1m625/625\u001B[0m \u001B[32m━━━━━━━━━━━━━━━━━━━━\u001B[0m\u001B[37m\u001B[0m \u001B[1m1s\u001B[0m 1ms/step - binary_accuracy: 0.9429 - loss: 0.1500 - val_binary_accuracy: 0.8630 - val_loss: 0.3289\n",
      "Epoch 21/30\n",
      "\u001B[1m625/625\u001B[0m \u001B[32m━━━━━━━━━━━━━━━━━━━━\u001B[0m\u001B[37m\u001B[0m \u001B[1m1s\u001B[0m 1ms/step - binary_accuracy: 0.9480 - loss: 0.1429 - val_binary_accuracy: 0.8588 - val_loss: 0.3353\n",
      "Epoch 22/30\n",
      "\u001B[1m625/625\u001B[0m \u001B[32m━━━━━━━━━━━━━━━━━━━━\u001B[0m\u001B[37m\u001B[0m \u001B[1m1s\u001B[0m 1ms/step - binary_accuracy: 0.9474 - loss: 0.1374 - val_binary_accuracy: 0.8632 - val_loss: 0.3355\n",
      "Epoch 23/30\n",
      "\u001B[1m625/625\u001B[0m \u001B[32m━━━━━━━━━━━━━━━━━━━━\u001B[0m\u001B[37m\u001B[0m \u001B[1m1s\u001B[0m 1ms/step - binary_accuracy: 0.9507 - loss: 0.1312 - val_binary_accuracy: 0.8648 - val_loss: 0.3391\n",
      "Epoch 24/30\n",
      "\u001B[1m625/625\u001B[0m \u001B[32m━━━━━━━━━━━━━━━━━━━━\u001B[0m\u001B[37m\u001B[0m \u001B[1m1s\u001B[0m 1ms/step - binary_accuracy: 0.9532 - loss: 0.1279 - val_binary_accuracy: 0.8594 - val_loss: 0.3486\n",
      "Epoch 25/30\n",
      "\u001B[1m625/625\u001B[0m \u001B[32m━━━━━━━━━━━━━━━━━━━━\u001B[0m\u001B[37m\u001B[0m \u001B[1m1s\u001B[0m 1ms/step - binary_accuracy: 0.9549 - loss: 0.1226 - val_binary_accuracy: 0.8618 - val_loss: 0.3506\n",
      "Epoch 26/30\n",
      "\u001B[1m625/625\u001B[0m \u001B[32m━━━━━━━━━━━━━━━━━━━━\u001B[0m\u001B[37m\u001B[0m \u001B[1m1s\u001B[0m 1ms/step - binary_accuracy: 0.9571 - loss: 0.1162 - val_binary_accuracy: 0.8598 - val_loss: 0.3569\n",
      "Epoch 27/30\n",
      "\u001B[1m625/625\u001B[0m \u001B[32m━━━━━━━━━━━━━━━━━━━━\u001B[0m\u001B[37m\u001B[0m \u001B[1m1s\u001B[0m 1ms/step - binary_accuracy: 0.9575 - loss: 0.1139 - val_binary_accuracy: 0.8600 - val_loss: 0.3622\n",
      "Epoch 28/30\n",
      "\u001B[1m625/625\u001B[0m \u001B[32m━━━━━━━━━━━━━━━━━━━━\u001B[0m\u001B[37m\u001B[0m \u001B[1m1s\u001B[0m 1ms/step - binary_accuracy: 0.9590 - loss: 0.1098 - val_binary_accuracy: 0.8626 - val_loss: 0.3637\n",
      "Epoch 29/30\n",
      "\u001B[1m625/625\u001B[0m \u001B[32m━━━━━━━━━━━━━━━━━━━━\u001B[0m\u001B[37m\u001B[0m \u001B[1m1s\u001B[0m 1ms/step - binary_accuracy: 0.9621 - loss: 0.1060 - val_binary_accuracy: 0.8594 - val_loss: 0.3729\n",
      "Epoch 30/30\n",
      "\u001B[1m625/625\u001B[0m \u001B[32m━━━━━━━━━━━━━━━━━━━━\u001B[0m\u001B[37m\u001B[0m \u001B[1m1s\u001B[0m 1ms/step - binary_accuracy: 0.9618 - loss: 0.1026 - val_binary_accuracy: 0.8600 - val_loss: 0.3783\n"
     ]
    }
   ],
   "execution_count": 35
  },
  {
   "cell_type": "markdown",
   "metadata": {
    "id": "9EEGuDVuzb5r"
   },
   "source": [
    "### 모델 평가하기\n",
    "\n",
    "모델의 성능을 확인해 보죠. 두 개의 값이 반환됩니다. 손실(오차를 나타내는 숫자이므로 낮을수록 좋습니다)과 정확도입니다."
   ]
  },
  {
   "cell_type": "code",
   "metadata": {
    "execution": {
     "iopub.execute_input": "2022-12-14T20:20:49.149216Z",
     "iopub.status.busy": "2022-12-14T20:20:49.148750Z",
     "iopub.status.idle": "2022-12-14T20:20:50.802300Z",
     "shell.execute_reply": "2022-12-14T20:20:50.801378Z"
    },
    "id": "zOMKywn4zReN",
    "ExecuteTime": {
     "end_time": "2025-07-25T01:34:54.671401Z",
     "start_time": "2025-07-25T01:34:53.968842Z"
    }
   },
   "source": [
    "loss, accuracy = model.evaluate(test_ds)\n",
    "\n",
    "print(\"Loss: \", loss)\n",
    "print(\"Accuracy: \", accuracy)"
   ],
   "outputs": [
    {
     "name": "stdout",
     "output_type": "stream",
     "text": [
      "\u001B[1m782/782\u001B[0m \u001B[32m━━━━━━━━━━━━━━━━━━━━\u001B[0m\u001B[37m\u001B[0m \u001B[1m1s\u001B[0m 873us/step - binary_accuracy: 0.8458 - loss: 0.4162\n",
      "Loss:  0.41609692573547363\n",
      "Accuracy:  0.8442800045013428\n"
     ]
    }
   ],
   "execution_count": 36
  },
  {
   "cell_type": "markdown",
   "metadata": {
    "id": "z1iEXVTR0Z2t"
   },
   "source": [
    "이 상당히 단순한 접근 방식은 약 86%의 정확도를 달성합니다."
   ]
  },
  {
   "cell_type": "markdown",
   "metadata": {
    "id": "ldbQqCw2Xc1W"
   },
   "source": [
    "### 정확도와 손실 그래프 그리기\n",
    "\n",
    "`model.fit()`은 훈련 중에 발생한 모든 것을 가진 사전을 포함하는 `History` 객체를 반환합니다."
   ]
  },
  {
   "cell_type": "markdown",
   "metadata": {
    "id": "1_CH32qJXruI"
   },
   "source": [
    "네 개의 항목이 있습니다. 훈련과 검증 단계에서 모니터링하는 지표들입니다. 훈련 손실과 검증 손실을 그래프로 그려 보고, 훈련 정확도와 검증 정확도도 그래프로 그려서 비교해 보겠습니다:"
   ]
  },
  {
   "cell_type": "code",
   "metadata": {
    "execution": {
     "iopub.execute_input": "2022-12-14T20:20:50.814544Z",
     "iopub.status.busy": "2022-12-14T20:20:50.813963Z",
     "iopub.status.idle": "2022-12-14T20:20:50.964782Z",
     "shell.execute_reply": "2022-12-14T20:20:50.964092Z"
    },
    "id": "2SEMeQ5YXs8z",
    "ExecuteTime": {
     "end_time": "2025-07-25T01:34:54.893301Z",
     "start_time": "2025-07-25T01:34:54.685390Z"
    }
   },
   "source": [
    "plt.figure(figsize=(12, 4))\n",
    "\n",
    "plt.subplot(1, 2, 1)\n",
    "plt.plot(history.history['loss'], 'b-', label='loss')\n",
    "plt.plot(history.history['val_loss'], 'r--', label='val_loss')\n",
    "plt.xlabel('Epoch')\n",
    "plt.legend()\n",
    "\n",
    "plt.subplot(1, 2, 2)\n",
    "plt.plot(history.history['binary_accuracy'], 'g-', label='accuracy')\n",
    "plt.plot(history.history['val_binary_accuracy'], 'k--', label='val_accuracy')\n",
    "plt.xlabel('Epoch')\n",
    "plt.ylim(0.7, 1)\n",
    "plt.legend()\n",
    "\n",
    "plt.show()"
   ],
   "outputs": [
    {
     "data": {
      "text/plain": [
       "<Figure size 1200x400 with 2 Axes>"
      ],
      "image/png": "[encoded data removed]"
     },
     "metadata": {},
     "output_type": "display_data"
    }
   ],
   "execution_count": 37
  },
  {
   "cell_type": "markdown",
   "metadata": {},
   "source": [
    "## \"실습\" 과적합 방지\n",
    "\n",
    "- Earlystopping 을 추가해 보자"
   ]
  },
  {
   "metadata": {
    "ExecuteTime": {
     "end_time": "2025-07-25T01:34:54.991216Z",
     "start_time": "2025-07-25T01:34:54.982520Z"
    }
   },
   "cell_type": "code",
   "source": [
    "early_model = keras.Sequential([\n",
    "    keras.layers.Embedding(max_features + 1, embedding_dim),\n",
    "    keras.layers.Dropout(0.2),\n",
    "    keras.layers.GlobalAveragePooling1D(),\n",
    "    keras.layers.Dropout(0.2),\n",
    "    keras.layers.Dense(1)\n",
    "])\n",
    "\n",
    "early_model.summary()"
   ],
   "outputs": [
    {
     "data": {
      "text/plain": [
       "\u001B[1mModel: \"sequential_1\"\u001B[0m\n"
      ],
      "text/html": [
       "<pre style=\"white-space:pre;overflow-x:auto;line-height:normal;font-family:Menlo,'DejaVu Sans Mono',consolas,'Courier New',monospace\"><span style=\"font-weight: bold\">Model: \"sequential_1\"</span>\n",
       "</pre>\n"
      ]
     },
     "metadata": {},
     "output_type": "display_data"
    },
    {
     "data": {
      "text/plain": [
       "┏━━━━━━━━━━━━━━━━━━━━━━━━━━━━━━━━━┳━━━━━━━━━━━━━━━━━━━━━━━━┳━━━━━━━━━━━━━━━┓\n",
       "┃\u001B[1m \u001B[0m\u001B[1mLayer (type)                   \u001B[0m\u001B[1m \u001B[0m┃\u001B[1m \u001B[0m\u001B[1mOutput Shape          \u001B[0m\u001B[1m \u001B[0m┃\u001B[1m \u001B[0m\u001B[1m      Param #\u001B[0m\u001B[1m \u001B[0m┃\n",
       "┡━━━━━━━━━━━━━━━━━━━━━━━━━━━━━━━━━╇━━━━━━━━━━━━━━━━━━━━━━━━╇━━━━━━━━━━━━━━━┩\n",
       "│ embedding_1 (\u001B[38;5;33mEmbedding\u001B[0m)         │ ?                      │   \u001B[38;5;34m0\u001B[0m (unbuilt) │\n",
       "├─────────────────────────────────┼────────────────────────┼───────────────┤\n",
       "│ dropout_2 (\u001B[38;5;33mDropout\u001B[0m)             │ ?                      │             \u001B[38;5;34m0\u001B[0m │\n",
       "├─────────────────────────────────┼────────────────────────┼───────────────┤\n",
       "│ global_average_pooling1d_1      │ ?                      │             \u001B[38;5;34m0\u001B[0m │\n",
       "│ (\u001B[38;5;33mGlobalAveragePooling1D\u001B[0m)        │                        │               │\n",
       "├─────────────────────────────────┼────────────────────────┼───────────────┤\n",
       "│ dropout_3 (\u001B[38;5;33mDropout\u001B[0m)             │ ?                      │             \u001B[38;5;34m0\u001B[0m │\n",
       "├─────────────────────────────────┼────────────────────────┼───────────────┤\n",
       "│ dense_1 (\u001B[38;5;33mDense\u001B[0m)                 │ ?                      │   \u001B[38;5;34m0\u001B[0m (unbuilt) │\n",
       "└─────────────────────────────────┴────────────────────────┴───────────────┘\n"
      ],
      "text/html": [
       "<pre style=\"white-space:pre;overflow-x:auto;line-height:normal;font-family:Menlo,'DejaVu Sans Mono',consolas,'Courier New',monospace\">┏━━━━━━━━━━━━━━━━━━━━━━━━━━━━━━━━━┳━━━━━━━━━━━━━━━━━━━━━━━━┳━━━━━━━━━━━━━━━┓\n",
       "┃<span style=\"font-weight: bold\"> Layer (type)                    </span>┃<span style=\"font-weight: bold\"> Output Shape           </span>┃<span style=\"font-weight: bold\">       Param # </span>┃\n",
       "┡━━━━━━━━━━━━━━━━━━━━━━━━━━━━━━━━━╇━━━━━━━━━━━━━━━━━━━━━━━━╇━━━━━━━━━━━━━━━┩\n",
       "│ embedding_1 (<span style=\"color: #0087ff; text-decoration-color: #0087ff\">Embedding</span>)         │ ?                      │   <span style=\"color: #00af00; text-decoration-color: #00af00\">0</span> (unbuilt) │\n",
       "├─────────────────────────────────┼────────────────────────┼───────────────┤\n",
       "│ dropout_2 (<span style=\"color: #0087ff; text-decoration-color: #0087ff\">Dropout</span>)             │ ?                      │             <span style=\"color: #00af00; text-decoration-color: #00af00\">0</span> │\n",
       "├─────────────────────────────────┼────────────────────────┼───────────────┤\n",
       "│ global_average_pooling1d_1      │ ?                      │             <span style=\"color: #00af00; text-decoration-color: #00af00\">0</span> │\n",
       "│ (<span style=\"color: #0087ff; text-decoration-color: #0087ff\">GlobalAveragePooling1D</span>)        │                        │               │\n",
       "├─────────────────────────────────┼────────────────────────┼───────────────┤\n",
       "│ dropout_3 (<span style=\"color: #0087ff; text-decoration-color: #0087ff\">Dropout</span>)             │ ?                      │             <span style=\"color: #00af00; text-decoration-color: #00af00\">0</span> │\n",
       "├─────────────────────────────────┼────────────────────────┼───────────────┤\n",
       "│ dense_1 (<span style=\"color: #0087ff; text-decoration-color: #0087ff\">Dense</span>)                 │ ?                      │   <span style=\"color: #00af00; text-decoration-color: #00af00\">0</span> (unbuilt) │\n",
       "└─────────────────────────────────┴────────────────────────┴───────────────┘\n",
       "</pre>\n"
      ]
     },
     "metadata": {},
     "output_type": "display_data"
    },
    {
     "data": {
      "text/plain": [
       "\u001B[1m Total params: \u001B[0m\u001B[38;5;34m0\u001B[0m (0.00 B)\n"
      ],
      "text/html": [
       "<pre style=\"white-space:pre;overflow-x:auto;line-height:normal;font-family:Menlo,'DejaVu Sans Mono',consolas,'Courier New',monospace\"><span style=\"font-weight: bold\"> Total params: </span><span style=\"color: #00af00; text-decoration-color: #00af00\">0</span> (0.00 B)\n",
       "</pre>\n"
      ]
     },
     "metadata": {},
     "output_type": "display_data"
    },
    {
     "data": {
      "text/plain": [
       "\u001B[1m Trainable params: \u001B[0m\u001B[38;5;34m0\u001B[0m (0.00 B)\n"
      ],
      "text/html": [
       "<pre style=\"white-space:pre;overflow-x:auto;line-height:normal;font-family:Menlo,'DejaVu Sans Mono',consolas,'Courier New',monospace\"><span style=\"font-weight: bold\"> Trainable params: </span><span style=\"color: #00af00; text-decoration-color: #00af00\">0</span> (0.00 B)\n",
       "</pre>\n"
      ]
     },
     "metadata": {},
     "output_type": "display_data"
    },
    {
     "data": {
      "text/plain": [
       "\u001B[1m Non-trainable params: \u001B[0m\u001B[38;5;34m0\u001B[0m (0.00 B)\n"
      ],
      "text/html": [
       "<pre style=\"white-space:pre;overflow-x:auto;line-height:normal;font-family:Menlo,'DejaVu Sans Mono',consolas,'Courier New',monospace\"><span style=\"font-weight: bold\"> Non-trainable params: </span><span style=\"color: #00af00; text-decoration-color: #00af00\">0</span> (0.00 B)\n",
       "</pre>\n"
      ]
     },
     "metadata": {},
     "output_type": "display_data"
    }
   ],
   "execution_count": 38
  },
  {
   "metadata": {
    "ExecuteTime": {
     "end_time": "2025-07-25T01:34:55.036267Z",
     "start_time": "2025-07-25T01:34:55.015589Z"
    }
   },
   "cell_type": "code",
   "source": [
    "# 손실 함수와 옵티마이저\n",
    "early_model.compile(loss=keras.losses.BinaryCrossentropy(from_logits=True),\n",
    "                optimizer='adam',\n",
    "                metrics=['binary_accuracy'])"
   ],
   "outputs": [],
   "execution_count": 39
  },
  {
   "metadata": {
    "ExecuteTime": {
     "end_time": "2025-07-25T01:35:14.886531Z",
     "start_time": "2025-07-25T01:34:55.049704Z"
    }
   },
   "cell_type": "code",
   "source": [
    "from tqdm.keras import TqdmCallback\n",
    "from keras.callbacks import EarlyStopping\n",
    "\n",
    "early_stop = keras.callbacks.EarlyStopping(monitor='val_loss', patience=10)\n",
    "\n",
    "epochs = 30\n",
    "\n",
    "history2 = early_model.fit(\n",
    "    train_ds,\n",
    "    validation_data=val_ds,\n",
    "    epochs=epochs,\n",
    "    verbose=0,\n",
    "    callbacks=[early_stop, TqdmCallback()]\n",
    ")"
   ],
   "outputs": [
    {
     "data": {
      "text/plain": [
       "0epoch [00:00, ?epoch/s]"
      ],
      "application/vnd.jupyter.widget-view+json": {
       "version_major": 2,
       "version_minor": 0,
       "model_id": "0bcf1b5558d34d01802056a51a0de602"
      }
     },
     "metadata": {},
     "output_type": "display_data"
    },
    {
     "data": {
      "text/plain": [
       "0batch [00:00, ?batch/s]"
      ],
      "application/vnd.jupyter.widget-view+json": {
       "version_major": 2,
       "version_minor": 0,
       "model_id": "ce9efe3ec85b406eb98c808870d79e0a"
      }
     },
     "metadata": {},
     "output_type": "display_data"
    }
   ],
   "execution_count": 40
  },
  {
   "metadata": {
    "ExecuteTime": {
     "end_time": "2025-07-25T01:35:15.178938Z",
     "start_time": "2025-07-25T01:35:14.895552Z"
    }
   },
   "cell_type": "code",
   "source": [
    "loss, accuracy = early_model.evaluate(test_ds)\n",
    "\n",
    "print(\"Loss: \", loss)\n",
    "print(\"Accuracy: \", accuracy)"
   ],
   "outputs": [
    {
     "name": "stdout",
     "output_type": "stream",
     "text": [
      "\u001B[1m782/782\u001B[0m \u001B[32m━━━━━━━━━━━━━━━━━━━━\u001B[0m\u001B[37m\u001B[0m \u001B[1m0s\u001B[0m 356us/step - binary_accuracy: 0.8466 - loss: 0.3742\n",
      "Loss:  0.37374234199523926\n",
      "Accuracy:  0.8456000089645386\n"
     ]
    }
   ],
   "execution_count": 41
  },
  {
   "metadata": {
    "ExecuteTime": {
     "end_time": "2025-07-25T01:35:15.256013Z",
     "start_time": "2025-07-25T01:35:15.191344Z"
    }
   },
   "cell_type": "code",
   "source": [
    "plt.figure(figsize=(12, 4))\n",
    "\n",
    "plt.subplot(1, 2, 1)\n",
    "plt.plot(history2.history['loss'], 'b-', label='loss')\n",
    "plt.plot(history2.history['val_loss'], 'r--', label='val_loss')\n",
    "plt.xlabel('Epoch')\n",
    "plt.legend()\n",
    "\n",
    "plt.subplot(1, 2, 2)\n",
    "plt.plot(history2.history['binary_accuracy'], 'g-', label='accuracy')\n",
    "plt.plot(history2.history['val_binary_accuracy'], 'k--', label='val_accuracy')\n",
    "plt.xlabel('Epoch')\n",
    "plt.ylim(0.7, 1)\n",
    "plt.legend()\n",
    "\n",
    "plt.show()"
   ],
   "outputs": [
    {
     "data": {
      "text/plain": [
       "<Figure size 1200x400 with 2 Axes>"
      ],
      "image/png": "[encoded data removed]"
     },
     "metadata": {},
     "output_type": "display_data"
    }
   ],
   "execution_count": 42
  },
  {
   "cell_type": "markdown",
   "metadata": {
    "id": "-to23J3Vy5d3"
   },
   "source": [
    "## 모델 내보내기\n",
    "\n",
    "학습된 모델을 실제 추론(Inference) 단계에서 사용하기에 더 적합하고 독립적인 형태로 제공하기 위해서 학습한 모델이 새 데이터를 처리해 추론할 할 수 있도록 하려면  방금 훈련한 가중치를 사용하여 새 모델을 만들 수 있습니다.\n",
    " - vectorize_layer\n",
    "    + 모델 학습 과정에서는 이미 텍스트가 정수 시퀀스(벡터화된 형태)로 변환된 상태\n",
    "    + 그러므로 model 자체는 원시 텍스트를 직접 처리할 수 없어서 vectorizer 를 추가해 준다"
   ]
  },
  {
   "cell_type": "code",
   "metadata": {
    "execution": {
     "iopub.execute_input": "2022-12-14T20:20:51.110444Z",
     "iopub.status.busy": "2022-12-14T20:20:51.109782Z",
     "iopub.status.idle": "2022-12-14T20:20:54.259636Z",
     "shell.execute_reply": "2022-12-14T20:20:54.258851Z"
    },
    "id": "FWXsMvryuZuq",
    "ExecuteTime": {
     "end_time": "2025-07-25T02:07:34.552265Z",
     "start_time": "2025-07-25T02:07:34.549848Z"
    }
   },
   "source": [
    "# 모델 내보내기\n",
    "export_model = keras.Sequential([\n",
    "    vectorize_layer,\n",
    "    early_model,\n",
    "    keras.layers.Activation('sigmoid')\n",
    "])"
   ],
   "outputs": [],
   "execution_count": 60
  },
  {
   "metadata": {
    "ExecuteTime": {
     "end_time": "2025-07-25T02:07:34.716768Z",
     "start_time": "2025-07-25T02:07:34.712374Z"
    }
   },
   "cell_type": "code",
   "source": [
    "export_model.compile(\n",
    "    loss=keras.losses.BinaryCrossentropy(from_logits=False),\n",
    "    optimizer='adam',\n",
    "    metrics=['accuracy']\n",
    ")"
   ],
   "outputs": [],
   "execution_count": 61
  },
  {
   "metadata": {
    "ExecuteTime": {
     "end_time": "2025-07-25T02:32:24.796439Z",
     "start_time": "2025-07-25T02:32:23.830112Z"
    }
   },
   "cell_type": "code",
   "source": [
    "loss, accuracy = export_model.evaluate(raw_test_ds)\n",
    "print(loss, accuracy)"
   ],
   "outputs": [
    {
     "name": "stdout",
     "output_type": "stream",
     "text": [
      "\u001B[1m782/782\u001B[0m \u001B[32m━━━━━━━━━━━━━━━━━━━━\u001B[0m\u001B[37m\u001B[0m \u001B[1m1s\u001B[0m 1ms/step - accuracy: 0.8340 - loss: 1.0289\n",
      "1.0488208532333374 0.832319974899292\n"
     ]
    }
   ],
   "execution_count": 125
  },
  {
   "cell_type": "markdown",
   "metadata": {
    "id": "TwQgoN88LoEF"
   },
   "source": [
    "### 새로운 데이터로 추론하기\n",
    "\n",
    "새로운 예에 대한 예측을 얻으려면 간단히 `model.predict()`를 호출하면 됩니다."
   ]
  },
  {
   "cell_type": "code",
   "metadata": {
    "execution": {
     "iopub.execute_input": "2022-12-14T20:20:54.263501Z",
     "iopub.status.busy": "2022-12-14T20:20:54.262920Z",
     "iopub.status.idle": "2022-12-14T20:20:54.450233Z",
     "shell.execute_reply": "2022-12-14T20:20:54.449500Z"
    },
    "id": "QW355HH5L49K",
    "ExecuteTime": {
     "end_time": "2025-07-25T02:08:55.888759Z",
     "start_time": "2025-07-25T02:08:55.887057Z"
    }
   },
   "source": [
    "new_reviews = tf.constant([\n",
    "    \"This movie was absolutely fantastic! I loved every moment of it.\",\n",
    "    \"It was okay, not great, not terrible.\",\n",
    "    \"Worst film ever. A complete waste of time and money.\"\n",
    "    # \"The movie was great!\",\n",
    "    # \"The movie was okay.\",\n",
    "    # \"The movie was terrible...\"\n",
    "])"
   ],
   "outputs": [],
   "execution_count": 66
  },
  {
   "cell_type": "markdown",
   "metadata": {},
   "source": "predict 를 하면 각 문장의 긍정 클래스 확률이 출력된다."
  },
  {
   "cell_type": "code",
   "metadata": {
    "ExecuteTime": {
     "end_time": "2025-07-25T02:08:57.767241Z",
     "start_time": "2025-07-25T02:08:57.742535Z"
    }
   },
   "source": "export_model.predict(new_reviews)",
   "outputs": [
    {
     "name": "stdout",
     "output_type": "stream",
     "text": [
      "\u001B[1m1/1\u001B[0m \u001B[32m━━━━━━━━━━━━━━━━━━━━\u001B[0m\u001B[37m\u001B[0m \u001B[1m0s\u001B[0m 10ms/step\n"
     ]
    },
    {
     "data": {
      "text/plain": [
       "array([[0.52129865],\n",
       "       [0.09715535],\n",
       "       [0.00638913]], dtype=float32)"
      ]
     },
     "execution_count": 67,
     "metadata": {},
     "output_type": "execute_result"
    }
   ],
   "execution_count": 67
  },
  {
   "cell_type": "markdown",
   "metadata": {},
   "source": [
    "### 모델 저장과 탑재"
   ]
  },
  {
   "cell_type": "markdown",
   "metadata": {},
   "source": [
    "여기서 저장은 SavedModel 형식(TensorFlow 2.x의 기본)으로  폴더에 모델의 구조와 가중치만 저장합니다.\n",
    " - 최신 kearas 3.x 에서는 SavedModel 형식으로 저장하려면 이제 model.export() 메서드를 사용"
   ]
  },
  {
   "cell_type": "code",
   "metadata": {
    "ExecuteTime": {
     "end_time": "2025-07-25T02:12:56.602538Z",
     "start_time": "2025-07-25T02:12:56.462714Z"
    }
   },
   "source": [
    "# 1. 모델 저장 경로 설정\n",
    "save_path = 'models/imdb_model_r'\n",
    "\n",
    "# 2. export_model 저장\n",
    "# SavedModel 형식으로 저장하는 것이 권장됩니다.\n",
    "export_model.export(save_path)"
   ],
   "outputs": [
    {
     "name": "stdout",
     "output_type": "stream",
     "text": [
      "INFO:tensorflow:Assets written to: models/imdb_model_r/assets\n"
     ]
    },
    {
     "name": "stderr",
     "output_type": "stream",
     "text": [
      "INFO:tensorflow:Assets written to: models/imdb_model_r/assets\n"
     ]
    },
    {
     "name": "stdout",
     "output_type": "stream",
     "text": [
      "Saved artifact at 'models/imdb_model_r'. The following endpoints are available:\n",
      "\n",
      "* Endpoint 'serve'\n",
      "  args_0 (POSITIONAL_ONLY): TensorSpec(shape=(None,), dtype=tf.string, name='keras_tensor_16')\n",
      "Output Type:\n",
      "  TensorSpec(shape=(None, 1), dtype=tf.float32, name=None)\n",
      "Captures:\n",
      "  15411116336: TensorSpec(shape=(), dtype=tf.resource, name=None)\n",
      "  15411117392: TensorSpec(shape=(), dtype=tf.int64, name=None)\n",
      "  15411119200: TensorSpec(shape=(), dtype=tf.string, name=None)\n",
      "  15411119376: TensorSpec(shape=(), dtype=tf.int64, name=None)\n",
      "  15423250272: TensorSpec(shape=(), dtype=tf.resource, name=None)\n",
      "  15423322768: TensorSpec(shape=(), dtype=tf.resource, name=None)\n",
      "  15423376368: TensorSpec(shape=(), dtype=tf.resource, name=None)\n"
     ]
    }
   ],
   "execution_count": 68
  },
  {
   "cell_type": "markdown",
   "metadata": {},
   "source": [
    "Keras 3.0에서 SavedModel을 탑재시 keras.layers.TFSMLayer를 사용하여 SavedModel을 로드해야 합니다."
   ]
  },
  {
   "cell_type": "code",
   "metadata": {
    "ExecuteTime": {
     "end_time": "2025-07-25T02:13:56.934609Z",
     "start_time": "2025-07-25T02:13:56.931949Z"
    }
   },
   "source": [
    "save_path"
   ],
   "outputs": [
    {
     "data": {
      "text/plain": [
       "'models/imdb_model_r'"
      ]
     },
     "execution_count": 69,
     "metadata": {},
     "output_type": "execute_result"
    }
   ],
   "execution_count": 69
  },
  {
   "cell_type": "code",
   "metadata": {
    "ExecuteTime": {
     "end_time": "2025-07-25T02:15:26.431269Z",
     "start_time": "2025-07-25T02:15:26.374940Z"
    }
   },
   "source": [
    "# # 3. 저장된 모델 다시 불러오기\n",
    "print(f\"'{save_path}' 경로에서 모델을 불러오는 중입니다...\")\n",
    "# TFSMLayer를 사용하여 SavedModel을 로드합니다.\n",
    "# call_endpoint는 SavedModel의 서빙 엔드포인트 이름이며, 기본적으로 'serving_default'입니다.\n",
    "\n",
    "load_model = keras.layers.TFSMLayer(save_path, call_endpoint='serving_default')\n",
    "print(\"모델 불러오기 완료.\")"
   ],
   "outputs": [
    {
     "name": "stdout",
     "output_type": "stream",
     "text": [
      "'models/imdb_model_r' 경로에서 모델을 불러오는 중입니다...\n",
      "모델 불러오기 완료.\n"
     ]
    }
   ],
   "execution_count": 70
  },
  {
   "cell_type": "code",
   "metadata": {
    "ExecuteTime": {
     "end_time": "2025-07-25T02:15:36.932122Z",
     "start_time": "2025-07-25T02:15:36.930104Z"
    }
   },
   "source": [
    "new_reviews = tf.constant([\n",
    "    \"This movie was absolutely fantastic! I loved every moment of it.\",\n",
    "    \"It was okay, not great, not terrible.\",\n",
    "    \"Worst film ever. A complete waste of time and money.\"\n",
    "])"
   ],
   "outputs": [],
   "execution_count": 71
  },
  {
   "cell_type": "markdown",
   "metadata": {},
   "source": [
    "TFSMLayer는 모델처럼 직접 호출하거나 predict 메서드를 사용할 수 있습니다. TFSMLayer는 입력과 출력의 배치를 자동으로 처리합니다.\n"
   ]
  },
  {
   "cell_type": "code",
   "metadata": {
    "ExecuteTime": {
     "end_time": "2025-07-25T02:18:05.172852Z",
     "start_time": "2025-07-25T02:18:05.169045Z"
    }
   },
   "source": [
    "print(\"\\n불러온 모델로 예측 수행:\")\n",
    "predictions = load_model(new_reviews)\n",
    "predictions"
   ],
   "outputs": [
    {
     "name": "stdout",
     "output_type": "stream",
     "text": [
      "\n",
      "불러온 모델로 예측 수행:\n"
     ]
    },
    {
     "data": {
      "text/plain": [
       "{'output_0': <tf.Tensor: shape=(3, 1), dtype=float32, numpy=\n",
       " array([[0.52129865],\n",
       "        [0.09715535],\n",
       "        [0.00638913]], dtype=float32)>}"
      ]
     },
     "execution_count": 83,
     "metadata": {},
     "output_type": "execute_result"
    }
   ],
   "execution_count": 83
  },
  {
   "cell_type": "code",
   "metadata": {
    "ExecuteTime": {
     "end_time": "2025-07-25T02:18:05.495404Z",
     "start_time": "2025-07-25T02:18:05.491110Z"
    }
   },
   "source": [
    "# 결과 출력\n",
    "print(\"예측 결과 (긍정 확률):\")\n",
    "for i, pred in enumerate(predictions['output_0']):\n",
    "    review = new_reviews.numpy()[i].decode('utf-8')\n",
    "    print(f\"  리뷰: \\\"{review}\\\"\")\n",
    "    print(f\"  예측 확률: {pred.numpy()[0]:.4f}\") # tf.Tensor 값을 NumPy로 변환하여 출력\n",
    "    if pred.numpy()[0] > 0.5:\n",
    "        print(\"  -> 분류: 긍정\")\n",
    "    else:\n",
    "        print(\"  -> 분류: 부정\")\n",
    "    print(\"-\" * 30)"
   ],
   "outputs": [
    {
     "name": "stdout",
     "output_type": "stream",
     "text": [
      "예측 결과 (긍정 확률):\n",
      "  리뷰: \"This movie was absolutely fantastic! I loved every moment of it.\"\n",
      "  예측 확률: 0.5213\n",
      "  -> 분류: 긍정\n",
      "------------------------------\n",
      "  리뷰: \"It was okay, not great, not terrible.\"\n",
      "  예측 확률: 0.0972\n",
      "  -> 분류: 부정\n",
      "------------------------------\n",
      "  리뷰: \"Worst film ever. A complete waste of time and money.\"\n",
      "  예측 확률: 0.0064\n",
      "  -> 분류: 부정\n",
      "------------------------------\n"
     ]
    }
   ],
   "execution_count": 84
  },
  {
   "cell_type": "markdown",
   "metadata": {},
   "source": [
    "# \"실습\" Dense 층 추가\n",
    "\n",
    "- 새 모델에 dense 레이어를 추가한다\n",
    "   + dense 의 parameter 를 32, 8 로 테스트 해본다\n",
    "   + dense 이후의 dropout 비율을 조절해 본다\n",
    "   + dense 에 활성화 함수를 사용 혹은 미사용\n",
    "   + dropout 을 사용 혹은 미사용\n",
    "- epochs 를 증가시키고 EarlyStopping 을 적용한다.\n",
    "- embedding_dim : 32, 64 조절"
   ]
  },
  {
   "cell_type": "markdown",
   "metadata": {},
   "source": [
    "> GlobalAveragePooling1D 레이어가 Embedding 레이어의 출력을 직접 받아서 시퀀스 차원을 제거하고 각 샘플당 하나의 고정된 벡터를 만듭니다. 이 고정된 벡터에 Dense 레이어를 적용하는 것이 일반적입니다."
   ]
  },
  {
   "cell_type": "code",
   "metadata": {
    "ExecuteTime": {
     "end_time": "2025-07-25T02:41:45.455556Z",
     "start_time": "2025-07-25T02:41:45.444508Z"
    }
   },
   "source": [
    "test_model = keras.Sequential([\n",
    "    keras.layers.Embedding(max_features + 1, embedding_dim),\n",
    "    keras.layers.Dropout(0.2),\n",
    "    keras.layers.GlobalAveragePooling1D(),\n",
    "    keras.layers.Dropout(0.2),\n",
    "    keras.layers.Dense(3, activation='relu'),\n",
    "    keras.layers.Dropout(0.6),\n",
    "    keras.layers.Dense(1)\n",
    "])\n",
    "\n",
    "test_model.summary()"
   ],
   "outputs": [
    {
     "data": {
      "text/plain": [
       "\u001B[1mModel: \"sequential_19\"\u001B[0m\n"
      ],
      "text/html": [
       "<pre style=\"white-space:pre;overflow-x:auto;line-height:normal;font-family:Menlo,'DejaVu Sans Mono',consolas,'Courier New',monospace\"><span style=\"font-weight: bold\">Model: \"sequential_19\"</span>\n",
       "</pre>\n"
      ]
     },
     "metadata": {},
     "output_type": "display_data"
    },
    {
     "data": {
      "text/plain": [
       "┏━━━━━━━━━━━━━━━━━━━━━━━━━━━━━━━━━┳━━━━━━━━━━━━━━━━━━━━━━━━┳━━━━━━━━━━━━━━━┓\n",
       "┃\u001B[1m \u001B[0m\u001B[1mLayer (type)                   \u001B[0m\u001B[1m \u001B[0m┃\u001B[1m \u001B[0m\u001B[1mOutput Shape          \u001B[0m\u001B[1m \u001B[0m┃\u001B[1m \u001B[0m\u001B[1m      Param #\u001B[0m\u001B[1m \u001B[0m┃\n",
       "┡━━━━━━━━━━━━━━━━━━━━━━━━━━━━━━━━━╇━━━━━━━━━━━━━━━━━━━━━━━━╇━━━━━━━━━━━━━━━┩\n",
       "│ embedding_17 (\u001B[38;5;33mEmbedding\u001B[0m)        │ ?                      │   \u001B[38;5;34m0\u001B[0m (unbuilt) │\n",
       "├─────────────────────────────────┼────────────────────────┼───────────────┤\n",
       "│ dropout_55 (\u001B[38;5;33mDropout\u001B[0m)            │ ?                      │             \u001B[38;5;34m0\u001B[0m │\n",
       "├─────────────────────────────────┼────────────────────────┼───────────────┤\n",
       "│ global_average_pooling1d_17     │ ?                      │             \u001B[38;5;34m0\u001B[0m │\n",
       "│ (\u001B[38;5;33mGlobalAveragePooling1D\u001B[0m)        │                        │               │\n",
       "├─────────────────────────────────┼────────────────────────┼───────────────┤\n",
       "│ dropout_56 (\u001B[38;5;33mDropout\u001B[0m)            │ ?                      │             \u001B[38;5;34m0\u001B[0m │\n",
       "├─────────────────────────────────┼────────────────────────┼───────────────┤\n",
       "│ dense_38 (\u001B[38;5;33mDense\u001B[0m)                │ ?                      │   \u001B[38;5;34m0\u001B[0m (unbuilt) │\n",
       "├─────────────────────────────────┼────────────────────────┼───────────────┤\n",
       "│ dropout_57 (\u001B[38;5;33mDropout\u001B[0m)            │ ?                      │             \u001B[38;5;34m0\u001B[0m │\n",
       "├─────────────────────────────────┼────────────────────────┼───────────────┤\n",
       "│ dense_39 (\u001B[38;5;33mDense\u001B[0m)                │ ?                      │   \u001B[38;5;34m0\u001B[0m (unbuilt) │\n",
       "└─────────────────────────────────┴────────────────────────┴───────────────┘\n"
      ],
      "text/html": [
       "<pre style=\"white-space:pre;overflow-x:auto;line-height:normal;font-family:Menlo,'DejaVu Sans Mono',consolas,'Courier New',monospace\">┏━━━━━━━━━━━━━━━━━━━━━━━━━━━━━━━━━┳━━━━━━━━━━━━━━━━━━━━━━━━┳━━━━━━━━━━━━━━━┓\n",
       "┃<span style=\"font-weight: bold\"> Layer (type)                    </span>┃<span style=\"font-weight: bold\"> Output Shape           </span>┃<span style=\"font-weight: bold\">       Param # </span>┃\n",
       "┡━━━━━━━━━━━━━━━━━━━━━━━━━━━━━━━━━╇━━━━━━━━━━━━━━━━━━━━━━━━╇━━━━━━━━━━━━━━━┩\n",
       "│ embedding_17 (<span style=\"color: #0087ff; text-decoration-color: #0087ff\">Embedding</span>)        │ ?                      │   <span style=\"color: #00af00; text-decoration-color: #00af00\">0</span> (unbuilt) │\n",
       "├─────────────────────────────────┼────────────────────────┼───────────────┤\n",
       "│ dropout_55 (<span style=\"color: #0087ff; text-decoration-color: #0087ff\">Dropout</span>)            │ ?                      │             <span style=\"color: #00af00; text-decoration-color: #00af00\">0</span> │\n",
       "├─────────────────────────────────┼────────────────────────┼───────────────┤\n",
       "│ global_average_pooling1d_17     │ ?                      │             <span style=\"color: #00af00; text-decoration-color: #00af00\">0</span> │\n",
       "│ (<span style=\"color: #0087ff; text-decoration-color: #0087ff\">GlobalAveragePooling1D</span>)        │                        │               │\n",
       "├─────────────────────────────────┼────────────────────────┼───────────────┤\n",
       "│ dropout_56 (<span style=\"color: #0087ff; text-decoration-color: #0087ff\">Dropout</span>)            │ ?                      │             <span style=\"color: #00af00; text-decoration-color: #00af00\">0</span> │\n",
       "├─────────────────────────────────┼────────────────────────┼───────────────┤\n",
       "│ dense_38 (<span style=\"color: #0087ff; text-decoration-color: #0087ff\">Dense</span>)                │ ?                      │   <span style=\"color: #00af00; text-decoration-color: #00af00\">0</span> (unbuilt) │\n",
       "├─────────────────────────────────┼────────────────────────┼───────────────┤\n",
       "│ dropout_57 (<span style=\"color: #0087ff; text-decoration-color: #0087ff\">Dropout</span>)            │ ?                      │             <span style=\"color: #00af00; text-decoration-color: #00af00\">0</span> │\n",
       "├─────────────────────────────────┼────────────────────────┼───────────────┤\n",
       "│ dense_39 (<span style=\"color: #0087ff; text-decoration-color: #0087ff\">Dense</span>)                │ ?                      │   <span style=\"color: #00af00; text-decoration-color: #00af00\">0</span> (unbuilt) │\n",
       "└─────────────────────────────────┴────────────────────────┴───────────────┘\n",
       "</pre>\n"
      ]
     },
     "metadata": {},
     "output_type": "display_data"
    },
    {
     "data": {
      "text/plain": [
       "\u001B[1m Total params: \u001B[0m\u001B[38;5;34m0\u001B[0m (0.00 B)\n"
      ],
      "text/html": [
       "<pre style=\"white-space:pre;overflow-x:auto;line-height:normal;font-family:Menlo,'DejaVu Sans Mono',consolas,'Courier New',monospace\"><span style=\"font-weight: bold\"> Total params: </span><span style=\"color: #00af00; text-decoration-color: #00af00\">0</span> (0.00 B)\n",
       "</pre>\n"
      ]
     },
     "metadata": {},
     "output_type": "display_data"
    },
    {
     "data": {
      "text/plain": [
       "\u001B[1m Trainable params: \u001B[0m\u001B[38;5;34m0\u001B[0m (0.00 B)\n"
      ],
      "text/html": [
       "<pre style=\"white-space:pre;overflow-x:auto;line-height:normal;font-family:Menlo,'DejaVu Sans Mono',consolas,'Courier New',monospace\"><span style=\"font-weight: bold\"> Trainable params: </span><span style=\"color: #00af00; text-decoration-color: #00af00\">0</span> (0.00 B)\n",
       "</pre>\n"
      ]
     },
     "metadata": {},
     "output_type": "display_data"
    },
    {
     "data": {
      "text/plain": [
       "\u001B[1m Non-trainable params: \u001B[0m\u001B[38;5;34m0\u001B[0m (0.00 B)\n"
      ],
      "text/html": [
       "<pre style=\"white-space:pre;overflow-x:auto;line-height:normal;font-family:Menlo,'DejaVu Sans Mono',consolas,'Courier New',monospace\"><span style=\"font-weight: bold\"> Non-trainable params: </span><span style=\"color: #00af00; text-decoration-color: #00af00\">0</span> (0.00 B)\n",
       "</pre>\n"
      ]
     },
     "metadata": {},
     "output_type": "display_data"
    }
   ],
   "execution_count": 157
  },
  {
   "cell_type": "code",
   "metadata": {
    "ExecuteTime": {
     "end_time": "2025-07-25T02:41:45.605128Z",
     "start_time": "2025-07-25T02:41:45.601629Z"
    }
   },
   "source": [
    "# 손실 함수와 옵티마이저\n",
    "test_model.compile(loss=keras.losses.BinaryCrossentropy(from_logits=True),\n",
    "                optimizer='adam',\n",
    "                metrics=['binary_accuracy'])"
   ],
   "outputs": [],
   "execution_count": 158
  },
  {
   "cell_type": "code",
   "metadata": {
    "ExecuteTime": {
     "end_time": "2025-07-25T02:42:03.010177Z",
     "start_time": "2025-07-25T02:41:45.754283Z"
    }
   },
   "source": [
    "from tqdm.keras import TqdmCallback\n",
    "from keras.callbacks import EarlyStopping\n",
    "\n",
    "early_stop = keras.callbacks.EarlyStopping(monitor='val_loss', patience=10)\n",
    "\n",
    "epochs = 50\n",
    "\n",
    "history3 = test_model.fit(\n",
    "    train_ds,\n",
    "    validation_data=val_ds,\n",
    "    epochs=epochs,\n",
    "    verbose=0,\n",
    "    callbacks=[early_stop, TqdmCallback()]\n",
    ")"
   ],
   "outputs": [
    {
     "data": {
      "text/plain": [
       "0epoch [00:00, ?epoch/s]"
      ],
      "application/vnd.jupyter.widget-view+json": {
       "version_major": 2,
       "version_minor": 0,
       "model_id": "11c49c074b7a42e183bb35500c11d54b"
      }
     },
     "metadata": {},
     "output_type": "display_data"
    },
    {
     "data": {
      "text/plain": [
       "0batch [00:00, ?batch/s]"
      ],
      "application/vnd.jupyter.widget-view+json": {
       "version_major": 2,
       "version_minor": 0,
       "model_id": "3121c69aa9de4df9930d4282777514f3"
      }
     },
     "metadata": {},
     "output_type": "display_data"
    }
   ],
   "execution_count": 159
  },
  {
   "cell_type": "code",
   "metadata": {
    "ExecuteTime": {
     "end_time": "2025-07-25T02:42:03.286193Z",
     "start_time": "2025-07-25T02:42:03.017811Z"
    }
   },
   "source": [
    "loss, accuracy = test_model.evaluate(test_ds)\n",
    "\n",
    "print(\"Loss: \", loss)\n",
    "print(\"Accuracy: \", accuracy)"
   ],
   "outputs": [
    {
     "name": "stdout",
     "output_type": "stream",
     "text": [
      "\u001B[1m782/782\u001B[0m \u001B[32m━━━━━━━━━━━━━━━━━━━━\u001B[0m\u001B[37m\u001B[0m \u001B[1m0s\u001B[0m 337us/step - binary_accuracy: 0.8455 - loss: 0.4320\n",
      "Loss:  0.43291911482810974\n",
      "Accuracy:  0.8454800248146057\n"
     ]
    }
   ],
   "execution_count": 160
  },
  {
   "cell_type": "code",
   "metadata": {
    "ExecuteTime": {
     "end_time": "2025-07-25T02:42:03.370212Z",
     "start_time": "2025-07-25T02:42:03.297682Z"
    }
   },
   "source": [
    "plt.figure(figsize=(12, 4))\n",
    "\n",
    "plt.subplot(1, 2, 1)\n",
    "plt.plot(history3.history['loss'], 'b-', label='loss')\n",
    "plt.plot(history3.history['val_loss'], 'r--', label='val_loss')\n",
    "plt.xlabel('Epoch')\n",
    "plt.legend()\n",
    "\n",
    "plt.subplot(1, 2, 2)\n",
    "plt.plot(history3.history['binary_accuracy'], 'g-', label='accuracy')\n",
    "plt.plot(history3.history['val_binary_accuracy'], 'k--', label='val_accuracy')\n",
    "plt.xlabel('Epoch')\n",
    "plt.ylim(0.7, 1)\n",
    "plt.legend()\n",
    "\n",
    "plt.show()"
   ],
   "outputs": [
    {
     "data": {
      "text/plain": [
       "<Figure size 1200x400 with 2 Axes>"
      ],
      "image/png": "[encoded data removed]"
     },
     "metadata": {},
     "output_type": "display_data"
    }
   ],
   "execution_count": 161
  },
  {
   "cell_type": "markdown",
   "metadata": {},
   "source": [
    "---"
   ]
  },
  {
   "cell_type": "markdown",
   "metadata": {
    "id": "F0T5SIwSm7uc"
   },
   "source": [
    "## 더 알아보기\n",
    "\n",
    "이 튜토리얼은 텍스트 분류를 처음부터 알아보았습니다. 일반적인 텍스트 분류 워크플로에 대해 자세히 알아보려면 Google Developers의 [텍스트 분류 가이드](https://developers.google.com/machine-learning/guides/text-classification/)를 확인하세요.\n"
   ]
  }
 ],
 "metadata": {
  "accelerator": "GPU",
  "colab": {
   "collapsed_sections": [],
   "name": "text_classification.ipynb",
   "toc_visible": true
  },
  "kernelspec": {
   "display_name": "DL_P312",
   "language": "python",
   "name": "python3"
  },
  "language_info": {
   "codemirror_mode": {
    "name": "ipython",
    "version": 3
   },
   "file_extension": ".py",
   "mimetype": "text/x-python",
   "name": "python",
   "nbconvert_exporter": "python",
   "pygments_lexer": "ipython3",
   "version": "3.12.11"
  }
 },
 "nbformat": 4,
 "nbformat_minor": 0
}
