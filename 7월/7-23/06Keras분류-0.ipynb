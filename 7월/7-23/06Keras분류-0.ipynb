{
 "cells": [
  {
   "cell_type": "markdown",
   "metadata": {
    "id": "eZnswWg5yQ6a"
   },
   "source": [
    "# 1 Keras 분류\n"
   ]
  },
  {
   "cell_type": "code",
   "metadata": {
    "id": "9Wj9HJlUyQ6d",
    "executionInfo": {
     "status": "ok",
     "timestamp": 1753249051455,
     "user_tz": -540,
     "elapsed": 1071,
     "user": {
      "displayName": "고강태 강사",
      "userId": "11816854931407731745"
     }
    },
    "ExecuteTime": {
     "end_time": "2025-07-24T10:15:32.460706Z",
     "start_time": "2025-07-24T10:15:32.459220Z"
    }
   },
   "source": [
    "import numpy as np\n",
    "import pandas as pd\n",
    "import matplotlib.pyplot as plt"
   ],
   "outputs": [],
   "execution_count": 1
  },
  {
   "cell_type": "code",
   "metadata": {
    "id": "WQIFdIZfyQ6e",
    "executionInfo": {
     "status": "ok",
     "timestamp": 1753249057894,
     "user_tz": -540,
     "elapsed": 4720,
     "user": {
      "displayName": "고강태 강사",
      "userId": "11816854931407731745"
     }
    },
    "ExecuteTime": {
     "end_time": "2025-07-24T10:15:34.172589Z",
     "start_time": "2025-07-24T10:15:32.505031Z"
    }
   },
   "source": [
    "import tensorflow as tf\n",
    "import keras\n",
    "import os\n",
    "import multiprocessing\n",
    "\n",
    "os.environ[\"CUDA_VISIBLE_DEVICES\"] = \"-1\"  # GPU 비활성화 (CPU 모드 강제)\n",
    "num_cores = multiprocessing.cpu_count()\n",
    "\n",
    "tf.config.threading.set_intra_op_parallelism_threads(num_cores)\n",
    "tf.config.threading.set_inter_op_parallelism_threads(num_cores)\n",
    "\n",
    "from sklearn.model_selection import train_test_split"
   ],
   "outputs": [],
   "execution_count": 2
  },
  {
   "cell_type": "markdown",
   "metadata": {
    "id": "DLdCchMdCaWQ"
   },
   "source": [
    "## (1)Fashin MNIST 데이터 세트\n",
    "\n",
    "10개의 범주(category)와 70,000개의 흑백 이미지로 구성된 [패션 MNIST](https://github.com/zalandoresearch/fashion-mnist) 데이터셋을 사용하겠습니다.\n",
    "\n",
    "\n",
    "패션 MNIST는 컴퓨터 비전 분야의 \"Hello, World\" 프로그램격인 고전 [MNIST](http://yann.lecun.com/exdb/mnist/) 데이터셋을 대신해서 자주 사용됩니다. MNIST 데이터셋은 손글씨 숫자(0, 1, 2 등)의 이미지로 이루어져 있습니다. 여기서 사용하려는 옷 이미지와 동일한 포맷입니다.\n",
    "\n",
    "\n",
    "패션 MNIST는 일반적인 MNIST 보다 조금 더 어려운 문제이고 다양한 예제를 만들기 위해 선택했습니다. 두 데이터셋은 비교적 작기 때문에 알고리즘의 작동 여부를 확인하기 위해 사용되곤 합니다. 코드를 테스트하고 디버깅하는 용도로 좋습니다.\n",
    "\n",
    "\n",
    "패션 MNIST 데이터셋은 10종류의 패션 아이템으로 구성되어 있다.\n",
    "\n",
    " - MNIST 데이터는 손으로 쓴 0 ~ 9 까지의 숫자로 이루어져 있다.\n",
    " - 패션 MNIST는 MNIST와 크기, 개수가 동일하지만 숫자 대신 패션 아이템으로 이루져있다.\n"
   ]
  },
  {
   "cell_type": "markdown",
   "metadata": {
    "id": "xE4YApPgyQ6f"
   },
   "source": [
    "\n",
    "이미지는 해상도(28x28 픽셀)가 낮고 다음처럼 개별 옷 품목을 나타냅니다:\n",
    "\n",
    "<div align='center'>\n",
    "  <img src=\"https://tensorflow.org/images/fashion-mnist-sprite.png\" alt=\"Fashion MNIST sprite\" width=\"400\">   \n",
    "  <div align=\"center\">     <b>그림 1.</b> <a href=\"https://github.com/zalandoresearch/fashion-mnist\">패션-MNIST 샘플</a> (Zalando, MIT License).<br>{nbsp}   </div>\n",
    "</div>\n",
    "\n"
   ]
  },
  {
   "cell_type": "markdown",
   "metadata": {
    "id": "xCapGG3QyQ6f"
   },
   "source": [
    "#### -plot 함수"
   ]
  },
  {
   "cell_type": "code",
   "metadata": {
    "id": "zFPIgJ-4yQ6f",
    "executionInfo": {
     "status": "ok",
     "timestamp": 1753249090343,
     "user_tz": -540,
     "elapsed": 40,
     "user": {
      "displayName": "고강태 강사",
      "userId": "11816854931407731745"
     }
    },
    "ExecuteTime": {
     "end_time": "2025-07-24T10:15:34.181339Z",
     "start_time": "2025-07-24T10:15:34.179873Z"
    }
   },
   "source": [
    "def plot_img(img):\n",
    "    plt.figure()\n",
    "    plt.imshow(img)\n",
    "    plt.colorbar()\n",
    "    plt.grid(False)\n",
    "    plt.show()"
   ],
   "outputs": [],
   "execution_count": 3
  },
  {
   "cell_type": "code",
   "metadata": {
    "id": "GdqITfBkyQ6g",
    "executionInfo": {
     "status": "ok",
     "timestamp": 1753249095755,
     "user_tz": -540,
     "elapsed": 11,
     "user": {
      "displayName": "고강태 강사",
      "userId": "11816854931407731745"
     }
    },
    "ExecuteTime": {
     "end_time": "2025-07-24T10:15:34.189183Z",
     "start_time": "2025-07-24T10:15:34.186629Z"
    }
   },
   "source": [
    "def plot_image(i, predictions_array, true_label, img):\n",
    "    true_label, img = true_label[i], img[i]\n",
    "    plt.grid(False)\n",
    "    plt.xticks([])\n",
    "    plt.yticks([])\n",
    "\n",
    "    plt.imshow(img, cmap=plt.cm.binary)\n",
    "\n",
    "    predicted_label = np.argmax(predictions_array)\n",
    "    if predicted_label == true_label:\n",
    "        color = 'blue'\n",
    "    else:\n",
    "        color = 'red'\n",
    "\n",
    "    plt.xlabel(\"{} {:2.0f}% ({})\".format(class_names[predicted_label],\n",
    "                                100*np.max(predictions_array),\n",
    "                                class_names[true_label]),\n",
    "                                color=color)\n",
    "\n",
    "\n",
    "def plot_value_array(i, predictions_array, true_label):\n",
    "    true_label = true_label[i]\n",
    "    plt.grid(False)\n",
    "    plt.xticks(range(10))\n",
    "    plt.yticks([])\n",
    "    thisplot = plt.bar(range(10), predictions_array, color=\"#777777\")\n",
    "    plt.ylim([0, 1])\n",
    "    predicted_label = np.argmax(predictions_array)\n",
    "\n",
    "    thisplot[predicted_label].set_color('red')\n",
    "    thisplot[true_label].set_color('blue')"
   ],
   "outputs": [],
   "execution_count": 4
  },
  {
   "cell_type": "markdown",
   "metadata": {
    "id": "EhQr5xD2yQ6g"
   },
   "source": [
    "\n",
    "여기에서 60,000개의 이미지를 사용하여 네트워크를 훈련하고 10,000개의 이미지를 사용하여 네트워크에서 이미지 분류를 학습한 정도를 평가합니다. TensorFlow에서 직접 Fashion MNIST에 액세스할 수 있습니다. TensorFlow에서 직접 [Fashion MNIST 데이터](https://www.tensorflow.org/api_docs/python/tf/keras/datasets/fashion_mnist/load_data)를 가져오고 로드합니다."
   ]
  },
  {
   "cell_type": "code",
   "metadata": {
    "colab": {
     "base_uri": "https://localhost:8080/"
    },
    "id": "bB8ts31cyQ6g",
    "executionInfo": {
     "status": "ok",
     "timestamp": 1753249116835,
     "user_tz": -540,
     "elapsed": 855,
     "user": {
      "displayName": "고강태 강사",
      "userId": "11816854931407731745"
     }
    },
    "outputId": "261a26b6-384e-4842-f0d4-f93f0c9cdf5a",
    "ExecuteTime": {
     "end_time": "2025-07-24T10:15:34.350929Z",
     "start_time": "2025-07-24T10:15:34.193872Z"
    }
   },
   "source": [
    "(train_images, train_labels), (test_images, test_labels) = \\\n",
    "    keras.datasets.fashion_mnist.load_data()"
   ],
   "outputs": [],
   "execution_count": 5
  },
  {
   "cell_type": "code",
   "metadata": {
    "colab": {
     "base_uri": "https://localhost:8080/"
    },
    "id": "-GuOqoC2yQ6g",
    "executionInfo": {
     "status": "ok",
     "timestamp": 1753249122926,
     "user_tz": -540,
     "elapsed": 9,
     "user": {
      "displayName": "고강태 강사",
      "userId": "11816854931407731745"
     }
    },
    "outputId": "f465316c-c591-4a50-b3a7-2750c7a85b0a",
    "ExecuteTime": {
     "end_time": "2025-07-24T10:15:34.360412Z",
     "start_time": "2025-07-24T10:15:34.357816Z"
    }
   },
   "source": [
    "train_images.shape, train_labels.shape"
   ],
   "outputs": [
    {
     "data": {
      "text/plain": [
       "((60000, 28, 28), (60000,))"
      ]
     },
     "execution_count": 6,
     "metadata": {},
     "output_type": "execute_result"
    }
   ],
   "execution_count": 6
  },
  {
   "cell_type": "markdown",
   "metadata": {
    "id": "13ipXyceyQ6g"
   },
   "source": [
    "패션 MNIST의 타깃은 0 ~ 9까지의 숫자 레이블로 구성된다. 각 숫자의 의미는 아직 모르지만 마지막 2개의 샘플이 같은 레이블(5)를 가지고 있다. 패션 MNIST에 포함된 10개의 레이블의 의미는 다음과 같다.\n",
    "\n",
    "0 : 티셔츠\n",
    "1 : 바지\n",
    "2 : 스웨터\n",
    "3 : 드레스\n",
    "4 : 코트\n",
    "5 : 샌달\n",
    "6 : 셔츠\n",
    "7 : 스니커즈\n",
    "8 : 가방\n",
    "9 : 앵클 부츠"
   ]
  },
  {
   "cell_type": "code",
   "metadata": {
    "colab": {
     "base_uri": "https://localhost:8080/"
    },
    "id": "XmiQxpjmyQ6h",
    "executionInfo": {
     "status": "ok",
     "timestamp": 1753249127753,
     "user_tz": -540,
     "elapsed": 23,
     "user": {
      "displayName": "고강태 강사",
      "userId": "11816854931407731745"
     }
    },
    "outputId": "5c24bb40-50c5-4f57-84e8-ded85d31e280",
    "ExecuteTime": {
     "end_time": "2025-07-24T10:15:34.371959Z",
     "start_time": "2025-07-24T10:15:34.369131Z"
    }
   },
   "source": [
    "np.unique(train_labels)"
   ],
   "outputs": [
    {
     "data": {
      "text/plain": [
       "array([0, 1, 2, 3, 4, 5, 6, 7, 8, 9], dtype=uint8)"
      ]
     },
     "execution_count": 7,
     "metadata": {},
     "output_type": "execute_result"
    }
   ],
   "execution_count": 7
  },
  {
   "cell_type": "markdown",
   "metadata": {
    "id": "dEHtMrVMyQ6h"
   },
   "source": [
    "마지막으로 넘파이 unique() 함수로 레이블 당 샘플 개수를 확인해 보자."
   ]
  },
  {
   "cell_type": "code",
   "metadata": {
    "colab": {
     "base_uri": "https://localhost:8080/"
    },
    "id": "AyJQnUz-yQ6h",
    "executionInfo": {
     "status": "ok",
     "timestamp": 1753249130804,
     "user_tz": -540,
     "elapsed": 43,
     "user": {
      "displayName": "고강태 강사",
      "userId": "11816854931407731745"
     }
    },
    "outputId": "4dfa08b8-dc3c-40ff-a1d8-5f5b6de13f37",
    "ExecuteTime": {
     "end_time": "2025-07-24T10:15:34.388812Z",
     "start_time": "2025-07-24T10:15:34.385182Z"
    }
   },
   "source": [
    "# 전체 학습 데이터 타겟의 라벨만 출력\n",
    "print(np.unique(train_labels, return_counts=True))"
   ],
   "outputs": [
    {
     "name": "stdout",
     "output_type": "stream",
     "text": [
      "(array([0, 1, 2, 3, 4, 5, 6, 7, 8, 9], dtype=uint8), array([6000, 6000, 6000, 6000, 6000, 6000, 6000, 6000, 6000, 6000]))\n"
     ]
    }
   ],
   "execution_count": 8
  },
  {
   "cell_type": "code",
   "metadata": {
    "id": "TS2eMoJtyQ6h",
    "executionInfo": {
     "status": "ok",
     "timestamp": 1753249150937,
     "user_tz": -540,
     "elapsed": 9,
     "user": {
      "displayName": "고강태 강사",
      "userId": "11816854931407731745"
     }
    },
    "ExecuteTime": {
     "end_time": "2025-07-24T10:15:34.400049Z",
     "start_time": "2025-07-24T10:15:34.398539Z"
    }
   },
   "source": [
    "class_names = ['T-shirt/top', 'Trouser', 'Pullover', 'Dress', 'Coat','Sandal', 'Shirt', 'Sneaker', 'Bag', 'Ankle boot']"
   ],
   "outputs": [],
   "execution_count": 9
  },
  {
   "cell_type": "markdown",
   "metadata": {
    "id": "78g-XW0zyQ6h"
   },
   "source": [
    "크기가 28 x 28이다 보니 꽤 작고 흐릿하다. 신발과 다양한 종류의 옷들이 보인다.\n"
   ]
  },
  {
   "cell_type": "code",
   "metadata": {
    "colab": {
     "base_uri": "https://localhost:8080/",
     "height": 826
    },
    "id": "zjRRfB2ryQ6h",
    "executionInfo": {
     "status": "ok",
     "timestamp": 1753249158214,
     "user_tz": -540,
     "elapsed": 1342,
     "user": {
      "displayName": "고강태 강사",
      "userId": "11816854931407731745"
     }
    },
    "outputId": "09c82a17-9f2d-464f-bc1d-83345a4ade2a",
    "ExecuteTime": {
     "end_time": "2025-07-24T10:15:34.703033Z",
     "start_time": "2025-07-24T10:15:34.408296Z"
    }
   },
   "source": [
    "import matplotlib.pyplot as plt\n",
    "\n",
    "plt.figure(figsize=(10,10))\n",
    "for i in range(25):\n",
    "    plt.subplot(5,5,i+1)\n",
    "    plt.xticks([])\n",
    "    plt.yticks([])\n",
    "    plt.grid(False)\n",
    "    plt.imshow(train_images[i], cmap=plt.cm.gray)\n",
    "    plt.xlabel(class_names[train_labels[i]])\n",
    "plt.show()"
   ],
   "outputs": [
    {
     "data": {
      "text/plain": [
       "<Figure size 1000x1000 with 25 Axes>"
      ],
      "image/png": "[encoded data removed]"
     },
     "metadata": {},
     "output_type": "display_data"
    }
   ],
   "execution_count": 10
  },
  {
   "cell_type": "markdown",
   "metadata": {
    "id": "JeBctjoyyQ6h"
   },
   "source": [
    "## (2)데이터 전처리\n",
    "\n",
    "네트워크를 훈련하기 전에 데이터를 전처리해야 합니다. 훈련 세트에 있는 첫 번째 이미지를 보면 픽셀 값의 범위가 0~255 사이라는 것을 알 수 있습니다:"
   ]
  },
  {
   "cell_type": "code",
   "metadata": {
    "colab": {
     "base_uri": "https://localhost:8080/",
     "height": 430
    },
    "id": "stTGX9qmyQ6h",
    "executionInfo": {
     "status": "ok",
     "timestamp": 1753249232669,
     "user_tz": -540,
     "elapsed": 150,
     "user": {
      "displayName": "고강태 강사",
      "userId": "11816854931407731745"
     }
    },
    "outputId": "2b96261f-3cac-44fa-d73e-3fcd3129290e",
    "ExecuteTime": {
     "end_time": "2025-07-24T10:15:34.775228Z",
     "start_time": "2025-07-24T10:15:34.717039Z"
    }
   },
   "source": [
    "# image 0\n",
    "plot_img(train_images[0])"
   ],
   "outputs": [
    {
     "data": {
      "text/plain": [
       "<Figure size 640x480 with 2 Axes>"
      ],
      "image/png": "[encoded data removed]"
     },
     "metadata": {},
     "output_type": "display_data"
    }
   ],
   "execution_count": 11
  },
  {
   "cell_type": "code",
   "source": [
    "train_images[0].min(), train_images[0].max()"
   ],
   "metadata": {
    "colab": {
     "base_uri": "https://localhost:8080/"
    },
    "id": "xWCo4cEbzIZF",
    "executionInfo": {
     "status": "ok",
     "timestamp": 1753249259869,
     "user_tz": -540,
     "elapsed": 18,
     "user": {
      "displayName": "고강태 강사",
      "userId": "11816854931407731745"
     }
    },
    "outputId": "ebfdef63-d8d3-4ed7-dca9-27fcdd3d0e76",
    "ExecuteTime": {
     "end_time": "2025-07-24T10:15:34.786148Z",
     "start_time": "2025-07-24T10:15:34.784019Z"
    }
   },
   "outputs": [
    {
     "data": {
      "text/plain": [
       "(0, 255)"
      ]
     },
     "execution_count": 12,
     "metadata": {},
     "output_type": "execute_result"
    }
   ],
   "execution_count": 12
  },
  {
   "cell_type": "code",
   "source": [
    "train_images[0].shape"
   ],
   "metadata": {
    "colab": {
     "base_uri": "https://localhost:8080/"
    },
    "id": "VgcjGYLY82Yx",
    "executionInfo": {
     "status": "ok",
     "timestamp": 1753251804952,
     "user_tz": -540,
     "elapsed": 11,
     "user": {
      "displayName": "고강태 강사",
      "userId": "11816854931407731745"
     }
    },
    "outputId": "5e8af16f-b60d-4192-9afd-8988b8b25eaa",
    "ExecuteTime": {
     "end_time": "2025-07-24T10:15:34.806070Z",
     "start_time": "2025-07-24T10:15:34.804001Z"
    }
   },
   "outputs": [
    {
     "data": {
      "text/plain": [
       "(28, 28)"
      ]
     },
     "execution_count": 13,
     "metadata": {},
     "output_type": "execute_result"
    }
   ],
   "execution_count": 13
  },
  {
   "cell_type": "markdown",
   "metadata": {
    "id": "AMTH2WUeyQ6i"
   },
   "source": [
    "신경망 모델에 주입하기 전에 이 값의 범위를 0~1 사이로 조정하겠습니다. 이렇게 하려면 255로 나누어야 합니다. *훈련 세트*와 *테스트 세트*를 동일한 방식으로 전처리하는 것이 중요합니다:\n",
    "\n",
    "\n",
    "> 28 x 28 크기의 2차원 배열을 784 크기의 1차원 배열로 펼쳐 입력하지만 여기서는 Flattent layer 를 사용하겠다.\n",
    "\n"
   ]
  },
  {
   "cell_type": "code",
   "metadata": {
    "id": "1SCmESanyQ6i",
    "executionInfo": {
     "status": "ok",
     "timestamp": 1753249314468,
     "user_tz": -540,
     "elapsed": 283,
     "user": {
      "displayName": "고강태 강사",
      "userId": "11816854931407731745"
     }
    },
    "ExecuteTime": {
     "end_time": "2025-07-24T10:15:34.855387Z",
     "start_time": "2025-07-24T10:15:34.816059Z"
    }
   },
   "source": [
    "# 정규화\n",
    "train_scaled = train_images / 255.0\n",
    "test_scaled = test_images / 255.0\n",
    "\n",
    "# 28x28 이미지를 784개 벡터로 변경\n",
    "# train_scaled = train_scaled.reshape(-1, 28*28)"
   ],
   "outputs": [],
   "execution_count": 14
  },
  {
   "cell_type": "markdown",
   "metadata": {
    "id": "EB5pRaKtyQ6i"
   },
   "source": [
    "## (3)학습\n"
   ]
  },
  {
   "cell_type": "code",
   "metadata": {
    "id": "SU0OAi-tyQ6i",
    "executionInfo": {
     "status": "ok",
     "timestamp": 1753249445473,
     "user_tz": -540,
     "elapsed": 93,
     "user": {
      "displayName": "고강태 강사",
      "userId": "11816854931407731745"
     }
    },
    "ExecuteTime": {
     "end_time": "2025-07-24T10:15:34.877060Z",
     "start_time": "2025-07-24T10:15:34.863299Z"
    }
   },
   "source": [
    "model = keras.Sequential([\n",
    "    keras.layers.Input((28,28)),\n",
    "    keras.layers.Flatten(),\n",
    "    keras.layers.Dense(128, activation='relu'),\n",
    "    keras.layers.Dense(10, activation='softmax')\n",
    "])"
   ],
   "outputs": [],
   "execution_count": 15
  },
  {
   "cell_type": "code",
   "metadata": {
    "colab": {
     "base_uri": "https://localhost:8080/",
     "height": 238
    },
    "id": "bwXDLSOWbm3L",
    "outputId": "4a1917a4-09e7-4400-ed1b-287aab237880",
    "executionInfo": {
     "status": "ok",
     "timestamp": 1753249450655,
     "user_tz": -540,
     "elapsed": 80,
     "user": {
      "displayName": "고강태 강사",
      "userId": "11816854931407731745"
     }
    },
    "ExecuteTime": {
     "end_time": "2025-07-24T10:15:34.890485Z",
     "start_time": "2025-07-24T10:15:34.884293Z"
    }
   },
   "source": [
    "model.summary()"
   ],
   "outputs": [
    {
     "data": {
      "text/plain": [
       "\u001B[1mModel: \"sequential\"\u001B[0m\n"
      ],
      "text/html": [
       "<pre style=\"white-space:pre;overflow-x:auto;line-height:normal;font-family:Menlo,'DejaVu Sans Mono',consolas,'Courier New',monospace\"><span style=\"font-weight: bold\">Model: \"sequential\"</span>\n",
       "</pre>\n"
      ]
     },
     "metadata": {},
     "output_type": "display_data"
    },
    {
     "data": {
      "text/plain": [
       "┏━━━━━━━━━━━━━━━━━━━━━━━━━━━━━━━━━┳━━━━━━━━━━━━━━━━━━━━━━━━┳━━━━━━━━━━━━━━━┓\n",
       "┃\u001B[1m \u001B[0m\u001B[1mLayer (type)                   \u001B[0m\u001B[1m \u001B[0m┃\u001B[1m \u001B[0m\u001B[1mOutput Shape          \u001B[0m\u001B[1m \u001B[0m┃\u001B[1m \u001B[0m\u001B[1m      Param #\u001B[0m\u001B[1m \u001B[0m┃\n",
       "┡━━━━━━━━━━━━━━━━━━━━━━━━━━━━━━━━━╇━━━━━━━━━━━━━━━━━━━━━━━━╇━━━━━━━━━━━━━━━┩\n",
       "│ flatten (\u001B[38;5;33mFlatten\u001B[0m)               │ (\u001B[38;5;45mNone\u001B[0m, \u001B[38;5;34m784\u001B[0m)            │             \u001B[38;5;34m0\u001B[0m │\n",
       "├─────────────────────────────────┼────────────────────────┼───────────────┤\n",
       "│ dense (\u001B[38;5;33mDense\u001B[0m)                   │ (\u001B[38;5;45mNone\u001B[0m, \u001B[38;5;34m128\u001B[0m)            │       \u001B[38;5;34m100,480\u001B[0m │\n",
       "├─────────────────────────────────┼────────────────────────┼───────────────┤\n",
       "│ dense_1 (\u001B[38;5;33mDense\u001B[0m)                 │ (\u001B[38;5;45mNone\u001B[0m, \u001B[38;5;34m10\u001B[0m)             │         \u001B[38;5;34m1,290\u001B[0m │\n",
       "└─────────────────────────────────┴────────────────────────┴───────────────┘\n"
      ],
      "text/html": [
       "<pre style=\"white-space:pre;overflow-x:auto;line-height:normal;font-family:Menlo,'DejaVu Sans Mono',consolas,'Courier New',monospace\">┏━━━━━━━━━━━━━━━━━━━━━━━━━━━━━━━━━┳━━━━━━━━━━━━━━━━━━━━━━━━┳━━━━━━━━━━━━━━━┓\n",
       "┃<span style=\"font-weight: bold\"> Layer (type)                    </span>┃<span style=\"font-weight: bold\"> Output Shape           </span>┃<span style=\"font-weight: bold\">       Param # </span>┃\n",
       "┡━━━━━━━━━━━━━━━━━━━━━━━━━━━━━━━━━╇━━━━━━━━━━━━━━━━━━━━━━━━╇━━━━━━━━━━━━━━━┩\n",
       "│ flatten (<span style=\"color: #0087ff; text-decoration-color: #0087ff\">Flatten</span>)               │ (<span style=\"color: #00d7ff; text-decoration-color: #00d7ff\">None</span>, <span style=\"color: #00af00; text-decoration-color: #00af00\">784</span>)            │             <span style=\"color: #00af00; text-decoration-color: #00af00\">0</span> │\n",
       "├─────────────────────────────────┼────────────────────────┼───────────────┤\n",
       "│ dense (<span style=\"color: #0087ff; text-decoration-color: #0087ff\">Dense</span>)                   │ (<span style=\"color: #00d7ff; text-decoration-color: #00d7ff\">None</span>, <span style=\"color: #00af00; text-decoration-color: #00af00\">128</span>)            │       <span style=\"color: #00af00; text-decoration-color: #00af00\">100,480</span> │\n",
       "├─────────────────────────────────┼────────────────────────┼───────────────┤\n",
       "│ dense_1 (<span style=\"color: #0087ff; text-decoration-color: #0087ff\">Dense</span>)                 │ (<span style=\"color: #00d7ff; text-decoration-color: #00d7ff\">None</span>, <span style=\"color: #00af00; text-decoration-color: #00af00\">10</span>)             │         <span style=\"color: #00af00; text-decoration-color: #00af00\">1,290</span> │\n",
       "└─────────────────────────────────┴────────────────────────┴───────────────┘\n",
       "</pre>\n"
      ]
     },
     "metadata": {},
     "output_type": "display_data"
    },
    {
     "data": {
      "text/plain": [
       "\u001B[1m Total params: \u001B[0m\u001B[38;5;34m101,770\u001B[0m (397.54 KB)\n"
      ],
      "text/html": [
       "<pre style=\"white-space:pre;overflow-x:auto;line-height:normal;font-family:Menlo,'DejaVu Sans Mono',consolas,'Courier New',monospace\"><span style=\"font-weight: bold\"> Total params: </span><span style=\"color: #00af00; text-decoration-color: #00af00\">101,770</span> (397.54 KB)\n",
       "</pre>\n"
      ]
     },
     "metadata": {},
     "output_type": "display_data"
    },
    {
     "data": {
      "text/plain": [
       "\u001B[1m Trainable params: \u001B[0m\u001B[38;5;34m101,770\u001B[0m (397.54 KB)\n"
      ],
      "text/html": [
       "<pre style=\"white-space:pre;overflow-x:auto;line-height:normal;font-family:Menlo,'DejaVu Sans Mono',consolas,'Courier New',monospace\"><span style=\"font-weight: bold\"> Trainable params: </span><span style=\"color: #00af00; text-decoration-color: #00af00\">101,770</span> (397.54 KB)\n",
       "</pre>\n"
      ]
     },
     "metadata": {},
     "output_type": "display_data"
    },
    {
     "data": {
      "text/plain": [
       "\u001B[1m Non-trainable params: \u001B[0m\u001B[38;5;34m0\u001B[0m (0.00 B)\n"
      ],
      "text/html": [
       "<pre style=\"white-space:pre;overflow-x:auto;line-height:normal;font-family:Menlo,'DejaVu Sans Mono',consolas,'Courier New',monospace\"><span style=\"font-weight: bold\"> Non-trainable params: </span><span style=\"color: #00af00; text-decoration-color: #00af00\">0</span> (0.00 B)\n",
       "</pre>\n"
      ]
     },
     "metadata": {},
     "output_type": "display_data"
    }
   ],
   "execution_count": 16
  },
  {
   "cell_type": "code",
   "metadata": {
    "id": "wC5iWOrKyQ6i",
    "executionInfo": {
     "status": "ok",
     "timestamp": 1753249615255,
     "user_tz": -540,
     "elapsed": 18,
     "user": {
      "displayName": "고강태 강사",
      "userId": "11816854931407731745"
     }
    },
    "ExecuteTime": {
     "end_time": "2025-07-24T10:15:34.910149Z",
     "start_time": "2025-07-24T10:15:34.906Z"
    }
   },
   "source": [
    "model.compile(loss='sparse_categorical_crossentropy', metrics=['accuracy'])"
   ],
   "outputs": [],
   "execution_count": 17
  },
  {
   "cell_type": "code",
   "metadata": {
    "colab": {
     "base_uri": "https://localhost:8080/",
     "height": 1000,
     "referenced_widgets": [
      "7789c8341d6a4c3d9c3cd5e47b43d317",
      "56b09ba252d44dbbbf82d55c3717518f",
      "4522943a01bb478db5bc830e479e52b3",
      "c6b67cc4f69949f5946cfe1e1bf48edf",
      "2c4c387d53d04c59b276626f41c3f531",
      "cfe5dbc9e8b746efbfb1395fbdaf379c",
      "4a39d01a62cb4be593312110f131e933",
      "8387200711e5442790673dab1dd1cd80",
      "bfc1751299a54daf9981d78f300e315b",
      "81a7bcf9b40d4970baf89429bf625a6c",
      "758d5e2bc00246779fc8142d8a0092db",
      "a41aa35fa54d4adbac6b3160a2235b82",
      "63d2472ec4cd46d9bede33c1d4d5c6d7",
      "15caeed2624b49aa8080294928a4b1ef",
      "47c4e14415ca44b48b2c170990ea8215",
      "12dceed1c65b47a18a67dfe67b9b677a",
      "2c144e0539de470ba5c792bf1083b89e",
      "ec94f45295c2455fb1744b39dfd3b9c4",
      "1f62c99264ed464a8e94e70fcc68194a",
      "b21f7b199b3c4a9b825616cd442e0451",
      "816477d216f2409b8e3606de82ccae8f",
      "707ef5bb917d45d28fcdad592baeae5a"
     ]
    },
    "collapsed": true,
    "id": "v4gSfrOFyQ6i",
    "executionInfo": {
     "status": "ok",
     "timestamp": 1753250524086,
     "user_tz": -540,
     "elapsed": 906556,
     "user": {
      "displayName": "고강태 강사",
      "userId": "11816854931407731745"
     }
    },
    "outputId": "6d868f4c-b42a-48d8-8e4f-d246e2dbb7f6",
    "ExecuteTime": {
     "end_time": "2025-07-24T10:17:24.924812Z",
     "start_time": "2025-07-24T10:15:34.918487Z"
    }
   },
   "source": [
    "from tqdm.keras import TqdmCallback\n",
    "\n",
    "history = model.fit(\n",
    "    train_scaled,\n",
    "    train_labels,\n",
    "    epochs=100,\n",
    "    callbacks=[TqdmCallback()]\n",
    ")"
   ],
   "outputs": [
    {
     "data": {
      "text/plain": [
       "0epoch [00:00, ?epoch/s]"
      ],
      "application/vnd.jupyter.widget-view+json": {
       "version_major": 2,
       "version_minor": 0,
       "model_id": "3f12532ef087409b9f7450aada633867"
      }
     },
     "metadata": {},
     "output_type": "display_data"
    },
    {
     "data": {
      "text/plain": [
       "0batch [00:00, ?batch/s]"
      ],
      "application/vnd.jupyter.widget-view+json": {
       "version_major": 2,
       "version_minor": 0,
       "model_id": "7fd33c39893e4ad1b43d552d29abce9e"
      }
     },
     "metadata": {},
     "output_type": "display_data"
    },
    {
     "name": "stdout",
     "output_type": "stream",
     "text": [
      "Epoch 1/100\n",
      "\u001B[1m1875/1875\u001B[0m \u001B[32m━━━━━━━━━━━━━━━━━━━━\u001B[0m\u001B[37m\u001B[0m \u001B[1m1s\u001B[0m 556us/step - accuracy: 0.7786 - loss: 0.6386\n",
      "Epoch 2/100\n",
      "\u001B[1m1875/1875\u001B[0m \u001B[32m━━━━━━━━━━━━━━━━━━━━\u001B[0m\u001B[37m\u001B[0m \u001B[1m1s\u001B[0m 607us/step - accuracy: 0.8584 - loss: 0.3848\n",
      "Epoch 3/100\n",
      "\u001B[1m1875/1875\u001B[0m \u001B[32m━━━━━━━━━━━━━━━━━━━━\u001B[0m\u001B[37m\u001B[0m \u001B[1m1s\u001B[0m 582us/step - accuracy: 0.8756 - loss: 0.3436\n",
      "Epoch 4/100\n",
      "\u001B[1m1875/1875\u001B[0m \u001B[32m━━━━━━━━━━━━━━━━━━━━\u001B[0m\u001B[37m\u001B[0m \u001B[1m1s\u001B[0m 618us/step - accuracy: 0.8819 - loss: 0.3231\n",
      "Epoch 5/100\n",
      "\u001B[1m1875/1875\u001B[0m \u001B[32m━━━━━━━━━━━━━━━━━━━━\u001B[0m\u001B[37m\u001B[0m \u001B[1m1s\u001B[0m 601us/step - accuracy: 0.8887 - loss: 0.3087\n",
      "Epoch 6/100\n",
      "\u001B[1m1875/1875\u001B[0m \u001B[32m━━━━━━━━━━━━━━━━━━━━\u001B[0m\u001B[37m\u001B[0m \u001B[1m1s\u001B[0m 605us/step - accuracy: 0.8930 - loss: 0.2977\n",
      "Epoch 7/100\n",
      "\u001B[1m1875/1875\u001B[0m \u001B[32m━━━━━━━━━━━━━━━━━━━━\u001B[0m\u001B[37m\u001B[0m \u001B[1m1s\u001B[0m 596us/step - accuracy: 0.8971 - loss: 0.2931\n",
      "Epoch 8/100\n",
      "\u001B[1m1875/1875\u001B[0m \u001B[32m━━━━━━━━━━━━━━━━━━━━\u001B[0m\u001B[37m\u001B[0m \u001B[1m1s\u001B[0m 594us/step - accuracy: 0.9007 - loss: 0.2831\n",
      "Epoch 9/100\n",
      "\u001B[1m1875/1875\u001B[0m \u001B[32m━━━━━━━━━━━━━━━━━━━━\u001B[0m\u001B[37m\u001B[0m \u001B[1m1s\u001B[0m 604us/step - accuracy: 0.9038 - loss: 0.2758\n",
      "Epoch 10/100\n",
      "\u001B[1m1875/1875\u001B[0m \u001B[32m━━━━━━━━━━━━━━━━━━━━\u001B[0m\u001B[37m\u001B[0m \u001B[1m1s\u001B[0m 595us/step - accuracy: 0.9082 - loss: 0.2702\n",
      "Epoch 11/100\n",
      "\u001B[1m1875/1875\u001B[0m \u001B[32m━━━━━━━━━━━━━━━━━━━━\u001B[0m\u001B[37m\u001B[0m \u001B[1m1s\u001B[0m 604us/step - accuracy: 0.9080 - loss: 0.2624\n",
      "Epoch 12/100\n",
      "\u001B[1m1875/1875\u001B[0m \u001B[32m━━━━━━━━━━━━━━━━━━━━\u001B[0m\u001B[37m\u001B[0m \u001B[1m1s\u001B[0m 605us/step - accuracy: 0.9095 - loss: 0.2561\n",
      "Epoch 13/100\n",
      "\u001B[1m1875/1875\u001B[0m \u001B[32m━━━━━━━━━━━━━━━━━━━━\u001B[0m\u001B[37m\u001B[0m \u001B[1m1s\u001B[0m 604us/step - accuracy: 0.9119 - loss: 0.2530\n",
      "Epoch 14/100\n",
      "\u001B[1m1875/1875\u001B[0m \u001B[32m━━━━━━━━━━━━━━━━━━━━\u001B[0m\u001B[37m\u001B[0m \u001B[1m1s\u001B[0m 609us/step - accuracy: 0.9132 - loss: 0.2491\n",
      "Epoch 15/100\n",
      "\u001B[1m1875/1875\u001B[0m \u001B[32m━━━━━━━━━━━━━━━━━━━━\u001B[0m\u001B[37m\u001B[0m \u001B[1m1s\u001B[0m 610us/step - accuracy: 0.9163 - loss: 0.2428\n",
      "Epoch 16/100\n",
      "\u001B[1m1875/1875\u001B[0m \u001B[32m━━━━━━━━━━━━━━━━━━━━\u001B[0m\u001B[37m\u001B[0m \u001B[1m1s\u001B[0m 601us/step - accuracy: 0.9179 - loss: 0.2368\n",
      "Epoch 17/100\n",
      "\u001B[1m1875/1875\u001B[0m \u001B[32m━━━━━━━━━━━━━━━━━━━━\u001B[0m\u001B[37m\u001B[0m \u001B[1m1s\u001B[0m 610us/step - accuracy: 0.9201 - loss: 0.2373\n",
      "Epoch 18/100\n",
      "\u001B[1m1875/1875\u001B[0m \u001B[32m━━━━━━━━━━━━━━━━━━━━\u001B[0m\u001B[37m\u001B[0m \u001B[1m1s\u001B[0m 598us/step - accuracy: 0.9199 - loss: 0.2327\n",
      "Epoch 19/100\n",
      "\u001B[1m1875/1875\u001B[0m \u001B[32m━━━━━━━━━━━━━━━━━━━━\u001B[0m\u001B[37m\u001B[0m \u001B[1m1s\u001B[0m 593us/step - accuracy: 0.9220 - loss: 0.2324\n",
      "Epoch 20/100\n",
      "\u001B[1m1875/1875\u001B[0m \u001B[32m━━━━━━━━━━━━━━━━━━━━\u001B[0m\u001B[37m\u001B[0m \u001B[1m1s\u001B[0m 598us/step - accuracy: 0.9231 - loss: 0.2255\n",
      "Epoch 21/100\n",
      "\u001B[1m1875/1875\u001B[0m \u001B[32m━━━━━━━━━━━━━━━━━━━━\u001B[0m\u001B[37m\u001B[0m \u001B[1m1s\u001B[0m 607us/step - accuracy: 0.9278 - loss: 0.2156\n",
      "Epoch 22/100\n",
      "\u001B[1m1875/1875\u001B[0m \u001B[32m━━━━━━━━━━━━━━━━━━━━\u001B[0m\u001B[37m\u001B[0m \u001B[1m1s\u001B[0m 589us/step - accuracy: 0.9267 - loss: 0.2198\n",
      "Epoch 23/100\n",
      "\u001B[1m1875/1875\u001B[0m \u001B[32m━━━━━━━━━━━━━━━━━━━━\u001B[0m\u001B[37m\u001B[0m \u001B[1m1s\u001B[0m 621us/step - accuracy: 0.9294 - loss: 0.2121\n",
      "Epoch 24/100\n",
      "\u001B[1m1875/1875\u001B[0m \u001B[32m━━━━━━━━━━━━━━━━━━━━\u001B[0m\u001B[37m\u001B[0m \u001B[1m1s\u001B[0m 600us/step - accuracy: 0.9291 - loss: 0.2144\n",
      "Epoch 25/100\n",
      "\u001B[1m1875/1875\u001B[0m \u001B[32m━━━━━━━━━━━━━━━━━━━━\u001B[0m\u001B[37m\u001B[0m \u001B[1m1s\u001B[0m 592us/step - accuracy: 0.9304 - loss: 0.2095\n",
      "Epoch 26/100\n",
      "\u001B[1m1875/1875\u001B[0m \u001B[32m━━━━━━━━━━━━━━━━━━━━\u001B[0m\u001B[37m\u001B[0m \u001B[1m1s\u001B[0m 585us/step - accuracy: 0.9334 - loss: 0.2025\n",
      "Epoch 27/100\n",
      "\u001B[1m1875/1875\u001B[0m \u001B[32m━━━━━━━━━━━━━━━━━━━━\u001B[0m\u001B[37m\u001B[0m \u001B[1m1s\u001B[0m 586us/step - accuracy: 0.9329 - loss: 0.2034\n",
      "Epoch 28/100\n",
      "\u001B[1m1875/1875\u001B[0m \u001B[32m━━━━━━━━━━━━━━━━━━━━\u001B[0m\u001B[37m\u001B[0m \u001B[1m1s\u001B[0m 580us/step - accuracy: 0.9329 - loss: 0.2009\n",
      "Epoch 29/100\n",
      "\u001B[1m1875/1875\u001B[0m \u001B[32m━━━━━━━━━━━━━━━━━━━━\u001B[0m\u001B[37m\u001B[0m \u001B[1m1s\u001B[0m 579us/step - accuracy: 0.9339 - loss: 0.1983\n",
      "Epoch 30/100\n",
      "\u001B[1m1875/1875\u001B[0m \u001B[32m━━━━━━━━━━━━━━━━━━━━\u001B[0m\u001B[37m\u001B[0m \u001B[1m1s\u001B[0m 577us/step - accuracy: 0.9360 - loss: 0.1931\n",
      "Epoch 31/100\n",
      "\u001B[1m1875/1875\u001B[0m \u001B[32m━━━━━━━━━━━━━━━━━━━━\u001B[0m\u001B[37m\u001B[0m \u001B[1m1s\u001B[0m 583us/step - accuracy: 0.9359 - loss: 0.1964\n",
      "Epoch 32/100\n",
      "\u001B[1m1875/1875\u001B[0m \u001B[32m━━━━━━━━━━━━━━━━━━━━\u001B[0m\u001B[37m\u001B[0m \u001B[1m1s\u001B[0m 571us/step - accuracy: 0.9375 - loss: 0.1938\n",
      "Epoch 33/100\n",
      "\u001B[1m1875/1875\u001B[0m \u001B[32m━━━━━━━━━━━━━━━━━━━━\u001B[0m\u001B[37m\u001B[0m \u001B[1m1s\u001B[0m 578us/step - accuracy: 0.9389 - loss: 0.1871\n",
      "Epoch 34/100\n",
      "\u001B[1m1875/1875\u001B[0m \u001B[32m━━━━━━━━━━━━━━━━━━━━\u001B[0m\u001B[37m\u001B[0m \u001B[1m1s\u001B[0m 574us/step - accuracy: 0.9382 - loss: 0.1872\n",
      "Epoch 35/100\n",
      "\u001B[1m1875/1875\u001B[0m \u001B[32m━━━━━━━━━━━━━━━━━━━━\u001B[0m\u001B[37m\u001B[0m \u001B[1m1s\u001B[0m 579us/step - accuracy: 0.9413 - loss: 0.1813\n",
      "Epoch 36/100\n",
      "\u001B[1m1875/1875\u001B[0m \u001B[32m━━━━━━━━━━━━━━━━━━━━\u001B[0m\u001B[37m\u001B[0m \u001B[1m1s\u001B[0m 610us/step - accuracy: 0.9407 - loss: 0.1841\n",
      "Epoch 37/100\n",
      "\u001B[1m1875/1875\u001B[0m \u001B[32m━━━━━━━━━━━━━━━━━━━━\u001B[0m\u001B[37m\u001B[0m \u001B[1m1s\u001B[0m 579us/step - accuracy: 0.9411 - loss: 0.1788\n",
      "Epoch 38/100\n",
      "\u001B[1m1875/1875\u001B[0m \u001B[32m━━━━━━━━━━━━━━━━━━━━\u001B[0m\u001B[37m\u001B[0m \u001B[1m1s\u001B[0m 599us/step - accuracy: 0.9428 - loss: 0.1770\n",
      "Epoch 39/100\n",
      "\u001B[1m1875/1875\u001B[0m \u001B[32m━━━━━━━━━━━━━━━━━━━━\u001B[0m\u001B[37m\u001B[0m \u001B[1m1s\u001B[0m 587us/step - accuracy: 0.9444 - loss: 0.1699\n",
      "Epoch 40/100\n",
      "\u001B[1m1875/1875\u001B[0m \u001B[32m━━━━━━━━━━━━━━━━━━━━\u001B[0m\u001B[37m\u001B[0m \u001B[1m1s\u001B[0m 578us/step - accuracy: 0.9443 - loss: 0.1723\n",
      "Epoch 41/100\n",
      "\u001B[1m1875/1875\u001B[0m \u001B[32m━━━━━━━━━━━━━━━━━━━━\u001B[0m\u001B[37m\u001B[0m \u001B[1m1s\u001B[0m 568us/step - accuracy: 0.9465 - loss: 0.1679\n",
      "Epoch 42/100\n",
      "\u001B[1m1875/1875\u001B[0m \u001B[32m━━━━━━━━━━━━━━━━━━━━\u001B[0m\u001B[37m\u001B[0m \u001B[1m1s\u001B[0m 572us/step - accuracy: 0.9442 - loss: 0.1776\n",
      "Epoch 43/100\n",
      "\u001B[1m1875/1875\u001B[0m \u001B[32m━━━━━━━━━━━━━━━━━━━━\u001B[0m\u001B[37m\u001B[0m \u001B[1m1s\u001B[0m 570us/step - accuracy: 0.9466 - loss: 0.1694\n",
      "Epoch 44/100\n",
      "\u001B[1m1875/1875\u001B[0m \u001B[32m━━━━━━━━━━━━━━━━━━━━\u001B[0m\u001B[37m\u001B[0m \u001B[1m1s\u001B[0m 571us/step - accuracy: 0.9474 - loss: 0.1671\n",
      "Epoch 45/100\n",
      "\u001B[1m1875/1875\u001B[0m \u001B[32m━━━━━━━━━━━━━━━━━━━━\u001B[0m\u001B[37m\u001B[0m \u001B[1m1s\u001B[0m 568us/step - accuracy: 0.9472 - loss: 0.1643\n",
      "Epoch 46/100\n",
      "\u001B[1m1875/1875\u001B[0m \u001B[32m━━━━━━━━━━━━━━━━━━━━\u001B[0m\u001B[37m\u001B[0m \u001B[1m1s\u001B[0m 569us/step - accuracy: 0.9487 - loss: 0.1634\n",
      "Epoch 47/100\n",
      "\u001B[1m1875/1875\u001B[0m \u001B[32m━━━━━━━━━━━━━━━━━━━━\u001B[0m\u001B[37m\u001B[0m \u001B[1m1s\u001B[0m 567us/step - accuracy: 0.9506 - loss: 0.1590\n",
      "Epoch 48/100\n",
      "\u001B[1m1875/1875\u001B[0m \u001B[32m━━━━━━━━━━━━━━━━━━━━\u001B[0m\u001B[37m\u001B[0m \u001B[1m1s\u001B[0m 571us/step - accuracy: 0.9484 - loss: 0.1627\n",
      "Epoch 49/100\n",
      "\u001B[1m1875/1875\u001B[0m \u001B[32m━━━━━━━━━━━━━━━━━━━━\u001B[0m\u001B[37m\u001B[0m \u001B[1m1s\u001B[0m 566us/step - accuracy: 0.9492 - loss: 0.1672\n",
      "Epoch 50/100\n",
      "\u001B[1m1875/1875\u001B[0m \u001B[32m━━━━━━━━━━━━━━━━━━━━\u001B[0m\u001B[37m\u001B[0m \u001B[1m1s\u001B[0m 590us/step - accuracy: 0.9507 - loss: 0.1578\n",
      "Epoch 51/100\n",
      "\u001B[1m1875/1875\u001B[0m \u001B[32m━━━━━━━━━━━━━━━━━━━━\u001B[0m\u001B[37m\u001B[0m \u001B[1m1s\u001B[0m 577us/step - accuracy: 0.9513 - loss: 0.1496\n",
      "Epoch 52/100\n",
      "\u001B[1m1875/1875\u001B[0m \u001B[32m━━━━━━━━━━━━━━━━━━━━\u001B[0m\u001B[37m\u001B[0m \u001B[1m1s\u001B[0m 573us/step - accuracy: 0.9525 - loss: 0.1523\n",
      "Epoch 53/100\n",
      "\u001B[1m1875/1875\u001B[0m \u001B[32m━━━━━━━━━━━━━━━━━━━━\u001B[0m\u001B[37m\u001B[0m \u001B[1m1s\u001B[0m 572us/step - accuracy: 0.9527 - loss: 0.1519\n",
      "Epoch 54/100\n",
      "\u001B[1m1875/1875\u001B[0m \u001B[32m━━━━━━━━━━━━━━━━━━━━\u001B[0m\u001B[37m\u001B[0m \u001B[1m1s\u001B[0m 583us/step - accuracy: 0.9533 - loss: 0.1485\n",
      "Epoch 55/100\n",
      "\u001B[1m1875/1875\u001B[0m \u001B[32m━━━━━━━━━━━━━━━━━━━━\u001B[0m\u001B[37m\u001B[0m \u001B[1m1s\u001B[0m 581us/step - accuracy: 0.9534 - loss: 0.1535\n",
      "Epoch 56/100\n",
      "\u001B[1m1875/1875\u001B[0m \u001B[32m━━━━━━━━━━━━━━━━━━━━\u001B[0m\u001B[37m\u001B[0m \u001B[1m1s\u001B[0m 590us/step - accuracy: 0.9537 - loss: 0.1480\n",
      "Epoch 57/100\n",
      "\u001B[1m1875/1875\u001B[0m \u001B[32m━━━━━━━━━━━━━━━━━━━━\u001B[0m\u001B[37m\u001B[0m \u001B[1m1s\u001B[0m 580us/step - accuracy: 0.9550 - loss: 0.1467\n",
      "Epoch 58/100\n",
      "\u001B[1m1875/1875\u001B[0m \u001B[32m━━━━━━━━━━━━━━━━━━━━\u001B[0m\u001B[37m\u001B[0m \u001B[1m1s\u001B[0m 579us/step - accuracy: 0.9539 - loss: 0.1475\n",
      "Epoch 59/100\n",
      "\u001B[1m1875/1875\u001B[0m \u001B[32m━━━━━━━━━━━━━━━━━━━━\u001B[0m\u001B[37m\u001B[0m \u001B[1m1s\u001B[0m 578us/step - accuracy: 0.9568 - loss: 0.1439\n",
      "Epoch 60/100\n",
      "\u001B[1m1875/1875\u001B[0m \u001B[32m━━━━━━━━━━━━━━━━━━━━\u001B[0m\u001B[37m\u001B[0m \u001B[1m1s\u001B[0m 574us/step - accuracy: 0.9546 - loss: 0.1477\n",
      "Epoch 61/100\n",
      "\u001B[1m1875/1875\u001B[0m \u001B[32m━━━━━━━━━━━━━━━━━━━━\u001B[0m\u001B[37m\u001B[0m \u001B[1m1s\u001B[0m 580us/step - accuracy: 0.9558 - loss: 0.1405\n",
      "Epoch 62/100\n",
      "\u001B[1m1875/1875\u001B[0m \u001B[32m━━━━━━━━━━━━━━━━━━━━\u001B[0m\u001B[37m\u001B[0m \u001B[1m1s\u001B[0m 569us/step - accuracy: 0.9575 - loss: 0.1392\n",
      "Epoch 63/100\n",
      "\u001B[1m1875/1875\u001B[0m \u001B[32m━━━━━━━━━━━━━━━━━━━━\u001B[0m\u001B[37m\u001B[0m \u001B[1m1s\u001B[0m 560us/step - accuracy: 0.9575 - loss: 0.1393\n",
      "Epoch 64/100\n",
      "\u001B[1m1875/1875\u001B[0m \u001B[32m━━━━━━━━━━━━━━━━━━━━\u001B[0m\u001B[37m\u001B[0m \u001B[1m1s\u001B[0m 566us/step - accuracy: 0.9582 - loss: 0.1372\n",
      "Epoch 65/100\n",
      "\u001B[1m1875/1875\u001B[0m \u001B[32m━━━━━━━━━━━━━━━━━━━━\u001B[0m\u001B[37m\u001B[0m \u001B[1m1s\u001B[0m 581us/step - accuracy: 0.9617 - loss: 0.1286\n",
      "Epoch 66/100\n",
      "\u001B[1m1875/1875\u001B[0m \u001B[32m━━━━━━━━━━━━━━━━━━━━\u001B[0m\u001B[37m\u001B[0m \u001B[1m1s\u001B[0m 570us/step - accuracy: 0.9594 - loss: 0.1372\n",
      "Epoch 67/100\n",
      "\u001B[1m1875/1875\u001B[0m \u001B[32m━━━━━━━━━━━━━━━━━━━━\u001B[0m\u001B[37m\u001B[0m \u001B[1m1s\u001B[0m 577us/step - accuracy: 0.9612 - loss: 0.1296\n",
      "Epoch 68/100\n",
      "\u001B[1m1875/1875\u001B[0m \u001B[32m━━━━━━━━━━━━━━━━━━━━\u001B[0m\u001B[37m\u001B[0m \u001B[1m1s\u001B[0m 569us/step - accuracy: 0.9614 - loss: 0.1288\n",
      "Epoch 69/100\n",
      "\u001B[1m1875/1875\u001B[0m \u001B[32m━━━━━━━━━━━━━━━━━━━━\u001B[0m\u001B[37m\u001B[0m \u001B[1m1s\u001B[0m 567us/step - accuracy: 0.9617 - loss: 0.1301\n",
      "Epoch 70/100\n",
      "\u001B[1m1875/1875\u001B[0m \u001B[32m━━━━━━━━━━━━━━━━━━━━\u001B[0m\u001B[37m\u001B[0m \u001B[1m1s\u001B[0m 561us/step - accuracy: 0.9612 - loss: 0.1348\n",
      "Epoch 71/100\n",
      "\u001B[1m1875/1875\u001B[0m \u001B[32m━━━━━━━━━━━━━━━━━━━━\u001B[0m\u001B[37m\u001B[0m \u001B[1m1s\u001B[0m 562us/step - accuracy: 0.9598 - loss: 0.1349\n",
      "Epoch 72/100\n",
      "\u001B[1m1875/1875\u001B[0m \u001B[32m━━━━━━━━━━━━━━━━━━━━\u001B[0m\u001B[37m\u001B[0m \u001B[1m1s\u001B[0m 563us/step - accuracy: 0.9623 - loss: 0.1281\n",
      "Epoch 73/100\n",
      "\u001B[1m1875/1875\u001B[0m \u001B[32m━━━━━━━━━━━━━━━━━━━━\u001B[0m\u001B[37m\u001B[0m \u001B[1m1s\u001B[0m 566us/step - accuracy: 0.9626 - loss: 0.1329\n",
      "Epoch 74/100\n",
      "\u001B[1m1875/1875\u001B[0m \u001B[32m━━━━━━━━━━━━━━━━━━━━\u001B[0m\u001B[37m\u001B[0m \u001B[1m1s\u001B[0m 560us/step - accuracy: 0.9628 - loss: 0.1264\n",
      "Epoch 75/100\n",
      "\u001B[1m1875/1875\u001B[0m \u001B[32m━━━━━━━━━━━━━━━━━━━━\u001B[0m\u001B[37m\u001B[0m \u001B[1m1s\u001B[0m 560us/step - accuracy: 0.9636 - loss: 0.1218\n",
      "Epoch 76/100\n",
      "\u001B[1m1875/1875\u001B[0m \u001B[32m━━━━━━━━━━━━━━━━━━━━\u001B[0m\u001B[37m\u001B[0m \u001B[1m1s\u001B[0m 580us/step - accuracy: 0.9638 - loss: 0.1225\n",
      "Epoch 77/100\n",
      "\u001B[1m1875/1875\u001B[0m \u001B[32m━━━━━━━━━━━━━━━━━━━━\u001B[0m\u001B[37m\u001B[0m \u001B[1m1s\u001B[0m 561us/step - accuracy: 0.9637 - loss: 0.1217\n",
      "Epoch 78/100\n",
      "\u001B[1m1875/1875\u001B[0m \u001B[32m━━━━━━━━━━━━━━━━━━━━\u001B[0m\u001B[37m\u001B[0m \u001B[1m1s\u001B[0m 565us/step - accuracy: 0.9622 - loss: 0.1295\n",
      "Epoch 79/100\n",
      "\u001B[1m1875/1875\u001B[0m \u001B[32m━━━━━━━━━━━━━━━━━━━━\u001B[0m\u001B[37m\u001B[0m \u001B[1m1s\u001B[0m 563us/step - accuracy: 0.9639 - loss: 0.1255\n",
      "Epoch 80/100\n",
      "\u001B[1m1875/1875\u001B[0m \u001B[32m━━━━━━━━━━━━━━━━━━━━\u001B[0m\u001B[37m\u001B[0m \u001B[1m1s\u001B[0m 591us/step - accuracy: 0.9640 - loss: 0.1241\n",
      "Epoch 81/100\n",
      "\u001B[1m1875/1875\u001B[0m \u001B[32m━━━━━━━━━━━━━━━━━━━━\u001B[0m\u001B[37m\u001B[0m \u001B[1m1s\u001B[0m 572us/step - accuracy: 0.9654 - loss: 0.1185\n",
      "Epoch 82/100\n",
      "\u001B[1m1875/1875\u001B[0m \u001B[32m━━━━━━━━━━━━━━━━━━━━\u001B[0m\u001B[37m\u001B[0m \u001B[1m1s\u001B[0m 569us/step - accuracy: 0.9673 - loss: 0.1141\n",
      "Epoch 83/100\n",
      "\u001B[1m1875/1875\u001B[0m \u001B[32m━━━━━━━━━━━━━━━━━━━━\u001B[0m\u001B[37m\u001B[0m \u001B[1m1s\u001B[0m 569us/step - accuracy: 0.9652 - loss: 0.1183\n",
      "Epoch 84/100\n",
      "\u001B[1m1875/1875\u001B[0m \u001B[32m━━━━━━━━━━━━━━━━━━━━\u001B[0m\u001B[37m\u001B[0m \u001B[1m1s\u001B[0m 569us/step - accuracy: 0.9664 - loss: 0.1146\n",
      "Epoch 85/100\n",
      "\u001B[1m1875/1875\u001B[0m \u001B[32m━━━━━━━━━━━━━━━━━━━━\u001B[0m\u001B[37m\u001B[0m \u001B[1m1s\u001B[0m 586us/step - accuracy: 0.9658 - loss: 0.1155\n",
      "Epoch 86/100\n",
      "\u001B[1m1875/1875\u001B[0m \u001B[32m━━━━━━━━━━━━━━━━━━━━\u001B[0m\u001B[37m\u001B[0m \u001B[1m1s\u001B[0m 572us/step - accuracy: 0.9681 - loss: 0.1116\n",
      "Epoch 87/100\n",
      "\u001B[1m1875/1875\u001B[0m \u001B[32m━━━━━━━━━━━━━━━━━━━━\u001B[0m\u001B[37m\u001B[0m \u001B[1m1s\u001B[0m 586us/step - accuracy: 0.9668 - loss: 0.1175\n",
      "Epoch 88/100\n",
      "\u001B[1m1875/1875\u001B[0m \u001B[32m━━━━━━━━━━━━━━━━━━━━\u001B[0m\u001B[37m\u001B[0m \u001B[1m1s\u001B[0m 602us/step - accuracy: 0.9671 - loss: 0.1136\n",
      "Epoch 89/100\n",
      "\u001B[1m1875/1875\u001B[0m \u001B[32m━━━━━━━━━━━━━━━━━━━━\u001B[0m\u001B[37m\u001B[0m \u001B[1m1s\u001B[0m 580us/step - accuracy: 0.9692 - loss: 0.1078\n",
      "Epoch 90/100\n",
      "\u001B[1m1875/1875\u001B[0m \u001B[32m━━━━━━━━━━━━━━━━━━━━\u001B[0m\u001B[37m\u001B[0m \u001B[1m1s\u001B[0m 582us/step - accuracy: 0.9688 - loss: 0.1123\n",
      "Epoch 91/100\n",
      "\u001B[1m1875/1875\u001B[0m \u001B[32m━━━━━━━━━━━━━━━━━━━━\u001B[0m\u001B[37m\u001B[0m \u001B[1m1s\u001B[0m 574us/step - accuracy: 0.9689 - loss: 0.1094\n",
      "Epoch 92/100\n",
      "\u001B[1m1875/1875\u001B[0m \u001B[32m━━━━━━━━━━━━━━━━━━━━\u001B[0m\u001B[37m\u001B[0m \u001B[1m1s\u001B[0m 574us/step - accuracy: 0.9694 - loss: 0.1098\n",
      "Epoch 93/100\n",
      "\u001B[1m1875/1875\u001B[0m \u001B[32m━━━━━━━━━━━━━━━━━━━━\u001B[0m\u001B[37m\u001B[0m \u001B[1m1s\u001B[0m 575us/step - accuracy: 0.9684 - loss: 0.1161\n",
      "Epoch 94/100\n",
      "\u001B[1m1875/1875\u001B[0m \u001B[32m━━━━━━━━━━━━━━━━━━━━\u001B[0m\u001B[37m\u001B[0m \u001B[1m1s\u001B[0m 565us/step - accuracy: 0.9703 - loss: 0.1036\n",
      "Epoch 95/100\n",
      "\u001B[1m1875/1875\u001B[0m \u001B[32m━━━━━━━━━━━━━━━━━━━━\u001B[0m\u001B[37m\u001B[0m \u001B[1m1s\u001B[0m 567us/step - accuracy: 0.9696 - loss: 0.1081\n",
      "Epoch 96/100\n",
      "\u001B[1m1875/1875\u001B[0m \u001B[32m━━━━━━━━━━━━━━━━━━━━\u001B[0m\u001B[37m\u001B[0m \u001B[1m1s\u001B[0m 580us/step - accuracy: 0.9697 - loss: 0.1073\n",
      "Epoch 97/100\n",
      "\u001B[1m1875/1875\u001B[0m \u001B[32m━━━━━━━━━━━━━━━━━━━━\u001B[0m\u001B[37m\u001B[0m \u001B[1m1s\u001B[0m 605us/step - accuracy: 0.9708 - loss: 0.0997\n",
      "Epoch 98/100\n",
      "\u001B[1m1875/1875\u001B[0m \u001B[32m━━━━━━━━━━━━━━━━━━━━\u001B[0m\u001B[37m\u001B[0m \u001B[1m1s\u001B[0m 570us/step - accuracy: 0.9690 - loss: 0.1110\n",
      "Epoch 99/100\n",
      "\u001B[1m1875/1875\u001B[0m \u001B[32m━━━━━━━━━━━━━━━━━━━━\u001B[0m\u001B[37m\u001B[0m \u001B[1m1s\u001B[0m 574us/step - accuracy: 0.9695 - loss: 0.1092\n",
      "Epoch 100/100\n",
      "\u001B[1m1875/1875\u001B[0m \u001B[32m━━━━━━━━━━━━━━━━━━━━\u001B[0m\u001B[37m\u001B[0m \u001B[1m1s\u001B[0m 565us/step - accuracy: 0.9707 - loss: 0.1054\n"
     ]
    }
   ],
   "execution_count": 18
  },
  {
   "cell_type": "code",
   "metadata": {
    "colab": {
     "base_uri": "https://localhost:8080/"
    },
    "id": "9gRvyCb5yQ6i",
    "executionInfo": {
     "status": "ok",
     "timestamp": 1753250555085,
     "user_tz": -540,
     "elapsed": 8,
     "user": {
      "displayName": "고강태 강사",
      "userId": "11816854931407731745"
     }
    },
    "outputId": "1500c385-e78a-4454-ba3e-4a7dc3c1fef7",
    "ExecuteTime": {
     "end_time": "2025-07-24T10:18:01.736852Z",
     "start_time": "2025-07-24T10:18:01.730664Z"
    }
   },
   "source": [
    "history.history.keys()"
   ],
   "outputs": [
    {
     "data": {
      "text/plain": [
       "dict_keys(['accuracy', 'loss'])"
      ]
     },
     "execution_count": 19,
     "metadata": {},
     "output_type": "execute_result"
    }
   ],
   "execution_count": 19
  },
  {
   "cell_type": "code",
   "metadata": {
    "colab": {
     "base_uri": "https://localhost:8080/"
    },
    "id": "0lA0He3ayQ6i",
    "executionInfo": {
     "status": "ok",
     "timestamp": 1753250577397,
     "user_tz": -540,
     "elapsed": 943,
     "user": {
      "displayName": "고강태 강사",
      "userId": "11816854931407731745"
     }
    },
    "outputId": "a658a597-21be-44cd-b647-c99e3ff1daed",
    "ExecuteTime": {
     "end_time": "2025-07-24T10:18:02.594893Z",
     "start_time": "2025-07-24T10:18:01.786420Z"
    }
   },
   "source": [
    "# Test set\n",
    "print(\"Test 데이터로 모델 평가:\")\n",
    "\n",
    "loss, accuracy = model.evaluate(test_scaled, test_labels)\n",
    "\n",
    "print(f\"테스트 손실: {loss:.4f}\")\n",
    "print(f\"테스트 정확도: {accuracy:.4f}\")"
   ],
   "outputs": [
    {
     "name": "stdout",
     "output_type": "stream",
     "text": [
      "Test 데이터로 모델 평가:\n",
      "\u001B[1m313/313\u001B[0m \u001B[32m━━━━━━━━━━━━━━━━━━━━\u001B[0m\u001B[37m\u001B[0m \u001B[1m1s\u001B[0m 2ms/step - accuracy: 0.8804 - loss: 1.1043\n",
      "테스트 손실: 1.0983\n",
      "테스트 정확도: 0.8802\n"
     ]
    }
   ],
   "execution_count": 20
  },
  {
   "cell_type": "markdown",
   "metadata": {
    "id": "vHc04MayyQ6i"
   },
   "source": [
    "\n",
    "fit 에 반환되는 history 에는 `history.history` 딕트 속성에 손실/정확도 듣의 metircs 지표 값이 저장되어 있다."
   ]
  },
  {
   "cell_type": "code",
   "metadata": {
    "colab": {
     "base_uri": "https://localhost:8080/",
     "height": 393
    },
    "id": "mJ3u40T6yQ6j",
    "executionInfo": {
     "status": "ok",
     "timestamp": 1753250663166,
     "user_tz": -540,
     "elapsed": 275,
     "user": {
      "displayName": "고강태 강사",
      "userId": "11816854931407731745"
     }
    },
    "outputId": "80c1838a-3591-4d40-9faa-e85a810e1750",
    "ExecuteTime": {
     "end_time": "2025-07-24T10:18:02.782989Z",
     "start_time": "2025-07-24T10:18:02.601896Z"
    }
   },
   "source": [
    "# Fashion MNIST 분류 모델 학습 결과 시각화\n",
    "import matplotlib.pyplot as plt\n",
    "\n",
    "plt.figure(figsize=(12, 4))\n",
    "\n",
    "plt.subplot(1, 2, 1)\n",
    "plt.plot(history.history['loss'], 'b-', label='loss')\n",
    "\n",
    "plt.xlabel('Epoch')\n",
    "plt.legend()\n",
    "\n",
    "plt.subplot(1, 2, 2)\n",
    "plt.plot(history.history['accuracy'], 'g-', label='accuracy')\n",
    "\n",
    "plt.xlabel('Epoch')\n",
    "plt.ylim(0.7, 1)\n",
    "plt.legend()\n",
    "\n",
    "plt.show()"
   ],
   "outputs": [
    {
     "data": {
      "text/plain": [
       "<Figure size 1200x400 with 2 Axes>"
      ],
      "image/png": "[encoded data removed]"
     },
     "metadata": {},
     "output_type": "display_data"
    }
   ],
   "execution_count": 21
  },
  {
   "cell_type": "markdown",
   "metadata": {
    "id": "QeUvWNhjyQ6j"
   },
   "source": [
    "## (4) 예측"
   ]
  },
  {
   "cell_type": "markdown",
   "metadata": {
    "id": "2hVV7yqNyQ6j"
   },
   "source": [
    "#### -전체 테스트 데이터\n",
    "전체 테스트 데이터를 대상으로 예측을 수행하자"
   ]
  },
  {
   "cell_type": "code",
   "metadata": {
    "colab": {
     "base_uri": "https://localhost:8080/"
    },
    "id": "kEuHrjosyQ6j",
    "executionInfo": {
     "status": "ok",
     "timestamp": 1753250812151,
     "user_tz": -540,
     "elapsed": 801,
     "user": {
      "displayName": "고강태 강사",
      "userId": "11816854931407731745"
     }
    },
    "outputId": "e92ed88b-2331-4291-c874-58b6693da31f",
    "ExecuteTime": {
     "end_time": "2025-07-24T10:18:03.024038Z",
     "start_time": "2025-07-24T10:18:02.834573Z"
    }
   },
   "source": [
    "pred = model.predict(test_scaled)"
   ],
   "outputs": [
    {
     "name": "stdout",
     "output_type": "stream",
     "text": [
      "\u001B[1m313/313\u001B[0m \u001B[32m━━━━━━━━━━━━━━━━━━━━\u001B[0m\u001B[37m\u001B[0m \u001B[1m0s\u001B[0m 384us/step\n"
     ]
    }
   ],
   "execution_count": 22
  },
  {
   "cell_type": "markdown",
   "metadata": {
    "id": "FZGelhSRyQ6j"
   },
   "source": [
    "전체 테스트 데이터를 예측한 pred는 10개의 옷 품목에 상응하는 모델의 신뢰도(confidence) 이다"
   ]
  },
  {
   "cell_type": "code",
   "metadata": {
    "colab": {
     "base_uri": "https://localhost:8080/"
    },
    "id": "36LfjVZ1yQ6j",
    "executionInfo": {
     "status": "ok",
     "timestamp": 1753250826034,
     "user_tz": -540,
     "elapsed": 20,
     "user": {
      "displayName": "고강태 강사",
      "userId": "11816854931407731745"
     }
    },
    "outputId": "3606d7d2-c86a-4cd3-d5ff-cb185d25e261",
    "ExecuteTime": {
     "end_time": "2025-07-24T10:18:03.035177Z",
     "start_time": "2025-07-24T10:18:03.032598Z"
    }
   },
   "source": [
    "# 위치 0\n",
    "pred[0]"
   ],
   "outputs": [
    {
     "data": {
      "text/plain": [
       "array([0.0000000e+00, 0.0000000e+00, 0.0000000e+00, 1.7919111e-37,\n",
       "       0.0000000e+00, 1.6308202e-21, 0.0000000e+00, 2.5657122e-11,\n",
       "       1.7106116e-28, 1.0000000e+00], dtype=float32)"
      ]
     },
     "execution_count": 23,
     "metadata": {},
     "output_type": "execute_result"
    }
   ],
   "execution_count": 23
  },
  {
   "cell_type": "code",
   "metadata": {
    "colab": {
     "base_uri": "https://localhost:8080/"
    },
    "id": "h_nj-iNgyQ6j",
    "executionInfo": {
     "status": "ok",
     "timestamp": 1753250974373,
     "user_tz": -540,
     "elapsed": 8,
     "user": {
      "displayName": "고강태 강사",
      "userId": "11816854931407731745"
     }
    },
    "outputId": "93b7f7e8-0708-4b9f-abd8-39f106569464",
    "ExecuteTime": {
     "end_time": "2025-07-24T10:18:03.051032Z",
     "start_time": "2025-07-24T10:18:03.048455Z"
    }
   },
   "source": [
    "# 위치 0 argmax\n",
    "np.argmax(pred[100])"
   ],
   "outputs": [
    {
     "data": {
      "text/plain": [
       "3"
      ]
     },
     "execution_count": 24,
     "metadata": {},
     "output_type": "execute_result"
    }
   ],
   "execution_count": 24
  },
  {
   "cell_type": "code",
   "metadata": {
    "colab": {
     "base_uri": "https://localhost:8080/",
     "height": 35
    },
    "id": "w99vwvd7yQ6j",
    "executionInfo": {
     "status": "ok",
     "timestamp": 1753250988105,
     "user_tz": -540,
     "elapsed": 18,
     "user": {
      "displayName": "고강태 강사",
      "userId": "11816854931407731745"
     }
    },
    "outputId": "4e604910-239e-4938-c6ae-031ffa2ffbbf",
    "ExecuteTime": {
     "end_time": "2025-07-24T10:18:03.065072Z",
     "start_time": "2025-07-24T10:18:03.062631Z"
    }
   },
   "source": [
    "# 위치 0 class name\n",
    "class_names[np.argmax(pred[100])]"
   ],
   "outputs": [
    {
     "data": {
      "text/plain": [
       "'Dress'"
      ]
     },
     "execution_count": 25,
     "metadata": {},
     "output_type": "execute_result"
    }
   ],
   "execution_count": 25
  },
  {
   "cell_type": "code",
   "metadata": {
    "colab": {
     "base_uri": "https://localhost:8080/",
     "height": 291
    },
    "id": "L2ipCvJDyQ6j",
    "executionInfo": {
     "status": "ok",
     "timestamp": 1753250994838,
     "user_tz": -540,
     "elapsed": 134,
     "user": {
      "displayName": "고강태 강사",
      "userId": "11816854931407731745"
     }
    },
    "outputId": "8fa2d4a8-3386-4d9b-daa6-70082c6505fa",
    "ExecuteTime": {
     "end_time": "2025-07-24T10:18:03.131395Z",
     "start_time": "2025-07-24T10:18:03.078116Z"
    }
   },
   "source": [
    "i = 3\n",
    "plt.figure(figsize=(6,3))\n",
    "plt.subplot(1,2,1)\n",
    "plot_image(i, pred[i], test_labels, test_images)\n",
    "\n",
    "plt.subplot(1,2,2)\n",
    "plot_value_array(i, pred[i], test_labels)\n",
    "\n",
    "plt.show()"
   ],
   "outputs": [
    {
     "data": {
      "text/plain": [
       "<Figure size 600x300 with 2 Axes>"
      ],
      "image/png": "[encoded data removed]"
     },
     "metadata": {},
     "output_type": "display_data"
    }
   ],
   "execution_count": 26
  },
  {
   "cell_type": "markdown",
   "metadata": {
    "id": "rvpLOK_HyQ6n"
   },
   "source": [
    "## Validation"
   ]
  },
  {
   "cell_type": "markdown",
   "metadata": {
    "id": "hvqmMb1yyQ6n"
   },
   "source": [
    "### 훈련 / 검증세트 분할\n",
    "\n",
    " 사이킷런의 train_test_split() 함수로 훈련 세트와 검증 세트로 나눈다."
   ]
  },
  {
   "cell_type": "code",
   "metadata": {
    "id": "QXBPoyAUyQ6n",
    "executionInfo": {
     "status": "ok",
     "timestamp": 1753251070526,
     "user_tz": -540,
     "elapsed": 160,
     "user": {
      "displayName": "고강태 강사",
      "userId": "11816854931407731745"
     }
    },
    "ExecuteTime": {
     "end_time": "2025-07-24T10:18:03.198039Z",
     "start_time": "2025-07-24T10:18:03.149002Z"
    }
   },
   "source": [
    "from sklearn.model_selection import train_test_split\n",
    "\n",
    "train_scaled, val_scaled, train_labels, val_target = train_test_split(\n",
    "    train_scaled, train_labels, test_size=0.2, random_state=42)"
   ],
   "outputs": [],
   "execution_count": 27
  },
  {
   "cell_type": "code",
   "metadata": {
    "id": "T1LP5pOKyQ6n",
    "executionInfo": {
     "status": "ok",
     "timestamp": 1753251115817,
     "user_tz": -540,
     "elapsed": 42,
     "user": {
      "displayName": "고강태 강사",
      "userId": "11816854931407731745"
     }
    },
    "ExecuteTime": {
     "end_time": "2025-07-24T10:18:03.215437Z",
     "start_time": "2025-07-24T10:18:03.207925Z"
    }
   },
   "source": [
    "model2 = keras.Sequential([\n",
    "    keras.layers.Input((28,28)),\n",
    "    keras.layers.Flatten(),\n",
    "    keras.layers.Dense(128, activation='relu'),\n",
    "    keras.layers.Dense(10, activation='softmax')\n",
    "])"
   ],
   "outputs": [],
   "execution_count": 28
  },
  {
   "cell_type": "code",
   "metadata": {
    "colab": {
     "base_uri": "https://localhost:8080/",
     "height": 238
    },
    "id": "8xyJnzg-yQ6n",
    "executionInfo": {
     "status": "ok",
     "timestamp": 1753251118114,
     "user_tz": -540,
     "elapsed": 44,
     "user": {
      "displayName": "고강태 강사",
      "userId": "11816854931407731745"
     }
    },
    "outputId": "3222acf9-81d8-4648-8ffe-88748f30ef61",
    "ExecuteTime": {
     "end_time": "2025-07-24T10:18:03.233522Z",
     "start_time": "2025-07-24T10:18:03.224393Z"
    }
   },
   "source": [
    "model2.summary()"
   ],
   "outputs": [
    {
     "data": {
      "text/plain": [
       "\u001B[1mModel: \"sequential_1\"\u001B[0m\n"
      ],
      "text/html": [
       "<pre style=\"white-space:pre;overflow-x:auto;line-height:normal;font-family:Menlo,'DejaVu Sans Mono',consolas,'Courier New',monospace\"><span style=\"font-weight: bold\">Model: \"sequential_1\"</span>\n",
       "</pre>\n"
      ]
     },
     "metadata": {},
     "output_type": "display_data"
    },
    {
     "data": {
      "text/plain": [
       "┏━━━━━━━━━━━━━━━━━━━━━━━━━━━━━━━━━┳━━━━━━━━━━━━━━━━━━━━━━━━┳━━━━━━━━━━━━━━━┓\n",
       "┃\u001B[1m \u001B[0m\u001B[1mLayer (type)                   \u001B[0m\u001B[1m \u001B[0m┃\u001B[1m \u001B[0m\u001B[1mOutput Shape          \u001B[0m\u001B[1m \u001B[0m┃\u001B[1m \u001B[0m\u001B[1m      Param #\u001B[0m\u001B[1m \u001B[0m┃\n",
       "┡━━━━━━━━━━━━━━━━━━━━━━━━━━━━━━━━━╇━━━━━━━━━━━━━━━━━━━━━━━━╇━━━━━━━━━━━━━━━┩\n",
       "│ flatten_1 (\u001B[38;5;33mFlatten\u001B[0m)             │ (\u001B[38;5;45mNone\u001B[0m, \u001B[38;5;34m784\u001B[0m)            │             \u001B[38;5;34m0\u001B[0m │\n",
       "├─────────────────────────────────┼────────────────────────┼───────────────┤\n",
       "│ dense_2 (\u001B[38;5;33mDense\u001B[0m)                 │ (\u001B[38;5;45mNone\u001B[0m, \u001B[38;5;34m128\u001B[0m)            │       \u001B[38;5;34m100,480\u001B[0m │\n",
       "├─────────────────────────────────┼────────────────────────┼───────────────┤\n",
       "│ dense_3 (\u001B[38;5;33mDense\u001B[0m)                 │ (\u001B[38;5;45mNone\u001B[0m, \u001B[38;5;34m10\u001B[0m)             │         \u001B[38;5;34m1,290\u001B[0m │\n",
       "└─────────────────────────────────┴────────────────────────┴───────────────┘\n"
      ],
      "text/html": [
       "<pre style=\"white-space:pre;overflow-x:auto;line-height:normal;font-family:Menlo,'DejaVu Sans Mono',consolas,'Courier New',monospace\">┏━━━━━━━━━━━━━━━━━━━━━━━━━━━━━━━━━┳━━━━━━━━━━━━━━━━━━━━━━━━┳━━━━━━━━━━━━━━━┓\n",
       "┃<span style=\"font-weight: bold\"> Layer (type)                    </span>┃<span style=\"font-weight: bold\"> Output Shape           </span>┃<span style=\"font-weight: bold\">       Param # </span>┃\n",
       "┡━━━━━━━━━━━━━━━━━━━━━━━━━━━━━━━━━╇━━━━━━━━━━━━━━━━━━━━━━━━╇━━━━━━━━━━━━━━━┩\n",
       "│ flatten_1 (<span style=\"color: #0087ff; text-decoration-color: #0087ff\">Flatten</span>)             │ (<span style=\"color: #00d7ff; text-decoration-color: #00d7ff\">None</span>, <span style=\"color: #00af00; text-decoration-color: #00af00\">784</span>)            │             <span style=\"color: #00af00; text-decoration-color: #00af00\">0</span> │\n",
       "├─────────────────────────────────┼────────────────────────┼───────────────┤\n",
       "│ dense_2 (<span style=\"color: #0087ff; text-decoration-color: #0087ff\">Dense</span>)                 │ (<span style=\"color: #00d7ff; text-decoration-color: #00d7ff\">None</span>, <span style=\"color: #00af00; text-decoration-color: #00af00\">128</span>)            │       <span style=\"color: #00af00; text-decoration-color: #00af00\">100,480</span> │\n",
       "├─────────────────────────────────┼────────────────────────┼───────────────┤\n",
       "│ dense_3 (<span style=\"color: #0087ff; text-decoration-color: #0087ff\">Dense</span>)                 │ (<span style=\"color: #00d7ff; text-decoration-color: #00d7ff\">None</span>, <span style=\"color: #00af00; text-decoration-color: #00af00\">10</span>)             │         <span style=\"color: #00af00; text-decoration-color: #00af00\">1,290</span> │\n",
       "└─────────────────────────────────┴────────────────────────┴───────────────┘\n",
       "</pre>\n"
      ]
     },
     "metadata": {},
     "output_type": "display_data"
    },
    {
     "data": {
      "text/plain": [
       "\u001B[1m Total params: \u001B[0m\u001B[38;5;34m101,770\u001B[0m (397.54 KB)\n"
      ],
      "text/html": [
       "<pre style=\"white-space:pre;overflow-x:auto;line-height:normal;font-family:Menlo,'DejaVu Sans Mono',consolas,'Courier New',monospace\"><span style=\"font-weight: bold\"> Total params: </span><span style=\"color: #00af00; text-decoration-color: #00af00\">101,770</span> (397.54 KB)\n",
       "</pre>\n"
      ]
     },
     "metadata": {},
     "output_type": "display_data"
    },
    {
     "data": {
      "text/plain": [
       "\u001B[1m Trainable params: \u001B[0m\u001B[38;5;34m101,770\u001B[0m (397.54 KB)\n"
      ],
      "text/html": [
       "<pre style=\"white-space:pre;overflow-x:auto;line-height:normal;font-family:Menlo,'DejaVu Sans Mono',consolas,'Courier New',monospace\"><span style=\"font-weight: bold\"> Trainable params: </span><span style=\"color: #00af00; text-decoration-color: #00af00\">101,770</span> (397.54 KB)\n",
       "</pre>\n"
      ]
     },
     "metadata": {},
     "output_type": "display_data"
    },
    {
     "data": {
      "text/plain": [
       "\u001B[1m Non-trainable params: \u001B[0m\u001B[38;5;34m0\u001B[0m (0.00 B)\n"
      ],
      "text/html": [
       "<pre style=\"white-space:pre;overflow-x:auto;line-height:normal;font-family:Menlo,'DejaVu Sans Mono',consolas,'Courier New',monospace\"><span style=\"font-weight: bold\"> Non-trainable params: </span><span style=\"color: #00af00; text-decoration-color: #00af00\">0</span> (0.00 B)\n",
       "</pre>\n"
      ]
     },
     "metadata": {},
     "output_type": "display_data"
    }
   ],
   "execution_count": 29
  },
  {
   "cell_type": "code",
   "metadata": {
    "colab": {
     "base_uri": "https://localhost:8080/"
    },
    "id": "SnbC1gzgyQ6o",
    "executionInfo": {
     "status": "ok",
     "timestamp": 1753251404175,
     "user_tz": -540,
     "elapsed": 195237,
     "user": {
      "displayName": "고강태 강사",
      "userId": "11816854931407731745"
     }
    },
    "outputId": "cce2cb2b-3956-4381-955a-51a0b7d052a5",
    "ExecuteTime": {
     "end_time": "2025-07-24T10:18:28.333540Z",
     "start_time": "2025-07-24T10:18:03.259333Z"
    }
   },
   "source": [
    "model2.compile(loss='sparse_categorical_crossentropy', metrics=['accuracy'])\n",
    "\n",
    "# history2 = model2.fit(train_scaled, train_labels, epochs=30, validation_data=[val_scaled, val_target])\n",
    "history2 = model2.fit(train_scaled, train_labels, epochs=30, validation_split=.2)\n"
   ],
   "outputs": [
    {
     "name": "stdout",
     "output_type": "stream",
     "text": [
      "Epoch 1/30\n",
      "\u001B[1m1200/1200\u001B[0m \u001B[32m━━━━━━━━━━━━━━━━━━━━\u001B[0m\u001B[37m\u001B[0m \u001B[1m1s\u001B[0m 1ms/step - accuracy: 0.7647 - loss: 0.6786 - val_accuracy: 0.8380 - val_loss: 0.4371\n",
      "Epoch 2/30\n",
      "\u001B[1m1200/1200\u001B[0m \u001B[32m━━━━━━━━━━━━━━━━━━━━\u001B[0m\u001B[37m\u001B[0m \u001B[1m1s\u001B[0m 834us/step - accuracy: 0.8500 - loss: 0.4180 - val_accuracy: 0.8572 - val_loss: 0.3859\n",
      "Epoch 3/30\n",
      "\u001B[1m1200/1200\u001B[0m \u001B[32m━━━━━━━━━━━━━━━━━━━━\u001B[0m\u001B[37m\u001B[0m \u001B[1m1s\u001B[0m 901us/step - accuracy: 0.8733 - loss: 0.3637 - val_accuracy: 0.8667 - val_loss: 0.3674\n",
      "Epoch 4/30\n",
      "\u001B[1m1200/1200\u001B[0m \u001B[32m━━━━━━━━━━━━━━━━━━━━\u001B[0m\u001B[37m\u001B[0m \u001B[1m1s\u001B[0m 864us/step - accuracy: 0.8753 - loss: 0.3390 - val_accuracy: 0.8618 - val_loss: 0.3711\n",
      "Epoch 5/30\n",
      "\u001B[1m1200/1200\u001B[0m \u001B[32m━━━━━━━━━━━━━━━━━━━━\u001B[0m\u001B[37m\u001B[0m \u001B[1m1s\u001B[0m 679us/step - accuracy: 0.8836 - loss: 0.3198 - val_accuracy: 0.8720 - val_loss: 0.3550\n",
      "Epoch 6/30\n",
      "\u001B[1m1200/1200\u001B[0m \u001B[32m━━━━━━━━━━━━━━━━━━━━\u001B[0m\u001B[37m\u001B[0m \u001B[1m1s\u001B[0m 572us/step - accuracy: 0.8884 - loss: 0.3075 - val_accuracy: 0.8653 - val_loss: 0.3730\n",
      "Epoch 7/30\n",
      "\u001B[1m1200/1200\u001B[0m \u001B[32m━━━━━━━━━━━━━━━━━━━━\u001B[0m\u001B[37m\u001B[0m \u001B[1m1s\u001B[0m 652us/step - accuracy: 0.8967 - loss: 0.2945 - val_accuracy: 0.8742 - val_loss: 0.3559\n",
      "Epoch 8/30\n",
      "\u001B[1m1200/1200\u001B[0m \u001B[32m━━━━━━━━━━━━━━━━━━━━\u001B[0m\u001B[37m\u001B[0m \u001B[1m1s\u001B[0m 636us/step - accuracy: 0.8980 - loss: 0.2893 - val_accuracy: 0.8827 - val_loss: 0.3478\n",
      "Epoch 9/30\n",
      "\u001B[1m1200/1200\u001B[0m \u001B[32m━━━━━━━━━━━━━━━━━━━━\u001B[0m\u001B[37m\u001B[0m \u001B[1m1s\u001B[0m 657us/step - accuracy: 0.9024 - loss: 0.2759 - val_accuracy: 0.8739 - val_loss: 0.3754\n",
      "Epoch 10/30\n",
      "\u001B[1m1200/1200\u001B[0m \u001B[32m━━━━━━━━━━━━━━━━━━━━\u001B[0m\u001B[37m\u001B[0m \u001B[1m1s\u001B[0m 660us/step - accuracy: 0.9052 - loss: 0.2673 - val_accuracy: 0.8794 - val_loss: 0.3592\n",
      "Epoch 11/30\n",
      "\u001B[1m1200/1200\u001B[0m \u001B[32m━━━━━━━━━━━━━━━━━━━━\u001B[0m\u001B[37m\u001B[0m \u001B[1m1s\u001B[0m 673us/step - accuracy: 0.9093 - loss: 0.2577 - val_accuracy: 0.8865 - val_loss: 0.3473\n",
      "Epoch 12/30\n",
      "\u001B[1m1200/1200\u001B[0m \u001B[32m━━━━━━━━━━━━━━━━━━━━\u001B[0m\u001B[37m\u001B[0m \u001B[1m1s\u001B[0m 674us/step - accuracy: 0.9100 - loss: 0.2566 - val_accuracy: 0.8822 - val_loss: 0.3632\n",
      "Epoch 13/30\n",
      "\u001B[1m1200/1200\u001B[0m \u001B[32m━━━━━━━━━━━━━━━━━━━━\u001B[0m\u001B[37m\u001B[0m \u001B[1m1s\u001B[0m 651us/step - accuracy: 0.9114 - loss: 0.2481 - val_accuracy: 0.8801 - val_loss: 0.3804\n",
      "Epoch 14/30\n",
      "\u001B[1m1200/1200\u001B[0m \u001B[32m━━━━━━━━━━━━━━━━━━━━\u001B[0m\u001B[37m\u001B[0m \u001B[1m1s\u001B[0m 656us/step - accuracy: 0.9145 - loss: 0.2469 - val_accuracy: 0.8774 - val_loss: 0.4064\n",
      "Epoch 15/30\n",
      "\u001B[1m1200/1200\u001B[0m \u001B[32m━━━━━━━━━━━━━━━━━━━━\u001B[0m\u001B[37m\u001B[0m \u001B[1m1s\u001B[0m 657us/step - accuracy: 0.9188 - loss: 0.2370 - val_accuracy: 0.8792 - val_loss: 0.3816\n",
      "Epoch 16/30\n",
      "\u001B[1m1200/1200\u001B[0m \u001B[32m━━━━━━━━━━━━━━━━━━━━\u001B[0m\u001B[37m\u001B[0m \u001B[1m1s\u001B[0m 659us/step - accuracy: 0.9203 - loss: 0.2312 - val_accuracy: 0.8867 - val_loss: 0.3666\n",
      "Epoch 17/30\n",
      "\u001B[1m1200/1200\u001B[0m \u001B[32m━━━━━━━━━━━━━━━━━━━━\u001B[0m\u001B[37m\u001B[0m \u001B[1m1s\u001B[0m 658us/step - accuracy: 0.9221 - loss: 0.2277 - val_accuracy: 0.8813 - val_loss: 0.4183\n",
      "Epoch 18/30\n",
      "\u001B[1m1200/1200\u001B[0m \u001B[32m━━━━━━━━━━━━━━━━━━━━\u001B[0m\u001B[37m\u001B[0m \u001B[1m1s\u001B[0m 657us/step - accuracy: 0.9228 - loss: 0.2238 - val_accuracy: 0.8804 - val_loss: 0.3954\n",
      "Epoch 19/30\n",
      "\u001B[1m1200/1200\u001B[0m \u001B[32m━━━━━━━━━━━━━━━━━━━━\u001B[0m\u001B[37m\u001B[0m \u001B[1m1s\u001B[0m 654us/step - accuracy: 0.9243 - loss: 0.2149 - val_accuracy: 0.8809 - val_loss: 0.4110\n",
      "Epoch 20/30\n",
      "\u001B[1m1200/1200\u001B[0m \u001B[32m━━━━━━━━━━━━━━━━━━━━\u001B[0m\u001B[37m\u001B[0m \u001B[1m1s\u001B[0m 654us/step - accuracy: 0.9266 - loss: 0.2124 - val_accuracy: 0.8891 - val_loss: 0.4044\n",
      "Epoch 21/30\n",
      "\u001B[1m1200/1200\u001B[0m \u001B[32m━━━━━━━━━━━━━━━━━━━━\u001B[0m\u001B[37m\u001B[0m \u001B[1m1s\u001B[0m 655us/step - accuracy: 0.9261 - loss: 0.2129 - val_accuracy: 0.8896 - val_loss: 0.3928\n",
      "Epoch 22/30\n",
      "\u001B[1m1200/1200\u001B[0m \u001B[32m━━━━━━━━━━━━━━━━━━━━\u001B[0m\u001B[37m\u001B[0m \u001B[1m1s\u001B[0m 658us/step - accuracy: 0.9299 - loss: 0.2063 - val_accuracy: 0.8846 - val_loss: 0.4176\n",
      "Epoch 23/30\n",
      "\u001B[1m1200/1200\u001B[0m \u001B[32m━━━━━━━━━━━━━━━━━━━━\u001B[0m\u001B[37m\u001B[0m \u001B[1m1s\u001B[0m 654us/step - accuracy: 0.9313 - loss: 0.1982 - val_accuracy: 0.8865 - val_loss: 0.4231\n",
      "Epoch 24/30\n",
      "\u001B[1m1200/1200\u001B[0m \u001B[32m━━━━━━━━━━━━━━━━━━━━\u001B[0m\u001B[37m\u001B[0m \u001B[1m1s\u001B[0m 660us/step - accuracy: 0.9330 - loss: 0.1972 - val_accuracy: 0.8832 - val_loss: 0.4682\n",
      "Epoch 25/30\n",
      "\u001B[1m1200/1200\u001B[0m \u001B[32m━━━━━━━━━━━━━━━━━━━━\u001B[0m\u001B[37m\u001B[0m \u001B[1m1s\u001B[0m 643us/step - accuracy: 0.9335 - loss: 0.1905 - val_accuracy: 0.8861 - val_loss: 0.4165\n",
      "Epoch 26/30\n",
      "\u001B[1m1200/1200\u001B[0m \u001B[32m━━━━━━━━━━━━━━━━━━━━\u001B[0m\u001B[37m\u001B[0m \u001B[1m1s\u001B[0m 640us/step - accuracy: 0.9352 - loss: 0.1889 - val_accuracy: 0.8857 - val_loss: 0.4565\n",
      "Epoch 27/30\n",
      "\u001B[1m1200/1200\u001B[0m \u001B[32m━━━━━━━━━━━━━━━━━━━━\u001B[0m\u001B[37m\u001B[0m \u001B[1m1s\u001B[0m 651us/step - accuracy: 0.9361 - loss: 0.1826 - val_accuracy: 0.8791 - val_loss: 0.4571\n",
      "Epoch 28/30\n",
      "\u001B[1m1200/1200\u001B[0m \u001B[32m━━━━━━━━━━━━━━━━━━━━\u001B[0m\u001B[37m\u001B[0m \u001B[1m1s\u001B[0m 651us/step - accuracy: 0.9376 - loss: 0.1823 - val_accuracy: 0.8848 - val_loss: 0.4514\n",
      "Epoch 29/30\n",
      "\u001B[1m1200/1200\u001B[0m \u001B[32m━━━━━━━━━━━━━━━━━━━━\u001B[0m\u001B[37m\u001B[0m \u001B[1m1s\u001B[0m 651us/step - accuracy: 0.9405 - loss: 0.1773 - val_accuracy: 0.8811 - val_loss: 0.4706\n",
      "Epoch 30/30\n",
      "\u001B[1m1200/1200\u001B[0m \u001B[32m━━━━━━━━━━━━━━━━━━━━\u001B[0m\u001B[37m\u001B[0m \u001B[1m1s\u001B[0m 649us/step - accuracy: 0.9422 - loss: 0.1688 - val_accuracy: 0.8804 - val_loss: 0.4906\n"
     ]
    }
   ],
   "execution_count": 30
  },
  {
   "cell_type": "code",
   "metadata": {
    "colab": {
     "base_uri": "https://localhost:8080/"
    },
    "id": "WoiU7HxKyQ6o",
    "executionInfo": {
     "status": "ok",
     "timestamp": 1753251426199,
     "user_tz": -540,
     "elapsed": 977,
     "user": {
      "displayName": "고강태 강사",
      "userId": "11816854931407731745"
     }
    },
    "outputId": "2ac78657-b527-43e0-8270-c124f540b383",
    "ExecuteTime": {
     "end_time": "2025-07-24T10:18:28.577698Z",
     "start_time": "2025-07-24T10:18:28.393858Z"
    }
   },
   "source": [
    "# Test set\n",
    "print(\"model2 Test 데이터로 모델 평가:\")\n",
    "\n",
    "loss, accuracy = model2.evaluate(test_scaled, test_labels)\n",
    "\n",
    "print(f\"테스트 손실: {loss:.4f}\")\n",
    "print(f\"테스트 정확도: {accuracy:.4f}\")"
   ],
   "outputs": [
    {
     "name": "stdout",
     "output_type": "stream",
     "text": [
      "model2 Test 데이터로 모델 평가:\n",
      "\u001B[1m313/313\u001B[0m \u001B[32m━━━━━━━━━━━━━━━━━━━━\u001B[0m\u001B[37m\u001B[0m \u001B[1m0s\u001B[0m 389us/step - accuracy: 0.8730 - loss: 0.5535\n",
      "테스트 손실: 0.5427\n",
      "테스트 정확도: 0.8716\n"
     ]
    }
   ],
   "execution_count": 31
  },
  {
   "cell_type": "code",
   "metadata": {
    "colab": {
     "base_uri": "https://localhost:8080/",
     "height": 393
    },
    "id": "cv467wgjyQ6o",
    "executionInfo": {
     "status": "ok",
     "timestamp": 1753251625705,
     "user_tz": -540,
     "elapsed": 306,
     "user": {
      "displayName": "고강태 강사",
      "userId": "11816854931407731745"
     }
    },
    "outputId": "6598c672-0a08-43ff-e384-28964607cfba",
    "ExecuteTime": {
     "end_time": "2025-07-24T10:18:28.688219Z",
     "start_time": "2025-07-24T10:18:28.587601Z"
    }
   },
   "source": [
    "# Fashion MNIST 분류 모델 학습 결과 시각화\n",
    "import matplotlib.pyplot as plt\n",
    "\n",
    "plt.figure(figsize=(12, 4))\n",
    "\n",
    "plt.subplot(1, 2, 1)\n",
    "plt.plot(history2.history['loss'], 'b-', label='loss')\n",
    "plt.plot(history2.history['val_loss'], 'r--', label='val_loss')\n",
    "plt.xlabel('Epoch')\n",
    "plt.legend()\n",
    "\n",
    "plt.subplot(1, 2, 2)\n",
    "plt.plot(history2.history['accuracy'], 'g-', label='accuracy')\n",
    "plt.plot(history2.history['val_accuracy'], 'k--', label='val_accuracy')\n",
    "plt.xlabel('Epoch')\n",
    "plt.ylim(0.7, 1)\n",
    "plt.legend()\n",
    "\n",
    "plt.show()"
   ],
   "outputs": [
    {
     "data": {
      "text/plain": [
       "<Figure size 1200x400 with 2 Axes>"
      ],
      "image/png": "[encoded data removed]"
     },
     "metadata": {},
     "output_type": "display_data"
    }
   ],
   "execution_count": 32
  },
  {
   "cell_type": "markdown",
   "metadata": {
    "id": "ePW8vhMuyQ6o"
   },
   "source": [
    "### 예측"
   ]
  },
  {
   "cell_type": "code",
   "metadata": {
    "colab": {
     "base_uri": "https://localhost:8080/"
    },
    "id": "hegJJXRJyQ6o",
    "executionInfo": {
     "status": "ok",
     "timestamp": 1753252056271,
     "user_tz": -540,
     "elapsed": 9,
     "user": {
      "displayName": "고강태 강사",
      "userId": "11816854931407731745"
     }
    },
    "outputId": "5408c22c-8bbd-4e0a-c1d7-51fd9ff69a24",
    "ExecuteTime": {
     "end_time": "2025-07-24T10:18:28.700947Z",
     "start_time": "2025-07-24T10:18:28.698973Z"
    }
   },
   "source": [
    "img = test_images[100]\n",
    "img.shape"
   ],
   "outputs": [
    {
     "data": {
      "text/plain": [
       "(28, 28)"
      ]
     },
     "execution_count": 33,
     "metadata": {},
     "output_type": "execute_result"
    }
   ],
   "execution_count": 33
  },
  {
   "cell_type": "code",
   "metadata": {
    "colab": {
     "base_uri": "https://localhost:8080/",
     "height": 430
    },
    "id": "VyJDUKStyQ6o",
    "executionInfo": {
     "status": "ok",
     "timestamp": 1753252065098,
     "user_tz": -540,
     "elapsed": 174,
     "user": {
      "displayName": "고강태 강사",
      "userId": "11816854931407731745"
     }
    },
    "outputId": "fd2b32a5-de20-4261-9f81-5189edcd78e2",
    "ExecuteTime": {
     "end_time": "2025-07-24T10:18:28.779304Z",
     "start_time": "2025-07-24T10:18:28.720678Z"
    }
   },
   "source": [
    "plot_img(img)"
   ],
   "outputs": [
    {
     "data": {
      "text/plain": [
       "<Figure size 640x480 with 2 Axes>"
      ],
      "image/png": "[encoded data removed]"
     },
     "metadata": {},
     "output_type": "display_data"
    }
   ],
   "execution_count": 34
  },
  {
   "cell_type": "markdown",
   "metadata": {
    "id": "7JSVzYfYyQ6o"
   },
   "source": []
  },
  {
   "cell_type": "code",
   "source": [
    "img.reshape(-1, 28, 28).shape"
   ],
   "metadata": {
    "colab": {
     "base_uri": "https://localhost:8080/"
    },
    "id": "AYH5z-VF9LfT",
    "executionInfo": {
     "status": "ok",
     "timestamp": 1753251900298,
     "user_tz": -540,
     "elapsed": 39,
     "user": {
      "displayName": "고강태 강사",
      "userId": "11816854931407731745"
     }
    },
    "outputId": "6fc542bc-7966-44ff-8b7d-fe5fe9878b27",
    "ExecuteTime": {
     "end_time": "2025-07-24T10:18:28.797441Z",
     "start_time": "2025-07-24T10:18:28.794422Z"
    }
   },
   "outputs": [
    {
     "data": {
      "text/plain": [
       "(1, 28, 28)"
      ]
     },
     "execution_count": 35,
     "metadata": {},
     "output_type": "execute_result"
    }
   ],
   "execution_count": 35
  },
  {
   "cell_type": "code",
   "metadata": {
    "colab": {
     "base_uri": "https://localhost:8080/"
    },
    "id": "w9STQ_GyyQ6o",
    "executionInfo": {
     "status": "ok",
     "timestamp": 1753252076685,
     "user_tz": -540,
     "elapsed": 44,
     "user": {
      "displayName": "고강태 강사",
      "userId": "11816854931407731745"
     }
    },
    "outputId": "6d68c15d-d874-4490-9d11-00edc6f20b69",
    "ExecuteTime": {
     "end_time": "2025-07-24T10:18:28.812524Z",
     "start_time": "2025-07-24T10:18:28.809999Z"
    }
   },
   "source": [
    "img = np.expand_dims(img, axis=0)\n",
    "img.shape"
   ],
   "outputs": [
    {
     "data": {
      "text/plain": [
       "(1, 28, 28)"
      ]
     },
     "execution_count": 36,
     "metadata": {},
     "output_type": "execute_result"
    }
   ],
   "execution_count": 36
  },
  {
   "cell_type": "markdown",
   "metadata": {
    "id": "MuChqGyTyQ6p"
   },
   "source": [
    "예측 모델을 사용해서 선택한 샘플 이미지가 무엇인지 예측을 수행한다. `tf.keras.Model.predict` 는 데이터 배치의 각 이미지에 대해 하나의 목록씩 목록의 목록을 반환합니다. 배치에서 (유일한) 이미지에 대한 예측을 가져옵니다."
   ]
  },
  {
   "cell_type": "code",
   "metadata": {
    "colab": {
     "base_uri": "https://localhost:8080/"
    },
    "id": "kE1iOvStyQ6p",
    "executionInfo": {
     "status": "ok",
     "timestamp": 1753252082667,
     "user_tz": -540,
     "elapsed": 151,
     "user": {
      "displayName": "고강태 강사",
      "userId": "11816854931407731745"
     }
    },
    "outputId": "9c011d43-3d96-4337-8448-4ae3d632c286",
    "ExecuteTime": {
     "end_time": "2025-07-24T10:18:28.859503Z",
     "start_time": "2025-07-24T10:18:28.828468Z"
    }
   },
   "source": [
    "pred1 = model2.predict(img)\n",
    "pred1"
   ],
   "outputs": [
    {
     "name": "stdout",
     "output_type": "stream",
     "text": [
      "\u001B[1m1/1\u001B[0m \u001B[32m━━━━━━━━━━━━━━━━━━━━\u001B[0m\u001B[37m\u001B[0m \u001B[1m0s\u001B[0m 17ms/step\n"
     ]
    },
    {
     "data": {
      "text/plain": [
       "array([[0., 0., 0., 1., 0., 0., 0., 0., 0., 0.]], dtype=float32)"
      ]
     },
     "execution_count": 37,
     "metadata": {},
     "output_type": "execute_result"
    }
   ],
   "execution_count": 37
  },
  {
   "cell_type": "code",
   "metadata": {
    "id": "0VYSXpwAyQ6p",
    "outputId": "79b5416c-2a14-415c-a5fc-4537dd9942de",
    "ExecuteTime": {
     "end_time": "2025-07-24T10:18:28.886225Z",
     "start_time": "2025-07-24T10:18:28.885173Z"
    }
   },
   "source": [],
   "outputs": [],
   "execution_count": null
  },
  {
   "cell_type": "code",
   "metadata": {
    "colab": {
     "base_uri": "https://localhost:8080/",
     "height": 35
    },
    "id": "S_V3BvDHyQ6p",
    "executionInfo": {
     "status": "ok",
     "timestamp": 1753252088536,
     "user_tz": -540,
     "elapsed": 20,
     "user": {
      "displayName": "고강태 강사",
      "userId": "11816854931407731745"
     }
    },
    "outputId": "affea869-7ea3-407e-b758-5a23314172a4",
    "ExecuteTime": {
     "end_time": "2025-07-24T10:18:28.925512Z",
     "start_time": "2025-07-24T10:18:28.923674Z"
    }
   },
   "source": [
    "class_names[np.argmax(pred1[0])]"
   ],
   "outputs": [
    {
     "data": {
      "text/plain": [
       "'Dress'"
      ]
     },
     "execution_count": 38,
     "metadata": {},
     "output_type": "execute_result"
    }
   ],
   "execution_count": 38
  },
  {
   "cell_type": "markdown",
   "metadata": {
    "id": "e7RNk0AcyQ6p"
   },
   "source": [
    "# 실습\n",
    "\n",
    "은닉층을 하나 더 추가해 성능 향상이 있는지 알아보자"
   ]
  },
  {
   "cell_type": "code",
   "metadata": {
    "id": "TrDWTp_pyQ6p",
    "executionInfo": {
     "status": "ok",
     "timestamp": 1753252258830,
     "user_tz": -540,
     "elapsed": 47,
     "user": {
      "displayName": "고강태 강사",
      "userId": "11816854931407731745"
     }
    },
    "ExecuteTime": {
     "end_time": "2025-07-24T10:18:28.956090Z",
     "start_time": "2025-07-24T10:18:28.946395Z"
    }
   },
   "source": [
    "model3 = keras.Sequential([\n",
    "    keras.layers.Input((28,28)),\n",
    "    keras.layers.Flatten(),\n",
    "    keras.layers.Dense(128, activation='relu'),\n",
    "    keras.layers.Dense(156, activation='relu'),\n",
    "    keras.layers.Dense(10, activation='softmax')\n",
    "])"
   ],
   "outputs": [],
   "execution_count": 39
  },
  {
   "cell_type": "code",
   "metadata": {
    "colab": {
     "base_uri": "https://localhost:8080/"
    },
    "id": "wAvi3sNnyQ6p",
    "executionInfo": {
     "status": "ok",
     "timestamp": 1753252493582,
     "user_tz": -540,
     "elapsed": 210272,
     "user": {
      "displayName": "고강태 강사",
      "userId": "11816854931407731745"
     }
    },
    "outputId": "e1624a3e-4af6-4acf-b4b5-9dcfe6da638f",
    "ExecuteTime": {
     "end_time": "2025-07-24T10:18:56.801645Z",
     "start_time": "2025-07-24T10:18:28.969797Z"
    }
   },
   "source": [
    "model3.compile(loss='sparse_categorical_crossentropy', metrics=['accuracy'])\n",
    "history3 = model3.fit(train_scaled, train_labels, epochs=30, validation_split=.2)"
   ],
   "outputs": [
    {
     "name": "stdout",
     "output_type": "stream",
     "text": [
      "Epoch 1/30\n",
      "\u001B[1m1200/1200\u001B[0m \u001B[32m━━━━━━━━━━━━━━━━━━━━\u001B[0m\u001B[37m\u001B[0m \u001B[1m1s\u001B[0m 845us/step - accuracy: 0.7550 - loss: 0.6844 - val_accuracy: 0.8388 - val_loss: 0.4345\n",
      "Epoch 2/30\n",
      "\u001B[1m1200/1200\u001B[0m \u001B[32m━━━━━━━━━━━━━━━━━━━━\u001B[0m\u001B[37m\u001B[0m \u001B[1m1s\u001B[0m 732us/step - accuracy: 0.8531 - loss: 0.4033 - val_accuracy: 0.8500 - val_loss: 0.4147\n",
      "Epoch 3/30\n",
      "\u001B[1m1200/1200\u001B[0m \u001B[32m━━━━━━━━━━━━━━━━━━━━\u001B[0m\u001B[37m\u001B[0m \u001B[1m1s\u001B[0m 710us/step - accuracy: 0.8718 - loss: 0.3543 - val_accuracy: 0.8696 - val_loss: 0.3666\n",
      "Epoch 4/30\n",
      "\u001B[1m1200/1200\u001B[0m \u001B[32m━━━━━━━━━━━━━━━━━━━━\u001B[0m\u001B[37m\u001B[0m \u001B[1m1s\u001B[0m 713us/step - accuracy: 0.8772 - loss: 0.3401 - val_accuracy: 0.8755 - val_loss: 0.3487\n",
      "Epoch 5/30\n",
      "\u001B[1m1200/1200\u001B[0m \u001B[32m━━━━━━━━━━━━━━━━━━━━\u001B[0m\u001B[37m\u001B[0m \u001B[1m1s\u001B[0m 707us/step - accuracy: 0.8825 - loss: 0.3257 - val_accuracy: 0.8772 - val_loss: 0.3694\n",
      "Epoch 6/30\n",
      "\u001B[1m1200/1200\u001B[0m \u001B[32m━━━━━━━━━━━━━━━━━━━━\u001B[0m\u001B[37m\u001B[0m \u001B[1m1s\u001B[0m 716us/step - accuracy: 0.8899 - loss: 0.3095 - val_accuracy: 0.8721 - val_loss: 0.3839\n",
      "Epoch 7/30\n",
      "\u001B[1m1200/1200\u001B[0m \u001B[32m━━━━━━━━━━━━━━━━━━━━\u001B[0m\u001B[37m\u001B[0m \u001B[1m1s\u001B[0m 735us/step - accuracy: 0.8894 - loss: 0.3020 - val_accuracy: 0.8834 - val_loss: 0.3576\n",
      "Epoch 8/30\n",
      "\u001B[1m1200/1200\u001B[0m \u001B[32m━━━━━━━━━━━━━━━━━━━━\u001B[0m\u001B[37m\u001B[0m \u001B[1m1s\u001B[0m 744us/step - accuracy: 0.8934 - loss: 0.2963 - val_accuracy: 0.8730 - val_loss: 0.3826\n",
      "Epoch 9/30\n",
      "\u001B[1m1200/1200\u001B[0m \u001B[32m━━━━━━━━━━━━━━━━━━━━\u001B[0m\u001B[37m\u001B[0m \u001B[1m1s\u001B[0m 785us/step - accuracy: 0.8938 - loss: 0.2966 - val_accuracy: 0.8789 - val_loss: 0.3850\n",
      "Epoch 10/30\n",
      "\u001B[1m1200/1200\u001B[0m \u001B[32m━━━━━━━━━━━━━━━━━━━━\u001B[0m\u001B[37m\u001B[0m \u001B[1m1s\u001B[0m 776us/step - accuracy: 0.8986 - loss: 0.2877 - val_accuracy: 0.8760 - val_loss: 0.4244\n",
      "Epoch 11/30\n",
      "\u001B[1m1200/1200\u001B[0m \u001B[32m━━━━━━━━━━━━━━━━━━━━\u001B[0m\u001B[37m\u001B[0m \u001B[1m1s\u001B[0m 777us/step - accuracy: 0.9031 - loss: 0.2795 - val_accuracy: 0.8741 - val_loss: 0.4076\n",
      "Epoch 12/30\n",
      "\u001B[1m1200/1200\u001B[0m \u001B[32m━━━━━━━━━━━━━━━━━━━━\u001B[0m\u001B[37m\u001B[0m \u001B[1m1s\u001B[0m 778us/step - accuracy: 0.9007 - loss: 0.2814 - val_accuracy: 0.8811 - val_loss: 0.3955\n",
      "Epoch 13/30\n",
      "\u001B[1m1200/1200\u001B[0m \u001B[32m━━━━━━━━━━━━━━━━━━━━\u001B[0m\u001B[37m\u001B[0m \u001B[1m1s\u001B[0m 793us/step - accuracy: 0.9039 - loss: 0.2778 - val_accuracy: 0.8826 - val_loss: 0.4203\n",
      "Epoch 14/30\n",
      "\u001B[1m1200/1200\u001B[0m \u001B[32m━━━━━━━━━━━━━━━━━━━━\u001B[0m\u001B[37m\u001B[0m \u001B[1m1s\u001B[0m 781us/step - accuracy: 0.9056 - loss: 0.2721 - val_accuracy: 0.8746 - val_loss: 0.4797\n",
      "Epoch 15/30\n",
      "\u001B[1m1200/1200\u001B[0m \u001B[32m━━━━━━━━━━━━━━━━━━━━\u001B[0m\u001B[37m\u001B[0m \u001B[1m1s\u001B[0m 784us/step - accuracy: 0.9064 - loss: 0.2646 - val_accuracy: 0.8850 - val_loss: 0.4566\n",
      "Epoch 16/30\n",
      "\u001B[1m1200/1200\u001B[0m \u001B[32m━━━━━━━━━━━━━━━━━━━━\u001B[0m\u001B[37m\u001B[0m \u001B[1m1s\u001B[0m 764us/step - accuracy: 0.9095 - loss: 0.2620 - val_accuracy: 0.8800 - val_loss: 0.4702\n",
      "Epoch 17/30\n",
      "\u001B[1m1200/1200\u001B[0m \u001B[32m━━━━━━━━━━━━━━━━━━━━\u001B[0m\u001B[37m\u001B[0m \u001B[1m1s\u001B[0m 787us/step - accuracy: 0.9056 - loss: 0.2651 - val_accuracy: 0.8729 - val_loss: 0.4461\n",
      "Epoch 18/30\n",
      "\u001B[1m1200/1200\u001B[0m \u001B[32m━━━━━━━━━━━━━━━━━━━━\u001B[0m\u001B[37m\u001B[0m \u001B[1m1s\u001B[0m 781us/step - accuracy: 0.9100 - loss: 0.2586 - val_accuracy: 0.8801 - val_loss: 0.4871\n",
      "Epoch 19/30\n",
      "\u001B[1m1200/1200\u001B[0m \u001B[32m━━━━━━━━━━━━━━━━━━━━\u001B[0m\u001B[37m\u001B[0m \u001B[1m1s\u001B[0m 769us/step - accuracy: 0.9144 - loss: 0.2518 - val_accuracy: 0.8801 - val_loss: 0.4545\n",
      "Epoch 20/30\n",
      "\u001B[1m1200/1200\u001B[0m \u001B[32m━━━━━━━━━━━━━━━━━━━━\u001B[0m\u001B[37m\u001B[0m \u001B[1m1s\u001B[0m 748us/step - accuracy: 0.9129 - loss: 0.2543 - val_accuracy: 0.8824 - val_loss: 0.5001\n",
      "Epoch 21/30\n",
      "\u001B[1m1200/1200\u001B[0m \u001B[32m━━━━━━━━━━━━━━━━━━━━\u001B[0m\u001B[37m\u001B[0m \u001B[1m1s\u001B[0m 780us/step - accuracy: 0.9146 - loss: 0.2517 - val_accuracy: 0.8788 - val_loss: 0.5147\n",
      "Epoch 22/30\n",
      "\u001B[1m1200/1200\u001B[0m \u001B[32m━━━━━━━━━━━━━━━━━━━━\u001B[0m\u001B[37m\u001B[0m \u001B[1m1s\u001B[0m 779us/step - accuracy: 0.9139 - loss: 0.2429 - val_accuracy: 0.8639 - val_loss: 0.5638\n",
      "Epoch 23/30\n",
      "\u001B[1m1200/1200\u001B[0m \u001B[32m━━━━━━━━━━━━━━━━━━━━\u001B[0m\u001B[37m\u001B[0m \u001B[1m1s\u001B[0m 773us/step - accuracy: 0.9187 - loss: 0.2430 - val_accuracy: 0.8794 - val_loss: 0.5810\n",
      "Epoch 24/30\n",
      "\u001B[1m1200/1200\u001B[0m \u001B[32m━━━━━━━━━━━━━━━━━━━━\u001B[0m\u001B[37m\u001B[0m \u001B[1m1s\u001B[0m 764us/step - accuracy: 0.9142 - loss: 0.2466 - val_accuracy: 0.8809 - val_loss: 0.5560\n",
      "Epoch 25/30\n",
      "\u001B[1m1200/1200\u001B[0m \u001B[32m━━━━━━━━━━━━━━━━━━━━\u001B[0m\u001B[37m\u001B[0m \u001B[1m1s\u001B[0m 758us/step - accuracy: 0.9207 - loss: 0.2368 - val_accuracy: 0.8694 - val_loss: 0.5833\n",
      "Epoch 26/30\n",
      "\u001B[1m1200/1200\u001B[0m \u001B[32m━━━━━━━━━━━━━━━━━━━━\u001B[0m\u001B[37m\u001B[0m \u001B[1m1s\u001B[0m 759us/step - accuracy: 0.9212 - loss: 0.2394 - val_accuracy: 0.8834 - val_loss: 0.5533\n",
      "Epoch 27/30\n",
      "\u001B[1m1200/1200\u001B[0m \u001B[32m━━━━━━━━━━━━━━━━━━━━\u001B[0m\u001B[37m\u001B[0m \u001B[1m1s\u001B[0m 756us/step - accuracy: 0.9217 - loss: 0.2330 - val_accuracy: 0.8687 - val_loss: 0.5396\n",
      "Epoch 28/30\n",
      "\u001B[1m1200/1200\u001B[0m \u001B[32m━━━━━━━━━━━━━━━━━━━━\u001B[0m\u001B[37m\u001B[0m \u001B[1m1s\u001B[0m 765us/step - accuracy: 0.9203 - loss: 0.2323 - val_accuracy: 0.8695 - val_loss: 0.5710\n",
      "Epoch 29/30\n",
      "\u001B[1m1200/1200\u001B[0m \u001B[32m━━━━━━━━━━━━━━━━━━━━\u001B[0m\u001B[37m\u001B[0m \u001B[1m1s\u001B[0m 764us/step - accuracy: 0.9237 - loss: 0.2306 - val_accuracy: 0.8834 - val_loss: 0.5752\n",
      "Epoch 30/30\n",
      "\u001B[1m1200/1200\u001B[0m \u001B[32m━━━━━━━━━━━━━━━━━━━━\u001B[0m\u001B[37m\u001B[0m \u001B[1m1s\u001B[0m 751us/step - accuracy: 0.9243 - loss: 0.2269 - val_accuracy: 0.8804 - val_loss: 0.6233\n"
     ]
    }
   ],
   "execution_count": 40
  },
  {
   "cell_type": "code",
   "metadata": {
    "colab": {
     "base_uri": "https://localhost:8080/"
    },
    "id": "Y-xDNZO_yQ6p",
    "executionInfo": {
     "status": "ok",
     "timestamp": 1753252633697,
     "user_tz": -540,
     "elapsed": 2355,
     "user": {
      "displayName": "고강태 강사",
      "userId": "11816854931407731745"
     }
    },
    "outputId": "56642821-fdfe-4d48-e3b3-e3e82bbf3620",
    "ExecuteTime": {
     "end_time": "2025-07-24T10:18:57.027028Z",
     "start_time": "2025-07-24T10:18:56.853302Z"
    }
   },
   "source": [
    "print(\"model3 Test 데이터로 모델 평가:\")\n",
    "loss, accuracy = model3.evaluate(test_scaled, test_labels)\n",
    "print(f\"테스트 손실: {loss:.4f}\")\n",
    "print(f\"테스트 정확도: {accuracy:.4f}\")"
   ],
   "outputs": [
    {
     "name": "stdout",
     "output_type": "stream",
     "text": [
      "model3 Test 데이터로 모델 평가:\n",
      "\u001B[1m313/313\u001B[0m \u001B[32m━━━━━━━━━━━━━━━━━━━━\u001B[0m\u001B[37m\u001B[0m \u001B[1m0s\u001B[0m 372us/step - accuracy: 0.8729 - loss: 0.6427\n",
      "테스트 손실: 0.6548\n",
      "테스트 정확도: 0.8740\n"
     ]
    }
   ],
   "execution_count": 41
  },
  {
   "cell_type": "code",
   "metadata": {
    "colab": {
     "base_uri": "https://localhost:8080/",
     "height": 393
    },
    "id": "qB1LxO1eyQ6p",
    "executionInfo": {
     "status": "ok",
     "timestamp": 1753252659508,
     "user_tz": -540,
     "elapsed": 391,
     "user": {
      "displayName": "고강태 강사",
      "userId": "11816854931407731745"
     }
    },
    "outputId": "c03f7be3-bb06-44a4-bb54-9b6592f9f2f4",
    "ExecuteTime": {
     "end_time": "2025-07-24T10:18:57.131358Z",
     "start_time": "2025-07-24T10:18:57.037143Z"
    }
   },
   "source": [
    "# Fashion MNIST 분류 모델 학습 결과 시각화\n",
    "import matplotlib.pyplot as plt\n",
    "\n",
    "plt.figure(figsize=(12, 4))\n",
    "\n",
    "plt.subplot(1, 2, 1)\n",
    "plt.plot(history3.history['loss'], 'b-', label='loss')\n",
    "plt.plot(history3.history['val_loss'], 'r--', label='val_loss')\n",
    "plt.xlabel('Epoch')\n",
    "plt.legend()\n",
    "\n",
    "plt.subplot(1, 2, 2)\n",
    "plt.plot(history3.history['accuracy'], 'g-', label='accuracy')\n",
    "plt.plot(history3.history['val_accuracy'], 'k--', label='val_accuracy')\n",
    "plt.xlabel('Epoch')\n",
    "plt.ylim(0.7, 1)\n",
    "plt.legend()\n",
    "\n",
    "plt.show()"
   ],
   "outputs": [
    {
     "data": {
      "text/plain": [
       "<Figure size 1200x400 with 2 Axes>"
      ],
      "image/png": "[encoded data removed]"
     },
     "metadata": {},
     "output_type": "display_data"
    }
   ],
   "execution_count": 42
  },
  {
   "cell_type": "markdown",
   "source": [
    "# \"실습\"\n",
    "\n",
    " - 전체 데이터 (정규화 후)를 사용해서 vadlidation_splits 사용해서 학습해 보세요!!!"
   ],
   "metadata": {
    "id": "zRwF4LL4_Rhh"
   }
  }
 ],
 "metadata": {
  "accelerator": "GPU",
  "colab": {
   "provenance": []
  },
  "kernelspec": {
   "display_name": "DL_P312",
   "language": "python",
   "name": "python3"
  },
  "language_info": {
   "codemirror_mode": {
    "name": "ipython",
    "version": 3
   },
   "file_extension": ".py",
   "mimetype": "text/x-python",
   "name": "python",
   "nbconvert_exporter": "python",
   "pygments_lexer": "ipython3",
   "version": "3.12.11"
  },
  "widgets": {
   "application/vnd.jupyter.widget-state+json": {
    "7789c8341d6a4c3d9c3cd5e47b43d317": {
     "model_module": "@jupyter-widgets/controls",
     "model_name": "HBoxModel",
     "model_module_version": "1.5.0",
     "state": {
      "_dom_classes": [],
      "_model_module": "@jupyter-widgets/controls",
      "_model_module_version": "1.5.0",
      "_model_name": "HBoxModel",
      "_view_count": null,
      "_view_module": "@jupyter-widgets/controls",
      "_view_module_version": "1.5.0",
      "_view_name": "HBoxView",
      "box_style": "",
      "children": [
       "IPY_MODEL_56b09ba252d44dbbbf82d55c3717518f",
       "IPY_MODEL_4522943a01bb478db5bc830e479e52b3",
       "IPY_MODEL_c6b67cc4f69949f5946cfe1e1bf48edf"
      ],
      "layout": "IPY_MODEL_2c4c387d53d04c59b276626f41c3f531"
     }
    },
    "56b09ba252d44dbbbf82d55c3717518f": {
     "model_module": "@jupyter-widgets/controls",
     "model_name": "HTMLModel",
     "model_module_version": "1.5.0",
     "state": {
      "_dom_classes": [],
      "_model_module": "@jupyter-widgets/controls",
      "_model_module_version": "1.5.0",
      "_model_name": "HTMLModel",
      "_view_count": null,
      "_view_module": "@jupyter-widgets/controls",
      "_view_module_version": "1.5.0",
      "_view_name": "HTMLView",
      "description": "",
      "description_tooltip": null,
      "layout": "IPY_MODEL_cfe5dbc9e8b746efbfb1395fbdaf379c",
      "placeholder": "​",
      "style": "IPY_MODEL_4a39d01a62cb4be593312110f131e933",
      "value": "100%"
     }
    },
    "4522943a01bb478db5bc830e479e52b3": {
     "model_module": "@jupyter-widgets/controls",
     "model_name": "FloatProgressModel",
     "model_module_version": "1.5.0",
     "state": {
      "_dom_classes": [],
      "_model_module": "@jupyter-widgets/controls",
      "_model_module_version": "1.5.0",
      "_model_name": "FloatProgressModel",
      "_view_count": null,
      "_view_module": "@jupyter-widgets/controls",
      "_view_module_version": "1.5.0",
      "_view_name": "ProgressView",
      "bar_style": "success",
      "description": "",
      "description_tooltip": null,
      "layout": "IPY_MODEL_8387200711e5442790673dab1dd1cd80",
      "max": 100,
      "min": 0,
      "orientation": "horizontal",
      "style": "IPY_MODEL_bfc1751299a54daf9981d78f300e315b",
      "value": 100
     }
    },
    "c6b67cc4f69949f5946cfe1e1bf48edf": {
     "model_module": "@jupyter-widgets/controls",
     "model_name": "HTMLModel",
     "model_module_version": "1.5.0",
     "state": {
      "_dom_classes": [],
      "_model_module": "@jupyter-widgets/controls",
      "_model_module_version": "1.5.0",
      "_model_name": "HTMLModel",
      "_view_count": null,
      "_view_module": "@jupyter-widgets/controls",
      "_view_module_version": "1.5.0",
      "_view_name": "HTMLView",
      "description": "",
      "description_tooltip": null,
      "layout": "IPY_MODEL_81a7bcf9b40d4970baf89429bf625a6c",
      "placeholder": "​",
      "style": "IPY_MODEL_758d5e2bc00246779fc8142d8a0092db",
      "value": " 100/100 [15:06&lt;00:00,  8.91s/epoch, accuracy=0.969, loss=0.111]"
     }
    },
    "2c4c387d53d04c59b276626f41c3f531": {
     "model_module": "@jupyter-widgets/base",
     "model_name": "LayoutModel",
     "model_module_version": "1.2.0",
     "state": {
      "_model_module": "@jupyter-widgets/base",
      "_model_module_version": "1.2.0",
      "_model_name": "LayoutModel",
      "_view_count": null,
      "_view_module": "@jupyter-widgets/base",
      "_view_module_version": "1.2.0",
      "_view_name": "LayoutView",
      "align_content": null,
      "align_items": null,
      "align_self": null,
      "border": null,
      "bottom": null,
      "display": null,
      "flex": null,
      "flex_flow": null,
      "grid_area": null,
      "grid_auto_columns": null,
      "grid_auto_flow": null,
      "grid_auto_rows": null,
      "grid_column": null,
      "grid_gap": null,
      "grid_row": null,
      "grid_template_areas": null,
      "grid_template_columns": null,
      "grid_template_rows": null,
      "height": null,
      "justify_content": null,
      "justify_items": null,
      "left": null,
      "margin": null,
      "max_height": null,
      "max_width": null,
      "min_height": null,
      "min_width": null,
      "object_fit": null,
      "object_position": null,
      "order": null,
      "overflow": null,
      "overflow_x": null,
      "overflow_y": null,
      "padding": null,
      "right": null,
      "top": null,
      "visibility": null,
      "width": null
     }
    },
    "cfe5dbc9e8b746efbfb1395fbdaf379c": {
     "model_module": "@jupyter-widgets/base",
     "model_name": "LayoutModel",
     "model_module_version": "1.2.0",
     "state": {
      "_model_module": "@jupyter-widgets/base",
      "_model_module_version": "1.2.0",
      "_model_name": "LayoutModel",
      "_view_count": null,
      "_view_module": "@jupyter-widgets/base",
      "_view_module_version": "1.2.0",
      "_view_name": "LayoutView",
      "align_content": null,
      "align_items": null,
      "align_self": null,
      "border": null,
      "bottom": null,
      "display": null,
      "flex": null,
      "flex_flow": null,
      "grid_area": null,
      "grid_auto_columns": null,
      "grid_auto_flow": null,
      "grid_auto_rows": null,
      "grid_column": null,
      "grid_gap": null,
      "grid_row": null,
      "grid_template_areas": null,
      "grid_template_columns": null,
      "grid_template_rows": null,
      "height": null,
      "justify_content": null,
      "justify_items": null,
      "left": null,
      "margin": null,
      "max_height": null,
      "max_width": null,
      "min_height": null,
      "min_width": null,
      "object_fit": null,
      "object_position": null,
      "order": null,
      "overflow": null,
      "overflow_x": null,
      "overflow_y": null,
      "padding": null,
      "right": null,
      "top": null,
      "visibility": null,
      "width": null
     }
    },
    "4a39d01a62cb4be593312110f131e933": {
     "model_module": "@jupyter-widgets/controls",
     "model_name": "DescriptionStyleModel",
     "model_module_version": "1.5.0",
     "state": {
      "_model_module": "@jupyter-widgets/controls",
      "_model_module_version": "1.5.0",
      "_model_name": "DescriptionStyleModel",
      "_view_count": null,
      "_view_module": "@jupyter-widgets/base",
      "_view_module_version": "1.2.0",
      "_view_name": "StyleView",
      "description_width": ""
     }
    },
    "8387200711e5442790673dab1dd1cd80": {
     "model_module": "@jupyter-widgets/base",
     "model_name": "LayoutModel",
     "model_module_version": "1.2.0",
     "state": {
      "_model_module": "@jupyter-widgets/base",
      "_model_module_version": "1.2.0",
      "_model_name": "LayoutModel",
      "_view_count": null,
      "_view_module": "@jupyter-widgets/base",
      "_view_module_version": "1.2.0",
      "_view_name": "LayoutView",
      "align_content": null,
      "align_items": null,
      "align_self": null,
      "border": null,
      "bottom": null,
      "display": null,
      "flex": null,
      "flex_flow": null,
      "grid_area": null,
      "grid_auto_columns": null,
      "grid_auto_flow": null,
      "grid_auto_rows": null,
      "grid_column": null,
      "grid_gap": null,
      "grid_row": null,
      "grid_template_areas": null,
      "grid_template_columns": null,
      "grid_template_rows": null,
      "height": null,
      "justify_content": null,
      "justify_items": null,
      "left": null,
      "margin": null,
      "max_height": null,
      "max_width": null,
      "min_height": null,
      "min_width": null,
      "object_fit": null,
      "object_position": null,
      "order": null,
      "overflow": null,
      "overflow_x": null,
      "overflow_y": null,
      "padding": null,
      "right": null,
      "top": null,
      "visibility": null,
      "width": null
     }
    },
    "bfc1751299a54daf9981d78f300e315b": {
     "model_module": "@jupyter-widgets/controls",
     "model_name": "ProgressStyleModel",
     "model_module_version": "1.5.0",
     "state": {
      "_model_module": "@jupyter-widgets/controls",
      "_model_module_version": "1.5.0",
      "_model_name": "ProgressStyleModel",
      "_view_count": null,
      "_view_module": "@jupyter-widgets/base",
      "_view_module_version": "1.2.0",
      "_view_name": "StyleView",
      "bar_color": null,
      "description_width": ""
     }
    },
    "81a7bcf9b40d4970baf89429bf625a6c": {
     "model_module": "@jupyter-widgets/base",
     "model_name": "LayoutModel",
     "model_module_version": "1.2.0",
     "state": {
      "_model_module": "@jupyter-widgets/base",
      "_model_module_version": "1.2.0",
      "_model_name": "LayoutModel",
      "_view_count": null,
      "_view_module": "@jupyter-widgets/base",
      "_view_module_version": "1.2.0",
      "_view_name": "LayoutView",
      "align_content": null,
      "align_items": null,
      "align_self": null,
      "border": null,
      "bottom": null,
      "display": null,
      "flex": null,
      "flex_flow": null,
      "grid_area": null,
      "grid_auto_columns": null,
      "grid_auto_flow": null,
      "grid_auto_rows": null,
      "grid_column": null,
      "grid_gap": null,
      "grid_row": null,
      "grid_template_areas": null,
      "grid_template_columns": null,
      "grid_template_rows": null,
      "height": null,
      "justify_content": null,
      "justify_items": null,
      "left": null,
      "margin": null,
      "max_height": null,
      "max_width": null,
      "min_height": null,
      "min_width": null,
      "object_fit": null,
      "object_position": null,
      "order": null,
      "overflow": null,
      "overflow_x": null,
      "overflow_y": null,
      "padding": null,
      "right": null,
      "top": null,
      "visibility": null,
      "width": null
     }
    },
    "758d5e2bc00246779fc8142d8a0092db": {
     "model_module": "@jupyter-widgets/controls",
     "model_name": "DescriptionStyleModel",
     "model_module_version": "1.5.0",
     "state": {
      "_model_module": "@jupyter-widgets/controls",
      "_model_module_version": "1.5.0",
      "_model_name": "DescriptionStyleModel",
      "_view_count": null,
      "_view_module": "@jupyter-widgets/base",
      "_view_module_version": "1.2.0",
      "_view_name": "StyleView",
      "description_width": ""
     }
    },
    "a41aa35fa54d4adbac6b3160a2235b82": {
     "model_module": "@jupyter-widgets/controls",
     "model_name": "HBoxModel",
     "model_module_version": "1.5.0",
     "state": {
      "_dom_classes": [],
      "_model_module": "@jupyter-widgets/controls",
      "_model_module_version": "1.5.0",
      "_model_name": "HBoxModel",
      "_view_count": null,
      "_view_module": "@jupyter-widgets/controls",
      "_view_module_version": "1.5.0",
      "_view_name": "HBoxView",
      "box_style": "",
      "children": [
       "IPY_MODEL_63d2472ec4cd46d9bede33c1d4d5c6d7",
       "IPY_MODEL_15caeed2624b49aa8080294928a4b1ef",
       "IPY_MODEL_47c4e14415ca44b48b2c170990ea8215"
      ],
      "layout": "IPY_MODEL_12dceed1c65b47a18a67dfe67b9b677a"
     }
    },
    "63d2472ec4cd46d9bede33c1d4d5c6d7": {
     "model_module": "@jupyter-widgets/controls",
     "model_name": "HTMLModel",
     "model_module_version": "1.5.0",
     "state": {
      "_dom_classes": [],
      "_model_module": "@jupyter-widgets/controls",
      "_model_module_version": "1.5.0",
      "_model_name": "HTMLModel",
      "_view_count": null,
      "_view_module": "@jupyter-widgets/controls",
      "_view_module_version": "1.5.0",
      "_view_name": "HTMLView",
      "description": "",
      "description_tooltip": null,
      "layout": "IPY_MODEL_2c144e0539de470ba5c792bf1083b89e",
      "placeholder": "​",
      "style": "IPY_MODEL_ec94f45295c2455fb1744b39dfd3b9c4",
      "value": " 99%"
     }
    },
    "15caeed2624b49aa8080294928a4b1ef": {
     "model_module": "@jupyter-widgets/controls",
     "model_name": "FloatProgressModel",
     "model_module_version": "1.5.0",
     "state": {
      "_dom_classes": [],
      "_model_module": "@jupyter-widgets/controls",
      "_model_module_version": "1.5.0",
      "_model_name": "FloatProgressModel",
      "_view_count": null,
      "_view_module": "@jupyter-widgets/controls",
      "_view_module_version": "1.5.0",
      "_view_name": "ProgressView",
      "bar_style": "",
      "description": "",
      "description_tooltip": null,
      "layout": "IPY_MODEL_1f62c99264ed464a8e94e70fcc68194a",
      "max": 1875,
      "min": 0,
      "orientation": "horizontal",
      "style": "IPY_MODEL_b21f7b199b3c4a9b825616cd442e0451",
      "value": 1875
     }
    },
    "47c4e14415ca44b48b2c170990ea8215": {
     "model_module": "@jupyter-widgets/controls",
     "model_name": "HTMLModel",
     "model_module_version": "1.5.0",
     "state": {
      "_dom_classes": [],
      "_model_module": "@jupyter-widgets/controls",
      "_model_module_version": "1.5.0",
      "_model_name": "HTMLModel",
      "_view_count": null,
      "_view_module": "@jupyter-widgets/controls",
      "_view_module_version": "1.5.0",
      "_view_name": "HTMLView",
      "description": "",
      "description_tooltip": null,
      "layout": "IPY_MODEL_816477d216f2409b8e3606de82ccae8f",
      "placeholder": "​",
      "style": "IPY_MODEL_707ef5bb917d45d28fcdad592baeae5a",
      "value": " 1.86k/1.88k [00:07&lt;00:00, 256batch/s, accuracy=0.969, loss=0.111]"
     }
    },
    "12dceed1c65b47a18a67dfe67b9b677a": {
     "model_module": "@jupyter-widgets/base",
     "model_name": "LayoutModel",
     "model_module_version": "1.2.0",
     "state": {
      "_model_module": "@jupyter-widgets/base",
      "_model_module_version": "1.2.0",
      "_model_name": "LayoutModel",
      "_view_count": null,
      "_view_module": "@jupyter-widgets/base",
      "_view_module_version": "1.2.0",
      "_view_name": "LayoutView",
      "align_content": null,
      "align_items": null,
      "align_self": null,
      "border": null,
      "bottom": null,
      "display": null,
      "flex": null,
      "flex_flow": null,
      "grid_area": null,
      "grid_auto_columns": null,
      "grid_auto_flow": null,
      "grid_auto_rows": null,
      "grid_column": null,
      "grid_gap": null,
      "grid_row": null,
      "grid_template_areas": null,
      "grid_template_columns": null,
      "grid_template_rows": null,
      "height": null,
      "justify_content": null,
      "justify_items": null,
      "left": null,
      "margin": null,
      "max_height": null,
      "max_width": null,
      "min_height": null,
      "min_width": null,
      "object_fit": null,
      "object_position": null,
      "order": null,
      "overflow": null,
      "overflow_x": null,
      "overflow_y": null,
      "padding": null,
      "right": null,
      "top": null,
      "visibility": "hidden",
      "width": null
     }
    },
    "2c144e0539de470ba5c792bf1083b89e": {
     "model_module": "@jupyter-widgets/base",
     "model_name": "LayoutModel",
     "model_module_version": "1.2.0",
     "state": {
      "_model_module": "@jupyter-widgets/base",
      "_model_module_version": "1.2.0",
      "_model_name": "LayoutModel",
      "_view_count": null,
      "_view_module": "@jupyter-widgets/base",
      "_view_module_version": "1.2.0",
      "_view_name": "LayoutView",
      "align_content": null,
      "align_items": null,
      "align_self": null,
      "border": null,
      "bottom": null,
      "display": null,
      "flex": null,
      "flex_flow": null,
      "grid_area": null,
      "grid_auto_columns": null,
      "grid_auto_flow": null,
      "grid_auto_rows": null,
      "grid_column": null,
      "grid_gap": null,
      "grid_row": null,
      "grid_template_areas": null,
      "grid_template_columns": null,
      "grid_template_rows": null,
      "height": null,
      "justify_content": null,
      "justify_items": null,
      "left": null,
      "margin": null,
      "max_height": null,
      "max_width": null,
      "min_height": null,
      "min_width": null,
      "object_fit": null,
      "object_position": null,
      "order": null,
      "overflow": null,
      "overflow_x": null,
      "overflow_y": null,
      "padding": null,
      "right": null,
      "top": null,
      "visibility": null,
      "width": null
     }
    },
    "ec94f45295c2455fb1744b39dfd3b9c4": {
     "model_module": "@jupyter-widgets/controls",
     "model_name": "DescriptionStyleModel",
     "model_module_version": "1.5.0",
     "state": {
      "_model_module": "@jupyter-widgets/controls",
      "_model_module_version": "1.5.0",
      "_model_name": "DescriptionStyleModel",
      "_view_count": null,
      "_view_module": "@jupyter-widgets/base",
      "_view_module_version": "1.2.0",
      "_view_name": "StyleView",
      "description_width": ""
     }
    },
    "1f62c99264ed464a8e94e70fcc68194a": {
     "model_module": "@jupyter-widgets/base",
     "model_name": "LayoutModel",
     "model_module_version": "1.2.0",
     "state": {
      "_model_module": "@jupyter-widgets/base",
      "_model_module_version": "1.2.0",
      "_model_name": "LayoutModel",
      "_view_count": null,
      "_view_module": "@jupyter-widgets/base",
      "_view_module_version": "1.2.0",
      "_view_name": "LayoutView",
      "align_content": null,
      "align_items": null,
      "align_self": null,
      "border": null,
      "bottom": null,
      "display": null,
      "flex": null,
      "flex_flow": null,
      "grid_area": null,
      "grid_auto_columns": null,
      "grid_auto_flow": null,
      "grid_auto_rows": null,
      "grid_column": null,
      "grid_gap": null,
      "grid_row": null,
      "grid_template_areas": null,
      "grid_template_columns": null,
      "grid_template_rows": null,
      "height": null,
      "justify_content": null,
      "justify_items": null,
      "left": null,
      "margin": null,
      "max_height": null,
      "max_width": null,
      "min_height": null,
      "min_width": null,
      "object_fit": null,
      "object_position": null,
      "order": null,
      "overflow": null,
      "overflow_x": null,
      "overflow_y": null,
      "padding": null,
      "right": null,
      "top": null,
      "visibility": null,
      "width": null
     }
    },
    "b21f7b199b3c4a9b825616cd442e0451": {
     "model_module": "@jupyter-widgets/controls",
     "model_name": "ProgressStyleModel",
     "model_module_version": "1.5.0",
     "state": {
      "_model_module": "@jupyter-widgets/controls",
      "_model_module_version": "1.5.0",
      "_model_name": "ProgressStyleModel",
      "_view_count": null,
      "_view_module": "@jupyter-widgets/base",
      "_view_module_version": "1.2.0",
      "_view_name": "StyleView",
      "bar_color": null,
      "description_width": ""
     }
    },
    "816477d216f2409b8e3606de82ccae8f": {
     "model_module": "@jupyter-widgets/base",
     "model_name": "LayoutModel",
     "model_module_version": "1.2.0",
     "state": {
      "_model_module": "@jupyter-widgets/base",
      "_model_module_version": "1.2.0",
      "_model_name": "LayoutModel",
      "_view_count": null,
      "_view_module": "@jupyter-widgets/base",
      "_view_module_version": "1.2.0",
      "_view_name": "LayoutView",
      "align_content": null,
      "align_items": null,
      "align_self": null,
      "border": null,
      "bottom": null,
      "display": null,
      "flex": null,
      "flex_flow": null,
      "grid_area": null,
      "grid_auto_columns": null,
      "grid_auto_flow": null,
      "grid_auto_rows": null,
      "grid_column": null,
      "grid_gap": null,
      "grid_row": null,
      "grid_template_areas": null,
      "grid_template_columns": null,
      "grid_template_rows": null,
      "height": null,
      "justify_content": null,
      "justify_items": null,
      "left": null,
      "margin": null,
      "max_height": null,
      "max_width": null,
      "min_height": null,
      "min_width": null,
      "object_fit": null,
      "object_position": null,
      "order": null,
      "overflow": null,
      "overflow_x": null,
      "overflow_y": null,
      "padding": null,
      "right": null,
      "top": null,
      "visibility": null,
      "width": null
     }
    },
    "707ef5bb917d45d28fcdad592baeae5a": {
     "model_module": "@jupyter-widgets/controls",
     "model_name": "DescriptionStyleModel",
     "model_module_version": "1.5.0",
     "state": {
      "_model_module": "@jupyter-widgets/controls",
      "_model_module_version": "1.5.0",
      "_model_name": "DescriptionStyleModel",
      "_view_count": null,
      "_view_module": "@jupyter-widgets/base",
      "_view_module_version": "1.2.0",
      "_view_name": "StyleView",
      "description_width": ""
     }
    }
   }
  }
 },
 "nbformat": 4,
 "nbformat_minor": 0
}
