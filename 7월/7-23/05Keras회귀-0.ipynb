{
 "cells": [
  {
   "cell_type": "markdown",
   "metadata": {
    "id": "ULTWLCl4r9sR"
   },
   "source": [
    "# 1. 딥러닝 이용한 회귀학습\n",
    "\n",
    " - https://www.tensorflow.org/api_docs/python/tf/keras/activations\n",
    " - https://www.tensorflow.org/api_docs/python/tf/keras/losses"
   ]
  },
  {
   "cell_type": "code",
   "metadata": {
    "executionInfo": {
     "elapsed": 2,
     "status": "ok",
     "timestamp": 1753243306624,
     "user": {
      "displayName": "고강태 강사",
      "userId": "11816854931407731745"
     },
     "user_tz": -540
    },
    "id": "rIii0gY7r9sS",
    "ExecuteTime": {
     "end_time": "2025-07-24T10:12:19.777335Z",
     "start_time": "2025-07-24T10:12:19.772847Z"
    }
   },
   "source": [
    "import numpy as np\n",
    "import pandas as pd"
   ],
   "outputs": [],
   "execution_count": 2
  },
  {
   "cell_type": "code",
   "metadata": {
    "executionInfo": {
     "elapsed": 1,
     "status": "ok",
     "timestamp": 1753243306627,
     "user": {
      "displayName": "고강태 강사",
      "userId": "11816854931407731745"
     },
     "user_tz": -540
    },
    "id": "RjP16-Xar9sT",
    "ExecuteTime": {
     "end_time": "2025-07-24T10:12:19.792743Z",
     "start_time": "2025-07-24T10:12:19.789749Z"
    }
   },
   "source": [
    "import os\n",
    "# os.environ['TF_CPP_MIN_LOG_LEVEL'] = '3' #0: 모든 메시지, 1: 정보 숨김, 2: 경고 숨김, 3: 에러만 출력)\n",
    "\n",
    "import tensorflow as tf\n",
    "import keras\n",
    "import multiprocessing\n",
    "from sklearn.model_selection import train_test_split\n",
    "\n",
    "os.environ[\"CUDA_VISIBLE_DEVICES\"] = \"-1\"  # GPU 비활성화 (CPU 모드 강제)\n",
    "num_cores = multiprocessing.cpu_count()\n",
    "print(num_cores)\n",
    "tf.config.threading.set_intra_op_parallelism_threads(num_cores)\n",
    "tf.config.threading.set_inter_op_parallelism_threads(num_cores)"
   ],
   "outputs": [
    {
     "name": "stdout",
     "output_type": "stream",
     "text": [
      "14\n"
     ]
    }
   ],
   "execution_count": 3
  },
  {
   "cell_type": "code",
   "metadata": {
    "executionInfo": {
     "elapsed": 4,
     "status": "ok",
     "timestamp": 1753243306632,
     "user": {
      "displayName": "고강태 강사",
      "userId": "11816854931407731745"
     },
     "user_tz": -540
    },
    "id": "J8Tp_iYAr9sU",
    "tags": [],
    "ExecuteTime": {
     "end_time": "2025-07-24T10:12:19.803716Z",
     "start_time": "2025-07-24T10:12:19.802132Z"
    }
   },
   "source": [
    "import matplotlib.pyplot as plt\n",
    "import matplotlib.font_manager as fm\n",
    "import seaborn as sns"
   ],
   "outputs": [],
   "execution_count": 4
  },
  {
   "cell_type": "markdown",
   "metadata": {
    "id": "dOxptvdwr9sV"
   },
   "source": [
    "### - 딥러닝 손실함수\n",
    "\n",
    "회귀는 평균제곱 계열을 사용하고 분류에는 엔트로피 계열을 사용한다.\n",
    "\n",
    "1. 평균제곱 계열\n",
    "    - mean_squared_error : 평균제곱오차\n",
    "    - mean_absolute_error : 평균절대오차. 실제 값과 예측 값 차이의 절대값 평균\n",
    "    - mean_absolute_percentage_error: 평균 절대 백분율 오차. 절대값 오차를 절대값으로 나눈 후 평균\n",
    "    - mean_squared_logarithimc_error : 평균 제곱 로그 오차. 실제 값과 예측 값에 로그를 적용한 값의 차이를 제곱한 값의 평균\n",
    "  \n",
    "1. 교차 엔트로피\n",
    "    - categorical_crossentropy: 범주형교차엔트로피. 분류.\n",
    "    - binary_crossentropy(이항교차엔트로피): 0, 1을 선택하는 경우."
   ]
  },
  {
   "cell_type": "markdown",
   "metadata": {
    "id": "OmNry8Ogr9sV"
   },
   "source": [
    "### 간단한 회귀"
   ]
  },
  {
   "cell_type": "code",
   "metadata": {
    "executionInfo": {
     "elapsed": 2,
     "status": "ok",
     "timestamp": 1753243306632,
     "user": {
      "displayName": "고강태 강사",
      "userId": "11816854931407731745"
     },
     "user_tz": -540
    },
    "id": "00-h5uNNOM7V",
    "ExecuteTime": {
     "end_time": "2025-07-24T10:12:19.826043Z",
     "start_time": "2025-07-24T10:12:19.823573Z"
    }
   },
   "source": [
    "# 딥러닝 네트워크를 이용한 회귀\n",
    "import tensorflow as tf\n",
    "import numpy as np\n",
    "\n",
    "X = np.array([0.3, -0.78, 1.26, 0.03, 1.11, 0.24, -0.24, -0.47, -0.77, -0.37, -0.85, -0.41, -0.27, 0.02, -0.76, 2.66])\n",
    "Y = np.array([12.27, 14.44, 11.87, 18.75, 17.52, 16.37, 19.78, 19.51, 12.65, 14.74, 10.72, 21.94, 12.83, 15.51, 17.14, 14.42])\n"
   ],
   "outputs": [],
   "execution_count": 5
  },
  {
   "cell_type": "code",
   "metadata": {
    "colab": {
     "base_uri": "https://localhost:8080/",
     "height": 204
    },
    "executionInfo": {
     "elapsed": 100,
     "status": "ok",
     "timestamp": 1753243306733,
     "user": {
      "displayName": "고강태 강사",
      "userId": "11816854931407731745"
     },
     "user_tz": -540
    },
    "id": "QylCvZXCJ16b",
    "outputId": "bb673795-8631-45c6-aa8c-610eb0187642",
    "ExecuteTime": {
     "end_time": "2025-07-24T10:12:19.858553Z",
     "start_time": "2025-07-24T10:12:19.836564Z"
    }
   },
   "source": [
    "model = keras.Sequential()\n",
    "model.add(keras.layers.Input((1,)))\n",
    "model.add(keras.layers.Dense(10, activation='relu'))\n",
    "model.add(keras.layers.Dense(1))\n",
    "model.summary()"
   ],
   "outputs": [
    {
     "data": {
      "text/plain": [
       "\u001B[1mModel: \"sequential\"\u001B[0m\n"
      ],
      "text/html": [
       "<pre style=\"white-space:pre;overflow-x:auto;line-height:normal;font-family:Menlo,'DejaVu Sans Mono',consolas,'Courier New',monospace\"><span style=\"font-weight: bold\">Model: \"sequential\"</span>\n",
       "</pre>\n"
      ]
     },
     "metadata": {},
     "output_type": "display_data"
    },
    {
     "data": {
      "text/plain": [
       "┏━━━━━━━━━━━━━━━━━━━━━━━━━━━━━━━━━┳━━━━━━━━━━━━━━━━━━━━━━━━┳━━━━━━━━━━━━━━━┓\n",
       "┃\u001B[1m \u001B[0m\u001B[1mLayer (type)                   \u001B[0m\u001B[1m \u001B[0m┃\u001B[1m \u001B[0m\u001B[1mOutput Shape          \u001B[0m\u001B[1m \u001B[0m┃\u001B[1m \u001B[0m\u001B[1m      Param #\u001B[0m\u001B[1m \u001B[0m┃\n",
       "┡━━━━━━━━━━━━━━━━━━━━━━━━━━━━━━━━━╇━━━━━━━━━━━━━━━━━━━━━━━━╇━━━━━━━━━━━━━━━┩\n",
       "│ dense (\u001B[38;5;33mDense\u001B[0m)                   │ (\u001B[38;5;45mNone\u001B[0m, \u001B[38;5;34m10\u001B[0m)             │            \u001B[38;5;34m20\u001B[0m │\n",
       "├─────────────────────────────────┼────────────────────────┼───────────────┤\n",
       "│ dense_1 (\u001B[38;5;33mDense\u001B[0m)                 │ (\u001B[38;5;45mNone\u001B[0m, \u001B[38;5;34m1\u001B[0m)              │            \u001B[38;5;34m11\u001B[0m │\n",
       "└─────────────────────────────────┴────────────────────────┴───────────────┘\n"
      ],
      "text/html": [
       "<pre style=\"white-space:pre;overflow-x:auto;line-height:normal;font-family:Menlo,'DejaVu Sans Mono',consolas,'Courier New',monospace\">┏━━━━━━━━━━━━━━━━━━━━━━━━━━━━━━━━━┳━━━━━━━━━━━━━━━━━━━━━━━━┳━━━━━━━━━━━━━━━┓\n",
       "┃<span style=\"font-weight: bold\"> Layer (type)                    </span>┃<span style=\"font-weight: bold\"> Output Shape           </span>┃<span style=\"font-weight: bold\">       Param # </span>┃\n",
       "┡━━━━━━━━━━━━━━━━━━━━━━━━━━━━━━━━━╇━━━━━━━━━━━━━━━━━━━━━━━━╇━━━━━━━━━━━━━━━┩\n",
       "│ dense (<span style=\"color: #0087ff; text-decoration-color: #0087ff\">Dense</span>)                   │ (<span style=\"color: #00d7ff; text-decoration-color: #00d7ff\">None</span>, <span style=\"color: #00af00; text-decoration-color: #00af00\">10</span>)             │            <span style=\"color: #00af00; text-decoration-color: #00af00\">20</span> │\n",
       "├─────────────────────────────────┼────────────────────────┼───────────────┤\n",
       "│ dense_1 (<span style=\"color: #0087ff; text-decoration-color: #0087ff\">Dense</span>)                 │ (<span style=\"color: #00d7ff; text-decoration-color: #00d7ff\">None</span>, <span style=\"color: #00af00; text-decoration-color: #00af00\">1</span>)              │            <span style=\"color: #00af00; text-decoration-color: #00af00\">11</span> │\n",
       "└─────────────────────────────────┴────────────────────────┴───────────────┘\n",
       "</pre>\n"
      ]
     },
     "metadata": {},
     "output_type": "display_data"
    },
    {
     "data": {
      "text/plain": [
       "\u001B[1m Total params: \u001B[0m\u001B[38;5;34m31\u001B[0m (124.00 B)\n"
      ],
      "text/html": [
       "<pre style=\"white-space:pre;overflow-x:auto;line-height:normal;font-family:Menlo,'DejaVu Sans Mono',consolas,'Courier New',monospace\"><span style=\"font-weight: bold\"> Total params: </span><span style=\"color: #00af00; text-decoration-color: #00af00\">31</span> (124.00 B)\n",
       "</pre>\n"
      ]
     },
     "metadata": {},
     "output_type": "display_data"
    },
    {
     "data": {
      "text/plain": [
       "\u001B[1m Trainable params: \u001B[0m\u001B[38;5;34m31\u001B[0m (124.00 B)\n"
      ],
      "text/html": [
       "<pre style=\"white-space:pre;overflow-x:auto;line-height:normal;font-family:Menlo,'DejaVu Sans Mono',consolas,'Courier New',monospace\"><span style=\"font-weight: bold\"> Trainable params: </span><span style=\"color: #00af00; text-decoration-color: #00af00\">31</span> (124.00 B)\n",
       "</pre>\n"
      ]
     },
     "metadata": {},
     "output_type": "display_data"
    },
    {
     "data": {
      "text/plain": [
       "\u001B[1m Non-trainable params: \u001B[0m\u001B[38;5;34m0\u001B[0m (0.00 B)\n"
      ],
      "text/html": [
       "<pre style=\"white-space:pre;overflow-x:auto;line-height:normal;font-family:Menlo,'DejaVu Sans Mono',consolas,'Courier New',monospace\"><span style=\"font-weight: bold\"> Non-trainable params: </span><span style=\"color: #00af00; text-decoration-color: #00af00\">0</span> (0.00 B)\n",
       "</pre>\n"
      ]
     },
     "metadata": {},
     "output_type": "display_data"
    }
   ],
   "execution_count": 6
  },
  {
   "cell_type": "code",
   "source": [
    "# adam = keras.optimizers.Adam(learning_rate=0.0009)\n",
    "sgd = keras.optimizers.SGD(learning_rate=0.0009)\n",
    "model.compile(optimizer=sgd, loss='mse')"
   ],
   "metadata": {
    "id": "_R0gao189_EV",
    "executionInfo": {
     "status": "ok",
     "timestamp": 1753243306734,
     "user_tz": -540,
     "elapsed": 24,
     "user": {
      "displayName": "고강태 강사",
      "userId": "11816854931407731745"
     }
    },
    "ExecuteTime": {
     "end_time": "2025-07-24T10:12:19.882439Z",
     "start_time": "2025-07-24T10:12:19.877297Z"
    }
   },
   "outputs": [],
   "execution_count": 7
  },
  {
   "cell_type": "code",
   "source": [
    "model.fit(X, Y, epochs=200)"
   ],
   "metadata": {
    "colab": {
     "base_uri": "https://localhost:8080/"
    },
    "id": "4hZFymJL-WoT",
    "executionInfo": {
     "status": "ok",
     "timestamp": 1753243320097,
     "user_tz": -540,
     "elapsed": 13365,
     "user": {
      "displayName": "고강태 강사",
      "userId": "11816854931407731745"
     }
    },
    "outputId": "dcf1b39c-9c04-4675-ff4a-0a5ed33e2f88",
    "ExecuteTime": {
     "end_time": "2025-07-24T10:12:22.464270Z",
     "start_time": "2025-07-24T10:12:19.892568Z"
    }
   },
   "outputs": [
    {
     "name": "stdout",
     "output_type": "stream",
     "text": [
      "Epoch 1/200\n",
      "\u001B[1m1/1\u001B[0m \u001B[32m━━━━━━━━━━━━━━━━━━━━\u001B[0m\u001B[37m\u001B[0m \u001B[1m0s\u001B[0m 65ms/step - loss: 253.9400\n",
      "Epoch 2/200\n",
      "\u001B[1m1/1\u001B[0m \u001B[32m━━━━━━━━━━━━━━━━━━━━\u001B[0m\u001B[37m\u001B[0m \u001B[1m0s\u001B[0m 13ms/step - loss: 252.3656\n",
      "Epoch 3/200\n",
      "\u001B[1m1/1\u001B[0m \u001B[32m━━━━━━━━━━━━━━━━━━━━\u001B[0m\u001B[37m\u001B[0m \u001B[1m0s\u001B[0m 12ms/step - loss: 250.7742\n",
      "Epoch 4/200\n",
      "\u001B[1m1/1\u001B[0m \u001B[32m━━━━━━━━━━━━━━━━━━━━\u001B[0m\u001B[37m\u001B[0m \u001B[1m0s\u001B[0m 12ms/step - loss: 249.1742\n",
      "Epoch 5/200\n",
      "\u001B[1m1/1\u001B[0m \u001B[32m━━━━━━━━━━━━━━━━━━━━\u001B[0m\u001B[37m\u001B[0m \u001B[1m0s\u001B[0m 12ms/step - loss: 247.5721\n",
      "Epoch 6/200\n",
      "\u001B[1m1/1\u001B[0m \u001B[32m━━━━━━━━━━━━━━━━━━━━\u001B[0m\u001B[37m\u001B[0m \u001B[1m0s\u001B[0m 12ms/step - loss: 245.9612\n",
      "Epoch 7/200\n",
      "\u001B[1m1/1\u001B[0m \u001B[32m━━━━━━━━━━━━━━━━━━━━\u001B[0m\u001B[37m\u001B[0m \u001B[1m0s\u001B[0m 11ms/step - loss: 244.3525\n",
      "Epoch 8/200\n",
      "\u001B[1m1/1\u001B[0m \u001B[32m━━━━━━━━━━━━━━━━━━━━\u001B[0m\u001B[37m\u001B[0m \u001B[1m0s\u001B[0m 12ms/step - loss: 242.7522\n",
      "Epoch 9/200\n",
      "\u001B[1m1/1\u001B[0m \u001B[32m━━━━━━━━━━━━━━━━━━━━\u001B[0m\u001B[37m\u001B[0m \u001B[1m0s\u001B[0m 12ms/step - loss: 241.1546\n",
      "Epoch 10/200\n",
      "\u001B[1m1/1\u001B[0m \u001B[32m━━━━━━━━━━━━━━━━━━━━\u001B[0m\u001B[37m\u001B[0m \u001B[1m0s\u001B[0m 12ms/step - loss: 239.5507\n",
      "Epoch 11/200\n",
      "\u001B[1m1/1\u001B[0m \u001B[32m━━━━━━━━━━━━━━━━━━━━\u001B[0m\u001B[37m\u001B[0m \u001B[1m0s\u001B[0m 13ms/step - loss: 237.9425\n",
      "Epoch 12/200\n",
      "\u001B[1m1/1\u001B[0m \u001B[32m━━━━━━━━━━━━━━━━━━━━\u001B[0m\u001B[37m\u001B[0m \u001B[1m0s\u001B[0m 12ms/step - loss: 236.3349\n",
      "Epoch 13/200\n",
      "\u001B[1m1/1\u001B[0m \u001B[32m━━━━━━━━━━━━━━━━━━━━\u001B[0m\u001B[37m\u001B[0m \u001B[1m0s\u001B[0m 12ms/step - loss: 234.7055\n",
      "Epoch 14/200\n",
      "\u001B[1m1/1\u001B[0m \u001B[32m━━━━━━━━━━━━━━━━━━━━\u001B[0m\u001B[37m\u001B[0m \u001B[1m0s\u001B[0m 11ms/step - loss: 233.0697\n",
      "Epoch 15/200\n",
      "\u001B[1m1/1\u001B[0m \u001B[32m━━━━━━━━━━━━━━━━━━━━\u001B[0m\u001B[37m\u001B[0m \u001B[1m0s\u001B[0m 12ms/step - loss: 231.4271\n",
      "Epoch 16/200\n",
      "\u001B[1m1/1\u001B[0m \u001B[32m━━━━━━━━━━━━━━━━━━━━\u001B[0m\u001B[37m\u001B[0m \u001B[1m0s\u001B[0m 13ms/step - loss: 229.7785\n",
      "Epoch 17/200\n",
      "\u001B[1m1/1\u001B[0m \u001B[32m━━━━━━━━━━━━━━━━━━━━\u001B[0m\u001B[37m\u001B[0m \u001B[1m0s\u001B[0m 13ms/step - loss: 228.1181\n",
      "Epoch 18/200\n",
      "\u001B[1m1/1\u001B[0m \u001B[32m━━━━━━━━━━━━━━━━━━━━\u001B[0m\u001B[37m\u001B[0m \u001B[1m0s\u001B[0m 12ms/step - loss: 226.4293\n",
      "Epoch 19/200\n",
      "\u001B[1m1/1\u001B[0m \u001B[32m━━━━━━━━━━━━━━━━━━━━\u001B[0m\u001B[37m\u001B[0m \u001B[1m0s\u001B[0m 12ms/step - loss: 224.7267\n",
      "Epoch 20/200\n",
      "\u001B[1m1/1\u001B[0m \u001B[32m━━━━━━━━━━━━━━━━━━━━\u001B[0m\u001B[37m\u001B[0m \u001B[1m0s\u001B[0m 12ms/step - loss: 223.0030\n",
      "Epoch 21/200\n",
      "\u001B[1m1/1\u001B[0m \u001B[32m━━━━━━━━━━━━━━━━━━━━\u001B[0m\u001B[37m\u001B[0m \u001B[1m0s\u001B[0m 11ms/step - loss: 221.2538\n",
      "Epoch 22/200\n",
      "\u001B[1m1/1\u001B[0m \u001B[32m━━━━━━━━━━━━━━━━━━━━\u001B[0m\u001B[37m\u001B[0m \u001B[1m0s\u001B[0m 12ms/step - loss: 219.4875\n",
      "Epoch 23/200\n",
      "\u001B[1m1/1\u001B[0m \u001B[32m━━━━━━━━━━━━━━━━━━━━\u001B[0m\u001B[37m\u001B[0m \u001B[1m0s\u001B[0m 13ms/step - loss: 217.7044\n",
      "Epoch 24/200\n",
      "\u001B[1m1/1\u001B[0m \u001B[32m━━━━━━━━━━━━━━━━━━━━\u001B[0m\u001B[37m\u001B[0m \u001B[1m0s\u001B[0m 13ms/step - loss: 215.9055\n",
      "Epoch 25/200\n",
      "\u001B[1m1/1\u001B[0m \u001B[32m━━━━━━━━━━━━━━━━━━━━\u001B[0m\u001B[37m\u001B[0m \u001B[1m0s\u001B[0m 13ms/step - loss: 214.0838\n",
      "Epoch 26/200\n",
      "\u001B[1m1/1\u001B[0m \u001B[32m━━━━━━━━━━━━━━━━━━━━\u001B[0m\u001B[37m\u001B[0m \u001B[1m0s\u001B[0m 12ms/step - loss: 212.2387\n",
      "Epoch 27/200\n",
      "\u001B[1m1/1\u001B[0m \u001B[32m━━━━━━━━━━━━━━━━━━━━\u001B[0m\u001B[37m\u001B[0m \u001B[1m0s\u001B[0m 14ms/step - loss: 210.3716\n",
      "Epoch 28/200\n",
      "\u001B[1m1/1\u001B[0m \u001B[32m━━━━━━━━━━━━━━━━━━━━\u001B[0m\u001B[37m\u001B[0m \u001B[1m0s\u001B[0m 12ms/step - loss: 208.4811\n",
      "Epoch 29/200\n",
      "\u001B[1m1/1\u001B[0m \u001B[32m━━━━━━━━━━━━━━━━━━━━\u001B[0m\u001B[37m\u001B[0m \u001B[1m0s\u001B[0m 11ms/step - loss: 206.5695\n",
      "Epoch 30/200\n",
      "\u001B[1m1/1\u001B[0m \u001B[32m━━━━━━━━━━━━━━━━━━━━\u001B[0m\u001B[37m\u001B[0m \u001B[1m0s\u001B[0m 11ms/step - loss: 204.6414\n",
      "Epoch 31/200\n",
      "\u001B[1m1/1\u001B[0m \u001B[32m━━━━━━━━━━━━━━━━━━━━\u001B[0m\u001B[37m\u001B[0m \u001B[1m0s\u001B[0m 12ms/step - loss: 202.6826\n",
      "Epoch 32/200\n",
      "\u001B[1m1/1\u001B[0m \u001B[32m━━━━━━━━━━━━━━━━━━━━\u001B[0m\u001B[37m\u001B[0m \u001B[1m0s\u001B[0m 11ms/step - loss: 200.7026\n",
      "Epoch 33/200\n",
      "\u001B[1m1/1\u001B[0m \u001B[32m━━━━━━━━━━━━━━━━━━━━\u001B[0m\u001B[37m\u001B[0m \u001B[1m0s\u001B[0m 12ms/step - loss: 198.6946\n",
      "Epoch 34/200\n",
      "\u001B[1m1/1\u001B[0m \u001B[32m━━━━━━━━━━━━━━━━━━━━\u001B[0m\u001B[37m\u001B[0m \u001B[1m0s\u001B[0m 13ms/step - loss: 196.6579\n",
      "Epoch 35/200\n",
      "\u001B[1m1/1\u001B[0m \u001B[32m━━━━━━━━━━━━━━━━━━━━\u001B[0m\u001B[37m\u001B[0m \u001B[1m0s\u001B[0m 12ms/step - loss: 194.5920\n",
      "Epoch 36/200\n",
      "\u001B[1m1/1\u001B[0m \u001B[32m━━━━━━━━━━━━━━━━━━━━\u001B[0m\u001B[37m\u001B[0m \u001B[1m0s\u001B[0m 13ms/step - loss: 192.4963\n",
      "Epoch 37/200\n",
      "\u001B[1m1/1\u001B[0m \u001B[32m━━━━━━━━━━━━━━━━━━━━\u001B[0m\u001B[37m\u001B[0m \u001B[1m0s\u001B[0m 12ms/step - loss: 190.3705\n",
      "Epoch 38/200\n",
      "\u001B[1m1/1\u001B[0m \u001B[32m━━━━━━━━━━━━━━━━━━━━\u001B[0m\u001B[37m\u001B[0m \u001B[1m0s\u001B[0m 13ms/step - loss: 188.2142\n",
      "Epoch 39/200\n",
      "\u001B[1m1/1\u001B[0m \u001B[32m━━━━━━━━━━━━━━━━━━━━\u001B[0m\u001B[37m\u001B[0m \u001B[1m0s\u001B[0m 12ms/step - loss: 186.0271\n",
      "Epoch 40/200\n",
      "\u001B[1m1/1\u001B[0m \u001B[32m━━━━━━━━━━━━━━━━━━━━\u001B[0m\u001B[37m\u001B[0m \u001B[1m0s\u001B[0m 14ms/step - loss: 183.8089\n",
      "Epoch 41/200\n",
      "\u001B[1m1/1\u001B[0m \u001B[32m━━━━━━━━━━━━━━━━━━━━\u001B[0m\u001B[37m\u001B[0m \u001B[1m0s\u001B[0m 12ms/step - loss: 181.5574\n",
      "Epoch 42/200\n",
      "\u001B[1m1/1\u001B[0m \u001B[32m━━━━━━━━━━━━━━━━━━━━\u001B[0m\u001B[37m\u001B[0m \u001B[1m0s\u001B[0m 13ms/step - loss: 179.2616\n",
      "Epoch 43/200\n",
      "\u001B[1m1/1\u001B[0m \u001B[32m━━━━━━━━━━━━━━━━━━━━\u001B[0m\u001B[37m\u001B[0m \u001B[1m0s\u001B[0m 13ms/step - loss: 176.9000\n",
      "Epoch 44/200\n",
      "\u001B[1m1/1\u001B[0m \u001B[32m━━━━━━━━━━━━━━━━━━━━\u001B[0m\u001B[37m\u001B[0m \u001B[1m0s\u001B[0m 12ms/step - loss: 174.4842\n",
      "Epoch 45/200\n",
      "\u001B[1m1/1\u001B[0m \u001B[32m━━━━━━━━━━━━━━━━━━━━\u001B[0m\u001B[37m\u001B[0m \u001B[1m0s\u001B[0m 13ms/step - loss: 171.9830\n",
      "Epoch 46/200\n",
      "\u001B[1m1/1\u001B[0m \u001B[32m━━━━━━━━━━━━━━━━━━━━\u001B[0m\u001B[37m\u001B[0m \u001B[1m0s\u001B[0m 12ms/step - loss: 169.4385\n",
      "Epoch 47/200\n",
      "\u001B[1m1/1\u001B[0m \u001B[32m━━━━━━━━━━━━━━━━━━━━\u001B[0m\u001B[37m\u001B[0m \u001B[1m0s\u001B[0m 11ms/step - loss: 166.8584\n",
      "Epoch 48/200\n",
      "\u001B[1m1/1\u001B[0m \u001B[32m━━━━━━━━━━━━━━━━━━━━\u001B[0m\u001B[37m\u001B[0m \u001B[1m0s\u001B[0m 11ms/step - loss: 164.2433\n",
      "Epoch 49/200\n",
      "\u001B[1m1/1\u001B[0m \u001B[32m━━━━━━━━━━━━━━━━━━━━\u001B[0m\u001B[37m\u001B[0m \u001B[1m0s\u001B[0m 12ms/step - loss: 161.5949\n",
      "Epoch 50/200\n",
      "\u001B[1m1/1\u001B[0m \u001B[32m━━━━━━━━━━━━━━━━━━━━\u001B[0m\u001B[37m\u001B[0m \u001B[1m0s\u001B[0m 11ms/step - loss: 158.8574\n",
      "Epoch 51/200\n",
      "\u001B[1m1/1\u001B[0m \u001B[32m━━━━━━━━━━━━━━━━━━━━\u001B[0m\u001B[37m\u001B[0m \u001B[1m0s\u001B[0m 11ms/step - loss: 156.0854\n",
      "Epoch 52/200\n",
      "\u001B[1m1/1\u001B[0m \u001B[32m━━━━━━━━━━━━━━━━━━━━\u001B[0m\u001B[37m\u001B[0m \u001B[1m0s\u001B[0m 11ms/step - loss: 153.2800\n",
      "Epoch 53/200\n",
      "\u001B[1m1/1\u001B[0m \u001B[32m━━━━━━━━━━━━━━━━━━━━\u001B[0m\u001B[37m\u001B[0m \u001B[1m0s\u001B[0m 11ms/step - loss: 150.4427\n",
      "Epoch 54/200\n",
      "\u001B[1m1/1\u001B[0m \u001B[32m━━━━━━━━━━━━━━━━━━━━\u001B[0m\u001B[37m\u001B[0m \u001B[1m0s\u001B[0m 11ms/step - loss: 147.5748\n",
      "Epoch 55/200\n",
      "\u001B[1m1/1\u001B[0m \u001B[32m━━━━━━━━━━━━━━━━━━━━\u001B[0m\u001B[37m\u001B[0m \u001B[1m0s\u001B[0m 11ms/step - loss: 144.6782\n",
      "Epoch 56/200\n",
      "\u001B[1m1/1\u001B[0m \u001B[32m━━━━━━━━━━━━━━━━━━━━\u001B[0m\u001B[37m\u001B[0m \u001B[1m0s\u001B[0m 11ms/step - loss: 141.7547\n",
      "Epoch 57/200\n",
      "\u001B[1m1/1\u001B[0m \u001B[32m━━━━━━━━━━━━━━━━━━━━\u001B[0m\u001B[37m\u001B[0m \u001B[1m0s\u001B[0m 12ms/step - loss: 138.8055\n",
      "Epoch 58/200\n",
      "\u001B[1m1/1\u001B[0m \u001B[32m━━━━━━━━━━━━━━━━━━━━\u001B[0m\u001B[37m\u001B[0m \u001B[1m0s\u001B[0m 11ms/step - loss: 135.8221\n",
      "Epoch 59/200\n",
      "\u001B[1m1/1\u001B[0m \u001B[32m━━━━━━━━━━━━━━━━━━━━\u001B[0m\u001B[37m\u001B[0m \u001B[1m0s\u001B[0m 11ms/step - loss: 132.8186\n",
      "Epoch 60/200\n",
      "\u001B[1m1/1\u001B[0m \u001B[32m━━━━━━━━━━━━━━━━━━━━\u001B[0m\u001B[37m\u001B[0m \u001B[1m0s\u001B[0m 11ms/step - loss: 129.7975\n",
      "Epoch 61/200\n",
      "\u001B[1m1/1\u001B[0m \u001B[32m━━━━━━━━━━━━━━━━━━━━\u001B[0m\u001B[37m\u001B[0m \u001B[1m0s\u001B[0m 11ms/step - loss: 126.7618\n",
      "Epoch 62/200\n",
      "\u001B[1m1/1\u001B[0m \u001B[32m━━━━━━━━━━━━━━━━━━━━\u001B[0m\u001B[37m\u001B[0m \u001B[1m0s\u001B[0m 11ms/step - loss: 123.7079\n",
      "Epoch 63/200\n",
      "\u001B[1m1/1\u001B[0m \u001B[32m━━━━━━━━━━━━━━━━━━━━\u001B[0m\u001B[37m\u001B[0m \u001B[1m0s\u001B[0m 10ms/step - loss: 120.6268\n",
      "Epoch 64/200\n",
      "\u001B[1m1/1\u001B[0m \u001B[32m━━━━━━━━━━━━━━━━━━━━\u001B[0m\u001B[37m\u001B[0m \u001B[1m0s\u001B[0m 11ms/step - loss: 117.5395\n",
      "Epoch 65/200\n",
      "\u001B[1m1/1\u001B[0m \u001B[32m━━━━━━━━━━━━━━━━━━━━\u001B[0m\u001B[37m\u001B[0m \u001B[1m0s\u001B[0m 11ms/step - loss: 114.4503\n",
      "Epoch 66/200\n",
      "\u001B[1m1/1\u001B[0m \u001B[32m━━━━━━━━━━━━━━━━━━━━\u001B[0m\u001B[37m\u001B[0m \u001B[1m0s\u001B[0m 10ms/step - loss: 111.3629\n",
      "Epoch 67/200\n",
      "\u001B[1m1/1\u001B[0m \u001B[32m━━━━━━━━━━━━━━━━━━━━\u001B[0m\u001B[37m\u001B[0m \u001B[1m0s\u001B[0m 11ms/step - loss: 108.2807\n",
      "Epoch 68/200\n",
      "\u001B[1m1/1\u001B[0m \u001B[32m━━━━━━━━━━━━━━━━━━━━\u001B[0m\u001B[37m\u001B[0m \u001B[1m0s\u001B[0m 11ms/step - loss: 105.1998\n",
      "Epoch 69/200\n",
      "\u001B[1m1/1\u001B[0m \u001B[32m━━━━━━━━━━━━━━━━━━━━\u001B[0m\u001B[37m\u001B[0m \u001B[1m0s\u001B[0m 11ms/step - loss: 102.1142\n",
      "Epoch 70/200\n",
      "\u001B[1m1/1\u001B[0m \u001B[32m━━━━━━━━━━━━━━━━━━━━\u001B[0m\u001B[37m\u001B[0m \u001B[1m0s\u001B[0m 10ms/step - loss: 99.0458\n",
      "Epoch 71/200\n",
      "\u001B[1m1/1\u001B[0m \u001B[32m━━━━━━━━━━━━━━━━━━━━\u001B[0m\u001B[37m\u001B[0m \u001B[1m0s\u001B[0m 11ms/step - loss: 95.9986\n",
      "Epoch 72/200\n",
      "\u001B[1m1/1\u001B[0m \u001B[32m━━━━━━━━━━━━━━━━━━━━\u001B[0m\u001B[37m\u001B[0m \u001B[1m0s\u001B[0m 11ms/step - loss: 92.9767\n",
      "Epoch 73/200\n",
      "\u001B[1m1/1\u001B[0m \u001B[32m━━━━━━━━━━━━━━━━━━━━\u001B[0m\u001B[37m\u001B[0m \u001B[1m0s\u001B[0m 11ms/step - loss: 89.9838\n",
      "Epoch 74/200\n",
      "\u001B[1m1/1\u001B[0m \u001B[32m━━━━━━━━━━━━━━━━━━━━\u001B[0m\u001B[37m\u001B[0m \u001B[1m0s\u001B[0m 12ms/step - loss: 87.0241\n",
      "Epoch 75/200\n",
      "\u001B[1m1/1\u001B[0m \u001B[32m━━━━━━━━━━━━━━━━━━━━\u001B[0m\u001B[37m\u001B[0m \u001B[1m0s\u001B[0m 13ms/step - loss: 84.1013\n",
      "Epoch 76/200\n",
      "\u001B[1m1/1\u001B[0m \u001B[32m━━━━━━━━━━━━━━━━━━━━\u001B[0m\u001B[37m\u001B[0m \u001B[1m0s\u001B[0m 14ms/step - loss: 81.2192\n",
      "Epoch 77/200\n",
      "\u001B[1m1/1\u001B[0m \u001B[32m━━━━━━━━━━━━━━━━━━━━\u001B[0m\u001B[37m\u001B[0m \u001B[1m0s\u001B[0m 12ms/step - loss: 78.3815\n",
      "Epoch 78/200\n",
      "\u001B[1m1/1\u001B[0m \u001B[32m━━━━━━━━━━━━━━━━━━━━\u001B[0m\u001B[37m\u001B[0m \u001B[1m0s\u001B[0m 12ms/step - loss: 75.5916\n",
      "Epoch 79/200\n",
      "\u001B[1m1/1\u001B[0m \u001B[32m━━━━━━━━━━━━━━━━━━━━\u001B[0m\u001B[37m\u001B[0m \u001B[1m0s\u001B[0m 12ms/step - loss: 72.8530\n",
      "Epoch 80/200\n",
      "\u001B[1m1/1\u001B[0m \u001B[32m━━━━━━━━━━━━━━━━━━━━\u001B[0m\u001B[37m\u001B[0m \u001B[1m0s\u001B[0m 13ms/step - loss: 70.1687\n",
      "Epoch 81/200\n",
      "\u001B[1m1/1\u001B[0m \u001B[32m━━━━━━━━━━━━━━━━━━━━\u001B[0m\u001B[37m\u001B[0m \u001B[1m0s\u001B[0m 11ms/step - loss: 67.5417\n",
      "Epoch 82/200\n",
      "\u001B[1m1/1\u001B[0m \u001B[32m━━━━━━━━━━━━━━━━━━━━\u001B[0m\u001B[37m\u001B[0m \u001B[1m0s\u001B[0m 11ms/step - loss: 64.9749\n",
      "Epoch 83/200\n",
      "\u001B[1m1/1\u001B[0m \u001B[32m━━━━━━━━━━━━━━━━━━━━\u001B[0m\u001B[37m\u001B[0m \u001B[1m0s\u001B[0m 12ms/step - loss: 62.4706\n",
      "Epoch 84/200\n",
      "\u001B[1m1/1\u001B[0m \u001B[32m━━━━━━━━━━━━━━━━━━━━\u001B[0m\u001B[37m\u001B[0m \u001B[1m0s\u001B[0m 11ms/step - loss: 60.0313\n",
      "Epoch 85/200\n",
      "\u001B[1m1/1\u001B[0m \u001B[32m━━━━━━━━━━━━━━━━━━━━\u001B[0m\u001B[37m\u001B[0m \u001B[1m0s\u001B[0m 11ms/step - loss: 57.6588\n",
      "Epoch 86/200\n",
      "\u001B[1m1/1\u001B[0m \u001B[32m━━━━━━━━━━━━━━━━━━━━\u001B[0m\u001B[37m\u001B[0m \u001B[1m0s\u001B[0m 11ms/step - loss: 55.3550\n",
      "Epoch 87/200\n",
      "\u001B[1m1/1\u001B[0m \u001B[32m━━━━━━━━━━━━━━━━━━━━\u001B[0m\u001B[37m\u001B[0m \u001B[1m0s\u001B[0m 11ms/step - loss: 53.1213\n",
      "Epoch 88/200\n",
      "\u001B[1m1/1\u001B[0m \u001B[32m━━━━━━━━━━━━━━━━━━━━\u001B[0m\u001B[37m\u001B[0m \u001B[1m0s\u001B[0m 12ms/step - loss: 50.9590\n",
      "Epoch 89/200\n",
      "\u001B[1m1/1\u001B[0m \u001B[32m━━━━━━━━━━━━━━━━━━━━\u001B[0m\u001B[37m\u001B[0m \u001B[1m0s\u001B[0m 11ms/step - loss: 48.8690\n",
      "Epoch 90/200\n",
      "\u001B[1m1/1\u001B[0m \u001B[32m━━━━━━━━━━━━━━━━━━━━\u001B[0m\u001B[37m\u001B[0m \u001B[1m0s\u001B[0m 11ms/step - loss: 46.8519\n",
      "Epoch 91/200\n",
      "\u001B[1m1/1\u001B[0m \u001B[32m━━━━━━━━━━━━━━━━━━━━\u001B[0m\u001B[37m\u001B[0m \u001B[1m0s\u001B[0m 11ms/step - loss: 44.9082\n",
      "Epoch 92/200\n",
      "\u001B[1m1/1\u001B[0m \u001B[32m━━━━━━━━━━━━━━━━━━━━\u001B[0m\u001B[37m\u001B[0m \u001B[1m0s\u001B[0m 11ms/step - loss: 43.0380\n",
      "Epoch 93/200\n",
      "\u001B[1m1/1\u001B[0m \u001B[32m━━━━━━━━━━━━━━━━━━━━\u001B[0m\u001B[37m\u001B[0m \u001B[1m0s\u001B[0m 11ms/step - loss: 41.2412\n",
      "Epoch 94/200\n",
      "\u001B[1m1/1\u001B[0m \u001B[32m━━━━━━━━━━━━━━━━━━━━\u001B[0m\u001B[37m\u001B[0m \u001B[1m0s\u001B[0m 11ms/step - loss: 39.5174\n",
      "Epoch 95/200\n",
      "\u001B[1m1/1\u001B[0m \u001B[32m━━━━━━━━━━━━━━━━━━━━\u001B[0m\u001B[37m\u001B[0m \u001B[1m0s\u001B[0m 11ms/step - loss: 37.8662\n",
      "Epoch 96/200\n",
      "\u001B[1m1/1\u001B[0m \u001B[32m━━━━━━━━━━━━━━━━━━━━\u001B[0m\u001B[37m\u001B[0m \u001B[1m0s\u001B[0m 12ms/step - loss: 36.2866\n",
      "Epoch 97/200\n",
      "\u001B[1m1/1\u001B[0m \u001B[32m━━━━━━━━━━━━━━━━━━━━\u001B[0m\u001B[37m\u001B[0m \u001B[1m0s\u001B[0m 11ms/step - loss: 34.7776\n",
      "Epoch 98/200\n",
      "\u001B[1m1/1\u001B[0m \u001B[32m━━━━━━━━━━━━━━━━━━━━\u001B[0m\u001B[37m\u001B[0m \u001B[1m0s\u001B[0m 11ms/step - loss: 33.3233\n",
      "Epoch 99/200\n",
      "\u001B[1m1/1\u001B[0m \u001B[32m━━━━━━━━━━━━━━━━━━━━\u001B[0m\u001B[37m\u001B[0m \u001B[1m0s\u001B[0m 11ms/step - loss: 31.8573\n",
      "Epoch 100/200\n",
      "\u001B[1m1/1\u001B[0m \u001B[32m━━━━━━━━━━━━━━━━━━━━\u001B[0m\u001B[37m\u001B[0m \u001B[1m0s\u001B[0m 11ms/step - loss: 30.4475\n",
      "Epoch 101/200\n",
      "\u001B[1m1/1\u001B[0m \u001B[32m━━━━━━━━━━━━━━━━━━━━\u001B[0m\u001B[37m\u001B[0m \u001B[1m0s\u001B[0m 11ms/step - loss: 29.1098\n",
      "Epoch 102/200\n",
      "\u001B[1m1/1\u001B[0m \u001B[32m━━━━━━━━━━━━━━━━━━━━\u001B[0m\u001B[37m\u001B[0m \u001B[1m0s\u001B[0m 11ms/step - loss: 27.8428\n",
      "Epoch 103/200\n",
      "\u001B[1m1/1\u001B[0m \u001B[32m━━━━━━━━━━━━━━━━━━━━\u001B[0m\u001B[37m\u001B[0m \u001B[1m0s\u001B[0m 11ms/step - loss: 26.6421\n",
      "Epoch 104/200\n",
      "\u001B[1m1/1\u001B[0m \u001B[32m━━━━━━━━━━━━━━━━━━━━\u001B[0m\u001B[37m\u001B[0m \u001B[1m0s\u001B[0m 10ms/step - loss: 25.5084\n",
      "Epoch 105/200\n",
      "\u001B[1m1/1\u001B[0m \u001B[32m━━━━━━━━━━━━━━━━━━━━\u001B[0m\u001B[37m\u001B[0m \u001B[1m0s\u001B[0m 11ms/step - loss: 24.4395\n",
      "Epoch 106/200\n",
      "\u001B[1m1/1\u001B[0m \u001B[32m━━━━━━━━━━━━━━━━━━━━\u001B[0m\u001B[37m\u001B[0m \u001B[1m0s\u001B[0m 11ms/step - loss: 23.4330\n",
      "Epoch 107/200\n",
      "\u001B[1m1/1\u001B[0m \u001B[32m━━━━━━━━━━━━━━━━━━━━\u001B[0m\u001B[37m\u001B[0m \u001B[1m0s\u001B[0m 12ms/step - loss: 22.4864\n",
      "Epoch 108/200\n",
      "\u001B[1m1/1\u001B[0m \u001B[32m━━━━━━━━━━━━━━━━━━━━\u001B[0m\u001B[37m\u001B[0m \u001B[1m0s\u001B[0m 12ms/step - loss: 21.5973\n",
      "Epoch 109/200\n",
      "\u001B[1m1/1\u001B[0m \u001B[32m━━━━━━━━━━━━━━━━━━━━\u001B[0m\u001B[37m\u001B[0m \u001B[1m0s\u001B[0m 14ms/step - loss: 20.7633\n",
      "Epoch 110/200\n",
      "\u001B[1m1/1\u001B[0m \u001B[32m━━━━━━━━━━━━━━━━━━━━\u001B[0m\u001B[37m\u001B[0m \u001B[1m0s\u001B[0m 14ms/step - loss: 19.9818\n",
      "Epoch 111/200\n",
      "\u001B[1m1/1\u001B[0m \u001B[32m━━━━━━━━━━━━━━━━━━━━\u001B[0m\u001B[37m\u001B[0m \u001B[1m0s\u001B[0m 13ms/step - loss: 19.2504\n",
      "Epoch 112/200\n",
      "\u001B[1m1/1\u001B[0m \u001B[32m━━━━━━━━━━━━━━━━━━━━\u001B[0m\u001B[37m\u001B[0m \u001B[1m0s\u001B[0m 12ms/step - loss: 18.5666\n",
      "Epoch 113/200\n",
      "\u001B[1m1/1\u001B[0m \u001B[32m━━━━━━━━━━━━━━━━━━━━\u001B[0m\u001B[37m\u001B[0m \u001B[1m0s\u001B[0m 13ms/step - loss: 17.9279\n",
      "Epoch 114/200\n",
      "\u001B[1m1/1\u001B[0m \u001B[32m━━━━━━━━━━━━━━━━━━━━\u001B[0m\u001B[37m\u001B[0m \u001B[1m0s\u001B[0m 12ms/step - loss: 17.3369\n",
      "Epoch 115/200\n",
      "\u001B[1m1/1\u001B[0m \u001B[32m━━━━━━━━━━━━━━━━━━━━\u001B[0m\u001B[37m\u001B[0m \u001B[1m0s\u001B[0m 11ms/step - loss: 16.7862\n",
      "Epoch 116/200\n",
      "\u001B[1m1/1\u001B[0m \u001B[32m━━━━━━━━━━━━━━━━━━━━\u001B[0m\u001B[37m\u001B[0m \u001B[1m0s\u001B[0m 12ms/step - loss: 16.2736\n",
      "Epoch 117/200\n",
      "\u001B[1m1/1\u001B[0m \u001B[32m━━━━━━━━━━━━━━━━━━━━\u001B[0m\u001B[37m\u001B[0m \u001B[1m0s\u001B[0m 14ms/step - loss: 15.7969\n",
      "Epoch 118/200\n",
      "\u001B[1m1/1\u001B[0m \u001B[32m━━━━━━━━━━━━━━━━━━━━\u001B[0m\u001B[37m\u001B[0m \u001B[1m0s\u001B[0m 12ms/step - loss: 15.3540\n",
      "Epoch 119/200\n",
      "\u001B[1m1/1\u001B[0m \u001B[32m━━━━━━━━━━━━━━━━━━━━\u001B[0m\u001B[37m\u001B[0m \u001B[1m0s\u001B[0m 12ms/step - loss: 14.9425\n",
      "Epoch 120/200\n",
      "\u001B[1m1/1\u001B[0m \u001B[32m━━━━━━━━━━━━━━━━━━━━\u001B[0m\u001B[37m\u001B[0m \u001B[1m0s\u001B[0m 11ms/step - loss: 14.5610\n",
      "Epoch 121/200\n",
      "\u001B[1m1/1\u001B[0m \u001B[32m━━━━━━━━━━━━━━━━━━━━\u001B[0m\u001B[37m\u001B[0m \u001B[1m0s\u001B[0m 11ms/step - loss: 14.2075\n",
      "Epoch 122/200\n",
      "\u001B[1m1/1\u001B[0m \u001B[32m━━━━━━━━━━━━━━━━━━━━\u001B[0m\u001B[37m\u001B[0m \u001B[1m0s\u001B[0m 11ms/step - loss: 13.8802\n",
      "Epoch 123/200\n",
      "\u001B[1m1/1\u001B[0m \u001B[32m━━━━━━━━━━━━━━━━━━━━\u001B[0m\u001B[37m\u001B[0m \u001B[1m0s\u001B[0m 10ms/step - loss: 13.5774\n",
      "Epoch 124/200\n",
      "\u001B[1m1/1\u001B[0m \u001B[32m━━━━━━━━━━━━━━━━━━━━\u001B[0m\u001B[37m\u001B[0m \u001B[1m0s\u001B[0m 11ms/step - loss: 13.2974\n",
      "Epoch 125/200\n",
      "\u001B[1m1/1\u001B[0m \u001B[32m━━━━━━━━━━━━━━━━━━━━\u001B[0m\u001B[37m\u001B[0m \u001B[1m0s\u001B[0m 16ms/step - loss: 13.0387\n",
      "Epoch 126/200\n",
      "\u001B[1m1/1\u001B[0m \u001B[32m━━━━━━━━━━━━━━━━━━━━\u001B[0m\u001B[37m\u001B[0m \u001B[1m0s\u001B[0m 15ms/step - loss: 12.7996\n",
      "Epoch 127/200\n",
      "\u001B[1m1/1\u001B[0m \u001B[32m━━━━━━━━━━━━━━━━━━━━\u001B[0m\u001B[37m\u001B[0m \u001B[1m0s\u001B[0m 12ms/step - loss: 12.5789\n",
      "Epoch 128/200\n",
      "\u001B[1m1/1\u001B[0m \u001B[32m━━━━━━━━━━━━━━━━━━━━\u001B[0m\u001B[37m\u001B[0m \u001B[1m0s\u001B[0m 12ms/step - loss: 12.3753\n",
      "Epoch 129/200\n",
      "\u001B[1m1/1\u001B[0m \u001B[32m━━━━━━━━━━━━━━━━━━━━\u001B[0m\u001B[37m\u001B[0m \u001B[1m0s\u001B[0m 11ms/step - loss: 12.1874\n",
      "Epoch 130/200\n",
      "\u001B[1m1/1\u001B[0m \u001B[32m━━━━━━━━━━━━━━━━━━━━\u001B[0m\u001B[37m\u001B[0m \u001B[1m0s\u001B[0m 11ms/step - loss: 12.0142\n",
      "Epoch 131/200\n",
      "\u001B[1m1/1\u001B[0m \u001B[32m━━━━━━━━━━━━━━━━━━━━\u001B[0m\u001B[37m\u001B[0m \u001B[1m0s\u001B[0m 11ms/step - loss: 11.8544\n",
      "Epoch 132/200\n",
      "\u001B[1m1/1\u001B[0m \u001B[32m━━━━━━━━━━━━━━━━━━━━\u001B[0m\u001B[37m\u001B[0m \u001B[1m0s\u001B[0m 12ms/step - loss: 11.7073\n",
      "Epoch 133/200\n",
      "\u001B[1m1/1\u001B[0m \u001B[32m━━━━━━━━━━━━━━━━━━━━\u001B[0m\u001B[37m\u001B[0m \u001B[1m0s\u001B[0m 12ms/step - loss: 11.5716\n",
      "Epoch 134/200\n",
      "\u001B[1m1/1\u001B[0m \u001B[32m━━━━━━━━━━━━━━━━━━━━\u001B[0m\u001B[37m\u001B[0m \u001B[1m0s\u001B[0m 11ms/step - loss: 11.4467\n",
      "Epoch 135/200\n",
      "\u001B[1m1/1\u001B[0m \u001B[32m━━━━━━━━━━━━━━━━━━━━\u001B[0m\u001B[37m\u001B[0m \u001B[1m0s\u001B[0m 11ms/step - loss: 11.3316\n",
      "Epoch 136/200\n",
      "\u001B[1m1/1\u001B[0m \u001B[32m━━━━━━━━━━━━━━━━━━━━\u001B[0m\u001B[37m\u001B[0m \u001B[1m0s\u001B[0m 11ms/step - loss: 11.2256\n",
      "Epoch 137/200\n",
      "\u001B[1m1/1\u001B[0m \u001B[32m━━━━━━━━━━━━━━━━━━━━\u001B[0m\u001B[37m\u001B[0m \u001B[1m0s\u001B[0m 11ms/step - loss: 11.1280\n",
      "Epoch 138/200\n",
      "\u001B[1m1/1\u001B[0m \u001B[32m━━━━━━━━━━━━━━━━━━━━\u001B[0m\u001B[37m\u001B[0m \u001B[1m0s\u001B[0m 11ms/step - loss: 11.0382\n",
      "Epoch 139/200\n",
      "\u001B[1m1/1\u001B[0m \u001B[32m━━━━━━━━━━━━━━━━━━━━\u001B[0m\u001B[37m\u001B[0m \u001B[1m0s\u001B[0m 11ms/step - loss: 10.9554\n",
      "Epoch 140/200\n",
      "\u001B[1m1/1\u001B[0m \u001B[32m━━━━━━━━━━━━━━━━━━━━\u001B[0m\u001B[37m\u001B[0m \u001B[1m0s\u001B[0m 11ms/step - loss: 10.8792\n",
      "Epoch 141/200\n",
      "\u001B[1m1/1\u001B[0m \u001B[32m━━━━━━━━━━━━━━━━━━━━\u001B[0m\u001B[37m\u001B[0m \u001B[1m0s\u001B[0m 11ms/step - loss: 10.8090\n",
      "Epoch 142/200\n",
      "\u001B[1m1/1\u001B[0m \u001B[32m━━━━━━━━━━━━━━━━━━━━\u001B[0m\u001B[37m\u001B[0m \u001B[1m0s\u001B[0m 11ms/step - loss: 10.7444\n",
      "Epoch 143/200\n",
      "\u001B[1m1/1\u001B[0m \u001B[32m━━━━━━━━━━━━━━━━━━━━\u001B[0m\u001B[37m\u001B[0m \u001B[1m0s\u001B[0m 11ms/step - loss: 10.6848\n",
      "Epoch 144/200\n",
      "\u001B[1m1/1\u001B[0m \u001B[32m━━━━━━━━━━━━━━━━━━━━\u001B[0m\u001B[37m\u001B[0m \u001B[1m0s\u001B[0m 11ms/step - loss: 10.6299\n",
      "Epoch 145/200\n",
      "\u001B[1m1/1\u001B[0m \u001B[32m━━━━━━━━━━━━━━━━━━━━\u001B[0m\u001B[37m\u001B[0m \u001B[1m0s\u001B[0m 10ms/step - loss: 10.5794\n",
      "Epoch 146/200\n",
      "\u001B[1m1/1\u001B[0m \u001B[32m━━━━━━━━━━━━━━━━━━━━\u001B[0m\u001B[37m\u001B[0m \u001B[1m0s\u001B[0m 11ms/step - loss: 10.5328\n",
      "Epoch 147/200\n",
      "\u001B[1m1/1\u001B[0m \u001B[32m━━━━━━━━━━━━━━━━━━━━\u001B[0m\u001B[37m\u001B[0m \u001B[1m0s\u001B[0m 11ms/step - loss: 10.4898\n",
      "Epoch 148/200\n",
      "\u001B[1m1/1\u001B[0m \u001B[32m━━━━━━━━━━━━━━━━━━━━\u001B[0m\u001B[37m\u001B[0m \u001B[1m0s\u001B[0m 12ms/step - loss: 10.4501\n",
      "Epoch 149/200\n",
      "\u001B[1m1/1\u001B[0m \u001B[32m━━━━━━━━━━━━━━━━━━━━\u001B[0m\u001B[37m\u001B[0m \u001B[1m0s\u001B[0m 12ms/step - loss: 10.4136\n",
      "Epoch 150/200\n",
      "\u001B[1m1/1\u001B[0m \u001B[32m━━━━━━━━━━━━━━━━━━━━\u001B[0m\u001B[37m\u001B[0m \u001B[1m0s\u001B[0m 11ms/step - loss: 10.3798\n",
      "Epoch 151/200\n",
      "\u001B[1m1/1\u001B[0m \u001B[32m━━━━━━━━━━━━━━━━━━━━\u001B[0m\u001B[37m\u001B[0m \u001B[1m0s\u001B[0m 10ms/step - loss: 10.3486\n",
      "Epoch 152/200\n",
      "\u001B[1m1/1\u001B[0m \u001B[32m━━━━━━━━━━━━━━━━━━━━\u001B[0m\u001B[37m\u001B[0m \u001B[1m0s\u001B[0m 11ms/step - loss: 10.3198\n",
      "Epoch 153/200\n",
      "\u001B[1m1/1\u001B[0m \u001B[32m━━━━━━━━━━━━━━━━━━━━\u001B[0m\u001B[37m\u001B[0m \u001B[1m0s\u001B[0m 11ms/step - loss: 10.2932\n",
      "Epoch 154/200\n",
      "\u001B[1m1/1\u001B[0m \u001B[32m━━━━━━━━━━━━━━━━━━━━\u001B[0m\u001B[37m\u001B[0m \u001B[1m0s\u001B[0m 11ms/step - loss: 10.2686\n",
      "Epoch 155/200\n",
      "\u001B[1m1/1\u001B[0m \u001B[32m━━━━━━━━━━━━━━━━━━━━\u001B[0m\u001B[37m\u001B[0m \u001B[1m0s\u001B[0m 10ms/step - loss: 10.2458\n",
      "Epoch 156/200\n",
      "\u001B[1m1/1\u001B[0m \u001B[32m━━━━━━━━━━━━━━━━━━━━\u001B[0m\u001B[37m\u001B[0m \u001B[1m0s\u001B[0m 11ms/step - loss: 10.2248\n",
      "Epoch 157/200\n",
      "\u001B[1m1/1\u001B[0m \u001B[32m━━━━━━━━━━━━━━━━━━━━\u001B[0m\u001B[37m\u001B[0m \u001B[1m0s\u001B[0m 12ms/step - loss: 10.2052\n",
      "Epoch 158/200\n",
      "\u001B[1m1/1\u001B[0m \u001B[32m━━━━━━━━━━━━━━━━━━━━\u001B[0m\u001B[37m\u001B[0m \u001B[1m0s\u001B[0m 11ms/step - loss: 10.1871\n",
      "Epoch 159/200\n",
      "\u001B[1m1/1\u001B[0m \u001B[32m━━━━━━━━━━━━━━━━━━━━\u001B[0m\u001B[37m\u001B[0m \u001B[1m0s\u001B[0m 12ms/step - loss: 10.1704\n",
      "Epoch 160/200\n",
      "\u001B[1m1/1\u001B[0m \u001B[32m━━━━━━━━━━━━━━━━━━━━\u001B[0m\u001B[37m\u001B[0m \u001B[1m0s\u001B[0m 12ms/step - loss: 10.1548\n",
      "Epoch 161/200\n",
      "\u001B[1m1/1\u001B[0m \u001B[32m━━━━━━━━━━━━━━━━━━━━\u001B[0m\u001B[37m\u001B[0m \u001B[1m0s\u001B[0m 12ms/step - loss: 10.1403\n",
      "Epoch 162/200\n",
      "\u001B[1m1/1\u001B[0m \u001B[32m━━━━━━━━━━━━━━━━━━━━\u001B[0m\u001B[37m\u001B[0m \u001B[1m0s\u001B[0m 14ms/step - loss: 10.1269\n",
      "Epoch 163/200\n",
      "\u001B[1m1/1\u001B[0m \u001B[32m━━━━━━━━━━━━━━━━━━━━\u001B[0m\u001B[37m\u001B[0m \u001B[1m0s\u001B[0m 11ms/step - loss: 10.1144\n",
      "Epoch 164/200\n",
      "\u001B[1m1/1\u001B[0m \u001B[32m━━━━━━━━━━━━━━━━━━━━\u001B[0m\u001B[37m\u001B[0m \u001B[1m0s\u001B[0m 13ms/step - loss: 10.1027\n",
      "Epoch 165/200\n",
      "\u001B[1m1/1\u001B[0m \u001B[32m━━━━━━━━━━━━━━━━━━━━\u001B[0m\u001B[37m\u001B[0m \u001B[1m0s\u001B[0m 13ms/step - loss: 10.0919\n",
      "Epoch 166/200\n",
      "\u001B[1m1/1\u001B[0m \u001B[32m━━━━━━━━━━━━━━━━━━━━\u001B[0m\u001B[37m\u001B[0m \u001B[1m0s\u001B[0m 12ms/step - loss: 10.0818\n",
      "Epoch 167/200\n",
      "\u001B[1m1/1\u001B[0m \u001B[32m━━━━━━━━━━━━━━━━━━━━\u001B[0m\u001B[37m\u001B[0m \u001B[1m0s\u001B[0m 12ms/step - loss: 10.0724\n",
      "Epoch 168/200\n",
      "\u001B[1m1/1\u001B[0m \u001B[32m━━━━━━━━━━━━━━━━━━━━\u001B[0m\u001B[37m\u001B[0m \u001B[1m0s\u001B[0m 11ms/step - loss: 10.0636\n",
      "Epoch 169/200\n",
      "\u001B[1m1/1\u001B[0m \u001B[32m━━━━━━━━━━━━━━━━━━━━\u001B[0m\u001B[37m\u001B[0m \u001B[1m0s\u001B[0m 13ms/step - loss: 10.0554\n",
      "Epoch 170/200\n",
      "\u001B[1m1/1\u001B[0m \u001B[32m━━━━━━━━━━━━━━━━━━━━\u001B[0m\u001B[37m\u001B[0m \u001B[1m0s\u001B[0m 12ms/step - loss: 10.0477\n",
      "Epoch 171/200\n",
      "\u001B[1m1/1\u001B[0m \u001B[32m━━━━━━━━━━━━━━━━━━━━\u001B[0m\u001B[37m\u001B[0m \u001B[1m0s\u001B[0m 12ms/step - loss: 10.0405\n",
      "Epoch 172/200\n",
      "\u001B[1m1/1\u001B[0m \u001B[32m━━━━━━━━━━━━━━━━━━━━\u001B[0m\u001B[37m\u001B[0m \u001B[1m0s\u001B[0m 13ms/step - loss: 10.0338\n",
      "Epoch 173/200\n",
      "\u001B[1m1/1\u001B[0m \u001B[32m━━━━━━━━━━━━━━━━━━━━\u001B[0m\u001B[37m\u001B[0m \u001B[1m0s\u001B[0m 13ms/step - loss: 10.0274\n",
      "Epoch 174/200\n",
      "\u001B[1m1/1\u001B[0m \u001B[32m━━━━━━━━━━━━━━━━━━━━\u001B[0m\u001B[37m\u001B[0m \u001B[1m0s\u001B[0m 13ms/step - loss: 10.0215\n",
      "Epoch 175/200\n",
      "\u001B[1m1/1\u001B[0m \u001B[32m━━━━━━━━━━━━━━━━━━━━\u001B[0m\u001B[37m\u001B[0m \u001B[1m0s\u001B[0m 12ms/step - loss: 10.0160\n",
      "Epoch 176/200\n",
      "\u001B[1m1/1\u001B[0m \u001B[32m━━━━━━━━━━━━━━━━━━━━\u001B[0m\u001B[37m\u001B[0m \u001B[1m0s\u001B[0m 13ms/step - loss: 10.0107\n",
      "Epoch 177/200\n",
      "\u001B[1m1/1\u001B[0m \u001B[32m━━━━━━━━━━━━━━━━━━━━\u001B[0m\u001B[37m\u001B[0m \u001B[1m0s\u001B[0m 12ms/step - loss: 10.0058\n",
      "Epoch 178/200\n",
      "\u001B[1m1/1\u001B[0m \u001B[32m━━━━━━━━━━━━━━━━━━━━\u001B[0m\u001B[37m\u001B[0m \u001B[1m0s\u001B[0m 13ms/step - loss: 10.0012\n",
      "Epoch 179/200\n",
      "\u001B[1m1/1\u001B[0m \u001B[32m━━━━━━━━━━━━━━━━━━━━\u001B[0m\u001B[37m\u001B[0m \u001B[1m0s\u001B[0m 12ms/step - loss: 9.9968\n",
      "Epoch 180/200\n",
      "\u001B[1m1/1\u001B[0m \u001B[32m━━━━━━━━━━━━━━━━━━━━\u001B[0m\u001B[37m\u001B[0m \u001B[1m0s\u001B[0m 13ms/step - loss: 9.9927\n",
      "Epoch 181/200\n",
      "\u001B[1m1/1\u001B[0m \u001B[32m━━━━━━━━━━━━━━━━━━━━\u001B[0m\u001B[37m\u001B[0m \u001B[1m0s\u001B[0m 12ms/step - loss: 9.9889\n",
      "Epoch 182/200\n",
      "\u001B[1m1/1\u001B[0m \u001B[32m━━━━━━━━━━━━━━━━━━━━\u001B[0m\u001B[37m\u001B[0m \u001B[1m0s\u001B[0m 11ms/step - loss: 9.9852\n",
      "Epoch 183/200\n",
      "\u001B[1m1/1\u001B[0m \u001B[32m━━━━━━━━━━━━━━━━━━━━\u001B[0m\u001B[37m\u001B[0m \u001B[1m0s\u001B[0m 12ms/step - loss: 9.9817\n",
      "Epoch 184/200\n",
      "\u001B[1m1/1\u001B[0m \u001B[32m━━━━━━━━━━━━━━━━━━━━\u001B[0m\u001B[37m\u001B[0m \u001B[1m0s\u001B[0m 12ms/step - loss: 9.9785\n",
      "Epoch 185/200\n",
      "\u001B[1m1/1\u001B[0m \u001B[32m━━━━━━━━━━━━━━━━━━━━\u001B[0m\u001B[37m\u001B[0m \u001B[1m0s\u001B[0m 12ms/step - loss: 9.9754\n",
      "Epoch 186/200\n",
      "\u001B[1m1/1\u001B[0m \u001B[32m━━━━━━━━━━━━━━━━━━━━\u001B[0m\u001B[37m\u001B[0m \u001B[1m0s\u001B[0m 12ms/step - loss: 9.9725\n",
      "Epoch 187/200\n",
      "\u001B[1m1/1\u001B[0m \u001B[32m━━━━━━━━━━━━━━━━━━━━\u001B[0m\u001B[37m\u001B[0m \u001B[1m0s\u001B[0m 12ms/step - loss: 9.9697\n",
      "Epoch 188/200\n",
      "\u001B[1m1/1\u001B[0m \u001B[32m━━━━━━━━━━━━━━━━━━━━\u001B[0m\u001B[37m\u001B[0m \u001B[1m0s\u001B[0m 12ms/step - loss: 9.9670\n",
      "Epoch 189/200\n",
      "\u001B[1m1/1\u001B[0m \u001B[32m━━━━━━━━━━━━━━━━━━━━\u001B[0m\u001B[37m\u001B[0m \u001B[1m0s\u001B[0m 12ms/step - loss: 9.9645\n",
      "Epoch 190/200\n",
      "\u001B[1m1/1\u001B[0m \u001B[32m━━━━━━━━━━━━━━━━━━━━\u001B[0m\u001B[37m\u001B[0m \u001B[1m0s\u001B[0m 12ms/step - loss: 9.9621\n",
      "Epoch 191/200\n",
      "\u001B[1m1/1\u001B[0m \u001B[32m━━━━━━━━━━━━━━━━━━━━\u001B[0m\u001B[37m\u001B[0m \u001B[1m0s\u001B[0m 12ms/step - loss: 9.9599\n",
      "Epoch 192/200\n",
      "\u001B[1m1/1\u001B[0m \u001B[32m━━━━━━━━━━━━━━━━━━━━\u001B[0m\u001B[37m\u001B[0m \u001B[1m0s\u001B[0m 12ms/step - loss: 9.9577\n",
      "Epoch 193/200\n",
      "\u001B[1m1/1\u001B[0m \u001B[32m━━━━━━━━━━━━━━━━━━━━\u001B[0m\u001B[37m\u001B[0m \u001B[1m0s\u001B[0m 11ms/step - loss: 9.9557\n",
      "Epoch 194/200\n",
      "\u001B[1m1/1\u001B[0m \u001B[32m━━━━━━━━━━━━━━━━━━━━\u001B[0m\u001B[37m\u001B[0m \u001B[1m0s\u001B[0m 11ms/step - loss: 9.9537\n",
      "Epoch 195/200\n",
      "\u001B[1m1/1\u001B[0m \u001B[32m━━━━━━━━━━━━━━━━━━━━\u001B[0m\u001B[37m\u001B[0m \u001B[1m0s\u001B[0m 12ms/step - loss: 9.9518\n",
      "Epoch 196/200\n",
      "\u001B[1m1/1\u001B[0m \u001B[32m━━━━━━━━━━━━━━━━━━━━\u001B[0m\u001B[37m\u001B[0m \u001B[1m0s\u001B[0m 12ms/step - loss: 9.9501\n",
      "Epoch 197/200\n",
      "\u001B[1m1/1\u001B[0m \u001B[32m━━━━━━━━━━━━━━━━━━━━\u001B[0m\u001B[37m\u001B[0m \u001B[1m0s\u001B[0m 12ms/step - loss: 9.9484\n",
      "Epoch 198/200\n",
      "\u001B[1m1/1\u001B[0m \u001B[32m━━━━━━━━━━━━━━━━━━━━\u001B[0m\u001B[37m\u001B[0m \u001B[1m0s\u001B[0m 11ms/step - loss: 9.9467\n",
      "Epoch 199/200\n",
      "\u001B[1m1/1\u001B[0m \u001B[32m━━━━━━━━━━━━━━━━━━━━\u001B[0m\u001B[37m\u001B[0m \u001B[1m0s\u001B[0m 11ms/step - loss: 9.9452\n",
      "Epoch 200/200\n",
      "\u001B[1m1/1\u001B[0m \u001B[32m━━━━━━━━━━━━━━━━━━━━\u001B[0m\u001B[37m\u001B[0m \u001B[1m0s\u001B[0m 12ms/step - loss: 9.9437\n"
     ]
    },
    {
     "data": {
      "text/plain": [
       "<keras.src.callbacks.history.History at 0x36347fbb0>"
      ]
     },
     "execution_count": 8,
     "metadata": {},
     "output_type": "execute_result"
    }
   ],
   "execution_count": 8
  },
  {
   "cell_type": "code",
   "metadata": {
    "colab": {
     "base_uri": "https://localhost:8080/"
    },
    "executionInfo": {
     "elapsed": 246,
     "status": "ok",
     "timestamp": 1753243320341,
     "user": {
      "displayName": "고강태 강사",
      "userId": "11816854931407731745"
     },
     "user_tz": -540
    },
    "id": "dKNRgRT-VmNo",
    "outputId": "750437eb-7ab5-4ed2-dc1f-a418968b8a9d",
    "ExecuteTime": {
     "end_time": "2025-07-24T10:12:26.993056Z",
     "start_time": "2025-07-24T10:12:26.956664Z"
    }
   },
   "source": [
    "# 딥러닝 네트워크의 Y값 예측\n",
    "model.predict(X)"
   ],
   "outputs": [
    {
     "name": "stdout",
     "output_type": "stream",
     "text": [
      "\u001B[1m1/1\u001B[0m \u001B[32m━━━━━━━━━━━━━━━━━━━━\u001B[0m\u001B[37m\u001B[0m \u001B[1m0s\u001B[0m 18ms/step\n"
     ]
    },
    {
     "data": {
      "text/plain": [
       "array([[15.303596],\n",
       "       [16.178585],\n",
       "       [14.705843],\n",
       "       [15.50167 ],\n",
       "       [14.801924],\n",
       "       [15.340755],\n",
       "       [15.727309],\n",
       "       [15.919519],\n",
       "       [16.170229],\n",
       "       [15.835949],\n",
       "       [16.237085],\n",
       "       [15.869378],\n",
       "       [15.752379],\n",
       "       [15.510026],\n",
       "       [16.161871],\n",
       "       [14.756236]], dtype=float32)"
      ]
     },
     "execution_count": 9,
     "metadata": {},
     "output_type": "execute_result"
    }
   ],
   "execution_count": 9
  },
  {
   "cell_type": "code",
   "source": [
    "Y"
   ],
   "metadata": {
    "colab": {
     "base_uri": "https://localhost:8080/"
    },
    "id": "5zirCGhiCR4z",
    "executionInfo": {
     "status": "ok",
     "timestamp": 1753243320342,
     "user_tz": -540,
     "elapsed": 8,
     "user": {
      "displayName": "고강태 강사",
      "userId": "11816854931407731745"
     }
    },
    "outputId": "7299e5fb-0a5c-47a6-e040-99444d4ef897",
    "ExecuteTime": {
     "end_time": "2025-07-24T10:12:27.236836Z",
     "start_time": "2025-07-24T10:12:27.233413Z"
    }
   },
   "outputs": [
    {
     "data": {
      "text/plain": [
       "array([12.27, 14.44, 11.87, 18.75, 17.52, 16.37, 19.78, 19.51, 12.65,\n",
       "       14.74, 10.72, 21.94, 12.83, 15.51, 17.14, 14.42])"
      ]
     },
     "execution_count": 10,
     "metadata": {},
     "output_type": "execute_result"
    }
   ],
   "execution_count": 10
  },
  {
   "cell_type": "code",
   "metadata": {
    "colab": {
     "base_uri": "https://localhost:8080/",
     "height": 506
    },
    "executionInfo": {
     "elapsed": 450,
     "status": "ok",
     "timestamp": 1753243320789,
     "user": {
      "displayName": "고강태 강사",
      "userId": "11816854931407731745"
     },
     "user_tz": -540
    },
    "id": "3hOY981DK93b",
    "outputId": "6e10088c-1e93-4888-8621-4bf4166506c3",
    "ExecuteTime": {
     "end_time": "2025-07-24T10:12:27.411015Z",
     "start_time": "2025-07-24T10:12:27.291657Z"
    }
   },
   "source": [
    "# 딥러닝 네트워크의 회귀선 확인\n",
    "import matplotlib.pyplot as plt\n",
    "\n",
    "line_x = np.arange(min(X), max(X), 0.01)\n",
    "\n",
    "line_y = model.predict(line_x)\n",
    "\n",
    "plt.plot(line_x, line_y)\n",
    "plt.scatter(X, Y)\n",
    "plt.plot(line_x, line_y, color='red')\n",
    "\n",
    "plt.xlabel('Population Growth Rate (%)')\n",
    "plt.ylabel('Elderly Population Rate (%)')\n",
    "plt.show()"
   ],
   "outputs": [
    {
     "name": "stdout",
     "output_type": "stream",
     "text": [
      "\u001B[1m11/11\u001B[0m \u001B[32m━━━━━━━━━━━━━━━━━━━━\u001B[0m\u001B[37m\u001B[0m \u001B[1m0s\u001B[0m 1ms/step \n"
     ]
    },
    {
     "data": {
      "text/plain": [
       "<Figure size 640x480 with 1 Axes>"
      ],
      "image/png": "[encoded data removed]"
     },
     "metadata": {},
     "output_type": "display_data"
    }
   ],
   "execution_count": 11
  },
  {
   "cell_type": "markdown",
   "metadata": {
    "id": "raf-pMEBKfmn"
   },
   "source": [
    "# 2. 보스턴 주택 가격 회귀 분석\n",
    "\n",
    "Boston Housing Dataset\n",
    " - https://lib.stat.cmu.edu/datasets/boston\n",
    " - 1970년 중반 보스턴 외곽 지역의 범죄율, 지방세율 등의 데이터\n",
    " - 주요 특징별 주택 가격을 예측해 보겠습니다.\n",
    "\n"
   ]
  },
  {
   "cell_type": "markdown",
   "metadata": {
    "id": "nseHpNTCr9sY"
   },
   "source": [
    "> `지도학습-회귀2_Boston.ipynb` 에서 데이터에 대한 내용을 참고"
   ]
  },
  {
   "cell_type": "markdown",
   "metadata": {
    "id": "ZkKoYFwsr9sY"
   },
   "source": [
    "13개의 특성은 다음과 같습니다:\n",
    "\n",
    "- CRIM     per capita crime rate by town\n",
    "- ZN       proportion of residential land zoned for lots over 25,000 sq.ft.\n",
    "- INDUS    proportion of non-retail business acres per town\n",
    "- CHAS     Charles River dummy variable (= 1 if tract bounds river; 0 otherwise)\n",
    "- NOX      nitric oxides concentration (parts per 10 million)\n",
    "- RM       average number of rooms per dwelling\n",
    "- AGE      proportion of owner-occupied units built prior to 1940\n",
    "- DIS      weighted distances to five Boston employment centres\n",
    "- RAD      index of accessibility to radial highways\n",
    "- TAX      full-value property-tax rate per $10,000\n",
    "- PTRATIO  pupil-teacher ratio by town\n",
    "- B        1000(Bk - 0.63)^2 where Bk is the proportion of blacks by town\n",
    "- LSTAT    % lower status of the population\n",
    "- MEDV     Median value of owner-occupied homes in $1000's\n"
   ]
  },
  {
   "cell_type": "code",
   "metadata": {
    "colab": {
     "base_uri": "https://localhost:8080/"
    },
    "executionInfo": {
     "elapsed": 21,
     "status": "ok",
     "timestamp": 1753243320810,
     "user": {
      "displayName": "고강태 강사",
      "userId": "11816854931407731745"
     },
     "user_tz": -540
    },
    "id": "nYyev2iFKf-M",
    "outputId": "4f46e8cb-7c1c-4a9e-ddec-a61cd4cebfd3",
    "ExecuteTime": {
     "end_time": "2025-07-24T10:12:27.435648Z",
     "start_time": "2025-07-24T10:12:27.430222Z"
    }
   },
   "source": [
    "# 데이터 불러오기\n",
    "from keras.datasets import boston_housing\n",
    "\n",
    "(train_X, train_Y), (test_X, test_Y) = boston_housing.load_data()\n",
    "\n",
    "print(len(train_X), len(test_X))\n",
    "print(train_X[0])\n",
    "print(train_Y[0])"
   ],
   "outputs": [
    {
     "name": "stdout",
     "output_type": "stream",
     "text": [
      "404 102\n",
      "[  1.23247   0.        8.14      0.        0.538     6.142    91.7\n",
      "   3.9769    4.      307.       21.      396.9      18.72   ]\n",
      "15.2\n"
     ]
    }
   ],
   "execution_count": 12
  },
  {
   "cell_type": "markdown",
   "metadata": {
    "id": "vUDjwRKhr9sY"
   },
   "source": [
    "데이터 포인트가 506개로 비교적 개수가 적고 404개는 훈련 샘플로 102개는 테스트 샘플로 나누어져 있습니다.\n"
   ]
  },
  {
   "cell_type": "code",
   "metadata": {
    "colab": {
     "base_uri": "https://localhost:8080/"
    },
    "executionInfo": {
     "elapsed": 24,
     "status": "ok",
     "timestamp": 1753243320836,
     "user": {
      "displayName": "고강태 강사",
      "userId": "11816854931407731745"
     },
     "user_tz": -540
    },
    "id": "aRS2_qDUr9sZ",
    "outputId": "bd16a839-e654-4b47-ee1e-8e5de9c24545",
    "ExecuteTime": {
     "end_time": "2025-07-24T10:12:27.454114Z",
     "start_time": "2025-07-24T10:12:27.447808Z"
    }
   },
   "source": [
    "train_X.shape,train_Y.shape"
   ],
   "outputs": [
    {
     "data": {
      "text/plain": [
       "((404, 13), (404,))"
      ]
     },
     "execution_count": 13,
     "metadata": {},
     "output_type": "execute_result"
    }
   ],
   "execution_count": 13
  },
  {
   "cell_type": "markdown",
   "metadata": {
    "id": "G4oj5lJVr9sZ"
   },
   "source": [
    "target 은 주택 가격이다"
   ]
  },
  {
   "cell_type": "code",
   "metadata": {
    "colab": {
     "base_uri": "https://localhost:8080/"
    },
    "executionInfo": {
     "elapsed": 5,
     "status": "ok",
     "timestamp": 1753243320842,
     "user": {
      "displayName": "고강태 강사",
      "userId": "11816854931407731745"
     },
     "user_tz": -540
    },
    "id": "0npsI9lrr9sZ",
    "outputId": "02c0dbda-6dcf-4043-bf92-1915a1fa21bc",
    "ExecuteTime": {
     "end_time": "2025-07-24T10:12:27.469816Z",
     "start_time": "2025-07-24T10:12:27.464499Z"
    }
   },
   "source": [
    "train_Y.min(),train_Y.max()"
   ],
   "outputs": [
    {
     "data": {
      "text/plain": [
       "(5.0, 50.0)"
      ]
     },
     "execution_count": 14,
     "metadata": {},
     "output_type": "execute_result"
    }
   ],
   "execution_count": 14
  },
  {
   "cell_type": "markdown",
   "metadata": {
    "id": "LLUZlwVpr9sZ"
   },
   "source": [
    "입력 데이터에 있는 각 특성(예를 들어 범죄율)은 스케일이 서로 다릅니다. 어떤 값은 0과 1 사이의 비율을 나타내고 어떤 것은 1과 12 사이의 값을 가지거나 1과 100 사이의 값을 가집니다."
   ]
  },
  {
   "cell_type": "code",
   "metadata": {
    "colab": {
     "base_uri": "https://localhost:8080/"
    },
    "executionInfo": {
     "elapsed": 62,
     "status": "ok",
     "timestamp": 1753243320905,
     "user": {
      "displayName": "고강태 강사",
      "userId": "11816854931407731745"
     },
     "user_tz": -540
    },
    "id": "54sPmqOVr9sZ",
    "outputId": "66a1fd6c-af6b-4fb9-d78a-4107a3b83513",
    "ExecuteTime": {
     "end_time": "2025-07-24T10:12:27.482526Z",
     "start_time": "2025-07-24T10:12:27.478407Z"
    }
   },
   "source": [
    "train_X.min(),train_X.max()"
   ],
   "outputs": [
    {
     "data": {
      "text/plain": [
       "(0.0, 711.0)"
      ]
     },
     "execution_count": 15,
     "metadata": {},
     "output_type": "execute_result"
    }
   ],
   "execution_count": 15
  },
  {
   "cell_type": "markdown",
   "metadata": {
    "id": "XVJgFeD0r9sa"
   },
   "source": [
    "상이한 스케일을 가진 값을 신경망에 주입하면 문제가 됩니다. 네트워크가 이런 다양한 데이터에 자동으로 맞추려고 할 수 있지만 이는 확실히 학습을 더 어렵게 만듭니다.\n",
    "\n",
    "이런 데이터를 다룰 때 대표적인 방법은 특성별로 정규화를 하는 것입니다. 입력 데이터에 있는 각 특성(입력 데이터 행렬의 열)에 대해서 특성의 평균을 빼고 표준 편차로 나눕니다. 특성의 중앙이 0 근처에 맞춰지고 표준 편차가 1이 됩니다."
   ]
  },
  {
   "cell_type": "markdown",
   "source": [
    "### \"실습\" scikit-StandardScaler, RobustScaler"
   ],
   "metadata": {
    "id": "Xk4UXjslEY5D"
   }
  },
  {
   "cell_type": "code",
   "metadata": {
    "colab": {
     "base_uri": "https://localhost:8080/"
    },
    "executionInfo": {
     "elapsed": 31,
     "status": "ok",
     "timestamp": 1753243320905,
     "user": {
      "displayName": "고강태 강사",
      "userId": "11816854931407731745"
     },
     "user_tz": -540
    },
    "id": "SavRNrV6oVxE",
    "outputId": "87224205-10f8-4b1a-b1c1-99344597c70a",
    "ExecuteTime": {
     "end_time": "2025-07-24T10:12:27.498413Z",
     "start_time": "2025-07-24T10:12:27.493929Z"
    }
   },
   "source": [
    "# 데이터 전처리(정규화)\n",
    "x_mean = train_X.mean(axis=0)\n",
    "x_std = train_X.std(axis=0)\n",
    "train_X -= x_mean\n",
    "train_X /= x_std\n",
    "test_X -= x_mean\n",
    "test_X /= x_std\n",
    "\n",
    "y_mean = train_Y.mean(axis=0)\n",
    "y_std = train_Y.std(axis=0)\n",
    "train_Y -= y_mean\n",
    "train_Y /= y_std\n",
    "test_Y -= y_mean\n",
    "test_Y /= y_std\n",
    "\n",
    "print(train_X[0])\n",
    "print(train_Y[0])"
   ],
   "outputs": [
    {
     "name": "stdout",
     "output_type": "stream",
     "text": [
      "[-0.27224633 -0.48361547 -0.43576161 -0.25683275 -0.1652266  -0.1764426\n",
      "  0.81306188  0.1166983  -0.62624905 -0.59517003  1.14850044  0.44807713\n",
      "  0.8252202 ]\n",
      "-0.7821526033779157\n"
     ]
    }
   ],
   "execution_count": 16
  },
  {
   "cell_type": "code",
   "metadata": {
    "colab": {
     "base_uri": "https://localhost:8080/",
     "height": 272
    },
    "executionInfo": {
     "elapsed": 29,
     "status": "ok",
     "timestamp": 1753243320909,
     "user": {
      "displayName": "고강태 강사",
      "userId": "11816854931407731745"
     },
     "user_tz": -540
    },
    "id": "cwSYzQG0Ych9",
    "outputId": "ccad999f-9291-4940-f6fa-918ad1498f1c",
    "ExecuteTime": {
     "end_time": "2025-07-24T10:12:27.520432Z",
     "start_time": "2025-07-24T10:12:27.503578Z"
    }
   },
   "source": [
    "# Boston Housing Dataset 회귀 모델 생성\n",
    "model =  tf.keras.Sequential([\n",
    "    keras.layers.Input((13,)),\n",
    "    tf.keras.layers.Dense(units=52, activation='relu'),\n",
    "    tf.keras.layers.Dense(units=39, activation='relu'),\n",
    "    tf.keras.layers.Dense(units=26, activation='relu'),\n",
    "    tf.keras.layers.Dense(units=1)\n",
    "])\n",
    "\n",
    "model.summary()"
   ],
   "outputs": [
    {
     "data": {
      "text/plain": [
       "\u001B[1mModel: \"sequential_1\"\u001B[0m\n"
      ],
      "text/html": [
       "<pre style=\"white-space:pre;overflow-x:auto;line-height:normal;font-family:Menlo,'DejaVu Sans Mono',consolas,'Courier New',monospace\"><span style=\"font-weight: bold\">Model: \"sequential_1\"</span>\n",
       "</pre>\n"
      ]
     },
     "metadata": {},
     "output_type": "display_data"
    },
    {
     "data": {
      "text/plain": [
       "┏━━━━━━━━━━━━━━━━━━━━━━━━━━━━━━━━━┳━━━━━━━━━━━━━━━━━━━━━━━━┳━━━━━━━━━━━━━━━┓\n",
       "┃\u001B[1m \u001B[0m\u001B[1mLayer (type)                   \u001B[0m\u001B[1m \u001B[0m┃\u001B[1m \u001B[0m\u001B[1mOutput Shape          \u001B[0m\u001B[1m \u001B[0m┃\u001B[1m \u001B[0m\u001B[1m      Param #\u001B[0m\u001B[1m \u001B[0m┃\n",
       "┡━━━━━━━━━━━━━━━━━━━━━━━━━━━━━━━━━╇━━━━━━━━━━━━━━━━━━━━━━━━╇━━━━━━━━━━━━━━━┩\n",
       "│ dense_2 (\u001B[38;5;33mDense\u001B[0m)                 │ (\u001B[38;5;45mNone\u001B[0m, \u001B[38;5;34m52\u001B[0m)             │           \u001B[38;5;34m728\u001B[0m │\n",
       "├─────────────────────────────────┼────────────────────────┼───────────────┤\n",
       "│ dense_3 (\u001B[38;5;33mDense\u001B[0m)                 │ (\u001B[38;5;45mNone\u001B[0m, \u001B[38;5;34m39\u001B[0m)             │         \u001B[38;5;34m2,067\u001B[0m │\n",
       "├─────────────────────────────────┼────────────────────────┼───────────────┤\n",
       "│ dense_4 (\u001B[38;5;33mDense\u001B[0m)                 │ (\u001B[38;5;45mNone\u001B[0m, \u001B[38;5;34m26\u001B[0m)             │         \u001B[38;5;34m1,040\u001B[0m │\n",
       "├─────────────────────────────────┼────────────────────────┼───────────────┤\n",
       "│ dense_5 (\u001B[38;5;33mDense\u001B[0m)                 │ (\u001B[38;5;45mNone\u001B[0m, \u001B[38;5;34m1\u001B[0m)              │            \u001B[38;5;34m27\u001B[0m │\n",
       "└─────────────────────────────────┴────────────────────────┴───────────────┘\n"
      ],
      "text/html": [
       "<pre style=\"white-space:pre;overflow-x:auto;line-height:normal;font-family:Menlo,'DejaVu Sans Mono',consolas,'Courier New',monospace\">┏━━━━━━━━━━━━━━━━━━━━━━━━━━━━━━━━━┳━━━━━━━━━━━━━━━━━━━━━━━━┳━━━━━━━━━━━━━━━┓\n",
       "┃<span style=\"font-weight: bold\"> Layer (type)                    </span>┃<span style=\"font-weight: bold\"> Output Shape           </span>┃<span style=\"font-weight: bold\">       Param # </span>┃\n",
       "┡━━━━━━━━━━━━━━━━━━━━━━━━━━━━━━━━━╇━━━━━━━━━━━━━━━━━━━━━━━━╇━━━━━━━━━━━━━━━┩\n",
       "│ dense_2 (<span style=\"color: #0087ff; text-decoration-color: #0087ff\">Dense</span>)                 │ (<span style=\"color: #00d7ff; text-decoration-color: #00d7ff\">None</span>, <span style=\"color: #00af00; text-decoration-color: #00af00\">52</span>)             │           <span style=\"color: #00af00; text-decoration-color: #00af00\">728</span> │\n",
       "├─────────────────────────────────┼────────────────────────┼───────────────┤\n",
       "│ dense_3 (<span style=\"color: #0087ff; text-decoration-color: #0087ff\">Dense</span>)                 │ (<span style=\"color: #00d7ff; text-decoration-color: #00d7ff\">None</span>, <span style=\"color: #00af00; text-decoration-color: #00af00\">39</span>)             │         <span style=\"color: #00af00; text-decoration-color: #00af00\">2,067</span> │\n",
       "├─────────────────────────────────┼────────────────────────┼───────────────┤\n",
       "│ dense_4 (<span style=\"color: #0087ff; text-decoration-color: #0087ff\">Dense</span>)                 │ (<span style=\"color: #00d7ff; text-decoration-color: #00d7ff\">None</span>, <span style=\"color: #00af00; text-decoration-color: #00af00\">26</span>)             │         <span style=\"color: #00af00; text-decoration-color: #00af00\">1,040</span> │\n",
       "├─────────────────────────────────┼────────────────────────┼───────────────┤\n",
       "│ dense_5 (<span style=\"color: #0087ff; text-decoration-color: #0087ff\">Dense</span>)                 │ (<span style=\"color: #00d7ff; text-decoration-color: #00d7ff\">None</span>, <span style=\"color: #00af00; text-decoration-color: #00af00\">1</span>)              │            <span style=\"color: #00af00; text-decoration-color: #00af00\">27</span> │\n",
       "└─────────────────────────────────┴────────────────────────┴───────────────┘\n",
       "</pre>\n"
      ]
     },
     "metadata": {},
     "output_type": "display_data"
    },
    {
     "data": {
      "text/plain": [
       "\u001B[1m Total params: \u001B[0m\u001B[38;5;34m3,862\u001B[0m (15.09 KB)\n"
      ],
      "text/html": [
       "<pre style=\"white-space:pre;overflow-x:auto;line-height:normal;font-family:Menlo,'DejaVu Sans Mono',consolas,'Courier New',monospace\"><span style=\"font-weight: bold\"> Total params: </span><span style=\"color: #00af00; text-decoration-color: #00af00\">3,862</span> (15.09 KB)\n",
       "</pre>\n"
      ]
     },
     "metadata": {},
     "output_type": "display_data"
    },
    {
     "data": {
      "text/plain": [
       "\u001B[1m Trainable params: \u001B[0m\u001B[38;5;34m3,862\u001B[0m (15.09 KB)\n"
      ],
      "text/html": [
       "<pre style=\"white-space:pre;overflow-x:auto;line-height:normal;font-family:Menlo,'DejaVu Sans Mono',consolas,'Courier New',monospace\"><span style=\"font-weight: bold\"> Trainable params: </span><span style=\"color: #00af00; text-decoration-color: #00af00\">3,862</span> (15.09 KB)\n",
       "</pre>\n"
      ]
     },
     "metadata": {},
     "output_type": "display_data"
    },
    {
     "data": {
      "text/plain": [
       "\u001B[1m Non-trainable params: \u001B[0m\u001B[38;5;34m0\u001B[0m (0.00 B)\n"
      ],
      "text/html": [
       "<pre style=\"white-space:pre;overflow-x:auto;line-height:normal;font-family:Menlo,'DejaVu Sans Mono',consolas,'Courier New',monospace\"><span style=\"font-weight: bold\"> Non-trainable params: </span><span style=\"color: #00af00; text-decoration-color: #00af00\">0</span> (0.00 B)\n",
       "</pre>\n"
      ]
     },
     "metadata": {},
     "output_type": "display_data"
    }
   ],
   "execution_count": 17
  },
  {
   "cell_type": "code",
   "metadata": {
    "colab": {
     "base_uri": "https://localhost:8080/"
    },
    "executionInfo": {
     "elapsed": 32,
     "status": "ok",
     "timestamp": 1753243320942,
     "user": {
      "displayName": "고강태 강사",
      "userId": "11816854931407731745"
     },
     "user_tz": -540
    },
    "id": "dUhgxRzmr9sa",
    "outputId": "c924e44b-d5c3-4e29-9c9d-646fc749c681",
    "ExecuteTime": {
     "end_time": "2025-07-24T10:12:27.538420Z",
     "start_time": "2025-07-24T10:12:27.535123Z"
    }
   },
   "source": [
    "(13 + 1) * 52"
   ],
   "outputs": [
    {
     "data": {
      "text/plain": [
       "728"
      ]
     },
     "execution_count": 18,
     "metadata": {},
     "output_type": "execute_result"
    }
   ],
   "execution_count": 18
  },
  {
   "cell_type": "code",
   "source": [
    "%pip install tqdm ipywidgets"
   ],
   "metadata": {
    "colab": {
     "base_uri": "https://localhost:8080/"
    },
    "id": "bKUGRiSTFxzZ",
    "executionInfo": {
     "status": "ok",
     "timestamp": 1753243326868,
     "user_tz": -540,
     "elapsed": 5925,
     "user": {
      "displayName": "고강태 강사",
      "userId": "11816854931407731745"
     }
    },
    "outputId": "f1510c5d-7ef0-4f61-f5cf-f66843b4bfdd",
    "ExecuteTime": {
     "end_time": "2025-07-24T10:12:28.013010Z",
     "start_time": "2025-07-24T10:12:27.550183Z"
    }
   },
   "outputs": [
    {
     "name": "stdout",
     "output_type": "stream",
     "text": [
      "Requirement already satisfied: tqdm in /opt/anaconda3/envs/stenv/lib/python3.9/site-packages (4.67.1)\r\n",
      "Requirement already satisfied: ipywidgets in /opt/anaconda3/envs/stenv/lib/python3.9/site-packages (8.1.7)\r\n",
      "Requirement already satisfied: comm>=0.1.3 in /opt/anaconda3/envs/stenv/lib/python3.9/site-packages (from ipywidgets) (0.2.2)\r\n",
      "Requirement already satisfied: ipython>=6.1.0 in /opt/anaconda3/envs/stenv/lib/python3.9/site-packages (from ipywidgets) (8.18.1)\r\n",
      "Requirement already satisfied: traitlets>=4.3.1 in /opt/anaconda3/envs/stenv/lib/python3.9/site-packages (from ipywidgets) (5.14.3)\r\n",
      "Requirement already satisfied: widgetsnbextension~=4.0.14 in /opt/anaconda3/envs/stenv/lib/python3.9/site-packages (from ipywidgets) (4.0.14)\r\n",
      "Requirement already satisfied: jupyterlab_widgets~=3.0.15 in /opt/anaconda3/envs/stenv/lib/python3.9/site-packages (from ipywidgets) (3.0.15)\r\n",
      "Requirement already satisfied: decorator in /opt/anaconda3/envs/stenv/lib/python3.9/site-packages (from ipython>=6.1.0->ipywidgets) (5.2.1)\r\n",
      "Requirement already satisfied: jedi>=0.16 in /opt/anaconda3/envs/stenv/lib/python3.9/site-packages (from ipython>=6.1.0->ipywidgets) (0.19.2)\r\n",
      "Requirement already satisfied: matplotlib-inline in /opt/anaconda3/envs/stenv/lib/python3.9/site-packages (from ipython>=6.1.0->ipywidgets) (0.1.7)\r\n",
      "Requirement already satisfied: prompt-toolkit<3.1.0,>=3.0.41 in /opt/anaconda3/envs/stenv/lib/python3.9/site-packages (from ipython>=6.1.0->ipywidgets) (3.0.51)\r\n",
      "Requirement already satisfied: pygments>=2.4.0 in /opt/anaconda3/envs/stenv/lib/python3.9/site-packages (from ipython>=6.1.0->ipywidgets) (2.19.2)\r\n",
      "Requirement already satisfied: stack-data in /opt/anaconda3/envs/stenv/lib/python3.9/site-packages (from ipython>=6.1.0->ipywidgets) (0.6.3)\r\n",
      "Requirement already satisfied: typing-extensions in /opt/anaconda3/envs/stenv/lib/python3.9/site-packages (from ipython>=6.1.0->ipywidgets) (4.14.1)\r\n",
      "Requirement already satisfied: exceptiongroup in /opt/anaconda3/envs/stenv/lib/python3.9/site-packages (from ipython>=6.1.0->ipywidgets) (1.3.0)\r\n",
      "Requirement already satisfied: pexpect>4.3 in /opt/anaconda3/envs/stenv/lib/python3.9/site-packages (from ipython>=6.1.0->ipywidgets) (4.9.0)\r\n",
      "Requirement already satisfied: wcwidth in /opt/anaconda3/envs/stenv/lib/python3.9/site-packages (from prompt-toolkit<3.1.0,>=3.0.41->ipython>=6.1.0->ipywidgets) (0.2.13)\r\n",
      "Requirement already satisfied: parso<0.9.0,>=0.8.4 in /opt/anaconda3/envs/stenv/lib/python3.9/site-packages (from jedi>=0.16->ipython>=6.1.0->ipywidgets) (0.8.4)\r\n",
      "Requirement already satisfied: ptyprocess>=0.5 in /opt/anaconda3/envs/stenv/lib/python3.9/site-packages (from pexpect>4.3->ipython>=6.1.0->ipywidgets) (0.7.0)\r\n",
      "Requirement already satisfied: executing>=1.2.0 in /opt/anaconda3/envs/stenv/lib/python3.9/site-packages (from stack-data->ipython>=6.1.0->ipywidgets) (2.2.0)\r\n",
      "Requirement already satisfied: asttokens>=2.1.0 in /opt/anaconda3/envs/stenv/lib/python3.9/site-packages (from stack-data->ipython>=6.1.0->ipywidgets) (3.0.0)\r\n",
      "Requirement already satisfied: pure-eval in /opt/anaconda3/envs/stenv/lib/python3.9/site-packages (from stack-data->ipython>=6.1.0->ipywidgets) (0.2.3)\r\n",
      "Note: you may need to restart the kernel to use updated packages.\n"
     ]
    }
   ],
   "execution_count": 19
  },
  {
   "cell_type": "code",
   "source": [
    "rmsp = keras.optimizers.RMSprop(learning_rate=0.001)\n",
    "adm = keras.optimizers.Adam(learning_rate=0.07)\n",
    "model.compile(optimizer=adm, loss='mse', metrics=['accuracy'])"
   ],
   "metadata": {
    "id": "wU1oXeYbGEOg",
    "executionInfo": {
     "status": "ok",
     "timestamp": 1753243326898,
     "user_tz": -540,
     "elapsed": 25,
     "user": {
      "displayName": "고강태 강사",
      "userId": "11816854931407731745"
     }
    },
    "ExecuteTime": {
     "end_time": "2025-07-24T10:12:28.031603Z",
     "start_time": "2025-07-24T10:12:28.024121Z"
    }
   },
   "outputs": [],
   "execution_count": 20
  },
  {
   "cell_type": "code",
   "metadata": {
    "colab": {
     "base_uri": "https://localhost:8080/",
     "height": 1000,
     "referenced_widgets": [
      "85b064c504124494b470fb69ee143a5e",
      "d3e45d36bbcb4ad89e6170b5f5a1c6dd",
      "74e1a136731a4839ad34bdb79ea609b0",
      "ef7ff959f26b4c22a49e4d9ac9a5aa98",
      "0d60d5c837e7436082086dc014ec63ba",
      "fa2b0102d9b7435eb662d24f0f7bfdbe",
      "c4f81dd4b8484203a846116e32fbe9d0",
      "dd588bbe4660487da29f635ac8f05f81",
      "07b03a5e3a194675a197c87bedbc262b",
      "cdc1e14562cd4e42a6cceeefa25edaa6",
      "9c6ee600584041a89a4b5f81c1904dbe"
     ]
    },
    "executionInfo": {
     "elapsed": 29772,
     "status": "ok",
     "timestamp": 1753243356677,
     "user": {
      "displayName": "고강태 강사",
      "userId": "11816854931407731745"
     },
     "user_tz": -540
    },
    "id": "wnXGDmwWYud1",
    "outputId": "528733fd-c88e-4c3e-82a8-a640689bb530",
    "scrolled": true,
    "tags": [],
    "ExecuteTime": {
     "end_time": "2025-07-24T10:12:31.247344Z",
     "start_time": "2025-07-24T10:12:28.041272Z"
    }
   },
   "source": [
    "from tqdm.keras import TqdmCallback\n",
    "\n",
    "# 회귀 모델 학습\n",
    "history = model.fit(\n",
    "    train_X,\n",
    "    train_Y,\n",
    "    epochs=100,\n",
    "    batch_size=32,\n",
    "    validation_split=0.2,\n",
    "    callbacks=[TqdmCallback(verbose=0)]\n",
    ")"
   ],
   "outputs": [
    {
     "data": {
      "text/plain": [
       "0epoch [00:00, ?epoch/s]"
      ],
      "application/vnd.jupyter.widget-view+json": {
       "version_major": 2,
       "version_minor": 0,
       "model_id": "55615e113e5c43c2b99f1715f460da93"
      }
     },
     "metadata": {},
     "output_type": "display_data"
    },
    {
     "name": "stdout",
     "output_type": "stream",
     "text": [
      "Epoch 1/100\n",
      "\u001B[1m11/11\u001B[0m \u001B[32m━━━━━━━━━━━━━━━━━━━━\u001B[0m\u001B[37m\u001B[0m \u001B[1m0s\u001B[0m 6ms/step - accuracy: 0.0000e+00 - loss: 1.7053 - val_accuracy: 0.0000e+00 - val_loss: 0.3541\n",
      "Epoch 2/100\n",
      "\u001B[1m11/11\u001B[0m \u001B[32m━━━━━━━━━━━━━━━━━━━━\u001B[0m\u001B[37m\u001B[0m \u001B[1m0s\u001B[0m 2ms/step - accuracy: 0.0000e+00 - loss: 0.3285 - val_accuracy: 0.0000e+00 - val_loss: 0.4567\n",
      "Epoch 3/100\n",
      "\u001B[1m11/11\u001B[0m \u001B[32m━━━━━━━━━━━━━━━━━━━━\u001B[0m\u001B[37m\u001B[0m \u001B[1m0s\u001B[0m 2ms/step - accuracy: 0.0000e+00 - loss: 0.3106 - val_accuracy: 0.0000e+00 - val_loss: 0.2570\n",
      "Epoch 4/100\n",
      "\u001B[1m11/11\u001B[0m \u001B[32m━━━━━━━━━━━━━━━━━━━━\u001B[0m\u001B[37m\u001B[0m \u001B[1m0s\u001B[0m 2ms/step - accuracy: 0.0000e+00 - loss: 0.4015 - val_accuracy: 0.0000e+00 - val_loss: 0.2468\n",
      "Epoch 5/100\n",
      "\u001B[1m11/11\u001B[0m \u001B[32m━━━━━━━━━━━━━━━━━━━━\u001B[0m\u001B[37m\u001B[0m \u001B[1m0s\u001B[0m 2ms/step - accuracy: 0.0000e+00 - loss: 0.2977 - val_accuracy: 0.0000e+00 - val_loss: 0.2564\n",
      "Epoch 6/100\n",
      "\u001B[1m11/11\u001B[0m \u001B[32m━━━━━━━━━━━━━━━━━━━━\u001B[0m\u001B[37m\u001B[0m \u001B[1m0s\u001B[0m 2ms/step - accuracy: 0.0000e+00 - loss: 0.2529 - val_accuracy: 0.0000e+00 - val_loss: 0.2438\n",
      "Epoch 7/100\n",
      "\u001B[1m11/11\u001B[0m \u001B[32m━━━━━━━━━━━━━━━━━━━━\u001B[0m\u001B[37m\u001B[0m \u001B[1m0s\u001B[0m 2ms/step - accuracy: 0.0000e+00 - loss: 0.1722 - val_accuracy: 0.0000e+00 - val_loss: 0.3844\n",
      "Epoch 8/100\n",
      "\u001B[1m11/11\u001B[0m \u001B[32m━━━━━━━━━━━━━━━━━━━━\u001B[0m\u001B[37m\u001B[0m \u001B[1m0s\u001B[0m 2ms/step - accuracy: 0.0000e+00 - loss: 0.2491 - val_accuracy: 0.0000e+00 - val_loss: 0.2780\n",
      "Epoch 9/100\n",
      "\u001B[1m11/11\u001B[0m \u001B[32m━━━━━━━━━━━━━━━━━━━━\u001B[0m\u001B[37m\u001B[0m \u001B[1m0s\u001B[0m 2ms/step - accuracy: 0.0000e+00 - loss: 0.1856 - val_accuracy: 0.0000e+00 - val_loss: 0.3814\n",
      "Epoch 10/100\n",
      "\u001B[1m11/11\u001B[0m \u001B[32m━━━━━━━━━━━━━━━━━━━━\u001B[0m\u001B[37m\u001B[0m \u001B[1m0s\u001B[0m 2ms/step - accuracy: 0.0000e+00 - loss: 0.2938 - val_accuracy: 0.0000e+00 - val_loss: 0.2732\n",
      "Epoch 11/100\n",
      "\u001B[1m11/11\u001B[0m \u001B[32m━━━━━━━━━━━━━━━━━━━━\u001B[0m\u001B[37m\u001B[0m \u001B[1m0s\u001B[0m 2ms/step - accuracy: 0.0000e+00 - loss: 0.3048 - val_accuracy: 0.0000e+00 - val_loss: 0.1808\n",
      "Epoch 12/100\n",
      "\u001B[1m11/11\u001B[0m \u001B[32m━━━━━━━━━━━━━━━━━━━━\u001B[0m\u001B[37m\u001B[0m \u001B[1m0s\u001B[0m 2ms/step - accuracy: 0.0000e+00 - loss: 0.1181 - val_accuracy: 0.0000e+00 - val_loss: 0.2830\n",
      "Epoch 13/100\n",
      "\u001B[1m11/11\u001B[0m \u001B[32m━━━━━━━━━━━━━━━━━━━━\u001B[0m\u001B[37m\u001B[0m \u001B[1m0s\u001B[0m 2ms/step - accuracy: 0.0000e+00 - loss: 0.1185 - val_accuracy: 0.0000e+00 - val_loss: 0.2026\n",
      "Epoch 14/100\n",
      "\u001B[1m11/11\u001B[0m \u001B[32m━━━━━━━━━━━━━━━━━━━━\u001B[0m\u001B[37m\u001B[0m \u001B[1m0s\u001B[0m 2ms/step - accuracy: 0.0000e+00 - loss: 0.1212 - val_accuracy: 0.0000e+00 - val_loss: 0.2952\n",
      "Epoch 15/100\n",
      "\u001B[1m11/11\u001B[0m \u001B[32m━━━━━━━━━━━━━━━━━━━━\u001B[0m\u001B[37m\u001B[0m \u001B[1m0s\u001B[0m 2ms/step - accuracy: 0.0000e+00 - loss: 0.1090 - val_accuracy: 0.0000e+00 - val_loss: 0.2129\n",
      "Epoch 16/100\n",
      "\u001B[1m11/11\u001B[0m \u001B[32m━━━━━━━━━━━━━━━━━━━━\u001B[0m\u001B[37m\u001B[0m \u001B[1m0s\u001B[0m 2ms/step - accuracy: 0.0000e+00 - loss: 0.1751 - val_accuracy: 0.0000e+00 - val_loss: 0.2063\n",
      "Epoch 17/100\n",
      "\u001B[1m11/11\u001B[0m \u001B[32m━━━━━━━━━━━━━━━━━━━━\u001B[0m\u001B[37m\u001B[0m \u001B[1m0s\u001B[0m 2ms/step - accuracy: 0.0000e+00 - loss: 0.1173 - val_accuracy: 0.0000e+00 - val_loss: 0.2127\n",
      "Epoch 18/100\n",
      "\u001B[1m11/11\u001B[0m \u001B[32m━━━━━━━━━━━━━━━━━━━━\u001B[0m\u001B[37m\u001B[0m \u001B[1m0s\u001B[0m 2ms/step - accuracy: 0.0000e+00 - loss: 0.1208 - val_accuracy: 0.0000e+00 - val_loss: 0.2328\n",
      "Epoch 19/100\n",
      "\u001B[1m11/11\u001B[0m \u001B[32m━━━━━━━━━━━━━━━━━━━━\u001B[0m\u001B[37m\u001B[0m \u001B[1m0s\u001B[0m 2ms/step - accuracy: 0.0000e+00 - loss: 0.1426 - val_accuracy: 0.0000e+00 - val_loss: 0.2281\n",
      "Epoch 20/100\n",
      "\u001B[1m11/11\u001B[0m \u001B[32m━━━━━━━━━━━━━━━━━━━━\u001B[0m\u001B[37m\u001B[0m \u001B[1m0s\u001B[0m 2ms/step - accuracy: 0.0000e+00 - loss: 0.1724 - val_accuracy: 0.0000e+00 - val_loss: 0.2799\n",
      "Epoch 21/100\n",
      "\u001B[1m11/11\u001B[0m \u001B[32m━━━━━━━━━━━━━━━━━━━━\u001B[0m\u001B[37m\u001B[0m \u001B[1m0s\u001B[0m 2ms/step - accuracy: 0.0000e+00 - loss: 0.2892 - val_accuracy: 0.0000e+00 - val_loss: 0.2475\n",
      "Epoch 22/100\n",
      "\u001B[1m11/11\u001B[0m \u001B[32m━━━━━━━━━━━━━━━━━━━━\u001B[0m\u001B[37m\u001B[0m \u001B[1m0s\u001B[0m 2ms/step - accuracy: 0.0000e+00 - loss: 0.2129 - val_accuracy: 0.0000e+00 - val_loss: 0.1085\n",
      "Epoch 23/100\n",
      "\u001B[1m11/11\u001B[0m \u001B[32m━━━━━━━━━━━━━━━━━━━━\u001B[0m\u001B[37m\u001B[0m \u001B[1m0s\u001B[0m 2ms/step - accuracy: 0.0000e+00 - loss: 0.2144 - val_accuracy: 0.0000e+00 - val_loss: 0.1844\n",
      "Epoch 24/100\n",
      "\u001B[1m11/11\u001B[0m \u001B[32m━━━━━━━━━━━━━━━━━━━━\u001B[0m\u001B[37m\u001B[0m \u001B[1m0s\u001B[0m 2ms/step - accuracy: 0.0000e+00 - loss: 0.1375 - val_accuracy: 0.0000e+00 - val_loss: 0.2070\n",
      "Epoch 25/100\n",
      "\u001B[1m11/11\u001B[0m \u001B[32m━━━━━━━━━━━━━━━━━━━━\u001B[0m\u001B[37m\u001B[0m \u001B[1m0s\u001B[0m 2ms/step - accuracy: 0.0000e+00 - loss: 0.0929 - val_accuracy: 0.0000e+00 - val_loss: 0.1424\n",
      "Epoch 26/100\n",
      "\u001B[1m11/11\u001B[0m \u001B[32m━━━━━━━━━━━━━━━━━━━━\u001B[0m\u001B[37m\u001B[0m \u001B[1m0s\u001B[0m 2ms/step - accuracy: 0.0000e+00 - loss: 0.1381 - val_accuracy: 0.0000e+00 - val_loss: 0.1358\n",
      "Epoch 27/100\n",
      "\u001B[1m11/11\u001B[0m \u001B[32m━━━━━━━━━━━━━━━━━━━━\u001B[0m\u001B[37m\u001B[0m \u001B[1m0s\u001B[0m 2ms/step - accuracy: 0.0000e+00 - loss: 0.0734 - val_accuracy: 0.0000e+00 - val_loss: 0.2583\n",
      "Epoch 28/100\n",
      "\u001B[1m11/11\u001B[0m \u001B[32m━━━━━━━━━━━━━━━━━━━━\u001B[0m\u001B[37m\u001B[0m \u001B[1m0s\u001B[0m 2ms/step - accuracy: 0.0000e+00 - loss: 0.1286 - val_accuracy: 0.0000e+00 - val_loss: 0.3008\n",
      "Epoch 29/100\n",
      "\u001B[1m11/11\u001B[0m \u001B[32m━━━━━━━━━━━━━━━━━━━━\u001B[0m\u001B[37m\u001B[0m \u001B[1m0s\u001B[0m 2ms/step - accuracy: 0.0000e+00 - loss: 0.1315 - val_accuracy: 0.0000e+00 - val_loss: 0.4024\n",
      "Epoch 30/100\n",
      "\u001B[1m11/11\u001B[0m \u001B[32m━━━━━━━━━━━━━━━━━━━━\u001B[0m\u001B[37m\u001B[0m \u001B[1m0s\u001B[0m 2ms/step - accuracy: 0.0000e+00 - loss: 0.1039 - val_accuracy: 0.0000e+00 - val_loss: 0.1164\n",
      "Epoch 31/100\n",
      "\u001B[1m11/11\u001B[0m \u001B[32m━━━━━━━━━━━━━━━━━━━━\u001B[0m\u001B[37m\u001B[0m \u001B[1m0s\u001B[0m 2ms/step - accuracy: 0.0000e+00 - loss: 0.1804 - val_accuracy: 0.0000e+00 - val_loss: 0.1129\n",
      "Epoch 32/100\n",
      "\u001B[1m11/11\u001B[0m \u001B[32m━━━━━━━━━━━━━━━━━━━━\u001B[0m\u001B[37m\u001B[0m \u001B[1m0s\u001B[0m 2ms/step - accuracy: 0.0000e+00 - loss: 0.1225 - val_accuracy: 0.0000e+00 - val_loss: 0.2194\n",
      "Epoch 33/100\n",
      "\u001B[1m11/11\u001B[0m \u001B[32m━━━━━━━━━━━━━━━━━━━━\u001B[0m\u001B[37m\u001B[0m \u001B[1m0s\u001B[0m 2ms/step - accuracy: 0.0000e+00 - loss: 0.1425 - val_accuracy: 0.0000e+00 - val_loss: 0.2180\n",
      "Epoch 34/100\n",
      "\u001B[1m11/11\u001B[0m \u001B[32m━━━━━━━━━━━━━━━━━━━━\u001B[0m\u001B[37m\u001B[0m \u001B[1m0s\u001B[0m 2ms/step - accuracy: 0.0000e+00 - loss: 0.2463 - val_accuracy: 0.0000e+00 - val_loss: 0.2313\n",
      "Epoch 35/100\n",
      "\u001B[1m11/11\u001B[0m \u001B[32m━━━━━━━━━━━━━━━━━━━━\u001B[0m\u001B[37m\u001B[0m \u001B[1m0s\u001B[0m 2ms/step - accuracy: 0.0000e+00 - loss: 0.1145 - val_accuracy: 0.0000e+00 - val_loss: 0.1204\n",
      "Epoch 36/100\n",
      "\u001B[1m11/11\u001B[0m \u001B[32m━━━━━━━━━━━━━━━━━━━━\u001B[0m\u001B[37m\u001B[0m \u001B[1m0s\u001B[0m 2ms/step - accuracy: 0.0000e+00 - loss: 0.1329 - val_accuracy: 0.0000e+00 - val_loss: 0.1441\n",
      "Epoch 37/100\n",
      "\u001B[1m11/11\u001B[0m \u001B[32m━━━━━━━━━━━━━━━━━━━━\u001B[0m\u001B[37m\u001B[0m \u001B[1m0s\u001B[0m 2ms/step - accuracy: 0.0000e+00 - loss: 0.1087 - val_accuracy: 0.0000e+00 - val_loss: 0.1611\n",
      "Epoch 38/100\n",
      "\u001B[1m11/11\u001B[0m \u001B[32m━━━━━━━━━━━━━━━━━━━━\u001B[0m\u001B[37m\u001B[0m \u001B[1m0s\u001B[0m 2ms/step - accuracy: 0.0000e+00 - loss: 0.1676 - val_accuracy: 0.0000e+00 - val_loss: 0.1594\n",
      "Epoch 39/100\n",
      "\u001B[1m11/11\u001B[0m \u001B[32m━━━━━━━━━━━━━━━━━━━━\u001B[0m\u001B[37m\u001B[0m \u001B[1m0s\u001B[0m 2ms/step - accuracy: 0.0000e+00 - loss: 0.1048 - val_accuracy: 0.0000e+00 - val_loss: 0.1308\n",
      "Epoch 40/100\n",
      "\u001B[1m11/11\u001B[0m \u001B[32m━━━━━━━━━━━━━━━━━━━━\u001B[0m\u001B[37m\u001B[0m \u001B[1m0s\u001B[0m 2ms/step - accuracy: 0.0000e+00 - loss: 0.0825 - val_accuracy: 0.0000e+00 - val_loss: 0.1408\n",
      "Epoch 41/100\n",
      "\u001B[1m11/11\u001B[0m \u001B[32m━━━━━━━━━━━━━━━━━━━━\u001B[0m\u001B[37m\u001B[0m \u001B[1m0s\u001B[0m 2ms/step - accuracy: 0.0000e+00 - loss: 0.0936 - val_accuracy: 0.0000e+00 - val_loss: 0.1383\n",
      "Epoch 42/100\n",
      "\u001B[1m11/11\u001B[0m \u001B[32m━━━━━━━━━━━━━━━━━━━━\u001B[0m\u001B[37m\u001B[0m \u001B[1m0s\u001B[0m 2ms/step - accuracy: 0.0000e+00 - loss: 0.0619 - val_accuracy: 0.0000e+00 - val_loss: 0.1274\n",
      "Epoch 43/100\n",
      "\u001B[1m11/11\u001B[0m \u001B[32m━━━━━━━━━━━━━━━━━━━━\u001B[0m\u001B[37m\u001B[0m \u001B[1m0s\u001B[0m 2ms/step - accuracy: 0.0000e+00 - loss: 0.0700 - val_accuracy: 0.0000e+00 - val_loss: 0.1545\n",
      "Epoch 44/100\n",
      "\u001B[1m11/11\u001B[0m \u001B[32m━━━━━━━━━━━━━━━━━━━━\u001B[0m\u001B[37m\u001B[0m \u001B[1m0s\u001B[0m 2ms/step - accuracy: 0.0000e+00 - loss: 0.0955 - val_accuracy: 0.0000e+00 - val_loss: 0.1612\n",
      "Epoch 45/100\n",
      "\u001B[1m11/11\u001B[0m \u001B[32m━━━━━━━━━━━━━━━━━━━━\u001B[0m\u001B[37m\u001B[0m \u001B[1m0s\u001B[0m 2ms/step - accuracy: 0.0000e+00 - loss: 0.1554 - val_accuracy: 0.0000e+00 - val_loss: 0.1853\n",
      "Epoch 46/100\n",
      "\u001B[1m11/11\u001B[0m \u001B[32m━━━━━━━━━━━━━━━━━━━━\u001B[0m\u001B[37m\u001B[0m \u001B[1m0s\u001B[0m 2ms/step - accuracy: 0.0000e+00 - loss: 0.0835 - val_accuracy: 0.0000e+00 - val_loss: 0.2736\n",
      "Epoch 47/100\n",
      "\u001B[1m11/11\u001B[0m \u001B[32m━━━━━━━━━━━━━━━━━━━━\u001B[0m\u001B[37m\u001B[0m \u001B[1m0s\u001B[0m 2ms/step - accuracy: 0.0000e+00 - loss: 0.0692 - val_accuracy: 0.0000e+00 - val_loss: 0.1649\n",
      "Epoch 48/100\n",
      "\u001B[1m11/11\u001B[0m \u001B[32m━━━━━━━━━━━━━━━━━━━━\u001B[0m\u001B[37m\u001B[0m \u001B[1m0s\u001B[0m 2ms/step - accuracy: 0.0000e+00 - loss: 0.0806 - val_accuracy: 0.0000e+00 - val_loss: 0.2280\n",
      "Epoch 49/100\n",
      "\u001B[1m11/11\u001B[0m \u001B[32m━━━━━━━━━━━━━━━━━━━━\u001B[0m\u001B[37m\u001B[0m \u001B[1m0s\u001B[0m 2ms/step - accuracy: 0.0000e+00 - loss: 0.0694 - val_accuracy: 0.0000e+00 - val_loss: 0.1067\n",
      "Epoch 50/100\n",
      "\u001B[1m11/11\u001B[0m \u001B[32m━━━━━━━━━━━━━━━━━━━━\u001B[0m\u001B[37m\u001B[0m \u001B[1m0s\u001B[0m 2ms/step - accuracy: 0.0000e+00 - loss: 0.0663 - val_accuracy: 0.0000e+00 - val_loss: 0.1412\n",
      "Epoch 51/100\n",
      "\u001B[1m11/11\u001B[0m \u001B[32m━━━━━━━━━━━━━━━━━━━━\u001B[0m\u001B[37m\u001B[0m \u001B[1m0s\u001B[0m 2ms/step - accuracy: 0.0000e+00 - loss: 0.0705 - val_accuracy: 0.0000e+00 - val_loss: 0.1483\n",
      "Epoch 52/100\n",
      "\u001B[1m11/11\u001B[0m \u001B[32m━━━━━━━━━━━━━━━━━━━━\u001B[0m\u001B[37m\u001B[0m \u001B[1m0s\u001B[0m 2ms/step - accuracy: 0.0000e+00 - loss: 0.0721 - val_accuracy: 0.0000e+00 - val_loss: 0.1292\n",
      "Epoch 53/100\n",
      "\u001B[1m11/11\u001B[0m \u001B[32m━━━━━━━━━━━━━━━━━━━━\u001B[0m\u001B[37m\u001B[0m \u001B[1m0s\u001B[0m 2ms/step - accuracy: 0.0000e+00 - loss: 0.0598 - val_accuracy: 0.0000e+00 - val_loss: 0.1190\n",
      "Epoch 54/100\n",
      "\u001B[1m11/11\u001B[0m \u001B[32m━━━━━━━━━━━━━━━━━━━━\u001B[0m\u001B[37m\u001B[0m \u001B[1m0s\u001B[0m 2ms/step - accuracy: 0.0000e+00 - loss: 0.0596 - val_accuracy: 0.0000e+00 - val_loss: 0.1298\n",
      "Epoch 55/100\n",
      "\u001B[1m11/11\u001B[0m \u001B[32m━━━━━━━━━━━━━━━━━━━━\u001B[0m\u001B[37m\u001B[0m \u001B[1m0s\u001B[0m 2ms/step - accuracy: 0.0000e+00 - loss: 0.0855 - val_accuracy: 0.0000e+00 - val_loss: 0.1103\n",
      "Epoch 56/100\n",
      "\u001B[1m11/11\u001B[0m \u001B[32m━━━━━━━━━━━━━━━━━━━━\u001B[0m\u001B[37m\u001B[0m \u001B[1m0s\u001B[0m 2ms/step - accuracy: 0.0000e+00 - loss: 0.0909 - val_accuracy: 0.0000e+00 - val_loss: 0.1070\n",
      "Epoch 57/100\n",
      "\u001B[1m11/11\u001B[0m \u001B[32m━━━━━━━━━━━━━━━━━━━━\u001B[0m\u001B[37m\u001B[0m \u001B[1m0s\u001B[0m 2ms/step - accuracy: 0.0000e+00 - loss: 0.0613 - val_accuracy: 0.0000e+00 - val_loss: 0.1495\n",
      "Epoch 58/100\n",
      "\u001B[1m11/11\u001B[0m \u001B[32m━━━━━━━━━━━━━━━━━━━━\u001B[0m\u001B[37m\u001B[0m \u001B[1m0s\u001B[0m 2ms/step - accuracy: 0.0000e+00 - loss: 0.1357 - val_accuracy: 0.0000e+00 - val_loss: 0.2276\n",
      "Epoch 59/100\n",
      "\u001B[1m11/11\u001B[0m \u001B[32m━━━━━━━━━━━━━━━━━━━━\u001B[0m\u001B[37m\u001B[0m \u001B[1m0s\u001B[0m 2ms/step - accuracy: 0.0000e+00 - loss: 0.1693 - val_accuracy: 0.0000e+00 - val_loss: 0.1192\n",
      "Epoch 60/100\n",
      "\u001B[1m11/11\u001B[0m \u001B[32m━━━━━━━━━━━━━━━━━━━━\u001B[0m\u001B[37m\u001B[0m \u001B[1m0s\u001B[0m 2ms/step - accuracy: 0.0000e+00 - loss: 0.1084 - val_accuracy: 0.0000e+00 - val_loss: 0.1066\n",
      "Epoch 61/100\n",
      "\u001B[1m11/11\u001B[0m \u001B[32m━━━━━━━━━━━━━━━━━━━━\u001B[0m\u001B[37m\u001B[0m \u001B[1m0s\u001B[0m 2ms/step - accuracy: 0.0000e+00 - loss: 0.0837 - val_accuracy: 0.0000e+00 - val_loss: 0.1038\n",
      "Epoch 62/100\n",
      "\u001B[1m11/11\u001B[0m \u001B[32m━━━━━━━━━━━━━━━━━━━━\u001B[0m\u001B[37m\u001B[0m \u001B[1m0s\u001B[0m 2ms/step - accuracy: 0.0000e+00 - loss: 0.0661 - val_accuracy: 0.0000e+00 - val_loss: 0.0980\n",
      "Epoch 63/100\n",
      "\u001B[1m11/11\u001B[0m \u001B[32m━━━━━━━━━━━━━━━━━━━━\u001B[0m\u001B[37m\u001B[0m \u001B[1m0s\u001B[0m 2ms/step - accuracy: 0.0000e+00 - loss: 0.0828 - val_accuracy: 0.0000e+00 - val_loss: 0.1133\n",
      "Epoch 64/100\n",
      "\u001B[1m11/11\u001B[0m \u001B[32m━━━━━━━━━━━━━━━━━━━━\u001B[0m\u001B[37m\u001B[0m \u001B[1m0s\u001B[0m 2ms/step - accuracy: 0.0000e+00 - loss: 0.0850 - val_accuracy: 0.0000e+00 - val_loss: 0.1168\n",
      "Epoch 65/100\n",
      "\u001B[1m11/11\u001B[0m \u001B[32m━━━━━━━━━━━━━━━━━━━━\u001B[0m\u001B[37m\u001B[0m \u001B[1m0s\u001B[0m 2ms/step - accuracy: 0.0000e+00 - loss: 0.0540 - val_accuracy: 0.0000e+00 - val_loss: 0.0989\n",
      "Epoch 66/100\n",
      "\u001B[1m11/11\u001B[0m \u001B[32m━━━━━━━━━━━━━━━━━━━━\u001B[0m\u001B[37m\u001B[0m \u001B[1m0s\u001B[0m 2ms/step - accuracy: 0.0000e+00 - loss: 0.0471 - val_accuracy: 0.0000e+00 - val_loss: 0.2348\n",
      "Epoch 67/100\n",
      "\u001B[1m11/11\u001B[0m \u001B[32m━━━━━━━━━━━━━━━━━━━━\u001B[0m\u001B[37m\u001B[0m \u001B[1m0s\u001B[0m 2ms/step - accuracy: 0.0000e+00 - loss: 0.0822 - val_accuracy: 0.0000e+00 - val_loss: 0.1323\n",
      "Epoch 68/100\n",
      "\u001B[1m11/11\u001B[0m \u001B[32m━━━━━━━━━━━━━━━━━━━━\u001B[0m\u001B[37m\u001B[0m \u001B[1m0s\u001B[0m 2ms/step - accuracy: 0.0000e+00 - loss: 0.0798 - val_accuracy: 0.0000e+00 - val_loss: 0.1712\n",
      "Epoch 69/100\n",
      "\u001B[1m11/11\u001B[0m \u001B[32m━━━━━━━━━━━━━━━━━━━━\u001B[0m\u001B[37m\u001B[0m \u001B[1m0s\u001B[0m 2ms/step - accuracy: 0.0000e+00 - loss: 0.0882 - val_accuracy: 0.0000e+00 - val_loss: 0.1183\n",
      "Epoch 70/100\n",
      "\u001B[1m11/11\u001B[0m \u001B[32m━━━━━━━━━━━━━━━━━━━━\u001B[0m\u001B[37m\u001B[0m \u001B[1m0s\u001B[0m 2ms/step - accuracy: 0.0000e+00 - loss: 0.1487 - val_accuracy: 0.0000e+00 - val_loss: 0.1334\n",
      "Epoch 71/100\n",
      "\u001B[1m11/11\u001B[0m \u001B[32m━━━━━━━━━━━━━━━━━━━━\u001B[0m\u001B[37m\u001B[0m \u001B[1m0s\u001B[0m 2ms/step - accuracy: 0.0000e+00 - loss: 0.1080 - val_accuracy: 0.0000e+00 - val_loss: 0.1383\n",
      "Epoch 72/100\n",
      "\u001B[1m11/11\u001B[0m \u001B[32m━━━━━━━━━━━━━━━━━━━━\u001B[0m\u001B[37m\u001B[0m \u001B[1m0s\u001B[0m 2ms/step - accuracy: 0.0000e+00 - loss: 0.1000 - val_accuracy: 0.0000e+00 - val_loss: 0.0899\n",
      "Epoch 73/100\n",
      "\u001B[1m11/11\u001B[0m \u001B[32m━━━━━━━━━━━━━━━━━━━━\u001B[0m\u001B[37m\u001B[0m \u001B[1m0s\u001B[0m 2ms/step - accuracy: 0.0000e+00 - loss: 0.0649 - val_accuracy: 0.0000e+00 - val_loss: 0.1025\n",
      "Epoch 74/100\n",
      "\u001B[1m11/11\u001B[0m \u001B[32m━━━━━━━━━━━━━━━━━━━━\u001B[0m\u001B[37m\u001B[0m \u001B[1m0s\u001B[0m 2ms/step - accuracy: 0.0000e+00 - loss: 0.0601 - val_accuracy: 0.0000e+00 - val_loss: 0.1810\n",
      "Epoch 75/100\n",
      "\u001B[1m11/11\u001B[0m \u001B[32m━━━━━━━━━━━━━━━━━━━━\u001B[0m\u001B[37m\u001B[0m \u001B[1m0s\u001B[0m 2ms/step - accuracy: 0.0000e+00 - loss: 0.1533 - val_accuracy: 0.0000e+00 - val_loss: 0.0947\n",
      "Epoch 76/100\n",
      "\u001B[1m11/11\u001B[0m \u001B[32m━━━━━━━━━━━━━━━━━━━━\u001B[0m\u001B[37m\u001B[0m \u001B[1m0s\u001B[0m 2ms/step - accuracy: 0.0000e+00 - loss: 0.1435 - val_accuracy: 0.0000e+00 - val_loss: 0.2314\n",
      "Epoch 77/100\n",
      "\u001B[1m11/11\u001B[0m \u001B[32m━━━━━━━━━━━━━━━━━━━━\u001B[0m\u001B[37m\u001B[0m \u001B[1m0s\u001B[0m 2ms/step - accuracy: 0.0000e+00 - loss: 0.1047 - val_accuracy: 0.0000e+00 - val_loss: 0.1709\n",
      "Epoch 78/100\n",
      "\u001B[1m11/11\u001B[0m \u001B[32m━━━━━━━━━━━━━━━━━━━━\u001B[0m\u001B[37m\u001B[0m \u001B[1m0s\u001B[0m 2ms/step - accuracy: 0.0000e+00 - loss: 0.1131 - val_accuracy: 0.0000e+00 - val_loss: 0.2749\n",
      "Epoch 79/100\n",
      "\u001B[1m11/11\u001B[0m \u001B[32m━━━━━━━━━━━━━━━━━━━━\u001B[0m\u001B[37m\u001B[0m \u001B[1m0s\u001B[0m 2ms/step - accuracy: 0.0000e+00 - loss: 0.1022 - val_accuracy: 0.0000e+00 - val_loss: 0.1179\n",
      "Epoch 80/100\n",
      "\u001B[1m11/11\u001B[0m \u001B[32m━━━━━━━━━━━━━━━━━━━━\u001B[0m\u001B[37m\u001B[0m \u001B[1m0s\u001B[0m 2ms/step - accuracy: 0.0000e+00 - loss: 0.0891 - val_accuracy: 0.0000e+00 - val_loss: 0.3948\n",
      "Epoch 81/100\n",
      "\u001B[1m11/11\u001B[0m \u001B[32m━━━━━━━━━━━━━━━━━━━━\u001B[0m\u001B[37m\u001B[0m \u001B[1m0s\u001B[0m 2ms/step - accuracy: 0.0000e+00 - loss: 0.1016 - val_accuracy: 0.0000e+00 - val_loss: 0.1720\n",
      "Epoch 82/100\n",
      "\u001B[1m11/11\u001B[0m \u001B[32m━━━━━━━━━━━━━━━━━━━━\u001B[0m\u001B[37m\u001B[0m \u001B[1m0s\u001B[0m 2ms/step - accuracy: 0.0000e+00 - loss: 0.1207 - val_accuracy: 0.0000e+00 - val_loss: 0.2858\n",
      "Epoch 83/100\n",
      "\u001B[1m11/11\u001B[0m \u001B[32m━━━━━━━━━━━━━━━━━━━━\u001B[0m\u001B[37m\u001B[0m \u001B[1m0s\u001B[0m 2ms/step - accuracy: 0.0000e+00 - loss: 0.1127 - val_accuracy: 0.0000e+00 - val_loss: 0.1400\n",
      "Epoch 84/100\n",
      "\u001B[1m11/11\u001B[0m \u001B[32m━━━━━━━━━━━━━━━━━━━━\u001B[0m\u001B[37m\u001B[0m \u001B[1m0s\u001B[0m 2ms/step - accuracy: 0.0000e+00 - loss: 0.0975 - val_accuracy: 0.0000e+00 - val_loss: 0.1446\n",
      "Epoch 85/100\n",
      "\u001B[1m11/11\u001B[0m \u001B[32m━━━━━━━━━━━━━━━━━━━━\u001B[0m\u001B[37m\u001B[0m \u001B[1m0s\u001B[0m 2ms/step - accuracy: 0.0000e+00 - loss: 0.1059 - val_accuracy: 0.0000e+00 - val_loss: 0.2524\n",
      "Epoch 86/100\n",
      "\u001B[1m11/11\u001B[0m \u001B[32m━━━━━━━━━━━━━━━━━━━━\u001B[0m\u001B[37m\u001B[0m \u001B[1m0s\u001B[0m 3ms/step - accuracy: 0.0000e+00 - loss: 0.1789 - val_accuracy: 0.0000e+00 - val_loss: 0.2319\n",
      "Epoch 87/100\n",
      "\u001B[1m11/11\u001B[0m \u001B[32m━━━━━━━━━━━━━━━━━━━━\u001B[0m\u001B[37m\u001B[0m \u001B[1m0s\u001B[0m 2ms/step - accuracy: 0.0000e+00 - loss: 0.1770 - val_accuracy: 0.0000e+00 - val_loss: 0.1785\n",
      "Epoch 88/100\n",
      "\u001B[1m11/11\u001B[0m \u001B[32m━━━━━━━━━━━━━━━━━━━━\u001B[0m\u001B[37m\u001B[0m \u001B[1m0s\u001B[0m 2ms/step - accuracy: 0.0000e+00 - loss: 0.1934 - val_accuracy: 0.0000e+00 - val_loss: 0.1471\n",
      "Epoch 89/100\n",
      "\u001B[1m11/11\u001B[0m \u001B[32m━━━━━━━━━━━━━━━━━━━━\u001B[0m\u001B[37m\u001B[0m \u001B[1m0s\u001B[0m 2ms/step - accuracy: 0.0000e+00 - loss: 0.1106 - val_accuracy: 0.0000e+00 - val_loss: 0.4504\n",
      "Epoch 90/100\n",
      "\u001B[1m11/11\u001B[0m \u001B[32m━━━━━━━━━━━━━━━━━━━━\u001B[0m\u001B[37m\u001B[0m \u001B[1m0s\u001B[0m 2ms/step - accuracy: 0.0000e+00 - loss: 0.1882 - val_accuracy: 0.0000e+00 - val_loss: 0.1057\n",
      "Epoch 91/100\n",
      "\u001B[1m11/11\u001B[0m \u001B[32m━━━━━━━━━━━━━━━━━━━━\u001B[0m\u001B[37m\u001B[0m \u001B[1m0s\u001B[0m 2ms/step - accuracy: 0.0000e+00 - loss: 0.1363 - val_accuracy: 0.0000e+00 - val_loss: 0.1213\n",
      "Epoch 92/100\n",
      "\u001B[1m11/11\u001B[0m \u001B[32m━━━━━━━━━━━━━━━━━━━━\u001B[0m\u001B[37m\u001B[0m \u001B[1m0s\u001B[0m 2ms/step - accuracy: 0.0000e+00 - loss: 0.1299 - val_accuracy: 0.0000e+00 - val_loss: 0.1174\n",
      "Epoch 93/100\n",
      "\u001B[1m11/11\u001B[0m \u001B[32m━━━━━━━━━━━━━━━━━━━━\u001B[0m\u001B[37m\u001B[0m \u001B[1m0s\u001B[0m 2ms/step - accuracy: 0.0000e+00 - loss: 0.1541 - val_accuracy: 0.0000e+00 - val_loss: 0.1405\n",
      "Epoch 94/100\n",
      "\u001B[1m11/11\u001B[0m \u001B[32m━━━━━━━━━━━━━━━━━━━━\u001B[0m\u001B[37m\u001B[0m \u001B[1m0s\u001B[0m 2ms/step - accuracy: 0.0000e+00 - loss: 0.1352 - val_accuracy: 0.0000e+00 - val_loss: 0.1684\n",
      "Epoch 95/100\n",
      "\u001B[1m11/11\u001B[0m \u001B[32m━━━━━━━━━━━━━━━━━━━━\u001B[0m\u001B[37m\u001B[0m \u001B[1m0s\u001B[0m 2ms/step - accuracy: 0.0000e+00 - loss: 0.1052 - val_accuracy: 0.0000e+00 - val_loss: 0.1096\n",
      "Epoch 96/100\n",
      "\u001B[1m11/11\u001B[0m \u001B[32m━━━━━━━━━━━━━━━━━━━━\u001B[0m\u001B[37m\u001B[0m \u001B[1m0s\u001B[0m 2ms/step - accuracy: 0.0000e+00 - loss: 0.1484 - val_accuracy: 0.0000e+00 - val_loss: 0.1864\n",
      "Epoch 97/100\n",
      "\u001B[1m11/11\u001B[0m \u001B[32m━━━━━━━━━━━━━━━━━━━━\u001B[0m\u001B[37m\u001B[0m \u001B[1m0s\u001B[0m 2ms/step - accuracy: 0.0000e+00 - loss: 0.1989 - val_accuracy: 0.0000e+00 - val_loss: 0.1410\n",
      "Epoch 98/100\n",
      "\u001B[1m11/11\u001B[0m \u001B[32m━━━━━━━━━━━━━━━━━━━━\u001B[0m\u001B[37m\u001B[0m \u001B[1m0s\u001B[0m 2ms/step - accuracy: 0.0000e+00 - loss: 0.2279 - val_accuracy: 0.0000e+00 - val_loss: 0.1243\n",
      "Epoch 99/100\n",
      "\u001B[1m11/11\u001B[0m \u001B[32m━━━━━━━━━━━━━━━━━━━━\u001B[0m\u001B[37m\u001B[0m \u001B[1m0s\u001B[0m 2ms/step - accuracy: 0.0000e+00 - loss: 0.2797 - val_accuracy: 0.0000e+00 - val_loss: 0.1583\n",
      "Epoch 100/100\n",
      "\u001B[1m11/11\u001B[0m \u001B[32m━━━━━━━━━━━━━━━━━━━━\u001B[0m\u001B[37m\u001B[0m \u001B[1m0s\u001B[0m 2ms/step - accuracy: 0.0000e+00 - loss: 0.1523 - val_accuracy: 0.0000e+00 - val_loss: 0.1562\n"
     ]
    }
   ],
   "execution_count": 21
  },
  {
   "cell_type": "code",
   "source": [
    "history.history.keys()"
   ],
   "metadata": {
    "colab": {
     "base_uri": "https://localhost:8080/"
    },
    "id": "12WntJxiHOiA",
    "executionInfo": {
     "status": "ok",
     "timestamp": 1753243356692,
     "user_tz": -540,
     "elapsed": 13,
     "user": {
      "displayName": "고강태 강사",
      "userId": "11816854931407731745"
     }
    },
    "outputId": "ac04de16-3511-41f5-ee08-3c886785904d",
    "ExecuteTime": {
     "end_time": "2025-07-24T10:12:31.262403Z",
     "start_time": "2025-07-24T10:12:31.256952Z"
    }
   },
   "outputs": [
    {
     "data": {
      "text/plain": [
       "dict_keys(['accuracy', 'loss', 'val_accuracy', 'val_loss'])"
      ]
     },
     "execution_count": 22,
     "metadata": {},
     "output_type": "execute_result"
    }
   ],
   "execution_count": 22
  },
  {
   "cell_type": "code",
   "metadata": {
    "colab": {
     "base_uri": "https://localhost:8080/",
     "height": 449
    },
    "executionInfo": {
     "elapsed": 149,
     "status": "ok",
     "timestamp": 1753243356843,
     "user": {
      "displayName": "고강태 강사",
      "userId": "11816854931407731745"
     },
     "user_tz": -540
    },
    "id": "oQFhYTeHmkeb",
    "outputId": "42a492e6-9d9c-4a98-e7aa-ba03ebb7ec87",
    "ExecuteTime": {
     "end_time": "2025-07-24T10:12:31.381404Z",
     "start_time": "2025-07-24T10:12:31.280310Z"
    }
   },
   "source": [
    "# 회귀 모델 학습 결과 시각화\n",
    "import matplotlib.pyplot as plt\n",
    "plt.plot(history.history['loss'], 'b-', label='loss')\n",
    "plt.plot(history.history['val_loss'], 'r--', label='val_loss')\n",
    "# 'accr', 'val_accr'\n",
    "plt.xlabel('Epoch')\n",
    "plt.legend()\n",
    "plt.show()"
   ],
   "outputs": [
    {
     "data": {
      "text/plain": [
       "<Figure size 640x480 with 1 Axes>"
      ],
      "image/png": "[encoded data removed]"
     },
     "metadata": {},
     "output_type": "display_data"
    }
   ],
   "execution_count": 23
  },
  {
   "cell_type": "code",
   "metadata": {
    "colab": {
     "base_uri": "https://localhost:8080/"
    },
    "executionInfo": {
     "elapsed": 163,
     "status": "ok",
     "timestamp": 1753243356987,
     "user": {
      "displayName": "고강태 강사",
      "userId": "11816854931407731745"
     },
     "user_tz": -540
    },
    "id": "FXIL_Isaao_t",
    "outputId": "9c4e5c5f-2a71-499c-cd20-be2e8980319f",
    "ExecuteTime": {
     "end_time": "2025-07-24T10:12:31.441454Z",
     "start_time": "2025-07-24T10:12:31.389994Z"
    }
   },
   "source": [
    "# 회귀 모델 평가\n",
    "model.evaluate(test_X, test_Y)"
   ],
   "outputs": [
    {
     "name": "stdout",
     "output_type": "stream",
     "text": [
      "\u001B[1m4/4\u001B[0m \u001B[32m━━━━━━━━━━━━━━━━━━━━\u001B[0m\u001B[37m\u001B[0m \u001B[1m0s\u001B[0m 5ms/step - accuracy: 0.0000e+00 - loss: 0.2360\n"
     ]
    },
    {
     "data": {
      "text/plain": [
       "[0.269743949174881, 0.0]"
      ]
     },
     "execution_count": 24,
     "metadata": {},
     "output_type": "execute_result"
    }
   ],
   "execution_count": 24
  },
  {
   "cell_type": "markdown",
   "metadata": {
    "id": "jiW7UBzYr9sb"
   },
   "source": [
    "### 주택 가격 예측"
   ]
  },
  {
   "cell_type": "code",
   "metadata": {
    "colab": {
     "base_uri": "https://localhost:8080/",
     "height": 488
    },
    "executionInfo": {
     "elapsed": 334,
     "status": "ok",
     "timestamp": 1753243357322,
     "user": {
      "displayName": "고강태 강사",
      "userId": "11816854931407731745"
     },
     "user_tz": -540
    },
    "id": "JchlHj_HH0cb",
    "outputId": "5e9333bf-768d-454c-df3a-99e5d31a38b2",
    "ExecuteTime": {
     "end_time": "2025-07-24T10:12:31.562693Z",
     "start_time": "2025-07-24T10:12:31.455635Z"
    }
   },
   "source": [
    "# 실제 주택 가격과 예측 주택 가격 시각화\n",
    "import matplotlib.pyplot as plt\n",
    "\n",
    "pred_y = model.predict(test_X)\n",
    "\n",
    "plt.figure(figsize=(5,5))\n",
    "plt.plot(test_Y, pred_y, 'bo')\n",
    "\n",
    "plt.axis([min(test_Y), max(test_Y), min(test_Y), max(test_Y)])\n",
    "\n",
    "# y=x에 해당하는 대각선\n",
    "\n",
    "plt.xlabel('test_Y')\n",
    "plt.ylabel('pred_Y')\n",
    "\n",
    "plt.show()"
   ],
   "outputs": [
    {
     "name": "stdout",
     "output_type": "stream",
     "text": [
      "\u001B[1m4/4\u001B[0m \u001B[32m━━━━━━━━━━━━━━━━━━━━\u001B[0m\u001B[37m\u001B[0m \u001B[1m0s\u001B[0m 8ms/step \n"
     ]
    },
    {
     "data": {
      "text/plain": [
       "<Figure size 500x500 with 1 Axes>"
      ],
      "image/png": "[encoded data removed]"
     },
     "metadata": {},
     "output_type": "display_data"
    }
   ],
   "execution_count": 25
  },
  {
   "cell_type": "code",
   "metadata": {
    "executionInfo": {
     "elapsed": 3,
     "status": "ok",
     "timestamp": 1753243357329,
     "user": {
      "displayName": "고강태 강사",
      "userId": "11816854931407731745"
     },
     "user_tz": -540
    },
    "id": "PBxjfkfgr9sl",
    "ExecuteTime": {
     "end_time": "2025-07-24T10:12:31.609097Z",
     "start_time": "2025-07-24T10:12:31.591161Z"
    }
   },
   "source": [],
   "outputs": [],
   "execution_count": null
  },
  {
   "cell_type": "markdown",
   "metadata": {
    "id": "AcFjn3ywr9sl"
   },
   "source": [
    "## EarlyStopping Callback 사용"
   ]
  },
  {
   "cell_type": "code",
   "metadata": {
    "executionInfo": {
     "elapsed": 53,
     "status": "ok",
     "timestamp": 1753243357386,
     "user": {
      "displayName": "고강태 강사",
      "userId": "11816854931407731745"
     },
     "user_tz": -540
    },
    "id": "4z2VPFM3r9sm",
    "ExecuteTime": {
     "end_time": "2025-07-24T10:12:31.639939Z",
     "start_time": "2025-07-24T10:12:31.619020Z"
    }
   },
   "source": [
    "model3 =  tf.keras.Sequential([\n",
    "    keras.layers.Input((13,)),\n",
    "    tf.keras.layers.Dense(units=100, activation='relu'),\n",
    "    tf.keras.layers.Dense(units=50, activation='relu'),\n",
    "    tf.keras.layers.Dense(units=30, activation='relu'),\n",
    "    tf.keras.layers.Dense(units=1)\n",
    "])\n"
   ],
   "outputs": [],
   "execution_count": 26
  },
  {
   "cell_type": "code",
   "source": [
    "model3.summary()"
   ],
   "metadata": {
    "colab": {
     "base_uri": "https://localhost:8080/",
     "height": 272
    },
    "id": "IH2C_UPiJ4Eb",
    "executionInfo": {
     "status": "ok",
     "timestamp": 1753243357426,
     "user_tz": -540,
     "elapsed": 63,
     "user": {
      "displayName": "고강태 강사",
      "userId": "11816854931407731745"
     }
    },
    "outputId": "d49a7ff0-2ec9-4846-9635-e7185dbec196",
    "ExecuteTime": {
     "end_time": "2025-07-24T10:12:31.671982Z",
     "start_time": "2025-07-24T10:12:31.650184Z"
    }
   },
   "outputs": [
    {
     "data": {
      "text/plain": [
       "\u001B[1mModel: \"sequential_2\"\u001B[0m\n"
      ],
      "text/html": [
       "<pre style=\"white-space:pre;overflow-x:auto;line-height:normal;font-family:Menlo,'DejaVu Sans Mono',consolas,'Courier New',monospace\"><span style=\"font-weight: bold\">Model: \"sequential_2\"</span>\n",
       "</pre>\n"
      ]
     },
     "metadata": {},
     "output_type": "display_data"
    },
    {
     "data": {
      "text/plain": [
       "┏━━━━━━━━━━━━━━━━━━━━━━━━━━━━━━━━━┳━━━━━━━━━━━━━━━━━━━━━━━━┳━━━━━━━━━━━━━━━┓\n",
       "┃\u001B[1m \u001B[0m\u001B[1mLayer (type)                   \u001B[0m\u001B[1m \u001B[0m┃\u001B[1m \u001B[0m\u001B[1mOutput Shape          \u001B[0m\u001B[1m \u001B[0m┃\u001B[1m \u001B[0m\u001B[1m      Param #\u001B[0m\u001B[1m \u001B[0m┃\n",
       "┡━━━━━━━━━━━━━━━━━━━━━━━━━━━━━━━━━╇━━━━━━━━━━━━━━━━━━━━━━━━╇━━━━━━━━━━━━━━━┩\n",
       "│ dense_6 (\u001B[38;5;33mDense\u001B[0m)                 │ (\u001B[38;5;45mNone\u001B[0m, \u001B[38;5;34m100\u001B[0m)            │         \u001B[38;5;34m1,400\u001B[0m │\n",
       "├─────────────────────────────────┼────────────────────────┼───────────────┤\n",
       "│ dense_7 (\u001B[38;5;33mDense\u001B[0m)                 │ (\u001B[38;5;45mNone\u001B[0m, \u001B[38;5;34m50\u001B[0m)             │         \u001B[38;5;34m5,050\u001B[0m │\n",
       "├─────────────────────────────────┼────────────────────────┼───────────────┤\n",
       "│ dense_8 (\u001B[38;5;33mDense\u001B[0m)                 │ (\u001B[38;5;45mNone\u001B[0m, \u001B[38;5;34m30\u001B[0m)             │         \u001B[38;5;34m1,530\u001B[0m │\n",
       "├─────────────────────────────────┼────────────────────────┼───────────────┤\n",
       "│ dense_9 (\u001B[38;5;33mDense\u001B[0m)                 │ (\u001B[38;5;45mNone\u001B[0m, \u001B[38;5;34m1\u001B[0m)              │            \u001B[38;5;34m31\u001B[0m │\n",
       "└─────────────────────────────────┴────────────────────────┴───────────────┘\n"
      ],
      "text/html": [
       "<pre style=\"white-space:pre;overflow-x:auto;line-height:normal;font-family:Menlo,'DejaVu Sans Mono',consolas,'Courier New',monospace\">┏━━━━━━━━━━━━━━━━━━━━━━━━━━━━━━━━━┳━━━━━━━━━━━━━━━━━━━━━━━━┳━━━━━━━━━━━━━━━┓\n",
       "┃<span style=\"font-weight: bold\"> Layer (type)                    </span>┃<span style=\"font-weight: bold\"> Output Shape           </span>┃<span style=\"font-weight: bold\">       Param # </span>┃\n",
       "┡━━━━━━━━━━━━━━━━━━━━━━━━━━━━━━━━━╇━━━━━━━━━━━━━━━━━━━━━━━━╇━━━━━━━━━━━━━━━┩\n",
       "│ dense_6 (<span style=\"color: #0087ff; text-decoration-color: #0087ff\">Dense</span>)                 │ (<span style=\"color: #00d7ff; text-decoration-color: #00d7ff\">None</span>, <span style=\"color: #00af00; text-decoration-color: #00af00\">100</span>)            │         <span style=\"color: #00af00; text-decoration-color: #00af00\">1,400</span> │\n",
       "├─────────────────────────────────┼────────────────────────┼───────────────┤\n",
       "│ dense_7 (<span style=\"color: #0087ff; text-decoration-color: #0087ff\">Dense</span>)                 │ (<span style=\"color: #00d7ff; text-decoration-color: #00d7ff\">None</span>, <span style=\"color: #00af00; text-decoration-color: #00af00\">50</span>)             │         <span style=\"color: #00af00; text-decoration-color: #00af00\">5,050</span> │\n",
       "├─────────────────────────────────┼────────────────────────┼───────────────┤\n",
       "│ dense_8 (<span style=\"color: #0087ff; text-decoration-color: #0087ff\">Dense</span>)                 │ (<span style=\"color: #00d7ff; text-decoration-color: #00d7ff\">None</span>, <span style=\"color: #00af00; text-decoration-color: #00af00\">30</span>)             │         <span style=\"color: #00af00; text-decoration-color: #00af00\">1,530</span> │\n",
       "├─────────────────────────────────┼────────────────────────┼───────────────┤\n",
       "│ dense_9 (<span style=\"color: #0087ff; text-decoration-color: #0087ff\">Dense</span>)                 │ (<span style=\"color: #00d7ff; text-decoration-color: #00d7ff\">None</span>, <span style=\"color: #00af00; text-decoration-color: #00af00\">1</span>)              │            <span style=\"color: #00af00; text-decoration-color: #00af00\">31</span> │\n",
       "└─────────────────────────────────┴────────────────────────┴───────────────┘\n",
       "</pre>\n"
      ]
     },
     "metadata": {},
     "output_type": "display_data"
    },
    {
     "data": {
      "text/plain": [
       "\u001B[1m Total params: \u001B[0m\u001B[38;5;34m8,011\u001B[0m (31.29 KB)\n"
      ],
      "text/html": [
       "<pre style=\"white-space:pre;overflow-x:auto;line-height:normal;font-family:Menlo,'DejaVu Sans Mono',consolas,'Courier New',monospace\"><span style=\"font-weight: bold\"> Total params: </span><span style=\"color: #00af00; text-decoration-color: #00af00\">8,011</span> (31.29 KB)\n",
       "</pre>\n"
      ]
     },
     "metadata": {},
     "output_type": "display_data"
    },
    {
     "data": {
      "text/plain": [
       "\u001B[1m Trainable params: \u001B[0m\u001B[38;5;34m8,011\u001B[0m (31.29 KB)\n"
      ],
      "text/html": [
       "<pre style=\"white-space:pre;overflow-x:auto;line-height:normal;font-family:Menlo,'DejaVu Sans Mono',consolas,'Courier New',monospace\"><span style=\"font-weight: bold\"> Trainable params: </span><span style=\"color: #00af00; text-decoration-color: #00af00\">8,011</span> (31.29 KB)\n",
       "</pre>\n"
      ]
     },
     "metadata": {},
     "output_type": "display_data"
    },
    {
     "data": {
      "text/plain": [
       "\u001B[1m Non-trainable params: \u001B[0m\u001B[38;5;34m0\u001B[0m (0.00 B)\n"
      ],
      "text/html": [
       "<pre style=\"white-space:pre;overflow-x:auto;line-height:normal;font-family:Menlo,'DejaVu Sans Mono',consolas,'Courier New',monospace\"><span style=\"font-weight: bold\"> Non-trainable params: </span><span style=\"color: #00af00; text-decoration-color: #00af00\">0</span> (0.00 B)\n",
       "</pre>\n"
      ]
     },
     "metadata": {},
     "output_type": "display_data"
    }
   ],
   "execution_count": 27
  },
  {
   "cell_type": "code",
   "source": [
    "model3.compile(optimizer=tf.keras.optimizers.Adam(learning_rate=0.07),\n",
    "               loss='mse',\n",
    "               metrics=['mae','mse'])"
   ],
   "metadata": {
    "id": "iPfjwhlAJgjv",
    "executionInfo": {
     "status": "ok",
     "timestamp": 1753243357433,
     "user_tz": -540,
     "elapsed": 4,
     "user": {
      "displayName": "고강태 강사",
      "userId": "11816854931407731745"
     }
    },
    "ExecuteTime": {
     "end_time": "2025-07-24T10:12:31.690344Z",
     "start_time": "2025-07-24T10:12:31.686045Z"
    }
   },
   "outputs": [],
   "execution_count": 28
  },
  {
   "cell_type": "code",
   "metadata": {
    "colab": {
     "base_uri": "https://localhost:8080/"
    },
    "executionInfo": {
     "elapsed": 56178,
     "status": "ok",
     "timestamp": 1753243413614,
     "user": {
      "displayName": "고강태 강사",
      "userId": "11816854931407731745"
     },
     "user_tz": -540
    },
    "id": "fdMZuhUgzMZ4",
    "outputId": "9b33cce6-2092-42eb-ded8-77b5952282ef",
    "ExecuteTime": {
     "end_time": "2025-07-24T10:12:37.574110Z",
     "start_time": "2025-07-24T10:12:31.712938Z"
    }
   },
   "source": [
    "# patience 매개변수는 성능 향상을 체크할 에포크 횟수입니다\n",
    "early_stop = keras.callbacks.EarlyStopping(monitor='val_loss', patience=10)\n",
    "\n",
    "history =  model3.fit(\n",
    "    train_X,\n",
    "    train_Y,\n",
    "    epochs=200,\n",
    "    batch_size=32,\n",
    "    validation_split=0.2,\n",
    "    # verbose=0,\n",
    "    # callbacks=[early_stop]\n",
    ")"
   ],
   "outputs": [
    {
     "name": "stdout",
     "output_type": "stream",
     "text": [
      "Epoch 1/200\n",
      "\u001B[1m11/11\u001B[0m \u001B[32m━━━━━━━━━━━━━━━━━━━━\u001B[0m\u001B[37m\u001B[0m \u001B[1m0s\u001B[0m 7ms/step - loss: 4.7747 - mae: 1.2777 - mse: 4.7747 - val_loss: 0.9238 - val_mae: 0.6307 - val_mse: 0.9238\n",
      "Epoch 2/200\n",
      "\u001B[1m11/11\u001B[0m \u001B[32m━━━━━━━━━━━━━━━━━━━━\u001B[0m\u001B[37m\u001B[0m \u001B[1m0s\u001B[0m 2ms/step - loss: 0.6174 - mae: 0.5310 - mse: 0.6174 - val_loss: 1.3216 - val_mae: 0.8181 - val_mse: 1.3216\n",
      "Epoch 3/200\n",
      "\u001B[1m11/11\u001B[0m \u001B[32m━━━━━━━━━━━━━━━━━━━━\u001B[0m\u001B[37m\u001B[0m \u001B[1m0s\u001B[0m 2ms/step - loss: 0.7630 - mae: 0.6264 - mse: 0.7630 - val_loss: 0.6332 - val_mae: 0.5849 - val_mse: 0.6332\n",
      "Epoch 4/200\n",
      "\u001B[1m11/11\u001B[0m \u001B[32m━━━━━━━━━━━━━━━━━━━━\u001B[0m\u001B[37m\u001B[0m \u001B[1m0s\u001B[0m 2ms/step - loss: 0.4192 - mae: 0.4336 - mse: 0.4192 - val_loss: 0.3748 - val_mae: 0.4046 - val_mse: 0.3748\n",
      "Epoch 5/200\n",
      "\u001B[1m11/11\u001B[0m \u001B[32m━━━━━━━━━━━━━━━━━━━━\u001B[0m\u001B[37m\u001B[0m \u001B[1m0s\u001B[0m 2ms/step - loss: 0.2298 - mae: 0.3010 - mse: 0.2298 - val_loss: 0.4230 - val_mae: 0.4646 - val_mse: 0.4230\n",
      "Epoch 6/200\n",
      "\u001B[1m11/11\u001B[0m \u001B[32m━━━━━━━━━━━━━━━━━━━━\u001B[0m\u001B[37m\u001B[0m \u001B[1m0s\u001B[0m 2ms/step - loss: 0.2273 - mae: 0.3171 - mse: 0.2273 - val_loss: 0.3064 - val_mae: 0.3698 - val_mse: 0.3064\n",
      "Epoch 7/200\n",
      "\u001B[1m11/11\u001B[0m \u001B[32m━━━━━━━━━━━━━━━━━━━━\u001B[0m\u001B[37m\u001B[0m \u001B[1m0s\u001B[0m 2ms/step - loss: 0.2508 - mae: 0.3150 - mse: 0.2508 - val_loss: 0.2792 - val_mae: 0.3316 - val_mse: 0.2792\n",
      "Epoch 8/200\n",
      "\u001B[1m11/11\u001B[0m \u001B[32m━━━━━━━━━━━━━━━━━━━━\u001B[0m\u001B[37m\u001B[0m \u001B[1m0s\u001B[0m 2ms/step - loss: 0.2201 - mae: 0.2981 - mse: 0.2201 - val_loss: 0.2937 - val_mae: 0.3447 - val_mse: 0.2937\n",
      "Epoch 9/200\n",
      "\u001B[1m11/11\u001B[0m \u001B[32m━━━━━━━━━━━━━━━━━━━━\u001B[0m\u001B[37m\u001B[0m \u001B[1m0s\u001B[0m 2ms/step - loss: 0.2763 - mae: 0.3111 - mse: 0.2763 - val_loss: 0.2611 - val_mae: 0.3278 - val_mse: 0.2611\n",
      "Epoch 10/200\n",
      "\u001B[1m11/11\u001B[0m \u001B[32m━━━━━━━━━━━━━━━━━━━━\u001B[0m\u001B[37m\u001B[0m \u001B[1m0s\u001B[0m 2ms/step - loss: 0.1847 - mae: 0.2585 - mse: 0.1847 - val_loss: 0.2552 - val_mae: 0.3304 - val_mse: 0.2552\n",
      "Epoch 11/200\n",
      "\u001B[1m11/11\u001B[0m \u001B[32m━━━━━━━━━━━━━━━━━━━━\u001B[0m\u001B[37m\u001B[0m \u001B[1m0s\u001B[0m 2ms/step - loss: 0.1895 - mae: 0.2731 - mse: 0.1895 - val_loss: 0.2175 - val_mae: 0.3041 - val_mse: 0.2175\n",
      "Epoch 12/200\n",
      "\u001B[1m11/11\u001B[0m \u001B[32m━━━━━━━━━━━━━━━━━━━━\u001B[0m\u001B[37m\u001B[0m \u001B[1m0s\u001B[0m 2ms/step - loss: 0.1782 - mae: 0.2862 - mse: 0.1782 - val_loss: 0.1750 - val_mae: 0.2834 - val_mse: 0.1750\n",
      "Epoch 13/200\n",
      "\u001B[1m11/11\u001B[0m \u001B[32m━━━━━━━━━━━━━━━━━━━━\u001B[0m\u001B[37m\u001B[0m \u001B[1m0s\u001B[0m 2ms/step - loss: 0.1627 - mae: 0.2623 - mse: 0.1627 - val_loss: 0.5808 - val_mae: 0.5597 - val_mse: 0.5808\n",
      "Epoch 14/200\n",
      "\u001B[1m11/11\u001B[0m \u001B[32m━━━━━━━━━━━━━━━━━━━━\u001B[0m\u001B[37m\u001B[0m \u001B[1m0s\u001B[0m 2ms/step - loss: 0.4292 - mae: 0.4778 - mse: 0.4292 - val_loss: 0.3576 - val_mae: 0.4571 - val_mse: 0.3576\n",
      "Epoch 15/200\n",
      "\u001B[1m11/11\u001B[0m \u001B[32m━━━━━━━━━━━━━━━━━━━━\u001B[0m\u001B[37m\u001B[0m \u001B[1m0s\u001B[0m 2ms/step - loss: 0.3394 - mae: 0.4194 - mse: 0.3394 - val_loss: 0.2258 - val_mae: 0.3620 - val_mse: 0.2258\n",
      "Epoch 16/200\n",
      "\u001B[1m11/11\u001B[0m \u001B[32m━━━━━━━━━━━━━━━━━━━━\u001B[0m\u001B[37m\u001B[0m \u001B[1m0s\u001B[0m 2ms/step - loss: 0.1575 - mae: 0.2880 - mse: 0.1575 - val_loss: 0.2313 - val_mae: 0.3427 - val_mse: 0.2313\n",
      "Epoch 17/200\n",
      "\u001B[1m11/11\u001B[0m \u001B[32m━━━━━━━━━━━━━━━━━━━━\u001B[0m\u001B[37m\u001B[0m \u001B[1m0s\u001B[0m 2ms/step - loss: 0.1470 - mae: 0.2647 - mse: 0.1470 - val_loss: 0.2770 - val_mae: 0.3706 - val_mse: 0.2770\n",
      "Epoch 18/200\n",
      "\u001B[1m11/11\u001B[0m \u001B[32m━━━━━━━━━━━━━━━━━━━━\u001B[0m\u001B[37m\u001B[0m \u001B[1m0s\u001B[0m 2ms/step - loss: 0.1603 - mae: 0.2789 - mse: 0.1603 - val_loss: 0.2786 - val_mae: 0.3846 - val_mse: 0.2786\n",
      "Epoch 19/200\n",
      "\u001B[1m11/11\u001B[0m \u001B[32m━━━━━━━━━━━━━━━━━━━━\u001B[0m\u001B[37m\u001B[0m \u001B[1m0s\u001B[0m 2ms/step - loss: 0.1919 - mae: 0.3020 - mse: 0.1919 - val_loss: 0.2171 - val_mae: 0.3158 - val_mse: 0.2171\n",
      "Epoch 20/200\n",
      "\u001B[1m11/11\u001B[0m \u001B[32m━━━━━━━━━━━━━━━━━━━━\u001B[0m\u001B[37m\u001B[0m \u001B[1m0s\u001B[0m 2ms/step - loss: 0.1334 - mae: 0.2578 - mse: 0.1334 - val_loss: 0.2158 - val_mae: 0.3236 - val_mse: 0.2158\n",
      "Epoch 21/200\n",
      "\u001B[1m11/11\u001B[0m \u001B[32m━━━━━━━━━━━━━━━━━━━━\u001B[0m\u001B[37m\u001B[0m \u001B[1m0s\u001B[0m 2ms/step - loss: 0.1004 - mae: 0.2333 - mse: 0.1004 - val_loss: 0.2490 - val_mae: 0.3460 - val_mse: 0.2490\n",
      "Epoch 22/200\n",
      "\u001B[1m11/11\u001B[0m \u001B[32m━━━━━━━━━━━━━━━━━━━━\u001B[0m\u001B[37m\u001B[0m \u001B[1m0s\u001B[0m 2ms/step - loss: 0.1735 - mae: 0.2896 - mse: 0.1735 - val_loss: 0.2023 - val_mae: 0.3028 - val_mse: 0.2023\n",
      "Epoch 23/200\n",
      "\u001B[1m11/11\u001B[0m \u001B[32m━━━━━━━━━━━━━━━━━━━━\u001B[0m\u001B[37m\u001B[0m \u001B[1m0s\u001B[0m 2ms/step - loss: 0.1361 - mae: 0.2471 - mse: 0.1361 - val_loss: 0.2408 - val_mae: 0.3354 - val_mse: 0.2408\n",
      "Epoch 24/200\n",
      "\u001B[1m11/11\u001B[0m \u001B[32m━━━━━━━━━━━━━━━━━━━━\u001B[0m\u001B[37m\u001B[0m \u001B[1m0s\u001B[0m 2ms/step - loss: 0.1064 - mae: 0.2387 - mse: 0.1064 - val_loss: 0.2099 - val_mae: 0.3224 - val_mse: 0.2099\n",
      "Epoch 25/200\n",
      "\u001B[1m11/11\u001B[0m \u001B[32m━━━━━━━━━━━━━━━━━━━━\u001B[0m\u001B[37m\u001B[0m \u001B[1m0s\u001B[0m 2ms/step - loss: 0.1252 - mae: 0.2453 - mse: 0.1252 - val_loss: 0.2684 - val_mae: 0.3264 - val_mse: 0.2684\n",
      "Epoch 26/200\n",
      "\u001B[1m11/11\u001B[0m \u001B[32m━━━━━━━━━━━━━━━━━━━━\u001B[0m\u001B[37m\u001B[0m \u001B[1m0s\u001B[0m 2ms/step - loss: 0.1260 - mae: 0.2452 - mse: 0.1260 - val_loss: 0.1945 - val_mae: 0.3053 - val_mse: 0.1945\n",
      "Epoch 27/200\n",
      "\u001B[1m11/11\u001B[0m \u001B[32m━━━━━━━━━━━━━━━━━━━━\u001B[0m\u001B[37m\u001B[0m \u001B[1m0s\u001B[0m 2ms/step - loss: 0.1137 - mae: 0.2461 - mse: 0.1137 - val_loss: 0.1837 - val_mae: 0.2991 - val_mse: 0.1837\n",
      "Epoch 28/200\n",
      "\u001B[1m11/11\u001B[0m \u001B[32m━━━━━━━━━━━━━━━━━━━━\u001B[0m\u001B[37m\u001B[0m \u001B[1m0s\u001B[0m 2ms/step - loss: 0.1309 - mae: 0.2541 - mse: 0.1309 - val_loss: 0.2464 - val_mae: 0.3510 - val_mse: 0.2464\n",
      "Epoch 29/200\n",
      "\u001B[1m11/11\u001B[0m \u001B[32m━━━━━━━━━━━━━━━━━━━━\u001B[0m\u001B[37m\u001B[0m \u001B[1m0s\u001B[0m 2ms/step - loss: 0.1651 - mae: 0.2760 - mse: 0.1651 - val_loss: 0.1818 - val_mae: 0.3241 - val_mse: 0.1818\n",
      "Epoch 30/200\n",
      "\u001B[1m11/11\u001B[0m \u001B[32m━━━━━━━━━━━━━━━━━━━━\u001B[0m\u001B[37m\u001B[0m \u001B[1m0s\u001B[0m 2ms/step - loss: 0.0841 - mae: 0.2106 - mse: 0.0841 - val_loss: 0.2527 - val_mae: 0.3539 - val_mse: 0.2527\n",
      "Epoch 31/200\n",
      "\u001B[1m11/11\u001B[0m \u001B[32m━━━━━━━━━━━━━━━━━━━━\u001B[0m\u001B[37m\u001B[0m \u001B[1m0s\u001B[0m 2ms/step - loss: 0.1095 - mae: 0.2481 - mse: 0.1095 - val_loss: 0.2532 - val_mae: 0.3390 - val_mse: 0.2532\n",
      "Epoch 32/200\n",
      "\u001B[1m11/11\u001B[0m \u001B[32m━━━━━━━━━━━━━━━━━━━━\u001B[0m\u001B[37m\u001B[0m \u001B[1m0s\u001B[0m 2ms/step - loss: 0.1151 - mae: 0.2411 - mse: 0.1151 - val_loss: 0.1444 - val_mae: 0.2850 - val_mse: 0.1444\n",
      "Epoch 33/200\n",
      "\u001B[1m11/11\u001B[0m \u001B[32m━━━━━━━━━━━━━━━━━━━━\u001B[0m\u001B[37m\u001B[0m \u001B[1m0s\u001B[0m 2ms/step - loss: 0.0857 - mae: 0.2173 - mse: 0.0857 - val_loss: 0.1999 - val_mae: 0.3286 - val_mse: 0.1999\n",
      "Epoch 34/200\n",
      "\u001B[1m11/11\u001B[0m \u001B[32m━━━━━━━━━━━━━━━━━━━━\u001B[0m\u001B[37m\u001B[0m \u001B[1m0s\u001B[0m 2ms/step - loss: 0.0988 - mae: 0.2241 - mse: 0.0988 - val_loss: 0.2214 - val_mae: 0.3579 - val_mse: 0.2214\n",
      "Epoch 35/200\n",
      "\u001B[1m11/11\u001B[0m \u001B[32m━━━━━━━━━━━━━━━━━━━━\u001B[0m\u001B[37m\u001B[0m \u001B[1m0s\u001B[0m 2ms/step - loss: 0.1228 - mae: 0.2565 - mse: 0.1228 - val_loss: 0.1848 - val_mae: 0.3082 - val_mse: 0.1848\n",
      "Epoch 36/200\n",
      "\u001B[1m11/11\u001B[0m \u001B[32m━━━━━━━━━━━━━━━━━━━━\u001B[0m\u001B[37m\u001B[0m \u001B[1m0s\u001B[0m 2ms/step - loss: 0.1032 - mae: 0.2345 - mse: 0.1032 - val_loss: 0.1692 - val_mae: 0.2946 - val_mse: 0.1692\n",
      "Epoch 37/200\n",
      "\u001B[1m11/11\u001B[0m \u001B[32m━━━━━━━━━━━━━━━━━━━━\u001B[0m\u001B[37m\u001B[0m \u001B[1m0s\u001B[0m 2ms/step - loss: 0.0808 - mae: 0.2125 - mse: 0.0808 - val_loss: 0.1410 - val_mae: 0.2750 - val_mse: 0.1410\n",
      "Epoch 38/200\n",
      "\u001B[1m11/11\u001B[0m \u001B[32m━━━━━━━━━━━━━━━━━━━━\u001B[0m\u001B[37m\u001B[0m \u001B[1m0s\u001B[0m 2ms/step - loss: 0.0836 - mae: 0.2098 - mse: 0.0836 - val_loss: 0.1494 - val_mae: 0.2764 - val_mse: 0.1494\n",
      "Epoch 39/200\n",
      "\u001B[1m11/11\u001B[0m \u001B[32m━━━━━━━━━━━━━━━━━━━━\u001B[0m\u001B[37m\u001B[0m \u001B[1m0s\u001B[0m 2ms/step - loss: 0.0674 - mae: 0.1998 - mse: 0.0674 - val_loss: 0.1745 - val_mae: 0.2877 - val_mse: 0.1745\n",
      "Epoch 40/200\n",
      "\u001B[1m11/11\u001B[0m \u001B[32m━━━━━━━━━━━━━━━━━━━━\u001B[0m\u001B[37m\u001B[0m \u001B[1m0s\u001B[0m 2ms/step - loss: 0.0867 - mae: 0.2193 - mse: 0.0867 - val_loss: 0.1520 - val_mae: 0.2930 - val_mse: 0.1520\n",
      "Epoch 41/200\n",
      "\u001B[1m11/11\u001B[0m \u001B[32m━━━━━━━━━━━━━━━━━━━━\u001B[0m\u001B[37m\u001B[0m \u001B[1m0s\u001B[0m 2ms/step - loss: 0.0788 - mae: 0.2093 - mse: 0.0788 - val_loss: 0.1803 - val_mae: 0.3289 - val_mse: 0.1803\n",
      "Epoch 42/200\n",
      "\u001B[1m11/11\u001B[0m \u001B[32m━━━━━━━━━━━━━━━━━━━━\u001B[0m\u001B[37m\u001B[0m \u001B[1m0s\u001B[0m 2ms/step - loss: 0.0859 - mae: 0.2223 - mse: 0.0859 - val_loss: 0.1338 - val_mae: 0.2590 - val_mse: 0.1338\n",
      "Epoch 43/200\n",
      "\u001B[1m11/11\u001B[0m \u001B[32m━━━━━━━━━━━━━━━━━━━━\u001B[0m\u001B[37m\u001B[0m \u001B[1m0s\u001B[0m 2ms/step - loss: 0.0698 - mae: 0.1966 - mse: 0.0698 - val_loss: 0.3245 - val_mae: 0.3631 - val_mse: 0.3245\n",
      "Epoch 44/200\n",
      "\u001B[1m11/11\u001B[0m \u001B[32m━━━━━━━━━━━━━━━━━━━━\u001B[0m\u001B[37m\u001B[0m \u001B[1m0s\u001B[0m 2ms/step - loss: 0.1702 - mae: 0.2954 - mse: 0.1702 - val_loss: 0.2552 - val_mae: 0.3326 - val_mse: 0.2552\n",
      "Epoch 45/200\n",
      "\u001B[1m11/11\u001B[0m \u001B[32m━━━━━━━━━━━━━━━━━━━━\u001B[0m\u001B[37m\u001B[0m \u001B[1m0s\u001B[0m 2ms/step - loss: 0.1334 - mae: 0.2666 - mse: 0.1334 - val_loss: 0.2662 - val_mae: 0.3413 - val_mse: 0.2662\n",
      "Epoch 46/200\n",
      "\u001B[1m11/11\u001B[0m \u001B[32m━━━━━━━━━━━━━━━━━━━━\u001B[0m\u001B[37m\u001B[0m \u001B[1m0s\u001B[0m 2ms/step - loss: 0.1239 - mae: 0.2660 - mse: 0.1239 - val_loss: 0.1552 - val_mae: 0.2780 - val_mse: 0.1552\n",
      "Epoch 47/200\n",
      "\u001B[1m11/11\u001B[0m \u001B[32m━━━━━━━━━━━━━━━━━━━━\u001B[0m\u001B[37m\u001B[0m \u001B[1m0s\u001B[0m 2ms/step - loss: 0.0973 - mae: 0.2244 - mse: 0.0973 - val_loss: 0.2574 - val_mae: 0.3453 - val_mse: 0.2574\n",
      "Epoch 48/200\n",
      "\u001B[1m11/11\u001B[0m \u001B[32m━━━━━━━━━━━━━━━━━━━━\u001B[0m\u001B[37m\u001B[0m \u001B[1m0s\u001B[0m 2ms/step - loss: 0.0786 - mae: 0.2149 - mse: 0.0786 - val_loss: 0.1563 - val_mae: 0.2849 - val_mse: 0.1563\n",
      "Epoch 49/200\n",
      "\u001B[1m11/11\u001B[0m \u001B[32m━━━━━━━━━━━━━━━━━━━━\u001B[0m\u001B[37m\u001B[0m \u001B[1m0s\u001B[0m 2ms/step - loss: 0.0827 - mae: 0.2190 - mse: 0.0827 - val_loss: 0.1040 - val_mae: 0.2607 - val_mse: 0.1040\n",
      "Epoch 50/200\n",
      "\u001B[1m11/11\u001B[0m \u001B[32m━━━━━━━━━━━━━━━━━━━━\u001B[0m\u001B[37m\u001B[0m \u001B[1m0s\u001B[0m 2ms/step - loss: 0.1059 - mae: 0.2352 - mse: 0.1059 - val_loss: 0.1392 - val_mae: 0.2717 - val_mse: 0.1392\n",
      "Epoch 51/200\n",
      "\u001B[1m11/11\u001B[0m \u001B[32m━━━━━━━━━━━━━━━━━━━━\u001B[0m\u001B[37m\u001B[0m \u001B[1m0s\u001B[0m 2ms/step - loss: 0.0841 - mae: 0.2161 - mse: 0.0841 - val_loss: 0.1270 - val_mae: 0.2659 - val_mse: 0.1270\n",
      "Epoch 52/200\n",
      "\u001B[1m11/11\u001B[0m \u001B[32m━━━━━━━━━━━━━━━━━━━━\u001B[0m\u001B[37m\u001B[0m \u001B[1m0s\u001B[0m 2ms/step - loss: 0.0760 - mae: 0.2117 - mse: 0.0760 - val_loss: 0.1843 - val_mae: 0.2850 - val_mse: 0.1843\n",
      "Epoch 53/200\n",
      "\u001B[1m11/11\u001B[0m \u001B[32m━━━━━━━━━━━━━━━━━━━━\u001B[0m\u001B[37m\u001B[0m \u001B[1m0s\u001B[0m 2ms/step - loss: 0.0782 - mae: 0.1993 - mse: 0.0782 - val_loss: 0.1946 - val_mae: 0.2965 - val_mse: 0.1946\n",
      "Epoch 54/200\n",
      "\u001B[1m11/11\u001B[0m \u001B[32m━━━━━━━━━━━━━━━━━━━━\u001B[0m\u001B[37m\u001B[0m \u001B[1m0s\u001B[0m 2ms/step - loss: 0.0871 - mae: 0.2172 - mse: 0.0871 - val_loss: 0.1614 - val_mae: 0.2872 - val_mse: 0.1614\n",
      "Epoch 55/200\n",
      "\u001B[1m11/11\u001B[0m \u001B[32m━━━━━━━━━━━━━━━━━━━━\u001B[0m\u001B[37m\u001B[0m \u001B[1m0s\u001B[0m 2ms/step - loss: 0.0743 - mae: 0.2040 - mse: 0.0743 - val_loss: 0.1272 - val_mae: 0.2706 - val_mse: 0.1272\n",
      "Epoch 56/200\n",
      "\u001B[1m11/11\u001B[0m \u001B[32m━━━━━━━━━━━━━━━━━━━━\u001B[0m\u001B[37m\u001B[0m \u001B[1m0s\u001B[0m 2ms/step - loss: 0.1106 - mae: 0.2440 - mse: 0.1106 - val_loss: 0.2630 - val_mae: 0.3365 - val_mse: 0.2630\n",
      "Epoch 57/200\n",
      "\u001B[1m11/11\u001B[0m \u001B[32m━━━━━━━━━━━━━━━━━━━━\u001B[0m\u001B[37m\u001B[0m \u001B[1m0s\u001B[0m 2ms/step - loss: 0.0867 - mae: 0.2068 - mse: 0.0867 - val_loss: 0.1372 - val_mae: 0.2741 - val_mse: 0.1372\n",
      "Epoch 58/200\n",
      "\u001B[1m11/11\u001B[0m \u001B[32m━━━━━━━━━━━━━━━━━━━━\u001B[0m\u001B[37m\u001B[0m \u001B[1m0s\u001B[0m 2ms/step - loss: 0.0689 - mae: 0.2042 - mse: 0.0689 - val_loss: 0.1140 - val_mae: 0.2683 - val_mse: 0.1140\n",
      "Epoch 59/200\n",
      "\u001B[1m11/11\u001B[0m \u001B[32m━━━━━━━━━━━━━━━━━━━━\u001B[0m\u001B[37m\u001B[0m \u001B[1m0s\u001B[0m 2ms/step - loss: 0.0924 - mae: 0.2270 - mse: 0.0924 - val_loss: 0.1861 - val_mae: 0.2946 - val_mse: 0.1861\n",
      "Epoch 60/200\n",
      "\u001B[1m11/11\u001B[0m \u001B[32m━━━━━━━━━━━━━━━━━━━━\u001B[0m\u001B[37m\u001B[0m \u001B[1m0s\u001B[0m 2ms/step - loss: 0.0693 - mae: 0.2064 - mse: 0.0693 - val_loss: 0.1171 - val_mae: 0.2620 - val_mse: 0.1171\n",
      "Epoch 61/200\n",
      "\u001B[1m11/11\u001B[0m \u001B[32m━━━━━━━━━━━━━━━━━━━━\u001B[0m\u001B[37m\u001B[0m \u001B[1m0s\u001B[0m 2ms/step - loss: 0.0899 - mae: 0.2150 - mse: 0.0899 - val_loss: 0.1468 - val_mae: 0.2665 - val_mse: 0.1468\n",
      "Epoch 62/200\n",
      "\u001B[1m11/11\u001B[0m \u001B[32m━━━━━━━━━━━━━━━━━━━━\u001B[0m\u001B[37m\u001B[0m \u001B[1m0s\u001B[0m 2ms/step - loss: 0.0693 - mae: 0.1997 - mse: 0.0693 - val_loss: 0.1561 - val_mae: 0.2893 - val_mse: 0.1561\n",
      "Epoch 63/200\n",
      "\u001B[1m11/11\u001B[0m \u001B[32m━━━━━━━━━━━━━━━━━━━━\u001B[0m\u001B[37m\u001B[0m \u001B[1m0s\u001B[0m 2ms/step - loss: 0.0653 - mae: 0.1949 - mse: 0.0653 - val_loss: 0.1749 - val_mae: 0.3020 - val_mse: 0.1749\n",
      "Epoch 64/200\n",
      "\u001B[1m11/11\u001B[0m \u001B[32m━━━━━━━━━━━━━━━━━━━━\u001B[0m\u001B[37m\u001B[0m \u001B[1m0s\u001B[0m 2ms/step - loss: 0.0772 - mae: 0.2194 - mse: 0.0772 - val_loss: 0.2016 - val_mae: 0.2981 - val_mse: 0.2016\n",
      "Epoch 65/200\n",
      "\u001B[1m11/11\u001B[0m \u001B[32m━━━━━━━━━━━━━━━━━━━━\u001B[0m\u001B[37m\u001B[0m \u001B[1m0s\u001B[0m 2ms/step - loss: 0.0862 - mae: 0.2091 - mse: 0.0862 - val_loss: 0.2009 - val_mae: 0.3069 - val_mse: 0.2009\n",
      "Epoch 66/200\n",
      "\u001B[1m11/11\u001B[0m \u001B[32m━━━━━━━━━━━━━━━━━━━━\u001B[0m\u001B[37m\u001B[0m \u001B[1m0s\u001B[0m 2ms/step - loss: 0.0784 - mae: 0.2074 - mse: 0.0784 - val_loss: 0.1734 - val_mae: 0.2838 - val_mse: 0.1734\n",
      "Epoch 67/200\n",
      "\u001B[1m11/11\u001B[0m \u001B[32m━━━━━━━━━━━━━━━━━━━━\u001B[0m\u001B[37m\u001B[0m \u001B[1m0s\u001B[0m 2ms/step - loss: 0.0720 - mae: 0.1972 - mse: 0.0720 - val_loss: 0.1419 - val_mae: 0.2597 - val_mse: 0.1419\n",
      "Epoch 68/200\n",
      "\u001B[1m11/11\u001B[0m \u001B[32m━━━━━━━━━━━━━━━━━━━━\u001B[0m\u001B[37m\u001B[0m \u001B[1m0s\u001B[0m 2ms/step - loss: 0.0931 - mae: 0.2279 - mse: 0.0931 - val_loss: 0.1586 - val_mae: 0.2856 - val_mse: 0.1586\n",
      "Epoch 69/200\n",
      "\u001B[1m11/11\u001B[0m \u001B[32m━━━━━━━━━━━━━━━━━━━━\u001B[0m\u001B[37m\u001B[0m \u001B[1m0s\u001B[0m 2ms/step - loss: 0.0860 - mae: 0.2203 - mse: 0.0860 - val_loss: 0.1465 - val_mae: 0.2793 - val_mse: 0.1465\n",
      "Epoch 70/200\n",
      "\u001B[1m11/11\u001B[0m \u001B[32m━━━━━━━━━━━━━━━━━━━━\u001B[0m\u001B[37m\u001B[0m \u001B[1m0s\u001B[0m 2ms/step - loss: 0.0659 - mae: 0.1940 - mse: 0.0659 - val_loss: 0.1482 - val_mae: 0.2811 - val_mse: 0.1482\n",
      "Epoch 71/200\n",
      "\u001B[1m11/11\u001B[0m \u001B[32m━━━━━━━━━━━━━━━━━━━━\u001B[0m\u001B[37m\u001B[0m \u001B[1m0s\u001B[0m 2ms/step - loss: 0.0501 - mae: 0.1692 - mse: 0.0501 - val_loss: 0.1392 - val_mae: 0.2669 - val_mse: 0.1392\n",
      "Epoch 72/200\n",
      "\u001B[1m11/11\u001B[0m \u001B[32m━━━━━━━━━━━━━━━━━━━━\u001B[0m\u001B[37m\u001B[0m \u001B[1m0s\u001B[0m 2ms/step - loss: 0.0642 - mae: 0.1895 - mse: 0.0642 - val_loss: 0.2685 - val_mae: 0.3115 - val_mse: 0.2685\n",
      "Epoch 73/200\n",
      "\u001B[1m11/11\u001B[0m \u001B[32m━━━━━━━━━━━━━━━━━━━━\u001B[0m\u001B[37m\u001B[0m \u001B[1m0s\u001B[0m 2ms/step - loss: 0.0641 - mae: 0.1927 - mse: 0.0641 - val_loss: 0.1642 - val_mae: 0.2819 - val_mse: 0.1642\n",
      "Epoch 74/200\n",
      "\u001B[1m11/11\u001B[0m \u001B[32m━━━━━━━━━━━━━━━━━━━━\u001B[0m\u001B[37m\u001B[0m \u001B[1m0s\u001B[0m 2ms/step - loss: 0.0966 - mae: 0.2276 - mse: 0.0966 - val_loss: 0.2389 - val_mae: 0.3378 - val_mse: 0.2389\n",
      "Epoch 75/200\n",
      "\u001B[1m11/11\u001B[0m \u001B[32m━━━━━━━━━━━━━━━━━━━━\u001B[0m\u001B[37m\u001B[0m \u001B[1m0s\u001B[0m 2ms/step - loss: 0.1083 - mae: 0.2500 - mse: 0.1083 - val_loss: 0.1285 - val_mae: 0.2523 - val_mse: 0.1285\n",
      "Epoch 76/200\n",
      "\u001B[1m11/11\u001B[0m \u001B[32m━━━━━━━━━━━━━━━━━━━━\u001B[0m\u001B[37m\u001B[0m \u001B[1m0s\u001B[0m 2ms/step - loss: 0.1069 - mae: 0.2378 - mse: 0.1069 - val_loss: 0.1532 - val_mae: 0.2995 - val_mse: 0.1532\n",
      "Epoch 77/200\n",
      "\u001B[1m11/11\u001B[0m \u001B[32m━━━━━━━━━━━━━━━━━━━━\u001B[0m\u001B[37m\u001B[0m \u001B[1m0s\u001B[0m 2ms/step - loss: 0.0885 - mae: 0.2370 - mse: 0.0885 - val_loss: 0.1372 - val_mae: 0.2802 - val_mse: 0.1372\n",
      "Epoch 78/200\n",
      "\u001B[1m11/11\u001B[0m \u001B[32m━━━━━━━━━━━━━━━━━━━━\u001B[0m\u001B[37m\u001B[0m \u001B[1m0s\u001B[0m 2ms/step - loss: 0.0781 - mae: 0.2121 - mse: 0.0781 - val_loss: 0.4077 - val_mae: 0.3624 - val_mse: 0.4077\n",
      "Epoch 79/200\n",
      "\u001B[1m11/11\u001B[0m \u001B[32m━━━━━━━━━━━━━━━━━━━━\u001B[0m\u001B[37m\u001B[0m \u001B[1m0s\u001B[0m 2ms/step - loss: 0.1622 - mae: 0.2663 - mse: 0.1622 - val_loss: 0.2675 - val_mae: 0.3967 - val_mse: 0.2675\n",
      "Epoch 80/200\n",
      "\u001B[1m11/11\u001B[0m \u001B[32m━━━━━━━━━━━━━━━━━━━━\u001B[0m\u001B[37m\u001B[0m \u001B[1m0s\u001B[0m 2ms/step - loss: 0.2105 - mae: 0.3082 - mse: 0.2105 - val_loss: 0.9355 - val_mae: 0.6216 - val_mse: 0.9355\n",
      "Epoch 81/200\n",
      "\u001B[1m11/11\u001B[0m \u001B[32m━━━━━━━━━━━━━━━━━━━━\u001B[0m\u001B[37m\u001B[0m \u001B[1m0s\u001B[0m 2ms/step - loss: 0.5241 - mae: 0.4210 - mse: 0.5241 - val_loss: 0.2664 - val_mae: 0.4121 - val_mse: 0.2664\n",
      "Epoch 82/200\n",
      "\u001B[1m11/11\u001B[0m \u001B[32m━━━━━━━━━━━━━━━━━━━━\u001B[0m\u001B[37m\u001B[0m \u001B[1m0s\u001B[0m 2ms/step - loss: 0.2239 - mae: 0.3532 - mse: 0.2239 - val_loss: 0.2141 - val_mae: 0.3225 - val_mse: 0.2141\n",
      "Epoch 83/200\n",
      "\u001B[1m11/11\u001B[0m \u001B[32m━━━━━━━━━━━━━━━━━━━━\u001B[0m\u001B[37m\u001B[0m \u001B[1m0s\u001B[0m 2ms/step - loss: 0.1861 - mae: 0.2809 - mse: 0.1861 - val_loss: 0.1528 - val_mae: 0.2954 - val_mse: 0.1528\n",
      "Epoch 84/200\n",
      "\u001B[1m11/11\u001B[0m \u001B[32m━━━━━━━━━━━━━━━━━━━━\u001B[0m\u001B[37m\u001B[0m \u001B[1m0s\u001B[0m 2ms/step - loss: 0.1077 - mae: 0.2256 - mse: 0.1077 - val_loss: 0.1440 - val_mae: 0.2688 - val_mse: 0.1440\n",
      "Epoch 85/200\n",
      "\u001B[1m11/11\u001B[0m \u001B[32m━━━━━━━━━━━━━━━━━━━━\u001B[0m\u001B[37m\u001B[0m \u001B[1m0s\u001B[0m 2ms/step - loss: 0.1271 - mae: 0.2462 - mse: 0.1271 - val_loss: 0.2701 - val_mae: 0.3690 - val_mse: 0.2701\n",
      "Epoch 86/200\n",
      "\u001B[1m11/11\u001B[0m \u001B[32m━━━━━━━━━━━━━━━━━━━━\u001B[0m\u001B[37m\u001B[0m \u001B[1m0s\u001B[0m 2ms/step - loss: 0.1676 - mae: 0.2757 - mse: 0.1676 - val_loss: 0.1550 - val_mae: 0.2778 - val_mse: 0.1550\n",
      "Epoch 87/200\n",
      "\u001B[1m11/11\u001B[0m \u001B[32m━━━━━━━━━━━━━━━━━━━━\u001B[0m\u001B[37m\u001B[0m \u001B[1m0s\u001B[0m 2ms/step - loss: 0.0951 - mae: 0.2160 - mse: 0.0951 - val_loss: 0.3087 - val_mae: 0.3478 - val_mse: 0.3087\n",
      "Epoch 88/200\n",
      "\u001B[1m11/11\u001B[0m \u001B[32m━━━━━━━━━━━━━━━━━━━━\u001B[0m\u001B[37m\u001B[0m \u001B[1m0s\u001B[0m 2ms/step - loss: 0.2505 - mae: 0.3212 - mse: 0.2505 - val_loss: 0.4106 - val_mae: 0.4341 - val_mse: 0.4106\n",
      "Epoch 89/200\n",
      "\u001B[1m11/11\u001B[0m \u001B[32m━━━━━━━━━━━━━━━━━━━━\u001B[0m\u001B[37m\u001B[0m \u001B[1m0s\u001B[0m 2ms/step - loss: 0.4131 - mae: 0.4265 - mse: 0.4131 - val_loss: 0.4557 - val_mae: 0.4712 - val_mse: 0.4557\n",
      "Epoch 90/200\n",
      "\u001B[1m11/11\u001B[0m \u001B[32m━━━━━━━━━━━━━━━━━━━━\u001B[0m\u001B[37m\u001B[0m \u001B[1m0s\u001B[0m 2ms/step - loss: 0.6814 - mae: 0.5847 - mse: 0.6814 - val_loss: 0.3071 - val_mae: 0.4190 - val_mse: 0.3071\n",
      "Epoch 91/200\n",
      "\u001B[1m11/11\u001B[0m \u001B[32m━━━━━━━━━━━━━━━━━━━━\u001B[0m\u001B[37m\u001B[0m \u001B[1m0s\u001B[0m 2ms/step - loss: 0.5169 - mae: 0.4713 - mse: 0.5169 - val_loss: 0.2244 - val_mae: 0.3637 - val_mse: 0.2244\n",
      "Epoch 92/200\n",
      "\u001B[1m11/11\u001B[0m \u001B[32m━━━━━━━━━━━━━━━━━━━━\u001B[0m\u001B[37m\u001B[0m \u001B[1m0s\u001B[0m 2ms/step - loss: 0.3216 - mae: 0.3826 - mse: 0.3216 - val_loss: 0.2179 - val_mae: 0.3499 - val_mse: 0.2179\n",
      "Epoch 93/200\n",
      "\u001B[1m11/11\u001B[0m \u001B[32m━━━━━━━━━━━━━━━━━━━━\u001B[0m\u001B[37m\u001B[0m \u001B[1m0s\u001B[0m 2ms/step - loss: 0.2326 - mae: 0.3182 - mse: 0.2326 - val_loss: 0.1758 - val_mae: 0.3228 - val_mse: 0.1758\n",
      "Epoch 94/200\n",
      "\u001B[1m11/11\u001B[0m \u001B[32m━━━━━━━━━━━━━━━━━━━━\u001B[0m\u001B[37m\u001B[0m \u001B[1m0s\u001B[0m 2ms/step - loss: 0.1781 - mae: 0.2933 - mse: 0.1781 - val_loss: 0.1489 - val_mae: 0.2981 - val_mse: 0.1489\n",
      "Epoch 95/200\n",
      "\u001B[1m11/11\u001B[0m \u001B[32m━━━━━━━━━━━━━━━━━━━━\u001B[0m\u001B[37m\u001B[0m \u001B[1m0s\u001B[0m 2ms/step - loss: 0.1055 - mae: 0.2429 - mse: 0.1055 - val_loss: 0.2081 - val_mae: 0.3209 - val_mse: 0.2081\n",
      "Epoch 96/200\n",
      "\u001B[1m11/11\u001B[0m \u001B[32m━━━━━━━━━━━━━━━━━━━━\u001B[0m\u001B[37m\u001B[0m \u001B[1m0s\u001B[0m 2ms/step - loss: 0.1415 - mae: 0.2663 - mse: 0.1415 - val_loss: 0.3432 - val_mae: 0.3995 - val_mse: 0.3432\n",
      "Epoch 97/200\n",
      "\u001B[1m11/11\u001B[0m \u001B[32m━━━━━━━━━━━━━━━━━━━━\u001B[0m\u001B[37m\u001B[0m \u001B[1m0s\u001B[0m 2ms/step - loss: 0.1723 - mae: 0.3151 - mse: 0.1723 - val_loss: 0.2232 - val_mae: 0.3237 - val_mse: 0.2232\n",
      "Epoch 98/200\n",
      "\u001B[1m11/11\u001B[0m \u001B[32m━━━━━━━━━━━━━━━━━━━━\u001B[0m\u001B[37m\u001B[0m \u001B[1m0s\u001B[0m 2ms/step - loss: 0.0956 - mae: 0.2308 - mse: 0.0956 - val_loss: 0.4025 - val_mae: 0.4766 - val_mse: 0.4025\n",
      "Epoch 99/200\n",
      "\u001B[1m11/11\u001B[0m \u001B[32m━━━━━━━━━━━━━━━━━━━━\u001B[0m\u001B[37m\u001B[0m \u001B[1m0s\u001B[0m 2ms/step - loss: 0.2234 - mae: 0.3244 - mse: 0.2234 - val_loss: 0.3878 - val_mae: 0.4534 - val_mse: 0.3878\n",
      "Epoch 100/200\n",
      "\u001B[1m11/11\u001B[0m \u001B[32m━━━━━━━━━━━━━━━━━━━━\u001B[0m\u001B[37m\u001B[0m \u001B[1m0s\u001B[0m 2ms/step - loss: 0.2303 - mae: 0.3530 - mse: 0.2303 - val_loss: 0.2290 - val_mae: 0.3308 - val_mse: 0.2290\n",
      "Epoch 101/200\n",
      "\u001B[1m11/11\u001B[0m \u001B[32m━━━━━━━━━━━━━━━━━━━━\u001B[0m\u001B[37m\u001B[0m \u001B[1m0s\u001B[0m 2ms/step - loss: 0.2296 - mae: 0.3578 - mse: 0.2296 - val_loss: 0.2260 - val_mae: 0.3283 - val_mse: 0.2260\n",
      "Epoch 102/200\n",
      "\u001B[1m11/11\u001B[0m \u001B[32m━━━━━━━━━━━━━━━━━━━━\u001B[0m\u001B[37m\u001B[0m \u001B[1m0s\u001B[0m 2ms/step - loss: 0.1645 - mae: 0.2848 - mse: 0.1645 - val_loss: 0.1722 - val_mae: 0.3249 - val_mse: 0.1722\n",
      "Epoch 103/200\n",
      "\u001B[1m11/11\u001B[0m \u001B[32m━━━━━━━━━━━━━━━━━━━━\u001B[0m\u001B[37m\u001B[0m \u001B[1m0s\u001B[0m 2ms/step - loss: 0.1349 - mae: 0.2813 - mse: 0.1349 - val_loss: 0.1459 - val_mae: 0.3187 - val_mse: 0.1459\n",
      "Epoch 104/200\n",
      "\u001B[1m11/11\u001B[0m \u001B[32m━━━━━━━━━━━━━━━━━━━━\u001B[0m\u001B[37m\u001B[0m \u001B[1m0s\u001B[0m 2ms/step - loss: 0.1027 - mae: 0.2343 - mse: 0.1027 - val_loss: 0.2119 - val_mae: 0.3323 - val_mse: 0.2119\n",
      "Epoch 105/200\n",
      "\u001B[1m11/11\u001B[0m \u001B[32m━━━━━━━━━━━━━━━━━━━━\u001B[0m\u001B[37m\u001B[0m \u001B[1m0s\u001B[0m 2ms/step - loss: 0.1467 - mae: 0.2795 - mse: 0.1467 - val_loss: 0.1723 - val_mae: 0.3028 - val_mse: 0.1723\n",
      "Epoch 106/200\n",
      "\u001B[1m11/11\u001B[0m \u001B[32m━━━━━━━━━━━━━━━━━━━━\u001B[0m\u001B[37m\u001B[0m \u001B[1m0s\u001B[0m 2ms/step - loss: 0.0925 - mae: 0.2259 - mse: 0.0925 - val_loss: 0.1854 - val_mae: 0.3176 - val_mse: 0.1854\n",
      "Epoch 107/200\n",
      "\u001B[1m11/11\u001B[0m \u001B[32m━━━━━━━━━━━━━━━━━━━━\u001B[0m\u001B[37m\u001B[0m \u001B[1m0s\u001B[0m 2ms/step - loss: 0.1659 - mae: 0.2826 - mse: 0.1659 - val_loss: 0.1935 - val_mae: 0.3194 - val_mse: 0.1935\n",
      "Epoch 108/200\n",
      "\u001B[1m11/11\u001B[0m \u001B[32m━━━━━━━━━━━━━━━━━━━━\u001B[0m\u001B[37m\u001B[0m \u001B[1m0s\u001B[0m 2ms/step - loss: 0.0981 - mae: 0.2373 - mse: 0.0981 - val_loss: 0.2194 - val_mae: 0.3443 - val_mse: 0.2194\n",
      "Epoch 109/200\n",
      "\u001B[1m11/11\u001B[0m \u001B[32m━━━━━━━━━━━━━━━━━━━━\u001B[0m\u001B[37m\u001B[0m \u001B[1m0s\u001B[0m 2ms/step - loss: 0.1476 - mae: 0.2905 - mse: 0.1476 - val_loss: 0.1699 - val_mae: 0.3045 - val_mse: 0.1699\n",
      "Epoch 110/200\n",
      "\u001B[1m11/11\u001B[0m \u001B[32m━━━━━━━━━━━━━━━━━━━━\u001B[0m\u001B[37m\u001B[0m \u001B[1m0s\u001B[0m 2ms/step - loss: 0.1854 - mae: 0.3216 - mse: 0.1854 - val_loss: 0.2576 - val_mae: 0.3788 - val_mse: 0.2576\n",
      "Epoch 111/200\n",
      "\u001B[1m11/11\u001B[0m \u001B[32m━━━━━━━━━━━━━━━━━━━━\u001B[0m\u001B[37m\u001B[0m \u001B[1m0s\u001B[0m 2ms/step - loss: 0.1476 - mae: 0.2994 - mse: 0.1476 - val_loss: 0.2920 - val_mae: 0.4169 - val_mse: 0.2920\n",
      "Epoch 112/200\n",
      "\u001B[1m11/11\u001B[0m \u001B[32m━━━━━━━━━━━━━━━━━━━━\u001B[0m\u001B[37m\u001B[0m \u001B[1m0s\u001B[0m 2ms/step - loss: 0.1739 - mae: 0.3218 - mse: 0.1739 - val_loss: 0.2750 - val_mae: 0.3668 - val_mse: 0.2750\n",
      "Epoch 113/200\n",
      "\u001B[1m11/11\u001B[0m \u001B[32m━━━━━━━━━━━━━━━━━━━━\u001B[0m\u001B[37m\u001B[0m \u001B[1m0s\u001B[0m 2ms/step - loss: 0.1781 - mae: 0.3238 - mse: 0.1781 - val_loss: 0.2269 - val_mae: 0.3733 - val_mse: 0.2269\n",
      "Epoch 114/200\n",
      "\u001B[1m11/11\u001B[0m \u001B[32m━━━━━━━━━━━━━━━━━━━━\u001B[0m\u001B[37m\u001B[0m \u001B[1m0s\u001B[0m 2ms/step - loss: 0.1535 - mae: 0.2961 - mse: 0.1535 - val_loss: 0.3808 - val_mae: 0.4753 - val_mse: 0.3808\n",
      "Epoch 115/200\n",
      "\u001B[1m11/11\u001B[0m \u001B[32m━━━━━━━━━━━━━━━━━━━━\u001B[0m\u001B[37m\u001B[0m \u001B[1m0s\u001B[0m 2ms/step - loss: 0.2253 - mae: 0.3606 - mse: 0.2253 - val_loss: 0.1671 - val_mae: 0.2875 - val_mse: 0.1671\n",
      "Epoch 116/200\n",
      "\u001B[1m11/11\u001B[0m \u001B[32m━━━━━━━━━━━━━━━━━━━━\u001B[0m\u001B[37m\u001B[0m \u001B[1m0s\u001B[0m 2ms/step - loss: 0.1153 - mae: 0.2534 - mse: 0.1153 - val_loss: 0.1816 - val_mae: 0.3093 - val_mse: 0.1816\n",
      "Epoch 117/200\n",
      "\u001B[1m11/11\u001B[0m \u001B[32m━━━━━━━━━━━━━━━━━━━━\u001B[0m\u001B[37m\u001B[0m \u001B[1m0s\u001B[0m 2ms/step - loss: 0.1396 - mae: 0.2635 - mse: 0.1396 - val_loss: 0.3784 - val_mae: 0.3932 - val_mse: 0.3784\n",
      "Epoch 118/200\n",
      "\u001B[1m11/11\u001B[0m \u001B[32m━━━━━━━━━━━━━━━━━━━━\u001B[0m\u001B[37m\u001B[0m \u001B[1m0s\u001B[0m 2ms/step - loss: 0.1184 - mae: 0.2538 - mse: 0.1184 - val_loss: 0.1521 - val_mae: 0.2730 - val_mse: 0.1521\n",
      "Epoch 119/200\n",
      "\u001B[1m11/11\u001B[0m \u001B[32m━━━━━━━━━━━━━━━━━━━━\u001B[0m\u001B[37m\u001B[0m \u001B[1m0s\u001B[0m 2ms/step - loss: 0.0890 - mae: 0.2086 - mse: 0.0890 - val_loss: 0.1619 - val_mae: 0.2768 - val_mse: 0.1619\n",
      "Epoch 120/200\n",
      "\u001B[1m11/11\u001B[0m \u001B[32m━━━━━━━━━━━━━━━━━━━━\u001B[0m\u001B[37m\u001B[0m \u001B[1m0s\u001B[0m 2ms/step - loss: 0.0952 - mae: 0.2373 - mse: 0.0952 - val_loss: 0.1794 - val_mae: 0.3082 - val_mse: 0.1794\n",
      "Epoch 121/200\n",
      "\u001B[1m11/11\u001B[0m \u001B[32m━━━━━━━━━━━━━━━━━━━━\u001B[0m\u001B[37m\u001B[0m \u001B[1m0s\u001B[0m 2ms/step - loss: 0.0876 - mae: 0.2174 - mse: 0.0876 - val_loss: 0.1410 - val_mae: 0.2566 - val_mse: 0.1410\n",
      "Epoch 122/200\n",
      "\u001B[1m11/11\u001B[0m \u001B[32m━━━━━━━━━━━━━━━━━━━━\u001B[0m\u001B[37m\u001B[0m \u001B[1m0s\u001B[0m 2ms/step - loss: 0.0856 - mae: 0.2163 - mse: 0.0856 - val_loss: 0.1547 - val_mae: 0.2642 - val_mse: 0.1547\n",
      "Epoch 123/200\n",
      "\u001B[1m11/11\u001B[0m \u001B[32m━━━━━━━━━━━━━━━━━━━━\u001B[0m\u001B[37m\u001B[0m \u001B[1m0s\u001B[0m 2ms/step - loss: 0.0965 - mae: 0.2226 - mse: 0.0965 - val_loss: 0.1946 - val_mae: 0.2940 - val_mse: 0.1946\n",
      "Epoch 124/200\n",
      "\u001B[1m11/11\u001B[0m \u001B[32m━━━━━━━━━━━━━━━━━━━━\u001B[0m\u001B[37m\u001B[0m \u001B[1m0s\u001B[0m 2ms/step - loss: 0.1236 - mae: 0.2622 - mse: 0.1236 - val_loss: 0.1815 - val_mae: 0.3057 - val_mse: 0.1815\n",
      "Epoch 125/200\n",
      "\u001B[1m11/11\u001B[0m \u001B[32m━━━━━━━━━━━━━━━━━━━━\u001B[0m\u001B[37m\u001B[0m \u001B[1m0s\u001B[0m 2ms/step - loss: 0.1088 - mae: 0.2545 - mse: 0.1088 - val_loss: 0.3185 - val_mae: 0.4230 - val_mse: 0.3185\n",
      "Epoch 126/200\n",
      "\u001B[1m11/11\u001B[0m \u001B[32m━━━━━━━━━━━━━━━━━━━━\u001B[0m\u001B[37m\u001B[0m \u001B[1m0s\u001B[0m 2ms/step - loss: 0.1424 - mae: 0.2916 - mse: 0.1424 - val_loss: 0.1793 - val_mae: 0.3081 - val_mse: 0.1793\n",
      "Epoch 127/200\n",
      "\u001B[1m11/11\u001B[0m \u001B[32m━━━━━━━━━━━━━━━━━━━━\u001B[0m\u001B[37m\u001B[0m \u001B[1m0s\u001B[0m 2ms/step - loss: 0.1094 - mae: 0.2537 - mse: 0.1094 - val_loss: 0.2014 - val_mae: 0.3163 - val_mse: 0.2014\n",
      "Epoch 128/200\n",
      "\u001B[1m11/11\u001B[0m \u001B[32m━━━━━━━━━━━━━━━━━━━━\u001B[0m\u001B[37m\u001B[0m \u001B[1m0s\u001B[0m 2ms/step - loss: 0.1012 - mae: 0.2483 - mse: 0.1012 - val_loss: 0.1511 - val_mae: 0.3014 - val_mse: 0.1511\n",
      "Epoch 129/200\n",
      "\u001B[1m11/11\u001B[0m \u001B[32m━━━━━━━━━━━━━━━━━━━━\u001B[0m\u001B[37m\u001B[0m \u001B[1m0s\u001B[0m 2ms/step - loss: 0.1043 - mae: 0.2542 - mse: 0.1043 - val_loss: 0.1656 - val_mae: 0.2859 - val_mse: 0.1656\n",
      "Epoch 130/200\n",
      "\u001B[1m11/11\u001B[0m \u001B[32m━━━━━━━━━━━━━━━━━━━━\u001B[0m\u001B[37m\u001B[0m \u001B[1m0s\u001B[0m 2ms/step - loss: 0.0982 - mae: 0.2470 - mse: 0.0982 - val_loss: 0.1308 - val_mae: 0.2767 - val_mse: 0.1308\n",
      "Epoch 131/200\n",
      "\u001B[1m11/11\u001B[0m \u001B[32m━━━━━━━━━━━━━━━━━━━━\u001B[0m\u001B[37m\u001B[0m \u001B[1m0s\u001B[0m 2ms/step - loss: 0.0894 - mae: 0.2233 - mse: 0.0894 - val_loss: 0.1564 - val_mae: 0.2872 - val_mse: 0.1564\n",
      "Epoch 132/200\n",
      "\u001B[1m11/11\u001B[0m \u001B[32m━━━━━━━━━━━━━━━━━━━━\u001B[0m\u001B[37m\u001B[0m \u001B[1m0s\u001B[0m 2ms/step - loss: 0.0835 - mae: 0.2193 - mse: 0.0835 - val_loss: 0.1372 - val_mae: 0.2724 - val_mse: 0.1372\n",
      "Epoch 133/200\n",
      "\u001B[1m11/11\u001B[0m \u001B[32m━━━━━━━━━━━━━━━━━━━━\u001B[0m\u001B[37m\u001B[0m \u001B[1m0s\u001B[0m 2ms/step - loss: 0.0839 - mae: 0.2155 - mse: 0.0839 - val_loss: 0.1723 - val_mae: 0.2933 - val_mse: 0.1723\n",
      "Epoch 134/200\n",
      "\u001B[1m11/11\u001B[0m \u001B[32m━━━━━━━━━━━━━━━━━━━━\u001B[0m\u001B[37m\u001B[0m \u001B[1m0s\u001B[0m 2ms/step - loss: 0.0807 - mae: 0.2164 - mse: 0.0807 - val_loss: 0.1285 - val_mae: 0.2643 - val_mse: 0.1285\n",
      "Epoch 135/200\n",
      "\u001B[1m11/11\u001B[0m \u001B[32m━━━━━━━━━━━━━━━━━━━━\u001B[0m\u001B[37m\u001B[0m \u001B[1m0s\u001B[0m 2ms/step - loss: 0.0752 - mae: 0.2089 - mse: 0.0752 - val_loss: 0.1477 - val_mae: 0.2711 - val_mse: 0.1477\n",
      "Epoch 136/200\n",
      "\u001B[1m11/11\u001B[0m \u001B[32m━━━━━━━━━━━━━━━━━━━━\u001B[0m\u001B[37m\u001B[0m \u001B[1m0s\u001B[0m 2ms/step - loss: 0.0778 - mae: 0.2119 - mse: 0.0778 - val_loss: 0.1385 - val_mae: 0.2616 - val_mse: 0.1385\n",
      "Epoch 137/200\n",
      "\u001B[1m11/11\u001B[0m \u001B[32m━━━━━━━━━━━━━━━━━━━━\u001B[0m\u001B[37m\u001B[0m \u001B[1m0s\u001B[0m 2ms/step - loss: 0.0686 - mae: 0.1907 - mse: 0.0686 - val_loss: 0.1517 - val_mae: 0.2809 - val_mse: 0.1517\n",
      "Epoch 138/200\n",
      "\u001B[1m11/11\u001B[0m \u001B[32m━━━━━━━━━━━━━━━━━━━━\u001B[0m\u001B[37m\u001B[0m \u001B[1m0s\u001B[0m 2ms/step - loss: 0.0846 - mae: 0.2173 - mse: 0.0846 - val_loss: 0.1957 - val_mae: 0.3088 - val_mse: 0.1957\n",
      "Epoch 139/200\n",
      "\u001B[1m11/11\u001B[0m \u001B[32m━━━━━━━━━━━━━━━━━━━━\u001B[0m\u001B[37m\u001B[0m \u001B[1m0s\u001B[0m 2ms/step - loss: 0.1009 - mae: 0.2435 - mse: 0.1009 - val_loss: 0.1222 - val_mae: 0.2438 - val_mse: 0.1222\n",
      "Epoch 140/200\n",
      "\u001B[1m11/11\u001B[0m \u001B[32m━━━━━━━━━━━━━━━━━━━━\u001B[0m\u001B[37m\u001B[0m \u001B[1m0s\u001B[0m 2ms/step - loss: 0.0650 - mae: 0.1929 - mse: 0.0650 - val_loss: 0.1144 - val_mae: 0.2437 - val_mse: 0.1144\n",
      "Epoch 141/200\n",
      "\u001B[1m11/11\u001B[0m \u001B[32m━━━━━━━━━━━━━━━━━━━━\u001B[0m\u001B[37m\u001B[0m \u001B[1m0s\u001B[0m 2ms/step - loss: 0.0764 - mae: 0.2006 - mse: 0.0764 - val_loss: 0.1407 - val_mae: 0.2671 - val_mse: 0.1407\n",
      "Epoch 142/200\n",
      "\u001B[1m11/11\u001B[0m \u001B[32m━━━━━━━━━━━━━━━━━━━━\u001B[0m\u001B[37m\u001B[0m \u001B[1m0s\u001B[0m 2ms/step - loss: 0.0573 - mae: 0.1787 - mse: 0.0573 - val_loss: 0.1119 - val_mae: 0.2313 - val_mse: 0.1119\n",
      "Epoch 143/200\n",
      "\u001B[1m11/11\u001B[0m \u001B[32m━━━━━━━━━━━━━━━━━━━━\u001B[0m\u001B[37m\u001B[0m \u001B[1m0s\u001B[0m 2ms/step - loss: 0.0597 - mae: 0.1810 - mse: 0.0597 - val_loss: 0.1187 - val_mae: 0.2401 - val_mse: 0.1187\n",
      "Epoch 144/200\n",
      "\u001B[1m11/11\u001B[0m \u001B[32m━━━━━━━━━━━━━━━━━━━━\u001B[0m\u001B[37m\u001B[0m \u001B[1m0s\u001B[0m 2ms/step - loss: 0.0538 - mae: 0.1720 - mse: 0.0538 - val_loss: 0.1125 - val_mae: 0.2405 - val_mse: 0.1125\n",
      "Epoch 145/200\n",
      "\u001B[1m11/11\u001B[0m \u001B[32m━━━━━━━━━━━━━━━━━━━━\u001B[0m\u001B[37m\u001B[0m \u001B[1m0s\u001B[0m 2ms/step - loss: 0.0823 - mae: 0.2112 - mse: 0.0823 - val_loss: 0.1906 - val_mae: 0.3111 - val_mse: 0.1906\n",
      "Epoch 146/200\n",
      "\u001B[1m11/11\u001B[0m \u001B[32m━━━━━━━━━━━━━━━━━━━━\u001B[0m\u001B[37m\u001B[0m \u001B[1m0s\u001B[0m 2ms/step - loss: 0.0918 - mae: 0.2253 - mse: 0.0918 - val_loss: 0.1477 - val_mae: 0.2881 - val_mse: 0.1477\n",
      "Epoch 147/200\n",
      "\u001B[1m11/11\u001B[0m \u001B[32m━━━━━━━━━━━━━━━━━━━━\u001B[0m\u001B[37m\u001B[0m \u001B[1m0s\u001B[0m 2ms/step - loss: 0.0990 - mae: 0.2233 - mse: 0.0990 - val_loss: 0.1641 - val_mae: 0.2976 - val_mse: 0.1641\n",
      "Epoch 148/200\n",
      "\u001B[1m11/11\u001B[0m \u001B[32m━━━━━━━━━━━━━━━━━━━━\u001B[0m\u001B[37m\u001B[0m \u001B[1m0s\u001B[0m 2ms/step - loss: 0.1107 - mae: 0.2501 - mse: 0.1107 - val_loss: 0.3740 - val_mae: 0.4236 - val_mse: 0.3740\n",
      "Epoch 149/200\n",
      "\u001B[1m11/11\u001B[0m \u001B[32m━━━━━━━━━━━━━━━━━━━━\u001B[0m\u001B[37m\u001B[0m \u001B[1m0s\u001B[0m 2ms/step - loss: 0.1404 - mae: 0.2773 - mse: 0.1404 - val_loss: 0.2104 - val_mae: 0.3368 - val_mse: 0.2104\n",
      "Epoch 150/200\n",
      "\u001B[1m11/11\u001B[0m \u001B[32m━━━━━━━━━━━━━━━━━━━━\u001B[0m\u001B[37m\u001B[0m \u001B[1m0s\u001B[0m 2ms/step - loss: 0.1011 - mae: 0.2254 - mse: 0.1011 - val_loss: 0.1251 - val_mae: 0.2615 - val_mse: 0.1251\n",
      "Epoch 151/200\n",
      "\u001B[1m11/11\u001B[0m \u001B[32m━━━━━━━━━━━━━━━━━━━━\u001B[0m\u001B[37m\u001B[0m \u001B[1m0s\u001B[0m 2ms/step - loss: 0.0703 - mae: 0.1945 - mse: 0.0703 - val_loss: 0.1199 - val_mae: 0.2522 - val_mse: 0.1199\n",
      "Epoch 152/200\n",
      "\u001B[1m11/11\u001B[0m \u001B[32m━━━━━━━━━━━━━━━━━━━━\u001B[0m\u001B[37m\u001B[0m \u001B[1m0s\u001B[0m 2ms/step - loss: 0.0591 - mae: 0.1813 - mse: 0.0591 - val_loss: 0.1878 - val_mae: 0.3224 - val_mse: 0.1878\n",
      "Epoch 153/200\n",
      "\u001B[1m11/11\u001B[0m \u001B[32m━━━━━━━━━━━━━━━━━━━━\u001B[0m\u001B[37m\u001B[0m \u001B[1m0s\u001B[0m 2ms/step - loss: 0.1774 - mae: 0.2867 - mse: 0.1774 - val_loss: 0.2366 - val_mae: 0.3624 - val_mse: 0.2366\n",
      "Epoch 154/200\n",
      "\u001B[1m11/11\u001B[0m \u001B[32m━━━━━━━━━━━━━━━━━━━━\u001B[0m\u001B[37m\u001B[0m \u001B[1m0s\u001B[0m 2ms/step - loss: 0.2208 - mae: 0.3341 - mse: 0.2208 - val_loss: 0.1791 - val_mae: 0.3273 - val_mse: 0.1791\n",
      "Epoch 155/200\n",
      "\u001B[1m11/11\u001B[0m \u001B[32m━━━━━━━━━━━━━━━━━━━━\u001B[0m\u001B[37m\u001B[0m \u001B[1m0s\u001B[0m 2ms/step - loss: 0.1359 - mae: 0.2753 - mse: 0.1359 - val_loss: 0.1668 - val_mae: 0.2875 - val_mse: 0.1668\n",
      "Epoch 156/200\n",
      "\u001B[1m11/11\u001B[0m \u001B[32m━━━━━━━━━━━━━━━━━━━━\u001B[0m\u001B[37m\u001B[0m \u001B[1m0s\u001B[0m 2ms/step - loss: 0.1334 - mae: 0.2572 - mse: 0.1334 - val_loss: 0.1317 - val_mae: 0.2893 - val_mse: 0.1317\n",
      "Epoch 157/200\n",
      "\u001B[1m11/11\u001B[0m \u001B[32m━━━━━━━━━━━━━━━━━━━━\u001B[0m\u001B[37m\u001B[0m \u001B[1m0s\u001B[0m 2ms/step - loss: 0.1187 - mae: 0.2636 - mse: 0.1187 - val_loss: 0.1131 - val_mae: 0.2486 - val_mse: 0.1131\n",
      "Epoch 158/200\n",
      "\u001B[1m11/11\u001B[0m \u001B[32m━━━━━━━━━━━━━━━━━━━━\u001B[0m\u001B[37m\u001B[0m \u001B[1m0s\u001B[0m 2ms/step - loss: 0.0749 - mae: 0.2076 - mse: 0.0749 - val_loss: 0.1276 - val_mae: 0.2700 - val_mse: 0.1276\n",
      "Epoch 159/200\n",
      "\u001B[1m11/11\u001B[0m \u001B[32m━━━━━━━━━━━━━━━━━━━━\u001B[0m\u001B[37m\u001B[0m \u001B[1m0s\u001B[0m 2ms/step - loss: 0.0769 - mae: 0.2183 - mse: 0.0769 - val_loss: 0.0929 - val_mae: 0.2360 - val_mse: 0.0929\n",
      "Epoch 160/200\n",
      "\u001B[1m11/11\u001B[0m \u001B[32m━━━━━━━━━━━━━━━━━━━━\u001B[0m\u001B[37m\u001B[0m \u001B[1m0s\u001B[0m 2ms/step - loss: 0.0655 - mae: 0.1881 - mse: 0.0655 - val_loss: 0.0789 - val_mae: 0.2238 - val_mse: 0.0789\n",
      "Epoch 161/200\n",
      "\u001B[1m11/11\u001B[0m \u001B[32m━━━━━━━━━━━━━━━━━━━━\u001B[0m\u001B[37m\u001B[0m \u001B[1m0s\u001B[0m 2ms/step - loss: 0.0613 - mae: 0.1798 - mse: 0.0613 - val_loss: 0.1028 - val_mae: 0.2472 - val_mse: 0.1028\n",
      "Epoch 162/200\n",
      "\u001B[1m11/11\u001B[0m \u001B[32m━━━━━━━━━━━━━━━━━━━━\u001B[0m\u001B[37m\u001B[0m \u001B[1m0s\u001B[0m 2ms/step - loss: 0.1028 - mae: 0.2338 - mse: 0.1028 - val_loss: 0.3070 - val_mae: 0.3971 - val_mse: 0.3070\n",
      "Epoch 163/200\n",
      "\u001B[1m11/11\u001B[0m \u001B[32m━━━━━━━━━━━━━━━━━━━━\u001B[0m\u001B[37m\u001B[0m \u001B[1m0s\u001B[0m 2ms/step - loss: 0.1123 - mae: 0.2377 - mse: 0.1123 - val_loss: 0.1078 - val_mae: 0.2563 - val_mse: 0.1078\n",
      "Epoch 164/200\n",
      "\u001B[1m11/11\u001B[0m \u001B[32m━━━━━━━━━━━━━━━━━━━━\u001B[0m\u001B[37m\u001B[0m \u001B[1m0s\u001B[0m 2ms/step - loss: 0.0917 - mae: 0.2129 - mse: 0.0917 - val_loss: 0.1564 - val_mae: 0.2831 - val_mse: 0.1564\n",
      "Epoch 165/200\n",
      "\u001B[1m11/11\u001B[0m \u001B[32m━━━━━━━━━━━━━━━━━━━━\u001B[0m\u001B[37m\u001B[0m \u001B[1m0s\u001B[0m 2ms/step - loss: 0.0835 - mae: 0.2144 - mse: 0.0835 - val_loss: 0.1378 - val_mae: 0.2731 - val_mse: 0.1378\n",
      "Epoch 166/200\n",
      "\u001B[1m11/11\u001B[0m \u001B[32m━━━━━━━━━━━━━━━━━━━━\u001B[0m\u001B[37m\u001B[0m \u001B[1m0s\u001B[0m 2ms/step - loss: 0.0882 - mae: 0.2194 - mse: 0.0882 - val_loss: 0.1544 - val_mae: 0.2947 - val_mse: 0.1544\n",
      "Epoch 167/200\n",
      "\u001B[1m11/11\u001B[0m \u001B[32m━━━━━━━━━━━━━━━━━━━━\u001B[0m\u001B[37m\u001B[0m \u001B[1m0s\u001B[0m 2ms/step - loss: 0.1022 - mae: 0.2413 - mse: 0.1022 - val_loss: 0.0967 - val_mae: 0.2510 - val_mse: 0.0967\n",
      "Epoch 168/200\n",
      "\u001B[1m11/11\u001B[0m \u001B[32m━━━━━━━━━━━━━━━━━━━━\u001B[0m\u001B[37m\u001B[0m \u001B[1m0s\u001B[0m 2ms/step - loss: 0.1389 - mae: 0.2601 - mse: 0.1389 - val_loss: 0.1533 - val_mae: 0.2984 - val_mse: 0.1533\n",
      "Epoch 169/200\n",
      "\u001B[1m11/11\u001B[0m \u001B[32m━━━━━━━━━━━━━━━━━━━━\u001B[0m\u001B[37m\u001B[0m \u001B[1m0s\u001B[0m 2ms/step - loss: 0.1003 - mae: 0.2422 - mse: 0.1003 - val_loss: 0.1350 - val_mae: 0.2922 - val_mse: 0.1350\n",
      "Epoch 170/200\n",
      "\u001B[1m11/11\u001B[0m \u001B[32m━━━━━━━━━━━━━━━━━━━━\u001B[0m\u001B[37m\u001B[0m \u001B[1m0s\u001B[0m 2ms/step - loss: 0.0674 - mae: 0.1987 - mse: 0.0674 - val_loss: 0.0892 - val_mae: 0.2228 - val_mse: 0.0892\n",
      "Epoch 171/200\n",
      "\u001B[1m11/11\u001B[0m \u001B[32m━━━━━━━━━━━━━━━━━━━━\u001B[0m\u001B[37m\u001B[0m \u001B[1m0s\u001B[0m 2ms/step - loss: 0.0575 - mae: 0.1834 - mse: 0.0575 - val_loss: 0.0994 - val_mae: 0.2309 - val_mse: 0.0994\n",
      "Epoch 172/200\n",
      "\u001B[1m11/11\u001B[0m \u001B[32m━━━━━━━━━━━━━━━━━━━━\u001B[0m\u001B[37m\u001B[0m \u001B[1m0s\u001B[0m 2ms/step - loss: 0.0531 - mae: 0.1722 - mse: 0.0531 - val_loss: 0.0831 - val_mae: 0.2209 - val_mse: 0.0831\n",
      "Epoch 173/200\n",
      "\u001B[1m11/11\u001B[0m \u001B[32m━━━━━━━━━━━━━━━━━━━━\u001B[0m\u001B[37m\u001B[0m \u001B[1m0s\u001B[0m 2ms/step - loss: 0.0684 - mae: 0.1951 - mse: 0.0684 - val_loss: 0.1429 - val_mae: 0.2814 - val_mse: 0.1429\n",
      "Epoch 174/200\n",
      "\u001B[1m11/11\u001B[0m \u001B[32m━━━━━━━━━━━━━━━━━━━━\u001B[0m\u001B[37m\u001B[0m \u001B[1m0s\u001B[0m 2ms/step - loss: 0.0789 - mae: 0.1994 - mse: 0.0789 - val_loss: 0.0966 - val_mae: 0.2305 - val_mse: 0.0966\n",
      "Epoch 175/200\n",
      "\u001B[1m11/11\u001B[0m \u001B[32m━━━━━━━━━━━━━━━━━━━━\u001B[0m\u001B[37m\u001B[0m \u001B[1m0s\u001B[0m 2ms/step - loss: 0.0556 - mae: 0.1710 - mse: 0.0556 - val_loss: 0.0933 - val_mae: 0.2368 - val_mse: 0.0933\n",
      "Epoch 176/200\n",
      "\u001B[1m11/11\u001B[0m \u001B[32m━━━━━━━━━━━━━━━━━━━━\u001B[0m\u001B[37m\u001B[0m \u001B[1m0s\u001B[0m 2ms/step - loss: 0.0539 - mae: 0.1769 - mse: 0.0539 - val_loss: 0.0944 - val_mae: 0.2401 - val_mse: 0.0944\n",
      "Epoch 177/200\n",
      "\u001B[1m11/11\u001B[0m \u001B[32m━━━━━━━━━━━━━━━━━━━━\u001B[0m\u001B[37m\u001B[0m \u001B[1m0s\u001B[0m 2ms/step - loss: 0.0662 - mae: 0.1762 - mse: 0.0662 - val_loss: 0.1176 - val_mae: 0.2686 - val_mse: 0.1176\n",
      "Epoch 178/200\n",
      "\u001B[1m11/11\u001B[0m \u001B[32m━━━━━━━━━━━━━━━━━━━━\u001B[0m\u001B[37m\u001B[0m \u001B[1m0s\u001B[0m 2ms/step - loss: 0.0771 - mae: 0.2105 - mse: 0.0771 - val_loss: 0.0954 - val_mae: 0.2278 - val_mse: 0.0954\n",
      "Epoch 179/200\n",
      "\u001B[1m11/11\u001B[0m \u001B[32m━━━━━━━━━━━━━━━━━━━━\u001B[0m\u001B[37m\u001B[0m \u001B[1m0s\u001B[0m 2ms/step - loss: 0.0553 - mae: 0.1707 - mse: 0.0553 - val_loss: 0.1002 - val_mae: 0.2418 - val_mse: 0.1002\n",
      "Epoch 180/200\n",
      "\u001B[1m11/11\u001B[0m \u001B[32m━━━━━━━━━━━━━━━━━━━━\u001B[0m\u001B[37m\u001B[0m \u001B[1m0s\u001B[0m 2ms/step - loss: 0.0636 - mae: 0.1871 - mse: 0.0636 - val_loss: 0.0916 - val_mae: 0.2287 - val_mse: 0.0916\n",
      "Epoch 181/200\n",
      "\u001B[1m11/11\u001B[0m \u001B[32m━━━━━━━━━━━━━━━━━━━━\u001B[0m\u001B[37m\u001B[0m \u001B[1m0s\u001B[0m 2ms/step - loss: 0.0672 - mae: 0.1967 - mse: 0.0672 - val_loss: 0.0965 - val_mae: 0.2323 - val_mse: 0.0965\n",
      "Epoch 182/200\n",
      "\u001B[1m11/11\u001B[0m \u001B[32m━━━━━━━━━━━━━━━━━━━━\u001B[0m\u001B[37m\u001B[0m \u001B[1m0s\u001B[0m 2ms/step - loss: 0.0667 - mae: 0.1995 - mse: 0.0667 - val_loss: 0.1294 - val_mae: 0.2603 - val_mse: 0.1294\n",
      "Epoch 183/200\n",
      "\u001B[1m11/11\u001B[0m \u001B[32m━━━━━━━━━━━━━━━━━━━━\u001B[0m\u001B[37m\u001B[0m \u001B[1m0s\u001B[0m 2ms/step - loss: 0.0478 - mae: 0.1564 - mse: 0.0478 - val_loss: 0.1228 - val_mae: 0.2713 - val_mse: 0.1228\n",
      "Epoch 184/200\n",
      "\u001B[1m11/11\u001B[0m \u001B[32m━━━━━━━━━━━━━━━━━━━━\u001B[0m\u001B[37m\u001B[0m \u001B[1m0s\u001B[0m 2ms/step - loss: 0.1090 - mae: 0.2307 - mse: 0.1090 - val_loss: 0.1113 - val_mae: 0.2538 - val_mse: 0.1113\n",
      "Epoch 185/200\n",
      "\u001B[1m11/11\u001B[0m \u001B[32m━━━━━━━━━━━━━━━━━━━━\u001B[0m\u001B[37m\u001B[0m \u001B[1m0s\u001B[0m 2ms/step - loss: 0.0883 - mae: 0.2196 - mse: 0.0883 - val_loss: 0.1845 - val_mae: 0.3232 - val_mse: 0.1845\n",
      "Epoch 186/200\n",
      "\u001B[1m11/11\u001B[0m \u001B[32m━━━━━━━━━━━━━━━━━━━━\u001B[0m\u001B[37m\u001B[0m \u001B[1m0s\u001B[0m 2ms/step - loss: 0.1277 - mae: 0.2607 - mse: 0.1277 - val_loss: 0.2955 - val_mae: 0.4055 - val_mse: 0.2955\n",
      "Epoch 187/200\n",
      "\u001B[1m11/11\u001B[0m \u001B[32m━━━━━━━━━━━━━━━━━━━━\u001B[0m\u001B[37m\u001B[0m \u001B[1m0s\u001B[0m 2ms/step - loss: 0.1774 - mae: 0.3046 - mse: 0.1774 - val_loss: 0.2784 - val_mae: 0.4158 - val_mse: 0.2784\n",
      "Epoch 188/200\n",
      "\u001B[1m11/11\u001B[0m \u001B[32m━━━━━━━━━━━━━━━━━━━━\u001B[0m\u001B[37m\u001B[0m \u001B[1m0s\u001B[0m 2ms/step - loss: 0.1585 - mae: 0.3071 - mse: 0.1585 - val_loss: 0.1493 - val_mae: 0.2932 - val_mse: 0.1493\n",
      "Epoch 189/200\n",
      "\u001B[1m11/11\u001B[0m \u001B[32m━━━━━━━━━━━━━━━━━━━━\u001B[0m\u001B[37m\u001B[0m \u001B[1m0s\u001B[0m 2ms/step - loss: 0.1239 - mae: 0.2525 - mse: 0.1239 - val_loss: 0.1565 - val_mae: 0.2991 - val_mse: 0.1565\n",
      "Epoch 190/200\n",
      "\u001B[1m11/11\u001B[0m \u001B[32m━━━━━━━━━━━━━━━━━━━━\u001B[0m\u001B[37m\u001B[0m \u001B[1m0s\u001B[0m 2ms/step - loss: 0.0809 - mae: 0.2198 - mse: 0.0809 - val_loss: 0.1702 - val_mae: 0.2977 - val_mse: 0.1702\n",
      "Epoch 191/200\n",
      "\u001B[1m11/11\u001B[0m \u001B[32m━━━━━━━━━━━━━━━━━━━━\u001B[0m\u001B[37m\u001B[0m \u001B[1m0s\u001B[0m 2ms/step - loss: 0.0800 - mae: 0.2160 - mse: 0.0800 - val_loss: 0.1094 - val_mae: 0.2606 - val_mse: 0.1094\n",
      "Epoch 192/200\n",
      "\u001B[1m11/11\u001B[0m \u001B[32m━━━━━━━━━━━━━━━━━━━━\u001B[0m\u001B[37m\u001B[0m \u001B[1m0s\u001B[0m 2ms/step - loss: 0.0724 - mae: 0.1997 - mse: 0.0724 - val_loss: 0.1046 - val_mae: 0.2497 - val_mse: 0.1046\n",
      "Epoch 193/200\n",
      "\u001B[1m11/11\u001B[0m \u001B[32m━━━━━━━━━━━━━━━━━━━━\u001B[0m\u001B[37m\u001B[0m \u001B[1m0s\u001B[0m 2ms/step - loss: 0.1408 - mae: 0.2739 - mse: 0.1408 - val_loss: 0.0858 - val_mae: 0.2231 - val_mse: 0.0858\n",
      "Epoch 194/200\n",
      "\u001B[1m11/11\u001B[0m \u001B[32m━━━━━━━━━━━━━━━━━━━━\u001B[0m\u001B[37m\u001B[0m \u001B[1m0s\u001B[0m 2ms/step - loss: 0.0748 - mae: 0.2104 - mse: 0.0748 - val_loss: 0.0970 - val_mae: 0.2384 - val_mse: 0.0970\n",
      "Epoch 195/200\n",
      "\u001B[1m11/11\u001B[0m \u001B[32m━━━━━━━━━━━━━━━━━━━━\u001B[0m\u001B[37m\u001B[0m \u001B[1m0s\u001B[0m 2ms/step - loss: 0.0735 - mae: 0.2032 - mse: 0.0735 - val_loss: 0.1071 - val_mae: 0.2445 - val_mse: 0.1071\n",
      "Epoch 196/200\n",
      "\u001B[1m11/11\u001B[0m \u001B[32m━━━━━━━━━━━━━━━━━━━━\u001B[0m\u001B[37m\u001B[0m \u001B[1m0s\u001B[0m 2ms/step - loss: 0.0761 - mae: 0.2036 - mse: 0.0761 - val_loss: 0.1196 - val_mae: 0.2675 - val_mse: 0.1196\n",
      "Epoch 197/200\n",
      "\u001B[1m11/11\u001B[0m \u001B[32m━━━━━━━━━━━━━━━━━━━━\u001B[0m\u001B[37m\u001B[0m \u001B[1m0s\u001B[0m 2ms/step - loss: 0.0652 - mae: 0.1978 - mse: 0.0652 - val_loss: 0.1226 - val_mae: 0.2723 - val_mse: 0.1226\n",
      "Epoch 198/200\n",
      "\u001B[1m11/11\u001B[0m \u001B[32m━━━━━━━━━━━━━━━━━━━━\u001B[0m\u001B[37m\u001B[0m \u001B[1m0s\u001B[0m 2ms/step - loss: 0.0686 - mae: 0.1932 - mse: 0.0686 - val_loss: 0.0973 - val_mae: 0.2288 - val_mse: 0.0973\n",
      "Epoch 199/200\n",
      "\u001B[1m11/11\u001B[0m \u001B[32m━━━━━━━━━━━━━━━━━━━━\u001B[0m\u001B[37m\u001B[0m \u001B[1m0s\u001B[0m 2ms/step - loss: 0.0703 - mae: 0.1943 - mse: 0.0703 - val_loss: 0.1348 - val_mae: 0.2667 - val_mse: 0.1348\n",
      "Epoch 200/200\n",
      "\u001B[1m11/11\u001B[0m \u001B[32m━━━━━━━━━━━━━━━━━━━━\u001B[0m\u001B[37m\u001B[0m \u001B[1m0s\u001B[0m 2ms/step - loss: 0.0712 - mae: 0.1990 - mse: 0.0712 - val_loss: 0.0806 - val_mae: 0.2169 - val_mse: 0.0806\n"
     ]
    }
   ],
   "execution_count": 29
  },
  {
   "cell_type": "code",
   "metadata": {
    "colab": {
     "base_uri": "https://localhost:8080/",
     "height": 345
    },
    "executionInfo": {
     "elapsed": 247,
     "status": "ok",
     "timestamp": 1753243413908,
     "user": {
      "displayName": "고강태 강사",
      "userId": "11816854931407731745"
     },
     "user_tz": -540
    },
    "id": "SSto3C1Pr9sm",
    "outputId": "d9aa1fdd-194d-4e99-b990-85fca0df2538",
    "ExecuteTime": {
     "end_time": "2025-07-24T10:12:37.742581Z",
     "start_time": "2025-07-24T10:12:37.582615Z"
    }
   },
   "source": [
    "hist = pd.DataFrame(history.history)\n",
    "hist['epoch'] = history.epoch\n",
    "\n",
    "plt.figure(figsize=(16,10))\n",
    "\n",
    "plt.subplot(2,2,1)\n",
    "plt.xlabel('Epoch')\n",
    "plt.ylabel('Mean Abs Error [MPG]')\n",
    "plt.plot(hist['epoch'], hist['mae'],\n",
    "           label='Train Error')\n",
    "plt.plot(hist['epoch'], hist['val_mae'],\n",
    "       label = 'Val Error')\n",
    "plt.ylim([0,5])\n",
    "plt.legend()\n",
    "\n",
    "plt.subplot(2,2,2)\n",
    "plt.xlabel('Epoch')\n",
    "plt.ylabel('Mean Square Error [$MPG^2$]')\n",
    "plt.plot(hist['epoch'], hist['mse'],\n",
    "       label='Train Error')\n",
    "plt.plot(hist['epoch'], hist['val_mse'],\n",
    "       label = 'Val Error')\n",
    "plt.ylim([0,20])\n",
    "plt.legend()\n",
    "plt.show()"
   ],
   "outputs": [
    {
     "data": {
      "text/plain": [
       "<Figure size 1600x1000 with 2 Axes>"
      ],
      "image/png": "[encoded data removed]"
     },
     "metadata": {},
     "output_type": "display_data"
    }
   ],
   "execution_count": 30
  },
  {
   "cell_type": "code",
   "metadata": {
    "colab": {
     "base_uri": "https://localhost:8080/"
    },
    "executionInfo": {
     "elapsed": 77,
     "status": "ok",
     "timestamp": 1753243413989,
     "user": {
      "displayName": "고강태 강사",
      "userId": "11816854931407731745"
     },
     "user_tz": -540
    },
    "id": "jl_yNr5n1kms",
    "outputId": "a4950d88-1f6b-4a69-faff-925249cce4af",
    "ExecuteTime": {
     "end_time": "2025-07-24T10:12:37.788871Z",
     "start_time": "2025-07-24T10:12:37.756470Z"
    }
   },
   "source": [
    "loss, mae, mse = model3.evaluate(test_X, test_Y, verbose=2)\n",
    "\n",
    "print(\"테스트 세트 MAE: {:5.2f}\".format(mae))\n",
    "print(\"테스트 세트 MSE: {:5.2f}\".format(mse))"
   ],
   "outputs": [
    {
     "name": "stdout",
     "output_type": "stream",
     "text": [
      "4/4 - 0s - 4ms/step - loss: 0.2119 - mae: 0.3021 - mse: 0.2119\n",
      "테스트 세트 MAE:  0.30\n",
      "테스트 세트 MSE:  0.21\n"
     ]
    }
   ],
   "execution_count": 31
  },
  {
   "cell_type": "markdown",
   "metadata": {
    "id": "ft603OzXuEZC"
   },
   "source": [
    "## 예측\n",
    "\n",
    "마지막으로 테스트 세트에 있는 샘플을 사용해  가격을 예측해 보겠습니다:"
   ]
  },
  {
   "cell_type": "code",
   "metadata": {
    "colab": {
     "base_uri": "https://localhost:8080/",
     "height": 467
    },
    "executionInfo": {
     "elapsed": 1059,
     "status": "ok",
     "timestamp": 1753243483786,
     "user": {
      "displayName": "고강태 강사",
      "userId": "11816854931407731745"
     },
     "user_tz": -540
    },
    "id": "Xe7RXH3N3CWU",
    "outputId": "5f396610-9df0-49b4-ccf3-975e2fa734dc",
    "ExecuteTime": {
     "end_time": "2025-07-24T10:12:37.882518Z",
     "start_time": "2025-07-24T10:12:37.796874Z"
    }
   },
   "source": [
    "test_predictions = model3.predict(test_X).flatten()\n",
    "\n",
    "plt.scatter(test_Y, test_predictions)\n",
    "\n",
    "\n",
    "plt.xlabel('True Values [Price]')\n",
    "plt.ylabel('Predictions [Price]')\n",
    "plt.axis('equal')\n",
    "plt.axis('square')\n",
    "# plt.xlim([0,plt.xlim()[1]])\n",
    "# plt.ylim([0,plt.ylim()[1]])\n",
    "plt.show()"
   ],
   "outputs": [
    {
     "name": "stdout",
     "output_type": "stream",
     "text": [
      "\u001B[1m1/4\u001B[0m \u001B[32m━━━━━\u001B[0m\u001B[37m━━━━━━━━━━━━━━━\u001B[0m \u001B[1m0s\u001B[0m 14ms/stepWARNING:tensorflow:5 out of the last 19 calls to <function TensorFlowTrainer.make_predict_function.<locals>.one_step_on_data_distributed at 0x372a9bb80> triggered tf.function retracing. Tracing is expensive and the excessive number of tracings could be due to (1) creating @tf.function repeatedly in a loop, (2) passing tensors with different shapes, (3) passing Python objects instead of tensors. For (1), please define your @tf.function outside of the loop. For (2), @tf.function has reduce_retracing=True option that can avoid unnecessary retracing. For (3), please refer to https://www.tensorflow.org/guide/function#controlling_retracing and https://www.tensorflow.org/api_docs/python/tf/function for  more details.\n",
      "\u001B[1m4/4\u001B[0m \u001B[32m━━━━━━━━━━━━━━━━━━━━\u001B[0m\u001B[37m\u001B[0m \u001B[1m0s\u001B[0m 5ms/step \n"
     ]
    },
    {
     "data": {
      "text/plain": [
       "<Figure size 640x480 with 1 Axes>"
      ],
      "image/png": "[encoded data removed]"
     },
     "metadata": {},
     "output_type": "display_data"
    }
   ],
   "execution_count": 32
  },
  {
   "cell_type": "markdown",
   "metadata": {
    "id": "mU1jBsRLaCeY"
   },
   "source": [
    "오차의 분포를 살펴 보죠."
   ]
  },
  {
   "cell_type": "code",
   "metadata": {
    "colab": {
     "base_uri": "https://localhost:8080/",
     "height": 449
    },
    "executionInfo": {
     "elapsed": 104,
     "status": "ok",
     "timestamp": 1753243501338,
     "user": {
      "displayName": "고강태 강사",
      "userId": "11816854931407731745"
     },
     "user_tz": -540
    },
    "id": "f-OHX4DiXd8x",
    "outputId": "c6aeb3cb-31dd-4cd5-a55a-f10329c6d8b1",
    "ExecuteTime": {
     "end_time": "2025-07-24T10:12:37.969988Z",
     "start_time": "2025-07-24T10:12:37.908573Z"
    }
   },
   "source": [
    "error = test_predictions - test_Y\n",
    "plt.hist(error, bins = 25)\n",
    "\n",
    "plt.xlabel(\"Prediction Error [Price]\")\n",
    "_ = plt.ylabel(\"Count\")\n",
    "plt.show()"
   ],
   "outputs": [
    {
     "data": {
      "text/plain": [
       "<Figure size 640x480 with 1 Axes>"
      ],
      "image/png": "[encoded data removed]"
     },
     "metadata": {},
     "output_type": "display_data"
    }
   ],
   "execution_count": 33
  }
 ],
 "metadata": {
  "accelerator": "GPU",
  "colab": {
   "provenance": [],
   "toc_visible": true
  },
  "kernelspec": {
   "display_name": "DL_P312",
   "language": "python",
   "name": "python3"
  },
  "language_info": {
   "codemirror_mode": {
    "name": "ipython",
    "version": 3
   },
   "file_extension": ".py",
   "mimetype": "text/x-python",
   "name": "python",
   "nbconvert_exporter": "python",
   "pygments_lexer": "ipython3",
   "version": "3.12.11"
  },
  "widgets": {
   "application/vnd.jupyter.widget-state+json": {
    "85b064c504124494b470fb69ee143a5e": {
     "model_module": "@jupyter-widgets/controls",
     "model_name": "HBoxModel",
     "model_module_version": "1.5.0",
     "state": {
      "_dom_classes": [],
      "_model_module": "@jupyter-widgets/controls",
      "_model_module_version": "1.5.0",
      "_model_name": "HBoxModel",
      "_view_count": null,
      "_view_module": "@jupyter-widgets/controls",
      "_view_module_version": "1.5.0",
      "_view_name": "HBoxView",
      "box_style": "",
      "children": [
       "IPY_MODEL_d3e45d36bbcb4ad89e6170b5f5a1c6dd",
       "IPY_MODEL_74e1a136731a4839ad34bdb79ea609b0",
       "IPY_MODEL_ef7ff959f26b4c22a49e4d9ac9a5aa98"
      ],
      "layout": "IPY_MODEL_0d60d5c837e7436082086dc014ec63ba"
     }
    },
    "d3e45d36bbcb4ad89e6170b5f5a1c6dd": {
     "model_module": "@jupyter-widgets/controls",
     "model_name": "HTMLModel",
     "model_module_version": "1.5.0",
     "state": {
      "_dom_classes": [],
      "_model_module": "@jupyter-widgets/controls",
      "_model_module_version": "1.5.0",
      "_model_name": "HTMLModel",
      "_view_count": null,
      "_view_module": "@jupyter-widgets/controls",
      "_view_module_version": "1.5.0",
      "_view_name": "HTMLView",
      "description": "",
      "description_tooltip": null,
      "layout": "IPY_MODEL_fa2b0102d9b7435eb662d24f0f7bfdbe",
      "placeholder": "​",
      "style": "IPY_MODEL_c4f81dd4b8484203a846116e32fbe9d0",
      "value": "100%"
     }
    },
    "74e1a136731a4839ad34bdb79ea609b0": {
     "model_module": "@jupyter-widgets/controls",
     "model_name": "FloatProgressModel",
     "model_module_version": "1.5.0",
     "state": {
      "_dom_classes": [],
      "_model_module": "@jupyter-widgets/controls",
      "_model_module_version": "1.5.0",
      "_model_name": "FloatProgressModel",
      "_view_count": null,
      "_view_module": "@jupyter-widgets/controls",
      "_view_module_version": "1.5.0",
      "_view_name": "ProgressView",
      "bar_style": "success",
      "description": "",
      "description_tooltip": null,
      "layout": "IPY_MODEL_dd588bbe4660487da29f635ac8f05f81",
      "max": 100,
      "min": 0,
      "orientation": "horizontal",
      "style": "IPY_MODEL_07b03a5e3a194675a197c87bedbc262b",
      "value": 100
     }
    },
    "ef7ff959f26b4c22a49e4d9ac9a5aa98": {
     "model_module": "@jupyter-widgets/controls",
     "model_name": "HTMLModel",
     "model_module_version": "1.5.0",
     "state": {
      "_dom_classes": [],
      "_model_module": "@jupyter-widgets/controls",
      "_model_module_version": "1.5.0",
      "_model_name": "HTMLModel",
      "_view_count": null,
      "_view_module": "@jupyter-widgets/controls",
      "_view_module_version": "1.5.0",
      "_view_name": "HTMLView",
      "description": "",
      "description_tooltip": null,
      "layout": "IPY_MODEL_cdc1e14562cd4e42a6cceeefa25edaa6",
      "placeholder": "​",
      "style": "IPY_MODEL_9c6ee600584041a89a4b5f81c1904dbe",
      "value": " 100/100 [00:29&lt;00:00,  6.99epoch/s, accuracy=0, loss=0.125, val_accuracy=0, val_loss=0.228]"
     }
    },
    "0d60d5c837e7436082086dc014ec63ba": {
     "model_module": "@jupyter-widgets/base",
     "model_name": "LayoutModel",
     "model_module_version": "1.2.0",
     "state": {
      "_model_module": "@jupyter-widgets/base",
      "_model_module_version": "1.2.0",
      "_model_name": "LayoutModel",
      "_view_count": null,
      "_view_module": "@jupyter-widgets/base",
      "_view_module_version": "1.2.0",
      "_view_name": "LayoutView",
      "align_content": null,
      "align_items": null,
      "align_self": null,
      "border": null,
      "bottom": null,
      "display": null,
      "flex": null,
      "flex_flow": null,
      "grid_area": null,
      "grid_auto_columns": null,
      "grid_auto_flow": null,
      "grid_auto_rows": null,
      "grid_column": null,
      "grid_gap": null,
      "grid_row": null,
      "grid_template_areas": null,
      "grid_template_columns": null,
      "grid_template_rows": null,
      "height": null,
      "justify_content": null,
      "justify_items": null,
      "left": null,
      "margin": null,
      "max_height": null,
      "max_width": null,
      "min_height": null,
      "min_width": null,
      "object_fit": null,
      "object_position": null,
      "order": null,
      "overflow": null,
      "overflow_x": null,
      "overflow_y": null,
      "padding": null,
      "right": null,
      "top": null,
      "visibility": null,
      "width": null
     }
    },
    "fa2b0102d9b7435eb662d24f0f7bfdbe": {
     "model_module": "@jupyter-widgets/base",
     "model_name": "LayoutModel",
     "model_module_version": "1.2.0",
     "state": {
      "_model_module": "@jupyter-widgets/base",
      "_model_module_version": "1.2.0",
      "_model_name": "LayoutModel",
      "_view_count": null,
      "_view_module": "@jupyter-widgets/base",
      "_view_module_version": "1.2.0",
      "_view_name": "LayoutView",
      "align_content": null,
      "align_items": null,
      "align_self": null,
      "border": null,
      "bottom": null,
      "display": null,
      "flex": null,
      "flex_flow": null,
      "grid_area": null,
      "grid_auto_columns": null,
      "grid_auto_flow": null,
      "grid_auto_rows": null,
      "grid_column": null,
      "grid_gap": null,
      "grid_row": null,
      "grid_template_areas": null,
      "grid_template_columns": null,
      "grid_template_rows": null,
      "height": null,
      "justify_content": null,
      "justify_items": null,
      "left": null,
      "margin": null,
      "max_height": null,
      "max_width": null,
      "min_height": null,
      "min_width": null,
      "object_fit": null,
      "object_position": null,
      "order": null,
      "overflow": null,
      "overflow_x": null,
      "overflow_y": null,
      "padding": null,
      "right": null,
      "top": null,
      "visibility": null,
      "width": null
     }
    },
    "c4f81dd4b8484203a846116e32fbe9d0": {
     "model_module": "@jupyter-widgets/controls",
     "model_name": "DescriptionStyleModel",
     "model_module_version": "1.5.0",
     "state": {
      "_model_module": "@jupyter-widgets/controls",
      "_model_module_version": "1.5.0",
      "_model_name": "DescriptionStyleModel",
      "_view_count": null,
      "_view_module": "@jupyter-widgets/base",
      "_view_module_version": "1.2.0",
      "_view_name": "StyleView",
      "description_width": ""
     }
    },
    "dd588bbe4660487da29f635ac8f05f81": {
     "model_module": "@jupyter-widgets/base",
     "model_name": "LayoutModel",
     "model_module_version": "1.2.0",
     "state": {
      "_model_module": "@jupyter-widgets/base",
      "_model_module_version": "1.2.0",
      "_model_name": "LayoutModel",
      "_view_count": null,
      "_view_module": "@jupyter-widgets/base",
      "_view_module_version": "1.2.0",
      "_view_name": "LayoutView",
      "align_content": null,
      "align_items": null,
      "align_self": null,
      "border": null,
      "bottom": null,
      "display": null,
      "flex": null,
      "flex_flow": null,
      "grid_area": null,
      "grid_auto_columns": null,
      "grid_auto_flow": null,
      "grid_auto_rows": null,
      "grid_column": null,
      "grid_gap": null,
      "grid_row": null,
      "grid_template_areas": null,
      "grid_template_columns": null,
      "grid_template_rows": null,
      "height": null,
      "justify_content": null,
      "justify_items": null,
      "left": null,
      "margin": null,
      "max_height": null,
      "max_width": null,
      "min_height": null,
      "min_width": null,
      "object_fit": null,
      "object_position": null,
      "order": null,
      "overflow": null,
      "overflow_x": null,
      "overflow_y": null,
      "padding": null,
      "right": null,
      "top": null,
      "visibility": null,
      "width": null
     }
    },
    "07b03a5e3a194675a197c87bedbc262b": {
     "model_module": "@jupyter-widgets/controls",
     "model_name": "ProgressStyleModel",
     "model_module_version": "1.5.0",
     "state": {
      "_model_module": "@jupyter-widgets/controls",
      "_model_module_version": "1.5.0",
      "_model_name": "ProgressStyleModel",
      "_view_count": null,
      "_view_module": "@jupyter-widgets/base",
      "_view_module_version": "1.2.0",
      "_view_name": "StyleView",
      "bar_color": null,
      "description_width": ""
     }
    },
    "cdc1e14562cd4e42a6cceeefa25edaa6": {
     "model_module": "@jupyter-widgets/base",
     "model_name": "LayoutModel",
     "model_module_version": "1.2.0",
     "state": {
      "_model_module": "@jupyter-widgets/base",
      "_model_module_version": "1.2.0",
      "_model_name": "LayoutModel",
      "_view_count": null,
      "_view_module": "@jupyter-widgets/base",
      "_view_module_version": "1.2.0",
      "_view_name": "LayoutView",
      "align_content": null,
      "align_items": null,
      "align_self": null,
      "border": null,
      "bottom": null,
      "display": null,
      "flex": null,
      "flex_flow": null,
      "grid_area": null,
      "grid_auto_columns": null,
      "grid_auto_flow": null,
      "grid_auto_rows": null,
      "grid_column": null,
      "grid_gap": null,
      "grid_row": null,
      "grid_template_areas": null,
      "grid_template_columns": null,
      "grid_template_rows": null,
      "height": null,
      "justify_content": null,
      "justify_items": null,
      "left": null,
      "margin": null,
      "max_height": null,
      "max_width": null,
      "min_height": null,
      "min_width": null,
      "object_fit": null,
      "object_position": null,
      "order": null,
      "overflow": null,
      "overflow_x": null,
      "overflow_y": null,
      "padding": null,
      "right": null,
      "top": null,
      "visibility": null,
      "width": null
     }
    },
    "9c6ee600584041a89a4b5f81c1904dbe": {
     "model_module": "@jupyter-widgets/controls",
     "model_name": "DescriptionStyleModel",
     "model_module_version": "1.5.0",
     "state": {
      "_model_module": "@jupyter-widgets/controls",
      "_model_module_version": "1.5.0",
      "_model_name": "DescriptionStyleModel",
      "_view_count": null,
      "_view_module": "@jupyter-widgets/base",
      "_view_module_version": "1.2.0",
      "_view_name": "StyleView",
      "description_width": ""
     }
    }
   }
  }
 },
 "nbformat": 4,
 "nbformat_minor": 0
}
