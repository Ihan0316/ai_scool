{
 "cells": [
  {
   "cell_type": "code",
   "execution_count": 19,
   "id": "ce76a743",
   "metadata": {
    "ExecuteTime": {
     "end_time": "2025-07-16T05:27:43.094587Z",
     "start_time": "2025-07-16T05:27:43.051417Z"
    }
   },
   "outputs": [
    {
     "data": {
      "text/plain": [
       "Text(0.5, 1.0, '한글 타이틀...')"
      ]
     },
     "execution_count": 19,
     "metadata": {},
     "output_type": "execute_result"
    },
    {
     "data": {
      "image/png": "[encoded data removed]",
      "text/plain": [
       "<Figure size 640x480 with 1 Axes>"
      ]
     },
     "metadata": {},
     "output_type": "display_data"
    }
   ],
   "source": [
    "import matplotlib.pyplot as plt\n",
    "%matplotlib inline\n",
    "\n",
    "# plt.rcParams['font.family'] = 'Malgun Gothic'\n",
    "plt.rcParams['font.family'] = 'AppleGothic'  # Mac (AppleGothic 또는 AppleSDGothicNeo)\n",
    "# plt.rcParams['font.family'] = 'NanumGothic' # Linux (NanumGothic 또는 다른 설치된 한글 폰트)\n",
    "\n",
    "plt.rcParams['axes.unicode_minus'] = False #glypy 8722: Axes에 - 표시 안되는 것\n",
    "plt.title('한글 타이틀...')"
   ]
  },
  {
   "cell_type": "markdown",
   "id": "17d35ffe",
   "metadata": {},
   "source": [
    "# 1. 지도학습 - 분류"
   ]
  },
  {
   "cell_type": "markdown",
   "id": "cfd4998a",
   "metadata": {},
   "source": [
    "### 분류 개념 알아보기\n",
    "**분류(Classification)** 는 주어진 입력 값이 어떤 클래스에 속할지에 대한 결괏값을 도출하는 알고리즘\n"
   ]
  },
  {
   "cell_type": "markdown",
   "id": "5c4e3d82",
   "metadata": {},
   "source": [
    "- `예) 임의의 데이터에서 어떤 데이터 class A, class B 로 구분하는 알고리즘`\n",
    "\n",
    "<img src='https://cdn.botpenguin.com/assets/website/Classification_Algorithm_f6b45f3f99.png' width=300>"
   ]
  },
  {
   "cell_type": "markdown",
   "id": "7ef8ca35",
   "metadata": {},
   "source": [
    "\n",
    "  - `예) 풍속 4m/s를 기준으로 항공 지연/지연 없음 나누기`  \n",
    "      ![image](https://user-images.githubusercontent.com/61646760/143068295-b0c06cea-ee9f-4568-aa0a-550573eab5f2.png)\n"
   ]
  },
  {
   "cell_type": "markdown",
   "id": "944c81bd",
   "metadata": {},
   "source": [
    "\n",
    "- 다양한 분류 알고리즘이 존재하며, 예측 목표와 데이터 유형에 따라 다양한 머신러닝 모델 적용\n",
    "  - **트리 구조 기반** : 의사 결정 트리, 랜덤 포레스트\n",
    "  - **확률 모델 기반** : 나이브 베이즈 분류기\n",
    "  - **결정 경계 기반** : 선형 분류기, 로지스틱 회귀 분류기, SVM\n",
    "  - **신경망** : 퍼셉트론, 딥러닝 모델\n"
   ]
  },
  {
   "cell_type": "markdown",
   "id": "fdeff7d0",
   "metadata": {},
   "source": [
    "# 2. 의사 결정 나무\n",
    "\n",
    "의사결정나무(Decision Tree) 는 스무고개 질문 같이 ..."
   ]
  },
  {
   "cell_type": "markdown",
   "id": "c2229756",
   "metadata": {},
   "source": [
    "### - 모델 구조\n",
    "\n",
    "- **의사 결정 나무(Decision Tree)**\n",
    "  - 스무 고개와 같이 특정 질문들을 통해 정답을 찾아가는 모델\n",
    "  - 최상단의 root 마디에서 마지막 끝 마디까지 아래 방향으로 진행\n",
    "\n",
    "<img src='https://i.imgur.com/FJnIT7J.jpeg' width=500>    \n"
   ]
  },
  {
   "cell_type": "markdown",
   "id": "0024990a",
   "metadata": {},
   "source": [
    "  - 의사 결정 나무 특징\n",
    "    - 결과가 직관적이며, 해석하기 쉬움\n",
    "    - 나무 깊이가 깊어질수록 과적합(Overfitting) 문제 발생 가능성이 매우 높음\n",
    "      - 의사 결정 나무가 너무 깊으면 과적합을 야기할 수 있으므로 깊이의 균형(trade-off)이 중요함\n",
    "    - 학습이 끝난 트리의 작업 속도가 매우 빠름\n",
    "    \n"
   ]
  },
  {
   "cell_type": "markdown",
   "id": "25d14b14",
   "metadata": {},
   "source": [
    "### - 간단한 의사 결정 나무 만들기\n",
    "\n",
    "간단한 데이터로 이진의사결정 알고리즘을 사용해서 분류를 진행해 보자."
   ]
  },
  {
   "cell_type": "markdown",
   "id": "7545fdfe",
   "metadata": {},
   "source": [
    "항공 지연 데이터를 기반으로 간단한 의사 결정 나무를 구현해 보자.\n",
    "\n",
    "- 항공 지연 데이터는 아래와 같다.  \n",
    "  ![image](https://user-images.githubusercontent.com/61646760/143177938-106246b4-daf0-4471-8b4d-748ae3ccb662.png)\n"
   ]
  },
  {
   "cell_type": "markdown",
   "id": "8da31136",
   "metadata": {},
   "source": [
    "\n",
    "- 풍속에 따른 지연 여부를 알아내기 위하여 의사 결정 나무인 `binary_tree`의 기준값(`threshold`)을 변경해 가며 완벽하게 지연 여부를 분리할 수 있는 모델을 만들어 보자.  \n",
    "- thresold 에 따른 지연 여부만 판단한다."
   ]
  },
  {
   "cell_type": "code",
   "execution_count": 26,
   "id": "c3d45c0a",
   "metadata": {
    "ExecuteTime": {
     "end_time": "2025-07-16T05:33:32.431863Z",
     "start_time": "2025-07-16T05:33:32.429307Z"
    }
   },
   "outputs": [],
   "source": [
    "import pandas as pd\n",
    "\n",
    "# 풍속을 threshold 값에 따라 분리하는 의사결정나무 모델 함수\n",
    "def binary_tree(data, threshold):\n",
    "    \n",
    "    yes = []\n",
    "    no = []\n",
    "    \n",
    "    # data의 풍속 값마다 비교를 하기 위한 반복문\n",
    "    for wind in data['풍속']:\n",
    "    \n",
    "        # threshold 값과 비교하여 분리합니다.\n",
    "        if wind > threshold:\n",
    "            yes.append(wind)\n",
    "        else:\n",
    "            no.append(wind)\n",
    "    \n",
    "    # 예측한 결과를 DataFrame 형태로 저장합니다.\n",
    "    data_yes = pd.DataFrame({'풍속': yes, '예상 지연 여부': ['Yes']*len(yes)})  # yes의 길이만큼 지연 여부에 'Yes'를 넣어줌\n",
    "    data_no = pd.DataFrame({'풍속': no, '예상 지연 여부': ['No']*len(no)})      # no의 길이만큼 지연 여부에 'No'를 넣어줌\n",
    "    \n",
    "    return pd.concat([data_no, data_yes])\n"
   ]
  },
  {
   "cell_type": "code",
   "execution_count": 27,
   "id": "a00d1fe9",
   "metadata": {
    "ExecuteTime": {
     "end_time": "2025-07-16T05:33:32.943970Z",
     "start_time": "2025-07-16T05:33:32.940758Z"
    }
   },
   "outputs": [
    {
     "name": "stdout",
     "output_type": "stream",
     "text": [
      "    풍속 지연 여부\n",
      "0  1.0    No\n",
      "1  1.5    No\n",
      "2  2.5    No\n",
      "3  5.0   Yes\n",
      "4  5.5   Yes\n",
      "5  6.5   Yes \n",
      "\n"
     ]
    }
   ],
   "source": [
    "# 풍속에 따른 항공 지연 여부 데이터\n",
    "Wind = [1, 1.5, 2.5, 5, 5.5, 6.5]\n",
    "Delay  = ['No', 'No', 'No', 'Yes', 'Yes', 'Yes']\n",
    "\n",
    "# 위 데이터를 DataFrame 형태로 저장합니다.\n",
    "data = pd.DataFrame({'풍속': Wind, '지연 여부': Delay})\n",
    "print(data,'\\n')"
   ]
  },
  {
   "cell_type": "code",
   "execution_count": 28,
   "id": "8ea4bc3e",
   "metadata": {
    "ExecuteTime": {
     "end_time": "2025-07-16T05:33:33.439928Z",
     "start_time": "2025-07-16T05:33:33.436327Z"
    }
   },
   "outputs": [
    {
     "name": "stdout",
     "output_type": "stream",
     "text": [
      "    풍속 예상 지연 여부\n",
      "0  1.0       No\n",
      "1  1.5       No\n",
      "2  2.5       No\n",
      "0  5.0      Yes\n",
      "1  5.5      Yes\n",
      "2  6.5      Yes\n"
     ]
    }
   ],
   "source": [
    "# binary_tree 모델을 사용하여 항공 지연 여부를 예측합니다.\n",
    "# (threshold에 값을 넣어서 결과를 확인)\n",
    "# 지연 여부 == 예상 지연 여부가 되도록 data_pred에 할당\n",
    "pred = binary_tree(data, threshold=3)\n",
    "print(pred)"
   ]
  },
  {
   "cell_type": "markdown",
   "id": "e2f695bf",
   "metadata": {},
   "source": [
    "- `binary_tree` 함수는 입력하는 `threshold` 풍속을 기준으로 지연 여부를 예측한 결과를 DataFrame 형태로 출력\n",
    "- `threshold`에 값을 넣어서 결과를 확인 `예) 1, 2, 3.5, …`\n",
    "\n"
   ]
  },
  {
   "cell_type": "markdown",
   "id": "6bdcb9ce",
   "metadata": {},
   "source": [
    "## sklearn 의 DecisionTreeClassifier\n"
   ]
  },
  {
   "cell_type": "markdown",
   "id": "c590b494",
   "metadata": {},
   "source": [
    "의사결정나무 모델을 구현하기 위해서는 sklearn의 `DecisionTreeClassifier` 를 지원\n",
    "\n",
    "\n",
    "- **`DecisionTreeClassifier`**\n",
    "  - sklearn의 결정 트리 분류기\n",
    "  - 각 노드에서 불순도를 최소로 노드를 통해 분류\n",
    "  - 데이터의 <strong>불순도(Impurity)</strong>를 최소화하는 구역으로 나누자!\n",
    "  - criterion 은 기본이 gini 계수이다.\n",
    "  - 초기화를 수행할 때 `max_depth`를 설정하여 의사결정나무의 최대 깊이를 조절할 수 있다.\n",
    "      - `DecisionTreeClassifier(max_depth=2)`\n"
   ]
  },
  {
   "cell_type": "markdown",
   "id": "26df25db",
   "metadata": {},
   "source": [
    "#### - 데이터 전 처리\n",
    "\n",
    "Iris 데이터는 아래와 같이 꽃받침 길이, 꽃받침 넓이, 꽃잎 길이, 꽃잎 넓이의 네 가지 변수와 세 종류의 붓꽃 클래스로 구성되어 있다."
   ]
  },
  {
   "cell_type": "code",
   "execution_count": 29,
   "id": "87d37c38",
   "metadata": {
    "ExecuteTime": {
     "end_time": "2025-07-16T05:33:36.018525Z",
     "start_time": "2025-07-16T05:33:36.015285Z"
    }
   },
   "outputs": [],
   "source": [
    "from sklearn.datasets import load_iris\n",
    "\n",
    "# sklearn에 저장된 데이터를 불러옵니다.\n",
    "X, Y = load_iris(return_X_y = True)"
   ]
  },
  {
   "cell_type": "code",
   "execution_count": 30,
   "id": "6fb151c8",
   "metadata": {
    "ExecuteTime": {
     "end_time": "2025-07-16T05:33:36.711656Z",
     "start_time": "2025-07-16T05:33:36.707438Z"
    }
   },
   "outputs": [
    {
     "data": {
      "text/html": [
       "<div>\n",
       "<style scoped>\n",
       "    .dataframe tbody tr th:only-of-type {\n",
       "        vertical-align: middle;\n",
       "    }\n",
       "\n",
       "    .dataframe tbody tr th {\n",
       "        vertical-align: top;\n",
       "    }\n",
       "\n",
       "    .dataframe thead th {\n",
       "        text-align: right;\n",
       "    }\n",
       "</style>\n",
       "<table border=\"1\" class=\"dataframe\">\n",
       "  <thead>\n",
       "    <tr style=\"text-align: right;\">\n",
       "      <th></th>\n",
       "      <th>꽃받침 길이</th>\n",
       "      <th>꽃받침 넓이</th>\n",
       "      <th>꽃잎 길이</th>\n",
       "      <th>꽃잎 넓이</th>\n",
       "    </tr>\n",
       "  </thead>\n",
       "  <tbody>\n",
       "    <tr>\n",
       "      <th>0</th>\n",
       "      <td>5.1</td>\n",
       "      <td>3.5</td>\n",
       "      <td>1.4</td>\n",
       "      <td>0.2</td>\n",
       "    </tr>\n",
       "    <tr>\n",
       "      <th>1</th>\n",
       "      <td>4.9</td>\n",
       "      <td>3.0</td>\n",
       "      <td>1.4</td>\n",
       "      <td>0.2</td>\n",
       "    </tr>\n",
       "    <tr>\n",
       "      <th>2</th>\n",
       "      <td>4.7</td>\n",
       "      <td>3.2</td>\n",
       "      <td>1.3</td>\n",
       "      <td>0.2</td>\n",
       "    </tr>\n",
       "    <tr>\n",
       "      <th>3</th>\n",
       "      <td>4.6</td>\n",
       "      <td>3.1</td>\n",
       "      <td>1.5</td>\n",
       "      <td>0.2</td>\n",
       "    </tr>\n",
       "    <tr>\n",
       "      <th>4</th>\n",
       "      <td>5.0</td>\n",
       "      <td>3.6</td>\n",
       "      <td>1.4</td>\n",
       "      <td>0.2</td>\n",
       "    </tr>\n",
       "  </tbody>\n",
       "</table>\n",
       "</div>"
      ],
      "text/plain": [
       "   꽃받침 길이  꽃받침 넓이  꽃잎 길이  꽃잎 넓이\n",
       "0     5.1     3.5    1.4    0.2\n",
       "1     4.9     3.0    1.4    0.2\n",
       "2     4.7     3.2    1.3    0.2\n",
       "3     4.6     3.1    1.5    0.2\n",
       "4     5.0     3.6    1.4    0.2"
      ]
     },
     "execution_count": 30,
     "metadata": {},
     "output_type": "execute_result"
    }
   ],
   "source": [
    "# DataFrame으로 변환\n",
    "df = pd.DataFrame(X, columns=['꽃받침 길이','꽃받침 넓이', '꽃잎 길이', '꽃잎 넓이'])\n",
    "df.head()"
   ]
  },
  {
   "cell_type": "markdown",
   "id": "4fb8384e",
   "metadata": {},
   "source": [
    "**꽃받침 길이, 꽃받침 넓이, 꽃잎 길이, 꽃잎 넓이** 네 가지 변수가 주어졌을 때, 어떠한 붓꽃 종류인지 예측하는 분류 모델을 구현해 보자.\n",
    "\n",
    "우선 데이터를 전 처리하기 위해서 4개의 변수를 갖는 feature 데이터와 `클래스` 변수를 label 데이터로 분리하고 학습용, 평가용 데이터로 나눠 보자.\n"
   ]
  },
  {
   "cell_type": "markdown",
   "id": "ac003250",
   "metadata": {},
   "source": [
    "- `load_iris`로 읽어 온 데이터 `X`에서 `Y`를 바탕으로 `train_test_split`을 사용하여 학습용:평가용 = 8:2 비율로 분리 (`random_state=42` 고정)\n"
   ]
  },
  {
   "cell_type": "code",
   "execution_count": 31,
   "id": "5fc1128a",
   "metadata": {
    "ExecuteTime": {
     "end_time": "2025-07-16T05:33:38.193937Z",
     "start_time": "2025-07-16T05:33:38.192221Z"
    }
   },
   "outputs": [],
   "source": [
    "# X, Y 학습데이터\n"
   ]
  },
  {
   "cell_type": "code",
   "execution_count": 32,
   "id": "af8cd20a",
   "metadata": {
    "ExecuteTime": {
     "end_time": "2025-07-16T05:33:39.007976Z",
     "start_time": "2025-07-16T05:33:39.003926Z"
    }
   },
   "outputs": [],
   "source": [
    "from sklearn.model_selection import train_test_split\n",
    "\n",
    "#1. 학습용 평가용 데이터로 분리합니다\n",
    "train_X, test_X, train_Y, test_Y = train_test_split(X, Y, test_size=0.2, random_state=42)"
   ]
  },
  {
   "cell_type": "code",
   "execution_count": 33,
   "id": "fb8cdb04",
   "metadata": {
    "ExecuteTime": {
     "end_time": "2025-07-16T05:33:39.528462Z",
     "start_time": "2025-07-16T05:33:39.525840Z"
    }
   },
   "outputs": [
    {
     "data": {
      "text/plain": [
       "((120, 4), (30, 4), (120,), (30,))"
      ]
     },
     "execution_count": 33,
     "metadata": {},
     "output_type": "execute_result"
    }
   ],
   "source": [
    "train_X.shape, test_X.shape, train_Y.shape, test_Y.shape"
   ]
  },
  {
   "cell_type": "markdown",
   "id": "5f7d653b",
   "metadata": {},
   "source": [
    "#### - 학습하기\n",
    "\n",
    "위에서 전 처리한 데이터를 바탕으로 의사결정나무 모델을 학습해 보자.\n"
   ]
  },
  {
   "cell_type": "code",
   "execution_count": 34,
   "id": "6bd89d27",
   "metadata": {
    "ExecuteTime": {
     "end_time": "2025-07-16T05:33:40.656502Z",
     "start_time": "2025-07-16T05:33:40.652244Z"
    }
   },
   "outputs": [
    {
     "data": {
      "text/html": [
       "<style>#sk-container-id-2 {\n",
       "  /* Definition of color scheme common for light and dark mode */\n",
       "  --sklearn-color-text: #000;\n",
       "  --sklearn-color-text-muted: #666;\n",
       "  --sklearn-color-line: gray;\n",
       "  /* Definition of color scheme for unfitted estimators */\n",
       "  --sklearn-color-unfitted-level-0: #fff5e6;\n",
       "  --sklearn-color-unfitted-level-1: #f6e4d2;\n",
       "  --sklearn-color-unfitted-level-2: #ffe0b3;\n",
       "  --sklearn-color-unfitted-level-3: chocolate;\n",
       "  /* Definition of color scheme for fitted estimators */\n",
       "  --sklearn-color-fitted-level-0: #f0f8ff;\n",
       "  --sklearn-color-fitted-level-1: #d4ebff;\n",
       "  --sklearn-color-fitted-level-2: #b3dbfd;\n",
       "  --sklearn-color-fitted-level-3: cornflowerblue;\n",
       "\n",
       "  /* Specific color for light theme */\n",
       "  --sklearn-color-text-on-default-background: var(--sg-text-color, var(--theme-code-foreground, var(--jp-content-font-color1, black)));\n",
       "  --sklearn-color-background: var(--sg-background-color, var(--theme-background, var(--jp-layout-color0, white)));\n",
       "  --sklearn-color-border-box: var(--sg-text-color, var(--theme-code-foreground, var(--jp-content-font-color1, black)));\n",
       "  --sklearn-color-icon: #696969;\n",
       "\n",
       "  @media (prefers-color-scheme: dark) {\n",
       "    /* Redefinition of color scheme for dark theme */\n",
       "    --sklearn-color-text-on-default-background: var(--sg-text-color, var(--theme-code-foreground, var(--jp-content-font-color1, white)));\n",
       "    --sklearn-color-background: var(--sg-background-color, var(--theme-background, var(--jp-layout-color0, #111)));\n",
       "    --sklearn-color-border-box: var(--sg-text-color, var(--theme-code-foreground, var(--jp-content-font-color1, white)));\n",
       "    --sklearn-color-icon: #878787;\n",
       "  }\n",
       "}\n",
       "\n",
       "#sk-container-id-2 {\n",
       "  color: var(--sklearn-color-text);\n",
       "}\n",
       "\n",
       "#sk-container-id-2 pre {\n",
       "  padding: 0;\n",
       "}\n",
       "\n",
       "#sk-container-id-2 input.sk-hidden--visually {\n",
       "  border: 0;\n",
       "  clip: rect(1px 1px 1px 1px);\n",
       "  clip: rect(1px, 1px, 1px, 1px);\n",
       "  height: 1px;\n",
       "  margin: -1px;\n",
       "  overflow: hidden;\n",
       "  padding: 0;\n",
       "  position: absolute;\n",
       "  width: 1px;\n",
       "}\n",
       "\n",
       "#sk-container-id-2 div.sk-dashed-wrapped {\n",
       "  border: 1px dashed var(--sklearn-color-line);\n",
       "  margin: 0 0.4em 0.5em 0.4em;\n",
       "  box-sizing: border-box;\n",
       "  padding-bottom: 0.4em;\n",
       "  background-color: var(--sklearn-color-background);\n",
       "}\n",
       "\n",
       "#sk-container-id-2 div.sk-container {\n",
       "  /* jupyter's `normalize.less` sets `[hidden] { display: none; }`\n",
       "     but bootstrap.min.css set `[hidden] { display: none !important; }`\n",
       "     so we also need the `!important` here to be able to override the\n",
       "     default hidden behavior on the sphinx rendered scikit-learn.org.\n",
       "     See: https://github.com/scikit-learn/scikit-learn/issues/21755 */\n",
       "  display: inline-block !important;\n",
       "  position: relative;\n",
       "}\n",
       "\n",
       "#sk-container-id-2 div.sk-text-repr-fallback {\n",
       "  display: none;\n",
       "}\n",
       "\n",
       "div.sk-parallel-item,\n",
       "div.sk-serial,\n",
       "div.sk-item {\n",
       "  /* draw centered vertical line to link estimators */\n",
       "  background-image: linear-gradient(var(--sklearn-color-text-on-default-background), var(--sklearn-color-text-on-default-background));\n",
       "  background-size: 2px 100%;\n",
       "  background-repeat: no-repeat;\n",
       "  background-position: center center;\n",
       "}\n",
       "\n",
       "/* Parallel-specific style estimator block */\n",
       "\n",
       "#sk-container-id-2 div.sk-parallel-item::after {\n",
       "  content: \"\";\n",
       "  width: 100%;\n",
       "  border-bottom: 2px solid var(--sklearn-color-text-on-default-background);\n",
       "  flex-grow: 1;\n",
       "}\n",
       "\n",
       "#sk-container-id-2 div.sk-parallel {\n",
       "  display: flex;\n",
       "  align-items: stretch;\n",
       "  justify-content: center;\n",
       "  background-color: var(--sklearn-color-background);\n",
       "  position: relative;\n",
       "}\n",
       "\n",
       "#sk-container-id-2 div.sk-parallel-item {\n",
       "  display: flex;\n",
       "  flex-direction: column;\n",
       "}\n",
       "\n",
       "#sk-container-id-2 div.sk-parallel-item:first-child::after {\n",
       "  align-self: flex-end;\n",
       "  width: 50%;\n",
       "}\n",
       "\n",
       "#sk-container-id-2 div.sk-parallel-item:last-child::after {\n",
       "  align-self: flex-start;\n",
       "  width: 50%;\n",
       "}\n",
       "\n",
       "#sk-container-id-2 div.sk-parallel-item:only-child::after {\n",
       "  width: 0;\n",
       "}\n",
       "\n",
       "/* Serial-specific style estimator block */\n",
       "\n",
       "#sk-container-id-2 div.sk-serial {\n",
       "  display: flex;\n",
       "  flex-direction: column;\n",
       "  align-items: center;\n",
       "  background-color: var(--sklearn-color-background);\n",
       "  padding-right: 1em;\n",
       "  padding-left: 1em;\n",
       "}\n",
       "\n",
       "\n",
       "/* Toggleable style: style used for estimator/Pipeline/ColumnTransformer box that is\n",
       "clickable and can be expanded/collapsed.\n",
       "- Pipeline and ColumnTransformer use this feature and define the default style\n",
       "- Estimators will overwrite some part of the style using the `sk-estimator` class\n",
       "*/\n",
       "\n",
       "/* Pipeline and ColumnTransformer style (default) */\n",
       "\n",
       "#sk-container-id-2 div.sk-toggleable {\n",
       "  /* Default theme specific background. It is overwritten whether we have a\n",
       "  specific estimator or a Pipeline/ColumnTransformer */\n",
       "  background-color: var(--sklearn-color-background);\n",
       "}\n",
       "\n",
       "/* Toggleable label */\n",
       "#sk-container-id-2 label.sk-toggleable__label {\n",
       "  cursor: pointer;\n",
       "  display: flex;\n",
       "  width: 100%;\n",
       "  margin-bottom: 0;\n",
       "  padding: 0.5em;\n",
       "  box-sizing: border-box;\n",
       "  text-align: center;\n",
       "  align-items: start;\n",
       "  justify-content: space-between;\n",
       "  gap: 0.5em;\n",
       "}\n",
       "\n",
       "#sk-container-id-2 label.sk-toggleable__label .caption {\n",
       "  font-size: 0.6rem;\n",
       "  font-weight: lighter;\n",
       "  color: var(--sklearn-color-text-muted);\n",
       "}\n",
       "\n",
       "#sk-container-id-2 label.sk-toggleable__label-arrow:before {\n",
       "  /* Arrow on the left of the label */\n",
       "  content: \"▸\";\n",
       "  float: left;\n",
       "  margin-right: 0.25em;\n",
       "  color: var(--sklearn-color-icon);\n",
       "}\n",
       "\n",
       "#sk-container-id-2 label.sk-toggleable__label-arrow:hover:before {\n",
       "  color: var(--sklearn-color-text);\n",
       "}\n",
       "\n",
       "/* Toggleable content - dropdown */\n",
       "\n",
       "#sk-container-id-2 div.sk-toggleable__content {\n",
       "  max-height: 0;\n",
       "  max-width: 0;\n",
       "  overflow: hidden;\n",
       "  text-align: left;\n",
       "  /* unfitted */\n",
       "  background-color: var(--sklearn-color-unfitted-level-0);\n",
       "}\n",
       "\n",
       "#sk-container-id-2 div.sk-toggleable__content.fitted {\n",
       "  /* fitted */\n",
       "  background-color: var(--sklearn-color-fitted-level-0);\n",
       "}\n",
       "\n",
       "#sk-container-id-2 div.sk-toggleable__content pre {\n",
       "  margin: 0.2em;\n",
       "  border-radius: 0.25em;\n",
       "  color: var(--sklearn-color-text);\n",
       "  /* unfitted */\n",
       "  background-color: var(--sklearn-color-unfitted-level-0);\n",
       "}\n",
       "\n",
       "#sk-container-id-2 div.sk-toggleable__content.fitted pre {\n",
       "  /* unfitted */\n",
       "  background-color: var(--sklearn-color-fitted-level-0);\n",
       "}\n",
       "\n",
       "#sk-container-id-2 input.sk-toggleable__control:checked~div.sk-toggleable__content {\n",
       "  /* Expand drop-down */\n",
       "  max-height: 200px;\n",
       "  max-width: 100%;\n",
       "  overflow: auto;\n",
       "}\n",
       "\n",
       "#sk-container-id-2 input.sk-toggleable__control:checked~label.sk-toggleable__label-arrow:before {\n",
       "  content: \"▾\";\n",
       "}\n",
       "\n",
       "/* Pipeline/ColumnTransformer-specific style */\n",
       "\n",
       "#sk-container-id-2 div.sk-label input.sk-toggleable__control:checked~label.sk-toggleable__label {\n",
       "  color: var(--sklearn-color-text);\n",
       "  background-color: var(--sklearn-color-unfitted-level-2);\n",
       "}\n",
       "\n",
       "#sk-container-id-2 div.sk-label.fitted input.sk-toggleable__control:checked~label.sk-toggleable__label {\n",
       "  background-color: var(--sklearn-color-fitted-level-2);\n",
       "}\n",
       "\n",
       "/* Estimator-specific style */\n",
       "\n",
       "/* Colorize estimator box */\n",
       "#sk-container-id-2 div.sk-estimator input.sk-toggleable__control:checked~label.sk-toggleable__label {\n",
       "  /* unfitted */\n",
       "  background-color: var(--sklearn-color-unfitted-level-2);\n",
       "}\n",
       "\n",
       "#sk-container-id-2 div.sk-estimator.fitted input.sk-toggleable__control:checked~label.sk-toggleable__label {\n",
       "  /* fitted */\n",
       "  background-color: var(--sklearn-color-fitted-level-2);\n",
       "}\n",
       "\n",
       "#sk-container-id-2 div.sk-label label.sk-toggleable__label,\n",
       "#sk-container-id-2 div.sk-label label {\n",
       "  /* The background is the default theme color */\n",
       "  color: var(--sklearn-color-text-on-default-background);\n",
       "}\n",
       "\n",
       "/* On hover, darken the color of the background */\n",
       "#sk-container-id-2 div.sk-label:hover label.sk-toggleable__label {\n",
       "  color: var(--sklearn-color-text);\n",
       "  background-color: var(--sklearn-color-unfitted-level-2);\n",
       "}\n",
       "\n",
       "/* Label box, darken color on hover, fitted */\n",
       "#sk-container-id-2 div.sk-label.fitted:hover label.sk-toggleable__label.fitted {\n",
       "  color: var(--sklearn-color-text);\n",
       "  background-color: var(--sklearn-color-fitted-level-2);\n",
       "}\n",
       "\n",
       "/* Estimator label */\n",
       "\n",
       "#sk-container-id-2 div.sk-label label {\n",
       "  font-family: monospace;\n",
       "  font-weight: bold;\n",
       "  display: inline-block;\n",
       "  line-height: 1.2em;\n",
       "}\n",
       "\n",
       "#sk-container-id-2 div.sk-label-container {\n",
       "  text-align: center;\n",
       "}\n",
       "\n",
       "/* Estimator-specific */\n",
       "#sk-container-id-2 div.sk-estimator {\n",
       "  font-family: monospace;\n",
       "  border: 1px dotted var(--sklearn-color-border-box);\n",
       "  border-radius: 0.25em;\n",
       "  box-sizing: border-box;\n",
       "  margin-bottom: 0.5em;\n",
       "  /* unfitted */\n",
       "  background-color: var(--sklearn-color-unfitted-level-0);\n",
       "}\n",
       "\n",
       "#sk-container-id-2 div.sk-estimator.fitted {\n",
       "  /* fitted */\n",
       "  background-color: var(--sklearn-color-fitted-level-0);\n",
       "}\n",
       "\n",
       "/* on hover */\n",
       "#sk-container-id-2 div.sk-estimator:hover {\n",
       "  /* unfitted */\n",
       "  background-color: var(--sklearn-color-unfitted-level-2);\n",
       "}\n",
       "\n",
       "#sk-container-id-2 div.sk-estimator.fitted:hover {\n",
       "  /* fitted */\n",
       "  background-color: var(--sklearn-color-fitted-level-2);\n",
       "}\n",
       "\n",
       "/* Specification for estimator info (e.g. \"i\" and \"?\") */\n",
       "\n",
       "/* Common style for \"i\" and \"?\" */\n",
       "\n",
       ".sk-estimator-doc-link,\n",
       "a:link.sk-estimator-doc-link,\n",
       "a:visited.sk-estimator-doc-link {\n",
       "  float: right;\n",
       "  font-size: smaller;\n",
       "  line-height: 1em;\n",
       "  font-family: monospace;\n",
       "  background-color: var(--sklearn-color-background);\n",
       "  border-radius: 1em;\n",
       "  height: 1em;\n",
       "  width: 1em;\n",
       "  text-decoration: none !important;\n",
       "  margin-left: 0.5em;\n",
       "  text-align: center;\n",
       "  /* unfitted */\n",
       "  border: var(--sklearn-color-unfitted-level-1) 1pt solid;\n",
       "  color: var(--sklearn-color-unfitted-level-1);\n",
       "}\n",
       "\n",
       ".sk-estimator-doc-link.fitted,\n",
       "a:link.sk-estimator-doc-link.fitted,\n",
       "a:visited.sk-estimator-doc-link.fitted {\n",
       "  /* fitted */\n",
       "  border: var(--sklearn-color-fitted-level-1) 1pt solid;\n",
       "  color: var(--sklearn-color-fitted-level-1);\n",
       "}\n",
       "\n",
       "/* On hover */\n",
       "div.sk-estimator:hover .sk-estimator-doc-link:hover,\n",
       ".sk-estimator-doc-link:hover,\n",
       "div.sk-label-container:hover .sk-estimator-doc-link:hover,\n",
       ".sk-estimator-doc-link:hover {\n",
       "  /* unfitted */\n",
       "  background-color: var(--sklearn-color-unfitted-level-3);\n",
       "  color: var(--sklearn-color-background);\n",
       "  text-decoration: none;\n",
       "}\n",
       "\n",
       "div.sk-estimator.fitted:hover .sk-estimator-doc-link.fitted:hover,\n",
       ".sk-estimator-doc-link.fitted:hover,\n",
       "div.sk-label-container:hover .sk-estimator-doc-link.fitted:hover,\n",
       ".sk-estimator-doc-link.fitted:hover {\n",
       "  /* fitted */\n",
       "  background-color: var(--sklearn-color-fitted-level-3);\n",
       "  color: var(--sklearn-color-background);\n",
       "  text-decoration: none;\n",
       "}\n",
       "\n",
       "/* Span, style for the box shown on hovering the info icon */\n",
       ".sk-estimator-doc-link span {\n",
       "  display: none;\n",
       "  z-index: 9999;\n",
       "  position: relative;\n",
       "  font-weight: normal;\n",
       "  right: .2ex;\n",
       "  padding: .5ex;\n",
       "  margin: .5ex;\n",
       "  width: min-content;\n",
       "  min-width: 20ex;\n",
       "  max-width: 50ex;\n",
       "  color: var(--sklearn-color-text);\n",
       "  box-shadow: 2pt 2pt 4pt #999;\n",
       "  /* unfitted */\n",
       "  background: var(--sklearn-color-unfitted-level-0);\n",
       "  border: .5pt solid var(--sklearn-color-unfitted-level-3);\n",
       "}\n",
       "\n",
       ".sk-estimator-doc-link.fitted span {\n",
       "  /* fitted */\n",
       "  background: var(--sklearn-color-fitted-level-0);\n",
       "  border: var(--sklearn-color-fitted-level-3);\n",
       "}\n",
       "\n",
       ".sk-estimator-doc-link:hover span {\n",
       "  display: block;\n",
       "}\n",
       "\n",
       "/* \"?\"-specific style due to the `<a>` HTML tag */\n",
       "\n",
       "#sk-container-id-2 a.estimator_doc_link {\n",
       "  float: right;\n",
       "  font-size: 1rem;\n",
       "  line-height: 1em;\n",
       "  font-family: monospace;\n",
       "  background-color: var(--sklearn-color-background);\n",
       "  border-radius: 1rem;\n",
       "  height: 1rem;\n",
       "  width: 1rem;\n",
       "  text-decoration: none;\n",
       "  /* unfitted */\n",
       "  color: var(--sklearn-color-unfitted-level-1);\n",
       "  border: var(--sklearn-color-unfitted-level-1) 1pt solid;\n",
       "}\n",
       "\n",
       "#sk-container-id-2 a.estimator_doc_link.fitted {\n",
       "  /* fitted */\n",
       "  border: var(--sklearn-color-fitted-level-1) 1pt solid;\n",
       "  color: var(--sklearn-color-fitted-level-1);\n",
       "}\n",
       "\n",
       "/* On hover */\n",
       "#sk-container-id-2 a.estimator_doc_link:hover {\n",
       "  /* unfitted */\n",
       "  background-color: var(--sklearn-color-unfitted-level-3);\n",
       "  color: var(--sklearn-color-background);\n",
       "  text-decoration: none;\n",
       "}\n",
       "\n",
       "#sk-container-id-2 a.estimator_doc_link.fitted:hover {\n",
       "  /* fitted */\n",
       "  background-color: var(--sklearn-color-fitted-level-3);\n",
       "}\n",
       "</style><div id=\"sk-container-id-2\" class=\"sk-top-container\"><div class=\"sk-text-repr-fallback\"><pre>DecisionTreeClassifier()</pre><b>In a Jupyter environment, please rerun this cell to show the HTML representation or trust the notebook. <br />On GitHub, the HTML representation is unable to render, please try loading this page with nbviewer.org.</b></div><div class=\"sk-container\" hidden><div class=\"sk-item\"><div class=\"sk-estimator fitted sk-toggleable\"><input class=\"sk-toggleable__control sk-hidden--visually\" id=\"sk-estimator-id-2\" type=\"checkbox\" checked><label for=\"sk-estimator-id-2\" class=\"sk-toggleable__label fitted sk-toggleable__label-arrow\"><div><div>DecisionTreeClassifier</div></div><div><a class=\"sk-estimator-doc-link fitted\" rel=\"noreferrer\" target=\"_blank\" href=\"https://scikit-learn.org/1.6/modules/generated/sklearn.tree.DecisionTreeClassifier.html\">?<span>Documentation for DecisionTreeClassifier</span></a><span class=\"sk-estimator-doc-link fitted\">i<span>Fitted</span></span></div></label><div class=\"sk-toggleable__content fitted\"><pre>DecisionTreeClassifier()</pre></div> </div></div></div></div>"
      ],
      "text/plain": [
       "DecisionTreeClassifier()"
      ]
     },
     "execution_count": 34,
     "metadata": {},
     "output_type": "execute_result"
    }
   ],
   "source": [
    "from sklearn.tree import DecisionTreeClassifier\n",
    "\n",
    "# DTmodel에 의사결정나무 모델을 초기화 하고 학습합니다\n",
    "dt_cls = DecisionTreeClassifier()\n",
    "dt_cls.fit(train_X, train_Y)"
   ]
  },
  {
   "cell_type": "markdown",
   "id": "bf4381d2",
   "metadata": {},
   "source": [
    "\n",
    "- sklearn의 `DecisionTreeClassifier()` 모델을 `DTmodel`에 초기화\n",
    "- `fit`을 사용하여 `train_X`, `train_Y` 데이터를 학습\n"
   ]
  },
  {
   "cell_type": "code",
   "execution_count": 35,
   "id": "7122abc6",
   "metadata": {
    "ExecuteTime": {
     "end_time": "2025-07-16T05:33:42.694534Z",
     "start_time": "2025-07-16T05:33:42.590219Z"
    }
   },
   "outputs": [
    {
     "data": {
      "image/png": "[encoded data removed]",
      "text/plain": [
       "<Figure size 1000x700 with 1 Axes>"
      ]
     },
     "metadata": {},
     "output_type": "display_data"
    }
   ],
   "source": [
    "from sklearn.tree import plot_tree\n",
    "\n",
    "# 학습한 결과를 출력합니다\n",
    "fig = plt.figure(figsize=(10,7))\n",
    "tree.plot_tree(\n",
    "    dt_cls,\n",
    "    feature_names=['꽃받침 길이','꽃받침 넓이', '꽃잎 길이', '꽃잎 넓이'],\n",
    "    class_names=['setosa', 'versicolor', 'virginica'],\n",
    "    filled=True\n",
    ")\n",
    "\n",
    "\n",
    "plt.show()"
   ]
  },
  {
   "cell_type": "markdown",
   "id": "2c85adf5",
   "metadata": {},
   "source": [
    "맨 위의 노드를 루프노드라 부르고 맨 아래 끝에 달린 노드를 리프 노드라고 한다."
   ]
  },
  {
   "cell_type": "code",
   "execution_count": 36,
   "id": "0848dbd3",
   "metadata": {
    "ExecuteTime": {
     "end_time": "2025-07-16T05:33:44.658330Z",
     "start_time": "2025-07-16T05:33:44.568947Z"
    }
   },
   "outputs": [
    {
     "data": {
      "image/png": "[encoded data removed]",
      "text/plain": [
       "<Figure size 1500x1500 with 1 Axes>"
      ]
     },
     "metadata": {},
     "output_type": "display_data"
    }
   ],
   "source": [
    "fig = plt.figure(figsize=(15, 15))\n",
    "tree.plot_tree(\n",
    "    dt_cls,\n",
    "    max_depth = 3,\n",
    "    feature_names=['꽃받침 길이','꽃받침 넓이', '꽃잎 길이', '꽃잎 넓이'],\n",
    "    class_names=['setosa', 'versicolor', 'virginica'], filled=True\n",
    ")\n",
    "\n",
    "plt.show()"
   ]
  },
  {
   "cell_type": "markdown",
   "id": "7852f115",
   "metadata": {},
   "source": [
    "1. 루트토드는 꽃잎넓이 0.8 이하면 True, 아니면 False로 왼쪽으로 이동한다.\n",
    "   - 루트의 샘플은 120개, setosa 40, versicolor 41, virginica 39개 이다.\n",
    "1. 첫번째 왼쪽 노드는 꽃잎넓이 0.8이하이ㅡ 샘플 40개로 setosa 로 분류된다.\n",
    "1. 세번째 노드에서 꽃잎넓이 1.75이하의 샘플 43에서 virginica가 38개로 비율이 높아졌다.\n",
    "   - plot_tree 함수는 클래스의 비율이 높아지면 진한색으로 표시한다"
   ]
  },
  {
   "cell_type": "markdown",
   "id": "47fce06a",
   "metadata": {},
   "source": [
    "### - 불순도\n",
    "\n",
    "gini는 지니 불순도(gini impurity)를 의미한다.  지니 불순도는 클래스의 비율을 제곱해서 더한 다음 1에서 빼면된다.\n",
    "\n",
    "```\n",
    "지니 불순도 = 1 - (음성 클래스 비율의 제곱 + 양성 클래스 비율의 제곱)\n",
    "```\n",
    "\n",
    "DecisionTreeClassifier 클래스의 criterion 매개변수의 기본값이 gini이다. \n",
    " - creterion 매개변수의 용도는 노드에서 데이터를 분할할 기준을 정하는 것이다. \n",
    " - 앞의 루트 노드에서 0.667를 기준으로 왼쪽과 오른쪽 노드로 나누었다. \n",
    " \n"
   ]
  },
  {
   "cell_type": "markdown",
   "id": "2a2e0b0a",
   "metadata": {},
   "source": [
    "**불순도(Impurity)**\n",
    "  - 다른 데이터가 섞여 있는 정도  \n",
    "     <img src='https://www.baeldung.com/wp-content/uploads/sites/4/2022/06/impurity.png' width=500>\n",
    "    - 오른쪽이 불순도가 더 낮다.\n",
    "    - 데이터의 개수가 적기 때문에 눈으로 확인 가능\n",
    "    - 그렇다면 데이터 개수가 엄청 많을 때 불순도 측정은? 지니 불순도!\n",
    "\n",
    "**지니 계수(Gini Index)**\n",
    "  - 해당 구역 안에서 특정 클래스에 속하는 데이터의 비율을 모두 제외한 값\n",
    "    - 즉, **다양성**을 계산하는 방법\n",
    "\n",
    "<p align=\"center\">\n",
    " <image src=\"https://user-images.githubusercontent.com/61646760/143277757-abae407c-0f22-40c5-b710-bacd438bf20a.png\" />\n",
    "</p>\n"
   ]
  },
  {
   "cell_type": "markdown",
   "id": "6ede86eb",
   "metadata": {},
   "source": [
    "**지니 불순도(Gini Impurity)**  \n",
    "  - [지니 불순도 계산 과정](https://user-images.githubusercontent.com/61646760/143280573-8461ba58-a905-4a97-b744-352b66b28942.png)\n",
    "    - [가장 낮은 지니 불순도 선택](https://user-images.githubusercontent.com/61646760/143281064-b13eded6-afaf-4edd-9bd9-4d24ab9d4c9d.png)\n",
    "  - ![image](https://user-images.githubusercontent.com/61646760/143278477-2ada2df1-bfbd-4c72-915a-053669fd9014.png) : i번째 자식 마디의 데이터 개수\n",
    "  - ![image](https://user-images.githubusercontent.com/61646760/143278540-b07146a0-835b-4026-b6f1-e73fbacc0c5f.png) : 부모 마디의 데이터 개수\n",
    "\n",
    "<p align=\"center\">\n",
    " <image src=\"https://user-images.githubusercontent.com/61646760/143278422-08459a10-968b-485b-abb0-165366c4d087.png\" />  \n",
    "</p>\n",
    "\n"
   ]
  },
  {
   "cell_type": "markdown",
   "id": "bb326d56",
   "metadata": {},
   "source": [
    "### - 예측하기\n",
    "\n",
    "위에서 학습한 모델을 바탕으로 새로운 데이터에 대해서 예측해 보자.\n",
    "\n",
    "`test_X` 데이터에 따른 예측값을 구해 보자.\n"
   ]
  },
  {
   "cell_type": "code",
   "execution_count": 37,
   "id": "c360470b",
   "metadata": {
    "ExecuteTime": {
     "end_time": "2025-07-16T05:40:49.414682Z",
     "start_time": "2025-07-16T05:40:49.411391Z"
    }
   },
   "outputs": [
    {
     "name": "stdout",
     "output_type": "stream",
     "text": [
      "test_X에 대한 예측값 : \n",
      "[1 0 2 1 1 0 1 2 1 1 2 0 0 0 0 1 2 1 1 2 0 2 0 2 2 2 2 2 0 0]\n"
     ]
    }
   ],
   "source": [
    "# test_X에 대해서 예측합니다.\n",
    "pred_X = dt_cls.predict(test_X)\n",
    "\n",
    "print('test_X에 대한 예측값 : \\n{}'.format(pred_X))"
   ]
  },
  {
   "cell_type": "code",
   "id": "e1d5da18d2fe4b23",
   "metadata": {
    "ExecuteTime": {
     "end_time": "2025-07-16T05:45:10.492082Z",
     "start_time": "2025-07-16T05:45:10.490318Z"
    }
   },
   "source": [
    "import numpy as np\n",
    "\n",
    "if np.array_equal(pred_X, test_Y):\n",
    "    print(\"일치합니다\") # 예측 정확\n",
    "else:\n",
    "    print(\"일치하지 않습니다\") # 예측 부정확"
   ],
   "outputs": [
    {
     "name": "stdout",
     "output_type": "stream",
     "text": [
      "일치합니다\n"
     ]
    }
   ],
   "execution_count": 43
  },
  {
   "cell_type": "markdown",
   "id": "76126de3",
   "metadata": {},
   "source": [
    "- `DTmodel`을 학습하고 `test_X`의 예측값을 구하여 `pred_X`에 저장\n",
    "\n",
    "\n"
   ]
  },
  {
   "cell_type": "markdown",
   "id": "79d698d5",
   "metadata": {},
   "source": [
    "# 3. 분류 평가 지표\n"
   ]
  },
  {
   "cell_type": "markdown",
   "id": "df288b54",
   "metadata": {},
   "source": [
    "#### 혼동 행렬\n"
   ]
  },
  {
   "cell_type": "markdown",
   "id": "0c31170e",
   "metadata": {},
   "source": [
    "오차행렬은 아래 같이 4분면 행렬에서 실제 레이블 클래스 값과 예측 레이블 클래스 값이 어떤 유형을 갖는지 매핑되는지 나타낸다.\n",
    "\n",
    "<img src='https://i.imgur.com/PXRxI3G.png' width=600>\n",
    "\n",
    "- **True Positive (TP)** : 실제 Positive인 값을 Positive라고 예측(정답)\n",
    "- **True Negative (TN)** : 실제 Negative인 값을 Negative라고 예측(정답)\n",
    "- **False Positive (FP)** : 실제 Negative인 값을 Positive라고 예측(오답) - **1형 오류**\n",
    "- **False Negative (FN)** : 실제 Positive인 값을 Negative라고 예측(오답) - **2형 오류**\n",
    "\n",
    "TN, FP, FN, TP 값을 다양하게 결합해 분류 모델 예측 성능 오류가 어떤 모습으로 발생하는지 알 수 있다. `TN, FP, FN, TP` 기호는 <u>앞 문자는 예측-실제 값이 같은가 틀린가 여부고 뒤 문자는 예측 결과 값이 긍정1/부정0</u> 을 의미한다."
   ]
  },
  {
   "cell_type": "markdown",
   "id": "1c359b75",
   "metadata": {},
   "source": [
    "4가지 예측 범주는:\n",
    "- True Positives : 1인 레이블을 1이라 하는 경우.\n",
    "    - 관심 범주를 정확하게 분류한 값.\n",
    "- False Negatives : 1인 레이블을 0이라 하는 경우.\n",
    "    - 관심 범주가 아닌것으로 잘못 분류함.\n",
    "- False Positives : 0인 레이블을 1이라 하는 경우.\n",
    "    - 관심 범주라고 잘못 분류함.\n",
    "- True Negatives : 0인 레이블을 0이라 하는 경우.\n",
    "    - 관심 범주가 아닌것을 정확하게 분류."
   ]
  },
  {
   "cell_type": "markdown",
   "id": "f5721422",
   "metadata": {},
   "source": [
    "#### 정확도(Accuracy)\n"
   ]
  },
  {
   "cell_type": "markdown",
   "id": "d2a3a6c6",
   "metadata": {},
   "source": [
    "정확도는 모델이 얼마나 정확한지를 평가하는 척도라고 할 수 있다. \n",
    " - 전체 데이터 중에서 제대로 분류된 데이터의 비율로, **모델이 얼마나 정확하게 분류하는지**를 나타냄  \n",
    " - 정확도는 예측값과 실제 값이 얼마나 동일한가 비율로 결정\n",
    " - 일반적으로 분류 모델의 주요 평가 방법으로 사용됨\n",
    " - 그러나, 클래스 비율이 불균형할 경우 평가 지표의 신뢰성을 잃을 가능성이 있음\n",
    "\n",
    "\n",
    "정확도는 예측이 정확한 비율로 전체 오차행렬 데이터 수로 TP, TN를 나눈 비율이다.\n",
    "\n",
    "\n",
    "$$\n",
    "Accuracy = \\frac{TN+TP}{TN+FP+FN+TP} \\\\\n",
    "$$\n",
    "\n",
    "\n"
   ]
  },
  {
   "cell_type": "markdown",
   "id": "a59f7db5",
   "metadata": {},
   "source": [
    "오차행렬에서 True에 해당하는 TN, TP에 좌우된다. \n",
    "\n",
    "$$\n",
    "P : TP + FN\\\\\n",
    "N : TN + FP\\\\\n",
    "$$\n"
   ]
  },
  {
   "cell_type": "markdown",
   "id": "dc16e3ec",
   "metadata": {},
   "source": [
    "#### 오류률\n",
    "\n",
    "오류률은 예측이 잘못된 비율로 정확도의 반대이다. \n",
    "\n",
    "$$\n",
    "\\text{Error rate} = 1 - Accuracy\n",
    "$$\n"
   ]
  },
  {
   "cell_type": "markdown",
   "id": "cc1c40a7",
   "metadata": {},
   "source": [
    "#### 정밀도(Precision)\n"
   ]
  },
  {
   "cell_type": "markdown",
   "id": "da825104",
   "metadata": {},
   "source": [
    "정밀도는 예측을 **_Positive로 한 것 중에서 실제 Positive 로 일치한 데이터의 비율_** 이다. \n",
    "\n",
    "$$\n",
    "Precision = \\frac{TP}{FP+TP}\n",
    "$$\n",
    "\n",
    "분모 FP+TP는 예측을 Positive로 한 모든 데이터 건수이고, TP는 실제 값이 Positive로 일치한 건수이다. 정밀도는 양성 예측율로도 불린다.\n",
    "- **Negative가 중요한 경우**\n",
    "    - 즉, 실제로 Negative인 데이터를 Positive라고 판단하면 안 되는 경우 사용되는 지표\n",
    "    - `예) 스팸 메일 판결을 위한 분류 문제`\n",
    "      - 해당 메일이 스팸일 경우 Positive, 스팸이 아닐 경우 즉, 일반 메일일 경우 Negative\n",
    "      - 일반 메일을 스팸 메일(Positive)로 잘못 예측했을 경우 중요한 메일을 전달받지 못하는 상황이 발생할 수 있음 \n"
   ]
  },
  {
   "cell_type": "markdown",
   "id": "b184fcbf",
   "metadata": {},
   "source": [
    "#### 재현율(Recall, TPR)\n"
   ]
  },
  {
   "cell_type": "markdown",
   "id": "35e17afe",
   "metadata": {},
   "source": [
    "\n",
    "정밀도와 비교되는 척도로써, 실제로 Positive인 데이터 중에서 모델이 Positive로 분류한 데이터의 비율\n",
    " - FN+TP는 실제 Positive인 모든 건수이고, 분자 TP는 실제 값이 Positive로 일치한 것이다. 재현율은 민감도(sensitivity), TPR(True Positive Rate)라고도 불린다.\n",
    "\n",
    "$$\n",
    "Recall = \\frac{TP}{FN+TP}\n",
    "$$\n",
    "\n",
    "- **Positive가 중요한 경우**\n",
    "    - 즉, 실제로 Positive인 데이터를 Negative라고 판단하면 안 되는 경우 사용되는 지표\n",
    "    - `예) 악성 종양 여부 판결을 위한 검사`\n",
    "      - 악성 종양일 경우 Positive, 악성 종양이 아닐 경우 즉, 양성 종양일 경우 Negative\n",
    "      - 악성 종양(Positive)을 양성 종양(Negative)으로 잘못 예측했을 경우 제때 치료를 받지 못하게 되어 생명이 위급해질 수 있음\n"
   ]
  },
  {
   "cell_type": "markdown",
   "id": "9e5fa469",
   "metadata": {},
   "source": [
    "#### 다양한 분류 지표의 활용\n",
    "분류 목적에 따라 다양한 지표를 계산하여 평가\n",
    "- 분류 결과를 전체적으로 보고 싶다면 → **혼동 행렬(Confusion Matrix)**\n",
    "- 정답을 얼마나 잘 맞췄는지 → **정확도(Accuracy)**\n",
    "- FP 또는 FN의 중요도가 높다면 → **정밀도(Precision)**, **재현율(Recall)**\n",
    "\n"
   ]
  },
  {
   "metadata": {},
   "cell_type": "markdown",
   "source": "### - \"실습\" 유방암 데이터 평가지표 활용",
   "id": "117a5ae6"
  },
  {
   "cell_type": "markdown",
   "id": "fcd0216d",
   "metadata": {},
   "source": [
    "### Scikit-learn 의 api:\n",
    "\n",
    "- sklearn.metrics.accuracy_score\n",
    "- sklearn.metrics.precision_score\n",
    "- sklearn.metrics.recall_score\n",
    "- sklearn.metrics.f1_score\n",
    "- sklearn.metrics..fbeta_score\n",
    "- sklearn.metrics.matthews_corrcoef\n",
    "- sklearn.metrics.confusion_matrix"
   ]
  },
  {
   "cell_type": "code",
   "id": "b5f770d489e9d069",
   "metadata": {
    "ExecuteTime": {
     "end_time": "2025-07-16T06:14:34.226147Z",
     "start_time": "2025-07-16T06:14:34.223888Z"
    }
   },
   "source": [
    "import numpy as np\n",
    "import pandas as pd\n",
    "import seaborn as sns\n",
    "from matplotlib import pyplot as plt\n",
    "from sklearn.datasets import load_breast_cancer\n",
    "from sklearn.tree import DecisionTreeClassifier\n",
    "from sklearn.model_selection import train_test_split\n",
    "from sklearn.metrics import accuracy_score\n",
    "from sklearn import tree\n",
    "from sklearn.metrics import confusion_matrix"
   ],
   "outputs": [],
   "execution_count": 45
  },
  {
   "metadata": {
    "ExecuteTime": {
     "end_time": "2025-07-16T06:15:03.486938Z",
     "start_time": "2025-07-16T06:15:03.480946Z"
    }
   },
   "cell_type": "code",
   "source": [
    "# sklearn에 저장된 데이터를 불러 옵니다.\n",
    "X,Y = load_breast_cancer(return_X_y=True)"
   ],
   "id": "ff08d91f485f9e66",
   "outputs": [],
   "execution_count": 46
  },
  {
   "metadata": {
    "ExecuteTime": {
     "end_time": "2025-07-16T06:15:04.848776Z",
     "start_time": "2025-07-16T06:15:04.846985Z"
    }
   },
   "cell_type": "code",
   "source": [
    "# 데이터 정보를 출력합니다\n",
    "print('전체 샘플 개수: ',len(X))\n",
    "print('X의 feature 개수: ',len(X[0]))\n"
   ],
   "id": "4187d49a",
   "outputs": [
    {
     "name": "stdout",
     "output_type": "stream",
     "text": [
      "전체 샘플 개수:  569\n",
      "X의 feature 개수:  30\n"
     ]
    }
   ],
   "execution_count": 47
  },
  {
   "metadata": {
    "ExecuteTime": {
     "end_time": "2025-07-16T06:15:21.873171Z",
     "start_time": "2025-07-16T06:15:21.870485Z"
    }
   },
   "cell_type": "code",
   "source": "type(X), type(Y)",
   "id": "abef82363fb076f5",
   "outputs": [
    {
     "data": {
      "text/plain": [
       "(numpy.ndarray, numpy.ndarray)"
      ]
     },
     "execution_count": 49,
     "metadata": {},
     "output_type": "execute_result"
    }
   ],
   "execution_count": 49
  },
  {
   "metadata": {
    "ExecuteTime": {
     "end_time": "2025-07-16T06:16:07.268553Z",
     "start_time": "2025-07-16T06:16:07.261112Z"
    }
   },
   "cell_type": "code",
   "source": "pd.DataFrame(X).head()",
   "id": "7a4ee0dfbd5cadeb",
   "outputs": [
    {
     "data": {
      "text/plain": [
       "      0      1       2       3        4        5       6        7       8   \\\n",
       "0  17.99  10.38  122.80  1001.0  0.11840  0.27760  0.3001  0.14710  0.2419   \n",
       "1  20.57  17.77  132.90  1326.0  0.08474  0.07864  0.0869  0.07017  0.1812   \n",
       "2  19.69  21.25  130.00  1203.0  0.10960  0.15990  0.1974  0.12790  0.2069   \n",
       "3  11.42  20.38   77.58   386.1  0.14250  0.28390  0.2414  0.10520  0.2597   \n",
       "4  20.29  14.34  135.10  1297.0  0.10030  0.13280  0.1980  0.10430  0.1809   \n",
       "\n",
       "        9   ...     20     21      22      23      24      25      26      27  \\\n",
       "0  0.07871  ...  25.38  17.33  184.60  2019.0  0.1622  0.6656  0.7119  0.2654   \n",
       "1  0.05667  ...  24.99  23.41  158.80  1956.0  0.1238  0.1866  0.2416  0.1860   \n",
       "2  0.05999  ...  23.57  25.53  152.50  1709.0  0.1444  0.4245  0.4504  0.2430   \n",
       "3  0.09744  ...  14.91  26.50   98.87   567.7  0.2098  0.8663  0.6869  0.2575   \n",
       "4  0.05883  ...  22.54  16.67  152.20  1575.0  0.1374  0.2050  0.4000  0.1625   \n",
       "\n",
       "       28       29  \n",
       "0  0.4601  0.11890  \n",
       "1  0.2750  0.08902  \n",
       "2  0.3613  0.08758  \n",
       "3  0.6638  0.17300  \n",
       "4  0.2364  0.07678  \n",
       "\n",
       "[5 rows x 30 columns]"
      ],
      "text/html": [
       "<div>\n",
       "<style scoped>\n",
       "    .dataframe tbody tr th:only-of-type {\n",
       "        vertical-align: middle;\n",
       "    }\n",
       "\n",
       "    .dataframe tbody tr th {\n",
       "        vertical-align: top;\n",
       "    }\n",
       "\n",
       "    .dataframe thead th {\n",
       "        text-align: right;\n",
       "    }\n",
       "</style>\n",
       "<table border=\"1\" class=\"dataframe\">\n",
       "  <thead>\n",
       "    <tr style=\"text-align: right;\">\n",
       "      <th></th>\n",
       "      <th>0</th>\n",
       "      <th>1</th>\n",
       "      <th>2</th>\n",
       "      <th>3</th>\n",
       "      <th>4</th>\n",
       "      <th>5</th>\n",
       "      <th>6</th>\n",
       "      <th>7</th>\n",
       "      <th>8</th>\n",
       "      <th>9</th>\n",
       "      <th>...</th>\n",
       "      <th>20</th>\n",
       "      <th>21</th>\n",
       "      <th>22</th>\n",
       "      <th>23</th>\n",
       "      <th>24</th>\n",
       "      <th>25</th>\n",
       "      <th>26</th>\n",
       "      <th>27</th>\n",
       "      <th>28</th>\n",
       "      <th>29</th>\n",
       "    </tr>\n",
       "  </thead>\n",
       "  <tbody>\n",
       "    <tr>\n",
       "      <th>0</th>\n",
       "      <td>17.99</td>\n",
       "      <td>10.38</td>\n",
       "      <td>122.80</td>\n",
       "      <td>1001.0</td>\n",
       "      <td>0.11840</td>\n",
       "      <td>0.27760</td>\n",
       "      <td>0.3001</td>\n",
       "      <td>0.14710</td>\n",
       "      <td>0.2419</td>\n",
       "      <td>0.07871</td>\n",
       "      <td>...</td>\n",
       "      <td>25.38</td>\n",
       "      <td>17.33</td>\n",
       "      <td>184.60</td>\n",
       "      <td>2019.0</td>\n",
       "      <td>0.1622</td>\n",
       "      <td>0.6656</td>\n",
       "      <td>0.7119</td>\n",
       "      <td>0.2654</td>\n",
       "      <td>0.4601</td>\n",
       "      <td>0.11890</td>\n",
       "    </tr>\n",
       "    <tr>\n",
       "      <th>1</th>\n",
       "      <td>20.57</td>\n",
       "      <td>17.77</td>\n",
       "      <td>132.90</td>\n",
       "      <td>1326.0</td>\n",
       "      <td>0.08474</td>\n",
       "      <td>0.07864</td>\n",
       "      <td>0.0869</td>\n",
       "      <td>0.07017</td>\n",
       "      <td>0.1812</td>\n",
       "      <td>0.05667</td>\n",
       "      <td>...</td>\n",
       "      <td>24.99</td>\n",
       "      <td>23.41</td>\n",
       "      <td>158.80</td>\n",
       "      <td>1956.0</td>\n",
       "      <td>0.1238</td>\n",
       "      <td>0.1866</td>\n",
       "      <td>0.2416</td>\n",
       "      <td>0.1860</td>\n",
       "      <td>0.2750</td>\n",
       "      <td>0.08902</td>\n",
       "    </tr>\n",
       "    <tr>\n",
       "      <th>2</th>\n",
       "      <td>19.69</td>\n",
       "      <td>21.25</td>\n",
       "      <td>130.00</td>\n",
       "      <td>1203.0</td>\n",
       "      <td>0.10960</td>\n",
       "      <td>0.15990</td>\n",
       "      <td>0.1974</td>\n",
       "      <td>0.12790</td>\n",
       "      <td>0.2069</td>\n",
       "      <td>0.05999</td>\n",
       "      <td>...</td>\n",
       "      <td>23.57</td>\n",
       "      <td>25.53</td>\n",
       "      <td>152.50</td>\n",
       "      <td>1709.0</td>\n",
       "      <td>0.1444</td>\n",
       "      <td>0.4245</td>\n",
       "      <td>0.4504</td>\n",
       "      <td>0.2430</td>\n",
       "      <td>0.3613</td>\n",
       "      <td>0.08758</td>\n",
       "    </tr>\n",
       "    <tr>\n",
       "      <th>3</th>\n",
       "      <td>11.42</td>\n",
       "      <td>20.38</td>\n",
       "      <td>77.58</td>\n",
       "      <td>386.1</td>\n",
       "      <td>0.14250</td>\n",
       "      <td>0.28390</td>\n",
       "      <td>0.2414</td>\n",
       "      <td>0.10520</td>\n",
       "      <td>0.2597</td>\n",
       "      <td>0.09744</td>\n",
       "      <td>...</td>\n",
       "      <td>14.91</td>\n",
       "      <td>26.50</td>\n",
       "      <td>98.87</td>\n",
       "      <td>567.7</td>\n",
       "      <td>0.2098</td>\n",
       "      <td>0.8663</td>\n",
       "      <td>0.6869</td>\n",
       "      <td>0.2575</td>\n",
       "      <td>0.6638</td>\n",
       "      <td>0.17300</td>\n",
       "    </tr>\n",
       "    <tr>\n",
       "      <th>4</th>\n",
       "      <td>20.29</td>\n",
       "      <td>14.34</td>\n",
       "      <td>135.10</td>\n",
       "      <td>1297.0</td>\n",
       "      <td>0.10030</td>\n",
       "      <td>0.13280</td>\n",
       "      <td>0.1980</td>\n",
       "      <td>0.10430</td>\n",
       "      <td>0.1809</td>\n",
       "      <td>0.05883</td>\n",
       "      <td>...</td>\n",
       "      <td>22.54</td>\n",
       "      <td>16.67</td>\n",
       "      <td>152.20</td>\n",
       "      <td>1575.0</td>\n",
       "      <td>0.1374</td>\n",
       "      <td>0.2050</td>\n",
       "      <td>0.4000</td>\n",
       "      <td>0.1625</td>\n",
       "      <td>0.2364</td>\n",
       "      <td>0.07678</td>\n",
       "    </tr>\n",
       "  </tbody>\n",
       "</table>\n",
       "<p>5 rows × 30 columns</p>\n",
       "</div>"
      ]
     },
     "execution_count": 51,
     "metadata": {},
     "output_type": "execute_result"
    }
   ],
   "execution_count": 51
  },
  {
   "metadata": {
    "ExecuteTime": {
     "end_time": "2025-07-16T06:16:47.278018Z",
     "start_time": "2025-07-16T06:16:47.275718Z"
    }
   },
   "cell_type": "code",
   "source": "np.unique(Y)",
   "id": "4da50d1522947565",
   "outputs": [
    {
     "data": {
      "text/plain": [
       "array([0, 1])"
      ]
     },
     "execution_count": 53,
     "metadata": {},
     "output_type": "execute_result"
    }
   ],
   "execution_count": 53
  },
  {
   "metadata": {
    "ExecuteTime": {
     "end_time": "2025-07-16T06:20:35.359703Z",
     "start_time": "2025-07-16T06:20:35.357353Z"
    }
   },
   "cell_type": "code",
   "source": [
    "# 학습용 평가용 데이터로 분리합니다\n",
    "train_X, test_X, train_Y, test_Y = train_test_split(X, Y, test_size=0.2, random_state=42)"
   ],
   "id": "2693604ded6e33c7",
   "outputs": [],
   "execution_count": 56
  },
  {
   "metadata": {
    "ExecuteTime": {
     "end_time": "2025-07-16T06:18:57.758677Z",
     "start_time": "2025-07-16T06:18:57.756149Z"
    }
   },
   "cell_type": "code",
   "outputs": [
    {
     "data": {
      "text/plain": [
       "(114, 71)"
      ]
     },
     "execution_count": 55,
     "metadata": {},
     "output_type": "execute_result"
    }
   ],
   "execution_count": 55,
   "source": "len(test_Y), sum(test_Y)",
   "id": "d112f62329327af9"
  },
  {
   "metadata": {
    "ExecuteTime": {
     "end_time": "2025-07-16T06:20:37.819052Z",
     "start_time": "2025-07-16T06:20:37.817030Z"
    }
   },
   "cell_type": "code",
   "source": [
    "# 분리된 평가용 데이터 정보를 출력합니다\n",
    "print('평가용 샘플 개수: ',len(test_Y))\n",
    "print('클래스 0인 평가용 샘플 개수: ', len(test_Y)-sum(test_Y))\n",
    "print('클래스 1인 평가용 샘플 개수: ', sum(test_Y),'\\n')  # 샘플당 값이 1이므로 sum = 개수"
   ],
   "id": "48009ece",
   "outputs": [
    {
     "name": "stdout",
     "output_type": "stream",
     "text": [
      "평가용 샘플 개수:  114\n",
      "클래스 0인 평가용 샘플 개수:  43\n",
      "클래스 1인 평가용 샘플 개수:  71 \n",
      "\n"
     ]
    }
   ],
   "execution_count": 58
  },
  {
   "cell_type": "code",
   "id": "eb7ea21543799181",
   "metadata": {
    "ExecuteTime": {
     "end_time": "2025-07-16T06:20:38.868453Z",
     "start_time": "2025-07-16T06:20:38.859498Z"
    }
   },
   "source": [
    "# DTmodel에 의사결정나무 모델을 초기화하고 학습합니다\n",
    "dt_cls = DecisionTreeClassifier()\n",
    "dt_cls.fit(train_X, train_Y)"
   ],
   "outputs": [
    {
     "data": {
      "text/plain": [
       "DecisionTreeClassifier()"
      ],
      "text/html": [
       "<style>#sk-container-id-3 {\n",
       "  /* Definition of color scheme common for light and dark mode */\n",
       "  --sklearn-color-text: #000;\n",
       "  --sklearn-color-text-muted: #666;\n",
       "  --sklearn-color-line: gray;\n",
       "  /* Definition of color scheme for unfitted estimators */\n",
       "  --sklearn-color-unfitted-level-0: #fff5e6;\n",
       "  --sklearn-color-unfitted-level-1: #f6e4d2;\n",
       "  --sklearn-color-unfitted-level-2: #ffe0b3;\n",
       "  --sklearn-color-unfitted-level-3: chocolate;\n",
       "  /* Definition of color scheme for fitted estimators */\n",
       "  --sklearn-color-fitted-level-0: #f0f8ff;\n",
       "  --sklearn-color-fitted-level-1: #d4ebff;\n",
       "  --sklearn-color-fitted-level-2: #b3dbfd;\n",
       "  --sklearn-color-fitted-level-3: cornflowerblue;\n",
       "\n",
       "  /* Specific color for light theme */\n",
       "  --sklearn-color-text-on-default-background: var(--sg-text-color, var(--theme-code-foreground, var(--jp-content-font-color1, black)));\n",
       "  --sklearn-color-background: var(--sg-background-color, var(--theme-background, var(--jp-layout-color0, white)));\n",
       "  --sklearn-color-border-box: var(--sg-text-color, var(--theme-code-foreground, var(--jp-content-font-color1, black)));\n",
       "  --sklearn-color-icon: #696969;\n",
       "\n",
       "  @media (prefers-color-scheme: dark) {\n",
       "    /* Redefinition of color scheme for dark theme */\n",
       "    --sklearn-color-text-on-default-background: var(--sg-text-color, var(--theme-code-foreground, var(--jp-content-font-color1, white)));\n",
       "    --sklearn-color-background: var(--sg-background-color, var(--theme-background, var(--jp-layout-color0, #111)));\n",
       "    --sklearn-color-border-box: var(--sg-text-color, var(--theme-code-foreground, var(--jp-content-font-color1, white)));\n",
       "    --sklearn-color-icon: #878787;\n",
       "  }\n",
       "}\n",
       "\n",
       "#sk-container-id-3 {\n",
       "  color: var(--sklearn-color-text);\n",
       "}\n",
       "\n",
       "#sk-container-id-3 pre {\n",
       "  padding: 0;\n",
       "}\n",
       "\n",
       "#sk-container-id-3 input.sk-hidden--visually {\n",
       "  border: 0;\n",
       "  clip: rect(1px 1px 1px 1px);\n",
       "  clip: rect(1px, 1px, 1px, 1px);\n",
       "  height: 1px;\n",
       "  margin: -1px;\n",
       "  overflow: hidden;\n",
       "  padding: 0;\n",
       "  position: absolute;\n",
       "  width: 1px;\n",
       "}\n",
       "\n",
       "#sk-container-id-3 div.sk-dashed-wrapped {\n",
       "  border: 1px dashed var(--sklearn-color-line);\n",
       "  margin: 0 0.4em 0.5em 0.4em;\n",
       "  box-sizing: border-box;\n",
       "  padding-bottom: 0.4em;\n",
       "  background-color: var(--sklearn-color-background);\n",
       "}\n",
       "\n",
       "#sk-container-id-3 div.sk-container {\n",
       "  /* jupyter's `normalize.less` sets `[hidden] { display: none; }`\n",
       "     but bootstrap.min.css set `[hidden] { display: none !important; }`\n",
       "     so we also need the `!important` here to be able to override the\n",
       "     default hidden behavior on the sphinx rendered scikit-learn.org.\n",
       "     See: https://github.com/scikit-learn/scikit-learn/issues/21755 */\n",
       "  display: inline-block !important;\n",
       "  position: relative;\n",
       "}\n",
       "\n",
       "#sk-container-id-3 div.sk-text-repr-fallback {\n",
       "  display: none;\n",
       "}\n",
       "\n",
       "div.sk-parallel-item,\n",
       "div.sk-serial,\n",
       "div.sk-item {\n",
       "  /* draw centered vertical line to link estimators */\n",
       "  background-image: linear-gradient(var(--sklearn-color-text-on-default-background), var(--sklearn-color-text-on-default-background));\n",
       "  background-size: 2px 100%;\n",
       "  background-repeat: no-repeat;\n",
       "  background-position: center center;\n",
       "}\n",
       "\n",
       "/* Parallel-specific style estimator block */\n",
       "\n",
       "#sk-container-id-3 div.sk-parallel-item::after {\n",
       "  content: \"\";\n",
       "  width: 100%;\n",
       "  border-bottom: 2px solid var(--sklearn-color-text-on-default-background);\n",
       "  flex-grow: 1;\n",
       "}\n",
       "\n",
       "#sk-container-id-3 div.sk-parallel {\n",
       "  display: flex;\n",
       "  align-items: stretch;\n",
       "  justify-content: center;\n",
       "  background-color: var(--sklearn-color-background);\n",
       "  position: relative;\n",
       "}\n",
       "\n",
       "#sk-container-id-3 div.sk-parallel-item {\n",
       "  display: flex;\n",
       "  flex-direction: column;\n",
       "}\n",
       "\n",
       "#sk-container-id-3 div.sk-parallel-item:first-child::after {\n",
       "  align-self: flex-end;\n",
       "  width: 50%;\n",
       "}\n",
       "\n",
       "#sk-container-id-3 div.sk-parallel-item:last-child::after {\n",
       "  align-self: flex-start;\n",
       "  width: 50%;\n",
       "}\n",
       "\n",
       "#sk-container-id-3 div.sk-parallel-item:only-child::after {\n",
       "  width: 0;\n",
       "}\n",
       "\n",
       "/* Serial-specific style estimator block */\n",
       "\n",
       "#sk-container-id-3 div.sk-serial {\n",
       "  display: flex;\n",
       "  flex-direction: column;\n",
       "  align-items: center;\n",
       "  background-color: var(--sklearn-color-background);\n",
       "  padding-right: 1em;\n",
       "  padding-left: 1em;\n",
       "}\n",
       "\n",
       "\n",
       "/* Toggleable style: style used for estimator/Pipeline/ColumnTransformer box that is\n",
       "clickable and can be expanded/collapsed.\n",
       "- Pipeline and ColumnTransformer use this feature and define the default style\n",
       "- Estimators will overwrite some part of the style using the `sk-estimator` class\n",
       "*/\n",
       "\n",
       "/* Pipeline and ColumnTransformer style (default) */\n",
       "\n",
       "#sk-container-id-3 div.sk-toggleable {\n",
       "  /* Default theme specific background. It is overwritten whether we have a\n",
       "  specific estimator or a Pipeline/ColumnTransformer */\n",
       "  background-color: var(--sklearn-color-background);\n",
       "}\n",
       "\n",
       "/* Toggleable label */\n",
       "#sk-container-id-3 label.sk-toggleable__label {\n",
       "  cursor: pointer;\n",
       "  display: flex;\n",
       "  width: 100%;\n",
       "  margin-bottom: 0;\n",
       "  padding: 0.5em;\n",
       "  box-sizing: border-box;\n",
       "  text-align: center;\n",
       "  align-items: start;\n",
       "  justify-content: space-between;\n",
       "  gap: 0.5em;\n",
       "}\n",
       "\n",
       "#sk-container-id-3 label.sk-toggleable__label .caption {\n",
       "  font-size: 0.6rem;\n",
       "  font-weight: lighter;\n",
       "  color: var(--sklearn-color-text-muted);\n",
       "}\n",
       "\n",
       "#sk-container-id-3 label.sk-toggleable__label-arrow:before {\n",
       "  /* Arrow on the left of the label */\n",
       "  content: \"▸\";\n",
       "  float: left;\n",
       "  margin-right: 0.25em;\n",
       "  color: var(--sklearn-color-icon);\n",
       "}\n",
       "\n",
       "#sk-container-id-3 label.sk-toggleable__label-arrow:hover:before {\n",
       "  color: var(--sklearn-color-text);\n",
       "}\n",
       "\n",
       "/* Toggleable content - dropdown */\n",
       "\n",
       "#sk-container-id-3 div.sk-toggleable__content {\n",
       "  max-height: 0;\n",
       "  max-width: 0;\n",
       "  overflow: hidden;\n",
       "  text-align: left;\n",
       "  /* unfitted */\n",
       "  background-color: var(--sklearn-color-unfitted-level-0);\n",
       "}\n",
       "\n",
       "#sk-container-id-3 div.sk-toggleable__content.fitted {\n",
       "  /* fitted */\n",
       "  background-color: var(--sklearn-color-fitted-level-0);\n",
       "}\n",
       "\n",
       "#sk-container-id-3 div.sk-toggleable__content pre {\n",
       "  margin: 0.2em;\n",
       "  border-radius: 0.25em;\n",
       "  color: var(--sklearn-color-text);\n",
       "  /* unfitted */\n",
       "  background-color: var(--sklearn-color-unfitted-level-0);\n",
       "}\n",
       "\n",
       "#sk-container-id-3 div.sk-toggleable__content.fitted pre {\n",
       "  /* unfitted */\n",
       "  background-color: var(--sklearn-color-fitted-level-0);\n",
       "}\n",
       "\n",
       "#sk-container-id-3 input.sk-toggleable__control:checked~div.sk-toggleable__content {\n",
       "  /* Expand drop-down */\n",
       "  max-height: 200px;\n",
       "  max-width: 100%;\n",
       "  overflow: auto;\n",
       "}\n",
       "\n",
       "#sk-container-id-3 input.sk-toggleable__control:checked~label.sk-toggleable__label-arrow:before {\n",
       "  content: \"▾\";\n",
       "}\n",
       "\n",
       "/* Pipeline/ColumnTransformer-specific style */\n",
       "\n",
       "#sk-container-id-3 div.sk-label input.sk-toggleable__control:checked~label.sk-toggleable__label {\n",
       "  color: var(--sklearn-color-text);\n",
       "  background-color: var(--sklearn-color-unfitted-level-2);\n",
       "}\n",
       "\n",
       "#sk-container-id-3 div.sk-label.fitted input.sk-toggleable__control:checked~label.sk-toggleable__label {\n",
       "  background-color: var(--sklearn-color-fitted-level-2);\n",
       "}\n",
       "\n",
       "/* Estimator-specific style */\n",
       "\n",
       "/* Colorize estimator box */\n",
       "#sk-container-id-3 div.sk-estimator input.sk-toggleable__control:checked~label.sk-toggleable__label {\n",
       "  /* unfitted */\n",
       "  background-color: var(--sklearn-color-unfitted-level-2);\n",
       "}\n",
       "\n",
       "#sk-container-id-3 div.sk-estimator.fitted input.sk-toggleable__control:checked~label.sk-toggleable__label {\n",
       "  /* fitted */\n",
       "  background-color: var(--sklearn-color-fitted-level-2);\n",
       "}\n",
       "\n",
       "#sk-container-id-3 div.sk-label label.sk-toggleable__label,\n",
       "#sk-container-id-3 div.sk-label label {\n",
       "  /* The background is the default theme color */\n",
       "  color: var(--sklearn-color-text-on-default-background);\n",
       "}\n",
       "\n",
       "/* On hover, darken the color of the background */\n",
       "#sk-container-id-3 div.sk-label:hover label.sk-toggleable__label {\n",
       "  color: var(--sklearn-color-text);\n",
       "  background-color: var(--sklearn-color-unfitted-level-2);\n",
       "}\n",
       "\n",
       "/* Label box, darken color on hover, fitted */\n",
       "#sk-container-id-3 div.sk-label.fitted:hover label.sk-toggleable__label.fitted {\n",
       "  color: var(--sklearn-color-text);\n",
       "  background-color: var(--sklearn-color-fitted-level-2);\n",
       "}\n",
       "\n",
       "/* Estimator label */\n",
       "\n",
       "#sk-container-id-3 div.sk-label label {\n",
       "  font-family: monospace;\n",
       "  font-weight: bold;\n",
       "  display: inline-block;\n",
       "  line-height: 1.2em;\n",
       "}\n",
       "\n",
       "#sk-container-id-3 div.sk-label-container {\n",
       "  text-align: center;\n",
       "}\n",
       "\n",
       "/* Estimator-specific */\n",
       "#sk-container-id-3 div.sk-estimator {\n",
       "  font-family: monospace;\n",
       "  border: 1px dotted var(--sklearn-color-border-box);\n",
       "  border-radius: 0.25em;\n",
       "  box-sizing: border-box;\n",
       "  margin-bottom: 0.5em;\n",
       "  /* unfitted */\n",
       "  background-color: var(--sklearn-color-unfitted-level-0);\n",
       "}\n",
       "\n",
       "#sk-container-id-3 div.sk-estimator.fitted {\n",
       "  /* fitted */\n",
       "  background-color: var(--sklearn-color-fitted-level-0);\n",
       "}\n",
       "\n",
       "/* on hover */\n",
       "#sk-container-id-3 div.sk-estimator:hover {\n",
       "  /* unfitted */\n",
       "  background-color: var(--sklearn-color-unfitted-level-2);\n",
       "}\n",
       "\n",
       "#sk-container-id-3 div.sk-estimator.fitted:hover {\n",
       "  /* fitted */\n",
       "  background-color: var(--sklearn-color-fitted-level-2);\n",
       "}\n",
       "\n",
       "/* Specification for estimator info (e.g. \"i\" and \"?\") */\n",
       "\n",
       "/* Common style for \"i\" and \"?\" */\n",
       "\n",
       ".sk-estimator-doc-link,\n",
       "a:link.sk-estimator-doc-link,\n",
       "a:visited.sk-estimator-doc-link {\n",
       "  float: right;\n",
       "  font-size: smaller;\n",
       "  line-height: 1em;\n",
       "  font-family: monospace;\n",
       "  background-color: var(--sklearn-color-background);\n",
       "  border-radius: 1em;\n",
       "  height: 1em;\n",
       "  width: 1em;\n",
       "  text-decoration: none !important;\n",
       "  margin-left: 0.5em;\n",
       "  text-align: center;\n",
       "  /* unfitted */\n",
       "  border: var(--sklearn-color-unfitted-level-1) 1pt solid;\n",
       "  color: var(--sklearn-color-unfitted-level-1);\n",
       "}\n",
       "\n",
       ".sk-estimator-doc-link.fitted,\n",
       "a:link.sk-estimator-doc-link.fitted,\n",
       "a:visited.sk-estimator-doc-link.fitted {\n",
       "  /* fitted */\n",
       "  border: var(--sklearn-color-fitted-level-1) 1pt solid;\n",
       "  color: var(--sklearn-color-fitted-level-1);\n",
       "}\n",
       "\n",
       "/* On hover */\n",
       "div.sk-estimator:hover .sk-estimator-doc-link:hover,\n",
       ".sk-estimator-doc-link:hover,\n",
       "div.sk-label-container:hover .sk-estimator-doc-link:hover,\n",
       ".sk-estimator-doc-link:hover {\n",
       "  /* unfitted */\n",
       "  background-color: var(--sklearn-color-unfitted-level-3);\n",
       "  color: var(--sklearn-color-background);\n",
       "  text-decoration: none;\n",
       "}\n",
       "\n",
       "div.sk-estimator.fitted:hover .sk-estimator-doc-link.fitted:hover,\n",
       ".sk-estimator-doc-link.fitted:hover,\n",
       "div.sk-label-container:hover .sk-estimator-doc-link.fitted:hover,\n",
       ".sk-estimator-doc-link.fitted:hover {\n",
       "  /* fitted */\n",
       "  background-color: var(--sklearn-color-fitted-level-3);\n",
       "  color: var(--sklearn-color-background);\n",
       "  text-decoration: none;\n",
       "}\n",
       "\n",
       "/* Span, style for the box shown on hovering the info icon */\n",
       ".sk-estimator-doc-link span {\n",
       "  display: none;\n",
       "  z-index: 9999;\n",
       "  position: relative;\n",
       "  font-weight: normal;\n",
       "  right: .2ex;\n",
       "  padding: .5ex;\n",
       "  margin: .5ex;\n",
       "  width: min-content;\n",
       "  min-width: 20ex;\n",
       "  max-width: 50ex;\n",
       "  color: var(--sklearn-color-text);\n",
       "  box-shadow: 2pt 2pt 4pt #999;\n",
       "  /* unfitted */\n",
       "  background: var(--sklearn-color-unfitted-level-0);\n",
       "  border: .5pt solid var(--sklearn-color-unfitted-level-3);\n",
       "}\n",
       "\n",
       ".sk-estimator-doc-link.fitted span {\n",
       "  /* fitted */\n",
       "  background: var(--sklearn-color-fitted-level-0);\n",
       "  border: var(--sklearn-color-fitted-level-3);\n",
       "}\n",
       "\n",
       ".sk-estimator-doc-link:hover span {\n",
       "  display: block;\n",
       "}\n",
       "\n",
       "/* \"?\"-specific style due to the `<a>` HTML tag */\n",
       "\n",
       "#sk-container-id-3 a.estimator_doc_link {\n",
       "  float: right;\n",
       "  font-size: 1rem;\n",
       "  line-height: 1em;\n",
       "  font-family: monospace;\n",
       "  background-color: var(--sklearn-color-background);\n",
       "  border-radius: 1rem;\n",
       "  height: 1rem;\n",
       "  width: 1rem;\n",
       "  text-decoration: none;\n",
       "  /* unfitted */\n",
       "  color: var(--sklearn-color-unfitted-level-1);\n",
       "  border: var(--sklearn-color-unfitted-level-1) 1pt solid;\n",
       "}\n",
       "\n",
       "#sk-container-id-3 a.estimator_doc_link.fitted {\n",
       "  /* fitted */\n",
       "  border: var(--sklearn-color-fitted-level-1) 1pt solid;\n",
       "  color: var(--sklearn-color-fitted-level-1);\n",
       "}\n",
       "\n",
       "/* On hover */\n",
       "#sk-container-id-3 a.estimator_doc_link:hover {\n",
       "  /* unfitted */\n",
       "  background-color: var(--sklearn-color-unfitted-level-3);\n",
       "  color: var(--sklearn-color-background);\n",
       "  text-decoration: none;\n",
       "}\n",
       "\n",
       "#sk-container-id-3 a.estimator_doc_link.fitted:hover {\n",
       "  /* fitted */\n",
       "  background-color: var(--sklearn-color-fitted-level-3);\n",
       "}\n",
       "</style><div id=\"sk-container-id-3\" class=\"sk-top-container\"><div class=\"sk-text-repr-fallback\"><pre>DecisionTreeClassifier()</pre><b>In a Jupyter environment, please rerun this cell to show the HTML representation or trust the notebook. <br />On GitHub, the HTML representation is unable to render, please try loading this page with nbviewer.org.</b></div><div class=\"sk-container\" hidden><div class=\"sk-item\"><div class=\"sk-estimator fitted sk-toggleable\"><input class=\"sk-toggleable__control sk-hidden--visually\" id=\"sk-estimator-id-3\" type=\"checkbox\" checked><label for=\"sk-estimator-id-3\" class=\"sk-toggleable__label fitted sk-toggleable__label-arrow\"><div><div>DecisionTreeClassifier</div></div><div><a class=\"sk-estimator-doc-link fitted\" rel=\"noreferrer\" target=\"_blank\" href=\"https://scikit-learn.org/1.6/modules/generated/sklearn.tree.DecisionTreeClassifier.html\">?<span>Documentation for DecisionTreeClassifier</span></a><span class=\"sk-estimator-doc-link fitted\">i<span>Fitted</span></span></div></label><div class=\"sk-toggleable__content fitted\"><pre>DecisionTreeClassifier()</pre></div> </div></div></div></div>"
      ]
     },
     "execution_count": 59,
     "metadata": {},
     "output_type": "execute_result"
    }
   ],
   "execution_count": 59
  },
  {
   "metadata": {
    "ExecuteTime": {
     "end_time": "2025-07-16T06:21:34.486724Z",
     "start_time": "2025-07-16T06:21:34.484650Z"
    }
   },
   "cell_type": "code",
   "source": [
    "# test_X을 바탕으로 예측한 값을 저장합니다\n",
    "pred_test = dt_cls.predict(test_X)"
   ],
   "id": "e40544a5",
   "outputs": [],
   "execution_count": 61
  },
  {
   "metadata": {
    "ExecuteTime": {
     "end_time": "2025-07-16T06:22:08.699017Z",
     "start_time": "2025-07-16T06:22:08.697070Z"
    }
   },
   "cell_type": "code",
   "source": "test_Y[0], pred_test[0]",
   "id": "6fee67f8aca4bd20",
   "outputs": [
    {
     "data": {
      "text/plain": [
       "(1, 1)"
      ]
     },
     "execution_count": 62,
     "metadata": {},
     "output_type": "execute_result"
    }
   ],
   "execution_count": 62
  },
  {
   "metadata": {
    "ExecuteTime": {
     "end_time": "2025-07-16T06:22:26.306813Z",
     "start_time": "2025-07-16T06:22:26.304107Z"
    }
   },
   "cell_type": "code",
   "source": "test_Y[99], pred_test[99]",
   "id": "6bb0642da8aaa5ac",
   "outputs": [
    {
     "data": {
      "text/plain": [
       "(0, 0)"
      ]
     },
     "execution_count": 63,
     "metadata": {},
     "output_type": "execute_result"
    }
   ],
   "execution_count": 63
  },
  {
   "cell_type": "markdown",
   "id": "e6eb8846",
   "metadata": {},
   "source": [
    "### 혼동 행렬 계산하기\n",
    "\n",
    "- sklearn 안에는 위 4개 평가 값을 얻기 위해 사용할 수 있는 기능이 정의되어 있다.\n",
    "  - `confusion_matrix(y_true, y_pred)`\n",
    "    - Confusion matrix의 값을 `np.ndarray`로 반환해 준다.\n"
   ]
  },
  {
   "cell_type": "markdown",
   "id": "3dffeb35",
   "metadata": {},
   "source": [
    "`sklearn.metrics.confusion_matrix()`\n",
    "\n",
    "```python\n",
    "sklearn.metrics.confusion_matrix(Y, predictions)\n",
    "```\n",
    "\n",
    "사이킷런에서 `sklearn.metrics.confusion_matrix()` 로 결과를 2x2 배열 형태로 왼쪽 오른쪽 순서로 TN, FP, FN, TP 로 출력해 준다."
   ]
  },
  {
   "cell_type": "markdown",
   "id": "f5beb6ae",
   "metadata": {},
   "source": [
    "- `load_breast_cancer`\n",
    "    - 유방암 유무 판별 데이터를 불러오는 함수\n",
    "    - `X` (Feature 데이터) : 30개의 환자 데이터\n",
    "    - `Y` (Label 데이터) : 0 음성(악성), 1 양성(정상)\n",
    "\n",
    "\n",
    "이번 실습에서는 2개의 클래스를 가진 분류 데이터를 이용하여 혼동 행렬을 직접 출력해 보고, 확인해 보자."
   ]
  },
  {
   "cell_type": "code",
   "id": "8ab3cf5d",
   "metadata": {
    "ExecuteTime": {
     "end_time": "2025-07-16T06:24:08.281645Z",
     "start_time": "2025-07-16T06:24:08.279273Z"
    }
   },
   "source": [
    "# 혼동 행렬을 계산합니다\n",
    "\n",
    "cm = confusion_matrix(test_Y, pred_test)\n",
    "print('Confusion Matrix : \\n {}'.format(cm))\n"
   ],
   "outputs": [
    {
     "name": "stdout",
     "output_type": "stream",
     "text": [
      "Confusion Matrix : \n",
      " [[39  4]\n",
      " [ 3 68]]\n"
     ]
    }
   ],
   "execution_count": 65
  },
  {
   "cell_type": "code",
   "id": "b4b8a887",
   "metadata": {
    "ExecuteTime": {
     "end_time": "2025-07-16T06:25:13.745434Z",
     "start_time": "2025-07-16T06:25:13.696519Z"
    }
   },
   "source": [
    "# 혼동 행렬의 heatmap 출력합니다\n",
    "fig = plt.figure(figsize=(5,5))\n",
    "\n",
    "ax = sns.heatmap(cm, annot=True, fmt=\"d\", cmap=\"Blues\")\n",
    "\n",
    "ax.set(title='Confusion Matrix',\n",
    "            ylabel='True label',\n",
    "            xlabel='Predicted label')\n",
    "plt.show()\n"
   ],
   "outputs": [
    {
     "data": {
      "text/plain": [
       "<Figure size 500x500 with 2 Axes>"
      ],
      "image/png": "[encoded data removed]"
     },
     "metadata": {},
     "output_type": "display_data"
    }
   ],
   "execution_count": 69
  },
  {
   "cell_type": "markdown",
   "id": "dd22bcae",
   "metadata": {},
   "source": [
    "#### 정확도(Accuracy) 계산하기\n",
    "\n",
    "위의 결과를 바탕으로 분류 성능에 간단하면서도 중요한 정확도를 계산하여 모델의 성능을 판별해 보자.\n",
    "\n",
    "이번 실습에서는 학습용 데이터와 평가용 데이터의 정확도를 계산하고 그 성능을 비교해 보겠다.\n"
   ]
  },
  {
   "cell_type": "code",
   "id": "f41cc6a4",
   "metadata": {
    "ExecuteTime": {
     "end_time": "2025-07-16T06:29:24.245971Z",
     "start_time": "2025-07-16T06:29:24.242458Z"
    }
   },
   "source": [
    "# train_X, test_X 각각 예측한 값을 저장합니다\n",
    "pred1 = dt_cls.predict(train_X)\n",
    "pred2 = dt_cls.predict(test_X)\n",
    "\n",
    "# 혼동 행렬을 계산합니다\n",
    "cm_train = confusion_matrix(train_Y, pred1)\n",
    "cm_test = confusion_matrix(test_Y, pred2)\n",
    "\n",
    "print('train_X Confusion Matrix : \\n {}'.format(cm_train))\n",
    "print('test_X Confusion Matrix : \\n {}'.format(cm_test))\n"
   ],
   "outputs": [
    {
     "name": "stdout",
     "output_type": "stream",
     "text": [
      "train_X Confusion Matrix : \n",
      " [[169   0]\n",
      " [  0 286]]\n",
      "test_X Confusion Matrix : \n",
      " [[39  4]\n",
      " [ 3 68]]\n"
     ]
    }
   ],
   "execution_count": 71
  },
  {
   "cell_type": "code",
   "id": "93d5094f41d27c7c",
   "metadata": {
    "ExecuteTime": {
     "end_time": "2025-07-16T06:35:17.336967Z",
     "start_time": "2025-07-16T06:35:17.331800Z"
    }
   },
   "source": [
    "# train_X, train_Y 정확도를 계산합니다.\n",
    "dt_cls.score(train_X, train_Y)"
   ],
   "outputs": [
    {
     "data": {
      "text/plain": [
       "1.0"
      ]
     },
     "execution_count": 83,
     "metadata": {},
     "output_type": "execute_result"
    }
   ],
   "execution_count": 83
  },
  {
   "metadata": {
    "ExecuteTime": {
     "end_time": "2025-07-16T06:35:17.613082Z",
     "start_time": "2025-07-16T06:35:17.608292Z"
    }
   },
   "cell_type": "code",
   "source": "dt_cls.score(test_X, test_Y)",
   "id": "e647a45440f52011",
   "outputs": [
    {
     "data": {
      "text/plain": [
       "0.9385964912280702"
      ]
     },
     "execution_count": 84,
     "metadata": {},
     "output_type": "execute_result"
    }
   ],
   "execution_count": 84
  },
  {
   "metadata": {
    "ExecuteTime": {
     "end_time": "2025-07-16T06:35:18.054132Z",
     "start_time": "2025-07-16T06:35:18.051207Z"
    }
   },
   "cell_type": "code",
   "source": "accuracy_score(train_Y, pred1)  # 위와 동일",
   "id": "822820b1dd6d3e63",
   "outputs": [
    {
     "data": {
      "text/plain": [
       "1.0"
      ]
     },
     "execution_count": 85,
     "metadata": {},
     "output_type": "execute_result"
    }
   ],
   "execution_count": 85
  },
  {
   "metadata": {
    "ExecuteTime": {
     "end_time": "2025-07-16T06:35:18.521887Z",
     "start_time": "2025-07-16T06:35:18.519090Z"
    }
   },
   "cell_type": "code",
   "source": [
    "# test_X, test_Y 정확도를 계산합니다.\n",
    "accuracy_score(test_Y, pred2)     # 위와 동일"
   ],
   "id": "aec99324",
   "outputs": [
    {
     "data": {
      "text/plain": [
       "0.9385964912280702"
      ]
     },
     "execution_count": 86,
     "metadata": {},
     "output_type": "execute_result"
    }
   ],
   "execution_count": 86
  },
  {
   "cell_type": "markdown",
   "id": "543ebfb9",
   "metadata": {},
   "source": [
    "\n",
    "- `score`를 사용하여 `train_X`에 대한 정확도를 계산하여 `acc_train`에 저장\n",
    "- `score`를 사용하여 `test_X`에 대한 정확도를 계산하여 `acc_test`에 저장\n",
    "\n"
   ]
  },
  {
   "cell_type": "markdown",
   "id": "9d3f2582",
   "metadata": {},
   "source": [
    "#### 정밀도(Precision), 재현율(Recall) 계산하기\n",
    "\n",
    "위의 결과를 바탕으로 분류 지표 중 정밀도와 재현율을 계산하여 모델의 성능을 판별해 보자.\n",
    "\n",
    "이번 실습에서는 학습용 데이터와 평가용 데이터의 정밀도와 재현율을 계산하고 그 성능을 비교해 보겠다.\n",
    "\n",
    "- 정밀도와 재현율 계산을 위한 sklearn 함수\n",
    "  - **`precision_score(train_Y, y_pred_train)`**\n",
    "    - 학습용 데이터에 대한 정밀도(precision) 값을 계산\n",
    "  - **`recall_score(train_Y, y_pred_train)`**\n",
    "    - 학습용 데이터에 대한 재현율(recall) 값을 계산\n",
    "  - `load_breast_cancer`\n",
    "    - 유방암 유무 판별 데이터를 불러오는 함수\n",
    "    - `X`(Feature 데이터) : 30개의 환자 데이터\n",
    "    - `Y`(Label 데이터) : 0 음성(악성), 1 양성(정상)\n",
    "\n",
    "```\n"
   ]
  },
  {
   "cell_type": "code",
   "id": "59e78dfa0c12f89d",
   "metadata": {
    "ExecuteTime": {
     "end_time": "2025-07-16T06:35:39.255380Z",
     "start_time": "2025-07-16T06:35:39.253546Z"
    }
   },
   "source": [
    "from sklearn.metrics import precision_score\n",
    "from sklearn.metrics import recall_score"
   ],
   "outputs": [],
   "execution_count": 87
  },
  {
   "metadata": {
    "ExecuteTime": {
     "end_time": "2025-07-16T06:37:10.677389Z",
     "start_time": "2025-07-16T06:37:10.670964Z"
    }
   },
   "cell_type": "code",
   "source": [
    "#1. 정밀도를 계산합니다.\n",
    "precision_train = precision_score(train_Y, pred1)\n",
    "precision_test = precision_score(test_Y, pred2)\n",
    "\n",
    "# 정밀도를 출력합니다.\n",
    "print('train_X Precision: %f'%precision_train)     # train_X Precision: 1.000000\n",
    "print('test_X Precision: %f'%precision_test,'\\n')  # test_X Precision: 0.944444\n",
    "\n",
    "#2. 재현율을 계산합니다.\n",
    "recall_train = recall_score(train_Y, pred1)\n",
    "recall_test = recall_score(test_Y, pred2)\n",
    "\n",
    "# 재현율을 출력합니다.\n",
    "print('train_X Recall: %f'%recall_train)  # train_X Recall: 1.000000\n",
    "print('test_X Recall: %f'%recall_test)    # test_X Recall: 0.957746"
   ],
   "id": "5454f1e1",
   "outputs": [
    {
     "name": "stdout",
     "output_type": "stream",
     "text": [
      "train_X Precision: 1.000000\n",
      "test_X Precision: 0.944444 \n",
      "\n",
      "train_X Recall: 1.000000\n",
      "test_X Recall: 0.957746\n"
     ]
    }
   ],
   "execution_count": 89
  },
  {
   "cell_type": "markdown",
   "id": "ee18224c",
   "metadata": {},
   "source": [
    "```\n",
    "\n",
    "- `precision_score`를 사용하여 학습용, 평가용 데이터에 대한 정밀도를 계산하여 `precision_train`, `precision_test`에 저장\n",
    "- `recall_score`를 사용하여 학습용, 평가용 데이터에 대한 재현율을 계산하여 `recall_train`, `recall_test`에 저장\n"
   ]
  },
  {
   "cell_type": "markdown",
   "id": "9cd271a2",
   "metadata": {},
   "source": [
    "### Classification Report\n",
    "\n",
    "sklear.metrics.classification_report 는 평가 정보를 제공할 수 있다."
   ]
  },
  {
   "cell_type": "code",
   "id": "abc22376",
   "metadata": {
    "ExecuteTime": {
     "end_time": "2025-07-16T06:41:15.528926Z",
     "start_time": "2025-07-16T06:41:15.523335Z"
    }
   },
   "source": [
    "from sklearn.metrics import classification_report\n",
    "result = classification_report(test_Y, pred2)\n",
    "print(result)"
   ],
   "outputs": [
    {
     "name": "stdout",
     "output_type": "stream",
     "text": [
      "              precision    recall  f1-score   support\n",
      "\n",
      "           0       0.93      0.91      0.92        43\n",
      "           1       0.94      0.96      0.95        71\n",
      "\n",
      "    accuracy                           0.94       114\n",
      "   macro avg       0.94      0.93      0.93       114\n",
      "weighted avg       0.94      0.94      0.94       114\n",
      "\n"
     ]
    }
   ],
   "execution_count": 92
  }
 ],
 "metadata": {
  "kernelspec": {
   "display_name": "DL_P312",
   "language": "python",
   "name": "python3"
  },
  "language_info": {
   "codemirror_mode": {
    "name": "ipython",
    "version": 3
   },
   "file_extension": ".py",
   "mimetype": "text/x-python",
   "name": "python",
   "nbconvert_exporter": "python",
   "pygments_lexer": "ipython3",
   "version": "3.12.11"
  }
 },
 "nbformat": 4,
 "nbformat_minor": 5
}
