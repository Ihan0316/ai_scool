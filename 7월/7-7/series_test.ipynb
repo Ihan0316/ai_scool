{
 "cells": [
  {
   "metadata": {
    "ExecuteTime": {
     "end_time": "2025-07-07T04:27:20.940089Z",
     "start_time": "2025-07-07T04:27:20.937804Z"
    }
   },
   "cell_type": "code",
   "source": [
    "import pandas as pd\n",
    "from torch import dtype\n",
    "\n",
    "print(pd.__version__)"
   ],
   "id": "ae5f2ff6da3a8a3",
   "outputs": [
    {
     "name": "stdout",
     "output_type": "stream",
     "text": [
      "2.2.3\n"
     ]
    }
   ],
   "execution_count": 63
  },
  {
   "metadata": {
    "ExecuteTime": {
     "end_time": "2025-07-07T04:27:20.961701Z",
     "start_time": "2025-07-07T04:27:20.959660Z"
    }
   },
   "cell_type": "code",
   "source": [
    "data1 = [10, 20, 30, 40, 50]\n",
    "print(data1, type(data1))"
   ],
   "id": "ab48e27c34d61bf1",
   "outputs": [
    {
     "name": "stdout",
     "output_type": "stream",
     "text": [
      "[10, 20, 30, 40, 50] <class 'list'>\n"
     ]
    }
   ],
   "execution_count": 64
  },
  {
   "metadata": {
    "ExecuteTime": {
     "end_time": "2025-07-07T04:27:20.973515Z",
     "start_time": "2025-07-07T04:27:20.971842Z"
    }
   },
   "cell_type": "code",
   "source": [
    "data2 = ['1반', '2반', '3반', '4반', '5반']\n",
    "print(data2, type(data2))"
   ],
   "id": "4204b30923c69fab",
   "outputs": [
    {
     "name": "stdout",
     "output_type": "stream",
     "text": [
      "['1반', '2반', '3반', '4반', '5반'] <class 'list'>\n"
     ]
    }
   ],
   "execution_count": 65
  },
  {
   "metadata": {
    "ExecuteTime": {
     "end_time": "2025-07-07T04:27:20.986904Z",
     "start_time": "2025-07-07T04:27:20.985064Z"
    }
   },
   "cell_type": "code",
   "source": [
    "sr1 = pd.Series(data1)\n",
    "print(sr1, type(sr1))"
   ],
   "id": "4c24b009220afb7e",
   "outputs": [
    {
     "name": "stdout",
     "output_type": "stream",
     "text": [
      "0    10\n",
      "1    20\n",
      "2    30\n",
      "3    40\n",
      "4    50\n",
      "dtype: int64 <class 'pandas.core.series.Series'>\n"
     ]
    }
   ],
   "execution_count": 66
  },
  {
   "metadata": {
    "ExecuteTime": {
     "end_time": "2025-07-07T04:27:21.001852Z",
     "start_time": "2025-07-07T04:27:21.000098Z"
    }
   },
   "cell_type": "code",
   "source": [
    "sr2 = pd.Series(data2)\n",
    "print(sr2, type(sr2))"
   ],
   "id": "d273d75fca94d4f6",
   "outputs": [
    {
     "name": "stdout",
     "output_type": "stream",
     "text": [
      "0    1반\n",
      "1    2반\n",
      "2    3반\n",
      "3    4반\n",
      "4    5반\n",
      "dtype: object <class 'pandas.core.series.Series'>\n"
     ]
    }
   ],
   "execution_count": 67
  },
  {
   "metadata": {
    "ExecuteTime": {
     "end_time": "2025-07-07T04:27:21.018912Z",
     "start_time": "2025-07-07T04:27:21.016992Z"
    }
   },
   "cell_type": "code",
   "source": [
    "sr3 = pd.Series([101, 102, 103, 104, 105])\n",
    "print(sr3, type(sr3))"
   ],
   "id": "35063379dd0b122c",
   "outputs": [
    {
     "name": "stdout",
     "output_type": "stream",
     "text": [
      "0    101\n",
      "1    102\n",
      "2    103\n",
      "3    104\n",
      "4    105\n",
      "dtype: int64 <class 'pandas.core.series.Series'>\n"
     ]
    }
   ],
   "execution_count": 68
  },
  {
   "metadata": {
    "ExecuteTime": {
     "end_time": "2025-07-07T04:27:21.033344Z",
     "start_time": "2025-07-07T04:27:21.031313Z"
    }
   },
   "cell_type": "code",
   "source": [
    "sr4 = pd.Series(['월', '화', '수', '목', '금'])\n",
    "print(sr4, type(sr4))"
   ],
   "id": "39f6d71e7f2451d7",
   "outputs": [
    {
     "name": "stdout",
     "output_type": "stream",
     "text": [
      "0    월\n",
      "1    화\n",
      "2    수\n",
      "3    목\n",
      "4    금\n",
      "dtype: object <class 'pandas.core.series.Series'>\n"
     ]
    }
   ],
   "execution_count": 69
  },
  {
   "metadata": {
    "ExecuteTime": {
     "end_time": "2025-07-07T04:27:21.053913Z",
     "start_time": "2025-07-07T04:27:21.051938Z"
    }
   },
   "cell_type": "code",
   "source": [
    "sr5 = pd.Series(data1, index = [1000, 1001, 1002, 1003, 1004])\n",
    "print(sr5, type(sr5))"
   ],
   "id": "e3d8bab88c81b7d5",
   "outputs": [
    {
     "name": "stdout",
     "output_type": "stream",
     "text": [
      "1000    10\n",
      "1001    20\n",
      "1002    30\n",
      "1003    40\n",
      "1004    50\n",
      "dtype: int64 <class 'pandas.core.series.Series'>\n"
     ]
    }
   ],
   "execution_count": 70
  },
  {
   "metadata": {
    "ExecuteTime": {
     "end_time": "2025-07-07T04:27:21.080714Z",
     "start_time": "2025-07-07T04:27:21.078791Z"
    }
   },
   "cell_type": "code",
   "source": [
    "sr6 = pd.Series(data1, index = data2)\n",
    "print(sr6, type(sr6))"
   ],
   "id": "9209171fd24a32d6",
   "outputs": [
    {
     "name": "stdout",
     "output_type": "stream",
     "text": [
      "1반    10\n",
      "2반    20\n",
      "3반    30\n",
      "4반    40\n",
      "5반    50\n",
      "dtype: int64 <class 'pandas.core.series.Series'>\n"
     ]
    }
   ],
   "execution_count": 71
  },
  {
   "metadata": {
    "ExecuteTime": {
     "end_time": "2025-07-07T04:27:21.103806Z",
     "start_time": "2025-07-07T04:27:21.101905Z"
    }
   },
   "cell_type": "code",
   "source": [
    "sr7 = pd.Series(data2, index = data1)\n",
    "print(sr7, type(sr7))"
   ],
   "id": "ec48df7ba8dc0352",
   "outputs": [
    {
     "name": "stdout",
     "output_type": "stream",
     "text": [
      "10    1반\n",
      "20    2반\n",
      "30    3반\n",
      "40    4반\n",
      "50    5반\n",
      "dtype: object <class 'pandas.core.series.Series'>\n"
     ]
    }
   ],
   "execution_count": 72
  },
  {
   "metadata": {
    "ExecuteTime": {
     "end_time": "2025-07-07T04:27:21.119694Z",
     "start_time": "2025-07-07T04:27:21.117109Z"
    }
   },
   "cell_type": "code",
   "source": [
    "sr8 = pd.Series(data2, index = sr4)\n",
    "print(sr8, type(sr8))\n",
    "print(sr8[2])\n",
    "print(sr8['수'])\n",
    "print(sr8[-1])\n",
    "print(sr8[0:4])\n",
    "print(sr8.values)\n",
    "print(sr8.index)"
   ],
   "id": "3f5fdb46a338bc89",
   "outputs": [
    {
     "name": "stdout",
     "output_type": "stream",
     "text": [
      "월    1반\n",
      "화    2반\n",
      "수    3반\n",
      "목    4반\n",
      "금    5반\n",
      "dtype: object <class 'pandas.core.series.Series'>\n",
      "3반\n",
      "3반\n",
      "5반\n",
      "월    1반\n",
      "화    2반\n",
      "수    3반\n",
      "목    4반\n",
      "dtype: object\n",
      "['1반' '2반' '3반' '4반' '5반']\n",
      "Index(['월', '화', '수', '목', '금'], dtype='object')\n"
     ]
    },
    {
     "name": "stderr",
     "output_type": "stream",
     "text": [
      "/var/folders/x_/xf7w4xhx6kl03__yxdgdfl9m0000gn/T/ipykernel_25499/704633765.py:3: FutureWarning: Series.__getitem__ treating keys as positions is deprecated. In a future version, integer keys will always be treated as labels (consistent with DataFrame behavior). To access a value by position, use `ser.iloc[pos]`\n",
      "  print(sr8[2])\n",
      "/var/folders/x_/xf7w4xhx6kl03__yxdgdfl9m0000gn/T/ipykernel_25499/704633765.py:5: FutureWarning: Series.__getitem__ treating keys as positions is deprecated. In a future version, integer keys will always be treated as labels (consistent with DataFrame behavior). To access a value by position, use `ser.iloc[pos]`\n",
      "  print(sr8[-1])\n"
     ]
    }
   ],
   "execution_count": 73
  },
  {
   "metadata": {
    "ExecuteTime": {
     "end_time": "2025-07-07T04:27:21.139341Z",
     "start_time": "2025-07-07T04:27:21.137387Z"
    }
   },
   "cell_type": "code",
   "source": "print(sr1+sr3)",
   "id": "997fa43a496240d8",
   "outputs": [
    {
     "name": "stdout",
     "output_type": "stream",
     "text": [
      "0    111\n",
      "1    122\n",
      "2    133\n",
      "3    144\n",
      "4    155\n",
      "dtype: int64\n"
     ]
    }
   ],
   "execution_count": 74
  },
  {
   "metadata": {
    "ExecuteTime": {
     "end_time": "2025-07-07T04:27:21.167424Z",
     "start_time": "2025-07-07T04:27:21.165294Z"
    }
   },
   "cell_type": "code",
   "source": "print(sr4 + sr2)",
   "id": "13128cdfd4add0bc",
   "outputs": [
    {
     "name": "stdout",
     "output_type": "stream",
     "text": [
      "0    월1반\n",
      "1    화2반\n",
      "2    수3반\n",
      "3    목4반\n",
      "4    금5반\n",
      "dtype: object\n"
     ]
    }
   ],
   "execution_count": 75
  }
 ],
 "metadata": {
  "kernelspec": {
   "display_name": "Python 3",
   "language": "python",
   "name": "python3"
  },
  "language_info": {
   "codemirror_mode": {
    "name": "ipython",
    "version": 2
   },
   "file_extension": ".py",
   "mimetype": "text/x-python",
   "name": "python",
   "nbconvert_exporter": "python",
   "pygments_lexer": "ipython2",
   "version": "2.7.6"
  }
 },
 "nbformat": 4,
 "nbformat_minor": 5
}
