{
 "cells": [
  {
   "cell_type": "code",
   "id": "initial_id",
   "metadata": {
    "collapsed": true,
    "ExecuteTime": {
     "end_time": "2025-07-07T04:36:34.806889Z",
     "start_time": "2025-07-07T04:36:34.803664Z"
    }
   },
   "source": [
    "import pandas as pd\n",
    "\n",
    "data_dic = {\n",
    "    'year' :[2018, 2019, 2020],\n",
    "    'sales' : [350, 480, 1099]\n",
    "}\n",
    "\n",
    "data_dic"
   ],
   "outputs": [
    {
     "data": {
      "text/plain": [
       "{'year': [2018, 2019, 2020], 'sales': [350, 480, 1099]}"
      ]
     },
     "execution_count": 12,
     "metadata": {},
     "output_type": "execute_result"
    }
   ],
   "execution_count": 12
  },
  {
   "metadata": {
    "ExecuteTime": {
     "end_time": "2025-07-07T04:32:39.798717Z",
     "start_time": "2025-07-07T04:32:39.796465Z"
    }
   },
   "cell_type": "code",
   "source": [
    "data2 = ['1반', '2반', '3반', '4반', '5반']\n",
    "print(data2, type(data2))"
   ],
   "id": "fe2be94d994c409",
   "outputs": [
    {
     "name": "stdout",
     "output_type": "stream",
     "text": [
      "['1반', '2반', '3반', '4반', '5반'] <class 'list'>\n"
     ]
    }
   ],
   "execution_count": 6
  },
  {
   "metadata": {
    "ExecuteTime": {
     "end_time": "2025-07-07T04:32:39.817029Z",
     "start_time": "2025-07-07T04:32:39.814757Z"
    }
   },
   "cell_type": "code",
   "source": [
    "df1 = pd.DataFrame(data_dic)\n",
    "df1"
   ],
   "id": "4c653587e3d03956",
   "outputs": [
    {
     "name": "stdout",
     "output_type": "stream",
     "text": [
      "   year  sales\n",
      "0  2018    350\n",
      "1  2019    480\n",
      "2  2020   1099\n"
     ]
    }
   ],
   "execution_count": 7
  },
  {
   "metadata": {},
   "cell_type": "code",
   "outputs": [],
   "execution_count": null,
   "source": [
    "df2 = pd.DataFrame([[89.2, 92.5, 90.8], [92.8, 89.9, 95.2]], index=['중간고사', '기말고사'], columns = data2[0:3])\n",
    "df2"
   ],
   "id": "bbdb56b5108ef0c5"
  },
  {
   "metadata": {
    "ExecuteTime": {
     "end_time": "2025-07-07T04:47:52.832333Z",
     "start_time": "2025-07-07T04:47:52.823250Z"
    }
   },
   "cell_type": "code",
   "source": [
    "data_df = [['20201101', 'Hong', '90', '95'],\n",
    "           ['20201102','Kim', '93', '94'],\n",
    "           ['20201103', 'Lee', '87', '97']]\n",
    "df3 = pd.DataFrame(data_df)\n",
    "print(df3)\n",
    "\n",
    "df3.columns = ['학번', '이름', '중간고사', '기말고사']\n",
    "print(df3)\n",
    "\n",
    "print(df3.head(2))\n",
    "print(df3.tail(2))\n",
    "print(df3['이름'])\n",
    "\n",
    "df3.to_csv('score.csv', header = 'False')"
   ],
   "id": "79498e300a4a41c2",
   "outputs": [
    {
     "name": "stdout",
     "output_type": "stream",
     "text": [
      "          0     1   2   3\n",
      "0  20201101  Hong  90  95\n",
      "1  20201102   Kim  93  94\n",
      "2  20201103   Lee  87  97\n",
      "         학번    이름 중간고사 기말고사\n",
      "0  20201101  Hong   90   95\n",
      "1  20201102   Kim   93   94\n",
      "2  20201103   Lee   87   97\n",
      "         학번    이름 중간고사 기말고사\n",
      "0  20201101  Hong   90   95\n",
      "1  20201102   Kim   93   94\n",
      "         학번   이름 중간고사 기말고사\n",
      "1  20201102  Kim   93   94\n",
      "2  20201103  Lee   87   97\n",
      "0    Hong\n",
      "1     Kim\n",
      "2     Lee\n",
      "Name: 이름, dtype: object\n"
     ]
    }
   ],
   "execution_count": 16
  },
  {
   "metadata": {
    "ExecuteTime": {
     "end_time": "2025-07-07T05:04:47.297563Z",
     "start_time": "2025-07-07T05:04:47.291963Z"
    }
   },
   "cell_type": "code",
   "source": [
    "df4 = pd.read_csv('score.csv', index_col = 0, engine='python')\n",
    "df4"
   ],
   "id": "f2f9455ae40c9024",
   "outputs": [
    {
     "data": {
      "text/plain": [
       "         학번    이름  중간고사  기말고사\n",
       "0  20201101  Hong    90    95\n",
       "1  20201102   Kim    93    94\n",
       "2  20201103   Lee    87    97"
      ],
      "text/html": [
       "<div>\n",
       "<style scoped>\n",
       "    .dataframe tbody tr th:only-of-type {\n",
       "        vertical-align: middle;\n",
       "    }\n",
       "\n",
       "    .dataframe tbody tr th {\n",
       "        vertical-align: top;\n",
       "    }\n",
       "\n",
       "    .dataframe thead th {\n",
       "        text-align: right;\n",
       "    }\n",
       "</style>\n",
       "<table border=\"1\" class=\"dataframe\">\n",
       "  <thead>\n",
       "    <tr style=\"text-align: right;\">\n",
       "      <th></th>\n",
       "      <th>학번</th>\n",
       "      <th>이름</th>\n",
       "      <th>중간고사</th>\n",
       "      <th>기말고사</th>\n",
       "    </tr>\n",
       "  </thead>\n",
       "  <tbody>\n",
       "    <tr>\n",
       "      <th>0</th>\n",
       "      <td>20201101</td>\n",
       "      <td>Hong</td>\n",
       "      <td>90</td>\n",
       "      <td>95</td>\n",
       "    </tr>\n",
       "    <tr>\n",
       "      <th>1</th>\n",
       "      <td>20201102</td>\n",
       "      <td>Kim</td>\n",
       "      <td>93</td>\n",
       "      <td>94</td>\n",
       "    </tr>\n",
       "    <tr>\n",
       "      <th>2</th>\n",
       "      <td>20201103</td>\n",
       "      <td>Lee</td>\n",
       "      <td>87</td>\n",
       "      <td>97</td>\n",
       "    </tr>\n",
       "  </tbody>\n",
       "</table>\n",
       "</div>"
      ]
     },
     "execution_count": 19,
     "metadata": {},
     "output_type": "execute_result"
    }
   ],
   "execution_count": 19
  }
 ],
 "metadata": {
  "kernelspec": {
   "display_name": "Python 3",
   "language": "python",
   "name": "python3"
  },
  "language_info": {
   "codemirror_mode": {
    "name": "ipython",
    "version": 2
   },
   "file_extension": ".py",
   "mimetype": "text/x-python",
   "name": "python",
   "nbconvert_exporter": "python",
   "pygments_lexer": "ipython2",
   "version": "2.7.6"
  }
 },
 "nbformat": 4,
 "nbformat_minor": 5
}
