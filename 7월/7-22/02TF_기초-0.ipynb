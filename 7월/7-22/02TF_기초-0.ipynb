{
 "cells": [
  {
   "cell_type": "markdown",
   "metadata": {
    "id": "Y6VWY29zE5tr"
   },
   "source": [
    "# 텐서플로우 기초\n",
    "\n",
    "https://www.tensorflow.org/guide/effective_tf2?hl=ko"
   ]
  },
  {
   "cell_type": "markdown",
   "metadata": {
    "id": "P8JORQiSiMHa"
   },
   "source": [
    "#### tensorflow 설치\n",
    "\n",
    "https://www.tensorflow.org/install/pip?hl=ko"
   ]
  },
  {
   "cell_type": "markdown",
   "metadata": {
    "id": "M61NvkPViMHa"
   },
   "source": [
    "**[pip 에서 설치]**\n",
    "\n",
    "tensorflow 와 Cuda 를 설치\n",
    "\n",
    "```sh\n",
    "$ pip install --upgrade pip\n",
    "$ pip install tensorflow[and-cuda]\n",
    "$ pip install keras --upgrade\n",
    "```\n"
   ]
  },
  {
   "cell_type": "markdown",
   "metadata": {
    "id": "_0ZixCuFiMHb"
   },
   "source": [
    "**[conda 로  설치]**\n",
    "\n",
    "```sh\n",
    "conda install -c conda-forge  tensorflow[and-cuda]\n",
    "conda install -c conda-forge keras\n",
    "```\n"
   ]
  },
  {
   "cell_type": "markdown",
   "metadata": {
    "id": "ArfO8Q__iMHb"
   },
   "source": [
    "scikit-learn 도 유틸리티로 자주 사용된다.\n",
    "\n",
    "```sh\n",
    "$ pip install -U scikit-learn\n",
    "```\n"
   ]
  },
  {
   "cell_type": "markdown",
   "metadata": {
    "id": "W1RiSyZHiMHb"
   },
   "source": [
    "텐서플로우 설치 확인"
   ]
  },
  {
   "cell_type": "code",
   "metadata": {
    "colab": {
     "base_uri": "https://localhost:8080/"
    },
    "executionInfo": {
     "elapsed": 6733,
     "status": "ok",
     "timestamp": 1753144396922,
     "user": {
      "displayName": "고강태 강사",
      "userId": "11816854931407731745"
     },
     "user_tz": -540
    },
    "id": "7cjOebVyiMHb",
    "outputId": "2fe70982-d137-423c-95e2-1cbc7cca814c",
    "ExecuteTime": {
     "end_time": "2025-07-24T09:46:16.158500Z",
     "start_time": "2025-07-24T09:46:13.631818Z"
    }
   },
   "source": [
    "import tensorflow as tf\n",
    "import numpy as np\n",
    "\n",
    "print(tf.__version__, np.__version__)"
   ],
   "outputs": [
    {
     "name": "stdout",
     "output_type": "stream",
     "text": [
      "2.18.0 1.26.4\n"
     ]
    }
   ],
   "execution_count": 1
  },
  {
   "cell_type": "markdown",
   "metadata": {
    "id": "aOcUkyI2j03H"
   },
   "source": [
    "tensorflow 역할\n",
    " - numpy 같은 수치 연산\n",
    " - 연산을 GPU 할 수 있도록\n",
    " - 빠른 성능 (graph algorithms)\n",
    " - DLL 의 layer 구성"
   ]
  },
  {
   "cell_type": "code",
   "metadata": {
    "colab": {
     "base_uri": "https://localhost:8080/"
    },
    "executionInfo": {
     "elapsed": 68,
     "status": "ok",
     "timestamp": 1753144636741,
     "user": {
      "displayName": "고강태 강사",
      "userId": "11816854931407731745"
     },
     "user_tz": -540
    },
    "id": "-LME_QXliMHd",
    "outputId": "5b959f7b-c0b7-4197-e9b3-069ce79508f0",
    "ExecuteTime": {
     "end_time": "2025-07-24T09:46:16.265739Z",
     "start_time": "2025-07-24T09:46:16.210423Z"
    }
   },
   "source": [
    "import tensorflow as tf; print(tf.reduce_sum(tf.random.normal([1000, 1000])))"
   ],
   "outputs": [
    {
     "name": "stdout",
     "output_type": "stream",
     "text": [
      "tf.Tensor(517.3236, shape=(), dtype=float32)\n"
     ]
    },
    {
     "name": "stderr",
     "output_type": "stream",
     "text": [
      "WARNING: All log messages before absl::InitializeLog() is called are written to STDERR\n",
      "I0000 00:00:1753350376.211529 1816933 pluggable_device_factory.cc:305] Could not identify NUMA node of platform GPU ID 0, defaulting to 0. Your kernel may not have been built with NUMA support.\n",
      "I0000 00:00:1753350376.211555 1816933 pluggable_device_factory.cc:271] Created TensorFlow device (/job:localhost/replica:0/task:0/device:GPU:0 with 0 MB memory) -> physical PluggableDevice (device: 0, name: METAL, pci bus id: <undefined>)\n"
     ]
    }
   ],
   "execution_count": 2
  },
  {
   "cell_type": "markdown",
   "metadata": {
    "id": "Pn34RqcliMHd"
   },
   "source": [
    "텐서플로우 기본\n",
    "\n",
    "TensorFlow의 가장 기본적인 빌딩 블록인 Tensor, Operation, 그리고 Variable에 대해 살펴보고, 이 개념들을 확실히 이해하는 것이 TensorFlow를 이용한 딥러닝 모델 구축의 시작이다.\n",
    "\n",
    "\n",
    "1. 텐서\n",
    "1. 상수\n",
    "1. Operation(연산)\n",
    "1. 변수\n",
    "1. 행렬"
   ]
  },
  {
   "cell_type": "markdown",
   "metadata": {
    "id": "U2pzS-7rE5ts"
   },
   "source": [
    "> Test\n",
    "> - tensorflow 2.19, keras 3.10\n",
    "> - tensorflow 2.9\n",
    "> - tensorflow 2.7"
   ]
  },
  {
   "cell_type": "markdown",
   "metadata": {
    "id": "vjAOXfEWl2MO"
   },
   "source": [
    "tensorflow 1.x 와 2.0 부근은 keras import가 좀 다르고, 별도의 keras 모듈을 사용하지 않았다.!!!"
   ]
  },
  {
   "cell_type": "code",
   "metadata": {
    "colab": {
     "base_uri": "https://localhost:8080/"
    },
    "executionInfo": {
     "elapsed": 7,
     "status": "ok",
     "timestamp": 1753145160940,
     "user": {
      "displayName": "고강태 강사",
      "userId": "11816854931407731745"
     },
     "user_tz": -540
    },
    "id": "Sr85dd2cE5ts",
    "outputId": "ad15fd85-aee0-4f29-84a4-0b1614289c0d",
    "ExecuteTime": {
     "end_time": "2025-07-24T09:46:16.279873Z",
     "start_time": "2025-07-24T09:46:16.277326Z"
    }
   },
   "source": [
    "import numpy as np\n",
    "import tensorflow as tf\n",
    "import keras\n",
    "tf.__version__, keras.__version__"
   ],
   "outputs": [
    {
     "data": {
      "text/plain": [
       "('2.18.0', '3.10.0')"
      ]
     },
     "execution_count": 3,
     "metadata": {},
     "output_type": "execute_result"
    }
   ],
   "execution_count": 3
  },
  {
   "cell_type": "code",
   "metadata": {
    "id": "H0acjzgmloXX",
    "ExecuteTime": {
     "end_time": "2025-07-24T09:46:16.302029Z",
     "start_time": "2025-07-24T09:46:16.300790Z"
    }
   },
   "source": [
    "# from tensorflow import keras"
   ],
   "outputs": [],
   "execution_count": 4
  },
  {
   "cell_type": "markdown",
   "metadata": {
    "id": "kclZxaiJE5tv"
   },
   "source": [
    "## GPU"
   ]
  },
  {
   "cell_type": "code",
   "metadata": {
    "colab": {
     "base_uri": "https://localhost:8080/"
    },
    "executionInfo": {
     "elapsed": 13,
     "status": "ok",
     "timestamp": 1753145229742,
     "user": {
      "displayName": "고강태 강사",
      "userId": "11816854931407731745"
     },
     "user_tz": -540
    },
    "id": "I_hh9iPBmTD_",
    "outputId": "042db12e-018e-4576-8c07-5f4a601de778",
    "ExecuteTime": {
     "end_time": "2025-07-24T09:46:16.318119Z",
     "start_time": "2025-07-24T09:46:16.315461Z"
    }
   },
   "source": [
    "tf.test.is_gpu_available()"
   ],
   "outputs": [
    {
     "name": "stdout",
     "output_type": "stream",
     "text": [
      "WARNING:tensorflow:From /var/folders/x_/xf7w4xhx6kl03__yxdgdfl9m0000gn/T/ipykernel_68251/2294581100.py:1: is_gpu_available (from tensorflow.python.framework.test_util) is deprecated and will be removed in a future version.\n",
      "Instructions for updating:\n",
      "Use `tf.config.list_physical_devices('GPU')` instead.\n"
     ]
    },
    {
     "name": "stderr",
     "output_type": "stream",
     "text": [
      "I0000 00:00:1753350376.316237 1816933 pluggable_device_factory.cc:305] Could not identify NUMA node of platform GPU ID 0, defaulting to 0. Your kernel may not have been built with NUMA support.\n",
      "I0000 00:00:1753350376.316253 1816933 pluggable_device_factory.cc:271] Created TensorFlow device (/device:GPU:0 with 0 MB memory) -> physical PluggableDevice (device: 0, name: METAL, pci bus id: <undefined>)\n"
     ]
    },
    {
     "data": {
      "text/plain": [
       "True"
      ]
     },
     "execution_count": 5,
     "metadata": {},
     "output_type": "execute_result"
    }
   ],
   "execution_count": 5
  },
  {
   "cell_type": "code",
   "metadata": {
    "colab": {
     "base_uri": "https://localhost:8080/"
    },
    "executionInfo": {
     "elapsed": 49,
     "status": "ok",
     "timestamp": 1753145194250,
     "user": {
      "displayName": "고강태 강사",
      "userId": "11816854931407731745"
     },
     "user_tz": -540
    },
    "id": "oAf1JcxRE5tv",
    "outputId": "13696bd2-8460-43ed-8372-aeb956deb63a",
    "ExecuteTime": {
     "end_time": "2025-07-24T09:46:16.350502Z",
     "start_time": "2025-07-24T09:46:16.347840Z"
    }
   },
   "source": [
    "# tf.test.is_gpu_available()\n",
    "tf.config.list_physical_devices('GPU')"
   ],
   "outputs": [
    {
     "data": {
      "text/plain": [
       "[PhysicalDevice(name='/physical_device:GPU:0', device_type='GPU')]"
      ]
     },
     "execution_count": 6,
     "metadata": {},
     "output_type": "execute_result"
    }
   ],
   "execution_count": 6
  },
  {
   "cell_type": "code",
   "metadata": {
    "colab": {
     "base_uri": "https://localhost:8080/"
    },
    "executionInfo": {
     "elapsed": 9,
     "status": "ok",
     "timestamp": 1744647406396,
     "user": {
      "displayName": "고강태",
      "userId": "11277884504998149270"
     },
     "user_tz": -540
    },
    "id": "Su_hVkkYE5tw",
    "outputId": "0c7c2e19-370f-4f8a-ef58-4a8d43081ddd",
    "ExecuteTime": {
     "end_time": "2025-07-24T09:46:16.375335Z",
     "start_time": "2025-07-24T09:46:16.373363Z"
    }
   },
   "source": [
    "[device.name for device in tf.config.experimental.list_physical_devices()]"
   ],
   "outputs": [
    {
     "data": {
      "text/plain": [
       "['/physical_device:CPU:0', '/physical_device:GPU:0']"
      ]
     },
     "execution_count": 7,
     "metadata": {},
     "output_type": "execute_result"
    }
   ],
   "execution_count": 7
  },
  {
   "cell_type": "markdown",
   "metadata": {
    "id": "63j_Mx7OiMHe"
   },
   "source": [
    "## -Tensor\n",
    "\n",
    "AI 분야에서 데이터를 표현하는 기본 단위로 텐서를 사용한다. 스칼라(0차원), 벡터(1차원), 행렬(2차원)을 포함하여 그 이상 고차원의 데이터를 모두 텐서라고 부르고 AIdptj *텐서* 를 기본 데이터 구조로 사용한다.\n",
    "\n",
    "텐서(tensor)는 데이터를 위한 컨테이너, 거의 수치형 데이터를 다루므로 숫자를 위한 컨테이너이다. 텐서는 임의 차원 개수를 가진 행렬로 행렬은 아래 같은 종류가 있다.\n",
    "\n",
    " - 0차원 텐서: Scalar, 0D 텐서.\n",
    "    * 나이, 온도, 가격\n",
    " - 1차원 텐서: Vector 벡터, 1D텐서.\n",
    "    * 열을 축으로하는 1차원 배열\n",
    "    * `[1, 3, 9]`\n",
    " - 2차원 텐서: Matrix 행렬, 2D 텐서.\n",
    "    * 행과 열을 축으로하는 2차원.\n",
    "    * 8x8 크기 흑백 이미지 데이터\n",
    " - 3차원 텐서: 행렬의 배열 의미.\n",
    "    * 깊이 또는 채널이라는 3번째 방향을 갖는다.\n",
    "    * 8x8x3 크기의 컬러 이미지\n",
    " - 4차원 텐서: 3차원 텐서의 배열\n",
    "    * 동영상 데이터: 보통 (샘플수x프레임수x높이x너비x채널)로 표현\n",
    "    * 배치 데이터: 128개 이미지를 1배치로 처리시 (128, 256, 256, 3) 형태\n",
    "\n",
    "<img src='https://i.imgur.com/PRAiV7j.png' width=600>"
   ]
  },
  {
   "cell_type": "markdown",
   "metadata": {
    "id": "XC-yicMUiMHe"
   },
   "source": [
    "## -TensorFlow의 Tensor\n",
    "\n",
    "Tensorflow의 텐서는 NumPy 배열과 매우 유사하지만, GPU 가속을 지원하고 딥러닝 연산에 최적화되어 있다는 차이점이 있다.\n",
    "\n",
    "> TensorFlow 2.x에서는 텐서 연산에 **Eager Execution(즉시 실행)** 이 기본으로 설정되어 있어, 코드를 작성하는 즉시 연산이 실행되고 결과가 반환됩니다. 이는 Python의 일반적인 코딩 방식과 유사하여 디버깅 및 개발이 훨씬 용이합니다."
   ]
  },
  {
   "cell_type": "markdown",
   "metadata": {
    "id": "aUIFnHRSiMHe"
   },
   "source": [
    "## -텐서의 구성 요소:\n",
    "\n",
    "- 랭크 (Rank) 또는 차원 (Dimension)\n",
    "  - 텐서의 차원 수를 나타냅니다. 예를 들어, 스칼라는 0차원, 벡터는 1차원, 행렬은 2차원입니다.\n",
    "- 형태 (Shape)\n",
    "  -  각 차원의 크기를 나타내는 튜플입니다. 예를 들어, 2x3 행렬은 (2, 3) 형태를 가집니다.\n",
    "- 데이터 타입 (Dtype)\n",
    "  -  텐서가 저장하는 요소의 데이터 타입입니다. 정수(tf.int32, tf.int64), 부동 소수점(tf.float32, tf.float64), 불리언(tf.bool) 등 다양한 타입을 지원합니다.\n",
    "  - 연산 효율성을 위해 보통 딥러닝에서는 tf.float32를 많이 사용합니다."
   ]
  },
  {
   "cell_type": "markdown",
   "metadata": {
    "id": "7hbiRdITiMHe"
   },
   "source": [
    "## - 텐서 샘플\n",
    "\n",
    " - 0D 텐서\n",
    "    * 스칼라 값. 예) 넓이 100cm\n",
    " - 1D 텐서\n",
    "    * 벡터(배열) 데이터.\n",
    "    * 예) 학생 명단 [홍길동,남원길,서울역]\n",
    " - 2D 텐서\n",
    "    * 행렬 : --> (row, col), (높이, 폭)\n",
    "    - 예) (samples, feature)\n",
    " - 3D 텐서\n",
    "    * 행렬의 배열. 시계열,\n",
    "    * 시퀀스 데이터 (samples, timsteps, feature)\n",
    "    * 256x256 픽셀 RGB 컬러 이미지 (256, 256, 3)\n",
    " - 4D 텐서\n",
    "    * 채널 이미지 데이터\\\n",
    "     (samples, height, width, channels), \\\n",
    "     (samples, channels, height, width) \\\n",
    "     256X256 --> (256, 256, 3, 1) 알파채널\n",
    " - 동영상 데이터\n",
    "    * 4D 이상 고차원 텐서로 4D의 배열\n",
    "    * (samples, frames, height, width, channels),\\\n",
    "     (samples, frames, channels, height, width)\n",
    "    * 예: 10개의 비디오 클립, 각 클립은 30프레임, 128x128 픽셀, RGB 색상을 가진 경우:\\\n",
    "     (10, 30, 128, 128, 3)\n"
   ]
  },
  {
   "cell_type": "markdown",
   "metadata": {
    "id": "Yn-HGjZoiMHe"
   },
   "source": [
    "<img src='https://i.imgur.com/Ehn05pP.png' width=700>"
   ]
  },
  {
   "cell_type": "markdown",
   "metadata": {
    "id": "ZYUiKs8TiMHe"
   },
   "source": [
    "### 동영상 텐서의 Channel First & Last\n",
    "\n",
    "TensorFlow에서 이미지 데이터 처리 시 흔히 사용되는 channels_last 형식을 따른다\n",
    "  - 비디오 텐서 (samples, frames, height, width, channels) 형식\n",
    "  - 단일 이미지 텐서는 ( height, width, channels) 형태\n",
    "\n",
    "\n",
    "PyTorch의 경우, 이미지 데이터 처리에서 channels_first 형식을 선호하는 경향\n",
    " - 단일 이미지 텐서는 (channels, height, width) 형태\n",
    " - 비디오 텐서 (samples, channels, frames, height, width) \\\n",
    "   또는 (samples, frames, channels, height, width)가 사용.\n"
   ]
  },
  {
   "cell_type": "markdown",
   "metadata": {
    "id": "QaRMOjbBiMHf"
   },
   "source": [
    "#### 스칼라 (0D tensor)\n",
    "\n",
    "하나의 숫자 값을 담고 있는 텐서로서 0차원, 0D텐서이다. 0차원 텐서의 축의 개수는 0으로 축(ndim)을 랭크(rank)라고도 부른다."
   ]
  },
  {
   "cell_type": "code",
   "metadata": {
    "colab": {
     "base_uri": "https://localhost:8080/"
    },
    "executionInfo": {
     "elapsed": 51,
     "status": "ok",
     "timestamp": 1753146784540,
     "user": {
      "displayName": "고강태 강사",
      "userId": "11816854931407731745"
     },
     "user_tz": -540
    },
    "id": "20IlhgL_iMHf",
    "outputId": "5eefe755-5c2a-469a-ed70-2f63d931d884",
    "ExecuteTime": {
     "end_time": "2025-07-24T09:46:16.405666Z",
     "start_time": "2025-07-24T09:46:16.403649Z"
    }
   },
   "source": [
    "# 스칼라\n",
    "x = np.array(1)\n",
    "x"
   ],
   "outputs": [
    {
     "data": {
      "text/plain": [
       "array(1)"
      ]
     },
     "execution_count": 8,
     "metadata": {},
     "output_type": "execute_result"
    }
   ],
   "execution_count": 8
  },
  {
   "cell_type": "code",
   "metadata": {
    "colab": {
     "base_uri": "https://localhost:8080/"
    },
    "executionInfo": {
     "elapsed": 47,
     "status": "ok",
     "timestamp": 1753146798683,
     "user": {
      "displayName": "고강태 강사",
      "userId": "11816854931407731745"
     },
     "user_tz": -540
    },
    "id": "ItQc3oSpiMHf",
    "outputId": "d7c83d1f-8a64-47c4-bde6-a71e88567086",
    "ExecuteTime": {
     "end_time": "2025-07-24T09:46:16.443520Z",
     "start_time": "2025-07-24T09:46:16.441254Z"
    }
   },
   "source": [
    "x.shape, x.ndim, x"
   ],
   "outputs": [
    {
     "data": {
      "text/plain": [
       "((), 0, array(1))"
      ]
     },
     "execution_count": 9,
     "metadata": {},
     "output_type": "execute_result"
    }
   ],
   "execution_count": 9
  },
  {
   "cell_type": "markdown",
   "metadata": {
    "id": "RPy1bv1wiMHf"
   },
   "source": [
    "#### 벡터 (1D Tensor)\n",
    "\n",
    "숫자 배열을 벡터, 1D 텐서라고 부른다. 1D 텐서는 하나의 축을 가진다."
   ]
  },
  {
   "cell_type": "code",
   "metadata": {
    "colab": {
     "base_uri": "https://localhost:8080/"
    },
    "executionInfo": {
     "elapsed": 36,
     "status": "ok",
     "timestamp": 1753146803340,
     "user": {
      "displayName": "고강태 강사",
      "userId": "11816854931407731745"
     },
     "user_tz": -540
    },
    "id": "RlPmO3hUiMHf",
    "outputId": "0ffdeebf-89d9-4524-fbe3-5491608bdfb3",
    "ExecuteTime": {
     "end_time": "2025-07-24T09:46:16.607119Z",
     "start_time": "2025-07-24T09:46:16.604575Z"
    }
   },
   "source": [
    "# 벡터\n",
    "x = np.array([1,2,3,4])\n",
    "x.shape, x.ndim, x"
   ],
   "outputs": [
    {
     "data": {
      "text/plain": [
       "((4,), 1, array([1, 2, 3, 4]))"
      ]
     },
     "execution_count": 10,
     "metadata": {},
     "output_type": "execute_result"
    }
   ],
   "execution_count": 10
  },
  {
   "cell_type": "markdown",
   "metadata": {
    "id": "el52BVcuiMHf"
   },
   "source": [
    "위 벡터는 4개의 요소를 가지고 있어서 5차원 벡터라고 부른다. ( 4D 텐서와 혼동하지 말것!)"
   ]
  },
  {
   "cell_type": "markdown",
   "metadata": {
    "id": "KUmqw4skiMHf"
   },
   "source": [
    "#### 행렬 (2D Tensor)\n",
    "\n",
    "행렬은 2차원으로 구성되어 2개의 축을 가진다.\n",
    "- (samples, feature) 형식으로 구성된다.\n",
    "  - 10만명의 나이/우편번호/소득 으로 구성된 인구 데이터: (100000, 3) 크기 텐서\n",
    "  - 텍스트에 공통단어 2만개에서 단어의 등장횟수로 표현된 경우: (500, 20000)"
   ]
  },
  {
   "cell_type": "code",
   "metadata": {
    "colab": {
     "base_uri": "https://localhost:8080/"
    },
    "executionInfo": {
     "elapsed": 36,
     "status": "ok",
     "timestamp": 1753146813011,
     "user": {
      "displayName": "고강태 강사",
      "userId": "11816854931407731745"
     },
     "user_tz": -540
    },
    "id": "YSclR3vuiMHf",
    "outputId": "4084d070-7a9f-48bc-9aca-a52e0729a53b",
    "ExecuteTime": {
     "end_time": "2025-07-24T09:46:16.665934Z",
     "start_time": "2025-07-24T09:46:16.663719Z"
    }
   },
   "source": [
    "# 행렬\n",
    "x = np.array([[1,2,3],[4,5,6],[7,8,9]])\n",
    "x.shape, x.ndim, x"
   ],
   "outputs": [
    {
     "data": {
      "text/plain": [
       "((3, 3),\n",
       " 2,\n",
       " array([[1, 2, 3],\n",
       "        [4, 5, 6],\n",
       "        [7, 8, 9]]))"
      ]
     },
     "execution_count": 11,
     "metadata": {},
     "output_type": "execute_result"
    }
   ],
   "execution_count": 11
  },
  {
   "cell_type": "markdown",
   "metadata": {
    "id": "V-vgzG6viMHf"
   },
   "source": [
    "#### 3차원 배열 ( 3D Tensor)\n",
    "\n",
    "배열의 3차원 축을 가진 배열을 3D Tensor라고 한다."
   ]
  },
  {
   "cell_type": "markdown",
   "metadata": {
    "id": "8uIFsWhoiMHg"
   },
   "source": [
    "- 시계열/시퀀스 데이터\n",
    "  - 데이터의 시간/순서가 중요하면 시간축을 포함해 (samples, timsteps, feature) 크기 3차원 텐서로 구성된다.\n",
    "  - 주식 가격 데이터: 1분마다 주식가격, 1분마다 최고/최소 가격.\n",
    "      - 하루 거래 (390,3)크기 2D텐서\n",
    "      - 연간 250일 (250, 390, 3) 크기 3D텐서\n",
    "  - 트윗 데이터 세트: 트윗은 128개 알파벳, 280 문자로. 128개 2진벡터로 구성( 280, 128)\n",
    "      - 100만개 트쉿은 (1000000, 280, 128) 텐서로 구성"
   ]
  },
  {
   "cell_type": "code",
   "metadata": {
    "id": "U8eBgNRSiMHg",
    "outputId": "4425d31a-a93d-41cc-a4fb-c3cb8dc1e528",
    "ExecuteTime": {
     "end_time": "2025-07-24T09:46:16.718911Z",
     "start_time": "2025-07-24T09:46:16.716190Z"
    }
   },
   "source": [
    "# 텐서: 3d\n",
    "x = np.array([[[1,2,3,4,5],\n",
    "              [6,7,8,9,10]],\n",
    "             [[0,-1,-2,-3,-4],\n",
    "             [-5,-6,-7,-8,-9]]])\n",
    "x.shape, x.ndim, x"
   ],
   "outputs": [
    {
     "data": {
      "text/plain": [
       "((2, 2, 5),\n",
       " 3,\n",
       " array([[[ 1,  2,  3,  4,  5],\n",
       "         [ 6,  7,  8,  9, 10]],\n",
       " \n",
       "        [[ 0, -1, -2, -3, -4],\n",
       "         [-5, -6, -7, -8, -9]]]))"
      ]
     },
     "execution_count": 12,
     "metadata": {},
     "output_type": "execute_result"
    }
   ],
   "execution_count": 12
  },
  {
   "cell_type": "markdown",
   "metadata": {
    "id": "52-6kGoliMHg"
   },
   "source": [
    "####  4D 텐서\n",
    "\n",
    "이미지는 높이/너비/컬러의 3차원. 흑백도 높이/너비/컬러.\n",
    "\n",
    " - 128개 256x256 크기 흑백 배치: (128, 256, 256, 1)\n",
    " - 128개 256x256 크기 컬러 배치: (128, 256, 256, 3)\n",
    " - 이미지 텐서 크지 지정은 채널 마지막(channel-last) 와 채널 우선(channel-first)\n",
    "    - Theano 는 (128, 1, 256, 256)\n",
    "    - Keras 는 모두 지원\n",
    "\n"
   ]
  },
  {
   "cell_type": "code",
   "metadata": {
    "executionInfo": {
     "elapsed": 591,
     "status": "ok",
     "timestamp": 1753147076892,
     "user": {
      "displayName": "고강태 강사",
      "userId": "11816854931407731745"
     },
     "user_tz": -540
    },
    "id": "lxrm520DiMHg",
    "ExecuteTime": {
     "end_time": "2025-07-24T09:46:16.833908Z",
     "start_time": "2025-07-24T09:46:16.757041Z"
    }
   },
   "source": [
    "img_tensor = (128, 256, 256, 4)\n",
    "img = np.random.rand(*img_tensor)"
   ],
   "outputs": [],
   "execution_count": 13
  },
  {
   "cell_type": "code",
   "metadata": {
    "colab": {
     "base_uri": "https://localhost:8080/"
    },
    "executionInfo": {
     "elapsed": 16,
     "status": "ok",
     "timestamp": 1753147087435,
     "user": {
      "displayName": "고강태 강사",
      "userId": "11816854931407731745"
     },
     "user_tz": -540
    },
    "id": "rbivP4AbiMHg",
    "outputId": "c765c9fb-d695-4339-b5d8-35c75575c618",
    "ExecuteTime": {
     "end_time": "2025-07-24T09:46:16.845207Z",
     "start_time": "2025-07-24T09:46:16.843310Z"
    }
   },
   "source": [
    "img.shape"
   ],
   "outputs": [
    {
     "data": {
      "text/plain": [
       "(128, 256, 256, 4)"
      ]
     },
     "execution_count": 14,
     "metadata": {},
     "output_type": "execute_result"
    }
   ],
   "execution_count": 14
  },
  {
   "cell_type": "markdown",
   "metadata": {
    "id": "8M_QSdwsiMHg"
   },
   "source": [
    "####  5D 텐서\n",
    "\n",
    "동영상 데이터 비디오는 프레임의 연속. 프레임원 컬러 이미지, 현실에서 5D 차원 가진 몇 안되는 데이터\n",
    "\n",
    "\n"
   ]
  },
  {
   "cell_type": "code",
   "metadata": {
    "colab": {
     "base_uri": "https://localhost:8080/"
    },
    "executionInfo": {
     "elapsed": 167,
     "status": "ok",
     "timestamp": 1753147130400,
     "user": {
      "displayName": "고강태 강사",
      "userId": "11816854931407731745"
     },
     "user_tz": -540
    },
    "id": "b0BoFbG6iMHg",
    "outputId": "0c4c161f-2851-4abe-c801-f663f4432272",
    "ExecuteTime": {
     "end_time": "2025-07-24T09:46:16.922033Z",
     "start_time": "2025-07-24T09:46:16.885479Z"
    }
   },
   "source": [
    "tensor_shape = (10, 30, 128, 128, 3)\n",
    "mov = np.random.rand(*tensor_shape)\n",
    "mov.shape"
   ],
   "outputs": [
    {
     "data": {
      "text/plain": [
       "(10, 30, 128, 128, 3)"
      ]
     },
     "execution_count": 15,
     "metadata": {},
     "output_type": "execute_result"
    }
   ],
   "execution_count": 15
  },
  {
   "cell_type": "code",
   "metadata": {
    "colab": {
     "base_uri": "https://localhost:8080/"
    },
    "executionInfo": {
     "elapsed": 55,
     "status": "ok",
     "timestamp": 1753147134506,
     "user": {
      "displayName": "고강태 강사",
      "userId": "11816854931407731745"
     },
     "user_tz": -540
    },
    "id": "_UxjW70eiMHg",
    "outputId": "343b32e3-3d3a-4130-ef68-49a3310feb88",
    "ExecuteTime": {
     "end_time": "2025-07-24T09:46:16.955217Z",
     "start_time": "2025-07-24T09:46:16.948874Z"
    }
   },
   "source": [
    "mov[0]"
   ],
   "outputs": [
    {
     "data": {
      "text/plain": [
       "array([[[[0.16146998, 0.03663209, 0.09632846],\n",
       "         [0.80775053, 0.75973474, 0.46403914],\n",
       "         [0.23780951, 0.39397758, 0.60114054],\n",
       "         ...,\n",
       "         [0.52149506, 0.85649927, 0.08249882],\n",
       "         [0.45526214, 0.83387789, 0.8385937 ],\n",
       "         [0.92938299, 0.32602066, 0.61326273]],\n",
       "\n",
       "        [[0.85984486, 0.48530529, 0.80917342],\n",
       "         [0.43688725, 0.86488329, 0.97948041],\n",
       "         [0.63814943, 0.96615616, 0.45202952],\n",
       "         ...,\n",
       "         [0.56460381, 0.10797983, 0.62492842],\n",
       "         [0.65489888, 0.41731335, 0.72094434],\n",
       "         [0.98595496, 0.14793819, 0.69706064]],\n",
       "\n",
       "        [[0.10375193, 0.89103887, 0.33159605],\n",
       "         [0.97093199, 0.47877693, 0.028043  ],\n",
       "         [0.84409478, 0.57915104, 0.60300328],\n",
       "         ...,\n",
       "         [0.799267  , 0.7104599 , 0.08467185],\n",
       "         [0.51626199, 0.73946945, 0.34171524],\n",
       "         [0.08199521, 0.3461403 , 0.05638974]],\n",
       "\n",
       "        ...,\n",
       "\n",
       "        [[0.30144928, 0.29792068, 0.26329652],\n",
       "         [0.51791543, 0.39487651, 0.41459942],\n",
       "         [0.79735528, 0.82289308, 0.51522246],\n",
       "         ...,\n",
       "         [0.98620671, 0.59522651, 0.62384342],\n",
       "         [0.8048035 , 0.90154743, 0.65204545],\n",
       "         [0.39973923, 0.92626663, 0.51597659]],\n",
       "\n",
       "        [[0.54376994, 0.12204948, 0.78520987],\n",
       "         [0.0684834 , 0.95713811, 0.34514526],\n",
       "         [0.12457862, 0.03419805, 0.72927713],\n",
       "         ...,\n",
       "         [0.45740157, 0.99952851, 0.74015788],\n",
       "         [0.93077773, 0.58301748, 0.86889428],\n",
       "         [0.57343987, 0.62995224, 0.02090642]],\n",
       "\n",
       "        [[0.66978186, 0.11246387, 0.34214523],\n",
       "         [0.55657129, 0.22302811, 0.68146495],\n",
       "         [0.41161559, 0.50088127, 0.54410761],\n",
       "         ...,\n",
       "         [0.85069852, 0.8685654 , 0.43420581],\n",
       "         [0.91096053, 0.57246132, 0.89743601],\n",
       "         [0.26493384, 0.33190398, 0.63932018]]],\n",
       "\n",
       "\n",
       "       [[[0.16640137, 0.61023408, 0.45735243],\n",
       "         [0.42319982, 0.42819612, 0.16897124],\n",
       "         [0.74935173, 0.29465953, 0.78945318],\n",
       "         ...,\n",
       "         [0.17315102, 0.88337228, 0.08049893],\n",
       "         [0.65670412, 0.60989948, 0.2827    ],\n",
       "         [0.94161512, 0.90590033, 0.71077073]],\n",
       "\n",
       "        [[0.8310691 , 0.10978796, 0.61717503],\n",
       "         [0.44303365, 0.52883577, 0.38141222],\n",
       "         [0.80729591, 0.23851763, 0.56972794],\n",
       "         ...,\n",
       "         [0.59236248, 0.98624119, 0.78040097],\n",
       "         [0.63545893, 0.90726327, 0.72322311],\n",
       "         [0.4223442 , 0.10730988, 0.58280132]],\n",
       "\n",
       "        [[0.37166059, 0.4170558 , 0.74915411],\n",
       "         [0.95016542, 0.78976363, 0.00736745],\n",
       "         [0.31399094, 0.7924276 , 0.49560321],\n",
       "         ...,\n",
       "         [0.63200196, 0.5835559 , 0.36489725],\n",
       "         [0.13743587, 0.5215378 , 0.77041071],\n",
       "         [0.98951841, 0.06856465, 0.31971085]],\n",
       "\n",
       "        ...,\n",
       "\n",
       "        [[0.87785532, 0.68315912, 0.01971019],\n",
       "         [0.87689582, 0.57889381, 0.31136496],\n",
       "         [0.9297193 , 0.01178421, 0.37243253],\n",
       "         ...,\n",
       "         [0.96681319, 0.21369161, 0.03032833],\n",
       "         [0.50457854, 0.8896037 , 0.5659806 ],\n",
       "         [0.09629409, 0.53458193, 0.90847775]],\n",
       "\n",
       "        [[0.08777769, 0.71915988, 0.7603976 ],\n",
       "         [0.54574685, 0.96060032, 0.48184206],\n",
       "         [0.00331286, 0.8997607 , 0.35615264],\n",
       "         ...,\n",
       "         [0.6536025 , 0.10055713, 0.06800067],\n",
       "         [0.88892587, 0.93385867, 0.46211207],\n",
       "         [0.50007023, 0.85228971, 0.09831885]],\n",
       "\n",
       "        [[0.0666465 , 0.53122002, 0.85411153],\n",
       "         [0.95924652, 0.94160431, 0.58921216],\n",
       "         [0.63636251, 0.01834906, 0.80741493],\n",
       "         ...,\n",
       "         [0.80428844, 0.75771782, 0.32180789],\n",
       "         [0.9039321 , 0.69419027, 0.99697582],\n",
       "         [0.29241825, 0.86120545, 0.13797529]]],\n",
       "\n",
       "\n",
       "       [[[0.35349954, 0.67546171, 0.94963298],\n",
       "         [0.50512182, 0.35258433, 0.95286202],\n",
       "         [0.76561519, 0.07884654, 0.58624814],\n",
       "         ...,\n",
       "         [0.23491038, 0.67165649, 0.32115631],\n",
       "         [0.15452478, 0.09712883, 0.83860464],\n",
       "         [0.42876538, 0.7753763 , 0.22614385]],\n",
       "\n",
       "        [[0.94441484, 0.21671143, 0.6102396 ],\n",
       "         [0.65741531, 0.35048671, 0.67707005],\n",
       "         [0.20334175, 0.93167504, 0.19990732],\n",
       "         ...,\n",
       "         [0.31911606, 0.50971247, 0.86005632],\n",
       "         [0.59714399, 0.37765199, 0.74346741],\n",
       "         [0.47429351, 0.41013149, 0.01881192]],\n",
       "\n",
       "        [[0.68912746, 0.97871399, 0.00533808],\n",
       "         [0.5879627 , 0.3390517 , 0.34480535],\n",
       "         [0.89763903, 0.35130704, 0.29552207],\n",
       "         ...,\n",
       "         [0.13998654, 0.60910394, 0.37902917],\n",
       "         [0.36420284, 0.15500064, 0.03861242],\n",
       "         [0.70331987, 0.78129925, 0.05210664]],\n",
       "\n",
       "        ...,\n",
       "\n",
       "        [[0.42461575, 0.78198   , 0.92951125],\n",
       "         [0.09913626, 0.84247484, 0.85677871],\n",
       "         [0.51701055, 0.37920962, 0.74216863],\n",
       "         ...,\n",
       "         [0.47785045, 0.84754195, 0.90551457],\n",
       "         [0.44282969, 0.15651568, 0.62683685],\n",
       "         [0.30932376, 0.9502935 , 0.72618108]],\n",
       "\n",
       "        [[0.53722687, 0.97748484, 0.26220545],\n",
       "         [0.37200895, 0.34080419, 0.95631988],\n",
       "         [0.34902859, 0.94364029, 0.47449706],\n",
       "         ...,\n",
       "         [0.3432834 , 0.13162068, 0.52406446],\n",
       "         [0.79505689, 0.67750623, 0.76852322],\n",
       "         [0.50314535, 0.4391505 , 0.96266568]],\n",
       "\n",
       "        [[0.62201612, 0.80200311, 0.17349401],\n",
       "         [0.92283202, 0.3007221 , 0.19206949],\n",
       "         [0.90454198, 0.25966256, 0.40803455],\n",
       "         ...,\n",
       "         [0.89505704, 0.87354906, 0.44525107],\n",
       "         [0.47438418, 0.72482322, 0.26187597],\n",
       "         [0.59217995, 0.07791873, 0.45372759]]],\n",
       "\n",
       "\n",
       "       ...,\n",
       "\n",
       "\n",
       "       [[[0.70329025, 0.27279192, 0.25586383],\n",
       "         [0.55384177, 0.50125017, 0.83932064],\n",
       "         [0.09896692, 0.98271141, 0.61453895],\n",
       "         ...,\n",
       "         [0.50718389, 0.08909948, 0.26219495],\n",
       "         [0.94694835, 0.41134843, 0.50681736],\n",
       "         [0.54893087, 0.14634716, 0.7348839 ]],\n",
       "\n",
       "        [[0.2661529 , 0.02656337, 0.71276426],\n",
       "         [0.86302698, 0.260438  , 0.00660992],\n",
       "         [0.97487692, 0.84157247, 0.25341132],\n",
       "         ...,\n",
       "         [0.95592272, 0.74250399, 0.73693231],\n",
       "         [0.78892918, 0.38411552, 0.81657194],\n",
       "         [0.68646552, 0.69059193, 0.63316207]],\n",
       "\n",
       "        [[0.0606386 , 0.70790055, 0.48343442],\n",
       "         [0.18392579, 0.83336748, 0.23160422],\n",
       "         [0.16708949, 0.71963233, 0.71648915],\n",
       "         ...,\n",
       "         [0.78639797, 0.89351941, 0.233924  ],\n",
       "         [0.45606875, 0.21159914, 0.89178717],\n",
       "         [0.29206694, 0.72209162, 0.20346392]],\n",
       "\n",
       "        ...,\n",
       "\n",
       "        [[0.81512202, 0.1883007 , 0.61014897],\n",
       "         [0.96441955, 0.25996112, 0.59595009],\n",
       "         [0.02561532, 0.00257245, 0.04249989],\n",
       "         ...,\n",
       "         [0.6633116 , 0.1988284 , 0.34777825],\n",
       "         [0.53812468, 0.51999311, 0.90756775],\n",
       "         [0.96003804, 0.77025835, 0.48837714]],\n",
       "\n",
       "        [[0.00411982, 0.9960736 , 0.90371067],\n",
       "         [0.21690571, 0.46755058, 0.50125847],\n",
       "         [0.5803323 , 0.94742251, 0.38857672],\n",
       "         ...,\n",
       "         [0.17653565, 0.67988682, 0.42217868],\n",
       "         [0.43802824, 0.53572572, 0.7929301 ],\n",
       "         [0.05305808, 0.74679802, 0.75193606]],\n",
       "\n",
       "        [[0.50988877, 0.43330933, 0.90427205],\n",
       "         [0.48366697, 0.67006274, 0.43149145],\n",
       "         [0.75622166, 0.06058814, 0.86324761],\n",
       "         ...,\n",
       "         [0.40499916, 0.6200755 , 0.00854555],\n",
       "         [0.77015221, 0.92628249, 0.61283228],\n",
       "         [0.37962332, 0.30103795, 0.21988803]]],\n",
       "\n",
       "\n",
       "       [[[0.15047239, 0.04789943, 0.24099688],\n",
       "         [0.11503753, 0.77457642, 0.61523889],\n",
       "         [0.03374984, 0.50884809, 0.09832095],\n",
       "         ...,\n",
       "         [0.40108682, 0.51482313, 0.60117006],\n",
       "         [0.49801389, 0.22998032, 0.02188576],\n",
       "         [0.85276885, 0.56186996, 0.0986331 ]],\n",
       "\n",
       "        [[0.67508439, 0.74802789, 0.20070196],\n",
       "         [0.27603325, 0.40768125, 0.42826599],\n",
       "         [0.57543317, 0.2127291 , 0.45951909],\n",
       "         ...,\n",
       "         [0.24236644, 0.19854664, 0.35861579],\n",
       "         [0.21471688, 0.66879433, 0.60533369],\n",
       "         [0.64233824, 0.22813826, 0.66343326]],\n",
       "\n",
       "        [[0.3510393 , 0.19629752, 0.63776877],\n",
       "         [0.1560592 , 0.47158253, 0.67979913],\n",
       "         [0.81794674, 0.63251288, 0.12982353],\n",
       "         ...,\n",
       "         [0.25971926, 0.2780478 , 0.95815476],\n",
       "         [0.6287179 , 0.42655428, 0.67265465],\n",
       "         [0.89363377, 0.79777515, 0.89274382]],\n",
       "\n",
       "        ...,\n",
       "\n",
       "        [[0.3673682 , 0.00723892, 0.77120798],\n",
       "         [0.12068302, 0.5205943 , 0.17045776],\n",
       "         [0.65458658, 0.79650132, 0.02149732],\n",
       "         ...,\n",
       "         [0.14535013, 0.21389594, 0.43065998],\n",
       "         [0.44228138, 0.09563729, 0.9816584 ],\n",
       "         [0.71298738, 0.72459523, 0.53569321]],\n",
       "\n",
       "        [[0.08536256, 0.63521581, 0.41760226],\n",
       "         [0.24694202, 0.75907505, 0.971676  ],\n",
       "         [0.52428178, 0.27441817, 0.43909512],\n",
       "         ...,\n",
       "         [0.1675657 , 0.24374631, 0.99558721],\n",
       "         [0.04563785, 0.33118305, 0.94553715],\n",
       "         [0.03031483, 0.96252165, 0.19540833]],\n",
       "\n",
       "        [[0.48890169, 0.31324312, 0.85645613],\n",
       "         [0.11850407, 0.6573382 , 0.70847465],\n",
       "         [0.88687909, 0.74464913, 0.1166945 ],\n",
       "         ...,\n",
       "         [0.94598556, 0.79112446, 0.57357888],\n",
       "         [0.16276446, 0.74108991, 0.66505492],\n",
       "         [0.872746  , 0.28111558, 0.20966613]]],\n",
       "\n",
       "\n",
       "       [[[0.7906397 , 0.95539797, 0.59374893],\n",
       "         [0.87195436, 0.31922664, 0.39127214],\n",
       "         [0.05817901, 0.63652321, 0.87714313],\n",
       "         ...,\n",
       "         [0.02258368, 0.21568108, 0.48136938],\n",
       "         [0.11258022, 0.9090176 , 0.61925857],\n",
       "         [0.5874302 , 0.22059335, 0.19290654]],\n",
       "\n",
       "        [[0.88312835, 0.57271592, 0.25355414],\n",
       "         [0.01814932, 0.67736843, 0.45061263],\n",
       "         [0.90397136, 0.57439068, 0.68595016],\n",
       "         ...,\n",
       "         [0.76471448, 0.7183531 , 0.1714592 ],\n",
       "         [0.31562541, 0.07917977, 0.81220514],\n",
       "         [0.26723104, 0.81232095, 0.97673422]],\n",
       "\n",
       "        [[0.12778904, 0.0317385 , 0.12455766],\n",
       "         [0.87201505, 0.78154747, 0.41031562],\n",
       "         [0.75176866, 0.19043624, 0.45233318],\n",
       "         ...,\n",
       "         [0.07359134, 0.32682988, 0.2852864 ],\n",
       "         [0.03306137, 0.08083635, 0.77517523],\n",
       "         [0.52639356, 0.08400545, 0.70674601]],\n",
       "\n",
       "        ...,\n",
       "\n",
       "        [[0.24597461, 0.26221194, 0.54422987],\n",
       "         [0.881408  , 0.53980977, 0.1572537 ],\n",
       "         [0.34490469, 0.29802174, 0.19831672],\n",
       "         ...,\n",
       "         [0.40328254, 0.56865987, 0.95178347],\n",
       "         [0.81628161, 0.09075734, 0.27248039],\n",
       "         [0.47461188, 0.40529433, 0.28279732]],\n",
       "\n",
       "        [[0.44236745, 0.30103238, 0.79084416],\n",
       "         [0.94521888, 0.74536826, 0.01783833],\n",
       "         [0.88833566, 0.10914145, 0.08753811],\n",
       "         ...,\n",
       "         [0.98472803, 0.79324519, 0.673774  ],\n",
       "         [0.77915983, 0.0812419 , 0.72512913],\n",
       "         [0.456509  , 0.11882844, 0.48204029]],\n",
       "\n",
       "        [[0.27791445, 0.81937123, 0.2530469 ],\n",
       "         [0.47190339, 0.62169086, 0.39830946],\n",
       "         [0.78538101, 0.40438731, 0.27540957],\n",
       "         ...,\n",
       "         [0.886533  , 0.61853782, 0.21338322],\n",
       "         [0.2854883 , 0.86189655, 0.7876587 ],\n",
       "         [0.16868583, 0.98728714, 0.02451391]]]])"
      ]
     },
     "execution_count": 16,
     "metadata": {},
     "output_type": "execute_result"
    }
   ],
   "execution_count": 16
  },
  {
   "cell_type": "markdown",
   "metadata": {
    "id": "VJ4aAwwsiMHg"
   },
   "source": [
    "#### 텐서의 속성\n",
    "\n",
    "- 축/차원 (Rank): ndim\n",
    "- 형 Shape: shape\n",
    "- 데이터 타입: float32, uint8, float64 등\n",
    "\n",
    "크기 size"
   ]
  },
  {
   "cell_type": "code",
   "metadata": {
    "colab": {
     "base_uri": "https://localhost:8080/"
    },
    "executionInfo": {
     "elapsed": 39,
     "status": "ok",
     "timestamp": 1753147184391,
     "user": {
      "displayName": "고강태 강사",
      "userId": "11816854931407731745"
     },
     "user_tz": -540
    },
    "id": "so9AJdcDiMHk",
    "outputId": "095116fe-57de-41f2-b954-0061b9dddac5",
    "ExecuteTime": {
     "end_time": "2025-07-24T09:46:16.990133Z",
     "start_time": "2025-07-24T09:46:16.988092Z"
    }
   },
   "source": [
    "# 축(Axis, Rank), 차원\n",
    "mov.ndim"
   ],
   "outputs": [
    {
     "data": {
      "text/plain": [
       "5"
      ]
     },
     "execution_count": 17,
     "metadata": {},
     "output_type": "execute_result"
    }
   ],
   "execution_count": 17
  },
  {
   "cell_type": "code",
   "metadata": {
    "colab": {
     "base_uri": "https://localhost:8080/"
    },
    "executionInfo": {
     "elapsed": 138,
     "status": "ok",
     "timestamp": 1753147194544,
     "user": {
      "displayName": "고강태 강사",
      "userId": "11816854931407731745"
     },
     "user_tz": -540
    },
    "id": "S5F84_ZPiMHk",
    "outputId": "36420574-fbf4-4dd1-8958-0ecfe0136d0d",
    "ExecuteTime": {
     "end_time": "2025-07-24T09:46:17.017479Z",
     "start_time": "2025-07-24T09:46:17.015472Z"
    }
   },
   "source": [
    "# 행\n",
    "mov.shape"
   ],
   "outputs": [
    {
     "data": {
      "text/plain": [
       "(10, 30, 128, 128, 3)"
      ]
     },
     "execution_count": 18,
     "metadata": {},
     "output_type": "execute_result"
    }
   ],
   "execution_count": 18
  },
  {
   "cell_type": "code",
   "metadata": {
    "colab": {
     "base_uri": "https://localhost:8080/"
    },
    "executionInfo": {
     "elapsed": 22,
     "status": "ok",
     "timestamp": 1753147213156,
     "user": {
      "displayName": "고강태 강사",
      "userId": "11816854931407731745"
     },
     "user_tz": -540
    },
    "id": "PbzaVTFniMHl",
    "outputId": "c9e3c5a3-d236-480e-db9e-cf1f39bfca4e",
    "ExecuteTime": {
     "end_time": "2025-07-24T09:46:17.036209Z",
     "start_time": "2025-07-24T09:46:17.034231Z"
    }
   },
   "source": [
    "# 크기\n",
    "mov.size"
   ],
   "outputs": [
    {
     "data": {
      "text/plain": [
       "14745600"
      ]
     },
     "execution_count": 19,
     "metadata": {},
     "output_type": "execute_result"
    }
   ],
   "execution_count": 19
  },
  {
   "cell_type": "code",
   "metadata": {
    "colab": {
     "base_uri": "https://localhost:8080/"
    },
    "executionInfo": {
     "elapsed": 49,
     "status": "ok",
     "timestamp": 1753147221608,
     "user": {
      "displayName": "고강태 강사",
      "userId": "11816854931407731745"
     },
     "user_tz": -540
    },
    "id": "cSa2YkgSiMHl",
    "outputId": "2d771230-f088-4782-9720-340bd481020b",
    "ExecuteTime": {
     "end_time": "2025-07-24T09:46:17.056288Z",
     "start_time": "2025-07-24T09:46:17.054124Z"
    }
   },
   "source": [
    "mov.dtype"
   ],
   "outputs": [
    {
     "data": {
      "text/plain": [
       "dtype('float64')"
      ]
     },
     "execution_count": 20,
     "metadata": {},
     "output_type": "execute_result"
    }
   ],
   "execution_count": 20
  },
  {
   "cell_type": "markdown",
   "metadata": {
    "id": "_6_J3E1SiMHl"
   },
   "source": [
    "### 학습 데이터"
   ]
  },
  {
   "cell_type": "code",
   "metadata": {
    "id": "9ZU1jSoquYtW",
    "ExecuteTime": {
     "end_time": "2025-07-24T09:46:17.078147Z",
     "start_time": "2025-07-24T09:46:17.076267Z"
    }
   },
   "source": [
    "# X_TRAIN, X_TEST, Y_TRAIN, Y_TEST = TRAIN_TEST_SPLIT()"
   ],
   "outputs": [],
   "execution_count": 21
  },
  {
   "cell_type": "code",
   "metadata": {
    "executionInfo": {
     "elapsed": 333,
     "status": "ok",
     "timestamp": 1753147402391,
     "user": {
      "displayName": "고강태 강사",
      "userId": "11816854931407731745"
     },
     "user_tz": -540
    },
    "id": "wu4haYSHiMHl",
    "ExecuteTime": {
     "end_time": "2025-07-24T09:46:17.210937Z",
     "start_time": "2025-07-24T09:46:17.102955Z"
    }
   },
   "source": [
    "from tensorflow.keras.datasets import mnist\n",
    "(train_images, train_labels), (test_images, test_labels) = mnist.load_data()"
   ],
   "outputs": [],
   "execution_count": 22
  },
  {
   "cell_type": "code",
   "metadata": {
    "colab": {
     "base_uri": "https://localhost:8080/"
    },
    "executionInfo": {
     "elapsed": 34,
     "status": "ok",
     "timestamp": 1753147304429,
     "user": {
      "displayName": "고강태 강사",
      "userId": "11816854931407731745"
     },
     "user_tz": -540
    },
    "id": "N2-xR2DWiMHl",
    "outputId": "dfaba07a-203b-4c6d-ba2f-ab4d8dc8187f",
    "ExecuteTime": {
     "end_time": "2025-07-24T09:46:17.229339Z",
     "start_time": "2025-07-24T09:46:17.227334Z"
    }
   },
   "source": [
    "train_images.shape, train_labels.shape, test_images.shape, test_labels.shape"
   ],
   "outputs": [
    {
     "data": {
      "text/plain": [
       "((60000, 28, 28), (60000,), (10000, 28, 28), (10000,))"
      ]
     },
     "execution_count": 23,
     "metadata": {},
     "output_type": "execute_result"
    }
   ],
   "execution_count": 23
  },
  {
   "cell_type": "code",
   "metadata": {
    "colab": {
     "base_uri": "https://localhost:8080/"
    },
    "executionInfo": {
     "elapsed": 49,
     "status": "ok",
     "timestamp": 1753147442054,
     "user": {
      "displayName": "고강태 강사",
      "userId": "11816854931407731745"
     },
     "user_tz": -540
    },
    "id": "6jEt0WL8iMHl",
    "outputId": "f88d4ce2-bb76-456c-d22b-fa17c7fea0bf",
    "ExecuteTime": {
     "end_time": "2025-07-24T09:46:17.264336Z",
     "start_time": "2025-07-24T09:46:17.262233Z"
    }
   },
   "source": [
    "# 10:100 사이 데이터\n",
    "slice = train_images[10:100]\n",
    "slice.shape, slice.ndim"
   ],
   "outputs": [
    {
     "data": {
      "text/plain": [
       "((90, 28, 28), 3)"
      ]
     },
     "execution_count": 24,
     "metadata": {},
     "output_type": "execute_result"
    }
   ],
   "execution_count": 24
  },
  {
   "cell_type": "code",
   "metadata": {
    "id": "SwwPyOkViMHl",
    "outputId": "3ea43a56-6a11-477e-bdf8-e1ed304ad560",
    "ExecuteTime": {
     "end_time": "2025-07-24T09:46:17.310052Z",
     "start_time": "2025-07-24T09:46:17.307688Z"
    }
   },
   "source": [
    "# 10:100 사이의 28x28 데이터를 추출\n",
    "slice = train_images[10:100, :28, :28]\n",
    "slice.shape, slice.ndim"
   ],
   "outputs": [
    {
     "data": {
      "text/plain": [
       "((90, 28, 28), 3)"
      ]
     },
     "execution_count": 25,
     "metadata": {},
     "output_type": "execute_result"
    }
   ],
   "execution_count": 25
  },
  {
   "cell_type": "code",
   "metadata": {
    "id": "V0Tkl-kliMHm",
    "outputId": "e504b4c3-4cef-490b-a251-abec6c15638a",
    "ExecuteTime": {
     "end_time": "2025-07-24T09:46:17.395696Z",
     "start_time": "2025-07-24T09:46:17.393525Z"
    }
   },
   "source": [
    "# 28x28 이미에서 오른쪽 14x14 만 추출\n",
    "slice = train_images[:, 14:, 14:]\n",
    "slice.shape, slice.ndim"
   ],
   "outputs": [
    {
     "data": {
      "text/plain": [
       "((60000, 14, 14), 3)"
      ]
     },
     "execution_count": 26,
     "metadata": {},
     "output_type": "execute_result"
    }
   ],
   "execution_count": 26
  },
  {
   "cell_type": "markdown",
   "metadata": {
    "id": "Vonpz7mriMHm"
   },
   "source": [
    "### 배치 데이터\n",
    "\n",
    "딥러닝 모델은 한 번에 전체 데이터를 처리하지 않고 데이터를 작은 배치(batch) 단위로 나누어 처리한다."
   ]
  },
  {
   "cell_type": "code",
   "metadata": {
    "id": "JvB1bahNiMHm",
    "ExecuteTime": {
     "end_time": "2025-07-24T09:46:17.441735Z",
     "start_time": "2025-07-24T09:46:17.440151Z"
    }
   },
   "source": [
    "#크기 128인 배치\n",
    "batch = train_images[:128]"
   ],
   "outputs": [],
   "execution_count": 27
  },
  {
   "cell_type": "code",
   "metadata": {
    "id": "9gLMgPCHiMHm",
    "ExecuteTime": {
     "end_time": "2025-07-24T09:46:17.462453Z",
     "start_time": "2025-07-24T09:46:17.460814Z"
    }
   },
   "source": [
    "#다음 크기 128인 배치\n",
    "batch = train_images[128:256]\n",
    "#n번째 배치\n",
    "n = 10\n",
    "batch = train_images[128 * n:128 * (n+1)]"
   ],
   "outputs": [],
   "execution_count": 28
  },
  {
   "cell_type": "markdown",
   "metadata": {
    "id": "C_-MKJvVvOBl"
   },
   "source": [
    "EPOCH 에서 BATCH 단위를 순환하며 학습"
   ]
  },
  {
   "cell_type": "markdown",
   "metadata": {
    "id": "Q8sugcsniMHm"
   },
   "source": [
    "# 2. Constant\n",
    "\n",
    "Constant 는 변경 불가능한 텐서를 생성해서 주로 고정된 데이터나 상수를 정의할 때 사용합니다.\n",
    " - 상수는 텐서플로우의 텐서 기반으로 생성된다.\n",
    " - https://www.tensorflow.org/api_docs/python/tf/Tensor"
   ]
  },
  {
   "cell_type": "code",
   "metadata": {
    "colab": {
     "base_uri": "https://localhost:8080/",
     "height": 187
    },
    "executionInfo": {
     "elapsed": 42,
     "status": "ok",
     "timestamp": 1753147657032,
     "user": {
      "displayName": "고강태 강사",
      "userId": "11816854931407731745"
     },
     "user_tz": -540
    },
    "id": "ojUQtBC1E5tw",
    "outputId": "6c5f8e19-d450-454e-d698-9b49cecb3bdc",
    "ExecuteTime": {
     "end_time": "2025-07-24T09:46:17.481664Z",
     "start_time": "2025-07-24T09:46:17.479500Z"
    }
   },
   "source": [
    "tf.constant"
   ],
   "outputs": [
    {
     "data": {
      "text/plain": [
       "<function tensorflow.python.framework.constant_op.constant(value, dtype=None, shape=None, name='Const') -> Union[tensorflow.python.framework.ops.Operation, tensorflow.python.framework.ops._EagerTensorBase]>"
      ]
     },
     "execution_count": 29,
     "metadata": {},
     "output_type": "execute_result"
    }
   ],
   "execution_count": 29
  },
  {
   "cell_type": "markdown",
   "metadata": {
    "id": "eOjcKPNRiMHn"
   },
   "source": [
    "- 상수를 정의한다."
   ]
  },
  {
   "cell_type": "code",
   "metadata": {
    "executionInfo": {
     "elapsed": 7,
     "status": "ok",
     "timestamp": 1753147667443,
     "user": {
      "displayName": "고강태 강사",
      "userId": "11816854931407731745"
     },
     "user_tz": -540
    },
    "id": "O7DkxxG7E5tw",
    "ExecuteTime": {
     "end_time": "2025-07-24T09:46:17.506804Z",
     "start_time": "2025-07-24T09:46:17.504932Z"
    }
   },
   "source": [
    "# 상수 10, 20 를 정의한다.\n",
    "a = tf.constant(10)\n",
    "b = tf.constant(20, name=\"cons_a\")"
   ],
   "outputs": [],
   "execution_count": 30
  },
  {
   "cell_type": "markdown",
   "metadata": {
    "id": "1NCeIb9WiMHn"
   },
   "source": [
    "텐서 기반으로 랭크(차원), 형태, 데이터형식으로 구현되어 있다."
   ]
  },
  {
   "cell_type": "code",
   "metadata": {
    "colab": {
     "base_uri": "https://localhost:8080/"
    },
    "executionInfo": {
     "elapsed": 49,
     "status": "ok",
     "timestamp": 1753147681590,
     "user": {
      "displayName": "고강태 강사",
      "userId": "11816854931407731745"
     },
     "user_tz": -540
    },
    "id": "DcqtcNaiE5tw",
    "outputId": "9fc00bff-fd40-4bcb-ce6d-3dfd8388f002",
    "ExecuteTime": {
     "end_time": "2025-07-24T09:46:17.603069Z",
     "start_time": "2025-07-24T09:46:17.600850Z"
    }
   },
   "source": [
    "a"
   ],
   "outputs": [
    {
     "data": {
      "text/plain": [
       "<tf.Tensor: shape=(), dtype=int32, numpy=10>"
      ]
     },
     "execution_count": 31,
     "metadata": {},
     "output_type": "execute_result"
    }
   ],
   "execution_count": 31
  },
  {
   "cell_type": "code",
   "metadata": {
    "colab": {
     "base_uri": "https://localhost:8080/"
    },
    "executionInfo": {
     "elapsed": 63,
     "status": "ok",
     "timestamp": 1753147684003,
     "user": {
      "displayName": "고강태 강사",
      "userId": "11816854931407731745"
     },
     "user_tz": -540
    },
    "id": "otSiLILOE5tw",
    "outputId": "d9d72753-f48b-4b7a-9b83-133d70faab86",
    "ExecuteTime": {
     "end_time": "2025-07-24T09:46:17.626729Z",
     "start_time": "2025-07-24T09:46:17.624736Z"
    }
   },
   "source": [
    "b"
   ],
   "outputs": [
    {
     "data": {
      "text/plain": [
       "<tf.Tensor: shape=(), dtype=int32, numpy=20>"
      ]
     },
     "execution_count": 32,
     "metadata": {},
     "output_type": "execute_result"
    }
   ],
   "execution_count": 32
  },
  {
   "cell_type": "code",
   "metadata": {
    "colab": {
     "base_uri": "https://localhost:8080/"
    },
    "executionInfo": {
     "elapsed": 47,
     "status": "ok",
     "timestamp": 1753147721195,
     "user": {
      "displayName": "고강태 강사",
      "userId": "11816854931407731745"
     },
     "user_tz": -540
    },
    "id": "2v8bcgT8iMHn",
    "outputId": "d3ab0100-bb0d-4c08-9417-3d00ddd3e691",
    "ExecuteTime": {
     "end_time": "2025-07-24T09:46:17.657179Z",
     "start_time": "2025-07-24T09:46:17.654803Z"
    }
   },
   "source": [
    "# 정수형 텐서 상수를 하나 선언하자.\n",
    "a = tf.constant(10)\n",
    "a.dtype"
   ],
   "outputs": [
    {
     "data": {
      "text/plain": [
       "tf.int32"
      ]
     },
     "execution_count": 33,
     "metadata": {},
     "output_type": "execute_result"
    }
   ],
   "execution_count": 33
  },
  {
   "cell_type": "markdown",
   "metadata": {
    "id": "LMnexLC2iMHn"
   },
   "source": [
    "- 상수 텐서의 dtype은 변경이 불가"
   ]
  },
  {
   "cell_type": "code",
   "metadata": {
    "colab": {
     "base_uri": "https://localhost:8080/",
     "height": 166
    },
    "executionInfo": {
     "elapsed": 206,
     "status": "error",
     "timestamp": 1753147732707,
     "user": {
      "displayName": "고강태 강사",
      "userId": "11816854931407731745"
     },
     "user_tz": -540
    },
    "id": "9Hsy7BwoiMHn",
    "outputId": "7822f5fa-ec9e-428e-e075-580193ca8dfc"
   },
   "source": [
    "# 정수형을 tf.float32 로 변경해 보자\n",
    "a.dtype = tf.float32"
   ],
   "outputs": [],
   "execution_count": null
  },
  {
   "cell_type": "markdown",
   "metadata": {
    "id": "2xEb33GniMHo"
   },
   "source": [
    "### 텐서의 기본 속성\n",
    "\n",
    "\n",
    "텐서 속성과 메소드를 확인해 보자"
   ]
  },
  {
   "cell_type": "code",
   "metadata": {
    "colab": {
     "base_uri": "https://localhost:8080/"
    },
    "executionInfo": {
     "elapsed": 18,
     "status": "ok",
     "timestamp": 1753147763503,
     "user": {
      "displayName": "고강태 강사",
      "userId": "11816854931407731745"
     },
     "user_tz": -540
    },
    "id": "t4_EjnluiMHo",
    "outputId": "7eac4950-96c2-4b37-c1d8-1adeb455e958",
    "ExecuteTime": {
     "end_time": "2025-07-24T09:46:39.735164Z",
     "start_time": "2025-07-24T09:46:39.732077Z"
    }
   },
   "source": [
    "for i in dir(a) :\n",
    "    if not i.startswith(\"_\") :\n",
    "        print(i)"
   ],
   "outputs": [
    {
     "name": "stdout",
     "output_type": "stream",
     "text": [
      "OVERLOADABLE_OPERATORS\n",
      "backing_device\n",
      "consumers\n",
      "cpu\n",
      "device\n",
      "dtype\n",
      "eval\n",
      "experimental_ref\n",
      "get_shape\n",
      "gpu\n",
      "graph\n",
      "is_packed\n",
      "name\n",
      "ndim\n",
      "numpy\n",
      "op\n",
      "ref\n",
      "set_shape\n",
      "shape\n",
      "value_index\n"
     ]
    }
   ],
   "execution_count": 35
  },
  {
   "cell_type": "code",
   "metadata": {
    "colab": {
     "base_uri": "https://localhost:8080/"
    },
    "executionInfo": {
     "elapsed": 115,
     "status": "ok",
     "timestamp": 1753147785011,
     "user": {
      "displayName": "고강태 강사",
      "userId": "11816854931407731745"
     },
     "user_tz": -540
    },
    "id": "s10iYJefwDWp",
    "outputId": "06fb788b-ae20-4fec-cb8c-a84dacd0d339",
    "ExecuteTime": {
     "end_time": "2025-07-24T09:46:39.791728Z",
     "start_time": "2025-07-24T09:46:39.786980Z"
    }
   },
   "source": [
    "a.dtype\n"
   ],
   "outputs": [
    {
     "data": {
      "text/plain": [
       "tf.int32"
      ]
     },
     "execution_count": 36,
     "metadata": {},
     "output_type": "execute_result"
    }
   ],
   "execution_count": 36
  },
  {
   "cell_type": "code",
   "metadata": {
    "colab": {
     "base_uri": "https://localhost:8080/",
     "height": 35
    },
    "executionInfo": {
     "elapsed": 64,
     "status": "ok",
     "timestamp": 1753147798433,
     "user": {
      "displayName": "고강태 강사",
      "userId": "11816854931407731745"
     },
     "user_tz": -540
    },
    "id": "9HpyLv8owGqJ",
    "outputId": "6333055b-a8ea-4060-8969-6022831701b9",
    "ExecuteTime": {
     "end_time": "2025-07-24T09:46:39.844363Z",
     "start_time": "2025-07-24T09:46:39.840494Z"
    }
   },
   "source": [
    "a.device\n"
   ],
   "outputs": [
    {
     "data": {
      "text/plain": [
       "'/job:localhost/replica:0/task:0/device:GPU:0'"
      ]
     },
     "execution_count": 37,
     "metadata": {},
     "output_type": "execute_result"
    }
   ],
   "execution_count": 37
  },
  {
   "cell_type": "code",
   "metadata": {
    "colab": {
     "base_uri": "https://localhost:8080/",
     "height": 35
    },
    "executionInfo": {
     "elapsed": 89,
     "status": "ok",
     "timestamp": 1753147809682,
     "user": {
      "displayName": "고강태 강사",
      "userId": "11816854931407731745"
     },
     "user_tz": -540
    },
    "id": "TGs9W7_mwJal",
    "outputId": "4f9762e9-1731-4f91-88b6-ddd3dda0d3b2",
    "ExecuteTime": {
     "end_time": "2025-07-24T09:46:39.910194Z",
     "start_time": "2025-07-24T09:46:39.906484Z"
    }
   },
   "source": [
    "a.backing_device\n"
   ],
   "outputs": [
    {
     "data": {
      "text/plain": [
       "'/job:localhost/replica:0/task:0/device:CPU:0'"
      ]
     },
     "execution_count": 38,
     "metadata": {},
     "output_type": "execute_result"
    }
   ],
   "execution_count": 38
  },
  {
   "cell_type": "code",
   "metadata": {
    "colab": {
     "base_uri": "https://localhost:8080/"
    },
    "executionInfo": {
     "elapsed": 8,
     "status": "ok",
     "timestamp": 1753147820244,
     "user": {
      "displayName": "고강태 강사",
      "userId": "11816854931407731745"
     },
     "user_tz": -540
    },
    "id": "ERtIvb10wMEW",
    "outputId": "c40059f4-7ad8-4359-c8a0-9c1d68c46baa",
    "ExecuteTime": {
     "end_time": "2025-07-24T09:46:39.940311Z",
     "start_time": "2025-07-24T09:46:39.937223Z"
    }
   },
   "source": [
    "a.shape\n"
   ],
   "outputs": [
    {
     "data": {
      "text/plain": [
       "TensorShape([])"
      ]
     },
     "execution_count": 39,
     "metadata": {},
     "output_type": "execute_result"
    }
   ],
   "execution_count": 39
  },
  {
   "cell_type": "code",
   "metadata": {
    "colab": {
     "base_uri": "https://localhost:8080/"
    },
    "executionInfo": {
     "elapsed": 66,
     "status": "ok",
     "timestamp": 1753147822608,
     "user": {
      "displayName": "고강태 강사",
      "userId": "11816854931407731745"
     },
     "user_tz": -540
    },
    "id": "Z3o8rgHxiMHo",
    "outputId": "a270025d-3429-4d4d-ef74-d4967e90a35b",
    "ExecuteTime": {
     "end_time": "2025-07-24T09:46:40.001015Z",
     "start_time": "2025-07-24T09:46:39.994113Z"
    }
   },
   "source": [
    "a.ndim"
   ],
   "outputs": [
    {
     "data": {
      "text/plain": [
       "0"
      ]
     },
     "execution_count": 40,
     "metadata": {},
     "output_type": "execute_result"
    }
   ],
   "execution_count": 40
  },
  {
   "cell_type": "code",
   "metadata": {
    "colab": {
     "base_uri": "https://localhost:8080/"
    },
    "executionInfo": {
     "elapsed": 18,
     "status": "ok",
     "timestamp": 1744647451164,
     "user": {
      "displayName": "고강태",
      "userId": "11277884504998149270"
     },
     "user_tz": -540
    },
    "id": "Ginm2qhUE5tw",
    "outputId": "f74f9c8d-4c7b-4851-ae43-9bb8346830f5",
    "ExecuteTime": {
     "end_time": "2025-07-24T09:46:40.054448Z",
     "start_time": "2025-07-24T09:46:40.043237Z"
    }
   },
   "source": [
    "a.numpy()"
   ],
   "outputs": [
    {
     "data": {
      "text/plain": [
       "10"
      ]
     },
     "execution_count": 41,
     "metadata": {},
     "output_type": "execute_result"
    }
   ],
   "execution_count": 41
  },
  {
   "cell_type": "code",
   "metadata": {
    "colab": {
     "base_uri": "https://localhost:8080/"
    },
    "executionInfo": {
     "elapsed": 4,
     "status": "ok",
     "timestamp": 1744647453127,
     "user": {
      "displayName": "고강태",
      "userId": "11277884504998149270"
     },
     "user_tz": -540
    },
    "id": "SNP-_0DBE5tx",
    "outputId": "bbd37c01-9eb2-4f09-c72e-987e59b3745e",
    "ExecuteTime": {
     "end_time": "2025-07-24T09:46:40.105829Z",
     "start_time": "2025-07-24T09:46:40.100397Z"
    }
   },
   "source": [
    "b.numpy()"
   ],
   "outputs": [
    {
     "data": {
      "text/plain": [
       "20"
      ]
     },
     "execution_count": 42,
     "metadata": {},
     "output_type": "execute_result"
    }
   ],
   "execution_count": 42
  },
  {
   "cell_type": "markdown",
   "metadata": {
    "id": "g0fEp0LKE5tx"
   },
   "source": [
    "### 문자열 상수\n",
    "\n",
    "hello world 출력"
   ]
  },
  {
   "cell_type": "code",
   "metadata": {
    "colab": {
     "base_uri": "https://localhost:8080/"
    },
    "executionInfo": {
     "elapsed": 49,
     "status": "ok",
     "timestamp": 1753147930137,
     "user": {
      "displayName": "고강태 강사",
      "userId": "11816854931407731745"
     },
     "user_tz": -540
    },
    "id": "xy0sl35NE5tx",
    "outputId": "29bdce50-ec0a-4aae-c9b0-d196ee81006f",
    "ExecuteTime": {
     "end_time": "2025-07-24T09:46:40.127012Z",
     "start_time": "2025-07-24T09:46:40.123962Z"
    }
   },
   "source": [
    "# 상수: Hello World 값\n",
    "hello = tf.constant('Hello, tensorflow !!')\n",
    "print(hello)"
   ],
   "outputs": [
    {
     "name": "stdout",
     "output_type": "stream",
     "text": [
      "tf.Tensor(b'Hello, tensorflow !!', shape=(), dtype=string)\n"
     ]
    }
   ],
   "execution_count": 43
  },
  {
   "cell_type": "markdown",
   "metadata": {
    "id": "I7uB0QfeiMHp"
   },
   "source": [
    "### 타입 지정\n",
    "\n",
    "타입 지정 할 경우는 실제 텐서 생성할 때 타입을 dtype에 정의해야 한다"
   ]
  },
  {
   "cell_type": "code",
   "metadata": {
    "colab": {
     "base_uri": "https://localhost:8080/"
    },
    "executionInfo": {
     "elapsed": 18,
     "status": "ok",
     "timestamp": 1753147940519,
     "user": {
      "displayName": "고강태 강사",
      "userId": "11816854931407731745"
     },
     "user_tz": -540
    },
    "id": "IfGq9xnBiMHp",
    "outputId": "f46bf6c9-502f-4180-9da5-cda9e0b55bc0",
    "ExecuteTime": {
     "end_time": "2025-07-24T09:46:40.189094Z",
     "start_time": "2025-07-24T09:46:40.173059Z"
    }
   },
   "source": [
    "# 10 을 float32 형식으로 선언\n",
    "f = tf.constant(10, dtype=tf.float32)\n",
    "f"
   ],
   "outputs": [
    {
     "data": {
      "text/plain": [
       "<tf.Tensor: shape=(), dtype=float32, numpy=10.0>"
      ]
     },
     "execution_count": 44,
     "metadata": {},
     "output_type": "execute_result"
    }
   ],
   "execution_count": 44
  },
  {
   "cell_type": "code",
   "metadata": {
    "colab": {
     "base_uri": "https://localhost:8080/"
    },
    "executionInfo": {
     "elapsed": 46,
     "status": "ok",
     "timestamp": 1753147950074,
     "user": {
      "displayName": "고강태 강사",
      "userId": "11816854931407731745"
     },
     "user_tz": -540
    },
    "id": "8MIi3WDtiMHp",
    "outputId": "92c0b3de-0946-4ece-a6c3-8f4d8d50bb62",
    "ExecuteTime": {
     "end_time": "2025-07-24T09:46:40.222352Z",
     "start_time": "2025-07-24T09:46:40.220486Z"
    }
   },
   "source": [
    "f.dtype"
   ],
   "outputs": [
    {
     "data": {
      "text/plain": [
       "tf.float32"
      ]
     },
     "execution_count": 45,
     "metadata": {},
     "output_type": "execute_result"
    }
   ],
   "execution_count": 45
  },
  {
   "cell_type": "code",
   "metadata": {
    "id": "_XGzSbaliMHp",
    "outputId": "429a0910-2159-4a43-b9e3-62d4f86e972e",
    "ExecuteTime": {
     "end_time": "2025-07-24T09:46:40.463696Z",
     "start_time": "2025-07-24T09:46:40.460222Z"
    }
   },
   "source": [
    "f.device"
   ],
   "outputs": [
    {
     "data": {
      "text/plain": [
       "'/job:localhost/replica:0/task:0/device:GPU:0'"
      ]
     },
     "execution_count": 46,
     "metadata": {},
     "output_type": "execute_result"
    }
   ],
   "execution_count": 46
  },
  {
   "cell_type": "markdown",
   "metadata": {
    "id": "pTcXTLreiMHp"
   },
   "source": [
    "### 다차원 텐서"
   ]
  },
  {
   "cell_type": "code",
   "metadata": {
    "colab": {
     "base_uri": "https://localhost:8080/"
    },
    "executionInfo": {
     "elapsed": 73,
     "status": "ok",
     "timestamp": 1753147960579,
     "user": {
      "displayName": "고강태 강사",
      "userId": "11816854931407731745"
     },
     "user_tz": -540
    },
    "id": "h5rn1sd5iMHp",
    "outputId": "93f06b33-1c02-4822-e009-bdaa6807e5bd",
    "ExecuteTime": {
     "end_time": "2025-07-24T09:46:40.533182Z",
     "start_time": "2025-07-24T09:46:40.529377Z"
    }
   },
   "source": [
    "# 행렬 (2차원 텐서)\n",
    "matrix = tf.constant([[10, 20], [30, 40]])\n",
    "print(f\"Matrix: {matrix}, Shape: {matrix.shape}, Dtype: {matrix.dtype}\")"
   ],
   "outputs": [
    {
     "name": "stdout",
     "output_type": "stream",
     "text": [
      "Matrix: [[10 20]\n",
      " [30 40]], Shape: (2, 2), Dtype: <dtype: 'int32'>\n"
     ]
    }
   ],
   "execution_count": 47
  },
  {
   "cell_type": "code",
   "metadata": {
    "id": "NzbbLvcyiMHp",
    "outputId": "abb2b28c-213c-4de9-e732-a23b8148bd2f",
    "ExecuteTime": {
     "end_time": "2025-07-24T09:46:40.582146Z",
     "start_time": "2025-07-24T09:46:40.575261Z"
    }
   },
   "source": [
    "matrix.dtype"
   ],
   "outputs": [
    {
     "data": {
      "text/plain": [
       "tf.int32"
      ]
     },
     "execution_count": 48,
     "metadata": {},
     "output_type": "execute_result"
    }
   ],
   "execution_count": 48
  },
  {
   "cell_type": "code",
   "metadata": {
    "colab": {
     "base_uri": "https://localhost:8080/"
    },
    "executionInfo": {
     "elapsed": 54,
     "status": "ok",
     "timestamp": 1753147982763,
     "user": {
      "displayName": "고강태 강사",
      "userId": "11816854931407731745"
     },
     "user_tz": -540
    },
    "id": "PRH9MJ0AiMHq",
    "outputId": "d1075500-e913-4833-a2ef-0284fcb3ca09",
    "ExecuteTime": {
     "end_time": "2025-07-24T09:46:40.618118Z",
     "start_time": "2025-07-24T09:46:40.614287Z"
    }
   },
   "source": [
    "matrix = tf.ones([10,10], dtype=tf.int32)\n",
    "matrix"
   ],
   "outputs": [
    {
     "data": {
      "text/plain": [
       "<tf.Tensor: shape=(10, 10), dtype=int32, numpy=\n",
       "array([[1, 1, 1, 1, 1, 1, 1, 1, 1, 1],\n",
       "       [1, 1, 1, 1, 1, 1, 1, 1, 1, 1],\n",
       "       [1, 1, 1, 1, 1, 1, 1, 1, 1, 1],\n",
       "       [1, 1, 1, 1, 1, 1, 1, 1, 1, 1],\n",
       "       [1, 1, 1, 1, 1, 1, 1, 1, 1, 1],\n",
       "       [1, 1, 1, 1, 1, 1, 1, 1, 1, 1],\n",
       "       [1, 1, 1, 1, 1, 1, 1, 1, 1, 1],\n",
       "       [1, 1, 1, 1, 1, 1, 1, 1, 1, 1],\n",
       "       [1, 1, 1, 1, 1, 1, 1, 1, 1, 1],\n",
       "       [1, 1, 1, 1, 1, 1, 1, 1, 1, 1]], dtype=int32)>"
      ]
     },
     "execution_count": 49,
     "metadata": {},
     "output_type": "execute_result"
    }
   ],
   "execution_count": 49
  },
  {
   "cell_type": "code",
   "metadata": {
    "id": "j0sGSyAqiMHq",
    "outputId": "4e021ca4-ccb0-4388-d703-24a2d0b4fe62",
    "ExecuteTime": {
     "end_time": "2025-07-24T09:46:41.860272Z",
     "start_time": "2025-07-24T09:46:41.858358Z"
    }
   },
   "source": [
    "matrix.dtype"
   ],
   "outputs": [
    {
     "data": {
      "text/plain": [
       "tf.int32"
      ]
     },
     "execution_count": 50,
     "metadata": {},
     "output_type": "execute_result"
    }
   ],
   "execution_count": 50
  },
  {
   "cell_type": "markdown",
   "metadata": {
    "id": "SqudPRegE5t1"
   },
   "source": [
    "# 3. Operation (연산)\n",
    "\n",
    "텐서 사이의 사칙연산, 브로드캐스팅 등의 다양한 수치 연산을 수행한다\n",
    "- TensorFlow는 다양한 수학 연산, 행렬 연산, 비교 연산 등을 제공하여 복잡한 계산 그래프를 구축할 수 있도록 합니다.\n",
    "\n"
   ]
  },
  {
   "cell_type": "markdown",
   "metadata": {
    "id": "iQ6ZOgQCiMHq"
   },
   "source": [
    "### 기본 수학 연산\n",
    "\n",
    " - 덧셈: tf.add(a, b) 또는 a + b\n",
    " - 뺄셈: tf.subtract(a, b) 또는 a - b\n",
    " - 곱셈: tf.multiply(a, b) 또는 a * b (요소별 곱셈)\n",
    " - 나눗셈: tf.divide(a, b) 또는 a / b\n"
   ]
  },
  {
   "cell_type": "code",
   "metadata": {
    "executionInfo": {
     "elapsed": 6,
     "status": "ok",
     "timestamp": 1744647497698,
     "user": {
      "displayName": "고강태",
      "userId": "11277884504998149270"
     },
     "user_tz": -540
    },
    "id": "NKjRVR5AE5t1",
    "outputId": "b30b0b9d-853e-4d03-f6d6-e6fdb7834ec2",
    "ExecuteTime": {
     "end_time": "2025-07-24T09:46:41.919278Z",
     "start_time": "2025-07-24T09:46:41.916360Z"
    }
   },
   "source": [
    "# substract()\n",
    "tf.subtract(a, b)"
   ],
   "outputs": [
    {
     "data": {
      "text/plain": [
       "<tf.Tensor: shape=(), dtype=int32, numpy=-10>"
      ]
     },
     "execution_count": 51,
     "metadata": {},
     "output_type": "execute_result"
    }
   ],
   "execution_count": 51
  },
  {
   "cell_type": "code",
   "metadata": {
    "executionInfo": {
     "elapsed": 34,
     "status": "ok",
     "timestamp": 1753148012011,
     "user": {
      "displayName": "고강태 강사",
      "userId": "11816854931407731745"
     },
     "user_tz": -540
    },
    "id": "eo1U2hg5E5t1",
    "ExecuteTime": {
     "end_time": "2025-07-24T09:46:42.169068Z",
     "start_time": "2025-07-24T09:46:42.166990Z"
    }
   },
   "source": [
    "a = tf.constant(10)\n",
    "b = tf.constant(32)"
   ],
   "outputs": [],
   "execution_count": 52
  },
  {
   "cell_type": "code",
   "metadata": {
    "colab": {
     "base_uri": "https://localhost:8080/"
    },
    "executionInfo": {
     "elapsed": 71,
     "status": "ok",
     "timestamp": 1753148031561,
     "user": {
      "displayName": "고강태 강사",
      "userId": "11816854931407731745"
     },
     "user_tz": -540
    },
    "id": "_DUnmT__w_q-",
    "outputId": "22962cac-3a6f-4bca-cb90-645e3052d363",
    "ExecuteTime": {
     "end_time": "2025-07-24T09:46:42.220795Z",
     "start_time": "2025-07-24T09:46:42.216378Z"
    }
   },
   "source": [
    "# multiply\n",
    "tf.multiply(a, b)"
   ],
   "outputs": [
    {
     "data": {
      "text/plain": [
       "<tf.Tensor: shape=(), dtype=int32, numpy=320>"
      ]
     },
     "execution_count": 53,
     "metadata": {},
     "output_type": "execute_result"
    }
   ],
   "execution_count": 53
  },
  {
   "cell_type": "code",
   "metadata": {
    "colab": {
     "base_uri": "https://localhost:8080/"
    },
    "executionInfo": {
     "elapsed": 73,
     "status": "ok",
     "timestamp": 1753148036879,
     "user": {
      "displayName": "고강태 강사",
      "userId": "11816854931407731745"
     },
     "user_tz": -540
    },
    "id": "Erg_3DAeiMHq",
    "outputId": "60de3ac8-197d-4b94-a97e-509a099c9384",
    "ExecuteTime": {
     "end_time": "2025-07-24T09:46:42.259044Z",
     "start_time": "2025-07-24T09:46:42.253923Z"
    }
   },
   "source": [
    "# divide()\n",
    "tf.divide(a, b)"
   ],
   "outputs": [
    {
     "data": {
      "text/plain": [
       "<tf.Tensor: shape=(), dtype=float64, numpy=0.3125>"
      ]
     },
     "execution_count": 54,
     "metadata": {},
     "output_type": "execute_result"
    }
   ],
   "execution_count": 54
  },
  {
   "cell_type": "code",
   "metadata": {
    "executionInfo": {
     "elapsed": 21,
     "status": "ok",
     "timestamp": 1753148072770,
     "user": {
      "displayName": "고강태 강사",
      "userId": "11816854931407731745"
     },
     "user_tz": -540
    },
    "id": "1TZ1eUYPiMHr",
    "ExecuteTime": {
     "end_time": "2025-07-24T09:46:42.298364Z",
     "start_time": "2025-07-24T09:46:42.295480Z"
    }
   },
   "source": [
    "c = tf.constant(10)\n",
    "d = tf.constant(20)"
   ],
   "outputs": [],
   "execution_count": 55
  },
  {
   "cell_type": "code",
   "metadata": {
    "colab": {
     "base_uri": "https://localhost:8080/"
    },
    "executionInfo": {
     "elapsed": 54,
     "status": "ok",
     "timestamp": 1753148122426,
     "user": {
      "displayName": "고강태 강사",
      "userId": "11816854931407731745"
     },
     "user_tz": -540
    },
    "id": "4lHFzjC_iMHr",
    "outputId": "8945eabe-0e46-4916-b479-da1fd86430e3",
    "ExecuteTime": {
     "end_time": "2025-07-24T09:46:42.332177Z",
     "start_time": "2025-07-24T09:46:42.328525Z"
    }
   },
   "source": [
    "k = tf.constant( 10)\n",
    "j = 20\n",
    "# divide k, j\n",
    "tf.divide(k,c)"
   ],
   "outputs": [
    {
     "data": {
      "text/plain": [
       "<tf.Tensor: shape=(), dtype=float64, numpy=1.0>"
      ]
     },
     "execution_count": 56,
     "metadata": {},
     "output_type": "execute_result"
    }
   ],
   "execution_count": 56
  },
  {
   "cell_type": "markdown",
   "metadata": {
    "id": "mR_x0eU-iMHr"
   },
   "source": [
    "연산자를 사용한 연산도 가능하다"
   ]
  },
  {
   "cell_type": "code",
   "metadata": {
    "colab": {
     "base_uri": "https://localhost:8080/"
    },
    "executionInfo": {
     "elapsed": 56,
     "status": "ok",
     "timestamp": 1753148135508,
     "user": {
      "displayName": "고강태 강사",
      "userId": "11816854931407731745"
     },
     "user_tz": -540
    },
    "id": "7tGAqAoJxZKe",
    "outputId": "6bc1e5b6-4f95-424c-a7f8-25b5164f1055",
    "ExecuteTime": {
     "end_time": "2025-07-24T09:46:42.369401Z",
     "start_time": "2025-07-24T09:46:42.366697Z"
    }
   },
   "source": [
    "a + b"
   ],
   "outputs": [
    {
     "data": {
      "text/plain": [
       "<tf.Tensor: shape=(), dtype=int32, numpy=42>"
      ]
     },
     "execution_count": 57,
     "metadata": {},
     "output_type": "execute_result"
    }
   ],
   "execution_count": 57
  },
  {
   "cell_type": "code",
   "metadata": {
    "colab": {
     "base_uri": "https://localhost:8080/"
    },
    "executionInfo": {
     "elapsed": 88,
     "status": "ok",
     "timestamp": 1753148146277,
     "user": {
      "displayName": "고강태 강사",
      "userId": "11816854931407731745"
     },
     "user_tz": -540
    },
    "id": "xX4oFxJxxblo",
    "outputId": "d0aa041a-c53b-4080-dc44-960d23792f89",
    "ExecuteTime": {
     "end_time": "2025-07-24T09:46:42.499332Z",
     "start_time": "2025-07-24T09:46:42.495939Z"
    }
   },
   "source": [
    "a - b"
   ],
   "outputs": [
    {
     "data": {
      "text/plain": [
       "<tf.Tensor: shape=(), dtype=int32, numpy=-22>"
      ]
     },
     "execution_count": 58,
     "metadata": {},
     "output_type": "execute_result"
    }
   ],
   "execution_count": 58
  },
  {
   "cell_type": "code",
   "metadata": {
    "ExecuteTime": {
     "end_time": "2025-07-24T09:46:42.583035Z",
     "start_time": "2025-07-24T09:46:42.579326Z"
    }
   },
   "source": [
    "a * b"
   ],
   "outputs": [
    {
     "data": {
      "text/plain": [
       "<tf.Tensor: shape=(), dtype=int32, numpy=320>"
      ]
     },
     "execution_count": 59,
     "metadata": {},
     "output_type": "execute_result"
    }
   ],
   "execution_count": 59
  },
  {
   "cell_type": "code",
   "metadata": {
    "ExecuteTime": {
     "end_time": "2025-07-24T09:46:42.636107Z",
     "start_time": "2025-07-24T09:46:42.632325Z"
    }
   },
   "source": [
    "a / b"
   ],
   "outputs": [
    {
     "data": {
      "text/plain": [
       "<tf.Tensor: shape=(), dtype=float64, numpy=0.3125>"
      ]
     },
     "execution_count": 60,
     "metadata": {},
     "output_type": "execute_result"
    }
   ],
   "execution_count": 60
  },
  {
   "cell_type": "code",
   "metadata": {
    "colab": {
     "base_uri": "https://localhost:8080/"
    },
    "executionInfo": {
     "elapsed": 40,
     "status": "ok",
     "timestamp": 1753148154767,
     "user": {
      "displayName": "고강태 강사",
      "userId": "11816854931407731745"
     },
     "user_tz": -540
    },
    "id": "1ZCj6AqFxdbg",
    "outputId": "c547566c-8e05-4cd3-e7ad-92f967035148",
    "ExecuteTime": {
     "end_time": "2025-07-24T09:46:42.682699Z",
     "start_time": "2025-07-24T09:46:42.678915Z"
    }
   },
   "source": [
    "a % b"
   ],
   "outputs": [
    {
     "data": {
      "text/plain": [
       "<tf.Tensor: shape=(), dtype=int32, numpy=10>"
      ]
     },
     "execution_count": 61,
     "metadata": {},
     "output_type": "execute_result"
    }
   ],
   "execution_count": 61
  },
  {
   "cell_type": "code",
   "metadata": {
    "colab": {
     "base_uri": "https://localhost:8080/"
    },
    "executionInfo": {
     "elapsed": 9,
     "status": "ok",
     "timestamp": 1753148167495,
     "user": {
      "displayName": "고강태 강사",
      "userId": "11816854931407731745"
     },
     "user_tz": -540
    },
    "id": "OlVc2O3EiMHr",
    "outputId": "2e982440-4000-47ad-dec6-0ecb81f0804f",
    "ExecuteTime": {
     "end_time": "2025-07-24T09:46:42.717709Z",
     "start_time": "2025-07-24T09:46:42.714143Z"
    }
   },
   "source": [
    "# to numpy\n",
    "a.numpy()"
   ],
   "outputs": [
    {
     "data": {
      "text/plain": [
       "10"
      ]
     },
     "execution_count": 62,
     "metadata": {},
     "output_type": "execute_result"
    }
   ],
   "execution_count": 62
  },
  {
   "cell_type": "markdown",
   "metadata": {
    "id": "2u1YlVTeiMHr"
   },
   "source": [
    "### 반올림처리"
   ]
  },
  {
   "cell_type": "code",
   "metadata": {
    "colab": {
     "base_uri": "https://localhost:8080/"
    },
    "executionInfo": {
     "elapsed": 761,
     "status": "ok",
     "timestamp": 1753148180635,
     "user": {
      "displayName": "고강태 강사",
      "userId": "11816854931407731745"
     },
     "user_tz": -540
    },
    "id": "CvgBddPkiMHr",
    "outputId": "0d943f76-dd06-442f-d60b-6accece1cbbf",
    "ExecuteTime": {
     "end_time": "2025-07-24T09:46:42.748870Z",
     "start_time": "2025-07-24T09:46:42.739481Z"
    }
   },
   "source": [
    "# floor\n",
    "tf.floor(10.5)"
   ],
   "outputs": [
    {
     "data": {
      "text/plain": [
       "<tf.Tensor: shape=(), dtype=float32, numpy=10.0>"
      ]
     },
     "execution_count": 63,
     "metadata": {},
     "output_type": "execute_result"
    }
   ],
   "execution_count": 63
  },
  {
   "cell_type": "code",
   "metadata": {
    "colab": {
     "base_uri": "https://localhost:8080/"
    },
    "executionInfo": {
     "elapsed": 68,
     "status": "ok",
     "timestamp": 1753148185408,
     "user": {
      "displayName": "고강태 강사",
      "userId": "11816854931407731745"
     },
     "user_tz": -540
    },
    "id": "M-_QoizviMHr",
    "outputId": "4a779b00-265c-48a7-e8c6-46681dc22a62",
    "ExecuteTime": {
     "end_time": "2025-07-24T09:46:42.784121Z",
     "start_time": "2025-07-24T09:46:42.781222Z"
    }
   },
   "source": [
    "# round\n",
    "tf.round(10.5)"
   ],
   "outputs": [
    {
     "data": {
      "text/plain": [
       "<tf.Tensor: shape=(), dtype=float32, numpy=10.0>"
      ]
     },
     "execution_count": 64,
     "metadata": {},
     "output_type": "execute_result"
    }
   ],
   "execution_count": 64
  },
  {
   "cell_type": "markdown",
   "metadata": {
    "id": "UGD5X6j8iMHr"
   },
   "source": [
    "### 절대값 및 부호처리"
   ]
  },
  {
   "cell_type": "code",
   "metadata": {
    "colab": {
     "base_uri": "https://localhost:8080/"
    },
    "executionInfo": {
     "elapsed": 19,
     "status": "ok",
     "timestamp": 1753148194620,
     "user": {
      "displayName": "고강태 강사",
      "userId": "11816854931407731745"
     },
     "user_tz": -540
    },
    "id": "AGoYGHSTiMHr",
    "outputId": "5b5d7d6f-ac83-43a7-fb15-71772736d41b",
    "ExecuteTime": {
     "end_time": "2025-07-24T09:46:42.827118Z",
     "start_time": "2025-07-24T09:46:42.817392Z"
    }
   },
   "source": [
    "tf.abs(-100)"
   ],
   "outputs": [
    {
     "data": {
      "text/plain": [
       "<tf.Tensor: shape=(), dtype=int32, numpy=100>"
      ]
     },
     "execution_count": 65,
     "metadata": {},
     "output_type": "execute_result"
    }
   ],
   "execution_count": 65
  },
  {
   "cell_type": "code",
   "metadata": {
    "colab": {
     "base_uri": "https://localhost:8080/",
     "height": 187
    },
    "executionInfo": {
     "elapsed": 55,
     "status": "ok",
     "timestamp": 1753148200278,
     "user": {
      "displayName": "고강태 강사",
      "userId": "11816854931407731745"
     },
     "user_tz": -540
    },
    "id": "Cwr1jDPxiMHs",
    "outputId": "f56601d1-155c-4c55-d6ee-f6405641b115",
    "ExecuteTime": {
     "end_time": "2025-07-24T09:46:42.861523Z",
     "start_time": "2025-07-24T09:46:42.859751Z"
    }
   },
   "source": [
    "tf.sign"
   ],
   "outputs": [
    {
     "data": {
      "text/plain": [
       "<function tensorflow.python.ops.math_ops.sign(x, name=None)>"
      ]
     },
     "execution_count": 66,
     "metadata": {},
     "output_type": "execute_result"
    }
   ],
   "execution_count": 66
  },
  {
   "cell_type": "code",
   "metadata": {
    "colab": {
     "base_uri": "https://localhost:8080/",
     "height": 187
    },
    "executionInfo": {
     "elapsed": 38,
     "status": "ok",
     "timestamp": 1753148206275,
     "user": {
      "displayName": "고강태 강사",
      "userId": "11816854931407731745"
     },
     "user_tz": -540
    },
    "id": "zjRJGWuxiMHs",
    "outputId": "bf1faa98-1848-4283-e5a3-07c2f7430ee3",
    "ExecuteTime": {
     "end_time": "2025-07-24T09:46:43.046221Z",
     "start_time": "2025-07-24T09:46:43.042485Z"
    }
   },
   "source": [
    "tf.negative"
   ],
   "outputs": [
    {
     "data": {
      "text/plain": [
       "<function tensorflow.python.ops.gen_math_ops.neg(x: typing.Annotated[_any, ~TV_Neg_T], name=None) -> typing.Annotated[_any, ~TV_Neg_T]>"
      ]
     },
     "execution_count": 67,
     "metadata": {},
     "output_type": "execute_result"
    }
   ],
   "execution_count": 67
  },
  {
   "cell_type": "markdown",
   "metadata": {
    "id": "wW2mbegmiMHs"
   },
   "source": [
    "### 제곱 및 제곱근, 지수"
   ]
  },
  {
   "cell_type": "code",
   "metadata": {
    "id": "LxAzlM1ZiMHs",
    "outputId": "30e0743d-82f4-40b4-bd40-881486acd37e",
    "ExecuteTime": {
     "end_time": "2025-07-24T09:46:43.096534Z",
     "start_time": "2025-07-24T09:46:43.093579Z"
    }
   },
   "source": [
    "tf.pow"
   ],
   "outputs": [
    {
     "data": {
      "text/plain": [
       "<function tensorflow.python.ops.math_ops.pow(x, y, name=None)>"
      ]
     },
     "execution_count": 68,
     "metadata": {},
     "output_type": "execute_result"
    }
   ],
   "execution_count": 68
  },
  {
   "cell_type": "code",
   "metadata": {
    "colab": {
     "base_uri": "https://localhost:8080/"
    },
    "executionInfo": {
     "elapsed": 23,
     "status": "ok",
     "timestamp": 1753148210626,
     "user": {
      "displayName": "고강태 강사",
      "userId": "11816854931407731745"
     },
     "user_tz": -540
    },
    "id": "Kd_V9p2riMHs",
    "outputId": "767b72fd-d508-4f90-f0ed-ff4ba367abab",
    "ExecuteTime": {
     "end_time": "2025-07-24T09:46:43.147514Z",
     "start_time": "2025-07-24T09:46:43.144594Z"
    }
   },
   "source": [
    "tf.pow(10,2)"
   ],
   "outputs": [
    {
     "data": {
      "text/plain": [
       "<tf.Tensor: shape=(), dtype=int32, numpy=100>"
      ]
     },
     "execution_count": 69,
     "metadata": {},
     "output_type": "execute_result"
    }
   ],
   "execution_count": 69
  },
  {
   "cell_type": "code",
   "metadata": {
    "id": "Rp9mieV0iMHs",
    "outputId": "87d00c07-44fc-407c-926c-9fc11310ca94",
    "ExecuteTime": {
     "end_time": "2025-07-24T09:46:43.196265Z",
     "start_time": "2025-07-24T09:46:43.194128Z"
    }
   },
   "source": [
    "tf.square"
   ],
   "outputs": [
    {
     "data": {
      "text/plain": [
       "<function tensorflow.python.ops.gen_math_ops.square(x: typing.Annotated[_any, ~TV_Square_T], name=None) -> typing.Annotated[_any, ~TV_Square_T]>"
      ]
     },
     "execution_count": 70,
     "metadata": {},
     "output_type": "execute_result"
    }
   ],
   "execution_count": 70
  },
  {
   "cell_type": "markdown",
   "metadata": {
    "id": "M2ed7DNriMHs"
   },
   "source": [
    "## Tensor broadcasting"
   ]
  },
  {
   "cell_type": "markdown",
   "metadata": {
    "id": "CUUUnt_AE5t1"
   },
   "source": [
    "### Constant 1-D Tensor populated with value list."
   ]
  },
  {
   "cell_type": "code",
   "metadata": {
    "executionInfo": {
     "elapsed": 19,
     "status": "ok",
     "timestamp": 1753148239747,
     "user": {
      "displayName": "고강태 강사",
      "userId": "11816854931407731745"
     },
     "user_tz": -540
    },
    "id": "WnKJbaNTE5t1",
    "ExecuteTime": {
     "end_time": "2025-07-24T09:46:43.226273Z",
     "start_time": "2025-07-24T09:46:43.223608Z"
    }
   },
   "source": [
    "tensor1 = tf.constant([1, 2, 3, 4, 5, 6])"
   ],
   "outputs": [],
   "execution_count": 71
  },
  {
   "cell_type": "code",
   "metadata": {
    "colab": {
     "base_uri": "https://localhost:8080/"
    },
    "executionInfo": {
     "elapsed": 36,
     "status": "ok",
     "timestamp": 1753148253731,
     "user": {
      "displayName": "고강태 강사",
      "userId": "11816854931407731745"
     },
     "user_tz": -540
    },
    "id": "2lcD5D3Axz5P",
    "outputId": "b772f0fc-efd4-4b0e-cfd7-e0f90361a8b7",
    "ExecuteTime": {
     "end_time": "2025-07-24T09:46:43.255810Z",
     "start_time": "2025-07-24T09:46:43.250916Z"
    }
   },
   "source": [
    "# 상수 10을 + 브로드캐스트\n",
    "tensor1_ = tensor1 + 10\n",
    "tensor1_"
   ],
   "outputs": [
    {
     "data": {
      "text/plain": [
       "<tf.Tensor: shape=(6,), dtype=int32, numpy=array([11, 12, 13, 14, 15, 16], dtype=int32)>"
      ]
     },
     "execution_count": 72,
     "metadata": {},
     "output_type": "execute_result"
    }
   ],
   "execution_count": 72
  },
  {
   "cell_type": "code",
   "metadata": {
    "colab": {
     "base_uri": "https://localhost:8080/"
    },
    "executionInfo": {
     "elapsed": 73,
     "status": "ok",
     "timestamp": 1753148262408,
     "user": {
      "displayName": "고강태 강사",
      "userId": "11816854931407731745"
     },
     "user_tz": -540
    },
    "id": "GfPE_aV_E5t2",
    "outputId": "f8743c68-0b3e-4546-8652-ec5161aed9a9",
    "ExecuteTime": {
     "end_time": "2025-07-24T09:46:43.292205Z",
     "start_time": "2025-07-24T09:46:43.288093Z"
    }
   },
   "source": [
    "tensor1_.shape, tensor1_.ndim"
   ],
   "outputs": [
    {
     "data": {
      "text/plain": [
       "(TensorShape([6]), 1)"
      ]
     },
     "execution_count": 73,
     "metadata": {},
     "output_type": "execute_result"
    }
   ],
   "execution_count": 73
  },
  {
   "cell_type": "code",
   "metadata": {
    "colab": {
     "base_uri": "https://localhost:8080/",
     "height": 35
    },
    "executionInfo": {
     "elapsed": 57,
     "status": "ok",
     "timestamp": 1753148267830,
     "user": {
      "displayName": "고강태 강사",
      "userId": "11816854931407731745"
     },
     "user_tz": -540
    },
    "id": "7NvTVWL3E5t2",
    "outputId": "2afa5287-a048-4388-ed8b-958640e7fdea",
    "ExecuteTime": {
     "end_time": "2025-07-24T09:46:43.317056Z",
     "start_time": "2025-07-24T09:46:43.315055Z"
    }
   },
   "source": [
    "tensor1_.backing_device"
   ],
   "outputs": [
    {
     "data": {
      "text/plain": [
       "'/job:localhost/replica:0/task:0/device:CPU:0'"
      ]
     },
     "execution_count": 74,
     "metadata": {},
     "output_type": "execute_result"
    }
   ],
   "execution_count": 74
  },
  {
   "cell_type": "code",
   "metadata": {
    "colab": {
     "base_uri": "https://localhost:8080/"
    },
    "executionInfo": {
     "elapsed": 20,
     "status": "ok",
     "timestamp": 1753148269460,
     "user": {
      "displayName": "고강태 강사",
      "userId": "11816854931407731745"
     },
     "user_tz": -540
    },
    "id": "GvZjoM_tE5t2",
    "outputId": "fbeeb93e-6d97-4bf8-993c-a93b3b5a4e8c",
    "ExecuteTime": {
     "end_time": "2025-07-24T09:46:43.354056Z",
     "start_time": "2025-07-24T09:46:43.351556Z"
    }
   },
   "source": [
    "tensor1.cpu()"
   ],
   "outputs": [
    {
     "name": "stdout",
     "output_type": "stream",
     "text": [
      "WARNING:tensorflow:From /var/folders/x_/xf7w4xhx6kl03__yxdgdfl9m0000gn/T/ipykernel_68251/2728131290.py:1: _EagerTensorBase.cpu (from tensorflow.python.framework.ops) is deprecated and will be removed in a future version.\n",
      "Instructions for updating:\n",
      "Use tf.identity with explicit device placement instead.\n"
     ]
    },
    {
     "data": {
      "text/plain": [
       "<tf.Tensor: shape=(6,), dtype=int32, numpy=array([1, 2, 3, 4, 5, 6], dtype=int32)>"
      ]
     },
     "execution_count": 75,
     "metadata": {},
     "output_type": "execute_result"
    }
   ],
   "execution_count": 75
  },
  {
   "cell_type": "markdown",
   "metadata": {
    "id": "NQ_PIBfDE5t3"
   },
   "source": [
    "### 특정 형상을 기준으로 동일한 값을 저장"
   ]
  },
  {
   "cell_type": "code",
   "metadata": {
    "executionInfo": {
     "elapsed": 41,
     "status": "ok",
     "timestamp": 1753148286933,
     "user": {
      "displayName": "고강태 강사",
      "userId": "11816854931407731745"
     },
     "user_tz": -540
    },
    "id": "DdTzrW8bE5t3",
    "ExecuteTime": {
     "end_time": "2025-07-24T09:46:43.449944Z",
     "start_time": "2025-07-24T09:46:43.445962Z"
    }
   },
   "source": [
    "# fill()\n",
    "fill_ = tf.fill([2, 3], 9)"
   ],
   "outputs": [],
   "execution_count": 76
  },
  {
   "cell_type": "code",
   "metadata": {
    "colab": {
     "base_uri": "https://localhost:8080/"
    },
    "executionInfo": {
     "elapsed": 40,
     "status": "ok",
     "timestamp": 1753148291555,
     "user": {
      "displayName": "고강태 강사",
      "userId": "11816854931407731745"
     },
     "user_tz": -540
    },
    "id": "sv-Tw01CE5t3",
    "outputId": "9eb6f418-936b-4450-ccc0-a84e8fc2aed1",
    "ExecuteTime": {
     "end_time": "2025-07-24T09:46:43.581709Z",
     "start_time": "2025-07-24T09:46:43.579393Z"
    }
   },
   "source": [
    "fill_"
   ],
   "outputs": [
    {
     "data": {
      "text/plain": [
       "<tf.Tensor: shape=(2, 3), dtype=int32, numpy=\n",
       "array([[9, 9, 9],\n",
       "       [9, 9, 9]], dtype=int32)>"
      ]
     },
     "execution_count": 77,
     "metadata": {},
     "output_type": "execute_result"
    }
   ],
   "execution_count": 77
  },
  {
   "cell_type": "code",
   "metadata": {
    "colab": {
     "base_uri": "https://localhost:8080/"
    },
    "executionInfo": {
     "elapsed": 69,
     "status": "ok",
     "timestamp": 1753148305146,
     "user": {
      "displayName": "고강태 강사",
      "userId": "11816854931407731745"
     },
     "user_tz": -540
    },
    "id": "zevVRaQGE5t3",
    "outputId": "8b7ee4fd-dd8e-4b38-feb4-09bf3a6cb31a",
    "ExecuteTime": {
     "end_time": "2025-07-24T09:46:43.647291Z",
     "start_time": "2025-07-24T09:46:43.644876Z"
    }
   },
   "source": [
    "# 30을 + 브로드캐스트\n",
    "fill_ +30"
   ],
   "outputs": [
    {
     "data": {
      "text/plain": [
       "<tf.Tensor: shape=(2, 3), dtype=int32, numpy=\n",
       "array([[39, 39, 39],\n",
       "       [39, 39, 39]], dtype=int32)>"
      ]
     },
     "execution_count": 78,
     "metadata": {},
     "output_type": "execute_result"
    }
   ],
   "execution_count": 78
  },
  {
   "cell_type": "markdown",
   "metadata": {
    "id": "Kg1ZRgouE5t3"
   },
   "source": [
    "## CPU, GPU 를 사용한 계산\n",
    "\n",
    " - CPU : `/CPU[no]`\n",
    " - GPU: `/GPU[no]`"
   ]
  },
  {
   "cell_type": "markdown",
   "metadata": {
    "id": "BTq5TREviMHt"
   },
   "source": [
    "> GPU 메모리 문제 발생 가능"
   ]
  },
  {
   "cell_type": "markdown",
   "metadata": {
    "id": "OiIv2uI-iMHt"
   },
   "source": [
    "### CPU"
   ]
  },
  {
   "cell_type": "code",
   "metadata": {
    "executionInfo": {
     "elapsed": 2243,
     "status": "ok",
     "timestamp": 1753148485178,
     "user": {
      "displayName": "고강태 강사",
      "userId": "11816854931407731745"
     },
     "user_tz": -540
    },
    "id": "CRhGy57uiMHt",
    "ExecuteTime": {
     "end_time": "2025-07-24T09:46:44.024605Z",
     "start_time": "2025-07-24T09:46:43.795769Z"
    }
   },
   "source": [
    "with tf.device('/CPU:' + str(0)):\n",
    "    # 1. 연산에 사용할 행렬의 크기 정의\n",
    "    matrix_size = 8192  # 더 큰 값일수록 CPU와 GPU 간의 성능 차이를 명확히 볼 수 있습니다.\n",
    "    a = tf.random.normal([matrix_size, matrix_size], dtype=tf.float32)\n",
    "    b = tf.random.normal([matrix_size, matrix_size], dtype=tf.float32)"
   ],
   "outputs": [],
   "execution_count": 79
  },
  {
   "cell_type": "code",
   "metadata": {
    "colab": {
     "base_uri": "https://localhost:8080/"
    },
    "executionInfo": {
     "elapsed": 20236,
     "status": "ok",
     "timestamp": 1753148515608,
     "user": {
      "displayName": "고강태 강사",
      "userId": "11816854931407731745"
     },
     "user_tz": -540
    },
    "id": "UIevL7XJiMHu",
    "outputId": "4a14f8d6-df81-4957-8891-10308859eb07",
    "ExecuteTime": {
     "end_time": "2025-07-24T09:46:45.077713Z",
     "start_time": "2025-07-24T09:46:44.085228Z"
    }
   },
   "source": [
    "import time\n",
    "\n",
    "cpu_slot = 0\n",
    "\n",
    "# Using CPU at slot 0\n",
    "with tf.device('/CPU:' + str(cpu_slot)):\n",
    "    start = time.time()\n",
    "\n",
    "    c_cpu  = tf.matmul(a, b) # 행렬곱\n",
    "    r = c_cpu .numpy()\n",
    "\n",
    "    end = time.time() - start\n",
    "    print(f\"CPU 연산 시간: {end:.4f} 초\")\n"
   ],
   "outputs": [
    {
     "name": "stdout",
     "output_type": "stream",
     "text": [
      "CPU 연산 시간: 0.9904 초\n"
     ]
    }
   ],
   "execution_count": 80
  },
  {
   "cell_type": "markdown",
   "metadata": {
    "id": "vLyL_liDiMHu"
   },
   "source": [
    "### GPU 를 사용한 계산"
   ]
  },
  {
   "cell_type": "code",
   "metadata": {
    "id": "NI1JfEAyiMHu",
    "outputId": "017169e8-6a79-4250-d981-0a601143cf0a",
    "ExecuteTime": {
     "end_time": "2025-07-24T09:46:45.637082Z",
     "start_time": "2025-07-24T09:46:45.415493Z"
    }
   },
   "source": [
    "gpu_slot = 0\n",
    "\n",
    "if tf.config.list_physical_devices('GPU'):\n",
    "\n",
    "    with tf.device('/GPU:' + str(gpu_slot)):\n",
    "        start = time.time()\n",
    "\n",
    "        c_gpu  = tf.matmul(a, b) # 행렬 곱셈\n",
    "        r = c_gpu .numpy()\n",
    "\n",
    "        end = time.time() - start\n",
    "        print(f\"GPU 연산 시간: {end:.4f} 초\")\n",
    "else:\n",
    "    print(\"GPU를 찾을 수 없습니다. GPU 연산을 건너뜝니다.\")"
   ],
   "outputs": [
    {
     "name": "stdout",
     "output_type": "stream",
     "text": [
      "GPU 연산 시간: 0.2195 초\n"
     ]
    }
   ],
   "execution_count": 82
  },
  {
   "cell_type": "code",
   "metadata": {
    "colab": {
     "base_uri": "https://localhost:8080/"
    },
    "executionInfo": {
     "elapsed": 134,
     "status": "ok",
     "timestamp": 1753148665797,
     "user": {
      "displayName": "고강태 강사",
      "userId": "11816854931407731745"
     },
     "user_tz": -540
    },
    "id": "2jqOBlsXiMHu",
    "outputId": "769f0c89-c7cc-4ee6-97b3-42aac8f6e69e",
    "ExecuteTime": {
     "end_time": "2025-07-24T09:46:45.694536Z",
     "start_time": "2025-07-24T09:46:45.655804Z"
    }
   },
   "source": [
    "# 5. 결과 검증\n",
    "# CPU와 GPU에서 계산된 결과가 동일한지 확인합니다.\n",
    "if tf.config.list_physical_devices('GPU'):\n",
    "    # 두 결과가 완전히 같지 않을 수 있습니다 (부동 소수점 정밀도 차이).\n",
    "    # 따라서 어느 정도의 오차 범위 내에서 같은지 확인합니다.\n",
    "    diff = tf.reduce_max(tf.abs(c_cpu - c_gpu))\n",
    "    print(f\"\\nCPU와 GPU 결과의 최대 차이: {diff:.4e}\")\n",
    "    if diff < 1e-5: # 작은 값으로 오차 허용 범위 설정\n",
    "        print(\"CPU와 GPU 연산 결과가 거의 동일합니다.\")\n",
    "    else:\n",
    "        print(\"CPU와 GPU 연산 결과에 차이가 있습니다.\")"
   ],
   "outputs": [
    {
     "name": "stdout",
     "output_type": "stream",
     "text": [
      "\n",
      "CPU와 GPU 결과의 최대 차이: 2.3193e-03\n",
      "CPU와 GPU 연산 결과에 차이가 있습니다.\n"
     ]
    }
   ],
   "execution_count": 83
  },
  {
   "cell_type": "markdown",
   "metadata": {
    "id": "6MprLHn-iMHu"
   },
   "source": [
    "TensorFlow 예제를 실행했을 때 GPU가 CPU보다 더 느리게 작동하는 경우는 몇 가지 원인이 있을 수 있습니다. 특히 행렬 곱셈과 같은 연산에서 GPU는 일반적으로 CPU보다 훨씬 빠르다고 알려져 있는데도 말이죠.\n",
    "\n",
    "가장 흔한 원인들을 아래에서 설명해 드리겠습니다.\n",
    "\n",
    "1. GPU 오버헤드 (Overhead)\n",
    "\n",
    "GPU는 병렬 처리에 특화되어 있지만, GPU 연산을 시작하고 데이터를 주고받는 데에는 초기 설정(setup) 및 데이터 전송(data transfer) 오버헤드가 발생합니다.\n",
    "\n",
    "- 데이터 전송 (CPU to GPU, GPU to CPU): CPU 메모리에 있는 데이터를 GPU 메모리로 전송하고, 연산이 끝난 후 GPU 메모리에서 CPU 메모리로 다시 전송하는 데 시간이 소요됩니다. 이 전송 비용이 실제 GPU 연산 시간보다 더 클 수 있습니다.\n",
    "\n",
    "- 커널 런치 (Kernel Launch) 오버헤드: CPU가 GPU에 작업을 지시(커널 런치)하는 과정에도 약간의 시간이 걸립니다.\n",
    "\n",
    "\n",
    "2. GPU 워밍업 (Warm-up) 시간\n",
    "일부 GPU 드라이버나 런타임 환경에서는 첫 번째 GPU 연산을 수행할 때 초기화 또는 \"워밍업\" 시간이 필요할 수 있습니다"
   ]
  },
  {
   "cell_type": "markdown",
   "metadata": {
    "id": "r7vm7eNlE5t4"
   },
   "source": [
    "# 4. 변수\n",
    "\n",
    "TensorFlow 2.x에서는 텐서 연산에 **Eager Execution(즉시 실행)**이 기본으로 설정되어 있어, 코드를 작성하는 즉시 연산이 실행되고 결과가 반환됩니다. 이는 Python의 일반적인 코딩 방식과 유사하여 디버깅 및 개발이 훨씬 용이합니다.\n",
    "> - tensorflow 2.x 이전 버전의 주요 변수 선언자: 플레이스홀더."
   ]
  },
  {
   "cell_type": "markdown",
   "metadata": {
    "id": "5wQ_of2DE5t4"
   },
   "source": [
    "### 변수란?\n",
    "\n",
    "**변수 (Variable)** 는 딥러닝 모델의 학습 가능한 파라미터(예: 가중치, 편향)를 저장하는 데 사용되는 특별한 종류의 텐서로 `tf.constant` 와 달리 `tf.Variable` 은 값을 변경할 수 있다. 모델이 데이터를 학습하면서 이 변수들의 값이 최적의 성능을 낼 수 있도록 점진적으로 업데이트된다."
   ]
  },
  {
   "cell_type": "markdown",
   "metadata": {
    "id": "_QS_zd2BiMHu"
   },
   "source": [
    "### 변수 초기화\n",
    "\n",
    "변수는 모델 학습을 시작하기 전에 적절한 값으로 초기화되어야 합니다. TensorFlow는 tf.random.normal (정규 분포), tf.zeros (모든 요소가 0), tf.ones (모든 요소가 1) 등 다양한 초기화 함수를 제공합니다."
   ]
  },
  {
   "cell_type": "markdown",
   "metadata": {
    "id": "vsr4wvCAiMHv"
   },
   "source": [
    "tf.Variable() 함수를 사용하여 변수를 생성하고 초기값을 필수로 지정해야 한다.\n",
    "\n",
    "```python\n",
    "X = tf.Variable(5.0)\n",
    "x_data = [[1,2,3],[4,5,6]]\n",
    "X = tf.Variable(x_data)\n",
    "X = tf.Variable(tf.random.normal((2,3)))\n",
    "```"
   ]
  },
  {
   "cell_type": "code",
   "metadata": {
    "colab": {
     "base_uri": "https://localhost:8080/"
    },
    "executionInfo": {
     "elapsed": 65,
     "status": "ok",
     "timestamp": 1753148898874,
     "user": {
      "displayName": "고강태 강사",
      "userId": "11816854931407731745"
     },
     "user_tz": -540
    },
    "id": "rkaOT8omiMHv",
    "outputId": "03270855-e208-4598-e322-880f3cb96316",
    "ExecuteTime": {
     "end_time": "2025-07-24T09:46:45.722189Z",
     "start_time": "2025-07-24T09:46:45.715081Z"
    }
   },
   "source": [
    "X = tf.Variable(5.0)\n",
    "X"
   ],
   "outputs": [
    {
     "data": {
      "text/plain": [
       "<tf.Variable 'Variable:0' shape=() dtype=float32, numpy=5.0>"
      ]
     },
     "execution_count": 84,
     "metadata": {},
     "output_type": "execute_result"
    }
   ],
   "execution_count": 84
  },
  {
   "cell_type": "code",
   "metadata": {
    "executionInfo": {
     "elapsed": 10,
     "status": "ok",
     "timestamp": 1753148884533,
     "user": {
      "displayName": "고강태 강사",
      "userId": "11816854931407731745"
     },
     "user_tz": -540
    },
    "id": "VClpRGaB0O11",
    "ExecuteTime": {
     "end_time": "2025-07-24T09:46:45.748087Z",
     "start_time": "2025-07-24T09:46:45.746122Z"
    }
   },
   "source": [
    "# X = 1000"
   ],
   "outputs": [],
   "execution_count": 85
  },
  {
   "cell_type": "markdown",
   "metadata": {
    "id": "EB55EWRMiMHv"
   },
   "source": [
    "- assign 을 사용해 변수 텐서의 값을 변경할 수 있다"
   ]
  },
  {
   "cell_type": "code",
   "metadata": {
    "colab": {
     "base_uri": "https://localhost:8080/"
    },
    "executionInfo": {
     "elapsed": 35,
     "status": "ok",
     "timestamp": 1753148910628,
     "user": {
      "displayName": "고강태 강사",
      "userId": "11816854931407731745"
     },
     "user_tz": -540
    },
    "id": "-O09aIRQiMHv",
    "outputId": "dd710c6d-f5b1-48e1-dffc-7b17c97ad04f",
    "ExecuteTime": {
     "end_time": "2025-07-24T09:46:45.778760Z",
     "start_time": "2025-07-24T09:46:45.773325Z"
    }
   },
   "source": [
    "# assign 을 사용해 변수 텐서의 값을 변경할 수 있다\n",
    "X.assign(9.0)\n",
    "X"
   ],
   "outputs": [
    {
     "data": {
      "text/plain": [
       "<tf.Variable 'Variable:0' shape=() dtype=float32, numpy=9.0>"
      ]
     },
     "execution_count": 86,
     "metadata": {},
     "output_type": "execute_result"
    }
   ],
   "execution_count": 86
  },
  {
   "cell_type": "code",
   "metadata": {
    "colab": {
     "base_uri": "https://localhost:8080/"
    },
    "executionInfo": {
     "elapsed": 52,
     "status": "ok",
     "timestamp": 1753149685233,
     "user": {
      "displayName": "고강태 강사",
      "userId": "11816854931407731745"
     },
     "user_tz": -540
    },
    "id": "a0K1fLnPiMHv",
    "outputId": "7cfb8118-6f8b-4761-ad1b-680c00782be1",
    "ExecuteTime": {
     "end_time": "2025-07-24T09:46:45.823721Z",
     "start_time": "2025-07-24T09:46:45.812886Z"
    }
   },
   "source": [
    "x_data = [[1,2,3],[4,5,6]]\n",
    "X = tf.Variable(x_data)\n",
    "X"
   ],
   "outputs": [
    {
     "data": {
      "text/plain": [
       "<tf.Variable 'Variable:0' shape=(2, 3) dtype=int32, numpy=\n",
       "array([[1, 2, 3],\n",
       "       [4, 5, 6]], dtype=int32)>"
      ]
     },
     "execution_count": 87,
     "metadata": {},
     "output_type": "execute_result"
    }
   ],
   "execution_count": 87
  },
  {
   "cell_type": "markdown",
   "metadata": {
    "id": "FUUQ8I2piMHv"
   },
   "source": [
    "tf.random.normal() 등의 임의의 범위 값으로 초기화를 할 수 있다."
   ]
  },
  {
   "cell_type": "code",
   "metadata": {
    "colab": {
     "base_uri": "https://localhost:8080/"
    },
    "executionInfo": {
     "elapsed": 43,
     "status": "ok",
     "timestamp": 1753149745567,
     "user": {
      "displayName": "고강태 강사",
      "userId": "11816854931407731745"
     },
     "user_tz": -540
    },
    "id": "-i6SzQhviMHw",
    "outputId": "9113aa29-e247-49a0-9fc2-dab5be527485",
    "ExecuteTime": {
     "end_time": "2025-07-24T09:46:45.879451Z",
     "start_time": "2025-07-24T09:46:45.869329Z"
    }
   },
   "source": [
    "X = tf.Variable(tf.random.normal((2,3)))\n",
    "X\n"
   ],
   "outputs": [
    {
     "data": {
      "text/plain": [
       "<tf.Variable 'Variable:0' shape=(2, 3) dtype=float32, numpy=\n",
       "array([[ 0.17058444,  0.13094412,  0.3339545 ],\n",
       "       [-0.69486153,  0.5809586 , -0.0874476 ]], dtype=float32)>"
      ]
     },
     "execution_count": 88,
     "metadata": {},
     "output_type": "execute_result"
    }
   ],
   "execution_count": 88
  },
  {
   "cell_type": "code",
   "metadata": {
    "id": "HXDUqc9O3mo3",
    "ExecuteTime": {
     "end_time": "2025-07-24T09:46:45.960560Z",
     "start_time": "2025-07-24T09:46:45.959250Z"
    }
   },
   "source": [
    "# x.assign(tf.random.normal((2,3)))"
   ],
   "outputs": [],
   "execution_count": 89
  },
  {
   "cell_type": "code",
   "metadata": {
    "colab": {
     "base_uri": "https://localhost:8080/"
    },
    "executionInfo": {
     "elapsed": 59,
     "status": "ok",
     "timestamp": 1753149801120,
     "user": {
      "displayName": "고강태 강사",
      "userId": "11816854931407731745"
     },
     "user_tz": -540
    },
    "id": "J3DVqHP6iMHw",
    "outputId": "dc097bb0-63dc-4cee-f867-56aa95fb2a69",
    "ExecuteTime": {
     "end_time": "2025-07-24T09:46:46.056220Z",
     "start_time": "2025-07-24T09:46:46.046840Z"
    }
   },
   "source": [
    "X.assign_add(tf.random.normal((2,3)))\n",
    "X"
   ],
   "outputs": [
    {
     "data": {
      "text/plain": [
       "<tf.Variable 'Variable:0' shape=(2, 3) dtype=float32, numpy=\n",
       "array([[1.0305681 , 0.6495969 , 1.0622102 ],\n",
       "       [0.00707203, 2.9935582 , 0.5534117 ]], dtype=float32)>"
      ]
     },
     "execution_count": 90,
     "metadata": {},
     "output_type": "execute_result"
    }
   ],
   "execution_count": 90
  },
  {
   "cell_type": "markdown",
   "metadata": {
    "id": "wLNBB4KAiMHw"
   },
   "source": [
    "### 변수를 사용해서 방정식의 해를 찾아 보자"
   ]
  },
  {
   "cell_type": "code",
   "metadata": {
    "executionInfo": {
     "elapsed": 40,
     "status": "ok",
     "timestamp": 1753149836805,
     "user": {
      "displayName": "고강태 강사",
      "userId": "11816854931407731745"
     },
     "user_tz": -540
    },
    "id": "BWkWtXmrE5t4",
    "ExecuteTime": {
     "end_time": "2025-07-24T09:46:46.119665Z",
     "start_time": "2025-07-24T09:46:46.117210Z"
    }
   },
   "source": [
    "X = tf.Variable(tf.random.normal((2,3)))"
   ],
   "outputs": [],
   "execution_count": 91
  },
  {
   "cell_type": "code",
   "metadata": {
    "executionInfo": {
     "elapsed": 9,
     "status": "ok",
     "timestamp": 1753149843246,
     "user": {
      "displayName": "고강태 강사",
      "userId": "11816854931407731745"
     },
     "user_tz": -540
    },
    "id": "txUpZO13E5t5",
    "ExecuteTime": {
     "end_time": "2025-07-24T09:46:46.178021Z",
     "start_time": "2025-07-24T09:46:46.168624Z"
    }
   },
   "source": [
    "W = tf.Variable(tf.random.normal((3,2)))"
   ],
   "outputs": [],
   "execution_count": 92
  },
  {
   "cell_type": "code",
   "metadata": {
    "executionInfo": {
     "elapsed": 44,
     "status": "ok",
     "timestamp": 1753149846189,
     "user": {
      "displayName": "고강태 강사",
      "userId": "11816854931407731745"
     },
     "user_tz": -540
    },
    "id": "WUoTKasGE5t5",
    "ExecuteTime": {
     "end_time": "2025-07-24T09:46:46.235102Z",
     "start_time": "2025-07-24T09:46:46.221554Z"
    }
   },
   "source": [
    "b = tf.Variable(tf.random.normal((2,1)))"
   ],
   "outputs": [],
   "execution_count": 93
  },
  {
   "cell_type": "code",
   "metadata": {
    "executionInfo": {
     "elapsed": 48,
     "status": "ok",
     "timestamp": 1753149850279,
     "user": {
      "displayName": "고강태 강사",
      "userId": "11816854931407731745"
     },
     "user_tz": -540
    },
    "id": "2nCYGRn8E5t5",
    "ExecuteTime": {
     "end_time": "2025-07-24T09:46:46.266307Z",
     "start_time": "2025-07-24T09:46:46.258981Z"
    }
   },
   "source": [
    "expr = tf.matmul(X, W) + b"
   ],
   "outputs": [],
   "execution_count": 94
  },
  {
   "cell_type": "code",
   "metadata": {
    "colab": {
     "base_uri": "https://localhost:8080/"
    },
    "executionInfo": {
     "elapsed": 53,
     "status": "ok",
     "timestamp": 1753149851614,
     "user": {
      "displayName": "고강태 강사",
      "userId": "11816854931407731745"
     },
     "user_tz": -540
    },
    "id": "oQ-0U2BliMHx",
    "outputId": "f2025c6c-859f-4d2b-b7ec-2502991fd141",
    "ExecuteTime": {
     "end_time": "2025-07-24T09:46:46.297184Z",
     "start_time": "2025-07-24T09:46:46.290445Z"
    }
   },
   "source": [
    "expr"
   ],
   "outputs": [
    {
     "data": {
      "text/plain": [
       "<tf.Tensor: shape=(2, 2), dtype=float32, numpy=\n",
       "array([[-2.9763761e-01,  2.3320690e-03],\n",
       "       [-2.7504952e+00,  1.9955158e+00]], dtype=float32)>"
      ]
     },
     "execution_count": 95,
     "metadata": {},
     "output_type": "execute_result"
    }
   ],
   "execution_count": 95
  },
  {
   "cell_type": "code",
   "metadata": {
    "colab": {
     "base_uri": "https://localhost:8080/"
    },
    "executionInfo": {
     "elapsed": 36,
     "status": "ok",
     "timestamp": 1753149870616,
     "user": {
      "displayName": "고강태 강사",
      "userId": "11816854931407731745"
     },
     "user_tz": -540
    },
    "id": "GO6jgptLE5t5",
    "outputId": "e67c5f1f-2da3-4a74-8bf2-7c35359d8603",
    "ExecuteTime": {
     "end_time": "2025-07-24T09:46:46.352440Z",
     "start_time": "2025-07-24T09:46:46.350118Z"
    }
   },
   "source": [
    "expr.numpy()"
   ],
   "outputs": [
    {
     "data": {
      "text/plain": [
       "array([[-2.9763761e-01,  2.3320690e-03],\n",
       "       [-2.7504952e+00,  1.9955158e+00]], dtype=float32)"
      ]
     },
     "execution_count": 96,
     "metadata": {},
     "output_type": "execute_result"
    }
   ],
   "execution_count": 96
  },
  {
   "cell_type": "markdown",
   "metadata": {
    "id": "Wvx4l3B1iMHx"
   },
   "source": [
    "### 실습: 변수와 concat 함수 사용"
   ]
  },
  {
   "cell_type": "code",
   "metadata": {
    "executionInfo": {
     "elapsed": 63,
     "status": "ok",
     "timestamp": 1753149887273,
     "user": {
      "displayName": "고강태 강사",
      "userId": "11816854931407731745"
     },
     "user_tz": -540
    },
    "id": "ScdAn9hjE5t6",
    "ExecuteTime": {
     "end_time": "2025-07-24T09:46:46.519028Z",
     "start_time": "2025-07-24T09:46:46.516328Z"
    }
   },
   "source": [
    "# Making a constant tensor A, that does not change\n",
    "A = tf.constant([[3, 2],\n",
    "                 [5, 2]])\n",
    "\n",
    "# Making a Variable tensor VA, which can change. Notice it's .Variable\n",
    "VA = tf.Variable([[3, 2],\n",
    "                 [5, 2]])\n",
    "\n",
    "# Making another tensor B\n",
    "B = tf.constant([[9, 5],\n",
    "                 [1, 3]])"
   ],
   "outputs": [],
   "execution_count": 97
  },
  {
   "cell_type": "code",
   "metadata": {
    "id": "kldl9Wb0E5t6",
    "outputId": "03db249e-5dde-48fc-9b74-465d2087b371",
    "ExecuteTime": {
     "end_time": "2025-07-24T09:46:46.599920Z",
     "start_time": "2025-07-24T09:46:46.594063Z"
    }
   },
   "source": [
    "# Concatenate columns\n",
    "AB_concatenated = tf.concat(values=[A, B], axis=1)\n",
    "\n",
    "print(('Adding B\\'s columns to A:\\n{0}').format( AB_concatenated.numpy()))"
   ],
   "outputs": [
    {
     "name": "stdout",
     "output_type": "stream",
     "text": [
      "Adding B's columns to A:\n",
      "[[3 2 9 5]\n",
      " [5 2 1 3]]\n"
     ]
    }
   ],
   "execution_count": 98
  },
  {
   "cell_type": "code",
   "metadata": {
    "id": "87E6gsEWE5t6",
    "outputId": "e01cad42-08ec-401b-b5d6-d55eb0c800d6",
    "ExecuteTime": {
     "end_time": "2025-07-24T09:46:46.670035Z",
     "start_time": "2025-07-24T09:46:46.666609Z"
    }
   },
   "source": [
    "# Concatenate rows\n",
    "AB_concatenated = tf.concat(values=[A, B], axis=0)\n",
    "\n",
    "print(('\\nAdding B\\'s rows to A:\\n{0}').format( AB_concatenated.numpy()))"
   ],
   "outputs": [
    {
     "name": "stdout",
     "output_type": "stream",
     "text": [
      "\n",
      "Adding B's rows to A:\n",
      "[[3 2]\n",
      " [5 2]\n",
      " [9 5]\n",
      " [1 3]]\n"
     ]
    }
   ],
   "execution_count": 99
  },
  {
   "cell_type": "markdown",
   "metadata": {
    "id": "vLknmdDTiMHy"
   },
   "source": [
    "### reshape"
   ]
  },
  {
   "cell_type": "code",
   "metadata": {
    "executionInfo": {
     "elapsed": 32,
     "status": "ok",
     "timestamp": 1753149934075,
     "user": {
      "displayName": "고강태 강사",
      "userId": "11816854931407731745"
     },
     "user_tz": -540
    },
    "id": "nj12dKMJE5t8",
    "ExecuteTime": {
     "end_time": "2025-07-24T09:46:46.700424Z",
     "start_time": "2025-07-24T09:46:46.697882Z"
    }
   },
   "source": [
    "# Making a tensor for reshaping\n",
    "tensor = tf.constant([[3, 2],\n",
    "                      [5, 2],\n",
    "                      [9, 5],\n",
    "                      [1, 3]])"
   ],
   "outputs": [],
   "execution_count": 100
  },
  {
   "cell_type": "code",
   "metadata": {
    "colab": {
     "base_uri": "https://localhost:8080/"
    },
    "executionInfo": {
     "elapsed": 17,
     "status": "ok",
     "timestamp": 1753149936355,
     "user": {
      "displayName": "고강태 강사",
      "userId": "11816854931407731745"
     },
     "user_tz": -540
    },
    "id": "i-ufX8QUE5t8",
    "outputId": "a5ab7492-c46e-42f8-e077-c53d4cdea2df",
    "ExecuteTime": {
     "end_time": "2025-07-24T09:46:46.727440Z",
     "start_time": "2025-07-24T09:46:46.725309Z"
    }
   },
   "source": [
    "tensor"
   ],
   "outputs": [
    {
     "data": {
      "text/plain": [
       "<tf.Tensor: shape=(4, 2), dtype=int32, numpy=\n",
       "array([[3, 2],\n",
       "       [5, 2],\n",
       "       [9, 5],\n",
       "       [1, 3]], dtype=int32)>"
      ]
     },
     "execution_count": 101,
     "metadata": {},
     "output_type": "execute_result"
    }
   ],
   "execution_count": 101
  },
  {
   "cell_type": "code",
   "metadata": {
    "colab": {
     "base_uri": "https://localhost:8080/"
    },
    "executionInfo": {
     "elapsed": 48,
     "status": "ok",
     "timestamp": 1753149946629,
     "user": {
      "displayName": "고강태 강사",
      "userId": "11816854931407731745"
     },
     "user_tz": -540
    },
    "id": "0L9AfO6KE5t8",
    "outputId": "576f3dbc-d0fa-4542-bc19-92526f6cac86",
    "ExecuteTime": {
     "end_time": "2025-07-24T09:46:46.794206Z",
     "start_time": "2025-07-24T09:46:46.791374Z"
    }
   },
   "source": [
    "# Reshaping the tensor into a shape of: shape = [rows, columns]\n",
    "reshaped_tensor = tf.reshape(tensor = tensor,\n",
    "                             shape = [1, 8])\n",
    "\n",
    "print(('Tensor BEFORE reshape:\\n{0}').format(tensor.numpy()))\n",
    "print(('\\nTensor AFTER reshape:\\n{0}').format(reshaped_tensor.numpy()))"
   ],
   "outputs": [
    {
     "name": "stdout",
     "output_type": "stream",
     "text": [
      "Tensor BEFORE reshape:\n",
      "[[3 2]\n",
      " [5 2]\n",
      " [9 5]\n",
      " [1 3]]\n",
      "\n",
      "Tensor AFTER reshape:\n",
      "[[3 2 5 2 9 5 1 3]]\n"
     ]
    }
   ],
   "execution_count": 102
  },
  {
   "cell_type": "code",
   "metadata": {
    "colab": {
     "base_uri": "https://localhost:8080/"
    },
    "executionInfo": {
     "elapsed": 38,
     "status": "ok",
     "timestamp": 1753149971832,
     "user": {
      "displayName": "고강태 강사",
      "userId": "11816854931407731745"
     },
     "user_tz": -540
    },
    "id": "7RKYnAZ-E5t8",
    "outputId": "ccb58644-96c3-40af-d23b-ae47059ee670",
    "ExecuteTime": {
     "end_time": "2025-07-24T09:46:46.903246Z",
     "start_time": "2025-07-24T09:46:46.893615Z"
    }
   },
   "source": [
    "tf.reshape(tensor = tensor,\n",
    "           shape = [-1, 8])"
   ],
   "outputs": [
    {
     "data": {
      "text/plain": [
       "<tf.Tensor: shape=(1, 8), dtype=int32, numpy=array([[3, 2, 5, 2, 9, 5, 1, 3]], dtype=int32)>"
      ]
     },
     "execution_count": 103,
     "metadata": {},
     "output_type": "execute_result"
    }
   ],
   "execution_count": 103
  },
  {
   "cell_type": "markdown",
   "metadata": {
    "id": "SlHdwHY5iMHy"
   },
   "source": [
    "### 변수형 변경: cast"
   ]
  },
  {
   "cell_type": "code",
   "metadata": {
    "executionInfo": {
     "elapsed": 8,
     "status": "ok",
     "timestamp": 1753149992013,
     "user": {
      "displayName": "고강태 강사",
      "userId": "11816854931407731745"
     },
     "user_tz": -540
    },
    "id": "08Z8TRU34eRF",
    "ExecuteTime": {
     "end_time": "2025-07-24T09:46:46.953287Z",
     "start_time": "2025-07-24T09:46:46.951246Z"
    }
   },
   "source": [
    "# Making a tensor\n",
    "tensor = tf.constant([[3.1, 2.8],\n",
    "                      [5.2, 2.3],\n",
    "                      [9.7, 5.5],\n",
    "                      [1.1, 3.4]],\n",
    "                      dtype=tf.float32)\n"
   ],
   "outputs": [],
   "execution_count": 104
  },
  {
   "cell_type": "code",
   "metadata": {
    "colab": {
     "base_uri": "https://localhost:8080/"
    },
    "executionInfo": {
     "elapsed": 40,
     "status": "ok",
     "timestamp": 1753150002764,
     "user": {
      "displayName": "고강태 강사",
      "userId": "11816854931407731745"
     },
     "user_tz": -540
    },
    "id": "rXYLzX8fE5t8",
    "outputId": "79f9966c-705f-4adb-90b0-bf3939dbb36a",
    "ExecuteTime": {
     "end_time": "2025-07-24T09:46:47.063354Z",
     "start_time": "2025-07-24T09:46:47.046868Z"
    }
   },
   "source": [
    "tensor_as_int = tf.cast(tensor, tf.int32)\n",
    "\n",
    "print(('Tensor with floats:\\n{0}').format(tensor.numpy()))\n",
    "print(('\\nTensor cast from float to int (just remove the decimal, no rounding):\\n{0}').format(tensor_as_int.numpy()))"
   ],
   "outputs": [
    {
     "name": "stdout",
     "output_type": "stream",
     "text": [
      "Tensor with floats:\n",
      "[[3.1 2.8]\n",
      " [5.2 2.3]\n",
      " [9.7 5.5]\n",
      " [1.1 3.4]]\n",
      "\n",
      "Tensor cast from float to int (just remove the decimal, no rounding):\n",
      "[[3 2]\n",
      " [5 2]\n",
      " [9 5]\n",
      " [1 3]]\n"
     ]
    }
   ],
   "execution_count": 105
  },
  {
   "cell_type": "markdown",
   "metadata": {
    "id": "GMpAkniBiMHz"
   },
   "source": [
    "### (참고) TensorFlow 1.x과 2.0의 Eager Execution\n",
    "\n",
    "TensorFlow 1.x의 Graph 와 Session 은 TensorFlow 2.x에서는 Eager Execution으로 지원하고 있다.\n",
    "\n",
    "- TensorFlow 1.x에서는 모든 연산이 **그래프 (Graph)**라는 정적 계산 그래프를 먼저 정의한 후, 세션 (Session) 내에서 실행되는 방식이었습니다. 즉, \"모델을 먼저 설계하고, 나중에 데이터를 넣어 실행\"하는 방식이었다.\n",
    "\n",
    "  - 그래프: 연산 노드(Operation)와 텐서 노드(Tensor)로 구성된 일종의 설계도입니다.\n",
    "  - 세션: 그래프를 실행하고 실제 연산을 수행하는 런타임 환경입니다.\n",
    "\n",
    "TensorFlow 2.x에서는 **Eager Execution (즉시 실행)**이 기본이 되면서 이러한 그래프-세션 개념이 추상화되고 사용자가 직접적으로 다룰 필요가 없어졌습니다. 코드를 작성하는 즉시 연산이 실행되어 마치 일반적인 Python 코드처럼 느껴집니다. 이는 디버깅을 훨씬 쉽게 만들고 개발 속도를 높여줍니다. 하지만 내부적으로는 여전히 tf.function과 같은 기능을 통해 그래프 최적화가 이루어지고 있습니다.\n"
   ]
  },
  {
   "cell_type": "markdown",
   "metadata": {
    "id": "OKYSjl0QiMHz"
   },
   "source": [
    "- 플래이스 홀더와 세션이 사라짐"
   ]
  },
  {
   "cell_type": "code",
   "metadata": {
    "id": "qhYq9X_miMHz",
    "outputId": "bfc17d19-ad6c-4e60-f7db-7d1a8c9f9130",
    "ExecuteTime": {
     "end_time": "2025-07-24T09:46:47.098206Z",
     "start_time": "2025-07-24T09:46:47.093132Z"
    }
   },
   "source": [
    "try :\n",
    "    tf.placeholder('float')\n",
    "\n",
    "except Exception as e :\n",
    "    print(e)"
   ],
   "outputs": [
    {
     "name": "stdout",
     "output_type": "stream",
     "text": [
      "module 'tensorflow' has no attribute 'placeholder'\n"
     ]
    }
   ],
   "execution_count": 106
  },
  {
   "cell_type": "code",
   "metadata": {
    "id": "9t8W1HuTiMHz",
    "outputId": "b54fdd96-da60-4474-8803-e58c4c5a3205",
    "ExecuteTime": {
     "end_time": "2025-07-24T09:46:47.167185Z",
     "start_time": "2025-07-24T09:46:47.159805Z"
    }
   },
   "source": [
    "try :\n",
    "    tf.Session()\n",
    "except Exception as e :\n",
    "    print(e)"
   ],
   "outputs": [
    {
     "name": "stdout",
     "output_type": "stream",
     "text": [
      "module 'tensorflow' has no attribute 'Session'\n"
     ]
    }
   ],
   "execution_count": 107
  },
  {
   "cell_type": "code",
   "metadata": {
    "id": "0BTik23liMHz",
    "outputId": "8dc1aef1-fd94-498e-8bb3-f9e941128337",
    "ExecuteTime": {
     "end_time": "2025-07-24T09:46:47.225452Z",
     "start_time": "2025-07-24T09:46:47.215837Z"
    }
   },
   "source": [
    "if(tf.executing_eagerly()):  # 2.1x 이상\n",
    "    print('Eager execution is enabled (running operations immediately)\\n')\n",
    "    print(('Turn eager execution off by running: \\n{0}\\n{1}').format(''\n",
    "                                                                     'from tensorflow.python.framework.ops import disable_eager_execution',\n",
    "                                                                     'disable_eager_execution()'))\n",
    "else:\n",
    "    print('You are not running eager execution. TensorFlow version >= 2.0.0'\n",
    "          'has eager execution enabled by default.')\n",
    "    print(('Turn on eager execution by running: \\n\\n{0}\\n\\nOr upgrade '\n",
    "           'your tensorflow version by running:\\n\\n{1}').format(\n",
    "           'tf.compat.v1.enable_eager_execution()',\n",
    "           '!pip install --upgrade tensorflow\\n'\n",
    "           '!pip install --upgrade tensorflow-gpu'))"
   ],
   "outputs": [
    {
     "name": "stdout",
     "output_type": "stream",
     "text": [
      "Eager execution is enabled (running operations immediately)\n",
      "\n",
      "Turn eager execution off by running: \n",
      "from tensorflow.python.framework.ops import disable_eager_execution\n",
      "disable_eager_execution()\n"
     ]
    }
   ],
   "execution_count": 108
  },
  {
   "cell_type": "markdown",
   "metadata": {
    "id": "cflUAxfxiMHz"
   },
   "source": [
    "# 4. 행렬\n",
    "\n",
    "- 영행렬 일행렬\n",
    "- 채움\n",
    "- 전치행렬\n",
    "- 대각행렬\n",
    "- 항등행렬"
   ]
  },
  {
   "cell_type": "markdown",
   "metadata": {
    "id": "IYMn6PNbiMHz"
   },
   "source": [
    "### 영행렬, 일행렬\n",
    " -  zeros()\n",
    " -  ones()"
   ]
  },
  {
   "cell_type": "code",
   "metadata": {
    "colab": {
     "base_uri": "https://localhost:8080/"
    },
    "executionInfo": {
     "elapsed": 16,
     "status": "ok",
     "timestamp": 1753150084419,
     "user": {
      "displayName": "고강태 강사",
      "userId": "11816854931407731745"
     },
     "user_tz": -540
    },
    "id": "Ynaw29DwiMHz",
    "outputId": "f4619b96-943a-4801-dac5-a918a0519d4d",
    "ExecuteTime": {
     "end_time": "2025-07-24T09:46:47.256462Z",
     "start_time": "2025-07-24T09:46:47.251280Z"
    }
   },
   "source": [
    "# Making a tensor filled with zeros. shape=[rows, columns]\n",
    "tensor = tf.zeros(shape=[3, 4], dtype=tf.int32)\n",
    "print(('Tensor full of zeros as int32, 3 rows and 4 columns:\\n{0}').format(tensor.numpy()))"
   ],
   "outputs": [
    {
     "name": "stdout",
     "output_type": "stream",
     "text": [
      "Tensor full of zeros as int32, 3 rows and 4 columns:\n",
      "[[0 0 0 0]\n",
      " [0 0 0 0]\n",
      " [0 0 0 0]]\n"
     ]
    }
   ],
   "execution_count": 109
  },
  {
   "cell_type": "code",
   "metadata": {
    "colab": {
     "base_uri": "https://localhost:8080/"
    },
    "executionInfo": {
     "elapsed": 33,
     "status": "ok",
     "timestamp": 1753150128349,
     "user": {
      "displayName": "고강태 강사",
      "userId": "11816854931407731745"
     },
     "user_tz": -540
    },
    "id": "GoLqTmx048LL",
    "outputId": "3a18a513-ff5b-4029-b11e-ec0538ec889b",
    "ExecuteTime": {
     "end_time": "2025-07-24T09:46:47.299043Z",
     "start_time": "2025-07-24T09:46:47.294244Z"
    }
   },
   "source": [
    "tf.zeros(shape=[3, 4], dtype=np.int32)"
   ],
   "outputs": [
    {
     "data": {
      "text/plain": [
       "<tf.Tensor: shape=(3, 4), dtype=int32, numpy=\n",
       "array([[0, 0, 0, 0],\n",
       "       [0, 0, 0, 0],\n",
       "       [0, 0, 0, 0]], dtype=int32)>"
      ]
     },
     "execution_count": 110,
     "metadata": {},
     "output_type": "execute_result"
    }
   ],
   "execution_count": 110
  },
  {
   "cell_type": "code",
   "metadata": {
    "colab": {
     "base_uri": "https://localhost:8080/"
    },
    "executionInfo": {
     "elapsed": 145,
     "status": "ok",
     "timestamp": 1753150089506,
     "user": {
      "displayName": "고강태 강사",
      "userId": "11816854931407731745"
     },
     "user_tz": -540
    },
    "id": "uuWtR7criMHz",
    "outputId": "536fb3ea-2adb-4d83-fdbc-7128bc39238f",
    "ExecuteTime": {
     "end_time": "2025-07-24T09:46:47.350947Z",
     "start_time": "2025-07-24T09:46:47.341927Z"
    }
   },
   "source": [
    "# Making a tensor filled with zeros with data type of float32\n",
    "tensor = tf.ones(shape=[5, 3], dtype=tf.float32)\n",
    "print(('\\nTensor full of ones as float32, 5 rows and 3 columns:\\n{0}').format(tensor.numpy()))"
   ],
   "outputs": [
    {
     "name": "stdout",
     "output_type": "stream",
     "text": [
      "\n",
      "Tensor full of ones as float32, 5 rows and 3 columns:\n",
      "[[1. 1. 1.]\n",
      " [1. 1. 1.]\n",
      " [1. 1. 1.]\n",
      " [1. 1. 1.]\n",
      " [1. 1. 1.]]\n"
     ]
    }
   ],
   "execution_count": 111
  },
  {
   "cell_type": "markdown",
   "metadata": {
    "id": "omMLAJ_0iMH0"
   },
   "source": [
    "### fill()"
   ]
  },
  {
   "cell_type": "code",
   "metadata": {
    "colab": {
     "base_uri": "https://localhost:8080/"
    },
    "executionInfo": {
     "elapsed": 34,
     "status": "ok",
     "timestamp": 1753150176889,
     "user": {
      "displayName": "고강태 강사",
      "userId": "11816854931407731745"
     },
     "user_tz": -540
    },
    "id": "qto3t5ApiMH0",
    "outputId": "5e0f9fbd-8037-462d-c722-7936fe02aa38",
    "ExecuteTime": {
     "end_time": "2025-07-24T09:46:47.397360Z",
     "start_time": "2025-07-24T09:46:47.394015Z"
    }
   },
   "source": [
    "tensor_fill = tf.fill([10,10],\"A\")\n",
    "tensor_fill"
   ],
   "outputs": [
    {
     "data": {
      "text/plain": [
       "<tf.Tensor: shape=(10, 10), dtype=string, numpy=\n",
       "array([[b'A', b'A', b'A', b'A', b'A', b'A', b'A', b'A', b'A', b'A'],\n",
       "       [b'A', b'A', b'A', b'A', b'A', b'A', b'A', b'A', b'A', b'A'],\n",
       "       [b'A', b'A', b'A', b'A', b'A', b'A', b'A', b'A', b'A', b'A'],\n",
       "       [b'A', b'A', b'A', b'A', b'A', b'A', b'A', b'A', b'A', b'A'],\n",
       "       [b'A', b'A', b'A', b'A', b'A', b'A', b'A', b'A', b'A', b'A'],\n",
       "       [b'A', b'A', b'A', b'A', b'A', b'A', b'A', b'A', b'A', b'A'],\n",
       "       [b'A', b'A', b'A', b'A', b'A', b'A', b'A', b'A', b'A', b'A'],\n",
       "       [b'A', b'A', b'A', b'A', b'A', b'A', b'A', b'A', b'A', b'A'],\n",
       "       [b'A', b'A', b'A', b'A', b'A', b'A', b'A', b'A', b'A', b'A'],\n",
       "       [b'A', b'A', b'A', b'A', b'A', b'A', b'A', b'A', b'A', b'A']],\n",
       "      dtype=object)>"
      ]
     },
     "execution_count": 112,
     "metadata": {},
     "output_type": "execute_result"
    }
   ],
   "execution_count": 112
  },
  {
   "cell_type": "code",
   "metadata": {
    "id": "0ngR4_sEiMH0",
    "outputId": "61a382d7-1b62-42a1-dc58-a7ea67b2457b",
    "ExecuteTime": {
     "end_time": "2025-07-24T09:46:47.503023Z",
     "start_time": "2025-07-24T09:46:47.494413Z"
    }
   },
   "source": [
    "tf.ones([10,10])"
   ],
   "outputs": [
    {
     "data": {
      "text/plain": [
       "<tf.Tensor: shape=(10, 10), dtype=float32, numpy=\n",
       "array([[1., 1., 1., 1., 1., 1., 1., 1., 1., 1.],\n",
       "       [1., 1., 1., 1., 1., 1., 1., 1., 1., 1.],\n",
       "       [1., 1., 1., 1., 1., 1., 1., 1., 1., 1.],\n",
       "       [1., 1., 1., 1., 1., 1., 1., 1., 1., 1.],\n",
       "       [1., 1., 1., 1., 1., 1., 1., 1., 1., 1.],\n",
       "       [1., 1., 1., 1., 1., 1., 1., 1., 1., 1.],\n",
       "       [1., 1., 1., 1., 1., 1., 1., 1., 1., 1.],\n",
       "       [1., 1., 1., 1., 1., 1., 1., 1., 1., 1.],\n",
       "       [1., 1., 1., 1., 1., 1., 1., 1., 1., 1.],\n",
       "       [1., 1., 1., 1., 1., 1., 1., 1., 1., 1.]], dtype=float32)>"
      ]
     },
     "execution_count": 113,
     "metadata": {},
     "output_type": "execute_result"
    }
   ],
   "execution_count": 113
  },
  {
   "cell_type": "markdown",
   "metadata": {
    "id": "3_d3PZA3iMH0"
   },
   "source": [
    "### 전치행렬\n",
    "Transpose"
   ]
  },
  {
   "cell_type": "code",
   "metadata": {
    "colab": {
     "base_uri": "https://localhost:8080/"
    },
    "executionInfo": {
     "elapsed": 84,
     "status": "ok",
     "timestamp": 1753150212473,
     "user": {
      "displayName": "고강태 강사",
      "userId": "11816854931407731745"
     },
     "user_tz": -540
    },
    "id": "1DW-uYDwE5t8",
    "outputId": "380a017a-8d00-4d6d-caa9-e6f943b86670",
    "ExecuteTime": {
     "end_time": "2025-07-24T09:46:47.582408Z",
     "start_time": "2025-07-24T09:46:47.575309Z"
    }
   },
   "source": [
    "# Some Matrix A\n",
    "A = tf.constant([[3, 7],\n",
    "                 [1, 9]])\n",
    "\n",
    "A = tf.transpose(A)\n",
    "\n",
    "print(('The transposed matrix A:\\n{0}').format(A))"
   ],
   "outputs": [
    {
     "name": "stdout",
     "output_type": "stream",
     "text": [
      "The transposed matrix A:\n",
      "[[3 1]\n",
      " [7 9]]\n"
     ]
    }
   ],
   "execution_count": 114
  },
  {
   "cell_type": "code",
   "metadata": {
    "colab": {
     "base_uri": "https://localhost:8080/"
    },
    "executionInfo": {
     "elapsed": 18,
     "status": "ok",
     "timestamp": 1753150223424,
     "user": {
      "displayName": "고강태 강사",
      "userId": "11816854931407731745"
     },
     "user_tz": -540
    },
    "id": "br22ONKGiMH0",
    "outputId": "f9077d3a-5e77-46a2-a538-53f55db98fe4",
    "ExecuteTime": {
     "end_time": "2025-07-24T09:46:47.829286Z",
     "start_time": "2025-07-24T09:46:47.825123Z"
    }
   },
   "source": [
    "E = tf.constant([[1, 2, 3], [4, 5, 6]])\n",
    "E"
   ],
   "outputs": [
    {
     "data": {
      "text/plain": [
       "<tf.Tensor: shape=(2, 3), dtype=int32, numpy=\n",
       "array([[1, 2, 3],\n",
       "       [4, 5, 6]], dtype=int32)>"
      ]
     },
     "execution_count": 115,
     "metadata": {},
     "output_type": "execute_result"
    }
   ],
   "execution_count": 115
  },
  {
   "cell_type": "code",
   "metadata": {
    "colab": {
     "base_uri": "https://localhost:8080/"
    },
    "executionInfo": {
     "elapsed": 81,
     "status": "ok",
     "timestamp": 1753150226505,
     "user": {
      "displayName": "고강태 강사",
      "userId": "11816854931407731745"
     },
     "user_tz": -540
    },
    "id": "agKVHjyFiMH0",
    "outputId": "65d789b3-d481-4a0e-de31-c4685c8a629f",
    "ExecuteTime": {
     "end_time": "2025-07-24T09:46:47.902124Z",
     "start_time": "2025-07-24T09:46:47.897303Z"
    }
   },
   "source": [
    "# Transposing Matrix E\n",
    "transpose_E = tf.transpose(E, name=\"transposeE\")\n",
    "transpose_E"
   ],
   "outputs": [
    {
     "data": {
      "text/plain": [
       "<tf.Tensor: shape=(3, 2), dtype=int32, numpy=\n",
       "array([[1, 4],\n",
       "       [2, 5],\n",
       "       [3, 6]], dtype=int32)>"
      ]
     },
     "execution_count": 116,
     "metadata": {},
     "output_type": "execute_result"
    }
   ],
   "execution_count": 116
  },
  {
   "cell_type": "markdown",
   "metadata": {
    "id": "gMe-KrsSiMH0"
   },
   "source": [
    "### 대각행렬"
   ]
  },
  {
   "cell_type": "code",
   "metadata": {
    "colab": {
     "base_uri": "https://localhost:8080/"
    },
    "executionInfo": {
     "elapsed": 32,
     "status": "ok",
     "timestamp": 1753150237327,
     "user": {
      "displayName": "고강태 강사",
      "userId": "11816854931407731745"
     },
     "user_tz": -540
    },
    "id": "e488eiMliMH0",
    "outputId": "d8162bcc-5bf7-4ed2-c919-df5313d4142e",
    "ExecuteTime": {
     "end_time": "2025-07-24T09:46:47.969165Z",
     "start_time": "2025-07-24T09:46:47.965386Z"
    }
   },
   "source": [
    "# 주 대각선 원소 정의\n",
    "diagonal_elements = tf.constant([1, 2, 3])\n",
    "\n",
    "# 대각 행렬 생성\n",
    "diagonal_matrix = tf.linalg.diag(diagonal_elements)\n",
    "\n",
    "print(\"대각 행렬:\")\n",
    "print(diagonal_matrix.numpy())"
   ],
   "outputs": [
    {
     "name": "stdout",
     "output_type": "stream",
     "text": [
      "대각 행렬:\n",
      "[[1 0 0]\n",
      " [0 2 0]\n",
      " [0 0 3]]\n"
     ]
    }
   ],
   "execution_count": 117
  },
  {
   "cell_type": "markdown",
   "metadata": {
    "id": "QHByueMtiMH0"
   },
   "source": [
    "### Identity Matrix\n",
    "\n",
    "항등행렬"
   ]
  },
  {
   "cell_type": "code",
   "metadata": {
    "colab": {
     "base_uri": "https://localhost:8080/"
    },
    "executionInfo": {
     "elapsed": 36,
     "status": "ok",
     "timestamp": 1753150266882,
     "user": {
      "displayName": "고강태 강사",
      "userId": "11816854931407731745"
     },
     "user_tz": -540
    },
    "id": "M6tAGWeNE5t9",
    "outputId": "b12a3411-9ad4-4930-a42e-1c6950484478",
    "ExecuteTime": {
     "end_time": "2025-07-24T09:46:48.034908Z",
     "start_time": "2025-07-24T09:46:48.028962Z"
    }
   },
   "source": [
    "# Some Matrix A\n",
    "A = tf.constant([[3, 7],\n",
    "                 [1, 9],\n",
    "                 [2, 5]])\n",
    "\n",
    "# Get number of dimensions\n",
    "rows, columns = A.shape\n",
    "print(('in tensor A:\\n{0} rows\\n{1} columns').format(rows, columns))\n",
    "\n",
    "# Making identity matrix\n",
    "A_identity = tf.eye(num_rows = rows,\n",
    "                    num_columns = columns,\n",
    "                    dtype = tf.int32)\n",
    "print(('\\nidentity matrix of A:\\n{0}').format(\n",
    "    A_identity.numpy()))"
   ],
   "outputs": [
    {
     "name": "stdout",
     "output_type": "stream",
     "text": [
      "in tensor A:\n",
      "3 rows\n",
      "2 columns\n",
      "\n",
      "identity matrix of A:\n",
      "[[1 0]\n",
      " [0 1]\n",
      " [0 0]]\n"
     ]
    }
   ],
   "execution_count": 118
  },
  {
   "cell_type": "markdown",
   "metadata": {
    "id": "QT6MtDDWiMH1"
   },
   "source": [
    "## 행렬의 연산\n",
    "\n",
    "- 브로드캐스팅\n",
    "- 행렬 곱셈: tf.matmul(a, b) 또는 a @ b"
   ]
  },
  {
   "cell_type": "markdown",
   "metadata": {
    "id": "m5z-sTVJiMH1"
   },
   "source": [
    "### 브로드캐스팅\n",
    "\n",
    "Element-wise broadcasting 은 크기가 다른 텐서 간의 연산을 가능하게 하는 메커니즘으로 NumPy의 브로드캐스팅 규칙과 유사하다. 작은 텐서가 큰 텐서의 형태에 맞춰 자동으로 확장되어 연산이 수행된다.\n",
    "\n",
    " - NumPy, Keras, Theano, Tensorflow 의 원소별 곱셈을 `*` 연산자를 사용한다.\n"
   ]
  },
  {
   "cell_type": "code",
   "metadata": {
    "colab": {
     "base_uri": "https://localhost:8080/"
    },
    "executionInfo": {
     "elapsed": 35,
     "status": "ok",
     "timestamp": 1753150289748,
     "user": {
      "displayName": "고강태 강사",
      "userId": "11816854931407731745"
     },
     "user_tz": -540
    },
    "id": "XJUhMLteiMH1",
    "outputId": "dace9d04-1103-48e0-9d4b-1bc5222107e4",
    "ExecuteTime": {
     "end_time": "2025-07-24T09:46:48.091567Z",
     "start_time": "2025-07-24T09:46:48.089065Z"
    }
   },
   "source": [
    "A = tf.constant([[3, 2],\n",
    "                 [5, 2]])\n",
    "A + 5"
   ],
   "outputs": [
    {
     "data": {
      "text/plain": [
       "<tf.Tensor: shape=(2, 2), dtype=int32, numpy=\n",
       "array([[ 8,  7],\n",
       "       [10,  7]], dtype=int32)>"
      ]
     },
     "execution_count": 119,
     "metadata": {},
     "output_type": "execute_result"
    }
   ],
   "execution_count": 119
  },
  {
   "cell_type": "code",
   "metadata": {
    "colab": {
     "base_uri": "https://localhost:8080/"
    },
    "executionInfo": {
     "elapsed": 36,
     "status": "ok",
     "timestamp": 1753150317178,
     "user": {
      "displayName": "고강태 강사",
      "userId": "11816854931407731745"
     },
     "user_tz": -540
    },
    "id": "DKpy8zqm5ttN",
    "outputId": "72a56e2a-d575-4e9a-8476-493ca96fda6f",
    "ExecuteTime": {
     "end_time": "2025-07-24T09:46:48.166992Z",
     "start_time": "2025-07-24T09:46:48.164841Z"
    }
   },
   "source": [
    "A * 5"
   ],
   "outputs": [
    {
     "data": {
      "text/plain": [
       "<tf.Tensor: shape=(2, 2), dtype=int32, numpy=\n",
       "array([[15, 10],\n",
       "       [25, 10]], dtype=int32)>"
      ]
     },
     "execution_count": 120,
     "metadata": {},
     "output_type": "execute_result"
    }
   ],
   "execution_count": 120
  },
  {
   "cell_type": "markdown",
   "metadata": {
    "id": "UH37RlCtiMH1"
   },
   "source": [
    "multiply 등 연산 함수를 이용할 수 있다."
   ]
  },
  {
   "cell_type": "code",
   "metadata": {
    "colab": {
     "base_uri": "https://localhost:8080/"
    },
    "executionInfo": {
     "elapsed": 50,
     "status": "ok",
     "timestamp": 1753150322439,
     "user": {
      "displayName": "고강태 강사",
      "userId": "11816854931407731745"
     },
     "user_tz": -540
    },
    "id": "hbRDA-kHiMH1",
    "outputId": "ff983951-e684-40be-ad83-352f576b68be",
    "ExecuteTime": {
     "end_time": "2025-07-24T09:46:48.235108Z",
     "start_time": "2025-07-24T09:46:48.233058Z"
    }
   },
   "source": [
    "# Element-wise multiplication\n",
    "Av = tf.multiply(A, 5)\n",
    "Av"
   ],
   "outputs": [
    {
     "data": {
      "text/plain": [
       "<tf.Tensor: shape=(2, 2), dtype=int32, numpy=\n",
       "array([[15, 10],\n",
       "       [25, 10]], dtype=int32)>"
      ]
     },
     "execution_count": 121,
     "metadata": {},
     "output_type": "execute_result"
    }
   ],
   "execution_count": 121
  },
  {
   "cell_type": "code",
   "metadata": {
    "id": "WNaRBLVfiMH1",
    "outputId": "d9139e2d-1a29-4069-c226-dfeb73c0d5ae",
    "ExecuteTime": {
     "end_time": "2025-07-24T09:46:48.320583Z",
     "start_time": "2025-07-24T09:46:48.316161Z"
    }
   },
   "source": [
    "# Element-wise multiplication\n",
    "v = tf.constant([[5],\n",
    "                 [2]])\n",
    "Av = tf.multiply(A, v)\n",
    "Av"
   ],
   "outputs": [
    {
     "data": {
      "text/plain": [
       "<tf.Tensor: shape=(2, 2), dtype=int32, numpy=\n",
       "array([[15, 10],\n",
       "       [10,  4]], dtype=int32)>"
      ]
     },
     "execution_count": 122,
     "metadata": {},
     "output_type": "execute_result"
    }
   ],
   "execution_count": 122
  },
  {
   "cell_type": "markdown",
   "metadata": {
    "id": "l-ly7gpaiMH1"
   },
   "source": [
    "### 행렬 내적\n",
    "\n",
    "\n",
    "- 행렬의 내적(dot product)은 tf.matmul(a, b) 또는 a @ b 를 지원\n",
    "\n",
    "> - dot product: 주로 벡터 (1차원) 간의 연산이며, 결과는 스칼라입니다.\n",
    "> - 행렬의 곱셈:\n",
    ">    - tf.multiply()\n",
    ">    - 행렬 (2차원 이상) 간의 연산이며, 결과는 행렬입니다\n"
   ]
  },
  {
   "cell_type": "markdown",
   "metadata": {
    "id": "tK8hJvw2iMH1"
   },
   "source": [
    "\n",
    "  - TensorFlow (및 NumPy)에서 `tf.tensordot` 같은 함수를 사용하거나, 1차원 벡터에 대해 `tf.matmul`을 사용할 경우 내적의 의미로 작동할 수 있습니다.\n",
    "\n"
   ]
  },
  {
   "cell_type": "markdown",
   "metadata": {
    "id": "NbPQsfZ6iMH1"
   },
   "source": [
    "Dot produt (여기서 행렬곱) 계산은\n",
    " - NumPy에서 벡터와 행렬의 내적은 `np.dot()` 함수사용.\n",
    " - Python3.5 이상은 `@`(at이라고 읽는다) 연산자로 계산한다.\n",
    "     - 2차원 배열로 표시한 벡터를 내적했을 때는 결과값이 스칼라가 아닌 2차원 배열이다.\n",
    " - Keras는 keras.dot() 연산 사용.\n",
    " - 텐서플로우는 tf.matmul(x, y) 를 사용한다.\n",
    "\n",
    "<img src='https://i.imgur.com/TahVEIY.png' width=500>"
   ]
  },
  {
   "cell_type": "markdown",
   "metadata": {
    "id": "x4YSYof6iMH1"
   },
   "source": [
    "https://angeloyeo.github.io/2020/09/08/matrix_multiplication.html"
   ]
  },
  {
   "cell_type": "markdown",
   "metadata": {
    "id": "-bSZ7i0yiMH1"
   },
   "source": [
    "**행렬 곱셈 (Matrix Multiplication)**은 수학적으로 정의된 행렬 간의 곱셈 규칙을 따르는 연산입니다. 딥러닝에서 신경망의 레이어 간 계산(입력 벡터와 가중치 행렬의 곱 등)에 가장 많이 사용됩니다.\n"
   ]
  },
  {
   "cell_type": "code",
   "metadata": {
    "colab": {
     "base_uri": "https://localhost:8080/"
    },
    "executionInfo": {
     "elapsed": 21,
     "status": "ok",
     "timestamp": 1753150407777,
     "user": {
      "displayName": "고강태 강사",
      "userId": "11816854931407731745"
     },
     "user_tz": -540
    },
    "id": "Gr76eAWDiMH2",
    "outputId": "532fc71c-f8d1-4e62-9b95-2a65f29540d0",
    "ExecuteTime": {
     "end_time": "2025-07-24T09:46:48.413106Z",
     "start_time": "2025-07-24T09:46:48.409325Z"
    }
   },
   "source": [
    "matrix1 = tf.constant([[1, 2], [3, 4]])\n",
    "matrix2 = tf.constant([[5, 6], [7, 8]])\n",
    "\n",
    "matrix_mult = tf.matmul(matrix1, matrix2)\n",
    "print(f\"Matrix multiplication:\\n{matrix_mult.numpy()}\")"
   ],
   "outputs": [
    {
     "name": "stdout",
     "output_type": "stream",
     "text": [
      "Matrix multiplication:\n",
      "[[19 22]\n",
      " [43 50]]\n"
     ]
    }
   ],
   "execution_count": 123
  },
  {
   "cell_type": "markdown",
   "metadata": {
    "id": "HJnqDYvhE5t-"
   },
   "source": [
    "# 5. tf.function 그래프 컴파일\n",
    "\n",
    "\n",
    "TensorFlow 2.x의 Eager Execution은 개발 편의성을 높였지만, 파이썬 코드의 인터프리터 오버헤드 때문에 순수 C++로 구현된 TensorFlow 1.x의 정적 그래프 방식보다 속도가 느릴 수 있습니다. **tf.function**은 이 문제를 해결하기 위해 사용됩니다.\n",
    "\n",
    "\n",
    "- https://www.tensorflow.org/guide/intro_to_graphs?hl=ko\n"
   ]
  },
  {
   "cell_type": "markdown",
   "metadata": {
    "id": "QIc5gph0iMH2"
   },
   "source": [
    "#### - `tf.function`의 역할\n",
    "\n",
    " - Python 함수를 호출 가능한 \\*\\*TensorFlow 그래프(TensorFlow Graph)\\*\\*로 컴파일합니다.\n",
    " - 이렇게 컴파일된 그래프는 Python 인터프리터의 간섭 없이 TensorFlow 런타임에서 직접 실행되므로 **성능이 크게 향상**됩니다.\n",
    " - GPU나 TPU 같은 가속기에서도 더 효율적으로 동작합니다.\n",
    " - 모델을 배포할 때 (SavedModel)에도 `tf.function`으로 캡슐화된 코드는 그래프 형태로 저장되어 쉽게 로드하고 실행할 수 있습니다.\n"
   ]
  },
  {
   "cell_type": "markdown",
   "metadata": {
    "id": "Lnom8alIiMH2"
   },
   "source": [
    "## **`tf.function` 사용**:\n",
    "\n",
    "  -  파이썬 함수 위에 데코레이터로 `@tf.function`을 붙이면 됩니다.\n",
    "  - tf.function() 으로 함수를 전달한다\n",
    "  - 첫 호출 시 함수는 그래프로 변환됩니다. 이후 호출부터는 변환된 그래프가 실행됩니다.\n"
   ]
  },
  {
   "cell_type": "code",
   "metadata": {
    "executionInfo": {
     "elapsed": 73,
     "status": "ok",
     "timestamp": 1753150593150,
     "user": {
      "displayName": "고강태 강사",
      "userId": "11816854931407731745"
     },
     "user_tz": -540
    },
    "id": "liQwRRJYiMH2",
    "ExecuteTime": {
     "end_time": "2025-07-24T09:46:48.506973Z",
     "start_time": "2025-07-24T09:46:48.505451Z"
    }
   },
   "source": [
    "import tensorflow as tf\n",
    "import time"
   ],
   "outputs": [],
   "execution_count": 124
  },
  {
   "cell_type": "markdown",
   "metadata": {
    "id": "Oucwb5jLiMH2"
   },
   "source": [
    "#### - `tf.function` 즉시 사용"
   ]
  },
  {
   "cell_type": "code",
   "metadata": {
    "executionInfo": {
     "elapsed": 2,
     "status": "ok",
     "timestamp": 1753150673831,
     "user": {
      "displayName": "고강태 강사",
      "userId": "11816854931407731745"
     },
     "user_tz": -540
    },
    "id": "v819a45_iMH2",
    "ExecuteTime": {
     "end_time": "2025-07-24T09:46:48.567714Z",
     "start_time": "2025-07-24T09:46:48.561371Z"
    }
   },
   "source": [
    "def rms(x, y):\n",
    "    return tf.reduce_mean(tf.multiply(x ** 2, 3) + y)\n",
    "\n",
    "r = tf.function(rms)"
   ],
   "outputs": [],
   "execution_count": 125
  },
  {
   "cell_type": "code",
   "metadata": {
    "colab": {
     "base_uri": "https://localhost:8080/"
    },
    "executionInfo": {
     "elapsed": 42,
     "status": "ok",
     "timestamp": 1753150615717,
     "user": {
      "displayName": "고강태 강사",
      "userId": "11816854931407731745"
     },
     "user_tz": -540
    },
    "id": "7JbmDlKEiMH2",
    "outputId": "807af230-f688-4512-d309-237d4f3de035",
    "ExecuteTime": {
     "end_time": "2025-07-24T09:46:48.682528Z",
     "start_time": "2025-07-24T09:46:48.677738Z"
    }
   },
   "source": [
    "r"
   ],
   "outputs": [
    {
     "data": {
      "text/plain": [
       "<tensorflow.python.eager.polymorphic_function.polymorphic_function.Function at 0x3b2566340>"
      ]
     },
     "execution_count": 126,
     "metadata": {},
     "output_type": "execute_result"
    }
   ],
   "execution_count": 126
  },
  {
   "cell_type": "code",
   "metadata": {
    "colab": {
     "base_uri": "https://localhost:8080/"
    },
    "executionInfo": {
     "elapsed": 712,
     "status": "ok",
     "timestamp": 1753150630116,
     "user": {
      "displayName": "고강태 강사",
      "userId": "11816854931407731745"
     },
     "user_tz": -540
    },
    "id": "LHjij-FkiMH2",
    "outputId": "dfa79c84-5490-4424-a61f-83b652c0ff5c",
    "ExecuteTime": {
     "end_time": "2025-07-24T09:46:48.766896Z",
     "start_time": "2025-07-24T09:46:48.727894Z"
    }
   },
   "source": [
    "x = tf.constant([[2.0, 3.0]])\n",
    "y = tf.constant([[3.0, -2.0]])\n",
    "\n",
    "# `rms()` and `r` will return the same value,\n",
    "# but `r` will be executed as a TensorFlow graph.\n",
    "assert rms(x, y).numpy() == r(x, y).numpy()\n",
    "\n",
    "print(rms(x,y).numpy())"
   ],
   "outputs": [
    {
     "name": "stdout",
     "output_type": "stream",
     "text": [
      "20.0\n"
     ]
    }
   ],
   "execution_count": 127
  },
  {
   "cell_type": "markdown",
   "metadata": {
    "id": "hvPQkNHfiMH2"
   },
   "source": [
    "#### - 데코레이터 사용"
   ]
  },
  {
   "cell_type": "code",
   "metadata": {
    "executionInfo": {
     "elapsed": 9,
     "status": "ok",
     "timestamp": 1753150690513,
     "user": {
      "displayName": "고강태 강사",
      "userId": "11816854931407731745"
     },
     "user_tz": -540
    },
    "id": "IdYPBeafiMH2",
    "ExecuteTime": {
     "end_time": "2025-07-24T09:46:48.871657Z",
     "start_time": "2025-07-24T09:46:48.869464Z"
    }
   },
   "source": [
    "@tf.function\n",
    "def rms2(x, y) :\n",
    "    return tf.reduce_mean(tf.multiply(x ** 2, 3) + y)"
   ],
   "outputs": [],
   "execution_count": 128
  },
  {
   "cell_type": "code",
   "metadata": {
    "colab": {
     "base_uri": "https://localhost:8080/"
    },
    "executionInfo": {
     "elapsed": 103,
     "status": "ok",
     "timestamp": 1753150700236,
     "user": {
      "displayName": "고강태 강사",
      "userId": "11816854931407731745"
     },
     "user_tz": -540
    },
    "id": "1tEA94mziMH2",
    "outputId": "613a1fda-7229-4dd2-d027-59ff6df86db9",
    "ExecuteTime": {
     "end_time": "2025-07-24T09:46:48.936570Z",
     "start_time": "2025-07-24T09:46:48.906560Z"
    }
   },
   "source": [
    "x = tf.constant([[2.0, 3.0]])\n",
    "y = tf.constant([[3.0, -2.0]])\n",
    "\n",
    "s = rms2(x, y)\n",
    "s"
   ],
   "outputs": [
    {
     "data": {
      "text/plain": [
       "<tf.Tensor: shape=(), dtype=float32, numpy=20.0>"
      ]
     },
     "execution_count": 129,
     "metadata": {},
     "output_type": "execute_result"
    }
   ],
   "execution_count": 129
  },
  {
   "cell_type": "code",
   "metadata": {
    "id": "GSYcze5oiMH2",
    "outputId": "26900f3e-8dc3-4de9-d424-a35f1dbfe672",
    "ExecuteTime": {
     "end_time": "2025-07-24T09:46:48.975768Z",
     "start_time": "2025-07-24T09:46:48.966254Z"
    }
   },
   "source": [
    "# `rms()` and `r` will return the same value,\n",
    "# but `r` will be executed as a TensorFlow graph.\n",
    "assert rms(x, y).numpy() == rms2(x, y).numpy()\n",
    "\n",
    "print(rms(x,y).numpy())"
   ],
   "outputs": [
    {
     "name": "stdout",
     "output_type": "stream",
     "text": [
      "20.0\n"
     ]
    }
   ],
   "execution_count": 130
  },
  {
   "cell_type": "markdown",
   "metadata": {
    "id": "1A6SacCRiMH3"
   },
   "source": [
    "#### - 성능 비교"
   ]
  },
  {
   "cell_type": "code",
   "metadata": {
    "executionInfo": {
     "elapsed": 42,
     "status": "ok",
     "timestamp": 1753150730799,
     "user": {
      "displayName": "고강태 강사",
      "userId": "11816854931407731745"
     },
     "user_tz": -540
    },
    "id": "M9JVAD7SiMH3",
    "ExecuteTime": {
     "end_time": "2025-07-24T09:46:49.013758Z",
     "start_time": "2025-07-24T09:46:49.012109Z"
    }
   },
   "source": [
    "# 일반 Python 함수\n",
    "def python_add(a, b):\n",
    "    return a + b\n",
    "\n",
    "# tf.function으로 컴파일된 함수\n",
    "@tf.function\n",
    "def tf_function_add(a, b):\n",
    "    return a + b"
   ],
   "outputs": [],
   "execution_count": 131
  },
  {
   "cell_type": "code",
   "metadata": {
    "colab": {
     "base_uri": "https://localhost:8080/",
     "height": 410
    },
    "executionInfo": {
     "elapsed": 10064,
     "status": "error",
     "timestamp": 1753150879704,
     "user": {
      "displayName": "고강태 강사",
      "userId": "11816854931407731745"
     },
     "user_tz": -540
    },
    "id": "2iwCKMlxiMH5",
    "outputId": "3713098a-cf17-4f2b-da65-bae676bcc914",
    "ExecuteTime": {
     "end_time": "2025-07-24T09:46:50.467645Z",
     "start_time": "2025-07-24T09:46:49.050699Z"
    }
   },
   "source": [
    "# 큰 텐서 생성\n",
    "tensor_a = tf.random.normal([10000, 10000])\n",
    "tensor_b = tf.random.normal([10000, 10000])\n",
    "\n",
    "print(\"\\n--- tf.function 성능 비교 ---\")\n",
    "\n",
    "# Python 함수 실행 시간 측정\n",
    "start_time = time.time()\n",
    "for _ in range(100):\n",
    "    result = python_add(tensor_a, tensor_b)\n",
    "end_time = time.time()\n",
    "print(f\"Python function execution time: {end_time - start_time:.4f} seconds\")\n",
    "\n",
    "# tf.function 함수 실행 시간 측정 (첫 호출은 컴파일 포함)\n",
    "start_time = time.time()\n",
    "for _ in range(100):\n",
    "    result = tf_function_add(tensor_a, tensor_b)\n",
    "end_time = time.time()\n",
    "print(f\"tf.function execution time (including compilation): {end_time - start_time:.4f} seconds\")\n",
    "\n",
    "# tf.function 함수 재실행 시간 측정 (컴파일 완료 후)\n",
    "start_time = time.time()\n",
    "for _ in range(100):\n",
    "    result = tf_function_add(tensor_a, tensor_b) # 이미 컴파일됨\n",
    "end_time = time.time()\n",
    "print(f\"tf.function execution time (after compilation): {end_time - start_time:.4f} seconds\")"
   ],
   "outputs": [
    {
     "name": "stdout",
     "output_type": "stream",
     "text": [
      "\n",
      "--- tf.function 성능 비교 ---\n",
      "Python function execution time: 0.2465 seconds\n",
      "tf.function execution time (including compilation): 0.5855 seconds\n",
      "tf.function execution time (after compilation): 0.5715 seconds\n"
     ]
    }
   ],
   "execution_count": 132
  },
  {
   "cell_type": "markdown",
   "metadata": {
    "id": "s7lUGw2yiMH5"
   },
   "source": [
    "이 예시를 실행해보면, `tf.function`으로 캡슐화된 함수가 훨씬 빠르게 동작하는 것을 확인할 수 있습니다. 특히 루프 내에서 반복적으로 호출되거나 복잡한 연산을 수행할 때 그 효과가 두드러집니다.\n"
   ]
  },
  {
   "cell_type": "markdown",
   "metadata": {
    "id": "PNROFWDRiMH5"
   },
   "source": [
    "### **`tf.function` 사용 시 주의사항**\n",
    "\n",
    "  - `tf.function` 내부에서는 Python의 일반적인 제어 흐름(for 루프, if/else 등)이 TensorFlow 연산으로 변환될 수 있도록 작성해야 합니다. `tf.Tensor` 객체를 이용한 조건문이나 반복문은 잘 동작하지만, 일반 Python 리스트나 넘파이 배열에 대한 직접적인 조작은 그래프로 변환되지 않을 수 있습니다.\n",
    "  - 변수가 아닌 Python 원시 타입(정수, 문자열)이 함수의 입력으로 들어오면, 입력값마다 별도의 그래프를 생성할 수 있어 비효율적일 수 있습니다. 텐서 형태의 입력을 사용하는 것이 권장됩니다.\n"
   ]
  },
  {
   "cell_type": "markdown",
   "metadata": {
    "id": "j5A1c3rME5t-"
   },
   "source": [
    "## Tensorflow 주요 함수"
   ]
  },
  {
   "cell_type": "markdown",
   "metadata": {
    "id": "pzEjz66NiMH5"
   },
   "source": [
    "#### 논리연산"
   ]
  },
  {
   "cell_type": "code",
   "metadata": {
    "id": "Znyn0xWLiMH6",
    "outputId": "442345e5-8dec-4346-f6e0-5e7f4215b535",
    "ExecuteTime": {
     "end_time": "2025-07-24T09:46:50.880585Z",
     "start_time": "2025-07-24T09:46:50.877185Z"
    }
   },
   "source": [
    "tf.logical_and\n",
    "tf.logical_or\n",
    "tf.logical_not"
   ],
   "outputs": [
    {
     "data": {
      "text/plain": [
       "<function tensorflow.python.ops.gen_math_ops.logical_not(x: typing.Annotated[_any, <class 'tensorflow.security.fuzzing.py.annotation_types.Bool'>], name=None) -> typing.Annotated[_any, <class 'tensorflow.security.fuzzing.py.annotation_types.Bool'>]>"
      ]
     },
     "execution_count": 133,
     "metadata": {},
     "output_type": "execute_result"
    }
   ],
   "execution_count": 133
  },
  {
   "cell_type": "markdown",
   "metadata": {
    "id": "-7Q7UoGMiMH6"
   },
   "source": [
    "#### 비교연산"
   ]
  },
  {
   "cell_type": "code",
   "metadata": {
    "id": "IFbA4UBuiMH6",
    "outputId": "529adec5-d027-4f99-e707-48304ec85634",
    "ExecuteTime": {
     "end_time": "2025-07-24T09:46:50.913778Z",
     "start_time": "2025-07-24T09:46:50.910049Z"
    }
   },
   "source": [
    "tf.equal\n",
    "tf.less\n",
    "tf.less_equal\n",
    "tf.greater\n",
    "tf.greater_equal"
   ],
   "outputs": [
    {
     "data": {
      "text/plain": [
       "<function tensorflow.python.ops.gen_math_ops.greater_equal(x: typing.Annotated[_any, ~TV_GreaterEqual_T], y: typing.Annotated[_any, ~TV_GreaterEqual_T], name=None) -> typing.Annotated[_any, <class 'tensorflow.security.fuzzing.py.annotation_types.Bool'>]>"
      ]
     },
     "execution_count": 134,
     "metadata": {},
     "output_type": "execute_result"
    }
   ],
   "execution_count": 134
  },
  {
   "cell_type": "markdown",
   "metadata": {
    "id": "mvcOWuyiiMH6"
   },
   "source": [
    "#### 최대값 최소값"
   ]
  },
  {
   "cell_type": "code",
   "metadata": {
    "id": "k0Rg5rDWiMH6",
    "outputId": "57419913-9db0-4d51-f120-77d17e1b3241",
    "ExecuteTime": {
     "end_time": "2025-07-24T09:46:50.947752Z",
     "start_time": "2025-07-24T09:46:50.945621Z"
    }
   },
   "source": [
    "tf.maximum\n",
    "tf.minimum"
   ],
   "outputs": [
    {
     "data": {
      "text/plain": [
       "<function tensorflow.python.ops.gen_math_ops.minimum(x: typing.Annotated[_any, ~TV_Minimum_T], y: typing.Annotated[_any, ~TV_Minimum_T], name=None) -> typing.Annotated[_any, ~TV_Minimum_T]>"
      ]
     },
     "execution_count": 135,
     "metadata": {},
     "output_type": "execute_result"
    }
   ],
   "execution_count": 135
  },
  {
   "cell_type": "markdown",
   "metadata": {
    "id": "yEvdX2jriMH6"
   },
   "source": [
    "#### 삼각함수"
   ]
  },
  {
   "cell_type": "code",
   "metadata": {
    "id": "vsI1NU_giMH6",
    "outputId": "2eead6f7-fc35-41bb-a66f-8c535a00d5f3",
    "ExecuteTime": {
     "end_time": "2025-07-24T09:46:50.991170Z",
     "start_time": "2025-07-24T09:46:50.987850Z"
    }
   },
   "source": [
    "tf.cos\n",
    "tf.sin\n",
    "tf.tan\n",
    "tf.cosh\n",
    "tf.sinh\n",
    "tf.tanh"
   ],
   "outputs": [
    {
     "data": {
      "text/plain": [
       "<function tensorflow.python.ops.gen_math_ops.tanh(x: typing.Annotated[_any, ~TV_Tanh_T], name=None) -> typing.Annotated[_any, ~TV_Tanh_T]>"
      ]
     },
     "execution_count": 136,
     "metadata": {},
     "output_type": "execute_result"
    }
   ],
   "execution_count": 136
  },
  {
   "cell_type": "markdown",
   "metadata": {
    "id": "KORsqoo-E5t-"
   },
   "source": [
    "#### argmax, argmin\n",
    "\n",
    "1. [argmax](https://www.tensorflow.org/api_docs/python/tf/argmax)\n",
    "2. [argmin](https://www.tensorflow.org/api_docs/python/tf/argmin)\n",
    "\n",
    "\n"
   ]
  },
  {
   "cell_type": "code",
   "metadata": {
    "id": "U5DmtSAFE5t_",
    "outputId": "cd97b5e0-4d19-4291-da5a-c2888994da23",
    "ExecuteTime": {
     "end_time": "2025-07-24T09:46:51.025780Z",
     "start_time": "2025-07-24T09:46:51.020722Z"
    }
   },
   "source": [
    "x = [-10, 9, 8, 10]\n",
    "tf.argmax(x)\n",
    "tf.argmin(x)"
   ],
   "outputs": [
    {
     "data": {
      "text/plain": [
       "<tf.Tensor: shape=(), dtype=int64, numpy=0>"
      ]
     },
     "execution_count": 137,
     "metadata": {},
     "output_type": "execute_result"
    }
   ],
   "execution_count": 137
  },
  {
   "cell_type": "markdown",
   "metadata": {
    "id": "fpYUITW3E5t_"
   },
   "source": [
    "## one_hot()\n",
    "\n",
    "[one_hot()](https://www.tensorflow.org/api_docs/python/tf/one_hot)\n",
    "\n",
    "one-hot(원핫)인코딩이란?\n",
    "\n",
    "원-핫 인코딩은 특정 위치의 값만 1이고, 나머지 위치의 값은 0인 벡터를 만드는 방식입니다.\n",
    "\n",
    "예를들면 `[0, 0, 0, 0, 1]` 이다. 5번째만 1이고 나머지는 0이다.\n",
    "\n"
   ]
  },
  {
   "cell_type": "code",
   "metadata": {
    "colab": {
     "base_uri": "https://localhost:8080/"
    },
    "executionInfo": {
     "elapsed": 58,
     "status": "ok",
     "timestamp": 1753151063159,
     "user": {
      "displayName": "고강태 강사",
      "userId": "11816854931407731745"
     },
     "user_tz": -540
    },
    "id": "ockzsQeiE5t_",
    "outputId": "d187fece-d66c-400a-eae3-9ca86b8bcf89",
    "ExecuteTime": {
     "end_time": "2025-07-24T09:46:51.072323Z",
     "start_time": "2025-07-24T09:46:51.053724Z"
    }
   },
   "source": [
    "tf.one_hot([0,1,2], depth=3)"
   ],
   "outputs": [
    {
     "data": {
      "text/plain": [
       "<tf.Tensor: shape=(3, 3), dtype=float32, numpy=\n",
       "array([[1., 0., 0.],\n",
       "       [0., 1., 0.],\n",
       "       [0., 0., 1.]], dtype=float32)>"
      ]
     },
     "execution_count": 138,
     "metadata": {},
     "output_type": "execute_result"
    }
   ],
   "execution_count": 138
  },
  {
   "cell_type": "code",
   "metadata": {
    "id": "zstt3C8jE5t_",
    "outputId": "eb9517a4-b057-4451-b46d-ba9fbb2f418e",
    "ExecuteTime": {
     "end_time": "2025-07-24T09:46:51.133164Z",
     "start_time": "2025-07-24T09:46:51.122066Z"
    }
   },
   "source": [
    "tf.one_hot([0,4,2], depth=3)"
   ],
   "outputs": [
    {
     "data": {
      "text/plain": [
       "<tf.Tensor: shape=(3, 3), dtype=float32, numpy=\n",
       "array([[1., 0., 0.],\n",
       "       [0., 0., 0.],\n",
       "       [0., 0., 1.]], dtype=float32)>"
      ]
     },
     "execution_count": 139,
     "metadata": {},
     "output_type": "execute_result"
    }
   ],
   "execution_count": 139
  },
  {
   "cell_type": "code",
   "metadata": {
    "id": "oolcuqg9E5t_",
    "outputId": "e0187eb3-854c-41cf-98fa-6bf15a52ca48",
    "ExecuteTime": {
     "end_time": "2025-07-24T09:46:51.219828Z",
     "start_time": "2025-07-24T09:46:51.213127Z"
    }
   },
   "source": [
    "tf.one_hot([1,2,3], depth=5)"
   ],
   "outputs": [
    {
     "data": {
      "text/plain": [
       "<tf.Tensor: shape=(3, 5), dtype=float32, numpy=\n",
       "array([[0., 1., 0., 0., 0.],\n",
       "       [0., 0., 1., 0., 0.],\n",
       "       [0., 0., 0., 1., 0.]], dtype=float32)>"
      ]
     },
     "execution_count": 140,
     "metadata": {},
     "output_type": "execute_result"
    }
   ],
   "execution_count": 140
  },
  {
   "cell_type": "code",
   "metadata": {
    "colab": {
     "base_uri": "https://localhost:8080/",
     "height": 336
    },
    "executionInfo": {
     "elapsed": 57,
     "status": "error",
     "timestamp": 1753151091747,
     "user": {
      "displayName": "고강태 강사",
      "userId": "11816854931407731745"
     },
     "user_tz": -540
    },
    "id": "McdwONKW8nu-",
    "outputId": "1d17d3be-332d-45d5-f0c4-daa0a6963858"
   },
   "source": [
    "tf.one_hot([\"A\", \"B\", \"C\"], depth=3)"
   ],
   "outputs": [],
   "execution_count": null
  },
  {
   "cell_type": "markdown",
   "metadata": {
    "id": "KTo5A000iMH7"
   },
   "source": [
    "## random 모듈\n",
    "\n",
    "분포 함수\n",
    " - 정규분포에 대한 임의의 값 세팅"
   ]
  },
  {
   "cell_type": "code",
   "metadata": {
    "id": "1rhnRuQYiMH7",
    "outputId": "ec66bfc5-c9ad-42af-dc45-c1bd96cb8234",
    "ExecuteTime": {
     "end_time": "2025-07-24T09:47:23.135829Z",
     "start_time": "2025-07-24T09:47:23.116186Z"
    }
   },
   "source": [
    "tf.random.normal((2,3))\n",
    "tf.random.uniform([4],0,1)\n",
    "tf.random.uniform([4,2],0,1).numpy()\n",
    "tf.random.uniform([4,2,2],0,1).numpy()"
   ],
   "outputs": [
    {
     "data": {
      "text/plain": [
       "array([[[0.93565285, 0.95928764],\n",
       "        [0.3788631 , 0.7363062 ]],\n",
       "\n",
       "       [[0.6756853 , 0.5937339 ],\n",
       "        [0.91917646, 0.44640756]],\n",
       "\n",
       "       [[0.9612026 , 0.17827964],\n",
       "        [0.9416996 , 0.05826747]],\n",
       "\n",
       "       [[0.18046796, 0.21124768],\n",
       "        [0.30806267, 0.4631803 ]]], dtype=float32)"
      ]
     },
     "execution_count": 142,
     "metadata": {},
     "output_type": "execute_result"
    }
   ],
   "execution_count": 142
  },
  {
   "cell_type": "markdown",
   "metadata": {
    "id": "PVuL7e1WE5t_"
   },
   "source": [
    "## 배열 변형 함수\n",
    "\n",
    "- [reshape()](https://www.tensorflow.org/api_docs/python/tf/reshape\n",
    "): 원하는 shape를 직접 입력하여 바꿀 수 있다. 특히 shape에 -1를 입력하면 고정된 차원은 우선 채우고 남은 부분을 알아서 채워준다.\n",
    "- [squeeze()](https://www.tensorflow.org/api_docs/python/tf/squeeze) 차원 중 사이즈가 1인 것을 찾아 스칼라값으로 바꿔 해당 차원을 제거한다.\n",
    "- [expand_dims](https://www.tensorflow.org/api_docs/python/tf/expand_dims): axis로 지정된 차원을 추가한다.\n",
    "\n",
    "\n",
    "\n",
    "\n",
    "\n",
    "\n",
    "\n"
   ]
  },
  {
   "cell_type": "markdown",
   "metadata": {
    "id": "Yag29EUsE5t_"
   },
   "source": [
    "### `reshape()`"
   ]
  },
  {
   "cell_type": "code",
   "metadata": {
    "id": "dAd2UVOdE5t_",
    "outputId": "8ae8a159-4d6e-4450-8538-62ab54767d0e",
    "ExecuteTime": {
     "end_time": "2025-07-24T09:47:23.162698Z",
     "start_time": "2025-07-24T09:47:23.160465Z"
    }
   },
   "source": [
    "x = np.arange(0,10)\n",
    "x"
   ],
   "outputs": [
    {
     "data": {
      "text/plain": [
       "array([0, 1, 2, 3, 4, 5, 6, 7, 8, 9])"
      ]
     },
     "execution_count": 143,
     "metadata": {},
     "output_type": "execute_result"
    }
   ],
   "execution_count": 143
  },
  {
   "cell_type": "code",
   "metadata": {
    "id": "1RqeH3neE5uA",
    "outputId": "b0c80566-2c97-497e-9cf5-b0dde1034a1b",
    "ExecuteTime": {
     "end_time": "2025-07-24T09:47:23.200358Z",
     "start_time": "2025-07-24T09:47:23.196134Z"
    }
   },
   "source": [
    "tf.reshape(x, shape=[-1,2])"
   ],
   "outputs": [
    {
     "data": {
      "text/plain": [
       "<tf.Tensor: shape=(5, 2), dtype=int64, numpy=\n",
       "array([[0, 1],\n",
       "       [2, 3],\n",
       "       [4, 5],\n",
       "       [6, 7],\n",
       "       [8, 9]])>"
      ]
     },
     "execution_count": 144,
     "metadata": {},
     "output_type": "execute_result"
    }
   ],
   "execution_count": 144
  },
  {
   "cell_type": "code",
   "metadata": {
    "id": "zJ6k9y4eE5uA",
    "outputId": "03519c38-b71b-4812-a750-921d0b00c044",
    "ExecuteTime": {
     "end_time": "2025-07-24T09:47:23.336639Z",
     "start_time": "2025-07-24T09:47:23.333298Z"
    }
   },
   "source": [
    "tf.reshape(x, shape=[-1,5])"
   ],
   "outputs": [
    {
     "data": {
      "text/plain": [
       "<tf.Tensor: shape=(2, 5), dtype=int64, numpy=\n",
       "array([[0, 1, 2, 3, 4],\n",
       "       [5, 6, 7, 8, 9]])>"
      ]
     },
     "execution_count": 145,
     "metadata": {},
     "output_type": "execute_result"
    }
   ],
   "execution_count": 145
  },
  {
   "cell_type": "markdown",
   "metadata": {
    "id": "yqkWMZHGE5uA"
   },
   "source": [
    "### `squeeze()`"
   ]
  },
  {
   "cell_type": "code",
   "metadata": {
    "id": "AqiX_CwmE5uA",
    "outputId": "9cb15de5-9161-4c7c-d8a7-7c24ba59d16e",
    "ExecuteTime": {
     "end_time": "2025-07-24T09:47:23.402756Z",
     "start_time": "2025-07-24T09:47:23.399229Z"
    }
   },
   "source": [
    "x = np.arange(0,10).reshape(-1,1)\n",
    "x"
   ],
   "outputs": [
    {
     "data": {
      "text/plain": [
       "array([[0],\n",
       "       [1],\n",
       "       [2],\n",
       "       [3],\n",
       "       [4],\n",
       "       [5],\n",
       "       [6],\n",
       "       [7],\n",
       "       [8],\n",
       "       [9]])"
      ]
     },
     "execution_count": 146,
     "metadata": {},
     "output_type": "execute_result"
    }
   ],
   "execution_count": 146
  },
  {
   "cell_type": "code",
   "metadata": {
    "id": "vqBhEOTvE5uA",
    "outputId": "fdaa0b81-983a-4def-a54d-e83a30c9f428",
    "ExecuteTime": {
     "end_time": "2025-07-24T09:47:23.486545Z",
     "start_time": "2025-07-24T09:47:23.484495Z"
    }
   },
   "source": [
    "x.shape"
   ],
   "outputs": [
    {
     "data": {
      "text/plain": [
       "(10, 1)"
      ]
     },
     "execution_count": 147,
     "metadata": {},
     "output_type": "execute_result"
    }
   ],
   "execution_count": 147
  },
  {
   "cell_type": "markdown",
   "metadata": {
    "id": "fDkuicH5E5uA"
   },
   "source": [
    "차원중 크기가 1인 것을 찾아 짜낸다."
   ]
  },
  {
   "cell_type": "code",
   "metadata": {
    "id": "PNUZL8r-E5uA",
    "outputId": "6beafa96-c6bb-471c-f27f-ea7db3a69d6c",
    "ExecuteTime": {
     "end_time": "2025-07-24T09:47:23.642540Z",
     "start_time": "2025-07-24T09:47:23.639178Z"
    }
   },
   "source": [
    "tf.squeeze(x)"
   ],
   "outputs": [
    {
     "data": {
      "text/plain": [
       "<tf.Tensor: shape=(10,), dtype=int64, numpy=array([0, 1, 2, 3, 4, 5, 6, 7, 8, 9])>"
      ]
     },
     "execution_count": 148,
     "metadata": {},
     "output_type": "execute_result"
    }
   ],
   "execution_count": 148
  },
  {
   "cell_type": "code",
   "metadata": {
    "id": "3t2DwHdxiMH8",
    "outputId": "73dd984e-7581-4acd-dc8f-841621ef82b6",
    "ExecuteTime": {
     "end_time": "2025-07-24T09:47:23.746200Z",
     "start_time": "2025-07-24T09:47:23.743452Z"
    }
   },
   "source": [
    "tf.squeeze(x).shape"
   ],
   "outputs": [
    {
     "data": {
      "text/plain": [
       "TensorShape([10])"
      ]
     },
     "execution_count": 149,
     "metadata": {},
     "output_type": "execute_result"
    }
   ],
   "execution_count": 149
  },
  {
   "cell_type": "markdown",
   "metadata": {
    "id": "IeAEjlJKE5uA"
   },
   "source": [
    "### `expand_dims()`\n",
    "\n",
    "axis로 지정된 차원을 추가한다."
   ]
  },
  {
   "cell_type": "code",
   "metadata": {
    "colab": {
     "base_uri": "https://localhost:8080/"
    },
    "executionInfo": {
     "elapsed": 40,
     "status": "ok",
     "timestamp": 1753151210785,
     "user": {
      "displayName": "고강태 강사",
      "userId": "11816854931407731745"
     },
     "user_tz": -540
    },
    "id": "v_C7aUP4E5uA",
    "outputId": "9b251118-007d-4df5-bb60-d5840ee76434",
    "ExecuteTime": {
     "end_time": "2025-07-24T09:47:23.809709Z",
     "start_time": "2025-07-24T09:47:23.807598Z"
    }
   },
   "source": [
    "x = np.arange(0,10).reshape(-1,)\n",
    "x"
   ],
   "outputs": [
    {
     "data": {
      "text/plain": [
       "array([0, 1, 2, 3, 4, 5, 6, 7, 8, 9])"
      ]
     },
     "execution_count": 150,
     "metadata": {},
     "output_type": "execute_result"
    }
   ],
   "execution_count": 150
  },
  {
   "cell_type": "code",
   "metadata": {
    "id": "c_bHKsloE5uA",
    "outputId": "94ff3354-69b9-4bde-8282-3c968fcdc63c",
    "ExecuteTime": {
     "end_time": "2025-07-24T09:47:23.850169Z",
     "start_time": "2025-07-24T09:47:23.848293Z"
    }
   },
   "source": [
    "x.shape"
   ],
   "outputs": [
    {
     "data": {
      "text/plain": [
       "(10,)"
      ]
     },
     "execution_count": 151,
     "metadata": {},
     "output_type": "execute_result"
    }
   ],
   "execution_count": 151
  },
  {
   "cell_type": "code",
   "metadata": {
    "colab": {
     "base_uri": "https://localhost:8080/"
    },
    "executionInfo": {
     "elapsed": 20,
     "status": "ok",
     "timestamp": 1753151218794,
     "user": {
      "displayName": "고강태 강사",
      "userId": "11816854931407731745"
     },
     "user_tz": -540
    },
    "id": "RKWrZw7EE5uB",
    "outputId": "121c18ff-d668-4c50-8be1-913d5de13746",
    "ExecuteTime": {
     "end_time": "2025-07-24T09:47:23.881669Z",
     "start_time": "2025-07-24T09:47:23.878189Z"
    }
   },
   "source": [
    "# 첫번째 차원을 추가\n",
    "y = tf.expand_dims(x, 0)\n",
    "y"
   ],
   "outputs": [
    {
     "data": {
      "text/plain": [
       "<tf.Tensor: shape=(1, 10), dtype=int64, numpy=array([[0, 1, 2, 3, 4, 5, 6, 7, 8, 9]])>"
      ]
     },
     "execution_count": 152,
     "metadata": {},
     "output_type": "execute_result"
    }
   ],
   "execution_count": 152
  },
  {
   "cell_type": "code",
   "metadata": {
    "colab": {
     "base_uri": "https://localhost:8080/"
    },
    "executionInfo": {
     "elapsed": 41,
     "status": "ok",
     "timestamp": 1753151228798,
     "user": {
      "displayName": "고강태 강사",
      "userId": "11816854931407731745"
     },
     "user_tz": -540
    },
    "id": "ZEW87y9HE5uB",
    "outputId": "65fc492a-d455-4c92-d080-47a1af7266fc",
    "ExecuteTime": {
     "end_time": "2025-07-24T09:47:23.933057Z",
     "start_time": "2025-07-24T09:47:23.929903Z"
    }
   },
   "source": [
    "# 두번째 차원을 추가\n",
    "y = tf.expand_dims(x, 1)\n",
    "y"
   ],
   "outputs": [
    {
     "data": {
      "text/plain": [
       "<tf.Tensor: shape=(10, 1), dtype=int64, numpy=\n",
       "array([[0],\n",
       "       [1],\n",
       "       [2],\n",
       "       [3],\n",
       "       [4],\n",
       "       [5],\n",
       "       [6],\n",
       "       [7],\n",
       "       [8],\n",
       "       [9]])>"
      ]
     },
     "execution_count": 153,
     "metadata": {},
     "output_type": "execute_result"
    }
   ],
   "execution_count": 153
  },
  {
   "cell_type": "code",
   "metadata": {
    "colab": {
     "base_uri": "https://localhost:8080/"
    },
    "executionInfo": {
     "elapsed": 38,
     "status": "ok",
     "timestamp": 1753151258251,
     "user": {
      "displayName": "고강태 강사",
      "userId": "11816854931407731745"
     },
     "user_tz": -540
    },
    "id": "QGq4hGtuE5uB",
    "outputId": "41959113-98dc-4d1a-8a03-afbfdec504aa",
    "ExecuteTime": {
     "end_time": "2025-07-24T09:47:24.028383Z",
     "start_time": "2025-07-24T09:47:24.026596Z"
    }
   },
   "source": [
    "x = np.arange(0,10).reshape(-1,2)\n",
    "print(x, x.shape)"
   ],
   "outputs": [
    {
     "name": "stdout",
     "output_type": "stream",
     "text": [
      "[[0 1]\n",
      " [2 3]\n",
      " [4 5]\n",
      " [6 7]\n",
      " [8 9]] (5, 2)\n"
     ]
    }
   ],
   "execution_count": 154
  },
  {
   "cell_type": "code",
   "metadata": {
    "colab": {
     "base_uri": "https://localhost:8080/"
    },
    "executionInfo": {
     "elapsed": 46,
     "status": "ok",
     "timestamp": 1753151260284,
     "user": {
      "displayName": "고강태 강사",
      "userId": "11816854931407731745"
     },
     "user_tz": -540
    },
    "id": "GobIQ2GwE5uB",
    "outputId": "7bb2364f-1fb0-498b-8c9d-c6a01f9ef37c",
    "ExecuteTime": {
     "end_time": "2025-07-24T09:47:24.288402Z",
     "start_time": "2025-07-24T09:47:24.285283Z"
    }
   },
   "source": [
    "y = tf.expand_dims(x, 0)\n",
    "y"
   ],
   "outputs": [
    {
     "data": {
      "text/plain": [
       "<tf.Tensor: shape=(1, 5, 2), dtype=int64, numpy=\n",
       "array([[[0, 1],\n",
       "        [2, 3],\n",
       "        [4, 5],\n",
       "        [6, 7],\n",
       "        [8, 9]]])>"
      ]
     },
     "execution_count": 155,
     "metadata": {},
     "output_type": "execute_result"
    }
   ],
   "execution_count": 155
  },
  {
   "cell_type": "code",
   "metadata": {
    "colab": {
     "base_uri": "https://localhost:8080/"
    },
    "executionInfo": {
     "elapsed": 49,
     "status": "ok",
     "timestamp": 1753151264825,
     "user": {
      "displayName": "고강태 강사",
      "userId": "11816854931407731745"
     },
     "user_tz": -540
    },
    "id": "Rqld3flDE5uB",
    "outputId": "d0659418-d6b8-42cf-dc60-7cd70c14fc5f",
    "ExecuteTime": {
     "end_time": "2025-07-24T09:47:24.336985Z",
     "start_time": "2025-07-24T09:47:24.332431Z"
    }
   },
   "source": [
    "y = tf.expand_dims(x, 2)\n",
    "y"
   ],
   "outputs": [
    {
     "data": {
      "text/plain": [
       "<tf.Tensor: shape=(5, 2, 1), dtype=int64, numpy=\n",
       "array([[[0],\n",
       "        [1]],\n",
       "\n",
       "       [[2],\n",
       "        [3]],\n",
       "\n",
       "       [[4],\n",
       "        [5]],\n",
       "\n",
       "       [[6],\n",
       "        [7]],\n",
       "\n",
       "       [[8],\n",
       "        [9]]])>"
      ]
     },
     "execution_count": 156,
     "metadata": {},
     "output_type": "execute_result"
    }
   ],
   "execution_count": 156
  },
  {
   "cell_type": "code",
   "metadata": {
    "colab": {
     "base_uri": "https://localhost:8080/"
    },
    "executionInfo": {
     "elapsed": 38,
     "status": "ok",
     "timestamp": 1753151268864,
     "user": {
      "displayName": "고강태 강사",
      "userId": "11816854931407731745"
     },
     "user_tz": -540
    },
    "id": "Qsf3oKMYE5uB",
    "outputId": "abf75bab-374c-4304-dbba-31946b1fe343",
    "ExecuteTime": {
     "end_time": "2025-07-24T09:47:24.385163Z",
     "start_time": "2025-07-24T09:47:24.381860Z"
    }
   },
   "source": [
    "# 마지막 차수에 차원을 추가한다.\n",
    "y = tf.expand_dims(x, -1)\n",
    "y"
   ],
   "outputs": [
    {
     "data": {
      "text/plain": [
       "<tf.Tensor: shape=(5, 2, 1), dtype=int64, numpy=\n",
       "array([[[0],\n",
       "        [1]],\n",
       "\n",
       "       [[2],\n",
       "        [3]],\n",
       "\n",
       "       [[4],\n",
       "        [5]],\n",
       "\n",
       "       [[6],\n",
       "        [7]],\n",
       "\n",
       "       [[8],\n",
       "        [9]]])>"
      ]
     },
     "execution_count": 157,
     "metadata": {},
     "output_type": "execute_result"
    }
   ],
   "execution_count": 157
  },
  {
   "cell_type": "markdown",
   "metadata": {
    "id": "SzHkFXlpE5uB"
   },
   "source": [
    "## stack()\n",
    "\n",
    "[stack()](https://www.tensorflow.org/api_docs/python/tf/stack) 함수\n",
    "\n",
    " - 여러 조각의 행렬을 합칠 때 사용하는 stack함수에 대해서 알아보자.\n"
   ]
  },
  {
   "cell_type": "code",
   "metadata": {
    "executionInfo": {
     "elapsed": 48,
     "status": "ok",
     "timestamp": 1753151292333,
     "user": {
      "displayName": "고강태 강사",
      "userId": "11816854931407731745"
     },
     "user_tz": -540
    },
    "id": "OEAqEEVjE5uB",
    "ExecuteTime": {
     "end_time": "2025-07-24T09:47:24.422425Z",
     "start_time": "2025-07-24T09:47:24.420982Z"
    }
   },
   "source": [
    "x1 = np.array([1,2])\n",
    "x2 = np.array([2,3])\n",
    "x3 = np.array([4,5])"
   ],
   "outputs": [],
   "execution_count": 158
  },
  {
   "cell_type": "code",
   "metadata": {
    "colab": {
     "base_uri": "https://localhost:8080/"
    },
    "executionInfo": {
     "elapsed": 35,
     "status": "ok",
     "timestamp": 1753151298045,
     "user": {
      "displayName": "고강태 강사",
      "userId": "11816854931407731745"
     },
     "user_tz": -540
    },
    "id": "lj9Q8jecE5uC",
    "outputId": "cdace825-c638-4672-86f8-b8d608d0800a",
    "ExecuteTime": {
     "end_time": "2025-07-24T09:47:24.478556Z",
     "start_time": "2025-07-24T09:47:24.475698Z"
    }
   },
   "source": [
    "# stack\n",
    "tf.stack([x1,x2,x3])"
   ],
   "outputs": [
    {
     "data": {
      "text/plain": [
       "<tf.Tensor: shape=(3, 2), dtype=int32, numpy=\n",
       "array([[1, 2],\n",
       "       [2, 3],\n",
       "       [4, 5]], dtype=int32)>"
      ]
     },
     "execution_count": 159,
     "metadata": {},
     "output_type": "execute_result"
    }
   ],
   "execution_count": 159
  },
  {
   "cell_type": "code",
   "metadata": {
    "colab": {
     "base_uri": "https://localhost:8080/"
    },
    "executionInfo": {
     "elapsed": 18,
     "status": "ok",
     "timestamp": 1753151311095,
     "user": {
      "displayName": "고강태 강사",
      "userId": "11816854931407731745"
     },
     "user_tz": -540
    },
    "id": "-mxUs9A5E5uC",
    "outputId": "3e2f5abd-ea86-458b-ad0a-7d3484d2fec8",
    "ExecuteTime": {
     "end_time": "2025-07-24T09:47:24.556853Z",
     "start_time": "2025-07-24T09:47:24.554559Z"
    }
   },
   "source": [
    "# stack axis=0\n",
    "tf.stack([x1,x2,x3], axis=0)"
   ],
   "outputs": [
    {
     "data": {
      "text/plain": [
       "<tf.Tensor: shape=(3, 2), dtype=int32, numpy=\n",
       "array([[1, 2],\n",
       "       [2, 3],\n",
       "       [4, 5]], dtype=int32)>"
      ]
     },
     "execution_count": 160,
     "metadata": {},
     "output_type": "execute_result"
    }
   ],
   "execution_count": 160
  },
  {
   "cell_type": "code",
   "metadata": {
    "colab": {
     "base_uri": "https://localhost:8080/"
    },
    "executionInfo": {
     "elapsed": 56,
     "status": "ok",
     "timestamp": 1753151313669,
     "user": {
      "displayName": "고강태 강사",
      "userId": "11816854931407731745"
     },
     "user_tz": -540
    },
    "id": "LhLaw1f9E5uC",
    "outputId": "07ab9b99-a4ed-4e88-ab95-32cb02de7b04",
    "ExecuteTime": {
     "end_time": "2025-07-24T09:47:24.856946Z",
     "start_time": "2025-07-24T09:47:24.850855Z"
    }
   },
   "source": [
    "# stack axis=1\n",
    "tf.stack([x1,x2,x3], axis=1)"
   ],
   "outputs": [
    {
     "data": {
      "text/plain": [
       "<tf.Tensor: shape=(2, 3), dtype=int64, numpy=\n",
       "array([[1, 2, 4],\n",
       "       [2, 3, 5]])>"
      ]
     },
     "execution_count": 161,
     "metadata": {},
     "output_type": "execute_result"
    }
   ],
   "execution_count": 161
  },
  {
   "cell_type": "markdown",
   "metadata": {
    "id": "EhJJ9gLdE5uC"
   },
   "source": [
    "## reduce_sum, reduce_mean\n",
    "\n",
    "2차원 이상의 행렬로 된 데이터를 다루다보면 전체 원수의 합계, 평균을 구하고자 할 때 사용한다.\n",
    "\n",
    "1. [reduce_sum()](https://www.tensorflow.org/api_docs/python/tf/reduce_sum) 은 특정 차원을 제거하고 합계를 구하고\n",
    "1. [reduce_mean()](https://www.tensorflow.org/api_docs/python/tf/reduce_mean)은 특정 차원을 제거하고 평균을 구한다."
   ]
  },
  {
   "cell_type": "code",
   "metadata": {
    "id": "Zk7p3VcdE5uC",
    "outputId": "cfcf6563-4954-4e76-d55a-02abbf34c84e",
    "ExecuteTime": {
     "end_time": "2025-07-24T09:47:24.966823Z",
     "start_time": "2025-07-24T09:47:24.964487Z"
    }
   },
   "source": [
    "# reduce_sum\n",
    "x = np.arange(0,16).reshape(-1,4)\n",
    "x"
   ],
   "outputs": [
    {
     "data": {
      "text/plain": [
       "array([[ 0,  1,  2,  3],\n",
       "       [ 4,  5,  6,  7],\n",
       "       [ 8,  9, 10, 11],\n",
       "       [12, 13, 14, 15]])"
      ]
     },
     "execution_count": 162,
     "metadata": {},
     "output_type": "execute_result"
    }
   ],
   "execution_count": 162
  },
  {
   "cell_type": "code",
   "metadata": {
    "id": "v2pDEjc8E5uC",
    "outputId": "1c412033-a611-4eb6-db99-43ca850a0d47",
    "ExecuteTime": {
     "end_time": "2025-07-24T09:47:25.033777Z",
     "start_time": "2025-07-24T09:47:25.031279Z"
    }
   },
   "source": [
    "tf.rank(x) # 차원수"
   ],
   "outputs": [
    {
     "data": {
      "text/plain": [
       "<tf.Tensor: shape=(), dtype=int32, numpy=2>"
      ]
     },
     "execution_count": 163,
     "metadata": {},
     "output_type": "execute_result"
    }
   ],
   "execution_count": 163
  },
  {
   "cell_type": "code",
   "metadata": {
    "id": "sOAq0cEmE5uC",
    "outputId": "e0932f45-7022-406a-8c74-fa2873edafb6",
    "ExecuteTime": {
     "end_time": "2025-07-24T09:47:25.151968Z",
     "start_time": "2025-07-24T09:47:25.143149Z"
    }
   },
   "source": [
    "tf.reduce_sum(x) # all elements"
   ],
   "outputs": [
    {
     "data": {
      "text/plain": [
       "<tf.Tensor: shape=(), dtype=int64, numpy=120>"
      ]
     },
     "execution_count": 164,
     "metadata": {},
     "output_type": "execute_result"
    }
   ],
   "execution_count": 164
  },
  {
   "cell_type": "code",
   "metadata": {
    "id": "WkGCRqXIE5uC",
    "outputId": "4929eac5-222c-4993-fb13-a0295ef55800",
    "ExecuteTime": {
     "end_time": "2025-07-24T09:47:25.320027Z",
     "start_time": "2025-07-24T09:47:25.316723Z"
    }
   },
   "source": [
    "tf.reduce_sum(x, axis=0) # row"
   ],
   "outputs": [
    {
     "data": {
      "text/plain": [
       "<tf.Tensor: shape=(4,), dtype=int64, numpy=array([24, 28, 32, 36])>"
      ]
     },
     "execution_count": 165,
     "metadata": {},
     "output_type": "execute_result"
    }
   ],
   "execution_count": 165
  },
  {
   "cell_type": "code",
   "metadata": {
    "id": "7E-Vcn30E5uC",
    "outputId": "d15d9fc8-dbc9-47b2-c045-f22b98031fda",
    "ExecuteTime": {
     "end_time": "2025-07-24T09:47:25.370074Z",
     "start_time": "2025-07-24T09:47:25.367068Z"
    }
   },
   "source": [
    "tf.reduce_sum(x, axis=1) # column"
   ],
   "outputs": [
    {
     "data": {
      "text/plain": [
       "<tf.Tensor: shape=(4,), dtype=int64, numpy=array([ 6, 22, 38, 54])>"
      ]
     },
     "execution_count": 166,
     "metadata": {},
     "output_type": "execute_result"
    }
   ],
   "execution_count": 166
  },
  {
   "cell_type": "markdown",
   "metadata": {
    "id": "Pa91wG-DE5uC"
   },
   "source": [
    "`keep_dims=True` 최초 차원수를 유지"
   ]
  },
  {
   "cell_type": "code",
   "metadata": {
    "id": "7pLEwQ7_E5uC",
    "outputId": "cfd3595e-36dc-459a-b926-80acd8d07d0a",
    "ExecuteTime": {
     "end_time": "2025-07-24T09:47:25.415380Z",
     "start_time": "2025-07-24T09:47:25.412372Z"
    }
   },
   "source": [
    "tf.reduce_sum(x, axis=1, keepdims=True) # column"
   ],
   "outputs": [
    {
     "data": {
      "text/plain": [
       "<tf.Tensor: shape=(4, 1), dtype=int64, numpy=\n",
       "array([[ 6],\n",
       "       [22],\n",
       "       [38],\n",
       "       [54]])>"
      ]
     },
     "execution_count": 167,
     "metadata": {},
     "output_type": "execute_result"
    }
   ],
   "execution_count": 167
  },
  {
   "cell_type": "code",
   "metadata": {
    "id": "llPgZRSyE5uD",
    "outputId": "0bc8e13f-0b3a-497f-ca30-d95c36537eb8",
    "ExecuteTime": {
     "end_time": "2025-07-24T09:47:25.464374Z",
     "start_time": "2025-07-24T09:47:25.462324Z"
    }
   },
   "source": [
    "x = np.array([[1,1,1],\n",
    "              [1,1,1]])\n",
    "x"
   ],
   "outputs": [
    {
     "data": {
      "text/plain": [
       "array([[1, 1, 1],\n",
       "       [1, 1, 1]])"
      ]
     },
     "execution_count": 168,
     "metadata": {},
     "output_type": "execute_result"
    }
   ],
   "execution_count": 168
  },
  {
   "cell_type": "code",
   "metadata": {
    "id": "Z47Xq7_YE5uD",
    "outputId": "f67add9f-5e11-4487-f65f-a0b6a54f9e09",
    "ExecuteTime": {
     "end_time": "2025-07-24T09:47:25.560875Z",
     "start_time": "2025-07-24T09:47:25.558842Z"
    }
   },
   "source": [
    "x.shape"
   ],
   "outputs": [
    {
     "data": {
      "text/plain": [
       "(2, 3)"
      ]
     },
     "execution_count": 169,
     "metadata": {},
     "output_type": "execute_result"
    }
   ],
   "execution_count": 169
  },
  {
   "cell_type": "code",
   "metadata": {
    "id": "JlbOOHL1E5uD",
    "outputId": "c5ca3a5d-ef92-48ca-9270-f0bb5d1c6732",
    "ExecuteTime": {
     "end_time": "2025-07-24T09:47:25.800703Z",
     "start_time": "2025-07-24T09:47:25.797839Z"
    }
   },
   "source": [
    "tf.reduce_sum(x, axis=1)"
   ],
   "outputs": [
    {
     "data": {
      "text/plain": [
       "<tf.Tensor: shape=(2,), dtype=int64, numpy=array([3, 3])>"
      ]
     },
     "execution_count": 170,
     "metadata": {},
     "output_type": "execute_result"
    }
   ],
   "execution_count": 170
  },
  {
   "cell_type": "code",
   "metadata": {
    "id": "BWGH--wtE5uD",
    "outputId": "16a41bc6-78a1-44f9-ea2d-cb6c5f5d2066",
    "ExecuteTime": {
     "end_time": "2025-07-24T09:47:25.848084Z",
     "start_time": "2025-07-24T09:47:25.845056Z"
    }
   },
   "source": [
    "tf.reduce_sum(x, axis=-1) # -1번째 차원 제거"
   ],
   "outputs": [
    {
     "data": {
      "text/plain": [
       "<tf.Tensor: shape=(2,), dtype=int64, numpy=array([3, 3])>"
      ]
     },
     "execution_count": 171,
     "metadata": {},
     "output_type": "execute_result"
    }
   ],
   "execution_count": 171
  },
  {
   "cell_type": "code",
   "metadata": {
    "id": "LaeSy70xE5uD",
    "outputId": "377c0115-e376-4030-bfd2-a3c9fb01ee95",
    "ExecuteTime": {
     "end_time": "2025-07-24T09:47:25.892795Z",
     "start_time": "2025-07-24T09:47:25.889756Z"
    }
   },
   "source": [
    "tf.reduce_sum(x, axis=-2) # -1번째 차원 제거"
   ],
   "outputs": [
    {
     "data": {
      "text/plain": [
       "<tf.Tensor: shape=(3,), dtype=int64, numpy=array([2, 2, 2])>"
      ]
     },
     "execution_count": 172,
     "metadata": {},
     "output_type": "execute_result"
    }
   ],
   "execution_count": 172
  }
 ],
 "metadata": {
  "accelerator": "GPU",
  "colab": {
   "gpuType": "T4",
   "provenance": [],
   "toc_visible": true
  },
  "kernelspec": {
   "display_name": "stenv",
   "language": "python",
   "name": "python3"
  },
  "language_info": {
   "codemirror_mode": {
    "name": "ipython",
    "version": 3
   },
   "file_extension": ".py",
   "mimetype": "text/x-python",
   "name": "python",
   "nbconvert_exporter": "python",
   "pygments_lexer": "ipython3",
   "version": "3.9.23"
  }
 },
 "nbformat": 4,
 "nbformat_minor": 0
}
