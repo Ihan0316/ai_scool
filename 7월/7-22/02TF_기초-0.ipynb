{
 "cells": [
  {
   "cell_type": "markdown",
   "metadata": {
    "id": "Y6VWY29zE5tr"
   },
   "source": [
    "# 텐서플로우 기초\n",
    "\n",
    "https://www.tensorflow.org/guide/effective_tf2?hl=ko"
   ]
  },
  {
   "cell_type": "markdown",
   "metadata": {
    "id": "P8JORQiSiMHa"
   },
   "source": [
    "#### tensorflow 설치\n",
    "\n",
    "https://www.tensorflow.org/install/pip?hl=ko"
   ]
  },
  {
   "cell_type": "markdown",
   "metadata": {
    "id": "M61NvkPViMHa"
   },
   "source": [
    "**[pip 에서 설치]**\n",
    "\n",
    "tensorflow 와 Cuda 를 설치\n",
    "\n",
    "```sh\n",
    "$ pip install --upgrade pip\n",
    "$ pip install tensorflow[and-cuda]\n",
    "$ pip install keras --upgrade\n",
    "```\n"
   ]
  },
  {
   "cell_type": "markdown",
   "metadata": {
    "id": "_0ZixCuFiMHb"
   },
   "source": [
    "**[conda 로  설치]**\n",
    "\n",
    "```sh\n",
    "conda install -c conda-forge  tensorflow[and-cuda]\n",
    "conda install -c conda-forge keras\n",
    "```\n"
   ]
  },
  {
   "cell_type": "markdown",
   "metadata": {
    "id": "ArfO8Q__iMHb"
   },
   "source": [
    "scikit-learn 도 유틸리티로 자주 사용된다.\n",
    "\n",
    "```sh\n",
    "$ pip install -U scikit-learn\n",
    "```\n"
   ]
  },
  {
   "cell_type": "markdown",
   "metadata": {
    "id": "W1RiSyZHiMHb"
   },
   "source": [
    "텐서플로우 설치 확인"
   ]
  },
  {
   "cell_type": "code",
   "execution_count": 181,
   "metadata": {
    "ExecuteTime": {
     "end_time": "2025-07-23T12:36:15.349597Z",
     "start_time": "2025-07-23T12:36:15.346662Z"
    },
    "colab": {
     "base_uri": "https://localhost:8080/"
    },
    "executionInfo": {
     "elapsed": 6733,
     "status": "ok",
     "timestamp": 1753144396922,
     "user": {
      "displayName": "고강태 강사",
      "userId": "11816854931407731745"
     },
     "user_tz": -540
    },
    "id": "7cjOebVyiMHb",
    "outputId": "2fe70982-d137-423c-95e2-1cbc7cca814c"
   },
   "outputs": [
    {
     "name": "stdout",
     "output_type": "stream",
     "text": [
      "2.16.2 1.26.4\n"
     ]
    }
   ],
   "source": [
    "import tensorflow as tf\n",
    "import numpy as np\n",
    "\n",
    "print(tf.__version__, np.__version__)"
   ]
  },
  {
   "cell_type": "markdown",
   "metadata": {
    "id": "aOcUkyI2j03H"
   },
   "source": [
    "tensorflow 역할\n",
    " - numpy 같은 수치 연산\n",
    " - 연산을 GPU 할 수 있도록\n",
    " - 빠른 성능 (graph algorithms)\n",
    " - DLL 의 layer 구성"
   ]
  },
  {
   "cell_type": "code",
   "execution_count": 182,
   "metadata": {
    "ExecuteTime": {
     "end_time": "2025-07-23T12:36:15.407767Z",
     "start_time": "2025-07-23T12:36:15.401575Z"
    },
    "colab": {
     "base_uri": "https://localhost:8080/"
    },
    "executionInfo": {
     "elapsed": 68,
     "status": "ok",
     "timestamp": 1753144636741,
     "user": {
      "displayName": "고강태 강사",
      "userId": "11816854931407731745"
     },
     "user_tz": -540
    },
    "id": "-LME_QXliMHd",
    "outputId": "5b959f7b-c0b7-4197-e9b3-069ce79508f0"
   },
   "outputs": [
    {
     "name": "stdout",
     "output_type": "stream",
     "text": [
      "tf.Tensor(-697.82214, shape=(), dtype=float32)\n"
     ]
    }
   ],
   "source": [
    "import tensorflow as tf; print(tf.reduce_sum(tf.random.normal([1000, 1000])))"
   ]
  },
  {
   "cell_type": "markdown",
   "metadata": {
    "id": "Pn34RqcliMHd"
   },
   "source": [
    "텐서플로우 기본\n",
    "\n",
    "TensorFlow의 가장 기본적인 빌딩 블록인 Tensor, Operation, 그리고 Variable에 대해 살펴보고, 이 개념들을 확실히 이해하는 것이 TensorFlow를 이용한 딥러닝 모델 구축의 시작이다.\n",
    "\n",
    "\n",
    "1. 텐서\n",
    "1. 상수\n",
    "1. Operation(연산)\n",
    "1. 변수\n",
    "1. 행렬"
   ]
  },
  {
   "cell_type": "markdown",
   "metadata": {
    "id": "U2pzS-7rE5ts"
   },
   "source": [
    "> Test\n",
    "> - tensorflow 2.19, keras 3.10\n",
    "> - tensorflow 2.9\n",
    "> - tensorflow 2.7"
   ]
  },
  {
   "cell_type": "markdown",
   "metadata": {
    "id": "vjAOXfEWl2MO"
   },
   "source": [
    "tensorflow 1.x 와 2.0 부근은 keras import가 좀 다르고, 별도의 keras 모듈을 사용하지 않았다.!!!"
   ]
  },
  {
   "cell_type": "code",
   "execution_count": 183,
   "metadata": {
    "ExecuteTime": {
     "end_time": "2025-07-23T12:36:15.495277Z",
     "start_time": "2025-07-23T12:36:15.471597Z"
    },
    "colab": {
     "base_uri": "https://localhost:8080/"
    },
    "executionInfo": {
     "elapsed": 7,
     "status": "ok",
     "timestamp": 1753145160940,
     "user": {
      "displayName": "고강태 강사",
      "userId": "11816854931407731745"
     },
     "user_tz": -540
    },
    "id": "Sr85dd2cE5ts",
    "outputId": "ad15fd85-aee0-4f29-84a4-0b1614289c0d"
   },
   "outputs": [
    {
     "data": {
      "text/plain": [
       "('2.16.2', '3.10.0')"
      ]
     },
     "execution_count": 183,
     "metadata": {},
     "output_type": "execute_result"
    }
   ],
   "source": [
    "import numpy as np\n",
    "import tensorflow as tf\n",
    "import keras\n",
    "tf.__version__, keras.__version__"
   ]
  },
  {
   "cell_type": "code",
   "execution_count": 184,
   "metadata": {
    "ExecuteTime": {
     "end_time": "2025-07-23T12:36:15.641837Z",
     "start_time": "2025-07-23T12:36:15.639462Z"
    },
    "id": "H0acjzgmloXX"
   },
   "outputs": [],
   "source": [
    "# from tensorflow import keras"
   ]
  },
  {
   "cell_type": "markdown",
   "metadata": {
    "id": "kclZxaiJE5tv"
   },
   "source": [
    "## GPU"
   ]
  },
  {
   "cell_type": "code",
   "execution_count": 185,
   "metadata": {
    "ExecuteTime": {
     "end_time": "2025-07-23T12:36:15.693903Z",
     "start_time": "2025-07-23T12:36:15.682376Z"
    },
    "colab": {
     "base_uri": "https://localhost:8080/"
    },
    "executionInfo": {
     "elapsed": 13,
     "status": "ok",
     "timestamp": 1753145229742,
     "user": {
      "displayName": "고강태 강사",
      "userId": "11816854931407731745"
     },
     "user_tz": -540
    },
    "id": "I_hh9iPBmTD_",
    "outputId": "042db12e-018e-4576-8c07-5f4a601de778"
   },
   "outputs": [
    {
     "name": "stderr",
     "output_type": "stream",
     "text": [
      "2025-07-23 21:36:15.684160: I tensorflow/core/common_runtime/pluggable_device/pluggable_device_factory.cc:305] Could not identify NUMA node of platform GPU ID 0, defaulting to 0. Your kernel may not have been built with NUMA support.\n",
      "2025-07-23 21:36:15.684175: I tensorflow/core/common_runtime/pluggable_device/pluggable_device_factory.cc:271] Created TensorFlow device (/device:GPU:0 with 0 MB memory) -> physical PluggableDevice (device: 0, name: METAL, pci bus id: <undefined>)\n"
     ]
    },
    {
     "data": {
      "text/plain": [
       "True"
      ]
     },
     "execution_count": 185,
     "metadata": {},
     "output_type": "execute_result"
    }
   ],
   "source": [
    "tf.test.is_gpu_available()"
   ]
  },
  {
   "cell_type": "code",
   "execution_count": 186,
   "metadata": {
    "ExecuteTime": {
     "end_time": "2025-07-23T12:36:15.732009Z",
     "start_time": "2025-07-23T12:36:15.730168Z"
    },
    "colab": {
     "base_uri": "https://localhost:8080/"
    },
    "executionInfo": {
     "elapsed": 49,
     "status": "ok",
     "timestamp": 1753145194250,
     "user": {
      "displayName": "고강태 강사",
      "userId": "11816854931407731745"
     },
     "user_tz": -540
    },
    "id": "oAf1JcxRE5tv",
    "outputId": "13696bd2-8460-43ed-8372-aeb956deb63a"
   },
   "outputs": [
    {
     "data": {
      "text/plain": [
       "[PhysicalDevice(name='/physical_device:GPU:0', device_type='GPU')]"
      ]
     },
     "execution_count": 186,
     "metadata": {},
     "output_type": "execute_result"
    }
   ],
   "source": [
    "# tf.test.is_gpu_available()\n",
    "tf.config.list_physical_devices('GPU')"
   ]
  },
  {
   "cell_type": "code",
   "execution_count": 187,
   "metadata": {
    "ExecuteTime": {
     "end_time": "2025-07-23T12:36:15.768240Z",
     "start_time": "2025-07-23T12:36:15.765961Z"
    },
    "colab": {
     "base_uri": "https://localhost:8080/"
    },
    "executionInfo": {
     "elapsed": 9,
     "status": "ok",
     "timestamp": 1744647406396,
     "user": {
      "displayName": "고강태",
      "userId": "11277884504998149270"
     },
     "user_tz": -540
    },
    "id": "Su_hVkkYE5tw",
    "outputId": "0c7c2e19-370f-4f8a-ef58-4a8d43081ddd"
   },
   "outputs": [
    {
     "data": {
      "text/plain": [
       "['/physical_device:CPU:0', '/physical_device:GPU:0']"
      ]
     },
     "execution_count": 187,
     "metadata": {},
     "output_type": "execute_result"
    }
   ],
   "source": [
    "[device.name for device in tf.config.experimental.list_physical_devices()]"
   ]
  },
  {
   "cell_type": "markdown",
   "metadata": {
    "id": "63j_Mx7OiMHe"
   },
   "source": [
    "## -Tensor\n",
    "\n",
    "AI 분야에서 데이터를 표현하는 기본 단위로 텐서를 사용한다. 스칼라(0차원), 벡터(1차원), 행렬(2차원)을 포함하여 그 이상 고차원의 데이터를 모두 텐서라고 부르고 AIdptj *텐서* 를 기본 데이터 구조로 사용한다.\n",
    "\n",
    "텐서(tensor)는 데이터를 위한 컨테이너, 거의 수치형 데이터를 다루므로 숫자를 위한 컨테이너이다. 텐서는 임의 차원 개수를 가진 행렬로 행렬은 아래 같은 종류가 있다.\n",
    "\n",
    " - 0차원 텐서: Scalar, 0D 텐서.\n",
    "    * 나이, 온도, 가격\n",
    " - 1차원 텐서: Vector 벡터, 1D텐서.\n",
    "    * 열을 축으로하는 1차원 배열\n",
    "    * `[1, 3, 9]`\n",
    " - 2차원 텐서: Matrix 행렬, 2D 텐서.\n",
    "    * 행과 열을 축으로하는 2차원.\n",
    "    * 8x8 크기 흑백 이미지 데이터\n",
    " - 3차원 텐서: 행렬의 배열 의미.\n",
    "    * 깊이 또는 채널이라는 3번째 방향을 갖는다.\n",
    "    * 8x8x3 크기의 컬러 이미지\n",
    " - 4차원 텐서: 3차원 텐서의 배열\n",
    "    * 동영상 데이터: 보통 (샘플수x프레임수x높이x너비x채널)로 표현\n",
    "    * 배치 데이터: 128개 이미지를 1배치로 처리시 (128, 256, 256, 3) 형태\n",
    "\n",
    "<img src='https://i.imgur.com/PRAiV7j.png' width=600>"
   ]
  },
  {
   "cell_type": "markdown",
   "metadata": {
    "id": "XC-yicMUiMHe"
   },
   "source": [
    "## -TensorFlow의 Tensor\n",
    "\n",
    "Tensorflow의 텐서는 NumPy 배열과 매우 유사하지만, GPU 가속을 지원하고 딥러닝 연산에 최적화되어 있다는 차이점이 있다.\n",
    "\n",
    "> TensorFlow 2.x에서는 텐서 연산에 **Eager Execution(즉시 실행)** 이 기본으로 설정되어 있어, 코드를 작성하는 즉시 연산이 실행되고 결과가 반환됩니다. 이는 Python의 일반적인 코딩 방식과 유사하여 디버깅 및 개발이 훨씬 용이합니다."
   ]
  },
  {
   "cell_type": "markdown",
   "metadata": {
    "id": "aUIFnHRSiMHe"
   },
   "source": [
    "## -텐서의 구성 요소:\n",
    "\n",
    "- 랭크 (Rank) 또는 차원 (Dimension)\n",
    "  - 텐서의 차원 수를 나타냅니다. 예를 들어, 스칼라는 0차원, 벡터는 1차원, 행렬은 2차원입니다.\n",
    "- 형태 (Shape)\n",
    "  -  각 차원의 크기를 나타내는 튜플입니다. 예를 들어, 2x3 행렬은 (2, 3) 형태를 가집니다.\n",
    "- 데이터 타입 (Dtype)\n",
    "  -  텐서가 저장하는 요소의 데이터 타입입니다. 정수(tf.int32, tf.int64), 부동 소수점(tf.float32, tf.float64), 불리언(tf.bool) 등 다양한 타입을 지원합니다.\n",
    "  - 연산 효율성을 위해 보통 딥러닝에서는 tf.float32를 많이 사용합니다."
   ]
  },
  {
   "cell_type": "markdown",
   "metadata": {
    "id": "7hbiRdITiMHe"
   },
   "source": [
    "## - 텐서 샘플\n",
    "\n",
    " - 0D 텐서\n",
    "    * 스칼라 값. 예) 넓이 100cm\n",
    " - 1D 텐서\n",
    "    * 벡터(배열) 데이터.\n",
    "    * 예) 학생 명단 [홍길동,남원길,서울역]\n",
    " - 2D 텐서\n",
    "    * 행렬 : --> (row, col), (높이, 폭)\n",
    "    - 예) (samples, feature)\n",
    " - 3D 텐서\n",
    "    * 행렬의 배열. 시계열,\n",
    "    * 시퀀스 데이터 (samples, timsteps, feature)\n",
    "    * 256x256 픽셀 RGB 컬러 이미지 (256, 256, 3)\n",
    " - 4D 텐서\n",
    "    * 채널 이미지 데이터\\\n",
    "     (samples, height, width, channels), \\\n",
    "     (samples, channels, height, width) \\\n",
    "     256X256 --> (256, 256, 3, 1) 알파채널\n",
    " - 동영상 데이터\n",
    "    * 4D 이상 고차원 텐서로 4D의 배열\n",
    "    * (samples, frames, height, width, channels),\\\n",
    "     (samples, frames, channels, height, width)\n",
    "    * 예: 10개의 비디오 클립, 각 클립은 30프레임, 128x128 픽셀, RGB 색상을 가진 경우:\\\n",
    "     (10, 30, 128, 128, 3)\n"
   ]
  },
  {
   "cell_type": "markdown",
   "metadata": {
    "id": "Yn-HGjZoiMHe"
   },
   "source": [
    "<img src='https://i.imgur.com/Ehn05pP.png' width=700>"
   ]
  },
  {
   "cell_type": "markdown",
   "metadata": {
    "id": "ZYUiKs8TiMHe"
   },
   "source": [
    "### 동영상 텐서의 Channel First & Last\n",
    "\n",
    "TensorFlow에서 이미지 데이터 처리 시 흔히 사용되는 channels_last 형식을 따른다\n",
    "  - 비디오 텐서 (samples, frames, height, width, channels) 형식\n",
    "  - 단일 이미지 텐서는 ( height, width, channels) 형태\n",
    "\n",
    "\n",
    "PyTorch의 경우, 이미지 데이터 처리에서 channels_first 형식을 선호하는 경향\n",
    " - 단일 이미지 텐서는 (channels, height, width) 형태\n",
    " - 비디오 텐서 (samples, channels, frames, height, width) \\\n",
    "   또는 (samples, frames, channels, height, width)가 사용.\n"
   ]
  },
  {
   "cell_type": "markdown",
   "metadata": {
    "id": "QaRMOjbBiMHf"
   },
   "source": [
    "#### 스칼라 (0D tensor)\n",
    "\n",
    "하나의 숫자 값을 담고 있는 텐서로서 0차원, 0D텐서이다. 0차원 텐서의 축의 개수는 0으로 축(ndim)을 랭크(rank)라고도 부른다."
   ]
  },
  {
   "cell_type": "code",
   "execution_count": 188,
   "metadata": {
    "ExecuteTime": {
     "end_time": "2025-07-23T12:36:15.810994Z",
     "start_time": "2025-07-23T12:36:15.806607Z"
    },
    "colab": {
     "base_uri": "https://localhost:8080/"
    },
    "executionInfo": {
     "elapsed": 51,
     "status": "ok",
     "timestamp": 1753146784540,
     "user": {
      "displayName": "고강태 강사",
      "userId": "11816854931407731745"
     },
     "user_tz": -540
    },
    "id": "20IlhgL_iMHf",
    "outputId": "5eefe755-5c2a-469a-ed70-2f63d931d884"
   },
   "outputs": [
    {
     "data": {
      "text/plain": [
       "array(1)"
      ]
     },
     "execution_count": 188,
     "metadata": {},
     "output_type": "execute_result"
    }
   ],
   "source": [
    "# 스칼라\n",
    "x = np.array(1)\n",
    "x"
   ]
  },
  {
   "cell_type": "code",
   "execution_count": 189,
   "metadata": {
    "ExecuteTime": {
     "end_time": "2025-07-23T12:36:15.846992Z",
     "start_time": "2025-07-23T12:36:15.845010Z"
    },
    "colab": {
     "base_uri": "https://localhost:8080/"
    },
    "executionInfo": {
     "elapsed": 47,
     "status": "ok",
     "timestamp": 1753146798683,
     "user": {
      "displayName": "고강태 강사",
      "userId": "11816854931407731745"
     },
     "user_tz": -540
    },
    "id": "ItQc3oSpiMHf",
    "outputId": "d7c83d1f-8a64-47c4-bde6-a71e88567086"
   },
   "outputs": [
    {
     "data": {
      "text/plain": [
       "((), 0, array(1))"
      ]
     },
     "execution_count": 189,
     "metadata": {},
     "output_type": "execute_result"
    }
   ],
   "source": [
    "x.shape, x.ndim, x"
   ]
  },
  {
   "cell_type": "markdown",
   "metadata": {
    "id": "RPy1bv1wiMHf"
   },
   "source": [
    "#### 벡터 (1D Tensor)\n",
    "\n",
    "숫자 배열을 벡터, 1D 텐서라고 부른다. 1D 텐서는 하나의 축을 가진다."
   ]
  },
  {
   "cell_type": "code",
   "execution_count": 190,
   "metadata": {
    "ExecuteTime": {
     "end_time": "2025-07-23T12:36:15.955527Z",
     "start_time": "2025-07-23T12:36:15.953372Z"
    },
    "colab": {
     "base_uri": "https://localhost:8080/"
    },
    "executionInfo": {
     "elapsed": 36,
     "status": "ok",
     "timestamp": 1753146803340,
     "user": {
      "displayName": "고강태 강사",
      "userId": "11816854931407731745"
     },
     "user_tz": -540
    },
    "id": "RlPmO3hUiMHf",
    "outputId": "0ffdeebf-89d9-4524-fbe3-5491608bdfb3"
   },
   "outputs": [
    {
     "data": {
      "text/plain": [
       "((4,), 1, array([1, 2, 3, 4]))"
      ]
     },
     "execution_count": 190,
     "metadata": {},
     "output_type": "execute_result"
    }
   ],
   "source": [
    "# 벡터\n",
    "x = np.array([1,2,3,4])\n",
    "x.shape, x.ndim, x"
   ]
  },
  {
   "cell_type": "markdown",
   "metadata": {
    "id": "el52BVcuiMHf"
   },
   "source": [
    "위 벡터는 4개의 요소를 가지고 있어서 5차원 벡터라고 부른다. ( 4D 텐서와 혼동하지 말것!)"
   ]
  },
  {
   "cell_type": "markdown",
   "metadata": {
    "id": "KUmqw4skiMHf"
   },
   "source": [
    "#### 행렬 (2D Tensor)\n",
    "\n",
    "행렬은 2차원으로 구성되어 2개의 축을 가진다.\n",
    "- (samples, feature) 형식으로 구성된다.\n",
    "  - 10만명의 나이/우편번호/소득 으로 구성된 인구 데이터: (100000, 3) 크기 텐서\n",
    "  - 텍스트에 공통단어 2만개에서 단어의 등장횟수로 표현된 경우: (500, 20000)"
   ]
  },
  {
   "cell_type": "code",
   "execution_count": 191,
   "metadata": {
    "ExecuteTime": {
     "end_time": "2025-07-23T12:36:15.982703Z",
     "start_time": "2025-07-23T12:36:15.980596Z"
    },
    "colab": {
     "base_uri": "https://localhost:8080/"
    },
    "executionInfo": {
     "elapsed": 36,
     "status": "ok",
     "timestamp": 1753146813011,
     "user": {
      "displayName": "고강태 강사",
      "userId": "11816854931407731745"
     },
     "user_tz": -540
    },
    "id": "YSclR3vuiMHf",
    "outputId": "4084d070-7a9f-48bc-9aca-a52e0729a53b"
   },
   "outputs": [
    {
     "data": {
      "text/plain": [
       "((3, 3),\n",
       " 2,\n",
       " array([[1, 2, 3],\n",
       "        [4, 5, 6],\n",
       "        [7, 8, 9]]))"
      ]
     },
     "execution_count": 191,
     "metadata": {},
     "output_type": "execute_result"
    }
   ],
   "source": [
    "# 행렬\n",
    "x = np.array([[1,2,3],[4,5,6],[7,8,9]])\n",
    "x.shape, x.ndim, x"
   ]
  },
  {
   "cell_type": "markdown",
   "metadata": {
    "id": "V-vgzG6viMHf"
   },
   "source": [
    "#### 3차원 배열 ( 3D Tensor)\n",
    "\n",
    "배열의 3차원 축을 가진 배열을 3D Tensor라고 한다."
   ]
  },
  {
   "cell_type": "markdown",
   "metadata": {
    "id": "8uIFsWhoiMHg"
   },
   "source": [
    "- 시계열/시퀀스 데이터\n",
    "  - 데이터의 시간/순서가 중요하면 시간축을 포함해 (samples, timsteps, feature) 크기 3차원 텐서로 구성된다.\n",
    "  - 주식 가격 데이터: 1분마다 주식가격, 1분마다 최고/최소 가격.\n",
    "      - 하루 거래 (390,3)크기 2D텐서\n",
    "      - 연간 250일 (250, 390, 3) 크기 3D텐서\n",
    "  - 트윗 데이터 세트: 트윗은 128개 알파벳, 280 문자로. 128개 2진벡터로 구성( 280, 128)\n",
    "      - 100만개 트쉿은 (1000000, 280, 128) 텐서로 구성"
   ]
  },
  {
   "cell_type": "code",
   "execution_count": 192,
   "metadata": {
    "ExecuteTime": {
     "end_time": "2025-07-23T12:36:16.041918Z",
     "start_time": "2025-07-23T12:36:16.039141Z"
    },
    "id": "U8eBgNRSiMHg",
    "outputId": "4425d31a-a93d-41cc-a4fb-c3cb8dc1e528"
   },
   "outputs": [
    {
     "data": {
      "text/plain": [
       "((2, 2, 5),\n",
       " 3,\n",
       " array([[[ 1,  2,  3,  4,  5],\n",
       "         [ 6,  7,  8,  9, 10]],\n",
       " \n",
       "        [[ 0, -1, -2, -3, -4],\n",
       "         [-5, -6, -7, -8, -9]]]))"
      ]
     },
     "execution_count": 192,
     "metadata": {},
     "output_type": "execute_result"
    }
   ],
   "source": [
    "# 텐서: 3d\n",
    "x = np.array([[[1,2,3,4,5],\n",
    "              [6,7,8,9,10]],\n",
    "             [[0,-1,-2,-3,-4],\n",
    "             [-5,-6,-7,-8,-9]]])\n",
    "x.shape, x.ndim, x"
   ]
  },
  {
   "cell_type": "markdown",
   "metadata": {
    "id": "52-6kGoliMHg"
   },
   "source": [
    "####  4D 텐서\n",
    "\n",
    "이미지는 높이/너비/컬러의 3차원. 흑백도 높이/너비/컬러.\n",
    "\n",
    " - 128개 256x256 크기 흑백 배치: (128, 256, 256, 1)\n",
    " - 128개 256x256 크기 컬러 배치: (128, 256, 256, 3)\n",
    " - 이미지 텐서 크지 지정은 채널 마지막(channel-last) 와 채널 우선(channel-first)\n",
    "    - Theano 는 (128, 1, 256, 256)\n",
    "    - Keras 는 모두 지원\n",
    "\n"
   ]
  },
  {
   "cell_type": "code",
   "execution_count": 193,
   "metadata": {
    "ExecuteTime": {
     "end_time": "2025-07-23T12:36:16.172480Z",
     "start_time": "2025-07-23T12:36:16.094654Z"
    },
    "executionInfo": {
     "elapsed": 591,
     "status": "ok",
     "timestamp": 1753147076892,
     "user": {
      "displayName": "고강태 강사",
      "userId": "11816854931407731745"
     },
     "user_tz": -540
    },
    "id": "lxrm520DiMHg"
   },
   "outputs": [],
   "source": [
    "img_tensor = (128, 256, 256, 4)\n",
    "img = np.random.rand(*img_tensor)"
   ]
  },
  {
   "cell_type": "code",
   "execution_count": 194,
   "metadata": {
    "ExecuteTime": {
     "end_time": "2025-07-23T12:36:16.209391Z",
     "start_time": "2025-07-23T12:36:16.204157Z"
    },
    "colab": {
     "base_uri": "https://localhost:8080/"
    },
    "executionInfo": {
     "elapsed": 16,
     "status": "ok",
     "timestamp": 1753147087435,
     "user": {
      "displayName": "고강태 강사",
      "userId": "11816854931407731745"
     },
     "user_tz": -540
    },
    "id": "rbivP4AbiMHg",
    "outputId": "c765c9fb-d695-4339-b5d8-35c75575c618"
   },
   "outputs": [
    {
     "data": {
      "text/plain": [
       "(128, 256, 256, 4)"
      ]
     },
     "execution_count": 194,
     "metadata": {},
     "output_type": "execute_result"
    }
   ],
   "source": [
    "img.shape"
   ]
  },
  {
   "cell_type": "markdown",
   "metadata": {
    "id": "8M_QSdwsiMHg"
   },
   "source": [
    "####  5D 텐서\n",
    "\n",
    "동영상 데이터 비디오는 프레임의 연속. 프레임원 컬러 이미지, 현실에서 5D 차원 가진 몇 안되는 데이터\n",
    "\n",
    "\n"
   ]
  },
  {
   "cell_type": "code",
   "execution_count": 195,
   "metadata": {
    "ExecuteTime": {
     "end_time": "2025-07-23T12:36:16.287779Z",
     "start_time": "2025-07-23T12:36:16.252374Z"
    },
    "colab": {
     "base_uri": "https://localhost:8080/"
    },
    "executionInfo": {
     "elapsed": 167,
     "status": "ok",
     "timestamp": 1753147130400,
     "user": {
      "displayName": "고강태 강사",
      "userId": "11816854931407731745"
     },
     "user_tz": -540
    },
    "id": "b0BoFbG6iMHg",
    "outputId": "0c4c161f-2851-4abe-c801-f663f4432272"
   },
   "outputs": [
    {
     "data": {
      "text/plain": [
       "(10, 30, 128, 128, 3)"
      ]
     },
     "execution_count": 195,
     "metadata": {},
     "output_type": "execute_result"
    }
   ],
   "source": [
    "tensor_shape = (10, 30, 128, 128, 3)\n",
    "mov = np.random.rand(*tensor_shape)\n",
    "mov.shape"
   ]
  },
  {
   "cell_type": "code",
   "execution_count": 196,
   "metadata": {
    "ExecuteTime": {
     "end_time": "2025-07-23T12:36:16.329446Z",
     "start_time": "2025-07-23T12:36:16.324617Z"
    },
    "colab": {
     "base_uri": "https://localhost:8080/"
    },
    "executionInfo": {
     "elapsed": 55,
     "status": "ok",
     "timestamp": 1753147134506,
     "user": {
      "displayName": "고강태 강사",
      "userId": "11816854931407731745"
     },
     "user_tz": -540
    },
    "id": "_UxjW70eiMHg",
    "outputId": "343b32e3-3d3a-4130-ef68-49a3310feb88"
   },
   "outputs": [
    {
     "data": {
      "text/plain": [
       "array([[[[0.11133329, 0.49191009, 0.80999316],\n",
       "         [0.82979043, 0.5941634 , 0.45358095],\n",
       "         [0.06867107, 0.57352918, 0.24142442],\n",
       "         ...,\n",
       "         [0.62188809, 0.57466998, 0.51264927],\n",
       "         [0.90867136, 0.44706193, 0.03711704],\n",
       "         [0.21848638, 0.01510129, 0.49088143]],\n",
       "\n",
       "        [[0.78807979, 0.62505143, 0.93010234],\n",
       "         [0.71901394, 0.80568567, 0.12369766],\n",
       "         [0.56485587, 0.84394964, 0.78914603],\n",
       "         ...,\n",
       "         [0.58573448, 0.88557299, 0.62637355],\n",
       "         [0.29684791, 0.95863042, 0.26218125],\n",
       "         [0.7051965 , 0.22460635, 0.83570594]],\n",
       "\n",
       "        [[0.64378652, 0.2475754 , 0.52241788],\n",
       "         [0.64270031, 0.35083036, 0.37975676],\n",
       "         [0.74323444, 0.29019817, 0.23879021],\n",
       "         ...,\n",
       "         [0.36344451, 0.31129801, 0.04291497],\n",
       "         [0.32861848, 0.8609396 , 0.74437559],\n",
       "         [0.70737565, 0.98836724, 0.20447831]],\n",
       "\n",
       "        ...,\n",
       "\n",
       "        [[0.49685471, 0.23841077, 0.73782735],\n",
       "         [0.8448094 , 0.86034308, 0.54882722],\n",
       "         [0.29433836, 0.18227064, 0.54655664],\n",
       "         ...,\n",
       "         [0.63502177, 0.50842605, 0.54379129],\n",
       "         [0.50476754, 0.06998831, 0.32808895],\n",
       "         [0.76116596, 0.81290096, 0.86868837]],\n",
       "\n",
       "        [[0.87345992, 0.25068793, 0.50732563],\n",
       "         [0.3563615 , 0.8233423 , 0.53924068],\n",
       "         [0.37958785, 0.99287732, 0.96028247],\n",
       "         ...,\n",
       "         [0.96025952, 0.47072082, 0.78263549],\n",
       "         [0.27245795, 0.86051319, 0.53872445],\n",
       "         [0.85923771, 0.70050868, 0.4952996 ]],\n",
       "\n",
       "        [[0.98873934, 0.2631937 , 0.25164026],\n",
       "         [0.13751816, 0.45829378, 0.47582518],\n",
       "         [0.70922872, 0.85181073, 0.19701459],\n",
       "         ...,\n",
       "         [0.75187826, 0.23752559, 0.12521747],\n",
       "         [0.77369836, 0.77489221, 0.4540847 ],\n",
       "         [0.85883763, 0.10253745, 0.8357928 ]]],\n",
       "\n",
       "\n",
       "       [[[0.46740872, 0.70528807, 0.66491435],\n",
       "         [0.55224907, 0.43448831, 0.30092072],\n",
       "         [0.31927266, 0.72276289, 0.2489634 ],\n",
       "         ...,\n",
       "         [0.2540553 , 0.89224169, 0.95915472],\n",
       "         [0.21235115, 0.4397609 , 0.95450353],\n",
       "         [0.54808962, 0.61811583, 0.76761381]],\n",
       "\n",
       "        [[0.50890241, 0.14092402, 0.51729865],\n",
       "         [0.7965594 , 0.08828284, 0.77085364],\n",
       "         [0.42546995, 0.35688094, 0.30981201],\n",
       "         ...,\n",
       "         [0.91420211, 0.401701  , 0.70220791],\n",
       "         [0.9382918 , 0.32251592, 0.58548132],\n",
       "         [0.73451339, 0.496164  , 0.55680121]],\n",
       "\n",
       "        [[0.55068533, 0.6307049 , 0.07175656],\n",
       "         [0.16158069, 0.05261477, 0.46814372],\n",
       "         [0.66624179, 0.37468936, 0.99374364],\n",
       "         ...,\n",
       "         [0.65552038, 0.40094766, 0.54654728],\n",
       "         [0.22213526, 0.8244237 , 0.7343324 ],\n",
       "         [0.94545439, 0.48329124, 0.71686157]],\n",
       "\n",
       "        ...,\n",
       "\n",
       "        [[0.03230345, 0.44493284, 0.37786521],\n",
       "         [0.44233614, 0.47453324, 0.58128897],\n",
       "         [0.07242756, 0.20982993, 0.99813191],\n",
       "         ...,\n",
       "         [0.90650012, 0.08394935, 0.54783062],\n",
       "         [0.64281122, 0.80953058, 0.01862621],\n",
       "         [0.50628839, 0.74523098, 0.82625032]],\n",
       "\n",
       "        [[0.77233763, 0.95386165, 0.50886136],\n",
       "         [0.03824594, 0.19088458, 0.77773136],\n",
       "         [0.66108431, 0.86697674, 0.50974178],\n",
       "         ...,\n",
       "         [0.61068734, 0.10350304, 0.67763419],\n",
       "         [0.14665816, 0.77419709, 0.39365976],\n",
       "         [0.36117349, 0.31654236, 0.99834204]],\n",
       "\n",
       "        [[0.13341756, 0.80177649, 0.71404135],\n",
       "         [0.95432764, 0.58522031, 0.45769897],\n",
       "         [0.49349624, 0.87171348, 0.69826818],\n",
       "         ...,\n",
       "         [0.50827015, 0.8572554 , 0.38271363],\n",
       "         [0.49883325, 0.13388589, 0.53413375],\n",
       "         [0.55864331, 0.96527168, 0.94767305]]],\n",
       "\n",
       "\n",
       "       [[[0.10529228, 0.21331278, 0.70920143],\n",
       "         [0.71238361, 0.96267073, 0.21192904],\n",
       "         [0.98485705, 0.47614485, 0.87902578],\n",
       "         ...,\n",
       "         [0.52805661, 0.37049419, 0.85652614],\n",
       "         [0.29888587, 0.07099315, 0.3051666 ],\n",
       "         [0.26763029, 0.53744736, 0.4685898 ]],\n",
       "\n",
       "        [[0.06415028, 0.00967511, 0.42359546],\n",
       "         [0.370748  , 0.64102225, 0.36047438],\n",
       "         [0.56544667, 0.1195611 , 0.63938864],\n",
       "         ...,\n",
       "         [0.72553565, 0.64662635, 0.87050865],\n",
       "         [0.74520518, 0.66244847, 0.53617209],\n",
       "         [0.25465585, 0.06626472, 0.84111713]],\n",
       "\n",
       "        [[0.67928949, 0.18381874, 0.02799211],\n",
       "         [0.22311078, 0.32734647, 0.4400166 ],\n",
       "         [0.22990019, 0.69937028, 0.61717284],\n",
       "         ...,\n",
       "         [0.34574316, 0.35928435, 0.91212488],\n",
       "         [0.19348528, 0.60030617, 0.36100607],\n",
       "         [0.93485774, 0.82814258, 0.87613825]],\n",
       "\n",
       "        ...,\n",
       "\n",
       "        [[0.47634531, 0.26789758, 0.41336034],\n",
       "         [0.29051938, 0.71107092, 0.96827523],\n",
       "         [0.82341957, 0.43323387, 0.19784124],\n",
       "         ...,\n",
       "         [0.6373051 , 0.91589662, 0.35144469],\n",
       "         [0.16229694, 0.43376231, 0.2146313 ],\n",
       "         [0.83345671, 0.41621688, 0.22260683]],\n",
       "\n",
       "        [[0.00111182, 0.0975756 , 0.53921935],\n",
       "         [0.68735183, 0.15770019, 0.31601364],\n",
       "         [0.38781981, 0.00473769, 0.08434769],\n",
       "         ...,\n",
       "         [0.21227708, 0.12446811, 0.41575164],\n",
       "         [0.90190805, 0.28730154, 0.18624224],\n",
       "         [0.84385022, 0.43426258, 0.81402353]],\n",
       "\n",
       "        [[0.43411862, 0.72261045, 0.24901328],\n",
       "         [0.85329843, 0.03928325, 0.29117698],\n",
       "         [0.2312421 , 0.96764175, 0.32856797],\n",
       "         ...,\n",
       "         [0.44255307, 0.06539777, 0.98348828],\n",
       "         [0.20468899, 0.37083375, 0.02873652],\n",
       "         [0.52592753, 0.12645569, 0.43936299]]],\n",
       "\n",
       "\n",
       "       ...,\n",
       "\n",
       "\n",
       "       [[[0.82531004, 0.48665289, 0.09788189],\n",
       "         [0.76478214, 0.43151328, 0.28426163],\n",
       "         [0.0688923 , 0.07893005, 0.64559681],\n",
       "         ...,\n",
       "         [0.7462955 , 0.13379321, 0.52849923],\n",
       "         [0.58595546, 0.89499547, 0.6053625 ],\n",
       "         [0.96694068, 0.43405235, 0.1866907 ]],\n",
       "\n",
       "        [[0.71715148, 0.35092497, 0.67071283],\n",
       "         [0.37998397, 0.94953559, 0.91554093],\n",
       "         [0.31114228, 0.19482202, 0.82366815],\n",
       "         ...,\n",
       "         [0.39732238, 0.35600181, 0.46658451],\n",
       "         [0.55551179, 0.94422179, 0.51922351],\n",
       "         [0.81761306, 0.81889628, 0.22207704]],\n",
       "\n",
       "        [[0.83510646, 0.71204308, 0.86247002],\n",
       "         [0.25538812, 0.81490974, 0.17885777],\n",
       "         [0.29962218, 0.52529909, 0.07119094],\n",
       "         ...,\n",
       "         [0.61554433, 0.18505044, 0.22149929],\n",
       "         [0.26158682, 0.83411619, 0.41169283],\n",
       "         [0.81437101, 0.24265867, 0.28648676]],\n",
       "\n",
       "        ...,\n",
       "\n",
       "        [[0.32419095, 0.53613896, 0.5185703 ],\n",
       "         [0.47844042, 0.78239849, 0.81870749],\n",
       "         [0.68302434, 0.99532632, 0.86324871],\n",
       "         ...,\n",
       "         [0.42799534, 0.2150615 , 0.27239891],\n",
       "         [0.16378633, 0.61809522, 0.52748509],\n",
       "         [0.25123828, 0.53380673, 0.81668505]],\n",
       "\n",
       "        [[0.38178638, 0.50298916, 0.12173057],\n",
       "         [0.23039528, 0.8610415 , 0.64079642],\n",
       "         [0.7716045 , 0.28729189, 0.23016408],\n",
       "         ...,\n",
       "         [0.70365007, 0.53183483, 0.18910136],\n",
       "         [0.76363203, 0.83464041, 0.14998209],\n",
       "         [0.8882562 , 0.28884938, 0.27842565]],\n",
       "\n",
       "        [[0.07036285, 0.71913569, 0.78607082],\n",
       "         [0.04474272, 0.08418415, 0.106231  ],\n",
       "         [0.4560588 , 0.60358638, 0.39891283],\n",
       "         ...,\n",
       "         [0.91289548, 0.10641107, 0.41584846],\n",
       "         [0.64363533, 0.10563395, 0.80617952],\n",
       "         [0.83600434, 0.59938203, 0.09240848]]],\n",
       "\n",
       "\n",
       "       [[[0.71560123, 0.77602395, 0.8779805 ],\n",
       "         [0.5010921 , 0.46250666, 0.15186444],\n",
       "         [0.63523184, 0.81792852, 0.66622829],\n",
       "         ...,\n",
       "         [0.06313108, 0.24469617, 0.19965551],\n",
       "         [0.32021378, 0.62007357, 0.84142625],\n",
       "         [0.60700199, 0.15806763, 0.79021369]],\n",
       "\n",
       "        [[0.85336444, 0.64768158, 0.69150483],\n",
       "         [0.72556669, 0.24341398, 0.09078501],\n",
       "         [0.43687956, 0.12835244, 0.29342798],\n",
       "         ...,\n",
       "         [0.25026333, 0.89490078, 0.03790783],\n",
       "         [0.39259565, 0.61344909, 0.47139564],\n",
       "         [0.99676317, 0.60783099, 0.16656449]],\n",
       "\n",
       "        [[0.26033728, 0.40710758, 0.90810368],\n",
       "         [0.30093105, 0.60069468, 0.94195349],\n",
       "         [0.67438361, 0.05041218, 0.3259036 ],\n",
       "         ...,\n",
       "         [0.87805338, 0.38190962, 0.91531997],\n",
       "         [0.89047631, 0.14059322, 0.48897006],\n",
       "         [0.85837156, 0.67252389, 0.6494152 ]],\n",
       "\n",
       "        ...,\n",
       "\n",
       "        [[0.94163208, 0.79765259, 0.11615429],\n",
       "         [0.11433974, 0.10561398, 0.47159056],\n",
       "         [0.58558723, 0.75901584, 0.70212066],\n",
       "         ...,\n",
       "         [0.78615674, 0.86065869, 0.97141031],\n",
       "         [0.77838689, 0.8424493 , 0.46919828],\n",
       "         [0.53257294, 0.87213539, 0.02469451]],\n",
       "\n",
       "        [[0.86439195, 0.21579383, 0.44511925],\n",
       "         [0.40550406, 0.68663183, 0.81875704],\n",
       "         [0.73376821, 0.51740853, 0.17206973],\n",
       "         ...,\n",
       "         [0.70202322, 0.34279372, 0.87169195],\n",
       "         [0.17553222, 0.77627727, 0.74594509],\n",
       "         [0.33275012, 0.15868058, 0.34640943]],\n",
       "\n",
       "        [[0.22731149, 0.83443541, 0.60473793],\n",
       "         [0.99642282, 0.39289454, 0.9633363 ],\n",
       "         [0.01152012, 0.16549515, 0.78476156],\n",
       "         ...,\n",
       "         [0.80672019, 0.40750445, 0.10716049],\n",
       "         [0.2637814 , 0.97500142, 0.3561862 ],\n",
       "         [0.74408524, 0.85583066, 0.93689613]]],\n",
       "\n",
       "\n",
       "       [[[0.40144458, 0.18482921, 0.95334627],\n",
       "         [0.73584199, 0.72065497, 0.13632611],\n",
       "         [0.48517809, 0.6632633 , 0.46463668],\n",
       "         ...,\n",
       "         [0.73460844, 0.06846438, 0.78887902],\n",
       "         [0.42534966, 0.3354345 , 0.96027015],\n",
       "         [0.34770199, 0.41122916, 0.99156218]],\n",
       "\n",
       "        [[0.32732014, 0.30255382, 0.65202362],\n",
       "         [0.35162654, 0.91040521, 0.52670108],\n",
       "         [0.11837916, 0.25433935, 0.21607281],\n",
       "         ...,\n",
       "         [0.23629121, 0.34956444, 0.79276013],\n",
       "         [0.15274477, 0.38897735, 0.35585171],\n",
       "         [0.31946535, 0.17169046, 0.42147852]],\n",
       "\n",
       "        [[0.1844612 , 0.69026734, 0.14015506],\n",
       "         [0.61817692, 0.85482746, 0.91031134],\n",
       "         [0.0442436 , 0.77756254, 0.03845717],\n",
       "         ...,\n",
       "         [0.5842244 , 0.65284797, 0.92505068],\n",
       "         [0.44317939, 0.79193929, 0.89466993],\n",
       "         [0.11958858, 0.43135902, 0.02850314]],\n",
       "\n",
       "        ...,\n",
       "\n",
       "        [[0.83915247, 0.48378844, 0.36575142],\n",
       "         [0.98056179, 0.86030903, 0.37708565],\n",
       "         [0.32709412, 0.13951265, 0.089235  ],\n",
       "         ...,\n",
       "         [0.80014464, 0.52533079, 0.51689231],\n",
       "         [0.48719698, 0.84528565, 0.60815031],\n",
       "         [0.9057699 , 0.83848785, 0.28853878]],\n",
       "\n",
       "        [[0.07787593, 0.0919083 , 0.35424318],\n",
       "         [0.66204414, 0.36147089, 0.32313901],\n",
       "         [0.51882013, 0.36622005, 0.79087982],\n",
       "         ...,\n",
       "         [0.19149148, 0.77401544, 0.0336457 ],\n",
       "         [0.48209359, 0.85934438, 0.26193246],\n",
       "         [0.85294619, 0.70405799, 0.86570749]],\n",
       "\n",
       "        [[0.80232788, 0.09489397, 0.03799698],\n",
       "         [0.85767287, 0.15364386, 0.16691458],\n",
       "         [0.81120839, 0.77932568, 0.53992032],\n",
       "         ...,\n",
       "         [0.44875455, 0.05638983, 0.98810356],\n",
       "         [0.02292462, 0.83344759, 0.72009586],\n",
       "         [0.07505153, 0.99947792, 0.39841715]]]])"
      ]
     },
     "execution_count": 196,
     "metadata": {},
     "output_type": "execute_result"
    }
   ],
   "source": [
    "mov[0]"
   ]
  },
  {
   "cell_type": "markdown",
   "metadata": {
    "id": "VJ4aAwwsiMHg"
   },
   "source": [
    "#### 텐서의 속성\n",
    "\n",
    "- 축/차원 (Rank): ndim\n",
    "- 형 Shape: shape\n",
    "- 데이터 타입: float32, uint8, float64 등\n",
    "\n",
    "크기 size"
   ]
  },
  {
   "cell_type": "code",
   "execution_count": 197,
   "metadata": {
    "ExecuteTime": {
     "end_time": "2025-07-23T12:36:16.378865Z",
     "start_time": "2025-07-23T12:36:16.376964Z"
    },
    "colab": {
     "base_uri": "https://localhost:8080/"
    },
    "executionInfo": {
     "elapsed": 39,
     "status": "ok",
     "timestamp": 1753147184391,
     "user": {
      "displayName": "고강태 강사",
      "userId": "11816854931407731745"
     },
     "user_tz": -540
    },
    "id": "so9AJdcDiMHk",
    "outputId": "095116fe-57de-41f2-b954-0061b9dddac5"
   },
   "outputs": [
    {
     "data": {
      "text/plain": [
       "5"
      ]
     },
     "execution_count": 197,
     "metadata": {},
     "output_type": "execute_result"
    }
   ],
   "source": [
    "# 축(Axis, Rank), 차원\n",
    "mov.ndim"
   ]
  },
  {
   "cell_type": "code",
   "execution_count": 198,
   "metadata": {
    "ExecuteTime": {
     "end_time": "2025-07-23T12:36:16.425355Z",
     "start_time": "2025-07-23T12:36:16.423217Z"
    },
    "colab": {
     "base_uri": "https://localhost:8080/"
    },
    "executionInfo": {
     "elapsed": 138,
     "status": "ok",
     "timestamp": 1753147194544,
     "user": {
      "displayName": "고강태 강사",
      "userId": "11816854931407731745"
     },
     "user_tz": -540
    },
    "id": "S5F84_ZPiMHk",
    "outputId": "36420574-fbf4-4dd1-8958-0ecfe0136d0d"
   },
   "outputs": [
    {
     "data": {
      "text/plain": [
       "(10, 30, 128, 128, 3)"
      ]
     },
     "execution_count": 198,
     "metadata": {},
     "output_type": "execute_result"
    }
   ],
   "source": [
    "# 행\n",
    "mov.shape"
   ]
  },
  {
   "cell_type": "code",
   "execution_count": 199,
   "metadata": {
    "ExecuteTime": {
     "end_time": "2025-07-23T12:36:16.476135Z",
     "start_time": "2025-07-23T12:36:16.474167Z"
    },
    "colab": {
     "base_uri": "https://localhost:8080/"
    },
    "executionInfo": {
     "elapsed": 22,
     "status": "ok",
     "timestamp": 1753147213156,
     "user": {
      "displayName": "고강태 강사",
      "userId": "11816854931407731745"
     },
     "user_tz": -540
    },
    "id": "PbzaVTFniMHl",
    "outputId": "c9e3c5a3-d236-480e-db9e-cf1f39bfca4e"
   },
   "outputs": [
    {
     "data": {
      "text/plain": [
       "14745600"
      ]
     },
     "execution_count": 199,
     "metadata": {},
     "output_type": "execute_result"
    }
   ],
   "source": [
    "# 크기\n",
    "mov.size"
   ]
  },
  {
   "cell_type": "code",
   "execution_count": 200,
   "metadata": {
    "ExecuteTime": {
     "end_time": "2025-07-23T12:36:16.526834Z",
     "start_time": "2025-07-23T12:36:16.524632Z"
    },
    "colab": {
     "base_uri": "https://localhost:8080/"
    },
    "executionInfo": {
     "elapsed": 49,
     "status": "ok",
     "timestamp": 1753147221608,
     "user": {
      "displayName": "고강태 강사",
      "userId": "11816854931407731745"
     },
     "user_tz": -540
    },
    "id": "cSa2YkgSiMHl",
    "outputId": "2d771230-f088-4782-9720-340bd481020b"
   },
   "outputs": [
    {
     "data": {
      "text/plain": [
       "dtype('float64')"
      ]
     },
     "execution_count": 200,
     "metadata": {},
     "output_type": "execute_result"
    }
   ],
   "source": [
    "mov.dtype"
   ]
  },
  {
   "cell_type": "markdown",
   "metadata": {
    "id": "_6_J3E1SiMHl"
   },
   "source": [
    "### 학습 데이터"
   ]
  },
  {
   "cell_type": "code",
   "execution_count": 201,
   "metadata": {
    "ExecuteTime": {
     "end_time": "2025-07-23T12:36:16.604254Z",
     "start_time": "2025-07-23T12:36:16.601882Z"
    },
    "id": "9ZU1jSoquYtW"
   },
   "outputs": [],
   "source": [
    "# X_TRAIN, X_TEST, Y_TRAIN, Y_TEST = TRAIN_TEST_SPLIT()"
   ]
  },
  {
   "cell_type": "code",
   "execution_count": 202,
   "metadata": {
    "ExecuteTime": {
     "end_time": "2025-07-23T12:36:16.737332Z",
     "start_time": "2025-07-23T12:36:16.635407Z"
    },
    "executionInfo": {
     "elapsed": 333,
     "status": "ok",
     "timestamp": 1753147402391,
     "user": {
      "displayName": "고강태 강사",
      "userId": "11816854931407731745"
     },
     "user_tz": -540
    },
    "id": "wu4haYSHiMHl"
   },
   "outputs": [],
   "source": [
    "from tensorflow.keras.datasets import mnist\n",
    "(train_images, train_labels), (test_images, test_labels) = mnist.load_data()"
   ]
  },
  {
   "cell_type": "code",
   "execution_count": 203,
   "metadata": {
    "ExecuteTime": {
     "end_time": "2025-07-23T12:36:16.759981Z",
     "start_time": "2025-07-23T12:36:16.757695Z"
    },
    "colab": {
     "base_uri": "https://localhost:8080/"
    },
    "executionInfo": {
     "elapsed": 34,
     "status": "ok",
     "timestamp": 1753147304429,
     "user": {
      "displayName": "고강태 강사",
      "userId": "11816854931407731745"
     },
     "user_tz": -540
    },
    "id": "N2-xR2DWiMHl",
    "outputId": "dfaba07a-203b-4c6d-ba2f-ab4d8dc8187f"
   },
   "outputs": [
    {
     "data": {
      "text/plain": [
       "((60000, 28, 28), (60000,), (10000, 28, 28), (10000,))"
      ]
     },
     "execution_count": 203,
     "metadata": {},
     "output_type": "execute_result"
    }
   ],
   "source": [
    "train_images.shape, train_labels.shape, test_images.shape, test_labels.shape"
   ]
  },
  {
   "cell_type": "code",
   "execution_count": 204,
   "metadata": {
    "ExecuteTime": {
     "end_time": "2025-07-23T12:36:16.790616Z",
     "start_time": "2025-07-23T12:36:16.788741Z"
    },
    "colab": {
     "base_uri": "https://localhost:8080/"
    },
    "executionInfo": {
     "elapsed": 49,
     "status": "ok",
     "timestamp": 1753147442054,
     "user": {
      "displayName": "고강태 강사",
      "userId": "11816854931407731745"
     },
     "user_tz": -540
    },
    "id": "6jEt0WL8iMHl",
    "outputId": "f88d4ce2-bb76-456c-d22b-fa17c7fea0bf"
   },
   "outputs": [
    {
     "data": {
      "text/plain": [
       "((90, 28, 28), 3)"
      ]
     },
     "execution_count": 204,
     "metadata": {},
     "output_type": "execute_result"
    }
   ],
   "source": [
    "# 10:100 사이 데이터\n",
    "slice = train_images[10:100]\n",
    "slice.shape, slice.ndim"
   ]
  },
  {
   "cell_type": "code",
   "execution_count": 205,
   "metadata": {
    "ExecuteTime": {
     "end_time": "2025-07-23T12:36:16.844634Z",
     "start_time": "2025-07-23T12:36:16.842615Z"
    },
    "id": "SwwPyOkViMHl",
    "outputId": "3ea43a56-6a11-477e-bdf8-e1ed304ad560"
   },
   "outputs": [
    {
     "data": {
      "text/plain": [
       "((90, 28, 28), 3)"
      ]
     },
     "execution_count": 205,
     "metadata": {},
     "output_type": "execute_result"
    }
   ],
   "source": [
    "# 10:100 사이의 28x28 데이터를 추출\n",
    "slice = train_images[10:100, :28, :28]\n",
    "slice.shape, slice.ndim"
   ]
  },
  {
   "cell_type": "code",
   "execution_count": 206,
   "metadata": {
    "ExecuteTime": {
     "end_time": "2025-07-23T12:36:16.894653Z",
     "start_time": "2025-07-23T12:36:16.892609Z"
    },
    "id": "V0Tkl-kliMHm",
    "outputId": "e504b4c3-4cef-490b-a251-abec6c15638a"
   },
   "outputs": [
    {
     "data": {
      "text/plain": [
       "((60000, 14, 14), 3)"
      ]
     },
     "execution_count": 206,
     "metadata": {},
     "output_type": "execute_result"
    }
   ],
   "source": [
    "# 28x28 이미에서 오른쪽 14x14 만 추출\n",
    "slice = train_images[:, 14:, 14:]\n",
    "slice.shape, slice.ndim"
   ]
  },
  {
   "cell_type": "markdown",
   "metadata": {
    "id": "Vonpz7mriMHm"
   },
   "source": [
    "### 배치 데이터\n",
    "\n",
    "딥러닝 모델은 한 번에 전체 데이터를 처리하지 않고 데이터를 작은 배치(batch) 단위로 나누어 처리한다."
   ]
  },
  {
   "cell_type": "code",
   "execution_count": 207,
   "metadata": {
    "ExecuteTime": {
     "end_time": "2025-07-23T12:36:16.950796Z",
     "start_time": "2025-07-23T12:36:16.946769Z"
    },
    "id": "JvB1bahNiMHm"
   },
   "outputs": [],
   "source": [
    "#크기 128인 배치\n",
    "batch = train_images[:128]"
   ]
  },
  {
   "cell_type": "code",
   "execution_count": 208,
   "metadata": {
    "ExecuteTime": {
     "end_time": "2025-07-23T12:36:16.975752Z",
     "start_time": "2025-07-23T12:36:16.974051Z"
    },
    "id": "9gLMgPCHiMHm"
   },
   "outputs": [],
   "source": [
    "#다음 크기 128인 배치\n",
    "batch = train_images[128:256]\n",
    "#n번째 배치\n",
    "n = 10\n",
    "batch = train_images[128 * n:128 * (n+1)]"
   ]
  },
  {
   "cell_type": "markdown",
   "metadata": {
    "id": "C_-MKJvVvOBl"
   },
   "source": [
    "EPOCH 에서 BATCH 단위를 순환하며 학습"
   ]
  },
  {
   "cell_type": "markdown",
   "metadata": {
    "id": "Q8sugcsniMHm"
   },
   "source": [
    "# 2. Constant\n",
    "\n",
    "Constant 는 변경 불가능한 텐서를 생성해서 주로 고정된 데이터나 상수를 정의할 때 사용합니다.\n",
    " - 상수는 텐서플로우의 텐서 기반으로 생성된다.\n",
    " - https://www.tensorflow.org/api_docs/python/tf/Tensor"
   ]
  },
  {
   "cell_type": "code",
   "execution_count": 209,
   "metadata": {
    "ExecuteTime": {
     "end_time": "2025-07-23T12:36:17.003094Z",
     "start_time": "2025-07-23T12:36:17.001211Z"
    },
    "colab": {
     "base_uri": "https://localhost:8080/",
     "height": 187
    },
    "executionInfo": {
     "elapsed": 42,
     "status": "ok",
     "timestamp": 1753147657032,
     "user": {
      "displayName": "고강태 강사",
      "userId": "11816854931407731745"
     },
     "user_tz": -540
    },
    "id": "ojUQtBC1E5tw",
    "outputId": "6c5f8e19-d450-454e-d698-9b49cecb3bdc"
   },
   "outputs": [
    {
     "data": {
      "text/plain": [
       "<function tensorflow.python.framework.constant_op.constant(value, dtype=None, shape=None, name='Const') -> Union[tensorflow.python.framework.ops.Operation, tensorflow.python.framework.ops._EagerTensorBase]>"
      ]
     },
     "execution_count": 209,
     "metadata": {},
     "output_type": "execute_result"
    }
   ],
   "source": [
    "tf.constant"
   ]
  },
  {
   "cell_type": "markdown",
   "metadata": {
    "id": "eOjcKPNRiMHn"
   },
   "source": [
    "- 상수를 정의한다."
   ]
  },
  {
   "cell_type": "code",
   "execution_count": 210,
   "metadata": {
    "ExecuteTime": {
     "end_time": "2025-07-23T12:36:17.036266Z",
     "start_time": "2025-07-23T12:36:17.034758Z"
    },
    "executionInfo": {
     "elapsed": 7,
     "status": "ok",
     "timestamp": 1753147667443,
     "user": {
      "displayName": "고강태 강사",
      "userId": "11816854931407731745"
     },
     "user_tz": -540
    },
    "id": "O7DkxxG7E5tw"
   },
   "outputs": [],
   "source": [
    "# 상수 10, 20 를 정의한다.\n",
    "a = tf.constant(10)\n",
    "b = tf.constant(20, name=\"cons_a\")"
   ]
  },
  {
   "cell_type": "markdown",
   "metadata": {
    "id": "1NCeIb9WiMHn"
   },
   "source": [
    "텐서 기반으로 랭크(차원), 형태, 데이터형식으로 구현되어 있다."
   ]
  },
  {
   "cell_type": "code",
   "execution_count": 211,
   "metadata": {
    "ExecuteTime": {
     "end_time": "2025-07-23T12:36:17.065855Z",
     "start_time": "2025-07-23T12:36:17.063649Z"
    },
    "colab": {
     "base_uri": "https://localhost:8080/"
    },
    "executionInfo": {
     "elapsed": 49,
     "status": "ok",
     "timestamp": 1753147681590,
     "user": {
      "displayName": "고강태 강사",
      "userId": "11816854931407731745"
     },
     "user_tz": -540
    },
    "id": "DcqtcNaiE5tw",
    "outputId": "9fc00bff-fd40-4bcb-ce6d-3dfd8388f002"
   },
   "outputs": [
    {
     "data": {
      "text/plain": [
       "<tf.Tensor: shape=(), dtype=int32, numpy=10>"
      ]
     },
     "execution_count": 211,
     "metadata": {},
     "output_type": "execute_result"
    }
   ],
   "source": [
    "a"
   ]
  },
  {
   "cell_type": "code",
   "execution_count": 212,
   "metadata": {
    "ExecuteTime": {
     "end_time": "2025-07-23T12:36:17.179924Z",
     "start_time": "2025-07-23T12:36:17.177706Z"
    },
    "colab": {
     "base_uri": "https://localhost:8080/"
    },
    "executionInfo": {
     "elapsed": 63,
     "status": "ok",
     "timestamp": 1753147684003,
     "user": {
      "displayName": "고강태 강사",
      "userId": "11816854931407731745"
     },
     "user_tz": -540
    },
    "id": "otSiLILOE5tw",
    "outputId": "d9d72753-f48b-4b7a-9b83-133d70faab86"
   },
   "outputs": [
    {
     "data": {
      "text/plain": [
       "<tf.Tensor: shape=(), dtype=int32, numpy=20>"
      ]
     },
     "execution_count": 212,
     "metadata": {},
     "output_type": "execute_result"
    }
   ],
   "source": [
    "b"
   ]
  },
  {
   "cell_type": "code",
   "execution_count": 213,
   "metadata": {
    "ExecuteTime": {
     "end_time": "2025-07-23T12:36:17.206121Z",
     "start_time": "2025-07-23T12:36:17.204214Z"
    },
    "colab": {
     "base_uri": "https://localhost:8080/"
    },
    "executionInfo": {
     "elapsed": 47,
     "status": "ok",
     "timestamp": 1753147721195,
     "user": {
      "displayName": "고강태 강사",
      "userId": "11816854931407731745"
     },
     "user_tz": -540
    },
    "id": "2v8bcgT8iMHn",
    "outputId": "d3ab0100-bb0d-4c08-9417-3d00ddd3e691"
   },
   "outputs": [
    {
     "data": {
      "text/plain": [
       "tf.int32"
      ]
     },
     "execution_count": 213,
     "metadata": {},
     "output_type": "execute_result"
    }
   ],
   "source": [
    "# 정수형 텐서 상수를 하나 선언하자.\n",
    "a = tf.constant(10)\n",
    "a.dtype"
   ]
  },
  {
   "cell_type": "markdown",
   "metadata": {
    "id": "LMnexLC2iMHn"
   },
   "source": [
    "- 상수 텐서의 dtype은 변경이 불가"
   ]
  },
  {
   "cell_type": "code",
   "execution_count": 214,
   "metadata": {
    "ExecuteTime": {
     "end_time": "2025-07-23T12:36:17.244539Z",
     "start_time": "2025-07-23T12:36:17.236569Z"
    },
    "colab": {
     "base_uri": "https://localhost:8080/",
     "height": 166
    },
    "executionInfo": {
     "elapsed": 206,
     "status": "error",
     "timestamp": 1753147732707,
     "user": {
      "displayName": "고강태 강사",
      "userId": "11816854931407731745"
     },
     "user_tz": -540
    },
    "id": "9Hsy7BwoiMHn",
    "outputId": "7822f5fa-ec9e-428e-e075-580193ca8dfc"
   },
   "outputs": [
    {
     "ename": "AttributeError",
     "evalue": "can't set attribute",
     "output_type": "error",
     "traceback": [
      "\u001b[0;31m---------------------------------------------------------------------------\u001b[0m",
      "\u001b[0;31mAttributeError\u001b[0m                            Traceback (most recent call last)",
      "Cell \u001b[0;32mIn[214], line 2\u001b[0m\n\u001b[1;32m      1\u001b[0m \u001b[38;5;66;03m# 정수형을 tf.float32 로 변경해 보자\u001b[39;00m\n\u001b[0;32m----> 2\u001b[0m \u001b[43ma\u001b[49m\u001b[38;5;241;43m.\u001b[39;49m\u001b[43mdtype\u001b[49m \u001b[38;5;241m=\u001b[39m tf\u001b[38;5;241m.\u001b[39mfloat32\n",
      "\u001b[0;31mAttributeError\u001b[0m: can't set attribute"
     ]
    }
   ],
   "source": [
    "# 정수형을 tf.float32 로 변경해 보자\n",
    "a.dtype = tf.float32"
   ]
  },
  {
   "cell_type": "markdown",
   "metadata": {
    "id": "2xEb33GniMHo"
   },
   "source": [
    "### 텐서의 기본 속성\n",
    "\n",
    "\n",
    "텐서 속성과 메소드를 확인해 보자"
   ]
  },
  {
   "cell_type": "code",
   "execution_count": 215,
   "metadata": {
    "ExecuteTime": {
     "end_time": "2025-07-23T12:36:27.435673Z",
     "start_time": "2025-07-23T12:36:27.431084Z"
    },
    "colab": {
     "base_uri": "https://localhost:8080/"
    },
    "executionInfo": {
     "elapsed": 18,
     "status": "ok",
     "timestamp": 1753147763503,
     "user": {
      "displayName": "고강태 강사",
      "userId": "11816854931407731745"
     },
     "user_tz": -540
    },
    "id": "t4_EjnluiMHo",
    "outputId": "7eac4950-96c2-4b37-c1d8-1adeb455e958"
   },
   "outputs": [
    {
     "name": "stdout",
     "output_type": "stream",
     "text": [
      "OVERLOADABLE_OPERATORS\n",
      "backing_device\n",
      "consumers\n",
      "cpu\n",
      "device\n",
      "dtype\n",
      "eval\n",
      "experimental_ref\n",
      "get_shape\n",
      "gpu\n",
      "graph\n",
      "is_packed\n",
      "name\n",
      "ndim\n",
      "numpy\n",
      "op\n",
      "ref\n",
      "set_shape\n",
      "shape\n",
      "value_index\n"
     ]
    }
   ],
   "source": [
    "for i in dir(a) :\n",
    "    if not i.startswith(\"_\") :\n",
    "        print(i)"
   ]
  },
  {
   "cell_type": "code",
   "execution_count": 216,
   "metadata": {
    "ExecuteTime": {
     "end_time": "2025-07-23T12:36:27.496867Z",
     "start_time": "2025-07-23T12:36:27.491400Z"
    },
    "colab": {
     "base_uri": "https://localhost:8080/"
    },
    "executionInfo": {
     "elapsed": 115,
     "status": "ok",
     "timestamp": 1753147785011,
     "user": {
      "displayName": "고강태 강사",
      "userId": "11816854931407731745"
     },
     "user_tz": -540
    },
    "id": "s10iYJefwDWp",
    "outputId": "06fb788b-ae20-4fec-cb8c-a84dacd0d339"
   },
   "outputs": [
    {
     "data": {
      "text/plain": [
       "tf.int32"
      ]
     },
     "execution_count": 216,
     "metadata": {},
     "output_type": "execute_result"
    }
   ],
   "source": [
    "a.dtype\n"
   ]
  },
  {
   "cell_type": "code",
   "execution_count": 217,
   "metadata": {
    "ExecuteTime": {
     "end_time": "2025-07-23T12:36:27.576705Z",
     "start_time": "2025-07-23T12:36:27.561164Z"
    },
    "colab": {
     "base_uri": "https://localhost:8080/",
     "height": 35
    },
    "executionInfo": {
     "elapsed": 64,
     "status": "ok",
     "timestamp": 1753147798433,
     "user": {
      "displayName": "고강태 강사",
      "userId": "11816854931407731745"
     },
     "user_tz": -540
    },
    "id": "9HpyLv8owGqJ",
    "outputId": "6333055b-a8ea-4060-8969-6022831701b9"
   },
   "outputs": [
    {
     "data": {
      "text/plain": [
       "'/job:localhost/replica:0/task:0/device:GPU:0'"
      ]
     },
     "execution_count": 217,
     "metadata": {},
     "output_type": "execute_result"
    }
   ],
   "source": [
    "a.device\n"
   ]
  },
  {
   "cell_type": "code",
   "execution_count": 218,
   "metadata": {
    "ExecuteTime": {
     "end_time": "2025-07-23T12:36:27.658101Z",
     "start_time": "2025-07-23T12:36:27.656234Z"
    },
    "colab": {
     "base_uri": "https://localhost:8080/",
     "height": 35
    },
    "executionInfo": {
     "elapsed": 89,
     "status": "ok",
     "timestamp": 1753147809682,
     "user": {
      "displayName": "고강태 강사",
      "userId": "11816854931407731745"
     },
     "user_tz": -540
    },
    "id": "TGs9W7_mwJal",
    "outputId": "4f9762e9-1731-4f91-88b6-ddd3dda0d3b2"
   },
   "outputs": [
    {
     "data": {
      "text/plain": [
       "'/job:localhost/replica:0/task:0/device:CPU:0'"
      ]
     },
     "execution_count": 218,
     "metadata": {},
     "output_type": "execute_result"
    }
   ],
   "source": [
    "a.backing_device\n"
   ]
  },
  {
   "cell_type": "code",
   "execution_count": 219,
   "metadata": {
    "ExecuteTime": {
     "end_time": "2025-07-23T12:36:27.692210Z",
     "start_time": "2025-07-23T12:36:27.689657Z"
    },
    "colab": {
     "base_uri": "https://localhost:8080/"
    },
    "executionInfo": {
     "elapsed": 8,
     "status": "ok",
     "timestamp": 1753147820244,
     "user": {
      "displayName": "고강태 강사",
      "userId": "11816854931407731745"
     },
     "user_tz": -540
    },
    "id": "ERtIvb10wMEW",
    "outputId": "c40059f4-7ad8-4359-c8a0-9c1d68c46baa"
   },
   "outputs": [
    {
     "data": {
      "text/plain": [
       "TensorShape([])"
      ]
     },
     "execution_count": 219,
     "metadata": {},
     "output_type": "execute_result"
    }
   ],
   "source": [
    "a.shape\n"
   ]
  },
  {
   "cell_type": "code",
   "execution_count": 220,
   "metadata": {
    "ExecuteTime": {
     "end_time": "2025-07-23T12:36:27.716588Z",
     "start_time": "2025-07-23T12:36:27.714658Z"
    },
    "colab": {
     "base_uri": "https://localhost:8080/"
    },
    "executionInfo": {
     "elapsed": 66,
     "status": "ok",
     "timestamp": 1753147822608,
     "user": {
      "displayName": "고강태 강사",
      "userId": "11816854931407731745"
     },
     "user_tz": -540
    },
    "id": "Z3o8rgHxiMHo",
    "outputId": "a270025d-3429-4d4d-ef74-d4967e90a35b"
   },
   "outputs": [
    {
     "data": {
      "text/plain": [
       "0"
      ]
     },
     "execution_count": 220,
     "metadata": {},
     "output_type": "execute_result"
    }
   ],
   "source": [
    "a.ndim"
   ]
  },
  {
   "cell_type": "code",
   "execution_count": 221,
   "metadata": {
    "ExecuteTime": {
     "end_time": "2025-07-23T12:36:27.765224Z",
     "start_time": "2025-07-23T12:36:27.762927Z"
    },
    "colab": {
     "base_uri": "https://localhost:8080/"
    },
    "executionInfo": {
     "elapsed": 18,
     "status": "ok",
     "timestamp": 1744647451164,
     "user": {
      "displayName": "고강태",
      "userId": "11277884504998149270"
     },
     "user_tz": -540
    },
    "id": "Ginm2qhUE5tw",
    "outputId": "f74f9c8d-4c7b-4851-ae43-9bb8346830f5"
   },
   "outputs": [
    {
     "data": {
      "text/plain": [
       "10"
      ]
     },
     "execution_count": 221,
     "metadata": {},
     "output_type": "execute_result"
    }
   ],
   "source": [
    "a.numpy()"
   ]
  },
  {
   "cell_type": "code",
   "execution_count": 222,
   "metadata": {
    "ExecuteTime": {
     "end_time": "2025-07-23T12:36:27.792209Z",
     "start_time": "2025-07-23T12:36:27.790045Z"
    },
    "colab": {
     "base_uri": "https://localhost:8080/"
    },
    "executionInfo": {
     "elapsed": 4,
     "status": "ok",
     "timestamp": 1744647453127,
     "user": {
      "displayName": "고강태",
      "userId": "11277884504998149270"
     },
     "user_tz": -540
    },
    "id": "SNP-_0DBE5tx",
    "outputId": "bbd37c01-9eb2-4f09-c72e-987e59b3745e"
   },
   "outputs": [
    {
     "data": {
      "text/plain": [
       "20"
      ]
     },
     "execution_count": 222,
     "metadata": {},
     "output_type": "execute_result"
    }
   ],
   "source": [
    "b.numpy()"
   ]
  },
  {
   "cell_type": "markdown",
   "metadata": {
    "id": "g0fEp0LKE5tx"
   },
   "source": [
    "### 문자열 상수\n",
    "\n",
    "hello world 출력"
   ]
  },
  {
   "cell_type": "code",
   "execution_count": 223,
   "metadata": {
    "ExecuteTime": {
     "end_time": "2025-07-23T12:36:27.822280Z",
     "start_time": "2025-07-23T12:36:27.820484Z"
    },
    "colab": {
     "base_uri": "https://localhost:8080/"
    },
    "executionInfo": {
     "elapsed": 49,
     "status": "ok",
     "timestamp": 1753147930137,
     "user": {
      "displayName": "고강태 강사",
      "userId": "11816854931407731745"
     },
     "user_tz": -540
    },
    "id": "xy0sl35NE5tx",
    "outputId": "29bdce50-ec0a-4aae-c9b0-d196ee81006f"
   },
   "outputs": [
    {
     "name": "stdout",
     "output_type": "stream",
     "text": [
      "tf.Tensor(b'Hello, tensorflow !!', shape=(), dtype=string)\n"
     ]
    }
   ],
   "source": [
    "# 상수: Hello World 값\n",
    "hello = tf.constant('Hello, tensorflow !!')\n",
    "print(hello)"
   ]
  },
  {
   "cell_type": "markdown",
   "metadata": {
    "id": "I7uB0QfeiMHp"
   },
   "source": [
    "### 타입 지정\n",
    "\n",
    "타입 지정 할 경우는 실제 텐서 생성할 때 타입을 dtype에 정의해야 한다"
   ]
  },
  {
   "cell_type": "code",
   "execution_count": 224,
   "metadata": {
    "ExecuteTime": {
     "end_time": "2025-07-23T12:36:27.874370Z",
     "start_time": "2025-07-23T12:36:27.871766Z"
    },
    "colab": {
     "base_uri": "https://localhost:8080/"
    },
    "executionInfo": {
     "elapsed": 18,
     "status": "ok",
     "timestamp": 1753147940519,
     "user": {
      "displayName": "고강태 강사",
      "userId": "11816854931407731745"
     },
     "user_tz": -540
    },
    "id": "IfGq9xnBiMHp",
    "outputId": "f46bf6c9-502f-4180-9da5-cda9e0b55bc0"
   },
   "outputs": [
    {
     "data": {
      "text/plain": [
       "<tf.Tensor: shape=(), dtype=float32, numpy=10.0>"
      ]
     },
     "execution_count": 224,
     "metadata": {},
     "output_type": "execute_result"
    }
   ],
   "source": [
    "# 10 을 float32 형식으로 선언\n",
    "f = tf.constant(10, dtype=tf.float32)\n",
    "f"
   ]
  },
  {
   "cell_type": "code",
   "execution_count": 225,
   "metadata": {
    "ExecuteTime": {
     "end_time": "2025-07-23T12:36:27.942752Z",
     "start_time": "2025-07-23T12:36:27.940672Z"
    },
    "colab": {
     "base_uri": "https://localhost:8080/"
    },
    "executionInfo": {
     "elapsed": 46,
     "status": "ok",
     "timestamp": 1753147950074,
     "user": {
      "displayName": "고강태 강사",
      "userId": "11816854931407731745"
     },
     "user_tz": -540
    },
    "id": "8MIi3WDtiMHp",
    "outputId": "92c0b3de-0946-4ece-a6c3-8f4d8d50bb62"
   },
   "outputs": [
    {
     "data": {
      "text/plain": [
       "tf.float32"
      ]
     },
     "execution_count": 225,
     "metadata": {},
     "output_type": "execute_result"
    }
   ],
   "source": [
    "f.dtype"
   ]
  },
  {
   "cell_type": "code",
   "execution_count": 226,
   "metadata": {
    "ExecuteTime": {
     "end_time": "2025-07-23T12:36:27.991522Z",
     "start_time": "2025-07-23T12:36:27.989419Z"
    },
    "id": "_XGzSbaliMHp",
    "outputId": "429a0910-2159-4a43-b9e3-62d4f86e972e"
   },
   "outputs": [
    {
     "data": {
      "text/plain": [
       "'/job:localhost/replica:0/task:0/device:GPU:0'"
      ]
     },
     "execution_count": 226,
     "metadata": {},
     "output_type": "execute_result"
    }
   ],
   "source": [
    "f.device"
   ]
  },
  {
   "cell_type": "markdown",
   "metadata": {
    "id": "pTcXTLreiMHp"
   },
   "source": [
    "### 다차원 텐서"
   ]
  },
  {
   "cell_type": "code",
   "execution_count": 227,
   "metadata": {
    "ExecuteTime": {
     "end_time": "2025-07-23T12:36:28.022399Z",
     "start_time": "2025-07-23T12:36:28.020184Z"
    },
    "colab": {
     "base_uri": "https://localhost:8080/"
    },
    "executionInfo": {
     "elapsed": 73,
     "status": "ok",
     "timestamp": 1753147960579,
     "user": {
      "displayName": "고강태 강사",
      "userId": "11816854931407731745"
     },
     "user_tz": -540
    },
    "id": "h5rn1sd5iMHp",
    "outputId": "93f06b33-1c02-4822-e009-bdaa6807e5bd"
   },
   "outputs": [
    {
     "name": "stdout",
     "output_type": "stream",
     "text": [
      "Matrix: [[10 20]\n",
      " [30 40]], Shape: (2, 2), Dtype: <dtype: 'int32'>\n"
     ]
    }
   ],
   "source": [
    "# 행렬 (2차원 텐서)\n",
    "matrix = tf.constant([[10, 20], [30, 40]])\n",
    "print(f\"Matrix: {matrix}, Shape: {matrix.shape}, Dtype: {matrix.dtype}\")"
   ]
  },
  {
   "cell_type": "code",
   "execution_count": 228,
   "metadata": {
    "ExecuteTime": {
     "end_time": "2025-07-23T12:36:28.051704Z",
     "start_time": "2025-07-23T12:36:28.049449Z"
    },
    "id": "NzbbLvcyiMHp",
    "outputId": "abb2b28c-213c-4de9-e732-a23b8148bd2f"
   },
   "outputs": [
    {
     "data": {
      "text/plain": [
       "tf.int32"
      ]
     },
     "execution_count": 228,
     "metadata": {},
     "output_type": "execute_result"
    }
   ],
   "source": [
    "matrix.dtype"
   ]
  },
  {
   "cell_type": "code",
   "execution_count": 229,
   "metadata": {
    "ExecuteTime": {
     "end_time": "2025-07-23T12:36:28.081927Z",
     "start_time": "2025-07-23T12:36:28.079456Z"
    },
    "colab": {
     "base_uri": "https://localhost:8080/"
    },
    "executionInfo": {
     "elapsed": 54,
     "status": "ok",
     "timestamp": 1753147982763,
     "user": {
      "displayName": "고강태 강사",
      "userId": "11816854931407731745"
     },
     "user_tz": -540
    },
    "id": "PRH9MJ0AiMHq",
    "outputId": "d1075500-e913-4833-a2ef-0284fcb3ca09"
   },
   "outputs": [
    {
     "data": {
      "text/plain": [
       "<tf.Tensor: shape=(10, 10), dtype=int32, numpy=\n",
       "array([[1, 1, 1, 1, 1, 1, 1, 1, 1, 1],\n",
       "       [1, 1, 1, 1, 1, 1, 1, 1, 1, 1],\n",
       "       [1, 1, 1, 1, 1, 1, 1, 1, 1, 1],\n",
       "       [1, 1, 1, 1, 1, 1, 1, 1, 1, 1],\n",
       "       [1, 1, 1, 1, 1, 1, 1, 1, 1, 1],\n",
       "       [1, 1, 1, 1, 1, 1, 1, 1, 1, 1],\n",
       "       [1, 1, 1, 1, 1, 1, 1, 1, 1, 1],\n",
       "       [1, 1, 1, 1, 1, 1, 1, 1, 1, 1],\n",
       "       [1, 1, 1, 1, 1, 1, 1, 1, 1, 1],\n",
       "       [1, 1, 1, 1, 1, 1, 1, 1, 1, 1]], dtype=int32)>"
      ]
     },
     "execution_count": 229,
     "metadata": {},
     "output_type": "execute_result"
    }
   ],
   "source": [
    "matrix = tf.ones([10,10], dtype=tf.int32)\n",
    "matrix"
   ]
  },
  {
   "cell_type": "code",
   "execution_count": 230,
   "metadata": {
    "ExecuteTime": {
     "end_time": "2025-07-23T12:36:28.139511Z",
     "start_time": "2025-07-23T12:36:28.137702Z"
    },
    "id": "j0sGSyAqiMHq",
    "outputId": "4e021ca4-ccb0-4388-d703-24a2d0b4fe62"
   },
   "outputs": [
    {
     "data": {
      "text/plain": [
       "tf.int32"
      ]
     },
     "execution_count": 230,
     "metadata": {},
     "output_type": "execute_result"
    }
   ],
   "source": [
    "matrix.dtype"
   ]
  },
  {
   "cell_type": "markdown",
   "metadata": {
    "id": "SqudPRegE5t1"
   },
   "source": [
    "# 3. Operation (연산)\n",
    "\n",
    "텐서 사이의 사칙연산, 브로드캐스팅 등의 다양한 수치 연산을 수행한다\n",
    "- TensorFlow는 다양한 수학 연산, 행렬 연산, 비교 연산 등을 제공하여 복잡한 계산 그래프를 구축할 수 있도록 합니다.\n",
    "\n"
   ]
  },
  {
   "cell_type": "markdown",
   "metadata": {
    "id": "iQ6ZOgQCiMHq"
   },
   "source": [
    "### 기본 수학 연산\n",
    "\n",
    " - 덧셈: tf.add(a, b) 또는 a + b\n",
    " - 뺄셈: tf.subtract(a, b) 또는 a - b\n",
    " - 곱셈: tf.multiply(a, b) 또는 a * b (요소별 곱셈)\n",
    " - 나눗셈: tf.divide(a, b) 또는 a / b\n"
   ]
  },
  {
   "cell_type": "code",
   "execution_count": 231,
   "metadata": {
    "ExecuteTime": {
     "end_time": "2025-07-23T12:36:28.291615Z",
     "start_time": "2025-07-23T12:36:28.285453Z"
    },
    "executionInfo": {
     "elapsed": 6,
     "status": "ok",
     "timestamp": 1744647497698,
     "user": {
      "displayName": "고강태",
      "userId": "11277884504998149270"
     },
     "user_tz": -540
    },
    "id": "NKjRVR5AE5t1",
    "outputId": "b30b0b9d-853e-4d03-f6d6-e6fdb7834ec2"
   },
   "outputs": [
    {
     "data": {
      "text/plain": [
       "<tf.Tensor: shape=(), dtype=int32, numpy=-10>"
      ]
     },
     "execution_count": 231,
     "metadata": {},
     "output_type": "execute_result"
    }
   ],
   "source": [
    "# substract()\n",
    "tf.subtract(a, b)"
   ]
  },
  {
   "cell_type": "code",
   "execution_count": 232,
   "metadata": {
    "ExecuteTime": {
     "end_time": "2025-07-23T12:36:28.383633Z",
     "start_time": "2025-07-23T12:36:28.381824Z"
    },
    "executionInfo": {
     "elapsed": 34,
     "status": "ok",
     "timestamp": 1753148012011,
     "user": {
      "displayName": "고강태 강사",
      "userId": "11816854931407731745"
     },
     "user_tz": -540
    },
    "id": "eo1U2hg5E5t1"
   },
   "outputs": [],
   "source": [
    "a = tf.constant(10)\n",
    "b = tf.constant(32)"
   ]
  },
  {
   "cell_type": "code",
   "execution_count": 233,
   "metadata": {
    "ExecuteTime": {
     "end_time": "2025-07-23T12:36:28.466800Z",
     "start_time": "2025-07-23T12:36:28.464290Z"
    },
    "colab": {
     "base_uri": "https://localhost:8080/"
    },
    "executionInfo": {
     "elapsed": 71,
     "status": "ok",
     "timestamp": 1753148031561,
     "user": {
      "displayName": "고강태 강사",
      "userId": "11816854931407731745"
     },
     "user_tz": -540
    },
    "id": "_DUnmT__w_q-",
    "outputId": "22962cac-3a6f-4bca-cb90-645e3052d363"
   },
   "outputs": [
    {
     "data": {
      "text/plain": [
       "<tf.Tensor: shape=(), dtype=int32, numpy=320>"
      ]
     },
     "execution_count": 233,
     "metadata": {},
     "output_type": "execute_result"
    }
   ],
   "source": [
    "# multiply\n",
    "tf.multiply(a, b)"
   ]
  },
  {
   "cell_type": "code",
   "execution_count": 234,
   "metadata": {
    "ExecuteTime": {
     "end_time": "2025-07-23T12:36:28.572599Z",
     "start_time": "2025-07-23T12:36:28.570132Z"
    },
    "colab": {
     "base_uri": "https://localhost:8080/"
    },
    "executionInfo": {
     "elapsed": 73,
     "status": "ok",
     "timestamp": 1753148036879,
     "user": {
      "displayName": "고강태 강사",
      "userId": "11816854931407731745"
     },
     "user_tz": -540
    },
    "id": "Erg_3DAeiMHq",
    "outputId": "60de3ac8-197d-4b94-a97e-509a099c9384"
   },
   "outputs": [
    {
     "data": {
      "text/plain": [
       "<tf.Tensor: shape=(), dtype=float64, numpy=0.3125>"
      ]
     },
     "execution_count": 234,
     "metadata": {},
     "output_type": "execute_result"
    }
   ],
   "source": [
    "# divide()\n",
    "tf.divide(a, b)"
   ]
  },
  {
   "cell_type": "code",
   "execution_count": 235,
   "metadata": {
    "ExecuteTime": {
     "end_time": "2025-07-23T12:36:28.598154Z",
     "start_time": "2025-07-23T12:36:28.596474Z"
    },
    "executionInfo": {
     "elapsed": 21,
     "status": "ok",
     "timestamp": 1753148072770,
     "user": {
      "displayName": "고강태 강사",
      "userId": "11816854931407731745"
     },
     "user_tz": -540
    },
    "id": "1TZ1eUYPiMHr"
   },
   "outputs": [],
   "source": [
    "c = tf.constant(10)\n",
    "d = tf.constant(20)"
   ]
  },
  {
   "cell_type": "code",
   "execution_count": 236,
   "metadata": {
    "ExecuteTime": {
     "end_time": "2025-07-23T12:36:28.635020Z",
     "start_time": "2025-07-23T12:36:28.632653Z"
    },
    "colab": {
     "base_uri": "https://localhost:8080/"
    },
    "executionInfo": {
     "elapsed": 54,
     "status": "ok",
     "timestamp": 1753148122426,
     "user": {
      "displayName": "고강태 강사",
      "userId": "11816854931407731745"
     },
     "user_tz": -540
    },
    "id": "4lHFzjC_iMHr",
    "outputId": "8945eabe-0e46-4916-b479-da1fd86430e3"
   },
   "outputs": [
    {
     "data": {
      "text/plain": [
       "<tf.Tensor: shape=(), dtype=float64, numpy=1.0>"
      ]
     },
     "execution_count": 236,
     "metadata": {},
     "output_type": "execute_result"
    }
   ],
   "source": [
    "k = tf.constant( 10)\n",
    "j = 20\n",
    "# divide k, j\n",
    "tf.divide(k,c)"
   ]
  },
  {
   "cell_type": "markdown",
   "metadata": {
    "id": "mR_x0eU-iMHr"
   },
   "source": [
    "연산자를 사용한 연산도 가능하다"
   ]
  },
  {
   "cell_type": "code",
   "execution_count": 237,
   "metadata": {
    "ExecuteTime": {
     "end_time": "2025-07-23T12:36:28.677422Z",
     "start_time": "2025-07-23T12:36:28.675169Z"
    },
    "colab": {
     "base_uri": "https://localhost:8080/"
    },
    "executionInfo": {
     "elapsed": 56,
     "status": "ok",
     "timestamp": 1753148135508,
     "user": {
      "displayName": "고강태 강사",
      "userId": "11816854931407731745"
     },
     "user_tz": -540
    },
    "id": "7tGAqAoJxZKe",
    "outputId": "6bc1e5b6-4f95-424c-a7f8-25b5164f1055"
   },
   "outputs": [
    {
     "data": {
      "text/plain": [
       "<tf.Tensor: shape=(), dtype=int32, numpy=42>"
      ]
     },
     "execution_count": 237,
     "metadata": {},
     "output_type": "execute_result"
    }
   ],
   "source": [
    "a + b"
   ]
  },
  {
   "cell_type": "code",
   "execution_count": 238,
   "metadata": {
    "ExecuteTime": {
     "end_time": "2025-07-23T12:36:28.733035Z",
     "start_time": "2025-07-23T12:36:28.731052Z"
    },
    "colab": {
     "base_uri": "https://localhost:8080/"
    },
    "executionInfo": {
     "elapsed": 88,
     "status": "ok",
     "timestamp": 1753148146277,
     "user": {
      "displayName": "고강태 강사",
      "userId": "11816854931407731745"
     },
     "user_tz": -540
    },
    "id": "xX4oFxJxxblo",
    "outputId": "d0aa041a-c53b-4080-dc44-960d23792f89"
   },
   "outputs": [
    {
     "data": {
      "text/plain": [
       "<tf.Tensor: shape=(), dtype=int32, numpy=-22>"
      ]
     },
     "execution_count": 238,
     "metadata": {},
     "output_type": "execute_result"
    }
   ],
   "source": [
    "a - b"
   ]
  },
  {
   "cell_type": "code",
   "execution_count": 239,
   "metadata": {
    "ExecuteTime": {
     "end_time": "2025-07-23T12:36:28.788457Z",
     "start_time": "2025-07-23T12:36:28.786236Z"
    }
   },
   "outputs": [
    {
     "data": {
      "text/plain": [
       "<tf.Tensor: shape=(), dtype=int32, numpy=320>"
      ]
     },
     "execution_count": 239,
     "metadata": {},
     "output_type": "execute_result"
    }
   ],
   "source": [
    "a * b"
   ]
  },
  {
   "cell_type": "code",
   "execution_count": 240,
   "metadata": {
    "ExecuteTime": {
     "end_time": "2025-07-23T12:36:28.833477Z",
     "start_time": "2025-07-23T12:36:28.831304Z"
    }
   },
   "outputs": [
    {
     "data": {
      "text/plain": [
       "<tf.Tensor: shape=(), dtype=float64, numpy=0.3125>"
      ]
     },
     "execution_count": 240,
     "metadata": {},
     "output_type": "execute_result"
    }
   ],
   "source": [
    "a / b"
   ]
  },
  {
   "cell_type": "code",
   "execution_count": 241,
   "metadata": {
    "ExecuteTime": {
     "end_time": "2025-07-23T12:36:28.895015Z",
     "start_time": "2025-07-23T12:36:28.892667Z"
    },
    "colab": {
     "base_uri": "https://localhost:8080/"
    },
    "executionInfo": {
     "elapsed": 40,
     "status": "ok",
     "timestamp": 1753148154767,
     "user": {
      "displayName": "고강태 강사",
      "userId": "11816854931407731745"
     },
     "user_tz": -540
    },
    "id": "1ZCj6AqFxdbg",
    "outputId": "c547566c-8e05-4cd3-e7ad-92f967035148"
   },
   "outputs": [
    {
     "data": {
      "text/plain": [
       "<tf.Tensor: shape=(), dtype=int32, numpy=10>"
      ]
     },
     "execution_count": 241,
     "metadata": {},
     "output_type": "execute_result"
    }
   ],
   "source": [
    "a % b"
   ]
  },
  {
   "cell_type": "code",
   "execution_count": 242,
   "metadata": {
    "ExecuteTime": {
     "end_time": "2025-07-23T12:36:28.987074Z",
     "start_time": "2025-07-23T12:36:28.984859Z"
    },
    "colab": {
     "base_uri": "https://localhost:8080/"
    },
    "executionInfo": {
     "elapsed": 9,
     "status": "ok",
     "timestamp": 1753148167495,
     "user": {
      "displayName": "고강태 강사",
      "userId": "11816854931407731745"
     },
     "user_tz": -540
    },
    "id": "OlVc2O3EiMHr",
    "outputId": "2e982440-4000-47ad-dec6-0ecb81f0804f"
   },
   "outputs": [
    {
     "data": {
      "text/plain": [
       "10"
      ]
     },
     "execution_count": 242,
     "metadata": {},
     "output_type": "execute_result"
    }
   ],
   "source": [
    "# to numpy\n",
    "a.numpy()"
   ]
  },
  {
   "cell_type": "markdown",
   "metadata": {
    "id": "2u1YlVTeiMHr"
   },
   "source": [
    "### 반올림처리"
   ]
  },
  {
   "cell_type": "code",
   "execution_count": 243,
   "metadata": {
    "ExecuteTime": {
     "end_time": "2025-07-23T12:36:29.044766Z",
     "start_time": "2025-07-23T12:36:29.041743Z"
    },
    "colab": {
     "base_uri": "https://localhost:8080/"
    },
    "executionInfo": {
     "elapsed": 761,
     "status": "ok",
     "timestamp": 1753148180635,
     "user": {
      "displayName": "고강태 강사",
      "userId": "11816854931407731745"
     },
     "user_tz": -540
    },
    "id": "CvgBddPkiMHr",
    "outputId": "0d943f76-dd06-442f-d60b-6accece1cbbf"
   },
   "outputs": [
    {
     "data": {
      "text/plain": [
       "<tf.Tensor: shape=(), dtype=float32, numpy=10.0>"
      ]
     },
     "execution_count": 243,
     "metadata": {},
     "output_type": "execute_result"
    }
   ],
   "source": [
    "# floor\n",
    "tf.floor(10.5)"
   ]
  },
  {
   "cell_type": "code",
   "execution_count": 244,
   "metadata": {
    "ExecuteTime": {
     "end_time": "2025-07-23T12:36:29.110850Z",
     "start_time": "2025-07-23T12:36:29.108827Z"
    },
    "colab": {
     "base_uri": "https://localhost:8080/"
    },
    "executionInfo": {
     "elapsed": 68,
     "status": "ok",
     "timestamp": 1753148185408,
     "user": {
      "displayName": "고강태 강사",
      "userId": "11816854931407731745"
     },
     "user_tz": -540
    },
    "id": "M-_QoizviMHr",
    "outputId": "4a779b00-265c-48a7-e8c6-46681dc22a62"
   },
   "outputs": [
    {
     "data": {
      "text/plain": [
       "<tf.Tensor: shape=(), dtype=float32, numpy=10.0>"
      ]
     },
     "execution_count": 244,
     "metadata": {},
     "output_type": "execute_result"
    }
   ],
   "source": [
    "# round\n",
    "tf.round(10.5)"
   ]
  },
  {
   "cell_type": "markdown",
   "metadata": {
    "id": "UGD5X6j8iMHr"
   },
   "source": [
    "### 절대값 및 부호처리"
   ]
  },
  {
   "cell_type": "code",
   "execution_count": 245,
   "metadata": {
    "ExecuteTime": {
     "end_time": "2025-07-23T12:36:29.165670Z",
     "start_time": "2025-07-23T12:36:29.162940Z"
    },
    "colab": {
     "base_uri": "https://localhost:8080/"
    },
    "executionInfo": {
     "elapsed": 19,
     "status": "ok",
     "timestamp": 1753148194620,
     "user": {
      "displayName": "고강태 강사",
      "userId": "11816854931407731745"
     },
     "user_tz": -540
    },
    "id": "AGoYGHSTiMHr",
    "outputId": "5b5d7d6f-ac83-43a7-fb15-71772736d41b"
   },
   "outputs": [
    {
     "data": {
      "text/plain": [
       "<tf.Tensor: shape=(), dtype=int32, numpy=100>"
      ]
     },
     "execution_count": 245,
     "metadata": {},
     "output_type": "execute_result"
    }
   ],
   "source": [
    "tf.abs(-100)"
   ]
  },
  {
   "cell_type": "code",
   "execution_count": 246,
   "metadata": {
    "ExecuteTime": {
     "end_time": "2025-07-23T12:36:29.220043Z",
     "start_time": "2025-07-23T12:36:29.217864Z"
    },
    "colab": {
     "base_uri": "https://localhost:8080/",
     "height": 187
    },
    "executionInfo": {
     "elapsed": 55,
     "status": "ok",
     "timestamp": 1753148200278,
     "user": {
      "displayName": "고강태 강사",
      "userId": "11816854931407731745"
     },
     "user_tz": -540
    },
    "id": "Cwr1jDPxiMHs",
    "outputId": "f56601d1-155c-4c55-d6ee-f6405641b115"
   },
   "outputs": [
    {
     "data": {
      "text/plain": [
       "<function tensorflow.python.ops.math_ops.sign(x, name=None)>"
      ]
     },
     "execution_count": 246,
     "metadata": {},
     "output_type": "execute_result"
    }
   ],
   "source": [
    "tf.sign"
   ]
  },
  {
   "cell_type": "code",
   "execution_count": 247,
   "metadata": {
    "ExecuteTime": {
     "end_time": "2025-07-23T12:36:29.279223Z",
     "start_time": "2025-07-23T12:36:29.277178Z"
    },
    "colab": {
     "base_uri": "https://localhost:8080/",
     "height": 187
    },
    "executionInfo": {
     "elapsed": 38,
     "status": "ok",
     "timestamp": 1753148206275,
     "user": {
      "displayName": "고강태 강사",
      "userId": "11816854931407731745"
     },
     "user_tz": -540
    },
    "id": "zjRJGWuxiMHs",
    "outputId": "bf1faa98-1848-4283-e5a3-07c2f7430ee3"
   },
   "outputs": [
    {
     "data": {
      "text/plain": [
       "<function tensorflow.python.ops.gen_math_ops.neg(x: typing.Annotated[_any, ~TV_Neg_T], name=None) -> typing.Annotated[_any, ~TV_Neg_T]>"
      ]
     },
     "execution_count": 247,
     "metadata": {},
     "output_type": "execute_result"
    }
   ],
   "source": [
    "tf.negative"
   ]
  },
  {
   "cell_type": "markdown",
   "metadata": {
    "id": "wW2mbegmiMHs"
   },
   "source": [
    "### 제곱 및 제곱근, 지수"
   ]
  },
  {
   "cell_type": "code",
   "execution_count": 248,
   "metadata": {
    "ExecuteTime": {
     "end_time": "2025-07-23T12:36:29.330047Z",
     "start_time": "2025-07-23T12:36:29.327946Z"
    },
    "id": "LxAzlM1ZiMHs",
    "outputId": "30e0743d-82f4-40b4-bd40-881486acd37e"
   },
   "outputs": [
    {
     "data": {
      "text/plain": [
       "<function tensorflow.python.ops.math_ops.pow(x, y, name=None)>"
      ]
     },
     "execution_count": 248,
     "metadata": {},
     "output_type": "execute_result"
    }
   ],
   "source": [
    "tf.pow"
   ]
  },
  {
   "cell_type": "code",
   "execution_count": 249,
   "metadata": {
    "ExecuteTime": {
     "end_time": "2025-07-23T12:36:29.374475Z",
     "start_time": "2025-07-23T12:36:29.372184Z"
    },
    "colab": {
     "base_uri": "https://localhost:8080/"
    },
    "executionInfo": {
     "elapsed": 23,
     "status": "ok",
     "timestamp": 1753148210626,
     "user": {
      "displayName": "고강태 강사",
      "userId": "11816854931407731745"
     },
     "user_tz": -540
    },
    "id": "Kd_V9p2riMHs",
    "outputId": "767b72fd-d508-4f90-f0ed-ff4ba367abab"
   },
   "outputs": [
    {
     "data": {
      "text/plain": [
       "<tf.Tensor: shape=(), dtype=int32, numpy=100>"
      ]
     },
     "execution_count": 249,
     "metadata": {},
     "output_type": "execute_result"
    }
   ],
   "source": [
    "tf.pow(10,2)"
   ]
  },
  {
   "cell_type": "code",
   "execution_count": 250,
   "metadata": {
    "ExecuteTime": {
     "end_time": "2025-07-23T12:36:29.429261Z",
     "start_time": "2025-07-23T12:36:29.427297Z"
    },
    "id": "Rp9mieV0iMHs",
    "outputId": "87d00c07-44fc-407c-926c-9fc11310ca94"
   },
   "outputs": [
    {
     "data": {
      "text/plain": [
       "<function tensorflow.python.ops.gen_math_ops.square(x: typing.Annotated[_any, ~TV_Square_T], name=None) -> typing.Annotated[_any, ~TV_Square_T]>"
      ]
     },
     "execution_count": 250,
     "metadata": {},
     "output_type": "execute_result"
    }
   ],
   "source": [
    "tf.square"
   ]
  },
  {
   "cell_type": "markdown",
   "metadata": {
    "id": "M2ed7DNriMHs"
   },
   "source": [
    "## Tensor broadcasting"
   ]
  },
  {
   "cell_type": "markdown",
   "metadata": {
    "id": "CUUUnt_AE5t1"
   },
   "source": [
    "### Constant 1-D Tensor populated with value list."
   ]
  },
  {
   "cell_type": "code",
   "execution_count": 251,
   "metadata": {
    "ExecuteTime": {
     "end_time": "2025-07-23T12:36:29.501988Z",
     "start_time": "2025-07-23T12:36:29.500223Z"
    },
    "executionInfo": {
     "elapsed": 19,
     "status": "ok",
     "timestamp": 1753148239747,
     "user": {
      "displayName": "고강태 강사",
      "userId": "11816854931407731745"
     },
     "user_tz": -540
    },
    "id": "WnKJbaNTE5t1"
   },
   "outputs": [],
   "source": [
    "tensor1 = tf.constant([1, 2, 3, 4, 5, 6])"
   ]
  },
  {
   "cell_type": "code",
   "execution_count": 252,
   "metadata": {
    "ExecuteTime": {
     "end_time": "2025-07-23T12:36:29.556738Z",
     "start_time": "2025-07-23T12:36:29.554232Z"
    },
    "colab": {
     "base_uri": "https://localhost:8080/"
    },
    "executionInfo": {
     "elapsed": 36,
     "status": "ok",
     "timestamp": 1753148253731,
     "user": {
      "displayName": "고강태 강사",
      "userId": "11816854931407731745"
     },
     "user_tz": -540
    },
    "id": "2lcD5D3Axz5P",
    "outputId": "b772f0fc-efd4-4b0e-cfd7-e0f90361a8b7"
   },
   "outputs": [
    {
     "data": {
      "text/plain": [
       "<tf.Tensor: shape=(6,), dtype=int32, numpy=array([11, 12, 13, 14, 15, 16], dtype=int32)>"
      ]
     },
     "execution_count": 252,
     "metadata": {},
     "output_type": "execute_result"
    }
   ],
   "source": [
    "# 상수 10을 + 브로드캐스트\n",
    "tensor1_ = tensor1 + 10\n",
    "tensor1_"
   ]
  },
  {
   "cell_type": "code",
   "execution_count": 253,
   "metadata": {
    "ExecuteTime": {
     "end_time": "2025-07-23T12:36:29.603468Z",
     "start_time": "2025-07-23T12:36:29.601127Z"
    },
    "colab": {
     "base_uri": "https://localhost:8080/"
    },
    "executionInfo": {
     "elapsed": 73,
     "status": "ok",
     "timestamp": 1753148262408,
     "user": {
      "displayName": "고강태 강사",
      "userId": "11816854931407731745"
     },
     "user_tz": -540
    },
    "id": "GfPE_aV_E5t2",
    "outputId": "f8743c68-0b3e-4546-8652-ec5161aed9a9"
   },
   "outputs": [
    {
     "data": {
      "text/plain": [
       "(TensorShape([6]), 1)"
      ]
     },
     "execution_count": 253,
     "metadata": {},
     "output_type": "execute_result"
    }
   ],
   "source": [
    "tensor1_.shape, tensor1_.ndim"
   ]
  },
  {
   "cell_type": "code",
   "execution_count": 254,
   "metadata": {
    "ExecuteTime": {
     "end_time": "2025-07-23T12:36:29.670042Z",
     "start_time": "2025-07-23T12:36:29.668101Z"
    },
    "colab": {
     "base_uri": "https://localhost:8080/",
     "height": 35
    },
    "executionInfo": {
     "elapsed": 57,
     "status": "ok",
     "timestamp": 1753148267830,
     "user": {
      "displayName": "고강태 강사",
      "userId": "11816854931407731745"
     },
     "user_tz": -540
    },
    "id": "7NvTVWL3E5t2",
    "outputId": "2afa5287-a048-4388-ed8b-958640e7fdea"
   },
   "outputs": [
    {
     "data": {
      "text/plain": [
       "'/job:localhost/replica:0/task:0/device:CPU:0'"
      ]
     },
     "execution_count": 254,
     "metadata": {},
     "output_type": "execute_result"
    }
   ],
   "source": [
    "tensor1_.backing_device"
   ]
  },
  {
   "cell_type": "code",
   "execution_count": 255,
   "metadata": {
    "ExecuteTime": {
     "end_time": "2025-07-23T12:36:29.712617Z",
     "start_time": "2025-07-23T12:36:29.710551Z"
    },
    "colab": {
     "base_uri": "https://localhost:8080/"
    },
    "executionInfo": {
     "elapsed": 20,
     "status": "ok",
     "timestamp": 1753148269460,
     "user": {
      "displayName": "고강태 강사",
      "userId": "11816854931407731745"
     },
     "user_tz": -540
    },
    "id": "GvZjoM_tE5t2",
    "outputId": "fbeeb93e-6d97-4bf8-993c-a93b3b5a4e8c"
   },
   "outputs": [
    {
     "data": {
      "text/plain": [
       "<tf.Tensor: shape=(6,), dtype=int32, numpy=array([1, 2, 3, 4, 5, 6], dtype=int32)>"
      ]
     },
     "execution_count": 255,
     "metadata": {},
     "output_type": "execute_result"
    }
   ],
   "source": [
    "tensor1.cpu()"
   ]
  },
  {
   "cell_type": "markdown",
   "metadata": {
    "id": "NQ_PIBfDE5t3"
   },
   "source": [
    "### 특정 형상을 기준으로 동일한 값을 저장"
   ]
  },
  {
   "cell_type": "code",
   "execution_count": 256,
   "metadata": {
    "ExecuteTime": {
     "end_time": "2025-07-23T12:36:29.760635Z",
     "start_time": "2025-07-23T12:36:29.758936Z"
    },
    "executionInfo": {
     "elapsed": 41,
     "status": "ok",
     "timestamp": 1753148286933,
     "user": {
      "displayName": "고강태 강사",
      "userId": "11816854931407731745"
     },
     "user_tz": -540
    },
    "id": "DdTzrW8bE5t3"
   },
   "outputs": [],
   "source": [
    "# fill()\n",
    "fill_ = tf.fill([2, 3], 9)"
   ]
  },
  {
   "cell_type": "code",
   "execution_count": 257,
   "metadata": {
    "ExecuteTime": {
     "end_time": "2025-07-23T12:36:29.792502Z",
     "start_time": "2025-07-23T12:36:29.787263Z"
    },
    "colab": {
     "base_uri": "https://localhost:8080/"
    },
    "executionInfo": {
     "elapsed": 40,
     "status": "ok",
     "timestamp": 1753148291555,
     "user": {
      "displayName": "고강태 강사",
      "userId": "11816854931407731745"
     },
     "user_tz": -540
    },
    "id": "sv-Tw01CE5t3",
    "outputId": "9eb6f418-936b-4450-ccc0-a84e8fc2aed1"
   },
   "outputs": [
    {
     "data": {
      "text/plain": [
       "<tf.Tensor: shape=(2, 3), dtype=int32, numpy=\n",
       "array([[9, 9, 9],\n",
       "       [9, 9, 9]], dtype=int32)>"
      ]
     },
     "execution_count": 257,
     "metadata": {},
     "output_type": "execute_result"
    }
   ],
   "source": [
    "fill_"
   ]
  },
  {
   "cell_type": "code",
   "execution_count": 258,
   "metadata": {
    "ExecuteTime": {
     "end_time": "2025-07-23T12:36:29.853254Z",
     "start_time": "2025-07-23T12:36:29.850900Z"
    },
    "colab": {
     "base_uri": "https://localhost:8080/"
    },
    "executionInfo": {
     "elapsed": 69,
     "status": "ok",
     "timestamp": 1753148305146,
     "user": {
      "displayName": "고강태 강사",
      "userId": "11816854931407731745"
     },
     "user_tz": -540
    },
    "id": "zevVRaQGE5t3",
    "outputId": "8b7ee4fd-dd8e-4b38-feb4-09bf3a6cb31a"
   },
   "outputs": [
    {
     "data": {
      "text/plain": [
       "<tf.Tensor: shape=(2, 3), dtype=int32, numpy=\n",
       "array([[39, 39, 39],\n",
       "       [39, 39, 39]], dtype=int32)>"
      ]
     },
     "execution_count": 258,
     "metadata": {},
     "output_type": "execute_result"
    }
   ],
   "source": [
    "# 30을 + 브로드캐스트\n",
    "fill_ +30"
   ]
  },
  {
   "cell_type": "markdown",
   "metadata": {
    "id": "Kg1ZRgouE5t3"
   },
   "source": [
    "## CPU, GPU 를 사용한 계산\n",
    "\n",
    " - CPU : `/CPU[no]`\n",
    " - GPU: `/GPU[no]`"
   ]
  },
  {
   "cell_type": "markdown",
   "metadata": {
    "id": "BTq5TREviMHt"
   },
   "source": [
    "> GPU 메모리 문제 발생 가능"
   ]
  },
  {
   "cell_type": "markdown",
   "metadata": {
    "id": "OiIv2uI-iMHt"
   },
   "source": [
    "### CPU"
   ]
  },
  {
   "cell_type": "code",
   "execution_count": 323,
   "metadata": {
    "ExecuteTime": {
     "end_time": "2025-07-23T12:40:21.993343Z",
     "start_time": "2025-07-23T12:40:21.824891Z"
    },
    "executionInfo": {
     "elapsed": 2243,
     "status": "ok",
     "timestamp": 1753148485178,
     "user": {
      "displayName": "고강태 강사",
      "userId": "11816854931407731745"
     },
     "user_tz": -540
    },
    "id": "CRhGy57uiMHt"
   },
   "outputs": [],
   "source": [
    "with tf.device('/CPU:' + str(0)):\n",
    "    # 1. 연산에 사용할 행렬의 크기 정의\n",
    "    matrix_size = 8192  # 더 큰 값일수록 CPU와 GPU 간의 성능 차이를 명확히 볼 수 있습니다.\n",
    "    a = tf.random.normal([matrix_size, matrix_size], dtype=tf.float32)\n",
    "    b = tf.random.normal([matrix_size, matrix_size], dtype=tf.float32)"
   ]
  },
  {
   "cell_type": "code",
   "execution_count": 324,
   "metadata": {
    "ExecuteTime": {
     "end_time": "2025-07-23T12:44:21.663393Z",
     "start_time": "2025-07-23T12:44:20.753502Z"
    },
    "colab": {
     "base_uri": "https://localhost:8080/"
    },
    "executionInfo": {
     "elapsed": 20236,
     "status": "ok",
     "timestamp": 1753148515608,
     "user": {
      "displayName": "고강태 강사",
      "userId": "11816854931407731745"
     },
     "user_tz": -540
    },
    "id": "UIevL7XJiMHu",
    "outputId": "4a14f8d6-df81-4957-8891-10308859eb07"
   },
   "outputs": [
    {
     "name": "stdout",
     "output_type": "stream",
     "text": [
      "CPU 연산 시간: 0.9070 초\n"
     ]
    }
   ],
   "source": [
    "import time\n",
    "\n",
    "cpu_slot = 0\n",
    "\n",
    "# Using CPU at slot 0\n",
    "with tf.device('/CPU:' + str(cpu_slot)):\n",
    "    start = time.time()\n",
    "\n",
    "    c_cpu  = tf.matmul(a, b) # 행렬곱\n",
    "    r = c_cpu .numpy()\n",
    "\n",
    "    end = time.time() - start\n",
    "    print(f\"CPU 연산 시간: {end:.4f} 초\")\n"
   ]
  },
  {
   "cell_type": "markdown",
   "metadata": {
    "id": "vLyL_liDiMHu"
   },
   "source": [
    "### GPU 를 사용한 계산"
   ]
  },
  {
   "cell_type": "code",
   "execution_count": 328,
   "metadata": {
    "ExecuteTime": {
     "end_time": "2025-07-23T12:47:42.586542Z",
     "start_time": "2025-07-23T12:47:42.349493Z"
    },
    "colab": {
     "base_uri": "https://localhost:8080/"
    },
    "executionInfo": {
     "elapsed": 1154,
     "status": "ok",
     "timestamp": 1753148573977,
     "user": {
      "displayName": "고강태 강사",
      "userId": "11816854931407731745"
     },
     "user_tz": -540
    },
    "id": "gSUYrqyrE5t4",
    "outputId": "fb23536c-6661-47bc-8472-1c9b13b3b1b0"
   },
   "outputs": [
    {
     "name": "stdout",
     "output_type": "stream",
     "text": [
      "GPU 연산 시간: 0.2345 초\n"
     ]
    }
   ],
   "source": [
    "# Using the GPU at slot 0\n",
    "gpu_slot = 0\n",
    "\n",
    "if tf.config.list_physical_devices('GPU'):\n",
    "\n",
    "    with tf.device('/GPU:' + str(gpu_slot)):\n",
    "        # Starting a timer\n",
    "        start = time.time()\n",
    "\n",
    "        # Doing operations on GPU\n",
    "        # A = tf.constant([[3, 2], [5, 2]])\n",
    "        # print(tf.eye(2,2))\n",
    "        c_gpu  = tf.matmul(a, b) # 행렬 곱셈\n",
    "        r = c_gpu .numpy() # 연산이 실제로 완료되도록 결과를 numpy 배열로 변환 (지연 실행 방지)\n",
    "\n",
    "        # Printing how long it took with CPU\n",
    "        end = time.time() - start\n",
    "        print(f\"GPU 연산 시간: {end:.4f} 초\")\n",
    "else:\n",
    "    print(\"GPU를 찾을 수 없습니다. GPU 연산을 건너뜝니다.\")"
   ]
  },
  {
   "cell_type": "code",
   "execution_count": 329,
   "metadata": {
    "ExecuteTime": {
     "end_time": "2025-07-23T12:47:48.981777Z",
     "start_time": "2025-07-23T12:47:48.743210Z"
    },
    "id": "NI1JfEAyiMHu",
    "outputId": "017169e8-6a79-4250-d981-0a601143cf0a"
   },
   "outputs": [
    {
     "name": "stdout",
     "output_type": "stream",
     "text": [
      "GPU 연산 시간: 0.2359 초\n"
     ]
    }
   ],
   "source": [
    "gpu_slot = 0\n",
    "\n",
    "if tf.config.list_physical_devices('GPU'):\n",
    "\n",
    "    with tf.device('/GPU:' + str(gpu_slot)):\n",
    "        start = time.time()\n",
    "\n",
    "        c_gpu  = tf.matmul(a, b) # 행렬 곱셈\n",
    "        r = c_gpu .numpy()\n",
    "\n",
    "        end = time.time() - start\n",
    "        print(f\"GPU 연산 시간: {end:.4f} 초\")\n",
    "else:\n",
    "    print(\"GPU를 찾을 수 없습니다. GPU 연산을 건너뜝니다.\")"
   ]
  },
  {
   "cell_type": "code",
   "execution_count": 327,
   "metadata": {
    "ExecuteTime": {
     "end_time": "2025-07-23T12:45:39.583229Z",
     "start_time": "2025-07-23T12:45:39.551544Z"
    },
    "colab": {
     "base_uri": "https://localhost:8080/"
    },
    "executionInfo": {
     "elapsed": 134,
     "status": "ok",
     "timestamp": 1753148665797,
     "user": {
      "displayName": "고강태 강사",
      "userId": "11816854931407731745"
     },
     "user_tz": -540
    },
    "id": "2jqOBlsXiMHu",
    "outputId": "769f0c89-c7cc-4ee6-97b3-42aac8f6e69e"
   },
   "outputs": [
    {
     "name": "stdout",
     "output_type": "stream",
     "text": [
      "\n",
      "CPU와 GPU 결과의 최대 차이: 2.3804e-03\n",
      "CPU와 GPU 연산 결과에 차이가 있습니다.\n"
     ]
    }
   ],
   "source": [
    "# 5. 결과 검증\n",
    "# CPU와 GPU에서 계산된 결과가 동일한지 확인합니다.\n",
    "if tf.config.list_physical_devices('GPU'):\n",
    "    # 두 결과가 완전히 같지 않을 수 있습니다 (부동 소수점 정밀도 차이).\n",
    "    # 따라서 어느 정도의 오차 범위 내에서 같은지 확인합니다.\n",
    "    diff = tf.reduce_max(tf.abs(c_cpu - c_gpu))\n",
    "    print(f\"\\nCPU와 GPU 결과의 최대 차이: {diff:.4e}\")\n",
    "    if diff < 1e-5: # 작은 값으로 오차 허용 범위 설정\n",
    "        print(\"CPU와 GPU 연산 결과가 거의 동일합니다.\")\n",
    "    else:\n",
    "        print(\"CPU와 GPU 연산 결과에 차이가 있습니다.\")"
   ]
  },
  {
   "cell_type": "markdown",
   "metadata": {
    "id": "6MprLHn-iMHu"
   },
   "source": [
    "TensorFlow 예제를 실행했을 때 GPU가 CPU보다 더 느리게 작동하는 경우는 몇 가지 원인이 있을 수 있습니다. 특히 행렬 곱셈과 같은 연산에서 GPU는 일반적으로 CPU보다 훨씬 빠르다고 알려져 있는데도 말이죠.\n",
    "\n",
    "가장 흔한 원인들을 아래에서 설명해 드리겠습니다.\n",
    "\n",
    "1. GPU 오버헤드 (Overhead)\n",
    "\n",
    "GPU는 병렬 처리에 특화되어 있지만, GPU 연산을 시작하고 데이터를 주고받는 데에는 초기 설정(setup) 및 데이터 전송(data transfer) 오버헤드가 발생합니다.\n",
    "\n",
    "- 데이터 전송 (CPU to GPU, GPU to CPU): CPU 메모리에 있는 데이터를 GPU 메모리로 전송하고, 연산이 끝난 후 GPU 메모리에서 CPU 메모리로 다시 전송하는 데 시간이 소요됩니다. 이 전송 비용이 실제 GPU 연산 시간보다 더 클 수 있습니다.\n",
    "\n",
    "- 커널 런치 (Kernel Launch) 오버헤드: CPU가 GPU에 작업을 지시(커널 런치)하는 과정에도 약간의 시간이 걸립니다.\n",
    "\n",
    "\n",
    "2. GPU 워밍업 (Warm-up) 시간\n",
    "일부 GPU 드라이버나 런타임 환경에서는 첫 번째 GPU 연산을 수행할 때 초기화 또는 \"워밍업\" 시간이 필요할 수 있습니다"
   ]
  },
  {
   "cell_type": "markdown",
   "metadata": {
    "id": "r7vm7eNlE5t4"
   },
   "source": [
    "# 4. 변수\n",
    "\n",
    "TensorFlow 2.x에서는 텐서 연산에 **Eager Execution(즉시 실행)**이 기본으로 설정되어 있어, 코드를 작성하는 즉시 연산이 실행되고 결과가 반환됩니다. 이는 Python의 일반적인 코딩 방식과 유사하여 디버깅 및 개발이 훨씬 용이합니다.\n",
    "> - tensorflow 2.x 이전 버전의 주요 변수 선언자: 플레이스홀더."
   ]
  },
  {
   "cell_type": "markdown",
   "metadata": {
    "id": "5wQ_of2DE5t4"
   },
   "source": [
    "### 변수란?\n",
    "\n",
    "**변수 (Variable)** 는 딥러닝 모델의 학습 가능한 파라미터(예: 가중치, 편향)를 저장하는 데 사용되는 특별한 종류의 텐서로 `tf.constant` 와 달리 `tf.Variable` 은 값을 변경할 수 있다. 모델이 데이터를 학습하면서 이 변수들의 값이 최적의 성능을 낼 수 있도록 점진적으로 업데이트된다."
   ]
  },
  {
   "cell_type": "markdown",
   "metadata": {
    "id": "_QS_zd2BiMHu"
   },
   "source": [
    "### 변수 초기화\n",
    "\n",
    "변수는 모델 학습을 시작하기 전에 적절한 값으로 초기화되어야 합니다. TensorFlow는 tf.random.normal (정규 분포), tf.zeros (모든 요소가 0), tf.ones (모든 요소가 1) 등 다양한 초기화 함수를 제공합니다."
   ]
  },
  {
   "cell_type": "markdown",
   "metadata": {
    "id": "vsr4wvCAiMHv"
   },
   "source": [
    "tf.Variable() 함수를 사용하여 변수를 생성하고 초기값을 필수로 지정해야 한다.\n",
    "\n",
    "```python\n",
    "X = tf.Variable(5.0)\n",
    "x_data = [[1,2,3],[4,5,6]]\n",
    "X = tf.Variable(x_data)\n",
    "X = tf.Variable(tf.random.normal((2,3)))\n",
    "```"
   ]
  },
  {
   "cell_type": "code",
   "execution_count": 264,
   "metadata": {
    "ExecuteTime": {
     "end_time": "2025-07-23T12:36:31.897125Z",
     "start_time": "2025-07-23T12:36:31.894090Z"
    },
    "colab": {
     "base_uri": "https://localhost:8080/"
    },
    "executionInfo": {
     "elapsed": 65,
     "status": "ok",
     "timestamp": 1753148898874,
     "user": {
      "displayName": "고강태 강사",
      "userId": "11816854931407731745"
     },
     "user_tz": -540
    },
    "id": "rkaOT8omiMHv",
    "outputId": "03270855-e208-4598-e322-880f3cb96316"
   },
   "outputs": [
    {
     "data": {
      "text/plain": [
       "<tf.Variable 'Variable:0' shape=() dtype=float32, numpy=5.0>"
      ]
     },
     "execution_count": 264,
     "metadata": {},
     "output_type": "execute_result"
    }
   ],
   "source": [
    "X = tf.Variable(5.0)\n",
    "X"
   ]
  },
  {
   "cell_type": "code",
   "execution_count": 265,
   "metadata": {
    "ExecuteTime": {
     "end_time": "2025-07-23T12:36:31.929603Z",
     "start_time": "2025-07-23T12:36:31.928346Z"
    },
    "executionInfo": {
     "elapsed": 10,
     "status": "ok",
     "timestamp": 1753148884533,
     "user": {
      "displayName": "고강태 강사",
      "userId": "11816854931407731745"
     },
     "user_tz": -540
    },
    "id": "VClpRGaB0O11"
   },
   "outputs": [],
   "source": [
    "# X = 1000"
   ]
  },
  {
   "cell_type": "markdown",
   "metadata": {
    "id": "EB55EWRMiMHv"
   },
   "source": [
    "- assign 을 사용해 변수 텐서의 값을 변경할 수 있다"
   ]
  },
  {
   "cell_type": "code",
   "execution_count": 266,
   "metadata": {
    "ExecuteTime": {
     "end_time": "2025-07-23T12:36:31.959154Z",
     "start_time": "2025-07-23T12:36:31.955826Z"
    },
    "colab": {
     "base_uri": "https://localhost:8080/"
    },
    "executionInfo": {
     "elapsed": 35,
     "status": "ok",
     "timestamp": 1753148910628,
     "user": {
      "displayName": "고강태 강사",
      "userId": "11816854931407731745"
     },
     "user_tz": -540
    },
    "id": "-O09aIRQiMHv",
    "outputId": "dd710c6d-f5b1-48e1-dffc-7b17c97ad04f"
   },
   "outputs": [
    {
     "data": {
      "text/plain": [
       "<tf.Variable 'Variable:0' shape=() dtype=float32, numpy=9.0>"
      ]
     },
     "execution_count": 266,
     "metadata": {},
     "output_type": "execute_result"
    }
   ],
   "source": [
    "# assign 을 사용해 변수 텐서의 값을 변경할 수 있다\n",
    "X.assign(9.0)\n",
    "X"
   ]
  },
  {
   "cell_type": "code",
   "execution_count": 330,
   "metadata": {
    "ExecuteTime": {
     "end_time": "2025-07-23T12:50:44.256856Z",
     "start_time": "2025-07-23T12:50:44.252457Z"
    },
    "colab": {
     "base_uri": "https://localhost:8080/"
    },
    "executionInfo": {
     "elapsed": 52,
     "status": "ok",
     "timestamp": 1753149685233,
     "user": {
      "displayName": "고강태 강사",
      "userId": "11816854931407731745"
     },
     "user_tz": -540
    },
    "id": "a0K1fLnPiMHv",
    "outputId": "7cfb8118-6f8b-4761-ad1b-680c00782be1"
   },
   "outputs": [
    {
     "data": {
      "text/plain": [
       "<tf.Variable 'Variable:0' shape=(2, 3) dtype=int32, numpy=\n",
       "array([[1, 2, 3],\n",
       "       [4, 5, 6]], dtype=int32)>"
      ]
     },
     "execution_count": 330,
     "metadata": {},
     "output_type": "execute_result"
    }
   ],
   "source": [
    "x_data = [[1,2,3],[4,5,6]]\n",
    "X = tf.Variable(x_data)\n",
    "X"
   ]
  },
  {
   "cell_type": "markdown",
   "metadata": {
    "id": "FUUQ8I2piMHv"
   },
   "source": [
    "tf.random.normal() 등의 임의의 범위 값으로 초기화를 할 수 있다."
   ]
  },
  {
   "cell_type": "code",
   "execution_count": 268,
   "metadata": {
    "ExecuteTime": {
     "end_time": "2025-07-23T12:36:32.053105Z",
     "start_time": "2025-07-23T12:36:32.047077Z"
    },
    "colab": {
     "base_uri": "https://localhost:8080/"
    },
    "executionInfo": {
     "elapsed": 43,
     "status": "ok",
     "timestamp": 1753149745567,
     "user": {
      "displayName": "고강태 강사",
      "userId": "11816854931407731745"
     },
     "user_tz": -540
    },
    "id": "-i6SzQhviMHw",
    "outputId": "9113aa29-e247-49a0-9fc2-dab5be527485"
   },
   "outputs": [
    {
     "data": {
      "text/plain": [
       "<tf.Variable 'Variable:0' shape=(2, 3) dtype=float32, numpy=\n",
       "array([[ 0.22206858,  0.5702086 ,  1.1757131 ],\n",
       "       [ 0.5331952 , -1.3075762 ,  1.492607  ]], dtype=float32)>"
      ]
     },
     "execution_count": 268,
     "metadata": {},
     "output_type": "execute_result"
    }
   ],
   "source": [
    "X = tf.Variable(tf.random.normal((2,3)))\n",
    "X\n"
   ]
  },
  {
   "cell_type": "code",
   "execution_count": 269,
   "metadata": {
    "ExecuteTime": {
     "end_time": "2025-07-23T12:36:32.152016Z",
     "start_time": "2025-07-23T12:36:32.150564Z"
    },
    "id": "HXDUqc9O3mo3"
   },
   "outputs": [],
   "source": [
    "# x.assign(tf.random.normal((2,3)))"
   ]
  },
  {
   "cell_type": "code",
   "execution_count": 270,
   "metadata": {
    "ExecuteTime": {
     "end_time": "2025-07-23T12:36:32.231510Z",
     "start_time": "2025-07-23T12:36:32.225065Z"
    },
    "colab": {
     "base_uri": "https://localhost:8080/"
    },
    "executionInfo": {
     "elapsed": 59,
     "status": "ok",
     "timestamp": 1753149801120,
     "user": {
      "displayName": "고강태 강사",
      "userId": "11816854931407731745"
     },
     "user_tz": -540
    },
    "id": "J3DVqHP6iMHw",
    "outputId": "dc097bb0-63dc-4cee-f867-56aa95fb2a69"
   },
   "outputs": [
    {
     "data": {
      "text/plain": [
       "<tf.Variable 'Variable:0' shape=(2, 3) dtype=float32, numpy=\n",
       "array([[ 0.419082  , -0.42362887,  1.218174  ],\n",
       "       [ 0.97647   , -1.7896273 ,  3.7996926 ]], dtype=float32)>"
      ]
     },
     "execution_count": 270,
     "metadata": {},
     "output_type": "execute_result"
    }
   ],
   "source": [
    "X.assign_add(tf.random.normal((2,3)))\n",
    "X"
   ]
  },
  {
   "cell_type": "markdown",
   "metadata": {
    "id": "wLNBB4KAiMHw"
   },
   "source": [
    "### 변수를 사용해서 방정식의 해를 찾아 보자"
   ]
  },
  {
   "cell_type": "code",
   "execution_count": 271,
   "metadata": {
    "ExecuteTime": {
     "end_time": "2025-07-23T12:36:32.340011Z",
     "start_time": "2025-07-23T12:36:32.337587Z"
    },
    "executionInfo": {
     "elapsed": 40,
     "status": "ok",
     "timestamp": 1753149836805,
     "user": {
      "displayName": "고강태 강사",
      "userId": "11816854931407731745"
     },
     "user_tz": -540
    },
    "id": "BWkWtXmrE5t4"
   },
   "outputs": [],
   "source": [
    "X = tf.Variable(tf.random.normal((2,3)))"
   ]
  },
  {
   "cell_type": "code",
   "execution_count": 272,
   "metadata": {
    "ExecuteTime": {
     "end_time": "2025-07-23T12:36:32.395349Z",
     "start_time": "2025-07-23T12:36:32.392564Z"
    },
    "executionInfo": {
     "elapsed": 9,
     "status": "ok",
     "timestamp": 1753149843246,
     "user": {
      "displayName": "고강태 강사",
      "userId": "11816854931407731745"
     },
     "user_tz": -540
    },
    "id": "txUpZO13E5t5"
   },
   "outputs": [],
   "source": [
    "W = tf.Variable(tf.random.normal((3,2)))"
   ]
  },
  {
   "cell_type": "code",
   "execution_count": 273,
   "metadata": {
    "ExecuteTime": {
     "end_time": "2025-07-23T12:36:32.440710Z",
     "start_time": "2025-07-23T12:36:32.436477Z"
    },
    "executionInfo": {
     "elapsed": 44,
     "status": "ok",
     "timestamp": 1753149846189,
     "user": {
      "displayName": "고강태 강사",
      "userId": "11816854931407731745"
     },
     "user_tz": -540
    },
    "id": "WUoTKasGE5t5"
   },
   "outputs": [],
   "source": [
    "b = tf.Variable(tf.random.normal((2,1)))"
   ]
  },
  {
   "cell_type": "code",
   "execution_count": 274,
   "metadata": {
    "ExecuteTime": {
     "end_time": "2025-07-23T12:36:32.466488Z",
     "start_time": "2025-07-23T12:36:32.464368Z"
    },
    "executionInfo": {
     "elapsed": 48,
     "status": "ok",
     "timestamp": 1753149850279,
     "user": {
      "displayName": "고강태 강사",
      "userId": "11816854931407731745"
     },
     "user_tz": -540
    },
    "id": "2nCYGRn8E5t5"
   },
   "outputs": [],
   "source": [
    "expr = tf.matmul(X, W) + b"
   ]
  },
  {
   "cell_type": "code",
   "execution_count": 275,
   "metadata": {
    "ExecuteTime": {
     "end_time": "2025-07-23T12:36:32.495222Z",
     "start_time": "2025-07-23T12:36:32.492761Z"
    },
    "colab": {
     "base_uri": "https://localhost:8080/"
    },
    "executionInfo": {
     "elapsed": 53,
     "status": "ok",
     "timestamp": 1753149851614,
     "user": {
      "displayName": "고강태 강사",
      "userId": "11816854931407731745"
     },
     "user_tz": -540
    },
    "id": "oQ-0U2BliMHx",
    "outputId": "f2025c6c-859f-4d2b-b7ec-2502991fd141"
   },
   "outputs": [
    {
     "data": {
      "text/plain": [
       "<tf.Tensor: shape=(2, 2), dtype=float32, numpy=\n",
       "array([[ 0.06048299, -0.63683164],\n",
       "       [ 0.4728111 ,  0.22078586]], dtype=float32)>"
      ]
     },
     "execution_count": 275,
     "metadata": {},
     "output_type": "execute_result"
    }
   ],
   "source": [
    "expr"
   ]
  },
  {
   "cell_type": "code",
   "execution_count": 276,
   "metadata": {
    "ExecuteTime": {
     "end_time": "2025-07-23T12:36:32.554810Z",
     "start_time": "2025-07-23T12:36:32.550269Z"
    },
    "colab": {
     "base_uri": "https://localhost:8080/"
    },
    "executionInfo": {
     "elapsed": 36,
     "status": "ok",
     "timestamp": 1753149870616,
     "user": {
      "displayName": "고강태 강사",
      "userId": "11816854931407731745"
     },
     "user_tz": -540
    },
    "id": "GO6jgptLE5t5",
    "outputId": "e67c5f1f-2da3-4a74-8bf2-7c35359d8603"
   },
   "outputs": [
    {
     "data": {
      "text/plain": [
       "array([[ 0.06048299, -0.63683164],\n",
       "       [ 0.4728111 ,  0.22078586]], dtype=float32)"
      ]
     },
     "execution_count": 276,
     "metadata": {},
     "output_type": "execute_result"
    }
   ],
   "source": [
    "expr.numpy()"
   ]
  },
  {
   "cell_type": "markdown",
   "metadata": {
    "id": "Wvx4l3B1iMHx"
   },
   "source": [
    "### 실습: 변수와 concat 함수 사용"
   ]
  },
  {
   "cell_type": "code",
   "execution_count": 277,
   "metadata": {
    "ExecuteTime": {
     "end_time": "2025-07-23T12:36:32.668437Z",
     "start_time": "2025-07-23T12:36:32.665968Z"
    },
    "executionInfo": {
     "elapsed": 63,
     "status": "ok",
     "timestamp": 1753149887273,
     "user": {
      "displayName": "고강태 강사",
      "userId": "11816854931407731745"
     },
     "user_tz": -540
    },
    "id": "ScdAn9hjE5t6"
   },
   "outputs": [],
   "source": [
    "# Making a constant tensor A, that does not change\n",
    "A = tf.constant([[3, 2],\n",
    "                 [5, 2]])\n",
    "\n",
    "# Making a Variable tensor VA, which can change. Notice it's .Variable\n",
    "VA = tf.Variable([[3, 2],\n",
    "                 [5, 2]])\n",
    "\n",
    "# Making another tensor B\n",
    "B = tf.constant([[9, 5],\n",
    "                 [1, 3]])"
   ]
  },
  {
   "cell_type": "code",
   "execution_count": 278,
   "metadata": {
    "ExecuteTime": {
     "end_time": "2025-07-23T12:36:32.763800Z",
     "start_time": "2025-07-23T12:36:32.761851Z"
    },
    "id": "kldl9Wb0E5t6",
    "outputId": "03db249e-5dde-48fc-9b74-465d2087b371"
   },
   "outputs": [
    {
     "name": "stdout",
     "output_type": "stream",
     "text": [
      "Adding B's columns to A:\n",
      "[[3 2 9 5]\n",
      " [5 2 1 3]]\n"
     ]
    }
   ],
   "source": [
    "# Concatenate columns\n",
    "AB_concatenated = tf.concat(values=[A, B], axis=1)\n",
    "\n",
    "print(('Adding B\\'s columns to A:\\n{0}').format( AB_concatenated.numpy()))"
   ]
  },
  {
   "cell_type": "code",
   "execution_count": 279,
   "metadata": {
    "ExecuteTime": {
     "end_time": "2025-07-23T12:36:32.808946Z",
     "start_time": "2025-07-23T12:36:32.806605Z"
    },
    "id": "87E6gsEWE5t6",
    "outputId": "e01cad42-08ec-401b-b5d6-d55eb0c800d6"
   },
   "outputs": [
    {
     "name": "stdout",
     "output_type": "stream",
     "text": [
      "\n",
      "Adding B's rows to A:\n",
      "[[3 2]\n",
      " [5 2]\n",
      " [9 5]\n",
      " [1 3]]\n"
     ]
    }
   ],
   "source": [
    "# Concatenate rows\n",
    "AB_concatenated = tf.concat(values=[A, B], axis=0)\n",
    "\n",
    "print(('\\nAdding B\\'s rows to A:\\n{0}').format( AB_concatenated.numpy()))"
   ]
  },
  {
   "cell_type": "markdown",
   "metadata": {
    "id": "vLknmdDTiMHy"
   },
   "source": [
    "### reshape"
   ]
  },
  {
   "cell_type": "code",
   "execution_count": 280,
   "metadata": {
    "ExecuteTime": {
     "end_time": "2025-07-23T12:36:32.852540Z",
     "start_time": "2025-07-23T12:36:32.850480Z"
    },
    "executionInfo": {
     "elapsed": 32,
     "status": "ok",
     "timestamp": 1753149934075,
     "user": {
      "displayName": "고강태 강사",
      "userId": "11816854931407731745"
     },
     "user_tz": -540
    },
    "id": "nj12dKMJE5t8"
   },
   "outputs": [],
   "source": [
    "# Making a tensor for reshaping\n",
    "tensor = tf.constant([[3, 2],\n",
    "                      [5, 2],\n",
    "                      [9, 5],\n",
    "                      [1, 3]])"
   ]
  },
  {
   "cell_type": "code",
   "execution_count": 281,
   "metadata": {
    "ExecuteTime": {
     "end_time": "2025-07-23T12:36:32.882666Z",
     "start_time": "2025-07-23T12:36:32.879325Z"
    },
    "colab": {
     "base_uri": "https://localhost:8080/"
    },
    "executionInfo": {
     "elapsed": 17,
     "status": "ok",
     "timestamp": 1753149936355,
     "user": {
      "displayName": "고강태 강사",
      "userId": "11816854931407731745"
     },
     "user_tz": -540
    },
    "id": "i-ufX8QUE5t8",
    "outputId": "a5ab7492-c46e-42f8-e077-c53d4cdea2df"
   },
   "outputs": [
    {
     "data": {
      "text/plain": [
       "<tf.Tensor: shape=(4, 2), dtype=int32, numpy=\n",
       "array([[3, 2],\n",
       "       [5, 2],\n",
       "       [9, 5],\n",
       "       [1, 3]], dtype=int32)>"
      ]
     },
     "execution_count": 281,
     "metadata": {},
     "output_type": "execute_result"
    }
   ],
   "source": [
    "tensor"
   ]
  },
  {
   "cell_type": "code",
   "execution_count": 282,
   "metadata": {
    "ExecuteTime": {
     "end_time": "2025-07-23T12:36:32.932978Z",
     "start_time": "2025-07-23T12:36:32.930570Z"
    },
    "colab": {
     "base_uri": "https://localhost:8080/"
    },
    "executionInfo": {
     "elapsed": 48,
     "status": "ok",
     "timestamp": 1753149946629,
     "user": {
      "displayName": "고강태 강사",
      "userId": "11816854931407731745"
     },
     "user_tz": -540
    },
    "id": "0L9AfO6KE5t8",
    "outputId": "576f3dbc-d0fa-4542-bc19-92526f6cac86"
   },
   "outputs": [
    {
     "name": "stdout",
     "output_type": "stream",
     "text": [
      "Tensor BEFORE reshape:\n",
      "[[3 2]\n",
      " [5 2]\n",
      " [9 5]\n",
      " [1 3]]\n",
      "\n",
      "Tensor AFTER reshape:\n",
      "[[3 2 5 2 9 5 1 3]]\n"
     ]
    }
   ],
   "source": [
    "# Reshaping the tensor into a shape of: shape = [rows, columns]\n",
    "reshaped_tensor = tf.reshape(tensor = tensor,\n",
    "                             shape = [1, 8])\n",
    "\n",
    "print(('Tensor BEFORE reshape:\\n{0}').format(tensor.numpy()))\n",
    "print(('\\nTensor AFTER reshape:\\n{0}').format(reshaped_tensor.numpy()))"
   ]
  },
  {
   "cell_type": "code",
   "execution_count": 283,
   "metadata": {
    "ExecuteTime": {
     "end_time": "2025-07-23T12:36:33.036542Z",
     "start_time": "2025-07-23T12:36:33.033929Z"
    },
    "colab": {
     "base_uri": "https://localhost:8080/"
    },
    "executionInfo": {
     "elapsed": 38,
     "status": "ok",
     "timestamp": 1753149971832,
     "user": {
      "displayName": "고강태 강사",
      "userId": "11816854931407731745"
     },
     "user_tz": -540
    },
    "id": "7RKYnAZ-E5t8",
    "outputId": "ccb58644-96c3-40af-d23b-ae47059ee670"
   },
   "outputs": [
    {
     "data": {
      "text/plain": [
       "<tf.Tensor: shape=(1, 8), dtype=int32, numpy=array([[3, 2, 5, 2, 9, 5, 1, 3]], dtype=int32)>"
      ]
     },
     "execution_count": 283,
     "metadata": {},
     "output_type": "execute_result"
    }
   ],
   "source": [
    "tf.reshape(tensor = tensor,\n",
    "           shape = [-1, 8])"
   ]
  },
  {
   "cell_type": "markdown",
   "metadata": {
    "id": "SlHdwHY5iMHy"
   },
   "source": [
    "### 변수형 변경: cast"
   ]
  },
  {
   "cell_type": "code",
   "execution_count": 284,
   "metadata": {
    "ExecuteTime": {
     "end_time": "2025-07-23T12:36:33.100527Z",
     "start_time": "2025-07-23T12:36:33.098407Z"
    },
    "executionInfo": {
     "elapsed": 8,
     "status": "ok",
     "timestamp": 1753149992013,
     "user": {
      "displayName": "고강태 강사",
      "userId": "11816854931407731745"
     },
     "user_tz": -540
    },
    "id": "08Z8TRU34eRF"
   },
   "outputs": [],
   "source": [
    "# Making a tensor\n",
    "tensor = tf.constant([[3.1, 2.8],\n",
    "                      [5.2, 2.3],\n",
    "                      [9.7, 5.5],\n",
    "                      [1.1, 3.4]],\n",
    "                      dtype=tf.float32)\n"
   ]
  },
  {
   "cell_type": "code",
   "execution_count": 285,
   "metadata": {
    "ExecuteTime": {
     "end_time": "2025-07-23T12:36:33.150438Z",
     "start_time": "2025-07-23T12:36:33.147535Z"
    },
    "colab": {
     "base_uri": "https://localhost:8080/"
    },
    "executionInfo": {
     "elapsed": 40,
     "status": "ok",
     "timestamp": 1753150002764,
     "user": {
      "displayName": "고강태 강사",
      "userId": "11816854931407731745"
     },
     "user_tz": -540
    },
    "id": "rXYLzX8fE5t8",
    "outputId": "79f9966c-705f-4adb-90b0-bf3939dbb36a"
   },
   "outputs": [
    {
     "name": "stdout",
     "output_type": "stream",
     "text": [
      "Tensor with floats:\n",
      "[[3.1 2.8]\n",
      " [5.2 2.3]\n",
      " [9.7 5.5]\n",
      " [1.1 3.4]]\n",
      "\n",
      "Tensor cast from float to int (just remove the decimal, no rounding):\n",
      "[[3 2]\n",
      " [5 2]\n",
      " [9 5]\n",
      " [1 3]]\n"
     ]
    }
   ],
   "source": [
    "tensor_as_int = tf.cast(tensor, tf.int32)\n",
    "\n",
    "print(('Tensor with floats:\\n{0}').format(tensor.numpy()))\n",
    "print(('\\nTensor cast from float to int (just remove the decimal, no rounding):\\n{0}').format(tensor_as_int.numpy()))"
   ]
  },
  {
   "cell_type": "markdown",
   "metadata": {
    "id": "GMpAkniBiMHz"
   },
   "source": [
    "### (참고) TensorFlow 1.x과 2.0의 Eager Execution\n",
    "\n",
    "TensorFlow 1.x의 Graph 와 Session 은 TensorFlow 2.x에서는 Eager Execution으로 지원하고 있다.\n",
    "\n",
    "- TensorFlow 1.x에서는 모든 연산이 **그래프 (Graph)**라는 정적 계산 그래프를 먼저 정의한 후, 세션 (Session) 내에서 실행되는 방식이었습니다. 즉, \"모델을 먼저 설계하고, 나중에 데이터를 넣어 실행\"하는 방식이었다.\n",
    "\n",
    "  - 그래프: 연산 노드(Operation)와 텐서 노드(Tensor)로 구성된 일종의 설계도입니다.\n",
    "  - 세션: 그래프를 실행하고 실제 연산을 수행하는 런타임 환경입니다.\n",
    "\n",
    "TensorFlow 2.x에서는 **Eager Execution (즉시 실행)**이 기본이 되면서 이러한 그래프-세션 개념이 추상화되고 사용자가 직접적으로 다룰 필요가 없어졌습니다. 코드를 작성하는 즉시 연산이 실행되어 마치 일반적인 Python 코드처럼 느껴집니다. 이는 디버깅을 훨씬 쉽게 만들고 개발 속도를 높여줍니다. 하지만 내부적으로는 여전히 tf.function과 같은 기능을 통해 그래프 최적화가 이루어지고 있습니다.\n"
   ]
  },
  {
   "cell_type": "markdown",
   "metadata": {
    "id": "OKYSjl0QiMHz"
   },
   "source": [
    "- 플래이스 홀더와 세션이 사라짐"
   ]
  },
  {
   "cell_type": "code",
   "execution_count": 286,
   "metadata": {
    "ExecuteTime": {
     "end_time": "2025-07-23T12:36:33.197007Z",
     "start_time": "2025-07-23T12:36:33.195221Z"
    },
    "id": "qhYq9X_miMHz",
    "outputId": "bfc17d19-ad6c-4e60-f7db-7d1a8c9f9130"
   },
   "outputs": [
    {
     "name": "stdout",
     "output_type": "stream",
     "text": [
      "module 'tensorflow' has no attribute 'placeholder'\n"
     ]
    }
   ],
   "source": [
    "try :\n",
    "    tf.placeholder('float')\n",
    "\n",
    "except Exception as e :\n",
    "    print(e)"
   ]
  },
  {
   "cell_type": "code",
   "execution_count": 287,
   "metadata": {
    "ExecuteTime": {
     "end_time": "2025-07-23T12:36:33.234093Z",
     "start_time": "2025-07-23T12:36:33.232390Z"
    },
    "id": "9t8W1HuTiMHz",
    "outputId": "b54fdd96-da60-4474-8803-e58c4c5a3205"
   },
   "outputs": [
    {
     "name": "stdout",
     "output_type": "stream",
     "text": [
      "module 'tensorflow' has no attribute 'Session'\n"
     ]
    }
   ],
   "source": [
    "try :\n",
    "    tf.Session()\n",
    "except Exception as e :\n",
    "    print(e)"
   ]
  },
  {
   "cell_type": "code",
   "execution_count": 331,
   "metadata": {
    "ExecuteTime": {
     "end_time": "2025-07-23T12:56:04.412397Z",
     "start_time": "2025-07-23T12:56:04.407013Z"
    },
    "id": "0BTik23liMHz",
    "outputId": "8dc1aef1-fd94-498e-8bb3-f9e941128337"
   },
   "outputs": [
    {
     "name": "stdout",
     "output_type": "stream",
     "text": [
      "Eager execution is enabled (running operations immediately)\n",
      "\n",
      "Turn eager execution off by running: \n",
      "from tensorflow.python.framework.ops import disable_eager_execution\n",
      "disable_eager_execution()\n"
     ]
    }
   ],
   "source": [
    "if(tf.executing_eagerly()):  # 2.1x 이상\n",
    "    print('Eager execution is enabled (running operations immediately)\\n')\n",
    "    print(('Turn eager execution off by running: \\n{0}\\n{1}').format(''\n",
    "                                                                     'from tensorflow.python.framework.ops import disable_eager_execution',\n",
    "                                                                     'disable_eager_execution()'))\n",
    "else:\n",
    "    print('You are not running eager execution. TensorFlow version >= 2.0.0'\n",
    "          'has eager execution enabled by default.')\n",
    "    print(('Turn on eager execution by running: \\n\\n{0}\\n\\nOr upgrade '\n",
    "           'your tensorflow version by running:\\n\\n{1}').format(\n",
    "           'tf.compat.v1.enable_eager_execution()',\n",
    "           '!pip install --upgrade tensorflow\\n'\n",
    "           '!pip install --upgrade tensorflow-gpu'))"
   ]
  },
  {
   "cell_type": "markdown",
   "metadata": {
    "id": "cflUAxfxiMHz"
   },
   "source": [
    "# 4. 행렬\n",
    "\n",
    "- 영행렬 일행렬\n",
    "- 채움\n",
    "- 전치행렬\n",
    "- 대각행렬\n",
    "- 항등행렬"
   ]
  },
  {
   "cell_type": "markdown",
   "metadata": {
    "id": "IYMn6PNbiMHz"
   },
   "source": [
    "### 영행렬, 일행렬\n",
    " -  zeros()\n",
    " -  ones()"
   ]
  },
  {
   "cell_type": "code",
   "execution_count": 289,
   "metadata": {
    "ExecuteTime": {
     "end_time": "2025-07-23T12:36:33.297902Z",
     "start_time": "2025-07-23T12:36:33.295691Z"
    },
    "colab": {
     "base_uri": "https://localhost:8080/"
    },
    "executionInfo": {
     "elapsed": 16,
     "status": "ok",
     "timestamp": 1753150084419,
     "user": {
      "displayName": "고강태 강사",
      "userId": "11816854931407731745"
     },
     "user_tz": -540
    },
    "id": "Ynaw29DwiMHz",
    "outputId": "f4619b96-943a-4801-dac5-a918a0519d4d"
   },
   "outputs": [
    {
     "name": "stdout",
     "output_type": "stream",
     "text": [
      "Tensor full of zeros as int32, 3 rows and 4 columns:\n",
      "[[0 0 0 0]\n",
      " [0 0 0 0]\n",
      " [0 0 0 0]]\n"
     ]
    }
   ],
   "source": [
    "# Making a tensor filled with zeros. shape=[rows, columns]\n",
    "tensor = tf.zeros(shape=[3, 4], dtype=tf.int32)\n",
    "print(('Tensor full of zeros as int32, 3 rows and 4 columns:\\n{0}').format(tensor.numpy()))"
   ]
  },
  {
   "cell_type": "code",
   "execution_count": 290,
   "metadata": {
    "ExecuteTime": {
     "end_time": "2025-07-23T12:36:33.342739Z",
     "start_time": "2025-07-23T12:36:33.340378Z"
    },
    "colab": {
     "base_uri": "https://localhost:8080/"
    },
    "executionInfo": {
     "elapsed": 33,
     "status": "ok",
     "timestamp": 1753150128349,
     "user": {
      "displayName": "고강태 강사",
      "userId": "11816854931407731745"
     },
     "user_tz": -540
    },
    "id": "GoLqTmx048LL",
    "outputId": "3a18a513-ff5b-4029-b11e-ec0538ec889b"
   },
   "outputs": [
    {
     "data": {
      "text/plain": [
       "<tf.Tensor: shape=(3, 4), dtype=int32, numpy=\n",
       "array([[0, 0, 0, 0],\n",
       "       [0, 0, 0, 0],\n",
       "       [0, 0, 0, 0]], dtype=int32)>"
      ]
     },
     "execution_count": 290,
     "metadata": {},
     "output_type": "execute_result"
    }
   ],
   "source": [
    "tf.zeros(shape=[3, 4], dtype=np.int32)"
   ]
  },
  {
   "cell_type": "code",
   "execution_count": 291,
   "metadata": {
    "ExecuteTime": {
     "end_time": "2025-07-23T12:36:33.400503Z",
     "start_time": "2025-07-23T12:36:33.396369Z"
    },
    "colab": {
     "base_uri": "https://localhost:8080/"
    },
    "executionInfo": {
     "elapsed": 145,
     "status": "ok",
     "timestamp": 1753150089506,
     "user": {
      "displayName": "고강태 강사",
      "userId": "11816854931407731745"
     },
     "user_tz": -540
    },
    "id": "uuWtR7criMHz",
    "outputId": "536fb3ea-2adb-4d83-fdbc-7128bc39238f"
   },
   "outputs": [
    {
     "name": "stdout",
     "output_type": "stream",
     "text": [
      "\n",
      "Tensor full of ones as float32, 5 rows and 3 columns:\n",
      "[[1. 1. 1.]\n",
      " [1. 1. 1.]\n",
      " [1. 1. 1.]\n",
      " [1. 1. 1.]\n",
      " [1. 1. 1.]]\n"
     ]
    }
   ],
   "source": [
    "# Making a tensor filled with zeros with data type of float32\n",
    "tensor = tf.ones(shape=[5, 3], dtype=tf.float32)\n",
    "print(('\\nTensor full of ones as float32, 5 rows and 3 columns:\\n{0}').format(tensor.numpy()))"
   ]
  },
  {
   "cell_type": "markdown",
   "metadata": {
    "id": "omMLAJ_0iMH0"
   },
   "source": [
    "### fill()"
   ]
  },
  {
   "cell_type": "code",
   "execution_count": 292,
   "metadata": {
    "ExecuteTime": {
     "end_time": "2025-07-23T12:36:33.451582Z",
     "start_time": "2025-07-23T12:36:33.449021Z"
    },
    "colab": {
     "base_uri": "https://localhost:8080/"
    },
    "executionInfo": {
     "elapsed": 34,
     "status": "ok",
     "timestamp": 1753150176889,
     "user": {
      "displayName": "고강태 강사",
      "userId": "11816854931407731745"
     },
     "user_tz": -540
    },
    "id": "qto3t5ApiMH0",
    "outputId": "5e0f9fbd-8037-462d-c722-7936fe02aa38"
   },
   "outputs": [
    {
     "data": {
      "text/plain": [
       "<tf.Tensor: shape=(10, 10), dtype=string, numpy=\n",
       "array([[b'A', b'A', b'A', b'A', b'A', b'A', b'A', b'A', b'A', b'A'],\n",
       "       [b'A', b'A', b'A', b'A', b'A', b'A', b'A', b'A', b'A', b'A'],\n",
       "       [b'A', b'A', b'A', b'A', b'A', b'A', b'A', b'A', b'A', b'A'],\n",
       "       [b'A', b'A', b'A', b'A', b'A', b'A', b'A', b'A', b'A', b'A'],\n",
       "       [b'A', b'A', b'A', b'A', b'A', b'A', b'A', b'A', b'A', b'A'],\n",
       "       [b'A', b'A', b'A', b'A', b'A', b'A', b'A', b'A', b'A', b'A'],\n",
       "       [b'A', b'A', b'A', b'A', b'A', b'A', b'A', b'A', b'A', b'A'],\n",
       "       [b'A', b'A', b'A', b'A', b'A', b'A', b'A', b'A', b'A', b'A'],\n",
       "       [b'A', b'A', b'A', b'A', b'A', b'A', b'A', b'A', b'A', b'A'],\n",
       "       [b'A', b'A', b'A', b'A', b'A', b'A', b'A', b'A', b'A', b'A']],\n",
       "      dtype=object)>"
      ]
     },
     "execution_count": 292,
     "metadata": {},
     "output_type": "execute_result"
    }
   ],
   "source": [
    "tensor_fill = tf.fill([10,10],\"A\")\n",
    "tensor_fill"
   ]
  },
  {
   "cell_type": "code",
   "execution_count": 293,
   "metadata": {
    "ExecuteTime": {
     "end_time": "2025-07-23T12:36:33.525344Z",
     "start_time": "2025-07-23T12:36:33.521176Z"
    },
    "id": "0ngR4_sEiMH0",
    "outputId": "61a382d7-1b62-42a1-dc58-a7ea67b2457b"
   },
   "outputs": [
    {
     "data": {
      "text/plain": [
       "<tf.Tensor: shape=(10, 10), dtype=float32, numpy=\n",
       "array([[1., 1., 1., 1., 1., 1., 1., 1., 1., 1.],\n",
       "       [1., 1., 1., 1., 1., 1., 1., 1., 1., 1.],\n",
       "       [1., 1., 1., 1., 1., 1., 1., 1., 1., 1.],\n",
       "       [1., 1., 1., 1., 1., 1., 1., 1., 1., 1.],\n",
       "       [1., 1., 1., 1., 1., 1., 1., 1., 1., 1.],\n",
       "       [1., 1., 1., 1., 1., 1., 1., 1., 1., 1.],\n",
       "       [1., 1., 1., 1., 1., 1., 1., 1., 1., 1.],\n",
       "       [1., 1., 1., 1., 1., 1., 1., 1., 1., 1.],\n",
       "       [1., 1., 1., 1., 1., 1., 1., 1., 1., 1.],\n",
       "       [1., 1., 1., 1., 1., 1., 1., 1., 1., 1.]], dtype=float32)>"
      ]
     },
     "execution_count": 293,
     "metadata": {},
     "output_type": "execute_result"
    }
   ],
   "source": [
    "tf.ones([10,10])"
   ]
  },
  {
   "cell_type": "markdown",
   "metadata": {
    "id": "3_d3PZA3iMH0"
   },
   "source": [
    "### 전치행렬\n",
    "Transpose"
   ]
  },
  {
   "cell_type": "code",
   "execution_count": 294,
   "metadata": {
    "ExecuteTime": {
     "end_time": "2025-07-23T12:36:33.800208Z",
     "start_time": "2025-07-23T12:36:33.797216Z"
    },
    "colab": {
     "base_uri": "https://localhost:8080/"
    },
    "executionInfo": {
     "elapsed": 84,
     "status": "ok",
     "timestamp": 1753150212473,
     "user": {
      "displayName": "고강태 강사",
      "userId": "11816854931407731745"
     },
     "user_tz": -540
    },
    "id": "1DW-uYDwE5t8",
    "outputId": "380a017a-8d00-4d6d-caa9-e6f943b86670"
   },
   "outputs": [
    {
     "name": "stdout",
     "output_type": "stream",
     "text": [
      "The transposed matrix A:\n",
      "[[3 1]\n",
      " [7 9]]\n"
     ]
    }
   ],
   "source": [
    "# Some Matrix A\n",
    "A = tf.constant([[3, 7],\n",
    "                 [1, 9]])\n",
    "\n",
    "A = tf.transpose(A)\n",
    "\n",
    "print(('The transposed matrix A:\\n{0}').format(A))"
   ]
  },
  {
   "cell_type": "code",
   "execution_count": 295,
   "metadata": {
    "ExecuteTime": {
     "end_time": "2025-07-23T12:36:33.850868Z",
     "start_time": "2025-07-23T12:36:33.848590Z"
    },
    "colab": {
     "base_uri": "https://localhost:8080/"
    },
    "executionInfo": {
     "elapsed": 18,
     "status": "ok",
     "timestamp": 1753150223424,
     "user": {
      "displayName": "고강태 강사",
      "userId": "11816854931407731745"
     },
     "user_tz": -540
    },
    "id": "br22ONKGiMH0",
    "outputId": "f9077d3a-5e77-46a2-a538-53f55db98fe4"
   },
   "outputs": [
    {
     "data": {
      "text/plain": [
       "<tf.Tensor: shape=(2, 3), dtype=int32, numpy=\n",
       "array([[1, 2, 3],\n",
       "       [4, 5, 6]], dtype=int32)>"
      ]
     },
     "execution_count": 295,
     "metadata": {},
     "output_type": "execute_result"
    }
   ],
   "source": [
    "E = tf.constant([[1, 2, 3], [4, 5, 6]])\n",
    "E"
   ]
  },
  {
   "cell_type": "code",
   "execution_count": 296,
   "metadata": {
    "ExecuteTime": {
     "end_time": "2025-07-23T12:36:33.903454Z",
     "start_time": "2025-07-23T12:36:33.900325Z"
    },
    "colab": {
     "base_uri": "https://localhost:8080/"
    },
    "executionInfo": {
     "elapsed": 81,
     "status": "ok",
     "timestamp": 1753150226505,
     "user": {
      "displayName": "고강태 강사",
      "userId": "11816854931407731745"
     },
     "user_tz": -540
    },
    "id": "agKVHjyFiMH0",
    "outputId": "65d789b3-d481-4a0e-de31-c4685c8a629f"
   },
   "outputs": [
    {
     "data": {
      "text/plain": [
       "<tf.Tensor: shape=(3, 2), dtype=int32, numpy=\n",
       "array([[1, 4],\n",
       "       [2, 5],\n",
       "       [3, 6]], dtype=int32)>"
      ]
     },
     "execution_count": 296,
     "metadata": {},
     "output_type": "execute_result"
    }
   ],
   "source": [
    "# Transposing Matrix E\n",
    "transpose_E = tf.transpose(E, name=\"transposeE\")\n",
    "transpose_E"
   ]
  },
  {
   "cell_type": "markdown",
   "metadata": {
    "id": "gMe-KrsSiMH0"
   },
   "source": [
    "### 대각행렬"
   ]
  },
  {
   "cell_type": "code",
   "execution_count": 297,
   "metadata": {
    "ExecuteTime": {
     "end_time": "2025-07-23T12:36:33.999162Z",
     "start_time": "2025-07-23T12:36:33.997062Z"
    },
    "colab": {
     "base_uri": "https://localhost:8080/"
    },
    "executionInfo": {
     "elapsed": 32,
     "status": "ok",
     "timestamp": 1753150237327,
     "user": {
      "displayName": "고강태 강사",
      "userId": "11816854931407731745"
     },
     "user_tz": -540
    },
    "id": "e488eiMliMH0",
    "outputId": "d8162bcc-5bf7-4ed2-c919-df5313d4142e"
   },
   "outputs": [
    {
     "name": "stdout",
     "output_type": "stream",
     "text": [
      "대각 행렬:\n",
      "[[1 0 0]\n",
      " [0 2 0]\n",
      " [0 0 3]]\n"
     ]
    }
   ],
   "source": [
    "# 주 대각선 원소 정의\n",
    "diagonal_elements = tf.constant([1, 2, 3])\n",
    "\n",
    "# 대각 행렬 생성\n",
    "diagonal_matrix = tf.linalg.diag(diagonal_elements)\n",
    "\n",
    "print(\"대각 행렬:\")\n",
    "print(diagonal_matrix.numpy())"
   ]
  },
  {
   "cell_type": "markdown",
   "metadata": {
    "id": "QHByueMtiMH0"
   },
   "source": [
    "### Identity Matrix\n",
    "\n",
    "항등행렬"
   ]
  },
  {
   "cell_type": "code",
   "execution_count": 298,
   "metadata": {
    "ExecuteTime": {
     "end_time": "2025-07-23T12:36:34.109514Z",
     "start_time": "2025-07-23T12:36:34.106650Z"
    },
    "colab": {
     "base_uri": "https://localhost:8080/"
    },
    "executionInfo": {
     "elapsed": 36,
     "status": "ok",
     "timestamp": 1753150266882,
     "user": {
      "displayName": "고강태 강사",
      "userId": "11816854931407731745"
     },
     "user_tz": -540
    },
    "id": "M6tAGWeNE5t9",
    "outputId": "b12a3411-9ad4-4930-a42e-1c6950484478"
   },
   "outputs": [
    {
     "name": "stdout",
     "output_type": "stream",
     "text": [
      "in tensor A:\n",
      "3 rows\n",
      "2 columns\n",
      "\n",
      "identity matrix of A:\n",
      "[[1 0]\n",
      " [0 1]\n",
      " [0 0]]\n"
     ]
    }
   ],
   "source": [
    "# Some Matrix A\n",
    "A = tf.constant([[3, 7],\n",
    "                 [1, 9],\n",
    "                 [2, 5]])\n",
    "\n",
    "# Get number of dimensions\n",
    "rows, columns = A.shape\n",
    "print(('in tensor A:\\n{0} rows\\n{1} columns').format(rows, columns))\n",
    "\n",
    "# Making identity matrix\n",
    "A_identity = tf.eye(num_rows = rows,\n",
    "                    num_columns = columns,\n",
    "                    dtype = tf.int32)\n",
    "print(('\\nidentity matrix of A:\\n{0}').format(\n",
    "    A_identity.numpy()))"
   ]
  },
  {
   "cell_type": "markdown",
   "metadata": {
    "id": "QT6MtDDWiMH1"
   },
   "source": [
    "## 행렬의 연산\n",
    "\n",
    "- 브로드캐스팅\n",
    "- 행렬 곱셈: tf.matmul(a, b) 또는 a @ b"
   ]
  },
  {
   "cell_type": "markdown",
   "metadata": {
    "id": "m5z-sTVJiMH1"
   },
   "source": [
    "### 브로드캐스팅\n",
    "\n",
    "Element-wise broadcasting 은 크기가 다른 텐서 간의 연산을 가능하게 하는 메커니즘으로 NumPy의 브로드캐스팅 규칙과 유사하다. 작은 텐서가 큰 텐서의 형태에 맞춰 자동으로 확장되어 연산이 수행된다.\n",
    "\n",
    " - NumPy, Keras, Theano, Tensorflow 의 원소별 곱셈을 `*` 연산자를 사용한다.\n"
   ]
  },
  {
   "cell_type": "code",
   "execution_count": 299,
   "metadata": {
    "ExecuteTime": {
     "end_time": "2025-07-23T12:36:34.143182Z",
     "start_time": "2025-07-23T12:36:34.140626Z"
    },
    "colab": {
     "base_uri": "https://localhost:8080/"
    },
    "executionInfo": {
     "elapsed": 35,
     "status": "ok",
     "timestamp": 1753150289748,
     "user": {
      "displayName": "고강태 강사",
      "userId": "11816854931407731745"
     },
     "user_tz": -540
    },
    "id": "XJUhMLteiMH1",
    "outputId": "dace9d04-1103-48e0-9d4b-1bc5222107e4"
   },
   "outputs": [
    {
     "data": {
      "text/plain": [
       "<tf.Tensor: shape=(2, 2), dtype=int32, numpy=\n",
       "array([[ 8,  7],\n",
       "       [10,  7]], dtype=int32)>"
      ]
     },
     "execution_count": 299,
     "metadata": {},
     "output_type": "execute_result"
    }
   ],
   "source": [
    "A = tf.constant([[3, 2],\n",
    "                 [5, 2]])\n",
    "A + 5"
   ]
  },
  {
   "cell_type": "code",
   "execution_count": 300,
   "metadata": {
    "ExecuteTime": {
     "end_time": "2025-07-23T12:36:34.199297Z",
     "start_time": "2025-07-23T12:36:34.192542Z"
    },
    "colab": {
     "base_uri": "https://localhost:8080/"
    },
    "executionInfo": {
     "elapsed": 36,
     "status": "ok",
     "timestamp": 1753150317178,
     "user": {
      "displayName": "고강태 강사",
      "userId": "11816854931407731745"
     },
     "user_tz": -540
    },
    "id": "DKpy8zqm5ttN",
    "outputId": "72a56e2a-d575-4e9a-8476-493ca96fda6f"
   },
   "outputs": [
    {
     "data": {
      "text/plain": [
       "<tf.Tensor: shape=(2, 2), dtype=int32, numpy=\n",
       "array([[15, 10],\n",
       "       [25, 10]], dtype=int32)>"
      ]
     },
     "execution_count": 300,
     "metadata": {},
     "output_type": "execute_result"
    }
   ],
   "source": [
    "A * 5"
   ]
  },
  {
   "cell_type": "markdown",
   "metadata": {
    "id": "UH37RlCtiMH1"
   },
   "source": [
    "multiply 등 연산 함수를 이용할 수 있다."
   ]
  },
  {
   "cell_type": "code",
   "execution_count": 301,
   "metadata": {
    "ExecuteTime": {
     "end_time": "2025-07-23T12:36:34.360887Z",
     "start_time": "2025-07-23T12:36:34.358549Z"
    },
    "colab": {
     "base_uri": "https://localhost:8080/"
    },
    "executionInfo": {
     "elapsed": 50,
     "status": "ok",
     "timestamp": 1753150322439,
     "user": {
      "displayName": "고강태 강사",
      "userId": "11816854931407731745"
     },
     "user_tz": -540
    },
    "id": "hbRDA-kHiMH1",
    "outputId": "ff983951-e684-40be-ad83-352f576b68be"
   },
   "outputs": [
    {
     "data": {
      "text/plain": [
       "<tf.Tensor: shape=(2, 2), dtype=int32, numpy=\n",
       "array([[15, 10],\n",
       "       [25, 10]], dtype=int32)>"
      ]
     },
     "execution_count": 301,
     "metadata": {},
     "output_type": "execute_result"
    }
   ],
   "source": [
    "# Element-wise multiplication\n",
    "Av = tf.multiply(A, 5)\n",
    "Av"
   ]
  },
  {
   "cell_type": "code",
   "execution_count": 302,
   "metadata": {
    "ExecuteTime": {
     "end_time": "2025-07-23T12:36:34.448700Z",
     "start_time": "2025-07-23T12:36:34.444928Z"
    },
    "id": "WNaRBLVfiMH1",
    "outputId": "d9139e2d-1a29-4069-c226-dfeb73c0d5ae"
   },
   "outputs": [
    {
     "data": {
      "text/plain": [
       "<tf.Tensor: shape=(2, 2), dtype=int32, numpy=\n",
       "array([[15, 10],\n",
       "       [10,  4]], dtype=int32)>"
      ]
     },
     "execution_count": 302,
     "metadata": {},
     "output_type": "execute_result"
    }
   ],
   "source": [
    "# Element-wise multiplication\n",
    "v = tf.constant([[5],\n",
    "                 [2]])\n",
    "Av = tf.multiply(A, v)\n",
    "Av"
   ]
  },
  {
   "cell_type": "markdown",
   "metadata": {
    "id": "l-ly7gpaiMH1"
   },
   "source": [
    "### 행렬 내적\n",
    "\n",
    "\n",
    "- 행렬의 내적(dot product)은 tf.matmul(a, b) 또는 a @ b 를 지원\n",
    "\n",
    "> - dot product: 주로 벡터 (1차원) 간의 연산이며, 결과는 스칼라입니다.\n",
    "> - 행렬의 곱셈:\n",
    ">    - tf.multiply()\n",
    ">    - 행렬 (2차원 이상) 간의 연산이며, 결과는 행렬입니다\n"
   ]
  },
  {
   "cell_type": "markdown",
   "metadata": {
    "id": "tK8hJvw2iMH1"
   },
   "source": [
    "\n",
    "  - TensorFlow (및 NumPy)에서 `tf.tensordot` 같은 함수를 사용하거나, 1차원 벡터에 대해 `tf.matmul`을 사용할 경우 내적의 의미로 작동할 수 있습니다.\n",
    "\n"
   ]
  },
  {
   "cell_type": "markdown",
   "metadata": {
    "id": "NbPQsfZ6iMH1"
   },
   "source": [
    "Dot produt (여기서 행렬곱) 계산은\n",
    " - NumPy에서 벡터와 행렬의 내적은 `np.dot()` 함수사용.\n",
    " - Python3.5 이상은 `@`(at이라고 읽는다) 연산자로 계산한다.\n",
    "     - 2차원 배열로 표시한 벡터를 내적했을 때는 결과값이 스칼라가 아닌 2차원 배열이다.\n",
    " - Keras는 keras.dot() 연산 사용.\n",
    " - 텐서플로우는 tf.matmul(x, y) 를 사용한다.\n",
    "\n",
    "<img src='https://i.imgur.com/TahVEIY.png' width=500>"
   ]
  },
  {
   "cell_type": "markdown",
   "metadata": {
    "id": "x4YSYof6iMH1"
   },
   "source": [
    "https://angeloyeo.github.io/2020/09/08/matrix_multiplication.html"
   ]
  },
  {
   "cell_type": "markdown",
   "metadata": {
    "id": "-bSZ7i0yiMH1"
   },
   "source": [
    "**행렬 곱셈 (Matrix Multiplication)**은 수학적으로 정의된 행렬 간의 곱셈 규칙을 따르는 연산입니다. 딥러닝에서 신경망의 레이어 간 계산(입력 벡터와 가중치 행렬의 곱 등)에 가장 많이 사용됩니다.\n"
   ]
  },
  {
   "cell_type": "code",
   "execution_count": 303,
   "metadata": {
    "ExecuteTime": {
     "end_time": "2025-07-23T12:36:34.538655Z",
     "start_time": "2025-07-23T12:36:34.536260Z"
    },
    "colab": {
     "base_uri": "https://localhost:8080/"
    },
    "executionInfo": {
     "elapsed": 21,
     "status": "ok",
     "timestamp": 1753150407777,
     "user": {
      "displayName": "고강태 강사",
      "userId": "11816854931407731745"
     },
     "user_tz": -540
    },
    "id": "Gr76eAWDiMH2",
    "outputId": "532fc71c-f8d1-4e62-9b95-2a65f29540d0"
   },
   "outputs": [
    {
     "name": "stdout",
     "output_type": "stream",
     "text": [
      "Matrix multiplication:\n",
      "[[19 22]\n",
      " [43 50]]\n"
     ]
    }
   ],
   "source": [
    "matrix1 = tf.constant([[1, 2], [3, 4]])\n",
    "matrix2 = tf.constant([[5, 6], [7, 8]])\n",
    "\n",
    "matrix_mult = tf.matmul(matrix1, matrix2)\n",
    "print(f\"Matrix multiplication:\\n{matrix_mult.numpy()}\")"
   ]
  },
  {
   "cell_type": "markdown",
   "metadata": {
    "id": "HJnqDYvhE5t-"
   },
   "source": [
    "# 5. tf.function 그래프 컴파일\n",
    "\n",
    "\n",
    "TensorFlow 2.x의 Eager Execution은 개발 편의성을 높였지만, 파이썬 코드의 인터프리터 오버헤드 때문에 순수 C++로 구현된 TensorFlow 1.x의 정적 그래프 방식보다 속도가 느릴 수 있습니다. **tf.function**은 이 문제를 해결하기 위해 사용됩니다.\n",
    "\n",
    "\n",
    "- https://www.tensorflow.org/guide/intro_to_graphs?hl=ko\n"
   ]
  },
  {
   "cell_type": "markdown",
   "metadata": {
    "id": "QIc5gph0iMH2"
   },
   "source": [
    "#### - `tf.function`의 역할\n",
    "\n",
    " - Python 함수를 호출 가능한 \\*\\*TensorFlow 그래프(TensorFlow Graph)\\*\\*로 컴파일합니다.\n",
    " - 이렇게 컴파일된 그래프는 Python 인터프리터의 간섭 없이 TensorFlow 런타임에서 직접 실행되므로 **성능이 크게 향상**됩니다.\n",
    " - GPU나 TPU 같은 가속기에서도 더 효율적으로 동작합니다.\n",
    " - 모델을 배포할 때 (SavedModel)에도 `tf.function`으로 캡슐화된 코드는 그래프 형태로 저장되어 쉽게 로드하고 실행할 수 있습니다.\n"
   ]
  },
  {
   "cell_type": "markdown",
   "metadata": {
    "id": "Lnom8alIiMH2"
   },
   "source": [
    "## **`tf.function` 사용**:\n",
    "\n",
    "  -  파이썬 함수 위에 데코레이터로 `@tf.function`을 붙이면 됩니다.\n",
    "  - tf.function() 으로 함수를 전달한다\n",
    "  - 첫 호출 시 함수는 그래프로 변환됩니다. 이후 호출부터는 변환된 그래프가 실행됩니다.\n"
   ]
  },
  {
   "cell_type": "code",
   "execution_count": 304,
   "metadata": {
    "ExecuteTime": {
     "end_time": "2025-07-23T12:36:34.605101Z",
     "start_time": "2025-07-23T12:36:34.603596Z"
    },
    "executionInfo": {
     "elapsed": 73,
     "status": "ok",
     "timestamp": 1753150593150,
     "user": {
      "displayName": "고강태 강사",
      "userId": "11816854931407731745"
     },
     "user_tz": -540
    },
    "id": "liQwRRJYiMH2"
   },
   "outputs": [],
   "source": [
    "import tensorflow as tf\n",
    "import time"
   ]
  },
  {
   "cell_type": "markdown",
   "metadata": {
    "id": "Oucwb5jLiMH2"
   },
   "source": [
    "#### - `tf.function` 즉시 사용"
   ]
  },
  {
   "cell_type": "code",
   "execution_count": 305,
   "metadata": {
    "ExecuteTime": {
     "end_time": "2025-07-23T12:36:34.650392Z",
     "start_time": "2025-07-23T12:36:34.647211Z"
    },
    "executionInfo": {
     "elapsed": 2,
     "status": "ok",
     "timestamp": 1753150673831,
     "user": {
      "displayName": "고강태 강사",
      "userId": "11816854931407731745"
     },
     "user_tz": -540
    },
    "id": "v819a45_iMH2"
   },
   "outputs": [],
   "source": [
    "def rms(x, y):\n",
    "    return tf.reduce_mean(tf.multiply(x ** 2, 3) + y)\n",
    "\n",
    "r = tf.function(rms)"
   ]
  },
  {
   "cell_type": "code",
   "execution_count": 306,
   "metadata": {
    "ExecuteTime": {
     "end_time": "2025-07-23T12:36:34.676066Z",
     "start_time": "2025-07-23T12:36:34.674035Z"
    },
    "colab": {
     "base_uri": "https://localhost:8080/"
    },
    "executionInfo": {
     "elapsed": 42,
     "status": "ok",
     "timestamp": 1753150615717,
     "user": {
      "displayName": "고강태 강사",
      "userId": "11816854931407731745"
     },
     "user_tz": -540
    },
    "id": "7JbmDlKEiMH2",
    "outputId": "807af230-f688-4512-d309-237d4f3de035"
   },
   "outputs": [
    {
     "data": {
      "text/plain": [
       "<tensorflow.python.eager.polymorphic_function.polymorphic_function.Function at 0x3e2906370>"
      ]
     },
     "execution_count": 306,
     "metadata": {},
     "output_type": "execute_result"
    }
   ],
   "source": [
    "r"
   ]
  },
  {
   "cell_type": "code",
   "execution_count": 307,
   "metadata": {
    "ExecuteTime": {
     "end_time": "2025-07-23T12:36:34.718521Z",
     "start_time": "2025-07-23T12:36:34.700117Z"
    },
    "colab": {
     "base_uri": "https://localhost:8080/"
    },
    "executionInfo": {
     "elapsed": 712,
     "status": "ok",
     "timestamp": 1753150630116,
     "user": {
      "displayName": "고강태 강사",
      "userId": "11816854931407731745"
     },
     "user_tz": -540
    },
    "id": "LHjij-FkiMH2",
    "outputId": "dfa79c84-5490-4424-a61f-83b652c0ff5c"
   },
   "outputs": [
    {
     "name": "stdout",
     "output_type": "stream",
     "text": [
      "20.0\n"
     ]
    }
   ],
   "source": [
    "x = tf.constant([[2.0, 3.0]])\n",
    "y = tf.constant([[3.0, -2.0]])\n",
    "\n",
    "# `rms()` and `r` will return the same value,\n",
    "# but `r` will be executed as a TensorFlow graph.\n",
    "assert rms(x, y).numpy() == r(x, y).numpy()\n",
    "\n",
    "print(rms(x,y).numpy())"
   ]
  },
  {
   "cell_type": "markdown",
   "metadata": {
    "id": "hvPQkNHfiMH2"
   },
   "source": [
    "#### - 데코레이터 사용"
   ]
  },
  {
   "cell_type": "code",
   "execution_count": 308,
   "metadata": {
    "ExecuteTime": {
     "end_time": "2025-07-23T12:36:34.751143Z",
     "start_time": "2025-07-23T12:36:34.748168Z"
    },
    "executionInfo": {
     "elapsed": 9,
     "status": "ok",
     "timestamp": 1753150690513,
     "user": {
      "displayName": "고강태 강사",
      "userId": "11816854931407731745"
     },
     "user_tz": -540
    },
    "id": "IdYPBeafiMH2"
   },
   "outputs": [],
   "source": [
    "@tf.function\n",
    "def rms2(x, y) :\n",
    "    return tf.reduce_mean(tf.multiply(x ** 2, 3) + y)"
   ]
  },
  {
   "cell_type": "code",
   "execution_count": 309,
   "metadata": {
    "ExecuteTime": {
     "end_time": "2025-07-23T12:36:34.787045Z",
     "start_time": "2025-07-23T12:36:34.761544Z"
    },
    "colab": {
     "base_uri": "https://localhost:8080/"
    },
    "executionInfo": {
     "elapsed": 103,
     "status": "ok",
     "timestamp": 1753150700236,
     "user": {
      "displayName": "고강태 강사",
      "userId": "11816854931407731745"
     },
     "user_tz": -540
    },
    "id": "1tEA94mziMH2",
    "outputId": "613a1fda-7229-4dd2-d027-59ff6df86db9"
   },
   "outputs": [
    {
     "data": {
      "text/plain": [
       "<tf.Tensor: shape=(), dtype=float32, numpy=20.0>"
      ]
     },
     "execution_count": 309,
     "metadata": {},
     "output_type": "execute_result"
    }
   ],
   "source": [
    "x = tf.constant([[2.0, 3.0]])\n",
    "y = tf.constant([[3.0, -2.0]])\n",
    "\n",
    "s = rms2(x, y)\n",
    "s"
   ]
  },
  {
   "cell_type": "code",
   "execution_count": 310,
   "metadata": {
    "ExecuteTime": {
     "end_time": "2025-07-23T12:36:34.835878Z",
     "start_time": "2025-07-23T12:36:34.830431Z"
    },
    "id": "GSYcze5oiMH2",
    "outputId": "26900f3e-8dc3-4de9-d424-a35f1dbfe672"
   },
   "outputs": [
    {
     "name": "stdout",
     "output_type": "stream",
     "text": [
      "20.0\n"
     ]
    }
   ],
   "source": [
    "# `rms()` and `r` will return the same value,\n",
    "# but `r` will be executed as a TensorFlow graph.\n",
    "assert rms(x, y).numpy() == rms2(x, y).numpy()\n",
    "\n",
    "print(rms(x,y).numpy())"
   ]
  },
  {
   "cell_type": "markdown",
   "metadata": {
    "id": "1A6SacCRiMH3"
   },
   "source": [
    "#### - 성능 비교"
   ]
  },
  {
   "cell_type": "code",
   "execution_count": 337,
   "metadata": {
    "ExecuteTime": {
     "end_time": "2025-07-23T13:07:03.789825Z",
     "start_time": "2025-07-23T13:07:03.786790Z"
    },
    "executionInfo": {
     "elapsed": 42,
     "status": "ok",
     "timestamp": 1753150730799,
     "user": {
      "displayName": "고강태 강사",
      "userId": "11816854931407731745"
     },
     "user_tz": -540
    },
    "id": "M9JVAD7SiMH3"
   },
   "outputs": [],
   "source": [
    "# 일반 Python 함수\n",
    "def python_add(a, b):\n",
    "    return a + b\n",
    "\n",
    "# tf.function으로 컴파일된 함수\n",
    "@tf.function\n",
    "def tf_function_add(a, b):\n",
    "    return a + b"
   ]
  },
  {
   "cell_type": "code",
   "execution_count": 339,
   "metadata": {
    "ExecuteTime": {
     "end_time": "2025-07-23T13:07:54.272610Z",
     "start_time": "2025-07-23T13:07:52.835499Z"
    },
    "colab": {
     "base_uri": "https://localhost:8080/",
     "height": 410
    },
    "executionInfo": {
     "elapsed": 10064,
     "status": "error",
     "timestamp": 1753150879704,
     "user": {
      "displayName": "고강태 강사",
      "userId": "11816854931407731745"
     },
     "user_tz": -540
    },
    "id": "2iwCKMlxiMH5",
    "outputId": "3713098a-cf17-4f2b-da65-bae676bcc914"
   },
   "outputs": [
    {
     "name": "stdout",
     "output_type": "stream",
     "text": [
      "\n",
      "--- tf.function 성능 비교 ---\n",
      "Python function execution time: 0.2692 seconds\n",
      "tf.function execution time (including compilation): 0.5818 seconds\n",
      "tf.function execution time (after compilation): 0.5767 seconds\n"
     ]
    }
   ],
   "source": [
    "# 큰 텐서 생성\n",
    "tensor_a = tf.random.normal([10000, 10000])\n",
    "tensor_b = tf.random.normal([10000, 10000])\n",
    "\n",
    "print(\"\\n--- tf.function 성능 비교 ---\")\n",
    "\n",
    "# Python 함수 실행 시간 측정\n",
    "start_time = time.time()\n",
    "for _ in range(100):\n",
    "    result = python_add(tensor_a, tensor_b)\n",
    "end_time = time.time()\n",
    "print(f\"Python function execution time: {end_time - start_time:.4f} seconds\")\n",
    "\n",
    "# tf.function 함수 실행 시간 측정 (첫 호출은 컴파일 포함)\n",
    "start_time = time.time()\n",
    "for _ in range(100):\n",
    "    result = tf_function_add(tensor_a, tensor_b)\n",
    "end_time = time.time()\n",
    "print(f\"tf.function execution time (including compilation): {end_time - start_time:.4f} seconds\")\n",
    "\n",
    "# tf.function 함수 재실행 시간 측정 (컴파일 완료 후)\n",
    "start_time = time.time()\n",
    "for _ in range(100):\n",
    "    result = tf_function_add(tensor_a, tensor_b) # 이미 컴파일됨\n",
    "end_time = time.time()\n",
    "print(f\"tf.function execution time (after compilation): {end_time - start_time:.4f} seconds\")"
   ]
  },
  {
   "cell_type": "markdown",
   "metadata": {
    "id": "s7lUGw2yiMH5"
   },
   "source": [
    "이 예시를 실행해보면, `tf.function`으로 캡슐화된 함수가 훨씬 빠르게 동작하는 것을 확인할 수 있습니다. 특히 루프 내에서 반복적으로 호출되거나 복잡한 연산을 수행할 때 그 효과가 두드러집니다.\n"
   ]
  },
  {
   "cell_type": "markdown",
   "metadata": {
    "id": "PNROFWDRiMH5"
   },
   "source": [
    "### **`tf.function` 사용 시 주의사항**\n",
    "\n",
    "  - `tf.function` 내부에서는 Python의 일반적인 제어 흐름(for 루프, if/else 등)이 TensorFlow 연산으로 변환될 수 있도록 작성해야 합니다. `tf.Tensor` 객체를 이용한 조건문이나 반복문은 잘 동작하지만, 일반 Python 리스트나 넘파이 배열에 대한 직접적인 조작은 그래프로 변환되지 않을 수 있습니다.\n",
    "  - 변수가 아닌 Python 원시 타입(정수, 문자열)이 함수의 입력으로 들어오면, 입력값마다 별도의 그래프를 생성할 수 있어 비효율적일 수 있습니다. 텐서 형태의 입력을 사용하는 것이 권장됩니다.\n"
   ]
  },
  {
   "cell_type": "markdown",
   "metadata": {
    "id": "j5A1c3rME5t-"
   },
   "source": [
    "## Tensorflow 주요 함수"
   ]
  },
  {
   "cell_type": "markdown",
   "metadata": {
    "id": "pzEjz66NiMH5"
   },
   "source": [
    "#### 논리연산"
   ]
  },
  {
   "cell_type": "code",
   "execution_count": 314,
   "metadata": {
    "ExecuteTime": {
     "end_time": "2025-07-23T12:36:37.357926Z",
     "start_time": "2025-07-23T12:36:37.355744Z"
    },
    "id": "Znyn0xWLiMH6",
    "outputId": "442345e5-8dec-4346-f6e0-5e7f4215b535"
   },
   "outputs": [
    {
     "data": {
      "text/plain": [
       "<function tensorflow.python.ops.gen_math_ops.logical_not(x: typing.Annotated[_any, <class 'tensorflow.security.fuzzing.py.annotation_types.Bool'>], name=None) -> typing.Annotated[_any, <class 'tensorflow.security.fuzzing.py.annotation_types.Bool'>]>"
      ]
     },
     "execution_count": 314,
     "metadata": {},
     "output_type": "execute_result"
    }
   ],
   "source": [
    "tf.logical_and\n",
    "tf.logical_or\n",
    "tf.logical_not"
   ]
  },
  {
   "cell_type": "markdown",
   "metadata": {
    "id": "-7Q7UoGMiMH6"
   },
   "source": [
    "#### 비교연산"
   ]
  },
  {
   "cell_type": "code",
   "execution_count": 315,
   "metadata": {
    "ExecuteTime": {
     "end_time": "2025-07-23T12:36:37.440417Z",
     "start_time": "2025-07-23T12:36:37.438218Z"
    },
    "id": "IFbA4UBuiMH6",
    "outputId": "529adec5-d027-4f99-e707-48304ec85634"
   },
   "outputs": [
    {
     "data": {
      "text/plain": [
       "<function tensorflow.python.ops.gen_math_ops.greater_equal(x: typing.Annotated[_any, ~TV_GreaterEqual_T], y: typing.Annotated[_any, ~TV_GreaterEqual_T], name=None) -> typing.Annotated[_any, <class 'tensorflow.security.fuzzing.py.annotation_types.Bool'>]>"
      ]
     },
     "execution_count": 315,
     "metadata": {},
     "output_type": "execute_result"
    }
   ],
   "source": [
    "tf.equal\n",
    "tf.less\n",
    "tf.less_equal\n",
    "tf.greater\n",
    "tf.greater_equal"
   ]
  },
  {
   "cell_type": "markdown",
   "metadata": {
    "id": "mvcOWuyiiMH6"
   },
   "source": [
    "#### 최대값 최소값"
   ]
  },
  {
   "cell_type": "code",
   "execution_count": 316,
   "metadata": {
    "ExecuteTime": {
     "end_time": "2025-07-23T12:36:37.468649Z",
     "start_time": "2025-07-23T12:36:37.466228Z"
    },
    "id": "k0Rg5rDWiMH6",
    "outputId": "57419913-9db0-4d51-f120-77d17e1b3241"
   },
   "outputs": [
    {
     "data": {
      "text/plain": [
       "<function tensorflow.python.ops.gen_math_ops.minimum(x: typing.Annotated[_any, ~TV_Minimum_T], y: typing.Annotated[_any, ~TV_Minimum_T], name=None) -> typing.Annotated[_any, ~TV_Minimum_T]>"
      ]
     },
     "execution_count": 316,
     "metadata": {},
     "output_type": "execute_result"
    }
   ],
   "source": [
    "tf.maximum\n",
    "tf.minimum"
   ]
  },
  {
   "cell_type": "markdown",
   "metadata": {
    "id": "yEvdX2jriMH6"
   },
   "source": [
    "#### 삼각함수"
   ]
  },
  {
   "cell_type": "code",
   "execution_count": 317,
   "metadata": {
    "ExecuteTime": {
     "end_time": "2025-07-23T12:36:37.514772Z",
     "start_time": "2025-07-23T12:36:37.511497Z"
    },
    "id": "vsI1NU_giMH6",
    "outputId": "2eead6f7-fc35-41bb-a66f-8c535a00d5f3"
   },
   "outputs": [
    {
     "data": {
      "text/plain": [
       "<function tensorflow.python.ops.gen_math_ops.tanh(x: typing.Annotated[_any, ~TV_Tanh_T], name=None) -> typing.Annotated[_any, ~TV_Tanh_T]>"
      ]
     },
     "execution_count": 317,
     "metadata": {},
     "output_type": "execute_result"
    }
   ],
   "source": [
    "tf.cos\n",
    "tf.sin\n",
    "tf.tan\n",
    "tf.cosh\n",
    "tf.sinh\n",
    "tf.tanh"
   ]
  },
  {
   "cell_type": "markdown",
   "metadata": {
    "id": "KORsqoo-E5t-"
   },
   "source": [
    "#### argmax, argmin\n",
    "\n",
    "1. [argmax](https://www.tensorflow.org/api_docs/python/tf/argmax)\n",
    "2. [argmin](https://www.tensorflow.org/api_docs/python/tf/argmin)\n",
    "\n",
    "\n"
   ]
  },
  {
   "cell_type": "code",
   "execution_count": 318,
   "metadata": {
    "ExecuteTime": {
     "end_time": "2025-07-23T12:36:37.592224Z",
     "start_time": "2025-07-23T12:36:37.588968Z"
    },
    "id": "U5DmtSAFE5t_",
    "outputId": "cd97b5e0-4d19-4291-da5a-c2888994da23"
   },
   "outputs": [
    {
     "data": {
      "text/plain": [
       "<tf.Tensor: shape=(), dtype=int64, numpy=0>"
      ]
     },
     "execution_count": 318,
     "metadata": {},
     "output_type": "execute_result"
    }
   ],
   "source": [
    "x = [-10, 9, 8, 10]\n",
    "tf.argmax(x)\n",
    "tf.argmin(x)"
   ]
  },
  {
   "cell_type": "markdown",
   "metadata": {
    "id": "fpYUITW3E5t_"
   },
   "source": [
    "## one_hot()\n",
    "\n",
    "[one_hot()](https://www.tensorflow.org/api_docs/python/tf/one_hot)\n",
    "\n",
    "one-hot(원핫)인코딩이란?\n",
    "\n",
    "원-핫 인코딩은 특정 위치의 값만 1이고, 나머지 위치의 값은 0인 벡터를 만드는 방식입니다.\n",
    "\n",
    "예를들면 `[0, 0, 0, 0, 1]` 이다. 5번째만 1이고 나머지는 0이다.\n",
    "\n"
   ]
  },
  {
   "cell_type": "code",
   "execution_count": 319,
   "metadata": {
    "ExecuteTime": {
     "end_time": "2025-07-23T12:36:37.631670Z",
     "start_time": "2025-07-23T12:36:37.623266Z"
    },
    "colab": {
     "base_uri": "https://localhost:8080/"
    },
    "executionInfo": {
     "elapsed": 58,
     "status": "ok",
     "timestamp": 1753151063159,
     "user": {
      "displayName": "고강태 강사",
      "userId": "11816854931407731745"
     },
     "user_tz": -540
    },
    "id": "ockzsQeiE5t_",
    "outputId": "d187fece-d66c-400a-eae3-9ca86b8bcf89"
   },
   "outputs": [
    {
     "data": {
      "text/plain": [
       "<tf.Tensor: shape=(3, 3), dtype=float32, numpy=\n",
       "array([[1., 0., 0.],\n",
       "       [0., 1., 0.],\n",
       "       [0., 0., 1.]], dtype=float32)>"
      ]
     },
     "execution_count": 319,
     "metadata": {},
     "output_type": "execute_result"
    }
   ],
   "source": [
    "tf.one_hot([0,1,2], depth=3)"
   ]
  },
  {
   "cell_type": "code",
   "execution_count": 320,
   "metadata": {
    "ExecuteTime": {
     "end_time": "2025-07-23T12:36:37.702874Z",
     "start_time": "2025-07-23T12:36:37.696580Z"
    },
    "id": "zstt3C8jE5t_",
    "outputId": "eb9517a4-b057-4451-b46d-ba9fbb2f418e"
   },
   "outputs": [
    {
     "data": {
      "text/plain": [
       "<tf.Tensor: shape=(3, 3), dtype=float32, numpy=\n",
       "array([[1., 0., 0.],\n",
       "       [0., 0., 0.],\n",
       "       [0., 0., 1.]], dtype=float32)>"
      ]
     },
     "execution_count": 320,
     "metadata": {},
     "output_type": "execute_result"
    }
   ],
   "source": [
    "tf.one_hot([0,4,2], depth=3)"
   ]
  },
  {
   "cell_type": "code",
   "execution_count": 321,
   "metadata": {
    "ExecuteTime": {
     "end_time": "2025-07-23T12:36:37.823786Z",
     "start_time": "2025-07-23T12:36:37.817370Z"
    },
    "id": "oolcuqg9E5t_",
    "outputId": "e0187eb3-854c-41cf-98fa-6bf15a52ca48"
   },
   "outputs": [
    {
     "data": {
      "text/plain": [
       "<tf.Tensor: shape=(3, 5), dtype=float32, numpy=\n",
       "array([[0., 1., 0., 0., 0.],\n",
       "       [0., 0., 1., 0., 0.],\n",
       "       [0., 0., 0., 1., 0.]], dtype=float32)>"
      ]
     },
     "execution_count": 321,
     "metadata": {},
     "output_type": "execute_result"
    }
   ],
   "source": [
    "tf.one_hot([1,2,3], depth=5)"
   ]
  },
  {
   "cell_type": "code",
   "execution_count": 322,
   "metadata": {
    "ExecuteTime": {
     "end_time": "2025-07-23T12:36:37.960021Z",
     "start_time": "2025-07-23T12:36:37.945915Z"
    },
    "colab": {
     "base_uri": "https://localhost:8080/",
     "height": 336
    },
    "executionInfo": {
     "elapsed": 57,
     "status": "error",
     "timestamp": 1753151091747,
     "user": {
      "displayName": "고강태 강사",
      "userId": "11816854931407731745"
     },
     "user_tz": -540
    },
    "id": "McdwONKW8nu-",
    "outputId": "1d17d3be-332d-45d5-f0c4-daa0a6963858"
   },
   "outputs": [
    {
     "ename": "InvalidArgumentError",
     "evalue": "Value for attr 'TI' of string is not in the list of allowed values: uint8, int8, int32, int64\n\t; NodeDef: {{node OneHot}}; Op<name=OneHot; signature=indices:TI, depth:int32, on_value:T, off_value:T -> output:T; attr=axis:int,default=-1; attr=T:type; attr=TI:type,default=DT_INT64,allowed=[DT_UINT8, DT_INT8, DT_INT32, DT_INT64]> [Op:OneHot]",
     "output_type": "error",
     "traceback": [
      "\u001b[0;31m---------------------------------------------------------------------------\u001b[0m",
      "\u001b[0;31mInvalidArgumentError\u001b[0m                      Traceback (most recent call last)",
      "Cell \u001b[0;32mIn[322], line 1\u001b[0m\n\u001b[0;32m----> 1\u001b[0m \u001b[43mtf\u001b[49m\u001b[38;5;241;43m.\u001b[39;49m\u001b[43mone_hot\u001b[49m\u001b[43m(\u001b[49m\u001b[43m[\u001b[49m\u001b[38;5;124;43m\"\u001b[39;49m\u001b[38;5;124;43mA\u001b[39;49m\u001b[38;5;124;43m\"\u001b[39;49m\u001b[43m,\u001b[49m\u001b[43m \u001b[49m\u001b[38;5;124;43m\"\u001b[39;49m\u001b[38;5;124;43mB\u001b[39;49m\u001b[38;5;124;43m\"\u001b[39;49m\u001b[43m,\u001b[49m\u001b[43m \u001b[49m\u001b[38;5;124;43m\"\u001b[39;49m\u001b[38;5;124;43mC\u001b[39;49m\u001b[38;5;124;43m\"\u001b[39;49m\u001b[43m]\u001b[49m\u001b[43m,\u001b[49m\u001b[43m \u001b[49m\u001b[43mdepth\u001b[49m\u001b[38;5;241;43m=\u001b[39;49m\u001b[38;5;241;43m3\u001b[39;49m\u001b[43m)\u001b[49m\n",
      "File \u001b[0;32m/opt/anaconda3/envs/stenv/lib/python3.9/site-packages/tensorflow/python/util/traceback_utils.py:153\u001b[0m, in \u001b[0;36mfilter_traceback.<locals>.error_handler\u001b[0;34m(*args, **kwargs)\u001b[0m\n\u001b[1;32m    151\u001b[0m \u001b[38;5;28;01mexcept\u001b[39;00m \u001b[38;5;167;01mException\u001b[39;00m \u001b[38;5;28;01mas\u001b[39;00m e:\n\u001b[1;32m    152\u001b[0m   filtered_tb \u001b[38;5;241m=\u001b[39m _process_traceback_frames(e\u001b[38;5;241m.\u001b[39m__traceback__)\n\u001b[0;32m--> 153\u001b[0m   \u001b[38;5;28;01mraise\u001b[39;00m e\u001b[38;5;241m.\u001b[39mwith_traceback(filtered_tb) \u001b[38;5;28;01mfrom\u001b[39;00m\u001b[38;5;250m \u001b[39m\u001b[38;5;28;01mNone\u001b[39;00m\n\u001b[1;32m    154\u001b[0m \u001b[38;5;28;01mfinally\u001b[39;00m:\n\u001b[1;32m    155\u001b[0m   \u001b[38;5;28;01mdel\u001b[39;00m filtered_tb\n",
      "File \u001b[0;32m/opt/anaconda3/envs/stenv/lib/python3.9/site-packages/tensorflow/python/eager/execute.py:53\u001b[0m, in \u001b[0;36mquick_execute\u001b[0;34m(op_name, num_outputs, inputs, attrs, ctx, name)\u001b[0m\n\u001b[1;32m     51\u001b[0m \u001b[38;5;28;01mtry\u001b[39;00m:\n\u001b[1;32m     52\u001b[0m   ctx\u001b[38;5;241m.\u001b[39mensure_initialized()\n\u001b[0;32m---> 53\u001b[0m   tensors \u001b[38;5;241m=\u001b[39m pywrap_tfe\u001b[38;5;241m.\u001b[39mTFE_Py_Execute(ctx\u001b[38;5;241m.\u001b[39m_handle, device_name, op_name,\n\u001b[1;32m     54\u001b[0m                                       inputs, attrs, num_outputs)\n\u001b[1;32m     55\u001b[0m \u001b[38;5;28;01mexcept\u001b[39;00m core\u001b[38;5;241m.\u001b[39m_NotOkStatusException \u001b[38;5;28;01mas\u001b[39;00m e:\n\u001b[1;32m     56\u001b[0m   \u001b[38;5;28;01mif\u001b[39;00m name \u001b[38;5;129;01mis\u001b[39;00m \u001b[38;5;129;01mnot\u001b[39;00m \u001b[38;5;28;01mNone\u001b[39;00m:\n",
      "\u001b[0;31mInvalidArgumentError\u001b[0m: Value for attr 'TI' of string is not in the list of allowed values: uint8, int8, int32, int64\n\t; NodeDef: {{node OneHot}}; Op<name=OneHot; signature=indices:TI, depth:int32, on_value:T, off_value:T -> output:T; attr=axis:int,default=-1; attr=T:type; attr=TI:type,default=DT_INT64,allowed=[DT_UINT8, DT_INT8, DT_INT32, DT_INT64]> [Op:OneHot]"
     ]
    }
   ],
   "source": [
    "tf.one_hot([\"A\", \"B\", \"C\"], depth=3)"
   ]
  },
  {
   "cell_type": "markdown",
   "metadata": {
    "id": "KTo5A000iMH7"
   },
   "source": [
    "## random 모듈\n",
    "\n",
    "분포 함수\n",
    " - 정규분포에 대한 임의의 값 세팅"
   ]
  },
  {
   "cell_type": "code",
   "execution_count": 340,
   "metadata": {
    "ExecuteTime": {
     "end_time": "2025-07-23T13:09:28.219729Z",
     "start_time": "2025-07-23T13:09:28.096718Z"
    },
    "id": "1rhnRuQYiMH7",
    "outputId": "ec66bfc5-c9ad-42af-dc45-c1bd96cb8234"
   },
   "outputs": [
    {
     "data": {
      "text/plain": [
       "array([[[0.56299734, 0.70277965],\n",
       "        [0.4250939 , 0.33118927]],\n",
       "\n",
       "       [[0.84416974, 0.12248325],\n",
       "        [0.15116203, 0.483961  ]],\n",
       "\n",
       "       [[0.17790973, 0.09818399],\n",
       "        [0.50544333, 0.2682035 ]],\n",
       "\n",
       "       [[0.9936706 , 0.87967825],\n",
       "        [0.79961216, 0.8828862 ]]], dtype=float32)"
      ]
     },
     "execution_count": 340,
     "metadata": {},
     "output_type": "execute_result"
    }
   ],
   "source": [
    "tf.random.normal((2,3))\n",
    "tf.random.uniform([4],0,1)\n",
    "tf.random.uniform([4,2],0,1).numpy()\n",
    "tf.random.uniform([4,2,2],0,1).numpy()"
   ]
  },
  {
   "cell_type": "markdown",
   "metadata": {
    "id": "PVuL7e1WE5t_"
   },
   "source": [
    "## 배열 변형 함수\n",
    "\n",
    "- [reshape()](https://www.tensorflow.org/api_docs/python/tf/reshape\n",
    "): 원하는 shape를 직접 입력하여 바꿀 수 있다. 특히 shape에 -1를 입력하면 고정된 차원은 우선 채우고 남은 부분을 알아서 채워준다.\n",
    "- [squeeze()](https://www.tensorflow.org/api_docs/python/tf/squeeze) 차원 중 사이즈가 1인 것을 찾아 스칼라값으로 바꿔 해당 차원을 제거한다.\n",
    "- [expand_dims](https://www.tensorflow.org/api_docs/python/tf/expand_dims): axis로 지정된 차원을 추가한다.\n",
    "\n",
    "\n",
    "\n",
    "\n",
    "\n",
    "\n",
    "\n"
   ]
  },
  {
   "cell_type": "markdown",
   "metadata": {
    "id": "Yag29EUsE5t_"
   },
   "source": [
    "### `reshape()`"
   ]
  },
  {
   "cell_type": "code",
   "execution_count": 341,
   "metadata": {
    "ExecuteTime": {
     "end_time": "2025-07-23T13:09:28.248440Z",
     "start_time": "2025-07-23T13:09:28.246210Z"
    },
    "id": "dAd2UVOdE5t_",
    "outputId": "8ae8a159-4d6e-4450-8538-62ab54767d0e"
   },
   "outputs": [
    {
     "data": {
      "text/plain": [
       "array([0, 1, 2, 3, 4, 5, 6, 7, 8, 9])"
      ]
     },
     "execution_count": 341,
     "metadata": {},
     "output_type": "execute_result"
    }
   ],
   "source": [
    "x = np.arange(0,10)\n",
    "x"
   ]
  },
  {
   "cell_type": "code",
   "execution_count": 342,
   "metadata": {
    "ExecuteTime": {
     "end_time": "2025-07-23T13:09:28.281011Z",
     "start_time": "2025-07-23T13:09:28.276371Z"
    },
    "id": "1RqeH3neE5uA",
    "outputId": "b0c80566-2c97-497e-9cf5-b0dde1034a1b"
   },
   "outputs": [
    {
     "data": {
      "text/plain": [
       "<tf.Tensor: shape=(5, 2), dtype=int64, numpy=\n",
       "array([[0, 1],\n",
       "       [2, 3],\n",
       "       [4, 5],\n",
       "       [6, 7],\n",
       "       [8, 9]])>"
      ]
     },
     "execution_count": 342,
     "metadata": {},
     "output_type": "execute_result"
    }
   ],
   "source": [
    "tf.reshape(x, shape=[-1,2])"
   ]
  },
  {
   "cell_type": "code",
   "execution_count": 343,
   "metadata": {
    "ExecuteTime": {
     "end_time": "2025-07-23T13:09:28.328246Z",
     "start_time": "2025-07-23T13:09:28.324887Z"
    },
    "id": "zJ6k9y4eE5uA",
    "outputId": "03519c38-b71b-4812-a750-921d0b00c044"
   },
   "outputs": [
    {
     "data": {
      "text/plain": [
       "<tf.Tensor: shape=(2, 5), dtype=int64, numpy=\n",
       "array([[0, 1, 2, 3, 4],\n",
       "       [5, 6, 7, 8, 9]])>"
      ]
     },
     "execution_count": 343,
     "metadata": {},
     "output_type": "execute_result"
    }
   ],
   "source": [
    "tf.reshape(x, shape=[-1,5])"
   ]
  },
  {
   "cell_type": "markdown",
   "metadata": {
    "id": "yqkWMZHGE5uA"
   },
   "source": [
    "### `squeeze()`"
   ]
  },
  {
   "cell_type": "code",
   "execution_count": 344,
   "metadata": {
    "ExecuteTime": {
     "end_time": "2025-07-23T13:09:28.402787Z",
     "start_time": "2025-07-23T13:09:28.400538Z"
    },
    "id": "AqiX_CwmE5uA",
    "outputId": "9cb15de5-9161-4c7c-d8a7-7c24ba59d16e"
   },
   "outputs": [
    {
     "data": {
      "text/plain": [
       "array([[0],\n",
       "       [1],\n",
       "       [2],\n",
       "       [3],\n",
       "       [4],\n",
       "       [5],\n",
       "       [6],\n",
       "       [7],\n",
       "       [8],\n",
       "       [9]])"
      ]
     },
     "execution_count": 344,
     "metadata": {},
     "output_type": "execute_result"
    }
   ],
   "source": [
    "x = np.arange(0,10).reshape(-1,1)\n",
    "x"
   ]
  },
  {
   "cell_type": "code",
   "execution_count": 345,
   "metadata": {
    "ExecuteTime": {
     "end_time": "2025-07-23T13:09:28.565402Z",
     "start_time": "2025-07-23T13:09:28.563319Z"
    },
    "id": "vqBhEOTvE5uA",
    "outputId": "fdaa0b81-983a-4def-a54d-e83a30c9f428"
   },
   "outputs": [
    {
     "data": {
      "text/plain": [
       "(10, 1)"
      ]
     },
     "execution_count": 345,
     "metadata": {},
     "output_type": "execute_result"
    }
   ],
   "source": [
    "x.shape"
   ]
  },
  {
   "cell_type": "markdown",
   "metadata": {
    "id": "fDkuicH5E5uA"
   },
   "source": [
    "차원중 크기가 1인 것을 찾아 짜낸다."
   ]
  },
  {
   "cell_type": "code",
   "execution_count": 346,
   "metadata": {
    "ExecuteTime": {
     "end_time": "2025-07-23T13:09:28.632273Z",
     "start_time": "2025-07-23T13:09:28.628998Z"
    },
    "id": "PNUZL8r-E5uA",
    "outputId": "6beafa96-c6bb-471c-f27f-ea7db3a69d6c"
   },
   "outputs": [
    {
     "data": {
      "text/plain": [
       "<tf.Tensor: shape=(10,), dtype=int64, numpy=array([0, 1, 2, 3, 4, 5, 6, 7, 8, 9])>"
      ]
     },
     "execution_count": 346,
     "metadata": {},
     "output_type": "execute_result"
    }
   ],
   "source": [
    "tf.squeeze(x)"
   ]
  },
  {
   "cell_type": "code",
   "execution_count": 347,
   "metadata": {
    "ExecuteTime": {
     "end_time": "2025-07-23T13:09:28.679664Z",
     "start_time": "2025-07-23T13:09:28.676480Z"
    },
    "id": "3t2DwHdxiMH8",
    "outputId": "73dd984e-7581-4acd-dc8f-841621ef82b6"
   },
   "outputs": [
    {
     "data": {
      "text/plain": [
       "TensorShape([10])"
      ]
     },
     "execution_count": 347,
     "metadata": {},
     "output_type": "execute_result"
    }
   ],
   "source": [
    "tf.squeeze(x).shape"
   ]
  },
  {
   "cell_type": "markdown",
   "metadata": {
    "id": "IeAEjlJKE5uA"
   },
   "source": [
    "### `expand_dims()`\n",
    "\n",
    "axis로 지정된 차원을 추가한다."
   ]
  },
  {
   "cell_type": "code",
   "execution_count": 348,
   "metadata": {
    "ExecuteTime": {
     "end_time": "2025-07-23T13:09:28.727109Z",
     "start_time": "2025-07-23T13:09:28.724917Z"
    },
    "colab": {
     "base_uri": "https://localhost:8080/"
    },
    "executionInfo": {
     "elapsed": 40,
     "status": "ok",
     "timestamp": 1753151210785,
     "user": {
      "displayName": "고강태 강사",
      "userId": "11816854931407731745"
     },
     "user_tz": -540
    },
    "id": "v_C7aUP4E5uA",
    "outputId": "9b251118-007d-4df5-bb60-d5840ee76434"
   },
   "outputs": [
    {
     "data": {
      "text/plain": [
       "array([0, 1, 2, 3, 4, 5, 6, 7, 8, 9])"
      ]
     },
     "execution_count": 348,
     "metadata": {},
     "output_type": "execute_result"
    }
   ],
   "source": [
    "x = np.arange(0,10).reshape(-1,)\n",
    "x"
   ]
  },
  {
   "cell_type": "code",
   "execution_count": 349,
   "metadata": {
    "ExecuteTime": {
     "end_time": "2025-07-23T13:09:28.757164Z",
     "start_time": "2025-07-23T13:09:28.754874Z"
    },
    "id": "c_bHKsloE5uA",
    "outputId": "94ff3354-69b9-4bde-8282-3c968fcdc63c"
   },
   "outputs": [
    {
     "data": {
      "text/plain": [
       "(10,)"
      ]
     },
     "execution_count": 349,
     "metadata": {},
     "output_type": "execute_result"
    }
   ],
   "source": [
    "x.shape"
   ]
  },
  {
   "cell_type": "code",
   "execution_count": 350,
   "metadata": {
    "ExecuteTime": {
     "end_time": "2025-07-23T13:09:28.787862Z",
     "start_time": "2025-07-23T13:09:28.784446Z"
    },
    "colab": {
     "base_uri": "https://localhost:8080/"
    },
    "executionInfo": {
     "elapsed": 20,
     "status": "ok",
     "timestamp": 1753151218794,
     "user": {
      "displayName": "고강태 강사",
      "userId": "11816854931407731745"
     },
     "user_tz": -540
    },
    "id": "RKWrZw7EE5uB",
    "outputId": "121c18ff-d668-4c50-8be1-913d5de13746"
   },
   "outputs": [
    {
     "data": {
      "text/plain": [
       "<tf.Tensor: shape=(1, 10), dtype=int64, numpy=array([[0, 1, 2, 3, 4, 5, 6, 7, 8, 9]])>"
      ]
     },
     "execution_count": 350,
     "metadata": {},
     "output_type": "execute_result"
    }
   ],
   "source": [
    "# 첫번째 차원을 추가\n",
    "y = tf.expand_dims(x, 0)\n",
    "y"
   ]
  },
  {
   "cell_type": "code",
   "execution_count": 351,
   "metadata": {
    "ExecuteTime": {
     "end_time": "2025-07-23T13:09:28.843348Z",
     "start_time": "2025-07-23T13:09:28.838963Z"
    },
    "colab": {
     "base_uri": "https://localhost:8080/"
    },
    "executionInfo": {
     "elapsed": 41,
     "status": "ok",
     "timestamp": 1753151228798,
     "user": {
      "displayName": "고강태 강사",
      "userId": "11816854931407731745"
     },
     "user_tz": -540
    },
    "id": "ZEW87y9HE5uB",
    "outputId": "65fc492a-d455-4c92-d080-47a1af7266fc"
   },
   "outputs": [
    {
     "data": {
      "text/plain": [
       "<tf.Tensor: shape=(10, 1), dtype=int64, numpy=\n",
       "array([[0],\n",
       "       [1],\n",
       "       [2],\n",
       "       [3],\n",
       "       [4],\n",
       "       [5],\n",
       "       [6],\n",
       "       [7],\n",
       "       [8],\n",
       "       [9]])>"
      ]
     },
     "execution_count": 351,
     "metadata": {},
     "output_type": "execute_result"
    }
   ],
   "source": [
    "# 두번째 차원을 추가\n",
    "y = tf.expand_dims(x, 1)\n",
    "y"
   ]
  },
  {
   "cell_type": "code",
   "execution_count": 352,
   "metadata": {
    "ExecuteTime": {
     "end_time": "2025-07-23T13:09:28.946367Z",
     "start_time": "2025-07-23T13:09:28.944392Z"
    },
    "colab": {
     "base_uri": "https://localhost:8080/"
    },
    "executionInfo": {
     "elapsed": 38,
     "status": "ok",
     "timestamp": 1753151258251,
     "user": {
      "displayName": "고강태 강사",
      "userId": "11816854931407731745"
     },
     "user_tz": -540
    },
    "id": "QGq4hGtuE5uB",
    "outputId": "41959113-98dc-4d1a-8a03-afbfdec504aa"
   },
   "outputs": [
    {
     "name": "stdout",
     "output_type": "stream",
     "text": [
      "[[0 1]\n",
      " [2 3]\n",
      " [4 5]\n",
      " [6 7]\n",
      " [8 9]] (5, 2)\n"
     ]
    }
   ],
   "source": [
    "x = np.arange(0,10).reshape(-1,2)\n",
    "print(x, x.shape)"
   ]
  },
  {
   "cell_type": "code",
   "execution_count": 353,
   "metadata": {
    "ExecuteTime": {
     "end_time": "2025-07-23T13:09:29.088358Z",
     "start_time": "2025-07-23T13:09:29.084776Z"
    },
    "colab": {
     "base_uri": "https://localhost:8080/"
    },
    "executionInfo": {
     "elapsed": 46,
     "status": "ok",
     "timestamp": 1753151260284,
     "user": {
      "displayName": "고강태 강사",
      "userId": "11816854931407731745"
     },
     "user_tz": -540
    },
    "id": "GobIQ2GwE5uB",
    "outputId": "7bb2364f-1fb0-498b-8c9d-c6a01f9ef37c"
   },
   "outputs": [
    {
     "data": {
      "text/plain": [
       "<tf.Tensor: shape=(1, 5, 2), dtype=int64, numpy=\n",
       "array([[[0, 1],\n",
       "        [2, 3],\n",
       "        [4, 5],\n",
       "        [6, 7],\n",
       "        [8, 9]]])>"
      ]
     },
     "execution_count": 353,
     "metadata": {},
     "output_type": "execute_result"
    }
   ],
   "source": [
    "y = tf.expand_dims(x, 0)\n",
    "y"
   ]
  },
  {
   "cell_type": "code",
   "execution_count": 354,
   "metadata": {
    "ExecuteTime": {
     "end_time": "2025-07-23T13:09:29.148437Z",
     "start_time": "2025-07-23T13:09:29.145224Z"
    },
    "colab": {
     "base_uri": "https://localhost:8080/"
    },
    "executionInfo": {
     "elapsed": 49,
     "status": "ok",
     "timestamp": 1753151264825,
     "user": {
      "displayName": "고강태 강사",
      "userId": "11816854931407731745"
     },
     "user_tz": -540
    },
    "id": "Rqld3flDE5uB",
    "outputId": "d0659418-d6b8-42cf-dc60-7cd70c14fc5f"
   },
   "outputs": [
    {
     "data": {
      "text/plain": [
       "<tf.Tensor: shape=(5, 2, 1), dtype=int64, numpy=\n",
       "array([[[0],\n",
       "        [1]],\n",
       "\n",
       "       [[2],\n",
       "        [3]],\n",
       "\n",
       "       [[4],\n",
       "        [5]],\n",
       "\n",
       "       [[6],\n",
       "        [7]],\n",
       "\n",
       "       [[8],\n",
       "        [9]]])>"
      ]
     },
     "execution_count": 354,
     "metadata": {},
     "output_type": "execute_result"
    }
   ],
   "source": [
    "y = tf.expand_dims(x, 2)\n",
    "y"
   ]
  },
  {
   "cell_type": "code",
   "execution_count": 355,
   "metadata": {
    "ExecuteTime": {
     "end_time": "2025-07-23T13:09:29.202460Z",
     "start_time": "2025-07-23T13:09:29.199172Z"
    },
    "colab": {
     "base_uri": "https://localhost:8080/"
    },
    "executionInfo": {
     "elapsed": 38,
     "status": "ok",
     "timestamp": 1753151268864,
     "user": {
      "displayName": "고강태 강사",
      "userId": "11816854931407731745"
     },
     "user_tz": -540
    },
    "id": "Qsf3oKMYE5uB",
    "outputId": "abf75bab-374c-4304-dbba-31946b1fe343"
   },
   "outputs": [
    {
     "data": {
      "text/plain": [
       "<tf.Tensor: shape=(5, 2, 1), dtype=int64, numpy=\n",
       "array([[[0],\n",
       "        [1]],\n",
       "\n",
       "       [[2],\n",
       "        [3]],\n",
       "\n",
       "       [[4],\n",
       "        [5]],\n",
       "\n",
       "       [[6],\n",
       "        [7]],\n",
       "\n",
       "       [[8],\n",
       "        [9]]])>"
      ]
     },
     "execution_count": 355,
     "metadata": {},
     "output_type": "execute_result"
    }
   ],
   "source": [
    "# 마지막 차수에 차원을 추가한다.\n",
    "y = tf.expand_dims(x, -1)\n",
    "y"
   ]
  },
  {
   "cell_type": "markdown",
   "metadata": {
    "id": "SzHkFXlpE5uB"
   },
   "source": [
    "## stack()\n",
    "\n",
    "[stack()](https://www.tensorflow.org/api_docs/python/tf/stack) 함수\n",
    "\n",
    " - 여러 조각의 행렬을 합칠 때 사용하는 stack함수에 대해서 알아보자.\n"
   ]
  },
  {
   "cell_type": "code",
   "execution_count": 356,
   "metadata": {
    "ExecuteTime": {
     "end_time": "2025-07-23T13:09:29.244104Z",
     "start_time": "2025-07-23T13:09:29.242621Z"
    },
    "executionInfo": {
     "elapsed": 48,
     "status": "ok",
     "timestamp": 1753151292333,
     "user": {
      "displayName": "고강태 강사",
      "userId": "11816854931407731745"
     },
     "user_tz": -540
    },
    "id": "OEAqEEVjE5uB"
   },
   "outputs": [],
   "source": [
    "x1 = np.array([1,2])\n",
    "x2 = np.array([2,3])\n",
    "x3 = np.array([4,5])"
   ]
  },
  {
   "cell_type": "code",
   "execution_count": 357,
   "metadata": {
    "ExecuteTime": {
     "end_time": "2025-07-23T13:09:29.291830Z",
     "start_time": "2025-07-23T13:09:29.289211Z"
    },
    "colab": {
     "base_uri": "https://localhost:8080/"
    },
    "executionInfo": {
     "elapsed": 35,
     "status": "ok",
     "timestamp": 1753151298045,
     "user": {
      "displayName": "고강태 강사",
      "userId": "11816854931407731745"
     },
     "user_tz": -540
    },
    "id": "lj9Q8jecE5uC",
    "outputId": "cdace825-c638-4672-86f8-b8d608d0800a"
   },
   "outputs": [
    {
     "data": {
      "text/plain": [
       "<tf.Tensor: shape=(3, 2), dtype=int32, numpy=\n",
       "array([[1, 2],\n",
       "       [2, 3],\n",
       "       [4, 5]], dtype=int32)>"
      ]
     },
     "execution_count": 357,
     "metadata": {},
     "output_type": "execute_result"
    }
   ],
   "source": [
    "# stack\n",
    "tf.stack([x1,x2,x3])"
   ]
  },
  {
   "cell_type": "code",
   "execution_count": 358,
   "metadata": {
    "ExecuteTime": {
     "end_time": "2025-07-23T13:09:29.415283Z",
     "start_time": "2025-07-23T13:09:29.412982Z"
    },
    "colab": {
     "base_uri": "https://localhost:8080/"
    },
    "executionInfo": {
     "elapsed": 18,
     "status": "ok",
     "timestamp": 1753151311095,
     "user": {
      "displayName": "고강태 강사",
      "userId": "11816854931407731745"
     },
     "user_tz": -540
    },
    "id": "-mxUs9A5E5uC",
    "outputId": "3e2f5abd-ea86-458b-ad0a-7d3484d2fec8"
   },
   "outputs": [
    {
     "data": {
      "text/plain": [
       "<tf.Tensor: shape=(3, 2), dtype=int32, numpy=\n",
       "array([[1, 2],\n",
       "       [2, 3],\n",
       "       [4, 5]], dtype=int32)>"
      ]
     },
     "execution_count": 358,
     "metadata": {},
     "output_type": "execute_result"
    }
   ],
   "source": [
    "# stack axis=0\n",
    "tf.stack([x1,x2,x3], axis=0)"
   ]
  },
  {
   "cell_type": "code",
   "execution_count": 359,
   "metadata": {
    "ExecuteTime": {
     "end_time": "2025-07-23T13:09:29.483971Z",
     "start_time": "2025-07-23T13:09:29.478957Z"
    },
    "colab": {
     "base_uri": "https://localhost:8080/"
    },
    "executionInfo": {
     "elapsed": 56,
     "status": "ok",
     "timestamp": 1753151313669,
     "user": {
      "displayName": "고강태 강사",
      "userId": "11816854931407731745"
     },
     "user_tz": -540
    },
    "id": "LhLaw1f9E5uC",
    "outputId": "07ab9b99-a4ed-4e88-ab95-32cb02de7b04"
   },
   "outputs": [
    {
     "data": {
      "text/plain": [
       "<tf.Tensor: shape=(2, 3), dtype=int64, numpy=\n",
       "array([[1, 2, 4],\n",
       "       [2, 3, 5]])>"
      ]
     },
     "execution_count": 359,
     "metadata": {},
     "output_type": "execute_result"
    }
   ],
   "source": [
    "# stack axis=1\n",
    "tf.stack([x1,x2,x3], axis=1)"
   ]
  },
  {
   "cell_type": "markdown",
   "metadata": {
    "id": "EhJJ9gLdE5uC"
   },
   "source": [
    "## reduce_sum, reduce_mean\n",
    "\n",
    "2차원 이상의 행렬로 된 데이터를 다루다보면 전체 원수의 합계, 평균을 구하고자 할 때 사용한다.\n",
    "\n",
    "1. [reduce_sum()](https://www.tensorflow.org/api_docs/python/tf/reduce_sum) 은 특정 차원을 제거하고 합계를 구하고\n",
    "1. [reduce_mean()](https://www.tensorflow.org/api_docs/python/tf/reduce_mean)은 특정 차원을 제거하고 평균을 구한다."
   ]
  },
  {
   "cell_type": "code",
   "execution_count": 360,
   "metadata": {
    "ExecuteTime": {
     "end_time": "2025-07-23T13:09:29.581238Z",
     "start_time": "2025-07-23T13:09:29.578791Z"
    },
    "id": "Zk7p3VcdE5uC",
    "outputId": "cfcf6563-4954-4e76-d55a-02abbf34c84e"
   },
   "outputs": [
    {
     "data": {
      "text/plain": [
       "array([[ 0,  1,  2,  3],\n",
       "       [ 4,  5,  6,  7],\n",
       "       [ 8,  9, 10, 11],\n",
       "       [12, 13, 14, 15]])"
      ]
     },
     "execution_count": 360,
     "metadata": {},
     "output_type": "execute_result"
    }
   ],
   "source": [
    "# reduce_sum\n",
    "x = np.arange(0,16).reshape(-1,4)\n",
    "x"
   ]
  },
  {
   "cell_type": "code",
   "execution_count": 361,
   "metadata": {
    "ExecuteTime": {
     "end_time": "2025-07-23T13:09:29.689016Z",
     "start_time": "2025-07-23T13:09:29.686281Z"
    },
    "id": "v2pDEjc8E5uC",
    "outputId": "1c412033-a611-4eb6-db99-43ca850a0d47"
   },
   "outputs": [
    {
     "data": {
      "text/plain": [
       "<tf.Tensor: shape=(), dtype=int32, numpy=2>"
      ]
     },
     "execution_count": 361,
     "metadata": {},
     "output_type": "execute_result"
    }
   ],
   "source": [
    "tf.rank(x) # 차원수"
   ]
  },
  {
   "cell_type": "code",
   "execution_count": 362,
   "metadata": {
    "ExecuteTime": {
     "end_time": "2025-07-23T13:09:29.796110Z",
     "start_time": "2025-07-23T13:09:29.761241Z"
    },
    "id": "sOAq0cEmE5uC",
    "outputId": "e0932f45-7022-406a-8c74-fa2873edafb6"
   },
   "outputs": [
    {
     "data": {
      "text/plain": [
       "<tf.Tensor: shape=(), dtype=int64, numpy=120>"
      ]
     },
     "execution_count": 362,
     "metadata": {},
     "output_type": "execute_result"
    }
   ],
   "source": [
    "tf.reduce_sum(x) # all elements"
   ]
  },
  {
   "cell_type": "code",
   "execution_count": 363,
   "metadata": {
    "ExecuteTime": {
     "end_time": "2025-07-23T13:09:29.819756Z",
     "start_time": "2025-07-23T13:09:29.816713Z"
    },
    "id": "WkGCRqXIE5uC",
    "outputId": "4929eac5-222c-4993-fb13-a0295ef55800"
   },
   "outputs": [
    {
     "data": {
      "text/plain": [
       "<tf.Tensor: shape=(4,), dtype=int64, numpy=array([24, 28, 32, 36])>"
      ]
     },
     "execution_count": 363,
     "metadata": {},
     "output_type": "execute_result"
    }
   ],
   "source": [
    "tf.reduce_sum(x, axis=0) # row"
   ]
  },
  {
   "cell_type": "code",
   "execution_count": 364,
   "metadata": {
    "ExecuteTime": {
     "end_time": "2025-07-23T13:09:29.848639Z",
     "start_time": "2025-07-23T13:09:29.845737Z"
    },
    "id": "7E-Vcn30E5uC",
    "outputId": "d15d9fc8-dbc9-47b2-c045-f22b98031fda"
   },
   "outputs": [
    {
     "data": {
      "text/plain": [
       "<tf.Tensor: shape=(4,), dtype=int64, numpy=array([ 6, 22, 38, 54])>"
      ]
     },
     "execution_count": 364,
     "metadata": {},
     "output_type": "execute_result"
    }
   ],
   "source": [
    "tf.reduce_sum(x, axis=1) # column"
   ]
  },
  {
   "cell_type": "markdown",
   "metadata": {
    "id": "Pa91wG-DE5uC"
   },
   "source": [
    "`keep_dims=True` 최초 차원수를 유지"
   ]
  },
  {
   "cell_type": "code",
   "execution_count": 365,
   "metadata": {
    "ExecuteTime": {
     "end_time": "2025-07-23T13:09:29.882111Z",
     "start_time": "2025-07-23T13:09:29.877078Z"
    },
    "id": "7pLEwQ7_E5uC",
    "outputId": "cfd3595e-36dc-459a-b926-80acd8d07d0a"
   },
   "outputs": [
    {
     "data": {
      "text/plain": [
       "<tf.Tensor: shape=(4, 1), dtype=int64, numpy=\n",
       "array([[ 6],\n",
       "       [22],\n",
       "       [38],\n",
       "       [54]])>"
      ]
     },
     "execution_count": 365,
     "metadata": {},
     "output_type": "execute_result"
    }
   ],
   "source": [
    "tf.reduce_sum(x, axis=1, keepdims=True) # column"
   ]
  },
  {
   "cell_type": "code",
   "execution_count": 366,
   "metadata": {
    "ExecuteTime": {
     "end_time": "2025-07-23T13:09:29.926135Z",
     "start_time": "2025-07-23T13:09:29.924072Z"
    },
    "id": "llPgZRSyE5uD",
    "outputId": "0bc8e13f-0b3a-497f-ca30-d95c36537eb8"
   },
   "outputs": [
    {
     "data": {
      "text/plain": [
       "array([[1, 1, 1],\n",
       "       [1, 1, 1]])"
      ]
     },
     "execution_count": 366,
     "metadata": {},
     "output_type": "execute_result"
    }
   ],
   "source": [
    "x = np.array([[1,1,1],\n",
    "              [1,1,1]])\n",
    "x"
   ]
  },
  {
   "cell_type": "code",
   "execution_count": 367,
   "metadata": {
    "ExecuteTime": {
     "end_time": "2025-07-23T13:09:30.051787Z",
     "start_time": "2025-07-23T13:09:30.049446Z"
    },
    "id": "Z47Xq7_YE5uD",
    "outputId": "f67add9f-5e11-4487-f65f-a0b6a54f9e09"
   },
   "outputs": [
    {
     "data": {
      "text/plain": [
       "(2, 3)"
      ]
     },
     "execution_count": 367,
     "metadata": {},
     "output_type": "execute_result"
    }
   ],
   "source": [
    "x.shape"
   ]
  },
  {
   "cell_type": "code",
   "execution_count": 368,
   "metadata": {
    "ExecuteTime": {
     "end_time": "2025-07-23T13:09:30.110618Z",
     "start_time": "2025-07-23T13:09:30.107801Z"
    },
    "id": "JlbOOHL1E5uD",
    "outputId": "c5ca3a5d-ef92-48ca-9270-f0bb5d1c6732"
   },
   "outputs": [
    {
     "data": {
      "text/plain": [
       "<tf.Tensor: shape=(2,), dtype=int64, numpy=array([3, 3])>"
      ]
     },
     "execution_count": 368,
     "metadata": {},
     "output_type": "execute_result"
    }
   ],
   "source": [
    "tf.reduce_sum(x, axis=1)"
   ]
  },
  {
   "cell_type": "code",
   "execution_count": 369,
   "metadata": {
    "ExecuteTime": {
     "end_time": "2025-07-23T13:09:30.151881Z",
     "start_time": "2025-07-23T13:09:30.148617Z"
    },
    "id": "BWGH--wtE5uD",
    "outputId": "16a41bc6-78a1-44f9-ea2d-cb6c5f5d2066"
   },
   "outputs": [
    {
     "data": {
      "text/plain": [
       "<tf.Tensor: shape=(2,), dtype=int64, numpy=array([3, 3])>"
      ]
     },
     "execution_count": 369,
     "metadata": {},
     "output_type": "execute_result"
    }
   ],
   "source": [
    "tf.reduce_sum(x, axis=-1) # -1번째 차원 제거"
   ]
  },
  {
   "cell_type": "code",
   "execution_count": 370,
   "metadata": {
    "ExecuteTime": {
     "end_time": "2025-07-23T13:09:30.183229Z",
     "start_time": "2025-07-23T13:09:30.179991Z"
    },
    "id": "LaeSy70xE5uD",
    "outputId": "377c0115-e376-4030-bfd2-a3c9fb01ee95"
   },
   "outputs": [
    {
     "data": {
      "text/plain": [
       "<tf.Tensor: shape=(3,), dtype=int64, numpy=array([2, 2, 2])>"
      ]
     },
     "execution_count": 370,
     "metadata": {},
     "output_type": "execute_result"
    }
   ],
   "source": [
    "tf.reduce_sum(x, axis=-2) # -1번째 차원 제거"
   ]
  }
 ],
 "metadata": {
  "accelerator": "GPU",
  "colab": {
   "gpuType": "T4",
   "provenance": [],
   "toc_visible": true
  },
  "kernelspec": {
   "display_name": "stenv",
   "language": "python",
   "name": "python3"
  },
  "language_info": {
   "codemirror_mode": {
    "name": "ipython",
    "version": 3
   },
   "file_extension": ".py",
   "mimetype": "text/x-python",
   "name": "python",
   "nbconvert_exporter": "python",
   "pygments_lexer": "ipython3",
   "version": "3.9.23"
  }
 },
 "nbformat": 4,
 "nbformat_minor": 0
}
