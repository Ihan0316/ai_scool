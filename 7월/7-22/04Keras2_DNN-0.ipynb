{
 "cells": [
  {
   "cell_type": "markdown",
   "metadata": {
    "id": "sXWOIk54ZiBM"
   },
   "source": [
    "교안 `tf04-Keras_MLP_DNN.pdf`"
   ]
  },
  {
   "cell_type": "markdown",
   "source": [
    "### co-lab 준비"
   ],
   "metadata": {
    "id": "ff2i2WYGQ7h6"
   }
  },
  {
   "cell_type": "code",
   "source": [
    "# from google.colab import drive\n",
    "# drive.mount('/content/drive')"
   ],
   "metadata": {
    "id": "Et47jz3jQooj",
    "executionInfo": {
     "status": "ok",
     "timestamp": 1753230979701,
     "user_tz": -540,
     "elapsed": 20,
     "user": {
      "displayName": "고강태 강사",
      "userId": "11816854931407731745"
     }
    },
    "ExecuteTime": {
     "end_time": "2025-07-23T14:10:24.389952Z",
     "start_time": "2025-07-23T14:10:24.386195Z"
    }
   },
   "outputs": [],
   "execution_count": 14
  },
  {
   "cell_type": "code",
   "source": [
    "ROOT=\"./drive/MyDrive/Course_AI_2025/\""
   ],
   "metadata": {
    "id": "6UOeS_fvQyAP",
    "executionInfo": {
     "status": "ok",
     "timestamp": 1753230979704,
     "user_tz": -540,
     "elapsed": 1,
     "user": {
      "displayName": "고강태 강사",
      "userId": "11816854931407731745"
     }
    },
    "ExecuteTime": {
     "end_time": "2025-07-23T14:10:24.407233Z",
     "start_time": "2025-07-23T14:10:24.404002Z"
    }
   },
   "outputs": [],
   "execution_count": 15
  },
  {
   "cell_type": "code",
   "source": [
    "# !apt install fonts-nanum*"
   ],
   "metadata": {
    "id": "MmgvQqrIQ-0W",
    "executionInfo": {
     "status": "ok",
     "timestamp": 1753230979706,
     "user_tz": -540,
     "elapsed": 1,
     "user": {
      "displayName": "고강태 강사",
      "userId": "11816854931407731745"
     }
    },
    "ExecuteTime": {
     "end_time": "2025-07-23T14:10:24.429678Z",
     "start_time": "2025-07-23T14:10:24.424505Z"
    }
   },
   "outputs": [],
   "execution_count": 16
  },
  {
   "cell_type": "code",
   "source": [
    "import matplotlib.pyplot as plt\n",
    "# import matplotlib.pylab as plt\n",
    "import matplotlib.font_manager as fm\n",
    "%matplotlib inline\n",
    "\n",
    "# plt.rcParams['font.family'] = 'Malgun Gothic'\n",
    "plt.rcParams['font.family'] = 'AppleGothic'  # Mac (AppleGothic 또는 AppleSDGothicNeo)\n",
    "# plt.rcParams['font.family'] = 'NanumGothic' # Linux (NanumGothic 또는 다른 설치된 한글 폰트)\n",
    "\n",
    "plt.rcParams['axes.unicode_minus'] = False #glypy 8722: Axes에 - 표시 안되는 것\n",
    "# plt.title('한글 타이틀...')"
   ],
   "metadata": {
    "id": "H7hxjg6-RMpq",
    "executionInfo": {
     "status": "ok",
     "timestamp": 1753230979710,
     "user_tz": -540,
     "elapsed": 3,
     "user": {
      "displayName": "고강태 강사",
      "userId": "11816854931407731745"
     }
    },
    "ExecuteTime": {
     "end_time": "2025-07-23T14:10:24.448383Z",
     "start_time": "2025-07-23T14:10:24.444197Z"
    }
   },
   "outputs": [],
   "execution_count": 17
  },
  {
   "cell_type": "markdown",
   "metadata": {
    "id": "iNFOeMfl3tIu"
   },
   "source": [
    "# 1. Deeplearning(DNN)\n",
    "\n",
    "심층 신경망은 MLP 신경망을 사용해서 머신러닝을 수행하는 기술을 칭한다.\n",
    "\n"
   ]
  },
  {
   "cell_type": "markdown",
   "metadata": {
    "id": "0SlmqWjfZiBR"
   },
   "source": [
    "## MLP 와 DNN\n"
   ]
  },
  {
   "cell_type": "markdown",
   "metadata": {
    "id": "BYydK3RzZiBR"
   },
   "source": [
    "#### - 다층신경망 MLP(Multi-Layer Perceptron)\n",
    "\n",
    "- MLP에서는 신경망의 단일 은닉층을 여러개 사용한다.\n",
    " - 여러 개의 은닉층을 가진 신경망의 한 종류, 가장 기본적인 형태의 신경망.\n",
    " - 여러 개의 은닉층으로 단일 퍼셉트론의 한계 극복\n",
    " - 기존의 머신러닝 알고리즘으로 다루기 힘들었던 이미지, 음성, 텍스트 분야에서 뛰어난 성능을 발휘하면서 주목받고 있다.\n",
    " - 특징\n",
    "   - 완전 연결(Fully Connected)\n",
    "      -  MLP의 각 층의 뉴런들은 이전 층의 모든 뉴런들과 연결되어 있습니다.\n",
    "   - 피드포워드(Feedforward)\n",
    "      - 정보의 흐름이 입력층에서 출력층으로 한 방향으로만 진행됩니다.\n",
    " - 주요 용도: 분류, 회귀 등 다양한 머신러닝 문제에 활용됩니다.\n"
   ]
  },
  {
   "cell_type": "markdown",
   "source": [],
   "metadata": {
    "id": "38DHrvo1g9F-"
   }
  },
  {
   "cell_type": "markdown",
   "metadata": {
    "id": "bCbB2LsJZiBS"
   },
   "source": [
    "여러 은닉층을 가진 MLP\n",
    "\n",
    "<img src='https://i.imgur.com/DbwhpZ3.png' width=600>"
   ]
  },
  {
   "cell_type": "markdown",
   "metadata": {
    "id": "zCg1ktY0ZiBS"
   },
   "source": [
    "#### -심층 신경망 (Deep Neural Network, DNN)\n",
    "\n",
    " - MLP의 한 종류로, 특히 여러 개의 은닉층을 포함하는 신경망을 의미\n",
    " - '심층(Deep)'이라는 단어는 은닉층의 수가 많다는 것을 강조.\n",
    " - DNN은 MLP의 특별한 경우로 보통 3개 이상의 은닉층을 가진 MLP를 DNN이라고 한다.\n",
    " - 특징:\n",
    "    - 복잡한 패턴 학습\n",
    "      - 은닉층이 깊어질수록 더 복잡하고 추상적인 특징들을 학습할 수 있는 능력이 있다.\n",
    "    - 계층적 특징 학습\n",
    "      - 각 층은 이전 층에서 학습한 특징들을 조합하여 더 고수준의 특징을 학습한다.\n",
    "      -\n",
    " - 사용예: 이미지 인식에서 첫 층은 선이나 모서리 같은 기본 특징을, 다음 층은 이들을 조합하여 부분적인 형태를, 더 깊은 층은 얼굴이나 사물과 같은 복잡한 특징을 학습할 수 있습니다.\n"
   ]
  },
  {
   "cell_type": "markdown",
   "metadata": {
    "id": "-YIIAfChZiBS"
   },
   "source": [
    "<img src='https://i.imgur.com/UxfCv5x.jpeg' width=600>"
   ]
  },
  {
   "cell_type": "markdown",
   "metadata": {
    "id": "ws4Wkgq6ZiBT"
   },
   "source": [
    "- 은닉층 : 입력층과 출력층 사이에 있는 모든 층\n",
    "- 출력층에 적용하는 활성화 함수는 종류가 제한된다(이진 분류면 시그모이드, 다중 분류면 소프트맥스)\n",
    "- 은닉층에 사용하는 활성화 함수는 비교적 자유롭다. (시그모이드, 볼 렐루 함수등이 사용됨)"
   ]
  },
  {
   "cell_type": "markdown",
   "metadata": {
    "id": "ZvxxAvRYZiBT"
   },
   "source": [
    "#### -딥러닝\n",
    "\n",
    "딥러닝은 머신러닝의 한 종류로 MLP 로 구성한다.\n",
    " - MLP 의 은닉층이 4개 이상으로 다수의 은닉층을 갖는다.\n",
    "\n",
    "기존 머신러닝과 딥러닝의 가장 <span class=\"mark\">큰 차이점은 **특징량 추출** 이다</span>. 일반적으로 머신러닝은 이미지 내부의 특징을 하나 하나 지정해야 한다. 딥러닝은 학습 데이터에서 기계가 자동으로 추출한다는 점이 다른다.\n",
    "\n",
    "<div align='center'>\n",
    "    <img src='https://www.softwaretestinghelp.com/wp-content/qa/uploads/2019/04/DeepLearning.png'>\n",
    "    <div align='center'>소스: https://www.softwaretestinghelp.com/data-mining-vs-machine-learning-vs-ai/</p>\n",
    "</div>\n",
    "\n",
    "사과와 포도를 구분한다고 할 때, 머신러닝은 특징을 *색에 주목해서 구분하자* 같이 직접 특징을 지시하는 알고리즘에 집중해서 사용한다면. 딥러닝은 대량의 데이터를 학습 시키면 이런 특징을 기계가 찾아내는 것이다."
   ]
  },
  {
   "cell_type": "markdown",
   "metadata": {
    "id": "iz7UHCxgZiBU"
   },
   "source": [
    "> Test\n",
    "> - tensorflow 2.19\n",
    "> - tensorflow 2.9\n",
    "> - tensorflow 2.7"
   ]
  },
  {
   "cell_type": "markdown",
   "metadata": {
    "id": "gyvl3LI6ZiBU"
   },
   "source": [
    "# 2 Keras로 DNN 만들기\n"
   ]
  },
  {
   "cell_type": "markdown",
   "metadata": {
    "id": "ZEgN7EjfZiBU"
   },
   "source": [
    "keras 의 Sequencial 클래스를 사용해서 MLP, DNN 을 구성할 수 있다.\n",
    "\n",
    "1. 입력데이터 이해\n",
    "1. Sequencial 로 MLP 구성하기\n",
    "2. Sequencial 생성자로 MLP 구성하기\n",
    "3. Sequencial.add() 로 MLP 구성하기"
   ]
  },
  {
   "cell_type": "code",
   "metadata": {
    "id": "f5p48KypZiBU",
    "executionInfo": {
     "status": "ok",
     "timestamp": 1753230979711,
     "user_tz": -540,
     "elapsed": 3,
     "user": {
      "displayName": "고강태 강사",
      "userId": "11816854931407731745"
     }
    },
    "ExecuteTime": {
     "end_time": "2025-07-23T14:10:24.465583Z",
     "start_time": "2025-07-23T14:10:24.463127Z"
    }
   },
   "source": [
    "import numpy as np\n",
    "import pandas as pd\n",
    "import matplotlib.pyplot as plt"
   ],
   "outputs": [],
   "execution_count": 18
  },
  {
   "cell_type": "code",
   "metadata": {
    "id": "0H6qAq-qZiBW",
    "executionInfo": {
     "status": "ok",
     "timestamp": 1753230979712,
     "user_tz": -540,
     "elapsed": 3,
     "user": {
      "displayName": "고강태 강사",
      "userId": "11816854931407731745"
     }
    },
    "ExecuteTime": {
     "end_time": "2025-07-23T14:10:24.485390Z",
     "start_time": "2025-07-23T14:10:24.481189Z"
    }
   },
   "source": [
    "import tensorflow as tf\n",
    "# from tensorflow import keras  # 텐서플로 2.x 버전\n",
    "import keras\n",
    "\n",
    "from sklearn.model_selection import train_test_split"
   ],
   "outputs": [],
   "execution_count": 19
  },
  {
   "cell_type": "markdown",
   "metadata": {
    "id": "DLdCchMdCaWQ"
   },
   "source": [
    "## (1)Fashin MNIST 데이터 세트\n",
    "\n",
    "10개의 범주(category)와 70,000개의 흑백 이미지로 구성된 [패션 MNIST](https://github.com/zalandoresearch/fashion-mnist) 데이터셋을 사용하겠습니다.\n",
    "\n",
    "패션 MNIST 데이터셋은 10종류의 패션 아이템으로 구성되어 있다.\n",
    "\n",
    " - MNIST 데이터는 손으로 쓴 0 ~ 9 까지의 숫자로 이루어져 있다.\n",
    " - 패션 MNIST는 MNIST와 크기, 개수가 동일하지만 숫자 대신 패션 아이템으로 이루져있다.\n"
   ]
  },
  {
   "cell_type": "markdown",
   "metadata": {
    "id": "U7aSyCZPZiBX"
   },
   "source": [
    "\n",
    "이미지는 해상도(28x28 픽셀)가 낮고 다음처럼 개별 옷 품목을 나타냅니다:\n",
    "\n",
    "<div align='center'>\n",
    "  <img src=\"https://tensorflow.org/images/fashion-mnist-sprite.png\" alt=\"Fashion MNIST sprite\" width=\"400\">   \n",
    "  <div align=\"center\">     <b>그림 1.</b> <a href=\"https://github.com/zalandoresearch/fashion-mnist\">패션-MNIST 샘플</a> (Zalando, MIT License).<br>{nbsp}   </div>\n",
    "</div>\n",
    "\n"
   ]
  },
  {
   "cell_type": "markdown",
   "metadata": {
    "id": "P0qAvDwEZiBX"
   },
   "source": [
    "TensorFlow에서 직접 [Fashion MNIST 데이터](https://www.tensorflow.org/api_docs/python/tf/keras/datasets/fashion_mnist/load_data)를 가져오고 로드합니다."
   ]
  },
  {
   "cell_type": "code",
   "metadata": {
    "id": "twWkJ1P4ZiBX",
    "executionInfo": {
     "status": "ok",
     "timestamp": 1753230979737,
     "user_tz": -540,
     "elapsed": 25,
     "user": {
      "displayName": "고강태 강사",
      "userId": "11816854931407731745"
     }
    },
    "ExecuteTime": {
     "end_time": "2025-07-23T14:10:24.866588Z",
     "start_time": "2025-07-23T14:10:24.534689Z"
    }
   },
   "source": [
    "(train_images, train_labels), (test_images, test_labels) = \\\n",
    "    keras.datasets.fashion_mnist.load_data()"
   ],
   "outputs": [],
   "execution_count": 20
  },
  {
   "cell_type": "code",
   "metadata": {
    "colab": {
     "base_uri": "https://localhost:8080/"
    },
    "id": "B1jaf-UMZiBX",
    "executionInfo": {
     "status": "ok",
     "timestamp": 1753230979787,
     "user_tz": -540,
     "elapsed": 14,
     "user": {
      "displayName": "고강태 강사",
      "userId": "11816854931407731745"
     }
    },
    "outputId": "619dc988-83c1-44e3-f356-0b96a53f2e7d",
    "ExecuteTime": {
     "end_time": "2025-07-23T14:10:24.970375Z",
     "start_time": "2025-07-23T14:10:24.965843Z"
    }
   },
   "source": [
    "train_images.shape, train_labels.shape\n"
   ],
   "outputs": [
    {
     "data": {
      "text/plain": [
       "((60000, 28, 28), (60000,))"
      ]
     },
     "execution_count": 21,
     "metadata": {},
     "output_type": "execute_result"
    }
   ],
   "execution_count": 21
  },
  {
   "cell_type": "code",
   "source": [
    "test_images.shape, test_labels.shape\n"
   ],
   "metadata": {
    "colab": {
     "base_uri": "https://localhost:8080/"
    },
    "id": "fD1Qor0bkpQP",
    "executionInfo": {
     "status": "ok",
     "timestamp": 1753230979788,
     "user_tz": -540,
     "elapsed": 11,
     "user": {
      "displayName": "고강태 강사",
      "userId": "11816854931407731745"
     }
    },
    "outputId": "10927565-936d-490c-a80a-1f2be565cdb6",
    "ExecuteTime": {
     "end_time": "2025-07-23T14:10:25.009941Z",
     "start_time": "2025-07-23T14:10:25.006586Z"
    }
   },
   "outputs": [
    {
     "data": {
      "text/plain": [
       "((10000, 28, 28), (10000,))"
      ]
     },
     "execution_count": 22,
     "metadata": {},
     "output_type": "execute_result"
    }
   ],
   "execution_count": 22
  },
  {
   "cell_type": "markdown",
   "metadata": {
    "id": "yuOG0fe8ZiBY"
   },
   "source": [
    "크기가 28 x 28이다 보니 꽤 작고 흐릿하다. 신발과 다양한 종류의 옷들이 보인다.\n"
   ]
  },
  {
   "cell_type": "code",
   "metadata": {
    "colab": {
     "base_uri": "https://localhost:8080/",
     "height": 102
    },
    "id": "XsKgQW62ZiBY",
    "executionInfo": {
     "status": "ok",
     "timestamp": 1753230979912,
     "user_tz": -540,
     "elapsed": 126,
     "user": {
      "displayName": "고강태 강사",
      "userId": "11816854931407731745"
     }
    },
    "outputId": "2bcca8b8-5a4f-487f-ac94-5fa85a91d6c5",
    "ExecuteTime": {
     "end_time": "2025-07-23T14:10:25.184799Z",
     "start_time": "2025-07-23T14:10:25.111109Z"
    }
   },
   "source": [
    "import matplotlib.pyplot as plt\n",
    "\n",
    "fig, axs = plt.subplots(1, 10, figsize=(10,10))\n",
    "for i in range(10):\n",
    "    axs[i].imshow(train_images[i], cmap='gray')\n",
    "    axs[i].axis('off')\n",
    "plt.show()"
   ],
   "outputs": [
    {
     "data": {
      "text/plain": [
       "<Figure size 1000x1000 with 10 Axes>"
      ],
      "image/png": "[encoded data removed]"
     },
     "metadata": {},
     "output_type": "display_data"
    }
   ],
   "execution_count": 23
  },
  {
   "cell_type": "markdown",
   "metadata": {
    "id": "U_f5DM7oZiBY"
   },
   "source": [
    "패션 MNIST의 타깃은 0 ~ 9까지의 숫자 레이블로 구성된다. 각 숫자의 의미는 아직 모르지만 마지막 2개의 샘플이 같은 레이블(5)를 가지고 있다. 패션 MNIST에 포함된 10개의 레이블의 의미는 다음과 같다.\n",
    "\n",
    "0 : 티셔츠\n",
    "1 : 바지\n",
    "2 : 스웨터\n",
    "3 : 드레스\n",
    "4 : 코트\n",
    "5 : 샌달\n",
    "6 : 셔츠\n",
    "7 : 스니커즈\n",
    "8 : 가방\n",
    "9 : 앵클 부츠"
   ]
  },
  {
   "cell_type": "code",
   "metadata": {
    "colab": {
     "base_uri": "https://localhost:8080/"
    },
    "id": "SFpUFYZkZiBY",
    "executionInfo": {
     "status": "ok",
     "timestamp": 1753230979939,
     "user_tz": -540,
     "elapsed": 26,
     "user": {
      "displayName": "고강태 강사",
      "userId": "11816854931407731745"
     }
    },
    "outputId": "e7d47f08-34cc-45da-c55a-ba0be2c223fb",
    "ExecuteTime": {
     "end_time": "2025-07-23T14:10:25.202541Z",
     "start_time": "2025-07-23T14:10:25.199165Z"
    }
   },
   "source": [
    "np.unique(train_labels)"
   ],
   "outputs": [
    {
     "data": {
      "text/plain": [
       "array([0, 1, 2, 3, 4, 5, 6, 7, 8, 9], dtype=uint8)"
      ]
     },
     "execution_count": 24,
     "metadata": {},
     "output_type": "execute_result"
    }
   ],
   "execution_count": 24
  },
  {
   "cell_type": "markdown",
   "metadata": {
    "id": "vwPxBtyVZiBY"
   },
   "source": [
    "마지막으로 넘파이 unique() 함수로 레이블 당 샘플 개수를 확인해 보자."
   ]
  },
  {
   "cell_type": "code",
   "metadata": {
    "colab": {
     "base_uri": "https://localhost:8080/"
    },
    "id": "TsiTw2QeZiBZ",
    "executionInfo": {
     "status": "ok",
     "timestamp": 1753230979956,
     "user_tz": -540,
     "elapsed": 15,
     "user": {
      "displayName": "고강태 강사",
      "userId": "11816854931407731745"
     }
    },
    "outputId": "61837dad-ddf6-4d0f-f877-177ebd02df96",
    "ExecuteTime": {
     "end_time": "2025-07-23T14:10:25.255378Z",
     "start_time": "2025-07-23T14:10:25.251528Z"
    }
   },
   "source": [
    "# 전체 학습 데이터 타겟의 라벨만 출력\n",
    "np.unique(train_labels, return_counts=True)"
   ],
   "outputs": [
    {
     "data": {
      "text/plain": [
       "(array([0, 1, 2, 3, 4, 5, 6, 7, 8, 9], dtype=uint8),\n",
       " array([6000, 6000, 6000, 6000, 6000, 6000, 6000, 6000, 6000, 6000]))"
      ]
     },
     "execution_count": 25,
     "metadata": {},
     "output_type": "execute_result"
    }
   ],
   "execution_count": 25
  },
  {
   "cell_type": "markdown",
   "metadata": {
    "id": "3nxbewj3ZiBZ"
   },
   "source": [
    "이미지의 픽셀값을 0 ~ 255 범위에서 0 ~ 1 사이로 변환하고, 28 x 28 크기의 2차원 배열을 784 크기의 1차원 배열로 펼친다.\n",
    "\n"
   ]
  },
  {
   "cell_type": "code",
   "source": [
    "train_images.max()"
   ],
   "metadata": {
    "colab": {
     "base_uri": "https://localhost:8080/"
    },
    "id": "W2Lacqg_lf0g",
    "executionInfo": {
     "status": "ok",
     "timestamp": 1753230980009,
     "user_tz": -540,
     "elapsed": 52,
     "user": {
      "displayName": "고강태 강사",
      "userId": "11816854931407731745"
     }
    },
    "outputId": "d34fce69-79e7-4a20-956e-aae320872575",
    "ExecuteTime": {
     "end_time": "2025-07-23T14:10:25.302692Z",
     "start_time": "2025-07-23T14:10:25.292505Z"
    }
   },
   "outputs": [
    {
     "data": {
      "text/plain": [
       "255"
      ]
     },
     "execution_count": 26,
     "metadata": {},
     "output_type": "execute_result"
    }
   ],
   "execution_count": 26
  },
  {
   "cell_type": "code",
   "source": [
    "# 정규화\n",
    "train_scaled = train_images / 255.0"
   ],
   "metadata": {
    "id": "qhxfBxLLlSL1",
    "executionInfo": {
     "status": "ok",
     "timestamp": 1753230980129,
     "user_tz": -540,
     "elapsed": 119,
     "user": {
      "displayName": "고강태 강사",
      "userId": "11816854931407731745"
     }
    },
    "ExecuteTime": {
     "end_time": "2025-07-23T14:10:25.366013Z",
     "start_time": "2025-07-23T14:10:25.323608Z"
    }
   },
   "outputs": [],
   "execution_count": 27
  },
  {
   "cell_type": "code",
   "source": [
    "train_scaled.min(), train_scaled.max()"
   ],
   "metadata": {
    "colab": {
     "base_uri": "https://localhost:8080/"
    },
    "id": "7Xg7RDmxlnt1",
    "executionInfo": {
     "status": "ok",
     "timestamp": 1753230980145,
     "user_tz": -540,
     "elapsed": 40,
     "user": {
      "displayName": "고강태 강사",
      "userId": "11816854931407731745"
     }
    },
    "outputId": "b6426ac4-d246-41bd-a240-7d02d5dfd537",
    "ExecuteTime": {
     "end_time": "2025-07-23T14:10:25.402120Z",
     "start_time": "2025-07-23T14:10:25.374868Z"
    }
   },
   "outputs": [
    {
     "data": {
      "text/plain": [
       "(0.0, 1.0)"
      ]
     },
     "execution_count": 28,
     "metadata": {},
     "output_type": "execute_result"
    }
   ],
   "execution_count": 28
  },
  {
   "cell_type": "code",
   "metadata": {
    "id": "U9ujuPuMZiBZ",
    "executionInfo": {
     "status": "ok",
     "timestamp": 1753230980193,
     "user_tz": -540,
     "elapsed": 2,
     "user": {
      "displayName": "고강태 강사",
      "userId": "11816854931407731745"
     }
    },
    "ExecuteTime": {
     "end_time": "2025-07-23T14:10:25.439858Z",
     "start_time": "2025-07-23T14:10:25.428794Z"
    }
   },
   "source": [
    "# 28x28 이미지를 784개 벡터로 변경\n",
    "train_scaled = train_scaled.reshape(-1, 28*28)"
   ],
   "outputs": [],
   "execution_count": 29
  },
  {
   "cell_type": "code",
   "metadata": {
    "colab": {
     "base_uri": "https://localhost:8080/"
    },
    "id": "bFr5p_eRZiBZ",
    "executionInfo": {
     "status": "ok",
     "timestamp": 1753230980208,
     "user_tz": -540,
     "elapsed": 13,
     "user": {
      "displayName": "고강태 강사",
      "userId": "11816854931407731745"
     }
    },
    "outputId": "99d9bd1d-40f5-45c0-cab9-78de5df05b7e",
    "ExecuteTime": {
     "end_time": "2025-07-23T14:10:25.451069Z",
     "start_time": "2025-07-23T14:10:25.449275Z"
    }
   },
   "source": [
    "train_scaled.shape"
   ],
   "outputs": [
    {
     "data": {
      "text/plain": [
       "(60000, 784)"
      ]
     },
     "execution_count": 30,
     "metadata": {},
     "output_type": "execute_result"
    }
   ],
   "execution_count": 30
  },
  {
   "cell_type": "markdown",
   "metadata": {
    "id": "JJaGK2dTZiBZ"
   },
   "source": [
    "### \\[로지스틱 회귀로 패션 아이템 분류하기\\]\n",
    "\n"
   ]
  },
  {
   "cell_type": "markdown",
   "metadata": {
    "id": "vP9Kb5rDZiBa"
   },
   "source": [
    "> 머신러닝 LogisticRegressor 로 SGDClassifier 클래스와 cross_validate 함수를 사용해 이 데이터에서 교차 검증으로 성능을 확인두고 DNN 의 결과와 비교해 보자"
   ]
  },
  {
   "cell_type": "code",
   "metadata": {
    "id": "TVDhl5ThZiBa",
    "colab": {
     "base_uri": "https://localhost:8080/"
    },
    "executionInfo": {
     "status": "ok",
     "timestamp": 1753230994962,
     "user_tz": -540,
     "elapsed": 14753,
     "user": {
      "displayName": "고강태 강사",
      "userId": "11816854931407731745"
     }
    },
    "outputId": "7e3af204-cddb-4952-e284-2c407f35e413",
    "ExecuteTime": {
     "end_time": "2025-07-23T14:10:28.741575Z",
     "start_time": "2025-07-23T14:10:25.480097Z"
    }
   },
   "source": [
    "from sklearn.model_selection import cross_validate\n",
    "from sklearn.linear_model import SGDClassifier\n",
    "\n",
    "sc = SGDClassifier(max_iter=5, random_state=42)\n",
    "scores = cross_validate(sc, train_scaled, train_labels, n_jobs=-1)\n",
    "print(np.mean(scores['test_score']))"
   ],
   "outputs": [
    {
     "name": "stderr",
     "output_type": "stream",
     "text": [
      "/opt/anaconda3/envs/stenv/lib/python3.9/site-packages/sklearn/linear_model/_stochastic_gradient.py:738: ConvergenceWarning: Maximum number of iteration reached before convergence. Consider increasing max_iter to improve the fit.\n",
      "  warnings.warn(\n",
      "/opt/anaconda3/envs/stenv/lib/python3.9/site-packages/sklearn/linear_model/_stochastic_gradient.py:738: ConvergenceWarning: Maximum number of iteration reached before convergence. Consider increasing max_iter to improve the fit.\n",
      "  warnings.warn(\n",
      "/opt/anaconda3/envs/stenv/lib/python3.9/site-packages/sklearn/linear_model/_stochastic_gradient.py:738: ConvergenceWarning: Maximum number of iteration reached before convergence. Consider increasing max_iter to improve the fit.\n",
      "  warnings.warn(\n",
      "/opt/anaconda3/envs/stenv/lib/python3.9/site-packages/sklearn/linear_model/_stochastic_gradient.py:738: ConvergenceWarning: Maximum number of iteration reached before convergence. Consider increasing max_iter to improve the fit.\n",
      "  warnings.warn(\n",
      "/opt/anaconda3/envs/stenv/lib/python3.9/site-packages/sklearn/linear_model/_stochastic_gradient.py:738: ConvergenceWarning: Maximum number of iteration reached before convergence. Consider increasing max_iter to improve the fit.\n",
      "  warnings.warn(\n"
     ]
    },
    {
     "name": "stdout",
     "output_type": "stream",
     "text": [
      "0.8262833333333333\n"
     ]
    }
   ],
   "execution_count": 31
  },
  {
   "cell_type": "markdown",
   "metadata": {
    "id": "gGbek1_LZiBa"
   },
   "source": [
    "위에선 반복 횟수를 5로 지정하였다. 반복 횟수를 늘려도 크게 향상 되지는 않는다."
   ]
  },
  {
   "cell_type": "markdown",
   "metadata": {
    "id": "v1Ih63RIZiBb"
   },
   "source": [
    "### \\[입력 데이터 이해\\]\n"
   ]
  },
  {
   "cell_type": "markdown",
   "metadata": {
    "id": "FOJiJqTFZiBb"
   },
   "source": [
    "\n",
    "이미지 28x28 이미지의 픽셀 784를 입력으로 받아서 분류하는 심층 신경망을 구성한다.\n",
    "\n",
    "<img src='https://i.imgur.com/LeqDB0g.jpeg' height=300>"
   ]
  },
  {
   "cell_type": "markdown",
   "metadata": {
    "id": "dgMwgJ32ZiBb"
   },
   "source": [
    "심층 신경망은 MLP 층을 수평적으로 배치하는 구조\n",
    "\n",
    "\n",
    "- 2개 이상의 MLP 층 네트워크로 배치한 심층 신경망.\n",
    "- 다층 인공 신경망, 심층 신경망, 딥러닝을 같은 의미로 사용하기도 한다.\n"
   ]
  },
  {
   "cell_type": "markdown",
   "metadata": {
    "id": "lOwtt67GZiBb"
   },
   "source": [
    "\n",
    "클래스가 총 10개이기 때문에 z10 까지 계산한다. z1 ~ z10을 계산하고 이를 바탕으로 클래스를 예측하기 때문에 신경망의 최종 값을 만든다는 의미에서 출력층이라고 한다.\n",
    "\n",
    "\n",
    "\n",
    " 픽셀이 총 784개 이고 출력층은 총 10개이다. 이것들이 모두 연결된 선을 생각해보면 784 x 10 = 7840 개의 연결된 선이 있다. 정말 빽빽하기 때문에 밀집층이라고 부른다.\n",
    " - 밀집층은 양쪽의 뉴런이 모두 빽빽하게 연결된 층으로, 완전 연결층이라고도 부른다.\n",
    "\n",
    "<img src='https://i.imgur.com/Tv0g0at.jpeg' width=600>\n",
    "\n",
    "- 출력층 : z1 ~ z10에 해당, 클래스를 예측하여 신경망의 최종값을 만드는 층\n",
    "- 뉴런 : z의 값을 계산하는 단위, 현재는 유닛이라 부르는 사람이 더 많아지고 있다.\n",
    "- 입력층 : x1~x784에 해당, 픽셀값 그 자체이며 계산을 수행하진 않는다."
   ]
  },
  {
   "cell_type": "markdown",
   "metadata": {
    "id": "lg7Goz__ZiBb"
   },
   "source": [
    "가장 기본적인 인공 신경망(MDP)은 확률적 경사 하강법을 사용하는 로지스틱 회귀와 같다. 그렇다면 어떻게 인공 신경망으로 성능을 높일 수 있는 걸까?\n",
    "\n",
    " - 은닉층에서 입력을 서로 교차해서 다음 은닉층으로 전달하며 높아진다.\n",
    "\n",
    "\n",
    "\n",
    "은닉층에 왜 활성화 함수를 적용할까? 은닉층에선 선형적인 산술 계산만 수행한다면 수행 역할이 없는 셈이다. 선형 계산을 적당하게 비선형적으로 비틀어 주어야 한다. 그래야 다음 층의 계산과 단순히 합쳐지지 않고 나름의 역할을 할 수 있다."
   ]
  },
  {
   "cell_type": "markdown",
   "metadata": {
    "id": "dwu-QTUQZiBi"
   },
   "source": [
    "### 훈련 / 검증세트 분할\n",
    "\n",
    " 사이킷런의 train_test_split() 함수로 훈련 세트와 검증 세트로 나눈다."
   ]
  },
  {
   "cell_type": "code",
   "metadata": {
    "id": "gYrOvq45ZiBi",
    "executionInfo": {
     "status": "ok",
     "timestamp": 1753230995102,
     "user_tz": -540,
     "elapsed": 96,
     "user": {
      "displayName": "고강태 강사",
      "userId": "11816854931407731745"
     }
    },
    "ExecuteTime": {
     "end_time": "2025-07-23T14:10:28.961775Z",
     "start_time": "2025-07-23T14:10:28.839087Z"
    }
   },
   "source": [
    "from sklearn.model_selection import train_test_split\n",
    "\n",
    "train_scaled, val_scaled, train_labels, val_target = train_test_split(\n",
    "    train_scaled, train_labels, test_size=0.2, random_state=42)"
   ],
   "outputs": [],
   "execution_count": 32
  },
  {
   "cell_type": "markdown",
   "metadata": {
    "id": "sg--CXG3ZiBj"
   },
   "source": [
    "## (2) Sequancial이용 MLP 구성하기\n",
    "\n",
    "\n",
    "Dense Layer 객체를 준비하고 Sequencial 생성자로 MLP 를 구성한다.\n"
   ]
  },
  {
   "cell_type": "markdown",
   "metadata": {
    "id": "NKFj9dtKZiBj"
   },
   "source": [
    "```python\n",
    "class Dense(\n",
    "    units: int,\n",
    "    activation: Any | None = None,\n",
    "    use_bias: bool = True,\n",
    "    ...\n",
    ")\n",
    "```"
   ]
  },
  {
   "cell_type": "markdown",
   "metadata": {
    "id": "fepTUkBbZiBj"
   },
   "source": [
    "```python\n",
    "class Sequential(\n",
    "    layers: Any | None = None,\n",
    "    trainable: bool = True,\n",
    "    name: Any | None = None\n",
    ")\n",
    "```"
   ]
  },
  {
   "cell_type": "markdown",
   "metadata": {
    "id": "I3PSExlyZiBj"
   },
   "source": [
    "이제 인공 신경망 모델에 층을 추가해 보자.\n",
    " - 입력층과 출력층 사이에 밀집층이 추가된다.\n",
    " - 입력층과 출력층 사이에 있는 모든 층을 은닉층이라고 부른다.\n",
    " - 은닉층에는 활성화 함수가 있다.\n",
    "   - 은닉층의 활성화 함수, 시그모이드 함수와 렐루 함수등을 사용한다.\n",
    " - 출력층에 적용하는 활성화 함수는 종류가 제한되어 있다.\n",
    "   - 이진 분류일 경우 시그모이드 함수를 사용하고 다중 분류일 경우 소프트맥스 함수를 사용한다.\n",
    "\n"
   ]
  },
  {
   "cell_type": "code",
   "metadata": {
    "id": "MCZWQiEwF6MD",
    "executionInfo": {
     "status": "ok",
     "timestamp": 1753230995157,
     "user_tz": -540,
     "elapsed": 53,
     "user": {
      "displayName": "고강태 강사",
      "userId": "11816854931407731745"
     }
    },
    "ExecuteTime": {
     "end_time": "2025-07-23T14:10:28.995586Z",
     "start_time": "2025-07-23T14:10:28.977692Z"
    }
   },
   "source": [
    "input = keras.layers.Input(shape=(784,))"
   ],
   "outputs": [],
   "execution_count": 33
  },
  {
   "cell_type": "code",
   "source": [
    "dense1 = keras.layers.Dense(100, activation='sigmoid')\n",
    "dense2 = keras.layers.Dense(10, activation='softmax')    # 다중분류: 10개"
   ],
   "metadata": {
    "id": "JFTuuLlPoWE2",
    "executionInfo": {
     "status": "ok",
     "timestamp": 1753230995158,
     "user_tz": -540,
     "elapsed": 53,
     "user": {
      "displayName": "고강태 강사",
      "userId": "11816854931407731745"
     }
    },
    "ExecuteTime": {
     "end_time": "2025-07-23T14:10:29.020032Z",
     "start_time": "2025-07-23T14:10:29.014175Z"
    }
   },
   "outputs": [],
   "execution_count": 34
  },
  {
   "cell_type": "markdown",
   "metadata": {
    "id": "S185N_6KZiBk"
   },
   "source": [
    "- 입력의 크기를 (784,)로 지정했다.\n",
    "- dens1이 은닉층이고 100개의 뉴런을 가진 밀집층이다. 활성화 함수를 sigmoid 했다.\n",
    "- 은닉층의 뉴런 개수를 정하는데는 특별한 기준이 없다.\n",
    "   - 한 가지 제약 사항이 있다면 출력층의 뉴런보다는 많게 한다.\n",
    "   - 클래스 10개에 대한 확률을 예측해야 하는데 이전 은닉층의 뉴런이 10개보다 적다면 부족한 정보가 전달될 것이다.\n",
    "- 그다음 dense2는 출력층이다. 10개의 클래스를 분류하므로 10개의 뉴런을 두었고 활성화 함수는 소프트맥스 함수로 지정했다."
   ]
  },
  {
   "cell_type": "markdown",
   "metadata": {
    "id": "D6YiSI-QZiBk"
   },
   "source": [
    "### Sequencial Layer\n",
    "\n",
    "이제 앞에서 만든 dense1과 dense2 객체를 Sequential 클래스에 추가하여 심층 신경망을 만들어 보자."
   ]
  },
  {
   "cell_type": "code",
   "metadata": {
    "id": "xmWL7kOoGB4P",
    "executionInfo": {
     "status": "ok",
     "timestamp": 1753230995313,
     "user_tz": -540,
     "elapsed": 157,
     "user": {
      "displayName": "고강태 강사",
      "userId": "11816854931407731745"
     }
    },
    "ExecuteTime": {
     "end_time": "2025-07-23T14:10:29.119735Z",
     "start_time": "2025-07-23T14:10:29.041588Z"
    }
   },
   "source": [
    "model = keras.Sequential([input, dense1, dense2])"
   ],
   "outputs": [
    {
     "name": "stderr",
     "output_type": "stream",
     "text": [
      "2025-07-23 23:10:29.044394: I metal_plugin/src/device/metal_device.cc:1154] Metal device set to: Apple M4 Pro\n",
      "2025-07-23 23:10:29.044426: I metal_plugin/src/device/metal_device.cc:296] systemMemory: 48.00 GB\n",
      "2025-07-23 23:10:29.044433: I metal_plugin/src/device/metal_device.cc:313] maxCacheSize: 18.72 GB\n",
      "2025-07-23 23:10:29.044446: I tensorflow/core/common_runtime/pluggable_device/pluggable_device_factory.cc:305] Could not identify NUMA node of platform GPU ID 0, defaulting to 0. Your kernel may not have been built with NUMA support.\n",
      "2025-07-23 23:10:29.044459: I tensorflow/core/common_runtime/pluggable_device/pluggable_device_factory.cc:271] Created TensorFlow device (/job:localhost/replica:0/task:0/device:GPU:0 with 0 MB memory) -> physical PluggableDevice (device: 0, name: METAL, pci bus id: <undefined>)\n"
     ]
    }
   ],
   "execution_count": 35
  },
  {
   "cell_type": "markdown",
   "metadata": {
    "id": "e_8uuD7pZiBl"
   },
   "source": [
    "Sequential 클래스의 객체를 만들 때 여러 개의 층을 추가하려면 위와 같이 리스트로 만들어 전달한다. 여기서 주의할 것은 출력츠을 가장 마지막에 두어야 한다는 것이다. 이 리스트는 가장 처음 등장하는 은닉층에서 마지막 출력층의 순서로 나열해야 한다.\n",
    "\n",
    "인공 신경망의 강력한 성능은 바로 이렇게 층을 추가하여 입력 데이터에 대해 연속적인 학습을 진행하는 능력에서 나온다. 물론 2개 이상의 층을 추가할 수도 있다.\n",
    "\n"
   ]
  },
  {
   "cell_type": "markdown",
   "metadata": {
    "id": "09xypoDhZiBl"
   },
   "source": [
    "### summary이용 파라미터 해석\n",
    "\n",
    "이렇게 구성된 네트워크의 입력, Dense 레이어, 출력의 파라미터 수는 summary() 함수를 통해 확인할 수 있고,\n",
    "\n",
    " - 층의 파라미터는 ***`(입력측 뉴런 수 + 1) x (출력측 뉴런 수)`*** 식으로 구한다."
   ]
  },
  {
   "cell_type": "markdown",
   "metadata": {
    "id": "2sJZftnrZiBl"
   },
   "source": [
    "\n",
    "머신러닝에서 함수 $y = ax + b$ 는 아래 같이 가중치와 편향을 고려하고 있다. 은닉층의 입력과 출력은 h(x) 함수 같이 가중치와 편향을 함께 계산한다.\n",
    "\n",
    "$$\n",
    "y = wx + b \\\\\n",
    "h(x) = wx + b\n",
    "$$\n",
    "\n",
    "이것은 머신러닝의 은닉층 연산은 바이어스도 1개의 노드로 계산해서 `+1`을 한다.\n",
    "\n",
    "hidden layer params:\n",
    "\n",
    "```\n",
    "1st params = (input(784) + bias(1)) * output(100) = (784 + 1) * 100 = 78,500\n",
    "2st params = (input(100) + bias(1)) * output(10) = (100 + 1) * 10 = 1010\n",
    "```"
   ]
  },
  {
   "cell_type": "markdown",
   "metadata": {
    "id": "t63hk9W4ZiBl"
   },
   "source": [
    "케라스는 모델의 summary() 메서드를 호출하면 층에 대한 유용한 정보를 얻을 수 있다."
   ]
  },
  {
   "cell_type": "code",
   "metadata": {
    "colab": {
     "base_uri": "https://localhost:8080/",
     "height": 204
    },
    "id": "J1vPwsjeZiBl",
    "executionInfo": {
     "status": "ok",
     "timestamp": 1753230995315,
     "user_tz": -540,
     "elapsed": 128,
     "user": {
      "displayName": "고강태 강사",
      "userId": "11816854931407731745"
     }
    },
    "outputId": "e99b9bd0-ea8c-4fcf-aa68-3d07376bb265",
    "ExecuteTime": {
     "end_time": "2025-07-23T14:10:29.168804Z",
     "start_time": "2025-07-23T14:10:29.151553Z"
    }
   },
   "source": [
    "model.summary()"
   ],
   "outputs": [
    {
     "data": {
      "text/plain": [
       "\u001B[1mModel: \"sequential\"\u001B[0m\n"
      ],
      "text/html": [
       "<pre style=\"white-space:pre;overflow-x:auto;line-height:normal;font-family:Menlo,'DejaVu Sans Mono',consolas,'Courier New',monospace\"><span style=\"font-weight: bold\">Model: \"sequential\"</span>\n",
       "</pre>\n"
      ]
     },
     "metadata": {},
     "output_type": "display_data"
    },
    {
     "data": {
      "text/plain": [
       "┏━━━━━━━━━━━━━━━━━━━━━━━━━━━━━━━━━┳━━━━━━━━━━━━━━━━━━━━━━━━┳━━━━━━━━━━━━━━━┓\n",
       "┃\u001B[1m \u001B[0m\u001B[1mLayer (type)                   \u001B[0m\u001B[1m \u001B[0m┃\u001B[1m \u001B[0m\u001B[1mOutput Shape          \u001B[0m\u001B[1m \u001B[0m┃\u001B[1m \u001B[0m\u001B[1m      Param #\u001B[0m\u001B[1m \u001B[0m┃\n",
       "┡━━━━━━━━━━━━━━━━━━━━━━━━━━━━━━━━━╇━━━━━━━━━━━━━━━━━━━━━━━━╇━━━━━━━━━━━━━━━┩\n",
       "│ dense (\u001B[38;5;33mDense\u001B[0m)                   │ (\u001B[38;5;45mNone\u001B[0m, \u001B[38;5;34m100\u001B[0m)            │        \u001B[38;5;34m78,500\u001B[0m │\n",
       "├─────────────────────────────────┼────────────────────────┼───────────────┤\n",
       "│ dense_1 (\u001B[38;5;33mDense\u001B[0m)                 │ (\u001B[38;5;45mNone\u001B[0m, \u001B[38;5;34m10\u001B[0m)             │         \u001B[38;5;34m1,010\u001B[0m │\n",
       "└─────────────────────────────────┴────────────────────────┴───────────────┘\n"
      ],
      "text/html": [
       "<pre style=\"white-space:pre;overflow-x:auto;line-height:normal;font-family:Menlo,'DejaVu Sans Mono',consolas,'Courier New',monospace\">┏━━━━━━━━━━━━━━━━━━━━━━━━━━━━━━━━━┳━━━━━━━━━━━━━━━━━━━━━━━━┳━━━━━━━━━━━━━━━┓\n",
       "┃<span style=\"font-weight: bold\"> Layer (type)                    </span>┃<span style=\"font-weight: bold\"> Output Shape           </span>┃<span style=\"font-weight: bold\">       Param # </span>┃\n",
       "┡━━━━━━━━━━━━━━━━━━━━━━━━━━━━━━━━━╇━━━━━━━━━━━━━━━━━━━━━━━━╇━━━━━━━━━━━━━━━┩\n",
       "│ dense (<span style=\"color: #0087ff; text-decoration-color: #0087ff\">Dense</span>)                   │ (<span style=\"color: #00d7ff; text-decoration-color: #00d7ff\">None</span>, <span style=\"color: #00af00; text-decoration-color: #00af00\">100</span>)            │        <span style=\"color: #00af00; text-decoration-color: #00af00\">78,500</span> │\n",
       "├─────────────────────────────────┼────────────────────────┼───────────────┤\n",
       "│ dense_1 (<span style=\"color: #0087ff; text-decoration-color: #0087ff\">Dense</span>)                 │ (<span style=\"color: #00d7ff; text-decoration-color: #00d7ff\">None</span>, <span style=\"color: #00af00; text-decoration-color: #00af00\">10</span>)             │         <span style=\"color: #00af00; text-decoration-color: #00af00\">1,010</span> │\n",
       "└─────────────────────────────────┴────────────────────────┴───────────────┘\n",
       "</pre>\n"
      ]
     },
     "metadata": {},
     "output_type": "display_data"
    },
    {
     "data": {
      "text/plain": [
       "\u001B[1m Total params: \u001B[0m\u001B[38;5;34m79,510\u001B[0m (310.59 KB)\n"
      ],
      "text/html": [
       "<pre style=\"white-space:pre;overflow-x:auto;line-height:normal;font-family:Menlo,'DejaVu Sans Mono',consolas,'Courier New',monospace\"><span style=\"font-weight: bold\"> Total params: </span><span style=\"color: #00af00; text-decoration-color: #00af00\">79,510</span> (310.59 KB)\n",
       "</pre>\n"
      ]
     },
     "metadata": {},
     "output_type": "display_data"
    },
    {
     "data": {
      "text/plain": [
       "\u001B[1m Trainable params: \u001B[0m\u001B[38;5;34m79,510\u001B[0m (310.59 KB)\n"
      ],
      "text/html": [
       "<pre style=\"white-space:pre;overflow-x:auto;line-height:normal;font-family:Menlo,'DejaVu Sans Mono',consolas,'Courier New',monospace\"><span style=\"font-weight: bold\"> Trainable params: </span><span style=\"color: #00af00; text-decoration-color: #00af00\">79,510</span> (310.59 KB)\n",
       "</pre>\n"
      ]
     },
     "metadata": {},
     "output_type": "display_data"
    },
    {
     "data": {
      "text/plain": [
       "\u001B[1m Non-trainable params: \u001B[0m\u001B[38;5;34m0\u001B[0m (0.00 B)\n"
      ],
      "text/html": [
       "<pre style=\"white-space:pre;overflow-x:auto;line-height:normal;font-family:Menlo,'DejaVu Sans Mono',consolas,'Courier New',monospace\"><span style=\"font-weight: bold\"> Non-trainable params: </span><span style=\"color: #00af00; text-decoration-color: #00af00\">0</span> (0.00 B)\n",
       "</pre>\n"
      ]
     },
     "metadata": {},
     "output_type": "display_data"
    }
   ],
   "execution_count": 36
  },
  {
   "cell_type": "markdown",
   "metadata": {
    "id": "0TEMZ5FSZiBm"
   },
   "source": [
    "모델의 구조 summary() :\n",
    "\n",
    "\n",
    " - Layer (type): 은닉층 이름과 종류\n",
    " - Output Shape: (None, 100) : 출력되는 배열의 첫 번째 차원을 배치 차원이으로, None으로 지정되는 이유는 배치 크기가 동적으로 추가될 수 있어서 None으로 둔다.\n",
    " -  Param : 층에서 계산할 인자의 수. 아래 파라미터 입력과 출력 이해 참고."
   ]
  },
  {
   "cell_type": "markdown",
   "metadata": {
    "id": "WxAudyD0ZiBm"
   },
   "source": [
    "맨 첫줄에는 모델의 이름이 나온다. 그다음 이 모델에 들어 있는 층이 순서대로 나열된다. 이 순서는 맨 처음 추가한 은닉층에서 출력층의 순서대로 나열된다. 층마다 층 이름, 클래스, 출력 크기, 모델 파라미터 개수가 출력된다. 층을 만들 때 name 매개변수로 이름을 지정할 수 있다. 층 이름을 지정하지 않으면 케라스가 자동으로 'dense'라고 이름을 붙인다.\n",
    "\n",
    "출력 크기를 보면 (None, 100)이다. 첫 번째 차원은 샘플의 개수를 나타낸다. 샘플의 개수가 아직 정의되어 있지 않기 때문에 None이다. 왜 그럴까? 케라스 모델의 fit() 메서드에 훈련 데이터를 주입하면 이 데이터를 한 번에 모두 사용하지 않고 잘게 나누어 여러 번에 걸쳐 경사 하강법 단계를 수행한다. 바로 미니배치 경사 하강법이다.\n",
    "\n",
    "케라스의 기본 미니배치 크기는 32개이다. 이 값은 fit() 메서드에서 batch_size 매개변수로 바꿀 수 있다. 따라서 샘플 개수를 고정하지 않고 어떤 배치 크기에도 유연하게 대응할 수 있도록 None으로 설정한다. 이렇게 신경망 층에 입력되거나 출력되는 배열의 첫 번째 차원을 배치 차원이라고 부른다.\n",
    "\n",
    "\n",
    "\n",
    "***마지막으로 모델 파라미터 개수가 출력된다. 이 층은 Dense 층이므로 입력 픽셀 784개와 100개의 모든 조합에 대한 가중치가 있다. 그리고 뉴런마다 1개의 절편이 있다. 따라서 총 78500개 이다***.\n",
    "\n",
    "두 번째 층의 출력 크기는 (None,10)이다. 배치 차원은 동일하게 None이고 출력 뉴런 개수가 10개이기 때문이다. 이 층의 모델 파라미터 개수는 1010개이다.\n",
    "\n",
    "summary() 메서드의 마지막에는 총 모델 파라미터 개수와 훈련되는 파라미터 개수가 동일하게 79510으로 나온다. 그 아래 훈련되지 않는 파라미터는 0으로 나온다. 간혹 경사 하강법으로 훈련되지 않는 파라미터를 가진 층이 있다. 이런 층의 파라미터 개수가 여기에 나온다."
   ]
  },
  {
   "cell_type": "code",
   "source": [
    "model.compile(loss='sparse_categorical_crossentropy', metrics=['accuracy'])"
   ],
   "metadata": {
    "id": "bCpeXd3rpuIe",
    "executionInfo": {
     "status": "ok",
     "timestamp": 1753230995315,
     "user_tz": -540,
     "elapsed": 9,
     "user": {
      "displayName": "고강태 강사",
      "userId": "11816854931407731745"
     }
    },
    "ExecuteTime": {
     "end_time": "2025-07-23T14:10:29.201674Z",
     "start_time": "2025-07-23T14:10:29.189329Z"
    }
   },
   "outputs": [],
   "execution_count": 37
  },
  {
   "cell_type": "code",
   "source": [
    "model.fit(train_scaled, train_labels, epochs=10)"
   ],
   "metadata": {
    "colab": {
     "base_uri": "https://localhost:8080/"
    },
    "id": "-qNCMe3FqE4N",
    "executionInfo": {
     "status": "ok",
     "timestamp": 1753231043263,
     "user_tz": -540,
     "elapsed": 47953,
     "user": {
      "displayName": "고강태 강사",
      "userId": "11816854931407731745"
     }
    },
    "outputId": "1a8f4c7d-cb3d-4111-8f37-adab327152db",
    "ExecuteTime": {
     "end_time": "2025-07-23T14:11:40.484346Z",
     "start_time": "2025-07-23T14:10:29.213373Z"
    }
   },
   "outputs": [
    {
     "name": "stdout",
     "output_type": "stream",
     "text": [
      "Epoch 1/10\n"
     ]
    },
    {
     "name": "stderr",
     "output_type": "stream",
     "text": [
      "2025-07-23 23:10:29.344548: I tensorflow/core/grappler/optimizers/custom_graph_optimizer_registry.cc:117] Plugin optimizer for device_type GPU is enabled.\n"
     ]
    },
    {
     "name": "stdout",
     "output_type": "stream",
     "text": [
      "\u001B[1m1500/1500\u001B[0m \u001B[32m━━━━━━━━━━━━━━━━━━━━\u001B[0m\u001B[37m\u001B[0m \u001B[1m8s\u001B[0m 4ms/step - accuracy: 0.7515 - loss: 0.7806\n",
      "Epoch 2/10\n",
      "\u001B[1m1500/1500\u001B[0m \u001B[32m━━━━━━━━━━━━━━━━━━━━\u001B[0m\u001B[37m\u001B[0m \u001B[1m8s\u001B[0m 5ms/step - accuracy: 0.8485 - loss: 0.4245\n",
      "Epoch 3/10\n",
      "\u001B[1m1500/1500\u001B[0m \u001B[32m━━━━━━━━━━━━━━━━━━━━\u001B[0m\u001B[37m\u001B[0m \u001B[1m8s\u001B[0m 5ms/step - accuracy: 0.8622 - loss: 0.3835\n",
      "Epoch 4/10\n",
      "\u001B[1m1500/1500\u001B[0m \u001B[32m━━━━━━━━━━━━━━━━━━━━\u001B[0m\u001B[37m\u001B[0m \u001B[1m8s\u001B[0m 5ms/step - accuracy: 0.8721 - loss: 0.3532\n",
      "Epoch 5/10\n",
      "\u001B[1m1500/1500\u001B[0m \u001B[32m━━━━━━━━━━━━━━━━━━━━\u001B[0m\u001B[37m\u001B[0m \u001B[1m7s\u001B[0m 5ms/step - accuracy: 0.8768 - loss: 0.3360\n",
      "Epoch 6/10\n",
      "\u001B[1m1500/1500\u001B[0m \u001B[32m━━━━━━━━━━━━━━━━━━━━\u001B[0m\u001B[37m\u001B[0m \u001B[1m7s\u001B[0m 5ms/step - accuracy: 0.8832 - loss: 0.3210\n",
      "Epoch 7/10\n",
      "\u001B[1m1500/1500\u001B[0m \u001B[32m━━━━━━━━━━━━━━━━━━━━\u001B[0m\u001B[37m\u001B[0m \u001B[1m7s\u001B[0m 5ms/step - accuracy: 0.8860 - loss: 0.3107\n",
      "Epoch 8/10\n",
      "\u001B[1m1500/1500\u001B[0m \u001B[32m━━━━━━━━━━━━━━━━━━━━\u001B[0m\u001B[37m\u001B[0m \u001B[1m8s\u001B[0m 5ms/step - accuracy: 0.8928 - loss: 0.2991\n",
      "Epoch 9/10\n",
      "\u001B[1m1500/1500\u001B[0m \u001B[32m━━━━━━━━━━━━━━━━━━━━\u001B[0m\u001B[37m\u001B[0m \u001B[1m6s\u001B[0m 4ms/step - accuracy: 0.8969 - loss: 0.2875\n",
      "Epoch 10/10\n",
      "\u001B[1m1500/1500\u001B[0m \u001B[32m━━━━━━━━━━━━━━━━━━━━\u001B[0m\u001B[37m\u001B[0m \u001B[1m5s\u001B[0m 4ms/step - accuracy: 0.8973 - loss: 0.2803\n"
     ]
    },
    {
     "data": {
      "text/plain": [
       "<keras.src.callbacks.history.History at 0x3c904af40>"
      ]
     },
     "execution_count": 38,
     "metadata": {},
     "output_type": "execute_result"
    }
   ],
   "execution_count": 38
  },
  {
   "cell_type": "code",
   "source": [
    "1500 * 32"
   ],
   "metadata": {
    "colab": {
     "base_uri": "https://localhost:8080/"
    },
    "id": "OUZSKoHVqaPm",
    "executionInfo": {
     "status": "ok",
     "timestamp": 1753231043286,
     "user_tz": -540,
     "elapsed": 22,
     "user": {
      "displayName": "고강태 강사",
      "userId": "11816854931407731745"
     }
    },
    "outputId": "a9117b59-a43e-455c-acee-6df0c13028f9",
    "ExecuteTime": {
     "end_time": "2025-07-23T14:11:40.537567Z",
     "start_time": "2025-07-23T14:11:40.535715Z"
    }
   },
   "outputs": [
    {
     "data": {
      "text/plain": [
       "48000"
      ]
     },
     "execution_count": 39,
     "metadata": {},
     "output_type": "execute_result"
    }
   ],
   "execution_count": 39
  },
  {
   "cell_type": "code",
   "source": [
    "loss, accuracy = model.evaluate(val_scaled, val_target)\n",
    "print(loss, accuracy)"
   ],
   "metadata": {
    "colab": {
     "base_uri": "https://localhost:8080/"
    },
    "id": "VDr1n5pqqjvm",
    "executionInfo": {
     "status": "ok",
     "timestamp": 1753231044447,
     "user_tz": -540,
     "elapsed": 1158,
     "user": {
      "displayName": "고강태 강사",
      "userId": "11816854931407731745"
     }
    },
    "outputId": "a2c9114a-2682-419b-f197-091e791441c7",
    "ExecuteTime": {
     "end_time": "2025-07-23T14:11:41.939831Z",
     "start_time": "2025-07-23T14:11:40.578840Z"
    }
   },
   "outputs": [
    {
     "name": "stdout",
     "output_type": "stream",
     "text": [
      "\u001B[1m375/375\u001B[0m \u001B[32m━━━━━━━━━━━━━━━━━━━━\u001B[0m\u001B[37m\u001B[0m \u001B[1m1s\u001B[0m 3ms/step - accuracy: 0.8772 - loss: 0.3344\n",
      "0.3370280861854553 0.8759166598320007\n"
     ]
    }
   ],
   "execution_count": 40
  },
  {
   "cell_type": "markdown",
   "metadata": {
    "id": "qAi41rBTdk7k"
   },
   "source": [
    "### Sequencial 생성자에 직접\n",
    "\n",
    "모델을 훈련하기 전에 Seqeuntial 클래스에 층을 추가하는 다른 방법을 알아보자. 다음처럼 Sequential 클래스의 생성자 안에서 바로 Dense 클래스의 객체를 만드는 경우가 많다."
   ]
  },
  {
   "cell_type": "code",
   "metadata": {
    "id": "0XeV6V4ha3I8",
    "executionInfo": {
     "status": "ok",
     "timestamp": 1753231044467,
     "user_tz": -540,
     "elapsed": 4,
     "user": {
      "displayName": "고강태 강사",
      "userId": "11816854931407731745"
     }
    },
    "ExecuteTime": {
     "end_time": "2025-07-23T14:11:41.969591Z",
     "start_time": "2025-07-23T14:11:41.955301Z"
    }
   },
   "source": [
    "model = keras.Sequential([\n",
    "    keras.layers.Input((784,)),\n",
    "    keras.layers.Dense(100, activation='sigmoid', name='hidden'),\n",
    "    keras.layers.Dense(10, activation='softmax', name='output')\n",
    "], name=\"패션 MNIST\")"
   ],
   "outputs": [],
   "execution_count": 41
  },
  {
   "cell_type": "markdown",
   "metadata": {
    "id": "kD2eBzcoZiBm"
   },
   "source": [
    "위와 같이 작업하면 아래처럼 추가되는 층을 한눈에 쉽게 알아보는 장점이 있다. 모델의 이름과 달리 층의 이름은 반드시 영문이어야 한다."
   ]
  },
  {
   "cell_type": "code",
   "metadata": {
    "colab": {
     "base_uri": "https://localhost:8080/",
     "height": 204
    },
    "id": "bwXDLSOWbm3L",
    "outputId": "f6d03c8a-1d8a-4392-8696-d2ccd93e133c",
    "executionInfo": {
     "status": "ok",
     "timestamp": 1753231044514,
     "user_tz": -540,
     "elapsed": 42,
     "user": {
      "displayName": "고강태 강사",
      "userId": "11816854931407731745"
     }
    },
    "ExecuteTime": {
     "end_time": "2025-07-23T14:11:41.983139Z",
     "start_time": "2025-07-23T14:11:41.977897Z"
    }
   },
   "source": [
    "model.summary()"
   ],
   "outputs": [
    {
     "data": {
      "text/plain": [
       "\u001B[1mModel: \"패션 MNIST\"\u001B[0m\n"
      ],
      "text/html": [
       "<pre style=\"white-space:pre;overflow-x:auto;line-height:normal;font-family:Menlo,'DejaVu Sans Mono',consolas,'Courier New',monospace\"><span style=\"font-weight: bold\">Model: \"패션 MNIST\"</span>\n",
       "</pre>\n"
      ]
     },
     "metadata": {},
     "output_type": "display_data"
    },
    {
     "data": {
      "text/plain": [
       "┏━━━━━━━━━━━━━━━━━━━━━━━━━━━━━━━━━┳━━━━━━━━━━━━━━━━━━━━━━━━┳━━━━━━━━━━━━━━━┓\n",
       "┃\u001B[1m \u001B[0m\u001B[1mLayer (type)                   \u001B[0m\u001B[1m \u001B[0m┃\u001B[1m \u001B[0m\u001B[1mOutput Shape          \u001B[0m\u001B[1m \u001B[0m┃\u001B[1m \u001B[0m\u001B[1m      Param #\u001B[0m\u001B[1m \u001B[0m┃\n",
       "┡━━━━━━━━━━━━━━━━━━━━━━━━━━━━━━━━━╇━━━━━━━━━━━━━━━━━━━━━━━━╇━━━━━━━━━━━━━━━┩\n",
       "│ hidden (\u001B[38;5;33mDense\u001B[0m)                  │ (\u001B[38;5;45mNone\u001B[0m, \u001B[38;5;34m100\u001B[0m)            │        \u001B[38;5;34m78,500\u001B[0m │\n",
       "├─────────────────────────────────┼────────────────────────┼───────────────┤\n",
       "│ output (\u001B[38;5;33mDense\u001B[0m)                  │ (\u001B[38;5;45mNone\u001B[0m, \u001B[38;5;34m10\u001B[0m)             │         \u001B[38;5;34m1,010\u001B[0m │\n",
       "└─────────────────────────────────┴────────────────────────┴───────────────┘\n"
      ],
      "text/html": [
       "<pre style=\"white-space:pre;overflow-x:auto;line-height:normal;font-family:Menlo,'DejaVu Sans Mono',consolas,'Courier New',monospace\">┏━━━━━━━━━━━━━━━━━━━━━━━━━━━━━━━━━┳━━━━━━━━━━━━━━━━━━━━━━━━┳━━━━━━━━━━━━━━━┓\n",
       "┃<span style=\"font-weight: bold\"> Layer (type)                    </span>┃<span style=\"font-weight: bold\"> Output Shape           </span>┃<span style=\"font-weight: bold\">       Param # </span>┃\n",
       "┡━━━━━━━━━━━━━━━━━━━━━━━━━━━━━━━━━╇━━━━━━━━━━━━━━━━━━━━━━━━╇━━━━━━━━━━━━━━━┩\n",
       "│ hidden (<span style=\"color: #0087ff; text-decoration-color: #0087ff\">Dense</span>)                  │ (<span style=\"color: #00d7ff; text-decoration-color: #00d7ff\">None</span>, <span style=\"color: #00af00; text-decoration-color: #00af00\">100</span>)            │        <span style=\"color: #00af00; text-decoration-color: #00af00\">78,500</span> │\n",
       "├─────────────────────────────────┼────────────────────────┼───────────────┤\n",
       "│ output (<span style=\"color: #0087ff; text-decoration-color: #0087ff\">Dense</span>)                  │ (<span style=\"color: #00d7ff; text-decoration-color: #00d7ff\">None</span>, <span style=\"color: #00af00; text-decoration-color: #00af00\">10</span>)             │         <span style=\"color: #00af00; text-decoration-color: #00af00\">1,010</span> │\n",
       "└─────────────────────────────────┴────────────────────────┴───────────────┘\n",
       "</pre>\n"
      ]
     },
     "metadata": {},
     "output_type": "display_data"
    },
    {
     "data": {
      "text/plain": [
       "\u001B[1m Total params: \u001B[0m\u001B[38;5;34m79,510\u001B[0m (310.59 KB)\n"
      ],
      "text/html": [
       "<pre style=\"white-space:pre;overflow-x:auto;line-height:normal;font-family:Menlo,'DejaVu Sans Mono',consolas,'Courier New',monospace\"><span style=\"font-weight: bold\"> Total params: </span><span style=\"color: #00af00; text-decoration-color: #00af00\">79,510</span> (310.59 KB)\n",
       "</pre>\n"
      ]
     },
     "metadata": {},
     "output_type": "display_data"
    },
    {
     "data": {
      "text/plain": [
       "\u001B[1m Trainable params: \u001B[0m\u001B[38;5;34m79,510\u001B[0m (310.59 KB)\n"
      ],
      "text/html": [
       "<pre style=\"white-space:pre;overflow-x:auto;line-height:normal;font-family:Menlo,'DejaVu Sans Mono',consolas,'Courier New',monospace\"><span style=\"font-weight: bold\"> Trainable params: </span><span style=\"color: #00af00; text-decoration-color: #00af00\">79,510</span> (310.59 KB)\n",
       "</pre>\n"
      ]
     },
     "metadata": {},
     "output_type": "display_data"
    },
    {
     "data": {
      "text/plain": [
       "\u001B[1m Non-trainable params: \u001B[0m\u001B[38;5;34m0\u001B[0m (0.00 B)\n"
      ],
      "text/html": [
       "<pre style=\"white-space:pre;overflow-x:auto;line-height:normal;font-family:Menlo,'DejaVu Sans Mono',consolas,'Courier New',monospace\"><span style=\"font-weight: bold\"> Non-trainable params: </span><span style=\"color: #00af00; text-decoration-color: #00af00\">0</span> (0.00 B)\n",
       "</pre>\n"
      ]
     },
     "metadata": {},
     "output_type": "display_data"
    }
   ],
   "execution_count": 42
  },
  {
   "cell_type": "markdown",
   "metadata": {
    "id": "HiBpp_KNZiBn"
   },
   "source": [
    "2개의 Dense 층이 이전과 동일하게 추가되었고 파라미터 개수도 같다. 바뀐 것은 모델 이름과 층 이름이다. 여러 모델과 많은 층을 사용할 때 name 매개변수를 구분하기 쉽다. 이 방법이 편리하지만 아주 많은 층을 추가하려면 Sequential 클래스 생성자가 매우 길어진다. 또 조건에 따라 층을 추가할 수도 없다."
   ]
  },
  {
   "cell_type": "markdown",
   "metadata": {
    "id": "4DIs2ZyhZiBn"
   },
   "source": [
    "### Sequencial.add()로 구성하기\n",
    "\n",
    "Sequential 클래스에서 층을 추가할 때 가장 널리 사용하는 방법은 모델의 add() 메서드이다."
   ]
  },
  {
   "cell_type": "code",
   "metadata": {
    "id": "yZSAxgZCbax7",
    "executionInfo": {
     "status": "ok",
     "timestamp": 1753231044525,
     "user_tz": -540,
     "elapsed": 6,
     "user": {
      "displayName": "고강태 강사",
      "userId": "11816854931407731745"
     }
    },
    "ExecuteTime": {
     "end_time": "2025-07-23T14:11:42.037459Z",
     "start_time": "2025-07-23T14:11:42.023815Z"
    }
   },
   "source": [
    "model = keras.Sequential(name=\"패션 MNIST\")\n",
    "model.add(keras.layers.Input((784,)))\n",
    "model.add(keras.layers.Dense(100, activation='sigmoid', name='hidden'))\n",
    "model.add(keras.layers.Dense(10, activation='softmax', name='output'))"
   ],
   "outputs": [],
   "execution_count": 43
  },
  {
   "cell_type": "markdown",
   "metadata": {
    "id": "u197iOwBZiBn"
   },
   "source": [
    "여기에서도 Dense 클래스의 객체를 따로 변수에 담지 않고 바로 add() 메서드로 전달한다. 이 방법은 한눈에 추가되는 층을 볼 수 있고 프로그램 실행 시 동적으로 층을 선택하여 추가할 수 있다."
   ]
  },
  {
   "cell_type": "code",
   "metadata": {
    "colab": {
     "base_uri": "https://localhost:8080/",
     "height": 204
    },
    "id": "bW2coaNQboe5",
    "outputId": "b892125d-263c-46bc-9bba-f0a594981c09",
    "executionInfo": {
     "status": "ok",
     "timestamp": 1753231044554,
     "user_tz": -540,
     "elapsed": 26,
     "user": {
      "displayName": "고강태 강사",
      "userId": "11816854931407731745"
     }
    },
    "ExecuteTime": {
     "end_time": "2025-07-23T14:11:42.051383Z",
     "start_time": "2025-07-23T14:11:42.046626Z"
    }
   },
   "source": [
    "model.summary()"
   ],
   "outputs": [
    {
     "data": {
      "text/plain": [
       "\u001B[1mModel: \"패션 MNIST\"\u001B[0m\n"
      ],
      "text/html": [
       "<pre style=\"white-space:pre;overflow-x:auto;line-height:normal;font-family:Menlo,'DejaVu Sans Mono',consolas,'Courier New',monospace\"><span style=\"font-weight: bold\">Model: \"패션 MNIST\"</span>\n",
       "</pre>\n"
      ]
     },
     "metadata": {},
     "output_type": "display_data"
    },
    {
     "data": {
      "text/plain": [
       "┏━━━━━━━━━━━━━━━━━━━━━━━━━━━━━━━━━┳━━━━━━━━━━━━━━━━━━━━━━━━┳━━━━━━━━━━━━━━━┓\n",
       "┃\u001B[1m \u001B[0m\u001B[1mLayer (type)                   \u001B[0m\u001B[1m \u001B[0m┃\u001B[1m \u001B[0m\u001B[1mOutput Shape          \u001B[0m\u001B[1m \u001B[0m┃\u001B[1m \u001B[0m\u001B[1m      Param #\u001B[0m\u001B[1m \u001B[0m┃\n",
       "┡━━━━━━━━━━━━━━━━━━━━━━━━━━━━━━━━━╇━━━━━━━━━━━━━━━━━━━━━━━━╇━━━━━━━━━━━━━━━┩\n",
       "│ hidden (\u001B[38;5;33mDense\u001B[0m)                  │ (\u001B[38;5;45mNone\u001B[0m, \u001B[38;5;34m100\u001B[0m)            │        \u001B[38;5;34m78,500\u001B[0m │\n",
       "├─────────────────────────────────┼────────────────────────┼───────────────┤\n",
       "│ output (\u001B[38;5;33mDense\u001B[0m)                  │ (\u001B[38;5;45mNone\u001B[0m, \u001B[38;5;34m10\u001B[0m)             │         \u001B[38;5;34m1,010\u001B[0m │\n",
       "└─────────────────────────────────┴────────────────────────┴───────────────┘\n"
      ],
      "text/html": [
       "<pre style=\"white-space:pre;overflow-x:auto;line-height:normal;font-family:Menlo,'DejaVu Sans Mono',consolas,'Courier New',monospace\">┏━━━━━━━━━━━━━━━━━━━━━━━━━━━━━━━━━┳━━━━━━━━━━━━━━━━━━━━━━━━┳━━━━━━━━━━━━━━━┓\n",
       "┃<span style=\"font-weight: bold\"> Layer (type)                    </span>┃<span style=\"font-weight: bold\"> Output Shape           </span>┃<span style=\"font-weight: bold\">       Param # </span>┃\n",
       "┡━━━━━━━━━━━━━━━━━━━━━━━━━━━━━━━━━╇━━━━━━━━━━━━━━━━━━━━━━━━╇━━━━━━━━━━━━━━━┩\n",
       "│ hidden (<span style=\"color: #0087ff; text-decoration-color: #0087ff\">Dense</span>)                  │ (<span style=\"color: #00d7ff; text-decoration-color: #00d7ff\">None</span>, <span style=\"color: #00af00; text-decoration-color: #00af00\">100</span>)            │        <span style=\"color: #00af00; text-decoration-color: #00af00\">78,500</span> │\n",
       "├─────────────────────────────────┼────────────────────────┼───────────────┤\n",
       "│ output (<span style=\"color: #0087ff; text-decoration-color: #0087ff\">Dense</span>)                  │ (<span style=\"color: #00d7ff; text-decoration-color: #00d7ff\">None</span>, <span style=\"color: #00af00; text-decoration-color: #00af00\">10</span>)             │         <span style=\"color: #00af00; text-decoration-color: #00af00\">1,010</span> │\n",
       "└─────────────────────────────────┴────────────────────────┴───────────────┘\n",
       "</pre>\n"
      ]
     },
     "metadata": {},
     "output_type": "display_data"
    },
    {
     "data": {
      "text/plain": [
       "\u001B[1m Total params: \u001B[0m\u001B[38;5;34m79,510\u001B[0m (310.59 KB)\n"
      ],
      "text/html": [
       "<pre style=\"white-space:pre;overflow-x:auto;line-height:normal;font-family:Menlo,'DejaVu Sans Mono',consolas,'Courier New',monospace\"><span style=\"font-weight: bold\"> Total params: </span><span style=\"color: #00af00; text-decoration-color: #00af00\">79,510</span> (310.59 KB)\n",
       "</pre>\n"
      ]
     },
     "metadata": {},
     "output_type": "display_data"
    },
    {
     "data": {
      "text/plain": [
       "\u001B[1m Trainable params: \u001B[0m\u001B[38;5;34m79,510\u001B[0m (310.59 KB)\n"
      ],
      "text/html": [
       "<pre style=\"white-space:pre;overflow-x:auto;line-height:normal;font-family:Menlo,'DejaVu Sans Mono',consolas,'Courier New',monospace\"><span style=\"font-weight: bold\"> Trainable params: </span><span style=\"color: #00af00; text-decoration-color: #00af00\">79,510</span> (310.59 KB)\n",
       "</pre>\n"
      ]
     },
     "metadata": {},
     "output_type": "display_data"
    },
    {
     "data": {
      "text/plain": [
       "\u001B[1m Non-trainable params: \u001B[0m\u001B[38;5;34m0\u001B[0m (0.00 B)\n"
      ],
      "text/html": [
       "<pre style=\"white-space:pre;overflow-x:auto;line-height:normal;font-family:Menlo,'DejaVu Sans Mono',consolas,'Courier New',monospace\"><span style=\"font-weight: bold\"> Non-trainable params: </span><span style=\"color: #00af00; text-decoration-color: #00af00\">0</span> (0.00 B)\n",
       "</pre>\n"
      ]
     },
     "metadata": {},
     "output_type": "display_data"
    }
   ],
   "execution_count": 44
  },
  {
   "cell_type": "markdown",
   "metadata": {
    "id": "VbRrqq9EZiBo"
   },
   "source": [
    "### 함수형 모델 선언"
   ]
  },
  {
   "cell_type": "code",
   "metadata": {
    "id": "xb7Gq_B_ZiBo",
    "executionInfo": {
     "status": "ok",
     "timestamp": 1753231044559,
     "user_tz": -540,
     "elapsed": 3,
     "user": {
      "displayName": "고강태 강사",
      "userId": "11816854931407731745"
     }
    },
    "ExecuteTime": {
     "end_time": "2025-07-23T14:11:42.097276Z",
     "start_time": "2025-07-23T14:11:42.081965Z"
    }
   },
   "source": [
    "input = keras.layers.Input((784,))\n",
    "hidden = keras.layers.Dense(100, activation='sigmoid')(input)\n",
    "output = keras.layers.Dense(10, activation='softmax')(hidden)\n",
    "\n",
    "model = keras.Model(inputs=input, outputs = output)"
   ],
   "outputs": [],
   "execution_count": 45
  },
  {
   "cell_type": "code",
   "source": [
    "type(hidden)"
   ],
   "metadata": {
    "colab": {
     "base_uri": "https://localhost:8080/",
     "height": 187
    },
    "id": "z23X0Uxywx0R",
    "executionInfo": {
     "status": "ok",
     "timestamp": 1753231044623,
     "user_tz": -540,
     "elapsed": 62,
     "user": {
      "displayName": "고강태 강사",
      "userId": "11816854931407731745"
     }
    },
    "outputId": "f9f65b93-7890-4cc1-c15a-fe7e8fbdb28c",
    "ExecuteTime": {
     "end_time": "2025-07-23T14:11:42.107702Z",
     "start_time": "2025-07-23T14:11:42.105951Z"
    }
   },
   "outputs": [
    {
     "data": {
      "text/plain": [
       "keras.src.backend.common.keras_tensor.KerasTensor"
      ]
     },
     "execution_count": 46,
     "metadata": {},
     "output_type": "execute_result"
    }
   ],
   "execution_count": 46
  },
  {
   "cell_type": "code",
   "source": [
    "type(model)"
   ],
   "metadata": {
    "colab": {
     "base_uri": "https://localhost:8080/",
     "height": 187
    },
    "id": "vovhrSiNxKxA",
    "executionInfo": {
     "status": "ok",
     "timestamp": 1753231044624,
     "user_tz": -540,
     "elapsed": 14,
     "user": {
      "displayName": "고강태 강사",
      "userId": "11816854931407731745"
     }
    },
    "outputId": "1c371187-fbbe-47c5-90de-944da9718f1f",
    "ExecuteTime": {
     "end_time": "2025-07-23T14:11:42.138032Z",
     "start_time": "2025-07-23T14:11:42.135842Z"
    }
   },
   "outputs": [
    {
     "data": {
      "text/plain": [
       "keras.src.models.functional.Functional"
      ]
     },
     "execution_count": 47,
     "metadata": {},
     "output_type": "execute_result"
    }
   ],
   "execution_count": 47
  },
  {
   "cell_type": "markdown",
   "metadata": {
    "id": "gut8A_7rCaW6",
    "tags": []
   },
   "source": [
    "## (3)모델 컴파일 과 훈련\n",
    "\n",
    "모델의 [*컴파일*](https://www.tensorflow.org/api_docs/python/tf/keras/Model#compile)\n",
    "\n",
    "```Python\n",
    "def compile(\n",
    "    optimizer: str = \"rmsprop\",\n",
    "    loss: Any | None = None,\n",
    "    loss_weights: Any | None = None,\n",
    "    metrics: Any | None = None,\n",
    "    weighted_metrics: Any | None = None,\n",
    "    run_eagerly: bool = False,\n",
    "    steps_per_execution: int = 1,\n",
    "    jit_compile: str = \"auto\",\n",
    "    auto_scale_loss: bool = True\n",
    ")\n",
    "```\n",
    "\n",
    "\n",
    "- [*손실 함수*](https://www.tensorflow.org/api_docs/python/tf/keras/losses) - 훈련 중 모델이 얼마나 정확한지 측정합니다. 모델을 올바른 방향으로 \"조정\"하려면 이 함수를 최소화해야 합니다.\n",
    "- [*옵티마이저*](https://www.tensorflow.org/api_docs/python/tf/keras/optimizers) - 모델이 인식하는 데이터와 해당 손실 함수를 기반으로 모델이 업데이트되는 방식입니다.\n",
    "- [*메트릭*](https://www.tensorflow.org/api_docs/python/tf/keras/metrics) — 훈련 및 테스트 단계를 모니터링하는 데 사용됩니다. 다음 예에서는 올바르게 분류된 이미지의 비율인 *정확도*를 사용합니다."
   ]
  },
  {
   "cell_type": "markdown",
   "metadata": {
    "id": "SzXGUj-jZiBp"
   },
   "source": [
    "#### -손실함수\n",
    "  -  분류를 위한 손실함수 사용\n",
    "  - 이진 분류에서 이진 크로스 엔트로피 함수를 사용\n",
    "  - 다중 분류에서는 크로스 엔트로피 손실 함수를 사용한다.\n",
    "     - sparse_ 단어는 이진 크로스 엔트로피 손실을 위해 -log(예측확률)에 타깃값(정답)을 곱했다."
   ]
  },
  {
   "cell_type": "markdown",
   "metadata": {
    "id": "XAalEwJvZiBp"
   },
   "source": [
    "#### - Metrics 측정 지표\n",
    "\n",
    "\n",
    " - 케라스는 모델이 훈련할 때 기본으로 에포크마다 손실 값을 출력해 준다.\n",
    " - 손실에 대해 다양한 출력을 위해 metrics 에 지표를 추가\n",
    "    - accuracy\n",
    "    - val_accuracy"
   ]
  },
  {
   "cell_type": "code",
   "metadata": {
    "id": "C0MFg3OnZiBp",
    "executionInfo": {
     "status": "ok",
     "timestamp": 1753231044624,
     "user_tz": -540,
     "elapsed": 7,
     "user": {
      "displayName": "고강태 강사",
      "userId": "11816854931407731745"
     }
    },
    "ExecuteTime": {
     "end_time": "2025-07-23T14:11:42.162033Z",
     "start_time": "2025-07-23T14:11:42.157622Z"
    }
   },
   "source": [
    "model.compile(loss=\"sparse_categorical_crossentropy\", metrics=['accuracy'])"
   ],
   "outputs": [],
   "execution_count": 48
  },
  {
   "cell_type": "markdown",
   "metadata": {
    "id": "7JtOZMY2ZiBq"
   },
   "source": [
    "\n",
    "신경망 모델을 훈련하려면 다음 단계가 필요합니다.\n",
    "\n",
    "1. 훈련 데이터를 모델에 주입합니다-이 예에서는 `train_images`와 `train_labels` 배열입니다.\n",
    "2. 모델이 이미지와 레이블을 매핑하는 방법을 배웁니다.\n",
    "3. 테스트 세트에 대한 모델의 예측을 만듭니다-이 예에서는 `test_images` 배열입니다. 이 예측이 `test_labels` 배열의 레이블과 맞는지 확인합니다.\n",
    "4. 예측이 `test_labels` 배열의 레이블과 일치하는지 확인합니다.\n"
   ]
  },
  {
   "cell_type": "markdown",
   "metadata": {
    "id": "0_wUf7AZZiBq"
   },
   "source": [
    "이제 모델을 훈련해 보자 fit() 을 사용한다.\n",
    "\n",
    "```Python\n",
    "def fit(\n",
    "    x: Any | None = None,\n",
    "    y: Any | None = None,\n",
    "    batch_size: Any | None = None,\n",
    "    epochs: int = 1,\n",
    "    callbacks: Any | None = None,\n",
    "    validation_split: float = 0,\n",
    "    validation_data: Any | None = None,\n",
    "    ...\n",
    "```"
   ]
  },
  {
   "cell_type": "markdown",
   "metadata": {
    "id": "kfaJLZrPZiBq"
   },
   "source": [
    "batch_size\n",
    " - 케라스의 기본 미니배치 크기는 32개이다.\n",
    " - fit(batch_size) 매개변수로 바꿀 수 있다."
   ]
  },
  {
   "cell_type": "markdown",
   "metadata": {
    "id": "M2meM-B2ZiBq"
   },
   "source": [
    "epochs\n",
    " - 한 배치가 실행되는 반복 횟수"
   ]
  },
  {
   "cell_type": "code",
   "metadata": {
    "colab": {
     "base_uri": "https://localhost:8080/"
    },
    "id": "o8kSau0OZiBq",
    "executionInfo": {
     "status": "ok",
     "timestamp": 1753231070558,
     "user_tz": -540,
     "elapsed": 25938,
     "user": {
      "displayName": "고강태 강사",
      "userId": "11816854931407731745"
     }
    },
    "outputId": "9bf8dc20-ef99-461f-cf69-8c9992e1805f",
    "ExecuteTime": {
     "end_time": "2025-07-23T14:12:10.593078Z",
     "start_time": "2025-07-23T14:11:42.180407Z"
    }
   },
   "source": [
    "model.fit(train_scaled, train_labels, epochs=5)"
   ],
   "outputs": [
    {
     "name": "stdout",
     "output_type": "stream",
     "text": [
      "Epoch 1/5\n",
      "\u001B[1m1500/1500\u001B[0m \u001B[32m━━━━━━━━━━━━━━━━━━━━\u001B[0m\u001B[37m\u001B[0m \u001B[1m6s\u001B[0m 4ms/step - accuracy: 0.7515 - loss: 0.7695\n",
      "Epoch 2/5\n",
      "\u001B[1m1500/1500\u001B[0m \u001B[32m━━━━━━━━━━━━━━━━━━━━\u001B[0m\u001B[37m\u001B[0m \u001B[1m5s\u001B[0m 4ms/step - accuracy: 0.8515 - loss: 0.4188\n",
      "Epoch 3/5\n",
      "\u001B[1m1500/1500\u001B[0m \u001B[32m━━━━━━━━━━━━━━━━━━━━\u001B[0m\u001B[37m\u001B[0m \u001B[1m5s\u001B[0m 4ms/step - accuracy: 0.8625 - loss: 0.3777\n",
      "Epoch 4/5\n",
      "\u001B[1m1500/1500\u001B[0m \u001B[32m━━━━━━━━━━━━━━━━━━━━\u001B[0m\u001B[37m\u001B[0m \u001B[1m6s\u001B[0m 4ms/step - accuracy: 0.8698 - loss: 0.3540\n",
      "Epoch 5/5\n",
      "\u001B[1m1500/1500\u001B[0m \u001B[32m━━━━━━━━━━━━━━━━━━━━\u001B[0m\u001B[37m\u001B[0m \u001B[1m6s\u001B[0m 4ms/step - accuracy: 0.8790 - loss: 0.3376\n"
     ]
    },
    {
     "data": {
      "text/plain": [
       "<keras.src.callbacks.history.History at 0x3e3f60850>"
      ]
     },
     "execution_count": 49,
     "metadata": {},
     "output_type": "execute_result"
    }
   ],
   "execution_count": 49
  },
  {
   "cell_type": "markdown",
   "metadata": {
    "id": "Fm1TlmHQZiBq"
   },
   "source": [
    "케라스는 친절하게 에포크마다 걸린 시간과 손실 정확도를 출력해 준다. 5번 반복에 정확도가 85%를 넘었다.\n",
    "\n",
    "Keras 는 신경망에 몇 개의 층을 추가하더라도 compile() 메서드와 fit() 메서드의 사용법은 동일하다. 이것이 케라스 API의 장점이다."
   ]
  },
  {
   "cell_type": "markdown",
   "metadata": {
    "id": "d6wtvDvrZiBr"
   },
   "source": [
    "\n",
    "\n",
    "그럼 앞서 따로 떼어놓은 검증 세트에서 모델의 성능을 확인해 보자. 케라스에서 모델의 성능을 평가하는 메서드는 evaluate() 메서드이다."
   ]
  },
  {
   "cell_type": "code",
   "metadata": {
    "colab": {
     "base_uri": "https://localhost:8080/"
    },
    "id": "9Q9TYWhqZiBr",
    "executionInfo": {
     "status": "ok",
     "timestamp": 1753231072024,
     "user_tz": -540,
     "elapsed": 1456,
     "user": {
      "displayName": "고강태 강사",
      "userId": "11816854931407731745"
     }
    },
    "outputId": "31e47c48-70b2-48f2-b1b8-300f54c7e523",
    "ExecuteTime": {
     "end_time": "2025-07-23T14:12:11.816349Z",
     "start_time": "2025-07-23T14:12:10.610694Z"
    }
   },
   "source": [
    "loss, accuracy = model.evaluate(val_scaled, val_target)\n",
    "print(loss, accuracy)"
   ],
   "outputs": [
    {
     "name": "stdout",
     "output_type": "stream",
     "text": [
      "\u001B[1m375/375\u001B[0m \u001B[32m━━━━━━━━━━━━━━━━━━━━\u001B[0m\u001B[37m\u001B[0m \u001B[1m1s\u001B[0m 3ms/step - accuracy: 0.8812 - loss: 0.3414\n",
      "0.3461175560951233 0.8755000233650208\n"
     ]
    }
   ],
   "execution_count": 50
  },
  {
   "cell_type": "markdown",
   "metadata": {
    "id": "J7gPwuumZiBr"
   },
   "source": [
    "비교군인 로지스틱회귀 결과에 비해서도 높게 나온다"
   ]
  },
  {
   "cell_type": "markdown",
   "metadata": {
    "id": "2wOFX2p9ZiBr"
   },
   "source": [
    "# 3.Flatten 층 사용 모델 만들기\n",
    "\n",
    "모델의 출력을 구성하기  Full connected layer 를 구성하면 이전에는 Flatten layer를 통해서 3차원이었던 벡터를 1차원으로 shape을 바꿔주었다.\n",
    "\n",
    "패션 MNIST 데이터는 28 x 28 크기이기 때문에 인공 신경망에 주입하기 위해 넘파이 배열의 reshape() 메서드를 사용해 1차원으로 펼쳤다. 직접 이렇게 1차원으로 펼쳐도 좋지만 케라스에서는 이를 위한 Flatten 층을 제공한다."
   ]
  },
  {
   "cell_type": "markdown",
   "metadata": {
    "id": "-Ymblmk7ZiBr"
   },
   "source": [
    "\n",
    "<img src='https://velog.velcdn.com/images%2Foch9854%2Fpost%2F6e230814-c1c6-49e3-a853-4f89a72d0ca6%2Fimage.png' width=500>"
   ]
  },
  {
   "cell_type": "markdown",
   "metadata": {
    "id": "rC4TLwOLZiBr"
   },
   "source": [
    "### - Flatten 클래스\n",
    "\n",
    "사실 Flatten 클래스는 배치 차원을 제외하고 나머지 입력 차원을 모두 일렬로 펼치는 역할만 한다. 입력에 곱해지는 가중치나 절편이 없다. 따라서 인공 신경망의 성능을 위해 기여하는 바는 없다. 하지만 Flatten 클래스를 층처럼 입력층과 은닉층 사이에 추가하기 때문에 이를 층이라 부른다."
   ]
  },
  {
   "cell_type": "code",
   "metadata": {
    "id": "C_s91-LcZiBs",
    "executionInfo": {
     "status": "ok",
     "timestamp": 1753231072056,
     "user_tz": -540,
     "elapsed": 31,
     "user": {
      "displayName": "고강태 강사",
      "userId": "11816854931407731745"
     }
    },
    "ExecuteTime": {
     "end_time": "2025-07-23T14:12:11.844561Z",
     "start_time": "2025-07-23T14:12:11.828125Z"
    }
   },
   "source": [
    "model = keras.Sequential()\n",
    "model.add(keras.layers.Input((28, 28)))\n",
    "# flatten layer\n",
    "model.add(keras.layers.Flatten())\n",
    "model.add(keras.layers.Dense(100, activation='relu'))\n",
    "model.add(keras.layers.Dense(10, activation='softmax'))"
   ],
   "outputs": [],
   "execution_count": 51
  },
  {
   "cell_type": "markdown",
   "metadata": {
    "id": "_dfXJDhwcyAK"
   },
   "source": [
    "### - ReLU 활성화 함수\n",
    "\n",
    "초창기 인공 신경망의 은닉층에 많이 사용된 활성화 함수는 시그모이드 함수였다. 하지만 이 함수에는 단점이 있다. 이 함수의 오른쪽과 왼쪽 끝으로 갈수록 그래프가 누워있기 때문에 올바른 출력을 만드는데 신속하게 대응하지 못한다.\n",
    "\n",
    "특히 층이 많은 심층 신경망일수록 그 효과가 누적되어 학습을 더 어렵게 만든다. 이를 개선하기 위해 다른 종류의 활성화 함수가 제안되었다. 바로 렐루 함수이다. 렐루 함수는 아주 간단하다. 입력이 양수일 경우 마치 활성화 함수가 없는 것처럼 그냥 입력을 통과시키고 음수일 경우에는 0으로 만든다.\n"
   ]
  },
  {
   "cell_type": "markdown",
   "metadata": {
    "id": "VKbxhdO9ZiBs"
   },
   "source": [
    "\n",
    "<img src='https://i.sstatic.net/itkXP.png' width=500>\n",
    "\n",
    "렐루 함수는 max(0,z)와 같이 쓸 수 있다. 이 함수는 z가 0보다 크면 z를 출력하고 z가 0보다 작으면 0을 출력한다. 렐루 함수는 특히 이미지 처리에서 좋은 성능을 낸다고 알려져 있다.\n",
    "\n",
    "은닉층의 활성화 함수에 시그모이드 함수 대신 렐루 함수를 적용하기 전에 케라스에서 제공하는 편리한 층 하나를 더 살펴보자.\n"
   ]
  },
  {
   "cell_type": "code",
   "metadata": {
    "colab": {
     "base_uri": "https://localhost:8080/",
     "height": 238
    },
    "id": "zHogWhu6g90a",
    "outputId": "2831f1dc-f685-40fd-caa3-2cb870fb445c",
    "executionInfo": {
     "status": "ok",
     "timestamp": 1753231072104,
     "user_tz": -540,
     "elapsed": 46,
     "user": {
      "displayName": "고강태 강사",
      "userId": "11816854931407731745"
     }
    },
    "ExecuteTime": {
     "end_time": "2025-07-23T14:12:11.857473Z",
     "start_time": "2025-07-23T14:12:11.852180Z"
    }
   },
   "source": [
    "model.summary()"
   ],
   "outputs": [
    {
     "data": {
      "text/plain": [
       "\u001B[1mModel: \"sequential_1\"\u001B[0m\n"
      ],
      "text/html": [
       "<pre style=\"white-space:pre;overflow-x:auto;line-height:normal;font-family:Menlo,'DejaVu Sans Mono',consolas,'Courier New',monospace\"><span style=\"font-weight: bold\">Model: \"sequential_1\"</span>\n",
       "</pre>\n"
      ]
     },
     "metadata": {},
     "output_type": "display_data"
    },
    {
     "data": {
      "text/plain": [
       "┏━━━━━━━━━━━━━━━━━━━━━━━━━━━━━━━━━┳━━━━━━━━━━━━━━━━━━━━━━━━┳━━━━━━━━━━━━━━━┓\n",
       "┃\u001B[1m \u001B[0m\u001B[1mLayer (type)                   \u001B[0m\u001B[1m \u001B[0m┃\u001B[1m \u001B[0m\u001B[1mOutput Shape          \u001B[0m\u001B[1m \u001B[0m┃\u001B[1m \u001B[0m\u001B[1m      Param #\u001B[0m\u001B[1m \u001B[0m┃\n",
       "┡━━━━━━━━━━━━━━━━━━━━━━━━━━━━━━━━━╇━━━━━━━━━━━━━━━━━━━━━━━━╇━━━━━━━━━━━━━━━┩\n",
       "│ flatten (\u001B[38;5;33mFlatten\u001B[0m)               │ (\u001B[38;5;45mNone\u001B[0m, \u001B[38;5;34m784\u001B[0m)            │             \u001B[38;5;34m0\u001B[0m │\n",
       "├─────────────────────────────────┼────────────────────────┼───────────────┤\n",
       "│ dense_4 (\u001B[38;5;33mDense\u001B[0m)                 │ (\u001B[38;5;45mNone\u001B[0m, \u001B[38;5;34m100\u001B[0m)            │        \u001B[38;5;34m78,500\u001B[0m │\n",
       "├─────────────────────────────────┼────────────────────────┼───────────────┤\n",
       "│ dense_5 (\u001B[38;5;33mDense\u001B[0m)                 │ (\u001B[38;5;45mNone\u001B[0m, \u001B[38;5;34m10\u001B[0m)             │         \u001B[38;5;34m1,010\u001B[0m │\n",
       "└─────────────────────────────────┴────────────────────────┴───────────────┘\n"
      ],
      "text/html": [
       "<pre style=\"white-space:pre;overflow-x:auto;line-height:normal;font-family:Menlo,'DejaVu Sans Mono',consolas,'Courier New',monospace\">┏━━━━━━━━━━━━━━━━━━━━━━━━━━━━━━━━━┳━━━━━━━━━━━━━━━━━━━━━━━━┳━━━━━━━━━━━━━━━┓\n",
       "┃<span style=\"font-weight: bold\"> Layer (type)                    </span>┃<span style=\"font-weight: bold\"> Output Shape           </span>┃<span style=\"font-weight: bold\">       Param # </span>┃\n",
       "┡━━━━━━━━━━━━━━━━━━━━━━━━━━━━━━━━━╇━━━━━━━━━━━━━━━━━━━━━━━━╇━━━━━━━━━━━━━━━┩\n",
       "│ flatten (<span style=\"color: #0087ff; text-decoration-color: #0087ff\">Flatten</span>)               │ (<span style=\"color: #00d7ff; text-decoration-color: #00d7ff\">None</span>, <span style=\"color: #00af00; text-decoration-color: #00af00\">784</span>)            │             <span style=\"color: #00af00; text-decoration-color: #00af00\">0</span> │\n",
       "├─────────────────────────────────┼────────────────────────┼───────────────┤\n",
       "│ dense_4 (<span style=\"color: #0087ff; text-decoration-color: #0087ff\">Dense</span>)                 │ (<span style=\"color: #00d7ff; text-decoration-color: #00d7ff\">None</span>, <span style=\"color: #00af00; text-decoration-color: #00af00\">100</span>)            │        <span style=\"color: #00af00; text-decoration-color: #00af00\">78,500</span> │\n",
       "├─────────────────────────────────┼────────────────────────┼───────────────┤\n",
       "│ dense_5 (<span style=\"color: #0087ff; text-decoration-color: #0087ff\">Dense</span>)                 │ (<span style=\"color: #00d7ff; text-decoration-color: #00d7ff\">None</span>, <span style=\"color: #00af00; text-decoration-color: #00af00\">10</span>)             │         <span style=\"color: #00af00; text-decoration-color: #00af00\">1,010</span> │\n",
       "└─────────────────────────────────┴────────────────────────┴───────────────┘\n",
       "</pre>\n"
      ]
     },
     "metadata": {},
     "output_type": "display_data"
    },
    {
     "data": {
      "text/plain": [
       "\u001B[1m Total params: \u001B[0m\u001B[38;5;34m79,510\u001B[0m (310.59 KB)\n"
      ],
      "text/html": [
       "<pre style=\"white-space:pre;overflow-x:auto;line-height:normal;font-family:Menlo,'DejaVu Sans Mono',consolas,'Courier New',monospace\"><span style=\"font-weight: bold\"> Total params: </span><span style=\"color: #00af00; text-decoration-color: #00af00\">79,510</span> (310.59 KB)\n",
       "</pre>\n"
      ]
     },
     "metadata": {},
     "output_type": "display_data"
    },
    {
     "data": {
      "text/plain": [
       "\u001B[1m Trainable params: \u001B[0m\u001B[38;5;34m79,510\u001B[0m (310.59 KB)\n"
      ],
      "text/html": [
       "<pre style=\"white-space:pre;overflow-x:auto;line-height:normal;font-family:Menlo,'DejaVu Sans Mono',consolas,'Courier New',monospace\"><span style=\"font-weight: bold\"> Trainable params: </span><span style=\"color: #00af00; text-decoration-color: #00af00\">79,510</span> (310.59 KB)\n",
       "</pre>\n"
      ]
     },
     "metadata": {},
     "output_type": "display_data"
    },
    {
     "data": {
      "text/plain": [
       "\u001B[1m Non-trainable params: \u001B[0m\u001B[38;5;34m0\u001B[0m (0.00 B)\n"
      ],
      "text/html": [
       "<pre style=\"white-space:pre;overflow-x:auto;line-height:normal;font-family:Menlo,'DejaVu Sans Mono',consolas,'Courier New',monospace\"><span style=\"font-weight: bold\"> Non-trainable params: </span><span style=\"color: #00af00; text-decoration-color: #00af00\">0</span> (0.00 B)\n",
       "</pre>\n"
      ]
     },
     "metadata": {},
     "output_type": "display_data"
    }
   ],
   "execution_count": 52
  },
  {
   "cell_type": "markdown",
   "metadata": {
    "id": "IHfP0E5QZiBt"
   },
   "source": [
    "첫 번째 등장하는 Flatten 클래스에 포함된 모델 파라미터는 0개이다. 케라스의 Flatten 층을 신경망 모델에 추가하면 입력값의 차원을 짐작할 수 있는 것이 또 하나의 장점이다. 앞의 출력에서 784개의 입력이 첫 번째 은닉층에 전달된다는 것을 알 수 있다. 이는 이전에 만들었던 모델에서는 쉽게 눈치채기 어려웠다. 입력 데이터에 대한 전처리 과정을 가능한 모델에 포함시키는 것이 케라스 API의 철학 중 하나이다."
   ]
  },
  {
   "cell_type": "code",
   "metadata": {
    "id": "JfPe_ruQdhqA",
    "executionInfo": {
     "status": "ok",
     "timestamp": 1753231072423,
     "user_tz": -540,
     "elapsed": 318,
     "user": {
      "displayName": "고강태 강사",
      "userId": "11816854931407731745"
     }
    },
    "ExecuteTime": {
     "end_time": "2025-07-23T14:12:12.063277Z",
     "start_time": "2025-07-23T14:12:11.894923Z"
    }
   },
   "source": [
    "(train_images, train_labels), (test_images, test_labels) = \\\n",
    "    keras.datasets.fashion_mnist.load_data()"
   ],
   "outputs": [],
   "execution_count": 53
  },
  {
   "cell_type": "code",
   "metadata": {
    "id": "9PGejuuhdvvk",
    "executionInfo": {
     "status": "ok",
     "timestamp": 1753231072562,
     "user_tz": -540,
     "elapsed": 137,
     "user": {
      "displayName": "고강태 강사",
      "userId": "11816854931407731745"
     }
    },
    "ExecuteTime": {
     "end_time": "2025-07-23T14:12:12.116275Z",
     "start_time": "2025-07-23T14:12:12.071235Z"
    }
   },
   "source": [
    "train_scaled = train_images / 255.0"
   ],
   "outputs": [],
   "execution_count": 54
  },
  {
   "cell_type": "code",
   "source": [
    "train_scaled, val_scaled, train_labels, val_labels = train_test_split(\n",
    "    train_scaled, train_labels, test_size=0.2, random_state=42)"
   ],
   "metadata": {
    "id": "EF4c8Z671Gb3",
    "executionInfo": {
     "status": "ok",
     "timestamp": 1753231072692,
     "user_tz": -540,
     "elapsed": 151,
     "user": {
      "displayName": "고강태 강사",
      "userId": "11816854931407731745"
     }
    },
    "ExecuteTime": {
     "end_time": "2025-07-23T14:12:12.169053Z",
     "start_time": "2025-07-23T14:12:12.123764Z"
    }
   },
   "outputs": [],
   "execution_count": 55
  },
  {
   "cell_type": "code",
   "source": [
    "model.compile(loss='sparse_categorical_crossentropy', metrics=['accuracy'])"
   ],
   "metadata": {
    "id": "lgsBEREz1OWw",
    "executionInfo": {
     "status": "ok",
     "timestamp": 1753231072723,
     "user_tz": -540,
     "elapsed": 8,
     "user": {
      "displayName": "고강태 강사",
      "userId": "11816854931407731745"
     }
    },
    "ExecuteTime": {
     "end_time": "2025-07-23T14:12:12.180996Z",
     "start_time": "2025-07-23T14:12:12.176592Z"
    }
   },
   "outputs": [],
   "execution_count": 56
  },
  {
   "cell_type": "markdown",
   "source": [],
   "metadata": {
    "id": "mfc_AP1ArH1k"
   }
  },
  {
   "cell_type": "code",
   "metadata": {
    "colab": {
     "base_uri": "https://localhost:8080/"
    },
    "outputId": "81309d70-5c09-4cef-f614-a734263bd1f3",
    "id": "zRBgLjEdZiBt",
    "executionInfo": {
     "status": "ok",
     "timestamp": 1753231095605,
     "user_tz": -540,
     "elapsed": 22884,
     "user": {
      "displayName": "고강태 강사",
      "userId": "11816854931407731745"
     }
    },
    "jupyter": {
     "is_executing": true
    },
    "ExecuteTime": {
     "start_time": "2025-07-23T14:12:12.188456Z"
    }
   },
   "source": [
    "history = model.fit(train_scaled, train_labels, epochs=5, validation_split=.2)"
   ],
   "outputs": [
    {
     "name": "stdout",
     "output_type": "stream",
     "text": [
      "Epoch 1/5\n",
      "\u001B[1m1200/1200\u001B[0m \u001B[32m━━━━━━━━━━━━━━━━━━━━\u001B[0m\u001B[37m\u001B[0m \u001B[1m6s\u001B[0m 5ms/step - accuracy: 0.7400 - loss: 0.7605 - val_accuracy: 0.8267 - val_loss: 0.5022\n",
      "Epoch 2/5\n",
      "\u001B[1m1200/1200\u001B[0m \u001B[32m━━━━━━━━━━━━━━━━━━━━\u001B[0m\u001B[37m\u001B[0m \u001B[1m5s\u001B[0m 4ms/step - accuracy: 0.8311 - loss: 0.4946 - val_accuracy: 0.8430 - val_loss: 0.4530\n",
      "Epoch 3/5\n",
      "\u001B[1m1200/1200\u001B[0m \u001B[32m━━━━━━━━━━━━━━━━━━━━\u001B[0m\u001B[37m\u001B[0m \u001B[1m5s\u001B[0m 4ms/step - accuracy: 0.8363 - loss: 0.4717 - val_accuracy: 0.8401 - val_loss: 0.4686\n",
      "Epoch 4/5\n",
      "\u001B[1m1200/1200\u001B[0m \u001B[32m━━━━━━━━━━━━━━━━━━━━\u001B[0m\u001B[37m\u001B[0m \u001B[1m5s\u001B[0m 4ms/step - accuracy: 0.8425 - loss: 0.4593 - val_accuracy: 0.8351 - val_loss: 0.4862\n",
      "Epoch 5/5\n",
      "\u001B[1m1146/1200\u001B[0m \u001B[32m━━━━━━━━━━━━━━━━━━━\u001B[0m\u001B[37m━\u001B[0m \u001B[1m0s\u001B[0m 4ms/step - accuracy: 0.8440 - loss: 0.4536"
     ]
    }
   ],
   "execution_count": null
  },
  {
   "cell_type": "code",
   "execution_count": 94,
   "metadata": {
    "colab": {
     "base_uri": "https://localhost:8080/"
    },
    "id": "GIO5VkWRZiBt",
    "executionInfo": {
     "status": "ok",
     "timestamp": 1753231096506,
     "user_tz": -540,
     "elapsed": 900,
     "user": {
      "displayName": "고강태 강사",
      "userId": "11816854931407731745"
     }
    },
    "outputId": "fa0f22f0-d4a8-4821-aa52-42baacb06c09"
   },
   "outputs": [
    {
     "output_type": "stream",
     "name": "stdout",
     "text": [
      "\u001B[1m375/375\u001B[0m \u001B[32m━━━━━━━━━━━━━━━━━━━━\u001B[0m\u001B[37m\u001B[0m \u001B[1m1s\u001B[0m 2ms/step - accuracy: 0.8734 - loss: 0.3576\n"
     ]
    },
    {
     "output_type": "execute_result",
     "data": {
      "text/plain": [
       "(0.3574592173099518, 0.8741666674613953)"
      ]
     },
     "metadata": {},
     "execution_count": 94
    }
   ],
   "source": [
    "loss, accuracy = model.evaluate(val_scaled, val_target)\n",
    "loss, accuracy"
   ]
  },
  {
   "cell_type": "markdown",
   "metadata": {
    "id": "CHbPeixVZiBu"
   },
   "source": [
    "# 4. Batch 와 history\n",
    "\n",
    "배치학습에서는 훈련자료 J를 구성하는 관측값 N개가 모두 투입된 후에 가중치의 갱신이 이루어진다. 이때 관측값 N개가 한차례 모두 투입되는 것을 1회 에포크로 정의한다.\n",
    "\n"
   ]
  },
  {
   "cell_type": "markdown",
   "metadata": {
    "id": "v1Bx1FB0ZiBu"
   },
   "source": [
    "\n",
    "즉, 배치학습을 위한 비용함수는 평균오차함수 $E_{av}(N)$이며, 가중치의 갱신은 에포크마다 한 번씩 이루어진다.  따라서 에포크마다 가중치의 갱신이 끝나면 $E_{av}(N)$ 을 계산하여 미리 정한 최대 에포크까지 학습곡선을 그릴 수 있다. 사실 에포크마다 학습을 위해 훈련자료 J의 관측값들을 무작위로 뒤섞는다. 학습곡선은 각 에포크 회수에 대해 $E_{av}(N)$값을 그린 곡선이다.\n",
    "\n",
    "<img src='https://i.imgur.com/i3AKzZ8.jpeg' width=500>"
   ]
  },
  {
   "cell_type": "markdown",
   "metadata": {
    "id": "rpnMVzjFZiBu"
   },
   "source": [
    "딥러닝 모델은 한 번에 전체 데이터를 처리하지 않고 데이터를 작은 배치(batch) 단위로 나누어 처리한다."
   ]
  },
  {
   "cell_type": "markdown",
   "metadata": {
    "id": "eZ7lLhhPZiBu"
   },
   "source": [
    "배치 단위는 데이터를 아래 같인 배치 크기 만큼씩 잘라서 학습 이포크에서 사용한다.\n",
    "\n",
    "```python\n",
    "#크기 128인 배치\n",
    "batch = train_images[:128]\n",
    "\n",
    "#다음 크기 128인 배치\n",
    "batch = train_images[128:256]\n",
    "#n번째 배치\n",
    "n = 10\n",
    "batch = train_images[128 * n:128 * (n+1)]\n",
    "```"
   ]
  },
  {
   "cell_type": "markdown",
   "metadata": {
    "id": "nSoz_qR7ZiBv"
   },
   "source": [
    "#### 학습과 history 객체"
   ]
  },
  {
   "cell_type": "code",
   "execution_count": 95,
   "metadata": {
    "colab": {
     "base_uri": "https://localhost:8080/"
    },
    "outputId": "576ef08b-cbcf-40a4-f3e1-8025c65feb92",
    "id": "xcSY8Jy6ZiBv",
    "executionInfo": {
     "status": "ok",
     "timestamp": 1753231106695,
     "user_tz": -540,
     "elapsed": 10187,
     "user": {
      "displayName": "고강태 강사",
      "userId": "11816854931407731745"
     }
    }
   },
   "outputs": [
    {
     "output_type": "stream",
     "name": "stdout",
     "text": [
      "Epoch 1/5\n",
      "\u001B[1m750/750\u001B[0m \u001B[32m━━━━━━━━━━━━━━━━━━━━\u001B[0m\u001B[37m\u001B[0m \u001B[1m3s\u001B[0m 2ms/step - accuracy: 0.8899 - loss: 0.3028\n",
      "Epoch 2/5\n",
      "\u001B[1m750/750\u001B[0m \u001B[32m━━━━━━━━━━━━━━━━━━━━\u001B[0m\u001B[37m\u001B[0m \u001B[1m2s\u001B[0m 3ms/step - accuracy: 0.8960 - loss: 0.2877\n",
      "Epoch 3/5\n",
      "\u001B[1m750/750\u001B[0m \u001B[32m━━━━━━━━━━━━━━━━━━━━\u001B[0m\u001B[37m\u001B[0m \u001B[1m2s\u001B[0m 2ms/step - accuracy: 0.8980 - loss: 0.2797\n",
      "Epoch 4/5\n",
      "\u001B[1m750/750\u001B[0m \u001B[32m━━━━━━━━━━━━━━━━━━━━\u001B[0m\u001B[37m\u001B[0m \u001B[1m2s\u001B[0m 2ms/step - accuracy: 0.9023 - loss: 0.2700\n",
      "Epoch 5/5\n",
      "\u001B[1m750/750\u001B[0m \u001B[32m━━━━━━━━━━━━━━━━━━━━\u001B[0m\u001B[37m\u001B[0m \u001B[1m2s\u001B[0m 2ms/step - accuracy: 0.9060 - loss: 0.2570\n"
     ]
    }
   ],
   "source": [
    "history = model.fit(train_scaled, train_labels, epochs=5, batch_size=64)"
   ]
  },
  {
   "cell_type": "markdown",
   "metadata": {
    "id": "xDbwpEqUZiBv"
   },
   "source": [
    "앞서 시그모이드 함수를 사용했을 때와 비교하면 성능이 크지 않지만 조금 향상 되었다. 그럼 검증 세트에서의 성능도 확인해 보자."
   ]
  },
  {
   "cell_type": "code",
   "execution_count": 96,
   "metadata": {
    "colab": {
     "base_uri": "https://localhost:8080/"
    },
    "id": "oodX4IV5ZiBv",
    "executionInfo": {
     "status": "ok",
     "timestamp": 1753231108093,
     "user_tz": -540,
     "elapsed": 1396,
     "user": {
      "displayName": "고강태 강사",
      "userId": "11816854931407731745"
     }
    },
    "outputId": "2c7bae59-91e5-4eca-a07f-dab111fcf5ca"
   },
   "outputs": [
    {
     "output_type": "stream",
     "name": "stdout",
     "text": [
      "\u001B[1m375/375\u001B[0m \u001B[32m━━━━━━━━━━━━━━━━━━━━\u001B[0m\u001B[37m\u001B[0m \u001B[1m1s\u001B[0m 2ms/step - accuracy: 0.8729 - loss: 0.3722\n"
     ]
    },
    {
     "output_type": "execute_result",
     "data": {
      "text/plain": [
       "(0.37276920676231384, 0.874666690826416)"
      ]
     },
     "metadata": {},
     "execution_count": 96
    }
   ],
   "source": [
    "loss, accuracy = model.evaluate(val_scaled, val_target)\n",
    "loss, accuracy"
   ]
  },
  {
   "cell_type": "markdown",
   "metadata": {
    "id": "HEry_bfRZiBv"
   },
   "source": [
    "인공신경망과 비교하면 은닉층을 추가하지 않은 경우보다 몇 퍼센트 성능이 향상되었다."
   ]
  },
  {
   "cell_type": "markdown",
   "metadata": {
    "id": "cI3xto_IZiBw"
   },
   "source": [
    "### history 객체로 손실율 추적\n",
    "\n",
    "fit 에 반환되는 history 에는 `history.history` 딕트 속성에 손실/정확도 듣의 metircs 지표 값이 저장되어 있다."
   ]
  },
  {
   "cell_type": "code",
   "source": [
    "type(history)"
   ],
   "metadata": {
    "colab": {
     "base_uri": "https://localhost:8080/",
     "height": 187
    },
    "id": "CngNLGCn3HHw",
    "executionInfo": {
     "status": "ok",
     "timestamp": 1753231108144,
     "user_tz": -540,
     "elapsed": 28,
     "user": {
      "displayName": "고강태 강사",
      "userId": "11816854931407731745"
     }
    },
    "outputId": "0f0665b7-db61-4f8e-a8de-1dfec422297d"
   },
   "execution_count": 97,
   "outputs": [
    {
     "output_type": "execute_result",
     "data": {
      "text/plain": [
       "keras.src.callbacks.history.History"
      ],
      "text/html": [
       "<div style=\"max-width:800px; border: 1px solid var(--colab-border-color);\"><style>\n",
       "      pre.function-repr-contents {\n",
       "        overflow-x: auto;\n",
       "        padding: 8px 12px;\n",
       "        max-height: 500px;\n",
       "      }\n",
       "\n",
       "      pre.function-repr-contents.function-repr-contents-collapsed {\n",
       "        cursor: pointer;\n",
       "        max-height: 100px;\n",
       "      }\n",
       "    </style>\n",
       "    <pre style=\"white-space: initial; background:\n",
       "         var(--colab-secondary-surface-color); padding: 8px 12px;\n",
       "         border-bottom: 1px solid var(--colab-border-color);\"><b>keras.src.callbacks.history.History</b><br/>def __init__()</pre><pre class=\"function-repr-contents function-repr-contents-collapsed\" style=\"\"><a class=\"filepath\" style=\"display:none\" href=\"#\">/usr/local/lib/python3.11/dist-packages/keras/src/callbacks/history.py</a>Callback that records events into a `History` object.\n",
       "\n",
       "This callback is automatically applied to\n",
       "every Keras model. The `History` object\n",
       "gets returned by the `fit()` method of models.\n",
       "\n",
       "Example:\n",
       "\n",
       "&gt;&gt;&gt; model = Sequential([layers.Dense(10)])\n",
       "&gt;&gt;&gt; model.compile(SGD(), loss=&#x27;mse&#x27;)\n",
       "&gt;&gt;&gt; history = model.fit(np.arange(100).reshape(5, 20), np.zeros(5),\n",
       "...                     epochs=10, verbose=1)\n",
       "&gt;&gt;&gt; print(history.params)\n",
       "{&#x27;verbose&#x27;: 1, &#x27;epochs&#x27;: 10, &#x27;steps&#x27;: 1}\n",
       "&gt;&gt;&gt; # check the keys of history object\n",
       "&gt;&gt;&gt; print(history.history.keys())\n",
       "dict_keys([&#x27;loss&#x27;])</pre>\n",
       "      <script>\n",
       "      if (google.colab.kernel.accessAllowed && google.colab.files && google.colab.files.view) {\n",
       "        for (const element of document.querySelectorAll('.filepath')) {\n",
       "          element.style.display = 'block'\n",
       "          element.onclick = (event) => {\n",
       "            event.preventDefault();\n",
       "            event.stopPropagation();\n",
       "            google.colab.files.view(element.textContent, 5);\n",
       "          };\n",
       "        }\n",
       "      }\n",
       "      for (const element of document.querySelectorAll('.function-repr-contents')) {\n",
       "        element.onclick = (event) => {\n",
       "          event.preventDefault();\n",
       "          event.stopPropagation();\n",
       "          element.classList.toggle('function-repr-contents-collapsed');\n",
       "        };\n",
       "      }\n",
       "      </script>\n",
       "      </div>"
      ]
     },
     "metadata": {},
     "execution_count": 97
    }
   ]
  },
  {
   "cell_type": "code",
   "source": [
    "history.history"
   ],
   "metadata": {
    "colab": {
     "base_uri": "https://localhost:8080/"
    },
    "id": "6hRUNeQT3Mue",
    "executionInfo": {
     "status": "ok",
     "timestamp": 1753231108159,
     "user_tz": -540,
     "elapsed": 14,
     "user": {
      "displayName": "고강태 강사",
      "userId": "11816854931407731745"
     }
    },
    "outputId": "5e1d5b3e-d621-4b43-c782-9f1415383eab"
   },
   "execution_count": 98,
   "outputs": [
    {
     "output_type": "execute_result",
     "data": {
      "text/plain": [
       "{'accuracy': [0.8885208368301392,\n",
       "  0.895312488079071,\n",
       "  0.8980208039283752,\n",
       "  0.9023541808128357,\n",
       "  0.9043333530426025],\n",
       " 'loss': [0.3044957220554352,\n",
       "  0.2901332676410675,\n",
       "  0.2796090245246887,\n",
       "  0.2687363624572754,\n",
       "  0.2607744634151459]}"
      ]
     },
     "metadata": {},
     "execution_count": 98
    }
   ]
  },
  {
   "cell_type": "code",
   "source": [
    "history.history.keys()"
   ],
   "metadata": {
    "colab": {
     "base_uri": "https://localhost:8080/"
    },
    "id": "jkdkFPbX4kHQ",
    "executionInfo": {
     "status": "ok",
     "timestamp": 1753231108175,
     "user_tz": -540,
     "elapsed": 12,
     "user": {
      "displayName": "고강태 강사",
      "userId": "11816854931407731745"
     }
    },
    "outputId": "65b308de-9e79-403b-c1ca-1149188976b5"
   },
   "execution_count": 99,
   "outputs": [
    {
     "output_type": "execute_result",
     "data": {
      "text/plain": [
       "dict_keys(['accuracy', 'loss'])"
      ]
     },
     "metadata": {},
     "execution_count": 99
    }
   ]
  },
  {
   "cell_type": "code",
   "execution_count": 101,
   "metadata": {
    "colab": {
     "base_uri": "https://localhost:8080/",
     "height": 411
    },
    "id": "hNhfGfPoZiBw",
    "executionInfo": {
     "status": "ok",
     "timestamp": 1753231117972,
     "user_tz": -540,
     "elapsed": 218,
     "user": {
      "displayName": "고강태 강사",
      "userId": "11816854931407731745"
     }
    },
    "outputId": "1d0f7ae5-d486-45c2-b681-bdb3df3a614e"
   },
   "outputs": [
    {
     "output_type": "execute_result",
     "data": {
      "text/plain": [
       "<matplotlib.legend.Legend at 0x7b3ac45b8e10>"
      ]
     },
     "metadata": {},
     "execution_count": 101
    },
    {
     "output_type": "display_data",
     "data": {
      "text/plain": [
       "<Figure size 1200x400 with 2 Axes>"
      ],
      "image/png": "[encoded data removed]"
     },
     "metadata": {}
    }
   ],
   "source": [
    "plt.figure(figsize=(12, 4))\n",
    "\n",
    "plt.subplot(1, 2, 1)\n",
    "plt.plot(history.history['loss'], 'b-', label='loss')\n",
    "# plt.plot(history.history['val_loss'], 'r--', label='val_loss')\n",
    "plt.xlabel('Epoch')\n",
    "plt.legend()\n",
    "\n",
    "plt.subplot(1, 2, 2)\n",
    "plt.plot(history.history['accuracy'], 'g-', label='accuracy')\n",
    "# plt.plot(history.history['val_accuracy'], 'k--', label='val_accuracy')\n",
    "\n",
    "\n",
    "plt.xlabel('Epoch')\n",
    "plt.ylim(0.7, 1)\n",
    "plt.legend()"
   ]
  },
  {
   "cell_type": "markdown",
   "metadata": {
    "id": "sAqbGEY2ZiBx"
   },
   "source": [
    "# 6.손실함수\n",
    "\n",
    "손실함수는 실제값과 예측 값 차이를 측정하는 함수로 회귀와 분류에 따라 다르다\n",
    "\n"
   ]
  },
  {
   "cell_type": "markdown",
   "metadata": {
    "id": "ZtBw--Q9ZiBx"
   },
   "source": [
    "회귀는 평균제곱과 교차엔트로피로 사용할 수 있다.\n",
    "\n",
    "1. 평균제곱 계열\n",
    "    - mean_squared_error : 평균제곱오차\n",
    "    - mean_absolute_error : 평균절대오차. 실제 값과 예측 값 차이의 절대값 평균\n",
    "    - mean_absolute_percentage_error: 평균 절대 백분율 오차. 절대값 오차를 절대값으로 나눈 후 평균\n",
    "    - mean_squared_logarithimc_error : 평균 제곱 로그 오차. 실제 값과 예측 값에 로그를 적용한 값의 차이를 제곱한 값의 평균\n",
    "\n",
    "\n"
   ]
  },
  {
   "cell_type": "markdown",
   "metadata": {
    "id": "Pn25GsyxZiBx"
   },
   "source": [
    "분류에는 교차 엔트로피 계열을 사용할 수 있다.\n",
    "\n",
    "2. 교차 엔트로피\n",
    "  - 교차엔트로피 함수는 출력 값에 로그를 취해서 오차가 커지면 수렴 속도가 빨라지고 오차가 작아지면 속도가 감소하게 만든것이다.\n",
    "  - categorical_crossentropy: 범주형교차엔트로피. 분류.\n",
    "  - sparse_categorical_crossentropy: 범주형 확률교차엔트로피. 분류.\n",
    "  - binary_crossentropy(이항교차엔트로피): 0, 1을 선택하는 경우."
   ]
  },
  {
   "cell_type": "markdown",
   "metadata": {
    "id": "pgdXR8yBZiBx"
   },
   "source": [
    "### - Crossentropy\n",
    "\n",
    "크로스 엔트로피는 확률부부분에 p(x) 를 곱한것과 달리 로그 뒤에는 q(x)를 곱하는데 q(x)는 분류 네트워크가 예측한 라벨의 확률 값이다.\n",
    "\n",
    "<img src='https://i.imgur.com/zaSh7yb.jpeg' width=600>\n",
    "\n",
    " - p(x)는 정답 라벨, q(x)는 분류 네트워크 계산 결과인 예측 라벨\n",
    " - 이미지: https://davinci-ai.tistory.com/28\n",
    "\n",
    "\n",
    "참고 정보이론 자료의 [참고-정보이론#Cross Entroy](../참고-정보이론.ipynb?download=false#Cross-entropy)"
   ]
  },
  {
   "cell_type": "markdown",
   "metadata": {
    "id": "n9YwLemsZiBx"
   },
   "source": [
    "\n",
    "분류에서 p(x), q(x)에 해당하는 범주는 2개 이상이다. 이에 대한 해결책은 모든 범주에 대한 평균을 내는 것으로 범주 수를 n으로 하면 범주에 대한 크로스 엔트로피(Categorical Cross Entropy, CCE) 식은\n",
    "\n",
    "$$CCE = -\\frac{1}{n} \\sum_{j=1}^n p(x) \\log q(x)\n",
    "$$\n",
    "\n",
    "이 식에 따라 위 그림을 계산해 보면\n",
    "\n",
    "$$CCE_1 = -\\frac{1}{2} (1.0 \\times \\log0.87 + 0.0 \\times \\log 0.13) = 0.0696\n",
    "$$"
   ]
  },
  {
   "cell_type": "markdown",
   "metadata": {
    "id": "y0kJnexSZiBx"
   },
   "source": [
    "이 값만 보면 CCE 가 높은지 낮은지 가늠이 어렵다. 비교를 위해 다른 경우르 ㄹ가정해 보면, 정답이 화이트 와인 일 때 레드 와인일 확률을 0.6, 화이트 와인일 확률을 0.4로 예측하는 경우가 있다면 정답보다 오답에 가깝게 예측하기 때문에 그림 보다 예측을 못하는 경우라고 생각해 볼 수 있다. 실제 그런지 CCE를 계산해 보자,\n",
    "\n",
    "\n",
    "$$CCE_2 = -\\frac{1}{2} (0.0 \\times \\log0.6 + 1.0 \\times \\log 0.4) = 0.4581\n",
    "$$\n",
    "\n",
    "두번째 경우 CCE는 0.4581로 그림의 0.06696보다 6.5배 높아졌다. CCE도 손실의 일종으로 낮을 수록 좋은 값이고, 네트워크는 손실을 낮추기 위해서 노력한다. 즉 CCE가 낮을 수록 예측을 잘하는 네트워크인것이다."
   ]
  },
  {
   "cell_type": "markdown",
   "metadata": {
    "id": "OoCquUjuZiBy"
   },
   "source": [
    "정달 라벨은 늘 1.0 이고 오답 라벨은 언제나 0.0 이므로 오답 라벨에 곱해지는 값은 버려진다. 그래서 위 식은 정답 라벨만 남겨두어도 달라지지 않는 다.\n",
    "\n",
    "\n",
    "$$CCE_1 = -\\frac{1}{2} (1.0 \\times \\log0.87 ) = 0.0696\n",
    "\\\\\n",
    "CCE_2 = -\\frac{1}{2} (1.0 \\times \\log0.4) = 0.4581\n",
    "$$"
   ]
  },
  {
   "cell_type": "markdown",
   "metadata": {
    "id": "v9R4fbnHZiBy"
   },
   "source": [
    "#### Crossentropy 사용"
   ]
  },
  {
   "cell_type": "markdown",
   "metadata": {
    "id": "Gnwx0lI4ZiBy"
   },
   "source": [
    "이진 분류에선 출력층의 뉴런이 하나이다. 이 뉴런이 출력하는 확률값 a(시그모이드 함수의 출력값)를 사용해 양성 클래스와 음성 클래스에 대한 크로스 엔트로피를 계산한다. 이진 분류의 출력 뉴런은 오직 양성 클래스에 대한 확률(a)만 출력하기 때문에 음성 클래스에 대한 확률은 1-a로 구할 수 있다. 역시 이진 분류의 타깃값은 양성 샘플을 경우에는 1, 음성 샘플일 경우에는 0이다. 0을 곱하면 어떤 계산이든지 모두 0이 되기 때문에 특별히 음성 샘플일 경우 1로 바꾸어(1-타깃값) 계산한다.\n"
   ]
  },
  {
   "cell_type": "markdown",
   "metadata": {
    "id": "5A2yr57tZiBy"
   },
   "source": [
    "그럼 패션 MNIST 데이터셋과 같이 다중 분류일 경우엔 어떻게 계산을 할까? 출력층은 10개의 뉴런이 있고 10개의 클래스에 대한 확률을 출력한다. 첫 번째 뉴런은 티셔츠일 확률이고 두 번째 뉴런은 바지일 확률을 출력하자. 이진 분류와 달리 각 클래스에 대한 확률이 모두 출력되기 때문에 타깃에 해당하는 확률만 남겨 놓기 위해서 나머지 확률에는 모두 0을 곱한다.\n",
    "\n",
    "예를 들어 샘플이 티셔츠일 경우 첫 번째 뉴런의 활성화 함수 출력인 a1에 크로스 엔트로피 손실 함수를 적용하고 나머지 활성화 함수 출력 a2 ~ a10 까지는 모두 0으로 만든다. 결국 신경망은 티셔츠 샘플에서 손실을 낮추려면 첫 번째 뉴런의 활성화 출력 a1의 값을 가능한 1에 가깝게 만들어야 한다. 이것이 바로 크로스 엔트로피 손실 함수가 신경망에 원하는 바이다.\n",
    "\n",
    "예를 하나더 들어보자. 샘플이 바지일 경우는 두 번째 뉴런의 활성화 출력인 a2만 남겨야 한다. 그러려면 두 번째 원소만 1이고 나머지는 모두 0으로 타깃값을 준비하면 된다. 바지 샘플을 정확하게 분류하려면 신경망이 a2의 출력을 가능한 한 높여야 한다. 이와 같이 타깃값을 해당 클래스만 1이고 나머지는 모두 0인 배열로 만드는 것을 원-핫 인코딩 이라고 부른다.\n",
    "\n",
    "따라서 다중 분류에서 크로스 엔트로피 손실 함수를 사용하려면 0,1,2 와 같이 정수로 된 타깃값을 원-핫 인코딩으로 변환해야 한다."
   ]
  },
  {
   "cell_type": "code",
   "execution_count": null,
   "metadata": {
    "id": "C_scjopiZiBy",
    "executionInfo": {
     "status": "aborted",
     "timestamp": 1753231108263,
     "user_tz": -540,
     "elapsed": 128754,
     "user": {
      "displayName": "고강태 강사",
      "userId": "11816854931407731745"
     }
    }
   },
   "outputs": [],
   "source": [
    "train_labels[:10]"
   ]
  },
  {
   "cell_type": "markdown",
   "metadata": {
    "id": "6fOCFezrZiBy"
   },
   "source": [
    "패션 MNIST 데이터 타깃값은 위와 같이 모두 정수로 되어 있다. 하지만 텐서플로에서는 정수로 된 타깃값을 원-핫 인코딩으로 바꾸지 않고 그냥 사용할 수 있다. 정수로된 타깃값을 사용해 크로스 엔트로피 손실을 계산하는 것이 바로 'sparse_categorical_crossentropy'이다.\n",
    "\n",
    "> 타깃값을 원-핫 인코딩으로 준비했다면 compile() 메서드에 손실 함수를 loss='categorical_crossentropy'로 지정한다.\n"
   ]
  },
  {
   "cell_type": "markdown",
   "metadata": {
    "id": "xa5Tq7yrZiBz"
   },
   "source": [
    "### - 손실함수 클래스\n",
    "\n",
    "손실함수는 손실함수 객체에 정의된 이름으로도 사용할 수 있다."
   ]
  },
  {
   "cell_type": "markdown",
   "metadata": {
    "id": "8mjPocG0ZiBz"
   },
   "source": [
    "loss 도 클래스로 선언해 사용해 보자\n",
    "\n",
    "```Python\n",
    "optimizer = tf.keras.optimizers.Adam(lr=0.01)\n",
    "loss = tf.keras.losses.SparseCategoricalCrossentropy()\n",
    "\n",
    "metric = tf.keras.metrics.MeanSquaredError()\n",
    "metric = tf.keras.metrics.Accuracy()\n",
    "```"
   ]
  },
  {
   "cell_type": "code",
   "execution_count": 102,
   "metadata": {
    "id": "IOaPZyIJZiBz",
    "executionInfo": {
     "status": "ok",
     "timestamp": 1753231123304,
     "user_tz": -540,
     "elapsed": 33,
     "user": {
      "displayName": "고강태 강사",
      "userId": "11816854931407731745"
     }
    }
   },
   "outputs": [],
   "source": [
    "model = keras.Sequential()\n",
    "model.add(keras.layers.Input((28,28)))\n",
    "model.add(keras.layers.Flatten())\n",
    "model.add(keras.layers.Dense(100, activation='relu'))\n",
    "model.add(keras.layers.Dense(10, activation='softmax'))"
   ]
  },
  {
   "cell_type": "code",
   "execution_count": 108,
   "metadata": {
    "id": "XobarKZ9ZiBz",
    "executionInfo": {
     "status": "ok",
     "timestamp": 1753231199469,
     "user_tz": -540,
     "elapsed": 11,
     "user": {
      "displayName": "고강태 강사",
      "userId": "11816854931407731745"
     }
    }
   },
   "outputs": [],
   "source": [
    "loss = keras.losses.SparseCategoricalCrossentropy()\n",
    "metric = keras.metrics.SparseCategoricalAccuracy()\n",
    "# metric = keras.metrics.Accuracy()\n",
    "\n",
    "# model.compile(loss=loss, metrics=[metric])\n",
    "model.compile(loss=loss, metrics=['accuracy'])\n",
    "# model.compile(loss='sparse_categorical_crossentropy', metrics=['accuracy'])"
   ]
  },
  {
   "cell_type": "code",
   "execution_count": 68,
   "metadata": {
    "colab": {
     "base_uri": "https://localhost:8080/"
    },
    "id": "-z-uE_bfZiBz",
    "executionInfo": {
     "status": "ok",
     "timestamp": 1753231222825,
     "user_tz": -540,
     "elapsed": 22012,
     "user": {
      "displayName": "고강태 강사",
      "userId": "11816854931407731745"
     }
    },
    "outputId": "b1689151-ae07-4d5c-98f4-99bcb8dce489"
   },
   "outputs": [
    {
     "output_type": "stream",
     "name": "stdout",
     "text": [
      "Epoch 1/5\n",
      "\u001B[1m1500/1500\u001B[0m \u001B[32m━━━━━━━━━━━━━━━━━━━━\u001B[0m\u001B[37m\u001B[0m \u001B[1m4s\u001B[0m 2ms/step - accuracy: 0.8904 - loss: 0.3057\n",
      "Epoch 2/5\n",
      "\u001B[1m1500/1500\u001B[0m \u001B[32m━━━━━━━━━━━━━━━━━━━━\u001B[0m\u001B[37m\u001B[0m \u001B[1m3s\u001B[0m 2ms/step - accuracy: 0.8959 - loss: 0.2933\n",
      "Epoch 3/5\n",
      "\u001B[1m1500/1500\u001B[0m \u001B[32m━━━━━━━━━━━━━━━━━━━━\u001B[0m\u001B[37m\u001B[0m \u001B[1m5s\u001B[0m 2ms/step - accuracy: 0.8992 - loss: 0.2820\n",
      "Epoch 4/5\n",
      "\u001B[1m1500/1500\u001B[0m \u001B[32m━━━━━━━━━━━━━━━━━━━━\u001B[0m\u001B[37m\u001B[0m \u001B[1m3s\u001B[0m 2ms/step - accuracy: 0.9001 - loss: 0.2804\n",
      "Epoch 5/5\n",
      "\u001B[1m1500/1500\u001B[0m \u001B[32m━━━━━━━━━━━━━━━━━━━━\u001B[0m\u001B[37m\u001B[0m \u001B[1m6s\u001B[0m 3ms/step - accuracy: 0.9034 - loss: 0.2705\n",
      "\u001B[1m1500/1500\u001B[0m \u001B[32m━━━━━━━━━━━━━━━━━━━━\u001B[0m\u001B[37m\u001B[0m \u001B[1m5s\u001B[0m 3ms/step - accuracy: 0.8324 - loss: 0.4875\n",
      "Epoch 3/5\n",
      "\u001B[1m1500/1500\u001B[0m \u001B[32m━━━━━━━━━━━━━━━━━━━━\u001B[0m\u001B[37m\u001B[0m \u001B[1m6s\u001B[0m 4ms/step - accuracy: 0.8378 - loss: 0.4662\n",
      "Epoch 4/5\n",
      "\u001B[1m1500/1500\u001B[0m \u001B[32m━━━━━━━━━━━━━━━━━━━━\u001B[0m\u001B[37m\u001B[0m \u001B[1m6s\u001B[0m 4ms/step - accuracy: 0.8399 - loss: 0.4560\n",
      "Epoch 5/5\n",
      "\u001B[1m1500/1500\u001B[0m \u001B[32m━━━━━━━━━━━━━━━━━━━━\u001B[0m\u001B[37m\u001B[0m \u001B[1m5s\u001B[0m 4ms/step - accuracy: 0.8434 - loss: 0.4523\n"
     ]
    }
   ],
   "source": [
    "history = model.fit(train_scaled, train_labels, epochs=5)"
   ]
  },
  {
   "cell_type": "code",
   "metadata": {
    "colab": {
     "base_uri": "https://localhost:8080/"
    },
    "id": "1FRxLuU8ZiBz",
    "executionInfo": {
     "status": "ok",
     "timestamp": 1753231262559,
     "user_tz": -540,
     "elapsed": 1178,
     "user": {
      "displayName": "고강태 강사",
      "userId": "11816854931407731745"
     }
    },
    "outputId": "df983b14-4a25-49ec-9aec-ea75c7c05ed2",
    "ExecuteTime": {
     "end_time": "2025-07-23T14:13:28.603035Z",
     "start_time": "2025-07-23T14:13:27.165299Z"
    }
   },
   "source": [
    "print(\"\\검증 데이터로 모델 평가:\")\n",
    "loss, accuracy = model.evaluate(val_scaled, val_labels)\n",
    "print(f\"테스트 손실: {loss:.4f}\")\n",
    "print(f\"테스트 정확도: {accuracy:.4f}\")"
   ],
   "outputs": [
    {
     "name": "stdout",
     "output_type": "stream",
     "text": [
      "\\검증 데이터로 모델 평가:\n",
      "\u001B[1m375/375\u001B[0m \u001B[32m━━━━━━━━━━━━━━━━━━━━\u001B[0m\u001B[37m\u001B[0m \u001B[1m1s\u001B[0m 4ms/step - accuracy: 0.8384 - loss: 0.4692\n",
      "테스트 손실: 0.4751\n",
      "테스트 정확도: 0.8373\n"
     ]
    }
   ],
   "execution_count": 69
  },
  {
   "cell_type": "code",
   "metadata": {
    "id": "kqN817zFZiB0",
    "executionInfo": {
     "status": "aborted",
     "timestamp": 1753231108327,
     "user_tz": -540,
     "elapsed": 128781,
     "user": {
      "displayName": "고강태 강사",
      "userId": "11816854931407731745"
     }
    },
    "ExecuteTime": {
     "end_time": "2025-07-23T14:13:28.620568Z",
     "start_time": "2025-07-23T14:13:28.618530Z"
    }
   },
   "source": [
    "history.history.keys()"
   ],
   "outputs": [
    {
     "data": {
      "text/plain": [
       "dict_keys(['accuracy', 'loss'])"
      ]
     },
     "execution_count": 70,
     "metadata": {},
     "output_type": "execute_result"
    }
   ],
   "execution_count": 70
  },
  {
   "cell_type": "markdown",
   "metadata": {
    "id": "F77DEMbJZiB0"
   },
   "source": [
    "### - Validation 학습\n",
    "\n",
    "검증용 데이터는 fit 실행시 validation_split, validation_data 사용시 검증 데이터가 사용되고 metrics 지표에도 검증용이 추가된다."
   ]
  },
  {
   "cell_type": "code",
   "metadata": {
    "id": "IdvdZb-AZiB1",
    "executionInfo": {
     "status": "ok",
     "timestamp": 1753231793114,
     "user_tz": -540,
     "elapsed": 32,
     "user": {
      "displayName": "고강태 강사",
      "userId": "11816854931407731745"
     }
    },
    "ExecuteTime": {
     "end_time": "2025-07-23T14:13:28.652236Z",
     "start_time": "2025-07-23T14:13:28.637686Z"
    }
   },
   "source": [
    "model = keras.Sequential()\n",
    "model.add(keras.layers.Input((28,28)))\n",
    "model.add(keras.layers.Flatten())\n",
    "model.add(keras.layers.Dense(100, activation='relu'))\n",
    "model.add(keras.layers.Dense(10, activation='softmax'))"
   ],
   "outputs": [],
   "execution_count": 71
  },
  {
   "cell_type": "code",
   "metadata": {
    "colab": {
     "base_uri": "https://localhost:8080/"
    },
    "outputId": "e2c2cbf9-7c4b-4b42-b60e-ecb056587f13",
    "id": "IhwtnSdMZiB1",
    "executionInfo": {
     "status": "ok",
     "timestamp": 1753231593385,
     "user_tz": -540,
     "elapsed": 22572,
     "user": {
      "displayName": "고강태 강사",
      "userId": "11816854931407731745"
     }
    },
    "ExecuteTime": {
     "end_time": "2025-07-23T14:13:55.182092Z",
     "start_time": "2025-07-23T14:13:28.683233Z"
    }
   },
   "source": [
    "model.compile(loss='sparse_categorical_crossentropy', metrics=['accuracy'])\n",
    "history = model.fit(train_scaled, train_labels,\n",
    "                    epochs=5,\n",
    "                    validation_split=.2)"
   ],
   "outputs": [
    {
     "name": "stdout",
     "output_type": "stream",
     "text": [
      "Epoch 1/5\n",
      "\u001B[1m1200/1200\u001B[0m \u001B[32m━━━━━━━━━━━━━━━━━━━━\u001B[0m\u001B[37m\u001B[0m \u001B[1m6s\u001B[0m 5ms/step - accuracy: 0.7326 - loss: 0.7536 - val_accuracy: 0.8265 - val_loss: 0.5020\n",
      "Epoch 2/5\n",
      "\u001B[1m1200/1200\u001B[0m \u001B[32m━━━━━━━━━━━━━━━━━━━━\u001B[0m\u001B[37m\u001B[0m \u001B[1m5s\u001B[0m 4ms/step - accuracy: 0.8285 - loss: 0.4981 - val_accuracy: 0.8457 - val_loss: 0.4561\n",
      "Epoch 3/5\n",
      "\u001B[1m1200/1200\u001B[0m \u001B[32m━━━━━━━━━━━━━━━━━━━━\u001B[0m\u001B[37m\u001B[0m \u001B[1m5s\u001B[0m 4ms/step - accuracy: 0.8359 - loss: 0.4759 - val_accuracy: 0.8509 - val_loss: 0.4480\n",
      "Epoch 4/5\n",
      "\u001B[1m1200/1200\u001B[0m \u001B[32m━━━━━━━━━━━━━━━━━━━━\u001B[0m\u001B[37m\u001B[0m \u001B[1m5s\u001B[0m 4ms/step - accuracy: 0.8420 - loss: 0.4582 - val_accuracy: 0.8435 - val_loss: 0.4650\n",
      "Epoch 5/5\n",
      "\u001B[1m1200/1200\u001B[0m \u001B[32m━━━━━━━━━━━━━━━━━━━━\u001B[0m\u001B[37m\u001B[0m \u001B[1m5s\u001B[0m 4ms/step - accuracy: 0.8457 - loss: 0.4541 - val_accuracy: 0.8372 - val_loss: 0.4872\n"
     ]
    }
   ],
   "execution_count": 72
  },
  {
   "cell_type": "code",
   "metadata": {
    "colab": {
     "base_uri": "https://localhost:8080/"
    },
    "id": "cN9v0QY6ZiB1",
    "executionInfo": {
     "status": "ok",
     "timestamp": 1753231610737,
     "user_tz": -540,
     "elapsed": 29,
     "user": {
      "displayName": "고강태 강사",
      "userId": "11816854931407731745"
     }
    },
    "outputId": "e0904ff8-e48f-43f9-b59c-5d0a5fce36ff",
    "ExecuteTime": {
     "end_time": "2025-07-23T14:13:55.198443Z",
     "start_time": "2025-07-23T14:13:55.196518Z"
    }
   },
   "source": [
    "history.history.keys()"
   ],
   "outputs": [
    {
     "data": {
      "text/plain": [
       "dict_keys(['accuracy', 'loss', 'val_accuracy', 'val_loss'])"
      ]
     },
     "execution_count": 73,
     "metadata": {},
     "output_type": "execute_result"
    }
   ],
   "execution_count": 73
  },
  {
   "cell_type": "code",
   "metadata": {
    "colab": {
     "base_uri": "https://localhost:8080/",
     "height": 411
    },
    "id": "Hey8ns7jZiB1",
    "executionInfo": {
     "status": "ok",
     "timestamp": 1753231626679,
     "user_tz": -540,
     "elapsed": 259,
     "user": {
      "displayName": "고강태 강사",
      "userId": "11816854931407731745"
     }
    },
    "outputId": "65bd9913-cee3-4b2b-c83e-359d48419cba",
    "ExecuteTime": {
     "end_time": "2025-07-23T14:13:55.326173Z",
     "start_time": "2025-07-23T14:13:55.216288Z"
    }
   },
   "source": [
    "plt.figure(figsize=(12, 4))\n",
    "\n",
    "plt.subplot(1, 2, 1)\n",
    "plt.plot(history.history['loss'], 'b-', label='loss')\n",
    "plt.plot(history.history['val_loss'], 'r--', label='val_loss')\n",
    "plt.xlabel('Epoch')\n",
    "plt.legend()\n",
    "\n",
    "plt.subplot(1, 2, 2)\n",
    "plt.plot(history.history['accuracy'], 'g-', label='accuracy')\n",
    "plt.plot(history.history['val_accuracy'], 'k--', label='val_accuracy')\n",
    "plt.xlabel('Epoch')\n",
    "plt.ylim(0.7, 1)\n",
    "plt.legend()"
   ],
   "outputs": [
    {
     "data": {
      "text/plain": [
       "<matplotlib.legend.Legend at 0x3f42fbf10>"
      ]
     },
     "execution_count": 74,
     "metadata": {},
     "output_type": "execute_result"
    },
    {
     "data": {
      "text/plain": [
       "<Figure size 1200x400 with 2 Axes>"
      ],
      "image/png": "[encoded data removed]"
     },
     "metadata": {},
     "output_type": "display_data"
    }
   ],
   "execution_count": 74
  },
  {
   "cell_type": "code",
   "source": [
    "model = keras.Sequential()\n",
    "model.add(keras.layers.Input((28,28)))\n",
    "model.add(keras.layers.Flatten())\n",
    "model.add(keras.layers.Dense(100, activation='relu'))\n",
    "model.add(keras.layers.Dense(10, activation='softmax'))"
   ],
   "metadata": {
    "id": "6FVLD7U7wtlR",
    "executionInfo": {
     "status": "ok",
     "timestamp": 1753232616125,
     "user_tz": -540,
     "elapsed": 40,
     "user": {
      "displayName": "고강태 강사",
      "userId": "11816854931407731745"
     }
    },
    "ExecuteTime": {
     "end_time": "2025-07-23T14:13:55.353591Z",
     "start_time": "2025-07-23T14:13:55.337671Z"
    }
   },
   "outputs": [],
   "execution_count": 75
  },
  {
   "cell_type": "code",
   "source": [
    "model.compile(loss='sparse_categorical_crossentropy', metrics=['accuracy'])\n",
    "history2 = model.fit(train_scaled,\n",
    "                    train_labels,\n",
    "                    epochs=5,\n",
    "                    validation_data=(val_scaled, val_labels),\n",
    "                    # validation_split=.2\n",
    "                     )"
   ],
   "metadata": {
    "colab": {
     "base_uri": "https://localhost:8080/"
    },
    "id": "VwPGV88kwjZs",
    "executionInfo": {
     "status": "ok",
     "timestamp": 1753232643561,
     "user_tz": -540,
     "elapsed": 25695,
     "user": {
      "displayName": "고강태 강사",
      "userId": "11816854931407731745"
     }
    },
    "outputId": "ac0fdf86-afac-4be6-d8e0-032deab633e5",
    "ExecuteTime": {
     "end_time": "2025-07-23T14:14:28.687076Z",
     "start_time": "2025-07-23T14:13:55.368815Z"
    }
   },
   "outputs": [
    {
     "name": "stdout",
     "output_type": "stream",
     "text": [
      "Epoch 1/5\n",
      "\u001B[1m1500/1500\u001B[0m \u001B[32m━━━━━━━━━━━━━━━━━━━━\u001B[0m\u001B[37m\u001B[0m \u001B[1m6s\u001B[0m 4ms/step - accuracy: 0.7490 - loss: 0.7348 - val_accuracy: 0.8372 - val_loss: 0.4730\n",
      "Epoch 2/5\n",
      "\u001B[1m1500/1500\u001B[0m \u001B[32m━━━━━━━━━━━━━━━━━━━━\u001B[0m\u001B[37m\u001B[0m \u001B[1m6s\u001B[0m 4ms/step - accuracy: 0.8315 - loss: 0.4832 - val_accuracy: 0.8113 - val_loss: 0.5226\n",
      "Epoch 3/5\n",
      "\u001B[1m1500/1500\u001B[0m \u001B[32m━━━━━━━━━━━━━━━━━━━━\u001B[0m\u001B[37m\u001B[0m \u001B[1m7s\u001B[0m 5ms/step - accuracy: 0.8405 - loss: 0.4626 - val_accuracy: 0.8294 - val_loss: 0.5175\n",
      "Epoch 4/5\n",
      "\u001B[1m1500/1500\u001B[0m \u001B[32m━━━━━━━━━━━━━━━━━━━━\u001B[0m\u001B[37m\u001B[0m \u001B[1m7s\u001B[0m 5ms/step - accuracy: 0.8367 - loss: 0.4755 - val_accuracy: 0.8409 - val_loss: 0.4736\n",
      "Epoch 5/5\n",
      "\u001B[1m1500/1500\u001B[0m \u001B[32m━━━━━━━━━━━━━━━━━━━━\u001B[0m\u001B[37m\u001B[0m \u001B[1m7s\u001B[0m 5ms/step - accuracy: 0.8416 - loss: 0.4614 - val_accuracy: 0.8340 - val_loss: 0.5007\n"
     ]
    }
   ],
   "execution_count": 76
  },
  {
   "cell_type": "code",
   "source": [
    "history2.history.keys()"
   ],
   "metadata": {
    "colab": {
     "base_uri": "https://localhost:8080/"
    },
    "id": "dF842m1wxkHr",
    "executionInfo": {
     "status": "ok",
     "timestamp": 1753232708146,
     "user_tz": -540,
     "elapsed": 46,
     "user": {
      "displayName": "고강태 강사",
      "userId": "11816854931407731745"
     }
    },
    "outputId": "6b2c6ace-f694-49e2-9cdf-89de83e928ce",
    "ExecuteTime": {
     "end_time": "2025-07-23T14:14:28.704315Z",
     "start_time": "2025-07-23T14:14:28.702468Z"
    }
   },
   "outputs": [
    {
     "data": {
      "text/plain": [
       "dict_keys(['accuracy', 'loss', 'val_accuracy', 'val_loss'])"
      ]
     },
     "execution_count": 77,
     "metadata": {},
     "output_type": "execute_result"
    }
   ],
   "execution_count": 77
  },
  {
   "cell_type": "code",
   "source": [
    "plt.figure(figsize=(12, 4))\n",
    "\n",
    "plt.subplot(1, 2, 1)\n",
    "plt.plot(history2.history['loss'], 'b-', label='loss')\n",
    "plt.plot(history2.history['val_loss'], 'r--', label='val_loss')\n",
    "plt.xlabel('Epoch')\n",
    "plt.legend()\n",
    "\n",
    "plt.subplot(1, 2, 2)\n",
    "plt.plot(history2.history['accuracy'], 'g-', label='accuracy')\n",
    "plt.plot(history2.history['val_accuracy'], 'k--', label='val_accuracy')\n",
    "plt.xlabel('Epoch')\n",
    "plt.ylim(0.7, 1)\n",
    "plt.legend()"
   ],
   "metadata": {
    "colab": {
     "base_uri": "https://localhost:8080/",
     "height": 411
    },
    "id": "a-IJPxArxqPj",
    "executionInfo": {
     "status": "ok",
     "timestamp": 1753232724028,
     "user_tz": -540,
     "elapsed": 274,
     "user": {
      "displayName": "고강태 강사",
      "userId": "11816854931407731745"
     }
    },
    "outputId": "77d5518f-c421-48a7-8d81-87e619987ec6",
    "ExecuteTime": {
     "end_time": "2025-07-23T14:14:28.826345Z",
     "start_time": "2025-07-23T14:14:28.722847Z"
    }
   },
   "outputs": [
    {
     "data": {
      "text/plain": [
       "<matplotlib.legend.Legend at 0x3eb6d2b80>"
      ]
     },
     "execution_count": 78,
     "metadata": {},
     "output_type": "execute_result"
    },
    {
     "data": {
      "text/plain": [
       "<Figure size 1200x400 with 2 Axes>"
      ],
      "image/png": "[encoded data removed]"
     },
     "metadata": {},
     "output_type": "display_data"
    }
   ],
   "execution_count": 78
  },
  {
   "cell_type": "markdown",
   "metadata": {
    "id": "3YtLsmGAoavz"
   },
   "source": [
    "# 7. 옵티마이저\n",
    "\n",
    "머신러닝에서 하이퍼파라미터는 모델이 학습하지 않아 사람이 지정해주어야 하는 파라미터라고 얘기했다. 신경망에서 특히 하이퍼파라미터가 많다.\n",
    "\n",
    "MLP에서 추가할 은닉층의 개수는 모델이 학습하는 것이 아니라 우리가 지정해 주어야 할 하이퍼 파라미터이다. 은닉층의 뉴런 개수도 마찬가지이다.\n"
   ]
  },
  {
   "cell_type": "markdown",
   "metadata": {
    "id": "XmmktZxnZiB2"
   },
   "source": [
    "케라스는 다양한 종류의 경사 하강법 알고리즘을 제공한다. 이들을 옵티마이저라고 부른다. 처음부터 모델을 구성하고 각종 하이퍼파라미터의 최적값을 찾는 것은 어려운 작업이다.\n",
    "\n",
    "<img src='https://i.imgur.com/YwVJz0a.png'>"
   ]
  },
  {
   "cell_type": "markdown",
   "metadata": {
    "id": "xv_ap6TrZiB2"
   },
   "source": [
    "compile() 메서드에서는 케라스의 기본 경사 하강법 알고리즘인 RMSprop을 사용했다.\n",
    "여기서는 여러 가지 옵티마이저를 테스트해 보자.\n",
    "\n"
   ]
  },
  {
   "cell_type": "markdown",
   "metadata": {
    "id": "_Xfs8rIZZiB2"
   },
   "source": [
    "### - SGD\n",
    "\n",
    "확률적경사하강법 SGD는 가장 기본 옵티마이저이다.\n",
    "\n",
    "<img src='https://img1.daumcdn.net/thumb/R1280x0/?scode=mtistory2&fname=https%3A%2F%2Ft1.daumcdn.net%2Fcfile%2Ftistory%2F996AFC3C5B0CF0C901'>(출처: https://twinw.tistory.com/247)\n",
    "\n",
    " - 램덤하게 추출한 일부 데이터에 대해 가중치를 조절합니다.\n",
    " - 결과적으로 속도는 개선되었지만 최적 해의 정확도는 낮습니다.\n"
   ]
  },
  {
   "cell_type": "code",
   "metadata": {
    "id": "NxVj04Haocwa",
    "executionInfo": {
     "status": "aborted",
     "timestamp": 1753231108334,
     "user_tz": -540,
     "elapsed": 128762,
     "user": {
      "displayName": "고강태 강사",
      "userId": "11816854931407731745"
     }
    },
    "ExecuteTime": {
     "end_time": "2025-07-23T14:14:28.856996Z",
     "start_time": "2025-07-23T14:14:28.837167Z"
    }
   },
   "source": [
    "# SGD 옵티마이저를 사용하려면 compile() 메서드의 optimizer 매개변수를 'sgd'로 지정한다.\n",
    "sgd = keras.optimizers.SGD()\n",
    "model.compile(optimizer=sgd, loss='sparse_categorical_crossentropy', metrics=['accuracy'])"
   ],
   "outputs": [],
   "execution_count": 79
  },
  {
   "cell_type": "markdown",
   "metadata": {
    "id": "cB364ehgZiB2"
   },
   "source": [
    "이 옵티마이저는 tensorflow,keras.optimizers 패키지 아래 SGD 클래스로 구현되어 있다."
   ]
  },
  {
   "cell_type": "code",
   "metadata": {
    "id": "1426O4G8Hpfi",
    "executionInfo": {
     "status": "aborted",
     "timestamp": 1753231108336,
     "user_tz": -540,
     "elapsed": 128764,
     "user": {
      "displayName": "고강태 강사",
      "userId": "11816854931407731745"
     }
    },
    "ExecuteTime": {
     "end_time": "2025-07-23T14:14:28.877114Z",
     "start_time": "2025-07-23T14:14:28.871213Z"
    }
   },
   "source": [
    "sgd = keras.optimizers.SGD(learning_rate=0.001)\n",
    "model.compile(optimizer=sgd, loss='sparse_categorical_crossentropy', metrics=['accuracy'])"
   ],
   "outputs": [],
   "execution_count": 80
  },
  {
   "cell_type": "markdown",
   "metadata": {
    "id": "qnCHiftrZiB3"
   },
   "source": [
    "만약 SGD 클래스의 학습률 기본값이 0.01일 때 이를 바꾸고 싶다면 다음과 같이 원하는 학습률을 learning_rate 매개변수에 지정하여 사용한다."
   ]
  },
  {
   "cell_type": "code",
   "metadata": {
    "id": "Sh-HDiULlp18",
    "executionInfo": {
     "status": "aborted",
     "timestamp": 1753231108337,
     "user_tz": -540,
     "elapsed": 128765,
     "user": {
      "displayName": "고강태 강사",
      "userId": "11816854931407731745"
     }
    },
    "ExecuteTime": {
     "end_time": "2025-07-23T14:14:28.886124Z",
     "start_time": "2025-07-23T14:14:28.884963Z"
    }
   },
   "source": [
    "\n"
   ],
   "outputs": [],
   "execution_count": 80
  },
  {
   "cell_type": "markdown",
   "metadata": {
    "id": "h1xHUSD1ZiB3"
   },
   "source": [
    "#### 2) Momentum\n",
    "\n",
    "모멘텀(momentum)이란 단어는 관성, 탄력, 가속도라는 뜻입니다. 모멘텀 SGD는 경사 하강법에 관성을 더해 주는 것입니다.\n",
    "\n",
    "<img src='https://img1.daumcdn.net/thumb/R1280x0/?scode=mtistory2&fname=https%3A%2F%2Ft1.daumcdn.net%2Fcfile%2Ftistory%2F99294C355B0CF0E814'> (출처: https://twinw.tistory.com/247)\n",
    "\n",
    "경사 하강법과 마찬가지로 매번 기울기를 구하지만, 가중치를 수정하기전 이전 수정 방향(+,-)를 참고하여 같은 방향으로 일정한 비율만 수정되게 하는 방법입니다. 수정이 양(+) 방향, 음(-) 방향 순차적으로 일어나는 지그재그 현상이 줄어들고, 이전 이동 값을 고려해여 일정 비율만큼 다음 값을 결정하므로 관성의 효과를 낼 수 있습니다."
   ]
  },
  {
   "cell_type": "markdown",
   "metadata": {
    "id": "2HWKYfiTZiB3"
   },
   "source": [
    "\n",
    "\n",
    "기본 경사 하강법 옵티마이저는 모두 SGD 클래스에서 제공한다. SGD 클래스의 momentum 매개변수에 0보다 큰 값으로 지정하면 마치 이전의 그레이디언트를 가속도처럼 사용하는 모멘텀 최적화를 사용한다. 보통 0.9 이상을 지정한다."
   ]
  },
  {
   "cell_type": "code",
   "metadata": {
    "id": "uF1XolBXsl3a",
    "executionInfo": {
     "status": "aborted",
     "timestamp": 1753231108337,
     "user_tz": -540,
     "elapsed": 128765,
     "user": {
      "displayName": "고강태 강사",
      "userId": "11816854931407731745"
     }
    },
    "ExecuteTime": {
     "end_time": "2025-07-23T14:14:28.905849Z",
     "start_time": "2025-07-23T14:14:28.901530Z"
    }
   },
   "source": [
    "sgd = keras.optimizers.SGD(momentum=0.9, nesterov=True)\n",
    "model.compile(optimizer=sgd, loss='sparse_categorical_crossentropy', metrics=['accuracy'])"
   ],
   "outputs": [],
   "execution_count": 81
  },
  {
   "cell_type": "markdown",
   "metadata": {
    "id": "Q6NJiS2KZiB4"
   },
   "source": [
    "#### 3) Nesterov Accelrated Gradient(NAG, 네스테로프 모멘텀)\n",
    "\n",
    "네스테로프 모멘텀은 momentum값과 gradient값이 더해저 실제(actual)값을 만드는 기존 모멘텀과 달리 momentum값이 적용된 지점에서 gradient값이 계산됩니다.\n",
    "\n",
    "<img src='https://img1.daumcdn.net/thumb/R1280x0/?scode=mtistory2&fname=https%3A%2F%2Ft1.daumcdn.net%2Fcfile%2Ftistory%2F996E494B5B0D03A003'>(출처: https://twinw.tistory.com/247)"
   ]
  },
  {
   "cell_type": "markdown",
   "metadata": {
    "id": "Pz7_HRyeZiB4"
   },
   "source": [
    "네스테로프 모멘텀은 모멘텀 최적화를 2번 반복하여 구현한다. 대부분의 경우 <u>**네스테로프 모멘텀 최적화가 기본 확률적 경사 하강법보다 더 나은 성능을 제공**</u> 한다.\n",
    "\n",
    "모델이 최적점에 가까이 갈수록 학습률을 낮출 수 있다. 이렇게 하면 안정적으로 최적점에 수렴할 가능성이 높다. 이런 학습률을 **적응적 학습률** 이라고 한다. 이런 방식들은 학습률 매개변수를 튜닝하는 수고를 덜 수 있는 것이 장점이다.\n"
   ]
  },
  {
   "cell_type": "markdown",
   "metadata": {
    "id": "N9uqKcHjZiB4"
   },
   "source": [
    " 아래처럼 SGD 클래스의 nesterov 매개변수를 기본값 False에서 True로 바꾸면 네스테로프 모멘텀 최적화를 사용한다."
   ]
  },
  {
   "cell_type": "code",
   "metadata": {
    "id": "AghvlyAhZiB4",
    "executionInfo": {
     "status": "aborted",
     "timestamp": 1753231108338,
     "user_tz": -540,
     "elapsed": 128765,
     "user": {
      "displayName": "고강태 강사",
      "userId": "11816854931407731745"
     }
    },
    "ExecuteTime": {
     "end_time": "2025-07-23T14:14:28.923589Z",
     "start_time": "2025-07-23T14:14:28.922363Z"
    }
   },
   "source": [
    "\n"
   ],
   "outputs": [],
   "execution_count": 81
  },
  {
   "cell_type": "markdown",
   "metadata": {
    "id": "5D8y4CeTZiB4"
   },
   "source": [
    "\n",
    "#### 3) Adagrad(Adaptive Gradient, 아다그라드)\n",
    "\n",
    "아다그라드는 변수의 업데이트 횟수에 따라 학습률(Learning rate)를 조절하는 옵션이 추가된 최적화 방법입니다. 여기서 변수란 가중치(W) 벡터의 하나의 값($w_i$)을 말합니다. 아다그라드는 많이 변화하지 않은 변수들은 학습률(step size)를 크게하고, 반대로 많이 변화한 변수들에 대해서는 학습률을 적게합니다. 이는 많이 변화한 변수는 최적값에 근접했을 것이라는 가정하에 작은 크기로 이동하면서 세밀한 값을 조정하고, 반대로 적게 변화한 변수들은 학습률을 크게하여 빠르게 loss값을 줄입니다.\n",
    "\n",
    " 아다그라드는 같은 입력 데이터가 여러번 학습되는 학습모델에 유용하게 쓰이는데 대표적으로 언어와 관련된 word2vec이나 GloVe에 유용합니다. 이는 학습 단어의 등장 확률에 따라 변수의 사용 비율이 확연하게 차이나기 때문에 많이 등장한 단어는 가중치를 적게 수정하고 적게 등장한 단어는 많이 수정할 수 있기 때문입니다.\n"
   ]
  },
  {
   "cell_type": "markdown",
   "metadata": {
    "id": "p6uJpnSxZiB4"
   },
   "source": [
    "keras의 적응적 학습률을 사용하는 대표적인 옵티마이저는 Adagrad와 RMSprop 이다. optimizer 매개변수의 기본값이 바로 rmsprop이다."
   ]
  },
  {
   "cell_type": "code",
   "metadata": {
    "id": "Hy2MENbL170j",
    "executionInfo": {
     "status": "aborted",
     "timestamp": 1753231108338,
     "user_tz": -540,
     "elapsed": 128765,
     "user": {
      "displayName": "고강태 강사",
      "userId": "11816854931407731745"
     }
    },
    "ExecuteTime": {
     "end_time": "2025-07-23T14:14:28.938503Z",
     "start_time": "2025-07-23T14:14:28.932695Z"
    }
   },
   "source": [
    "adagrad = keras.optimizers.Adagrad(learning_rate=0.001)\n",
    "model.compile(optimizer=adagrad)"
   ],
   "outputs": [],
   "execution_count": 82
  },
  {
   "cell_type": "markdown",
   "metadata": {
    "id": "jky67TqmZiB5"
   },
   "source": [
    "#### 4) RMSprop\n",
    "\n",
    "적응적 학습률을 사용하는 대표적인 옵티마이저 중 하나. RMSprop은 지수 이동평균을 이용한 방법입니다.  RMSprop(알엠에스프롭)은 아다그라드의 G(t)의 값이 무한히 커지는 것을 방지하고자 제안된 방법으로, 논문과 같은 형태로 발표된 다른 방법들과 달리 제프리 힌튼 교수와 제자들이 코세라(Coursera) 수업에서 소개하였습니다. [링크](https://ko.coursera.org/learn/deep-neural-network/lecture/BhJlm/rmsprop)\n",
    "- Adagard처럼 그레이디언트 제곱으로 학습률을 나누지만 최근의 그레이디언트를 사용하기 위해 지수 감소를 사용한다.\n",
    "- learining_rate로 학습률을 지정하며 기본값은 0.001\n",
    "- rho 매개변수에서 감소 비율을 지정하며 기본값은 0.9"
   ]
  },
  {
   "cell_type": "code",
   "metadata": {
    "id": "KkpbSMXWtakr",
    "executionInfo": {
     "status": "aborted",
     "timestamp": 1753231108339,
     "user_tz": -540,
     "elapsed": 128766,
     "user": {
      "displayName": "고강태 강사",
      "userId": "11816854931407731745"
     }
    },
    "ExecuteTime": {
     "end_time": "2025-07-23T14:14:28.955472Z",
     "start_time": "2025-07-23T14:14:28.954312Z"
    }
   },
   "source": [],
   "outputs": [],
   "execution_count": null
  },
  {
   "cell_type": "markdown",
   "metadata": {
    "id": "DmPxNF0ZZiB5"
   },
   "source": [
    "#### 5) Adam\n",
    "\n",
    "모멘텀 최적화와 RMSprop의 장점을 접목한 것이 Adam이다. RMSprop의 특징인 gradient의 제곱을 지수평균한 값을 사용하며 Momentum의 특징으로 gradient를 제곱하지 않은 값을 사용하여 지수평균을 구하고 수식에 활용합니다.\n",
    "\n",
    "Adam 클래스도 keras.optimizers 패키지 아래에 있다. 적응적 학습률을 사용하는 3개의 클래스는 learning_rate 매개변수의 기본값으로 모두 0.001을 사용한다.\n"
   ]
  },
  {
   "cell_type": "code",
   "metadata": {
    "id": "IfURRYXhZiB5",
    "executionInfo": {
     "status": "aborted",
     "timestamp": 1753231108340,
     "user_tz": -540,
     "elapsed": 128764,
     "user": {
      "displayName": "고강태 강사",
      "userId": "11816854931407731745"
     }
    },
    "ExecuteTime": {
     "end_time": "2025-07-23T14:14:28.981166Z",
     "start_time": "2025-07-23T14:14:28.975199Z"
    }
   },
   "source": [
    "adam = keras.optimizers.Adam(learning_rate = 0.001)\n",
    "model.compile(optimizer=adam)"
   ],
   "outputs": [],
   "execution_count": 83
  },
  {
   "cell_type": "markdown",
   "metadata": {
    "id": "CCbaz2kdZiB5"
   },
   "source": [
    "#### 6) AdaDelta(Adaptive Delta)\n",
    "\n",
    "AdaDelta는 Adagrad, RMSprop, Momentum 모두를 합친 경사하강법이다. [논문 링크](http://www.matthewzeiler.com/wp-content/uploads/2017/07/googleTR2012.pdf)\n",
    "\n",
    "2가지 특징\n",
    " - 첫 번째는 Adagrad 특징인 모든 step의 gradient 제곱의 합을 window size를 두어 window size만큼의 합으로 변경합니다. 이후 RMSprop과 똑같지 지수이동평균을 적용합니다.\n",
    "\n",
    " - 두 번째는 헤시안(Hessian) 근사법(Approximation)을 이용한 단위(Units) 수정입니다.\n"
   ]
  },
  {
   "cell_type": "code",
   "metadata": {
    "id": "3PEzi4k8ZiB5",
    "executionInfo": {
     "status": "aborted",
     "timestamp": 1753231108340,
     "user_tz": -540,
     "elapsed": 128759,
     "user": {
      "displayName": "고강태 강사",
      "userId": "11816854931407731745"
     }
    },
    "ExecuteTime": {
     "end_time": "2025-07-23T14:14:29.011826Z",
     "start_time": "2025-07-23T14:14:29.007051Z"
    }
   },
   "source": [
    "adadelta = keras.optimizers.Adadelta(learning_rate=0.001)\n",
    "model.compile(optimizer=adadelta)\n"
   ],
   "outputs": [],
   "execution_count": 84
  },
  {
   "cell_type": "markdown",
   "metadata": {
    "id": "-nf9fDdeZiB6"
   },
   "source": [
    "# 9.Keras 콜백\n",
    "\n",
    "모든 콜백은 `keras.callbacks.Callback` 클래스를 하위 클래스화하며, 훈련, 테스트 및 예측의 다양한 단계에서 호출되는 메서드 세트를 재정의합니다. 콜백은 훈련 중 모델의 내부 상태 및 통계를 볼 때 유용합니다.\n",
    "\n",
    "콜백(키워드 인수 callbacks와 같은)의 목록을 다음 모델 메서드에 전달할 수 있습니다.\n",
    "\n",
    "- keras.Model.fit()\n",
    "- keras.Model.evaluate()\n",
    "- keras.Model.predict()\n"
   ]
  },
  {
   "cell_type": "code",
   "metadata": {
    "id": "VwcHgs1_ZiB6",
    "executionInfo": {
     "status": "ok",
     "timestamp": 1753233948741,
     "user_tz": -540,
     "elapsed": 723,
     "user": {
      "displayName": "고강태 강사",
      "userId": "11816854931407731745"
     }
    },
    "ExecuteTime": {
     "end_time": "2025-07-23T14:14:29.269425Z",
     "start_time": "2025-07-23T14:14:29.028020Z"
    }
   },
   "source": [
    "from sklearn.model_selection import train_test_split\n",
    "\n",
    "(train_images, train_labels), (test_images, test_labels) = keras.datasets.fashion_mnist.load_data()\n",
    "\n",
    "train_scaled = train_images / 255.0\n",
    "\n",
    "train_scaled, val_scaled, train_labels, val_target = train_test_split(\n",
    "    train_scaled, train_labels, test_size=0.2, random_state=42)"
   ],
   "outputs": [],
   "execution_count": 85
  },
  {
   "cell_type": "code",
   "metadata": {
    "id": "EOOqrwqYZiB6",
    "executionInfo": {
     "status": "ok",
     "timestamp": 1753234612452,
     "user_tz": -540,
     "elapsed": 46,
     "user": {
      "displayName": "고강태 강사",
      "userId": "11816854931407731745"
     }
    },
    "ExecuteTime": {
     "end_time": "2025-07-23T14:14:29.291213Z",
     "start_time": "2025-07-23T14:14:29.277210Z"
    }
   },
   "source": [
    "model = keras.Sequential()\n",
    "model.add(keras.layers.Input((28,28)))\n",
    "model.add(keras.layers.Flatten())\n",
    "model.add(keras.layers.Dense(100, activation='relu'))\n",
    "model.add(keras.layers.Dense(10, activation='softmax'))"
   ],
   "outputs": [],
   "execution_count": 86
  },
  {
   "cell_type": "code",
   "metadata": {
    "id": "ieGxfD61ZiB6",
    "executionInfo": {
     "status": "ok",
     "timestamp": 1753234235078,
     "user_tz": -540,
     "elapsed": 21,
     "user": {
      "displayName": "고강태 강사",
      "userId": "11816854931407731745"
     }
    },
    "ExecuteTime": {
     "end_time": "2025-07-23T14:14:29.305316Z",
     "start_time": "2025-07-23T14:14:29.301248Z"
    }
   },
   "source": [
    "model.compile(optimizer='adam',\n",
    "              loss='sparse_categorical_crossentropy',\n",
    "              metrics=['accuracy'])"
   ],
   "outputs": [],
   "execution_count": 87
  },
  {
   "cell_type": "markdown",
   "metadata": {
    "id": "BswX617HZiB7"
   },
   "source": [
    "## PrintDot Callback"
   ]
  },
  {
   "cell_type": "code",
   "metadata": {
    "id": "iQh_oCoBZiB7",
    "executionInfo": {
     "status": "ok",
     "timestamp": 1753234270135,
     "user_tz": -540,
     "elapsed": 30,
     "user": {
      "displayName": "고강태 강사",
      "userId": "11816854931407731745"
     }
    },
    "ExecuteTime": {
     "end_time": "2025-07-23T14:14:29.320794Z",
     "start_time": "2025-07-23T14:14:29.318562Z"
    }
   },
   "source": [
    "class PrintDot(keras.callbacks.Callback):\n",
    "    \"\"\"에포크가 끝날 때마다 점(.)을 출력해 훈련 진행 과정을 표시합니다\"\"\"\n",
    "    def on_epoch_end(self, epoch, logs):\n",
    "        if epoch % 10 == 0:\n",
    "            print('')\n",
    "        print('.', end='')\n"
   ],
   "outputs": [],
   "execution_count": 88
  },
  {
   "cell_type": "code",
   "source": [
    "history = model.fit(train_scaled,\n",
    "                    train_labels,\n",
    "                    epochs=30,\n",
    "                    validation_split=0.25,\n",
    "                    verbose=0,\n",
    "                    callbacks=[PrintDot()]\n",
    "                    )"
   ],
   "metadata": {
    "colab": {
     "base_uri": "https://localhost:8080/",
     "height": 428
    },
    "id": "HCbjR92E5c2V",
    "executionInfo": {
     "status": "error",
     "timestamp": 1753234414522,
     "user_tz": -540,
     "elapsed": 60831,
     "user": {
      "displayName": "고강태 강사",
      "userId": "11816854931407731745"
     }
    },
    "outputId": "2682a305-90b7-4cb0-9309-7fdb230052ca",
    "ExecuteTime": {
     "end_time": "2025-07-23T14:17:22.656150Z",
     "start_time": "2025-07-23T14:14:29.332178Z"
    }
   },
   "outputs": [
    {
     "name": "stdout",
     "output_type": "stream",
     "text": [
      "\n",
      "..........\n",
      "..........\n",
      ".........."
     ]
    }
   ],
   "execution_count": 89
  },
  {
   "cell_type": "code",
   "metadata": {
    "id": "wZWoRA5JZiB7",
    "executionInfo": {
     "status": "aborted",
     "timestamp": 1753231108343,
     "user_tz": -540,
     "elapsed": 128755,
     "user": {
      "displayName": "고강태 강사",
      "userId": "11816854931407731745"
     }
    },
    "ExecuteTime": {
     "end_time": "2025-07-23T14:17:23.816342Z",
     "start_time": "2025-07-23T14:17:22.673856Z"
    }
   },
   "source": [
    "print(\"\\검증 데이터로 모델 평가:\")\n",
    "loss, accuracy = model.evaluate(val_scaled, val_target)\n",
    "print(f\"테스트 손실: {loss:.4f}\")\n",
    "print(f\"테스트 정확도: {accuracy:.4f}\")"
   ],
   "outputs": [
    {
     "name": "stdout",
     "output_type": "stream",
     "text": [
      "\\검증 데이터로 모델 평가:\n",
      "\u001B[1m375/375\u001B[0m \u001B[32m━━━━━━━━━━━━━━━━━━━━\u001B[0m\u001B[37m\u001B[0m \u001B[1m1s\u001B[0m 3ms/step - accuracy: 0.8317 - loss: 0.5859\n",
      "테스트 손실: 0.5979\n",
      "테스트 정확도: 0.8310\n"
     ]
    }
   ],
   "execution_count": 90
  },
  {
   "cell_type": "markdown",
   "metadata": {
    "id": "-NzejkrnZiB8"
   },
   "source": [
    "## TqdmCallback"
   ]
  },
  {
   "cell_type": "markdown",
   "metadata": {
    "id": "Oz1JlqpbZiB8"
   },
   "source": [
    "Tqdm 과 Keras Integration\n",
    "\n",
    "https://github.com/tqdm/tqdm/#installation\n",
    "\n",
    "\n",
    "```bash\n",
    "pip install tqdm\n",
    "\n",
    "conda install -c conda-forge tqdm\n",
    "```"
   ]
  },
  {
   "cell_type": "markdown",
   "metadata": {
    "id": "UbuNHiacZiB8"
   },
   "source": [
    "TQDM을 Jupyter notebook 에 표시하기 위해서 ipywidgets 도 설치한다."
   ]
  },
  {
   "cell_type": "code",
   "metadata": {
    "id": "3UfsKB9HZiB8",
    "ExecuteTime": {
     "end_time": "2025-07-23T14:17:24.656025Z",
     "start_time": "2025-07-23T14:17:23.829882Z"
    }
   },
   "source": [
    "%pip install tqdm ipywidgets"
   ],
   "outputs": [
    {
     "name": "stdout",
     "output_type": "stream",
     "text": [
      "Collecting tqdm\r\n",
      "  Downloading tqdm-4.67.1-py3-none-any.whl.metadata (57 kB)\r\n",
      "Collecting ipywidgets\r\n",
      "  Using cached ipywidgets-8.1.7-py3-none-any.whl.metadata (2.4 kB)\r\n",
      "Requirement already satisfied: comm>=0.1.3 in /opt/anaconda3/envs/stenv/lib/python3.9/site-packages (from ipywidgets) (0.2.2)\r\n",
      "Requirement already satisfied: ipython>=6.1.0 in /opt/anaconda3/envs/stenv/lib/python3.9/site-packages (from ipywidgets) (8.18.1)\r\n",
      "Requirement already satisfied: traitlets>=4.3.1 in /opt/anaconda3/envs/stenv/lib/python3.9/site-packages (from ipywidgets) (5.14.3)\r\n",
      "Collecting widgetsnbextension~=4.0.14 (from ipywidgets)\r\n",
      "  Using cached widgetsnbextension-4.0.14-py3-none-any.whl.metadata (1.6 kB)\r\n",
      "Collecting jupyterlab_widgets~=3.0.15 (from ipywidgets)\r\n",
      "  Using cached jupyterlab_widgets-3.0.15-py3-none-any.whl.metadata (20 kB)\r\n",
      "Requirement already satisfied: decorator in /opt/anaconda3/envs/stenv/lib/python3.9/site-packages (from ipython>=6.1.0->ipywidgets) (5.2.1)\r\n",
      "Requirement already satisfied: jedi>=0.16 in /opt/anaconda3/envs/stenv/lib/python3.9/site-packages (from ipython>=6.1.0->ipywidgets) (0.19.2)\r\n",
      "Requirement already satisfied: matplotlib-inline in /opt/anaconda3/envs/stenv/lib/python3.9/site-packages (from ipython>=6.1.0->ipywidgets) (0.1.7)\r\n",
      "Requirement already satisfied: prompt-toolkit<3.1.0,>=3.0.41 in /opt/anaconda3/envs/stenv/lib/python3.9/site-packages (from ipython>=6.1.0->ipywidgets) (3.0.51)\r\n",
      "Requirement already satisfied: pygments>=2.4.0 in /opt/anaconda3/envs/stenv/lib/python3.9/site-packages (from ipython>=6.1.0->ipywidgets) (2.19.2)\r\n",
      "Requirement already satisfied: stack-data in /opt/anaconda3/envs/stenv/lib/python3.9/site-packages (from ipython>=6.1.0->ipywidgets) (0.6.3)\r\n",
      "Requirement already satisfied: typing-extensions in /opt/anaconda3/envs/stenv/lib/python3.9/site-packages (from ipython>=6.1.0->ipywidgets) (4.14.1)\r\n",
      "Requirement already satisfied: exceptiongroup in /opt/anaconda3/envs/stenv/lib/python3.9/site-packages (from ipython>=6.1.0->ipywidgets) (1.3.0)\r\n",
      "Requirement already satisfied: pexpect>4.3 in /opt/anaconda3/envs/stenv/lib/python3.9/site-packages (from ipython>=6.1.0->ipywidgets) (4.9.0)\r\n",
      "Requirement already satisfied: wcwidth in /opt/anaconda3/envs/stenv/lib/python3.9/site-packages (from prompt-toolkit<3.1.0,>=3.0.41->ipython>=6.1.0->ipywidgets) (0.2.13)\r\n",
      "Requirement already satisfied: parso<0.9.0,>=0.8.4 in /opt/anaconda3/envs/stenv/lib/python3.9/site-packages (from jedi>=0.16->ipython>=6.1.0->ipywidgets) (0.8.4)\r\n",
      "Requirement already satisfied: ptyprocess>=0.5 in /opt/anaconda3/envs/stenv/lib/python3.9/site-packages (from pexpect>4.3->ipython>=6.1.0->ipywidgets) (0.7.0)\r\n",
      "Requirement already satisfied: executing>=1.2.0 in /opt/anaconda3/envs/stenv/lib/python3.9/site-packages (from stack-data->ipython>=6.1.0->ipywidgets) (2.2.0)\r\n",
      "Requirement already satisfied: asttokens>=2.1.0 in /opt/anaconda3/envs/stenv/lib/python3.9/site-packages (from stack-data->ipython>=6.1.0->ipywidgets) (3.0.0)\r\n",
      "Requirement already satisfied: pure-eval in /opt/anaconda3/envs/stenv/lib/python3.9/site-packages (from stack-data->ipython>=6.1.0->ipywidgets) (0.2.3)\r\n",
      "Downloading tqdm-4.67.1-py3-none-any.whl (78 kB)\r\n",
      "Using cached ipywidgets-8.1.7-py3-none-any.whl (139 kB)\r\n",
      "Using cached jupyterlab_widgets-3.0.15-py3-none-any.whl (216 kB)\r\n",
      "Using cached widgetsnbextension-4.0.14-py3-none-any.whl (2.2 MB)\r\n",
      "Installing collected packages: widgetsnbextension, tqdm, jupyterlab_widgets, ipywidgets\r\n",
      "\u001B[2K   \u001B[90m━━━━━━━━━━━━━━━━━━━━━━━━━━━━━━━━━━━━━━━━\u001B[0m \u001B[32m4/4\u001B[0m [ipywidgets]\r\n",
      "\u001B[1A\u001B[2KSuccessfully installed ipywidgets-8.1.7 jupyterlab_widgets-3.0.15 tqdm-4.67.1 widgetsnbextension-4.0.14\r\n",
      "Note: you may need to restart the kernel to use updated packages.\n"
     ]
    }
   ],
   "execution_count": 91
  },
  {
   "cell_type": "code",
   "metadata": {
    "colab": {
     "base_uri": "https://localhost:8080/"
    },
    "id": "ZeZlYL2-ZiB9",
    "executionInfo": {
     "status": "ok",
     "timestamp": 1753234557459,
     "user_tz": -540,
     "elapsed": 1012,
     "user": {
      "displayName": "고강태 강사",
      "userId": "11816854931407731745"
     }
    },
    "outputId": "fa678014-3370-47ab-d980-5d63a692e46b",
    "ExecuteTime": {
     "end_time": "2025-07-23T14:17:25.689848Z",
     "start_time": "2025-07-23T14:17:24.664831Z"
    }
   },
   "source": [
    "from tqdm import tqdm\n",
    "from time import sleep\n",
    "\n",
    "text = \"\"\n",
    "for char in tqdm([\"a\", \"b\", \"c\", \"d\"]):\n",
    "    sleep(0.25)\n",
    "    text = text + char"
   ],
   "outputs": [
    {
     "name": "stderr",
     "output_type": "stream",
     "text": [
      "100%|██████████| 4/4 [00:01<00:00,  3.93it/s]\n"
     ]
    }
   ],
   "execution_count": 92
  },
  {
   "cell_type": "markdown",
   "metadata": {
    "id": "KlI2HLvLZiB9"
   },
   "source": [
    "keras.fit() 메서드 verbose=0 으로 지정하고  callback 매개변수에 TqdmCallback을 사용해 Tqdm으로 출력\n",
    "\n",
    "```python\n",
    "from tqdm.keras import TqdmCallback\n",
    "\n",
    "model.fit(..., verbose=0, callbacks=[TqdmCallback()])\n",
    "```"
   ]
  },
  {
   "cell_type": "code",
   "source": [
    "model = keras.Sequential()\n",
    "model.add(keras.layers.Input((28,28)))\n",
    "model.add(keras.layers.Flatten())\n",
    "model.add(keras.layers.Dense(100, activation='relu'))\n",
    "model.add(keras.layers.Dense(10, activation='softmax'))\n",
    "\n",
    "model.compile(optimizer='adam',\n",
    "              loss='sparse_categorical_crossentropy',\n",
    "              metrics=['accuracy'])"
   ],
   "metadata": {
    "id": "YMX81Wuk7USH",
    "executionInfo": {
     "status": "ok",
     "timestamp": 1753234814101,
     "user_tz": -540,
     "elapsed": 28,
     "user": {
      "displayName": "고강태 강사",
      "userId": "11816854931407731745"
     }
    },
    "ExecuteTime": {
     "end_time": "2025-07-23T14:17:25.732752Z",
     "start_time": "2025-07-23T14:17:25.712340Z"
    }
   },
   "outputs": [],
   "execution_count": 93
  },
  {
   "cell_type": "code",
   "metadata": {
    "colab": {
     "base_uri": "https://localhost:8080/",
     "height": 694,
     "referenced_widgets": [
      "4a6ac2e5f6824829b8e949dbd580a67e",
      "ac0b845226bb47c09ee925de306a183d",
      "2edb2f07890944d3a134d66a4dee3101",
      "4a7d821f764d47e3b5a7d831308df620",
      "0881a183c00a49e2a187d8f27f66f047",
      "b2b368b190ae466587f86f1f8f1360ce",
      "e789b755ae3d4c96b62bea0c38cd2744",
      "1867288063cf4466afeccfb543803e64",
      "28cf44f9ade74ce790ccfd5c8399448c",
      "375035bc77f64484937a24024a407d9f",
      "65cb3e64c67a4d618b303ee10ee27bd5",
      "92738087601f486e8ea461604ec5abda",
      "f4adc53455bc4577be90e72025747a9d",
      "e0906135df5b417da8f66ccc6b8ee5bf",
      "ef7cfbf34e154b3fb77fa28ddf6a0c96",
      "0fb91e7d9d15452db5b0fcacf1a41c8f",
      "4499c53569164704b5c7c50096a38aef",
      "5fb1499b00fd4a7d8d33a9a055986c32",
      "f795c5acc5d349c096fef80d39eab5b2",
      "aacc424a3ab4462a8b117664676c367b",
      "6bc1d58e3b374246bd01fdbd8df2e106",
      "f26c0bc266464b6cbde8b239aa2ba39c"
     ]
    },
    "id": "MyKUnLQtZiB9",
    "executionInfo": {
     "status": "error",
     "timestamp": 1753234851415,
     "user_tz": -540,
     "elapsed": 35240,
     "user": {
      "displayName": "고강태 강사",
      "userId": "11816854931407731745"
     }
    },
    "outputId": "d38c738f-961f-44e3-f2f5-7d706006377c",
    "ExecuteTime": {
     "end_time": "2025-07-23T14:20:53.234421Z",
     "start_time": "2025-07-23T14:17:25.744245Z"
    }
   },
   "source": [
    "from tqdm.keras import TqdmCallback\n",
    "\n",
    "history = model.fit(train_scaled,\n",
    "                    train_labels,\n",
    "                    epochs=30,\n",
    "                    validation_split=0.25,\n",
    "                    verbose=1,\n",
    "                    callbacks=[TqdmCallback()]\n",
    "                    )"
   ],
   "outputs": [
    {
     "data": {
      "text/plain": [
       "0epoch [00:00, ?epoch/s]"
      ],
      "application/vnd.jupyter.widget-view+json": {
       "version_major": 2,
       "version_minor": 0,
       "model_id": "f546e0d3847b4cf4aa3f91468bd09d5b"
      }
     },
     "metadata": {},
     "output_type": "display_data"
    },
    {
     "data": {
      "text/plain": [
       "0batch [00:00, ?batch/s]"
      ],
      "application/vnd.jupyter.widget-view+json": {
       "version_major": 2,
       "version_minor": 0,
       "model_id": "5ad9549630924bd9a4fc1902989276e9"
      }
     },
     "metadata": {},
     "output_type": "display_data"
    },
    {
     "name": "stdout",
     "output_type": "stream",
     "text": [
      "Epoch 1/30\n",
      "\u001B[1m1125/1125\u001B[0m \u001B[32m━━━━━━━━━━━━━━━━━━━━\u001B[0m\u001B[37m\u001B[0m \u001B[1m7s\u001B[0m 6ms/step - accuracy: 0.7480 - loss: 0.7335 - val_accuracy: 0.8325 - val_loss: 0.4798\n",
      "Epoch 2/30\n",
      "\u001B[1m1125/1125\u001B[0m \u001B[32m━━━━━━━━━━━━━━━━━━━━\u001B[0m\u001B[37m\u001B[0m \u001B[1m8s\u001B[0m 7ms/step - accuracy: 0.8317 - loss: 0.4818 - val_accuracy: 0.8368 - val_loss: 0.4657\n",
      "Epoch 3/30\n",
      "\u001B[1m1125/1125\u001B[0m \u001B[32m━━━━━━━━━━━━━━━━━━━━\u001B[0m\u001B[37m\u001B[0m \u001B[1m8s\u001B[0m 7ms/step - accuracy: 0.8399 - loss: 0.4520 - val_accuracy: 0.8438 - val_loss: 0.4480\n",
      "Epoch 4/30\n",
      "\u001B[1m1125/1125\u001B[0m \u001B[32m━━━━━━━━━━━━━━━━━━━━\u001B[0m\u001B[37m\u001B[0m \u001B[1m7s\u001B[0m 7ms/step - accuracy: 0.8455 - loss: 0.4415 - val_accuracy: 0.8268 - val_loss: 0.5158\n",
      "Epoch 5/30\n",
      "\u001B[1m1125/1125\u001B[0m \u001B[32m━━━━━━━━━━━━━━━━━━━━\u001B[0m\u001B[37m\u001B[0m \u001B[1m7s\u001B[0m 7ms/step - accuracy: 0.8482 - loss: 0.4360 - val_accuracy: 0.8312 - val_loss: 0.4830\n",
      "Epoch 6/30\n",
      "\u001B[1m1125/1125\u001B[0m \u001B[32m━━━━━━━━━━━━━━━━━━━━\u001B[0m\u001B[37m\u001B[0m \u001B[1m7s\u001B[0m 6ms/step - accuracy: 0.8448 - loss: 0.4499 - val_accuracy: 0.8252 - val_loss: 0.5058\n",
      "Epoch 7/30\n",
      "\u001B[1m1125/1125\u001B[0m \u001B[32m━━━━━━━━━━━━━━━━━━━━\u001B[0m\u001B[37m\u001B[0m \u001B[1m7s\u001B[0m 6ms/step - accuracy: 0.8489 - loss: 0.4380 - val_accuracy: 0.8451 - val_loss: 0.4552\n",
      "Epoch 8/30\n",
      "\u001B[1m1125/1125\u001B[0m \u001B[32m━━━━━━━━━━━━━━━━━━━━\u001B[0m\u001B[37m\u001B[0m \u001B[1m7s\u001B[0m 6ms/step - accuracy: 0.8499 - loss: 0.4340 - val_accuracy: 0.8190 - val_loss: 0.5364\n",
      "Epoch 9/30\n",
      "\u001B[1m1125/1125\u001B[0m \u001B[32m━━━━━━━━━━━━━━━━━━━━\u001B[0m\u001B[37m\u001B[0m \u001B[1m7s\u001B[0m 6ms/step - accuracy: 0.8459 - loss: 0.4465 - val_accuracy: 0.8433 - val_loss: 0.5023\n",
      "Epoch 10/30\n",
      "\u001B[1m1125/1125\u001B[0m \u001B[32m━━━━━━━━━━━━━━━━━━━━\u001B[0m\u001B[37m\u001B[0m \u001B[1m7s\u001B[0m 6ms/step - accuracy: 0.8453 - loss: 0.4473 - val_accuracy: 0.8432 - val_loss: 0.5000\n",
      "Epoch 11/30\n",
      "\u001B[1m1125/1125\u001B[0m \u001B[32m━━━━━━━━━━━━━━━━━━━━\u001B[0m\u001B[37m\u001B[0m \u001B[1m7s\u001B[0m 6ms/step - accuracy: 0.8487 - loss: 0.4356 - val_accuracy: 0.8429 - val_loss: 0.4745\n",
      "Epoch 12/30\n",
      "\u001B[1m1125/1125\u001B[0m \u001B[32m━━━━━━━━━━━━━━━━━━━━\u001B[0m\u001B[37m\u001B[0m \u001B[1m7s\u001B[0m 6ms/step - accuracy: 0.8514 - loss: 0.4374 - val_accuracy: 0.8372 - val_loss: 0.5052\n",
      "Epoch 13/30\n",
      "\u001B[1m1125/1125\u001B[0m \u001B[32m━━━━━━━━━━━━━━━━━━━━\u001B[0m\u001B[37m\u001B[0m \u001B[1m7s\u001B[0m 6ms/step - accuracy: 0.8452 - loss: 0.4564 - val_accuracy: 0.8435 - val_loss: 0.4909\n",
      "Epoch 14/30\n",
      "\u001B[1m1125/1125\u001B[0m \u001B[32m━━━━━━━━━━━━━━━━━━━━\u001B[0m\u001B[37m\u001B[0m \u001B[1m7s\u001B[0m 6ms/step - accuracy: 0.8488 - loss: 0.4441 - val_accuracy: 0.8483 - val_loss: 0.4638\n",
      "Epoch 15/30\n",
      "\u001B[1m1125/1125\u001B[0m \u001B[32m━━━━━━━━━━━━━━━━━━━━\u001B[0m\u001B[37m\u001B[0m \u001B[1m7s\u001B[0m 6ms/step - accuracy: 0.8542 - loss: 0.4349 - val_accuracy: 0.8292 - val_loss: 0.5318\n",
      "Epoch 16/30\n",
      "\u001B[1m1125/1125\u001B[0m \u001B[32m━━━━━━━━━━━━━━━━━━━━\u001B[0m\u001B[37m\u001B[0m \u001B[1m7s\u001B[0m 6ms/step - accuracy: 0.8466 - loss: 0.4516 - val_accuracy: 0.8248 - val_loss: 0.5407\n",
      "Epoch 17/30\n",
      "\u001B[1m1125/1125\u001B[0m \u001B[32m━━━━━━━━━━━━━━━━━━━━\u001B[0m\u001B[37m\u001B[0m \u001B[1m7s\u001B[0m 6ms/step - accuracy: 0.8477 - loss: 0.4602 - val_accuracy: 0.8343 - val_loss: 0.5134\n",
      "Epoch 18/30\n",
      "\u001B[1m1125/1125\u001B[0m \u001B[32m━━━━━━━━━━━━━━━━━━━━\u001B[0m\u001B[37m\u001B[0m \u001B[1m7s\u001B[0m 6ms/step - accuracy: 0.8442 - loss: 0.4715 - val_accuracy: 0.8374 - val_loss: 0.5047\n",
      "Epoch 19/30\n",
      "\u001B[1m1125/1125\u001B[0m \u001B[32m━━━━━━━━━━━━━━━━━━━━\u001B[0m\u001B[37m\u001B[0m \u001B[1m7s\u001B[0m 6ms/step - accuracy: 0.8463 - loss: 0.4596 - val_accuracy: 0.8399 - val_loss: 0.4971\n",
      "Epoch 20/30\n",
      "\u001B[1m1125/1125\u001B[0m \u001B[32m━━━━━━━━━━━━━━━━━━━━\u001B[0m\u001B[37m\u001B[0m \u001B[1m7s\u001B[0m 6ms/step - accuracy: 0.8445 - loss: 0.4765 - val_accuracy: 0.8403 - val_loss: 0.5242\n",
      "Epoch 21/30\n",
      "\u001B[1m1125/1125\u001B[0m \u001B[32m━━━━━━━━━━━━━━━━━━━━\u001B[0m\u001B[37m\u001B[0m \u001B[1m7s\u001B[0m 6ms/step - accuracy: 0.8415 - loss: 0.4780 - val_accuracy: 0.8387 - val_loss: 0.5246\n",
      "Epoch 22/30\n",
      "\u001B[1m1125/1125\u001B[0m \u001B[32m━━━━━━━━━━━━━━━━━━━━\u001B[0m\u001B[37m\u001B[0m \u001B[1m7s\u001B[0m 6ms/step - accuracy: 0.8475 - loss: 0.4587 - val_accuracy: 0.8342 - val_loss: 0.5438\n",
      "Epoch 23/30\n",
      "\u001B[1m1125/1125\u001B[0m \u001B[32m━━━━━━━━━━━━━━━━━━━━\u001B[0m\u001B[37m\u001B[0m \u001B[1m7s\u001B[0m 6ms/step - accuracy: 0.8449 - loss: 0.4741 - val_accuracy: 0.8363 - val_loss: 0.5572\n",
      "Epoch 24/30\n",
      "\u001B[1m1125/1125\u001B[0m \u001B[32m━━━━━━━━━━━━━━━━━━━━\u001B[0m\u001B[37m\u001B[0m \u001B[1m7s\u001B[0m 6ms/step - accuracy: 0.8470 - loss: 0.4669 - val_accuracy: 0.8097 - val_loss: 0.6195\n",
      "Epoch 25/30\n",
      "\u001B[1m1125/1125\u001B[0m \u001B[32m━━━━━━━━━━━━━━━━━━━━\u001B[0m\u001B[37m\u001B[0m \u001B[1m7s\u001B[0m 6ms/step - accuracy: 0.8372 - loss: 0.4952 - val_accuracy: 0.8204 - val_loss: 0.6376\n",
      "Epoch 26/30\n",
      "\u001B[1m1125/1125\u001B[0m \u001B[32m━━━━━━━━━━━━━━━━━━━━\u001B[0m\u001B[37m\u001B[0m \u001B[1m7s\u001B[0m 6ms/step - accuracy: 0.8442 - loss: 0.4790 - val_accuracy: 0.8288 - val_loss: 0.5421\n",
      "Epoch 27/30\n",
      "\u001B[1m1125/1125\u001B[0m \u001B[32m━━━━━━━━━━━━━━━━━━━━\u001B[0m\u001B[37m\u001B[0m \u001B[1m7s\u001B[0m 6ms/step - accuracy: 0.8416 - loss: 0.4822 - val_accuracy: 0.8272 - val_loss: 0.5698\n",
      "Epoch 28/30\n",
      "\u001B[1m1125/1125\u001B[0m \u001B[32m━━━━━━━━━━━━━━━━━━━━\u001B[0m\u001B[37m\u001B[0m \u001B[1m7s\u001B[0m 6ms/step - accuracy: 0.8411 - loss: 0.4987 - val_accuracy: 0.8167 - val_loss: 0.6853\n",
      "Epoch 29/30\n",
      "\u001B[1m1125/1125\u001B[0m \u001B[32m━━━━━━━━━━━━━━━━━━━━\u001B[0m\u001B[37m\u001B[0m \u001B[1m7s\u001B[0m 6ms/step - accuracy: 0.8468 - loss: 0.4802 - val_accuracy: 0.8328 - val_loss: 0.5994\n",
      "Epoch 30/30\n",
      "\u001B[1m1125/1125\u001B[0m \u001B[32m━━━━━━━━━━━━━━━━━━━━\u001B[0m\u001B[37m\u001B[0m \u001B[1m7s\u001B[0m 6ms/step - accuracy: 0.8447 - loss: 0.4893 - val_accuracy: 0.8227 - val_loss: 0.6590\n"
     ]
    }
   ],
   "execution_count": 94
  },
  {
   "cell_type": "code",
   "metadata": {
    "id": "kvfD2AHAZiB9",
    "executionInfo": {
     "status": "aborted",
     "timestamp": 1753231108406,
     "user_tz": -540,
     "elapsed": 128793,
     "user": {
      "displayName": "고강태 강사",
      "userId": "11816854931407731745"
     }
    },
    "ExecuteTime": {
     "end_time": "2025-07-23T14:20:53.297843Z",
     "start_time": "2025-07-23T14:20:53.295901Z"
    }
   },
   "source": [
    "print(\"\\검증 데이터로 모델 평가:\")\n",
    "\n",
    "print(f\"테스트 손실: {loss:.4f}\")\n",
    "print(f\"테스트 정확도: {accuracy:.4f}\")"
   ],
   "outputs": [
    {
     "name": "stdout",
     "output_type": "stream",
     "text": [
      "\\검증 데이터로 모델 평가:\n",
      "테스트 손실: 0.5979\n",
      "테스트 정확도: 0.8310\n"
     ]
    }
   ],
   "execution_count": 95
  },
  {
   "cell_type": "code",
   "metadata": {
    "id": "BX9zqw7JZiB-",
    "executionInfo": {
     "status": "aborted",
     "timestamp": 1753231108407,
     "user_tz": -540,
     "elapsed": 128791,
     "user": {
      "displayName": "고강태 강사",
      "userId": "11816854931407731745"
     }
    },
    "ExecuteTime": {
     "end_time": "2025-07-23T14:20:53.487900Z",
     "start_time": "2025-07-23T14:20:53.330721Z"
    }
   },
   "source": [
    "plt.figure(figsize=(12, 4))\n",
    "\n",
    "plt.subplot(1, 2, 1)\n",
    "plt.plot(history.history['loss'], 'b-', label='loss')\n",
    "# plt.plot(history.history['val_loss'], 'r--', label='val_loss')\n",
    "plt.xlabel('Epoch')\n",
    "plt.legend()\n",
    "\n",
    "plt.subplot(1, 2, 2)\n",
    "plt.plot(history.history['accuracy'], 'g-', label='accuracy')\n",
    "# plt.plot(history.history['val_accuracy'], 'k--', label='val_accuracy')\n",
    "plt.xlabel('Epoch')\n",
    "plt.ylim(0.7, 1)\n",
    "plt.legend()"
   ],
   "outputs": [
    {
     "data": {
      "text/plain": [
       "<matplotlib.legend.Legend at 0x3e44d7ca0>"
      ]
     },
     "execution_count": 96,
     "metadata": {},
     "output_type": "execute_result"
    },
    {
     "data": {
      "text/plain": [
       "<Figure size 1200x400 with 2 Axes>"
      ],
      "image/png": "[encoded data removed]"
     },
     "metadata": {},
     "output_type": "display_data"
    }
   ],
   "execution_count": 96
  },
  {
   "cell_type": "markdown",
   "metadata": {
    "id": "mTgK-k_2ZiB-"
   },
   "source": [
    "---\n",
    "\n",
    "# 참고\n",
    " - 혼자하는 MDL/chapter.7 딥러닝을 시작합니다\n",
    " - [경사하강법 설명](https://twinw.tistory.com/247)\n",
    "\n"
   ]
  }
 ],
 "metadata": {
  "accelerator": "GPU",
  "colab": {
   "provenance": [],
   "toc_visible": true
  },
  "kernelspec": {
   "display_name": "DL_P312",
   "language": "python",
   "name": "python3"
  },
  "language_info": {
   "codemirror_mode": {
    "name": "ipython",
    "version": 3
   },
   "file_extension": ".py",
   "mimetype": "text/x-python",
   "name": "python",
   "nbconvert_exporter": "python",
   "pygments_lexer": "ipython3",
   "version": "3.12.11"
  },
  "widgets": {
   "application/vnd.jupyter.widget-state+json": {
    "4a6ac2e5f6824829b8e949dbd580a67e": {
     "model_module": "@jupyter-widgets/controls",
     "model_name": "HBoxModel",
     "model_module_version": "1.5.0",
     "state": {
      "_dom_classes": [],
      "_model_module": "@jupyter-widgets/controls",
      "_model_module_version": "1.5.0",
      "_model_name": "HBoxModel",
      "_view_count": null,
      "_view_module": "@jupyter-widgets/controls",
      "_view_module_version": "1.5.0",
      "_view_name": "HBoxView",
      "box_style": "",
      "children": [
       "IPY_MODEL_ac0b845226bb47c09ee925de306a183d",
       "IPY_MODEL_2edb2f07890944d3a134d66a4dee3101",
       "IPY_MODEL_4a7d821f764d47e3b5a7d831308df620"
      ],
      "layout": "IPY_MODEL_0881a183c00a49e2a187d8f27f66f047"
     }
    },
    "ac0b845226bb47c09ee925de306a183d": {
     "model_module": "@jupyter-widgets/controls",
     "model_name": "HTMLModel",
     "model_module_version": "1.5.0",
     "state": {
      "_dom_classes": [],
      "_model_module": "@jupyter-widgets/controls",
      "_model_module_version": "1.5.0",
      "_model_name": "HTMLModel",
      "_view_count": null,
      "_view_module": "@jupyter-widgets/controls",
      "_view_module_version": "1.5.0",
      "_view_name": "HTMLView",
      "description": "",
      "description_tooltip": null,
      "layout": "IPY_MODEL_b2b368b190ae466587f86f1f8f1360ce",
      "placeholder": "​",
      "style": "IPY_MODEL_e789b755ae3d4c96b62bea0c38cd2744",
      "value": " 20%"
     }
    },
    "2edb2f07890944d3a134d66a4dee3101": {
     "model_module": "@jupyter-widgets/controls",
     "model_name": "FloatProgressModel",
     "model_module_version": "1.5.0",
     "state": {
      "_dom_classes": [],
      "_model_module": "@jupyter-widgets/controls",
      "_model_module_version": "1.5.0",
      "_model_name": "FloatProgressModel",
      "_view_count": null,
      "_view_module": "@jupyter-widgets/controls",
      "_view_module_version": "1.5.0",
      "_view_name": "ProgressView",
      "bar_style": "",
      "description": "",
      "description_tooltip": null,
      "layout": "IPY_MODEL_1867288063cf4466afeccfb543803e64",
      "max": 30,
      "min": 0,
      "orientation": "horizontal",
      "style": "IPY_MODEL_28cf44f9ade74ce790ccfd5c8399448c",
      "value": 6
     }
    },
    "4a7d821f764d47e3b5a7d831308df620": {
     "model_module": "@jupyter-widgets/controls",
     "model_name": "HTMLModel",
     "model_module_version": "1.5.0",
     "state": {
      "_dom_classes": [],
      "_model_module": "@jupyter-widgets/controls",
      "_model_module_version": "1.5.0",
      "_model_name": "HTMLModel",
      "_view_count": null,
      "_view_module": "@jupyter-widgets/controls",
      "_view_module_version": "1.5.0",
      "_view_name": "HTMLView",
      "description": "",
      "description_tooltip": null,
      "layout": "IPY_MODEL_375035bc77f64484937a24024a407d9f",
      "placeholder": "​",
      "style": "IPY_MODEL_65cb3e64c67a4d618b303ee10ee27bd5",
      "value": " 6/30 [00:31&lt;02:06,  5.28s/epoch, accuracy=0.889, loss=0.304, val_accuracy=0.874, val_loss=0.351]"
     }
    },
    "0881a183c00a49e2a187d8f27f66f047": {
     "model_module": "@jupyter-widgets/base",
     "model_name": "LayoutModel",
     "model_module_version": "1.2.0",
     "state": {
      "_model_module": "@jupyter-widgets/base",
      "_model_module_version": "1.2.0",
      "_model_name": "LayoutModel",
      "_view_count": null,
      "_view_module": "@jupyter-widgets/base",
      "_view_module_version": "1.2.0",
      "_view_name": "LayoutView",
      "align_content": null,
      "align_items": null,
      "align_self": null,
      "border": null,
      "bottom": null,
      "display": null,
      "flex": null,
      "flex_flow": null,
      "grid_area": null,
      "grid_auto_columns": null,
      "grid_auto_flow": null,
      "grid_auto_rows": null,
      "grid_column": null,
      "grid_gap": null,
      "grid_row": null,
      "grid_template_areas": null,
      "grid_template_columns": null,
      "grid_template_rows": null,
      "height": null,
      "justify_content": null,
      "justify_items": null,
      "left": null,
      "margin": null,
      "max_height": null,
      "max_width": null,
      "min_height": null,
      "min_width": null,
      "object_fit": null,
      "object_position": null,
      "order": null,
      "overflow": null,
      "overflow_x": null,
      "overflow_y": null,
      "padding": null,
      "right": null,
      "top": null,
      "visibility": null,
      "width": null
     }
    },
    "b2b368b190ae466587f86f1f8f1360ce": {
     "model_module": "@jupyter-widgets/base",
     "model_name": "LayoutModel",
     "model_module_version": "1.2.0",
     "state": {
      "_model_module": "@jupyter-widgets/base",
      "_model_module_version": "1.2.0",
      "_model_name": "LayoutModel",
      "_view_count": null,
      "_view_module": "@jupyter-widgets/base",
      "_view_module_version": "1.2.0",
      "_view_name": "LayoutView",
      "align_content": null,
      "align_items": null,
      "align_self": null,
      "border": null,
      "bottom": null,
      "display": null,
      "flex": null,
      "flex_flow": null,
      "grid_area": null,
      "grid_auto_columns": null,
      "grid_auto_flow": null,
      "grid_auto_rows": null,
      "grid_column": null,
      "grid_gap": null,
      "grid_row": null,
      "grid_template_areas": null,
      "grid_template_columns": null,
      "grid_template_rows": null,
      "height": null,
      "justify_content": null,
      "justify_items": null,
      "left": null,
      "margin": null,
      "max_height": null,
      "max_width": null,
      "min_height": null,
      "min_width": null,
      "object_fit": null,
      "object_position": null,
      "order": null,
      "overflow": null,
      "overflow_x": null,
      "overflow_y": null,
      "padding": null,
      "right": null,
      "top": null,
      "visibility": null,
      "width": null
     }
    },
    "e789b755ae3d4c96b62bea0c38cd2744": {
     "model_module": "@jupyter-widgets/controls",
     "model_name": "DescriptionStyleModel",
     "model_module_version": "1.5.0",
     "state": {
      "_model_module": "@jupyter-widgets/controls",
      "_model_module_version": "1.5.0",
      "_model_name": "DescriptionStyleModel",
      "_view_count": null,
      "_view_module": "@jupyter-widgets/base",
      "_view_module_version": "1.2.0",
      "_view_name": "StyleView",
      "description_width": ""
     }
    },
    "1867288063cf4466afeccfb543803e64": {
     "model_module": "@jupyter-widgets/base",
     "model_name": "LayoutModel",
     "model_module_version": "1.2.0",
     "state": {
      "_model_module": "@jupyter-widgets/base",
      "_model_module_version": "1.2.0",
      "_model_name": "LayoutModel",
      "_view_count": null,
      "_view_module": "@jupyter-widgets/base",
      "_view_module_version": "1.2.0",
      "_view_name": "LayoutView",
      "align_content": null,
      "align_items": null,
      "align_self": null,
      "border": null,
      "bottom": null,
      "display": null,
      "flex": null,
      "flex_flow": null,
      "grid_area": null,
      "grid_auto_columns": null,
      "grid_auto_flow": null,
      "grid_auto_rows": null,
      "grid_column": null,
      "grid_gap": null,
      "grid_row": null,
      "grid_template_areas": null,
      "grid_template_columns": null,
      "grid_template_rows": null,
      "height": null,
      "justify_content": null,
      "justify_items": null,
      "left": null,
      "margin": null,
      "max_height": null,
      "max_width": null,
      "min_height": null,
      "min_width": null,
      "object_fit": null,
      "object_position": null,
      "order": null,
      "overflow": null,
      "overflow_x": null,
      "overflow_y": null,
      "padding": null,
      "right": null,
      "top": null,
      "visibility": null,
      "width": null
     }
    },
    "28cf44f9ade74ce790ccfd5c8399448c": {
     "model_module": "@jupyter-widgets/controls",
     "model_name": "ProgressStyleModel",
     "model_module_version": "1.5.0",
     "state": {
      "_model_module": "@jupyter-widgets/controls",
      "_model_module_version": "1.5.0",
      "_model_name": "ProgressStyleModel",
      "_view_count": null,
      "_view_module": "@jupyter-widgets/base",
      "_view_module_version": "1.2.0",
      "_view_name": "StyleView",
      "bar_color": null,
      "description_width": ""
     }
    },
    "375035bc77f64484937a24024a407d9f": {
     "model_module": "@jupyter-widgets/base",
     "model_name": "LayoutModel",
     "model_module_version": "1.2.0",
     "state": {
      "_model_module": "@jupyter-widgets/base",
      "_model_module_version": "1.2.0",
      "_model_name": "LayoutModel",
      "_view_count": null,
      "_view_module": "@jupyter-widgets/base",
      "_view_module_version": "1.2.0",
      "_view_name": "LayoutView",
      "align_content": null,
      "align_items": null,
      "align_self": null,
      "border": null,
      "bottom": null,
      "display": null,
      "flex": null,
      "flex_flow": null,
      "grid_area": null,
      "grid_auto_columns": null,
      "grid_auto_flow": null,
      "grid_auto_rows": null,
      "grid_column": null,
      "grid_gap": null,
      "grid_row": null,
      "grid_template_areas": null,
      "grid_template_columns": null,
      "grid_template_rows": null,
      "height": null,
      "justify_content": null,
      "justify_items": null,
      "left": null,
      "margin": null,
      "max_height": null,
      "max_width": null,
      "min_height": null,
      "min_width": null,
      "object_fit": null,
      "object_position": null,
      "order": null,
      "overflow": null,
      "overflow_x": null,
      "overflow_y": null,
      "padding": null,
      "right": null,
      "top": null,
      "visibility": null,
      "width": null
     }
    },
    "65cb3e64c67a4d618b303ee10ee27bd5": {
     "model_module": "@jupyter-widgets/controls",
     "model_name": "DescriptionStyleModel",
     "model_module_version": "1.5.0",
     "state": {
      "_model_module": "@jupyter-widgets/controls",
      "_model_module_version": "1.5.0",
      "_model_name": "DescriptionStyleModel",
      "_view_count": null,
      "_view_module": "@jupyter-widgets/base",
      "_view_module_version": "1.2.0",
      "_view_name": "StyleView",
      "description_width": ""
     }
    },
    "92738087601f486e8ea461604ec5abda": {
     "model_module": "@jupyter-widgets/controls",
     "model_name": "HBoxModel",
     "model_module_version": "1.5.0",
     "state": {
      "_dom_classes": [],
      "_model_module": "@jupyter-widgets/controls",
      "_model_module_version": "1.5.0",
      "_model_name": "HBoxModel",
      "_view_count": null,
      "_view_module": "@jupyter-widgets/controls",
      "_view_module_version": "1.5.0",
      "_view_name": "HBoxView",
      "box_style": "",
      "children": [
       "IPY_MODEL_f4adc53455bc4577be90e72025747a9d",
       "IPY_MODEL_e0906135df5b417da8f66ccc6b8ee5bf",
       "IPY_MODEL_ef7cfbf34e154b3fb77fa28ddf6a0c96"
      ],
      "layout": "IPY_MODEL_0fb91e7d9d15452db5b0fcacf1a41c8f"
     }
    },
    "f4adc53455bc4577be90e72025747a9d": {
     "model_module": "@jupyter-widgets/controls",
     "model_name": "HTMLModel",
     "model_module_version": "1.5.0",
     "state": {
      "_dom_classes": [],
      "_model_module": "@jupyter-widgets/controls",
      "_model_module_version": "1.5.0",
      "_model_name": "HTMLModel",
      "_view_count": null,
      "_view_module": "@jupyter-widgets/controls",
      "_view_module_version": "1.5.0",
      "_view_name": "HTMLView",
      "description": "",
      "description_tooltip": null,
      "layout": "IPY_MODEL_4499c53569164704b5c7c50096a38aef",
      "placeholder": "​",
      "style": "IPY_MODEL_5fb1499b00fd4a7d8d33a9a055986c32",
      "value": " 56%"
     }
    },
    "e0906135df5b417da8f66ccc6b8ee5bf": {
     "model_module": "@jupyter-widgets/controls",
     "model_name": "FloatProgressModel",
     "model_module_version": "1.5.0",
     "state": {
      "_dom_classes": [],
      "_model_module": "@jupyter-widgets/controls",
      "_model_module_version": "1.5.0",
      "_model_name": "FloatProgressModel",
      "_view_count": null,
      "_view_module": "@jupyter-widgets/controls",
      "_view_module_version": "1.5.0",
      "_view_name": "ProgressView",
      "bar_style": "",
      "description": "",
      "description_tooltip": null,
      "layout": "IPY_MODEL_f795c5acc5d349c096fef80d39eab5b2",
      "max": 1125,
      "min": 0,
      "orientation": "horizontal",
      "style": "IPY_MODEL_aacc424a3ab4462a8b117664676c367b",
      "value": 627
     }
    },
    "ef7cfbf34e154b3fb77fa28ddf6a0c96": {
     "model_module": "@jupyter-widgets/controls",
     "model_name": "HTMLModel",
     "model_module_version": "1.5.0",
     "state": {
      "_dom_classes": [],
      "_model_module": "@jupyter-widgets/controls",
      "_model_module_version": "1.5.0",
      "_model_name": "HTMLModel",
      "_view_count": null,
      "_view_module": "@jupyter-widgets/controls",
      "_view_module_version": "1.5.0",
      "_view_name": "HTMLView",
      "description": "",
      "description_tooltip": null,
      "layout": "IPY_MODEL_6bc1d58e3b374246bd01fdbd8df2e106",
      "placeholder": "​",
      "style": "IPY_MODEL_f26c0bc266464b6cbde8b239aa2ba39c",
      "value": " 627/1.12k [00:18&lt;00:01, 424batch/s, accuracy=0.896, loss=0.284]"
     }
    },
    "0fb91e7d9d15452db5b0fcacf1a41c8f": {
     "model_module": "@jupyter-widgets/base",
     "model_name": "LayoutModel",
     "model_module_version": "1.2.0",
     "state": {
      "_model_module": "@jupyter-widgets/base",
      "_model_module_version": "1.2.0",
      "_model_name": "LayoutModel",
      "_view_count": null,
      "_view_module": "@jupyter-widgets/base",
      "_view_module_version": "1.2.0",
      "_view_name": "LayoutView",
      "align_content": null,
      "align_items": null,
      "align_self": null,
      "border": null,
      "bottom": null,
      "display": null,
      "flex": null,
      "flex_flow": null,
      "grid_area": null,
      "grid_auto_columns": null,
      "grid_auto_flow": null,
      "grid_auto_rows": null,
      "grid_column": null,
      "grid_gap": null,
      "grid_row": null,
      "grid_template_areas": null,
      "grid_template_columns": null,
      "grid_template_rows": null,
      "height": null,
      "justify_content": null,
      "justify_items": null,
      "left": null,
      "margin": null,
      "max_height": null,
      "max_width": null,
      "min_height": null,
      "min_width": null,
      "object_fit": null,
      "object_position": null,
      "order": null,
      "overflow": null,
      "overflow_x": null,
      "overflow_y": null,
      "padding": null,
      "right": null,
      "top": null,
      "visibility": null,
      "width": null
     }
    },
    "4499c53569164704b5c7c50096a38aef": {
     "model_module": "@jupyter-widgets/base",
     "model_name": "LayoutModel",
     "model_module_version": "1.2.0",
     "state": {
      "_model_module": "@jupyter-widgets/base",
      "_model_module_version": "1.2.0",
      "_model_name": "LayoutModel",
      "_view_count": null,
      "_view_module": "@jupyter-widgets/base",
      "_view_module_version": "1.2.0",
      "_view_name": "LayoutView",
      "align_content": null,
      "align_items": null,
      "align_self": null,
      "border": null,
      "bottom": null,
      "display": null,
      "flex": null,
      "flex_flow": null,
      "grid_area": null,
      "grid_auto_columns": null,
      "grid_auto_flow": null,
      "grid_auto_rows": null,
      "grid_column": null,
      "grid_gap": null,
      "grid_row": null,
      "grid_template_areas": null,
      "grid_template_columns": null,
      "grid_template_rows": null,
      "height": null,
      "justify_content": null,
      "justify_items": null,
      "left": null,
      "margin": null,
      "max_height": null,
      "max_width": null,
      "min_height": null,
      "min_width": null,
      "object_fit": null,
      "object_position": null,
      "order": null,
      "overflow": null,
      "overflow_x": null,
      "overflow_y": null,
      "padding": null,
      "right": null,
      "top": null,
      "visibility": null,
      "width": null
     }
    },
    "5fb1499b00fd4a7d8d33a9a055986c32": {
     "model_module": "@jupyter-widgets/controls",
     "model_name": "DescriptionStyleModel",
     "model_module_version": "1.5.0",
     "state": {
      "_model_module": "@jupyter-widgets/controls",
      "_model_module_version": "1.5.0",
      "_model_name": "DescriptionStyleModel",
      "_view_count": null,
      "_view_module": "@jupyter-widgets/base",
      "_view_module_version": "1.2.0",
      "_view_name": "StyleView",
      "description_width": ""
     }
    },
    "f795c5acc5d349c096fef80d39eab5b2": {
     "model_module": "@jupyter-widgets/base",
     "model_name": "LayoutModel",
     "model_module_version": "1.2.0",
     "state": {
      "_model_module": "@jupyter-widgets/base",
      "_model_module_version": "1.2.0",
      "_model_name": "LayoutModel",
      "_view_count": null,
      "_view_module": "@jupyter-widgets/base",
      "_view_module_version": "1.2.0",
      "_view_name": "LayoutView",
      "align_content": null,
      "align_items": null,
      "align_self": null,
      "border": null,
      "bottom": null,
      "display": null,
      "flex": null,
      "flex_flow": null,
      "grid_area": null,
      "grid_auto_columns": null,
      "grid_auto_flow": null,
      "grid_auto_rows": null,
      "grid_column": null,
      "grid_gap": null,
      "grid_row": null,
      "grid_template_areas": null,
      "grid_template_columns": null,
      "grid_template_rows": null,
      "height": null,
      "justify_content": null,
      "justify_items": null,
      "left": null,
      "margin": null,
      "max_height": null,
      "max_width": null,
      "min_height": null,
      "min_width": null,
      "object_fit": null,
      "object_position": null,
      "order": null,
      "overflow": null,
      "overflow_x": null,
      "overflow_y": null,
      "padding": null,
      "right": null,
      "top": null,
      "visibility": null,
      "width": null
     }
    },
    "aacc424a3ab4462a8b117664676c367b": {
     "model_module": "@jupyter-widgets/controls",
     "model_name": "ProgressStyleModel",
     "model_module_version": "1.5.0",
     "state": {
      "_model_module": "@jupyter-widgets/controls",
      "_model_module_version": "1.5.0",
      "_model_name": "ProgressStyleModel",
      "_view_count": null,
      "_view_module": "@jupyter-widgets/base",
      "_view_module_version": "1.2.0",
      "_view_name": "StyleView",
      "bar_color": null,
      "description_width": ""
     }
    },
    "6bc1d58e3b374246bd01fdbd8df2e106": {
     "model_module": "@jupyter-widgets/base",
     "model_name": "LayoutModel",
     "model_module_version": "1.2.0",
     "state": {
      "_model_module": "@jupyter-widgets/base",
      "_model_module_version": "1.2.0",
      "_model_name": "LayoutModel",
      "_view_count": null,
      "_view_module": "@jupyter-widgets/base",
      "_view_module_version": "1.2.0",
      "_view_name": "LayoutView",
      "align_content": null,
      "align_items": null,
      "align_self": null,
      "border": null,
      "bottom": null,
      "display": null,
      "flex": null,
      "flex_flow": null,
      "grid_area": null,
      "grid_auto_columns": null,
      "grid_auto_flow": null,
      "grid_auto_rows": null,
      "grid_column": null,
      "grid_gap": null,
      "grid_row": null,
      "grid_template_areas": null,
      "grid_template_columns": null,
      "grid_template_rows": null,
      "height": null,
      "justify_content": null,
      "justify_items": null,
      "left": null,
      "margin": null,
      "max_height": null,
      "max_width": null,
      "min_height": null,
      "min_width": null,
      "object_fit": null,
      "object_position": null,
      "order": null,
      "overflow": null,
      "overflow_x": null,
      "overflow_y": null,
      "padding": null,
      "right": null,
      "top": null,
      "visibility": null,
      "width": null
     }
    },
    "f26c0bc266464b6cbde8b239aa2ba39c": {
     "model_module": "@jupyter-widgets/controls",
     "model_name": "DescriptionStyleModel",
     "model_module_version": "1.5.0",
     "state": {
      "_model_module": "@jupyter-widgets/controls",
      "_model_module_version": "1.5.0",
      "_model_name": "DescriptionStyleModel",
      "_view_count": null,
      "_view_module": "@jupyter-widgets/base",
      "_view_module_version": "1.2.0",
      "_view_name": "StyleView",
      "description_width": ""
     }
    }
   }
  }
 },
 "nbformat": 4,
 "nbformat_minor": 0
}
