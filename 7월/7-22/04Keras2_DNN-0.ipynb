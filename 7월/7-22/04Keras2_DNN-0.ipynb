{
 "cells": [
  {
   "cell_type": "markdown",
   "metadata": {
    "id": "sXWOIk54ZiBM"
   },
   "source": [
    "교안 `tf04-Keras_MLP_DNN.pdf`"
   ]
  },
  {
   "cell_type": "markdown",
   "metadata": {
    "id": "ff2i2WYGQ7h6"
   },
   "source": [
    "### co-lab 준비"
   ]
  },
  {
   "cell_type": "code",
   "metadata": {
    "executionInfo": {
     "elapsed": 1,
     "status": "ok",
     "timestamp": 1753350086777,
     "user": {
      "displayName": "ihan",
      "userId": "16117014847748292320"
     },
     "user_tz": -540
    },
    "id": "Et47jz3jQooj",
    "ExecuteTime": {
     "end_time": "2025-07-24T09:53:12.944983Z",
     "start_time": "2025-07-24T09:53:12.942805Z"
    }
   },
   "source": [
    "# from google.colab import drive\n",
    "# drive.mount('/content/drive')"
   ],
   "outputs": [],
   "execution_count": 85
  },
  {
   "cell_type": "code",
   "metadata": {
    "executionInfo": {
     "elapsed": 22,
     "status": "ok",
     "timestamp": 1753350086817,
     "user": {
      "displayName": "ihan",
      "userId": "16117014847748292320"
     },
     "user_tz": -540
    },
    "id": "6UOeS_fvQyAP",
    "ExecuteTime": {
     "end_time": "2025-07-24T09:53:12.961465Z",
     "start_time": "2025-07-24T09:53:12.958419Z"
    }
   },
   "source": [
    "ROOT=\"./drive/MyDrive/Course_AI_2025/\""
   ],
   "outputs": [],
   "execution_count": 86
  },
  {
   "cell_type": "code",
   "metadata": {
    "executionInfo": {
     "elapsed": 2,
     "status": "ok",
     "timestamp": 1753350086818,
     "user": {
      "displayName": "ihan",
      "userId": "16117014847748292320"
     },
     "user_tz": -540
    },
    "id": "MmgvQqrIQ-0W",
    "ExecuteTime": {
     "end_time": "2025-07-24T09:53:12.978655Z",
     "start_time": "2025-07-24T09:53:12.975968Z"
    }
   },
   "source": [
    "# !apt install fonts-nanum*"
   ],
   "outputs": [],
   "execution_count": 87
  },
  {
   "cell_type": "code",
   "metadata": {
    "executionInfo": {
     "elapsed": 25,
     "status": "ok",
     "timestamp": 1753350086843,
     "user": {
      "displayName": "ihan",
      "userId": "16117014847748292320"
     },
     "user_tz": -540
    },
    "id": "H7hxjg6-RMpq",
    "ExecuteTime": {
     "end_time": "2025-07-24T09:53:12.995810Z",
     "start_time": "2025-07-24T09:53:12.992362Z"
    }
   },
   "source": [
    "import matplotlib.pyplot as plt\n",
    "# import matplotlib.pylab as plt\n",
    "import matplotlib.font_manager as fm\n",
    "%matplotlib inline\n",
    "\n",
    "# plt.rcParams['font.family'] = 'Malgun Gothic'\n",
    "plt.rcParams['font.family'] = 'AppleGothic'  # Mac (AppleGothic 또는 AppleSDGothicNeo)\n",
    "# plt.rcParams['font.family'] = 'NanumGothic' # Linux (NanumGothic 또는 다른 설치된 한글 폰트)\n",
    "\n",
    "plt.rcParams['axes.unicode_minus'] = False #glypy 8722: Axes에 - 표시 안되는 것\n",
    "# plt.title('한글 타이틀...')"
   ],
   "outputs": [],
   "execution_count": 88
  },
  {
   "cell_type": "markdown",
   "metadata": {
    "id": "iNFOeMfl3tIu"
   },
   "source": [
    "# 1. Deeplearning(DNN)\n",
    "\n",
    "심층 신경망은 MLP 신경망을 사용해서 머신러닝을 수행하는 기술을 칭한다.\n",
    "\n"
   ]
  },
  {
   "cell_type": "markdown",
   "metadata": {
    "id": "0SlmqWjfZiBR"
   },
   "source": [
    "## MLP 와 DNN\n"
   ]
  },
  {
   "cell_type": "markdown",
   "metadata": {
    "id": "BYydK3RzZiBR"
   },
   "source": [
    "#### - 다층신경망 MLP(Multi-Layer Perceptron)\n",
    "\n",
    "- MLP에서는 신경망의 단일 은닉층을 여러개 사용한다.\n",
    " - 여러 개의 은닉층을 가진 신경망의 한 종류, 가장 기본적인 형태의 신경망.\n",
    " - 여러 개의 은닉층으로 단일 퍼셉트론의 한계 극복\n",
    " - 기존의 머신러닝 알고리즘으로 다루기 힘들었던 이미지, 음성, 텍스트 분야에서 뛰어난 성능을 발휘하면서 주목받고 있다.\n",
    " - 특징\n",
    "   - 완전 연결(Fully Connected)\n",
    "      -  MLP의 각 층의 뉴런들은 이전 층의 모든 뉴런들과 연결되어 있습니다.\n",
    "   - 피드포워드(Feedforward)\n",
    "      - 정보의 흐름이 입력층에서 출력층으로 한 방향으로만 진행됩니다.\n",
    " - 주요 용도: 분류, 회귀 등 다양한 머신러닝 문제에 활용됩니다.\n"
   ]
  },
  {
   "cell_type": "markdown",
   "metadata": {
    "id": "bCbB2LsJZiBS"
   },
   "source": [
    "여러 은닉층을 가진 MLP\n",
    "\n",
    "<img src='https://i.imgur.com/DbwhpZ3.png' width=600>"
   ]
  },
  {
   "cell_type": "markdown",
   "metadata": {
    "id": "zCg1ktY0ZiBS"
   },
   "source": [
    "#### -심층 신경망 (Deep Neural Network, DNN)\n",
    "\n",
    " - MLP의 한 종류로, 특히 여러 개의 은닉층을 포함하는 신경망을 의미\n",
    " - '심층(Deep)'이라는 단어는 은닉층의 수가 많다는 것을 강조.\n",
    " - DNN은 MLP의 특별한 경우로 보통 3개 이상의 은닉층을 가진 MLP를 DNN이라고 한다.\n",
    " - 특징:\n",
    "    - 복잡한 패턴 학습\n",
    "      - 은닉층이 깊어질수록 더 복잡하고 추상적인 특징들을 학습할 수 있는 능력이 있다.\n",
    "    - 계층적 특징 학습\n",
    "      - 각 층은 이전 층에서 학습한 특징들을 조합하여 더 고수준의 특징을 학습한다.\n",
    "      -\n",
    " - 사용예: 이미지 인식에서 첫 층은 선이나 모서리 같은 기본 특징을, 다음 층은 이들을 조합하여 부분적인 형태를, 더 깊은 층은 얼굴이나 사물과 같은 복잡한 특징을 학습할 수 있습니다.\n"
   ]
  },
  {
   "cell_type": "markdown",
   "metadata": {
    "id": "-YIIAfChZiBS"
   },
   "source": [
    "<img src='https://i.imgur.com/UxfCv5x.jpeg' width=600>"
   ]
  },
  {
   "cell_type": "markdown",
   "metadata": {
    "id": "ws4Wkgq6ZiBT"
   },
   "source": [
    "- 은닉층 : 입력층과 출력층 사이에 있는 모든 층\n",
    "- 출력층에 적용하는 활성화 함수는 종류가 제한된다(이진 분류면 시그모이드, 다중 분류면 소프트맥스)\n",
    "- 은닉층에 사용하는 활성화 함수는 비교적 자유롭다. (시그모이드, 볼 렐루 함수등이 사용됨)"
   ]
  },
  {
   "cell_type": "markdown",
   "metadata": {
    "id": "ZvxxAvRYZiBT"
   },
   "source": [
    "#### -딥러닝\n",
    "\n",
    "딥러닝은 머신러닝의 한 종류로 MLP 로 구성한다.\n",
    " - MLP 의 은닉층이 4개 이상으로 다수의 은닉층을 갖는다.\n",
    "\n",
    "기존 머신러닝과 딥러닝의 가장 <span class=\"mark\">큰 차이점은 **특징량 추출** 이다</span>. 일반적으로 머신러닝은 이미지 내부의 특징을 하나 하나 지정해야 한다. 딥러닝은 학습 데이터에서 기계가 자동으로 추출한다는 점이 다른다.\n",
    "\n",
    "<div align='center'>\n",
    "    <img src='https://www.softwaretestinghelp.com/wp-content/qa/uploads/2019/04/DeepLearning.png'>\n",
    "    <div align='center'>소스: https://www.softwaretestinghelp.com/data-mining-vs-machine-learning-vs-ai/</p>\n",
    "</div>\n",
    "\n",
    "사과와 포도를 구분한다고 할 때, 머신러닝은 특징을 *색에 주목해서 구분하자* 같이 직접 특징을 지시하는 알고리즘에 집중해서 사용한다면. 딥러닝은 대량의 데이터를 학습 시키면 이런 특징을 기계가 찾아내는 것이다."
   ]
  },
  {
   "cell_type": "markdown",
   "metadata": {
    "id": "iz7UHCxgZiBU"
   },
   "source": [
    "> Test\n",
    "> - tensorflow 2.19\n",
    "> - tensorflow 2.9\n",
    "> - tensorflow 2.7"
   ]
  },
  {
   "cell_type": "markdown",
   "metadata": {
    "id": "gyvl3LI6ZiBU"
   },
   "source": [
    "# 2 Keras로 DNN 만들기\n"
   ]
  },
  {
   "cell_type": "markdown",
   "metadata": {
    "id": "ZEgN7EjfZiBU"
   },
   "source": [
    "keras 의 Sequencial 클래스를 사용해서 MLP, DNN 을 구성할 수 있다.\n",
    "\n",
    "1. 입력데이터 이해\n",
    "1. Sequencial 로 MLP 구성하기\n",
    "2. Sequencial 생성자로 MLP 구성하기\n",
    "3. Sequencial.add() 로 MLP 구성하기"
   ]
  },
  {
   "cell_type": "code",
   "metadata": {
    "executionInfo": {
     "elapsed": 3,
     "status": "ok",
     "timestamp": 1753350086844,
     "user": {
      "displayName": "ihan",
      "userId": "16117014847748292320"
     },
     "user_tz": -540
    },
    "id": "f5p48KypZiBU",
    "ExecuteTime": {
     "end_time": "2025-07-24T09:53:13.015369Z",
     "start_time": "2025-07-24T09:53:13.012345Z"
    }
   },
   "source": [
    "import numpy as np\n",
    "import pandas as pd\n",
    "import matplotlib.pyplot as plt"
   ],
   "outputs": [],
   "execution_count": 89
  },
  {
   "cell_type": "code",
   "metadata": {
    "executionInfo": {
     "elapsed": 20,
     "status": "ok",
     "timestamp": 1753350086862,
     "user": {
      "displayName": "ihan",
      "userId": "16117014847748292320"
     },
     "user_tz": -540
    },
    "id": "0H6qAq-qZiBW",
    "ExecuteTime": {
     "end_time": "2025-07-24T09:53:13.032470Z",
     "start_time": "2025-07-24T09:53:13.029761Z"
    }
   },
   "source": [
    "import tensorflow as tf\n",
    "# from tensorflow import keras  # 텐서플로 2.x 버전\n",
    "import keras\n",
    "from sklearn.model_selection import train_test_split"
   ],
   "outputs": [],
   "execution_count": 90
  },
  {
   "cell_type": "markdown",
   "metadata": {
    "id": "DLdCchMdCaWQ"
   },
   "source": [
    "## (1)Fashin MNIST 데이터 세트\n",
    "\n",
    "10개의 범주(category)와 70,000개의 흑백 이미지로 구성된 [패션 MNIST](https://github.com/zalandoresearch/fashion-mnist) 데이터셋을 사용하겠습니다.\n",
    "\n",
    "패션 MNIST 데이터셋은 10종류의 패션 아이템으로 구성되어 있다.\n",
    "\n",
    " - MNIST 데이터는 손으로 쓴 0 ~ 9 까지의 숫자로 이루어져 있다.\n",
    " - 패션 MNIST는 MNIST와 크기, 개수가 동일하지만 숫자 대신 패션 아이템으로 이루져있다.\n"
   ]
  },
  {
   "cell_type": "markdown",
   "metadata": {
    "id": "U7aSyCZPZiBX"
   },
   "source": [
    "\n",
    "이미지는 해상도(28x28 픽셀)가 낮고 다음처럼 개별 옷 품목을 나타냅니다:\n",
    "\n",
    "<div align='center'>\n",
    "  <img src=\"https://tensorflow.org/images/fashion-mnist-sprite.png\" alt=\"Fashion MNIST sprite\" width=\"400\">   \n",
    "  <div align=\"center\">     <b>그림 1.</b> <a href=\"https://github.com/zalandoresearch/fashion-mnist\">패션-MNIST 샘플</a> (Zalando, MIT License).<br>{nbsp}   </div>\n",
    "</div>\n",
    "\n"
   ]
  },
  {
   "cell_type": "markdown",
   "metadata": {
    "id": "P0qAvDwEZiBX"
   },
   "source": [
    "TensorFlow에서 직접 [Fashion MNIST 데이터](https://www.tensorflow.org/api_docs/python/tf/keras/datasets/fashion_mnist/load_data)를 가져오고 로드합니다."
   ]
  },
  {
   "cell_type": "code",
   "metadata": {
    "colab": {
     "base_uri": "https://localhost:8080/"
    },
    "executionInfo": {
     "elapsed": 822,
     "status": "ok",
     "timestamp": 1753350087678,
     "user": {
      "displayName": "ihan",
      "userId": "16117014847748292320"
     },
     "user_tz": -540
    },
    "id": "twWkJ1P4ZiBX",
    "outputId": "612ae084-696a-46c5-bbf8-c0f651a6dde7",
    "ExecuteTime": {
     "end_time": "2025-07-24T09:53:13.226291Z",
     "start_time": "2025-07-24T09:53:13.056459Z"
    }
   },
   "source": [
    "(train_images, train_labels), (test_images, test_labels) = \\\n",
    "    keras.datasets.fashion_mnist.load_data()"
   ],
   "outputs": [],
   "execution_count": 91
  },
  {
   "cell_type": "code",
   "metadata": {
    "colab": {
     "base_uri": "https://localhost:8080/"
    },
    "executionInfo": {
     "elapsed": 17,
     "status": "ok",
     "timestamp": 1753350087695,
     "user": {
      "displayName": "ihan",
      "userId": "16117014847748292320"
     },
     "user_tz": -540
    },
    "id": "B1jaf-UMZiBX",
    "outputId": "e4d917f0-d571-43bf-f634-848b0ebcbd0a",
    "ExecuteTime": {
     "end_time": "2025-07-24T09:53:13.237455Z",
     "start_time": "2025-07-24T09:53:13.235493Z"
    }
   },
   "source": [
    "train_images.shape, train_labels.shape\n"
   ],
   "outputs": [
    {
     "data": {
      "text/plain": [
       "((60000, 28, 28), (60000,))"
      ]
     },
     "execution_count": 92,
     "metadata": {},
     "output_type": "execute_result"
    }
   ],
   "execution_count": 92
  },
  {
   "cell_type": "code",
   "metadata": {
    "colab": {
     "base_uri": "https://localhost:8080/"
    },
    "executionInfo": {
     "elapsed": 16,
     "status": "ok",
     "timestamp": 1753350087712,
     "user": {
      "displayName": "ihan",
      "userId": "16117014847748292320"
     },
     "user_tz": -540
    },
    "id": "fD1Qor0bkpQP",
    "outputId": "4a56bb7a-019d-4d52-cbc1-b5649d1baeaa",
    "ExecuteTime": {
     "end_time": "2025-07-24T09:53:13.265837Z",
     "start_time": "2025-07-24T09:53:13.263728Z"
    }
   },
   "source": [
    "test_images.shape, test_labels.shape\n"
   ],
   "outputs": [
    {
     "data": {
      "text/plain": [
       "((10000, 28, 28), (10000,))"
      ]
     },
     "execution_count": 93,
     "metadata": {},
     "output_type": "execute_result"
    }
   ],
   "execution_count": 93
  },
  {
   "cell_type": "markdown",
   "metadata": {
    "id": "yuOG0fe8ZiBY"
   },
   "source": [
    "크기가 28 x 28이다 보니 꽤 작고 흐릿하다. 신발과 다양한 종류의 옷들이 보인다.\n"
   ]
  },
  {
   "cell_type": "code",
   "metadata": {
    "colab": {
     "base_uri": "https://localhost:8080/",
     "height": 102
    },
    "executionInfo": {
     "elapsed": 365,
     "status": "ok",
     "timestamp": 1753350088078,
     "user": {
      "displayName": "ihan",
      "userId": "16117014847748292320"
     },
     "user_tz": -540
    },
    "id": "XsKgQW62ZiBY",
    "outputId": "6686eeca-7fad-479e-dba7-a70517e34c9e",
    "ExecuteTime": {
     "end_time": "2025-07-24T09:53:13.352821Z",
     "start_time": "2025-07-24T09:53:13.296499Z"
    }
   },
   "source": [
    "import matplotlib.pyplot as plt\n",
    "\n",
    "fig, axs = plt.subplots(1, 10, figsize=(10,10))\n",
    "for i in range(10):\n",
    "    axs[i].imshow(train_images[i], cmap='gray')\n",
    "    axs[i].axis('off')\n",
    "plt.show()"
   ],
   "outputs": [
    {
     "data": {
      "text/plain": [
       "<Figure size 1000x1000 with 10 Axes>"
      ],
      "image/png": "[encoded data removed]"
     },
     "metadata": {},
     "output_type": "display_data"
    }
   ],
   "execution_count": 94
  },
  {
   "cell_type": "markdown",
   "metadata": {
    "id": "U_f5DM7oZiBY"
   },
   "source": [
    "패션 MNIST의 타깃은 0 ~ 9까지의 숫자 레이블로 구성된다. 각 숫자의 의미는 아직 모르지만 마지막 2개의 샘플이 같은 레이블(5)를 가지고 있다. 패션 MNIST에 포함된 10개의 레이블의 의미는 다음과 같다.\n",
    "\n",
    "0 : 티셔츠\n",
    "1 : 바지\n",
    "2 : 스웨터\n",
    "3 : 드레스\n",
    "4 : 코트\n",
    "5 : 샌달\n",
    "6 : 셔츠\n",
    "7 : 스니커즈\n",
    "8 : 가방\n",
    "9 : 앵클 부츠"
   ]
  },
  {
   "cell_type": "code",
   "metadata": {
    "colab": {
     "base_uri": "https://localhost:8080/"
    },
    "executionInfo": {
     "elapsed": 19,
     "status": "ok",
     "timestamp": 1753350088098,
     "user": {
      "displayName": "ihan",
      "userId": "16117014847748292320"
     },
     "user_tz": -540
    },
    "id": "SFpUFYZkZiBY",
    "outputId": "ac1417a9-e854-48c5-f12d-1ca7771dc679",
    "ExecuteTime": {
     "end_time": "2025-07-24T09:53:13.472412Z",
     "start_time": "2025-07-24T09:53:13.469621Z"
    }
   },
   "source": [
    "np.unique(train_labels)"
   ],
   "outputs": [
    {
     "data": {
      "text/plain": [
       "array([0, 1, 2, 3, 4, 5, 6, 7, 8, 9], dtype=uint8)"
      ]
     },
     "execution_count": 95,
     "metadata": {},
     "output_type": "execute_result"
    }
   ],
   "execution_count": 95
  },
  {
   "cell_type": "markdown",
   "metadata": {
    "id": "vwPxBtyVZiBY"
   },
   "source": [
    "마지막으로 넘파이 unique() 함수로 레이블 당 샘플 개수를 확인해 보자."
   ]
  },
  {
   "cell_type": "code",
   "metadata": {
    "colab": {
     "base_uri": "https://localhost:8080/"
    },
    "executionInfo": {
     "elapsed": 16,
     "status": "ok",
     "timestamp": 1753350088126,
     "user": {
      "displayName": "ihan",
      "userId": "16117014847748292320"
     },
     "user_tz": -540
    },
    "id": "TsiTw2QeZiBZ",
    "outputId": "3d55034b-d21f-4367-81ed-2a18255d8902",
    "ExecuteTime": {
     "end_time": "2025-07-24T09:53:13.486399Z",
     "start_time": "2025-07-24T09:53:13.483521Z"
    }
   },
   "source": [
    "# 전체 학습 데이터 타겟의 라벨만 출력\n",
    "np.unique(train_labels, return_counts=True)"
   ],
   "outputs": [
    {
     "data": {
      "text/plain": [
       "(array([0, 1, 2, 3, 4, 5, 6, 7, 8, 9], dtype=uint8),\n",
       " array([6000, 6000, 6000, 6000, 6000, 6000, 6000, 6000, 6000, 6000]))"
      ]
     },
     "execution_count": 96,
     "metadata": {},
     "output_type": "execute_result"
    }
   ],
   "execution_count": 96
  },
  {
   "cell_type": "markdown",
   "metadata": {
    "id": "3nxbewj3ZiBZ"
   },
   "source": [
    "이미지의 픽셀값을 0 ~ 255 범위에서 0 ~ 1 사이로 변환하고, 28 x 28 크기의 2차원 배열을 784 크기의 1차원 배열로 펼친다.\n",
    "\n"
   ]
  },
  {
   "cell_type": "code",
   "metadata": {
    "colab": {
     "base_uri": "https://localhost:8080/"
    },
    "executionInfo": {
     "elapsed": 14,
     "status": "ok",
     "timestamp": 1753350088126,
     "user": {
      "displayName": "ihan",
      "userId": "16117014847748292320"
     },
     "user_tz": -540
    },
    "id": "W2Lacqg_lf0g",
    "outputId": "4edcbb52-315b-4dce-b6c5-e709f0303089",
    "ExecuteTime": {
     "end_time": "2025-07-24T09:53:13.518961Z",
     "start_time": "2025-07-24T09:53:13.516315Z"
    }
   },
   "source": [
    "train_images.max()"
   ],
   "outputs": [
    {
     "data": {
      "text/plain": [
       "255"
      ]
     },
     "execution_count": 97,
     "metadata": {},
     "output_type": "execute_result"
    }
   ],
   "execution_count": 97
  },
  {
   "cell_type": "code",
   "metadata": {
    "executionInfo": {
     "elapsed": 13,
     "status": "ok",
     "timestamp": 1753350088127,
     "user": {
      "displayName": "ihan",
      "userId": "16117014847748292320"
     },
     "user_tz": -540
    },
    "id": "qhxfBxLLlSL1",
    "ExecuteTime": {
     "end_time": "2025-07-24T09:53:13.611063Z",
     "start_time": "2025-07-24T09:53:13.558318Z"
    }
   },
   "source": [
    "# 정규화\n",
    "train_scaled = train_images / 255.0"
   ],
   "outputs": [],
   "execution_count": 98
  },
  {
   "cell_type": "code",
   "metadata": {
    "colab": {
     "base_uri": "https://localhost:8080/"
    },
    "executionInfo": {
     "elapsed": 19,
     "status": "ok",
     "timestamp": 1753350088146,
     "user": {
      "displayName": "ihan",
      "userId": "16117014847748292320"
     },
     "user_tz": -540
    },
    "id": "7Xg7RDmxlnt1",
    "outputId": "ab043309-c546-4315-ef76-74650572b756",
    "ExecuteTime": {
     "end_time": "2025-07-24T09:53:13.631974Z",
     "start_time": "2025-07-24T09:53:13.619315Z"
    }
   },
   "source": [
    "train_scaled.min(), train_scaled.max()"
   ],
   "outputs": [
    {
     "data": {
      "text/plain": [
       "(0.0, 1.0)"
      ]
     },
     "execution_count": 99,
     "metadata": {},
     "output_type": "execute_result"
    }
   ],
   "execution_count": 99
  },
  {
   "cell_type": "code",
   "metadata": {
    "executionInfo": {
     "elapsed": 27,
     "status": "ok",
     "timestamp": 1753350088175,
     "user": {
      "displayName": "ihan",
      "userId": "16117014847748292320"
     },
     "user_tz": -540
    },
    "id": "U9ujuPuMZiBZ",
    "ExecuteTime": {
     "end_time": "2025-07-24T09:53:13.650499Z",
     "start_time": "2025-07-24T09:53:13.648169Z"
    }
   },
   "source": [
    "# 28x28 이미지를 784개 벡터로 변경\n",
    "train_scaled = train_scaled.reshape(-1, 28*28)"
   ],
   "outputs": [],
   "execution_count": 100
  },
  {
   "cell_type": "code",
   "metadata": {
    "colab": {
     "base_uri": "https://localhost:8080/"
    },
    "executionInfo": {
     "elapsed": 2,
     "status": "ok",
     "timestamp": 1753350088178,
     "user": {
      "displayName": "ihan",
      "userId": "16117014847748292320"
     },
     "user_tz": -540
    },
    "id": "bFr5p_eRZiBZ",
    "outputId": "4b88a32d-546f-45d3-bb44-ce57d7e5a841",
    "ExecuteTime": {
     "end_time": "2025-07-24T09:53:13.663235Z",
     "start_time": "2025-07-24T09:53:13.661339Z"
    }
   },
   "source": [
    "train_scaled.shape"
   ],
   "outputs": [
    {
     "data": {
      "text/plain": [
       "(60000, 784)"
      ]
     },
     "execution_count": 101,
     "metadata": {},
     "output_type": "execute_result"
    }
   ],
   "execution_count": 101
  },
  {
   "cell_type": "markdown",
   "metadata": {
    "id": "JJaGK2dTZiBZ"
   },
   "source": [
    "### \\[로지스틱 회귀로 패션 아이템 분류하기\\]\n",
    "\n"
   ]
  },
  {
   "cell_type": "markdown",
   "metadata": {
    "id": "vP9Kb5rDZiBa"
   },
   "source": [
    "> 머신러닝 LogisticRegressor 로 SGDClassifier 클래스와 cross_validate 함수를 사용해 이 데이터에서 교차 검증으로 성능을 확인두고 DNN 의 결과와 비교해 보자"
   ]
  },
  {
   "cell_type": "code",
   "metadata": {
    "colab": {
     "base_uri": "https://localhost:8080/"
    },
    "executionInfo": {
     "elapsed": 11864,
     "status": "ok",
     "timestamp": 1753350100043,
     "user": {
      "displayName": "ihan",
      "userId": "16117014847748292320"
     },
     "user_tz": -540
    },
    "id": "TVDhl5ThZiBa",
    "outputId": "4f6efa35-ff92-4223-d1d6-b1dc63036fd9",
    "ExecuteTime": {
     "end_time": "2025-07-24T09:53:16.175402Z",
     "start_time": "2025-07-24T09:53:13.689429Z"
    }
   },
   "source": [
    "from sklearn.model_selection import cross_validate\n",
    "from sklearn.linear_model import SGDClassifier\n",
    "\n",
    "sc = SGDClassifier(max_iter=5, random_state=42)\n",
    "scores = cross_validate(sc, train_scaled, train_labels, n_jobs=-1)\n",
    "print(np.mean(scores['test_score']))"
   ],
   "outputs": [
    {
     "name": "stdout",
     "output_type": "stream",
     "text": [
      "0.8262833333333333\n"
     ]
    },
    {
     "name": "stderr",
     "output_type": "stream",
     "text": [
      "/opt/anaconda3/envs/stenv/lib/python3.9/site-packages/sklearn/linear_model/_stochastic_gradient.py:738: ConvergenceWarning: Maximum number of iteration reached before convergence. Consider increasing max_iter to improve the fit.\n",
      "  warnings.warn(\n",
      "/opt/anaconda3/envs/stenv/lib/python3.9/site-packages/sklearn/linear_model/_stochastic_gradient.py:738: ConvergenceWarning: Maximum number of iteration reached before convergence. Consider increasing max_iter to improve the fit.\n",
      "  warnings.warn(\n",
      "/opt/anaconda3/envs/stenv/lib/python3.9/site-packages/sklearn/linear_model/_stochastic_gradient.py:738: ConvergenceWarning: Maximum number of iteration reached before convergence. Consider increasing max_iter to improve the fit.\n",
      "  warnings.warn(\n",
      "/opt/anaconda3/envs/stenv/lib/python3.9/site-packages/sklearn/linear_model/_stochastic_gradient.py:738: ConvergenceWarning: Maximum number of iteration reached before convergence. Consider increasing max_iter to improve the fit.\n",
      "  warnings.warn(\n",
      "/opt/anaconda3/envs/stenv/lib/python3.9/site-packages/sklearn/linear_model/_stochastic_gradient.py:738: ConvergenceWarning: Maximum number of iteration reached before convergence. Consider increasing max_iter to improve the fit.\n",
      "  warnings.warn(\n"
     ]
    }
   ],
   "execution_count": 102
  },
  {
   "cell_type": "markdown",
   "metadata": {
    "id": "gGbek1_LZiBa"
   },
   "source": [
    "위에선 반복 횟수를 5로 지정하였다. 반복 횟수를 늘려도 크게 향상 되지는 않는다."
   ]
  },
  {
   "cell_type": "markdown",
   "metadata": {
    "id": "v1Ih63RIZiBb"
   },
   "source": [
    "### \\[입력 데이터 이해\\]\n"
   ]
  },
  {
   "cell_type": "markdown",
   "metadata": {
    "id": "FOJiJqTFZiBb"
   },
   "source": [
    "\n",
    "이미지 28x28 이미지의 픽셀 784를 입력으로 받아서 분류하는 심층 신경망을 구성한다.\n",
    "\n",
    "<img src='https://i.imgur.com/LeqDB0g.jpeg' height=300>"
   ]
  },
  {
   "cell_type": "markdown",
   "metadata": {
    "id": "dgMwgJ32ZiBb"
   },
   "source": [
    "심층 신경망은 MLP 층을 수평적으로 배치하는 구조\n",
    "\n",
    "\n",
    "- 2개 이상의 MLP 층 네트워크로 배치한 심층 신경망.\n",
    "- 다층 인공 신경망, 심층 신경망, 딥러닝을 같은 의미로 사용하기도 한다.\n"
   ]
  },
  {
   "cell_type": "markdown",
   "metadata": {
    "id": "lOwtt67GZiBb"
   },
   "source": [
    "\n",
    "클래스가 총 10개이기 때문에 z10 까지 계산한다. z1 ~ z10을 계산하고 이를 바탕으로 클래스를 예측하기 때문에 신경망의 최종 값을 만든다는 의미에서 출력층이라고 한다.\n",
    "\n",
    "\n",
    "\n",
    " 픽셀이 총 784개 이고 출력층은 총 10개이다. 이것들이 모두 연결된 선을 생각해보면 784 x 10 = 7840 개의 연결된 선이 있다. 정말 빽빽하기 때문에 밀집층이라고 부른다.\n",
    " - 밀집층은 양쪽의 뉴런이 모두 빽빽하게 연결된 층으로, 완전 연결층이라고도 부른다.\n",
    "\n",
    "<img src='https://i.imgur.com/Tv0g0at.jpeg' width=600>\n",
    "\n",
    "- 출력층 : z1 ~ z10에 해당, 클래스를 예측하여 신경망의 최종값을 만드는 층\n",
    "- 뉴런 : z의 값을 계산하는 단위, 현재는 유닛이라 부르는 사람이 더 많아지고 있다.\n",
    "- 입력층 : x1~x784에 해당, 픽셀값 그 자체이며 계산을 수행하진 않는다."
   ]
  },
  {
   "cell_type": "markdown",
   "metadata": {
    "id": "lg7Goz__ZiBb"
   },
   "source": [
    "가장 기본적인 인공 신경망(MDP)은 확률적 경사 하강법을 사용하는 로지스틱 회귀와 같다. 그렇다면 어떻게 인공 신경망으로 성능을 높일 수 있는 걸까?\n",
    "\n",
    " - 은닉층에서 입력을 서로 교차해서 다음 은닉층으로 전달하며 높아진다.\n",
    "\n",
    "\n",
    "\n",
    "은닉층에 왜 활성화 함수를 적용할까? 은닉층에선 선형적인 산술 계산만 수행한다면 수행 역할이 없는 셈이다. 선형 계산을 적당하게 비선형적으로 비틀어 주어야 한다. 그래야 다음 층의 계산과 단순히 합쳐지지 않고 나름의 역할을 할 수 있다."
   ]
  },
  {
   "cell_type": "markdown",
   "metadata": {
    "id": "dwu-QTUQZiBi"
   },
   "source": [
    "### 훈련 / 검증세트 분할\n",
    "\n",
    " 사이킷런의 train_test_split() 함수로 훈련 세트와 검증 세트로 나눈다."
   ]
  },
  {
   "cell_type": "code",
   "metadata": {
    "executionInfo": {
     "elapsed": 102,
     "status": "ok",
     "timestamp": 1753350100143,
     "user": {
      "displayName": "ihan",
      "userId": "16117014847748292320"
     },
     "user_tz": -540
    },
    "id": "gYrOvq45ZiBi",
    "ExecuteTime": {
     "end_time": "2025-07-24T09:53:16.262733Z",
     "start_time": "2025-07-24T09:53:16.198549Z"
    }
   },
   "source": [
    "from sklearn.model_selection import train_test_split\n",
    "\n",
    "train_scaled, val_scaled, train_labels, val_target = train_test_split(\n",
    "    train_scaled, train_labels, test_size=0.2, random_state=42)"
   ],
   "outputs": [],
   "execution_count": 103
  },
  {
   "cell_type": "markdown",
   "metadata": {
    "id": "sg--CXG3ZiBj"
   },
   "source": [
    "## (2) Sequancial이용 MLP 구성하기\n",
    "\n",
    "\n",
    "Dense Layer 객체를 준비하고 Sequencial 생성자로 MLP 를 구성한다.\n"
   ]
  },
  {
   "cell_type": "markdown",
   "metadata": {
    "id": "NKFj9dtKZiBj"
   },
   "source": [
    "```python\n",
    "class Dense(\n",
    "    units: int,\n",
    "    activation: Any | None = None,\n",
    "    use_bias: bool = True,\n",
    "    ...\n",
    ")\n",
    "```"
   ]
  },
  {
   "cell_type": "markdown",
   "metadata": {
    "id": "fepTUkBbZiBj"
   },
   "source": [
    "```python\n",
    "class Sequential(\n",
    "    layers: Any | None = None,\n",
    "    trainable: bool = True,\n",
    "    name: Any | None = None\n",
    ")\n",
    "```"
   ]
  },
  {
   "cell_type": "markdown",
   "metadata": {
    "id": "I3PSExlyZiBj"
   },
   "source": [
    "이제 인공 신경망 모델에 층을 추가해 보자.\n",
    " - 입력층과 출력층 사이에 밀집층이 추가된다.\n",
    " - 입력층과 출력층 사이에 있는 모든 층을 은닉층이라고 부른다.\n",
    " - 은닉층에는 활성화 함수가 있다.\n",
    "   - 은닉층의 활성화 함수, 시그모이드 함수와 렐루 함수등을 사용한다.\n",
    " - 출력층에 적용하는 활성화 함수는 종류가 제한되어 있다.\n",
    "   - 이진 분류일 경우 시그모이드 함수를 사용하고 다중 분류일 경우 소프트맥스 함수를 사용한다.\n",
    "\n"
   ]
  },
  {
   "cell_type": "code",
   "metadata": {
    "executionInfo": {
     "elapsed": 12,
     "status": "ok",
     "timestamp": 1753350100159,
     "user": {
      "displayName": "ihan",
      "userId": "16117014847748292320"
     },
     "user_tz": -540
    },
    "id": "MCZWQiEwF6MD",
    "ExecuteTime": {
     "end_time": "2025-07-24T09:53:16.272652Z",
     "start_time": "2025-07-24T09:53:16.270629Z"
    }
   },
   "source": [
    "input = keras.layers.Input(shape=(784,))"
   ],
   "outputs": [],
   "execution_count": 104
  },
  {
   "cell_type": "code",
   "metadata": {
    "executionInfo": {
     "elapsed": 7,
     "status": "ok",
     "timestamp": 1753350100167,
     "user": {
      "displayName": "ihan",
      "userId": "16117014847748292320"
     },
     "user_tz": -540
    },
    "id": "JFTuuLlPoWE2",
    "ExecuteTime": {
     "end_time": "2025-07-24T09:53:16.283032Z",
     "start_time": "2025-07-24T09:53:16.280872Z"
    }
   },
   "source": [
    "dense1 = keras.layers.Dense(100, activation='sigmoid')\n",
    "dense2 = keras.layers.Dense(10, activation='softmax')    # 다중분류: 10개"
   ],
   "outputs": [],
   "execution_count": 105
  },
  {
   "cell_type": "markdown",
   "metadata": {
    "id": "S185N_6KZiBk"
   },
   "source": [
    "- 입력의 크기를 (784,)로 지정했다.\n",
    "- dens1이 은닉층이고 100개의 뉴런을 가진 밀집층이다. 활성화 함수를 sigmoid 했다.\n",
    "- 은닉층의 뉴런 개수를 정하는데는 특별한 기준이 없다.\n",
    "   - 한 가지 제약 사항이 있다면 출력층의 뉴런보다는 많게 한다.\n",
    "   - 클래스 10개에 대한 확률을 예측해야 하는데 이전 은닉층의 뉴런이 10개보다 적다면 부족한 정보가 전달될 것이다.\n",
    "- 그다음 dense2는 출력층이다. 10개의 클래스를 분류하므로 10개의 뉴런을 두었고 활성화 함수는 소프트맥스 함수로 지정했다."
   ]
  },
  {
   "cell_type": "markdown",
   "metadata": {
    "id": "D6YiSI-QZiBk"
   },
   "source": [
    "### Sequencial Layer\n",
    "\n",
    "이제 앞에서 만든 dense1과 dense2 객체를 Sequential 클래스에 추가하여 심층 신경망을 만들어 보자."
   ]
  },
  {
   "cell_type": "code",
   "metadata": {
    "executionInfo": {
     "elapsed": 108,
     "status": "ok",
     "timestamp": 1753350100275,
     "user": {
      "displayName": "ihan",
      "userId": "16117014847748292320"
     },
     "user_tz": -540
    },
    "id": "xmWL7kOoGB4P",
    "ExecuteTime": {
     "end_time": "2025-07-24T09:53:16.298512Z",
     "start_time": "2025-07-24T09:53:16.292989Z"
    }
   },
   "source": [
    "model = keras.Sequential([input, dense1, dense2])"
   ],
   "outputs": [],
   "execution_count": 106
  },
  {
   "cell_type": "markdown",
   "metadata": {
    "id": "e_8uuD7pZiBl"
   },
   "source": [
    "Sequential 클래스의 객체를 만들 때 여러 개의 층을 추가하려면 위와 같이 리스트로 만들어 전달한다. 여기서 주의할 것은 출력츠을 가장 마지막에 두어야 한다는 것이다. 이 리스트는 가장 처음 등장하는 은닉층에서 마지막 출력층의 순서로 나열해야 한다.\n",
    "\n",
    "인공 신경망의 강력한 성능은 바로 이렇게 층을 추가하여 입력 데이터에 대해 연속적인 학습을 진행하는 능력에서 나온다. 물론 2개 이상의 층을 추가할 수도 있다.\n",
    "\n"
   ]
  },
  {
   "cell_type": "markdown",
   "metadata": {
    "id": "09xypoDhZiBl"
   },
   "source": [
    "### summary이용 파라미터 해석\n",
    "\n",
    "이렇게 구성된 네트워크의 입력, Dense 레이어, 출력의 파라미터 수는 summary() 함수를 통해 확인할 수 있고,\n",
    "\n",
    " - 층의 파라미터는 ***`(입력측 뉴런 수 + 1) x (출력측 뉴런 수)`*** 식으로 구한다."
   ]
  },
  {
   "cell_type": "markdown",
   "metadata": {
    "id": "2sJZftnrZiBl"
   },
   "source": [
    "\n",
    "머신러닝에서 함수 $y = ax + b$ 는 아래 같이 가중치와 편향을 고려하고 있다. 은닉층의 입력과 출력은 h(x) 함수 같이 가중치와 편향을 함께 계산한다.\n",
    "\n",
    "$$\n",
    "y = wx + b \\\\\n",
    "h(x) = wx + b\n",
    "$$\n",
    "\n",
    "이것은 머신러닝의 은닉층 연산은 바이어스도 1개의 노드로 계산해서 `+1`을 한다.\n",
    "\n",
    "hidden layer params:\n",
    "\n",
    "```\n",
    "1st params = (input(784) + bias(1)) * output(100) = (784 + 1) * 100 = 78,500\n",
    "2st params = (input(100) + bias(1)) * output(10) = (100 + 1) * 10 = 1010\n",
    "```"
   ]
  },
  {
   "cell_type": "markdown",
   "metadata": {
    "id": "t63hk9W4ZiBl"
   },
   "source": [
    "케라스는 모델의 summary() 메서드를 호출하면 층에 대한 유용한 정보를 얻을 수 있다."
   ]
  },
  {
   "cell_type": "code",
   "metadata": {
    "colab": {
     "base_uri": "https://localhost:8080/",
     "height": 193
    },
    "executionInfo": {
     "elapsed": 29,
     "status": "ok",
     "timestamp": 1753350100344,
     "user": {
      "displayName": "ihan",
      "userId": "16117014847748292320"
     },
     "user_tz": -540
    },
    "id": "J1vPwsjeZiBl",
    "outputId": "74dd652b-d147-4fbf-f7d0-a1df68562dd9",
    "ExecuteTime": {
     "end_time": "2025-07-24T09:53:16.316294Z",
     "start_time": "2025-07-24T09:53:16.311708Z"
    }
   },
   "source": [
    "model.summary()"
   ],
   "outputs": [
    {
     "data": {
      "text/plain": [
       "\u001B[1mModel: \"sequential_7\"\u001B[0m\n"
      ],
      "text/html": [
       "<pre style=\"white-space:pre;overflow-x:auto;line-height:normal;font-family:Menlo,'DejaVu Sans Mono',consolas,'Courier New',monospace\"><span style=\"font-weight: bold\">Model: \"sequential_7\"</span>\n",
       "</pre>\n"
      ]
     },
     "metadata": {},
     "output_type": "display_data"
    },
    {
     "data": {
      "text/plain": [
       "┏━━━━━━━━━━━━━━━━━━━━━━━━━━━━━━━━━┳━━━━━━━━━━━━━━━━━━━━━━━━┳━━━━━━━━━━━━━━━┓\n",
       "┃\u001B[1m \u001B[0m\u001B[1mLayer (type)                   \u001B[0m\u001B[1m \u001B[0m┃\u001B[1m \u001B[0m\u001B[1mOutput Shape          \u001B[0m\u001B[1m \u001B[0m┃\u001B[1m \u001B[0m\u001B[1m      Param #\u001B[0m\u001B[1m \u001B[0m┃\n",
       "┡━━━━━━━━━━━━━━━━━━━━━━━━━━━━━━━━━╇━━━━━━━━━━━━━━━━━━━━━━━━╇━━━━━━━━━━━━━━━┩\n",
       "│ dense_16 (\u001B[38;5;33mDense\u001B[0m)                │ (\u001B[38;5;45mNone\u001B[0m, \u001B[38;5;34m100\u001B[0m)            │        \u001B[38;5;34m78,500\u001B[0m │\n",
       "├─────────────────────────────────┼────────────────────────┼───────────────┤\n",
       "│ dense_17 (\u001B[38;5;33mDense\u001B[0m)                │ (\u001B[38;5;45mNone\u001B[0m, \u001B[38;5;34m10\u001B[0m)             │         \u001B[38;5;34m1,010\u001B[0m │\n",
       "└─────────────────────────────────┴────────────────────────┴───────────────┘\n"
      ],
      "text/html": [
       "<pre style=\"white-space:pre;overflow-x:auto;line-height:normal;font-family:Menlo,'DejaVu Sans Mono',consolas,'Courier New',monospace\">┏━━━━━━━━━━━━━━━━━━━━━━━━━━━━━━━━━┳━━━━━━━━━━━━━━━━━━━━━━━━┳━━━━━━━━━━━━━━━┓\n",
       "┃<span style=\"font-weight: bold\"> Layer (type)                    </span>┃<span style=\"font-weight: bold\"> Output Shape           </span>┃<span style=\"font-weight: bold\">       Param # </span>┃\n",
       "┡━━━━━━━━━━━━━━━━━━━━━━━━━━━━━━━━━╇━━━━━━━━━━━━━━━━━━━━━━━━╇━━━━━━━━━━━━━━━┩\n",
       "│ dense_16 (<span style=\"color: #0087ff; text-decoration-color: #0087ff\">Dense</span>)                │ (<span style=\"color: #00d7ff; text-decoration-color: #00d7ff\">None</span>, <span style=\"color: #00af00; text-decoration-color: #00af00\">100</span>)            │        <span style=\"color: #00af00; text-decoration-color: #00af00\">78,500</span> │\n",
       "├─────────────────────────────────┼────────────────────────┼───────────────┤\n",
       "│ dense_17 (<span style=\"color: #0087ff; text-decoration-color: #0087ff\">Dense</span>)                │ (<span style=\"color: #00d7ff; text-decoration-color: #00d7ff\">None</span>, <span style=\"color: #00af00; text-decoration-color: #00af00\">10</span>)             │         <span style=\"color: #00af00; text-decoration-color: #00af00\">1,010</span> │\n",
       "└─────────────────────────────────┴────────────────────────┴───────────────┘\n",
       "</pre>\n"
      ]
     },
     "metadata": {},
     "output_type": "display_data"
    },
    {
     "data": {
      "text/plain": [
       "\u001B[1m Total params: \u001B[0m\u001B[38;5;34m79,510\u001B[0m (310.59 KB)\n"
      ],
      "text/html": [
       "<pre style=\"white-space:pre;overflow-x:auto;line-height:normal;font-family:Menlo,'DejaVu Sans Mono',consolas,'Courier New',monospace\"><span style=\"font-weight: bold\"> Total params: </span><span style=\"color: #00af00; text-decoration-color: #00af00\">79,510</span> (310.59 KB)\n",
       "</pre>\n"
      ]
     },
     "metadata": {},
     "output_type": "display_data"
    },
    {
     "data": {
      "text/plain": [
       "\u001B[1m Trainable params: \u001B[0m\u001B[38;5;34m79,510\u001B[0m (310.59 KB)\n"
      ],
      "text/html": [
       "<pre style=\"white-space:pre;overflow-x:auto;line-height:normal;font-family:Menlo,'DejaVu Sans Mono',consolas,'Courier New',monospace\"><span style=\"font-weight: bold\"> Trainable params: </span><span style=\"color: #00af00; text-decoration-color: #00af00\">79,510</span> (310.59 KB)\n",
       "</pre>\n"
      ]
     },
     "metadata": {},
     "output_type": "display_data"
    },
    {
     "data": {
      "text/plain": [
       "\u001B[1m Non-trainable params: \u001B[0m\u001B[38;5;34m0\u001B[0m (0.00 B)\n"
      ],
      "text/html": [
       "<pre style=\"white-space:pre;overflow-x:auto;line-height:normal;font-family:Menlo,'DejaVu Sans Mono',consolas,'Courier New',monospace\"><span style=\"font-weight: bold\"> Non-trainable params: </span><span style=\"color: #00af00; text-decoration-color: #00af00\">0</span> (0.00 B)\n",
       "</pre>\n"
      ]
     },
     "metadata": {},
     "output_type": "display_data"
    }
   ],
   "execution_count": 107
  },
  {
   "cell_type": "markdown",
   "metadata": {
    "id": "0TEMZ5FSZiBm"
   },
   "source": [
    "모델의 구조 summary() :\n",
    "\n",
    "\n",
    " - Layer (type): 은닉층 이름과 종류\n",
    " - Output Shape: (None, 100) : 출력되는 배열의 첫 번째 차원을 배치 차원이으로, None으로 지정되는 이유는 배치 크기가 동적으로 추가될 수 있어서 None으로 둔다.\n",
    " -  Param : 층에서 계산할 인자의 수. 아래 파라미터 입력과 출력 이해 참고."
   ]
  },
  {
   "cell_type": "markdown",
   "metadata": {
    "id": "WxAudyD0ZiBm"
   },
   "source": [
    "맨 첫줄에는 모델의 이름이 나온다. 그다음 이 모델에 들어 있는 층이 순서대로 나열된다. 이 순서는 맨 처음 추가한 은닉층에서 출력층의 순서대로 나열된다. 층마다 층 이름, 클래스, 출력 크기, 모델 파라미터 개수가 출력된다. 층을 만들 때 name 매개변수로 이름을 지정할 수 있다. 층 이름을 지정하지 않으면 케라스가 자동으로 'dense'라고 이름을 붙인다.\n",
    "\n",
    "출력 크기를 보면 (None, 100)이다. 첫 번째 차원은 샘플의 개수를 나타낸다. 샘플의 개수가 아직 정의되어 있지 않기 때문에 None이다. 왜 그럴까? 케라스 모델의 fit() 메서드에 훈련 데이터를 주입하면 이 데이터를 한 번에 모두 사용하지 않고 잘게 나누어 여러 번에 걸쳐 경사 하강법 단계를 수행한다. 바로 미니배치 경사 하강법이다.\n",
    "\n",
    "케라스의 기본 미니배치 크기는 32개이다. 이 값은 fit() 메서드에서 batch_size 매개변수로 바꿀 수 있다. 따라서 샘플 개수를 고정하지 않고 어떤 배치 크기에도 유연하게 대응할 수 있도록 None으로 설정한다. 이렇게 신경망 층에 입력되거나 출력되는 배열의 첫 번째 차원을 배치 차원이라고 부른다.\n",
    "\n",
    "\n",
    "\n",
    "***마지막으로 모델 파라미터 개수가 출력된다. 이 층은 Dense 층이므로 입력 픽셀 784개와 100개의 모든 조합에 대한 가중치가 있다. 그리고 뉴런마다 1개의 절편이 있다. 따라서 총 78500개 이다***.\n",
    "\n",
    "두 번째 층의 출력 크기는 (None,10)이다. 배치 차원은 동일하게 None이고 출력 뉴런 개수가 10개이기 때문이다. 이 층의 모델 파라미터 개수는 1010개이다.\n",
    "\n",
    "summary() 메서드의 마지막에는 총 모델 파라미터 개수와 훈련되는 파라미터 개수가 동일하게 79510으로 나온다. 그 아래 훈련되지 않는 파라미터는 0으로 나온다. 간혹 경사 하강법으로 훈련되지 않는 파라미터를 가진 층이 있다. 이런 층의 파라미터 개수가 여기에 나온다."
   ]
  },
  {
   "cell_type": "code",
   "metadata": {
    "executionInfo": {
     "elapsed": 1,
     "status": "ok",
     "timestamp": 1753350100345,
     "user": {
      "displayName": "ihan",
      "userId": "16117014847748292320"
     },
     "user_tz": -540
    },
    "id": "bCpeXd3rpuIe",
    "ExecuteTime": {
     "end_time": "2025-07-24T09:53:16.348376Z",
     "start_time": "2025-07-24T09:53:16.344289Z"
    }
   },
   "source": [
    "model.compile(loss='sparse_categorical_crossentropy', metrics=['accuracy'])"
   ],
   "outputs": [],
   "execution_count": 108
  },
  {
   "cell_type": "code",
   "metadata": {
    "colab": {
     "base_uri": "https://localhost:8080/"
    },
    "executionInfo": {
     "elapsed": 36591,
     "status": "ok",
     "timestamp": 1753350137032,
     "user": {
      "displayName": "ihan",
      "userId": "16117014847748292320"
     },
     "user_tz": -540
    },
    "id": "-qNCMe3FqE4N",
    "outputId": "cacb25b8-cb8d-409c-db75-74617da813be",
    "ExecuteTime": {
     "end_time": "2025-07-24T09:53:23.502084Z",
     "start_time": "2025-07-24T09:53:16.358745Z"
    }
   },
   "source": [
    "model.fit(train_scaled, train_labels, epochs=10)"
   ],
   "outputs": [
    {
     "name": "stdout",
     "output_type": "stream",
     "text": [
      "Epoch 1/10\n",
      "\u001B[1m1500/1500\u001B[0m \u001B[32m━━━━━━━━━━━━━━━━━━━━\u001B[0m\u001B[37m\u001B[0m \u001B[1m1s\u001B[0m 469us/step - accuracy: 0.7515 - loss: 0.7683\n",
      "Epoch 2/10\n",
      "\u001B[1m1500/1500\u001B[0m \u001B[32m━━━━━━━━━━━━━━━━━━━━\u001B[0m\u001B[37m\u001B[0m \u001B[1m1s\u001B[0m 479us/step - accuracy: 0.8449 - loss: 0.4264\n",
      "Epoch 3/10\n",
      "\u001B[1m1500/1500\u001B[0m \u001B[32m━━━━━━━━━━━━━━━━━━━━\u001B[0m\u001B[37m\u001B[0m \u001B[1m1s\u001B[0m 472us/step - accuracy: 0.8627 - loss: 0.3765\n",
      "Epoch 4/10\n",
      "\u001B[1m1500/1500\u001B[0m \u001B[32m━━━━━━━━━━━━━━━━━━━━\u001B[0m\u001B[37m\u001B[0m \u001B[1m1s\u001B[0m 462us/step - accuracy: 0.8708 - loss: 0.3521\n",
      "Epoch 5/10\n",
      "\u001B[1m1500/1500\u001B[0m \u001B[32m━━━━━━━━━━━━━━━━━━━━\u001B[0m\u001B[37m\u001B[0m \u001B[1m1s\u001B[0m 462us/step - accuracy: 0.8786 - loss: 0.3350\n",
      "Epoch 6/10\n",
      "\u001B[1m1500/1500\u001B[0m \u001B[32m━━━━━━━━━━━━━━━━━━━━\u001B[0m\u001B[37m\u001B[0m \u001B[1m1s\u001B[0m 464us/step - accuracy: 0.8825 - loss: 0.3198\n",
      "Epoch 7/10\n",
      "\u001B[1m1500/1500\u001B[0m \u001B[32m━━━━━━━━━━━━━━━━━━━━\u001B[0m\u001B[37m\u001B[0m \u001B[1m1s\u001B[0m 455us/step - accuracy: 0.8871 - loss: 0.3102\n",
      "Epoch 8/10\n",
      "\u001B[1m1500/1500\u001B[0m \u001B[32m━━━━━━━━━━━━━━━━━━━━\u001B[0m\u001B[37m\u001B[0m \u001B[1m1s\u001B[0m 446us/step - accuracy: 0.8922 - loss: 0.2999\n",
      "Epoch 9/10\n",
      "\u001B[1m1500/1500\u001B[0m \u001B[32m━━━━━━━━━━━━━━━━━━━━\u001B[0m\u001B[37m\u001B[0m \u001B[1m1s\u001B[0m 460us/step - accuracy: 0.8948 - loss: 0.2878\n",
      "Epoch 10/10\n",
      "\u001B[1m1500/1500\u001B[0m \u001B[32m━━━━━━━━━━━━━━━━━━━━\u001B[0m\u001B[37m\u001B[0m \u001B[1m1s\u001B[0m 450us/step - accuracy: 0.9010 - loss: 0.2746\n"
     ]
    },
    {
     "data": {
      "text/plain": [
       "<keras.src.callbacks.history.History at 0x39b259790>"
      ]
     },
     "execution_count": 109,
     "metadata": {},
     "output_type": "execute_result"
    }
   ],
   "execution_count": 109
  },
  {
   "cell_type": "code",
   "metadata": {
    "colab": {
     "base_uri": "https://localhost:8080/"
    },
    "executionInfo": {
     "elapsed": 45,
     "status": "ok",
     "timestamp": 1753350137077,
     "user": {
      "displayName": "ihan",
      "userId": "16117014847748292320"
     },
     "user_tz": -540
    },
    "id": "OUZSKoHVqaPm",
    "outputId": "9fb6cbcc-3239-47be-f990-55f4d8828eab",
    "ExecuteTime": {
     "end_time": "2025-07-24T09:53:23.537635Z",
     "start_time": "2025-07-24T09:53:23.535745Z"
    }
   },
   "source": [
    "1500 * 32"
   ],
   "outputs": [
    {
     "data": {
      "text/plain": [
       "48000"
      ]
     },
     "execution_count": 110,
     "metadata": {},
     "output_type": "execute_result"
    }
   ],
   "execution_count": 110
  },
  {
   "cell_type": "code",
   "metadata": {
    "colab": {
     "base_uri": "https://localhost:8080/"
    },
    "executionInfo": {
     "elapsed": 752,
     "status": "ok",
     "timestamp": 1753350137829,
     "user": {
      "displayName": "ihan",
      "userId": "16117014847748292320"
     },
     "user_tz": -540
    },
    "id": "VDr1n5pqqjvm",
    "outputId": "90a85184-c0da-40b7-a22c-41e25bdd3c07",
    "ExecuteTime": {
     "end_time": "2025-07-24T09:53:23.742051Z",
     "start_time": "2025-07-24T09:53:23.550245Z"
    }
   },
   "source": [
    "loss, accuracy = model.evaluate(val_scaled, val_target)\n",
    "print(loss, accuracy)"
   ],
   "outputs": [
    {
     "name": "stdout",
     "output_type": "stream",
     "text": [
      "\u001B[1m375/375\u001B[0m \u001B[32m━━━━━━━━━━━━━━━━━━━━\u001B[0m\u001B[37m\u001B[0m \u001B[1m0s\u001B[0m 374us/step - accuracy: 0.8864 - loss: 0.3182\n",
      "0.320815771818161 0.8833333253860474\n"
     ]
    }
   ],
   "execution_count": 111
  },
  {
   "cell_type": "markdown",
   "metadata": {
    "id": "qAi41rBTdk7k"
   },
   "source": [
    "### Sequencial 생성자에 직접\n",
    "\n",
    "모델을 훈련하기 전에 Seqeuntial 클래스에 층을 추가하는 다른 방법을 알아보자. 다음처럼 Sequential 클래스의 생성자 안에서 바로 Dense 클래스의 객체를 만드는 경우가 많다."
   ]
  },
  {
   "cell_type": "code",
   "metadata": {
    "executionInfo": {
     "elapsed": 67,
     "status": "ok",
     "timestamp": 1753350137909,
     "user": {
      "displayName": "ihan",
      "userId": "16117014847748292320"
     },
     "user_tz": -540
    },
    "id": "0XeV6V4ha3I8",
    "ExecuteTime": {
     "end_time": "2025-07-24T09:53:23.756085Z",
     "start_time": "2025-07-24T09:53:23.750176Z"
    }
   },
   "source": [
    "model = keras.Sequential([\n",
    "    keras.layers.Input((784,)),\n",
    "    keras.layers.Dense(100, activation='sigmoid', name='hidden'),\n",
    "    keras.layers.Dense(10, activation='softmax', name='output')\n",
    "], name=\"패션 MNIST\")"
   ],
   "outputs": [],
   "execution_count": 112
  },
  {
   "cell_type": "markdown",
   "metadata": {
    "id": "kD2eBzcoZiBm"
   },
   "source": [
    "위와 같이 작업하면 아래처럼 추가되는 층을 한눈에 쉽게 알아보는 장점이 있다. 모델의 이름과 달리 층의 이름은 반드시 영문이어야 한다."
   ]
  },
  {
   "cell_type": "code",
   "metadata": {
    "colab": {
     "base_uri": "https://localhost:8080/",
     "height": 194
    },
    "executionInfo": {
     "elapsed": 19,
     "status": "ok",
     "timestamp": 1753350137910,
     "user": {
      "displayName": "ihan",
      "userId": "16117014847748292320"
     },
     "user_tz": -540
    },
    "id": "bwXDLSOWbm3L",
    "outputId": "9114ed99-97d3-451b-b5eb-8dd73c02ecb2",
    "ExecuteTime": {
     "end_time": "2025-07-24T09:53:23.768856Z",
     "start_time": "2025-07-24T09:53:23.763554Z"
    }
   },
   "source": [
    "model.summary()"
   ],
   "outputs": [
    {
     "data": {
      "text/plain": [
       "\u001B[1mModel: \"패션 MNIST\"\u001B[0m\n"
      ],
      "text/html": [
       "<pre style=\"white-space:pre;overflow-x:auto;line-height:normal;font-family:Menlo,'DejaVu Sans Mono',consolas,'Courier New',monospace\"><span style=\"font-weight: bold\">Model: \"패션 MNIST\"</span>\n",
       "</pre>\n"
      ]
     },
     "metadata": {},
     "output_type": "display_data"
    },
    {
     "data": {
      "text/plain": [
       "┏━━━━━━━━━━━━━━━━━━━━━━━━━━━━━━━━━┳━━━━━━━━━━━━━━━━━━━━━━━━┳━━━━━━━━━━━━━━━┓\n",
       "┃\u001B[1m \u001B[0m\u001B[1mLayer (type)                   \u001B[0m\u001B[1m \u001B[0m┃\u001B[1m \u001B[0m\u001B[1mOutput Shape          \u001B[0m\u001B[1m \u001B[0m┃\u001B[1m \u001B[0m\u001B[1m      Param #\u001B[0m\u001B[1m \u001B[0m┃\n",
       "┡━━━━━━━━━━━━━━━━━━━━━━━━━━━━━━━━━╇━━━━━━━━━━━━━━━━━━━━━━━━╇━━━━━━━━━━━━━━━┩\n",
       "│ hidden (\u001B[38;5;33mDense\u001B[0m)                  │ (\u001B[38;5;45mNone\u001B[0m, \u001B[38;5;34m100\u001B[0m)            │        \u001B[38;5;34m78,500\u001B[0m │\n",
       "├─────────────────────────────────┼────────────────────────┼───────────────┤\n",
       "│ output (\u001B[38;5;33mDense\u001B[0m)                  │ (\u001B[38;5;45mNone\u001B[0m, \u001B[38;5;34m10\u001B[0m)             │         \u001B[38;5;34m1,010\u001B[0m │\n",
       "└─────────────────────────────────┴────────────────────────┴───────────────┘\n"
      ],
      "text/html": [
       "<pre style=\"white-space:pre;overflow-x:auto;line-height:normal;font-family:Menlo,'DejaVu Sans Mono',consolas,'Courier New',monospace\">┏━━━━━━━━━━━━━━━━━━━━━━━━━━━━━━━━━┳━━━━━━━━━━━━━━━━━━━━━━━━┳━━━━━━━━━━━━━━━┓\n",
       "┃<span style=\"font-weight: bold\"> Layer (type)                    </span>┃<span style=\"font-weight: bold\"> Output Shape           </span>┃<span style=\"font-weight: bold\">       Param # </span>┃\n",
       "┡━━━━━━━━━━━━━━━━━━━━━━━━━━━━━━━━━╇━━━━━━━━━━━━━━━━━━━━━━━━╇━━━━━━━━━━━━━━━┩\n",
       "│ hidden (<span style=\"color: #0087ff; text-decoration-color: #0087ff\">Dense</span>)                  │ (<span style=\"color: #00d7ff; text-decoration-color: #00d7ff\">None</span>, <span style=\"color: #00af00; text-decoration-color: #00af00\">100</span>)            │        <span style=\"color: #00af00; text-decoration-color: #00af00\">78,500</span> │\n",
       "├─────────────────────────────────┼────────────────────────┼───────────────┤\n",
       "│ output (<span style=\"color: #0087ff; text-decoration-color: #0087ff\">Dense</span>)                  │ (<span style=\"color: #00d7ff; text-decoration-color: #00d7ff\">None</span>, <span style=\"color: #00af00; text-decoration-color: #00af00\">10</span>)             │         <span style=\"color: #00af00; text-decoration-color: #00af00\">1,010</span> │\n",
       "└─────────────────────────────────┴────────────────────────┴───────────────┘\n",
       "</pre>\n"
      ]
     },
     "metadata": {},
     "output_type": "display_data"
    },
    {
     "data": {
      "text/plain": [
       "\u001B[1m Total params: \u001B[0m\u001B[38;5;34m79,510\u001B[0m (310.59 KB)\n"
      ],
      "text/html": [
       "<pre style=\"white-space:pre;overflow-x:auto;line-height:normal;font-family:Menlo,'DejaVu Sans Mono',consolas,'Courier New',monospace\"><span style=\"font-weight: bold\"> Total params: </span><span style=\"color: #00af00; text-decoration-color: #00af00\">79,510</span> (310.59 KB)\n",
       "</pre>\n"
      ]
     },
     "metadata": {},
     "output_type": "display_data"
    },
    {
     "data": {
      "text/plain": [
       "\u001B[1m Trainable params: \u001B[0m\u001B[38;5;34m79,510\u001B[0m (310.59 KB)\n"
      ],
      "text/html": [
       "<pre style=\"white-space:pre;overflow-x:auto;line-height:normal;font-family:Menlo,'DejaVu Sans Mono',consolas,'Courier New',monospace\"><span style=\"font-weight: bold\"> Trainable params: </span><span style=\"color: #00af00; text-decoration-color: #00af00\">79,510</span> (310.59 KB)\n",
       "</pre>\n"
      ]
     },
     "metadata": {},
     "output_type": "display_data"
    },
    {
     "data": {
      "text/plain": [
       "\u001B[1m Non-trainable params: \u001B[0m\u001B[38;5;34m0\u001B[0m (0.00 B)\n"
      ],
      "text/html": [
       "<pre style=\"white-space:pre;overflow-x:auto;line-height:normal;font-family:Menlo,'DejaVu Sans Mono',consolas,'Courier New',monospace\"><span style=\"font-weight: bold\"> Non-trainable params: </span><span style=\"color: #00af00; text-decoration-color: #00af00\">0</span> (0.00 B)\n",
       "</pre>\n"
      ]
     },
     "metadata": {},
     "output_type": "display_data"
    }
   ],
   "execution_count": 113
  },
  {
   "cell_type": "markdown",
   "metadata": {
    "id": "HiBpp_KNZiBn"
   },
   "source": [
    "2개의 Dense 층이 이전과 동일하게 추가되었고 파라미터 개수도 같다. 바뀐 것은 모델 이름과 층 이름이다. 여러 모델과 많은 층을 사용할 때 name 매개변수를 구분하기 쉽다. 이 방법이 편리하지만 아주 많은 층을 추가하려면 Sequential 클래스 생성자가 매우 길어진다. 또 조건에 따라 층을 추가할 수도 없다."
   ]
  },
  {
   "cell_type": "markdown",
   "metadata": {
    "id": "4DIs2ZyhZiBn"
   },
   "source": [
    "### Sequencial.add()로 구성하기\n",
    "\n",
    "Sequential 클래스에서 층을 추가할 때 가장 널리 사용하는 방법은 모델의 add() 메서드이다."
   ]
  },
  {
   "cell_type": "code",
   "metadata": {
    "executionInfo": {
     "elapsed": 1,
     "status": "ok",
     "timestamp": 1753350137911,
     "user": {
      "displayName": "ihan",
      "userId": "16117014847748292320"
     },
     "user_tz": -540
    },
    "id": "yZSAxgZCbax7",
    "ExecuteTime": {
     "end_time": "2025-07-24T09:53:23.811907Z",
     "start_time": "2025-07-24T09:53:23.794780Z"
    }
   },
   "source": [
    "model = keras.Sequential(name=\"패션 MNIST\")\n",
    "model.add(keras.layers.Input((784,)))\n",
    "model.add(keras.layers.Dense(100, activation='sigmoid', name='hidden'))\n",
    "model.add(keras.layers.Dense(10, activation='softmax', name='output'))"
   ],
   "outputs": [],
   "execution_count": 114
  },
  {
   "cell_type": "markdown",
   "metadata": {
    "id": "u197iOwBZiBn"
   },
   "source": [
    "여기에서도 Dense 클래스의 객체를 따로 변수에 담지 않고 바로 add() 메서드로 전달한다. 이 방법은 한눈에 추가되는 층을 볼 수 있고 프로그램 실행 시 동적으로 층을 선택하여 추가할 수 있다."
   ]
  },
  {
   "cell_type": "code",
   "metadata": {
    "colab": {
     "base_uri": "https://localhost:8080/",
     "height": 194
    },
    "executionInfo": {
     "elapsed": 47,
     "status": "ok",
     "timestamp": 1753350137958,
     "user": {
      "displayName": "ihan",
      "userId": "16117014847748292320"
     },
     "user_tz": -540
    },
    "id": "bW2coaNQboe5",
    "outputId": "5c46e442-5455-493b-8134-8b1aa1e9bdc2",
    "ExecuteTime": {
     "end_time": "2025-07-24T09:53:23.828362Z",
     "start_time": "2025-07-24T09:53:23.822880Z"
    }
   },
   "source": [
    "model.summary()"
   ],
   "outputs": [
    {
     "data": {
      "text/plain": [
       "\u001B[1mModel: \"패션 MNIST\"\u001B[0m\n"
      ],
      "text/html": [
       "<pre style=\"white-space:pre;overflow-x:auto;line-height:normal;font-family:Menlo,'DejaVu Sans Mono',consolas,'Courier New',monospace\"><span style=\"font-weight: bold\">Model: \"패션 MNIST\"</span>\n",
       "</pre>\n"
      ]
     },
     "metadata": {},
     "output_type": "display_data"
    },
    {
     "data": {
      "text/plain": [
       "┏━━━━━━━━━━━━━━━━━━━━━━━━━━━━━━━━━┳━━━━━━━━━━━━━━━━━━━━━━━━┳━━━━━━━━━━━━━━━┓\n",
       "┃\u001B[1m \u001B[0m\u001B[1mLayer (type)                   \u001B[0m\u001B[1m \u001B[0m┃\u001B[1m \u001B[0m\u001B[1mOutput Shape          \u001B[0m\u001B[1m \u001B[0m┃\u001B[1m \u001B[0m\u001B[1m      Param #\u001B[0m\u001B[1m \u001B[0m┃\n",
       "┡━━━━━━━━━━━━━━━━━━━━━━━━━━━━━━━━━╇━━━━━━━━━━━━━━━━━━━━━━━━╇━━━━━━━━━━━━━━━┩\n",
       "│ hidden (\u001B[38;5;33mDense\u001B[0m)                  │ (\u001B[38;5;45mNone\u001B[0m, \u001B[38;5;34m100\u001B[0m)            │        \u001B[38;5;34m78,500\u001B[0m │\n",
       "├─────────────────────────────────┼────────────────────────┼───────────────┤\n",
       "│ output (\u001B[38;5;33mDense\u001B[0m)                  │ (\u001B[38;5;45mNone\u001B[0m, \u001B[38;5;34m10\u001B[0m)             │         \u001B[38;5;34m1,010\u001B[0m │\n",
       "└─────────────────────────────────┴────────────────────────┴───────────────┘\n"
      ],
      "text/html": [
       "<pre style=\"white-space:pre;overflow-x:auto;line-height:normal;font-family:Menlo,'DejaVu Sans Mono',consolas,'Courier New',monospace\">┏━━━━━━━━━━━━━━━━━━━━━━━━━━━━━━━━━┳━━━━━━━━━━━━━━━━━━━━━━━━┳━━━━━━━━━━━━━━━┓\n",
       "┃<span style=\"font-weight: bold\"> Layer (type)                    </span>┃<span style=\"font-weight: bold\"> Output Shape           </span>┃<span style=\"font-weight: bold\">       Param # </span>┃\n",
       "┡━━━━━━━━━━━━━━━━━━━━━━━━━━━━━━━━━╇━━━━━━━━━━━━━━━━━━━━━━━━╇━━━━━━━━━━━━━━━┩\n",
       "│ hidden (<span style=\"color: #0087ff; text-decoration-color: #0087ff\">Dense</span>)                  │ (<span style=\"color: #00d7ff; text-decoration-color: #00d7ff\">None</span>, <span style=\"color: #00af00; text-decoration-color: #00af00\">100</span>)            │        <span style=\"color: #00af00; text-decoration-color: #00af00\">78,500</span> │\n",
       "├─────────────────────────────────┼────────────────────────┼───────────────┤\n",
       "│ output (<span style=\"color: #0087ff; text-decoration-color: #0087ff\">Dense</span>)                  │ (<span style=\"color: #00d7ff; text-decoration-color: #00d7ff\">None</span>, <span style=\"color: #00af00; text-decoration-color: #00af00\">10</span>)             │         <span style=\"color: #00af00; text-decoration-color: #00af00\">1,010</span> │\n",
       "└─────────────────────────────────┴────────────────────────┴───────────────┘\n",
       "</pre>\n"
      ]
     },
     "metadata": {},
     "output_type": "display_data"
    },
    {
     "data": {
      "text/plain": [
       "\u001B[1m Total params: \u001B[0m\u001B[38;5;34m79,510\u001B[0m (310.59 KB)\n"
      ],
      "text/html": [
       "<pre style=\"white-space:pre;overflow-x:auto;line-height:normal;font-family:Menlo,'DejaVu Sans Mono',consolas,'Courier New',monospace\"><span style=\"font-weight: bold\"> Total params: </span><span style=\"color: #00af00; text-decoration-color: #00af00\">79,510</span> (310.59 KB)\n",
       "</pre>\n"
      ]
     },
     "metadata": {},
     "output_type": "display_data"
    },
    {
     "data": {
      "text/plain": [
       "\u001B[1m Trainable params: \u001B[0m\u001B[38;5;34m79,510\u001B[0m (310.59 KB)\n"
      ],
      "text/html": [
       "<pre style=\"white-space:pre;overflow-x:auto;line-height:normal;font-family:Menlo,'DejaVu Sans Mono',consolas,'Courier New',monospace\"><span style=\"font-weight: bold\"> Trainable params: </span><span style=\"color: #00af00; text-decoration-color: #00af00\">79,510</span> (310.59 KB)\n",
       "</pre>\n"
      ]
     },
     "metadata": {},
     "output_type": "display_data"
    },
    {
     "data": {
      "text/plain": [
       "\u001B[1m Non-trainable params: \u001B[0m\u001B[38;5;34m0\u001B[0m (0.00 B)\n"
      ],
      "text/html": [
       "<pre style=\"white-space:pre;overflow-x:auto;line-height:normal;font-family:Menlo,'DejaVu Sans Mono',consolas,'Courier New',monospace\"><span style=\"font-weight: bold\"> Non-trainable params: </span><span style=\"color: #00af00; text-decoration-color: #00af00\">0</span> (0.00 B)\n",
       "</pre>\n"
      ]
     },
     "metadata": {},
     "output_type": "display_data"
    }
   ],
   "execution_count": 115
  },
  {
   "cell_type": "markdown",
   "metadata": {
    "id": "VbRrqq9EZiBo"
   },
   "source": [
    "### 함수형 모델 선언"
   ]
  },
  {
   "cell_type": "code",
   "metadata": {
    "executionInfo": {
     "elapsed": 32,
     "status": "ok",
     "timestamp": 1753350137960,
     "user": {
      "displayName": "ihan",
      "userId": "16117014847748292320"
     },
     "user_tz": -540
    },
    "id": "xb7Gq_B_ZiBo",
    "ExecuteTime": {
     "end_time": "2025-07-24T09:53:23.868430Z",
     "start_time": "2025-07-24T09:53:23.852522Z"
    }
   },
   "source": [
    "input = keras.layers.Input((784,))\n",
    "hidden = keras.layers.Dense(100, activation='sigmoid')(input)\n",
    "output = keras.layers.Dense(10, activation='softmax')(hidden)\n",
    "\n",
    "model = keras.Model(inputs=input, outputs = output)"
   ],
   "outputs": [],
   "execution_count": 116
  },
  {
   "cell_type": "code",
   "metadata": {
    "colab": {
     "base_uri": "https://localhost:8080/",
     "height": 186
    },
    "executionInfo": {
     "elapsed": 1,
     "status": "ok",
     "timestamp": 1753350137962,
     "user": {
      "displayName": "ihan",
      "userId": "16117014847748292320"
     },
     "user_tz": -540
    },
    "id": "z23X0Uxywx0R",
    "outputId": "e59dcbd6-0a8d-4878-f5df-dd5938574600",
    "ExecuteTime": {
     "end_time": "2025-07-24T09:53:23.881241Z",
     "start_time": "2025-07-24T09:53:23.878947Z"
    }
   },
   "source": [
    "type(hidden)"
   ],
   "outputs": [
    {
     "data": {
      "text/plain": [
       "keras.src.backend.common.keras_tensor.KerasTensor"
      ]
     },
     "execution_count": 117,
     "metadata": {},
     "output_type": "execute_result"
    }
   ],
   "execution_count": 117
  },
  {
   "cell_type": "code",
   "metadata": {
    "colab": {
     "base_uri": "https://localhost:8080/",
     "height": 186
    },
    "executionInfo": {
     "elapsed": 17,
     "status": "ok",
     "timestamp": 1753350137980,
     "user": {
      "displayName": "ihan",
      "userId": "16117014847748292320"
     },
     "user_tz": -540
    },
    "id": "vovhrSiNxKxA",
    "outputId": "687fcb19-90f0-49ca-d1c9-d81fd6a11446",
    "ExecuteTime": {
     "end_time": "2025-07-24T09:53:23.901343Z",
     "start_time": "2025-07-24T09:53:23.899264Z"
    }
   },
   "source": [
    "type(model)"
   ],
   "outputs": [
    {
     "data": {
      "text/plain": [
       "keras.src.models.functional.Functional"
      ]
     },
     "execution_count": 118,
     "metadata": {},
     "output_type": "execute_result"
    }
   ],
   "execution_count": 118
  },
  {
   "cell_type": "markdown",
   "metadata": {
    "id": "gut8A_7rCaW6"
   },
   "source": [
    "## (3)모델 컴파일 과 훈련\n",
    "\n",
    "모델의 [*컴파일*](https://www.tensorflow.org/api_docs/python/tf/keras/Model#compile)\n",
    "\n",
    "```Python\n",
    "def compile(\n",
    "    optimizer: str = \"rmsprop\",\n",
    "    loss: Any | None = None,\n",
    "    loss_weights: Any | None = None,\n",
    "    metrics: Any | None = None,\n",
    "    weighted_metrics: Any | None = None,\n",
    "    run_eagerly: bool = False,\n",
    "    steps_per_execution: int = 1,\n",
    "    jit_compile: str = \"auto\",\n",
    "    auto_scale_loss: bool = True\n",
    ")\n",
    "```\n",
    "\n",
    "\n",
    "- [*손실 함수*](https://www.tensorflow.org/api_docs/python/tf/keras/losses) - 훈련 중 모델이 얼마나 정확한지 측정합니다. 모델을 올바른 방향으로 \"조정\"하려면 이 함수를 최소화해야 합니다.\n",
    "- [*옵티마이저*](https://www.tensorflow.org/api_docs/python/tf/keras/optimizers) - 모델이 인식하는 데이터와 해당 손실 함수를 기반으로 모델이 업데이트되는 방식입니다.\n",
    "- [*메트릭*](https://www.tensorflow.org/api_docs/python/tf/keras/metrics) — 훈련 및 테스트 단계를 모니터링하는 데 사용됩니다. 다음 예에서는 올바르게 분류된 이미지의 비율인 *정확도*를 사용합니다."
   ]
  },
  {
   "cell_type": "markdown",
   "metadata": {
    "id": "SzXGUj-jZiBp"
   },
   "source": [
    "#### -손실함수\n",
    "  -  분류를 위한 손실함수 사용\n",
    "  - 이진 분류에서 이진 크로스 엔트로피 함수를 사용\n",
    "  - 다중 분류에서는 크로스 엔트로피 손실 함수를 사용한다.\n",
    "     - sparse_ 단어는 이진 크로스 엔트로피 손실을 위해 -log(예측확률)에 타깃값(정답)을 곱했다."
   ]
  },
  {
   "cell_type": "markdown",
   "metadata": {
    "id": "XAalEwJvZiBp"
   },
   "source": [
    "#### - Metrics 측정 지표\n",
    "\n",
    "\n",
    " - 케라스는 모델이 훈련할 때 기본으로 에포크마다 손실 값을 출력해 준다.\n",
    " - 손실에 대해 다양한 출력을 위해 metrics 에 지표를 추가\n",
    "    - accuracy\n",
    "    - val_accuracy"
   ]
  },
  {
   "cell_type": "code",
   "metadata": {
    "executionInfo": {
     "elapsed": 1,
     "status": "ok",
     "timestamp": 1753350137981,
     "user": {
      "displayName": "ihan",
      "userId": "16117014847748292320"
     },
     "user_tz": -540
    },
    "id": "C0MFg3OnZiBp",
    "ExecuteTime": {
     "end_time": "2025-07-24T09:53:23.930956Z",
     "start_time": "2025-07-24T09:53:23.928172Z"
    }
   },
   "source": [
    "model.compile(loss=\"sparse_categorical_crossentropy\", metrics=['accuracy'])"
   ],
   "outputs": [],
   "execution_count": 119
  },
  {
   "cell_type": "markdown",
   "metadata": {
    "id": "7JtOZMY2ZiBq"
   },
   "source": [
    "\n",
    "신경망 모델을 훈련하려면 다음 단계가 필요합니다.\n",
    "\n",
    "1. 훈련 데이터를 모델에 주입합니다-이 예에서는 `train_images`와 `train_labels` 배열입니다.\n",
    "2. 모델이 이미지와 레이블을 매핑하는 방법을 배웁니다.\n",
    "3. 테스트 세트에 대한 모델의 예측을 만듭니다-이 예에서는 `test_images` 배열입니다. 이 예측이 `test_labels` 배열의 레이블과 맞는지 확인합니다.\n",
    "4. 예측이 `test_labels` 배열의 레이블과 일치하는지 확인합니다.\n"
   ]
  },
  {
   "cell_type": "markdown",
   "metadata": {
    "id": "0_wUf7AZZiBq"
   },
   "source": [
    "이제 모델을 훈련해 보자 fit() 을 사용한다.\n",
    "\n",
    "```Python\n",
    "def fit(\n",
    "    x: Any | None = None,\n",
    "    y: Any | None = None,\n",
    "    batch_size: Any | None = None,\n",
    "    epochs: int = 1,\n",
    "    callbacks: Any | None = None,\n",
    "    validation_split: float = 0,\n",
    "    validation_data: Any | None = None,\n",
    "    ...\n",
    "```"
   ]
  },
  {
   "cell_type": "markdown",
   "metadata": {
    "id": "kfaJLZrPZiBq"
   },
   "source": [
    "batch_size\n",
    " - 케라스의 기본 미니배치 크기는 32개이다.\n",
    " - fit(batch_size) 매개변수로 바꿀 수 있다."
   ]
  },
  {
   "cell_type": "markdown",
   "metadata": {
    "id": "M2meM-B2ZiBq"
   },
   "source": [
    "epochs\n",
    " - 한 배치가 실행되는 반복 횟수"
   ]
  },
  {
   "cell_type": "code",
   "metadata": {
    "colab": {
     "base_uri": "https://localhost:8080/"
    },
    "executionInfo": {
     "elapsed": 13497,
     "status": "ok",
     "timestamp": 1753350151478,
     "user": {
      "displayName": "ihan",
      "userId": "16117014847748292320"
     },
     "user_tz": -540
    },
    "id": "o8kSau0OZiBq",
    "outputId": "7c249dfb-76c1-46c2-da0f-1a0f0ef61921",
    "ExecuteTime": {
     "end_time": "2025-07-24T09:53:27.626903Z",
     "start_time": "2025-07-24T09:53:23.955341Z"
    }
   },
   "source": [
    "model.fit(train_scaled, train_labels, epochs=5)"
   ],
   "outputs": [
    {
     "name": "stdout",
     "output_type": "stream",
     "text": [
      "Epoch 1/5\n",
      "\u001B[1m1500/1500\u001B[0m \u001B[32m━━━━━━━━━━━━━━━━━━━━\u001B[0m\u001B[37m\u001B[0m \u001B[1m1s\u001B[0m 467us/step - accuracy: 0.7576 - loss: 0.7635\n",
      "Epoch 2/5\n",
      "\u001B[1m1500/1500\u001B[0m \u001B[32m━━━━━━━━━━━━━━━━━━━━\u001B[0m\u001B[37m\u001B[0m \u001B[1m1s\u001B[0m 451us/step - accuracy: 0.8495 - loss: 0.4175\n",
      "Epoch 3/5\n",
      "\u001B[1m1500/1500\u001B[0m \u001B[32m━━━━━━━━━━━━━━━━━━━━\u001B[0m\u001B[37m\u001B[0m \u001B[1m1s\u001B[0m 444us/step - accuracy: 0.8605 - loss: 0.3847\n",
      "Epoch 4/5\n",
      "\u001B[1m1500/1500\u001B[0m \u001B[32m━━━━━━━━━━━━━━━━━━━━\u001B[0m\u001B[37m\u001B[0m \u001B[1m1s\u001B[0m 483us/step - accuracy: 0.8686 - loss: 0.3621\n",
      "Epoch 5/5\n",
      "\u001B[1m1500/1500\u001B[0m \u001B[32m━━━━━━━━━━━━━━━━━━━━\u001B[0m\u001B[37m\u001B[0m \u001B[1m1s\u001B[0m 479us/step - accuracy: 0.8775 - loss: 0.3350\n"
     ]
    },
    {
     "data": {
      "text/plain": [
       "<keras.src.callbacks.history.History at 0x39ac74b50>"
      ]
     },
     "execution_count": 120,
     "metadata": {},
     "output_type": "execute_result"
    }
   ],
   "execution_count": 120
  },
  {
   "cell_type": "markdown",
   "metadata": {
    "id": "Fm1TlmHQZiBq"
   },
   "source": [
    "케라스는 친절하게 에포크마다 걸린 시간과 손실 정확도를 출력해 준다. 5번 반복에 정확도가 85%를 넘었다.\n",
    "\n",
    "Keras 는 신경망에 몇 개의 층을 추가하더라도 compile() 메서드와 fit() 메서드의 사용법은 동일하다. 이것이 케라스 API의 장점이다."
   ]
  },
  {
   "cell_type": "markdown",
   "metadata": {
    "id": "d6wtvDvrZiBr"
   },
   "source": [
    "\n",
    "\n",
    "그럼 앞서 따로 떼어놓은 검증 세트에서 모델의 성능을 확인해 보자. 케라스에서 모델의 성능을 평가하는 메서드는 evaluate() 메서드이다."
   ]
  },
  {
   "cell_type": "code",
   "metadata": {
    "colab": {
     "base_uri": "https://localhost:8080/"
    },
    "executionInfo": {
     "elapsed": 566,
     "status": "ok",
     "timestamp": 1753350152047,
     "user": {
      "displayName": "ihan",
      "userId": "16117014847748292320"
     },
     "user_tz": -540
    },
    "id": "9Q9TYWhqZiBr",
    "outputId": "a0144375-f966-4440-f453-68fc10ccd85b",
    "ExecuteTime": {
     "end_time": "2025-07-24T09:53:27.827742Z",
     "start_time": "2025-07-24T09:53:27.642436Z"
    }
   },
   "source": [
    "loss, accuracy = model.evaluate(val_scaled, val_target)\n",
    "print(loss, accuracy)"
   ],
   "outputs": [
    {
     "name": "stdout",
     "output_type": "stream",
     "text": [
      "\u001B[1m375/375\u001B[0m \u001B[32m━━━━━━━━━━━━━━━━━━━━\u001B[0m\u001B[37m\u001B[0m \u001B[1m0s\u001B[0m 351us/step - accuracy: 0.8744 - loss: 0.3510\n",
      "0.35312750935554504 0.8725833296775818\n"
     ]
    }
   ],
   "execution_count": 121
  },
  {
   "cell_type": "markdown",
   "metadata": {
    "id": "J7gPwuumZiBr"
   },
   "source": [
    "비교군인 로지스틱회귀 결과에 비해서도 높게 나온다"
   ]
  },
  {
   "cell_type": "markdown",
   "metadata": {
    "id": "2wOFX2p9ZiBr"
   },
   "source": [
    "# 3.Flatten 층 사용 모델 만들기\n",
    "\n",
    "모델의 출력을 구성하기  Full connected layer 를 구성하면 이전에는 Flatten layer를 통해서 3차원이었던 벡터를 1차원으로 shape을 바꿔주었다.\n",
    "\n",
    "패션 MNIST 데이터는 28 x 28 크기이기 때문에 인공 신경망에 주입하기 위해 넘파이 배열의 reshape() 메서드를 사용해 1차원으로 펼쳤다. 직접 이렇게 1차원으로 펼쳐도 좋지만 케라스에서는 이를 위한 Flatten 층을 제공한다."
   ]
  },
  {
   "cell_type": "markdown",
   "metadata": {
    "id": "-Ymblmk7ZiBr"
   },
   "source": [
    "\n",
    "<img src='https://velog.velcdn.com/images%2Foch9854%2Fpost%2F6e230814-c1c6-49e3-a853-4f89a72d0ca6%2Fimage.png' width=500>"
   ]
  },
  {
   "cell_type": "markdown",
   "metadata": {
    "id": "rC4TLwOLZiBr"
   },
   "source": [
    "### - Flatten 클래스\n",
    "\n",
    "사실 Flatten 클래스는 배치 차원을 제외하고 나머지 입력 차원을 모두 일렬로 펼치는 역할만 한다. 입력에 곱해지는 가중치나 절편이 없다. 따라서 인공 신경망의 성능을 위해 기여하는 바는 없다. 하지만 Flatten 클래스를 층처럼 입력층과 은닉층 사이에 추가하기 때문에 이를 층이라 부른다."
   ]
  },
  {
   "cell_type": "code",
   "metadata": {
    "executionInfo": {
     "elapsed": 16,
     "status": "ok",
     "timestamp": 1753350152076,
     "user": {
      "displayName": "ihan",
      "userId": "16117014847748292320"
     },
     "user_tz": -540
    },
    "id": "C_s91-LcZiBs",
    "ExecuteTime": {
     "end_time": "2025-07-24T09:53:27.844801Z",
     "start_time": "2025-07-24T09:53:27.835831Z"
    }
   },
   "source": [
    "model = keras.Sequential()\n",
    "model.add(keras.layers.Input((28, 28)))\n",
    "# flatten layer\n",
    "model.add(keras.layers.Flatten())\n",
    "model.add(keras.layers.Dense(100, activation='relu'))\n",
    "model.add(keras.layers.Dense(10, activation='softmax'))"
   ],
   "outputs": [],
   "execution_count": 122
  },
  {
   "cell_type": "markdown",
   "metadata": {
    "id": "_dfXJDhwcyAK"
   },
   "source": [
    "### - ReLU 활성화 함수\n",
    "\n",
    "초창기 인공 신경망의 은닉층에 많이 사용된 활성화 함수는 시그모이드 함수였다. 하지만 이 함수에는 단점이 있다. 이 함수의 오른쪽과 왼쪽 끝으로 갈수록 그래프가 누워있기 때문에 올바른 출력을 만드는데 신속하게 대응하지 못한다.\n",
    "\n",
    "특히 층이 많은 심층 신경망일수록 그 효과가 누적되어 학습을 더 어렵게 만든다. 이를 개선하기 위해 다른 종류의 활성화 함수가 제안되었다. 바로 렐루 함수이다. 렐루 함수는 아주 간단하다. 입력이 양수일 경우 마치 활성화 함수가 없는 것처럼 그냥 입력을 통과시키고 음수일 경우에는 0으로 만든다.\n"
   ]
  },
  {
   "cell_type": "markdown",
   "metadata": {
    "id": "VKbxhdO9ZiBs"
   },
   "source": [
    "\n",
    "<img src='https://i.sstatic.net/itkXP.png' width=500>\n",
    "\n",
    "렐루 함수는 max(0,z)와 같이 쓸 수 있다. 이 함수는 z가 0보다 크면 z를 출력하고 z가 0보다 작으면 0을 출력한다. 렐루 함수는 특히 이미지 처리에서 좋은 성능을 낸다고 알려져 있다.\n",
    "\n",
    "은닉층의 활성화 함수에 시그모이드 함수 대신 렐루 함수를 적용하기 전에 케라스에서 제공하는 편리한 층 하나를 더 살펴보자.\n"
   ]
  },
  {
   "cell_type": "code",
   "metadata": {
    "colab": {
     "base_uri": "https://localhost:8080/",
     "height": 225
    },
    "executionInfo": {
     "elapsed": 39,
     "status": "ok",
     "timestamp": 1753350152118,
     "user": {
      "displayName": "ihan",
      "userId": "16117014847748292320"
     },
     "user_tz": -540
    },
    "id": "zHogWhu6g90a",
    "outputId": "89c4d291-81e6-41a3-f5ae-e656ff1cadd9",
    "ExecuteTime": {
     "end_time": "2025-07-24T09:53:27.856823Z",
     "start_time": "2025-07-24T09:53:27.851708Z"
    }
   },
   "source": [
    "model.summary()"
   ],
   "outputs": [
    {
     "data": {
      "text/plain": [
       "\u001B[1mModel: \"sequential_8\"\u001B[0m\n"
      ],
      "text/html": [
       "<pre style=\"white-space:pre;overflow-x:auto;line-height:normal;font-family:Menlo,'DejaVu Sans Mono',consolas,'Courier New',monospace\"><span style=\"font-weight: bold\">Model: \"sequential_8\"</span>\n",
       "</pre>\n"
      ]
     },
     "metadata": {},
     "output_type": "display_data"
    },
    {
     "data": {
      "text/plain": [
       "┏━━━━━━━━━━━━━━━━━━━━━━━━━━━━━━━━━┳━━━━━━━━━━━━━━━━━━━━━━━━┳━━━━━━━━━━━━━━━┓\n",
       "┃\u001B[1m \u001B[0m\u001B[1mLayer (type)                   \u001B[0m\u001B[1m \u001B[0m┃\u001B[1m \u001B[0m\u001B[1mOutput Shape          \u001B[0m\u001B[1m \u001B[0m┃\u001B[1m \u001B[0m\u001B[1m      Param #\u001B[0m\u001B[1m \u001B[0m┃\n",
       "┡━━━━━━━━━━━━━━━━━━━━━━━━━━━━━━━━━╇━━━━━━━━━━━━━━━━━━━━━━━━╇━━━━━━━━━━━━━━━┩\n",
       "│ flatten_6 (\u001B[38;5;33mFlatten\u001B[0m)             │ (\u001B[38;5;45mNone\u001B[0m, \u001B[38;5;34m784\u001B[0m)            │             \u001B[38;5;34m0\u001B[0m │\n",
       "├─────────────────────────────────┼────────────────────────┼───────────────┤\n",
       "│ dense_20 (\u001B[38;5;33mDense\u001B[0m)                │ (\u001B[38;5;45mNone\u001B[0m, \u001B[38;5;34m100\u001B[0m)            │        \u001B[38;5;34m78,500\u001B[0m │\n",
       "├─────────────────────────────────┼────────────────────────┼───────────────┤\n",
       "│ dense_21 (\u001B[38;5;33mDense\u001B[0m)                │ (\u001B[38;5;45mNone\u001B[0m, \u001B[38;5;34m10\u001B[0m)             │         \u001B[38;5;34m1,010\u001B[0m │\n",
       "└─────────────────────────────────┴────────────────────────┴───────────────┘\n"
      ],
      "text/html": [
       "<pre style=\"white-space:pre;overflow-x:auto;line-height:normal;font-family:Menlo,'DejaVu Sans Mono',consolas,'Courier New',monospace\">┏━━━━━━━━━━━━━━━━━━━━━━━━━━━━━━━━━┳━━━━━━━━━━━━━━━━━━━━━━━━┳━━━━━━━━━━━━━━━┓\n",
       "┃<span style=\"font-weight: bold\"> Layer (type)                    </span>┃<span style=\"font-weight: bold\"> Output Shape           </span>┃<span style=\"font-weight: bold\">       Param # </span>┃\n",
       "┡━━━━━━━━━━━━━━━━━━━━━━━━━━━━━━━━━╇━━━━━━━━━━━━━━━━━━━━━━━━╇━━━━━━━━━━━━━━━┩\n",
       "│ flatten_6 (<span style=\"color: #0087ff; text-decoration-color: #0087ff\">Flatten</span>)             │ (<span style=\"color: #00d7ff; text-decoration-color: #00d7ff\">None</span>, <span style=\"color: #00af00; text-decoration-color: #00af00\">784</span>)            │             <span style=\"color: #00af00; text-decoration-color: #00af00\">0</span> │\n",
       "├─────────────────────────────────┼────────────────────────┼───────────────┤\n",
       "│ dense_20 (<span style=\"color: #0087ff; text-decoration-color: #0087ff\">Dense</span>)                │ (<span style=\"color: #00d7ff; text-decoration-color: #00d7ff\">None</span>, <span style=\"color: #00af00; text-decoration-color: #00af00\">100</span>)            │        <span style=\"color: #00af00; text-decoration-color: #00af00\">78,500</span> │\n",
       "├─────────────────────────────────┼────────────────────────┼───────────────┤\n",
       "│ dense_21 (<span style=\"color: #0087ff; text-decoration-color: #0087ff\">Dense</span>)                │ (<span style=\"color: #00d7ff; text-decoration-color: #00d7ff\">None</span>, <span style=\"color: #00af00; text-decoration-color: #00af00\">10</span>)             │         <span style=\"color: #00af00; text-decoration-color: #00af00\">1,010</span> │\n",
       "└─────────────────────────────────┴────────────────────────┴───────────────┘\n",
       "</pre>\n"
      ]
     },
     "metadata": {},
     "output_type": "display_data"
    },
    {
     "data": {
      "text/plain": [
       "\u001B[1m Total params: \u001B[0m\u001B[38;5;34m79,510\u001B[0m (310.59 KB)\n"
      ],
      "text/html": [
       "<pre style=\"white-space:pre;overflow-x:auto;line-height:normal;font-family:Menlo,'DejaVu Sans Mono',consolas,'Courier New',monospace\"><span style=\"font-weight: bold\"> Total params: </span><span style=\"color: #00af00; text-decoration-color: #00af00\">79,510</span> (310.59 KB)\n",
       "</pre>\n"
      ]
     },
     "metadata": {},
     "output_type": "display_data"
    },
    {
     "data": {
      "text/plain": [
       "\u001B[1m Trainable params: \u001B[0m\u001B[38;5;34m79,510\u001B[0m (310.59 KB)\n"
      ],
      "text/html": [
       "<pre style=\"white-space:pre;overflow-x:auto;line-height:normal;font-family:Menlo,'DejaVu Sans Mono',consolas,'Courier New',monospace\"><span style=\"font-weight: bold\"> Trainable params: </span><span style=\"color: #00af00; text-decoration-color: #00af00\">79,510</span> (310.59 KB)\n",
       "</pre>\n"
      ]
     },
     "metadata": {},
     "output_type": "display_data"
    },
    {
     "data": {
      "text/plain": [
       "\u001B[1m Non-trainable params: \u001B[0m\u001B[38;5;34m0\u001B[0m (0.00 B)\n"
      ],
      "text/html": [
       "<pre style=\"white-space:pre;overflow-x:auto;line-height:normal;font-family:Menlo,'DejaVu Sans Mono',consolas,'Courier New',monospace\"><span style=\"font-weight: bold\"> Non-trainable params: </span><span style=\"color: #00af00; text-decoration-color: #00af00\">0</span> (0.00 B)\n",
       "</pre>\n"
      ]
     },
     "metadata": {},
     "output_type": "display_data"
    }
   ],
   "execution_count": 123
  },
  {
   "cell_type": "markdown",
   "metadata": {
    "id": "IHfP0E5QZiBt"
   },
   "source": [
    "첫 번째 등장하는 Flatten 클래스에 포함된 모델 파라미터는 0개이다. 케라스의 Flatten 층을 신경망 모델에 추가하면 입력값의 차원을 짐작할 수 있는 것이 또 하나의 장점이다. 앞의 출력에서 784개의 입력이 첫 번째 은닉층에 전달된다는 것을 알 수 있다. 이는 이전에 만들었던 모델에서는 쉽게 눈치채기 어려웠다. 입력 데이터에 대한 전처리 과정을 가능한 모델에 포함시키는 것이 케라스 API의 철학 중 하나이다."
   ]
  },
  {
   "cell_type": "code",
   "metadata": {
    "executionInfo": {
     "elapsed": 275,
     "status": "ok",
     "timestamp": 1753350152394,
     "user": {
      "displayName": "ihan",
      "userId": "16117014847748292320"
     },
     "user_tz": -540
    },
    "id": "JfPe_ruQdhqA",
    "ExecuteTime": {
     "end_time": "2025-07-24T09:53:28.038853Z",
     "start_time": "2025-07-24T09:53:27.875820Z"
    }
   },
   "source": [
    "(train_images, train_labels), (test_images, test_labels) = \\\n",
    "    keras.datasets.fashion_mnist.load_data()"
   ],
   "outputs": [],
   "execution_count": 124
  },
  {
   "cell_type": "code",
   "metadata": {
    "executionInfo": {
     "elapsed": 64,
     "status": "ok",
     "timestamp": 1753350152461,
     "user": {
      "displayName": "ihan",
      "userId": "16117014847748292320"
     },
     "user_tz": -540
    },
    "id": "9PGejuuhdvvk",
    "ExecuteTime": {
     "end_time": "2025-07-24T09:53:28.083684Z",
     "start_time": "2025-07-24T09:53:28.046321Z"
    }
   },
   "source": [
    "train_scaled = train_images / 255.0"
   ],
   "outputs": [],
   "execution_count": 125
  },
  {
   "cell_type": "code",
   "metadata": {
    "executionInfo": {
     "elapsed": 67,
     "status": "ok",
     "timestamp": 1753350152529,
     "user": {
      "displayName": "ihan",
      "userId": "16117014847748292320"
     },
     "user_tz": -540
    },
    "id": "EF4c8Z671Gb3",
    "ExecuteTime": {
     "end_time": "2025-07-24T09:53:28.141390Z",
     "start_time": "2025-07-24T09:53:28.091099Z"
    }
   },
   "source": [
    "train_scaled, val_scaled, train_labels, val_labels = train_test_split(\n",
    "    train_scaled, train_labels, test_size=0.2, random_state=42)"
   ],
   "outputs": [],
   "execution_count": 126
  },
  {
   "cell_type": "code",
   "metadata": {
    "executionInfo": {
     "elapsed": 12,
     "status": "ok",
     "timestamp": 1753350152543,
     "user": {
      "displayName": "ihan",
      "userId": "16117014847748292320"
     },
     "user_tz": -540
    },
    "id": "lgsBEREz1OWw",
    "ExecuteTime": {
     "end_time": "2025-07-24T09:53:28.151712Z",
     "start_time": "2025-07-24T09:53:28.148692Z"
    }
   },
   "source": [
    "model.compile(loss='sparse_categorical_crossentropy', metrics=['accuracy'])"
   ],
   "outputs": [],
   "execution_count": 127
  },
  {
   "cell_type": "markdown",
   "metadata": {
    "id": "mfc_AP1ArH1k"
   },
   "source": []
  },
  {
   "cell_type": "code",
   "metadata": {
    "colab": {
     "base_uri": "https://localhost:8080/"
    },
    "executionInfo": {
     "elapsed": 18379,
     "status": "ok",
     "timestamp": 1753350170925,
     "user": {
      "displayName": "ihan",
      "userId": "16117014847748292320"
     },
     "user_tz": -540
    },
    "id": "zRBgLjEdZiBt",
    "outputId": "7d5bcf18-4c13-492b-bb85-ce0633689273",
    "ExecuteTime": {
     "end_time": "2025-07-24T09:53:31.834177Z",
     "start_time": "2025-07-24T09:53:28.160457Z"
    }
   },
   "source": [
    "history = model.fit(train_scaled, train_labels, epochs=5, validation_split=.2)"
   ],
   "outputs": [
    {
     "name": "stdout",
     "output_type": "stream",
     "text": [
      "Epoch 1/5\n",
      "\u001B[1m1200/1200\u001B[0m \u001B[32m━━━━━━━━━━━━━━━━━━━━\u001B[0m\u001B[37m\u001B[0m \u001B[1m1s\u001B[0m 711us/step - accuracy: 0.7605 - loss: 0.6999 - val_accuracy: 0.8142 - val_loss: 0.4951\n",
      "Epoch 2/5\n",
      "\u001B[1m1200/1200\u001B[0m \u001B[32m━━━━━━━━━━━━━━━━━━━━\u001B[0m\u001B[37m\u001B[0m \u001B[1m1s\u001B[0m 550us/step - accuracy: 0.8479 - loss: 0.4238 - val_accuracy: 0.8452 - val_loss: 0.4085\n",
      "Epoch 3/5\n",
      "\u001B[1m1200/1200\u001B[0m \u001B[32m━━━━━━━━━━━━━━━━━━━━\u001B[0m\u001B[37m\u001B[0m \u001B[1m1s\u001B[0m 539us/step - accuracy: 0.8661 - loss: 0.3720 - val_accuracy: 0.8436 - val_loss: 0.4312\n",
      "Epoch 4/5\n",
      "\u001B[1m1200/1200\u001B[0m \u001B[32m━━━━━━━━━━━━━━━━━━━━\u001B[0m\u001B[37m\u001B[0m \u001B[1m1s\u001B[0m 551us/step - accuracy: 0.8791 - loss: 0.3481 - val_accuracy: 0.8532 - val_loss: 0.3970\n",
      "Epoch 5/5\n",
      "\u001B[1m1200/1200\u001B[0m \u001B[32m━━━━━━━━━━━━━━━━━━━━\u001B[0m\u001B[37m\u001B[0m \u001B[1m1s\u001B[0m 570us/step - accuracy: 0.8862 - loss: 0.3188 - val_accuracy: 0.8765 - val_loss: 0.3436\n"
     ]
    }
   ],
   "execution_count": 128
  },
  {
   "cell_type": "code",
   "metadata": {
    "colab": {
     "base_uri": "https://localhost:8080/"
    },
    "executionInfo": {
     "elapsed": 696,
     "status": "ok",
     "timestamp": 1753350171624,
     "user": {
      "displayName": "ihan",
      "userId": "16117014847748292320"
     },
     "user_tz": -540
    },
    "id": "GIO5VkWRZiBt",
    "outputId": "2a280a31-c320-4366-e5b0-f64e109ea809",
    "ExecuteTime": {
     "end_time": "2025-07-24T09:53:31.993735Z",
     "start_time": "2025-07-24T09:53:31.842715Z"
    }
   },
   "source": [
    "loss, accuracy = model.evaluate(val_scaled, val_target)\n",
    "loss, accuracy"
   ],
   "outputs": [
    {
     "name": "stdout",
     "output_type": "stream",
     "text": [
      "\u001B[1m375/375\u001B[0m \u001B[32m━━━━━━━━━━━━━━━━━━━━\u001B[0m\u001B[37m\u001B[0m \u001B[1m0s\u001B[0m 330us/step - accuracy: 0.8797 - loss: 0.3486\n"
     ]
    },
    {
     "data": {
      "text/plain": [
       "(0.35116586089134216, 0.8758333325386047)"
      ]
     },
     "execution_count": 129,
     "metadata": {},
     "output_type": "execute_result"
    }
   ],
   "execution_count": 129
  },
  {
   "cell_type": "markdown",
   "metadata": {
    "id": "CHbPeixVZiBu"
   },
   "source": [
    "# 4. Batch 와 history\n",
    "\n",
    "배치학습에서는 훈련자료 J를 구성하는 관측값 N개가 모두 투입된 후에 가중치의 갱신이 이루어진다. 이때 관측값 N개가 한차례 모두 투입되는 것을 1회 에포크로 정의한다.\n",
    "\n"
   ]
  },
  {
   "cell_type": "markdown",
   "metadata": {
    "id": "v1Bx1FB0ZiBu"
   },
   "source": [
    "\n",
    "즉, 배치학습을 위한 비용함수는 평균오차함수 $E_{av}(N)$이며, 가중치의 갱신은 에포크마다 한 번씩 이루어진다.  따라서 에포크마다 가중치의 갱신이 끝나면 $E_{av}(N)$ 을 계산하여 미리 정한 최대 에포크까지 학습곡선을 그릴 수 있다. 사실 에포크마다 학습을 위해 훈련자료 J의 관측값들을 무작위로 뒤섞는다. 학습곡선은 각 에포크 회수에 대해 $E_{av}(N)$값을 그린 곡선이다.\n",
    "\n",
    "<img src='https://i.imgur.com/i3AKzZ8.jpeg' width=500>"
   ]
  },
  {
   "cell_type": "markdown",
   "metadata": {
    "id": "rpnMVzjFZiBu"
   },
   "source": [
    "딥러닝 모델은 한 번에 전체 데이터를 처리하지 않고 데이터를 작은 배치(batch) 단위로 나누어 처리한다."
   ]
  },
  {
   "cell_type": "markdown",
   "metadata": {
    "id": "eZ7lLhhPZiBu"
   },
   "source": [
    "배치 단위는 데이터를 아래 같인 배치 크기 만큼씩 잘라서 학습 이포크에서 사용한다.\n",
    "\n",
    "```python\n",
    "#크기 128인 배치\n",
    "batch = train_images[:128]\n",
    "\n",
    "#다음 크기 128인 배치\n",
    "batch = train_images[128:256]\n",
    "#n번째 배치\n",
    "n = 10\n",
    "batch = train_images[128 * n:128 * (n+1)]\n",
    "```"
   ]
  },
  {
   "cell_type": "markdown",
   "metadata": {
    "id": "nSoz_qR7ZiBv"
   },
   "source": [
    "#### 학습과 history 객체"
   ]
  },
  {
   "cell_type": "code",
   "metadata": {
    "colab": {
     "base_uri": "https://localhost:8080/"
    },
    "executionInfo": {
     "elapsed": 11169,
     "status": "ok",
     "timestamp": 1753350182794,
     "user": {
      "displayName": "ihan",
      "userId": "16117014847748292320"
     },
     "user_tz": -540
    },
    "id": "xcSY8Jy6ZiBv",
    "outputId": "776d136d-176c-42e6-c9b7-2099bdbc1fb1",
    "ExecuteTime": {
     "end_time": "2025-07-24T09:53:34.082974Z",
     "start_time": "2025-07-24T09:53:32.009195Z"
    }
   },
   "source": [
    "history = model.fit(train_scaled, train_labels, epochs=5, batch_size=64)"
   ],
   "outputs": [
    {
     "name": "stdout",
     "output_type": "stream",
     "text": [
      "Epoch 1/5\n",
      "\u001B[1m750/750\u001B[0m \u001B[32m━━━━━━━━━━━━━━━━━━━━\u001B[0m\u001B[37m\u001B[0m \u001B[1m0s\u001B[0m 512us/step - accuracy: 0.8897 - loss: 0.3071\n",
      "Epoch 2/5\n",
      "\u001B[1m750/750\u001B[0m \u001B[32m━━━━━━━━━━━━━━━━━━━━\u001B[0m\u001B[37m\u001B[0m \u001B[1m0s\u001B[0m 526us/step - accuracy: 0.8984 - loss: 0.2876\n",
      "Epoch 3/5\n",
      "\u001B[1m750/750\u001B[0m \u001B[32m━━━━━━━━━━━━━━━━━━━━\u001B[0m\u001B[37m\u001B[0m \u001B[1m0s\u001B[0m 506us/step - accuracy: 0.9005 - loss: 0.2724\n",
      "Epoch 4/5\n",
      "\u001B[1m750/750\u001B[0m \u001B[32m━━━━━━━━━━━━━━━━━━━━\u001B[0m\u001B[37m\u001B[0m \u001B[1m0s\u001B[0m 496us/step - accuracy: 0.9022 - loss: 0.2657\n",
      "Epoch 5/5\n",
      "\u001B[1m750/750\u001B[0m \u001B[32m━━━━━━━━━━━━━━━━━━━━\u001B[0m\u001B[37m\u001B[0m \u001B[1m0s\u001B[0m 554us/step - accuracy: 0.9042 - loss: 0.2620\n"
     ]
    }
   ],
   "execution_count": 130
  },
  {
   "cell_type": "markdown",
   "metadata": {
    "id": "xDbwpEqUZiBv"
   },
   "source": [
    "앞서 시그모이드 함수를 사용했을 때와 비교하면 성능이 크지 않지만 조금 향상 되었다. 그럼 검증 세트에서의 성능도 확인해 보자."
   ]
  },
  {
   "cell_type": "code",
   "metadata": {
    "colab": {
     "base_uri": "https://localhost:8080/"
    },
    "executionInfo": {
     "elapsed": 546,
     "status": "ok",
     "timestamp": 1753350183341,
     "user": {
      "displayName": "ihan",
      "userId": "16117014847748292320"
     },
     "user_tz": -540
    },
    "id": "oodX4IV5ZiBv",
    "outputId": "8b826d00-d199-4ee1-80e2-2970c8081c93",
    "ExecuteTime": {
     "end_time": "2025-07-24T09:53:34.247215Z",
     "start_time": "2025-07-24T09:53:34.090561Z"
    }
   },
   "source": [
    "loss, accuracy = model.evaluate(val_scaled, val_target)\n",
    "loss, accuracy"
   ],
   "outputs": [
    {
     "name": "stdout",
     "output_type": "stream",
     "text": [
      "\u001B[1m375/375\u001B[0m \u001B[32m━━━━━━━━━━━━━━━━━━━━\u001B[0m\u001B[37m\u001B[0m \u001B[1m0s\u001B[0m 350us/step - accuracy: 0.8810 - loss: 0.3561\n"
     ]
    },
    {
     "data": {
      "text/plain": [
       "(0.35750070214271545, 0.8790833353996277)"
      ]
     },
     "execution_count": 131,
     "metadata": {},
     "output_type": "execute_result"
    }
   ],
   "execution_count": 131
  },
  {
   "cell_type": "markdown",
   "metadata": {
    "id": "HEry_bfRZiBv"
   },
   "source": [
    "인공신경망과 비교하면 은닉층을 추가하지 않은 경우보다 몇 퍼센트 성능이 향상되었다."
   ]
  },
  {
   "cell_type": "markdown",
   "metadata": {
    "id": "cI3xto_IZiBw"
   },
   "source": [
    "### history 객체로 손실율 추적\n",
    "\n",
    "fit 에 반환되는 history 에는 `history.history` 딕트 속성에 손실/정확도 듣의 metircs 지표 값이 저장되어 있다."
   ]
  },
  {
   "cell_type": "code",
   "metadata": {
    "colab": {
     "base_uri": "https://localhost:8080/",
     "height": 186
    },
    "executionInfo": {
     "elapsed": 63,
     "status": "ok",
     "timestamp": 1753350183405,
     "user": {
      "displayName": "ihan",
      "userId": "16117014847748292320"
     },
     "user_tz": -540
    },
    "id": "CngNLGCn3HHw",
    "outputId": "908b7b4b-c0d5-4b3d-e907-79a6f6791e63",
    "ExecuteTime": {
     "end_time": "2025-07-24T09:53:34.299375Z",
     "start_time": "2025-07-24T09:53:34.297410Z"
    }
   },
   "source": [
    "type(history)"
   ],
   "outputs": [
    {
     "data": {
      "text/plain": [
       "keras.src.callbacks.history.History"
      ]
     },
     "execution_count": 132,
     "metadata": {},
     "output_type": "execute_result"
    }
   ],
   "execution_count": 132
  },
  {
   "cell_type": "code",
   "metadata": {
    "colab": {
     "base_uri": "https://localhost:8080/"
    },
    "executionInfo": {
     "elapsed": 8,
     "status": "ok",
     "timestamp": 1753350183406,
     "user": {
      "displayName": "ihan",
      "userId": "16117014847748292320"
     },
     "user_tz": -540
    },
    "id": "6hRUNeQT3Mue",
    "outputId": "cf9a76a2-7d52-4dab-e054-09d3d1d01533",
    "ExecuteTime": {
     "end_time": "2025-07-24T09:53:34.321615Z",
     "start_time": "2025-07-24T09:53:34.319775Z"
    }
   },
   "source": [
    "history.history"
   ],
   "outputs": [
    {
     "data": {
      "text/plain": [
       "{'accuracy': [0.8913124799728394,\n",
       "  0.8965208530426025,\n",
       "  0.898479163646698,\n",
       "  0.9033125042915344,\n",
       "  0.9051666855812073],\n",
       " 'loss': [0.30153799057006836,\n",
       "  0.28810614347457886,\n",
       "  0.277700275182724,\n",
       "  0.26732996106147766,\n",
       "  0.2599102854728699]}"
      ]
     },
     "execution_count": 133,
     "metadata": {},
     "output_type": "execute_result"
    }
   ],
   "execution_count": 133
  },
  {
   "cell_type": "code",
   "metadata": {
    "colab": {
     "base_uri": "https://localhost:8080/"
    },
    "executionInfo": {
     "elapsed": 5,
     "status": "ok",
     "timestamp": 1753350183406,
     "user": {
      "displayName": "ihan",
      "userId": "16117014847748292320"
     },
     "user_tz": -540
    },
    "id": "jkdkFPbX4kHQ",
    "outputId": "3a00beff-7327-4733-b15b-2bd2330e5b29",
    "ExecuteTime": {
     "end_time": "2025-07-24T09:53:34.365149Z",
     "start_time": "2025-07-24T09:53:34.363124Z"
    }
   },
   "source": [
    "history.history.keys()"
   ],
   "outputs": [
    {
     "data": {
      "text/plain": [
       "dict_keys(['accuracy', 'loss'])"
      ]
     },
     "execution_count": 134,
     "metadata": {},
     "output_type": "execute_result"
    }
   ],
   "execution_count": 134
  },
  {
   "cell_type": "code",
   "metadata": {
    "colab": {
     "base_uri": "https://localhost:8080/",
     "height": 1000
    },
    "executionInfo": {
     "elapsed": 483,
     "status": "ok",
     "timestamp": 1753350183888,
     "user": {
      "displayName": "ihan",
      "userId": "16117014847748292320"
     },
     "user_tz": -540
    },
    "id": "hNhfGfPoZiBw",
    "outputId": "ba3f8e0f-6485-4803-920a-b12388775ff1",
    "ExecuteTime": {
     "end_time": "2025-07-24T09:53:34.475734Z",
     "start_time": "2025-07-24T09:53:34.390545Z"
    }
   },
   "source": [
    "plt.figure(figsize=(12, 4))\n",
    "\n",
    "plt.subplot(1, 2, 1)\n",
    "plt.plot(history.history['loss'], 'b-', label='loss')\n",
    "# plt.plot(history.history['val_loss'], 'r--', label='val_loss')\n",
    "plt.xlabel('Epoch')\n",
    "plt.legend()\n",
    "\n",
    "plt.subplot(1, 2, 2)\n",
    "plt.plot(history.history['accuracy'], 'g-', label='accuracy')\n",
    "# plt.plot(history.history['val_accuracy'], 'k--', label='val_accuracy')\n",
    "\n",
    "\n",
    "plt.xlabel('Epoch')\n",
    "plt.ylim(0.7, 1)\n",
    "plt.legend()"
   ],
   "outputs": [
    {
     "data": {
      "text/plain": [
       "<matplotlib.legend.Legend at 0x1219e6eb0>"
      ]
     },
     "execution_count": 135,
     "metadata": {},
     "output_type": "execute_result"
    },
    {
     "data": {
      "text/plain": [
       "<Figure size 1200x400 with 2 Axes>"
      ],
      "image/png": "[encoded data removed]"
     },
     "metadata": {},
     "output_type": "display_data"
    }
   ],
   "execution_count": 135
  },
  {
   "cell_type": "markdown",
   "metadata": {
    "id": "sAqbGEY2ZiBx"
   },
   "source": [
    "# 6.손실함수\n",
    "\n",
    "손실함수는 실제값과 예측 값 차이를 측정하는 함수로 회귀와 분류에 따라 다르다\n",
    "\n"
   ]
  },
  {
   "cell_type": "markdown",
   "metadata": {
    "id": "ZtBw--Q9ZiBx"
   },
   "source": [
    "회귀는 평균제곱과 교차엔트로피로 사용할 수 있다.\n",
    "\n",
    "1. 평균제곱 계열\n",
    "    - mean_squared_error : 평균제곱오차\n",
    "    - mean_absolute_error : 평균절대오차. 실제 값과 예측 값 차이의 절대값 평균\n",
    "    - mean_absolute_percentage_error: 평균 절대 백분율 오차. 절대값 오차를 절대값으로 나눈 후 평균\n",
    "    - mean_squared_logarithimc_error : 평균 제곱 로그 오차. 실제 값과 예측 값에 로그를 적용한 값의 차이를 제곱한 값의 평균\n",
    "\n",
    "\n"
   ]
  },
  {
   "cell_type": "markdown",
   "metadata": {
    "id": "Pn25GsyxZiBx"
   },
   "source": [
    "분류에는 교차 엔트로피 계열을 사용할 수 있다.\n",
    "\n",
    "2. 교차 엔트로피\n",
    "  - 교차엔트로피 함수는 출력 값에 로그를 취해서 오차가 커지면 수렴 속도가 빨라지고 오차가 작아지면 속도가 감소하게 만든것이다.\n",
    "  - categorical_crossentropy: 범주형교차엔트로피. 분류.\n",
    "  - sparse_categorical_crossentropy: 범주형 확률교차엔트로피. 분류.\n",
    "  - binary_crossentropy(이항교차엔트로피): 0, 1을 선택하는 경우."
   ]
  },
  {
   "cell_type": "markdown",
   "metadata": {
    "id": "pgdXR8yBZiBx"
   },
   "source": [
    "### - Crossentropy\n",
    "\n",
    "크로스 엔트로피는 확률부부분에 p(x) 를 곱한것과 달리 로그 뒤에는 q(x)를 곱하는데 q(x)는 분류 네트워크가 예측한 라벨의 확률 값이다.\n",
    "\n",
    "<img src='https://i.imgur.com/zaSh7yb.jpeg' width=600>\n",
    "\n",
    " - p(x)는 정답 라벨, q(x)는 분류 네트워크 계산 결과인 예측 라벨\n",
    " - 이미지: https://davinci-ai.tistory.com/28\n",
    "\n",
    "\n",
    "참고 정보이론 자료의 [참고-정보이론#Cross Entroy](../참고-정보이론.ipynb?download=false#Cross-entropy)"
   ]
  },
  {
   "cell_type": "markdown",
   "metadata": {
    "id": "n9YwLemsZiBx"
   },
   "source": [
    "\n",
    "분류에서 p(x), q(x)에 해당하는 범주는 2개 이상이다. 이에 대한 해결책은 모든 범주에 대한 평균을 내는 것으로 범주 수를 n으로 하면 범주에 대한 크로스 엔트로피(Categorical Cross Entropy, CCE) 식은\n",
    "\n",
    "$$CCE = -\\frac{1}{n} \\sum_{j=1}^n p(x) \\log q(x)\n",
    "$$\n",
    "\n",
    "이 식에 따라 위 그림을 계산해 보면\n",
    "\n",
    "$$CCE_1 = -\\frac{1}{2} (1.0 \\times \\log0.87 + 0.0 \\times \\log 0.13) = 0.0696\n",
    "$$"
   ]
  },
  {
   "cell_type": "markdown",
   "metadata": {
    "id": "y0kJnexSZiBx"
   },
   "source": [
    "이 값만 보면 CCE 가 높은지 낮은지 가늠이 어렵다. 비교를 위해 다른 경우르 ㄹ가정해 보면, 정답이 화이트 와인 일 때 레드 와인일 확률을 0.6, 화이트 와인일 확률을 0.4로 예측하는 경우가 있다면 정답보다 오답에 가깝게 예측하기 때문에 그림 보다 예측을 못하는 경우라고 생각해 볼 수 있다. 실제 그런지 CCE를 계산해 보자,\n",
    "\n",
    "\n",
    "$$CCE_2 = -\\frac{1}{2} (0.0 \\times \\log0.6 + 1.0 \\times \\log 0.4) = 0.4581\n",
    "$$\n",
    "\n",
    "두번째 경우 CCE는 0.4581로 그림의 0.06696보다 6.5배 높아졌다. CCE도 손실의 일종으로 낮을 수록 좋은 값이고, 네트워크는 손실을 낮추기 위해서 노력한다. 즉 CCE가 낮을 수록 예측을 잘하는 네트워크인것이다."
   ]
  },
  {
   "cell_type": "markdown",
   "metadata": {
    "id": "OoCquUjuZiBy"
   },
   "source": [
    "정달 라벨은 늘 1.0 이고 오답 라벨은 언제나 0.0 이므로 오답 라벨에 곱해지는 값은 버려진다. 그래서 위 식은 정답 라벨만 남겨두어도 달라지지 않는 다.\n",
    "\n",
    "\n",
    "$$CCE_1 = -\\frac{1}{2} (1.0 \\times \\log0.87 ) = 0.0696\n",
    "\\\\\n",
    "CCE_2 = -\\frac{1}{2} (1.0 \\times \\log0.4) = 0.4581\n",
    "$$"
   ]
  },
  {
   "cell_type": "markdown",
   "metadata": {
    "id": "v9R4fbnHZiBy"
   },
   "source": [
    "#### Crossentropy 사용"
   ]
  },
  {
   "cell_type": "markdown",
   "metadata": {
    "id": "Gnwx0lI4ZiBy"
   },
   "source": [
    "이진 분류에선 출력층의 뉴런이 하나이다. 이 뉴런이 출력하는 확률값 a(시그모이드 함수의 출력값)를 사용해 양성 클래스와 음성 클래스에 대한 크로스 엔트로피를 계산한다. 이진 분류의 출력 뉴런은 오직 양성 클래스에 대한 확률(a)만 출력하기 때문에 음성 클래스에 대한 확률은 1-a로 구할 수 있다. 역시 이진 분류의 타깃값은 양성 샘플을 경우에는 1, 음성 샘플일 경우에는 0이다. 0을 곱하면 어떤 계산이든지 모두 0이 되기 때문에 특별히 음성 샘플일 경우 1로 바꾸어(1-타깃값) 계산한다.\n"
   ]
  },
  {
   "cell_type": "markdown",
   "metadata": {
    "id": "5A2yr57tZiBy"
   },
   "source": [
    "그럼 패션 MNIST 데이터셋과 같이 다중 분류일 경우엔 어떻게 계산을 할까? 출력층은 10개의 뉴런이 있고 10개의 클래스에 대한 확률을 출력한다. 첫 번째 뉴런은 티셔츠일 확률이고 두 번째 뉴런은 바지일 확률을 출력하자. 이진 분류와 달리 각 클래스에 대한 확률이 모두 출력되기 때문에 타깃에 해당하는 확률만 남겨 놓기 위해서 나머지 확률에는 모두 0을 곱한다.\n",
    "\n",
    "예를 들어 샘플이 티셔츠일 경우 첫 번째 뉴런의 활성화 함수 출력인 a1에 크로스 엔트로피 손실 함수를 적용하고 나머지 활성화 함수 출력 a2 ~ a10 까지는 모두 0으로 만든다. 결국 신경망은 티셔츠 샘플에서 손실을 낮추려면 첫 번째 뉴런의 활성화 출력 a1의 값을 가능한 1에 가깝게 만들어야 한다. 이것이 바로 크로스 엔트로피 손실 함수가 신경망에 원하는 바이다.\n",
    "\n",
    "예를 하나더 들어보자. 샘플이 바지일 경우는 두 번째 뉴런의 활성화 출력인 a2만 남겨야 한다. 그러려면 두 번째 원소만 1이고 나머지는 모두 0으로 타깃값을 준비하면 된다. 바지 샘플을 정확하게 분류하려면 신경망이 a2의 출력을 가능한 한 높여야 한다. 이와 같이 타깃값을 해당 클래스만 1이고 나머지는 모두 0인 배열로 만드는 것을 원-핫 인코딩 이라고 부른다.\n",
    "\n",
    "따라서 다중 분류에서 크로스 엔트로피 손실 함수를 사용하려면 0,1,2 와 같이 정수로 된 타깃값을 원-핫 인코딩으로 변환해야 한다."
   ]
  },
  {
   "cell_type": "code",
   "metadata": {
    "colab": {
     "base_uri": "https://localhost:8080/"
    },
    "executionInfo": {
     "elapsed": 6,
     "status": "ok",
     "timestamp": 1753350183889,
     "user": {
      "displayName": "ihan",
      "userId": "16117014847748292320"
     },
     "user_tz": -540
    },
    "id": "C_scjopiZiBy",
    "outputId": "451ff2e9-15bd-45ef-c253-916891f3067b",
    "ExecuteTime": {
     "end_time": "2025-07-24T09:53:34.490845Z",
     "start_time": "2025-07-24T09:53:34.488835Z"
    }
   },
   "source": [
    "train_labels[:10]"
   ],
   "outputs": [
    {
     "data": {
      "text/plain": [
       "array([7, 3, 5, 8, 6, 9, 3, 3, 9, 9], dtype=uint8)"
      ]
     },
     "execution_count": 136,
     "metadata": {},
     "output_type": "execute_result"
    }
   ],
   "execution_count": 136
  },
  {
   "cell_type": "markdown",
   "metadata": {
    "id": "6fOCFezrZiBy"
   },
   "source": [
    "패션 MNIST 데이터 타깃값은 위와 같이 모두 정수로 되어 있다. 하지만 텐서플로에서는 정수로 된 타깃값을 원-핫 인코딩으로 바꾸지 않고 그냥 사용할 수 있다. 정수로된 타깃값을 사용해 크로스 엔트로피 손실을 계산하는 것이 바로 'sparse_categorical_crossentropy'이다.\n",
    "\n",
    "> 타깃값을 원-핫 인코딩으로 준비했다면 compile() 메서드에 손실 함수를 loss='categorical_crossentropy'로 지정한다.\n"
   ]
  },
  {
   "cell_type": "markdown",
   "metadata": {
    "id": "xa5Tq7yrZiBz"
   },
   "source": [
    "### - 손실함수 클래스\n",
    "\n",
    "손실함수는 손실함수 객체에 정의된 이름으로도 사용할 수 있다."
   ]
  },
  {
   "cell_type": "markdown",
   "metadata": {
    "id": "8mjPocG0ZiBz"
   },
   "source": [
    "loss 도 클래스로 선언해 사용해 보자\n",
    "\n",
    "```Python\n",
    "optimizer = tf.keras.optimizers.Adam(lr=0.01)\n",
    "loss = tf.keras.losses.SparseCategoricalCrossentropy()\n",
    "\n",
    "metric = tf.keras.metrics.MeanSquaredError()\n",
    "metric = tf.keras.metrics.Accuracy()\n",
    "```"
   ]
  },
  {
   "cell_type": "code",
   "metadata": {
    "executionInfo": {
     "elapsed": 2,
     "status": "ok",
     "timestamp": 1753350183891,
     "user": {
      "displayName": "ihan",
      "userId": "16117014847748292320"
     },
     "user_tz": -540
    },
    "id": "IOaPZyIJZiBz",
    "ExecuteTime": {
     "end_time": "2025-07-24T09:53:34.530125Z",
     "start_time": "2025-07-24T09:53:34.520231Z"
    }
   },
   "source": [
    "model = keras.Sequential()\n",
    "model.add(keras.layers.Input((28,28)))\n",
    "model.add(keras.layers.Flatten())\n",
    "model.add(keras.layers.Dense(100, activation='relu'))\n",
    "model.add(keras.layers.Dense(10, activation='softmax'))"
   ],
   "outputs": [],
   "execution_count": 137
  },
  {
   "cell_type": "code",
   "metadata": {
    "executionInfo": {
     "elapsed": 21,
     "status": "ok",
     "timestamp": 1753350183913,
     "user": {
      "displayName": "ihan",
      "userId": "16117014847748292320"
     },
     "user_tz": -540
    },
    "id": "XobarKZ9ZiBz",
    "ExecuteTime": {
     "end_time": "2025-07-24T09:53:34.543764Z",
     "start_time": "2025-07-24T09:53:34.540259Z"
    }
   },
   "source": [
    "loss = keras.losses.SparseCategoricalCrossentropy()\n",
    "metric = keras.metrics.SparseCategoricalAccuracy()\n",
    "# metric = keras.metrics.Accuracy()\n",
    "\n",
    "# model.compile(loss=loss, metrics=[metric])\n",
    "model.compile(loss=loss, metrics=['accuracy'])\n",
    "# model.compile(loss='sparse_categorical_crossentropy', metrics=['accuracy'])"
   ],
   "outputs": [],
   "execution_count": 138
  },
  {
   "cell_type": "code",
   "metadata": {
    "colab": {
     "base_uri": "https://localhost:8080/"
    },
    "executionInfo": {
     "elapsed": 15684,
     "status": "ok",
     "timestamp": 1753350199598,
     "user": {
      "displayName": "ihan",
      "userId": "16117014847748292320"
     },
     "user_tz": -540
    },
    "id": "-z-uE_bfZiBz",
    "outputId": "d90eb588-c3e7-4d73-b724-c814f1cd9256",
    "ExecuteTime": {
     "end_time": "2025-07-24T09:53:38.387202Z",
     "start_time": "2025-07-24T09:53:34.552422Z"
    }
   },
   "source": [
    "history = model.fit(train_scaled, train_labels, epochs=5)"
   ],
   "outputs": [
    {
     "name": "stdout",
     "output_type": "stream",
     "text": [
      "Epoch 1/5\n",
      "\u001B[1m1500/1500\u001B[0m \u001B[32m━━━━━━━━━━━━━━━━━━━━\u001B[0m\u001B[37m\u001B[0m \u001B[1m1s\u001B[0m 473us/step - accuracy: 0.7583 - loss: 0.6858\n",
      "Epoch 2/5\n",
      "\u001B[1m1500/1500\u001B[0m \u001B[32m━━━━━━━━━━━━━━━━━━━━\u001B[0m\u001B[37m\u001B[0m \u001B[1m1s\u001B[0m 458us/step - accuracy: 0.8532 - loss: 0.4056\n",
      "Epoch 3/5\n",
      "\u001B[1m1500/1500\u001B[0m \u001B[32m━━━━━━━━━━━━━━━━━━━━\u001B[0m\u001B[37m\u001B[0m \u001B[1m1s\u001B[0m 536us/step - accuracy: 0.8717 - loss: 0.3585\n",
      "Epoch 4/5\n",
      "\u001B[1m1500/1500\u001B[0m \u001B[32m━━━━━━━━━━━━━━━━━━━━\u001B[0m\u001B[37m\u001B[0m \u001B[1m1s\u001B[0m 519us/step - accuracy: 0.8776 - loss: 0.3367\n",
      "Epoch 5/5\n",
      "\u001B[1m1500/1500\u001B[0m \u001B[32m━━━━━━━━━━━━━━━━━━━━\u001B[0m\u001B[37m\u001B[0m \u001B[1m1s\u001B[0m 453us/step - accuracy: 0.8849 - loss: 0.3200\n"
     ]
    }
   ],
   "execution_count": 139
  },
  {
   "cell_type": "code",
   "metadata": {
    "colab": {
     "base_uri": "https://localhost:8080/"
    },
    "executionInfo": {
     "elapsed": 840,
     "status": "ok",
     "timestamp": 1753350200449,
     "user": {
      "displayName": "ihan",
      "userId": "16117014847748292320"
     },
     "user_tz": -540
    },
    "id": "1FRxLuU8ZiBz",
    "outputId": "d752b00c-8fd4-404f-8fc2-54d4bfe9e5dc",
    "ExecuteTime": {
     "end_time": "2025-07-24T09:53:38.591033Z",
     "start_time": "2025-07-24T09:53:38.395562Z"
    }
   },
   "source": [
    "print(\"\\검증 데이터로 모델 평가:\")\n",
    "loss, accuracy = model.evaluate(val_scaled, val_labels)\n",
    "print(f\"테스트 손실: {loss:.4f}\")\n",
    "print(f\"테스트 정확도: {accuracy:.4f}\")"
   ],
   "outputs": [
    {
     "name": "stdout",
     "output_type": "stream",
     "text": [
      "\\검증 데이터로 모델 평가:\n",
      "\u001B[1m375/375\u001B[0m \u001B[32m━━━━━━━━━━━━━━━━━━━━\u001B[0m\u001B[37m\u001B[0m \u001B[1m0s\u001B[0m 382us/step - accuracy: 0.8695 - loss: 0.3651\n",
      "테스트 손실: 0.3660\n",
      "테스트 정확도: 0.8695\n"
     ]
    }
   ],
   "execution_count": 140
  },
  {
   "cell_type": "code",
   "metadata": {
    "colab": {
     "base_uri": "https://localhost:8080/"
    },
    "executionInfo": {
     "elapsed": 12,
     "status": "ok",
     "timestamp": 1753350200463,
     "user": {
      "displayName": "ihan",
      "userId": "16117014847748292320"
     },
     "user_tz": -540
    },
    "id": "kqN817zFZiB0",
    "outputId": "e8a79d4c-9f8e-4eb0-b1f6-1a8cfcf644f1",
    "ExecuteTime": {
     "end_time": "2025-07-24T09:53:38.602006Z",
     "start_time": "2025-07-24T09:53:38.600231Z"
    }
   },
   "source": [
    "history.history.keys()"
   ],
   "outputs": [
    {
     "data": {
      "text/plain": [
       "dict_keys(['accuracy', 'loss'])"
      ]
     },
     "execution_count": 141,
     "metadata": {},
     "output_type": "execute_result"
    }
   ],
   "execution_count": 141
  },
  {
   "cell_type": "markdown",
   "metadata": {
    "id": "F77DEMbJZiB0"
   },
   "source": [
    "### - Validation 학습\n",
    "\n",
    "검증용 데이터는 fit 실행시 validation_split, validation_data 사용시 검증 데이터가 사용되고 metrics 지표에도 검증용이 추가된다."
   ]
  },
  {
   "cell_type": "code",
   "metadata": {
    "executionInfo": {
     "elapsed": 13,
     "status": "ok",
     "timestamp": 1753350200477,
     "user": {
      "displayName": "ihan",
      "userId": "16117014847748292320"
     },
     "user_tz": -540
    },
    "id": "IdvdZb-AZiB1",
    "ExecuteTime": {
     "end_time": "2025-07-24T09:53:38.629688Z",
     "start_time": "2025-07-24T09:53:38.621199Z"
    }
   },
   "source": [
    "model = keras.Sequential()\n",
    "model.add(keras.layers.Input((28,28)))\n",
    "model.add(keras.layers.Flatten())\n",
    "model.add(keras.layers.Dense(100, activation='relu'))\n",
    "model.add(keras.layers.Dense(10, activation='softmax'))"
   ],
   "outputs": [],
   "execution_count": 142
  },
  {
   "cell_type": "code",
   "metadata": {
    "colab": {
     "base_uri": "https://localhost:8080/"
    },
    "executionInfo": {
     "elapsed": 16388,
     "status": "ok",
     "timestamp": 1753350216878,
     "user": {
      "displayName": "ihan",
      "userId": "16117014847748292320"
     },
     "user_tz": -540
    },
    "id": "IhwtnSdMZiB1",
    "outputId": "6a03b010-6630-442d-f982-9e07a0c82495",
    "ExecuteTime": {
     "end_time": "2025-07-24T09:53:42.086540Z",
     "start_time": "2025-07-24T09:53:38.637508Z"
    }
   },
   "source": [
    "model.compile(loss='sparse_categorical_crossentropy', metrics=['accuracy'])\n",
    "history = model.fit(train_scaled, train_labels,\n",
    "                    epochs=5,\n",
    "                    validation_split=.2)"
   ],
   "outputs": [
    {
     "name": "stdout",
     "output_type": "stream",
     "text": [
      "Epoch 1/5\n",
      "\u001B[1m1200/1200\u001B[0m \u001B[32m━━━━━━━━━━━━━━━━━━━━\u001B[0m\u001B[37m\u001B[0m \u001B[1m1s\u001B[0m 562us/step - accuracy: 0.7531 - loss: 0.7092 - val_accuracy: 0.8521 - val_loss: 0.4168\n",
      "Epoch 2/5\n",
      "\u001B[1m1200/1200\u001B[0m \u001B[32m━━━━━━━━━━━━━━━━━━━━\u001B[0m\u001B[37m\u001B[0m \u001B[1m1s\u001B[0m 519us/step - accuracy: 0.8496 - loss: 0.4219 - val_accuracy: 0.8586 - val_loss: 0.3878\n",
      "Epoch 3/5\n",
      "\u001B[1m1200/1200\u001B[0m \u001B[32m━━━━━━━━━━━━━━━━━━━━\u001B[0m\u001B[37m\u001B[0m \u001B[1m1s\u001B[0m 524us/step - accuracy: 0.8644 - loss: 0.3748 - val_accuracy: 0.8696 - val_loss: 0.3657\n",
      "Epoch 4/5\n",
      "\u001B[1m1200/1200\u001B[0m \u001B[32m━━━━━━━━━━━━━━━━━━━━\u001B[0m\u001B[37m\u001B[0m \u001B[1m1s\u001B[0m 556us/step - accuracy: 0.8733 - loss: 0.3441 - val_accuracy: 0.8757 - val_loss: 0.3496\n",
      "Epoch 5/5\n",
      "\u001B[1m1200/1200\u001B[0m \u001B[32m━━━━━━━━━━━━━━━━━━━━\u001B[0m\u001B[37m\u001B[0m \u001B[1m1s\u001B[0m 571us/step - accuracy: 0.8854 - loss: 0.3217 - val_accuracy: 0.8695 - val_loss: 0.3647\n"
     ]
    }
   ],
   "execution_count": 143
  },
  {
   "cell_type": "code",
   "metadata": {
    "colab": {
     "base_uri": "https://localhost:8080/"
    },
    "executionInfo": {
     "elapsed": 5,
     "status": "ok",
     "timestamp": 1753350216901,
     "user": {
      "displayName": "ihan",
      "userId": "16117014847748292320"
     },
     "user_tz": -540
    },
    "id": "cN9v0QY6ZiB1",
    "outputId": "34138d5d-d768-4c90-c110-fa04d688503a",
    "ExecuteTime": {
     "end_time": "2025-07-24T09:53:42.096300Z",
     "start_time": "2025-07-24T09:53:42.094501Z"
    }
   },
   "source": [
    "history.history.keys()"
   ],
   "outputs": [
    {
     "data": {
      "text/plain": [
       "dict_keys(['accuracy', 'loss', 'val_accuracy', 'val_loss'])"
      ]
     },
     "execution_count": 144,
     "metadata": {},
     "output_type": "execute_result"
    }
   ],
   "execution_count": 144
  },
  {
   "cell_type": "code",
   "metadata": {
    "colab": {
     "base_uri": "https://localhost:8080/",
     "height": 1000
    },
    "executionInfo": {
     "elapsed": 534,
     "status": "ok",
     "timestamp": 1753350217434,
     "user": {
      "displayName": "ihan",
      "userId": "16117014847748292320"
     },
     "user_tz": -540
    },
    "id": "Hey8ns7jZiB1",
    "outputId": "102eabc1-e2ee-4193-bac0-cd1c8d887376",
    "ExecuteTime": {
     "end_time": "2025-07-24T09:53:42.210340Z",
     "start_time": "2025-07-24T09:53:42.114710Z"
    }
   },
   "source": [
    "plt.figure(figsize=(12, 4))\n",
    "\n",
    "plt.subplot(1, 2, 1)\n",
    "plt.plot(history.history['loss'], 'b-', label='loss')\n",
    "plt.plot(history.history['val_loss'], 'r--', label='val_loss')\n",
    "plt.xlabel('Epoch')\n",
    "plt.legend()\n",
    "\n",
    "plt.subplot(1, 2, 2)\n",
    "plt.plot(history.history['accuracy'], 'g-', label='accuracy')\n",
    "plt.plot(history.history['val_accuracy'], 'k--', label='val_accuracy')\n",
    "plt.xlabel('Epoch')\n",
    "plt.ylim(0.7, 1)\n",
    "plt.legend()"
   ],
   "outputs": [
    {
     "data": {
      "text/plain": [
       "<matplotlib.legend.Legend at 0x3e831b1f0>"
      ]
     },
     "execution_count": 145,
     "metadata": {},
     "output_type": "execute_result"
    },
    {
     "data": {
      "text/plain": [
       "<Figure size 1200x400 with 2 Axes>"
      ],
      "image/png": "[encoded data removed]"
     },
     "metadata": {},
     "output_type": "display_data"
    }
   ],
   "execution_count": 145
  },
  {
   "cell_type": "code",
   "metadata": {
    "executionInfo": {
     "elapsed": 1,
     "status": "ok",
     "timestamp": 1753350217436,
     "user": {
      "displayName": "ihan",
      "userId": "16117014847748292320"
     },
     "user_tz": -540
    },
    "id": "6FVLD7U7wtlR",
    "ExecuteTime": {
     "end_time": "2025-07-24T09:53:42.231975Z",
     "start_time": "2025-07-24T09:53:42.223154Z"
    }
   },
   "source": [
    "model = keras.Sequential()\n",
    "model.add(keras.layers.Input((28,28)))\n",
    "model.add(keras.layers.Flatten())\n",
    "model.add(keras.layers.Dense(100, activation='relu'))\n",
    "model.add(keras.layers.Dense(10, activation='softmax'))"
   ],
   "outputs": [],
   "execution_count": 146
  },
  {
   "cell_type": "code",
   "metadata": {
    "colab": {
     "base_uri": "https://localhost:8080/"
    },
    "executionInfo": {
     "elapsed": 22491,
     "status": "ok",
     "timestamp": 1753350239927,
     "user": {
      "displayName": "ihan",
      "userId": "16117014847748292320"
     },
     "user_tz": -540
    },
    "id": "VwPGV88kwjZs",
    "outputId": "7ccf4f65-ddeb-4f73-8d09-09522ba96ffa",
    "ExecuteTime": {
     "end_time": "2025-07-24T09:53:46.727117Z",
     "start_time": "2025-07-24T09:53:42.241558Z"
    }
   },
   "source": [
    "model.compile(loss='sparse_categorical_crossentropy', metrics=['accuracy'])\n",
    "history2 = model.fit(train_scaled,\n",
    "                    train_labels,\n",
    "                    epochs=5,\n",
    "                    validation_data=(val_scaled, val_labels),\n",
    "                    # validation_split=.2\n",
    "                     )"
   ],
   "outputs": [
    {
     "name": "stdout",
     "output_type": "stream",
     "text": [
      "Epoch 1/5\n",
      "\u001B[1m1500/1500\u001B[0m \u001B[32m━━━━━━━━━━━━━━━━━━━━\u001B[0m\u001B[37m\u001B[0m \u001B[1m1s\u001B[0m 608us/step - accuracy: 0.7644 - loss: 0.6759 - val_accuracy: 0.8478 - val_loss: 0.4143\n",
      "Epoch 2/5\n",
      "\u001B[1m1500/1500\u001B[0m \u001B[32m━━━━━━━━━━━━━━━━━━━━\u001B[0m\u001B[37m\u001B[0m \u001B[1m1s\u001B[0m 592us/step - accuracy: 0.8550 - loss: 0.4030 - val_accuracy: 0.8652 - val_loss: 0.3782\n",
      "Epoch 3/5\n",
      "\u001B[1m1500/1500\u001B[0m \u001B[32m━━━━━━━━━━━━━━━━━━━━\u001B[0m\u001B[37m\u001B[0m \u001B[1m1s\u001B[0m 569us/step - accuracy: 0.8720 - loss: 0.3576 - val_accuracy: 0.8719 - val_loss: 0.3612\n",
      "Epoch 4/5\n",
      "\u001B[1m1500/1500\u001B[0m \u001B[32m━━━━━━━━━━━━━━━━━━━━\u001B[0m\u001B[37m\u001B[0m \u001B[1m1s\u001B[0m 527us/step - accuracy: 0.8845 - loss: 0.3356 - val_accuracy: 0.8699 - val_loss: 0.3729\n",
      "Epoch 5/5\n",
      "\u001B[1m1500/1500\u001B[0m \u001B[32m━━━━━━━━━━━━━━━━━━━━\u001B[0m\u001B[37m\u001B[0m \u001B[1m1s\u001B[0m 570us/step - accuracy: 0.8903 - loss: 0.3066 - val_accuracy: 0.8694 - val_loss: 0.3830\n"
     ]
    }
   ],
   "execution_count": 147
  },
  {
   "cell_type": "code",
   "metadata": {
    "colab": {
     "base_uri": "https://localhost:8080/"
    },
    "executionInfo": {
     "elapsed": 2,
     "status": "ok",
     "timestamp": 1753350239932,
     "user": {
      "displayName": "ihan",
      "userId": "16117014847748292320"
     },
     "user_tz": -540
    },
    "id": "dF842m1wxkHr",
    "outputId": "00fe7611-d326-4072-a03b-068de648d9a9",
    "ExecuteTime": {
     "end_time": "2025-07-24T09:53:46.737754Z",
     "start_time": "2025-07-24T09:53:46.735729Z"
    }
   },
   "source": [
    "history2.history.keys()"
   ],
   "outputs": [
    {
     "data": {
      "text/plain": [
       "dict_keys(['accuracy', 'loss', 'val_accuracy', 'val_loss'])"
      ]
     },
     "execution_count": 148,
     "metadata": {},
     "output_type": "execute_result"
    }
   ],
   "execution_count": 148
  },
  {
   "cell_type": "code",
   "metadata": {
    "colab": {
     "base_uri": "https://localhost:8080/",
     "height": 1000
    },
    "executionInfo": {
     "elapsed": 497,
     "status": "ok",
     "timestamp": 1753350240446,
     "user": {
      "displayName": "ihan",
      "userId": "16117014847748292320"
     },
     "user_tz": -540
    },
    "id": "a-IJPxArxqPj",
    "outputId": "4cb36cf5-6573-4a7f-aec5-a3f1fd8a1fd9",
    "ExecuteTime": {
     "end_time": "2025-07-24T09:53:46.853783Z",
     "start_time": "2025-07-24T09:53:46.761213Z"
    }
   },
   "source": [
    "plt.figure(figsize=(12, 4))\n",
    "\n",
    "plt.subplot(1, 2, 1)\n",
    "plt.plot(history2.history['loss'], 'b-', label='loss')\n",
    "plt.plot(history2.history['val_loss'], 'r--', label='val_loss')\n",
    "plt.xlabel('Epoch')\n",
    "plt.legend()\n",
    "\n",
    "plt.subplot(1, 2, 2)\n",
    "plt.plot(history2.history['accuracy'], 'g-', label='accuracy')\n",
    "plt.plot(history2.history['val_accuracy'], 'k--', label='val_accuracy')\n",
    "plt.xlabel('Epoch')\n",
    "plt.ylim(0.7, 1)\n",
    "plt.legend()"
   ],
   "outputs": [
    {
     "data": {
      "text/plain": [
       "<matplotlib.legend.Legend at 0x3e8f13400>"
      ]
     },
     "execution_count": 149,
     "metadata": {},
     "output_type": "execute_result"
    },
    {
     "data": {
      "text/plain": [
       "<Figure size 1200x400 with 2 Axes>"
      ],
      "image/png": "[encoded data removed]"
     },
     "metadata": {},
     "output_type": "display_data"
    }
   ],
   "execution_count": 149
  },
  {
   "cell_type": "markdown",
   "metadata": {
    "id": "3YtLsmGAoavz"
   },
   "source": [
    "# 7. 옵티마이저\n",
    "\n",
    "머신러닝에서 하이퍼파라미터는 모델이 학습하지 않아 사람이 지정해주어야 하는 파라미터라고 얘기했다. 신경망에서 특히 하이퍼파라미터가 많다.\n",
    "\n",
    "MLP에서 추가할 은닉층의 개수는 모델이 학습하는 것이 아니라 우리가 지정해 주어야 할 하이퍼 파라미터이다. 은닉층의 뉴런 개수도 마찬가지이다.\n"
   ]
  },
  {
   "cell_type": "markdown",
   "metadata": {
    "id": "XmmktZxnZiB2"
   },
   "source": [
    "케라스는 다양한 종류의 경사 하강법 알고리즘을 제공한다. 이들을 옵티마이저라고 부른다. 처음부터 모델을 구성하고 각종 하이퍼파라미터의 최적값을 찾는 것은 어려운 작업이다.\n",
    "\n",
    "<img src='https://i.imgur.com/YwVJz0a.png'>"
   ]
  },
  {
   "cell_type": "markdown",
   "metadata": {
    "id": "xv_ap6TrZiB2"
   },
   "source": [
    "compile() 메서드에서는 케라스의 기본 경사 하강법 알고리즘인 RMSprop을 사용했다.\n",
    "여기서는 여러 가지 옵티마이저를 테스트해 보자.\n",
    "\n"
   ]
  },
  {
   "cell_type": "markdown",
   "metadata": {
    "id": "_Xfs8rIZZiB2"
   },
   "source": [
    "### - SGD\n",
    "\n",
    "확률적경사하강법 SGD는 가장 기본 옵티마이저이다.\n",
    "\n",
    "<img src='https://img1.daumcdn.net/thumb/R1280x0/?scode=mtistory2&fname=https%3A%2F%2Ft1.daumcdn.net%2Fcfile%2Ftistory%2F996AFC3C5B0CF0C901'>(출처: https://twinw.tistory.com/247)\n",
    "\n",
    " - 램덤하게 추출한 일부 데이터에 대해 가중치를 조절합니다.\n",
    " - 결과적으로 속도는 개선되었지만 최적 해의 정확도는 낮습니다.\n"
   ]
  },
  {
   "cell_type": "code",
   "metadata": {
    "executionInfo": {
     "elapsed": 1,
     "status": "ok",
     "timestamp": 1753350240447,
     "user": {
      "displayName": "ihan",
      "userId": "16117014847748292320"
     },
     "user_tz": -540
    },
    "id": "NxVj04Haocwa",
    "ExecuteTime": {
     "end_time": "2025-07-24T09:53:46.870337Z",
     "start_time": "2025-07-24T09:53:46.866338Z"
    }
   },
   "source": [
    "# SGD 옵티마이저를 사용하려면 compile() 메서드의 optimizer 매개변수를 'sgd'로 지정한다.\n",
    "sgd = keras.optimizers.SGD()\n",
    "model.compile(optimizer=sgd, loss='sparse_categorical_crossentropy', metrics=['accuracy'])"
   ],
   "outputs": [],
   "execution_count": 150
  },
  {
   "cell_type": "markdown",
   "metadata": {
    "id": "cB364ehgZiB2"
   },
   "source": [
    "이 옵티마이저는 tensorflow,keras.optimizers 패키지 아래 SGD 클래스로 구현되어 있다."
   ]
  },
  {
   "cell_type": "code",
   "metadata": {
    "executionInfo": {
     "elapsed": 28,
     "status": "ok",
     "timestamp": 1753350240476,
     "user": {
      "displayName": "ihan",
      "userId": "16117014847748292320"
     },
     "user_tz": -540
    },
    "id": "1426O4G8Hpfi",
    "ExecuteTime": {
     "end_time": "2025-07-24T09:53:46.882927Z",
     "start_time": "2025-07-24T09:53:46.879307Z"
    }
   },
   "source": [
    "sgd = keras.optimizers.SGD(learning_rate=0.001)\n",
    "model.compile(optimizer=sgd, loss='sparse_categorical_crossentropy', metrics=['accuracy'])"
   ],
   "outputs": [],
   "execution_count": 151
  },
  {
   "cell_type": "markdown",
   "metadata": {
    "id": "qnCHiftrZiB3"
   },
   "source": [
    "만약 SGD 클래스의 학습률 기본값이 0.01일 때 이를 바꾸고 싶다면 다음과 같이 원하는 학습률을 learning_rate 매개변수에 지정하여 사용한다."
   ]
  },
  {
   "cell_type": "code",
   "metadata": {
    "executionInfo": {
     "elapsed": 1,
     "status": "ok",
     "timestamp": 1753350240477,
     "user": {
      "displayName": "ihan",
      "userId": "16117014847748292320"
     },
     "user_tz": -540
    },
    "id": "Sh-HDiULlp18",
    "ExecuteTime": {
     "end_time": "2025-07-24T09:53:46.894313Z",
     "start_time": "2025-07-24T09:53:46.893140Z"
    }
   },
   "source": [
    "\n"
   ],
   "outputs": [],
   "execution_count": 151
  },
  {
   "cell_type": "markdown",
   "metadata": {
    "id": "h1xHUSD1ZiB3"
   },
   "source": [
    "#### 2) Momentum\n",
    "\n",
    "모멘텀(momentum)이란 단어는 관성, 탄력, 가속도라는 뜻입니다. 모멘텀 SGD는 경사 하강법에 관성을 더해 주는 것입니다.\n",
    "\n",
    "<img src='https://img1.daumcdn.net/thumb/R1280x0/?scode=mtistory2&fname=https%3A%2F%2Ft1.daumcdn.net%2Fcfile%2Ftistory%2F99294C355B0CF0E814'> (출처: https://twinw.tistory.com/247)\n",
    "\n",
    "경사 하강법과 마찬가지로 매번 기울기를 구하지만, 가중치를 수정하기전 이전 수정 방향(+,-)를 참고하여 같은 방향으로 일정한 비율만 수정되게 하는 방법입니다. 수정이 양(+) 방향, 음(-) 방향 순차적으로 일어나는 지그재그 현상이 줄어들고, 이전 이동 값을 고려해여 일정 비율만큼 다음 값을 결정하므로 관성의 효과를 낼 수 있습니다."
   ]
  },
  {
   "cell_type": "markdown",
   "metadata": {
    "id": "2HWKYfiTZiB3"
   },
   "source": [
    "\n",
    "\n",
    "기본 경사 하강법 옵티마이저는 모두 SGD 클래스에서 제공한다. SGD 클래스의 momentum 매개변수에 0보다 큰 값으로 지정하면 마치 이전의 그레이디언트를 가속도처럼 사용하는 모멘텀 최적화를 사용한다. 보통 0.9 이상을 지정한다."
   ]
  },
  {
   "cell_type": "code",
   "metadata": {
    "executionInfo": {
     "elapsed": 1,
     "status": "ok",
     "timestamp": 1753350240478,
     "user": {
      "displayName": "ihan",
      "userId": "16117014847748292320"
     },
     "user_tz": -540
    },
    "id": "uF1XolBXsl3a",
    "ExecuteTime": {
     "end_time": "2025-07-24T09:53:46.907680Z",
     "start_time": "2025-07-24T09:53:46.904728Z"
    }
   },
   "source": [
    "sgd = keras.optimizers.SGD(momentum=0.9, nesterov=True)\n",
    "model.compile(optimizer=sgd, loss='sparse_categorical_crossentropy', metrics=['accuracy'])"
   ],
   "outputs": [],
   "execution_count": 152
  },
  {
   "cell_type": "markdown",
   "metadata": {
    "id": "Q6NJiS2KZiB4"
   },
   "source": [
    "#### 3) Nesterov Accelrated Gradient(NAG, 네스테로프 모멘텀)\n",
    "\n",
    "네스테로프 모멘텀은 momentum값과 gradient값이 더해저 실제(actual)값을 만드는 기존 모멘텀과 달리 momentum값이 적용된 지점에서 gradient값이 계산됩니다.\n",
    "\n",
    "<img src='https://img1.daumcdn.net/thumb/R1280x0/?scode=mtistory2&fname=https%3A%2F%2Ft1.daumcdn.net%2Fcfile%2Ftistory%2F996E494B5B0D03A003'>(출처: https://twinw.tistory.com/247)"
   ]
  },
  {
   "cell_type": "markdown",
   "metadata": {
    "id": "Pz7_HRyeZiB4"
   },
   "source": [
    "네스테로프 모멘텀은 모멘텀 최적화를 2번 반복하여 구현한다. 대부분의 경우 <u>**네스테로프 모멘텀 최적화가 기본 확률적 경사 하강법보다 더 나은 성능을 제공**</u> 한다.\n",
    "\n",
    "모델이 최적점에 가까이 갈수록 학습률을 낮출 수 있다. 이렇게 하면 안정적으로 최적점에 수렴할 가능성이 높다. 이런 학습률을 **적응적 학습률** 이라고 한다. 이런 방식들은 학습률 매개변수를 튜닝하는 수고를 덜 수 있는 것이 장점이다.\n"
   ]
  },
  {
   "cell_type": "markdown",
   "metadata": {
    "id": "N9uqKcHjZiB4"
   },
   "source": [
    " 아래처럼 SGD 클래스의 nesterov 매개변수를 기본값 False에서 True로 바꾸면 네스테로프 모멘텀 최적화를 사용한다."
   ]
  },
  {
   "cell_type": "code",
   "metadata": {
    "executionInfo": {
     "elapsed": 0,
     "status": "ok",
     "timestamp": 1753350240478,
     "user": {
      "displayName": "ihan",
      "userId": "16117014847748292320"
     },
     "user_tz": -540
    },
    "id": "AghvlyAhZiB4",
    "ExecuteTime": {
     "end_time": "2025-07-24T09:53:46.918171Z",
     "start_time": "2025-07-24T09:53:46.917077Z"
    }
   },
   "source": [
    "\n"
   ],
   "outputs": [],
   "execution_count": 152
  },
  {
   "cell_type": "markdown",
   "metadata": {
    "id": "5D8y4CeTZiB4"
   },
   "source": [
    "\n",
    "#### 3) Adagrad(Adaptive Gradient, 아다그라드)\n",
    "\n",
    "아다그라드는 변수의 업데이트 횟수에 따라 학습률(Learning rate)를 조절하는 옵션이 추가된 최적화 방법입니다. 여기서 변수란 가중치(W) 벡터의 하나의 값($w_i$)을 말합니다. 아다그라드는 많이 변화하지 않은 변수들은 학습률(step size)를 크게하고, 반대로 많이 변화한 변수들에 대해서는 학습률을 적게합니다. 이는 많이 변화한 변수는 최적값에 근접했을 것이라는 가정하에 작은 크기로 이동하면서 세밀한 값을 조정하고, 반대로 적게 변화한 변수들은 학습률을 크게하여 빠르게 loss값을 줄입니다.\n",
    "\n",
    " 아다그라드는 같은 입력 데이터가 여러번 학습되는 학습모델에 유용하게 쓰이는데 대표적으로 언어와 관련된 word2vec이나 GloVe에 유용합니다. 이는 학습 단어의 등장 확률에 따라 변수의 사용 비율이 확연하게 차이나기 때문에 많이 등장한 단어는 가중치를 적게 수정하고 적게 등장한 단어는 많이 수정할 수 있기 때문입니다.\n"
   ]
  },
  {
   "cell_type": "markdown",
   "metadata": {
    "id": "p6uJpnSxZiB4"
   },
   "source": [
    "keras의 적응적 학습률을 사용하는 대표적인 옵티마이저는 Adagrad와 RMSprop 이다. optimizer 매개변수의 기본값이 바로 rmsprop이다."
   ]
  },
  {
   "cell_type": "code",
   "metadata": {
    "executionInfo": {
     "elapsed": 0,
     "status": "ok",
     "timestamp": 1753350240479,
     "user": {
      "displayName": "ihan",
      "userId": "16117014847748292320"
     },
     "user_tz": -540
    },
    "id": "Hy2MENbL170j",
    "ExecuteTime": {
     "end_time": "2025-07-24T09:53:46.931866Z",
     "start_time": "2025-07-24T09:53:46.928758Z"
    }
   },
   "source": [
    "adagrad = keras.optimizers.Adagrad(learning_rate=0.001)\n",
    "model.compile(optimizer=adagrad)"
   ],
   "outputs": [],
   "execution_count": 153
  },
  {
   "cell_type": "markdown",
   "metadata": {
    "id": "jky67TqmZiB5"
   },
   "source": [
    "#### 4) RMSprop\n",
    "\n",
    "적응적 학습률을 사용하는 대표적인 옵티마이저 중 하나. RMSprop은 지수 이동평균을 이용한 방법입니다.  RMSprop(알엠에스프롭)은 아다그라드의 G(t)의 값이 무한히 커지는 것을 방지하고자 제안된 방법으로, 논문과 같은 형태로 발표된 다른 방법들과 달리 제프리 힌튼 교수와 제자들이 코세라(Coursera) 수업에서 소개하였습니다. [링크](https://ko.coursera.org/learn/deep-neural-network/lecture/BhJlm/rmsprop)\n",
    "- Adagard처럼 그레이디언트 제곱으로 학습률을 나누지만 최근의 그레이디언트를 사용하기 위해 지수 감소를 사용한다.\n",
    "- learining_rate로 학습률을 지정하며 기본값은 0.001\n",
    "- rho 매개변수에서 감소 비율을 지정하며 기본값은 0.9"
   ]
  },
  {
   "cell_type": "code",
   "metadata": {
    "executionInfo": {
     "elapsed": 3,
     "status": "ok",
     "timestamp": 1753350240482,
     "user": {
      "displayName": "ihan",
      "userId": "16117014847748292320"
     },
     "user_tz": -540
    },
    "id": "KkpbSMXWtakr",
    "ExecuteTime": {
     "end_time": "2025-07-24T09:53:46.941271Z",
     "start_time": "2025-07-24T09:53:46.940123Z"
    }
   },
   "source": [],
   "outputs": [],
   "execution_count": null
  },
  {
   "cell_type": "markdown",
   "metadata": {
    "id": "DmPxNF0ZZiB5"
   },
   "source": [
    "#### 5) Adam\n",
    "\n",
    "모멘텀 최적화와 RMSprop의 장점을 접목한 것이 Adam이다. RMSprop의 특징인 gradient의 제곱을 지수평균한 값을 사용하며 Momentum의 특징으로 gradient를 제곱하지 않은 값을 사용하여 지수평균을 구하고 수식에 활용합니다.\n",
    "\n",
    "Adam 클래스도 keras.optimizers 패키지 아래에 있다. 적응적 학습률을 사용하는 3개의 클래스는 learning_rate 매개변수의 기본값으로 모두 0.001을 사용한다.\n"
   ]
  },
  {
   "cell_type": "code",
   "metadata": {
    "executionInfo": {
     "elapsed": 1,
     "status": "ok",
     "timestamp": 1753350240483,
     "user": {
      "displayName": "ihan",
      "userId": "16117014847748292320"
     },
     "user_tz": -540
    },
    "id": "IfURRYXhZiB5",
    "ExecuteTime": {
     "end_time": "2025-07-24T09:53:46.954716Z",
     "start_time": "2025-07-24T09:53:46.951558Z"
    }
   },
   "source": [
    "adam = keras.optimizers.Adam(learning_rate = 0.001)\n",
    "model.compile(optimizer=adam)"
   ],
   "outputs": [],
   "execution_count": 154
  },
  {
   "cell_type": "markdown",
   "metadata": {
    "id": "CCbaz2kdZiB5"
   },
   "source": [
    "#### 6) AdaDelta(Adaptive Delta)\n",
    "\n",
    "AdaDelta는 Adagrad, RMSprop, Momentum 모두를 합친 경사하강법이다. [논문 링크](http://www.matthewzeiler.com/wp-content/uploads/2017/07/googleTR2012.pdf)\n",
    "\n",
    "2가지 특징\n",
    " - 첫 번째는 Adagrad 특징인 모든 step의 gradient 제곱의 합을 window size를 두어 window size만큼의 합으로 변경합니다. 이후 RMSprop과 똑같지 지수이동평균을 적용합니다.\n",
    "\n",
    " - 두 번째는 헤시안(Hessian) 근사법(Approximation)을 이용한 단위(Units) 수정입니다.\n"
   ]
  },
  {
   "cell_type": "code",
   "metadata": {
    "executionInfo": {
     "elapsed": 1,
     "status": "ok",
     "timestamp": 1753350240484,
     "user": {
      "displayName": "ihan",
      "userId": "16117014847748292320"
     },
     "user_tz": -540
    },
    "id": "3PEzi4k8ZiB5",
    "ExecuteTime": {
     "end_time": "2025-07-24T09:53:46.965619Z",
     "start_time": "2025-07-24T09:53:46.962678Z"
    }
   },
   "source": [
    "adadelta = keras.optimizers.Adadelta(learning_rate=0.001)\n",
    "model.compile(optimizer=adadelta)\n"
   ],
   "outputs": [],
   "execution_count": 155
  },
  {
   "cell_type": "markdown",
   "metadata": {
    "id": "-nf9fDdeZiB6"
   },
   "source": [
    "# 9.Keras 콜백\n",
    "\n",
    "모든 콜백은 `keras.callbacks.Callback` 클래스를 하위 클래스화하며, 훈련, 테스트 및 예측의 다양한 단계에서 호출되는 메서드 세트를 재정의합니다. 콜백은 훈련 중 모델의 내부 상태 및 통계를 볼 때 유용합니다.\n",
    "\n",
    "콜백(키워드 인수 callbacks와 같은)의 목록을 다음 모델 메서드에 전달할 수 있습니다.\n",
    "\n",
    "- keras.Model.fit()\n",
    "- keras.Model.evaluate()\n",
    "- keras.Model.predict()\n"
   ]
  },
  {
   "cell_type": "code",
   "metadata": {
    "executionInfo": {
     "elapsed": 429,
     "status": "ok",
     "timestamp": 1753350240922,
     "user": {
      "displayName": "ihan",
      "userId": "16117014847748292320"
     },
     "user_tz": -540
    },
    "id": "VwcHgs1_ZiB6",
    "ExecuteTime": {
     "end_time": "2025-07-24T09:53:47.237383Z",
     "start_time": "2025-07-24T09:53:46.975689Z"
    }
   },
   "source": [
    "from sklearn.model_selection import train_test_split\n",
    "\n",
    "(train_images, train_labels), (test_images, test_labels) = keras.datasets.fashion_mnist.load_data()\n",
    "\n",
    "train_scaled = train_images / 255.0\n",
    "\n",
    "train_scaled, val_scaled, train_labels, val_target = train_test_split(\n",
    "    train_scaled, train_labels, test_size=0.2, random_state=42)"
   ],
   "outputs": [],
   "execution_count": 156
  },
  {
   "cell_type": "code",
   "metadata": {
    "executionInfo": {
     "elapsed": 16,
     "status": "ok",
     "timestamp": 1753350240940,
     "user": {
      "displayName": "ihan",
      "userId": "16117014847748292320"
     },
     "user_tz": -540
    },
    "id": "EOOqrwqYZiB6",
    "ExecuteTime": {
     "end_time": "2025-07-24T09:53:47.267228Z",
     "start_time": "2025-07-24T09:53:47.257654Z"
    }
   },
   "source": [
    "model = keras.Sequential()\n",
    "model.add(keras.layers.Input((28,28)))\n",
    "model.add(keras.layers.Flatten())\n",
    "model.add(keras.layers.Dense(100, activation='relu'))\n",
    "model.add(keras.layers.Dense(10, activation='softmax'))"
   ],
   "outputs": [],
   "execution_count": 157
  },
  {
   "cell_type": "code",
   "metadata": {
    "executionInfo": {
     "elapsed": 3,
     "status": "ok",
     "timestamp": 1753350240944,
     "user": {
      "displayName": "ihan",
      "userId": "16117014847748292320"
     },
     "user_tz": -540
    },
    "id": "ieGxfD61ZiB6",
    "ExecuteTime": {
     "end_time": "2025-07-24T09:53:47.287572Z",
     "start_time": "2025-07-24T09:53:47.283954Z"
    }
   },
   "source": [
    "model.compile(optimizer='adam',\n",
    "              loss='sparse_categorical_crossentropy',\n",
    "              metrics=['accuracy'])"
   ],
   "outputs": [],
   "execution_count": 158
  },
  {
   "cell_type": "markdown",
   "metadata": {
    "id": "BswX617HZiB7"
   },
   "source": [
    "## PrintDot Callback"
   ]
  },
  {
   "cell_type": "code",
   "metadata": {
    "executionInfo": {
     "elapsed": 7,
     "status": "ok",
     "timestamp": 1753350240954,
     "user": {
      "displayName": "ihan",
      "userId": "16117014847748292320"
     },
     "user_tz": -540
    },
    "id": "iQh_oCoBZiB7",
    "ExecuteTime": {
     "end_time": "2025-07-24T09:53:47.306026Z",
     "start_time": "2025-07-24T09:53:47.304204Z"
    }
   },
   "source": [
    "class PrintDot(keras.callbacks.Callback):\n",
    "    \"\"\"에포크가 끝날 때마다 점(.)을 출력해 훈련 진행 과정을 표시합니다\"\"\"\n",
    "    def on_epoch_end(self, epoch, logs):\n",
    "        if epoch % 10 == 0:\n",
    "            print('')\n",
    "        print('.', end='')\n"
   ],
   "outputs": [],
   "execution_count": 159
  },
  {
   "cell_type": "code",
   "metadata": {
    "colab": {
     "background_save": true,
     "base_uri": "https://localhost:8080/"
    },
    "id": "HCbjR92E5c2V",
    "ExecuteTime": {
     "end_time": "2025-07-24T10:11:57.195852Z",
     "start_time": "2025-07-24T09:53:47.319259Z"
    }
   },
   "source": [
    "history = model.fit(train_scaled,\n",
    "                    train_labels,\n",
    "                    epochs=30,\n",
    "                    validation_split=0.25,\n",
    "                    verbose=0,\n",
    "                    callbacks=[PrintDot()]\n",
    "                    )"
   ],
   "outputs": [
    {
     "name": "stdout",
     "output_type": "stream",
     "text": [
      "\n",
      "..........\n",
      "..........\n",
      "................\n",
      ".........."
     ]
    }
   ],
   "execution_count": 76
  },
  {
   "cell_type": "code",
   "metadata": {
    "colab": {
     "background_save": true
    },
    "id": "wZWoRA5JZiB7",
    "ExecuteTime": {
     "end_time": "2025-07-24T10:11:57.559087Z",
     "start_time": "2025-07-24T10:11:57.209206Z"
    }
   },
   "source": [
    "print(\"\\검증 데이터로 모델 평가:\")\n",
    "loss, accuracy = model.evaluate(val_scaled, val_target)\n",
    "print(f\"테스트 손실: {loss:.4f}\")\n",
    "print(f\"테스트 정확도: {accuracy:.4f}\")"
   ],
   "outputs": [
    {
     "name": "stdout",
     "output_type": "stream",
     "text": [
      "\\검증 데이터로 모델 평가:\n",
      "\u001B[1m375/375\u001B[0m \u001B[32m━━━━━━━━━━━━━━━━━━━━\u001B[0m\u001B[37m\u001B[0m \u001B[1m0s\u001B[0m 863us/step - accuracy: 0.8829 - loss: 0.4154\n",
      "테스트 손실: 0.4113\n",
      "테스트 정확도: 0.8815\n"
     ]
    }
   ],
   "execution_count": 77
  },
  {
   "cell_type": "markdown",
   "metadata": {
    "id": "-NzejkrnZiB8"
   },
   "source": [
    "## TqdmCallback"
   ]
  },
  {
   "cell_type": "markdown",
   "metadata": {
    "id": "Oz1JlqpbZiB8"
   },
   "source": [
    "Tqdm 과 Keras Integration\n",
    "\n",
    "https://github.com/tqdm/tqdm/#installation\n",
    "\n",
    "\n",
    "```bash\n",
    "pip install tqdm\n",
    "\n",
    "conda install -c conda-forge tqdm\n",
    "```"
   ]
  },
  {
   "cell_type": "markdown",
   "metadata": {
    "id": "UbuNHiacZiB8"
   },
   "source": [
    "TQDM을 Jupyter notebook 에 표시하기 위해서 ipywidgets 도 설치한다."
   ]
  },
  {
   "cell_type": "code",
   "metadata": {
    "colab": {
     "background_save": true
    },
    "id": "3UfsKB9HZiB8",
    "ExecuteTime": {
     "end_time": "2025-07-24T10:11:58.024541Z",
     "start_time": "2025-07-24T10:11:57.561150Z"
    }
   },
   "source": [
    "%pip install tqdm ipywidgets"
   ],
   "outputs": [
    {
     "name": "stdout",
     "output_type": "stream",
     "text": [
      "Requirement already satisfied: tqdm in /opt/anaconda3/envs/stenv/lib/python3.9/site-packages (4.67.1)\r\n",
      "Requirement already satisfied: ipywidgets in /opt/anaconda3/envs/stenv/lib/python3.9/site-packages (8.1.7)\r\n",
      "Requirement already satisfied: comm>=0.1.3 in /opt/anaconda3/envs/stenv/lib/python3.9/site-packages (from ipywidgets) (0.2.2)\r\n",
      "Requirement already satisfied: ipython>=6.1.0 in /opt/anaconda3/envs/stenv/lib/python3.9/site-packages (from ipywidgets) (8.18.1)\r\n",
      "Requirement already satisfied: traitlets>=4.3.1 in /opt/anaconda3/envs/stenv/lib/python3.9/site-packages (from ipywidgets) (5.14.3)\r\n",
      "Requirement already satisfied: widgetsnbextension~=4.0.14 in /opt/anaconda3/envs/stenv/lib/python3.9/site-packages (from ipywidgets) (4.0.14)\r\n",
      "Requirement already satisfied: jupyterlab_widgets~=3.0.15 in /opt/anaconda3/envs/stenv/lib/python3.9/site-packages (from ipywidgets) (3.0.15)\r\n",
      "Requirement already satisfied: decorator in /opt/anaconda3/envs/stenv/lib/python3.9/site-packages (from ipython>=6.1.0->ipywidgets) (5.2.1)\r\n",
      "Requirement already satisfied: jedi>=0.16 in /opt/anaconda3/envs/stenv/lib/python3.9/site-packages (from ipython>=6.1.0->ipywidgets) (0.19.2)\r\n",
      "Requirement already satisfied: matplotlib-inline in /opt/anaconda3/envs/stenv/lib/python3.9/site-packages (from ipython>=6.1.0->ipywidgets) (0.1.7)\r\n",
      "Requirement already satisfied: prompt-toolkit<3.1.0,>=3.0.41 in /opt/anaconda3/envs/stenv/lib/python3.9/site-packages (from ipython>=6.1.0->ipywidgets) (3.0.51)\r\n",
      "Requirement already satisfied: pygments>=2.4.0 in /opt/anaconda3/envs/stenv/lib/python3.9/site-packages (from ipython>=6.1.0->ipywidgets) (2.19.2)\r\n",
      "Requirement already satisfied: stack-data in /opt/anaconda3/envs/stenv/lib/python3.9/site-packages (from ipython>=6.1.0->ipywidgets) (0.6.3)\r\n",
      "Requirement already satisfied: typing-extensions in /opt/anaconda3/envs/stenv/lib/python3.9/site-packages (from ipython>=6.1.0->ipywidgets) (4.14.1)\r\n",
      "Requirement already satisfied: exceptiongroup in /opt/anaconda3/envs/stenv/lib/python3.9/site-packages (from ipython>=6.1.0->ipywidgets) (1.3.0)\r\n",
      "Requirement already satisfied: pexpect>4.3 in /opt/anaconda3/envs/stenv/lib/python3.9/site-packages (from ipython>=6.1.0->ipywidgets) (4.9.0)\r\n",
      "Requirement already satisfied: wcwidth in /opt/anaconda3/envs/stenv/lib/python3.9/site-packages (from prompt-toolkit<3.1.0,>=3.0.41->ipython>=6.1.0->ipywidgets) (0.2.13)\r\n",
      "Requirement already satisfied: parso<0.9.0,>=0.8.4 in /opt/anaconda3/envs/stenv/lib/python3.9/site-packages (from jedi>=0.16->ipython>=6.1.0->ipywidgets) (0.8.4)\r\n",
      "Requirement already satisfied: ptyprocess>=0.5 in /opt/anaconda3/envs/stenv/lib/python3.9/site-packages (from pexpect>4.3->ipython>=6.1.0->ipywidgets) (0.7.0)\r\n",
      "Requirement already satisfied: executing>=1.2.0 in /opt/anaconda3/envs/stenv/lib/python3.9/site-packages (from stack-data->ipython>=6.1.0->ipywidgets) (2.2.0)\r\n",
      "Requirement already satisfied: asttokens>=2.1.0 in /opt/anaconda3/envs/stenv/lib/python3.9/site-packages (from stack-data->ipython>=6.1.0->ipywidgets) (3.0.0)\r\n",
      "Requirement already satisfied: pure-eval in /opt/anaconda3/envs/stenv/lib/python3.9/site-packages (from stack-data->ipython>=6.1.0->ipywidgets) (0.2.3)\r\n",
      "Note: you may need to restart the kernel to use updated packages.\n"
     ]
    }
   ],
   "execution_count": 78
  },
  {
   "cell_type": "code",
   "metadata": {
    "colab": {
     "background_save": true
    },
    "id": "ZeZlYL2-ZiB9",
    "ExecuteTime": {
     "end_time": "2025-07-24T10:11:59.053766Z",
     "start_time": "2025-07-24T10:11:58.032360Z"
    }
   },
   "source": [
    "from tqdm import tqdm\n",
    "from time import sleep\n",
    "\n",
    "text = \"\"\n",
    "for char in tqdm([\"a\", \"b\", \"c\", \"d\"]):\n",
    "    sleep(0.25)\n",
    "    text = text + char"
   ],
   "outputs": [
    {
     "name": "stderr",
     "output_type": "stream",
     "text": [
      "100%|██████████| 4/4 [00:01<00:00,  3.94it/s]\n"
     ]
    }
   ],
   "execution_count": 79
  },
  {
   "cell_type": "markdown",
   "metadata": {
    "id": "KlI2HLvLZiB9"
   },
   "source": [
    "keras.fit() 메서드 verbose=0 으로 지정하고  callback 매개변수에 TqdmCallback을 사용해 Tqdm으로 출력\n",
    "\n",
    "```python\n",
    "from tqdm.keras import TqdmCallback\n",
    "\n",
    "model.fit(..., verbose=0, callbacks=[TqdmCallback()])\n",
    "```"
   ]
  },
  {
   "cell_type": "code",
   "metadata": {
    "colab": {
     "background_save": true
    },
    "id": "YMX81Wuk7USH",
    "ExecuteTime": {
     "end_time": "2025-07-24T10:11:59.072111Z",
     "start_time": "2025-07-24T10:11:59.061781Z"
    }
   },
   "source": [
    "model = keras.Sequential()\n",
    "model.add(keras.layers.Input((28,28)))\n",
    "model.add(keras.layers.Flatten())\n",
    "model.add(keras.layers.Dense(100, activation='relu'))\n",
    "model.add(keras.layers.Dense(10, activation='softmax'))\n",
    "\n",
    "model.compile(optimizer='adam',\n",
    "              loss='sparse_categorical_crossentropy',\n",
    "              metrics=['accuracy'])"
   ],
   "outputs": [],
   "execution_count": 80
  },
  {
   "cell_type": "code",
   "metadata": {
    "colab": {
     "background_save": true
    },
    "id": "MyKUnLQtZiB9",
    "jupyter": {
     "is_executing": true
    },
    "ExecuteTime": {
     "start_time": "2025-07-24T10:11:59.078225Z"
    }
   },
   "source": [
    "from tqdm.keras import TqdmCallback\n",
    "\n",
    "history = model.fit(train_scaled,\n",
    "                    train_labels,\n",
    "                    epochs=30,\n",
    "                    validation_split=0.25,\n",
    "                    verbose=1,\n",
    "                    callbacks=[TqdmCallback()]\n",
    "                    )"
   ],
   "outputs": [
    {
     "data": {
      "text/plain": [
       "0epoch [00:00, ?epoch/s]"
      ],
      "application/vnd.jupyter.widget-view+json": {
       "version_major": 2,
       "version_minor": 0,
       "model_id": "8b97185acf674079a7526b137a61a4c1"
      }
     },
     "metadata": {},
     "output_type": "display_data"
    },
    {
     "data": {
      "text/plain": [
       "0batch [00:00, ?batch/s]"
      ],
      "application/vnd.jupyter.widget-view+json": {
       "version_major": 2,
       "version_minor": 0,
       "model_id": "475d7002cff54320a4c6f4bfaf9ac809"
      }
     },
     "metadata": {},
     "output_type": "display_data"
    },
    {
     "name": "stdout",
     "output_type": "stream",
     "text": [
      "Epoch 1/30\n",
      "\u001B[1m1125/1125\u001B[0m \u001B[32m━━━━━━━━━━━━━━━━━━━━\u001B[0m\u001B[37m\u001B[0m \u001B[1m1s\u001B[0m 832us/step - accuracy: 0.7581 - loss: 0.7073 - val_accuracy: 0.8494 - val_loss: 0.4342\n",
      "Epoch 2/30\n",
      "\u001B[1m1125/1125\u001B[0m \u001B[32m━━━━━━━━━━━━━━━━━━━━\u001B[0m\u001B[37m\u001B[0m \u001B[1m1s\u001B[0m 854us/step - accuracy: 0.8486 - loss: 0.4286 - val_accuracy: 0.8528 - val_loss: 0.4122\n",
      "Epoch 3/30\n",
      "\u001B[1m1125/1125\u001B[0m \u001B[32m━━━━━━━━━━━━━━━━━━━━\u001B[0m\u001B[37m\u001B[0m \u001B[1m1s\u001B[0m 841us/step - accuracy: 0.8670 - loss: 0.3736 - val_accuracy: 0.8429 - val_loss: 0.4431\n",
      "Epoch 4/30\n",
      "\u001B[1m 163/1125\u001B[0m \u001B[32m━━\u001B[0m\u001B[37m━━━━━━━━━━━━━━━━━━\u001B[0m \u001B[1m0s\u001B[0m 621us/step - accuracy: 0.8647 - loss: 0.3715"
     ]
    }
   ],
   "execution_count": null
  },
  {
   "cell_type": "code",
   "metadata": {
    "colab": {
     "background_save": true
    },
    "id": "kvfD2AHAZiB9",
    "ExecuteTime": {
     "end_time": "2025-07-24T09:54:35.463964Z",
     "start_time": "2025-07-24T09:54:35.462108Z"
    }
   },
   "source": [
    "print(\"\\검증 데이터로 모델 평가:\")\n",
    "\n",
    "print(f\"테스트 손실: {loss:.4f}\")\n",
    "print(f\"테스트 정확도: {accuracy:.4f}\")"
   ],
   "outputs": [
    {
     "name": "stdout",
     "output_type": "stream",
     "text": [
      "\\검증 데이터로 모델 평가:\n",
      "테스트 손실: 0.4071\n",
      "테스트 정확도: 0.8815\n"
     ]
    }
   ],
   "execution_count": 166
  },
  {
   "cell_type": "code",
   "metadata": {
    "colab": {
     "background_save": true
    },
    "id": "BX9zqw7JZiB-",
    "ExecuteTime": {
     "end_time": "2025-07-24T09:54:35.626893Z",
     "start_time": "2025-07-24T09:54:35.483232Z"
    }
   },
   "source": [
    "plt.figure(figsize=(12, 4))\n",
    "\n",
    "plt.subplot(1, 2, 1)\n",
    "plt.plot(history.history['loss'], 'b-', label='loss')\n",
    "# plt.plot(history.history['val_loss'], 'r--', label='val_loss')\n",
    "plt.xlabel('Epoch')\n",
    "plt.legend()\n",
    "\n",
    "plt.subplot(1, 2, 2)\n",
    "plt.plot(history.history['accuracy'], 'g-', label='accuracy')\n",
    "# plt.plot(history.history['val_accuracy'], 'k--', label='val_accuracy')\n",
    "plt.xlabel('Epoch')\n",
    "plt.ylim(0.7, 1)\n",
    "plt.legend()"
   ],
   "outputs": [
    {
     "data": {
      "text/plain": [
       "<matplotlib.legend.Legend at 0x3e1ce9160>"
      ]
     },
     "execution_count": 167,
     "metadata": {},
     "output_type": "execute_result"
    },
    {
     "data": {
      "text/plain": [
       "<Figure size 1200x400 with 2 Axes>"
      ],
      "image/png": "[encoded data removed]"
     },
     "metadata": {},
     "output_type": "display_data"
    }
   ],
   "execution_count": 167
  },
  {
   "cell_type": "markdown",
   "metadata": {
    "id": "mTgK-k_2ZiB-"
   },
   "source": [
    "---\n",
    "\n",
    "# 참고\n",
    " - 혼자하는 MDL/chapter.7 딥러닝을 시작합니다\n",
    " - [경사하강법 설명](https://twinw.tistory.com/247)\n",
    "\n"
   ]
  }
 ],
 "metadata": {
  "accelerator": "GPU",
  "colab": {
   "name": "",
   "toc_visible": true,
   "version": ""
  },
  "kernelspec": {
   "display_name": "DL_P312",
   "language": "python",
   "name": "python3"
  },
  "language_info": {
   "codemirror_mode": {
    "name": "ipython",
    "version": 3
   },
   "file_extension": ".py",
   "mimetype": "text/x-python",
   "name": "python",
   "nbconvert_exporter": "python",
   "pygments_lexer": "ipython3",
   "version": "3.12.11"
  }
 },
 "nbformat": 4,
 "nbformat_minor": 0
}
