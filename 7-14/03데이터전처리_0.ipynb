{
 "cells": [
  {
   "cell_type": "markdown",
   "id": "6fb03ec2",
   "metadata": {},
   "source": [
    "# 03. 데이터 전 처리하기"
   ]
  },
  {
   "cell_type": "code",
   "id": "33ffca73",
   "metadata": {
    "ExecuteTime": {
     "end_time": "2025-07-14T05:33:42.334193Z",
     "start_time": "2025-07-14T05:33:42.320810Z"
    }
   },
   "source": [
    "from pexpect import split_command_line\n",
    "from sklearn import show_versions\n",
    "show_versions()"
   ],
   "outputs": [
    {
     "name": "stdout",
     "output_type": "stream",
     "text": [
      "\n",
      "System:\n",
      "    python: 3.13.2 (v3.13.2:4f8bb3947cf, Feb  4 2025, 11:51:10) [Clang 15.0.0 (clang-1500.3.9.4)]\n",
      "executable: /usr/local/bin/python3.13\n",
      "   machine: macOS-26.0-arm64-arm-64bit-Mach-O\n",
      "\n",
      "Python dependencies:\n",
      "      sklearn: 1.6.1\n",
      "          pip: 24.3.1\n",
      "   setuptools: 75.8.0\n",
      "        numpy: 1.26.4\n",
      "        scipy: 1.16.0\n",
      "       Cython: None\n",
      "       pandas: 2.2.3\n",
      "   matplotlib: 3.10.0\n",
      "       joblib: 1.4.2\n",
      "threadpoolctl: 3.5.0\n",
      "\n",
      "Built with OpenMP: True\n",
      "\n",
      "threadpoolctl info:\n",
      "       user_api: openmp\n",
      "   internal_api: openmp\n",
      "    num_threads: 14\n",
      "         prefix: libomp\n",
      "       filepath: /Users/ihanjo/Library/Python/3.13/lib/python/site-packages/sklearn/.dylibs/libomp.dylib\n",
      "        version: None\n"
     ]
    }
   ],
   "execution_count": 29
  },
  {
   "cell_type": "markdown",
   "id": "0d43849f",
   "metadata": {},
   "source": [
    "### 데이터의 특징 이해\n",
    "\n",
    "ML알고리즘은 데이터 기반이므로 어떤 데이터를 입력하느냐에 따라 결과도 달라질 수 있다.\n",
    "\n",
    "**[Garbage In, Garbage Out]**\n",
    "\n",
    "- 결손값 NaN, Null 값은 고정된 다른 값으로 변환해야 한다.\n",
    "- 사이킷런 알고리즘은 문자열 값을 입력으로 사용하지 않는다.\n",
    "    - 숫자로 인코딩 되야 한다.\n",
    "- 문자는 카테고리형 피처와 텍스트형 피처가 있을 수 있다.\n",
    "    - 카테고리형은 코드 값으로\n",
    "    - 텍스트형은 피처 벡터화 등 기법\n",
    "\n",
    "\n",
    "데이터 세트에는 Gender, Married, Dependents, Self_Employed 과 Education과 같은 서로 다른 특징을 가질 수 있다. 이러한 모든 범주형 특성은 문자열 값이지만, 실제로 일어나는 일은 Logistic Regression, kNN 같은 거리 기반 방법, sklearn에서 SVM, Tree 기반 방법 등은 학습자들이 숫자 배열을 필요로 한다는 것입니다. 문자열 값이 있는 기능은 이러한 학습자가 처리할 수 없다."
   ]
  },
  {
   "metadata": {},
   "cell_type": "markdown",
   "source": "feature engineering",
   "id": "bf9be258d2b0fdc"
  },
  {
   "cell_type": "markdown",
   "id": "164c56b1",
   "metadata": {},
   "source": [
    "\n",
    "### 데이터 전 처리의 역할\n",
    "1. 머신러닝의 입력 형태로 **데이터 변환 (특성 엔지니어링)**\n",
    "    - 대부분의 머신러닝 모델은 숫자 데이터를, 일반적으로 **행렬 형태**로 입력받는다.\n",
    "    - 그러므로 전 처리를 통해 일반 데이터를 머신러닝 모델이 이해할 수 있는 **수치형 자료**로 변환해 주어야 한다.\n",
    "2. 결측값 및 이상치를 처리하여 **데이터 정제**\n",
    "    - NaN과 outlier 제거\n",
    "3. 학습용 및 평가용 **데이터 분리**\n",
    "    - 원본 데이터를 학습용 데이터와 평가용 데이터로 분리\n",
    "    - 원본 데이터 전체를 학습용 데이터로 사용할 경우, 과적합 문제가 발생할 수 있다.\n",
    "    - training(test) + validation\n",
    "\n"
   ]
  },
  {
   "cell_type": "markdown",
   "id": "0c203a7b",
   "metadata": {},
   "source": "# 1. 범주형 자료 전 처리"
  },
  {
   "cell_type": "markdown",
   "id": "9e245790",
   "metadata": {},
   "source": [
    "### 대표적인 범주형의 One-Hot 인코딩\n",
    "\n",
    "\n",
    "- 명목형 자료\n",
    "  - 원-핫 인코딩으로 범주형을 변환\n",
    "  - **수치 맵핑 방식**\n",
    "    - 범주가 2개인 경우, 범주를 0, 1로 맵핑 `예) male 0, female 1`\n",
    "    - 범주가 3개 이상인 경우, 수치의 크기 간격을 같게 하여 수치 맵핑 `예) S는 0, Q는 1, C는 2 (Embarked)`\n",
    "  - **더미(Dummy) 기법**\n",
    "    - 가변수(Dummy variable)를 사용해 각 범주를 0 또는 1로 변환\n",
    "    - `예) Sex를 Sex_female과 Sex_male의 범주로 나누면, 남자는 Sex_female이 0, Sex_male이 1`\n",
    "    - `Embarked를 Embarked_S, Embarked_Q, Embarked_C로 나누면, Q는 Embarked_S가 0, Embarked_Q가 1, Embarked_C가 0`\n",
    "\n",
    "- 순서형 자료\n",
    "  - 수치 맵핑 방식\n",
    "    - 수치에 맵핑하여 변환하지만, 수치 간 크기 차이는 커스텀 가능\n",
    "      - `예) 없음은 0, 조금 많음은 4, 매우 많음은 10`\n",
    "    - 크기 차이가 머신러닝 결과에 영향을 끼칠 수 있음"
   ]
  },
  {
   "cell_type": "markdown",
   "id": "05975044",
   "metadata": {},
   "source": [
    "### 명목형 자료 변환하기 - 수치 맵핑\n",
    "\n",
    "명목형 단어를 대응하는 숫자로 변환한다.\n",
    "\n",
    "예) setona -> 0, A학점 -> 95~98"
   ]
  },
  {
   "cell_type": "code",
   "id": "70a4ef2f",
   "metadata": {
    "ExecuteTime": {
     "end_time": "2025-07-14T05:35:12.104702Z",
     "start_time": "2025-07-14T05:35:12.100186Z"
    }
   },
   "source": [
    "import pandas as pd\n",
    "# 데이터 읽기\n",
    "titanic = pd.read_csv('./data/titanic.csv')\n",
    "print('변환 전: \\n',titanic['Sex'].head())\n"
   ],
   "outputs": [
    {
     "name": "stdout",
     "output_type": "stream",
     "text": [
      "변환 전: \n",
      " 0      male\n",
      "1    female\n",
      "2    female\n",
      "3    female\n",
      "4      male\n",
      "Name: Sex, dtype: object\n"
     ]
    }
   ],
   "execution_count": 54
  },
  {
   "metadata": {
    "ExecuteTime": {
     "end_time": "2025-07-14T05:35:14.287565Z",
     "start_time": "2025-07-14T05:35:14.282686Z"
    }
   },
   "cell_type": "code",
   "source": "titanic.head()",
   "id": "ed818a17b9cf3f3f",
   "outputs": [
    {
     "data": {
      "text/plain": [
       "   PassengerId  Survived  Pclass  \\\n",
       "0            1         0       3   \n",
       "1            2         1       1   \n",
       "2            3         1       3   \n",
       "3            4         1       1   \n",
       "4            5         0       3   \n",
       "\n",
       "                                                Name     Sex   Age  SibSp  \\\n",
       "0                            Braund, Mr. Owen Harris    male  22.0      1   \n",
       "1  Cumings, Mrs. John Bradley (Florence Briggs Th...  female  38.0      1   \n",
       "2                             Heikkinen, Miss. Laina  female  26.0      0   \n",
       "3       Futrelle, Mrs. Jacques Heath (Lily May Peel)  female  35.0      1   \n",
       "4                           Allen, Mr. William Henry    male  35.0      0   \n",
       "\n",
       "   Parch            Ticket     Fare Cabin Embarked  \n",
       "0      0         A/5 21171   7.2500   NaN        S  \n",
       "1      0          PC 17599  71.2833   C85        C  \n",
       "2      0  STON/O2. 3101282   7.9250   NaN        S  \n",
       "3      0            113803  53.1000  C123        S  \n",
       "4      0            373450   8.0500   NaN        S  "
      ],
      "text/html": [
       "<div>\n",
       "<style scoped>\n",
       "    .dataframe tbody tr th:only-of-type {\n",
       "        vertical-align: middle;\n",
       "    }\n",
       "\n",
       "    .dataframe tbody tr th {\n",
       "        vertical-align: top;\n",
       "    }\n",
       "\n",
       "    .dataframe thead th {\n",
       "        text-align: right;\n",
       "    }\n",
       "</style>\n",
       "<table border=\"1\" class=\"dataframe\">\n",
       "  <thead>\n",
       "    <tr style=\"text-align: right;\">\n",
       "      <th></th>\n",
       "      <th>PassengerId</th>\n",
       "      <th>Survived</th>\n",
       "      <th>Pclass</th>\n",
       "      <th>Name</th>\n",
       "      <th>Sex</th>\n",
       "      <th>Age</th>\n",
       "      <th>SibSp</th>\n",
       "      <th>Parch</th>\n",
       "      <th>Ticket</th>\n",
       "      <th>Fare</th>\n",
       "      <th>Cabin</th>\n",
       "      <th>Embarked</th>\n",
       "    </tr>\n",
       "  </thead>\n",
       "  <tbody>\n",
       "    <tr>\n",
       "      <th>0</th>\n",
       "      <td>1</td>\n",
       "      <td>0</td>\n",
       "      <td>3</td>\n",
       "      <td>Braund, Mr. Owen Harris</td>\n",
       "      <td>male</td>\n",
       "      <td>22.0</td>\n",
       "      <td>1</td>\n",
       "      <td>0</td>\n",
       "      <td>A/5 21171</td>\n",
       "      <td>7.2500</td>\n",
       "      <td>NaN</td>\n",
       "      <td>S</td>\n",
       "    </tr>\n",
       "    <tr>\n",
       "      <th>1</th>\n",
       "      <td>2</td>\n",
       "      <td>1</td>\n",
       "      <td>1</td>\n",
       "      <td>Cumings, Mrs. John Bradley (Florence Briggs Th...</td>\n",
       "      <td>female</td>\n",
       "      <td>38.0</td>\n",
       "      <td>1</td>\n",
       "      <td>0</td>\n",
       "      <td>PC 17599</td>\n",
       "      <td>71.2833</td>\n",
       "      <td>C85</td>\n",
       "      <td>C</td>\n",
       "    </tr>\n",
       "    <tr>\n",
       "      <th>2</th>\n",
       "      <td>3</td>\n",
       "      <td>1</td>\n",
       "      <td>3</td>\n",
       "      <td>Heikkinen, Miss. Laina</td>\n",
       "      <td>female</td>\n",
       "      <td>26.0</td>\n",
       "      <td>0</td>\n",
       "      <td>0</td>\n",
       "      <td>STON/O2. 3101282</td>\n",
       "      <td>7.9250</td>\n",
       "      <td>NaN</td>\n",
       "      <td>S</td>\n",
       "    </tr>\n",
       "    <tr>\n",
       "      <th>3</th>\n",
       "      <td>4</td>\n",
       "      <td>1</td>\n",
       "      <td>1</td>\n",
       "      <td>Futrelle, Mrs. Jacques Heath (Lily May Peel)</td>\n",
       "      <td>female</td>\n",
       "      <td>35.0</td>\n",
       "      <td>1</td>\n",
       "      <td>0</td>\n",
       "      <td>113803</td>\n",
       "      <td>53.1000</td>\n",
       "      <td>C123</td>\n",
       "      <td>S</td>\n",
       "    </tr>\n",
       "    <tr>\n",
       "      <th>4</th>\n",
       "      <td>5</td>\n",
       "      <td>0</td>\n",
       "      <td>3</td>\n",
       "      <td>Allen, Mr. William Henry</td>\n",
       "      <td>male</td>\n",
       "      <td>35.0</td>\n",
       "      <td>0</td>\n",
       "      <td>0</td>\n",
       "      <td>373450</td>\n",
       "      <td>8.0500</td>\n",
       "      <td>NaN</td>\n",
       "      <td>S</td>\n",
       "    </tr>\n",
       "  </tbody>\n",
       "</table>\n",
       "</div>"
      ]
     },
     "execution_count": 55,
     "metadata": {},
     "output_type": "execute_result"
    }
   ],
   "execution_count": 55
  },
  {
   "metadata": {
    "ExecuteTime": {
     "end_time": "2025-07-14T05:35:16.410951Z",
     "start_time": "2025-07-14T05:35:16.406701Z"
    }
   },
   "cell_type": "code",
   "source": "titanic.info()",
   "id": "309731bc9d4a4000",
   "outputs": [
    {
     "name": "stdout",
     "output_type": "stream",
     "text": [
      "<class 'pandas.core.frame.DataFrame'>\n",
      "RangeIndex: 891 entries, 0 to 890\n",
      "Data columns (total 12 columns):\n",
      " #   Column       Non-Null Count  Dtype  \n",
      "---  ------       --------------  -----  \n",
      " 0   PassengerId  891 non-null    int64  \n",
      " 1   Survived     891 non-null    int64  \n",
      " 2   Pclass       891 non-null    int64  \n",
      " 3   Name         891 non-null    object \n",
      " 4   Sex          891 non-null    object \n",
      " 5   Age          714 non-null    float64\n",
      " 6   SibSp        891 non-null    int64  \n",
      " 7   Parch        891 non-null    int64  \n",
      " 8   Ticket       891 non-null    object \n",
      " 9   Fare         891 non-null    float64\n",
      " 10  Cabin        204 non-null    object \n",
      " 11  Embarked     889 non-null    object \n",
      "dtypes: float64(2), int64(5), object(5)\n",
      "memory usage: 83.7+ KB\n"
     ]
    }
   ],
   "execution_count": 56
  },
  {
   "metadata": {
    "ExecuteTime": {
     "end_time": "2025-07-14T05:35:18.080518Z",
     "start_time": "2025-07-14T05:35:18.077958Z"
    }
   },
   "cell_type": "code",
   "source": "titanic['Sex'].unique()",
   "id": "2b04bfea5d0f2b2c",
   "outputs": [
    {
     "data": {
      "text/plain": [
       "array(['male', 'female'], dtype=object)"
      ]
     },
     "execution_count": 57,
     "metadata": {},
     "output_type": "execute_result"
    }
   ],
   "execution_count": 57
  },
  {
   "metadata": {
    "ExecuteTime": {
     "end_time": "2025-07-14T05:35:19.079156Z",
     "start_time": "2025-07-14T05:35:19.076330Z"
    }
   },
   "cell_type": "code",
   "source": "titanic['Age'].unique()",
   "id": "8c6e004484082bee",
   "outputs": [
    {
     "data": {
      "text/plain": [
       "array([22.  , 38.  , 26.  , 35.  ,   nan, 54.  ,  2.  , 27.  , 14.  ,\n",
       "        4.  , 58.  , 20.  , 39.  , 55.  , 31.  , 34.  , 15.  , 28.  ,\n",
       "        8.  , 19.  , 40.  , 66.  , 42.  , 21.  , 18.  ,  3.  ,  7.  ,\n",
       "       49.  , 29.  , 65.  , 28.5 ,  5.  , 11.  , 45.  , 17.  , 32.  ,\n",
       "       16.  , 25.  ,  0.83, 30.  , 33.  , 23.  , 24.  , 46.  , 59.  ,\n",
       "       71.  , 37.  , 47.  , 14.5 , 70.5 , 32.5 , 12.  ,  9.  , 36.5 ,\n",
       "       51.  , 55.5 , 40.5 , 44.  ,  1.  , 61.  , 56.  , 50.  , 36.  ,\n",
       "       45.5 , 20.5 , 62.  , 41.  , 52.  , 63.  , 23.5 ,  0.92, 43.  ,\n",
       "       60.  , 10.  , 64.  , 13.  , 48.  ,  0.75, 53.  , 57.  , 80.  ,\n",
       "       70.  , 24.5 ,  6.  ,  0.67, 30.5 ,  0.42, 34.5 , 74.  ])"
      ]
     },
     "execution_count": 58,
     "metadata": {},
     "output_type": "execute_result"
    }
   ],
   "execution_count": 58
  },
  {
   "metadata": {
    "ExecuteTime": {
     "end_time": "2025-07-14T05:35:20.750905Z",
     "start_time": "2025-07-14T05:35:20.748454Z"
    }
   },
   "cell_type": "code",
   "source": "titanic['Pclass'].unique()",
   "id": "7ffcbc0659d0e2d1",
   "outputs": [
    {
     "data": {
      "text/plain": [
       "array([3, 1, 2])"
      ]
     },
     "execution_count": 59,
     "metadata": {},
     "output_type": "execute_result"
    }
   ],
   "execution_count": 59
  },
  {
   "cell_type": "code",
   "id": "547d3730",
   "metadata": {
    "ExecuteTime": {
     "end_time": "2025-07-14T05:35:21.752482Z",
     "start_time": "2025-07-14T05:35:21.748637Z"
    }
   },
   "source": [
    "# 1. replace를 사용하여 male -> 0, female -> 1로 변환합니다.\n",
    "titanic['Sex'].replace({'male':0, 'female':1})\n",
    "\n",
    "# 변환한 성별 데이터를 출력합니다.\n",
    "titanic['Sex']"
   ],
   "outputs": [
    {
     "name": "stderr",
     "output_type": "stream",
     "text": [
      "/var/folders/x_/xf7w4xhx6kl03__yxdgdfl9m0000gn/T/ipykernel_79069/530945398.py:2: FutureWarning: Downcasting behavior in `replace` is deprecated and will be removed in a future version. To retain the old behavior, explicitly call `result.infer_objects(copy=False)`. To opt-in to the future behavior, set `pd.set_option('future.no_silent_downcasting', True)`\n",
      "  titanic['Sex'].replace({'male':0, 'female':1})\n"
     ]
    },
    {
     "data": {
      "text/plain": [
       "0        male\n",
       "1      female\n",
       "2      female\n",
       "3      female\n",
       "4        male\n",
       "        ...  \n",
       "886      male\n",
       "887    female\n",
       "888    female\n",
       "889      male\n",
       "890      male\n",
       "Name: Sex, Length: 891, dtype: object"
      ]
     },
     "execution_count": 60,
     "metadata": {},
     "output_type": "execute_result"
    }
   ],
   "execution_count": 60
  },
  {
   "cell_type": "markdown",
   "id": "c989c73d",
   "metadata": {},
   "source": [
    "### 명목형 자료 변환하기 - 더미 방식"
   ]
  },
  {
   "cell_type": "code",
   "id": "6dd2b765",
   "metadata": {
    "ExecuteTime": {
     "end_time": "2025-07-14T05:35:24.361063Z",
     "start_time": "2025-07-14T05:35:24.358671Z"
    }
   },
   "source": [
    "# Embarked 컬럼\n",
    "titanic['Embarked'].unique()\n"
   ],
   "outputs": [
    {
     "data": {
      "text/plain": [
       "array(['S', 'C', 'Q', nan], dtype=object)"
      ]
     },
     "execution_count": 61,
     "metadata": {},
     "output_type": "execute_result"
    }
   ],
   "execution_count": 61
  },
  {
   "cell_type": "code",
   "id": "67f0c187",
   "metadata": {
    "ExecuteTime": {
     "end_time": "2025-07-14T05:35:25.909290Z",
     "start_time": "2025-07-14T05:35:25.906192Z"
    }
   },
   "source": [
    "# get_dummies를 사용하여 변환합니다.\n",
    "dummies = pd.get_dummies(titanic['Embarked'])\n",
    "\n",
    "# 변환한 Embarked 데이터를 출력합니다.\n",
    "print('\\n변환 후: \\n',dummies.head())"
   ],
   "outputs": [
    {
     "name": "stdout",
     "output_type": "stream",
     "text": [
      "\n",
      "변환 후: \n",
      "        C      Q      S\n",
      "0  False  False   True\n",
      "1   True  False  False\n",
      "2  False  False   True\n",
      "3  False  False   True\n",
      "4  False  False   True\n"
     ]
    }
   ],
   "execution_count": 62
  },
  {
   "cell_type": "markdown",
   "id": "1c097ebd",
   "metadata": {},
   "source": [
    "다른 컬럼을 get_dummies 로 변환"
   ]
  },
  {
   "cell_type": "code",
   "id": "bcd69a71",
   "metadata": {
    "ExecuteTime": {
     "end_time": "2025-07-14T05:35:27.914126Z",
     "start_time": "2025-07-14T05:35:27.909373Z"
    }
   },
   "source": "pd.get_dummies(titanic[['Embarked']])",
   "outputs": [
    {
     "data": {
      "text/plain": [
       "     Embarked_C  Embarked_Q  Embarked_S\n",
       "0         False       False        True\n",
       "1          True       False       False\n",
       "2         False       False        True\n",
       "3         False       False        True\n",
       "4         False       False        True\n",
       "..          ...         ...         ...\n",
       "886       False       False        True\n",
       "887       False       False        True\n",
       "888       False       False        True\n",
       "889        True       False       False\n",
       "890       False        True       False\n",
       "\n",
       "[891 rows x 3 columns]"
      ],
      "text/html": [
       "<div>\n",
       "<style scoped>\n",
       "    .dataframe tbody tr th:only-of-type {\n",
       "        vertical-align: middle;\n",
       "    }\n",
       "\n",
       "    .dataframe tbody tr th {\n",
       "        vertical-align: top;\n",
       "    }\n",
       "\n",
       "    .dataframe thead th {\n",
       "        text-align: right;\n",
       "    }\n",
       "</style>\n",
       "<table border=\"1\" class=\"dataframe\">\n",
       "  <thead>\n",
       "    <tr style=\"text-align: right;\">\n",
       "      <th></th>\n",
       "      <th>Embarked_C</th>\n",
       "      <th>Embarked_Q</th>\n",
       "      <th>Embarked_S</th>\n",
       "    </tr>\n",
       "  </thead>\n",
       "  <tbody>\n",
       "    <tr>\n",
       "      <th>0</th>\n",
       "      <td>False</td>\n",
       "      <td>False</td>\n",
       "      <td>True</td>\n",
       "    </tr>\n",
       "    <tr>\n",
       "      <th>1</th>\n",
       "      <td>True</td>\n",
       "      <td>False</td>\n",
       "      <td>False</td>\n",
       "    </tr>\n",
       "    <tr>\n",
       "      <th>2</th>\n",
       "      <td>False</td>\n",
       "      <td>False</td>\n",
       "      <td>True</td>\n",
       "    </tr>\n",
       "    <tr>\n",
       "      <th>3</th>\n",
       "      <td>False</td>\n",
       "      <td>False</td>\n",
       "      <td>True</td>\n",
       "    </tr>\n",
       "    <tr>\n",
       "      <th>4</th>\n",
       "      <td>False</td>\n",
       "      <td>False</td>\n",
       "      <td>True</td>\n",
       "    </tr>\n",
       "    <tr>\n",
       "      <th>...</th>\n",
       "      <td>...</td>\n",
       "      <td>...</td>\n",
       "      <td>...</td>\n",
       "    </tr>\n",
       "    <tr>\n",
       "      <th>886</th>\n",
       "      <td>False</td>\n",
       "      <td>False</td>\n",
       "      <td>True</td>\n",
       "    </tr>\n",
       "    <tr>\n",
       "      <th>887</th>\n",
       "      <td>False</td>\n",
       "      <td>False</td>\n",
       "      <td>True</td>\n",
       "    </tr>\n",
       "    <tr>\n",
       "      <th>888</th>\n",
       "      <td>False</td>\n",
       "      <td>False</td>\n",
       "      <td>True</td>\n",
       "    </tr>\n",
       "    <tr>\n",
       "      <th>889</th>\n",
       "      <td>True</td>\n",
       "      <td>False</td>\n",
       "      <td>False</td>\n",
       "    </tr>\n",
       "    <tr>\n",
       "      <th>890</th>\n",
       "      <td>False</td>\n",
       "      <td>True</td>\n",
       "      <td>False</td>\n",
       "    </tr>\n",
       "  </tbody>\n",
       "</table>\n",
       "<p>891 rows × 3 columns</p>\n",
       "</div>"
      ]
     },
     "execution_count": 63,
     "metadata": {},
     "output_type": "execute_result"
    }
   ],
   "execution_count": 63
  },
  {
   "metadata": {
    "ExecuteTime": {
     "end_time": "2025-07-14T05:46:32.479710Z",
     "start_time": "2025-07-14T05:46:32.474271Z"
    }
   },
   "cell_type": "code",
   "source": "pd.get_dummies(titanic[['Sex']])",
   "id": "d16ebc49cc3f71f0",
   "outputs": [
    {
     "data": {
      "text/plain": [
       "     Sex_female  Sex_male\n",
       "0         False      True\n",
       "1          True     False\n",
       "2          True     False\n",
       "3          True     False\n",
       "4         False      True\n",
       "..          ...       ...\n",
       "886       False      True\n",
       "887        True     False\n",
       "888        True     False\n",
       "889       False      True\n",
       "890       False      True\n",
       "\n",
       "[891 rows x 2 columns]"
      ],
      "text/html": [
       "<div>\n",
       "<style scoped>\n",
       "    .dataframe tbody tr th:only-of-type {\n",
       "        vertical-align: middle;\n",
       "    }\n",
       "\n",
       "    .dataframe tbody tr th {\n",
       "        vertical-align: top;\n",
       "    }\n",
       "\n",
       "    .dataframe thead th {\n",
       "        text-align: right;\n",
       "    }\n",
       "</style>\n",
       "<table border=\"1\" class=\"dataframe\">\n",
       "  <thead>\n",
       "    <tr style=\"text-align: right;\">\n",
       "      <th></th>\n",
       "      <th>Sex_female</th>\n",
       "      <th>Sex_male</th>\n",
       "    </tr>\n",
       "  </thead>\n",
       "  <tbody>\n",
       "    <tr>\n",
       "      <th>0</th>\n",
       "      <td>False</td>\n",
       "      <td>True</td>\n",
       "    </tr>\n",
       "    <tr>\n",
       "      <th>1</th>\n",
       "      <td>True</td>\n",
       "      <td>False</td>\n",
       "    </tr>\n",
       "    <tr>\n",
       "      <th>2</th>\n",
       "      <td>True</td>\n",
       "      <td>False</td>\n",
       "    </tr>\n",
       "    <tr>\n",
       "      <th>3</th>\n",
       "      <td>True</td>\n",
       "      <td>False</td>\n",
       "    </tr>\n",
       "    <tr>\n",
       "      <th>4</th>\n",
       "      <td>False</td>\n",
       "      <td>True</td>\n",
       "    </tr>\n",
       "    <tr>\n",
       "      <th>...</th>\n",
       "      <td>...</td>\n",
       "      <td>...</td>\n",
       "    </tr>\n",
       "    <tr>\n",
       "      <th>886</th>\n",
       "      <td>False</td>\n",
       "      <td>True</td>\n",
       "    </tr>\n",
       "    <tr>\n",
       "      <th>887</th>\n",
       "      <td>True</td>\n",
       "      <td>False</td>\n",
       "    </tr>\n",
       "    <tr>\n",
       "      <th>888</th>\n",
       "      <td>True</td>\n",
       "      <td>False</td>\n",
       "    </tr>\n",
       "    <tr>\n",
       "      <th>889</th>\n",
       "      <td>False</td>\n",
       "      <td>True</td>\n",
       "    </tr>\n",
       "    <tr>\n",
       "      <th>890</th>\n",
       "      <td>False</td>\n",
       "      <td>True</td>\n",
       "    </tr>\n",
       "  </tbody>\n",
       "</table>\n",
       "<p>891 rows × 2 columns</p>\n",
       "</div>"
      ]
     },
     "execution_count": 76,
     "metadata": {},
     "output_type": "execute_result"
    }
   ],
   "execution_count": 76
  },
  {
   "metadata": {},
   "cell_type": "markdown",
   "source": "### \"실습\" bmi2000.csv 명목형 전처리",
   "id": "41009132"
  },
  {
   "metadata": {
    "ExecuteTime": {
     "end_time": "2025-07-14T05:41:48.594023Z",
     "start_time": "2025-07-14T05:41:48.587393Z"
    }
   },
   "cell_type": "code",
   "source": [
    "# bmi20000.csv\n",
    "\n",
    "df = pd.read_csv('./data/bmi20000.csv')\n",
    "\n",
    "df.head(3)"
   ],
   "id": "9c7b25d3",
   "outputs": [
    {
     "data": {
      "text/plain": [
       "   height  weight   label\n",
       "0     125      43  normal\n",
       "1     121      60  normal\n",
       "2     183      57    thin"
      ],
      "text/html": [
       "<div>\n",
       "<style scoped>\n",
       "    .dataframe tbody tr th:only-of-type {\n",
       "        vertical-align: middle;\n",
       "    }\n",
       "\n",
       "    .dataframe tbody tr th {\n",
       "        vertical-align: top;\n",
       "    }\n",
       "\n",
       "    .dataframe thead th {\n",
       "        text-align: right;\n",
       "    }\n",
       "</style>\n",
       "<table border=\"1\" class=\"dataframe\">\n",
       "  <thead>\n",
       "    <tr style=\"text-align: right;\">\n",
       "      <th></th>\n",
       "      <th>height</th>\n",
       "      <th>weight</th>\n",
       "      <th>label</th>\n",
       "    </tr>\n",
       "  </thead>\n",
       "  <tbody>\n",
       "    <tr>\n",
       "      <th>0</th>\n",
       "      <td>125</td>\n",
       "      <td>43</td>\n",
       "      <td>normal</td>\n",
       "    </tr>\n",
       "    <tr>\n",
       "      <th>1</th>\n",
       "      <td>121</td>\n",
       "      <td>60</td>\n",
       "      <td>normal</td>\n",
       "    </tr>\n",
       "    <tr>\n",
       "      <th>2</th>\n",
       "      <td>183</td>\n",
       "      <td>57</td>\n",
       "      <td>thin</td>\n",
       "    </tr>\n",
       "  </tbody>\n",
       "</table>\n",
       "</div>"
      ]
     },
     "execution_count": 74,
     "metadata": {},
     "output_type": "execute_result"
    }
   ],
   "execution_count": 74
  },
  {
   "metadata": {
    "ExecuteTime": {
     "end_time": "2025-07-14T05:41:19.823693Z",
     "start_time": "2025-07-14T05:41:19.817443Z"
    }
   },
   "cell_type": "code",
   "source": [
    "# 1. 숫자 맵핑\n",
    "df['label'] = df['label'].replace({'thin':0, 'normal':2, 'fat':3})"
   ],
   "id": "49479cf79e749630",
   "outputs": [
    {
     "name": "stderr",
     "output_type": "stream",
     "text": [
      "/var/folders/x_/xf7w4xhx6kl03__yxdgdfl9m0000gn/T/ipykernel_79069/3806641235.py:2: FutureWarning: Downcasting behavior in `replace` is deprecated and will be removed in a future version. To retain the old behavior, explicitly call `result.infer_objects(copy=False)`. To opt-in to the future behavior, set `pd.set_option('future.no_silent_downcasting', True)`\n",
      "  df['label'] = df['label'].replace({'thin':0, 'normal':2, 'fat':3})\n"
     ]
    }
   ],
   "execution_count": 72
  },
  {
   "metadata": {
    "ExecuteTime": {
     "end_time": "2025-07-14T05:41:51.118009Z",
     "start_time": "2025-07-14T05:41:51.113169Z"
    }
   },
   "cell_type": "code",
   "source": [
    "# 2. one-hot encoding get_dummies 활용\n",
    "pd.get_dummies(df['label'])"
   ],
   "id": "251e7bee81680f5",
   "outputs": [
    {
     "data": {
      "text/plain": [
       "         fat  normal   thin\n",
       "0      False    True  False\n",
       "1      False    True  False\n",
       "2      False   False   True\n",
       "3      False    True  False\n",
       "4      False   False   True\n",
       "...      ...     ...    ...\n",
       "19995   True   False  False\n",
       "19996   True   False  False\n",
       "19997  False    True  False\n",
       "19998   True   False  False\n",
       "19999  False   False   True\n",
       "\n",
       "[20000 rows x 3 columns]"
      ],
      "text/html": [
       "<div>\n",
       "<style scoped>\n",
       "    .dataframe tbody tr th:only-of-type {\n",
       "        vertical-align: middle;\n",
       "    }\n",
       "\n",
       "    .dataframe tbody tr th {\n",
       "        vertical-align: top;\n",
       "    }\n",
       "\n",
       "    .dataframe thead th {\n",
       "        text-align: right;\n",
       "    }\n",
       "</style>\n",
       "<table border=\"1\" class=\"dataframe\">\n",
       "  <thead>\n",
       "    <tr style=\"text-align: right;\">\n",
       "      <th></th>\n",
       "      <th>fat</th>\n",
       "      <th>normal</th>\n",
       "      <th>thin</th>\n",
       "    </tr>\n",
       "  </thead>\n",
       "  <tbody>\n",
       "    <tr>\n",
       "      <th>0</th>\n",
       "      <td>False</td>\n",
       "      <td>True</td>\n",
       "      <td>False</td>\n",
       "    </tr>\n",
       "    <tr>\n",
       "      <th>1</th>\n",
       "      <td>False</td>\n",
       "      <td>True</td>\n",
       "      <td>False</td>\n",
       "    </tr>\n",
       "    <tr>\n",
       "      <th>2</th>\n",
       "      <td>False</td>\n",
       "      <td>False</td>\n",
       "      <td>True</td>\n",
       "    </tr>\n",
       "    <tr>\n",
       "      <th>3</th>\n",
       "      <td>False</td>\n",
       "      <td>True</td>\n",
       "      <td>False</td>\n",
       "    </tr>\n",
       "    <tr>\n",
       "      <th>4</th>\n",
       "      <td>False</td>\n",
       "      <td>False</td>\n",
       "      <td>True</td>\n",
       "    </tr>\n",
       "    <tr>\n",
       "      <th>...</th>\n",
       "      <td>...</td>\n",
       "      <td>...</td>\n",
       "      <td>...</td>\n",
       "    </tr>\n",
       "    <tr>\n",
       "      <th>19995</th>\n",
       "      <td>True</td>\n",
       "      <td>False</td>\n",
       "      <td>False</td>\n",
       "    </tr>\n",
       "    <tr>\n",
       "      <th>19996</th>\n",
       "      <td>True</td>\n",
       "      <td>False</td>\n",
       "      <td>False</td>\n",
       "    </tr>\n",
       "    <tr>\n",
       "      <th>19997</th>\n",
       "      <td>False</td>\n",
       "      <td>True</td>\n",
       "      <td>False</td>\n",
       "    </tr>\n",
       "    <tr>\n",
       "      <th>19998</th>\n",
       "      <td>True</td>\n",
       "      <td>False</td>\n",
       "      <td>False</td>\n",
       "    </tr>\n",
       "    <tr>\n",
       "      <th>19999</th>\n",
       "      <td>False</td>\n",
       "      <td>False</td>\n",
       "      <td>True</td>\n",
       "    </tr>\n",
       "  </tbody>\n",
       "</table>\n",
       "<p>20000 rows × 3 columns</p>\n",
       "</div>"
      ]
     },
     "execution_count": 75,
     "metadata": {},
     "output_type": "execute_result"
    }
   ],
   "execution_count": 75
  },
  {
   "cell_type": "markdown",
   "id": "9353dc74",
   "metadata": {},
   "source": [
    "# 2. 수치형 자료 전 처리\n",
    "\n",
    "- **수치형 자료** : 크기를 갖는 수치형 값으로 이루어진 데이터\n",
    "- 머신러닝의 입력으로 바로 사용할 수 있으나, 모델의 성능을 높이기 위해 데이터 변환이 필요\n"
   ]
  },
  {
   "cell_type": "markdown",
   "id": "afb4a9c9",
   "metadata": {},
   "source": [
    "### 대표적인 수치형 자료의 스케일링\n",
    "\n",
    "수치형 자료의 경우 다른 수치형 자료와 범위를 맞추기 위해 스케일링을 통한 정규화 또는 표준화를 수행한다. **스케일링(Scaling)**은 변수 값의 범위 및 크기를 일정 범위로 변환하는 방식으로 변수(feature) 간의 범위가 차이가 나면 사용한다.  min-max scale, 정규화 스케일, 표준화 스케일링 등이 있다.\n",
    "\n",
    "- **정규화(Normalization)**\n",
    "  - **최소-최대 정규화(Min-Max Normalization)**\n",
    "  - $X^\\prime = \\frac{X - X_{min}}{X_{max}-X_{min}}$<br>\n",
    "  - 데이터를 모두 최소 0, 최대 1의 값으로 변환하는 것 (서로 다른 Feature의 scale를 통일하기 위해 변환)\n",
    "\n",
    "- **표준화(Standardization)**\n",
    "  - **Z-Score Scaling**\n",
    "    - $X^\\prime = \\frac{x-\\bar{x}}{\\sigma}$\n",
    "    - 데이터를 평균이 0, 분산이 1인 가우시안 정규분포로 만들어 주는 것\n",
    "\n"
   ]
  },
  {
   "cell_type": "markdown",
   "id": "7d52002e",
   "metadata": {},
   "source": [
    "### Min-Max scale\n",
    "\n",
    "모든 특성이 0와 1 사이에 위치하도록 데이터를 변경한다. 2차원 데이터  경우 모든 데이터가 x축의 0과 1사이에 사각 영역에 담기게 된다.\n",
    "\n",
    "$$X^\\prime = \\frac{X - X_{min}}{X_{max}-X_{min}}\n",
    "$$\n",
    "\n",
    "\n"
   ]
  },
  {
   "cell_type": "code",
   "id": "83a3ea6c",
   "metadata": {
    "ExecuteTime": {
     "end_time": "2025-07-14T06:06:37.027818Z",
     "start_time": "2025-07-14T06:06:37.026034Z"
    }
   },
   "source": [
    "import pandas as pd\n",
    "\n",
    "# min-max scaling\n",
    "def minmax_scale(data):\n",
    "    return (data - data.min()) / (data.max() - data.min())"
   ],
   "outputs": [],
   "execution_count": 79
  },
  {
   "cell_type": "code",
   "id": "be9fc3b6",
   "metadata": {
    "ExecuteTime": {
     "end_time": "2025-07-14T06:08:32.990631Z",
     "start_time": "2025-07-14T06:08:32.988348Z"
    }
   },
   "source": [
    "# 데이터를 읽어 옵니다.\n",
    "print('변환 전: \\n',titanic['Fare'].head())"
   ],
   "outputs": [
    {
     "name": "stdout",
     "output_type": "stream",
     "text": [
      "변환 전: \n",
      " 0     7.2500\n",
      "1    71.2833\n",
      "2     7.9250\n",
      "3    53.1000\n",
      "4     8.0500\n",
      "Name: Fare, dtype: float64\n"
     ]
    }
   ],
   "execution_count": 84
  },
  {
   "cell_type": "markdown",
   "id": "eae286ea",
   "metadata": {},
   "source": [
    "정규화 작업을 하면 데이터의 범위가 0~1 사이로 변환된다."
   ]
  },
  {
   "metadata": {
    "ExecuteTime": {
     "end_time": "2025-07-14T06:09:35.230659Z",
     "start_time": "2025-07-14T06:09:35.228015Z"
    }
   },
   "cell_type": "code",
   "source": "titanic['Fare'].min(), titanic['Fare'].max()",
   "id": "993ec27c8ae24f88",
   "outputs": [
    {
     "data": {
      "text/plain": [
       "(0.0, 512.3292)"
      ]
     },
     "execution_count": 86,
     "metadata": {},
     "output_type": "execute_result"
    }
   ],
   "execution_count": 86
  },
  {
   "cell_type": "code",
   "id": "15082cdf26ff2436",
   "metadata": {
    "ExecuteTime": {
     "end_time": "2025-07-14T06:09:45.674715Z",
     "start_time": "2025-07-14T06:09:45.671597Z"
    }
   },
   "source": [
    "# minmax 함수를 사용하여 정규화합니다.\n",
    "df = minmax_scale(titanic['Fare'])\n",
    "\n",
    "df.min(), df.max()"
   ],
   "outputs": [
    {
     "data": {
      "text/plain": [
       "(0.0, 1.0)"
      ]
     },
     "execution_count": 87,
     "metadata": {},
     "output_type": "execute_result"
    }
   ],
   "execution_count": 87
  },
  {
   "metadata": {
    "ExecuteTime": {
     "end_time": "2025-07-14T06:09:47.216726Z",
     "start_time": "2025-07-14T06:09:47.213397Z"
    }
   },
   "cell_type": "code",
   "source": [
    "# 변환한 Fare 데이터를 출력합니다.\n",
    "df.head()"
   ],
   "id": "661c57f5",
   "outputs": [
    {
     "data": {
      "text/plain": [
       "0    0.014151\n",
       "1    0.139136\n",
       "2    0.015469\n",
       "3    0.103644\n",
       "4    0.015713\n",
       "Name: Fare, dtype: float64"
      ]
     },
     "execution_count": 88,
     "metadata": {},
     "output_type": "execute_result"
    }
   ],
   "execution_count": 88
  },
  {
   "cell_type": "markdown",
   "id": "e91c9ef1",
   "metadata": {},
   "source": [
    "Sklearn은 [MinMaxScaler](https://scikit-learn.org/stable/modules/generated/sklearn.preprocessing.MinMaxScaler.html)를 통해 피처의 특성/속성이 다른 데이터를 0에서 1 사이로 축소할 수 있는 도구를 제공합니다. \n",
    "\n",
    " - ML알고리즘에서 사용할 데이터 분포가 가우시안 분포가 아닌 경우 최소/최대 값 범위를 다루도록 할 수 있다."
   ]
  },
  {
   "cell_type": "code",
   "id": "b0396c93",
   "metadata": {
    "ExecuteTime": {
     "end_time": "2025-07-14T06:11:08.882611Z",
     "start_time": "2025-07-14T06:11:08.880682Z"
    }
   },
   "source": "from sklearn.preprocessing import MinMaxScaler",
   "outputs": [],
   "execution_count": 89
  },
  {
   "metadata": {
    "ExecuteTime": {
     "end_time": "2025-07-14T06:15:44.233940Z",
     "start_time": "2025-07-14T06:15:44.232126Z"
    }
   },
   "cell_type": "code",
   "source": "scaler = MinMaxScaler() # scaler model",
   "id": "8228d8f82e969e40",
   "outputs": [],
   "execution_count": 95
  },
  {
   "metadata": {
    "ExecuteTime": {
     "end_time": "2025-07-14T06:15:45.138443Z",
     "start_time": "2025-07-14T06:15:45.134518Z"
    }
   },
   "cell_type": "code",
   "source": "scaler.fit(titanic[['Fare']])",
   "id": "2d8dfb4470674b56",
   "outputs": [
    {
     "data": {
      "text/plain": [
       "MinMaxScaler()"
      ],
      "text/html": [
       "<style>#sk-container-id-3 {\n",
       "  /* Definition of color scheme common for light and dark mode */\n",
       "  --sklearn-color-text: #000;\n",
       "  --sklearn-color-text-muted: #666;\n",
       "  --sklearn-color-line: gray;\n",
       "  /* Definition of color scheme for unfitted estimators */\n",
       "  --sklearn-color-unfitted-level-0: #fff5e6;\n",
       "  --sklearn-color-unfitted-level-1: #f6e4d2;\n",
       "  --sklearn-color-unfitted-level-2: #ffe0b3;\n",
       "  --sklearn-color-unfitted-level-3: chocolate;\n",
       "  /* Definition of color scheme for fitted estimators */\n",
       "  --sklearn-color-fitted-level-0: #f0f8ff;\n",
       "  --sklearn-color-fitted-level-1: #d4ebff;\n",
       "  --sklearn-color-fitted-level-2: #b3dbfd;\n",
       "  --sklearn-color-fitted-level-3: cornflowerblue;\n",
       "\n",
       "  /* Specific color for light theme */\n",
       "  --sklearn-color-text-on-default-background: var(--sg-text-color, var(--theme-code-foreground, var(--jp-content-font-color1, black)));\n",
       "  --sklearn-color-background: var(--sg-background-color, var(--theme-background, var(--jp-layout-color0, white)));\n",
       "  --sklearn-color-border-box: var(--sg-text-color, var(--theme-code-foreground, var(--jp-content-font-color1, black)));\n",
       "  --sklearn-color-icon: #696969;\n",
       "\n",
       "  @media (prefers-color-scheme: dark) {\n",
       "    /* Redefinition of color scheme for dark theme */\n",
       "    --sklearn-color-text-on-default-background: var(--sg-text-color, var(--theme-code-foreground, var(--jp-content-font-color1, white)));\n",
       "    --sklearn-color-background: var(--sg-background-color, var(--theme-background, var(--jp-layout-color0, #111)));\n",
       "    --sklearn-color-border-box: var(--sg-text-color, var(--theme-code-foreground, var(--jp-content-font-color1, white)));\n",
       "    --sklearn-color-icon: #878787;\n",
       "  }\n",
       "}\n",
       "\n",
       "#sk-container-id-3 {\n",
       "  color: var(--sklearn-color-text);\n",
       "}\n",
       "\n",
       "#sk-container-id-3 pre {\n",
       "  padding: 0;\n",
       "}\n",
       "\n",
       "#sk-container-id-3 input.sk-hidden--visually {\n",
       "  border: 0;\n",
       "  clip: rect(1px 1px 1px 1px);\n",
       "  clip: rect(1px, 1px, 1px, 1px);\n",
       "  height: 1px;\n",
       "  margin: -1px;\n",
       "  overflow: hidden;\n",
       "  padding: 0;\n",
       "  position: absolute;\n",
       "  width: 1px;\n",
       "}\n",
       "\n",
       "#sk-container-id-3 div.sk-dashed-wrapped {\n",
       "  border: 1px dashed var(--sklearn-color-line);\n",
       "  margin: 0 0.4em 0.5em 0.4em;\n",
       "  box-sizing: border-box;\n",
       "  padding-bottom: 0.4em;\n",
       "  background-color: var(--sklearn-color-background);\n",
       "}\n",
       "\n",
       "#sk-container-id-3 div.sk-container {\n",
       "  /* jupyter's `normalize.less` sets `[hidden] { display: none; }`\n",
       "     but bootstrap.min.css set `[hidden] { display: none !important; }`\n",
       "     so we also need the `!important` here to be able to override the\n",
       "     default hidden behavior on the sphinx rendered scikit-learn.org.\n",
       "     See: https://github.com/scikit-learn/scikit-learn/issues/21755 */\n",
       "  display: inline-block !important;\n",
       "  position: relative;\n",
       "}\n",
       "\n",
       "#sk-container-id-3 div.sk-text-repr-fallback {\n",
       "  display: none;\n",
       "}\n",
       "\n",
       "div.sk-parallel-item,\n",
       "div.sk-serial,\n",
       "div.sk-item {\n",
       "  /* draw centered vertical line to link estimators */\n",
       "  background-image: linear-gradient(var(--sklearn-color-text-on-default-background), var(--sklearn-color-text-on-default-background));\n",
       "  background-size: 2px 100%;\n",
       "  background-repeat: no-repeat;\n",
       "  background-position: center center;\n",
       "}\n",
       "\n",
       "/* Parallel-specific style estimator block */\n",
       "\n",
       "#sk-container-id-3 div.sk-parallel-item::after {\n",
       "  content: \"\";\n",
       "  width: 100%;\n",
       "  border-bottom: 2px solid var(--sklearn-color-text-on-default-background);\n",
       "  flex-grow: 1;\n",
       "}\n",
       "\n",
       "#sk-container-id-3 div.sk-parallel {\n",
       "  display: flex;\n",
       "  align-items: stretch;\n",
       "  justify-content: center;\n",
       "  background-color: var(--sklearn-color-background);\n",
       "  position: relative;\n",
       "}\n",
       "\n",
       "#sk-container-id-3 div.sk-parallel-item {\n",
       "  display: flex;\n",
       "  flex-direction: column;\n",
       "}\n",
       "\n",
       "#sk-container-id-3 div.sk-parallel-item:first-child::after {\n",
       "  align-self: flex-end;\n",
       "  width: 50%;\n",
       "}\n",
       "\n",
       "#sk-container-id-3 div.sk-parallel-item:last-child::after {\n",
       "  align-self: flex-start;\n",
       "  width: 50%;\n",
       "}\n",
       "\n",
       "#sk-container-id-3 div.sk-parallel-item:only-child::after {\n",
       "  width: 0;\n",
       "}\n",
       "\n",
       "/* Serial-specific style estimator block */\n",
       "\n",
       "#sk-container-id-3 div.sk-serial {\n",
       "  display: flex;\n",
       "  flex-direction: column;\n",
       "  align-items: center;\n",
       "  background-color: var(--sklearn-color-background);\n",
       "  padding-right: 1em;\n",
       "  padding-left: 1em;\n",
       "}\n",
       "\n",
       "\n",
       "/* Toggleable style: style used for estimator/Pipeline/ColumnTransformer box that is\n",
       "clickable and can be expanded/collapsed.\n",
       "- Pipeline and ColumnTransformer use this feature and define the default style\n",
       "- Estimators will overwrite some part of the style using the `sk-estimator` class\n",
       "*/\n",
       "\n",
       "/* Pipeline and ColumnTransformer style (default) */\n",
       "\n",
       "#sk-container-id-3 div.sk-toggleable {\n",
       "  /* Default theme specific background. It is overwritten whether we have a\n",
       "  specific estimator or a Pipeline/ColumnTransformer */\n",
       "  background-color: var(--sklearn-color-background);\n",
       "}\n",
       "\n",
       "/* Toggleable label */\n",
       "#sk-container-id-3 label.sk-toggleable__label {\n",
       "  cursor: pointer;\n",
       "  display: flex;\n",
       "  width: 100%;\n",
       "  margin-bottom: 0;\n",
       "  padding: 0.5em;\n",
       "  box-sizing: border-box;\n",
       "  text-align: center;\n",
       "  align-items: start;\n",
       "  justify-content: space-between;\n",
       "  gap: 0.5em;\n",
       "}\n",
       "\n",
       "#sk-container-id-3 label.sk-toggleable__label .caption {\n",
       "  font-size: 0.6rem;\n",
       "  font-weight: lighter;\n",
       "  color: var(--sklearn-color-text-muted);\n",
       "}\n",
       "\n",
       "#sk-container-id-3 label.sk-toggleable__label-arrow:before {\n",
       "  /* Arrow on the left of the label */\n",
       "  content: \"▸\";\n",
       "  float: left;\n",
       "  margin-right: 0.25em;\n",
       "  color: var(--sklearn-color-icon);\n",
       "}\n",
       "\n",
       "#sk-container-id-3 label.sk-toggleable__label-arrow:hover:before {\n",
       "  color: var(--sklearn-color-text);\n",
       "}\n",
       "\n",
       "/* Toggleable content - dropdown */\n",
       "\n",
       "#sk-container-id-3 div.sk-toggleable__content {\n",
       "  max-height: 0;\n",
       "  max-width: 0;\n",
       "  overflow: hidden;\n",
       "  text-align: left;\n",
       "  /* unfitted */\n",
       "  background-color: var(--sklearn-color-unfitted-level-0);\n",
       "}\n",
       "\n",
       "#sk-container-id-3 div.sk-toggleable__content.fitted {\n",
       "  /* fitted */\n",
       "  background-color: var(--sklearn-color-fitted-level-0);\n",
       "}\n",
       "\n",
       "#sk-container-id-3 div.sk-toggleable__content pre {\n",
       "  margin: 0.2em;\n",
       "  border-radius: 0.25em;\n",
       "  color: var(--sklearn-color-text);\n",
       "  /* unfitted */\n",
       "  background-color: var(--sklearn-color-unfitted-level-0);\n",
       "}\n",
       "\n",
       "#sk-container-id-3 div.sk-toggleable__content.fitted pre {\n",
       "  /* unfitted */\n",
       "  background-color: var(--sklearn-color-fitted-level-0);\n",
       "}\n",
       "\n",
       "#sk-container-id-3 input.sk-toggleable__control:checked~div.sk-toggleable__content {\n",
       "  /* Expand drop-down */\n",
       "  max-height: 200px;\n",
       "  max-width: 100%;\n",
       "  overflow: auto;\n",
       "}\n",
       "\n",
       "#sk-container-id-3 input.sk-toggleable__control:checked~label.sk-toggleable__label-arrow:before {\n",
       "  content: \"▾\";\n",
       "}\n",
       "\n",
       "/* Pipeline/ColumnTransformer-specific style */\n",
       "\n",
       "#sk-container-id-3 div.sk-label input.sk-toggleable__control:checked~label.sk-toggleable__label {\n",
       "  color: var(--sklearn-color-text);\n",
       "  background-color: var(--sklearn-color-unfitted-level-2);\n",
       "}\n",
       "\n",
       "#sk-container-id-3 div.sk-label.fitted input.sk-toggleable__control:checked~label.sk-toggleable__label {\n",
       "  background-color: var(--sklearn-color-fitted-level-2);\n",
       "}\n",
       "\n",
       "/* Estimator-specific style */\n",
       "\n",
       "/* Colorize estimator box */\n",
       "#sk-container-id-3 div.sk-estimator input.sk-toggleable__control:checked~label.sk-toggleable__label {\n",
       "  /* unfitted */\n",
       "  background-color: var(--sklearn-color-unfitted-level-2);\n",
       "}\n",
       "\n",
       "#sk-container-id-3 div.sk-estimator.fitted input.sk-toggleable__control:checked~label.sk-toggleable__label {\n",
       "  /* fitted */\n",
       "  background-color: var(--sklearn-color-fitted-level-2);\n",
       "}\n",
       "\n",
       "#sk-container-id-3 div.sk-label label.sk-toggleable__label,\n",
       "#sk-container-id-3 div.sk-label label {\n",
       "  /* The background is the default theme color */\n",
       "  color: var(--sklearn-color-text-on-default-background);\n",
       "}\n",
       "\n",
       "/* On hover, darken the color of the background */\n",
       "#sk-container-id-3 div.sk-label:hover label.sk-toggleable__label {\n",
       "  color: var(--sklearn-color-text);\n",
       "  background-color: var(--sklearn-color-unfitted-level-2);\n",
       "}\n",
       "\n",
       "/* Label box, darken color on hover, fitted */\n",
       "#sk-container-id-3 div.sk-label.fitted:hover label.sk-toggleable__label.fitted {\n",
       "  color: var(--sklearn-color-text);\n",
       "  background-color: var(--sklearn-color-fitted-level-2);\n",
       "}\n",
       "\n",
       "/* Estimator label */\n",
       "\n",
       "#sk-container-id-3 div.sk-label label {\n",
       "  font-family: monospace;\n",
       "  font-weight: bold;\n",
       "  display: inline-block;\n",
       "  line-height: 1.2em;\n",
       "}\n",
       "\n",
       "#sk-container-id-3 div.sk-label-container {\n",
       "  text-align: center;\n",
       "}\n",
       "\n",
       "/* Estimator-specific */\n",
       "#sk-container-id-3 div.sk-estimator {\n",
       "  font-family: monospace;\n",
       "  border: 1px dotted var(--sklearn-color-border-box);\n",
       "  border-radius: 0.25em;\n",
       "  box-sizing: border-box;\n",
       "  margin-bottom: 0.5em;\n",
       "  /* unfitted */\n",
       "  background-color: var(--sklearn-color-unfitted-level-0);\n",
       "}\n",
       "\n",
       "#sk-container-id-3 div.sk-estimator.fitted {\n",
       "  /* fitted */\n",
       "  background-color: var(--sklearn-color-fitted-level-0);\n",
       "}\n",
       "\n",
       "/* on hover */\n",
       "#sk-container-id-3 div.sk-estimator:hover {\n",
       "  /* unfitted */\n",
       "  background-color: var(--sklearn-color-unfitted-level-2);\n",
       "}\n",
       "\n",
       "#sk-container-id-3 div.sk-estimator.fitted:hover {\n",
       "  /* fitted */\n",
       "  background-color: var(--sklearn-color-fitted-level-2);\n",
       "}\n",
       "\n",
       "/* Specification for estimator info (e.g. \"i\" and \"?\") */\n",
       "\n",
       "/* Common style for \"i\" and \"?\" */\n",
       "\n",
       ".sk-estimator-doc-link,\n",
       "a:link.sk-estimator-doc-link,\n",
       "a:visited.sk-estimator-doc-link {\n",
       "  float: right;\n",
       "  font-size: smaller;\n",
       "  line-height: 1em;\n",
       "  font-family: monospace;\n",
       "  background-color: var(--sklearn-color-background);\n",
       "  border-radius: 1em;\n",
       "  height: 1em;\n",
       "  width: 1em;\n",
       "  text-decoration: none !important;\n",
       "  margin-left: 0.5em;\n",
       "  text-align: center;\n",
       "  /* unfitted */\n",
       "  border: var(--sklearn-color-unfitted-level-1) 1pt solid;\n",
       "  color: var(--sklearn-color-unfitted-level-1);\n",
       "}\n",
       "\n",
       ".sk-estimator-doc-link.fitted,\n",
       "a:link.sk-estimator-doc-link.fitted,\n",
       "a:visited.sk-estimator-doc-link.fitted {\n",
       "  /* fitted */\n",
       "  border: var(--sklearn-color-fitted-level-1) 1pt solid;\n",
       "  color: var(--sklearn-color-fitted-level-1);\n",
       "}\n",
       "\n",
       "/* On hover */\n",
       "div.sk-estimator:hover .sk-estimator-doc-link:hover,\n",
       ".sk-estimator-doc-link:hover,\n",
       "div.sk-label-container:hover .sk-estimator-doc-link:hover,\n",
       ".sk-estimator-doc-link:hover {\n",
       "  /* unfitted */\n",
       "  background-color: var(--sklearn-color-unfitted-level-3);\n",
       "  color: var(--sklearn-color-background);\n",
       "  text-decoration: none;\n",
       "}\n",
       "\n",
       "div.sk-estimator.fitted:hover .sk-estimator-doc-link.fitted:hover,\n",
       ".sk-estimator-doc-link.fitted:hover,\n",
       "div.sk-label-container:hover .sk-estimator-doc-link.fitted:hover,\n",
       ".sk-estimator-doc-link.fitted:hover {\n",
       "  /* fitted */\n",
       "  background-color: var(--sklearn-color-fitted-level-3);\n",
       "  color: var(--sklearn-color-background);\n",
       "  text-decoration: none;\n",
       "}\n",
       "\n",
       "/* Span, style for the box shown on hovering the info icon */\n",
       ".sk-estimator-doc-link span {\n",
       "  display: none;\n",
       "  z-index: 9999;\n",
       "  position: relative;\n",
       "  font-weight: normal;\n",
       "  right: .2ex;\n",
       "  padding: .5ex;\n",
       "  margin: .5ex;\n",
       "  width: min-content;\n",
       "  min-width: 20ex;\n",
       "  max-width: 50ex;\n",
       "  color: var(--sklearn-color-text);\n",
       "  box-shadow: 2pt 2pt 4pt #999;\n",
       "  /* unfitted */\n",
       "  background: var(--sklearn-color-unfitted-level-0);\n",
       "  border: .5pt solid var(--sklearn-color-unfitted-level-3);\n",
       "}\n",
       "\n",
       ".sk-estimator-doc-link.fitted span {\n",
       "  /* fitted */\n",
       "  background: var(--sklearn-color-fitted-level-0);\n",
       "  border: var(--sklearn-color-fitted-level-3);\n",
       "}\n",
       "\n",
       ".sk-estimator-doc-link:hover span {\n",
       "  display: block;\n",
       "}\n",
       "\n",
       "/* \"?\"-specific style due to the `<a>` HTML tag */\n",
       "\n",
       "#sk-container-id-3 a.estimator_doc_link {\n",
       "  float: right;\n",
       "  font-size: 1rem;\n",
       "  line-height: 1em;\n",
       "  font-family: monospace;\n",
       "  background-color: var(--sklearn-color-background);\n",
       "  border-radius: 1rem;\n",
       "  height: 1rem;\n",
       "  width: 1rem;\n",
       "  text-decoration: none;\n",
       "  /* unfitted */\n",
       "  color: var(--sklearn-color-unfitted-level-1);\n",
       "  border: var(--sklearn-color-unfitted-level-1) 1pt solid;\n",
       "}\n",
       "\n",
       "#sk-container-id-3 a.estimator_doc_link.fitted {\n",
       "  /* fitted */\n",
       "  border: var(--sklearn-color-fitted-level-1) 1pt solid;\n",
       "  color: var(--sklearn-color-fitted-level-1);\n",
       "}\n",
       "\n",
       "/* On hover */\n",
       "#sk-container-id-3 a.estimator_doc_link:hover {\n",
       "  /* unfitted */\n",
       "  background-color: var(--sklearn-color-unfitted-level-3);\n",
       "  color: var(--sklearn-color-background);\n",
       "  text-decoration: none;\n",
       "}\n",
       "\n",
       "#sk-container-id-3 a.estimator_doc_link.fitted:hover {\n",
       "  /* fitted */\n",
       "  background-color: var(--sklearn-color-fitted-level-3);\n",
       "}\n",
       "</style><div id=\"sk-container-id-3\" class=\"sk-top-container\"><div class=\"sk-text-repr-fallback\"><pre>MinMaxScaler()</pre><b>In a Jupyter environment, please rerun this cell to show the HTML representation or trust the notebook. <br />On GitHub, the HTML representation is unable to render, please try loading this page with nbviewer.org.</b></div><div class=\"sk-container\" hidden><div class=\"sk-item\"><div class=\"sk-estimator fitted sk-toggleable\"><input class=\"sk-toggleable__control sk-hidden--visually\" id=\"sk-estimator-id-3\" type=\"checkbox\" checked><label for=\"sk-estimator-id-3\" class=\"sk-toggleable__label fitted sk-toggleable__label-arrow\"><div><div>MinMaxScaler</div></div><div><a class=\"sk-estimator-doc-link fitted\" rel=\"noreferrer\" target=\"_blank\" href=\"https://scikit-learn.org/1.6/modules/generated/sklearn.preprocessing.MinMaxScaler.html\">?<span>Documentation for MinMaxScaler</span></a><span class=\"sk-estimator-doc-link fitted\">i<span>Fitted</span></span></div></label><div class=\"sk-toggleable__content fitted\"><pre>MinMaxScaler()</pre></div> </div></div></div></div>"
      ]
     },
     "execution_count": 96,
     "metadata": {},
     "output_type": "execute_result"
    }
   ],
   "execution_count": 96
  },
  {
   "cell_type": "markdown",
   "id": "a38b64f1",
   "metadata": {},
   "source": [
    "### 수치형 자료 변환하기 - 표준화\n",
    "\n",
    "**Z-Score Scaling** 라고도 하며  데이터를 평균이 0, 분산이 1인 가우시안 정규분포로 만들어 주는 것\n",
    "\n",
    "$$X^\\prime = \\frac{x-\\bar{x}}{\\sigma}$$"
   ]
  },
  {
   "cell_type": "code",
   "id": "99e74bf3",
   "metadata": {
    "ExecuteTime": {
     "end_time": "2025-07-14T06:17:25.038358Z",
     "start_time": "2025-07-14T06:17:25.035932Z"
    }
   },
   "source": [
    "# 표준화를 수행하는 함수를 구현합니다.\n",
    "def standard(data):\n",
    "    return (data - data.mean()) / data.std()\n",
    "\n",
    "# 데이터를 읽어 옵니다.\n",
    "\n",
    "print('변환 전: \\n',titanic['Fare'].head())"
   ],
   "outputs": [
    {
     "name": "stdout",
     "output_type": "stream",
     "text": [
      "변환 전: \n",
      " 0     7.2500\n",
      "1    71.2833\n",
      "2     7.9250\n",
      "3    53.1000\n",
      "4     8.0500\n",
      "Name: Fare, dtype: float64\n"
     ]
    }
   ],
   "execution_count": 97
  },
  {
   "cell_type": "code",
   "id": "6e56813e",
   "metadata": {
    "ExecuteTime": {
     "end_time": "2025-07-14T06:17:49.766339Z",
     "start_time": "2025-07-14T06:17:49.763514Z"
    }
   },
   "source": [
    "# standard 함수를 사용하여 표준화합니다.\n",
    "standard_data = standard(titanic['Fare'])\n",
    "\n",
    "# 변환한 Fare 데이터를 출력합니다.\n",
    "standard_data.head()"
   ],
   "outputs": [
    {
     "data": {
      "text/plain": [
       "0   -0.502163\n",
       "1    0.786404\n",
       "2   -0.488580\n",
       "3    0.420494\n",
       "4   -0.486064\n",
       "Name: Fare, dtype: float64"
      ]
     },
     "execution_count": 98,
     "metadata": {},
     "output_type": "execute_result"
    }
   ],
   "execution_count": 98
  },
  {
   "cell_type": "markdown",
   "id": "0659b5d0",
   "metadata": {},
   "source": [
    "# 3. 데이터 정제 및 분리하기\n"
   ]
  },
  {
   "cell_type": "markdown",
   "id": "28fd1505",
   "metadata": {},
   "source": [
    "## 데이터 Cleansing"
   ]
  },
  {
   "cell_type": "markdown",
   "id": "0e0805a2",
   "metadata": {},
   "source": [
    "#### 결측값(Missing data) 처리하기\n",
    "\n",
    "값이 없는 경우\n",
    "\n",
    "- 일반적인 머신러닝 모델의 입력 값으로 결측값을 사용할 수 없음\n",
    "- 따라서 **Null, None, NaN** 등의 결측값을 처리해야 함\n",
    "- 이것이 곧 '데이터 정제'의 과정임\n",
    "- 대표적인 결측값 처리 방식\n",
    "  1. 결측값이 존재하는 **샘플 삭제**\n",
    "  2. 결측값이 많이 존재하는 **변수 삭제**\n",
    "  3. 결측값을 **다른 값으로 대체**\n",
    "\n"
   ]
  },
  {
   "cell_type": "markdown",
   "id": "44a94a1c",
   "metadata": {},
   "source": [
    "결측값이 있는 데이터는 일반적으로 머신러닝의 입력으로 사용할 수 없습니다. 그렇기에 데이터 전 처리 과정에서는 삭제 또는 대체 방식으로 결측값을 처리합니다.\n",
    "- **`drop(columns = ['feature'])`** : pandas의 DataFrame에서 특정 변수(columns)를 삭제하기 위해 사용\n",
    "- **`dropna()`** : DataFrame에서 결측값이 있는 샘플을 제거하기 위해서 사용 (NaN 제거)\n",
    "\n"
   ]
  },
  {
   "cell_type": "code",
   "id": "9aa826c2",
   "metadata": {
    "ExecuteTime": {
     "end_time": "2025-07-14T05:33:43.107583Z",
     "start_time": "2025-07-14T05:33:43.104720Z"
    }
   },
   "source": [
    "# 데이터를 읽어 옵니다.\n",
    "\n",
    "# info\n"
   ],
   "outputs": [],
   "execution_count": 47
  },
  {
   "cell_type": "code",
   "id": "0d85c6a1",
   "metadata": {
    "ExecuteTime": {
     "end_time": "2025-07-14T05:33:43.137913Z",
     "start_time": "2025-07-14T05:33:43.135380Z"
    }
   },
   "source": [
    "# 각 피처(컬럼)의 NaN 현황\n",
    "\n"
   ],
   "outputs": [],
   "execution_count": 48
  },
  {
   "cell_type": "code",
   "id": "b7c28a1c",
   "metadata": {
    "ExecuteTime": {
     "end_time": "2025-07-14T05:33:43.161479Z",
     "start_time": "2025-07-14T05:33:43.158825Z"
    }
   },
   "source": [
    "# 1. Cabin 변수를 제거합니다.\n",
    "\n",
    "# Cabin 변수를 제거 후 결측값이 어디에 남아 있는지 확인합니다.\n",
    "\n",
    "\n"
   ],
   "outputs": [],
   "execution_count": 49
  },
  {
   "cell_type": "code",
   "id": "9d2deff3",
   "metadata": {
    "ExecuteTime": {
     "end_time": "2025-07-14T05:33:43.184997Z",
     "start_time": "2025-07-14T05:33:43.182081Z"
    }
   },
   "source": [
    "# 2. 결측값이 존재하는 샘플 제거합니다.\n",
    "\n",
    "\n",
    "# 결측값이 존재하는지 확인합니다.\n",
    "print('결측값이 존재하는 샘플 제거')\n",
    "\n"
   ],
   "outputs": [
    {
     "name": "stdout",
     "output_type": "stream",
     "text": [
      "결측값이 존재하는 샘플 제거\n"
     ]
    }
   ],
   "execution_count": 50
  },
  {
   "cell_type": "markdown",
   "id": "8c33f7e4",
   "metadata": {},
   "source": [
    "#### 이상치(Outlier) 처리하기\n",
    "\n",
    "이상치/극단치는 데이터의 표준편차 범위 보다 아주 작은 값이나 아주 큰 값\n",
    "- 이상치가 있으면, 모델의 성능을 저하할 수 있음\n",
    "- 이상치는 일반적으로 전 처리 과정에서 제거하며, 어떤 값이 이상치인지 판단하는 기준이 중요함\n",
    "- 이상치 판단 기준 방법\n",
    "  1. 통계 지표(카이제곱 검정, IQR 지표 등)를 사용하여 판단\n",
    "  2. 데이터 분포를 보고 직접 판단\n",
    "  3. 머신러닝 기법을 사용하여 이상치 분류\n",
    "\n"
   ]
  },
  {
   "cell_type": "markdown",
   "id": "df3226cb",
   "metadata": {},
   "source": [
    "\n",
    "이상치가 존재하는 데이터를 머신러닝에 사용하게 된다면 성능 저하를 야기할 수 있습니다. 그렇기에 데이터 전 처리 과정에서는 이상치를 판별하고 처리합니다.\n",
    "\n"
   ]
  },
  {
   "cell_type": "markdown",
   "id": "342af98e",
   "metadata": {},
   "source": [
    "결측값이 제거된 상태:"
   ]
  },
  {
   "cell_type": "code",
   "id": "ee402cd4",
   "metadata": {
    "ExecuteTime": {
     "end_time": "2025-07-14T05:33:43.201092Z",
     "start_time": "2025-07-14T05:33:43.194964Z"
    }
   },
   "source": [
    "#데이터를 읽어 옵니다.\n",
    "titanic = pd.read_csv('./data/titanic.csv')\n",
    "\n",
    "# (Age 값 - 내림 Age 값)이 0보다 크다면 소수점을 갖는 데이터로 분류합니다.\n",
    "\n",
    "\n"
   ],
   "outputs": [],
   "execution_count": 51
  },
  {
   "cell_type": "code",
   "id": "d07bf149",
   "metadata": {
    "ExecuteTime": {
     "end_time": "2025-07-14T05:33:43.231412Z",
     "start_time": "2025-07-14T05:33:43.223469Z"
    }
   },
   "source": [
    "# 이상치를 처리합니다.\n",
    "\n"
   ],
   "outputs": [],
   "execution_count": 52
  },
  {
   "cell_type": "markdown",
   "id": "41bed5d3",
   "metadata": {},
   "source": [
    "## 지도학습 데이터 분리\n"
   ]
  },
  {
   "cell_type": "markdown",
   "id": "9ebd38fc",
   "metadata": {},
   "source": [
    "#### 데이터 분리가 필요한 이유\n",
    "- 머신러닝 모델을 평가하기 위해서는 학습에 사용하지 않은 평가용 데이터가 필요\n",
    "- 약 7:3 ~ 8:2 비율로 학습용, 평가용 데이터를 분리함\n",
    "\n"
   ]
  },
  {
   "cell_type": "markdown",
   "id": "f74a6caa",
   "metadata": {},
   "source": [
    "지도학습의 경우 feature 데이터와 label 데이터를 분리하여 저장\n",
    "\n",
    "- **Feature 데이터** : label을 예측하기 위한 입력 값\n",
    "\n",
    "- **Label 데이터** : 예측해야 할 대상이 되는 데이터\n",
    "  - `예) '공부 시간(feature)'에 따른 '시험 점수(label)'`\n",
    "  - `예) titanic 데이터에서 feature data는 나이, 가족 정보, 표 가격 등이고 label data는 '생존 여부'`\n"
   ]
  },
  {
   "cell_type": "markdown",
   "id": "1a845971",
   "metadata": {},
   "source": [
    "scikitlearn의 **`train_test_split()`** 사용\n",
    "\n",
    "\n",
    "- `train_test_split()` : sklearn 라이브러리의 학습용, 평가용 데이터 분리 메소드\n",
    "  - `X_train, X_test, y_train, y_test = train_test_split(feature 데이터, label 데이터, test_size = 0~1 값, random_state = 랜덤 시드 값)`\n",
    "\n",
    "\n"
   ]
  },
  {
   "cell_type": "markdown",
   "id": "c9adc377",
   "metadata": {},
   "source": [
    "## 실습: titanic 데이터 분할과 학습\n",
    "\n"
   ]
  },
  {
   "cell_type": "code",
   "id": "4ec37b97",
   "metadata": {
    "ExecuteTime": {
     "end_time": "2025-07-14T05:33:43.346741Z",
     "start_time": "2025-07-14T05:33:43.268863Z"
    }
   },
   "source": [
    "import pandas as pd\n",
    "import numpy as np\n",
    "from sklearn.model_selection import train_test_split\n",
    "\n",
    "# 데이터를 읽어옵니다.\n",
    "\n",
    "\n",
    "# Cabin 변수를 제거합니다.\n",
    "\n",
    "\n",
    "# 결측값이 존재하는 샘플을 제거합니다.\n",
    "\n",
    "\n",
    "# 이상치를 처리합니다.\n",
    "\n",
    "# 전체 샘플 데이터 개수: 687\n",
    "\n",
    "# 1. feature 데이터와 label 데이터를 분리합니다.\n",
    "\n",
    "#X 데이터 개수: 687\n",
    "# y 데이터 개수: 687\n",
    "\n",
    "#2. 학습용, 평가용 데이터로 분리합니다.\n",
    "\n",
    "\n",
    "\n",
    "# 분리한 데이터의 개수를 출력합니다.\n",
    "\n"
   ],
   "outputs": [],
   "execution_count": 53
  },
  {
   "cell_type": "markdown",
   "id": "14cdb58e",
   "metadata": {},
   "source": []
  }
 ],
 "metadata": {
  "kernelspec": {
   "display_name": "ML_P312",
   "language": "python",
   "name": "python3"
  },
  "language_info": {
   "codemirror_mode": {
    "name": "ipython",
    "version": 3
   },
   "file_extension": ".py",
   "mimetype": "text/x-python",
   "name": "python",
   "nbconvert_exporter": "python",
   "pygments_lexer": "ipython3",
   "version": "3.12.11"
  }
 },
 "nbformat": 4,
 "nbformat_minor": 5
}
