{
 "cells": [
  {
   "cell_type": "code",
   "metadata": {
    "ExecuteTime": {
     "end_time": "2025-07-14T00:41:40.223212Z",
     "start_time": "2025-07-14T00:41:40.038191Z"
    }
   },
   "source": [
    "import numpy as np\n",
    "import pandas as pd\n",
    "\n",
    "np.__version__"
   ],
   "outputs": [
    {
     "data": {
      "text/plain": [
       "'1.26.4'"
      ]
     },
     "execution_count": 3,
     "metadata": {},
     "output_type": "execute_result"
    }
   ],
   "execution_count": 3
  },
  {
   "cell_type": "code",
   "metadata": {
    "ExecuteTime": {
     "end_time": "2025-07-14T00:41:40.589948Z",
     "start_time": "2025-07-14T00:41:40.253409Z"
    }
   },
   "source": [
    "from sklearn import show_versions\n",
    "show_versions()"
   ],
   "outputs": [
    {
     "name": "stdout",
     "output_type": "stream",
     "text": [
      "\n",
      "System:\n",
      "    python: 3.13.2 (v3.13.2:4f8bb3947cf, Feb  4 2025, 11:51:10) [Clang 15.0.0 (clang-1500.3.9.4)]\n",
      "executable: /usr/local/bin/python3.13\n",
      "   machine: macOS-26.0-arm64-arm-64bit-Mach-O\n",
      "\n",
      "Python dependencies:\n",
      "      sklearn: 1.6.1\n",
      "          pip: 24.3.1\n",
      "   setuptools: 75.8.0\n",
      "        numpy: 1.26.4\n",
      "        scipy: 1.15.2\n",
      "       Cython: None\n",
      "       pandas: 2.2.3\n",
      "   matplotlib: 3.10.0\n",
      "       joblib: 1.4.2\n",
      "threadpoolctl: 3.5.0\n",
      "\n",
      "Built with OpenMP: True\n",
      "\n",
      "threadpoolctl info:\n",
      "       user_api: openmp\n",
      "   internal_api: openmp\n",
      "    num_threads: 14\n",
      "         prefix: libomp\n",
      "       filepath: /Users/ihanjo/Library/Python/3.13/lib/python/site-packages/sklearn/.dylibs/libomp.dylib\n",
      "        version: None\n"
     ]
    }
   ],
   "execution_count": 4
  },
  {
   "cell_type": "code",
   "metadata": {
    "tags": [],
    "ExecuteTime": {
     "end_time": "2025-07-14T00:41:40.776286Z",
     "start_time": "2025-07-14T00:41:40.598757Z"
    }
   },
   "source": [
    "import matplotlib.pyplot as plt\n",
    "# import matplotlib.pylab as plt\n",
    "import matplotlib.font_manager as fm\n",
    "%matplotlib inline\n",
    "\n",
    "# plt.rcParams['font.family'] = 'Malgun Gothic'\n",
    "plt.rcParams['font.family'] = 'AppleGothic'  # Mac (AppleGothic 또는 AppleSDGothicNeo)\n",
    "# plt.rcParams['font.family'] = 'NanumGothic' # Linux (NanumGothic 또는 다른 설치된 한글 폰트)\n",
    "\n",
    "plt.rcParams['axes.unicode_minus'] = False #glypy 8722: Axes에 - 표시 안되는 것\n",
    "plt.title('한글 타이틀...')"
   ],
   "outputs": [
    {
     "data": {
      "text/plain": [
       "Text(0.5, 1.0, '한글 타이틀...')"
      ]
     },
     "execution_count": 5,
     "metadata": {},
     "output_type": "execute_result"
    },
    {
     "data": {
      "text/plain": [
       "<Figure size 640x480 with 1 Axes>"
      ],
      "image/png": "[encoded data removed]"
     },
     "metadata": {},
     "output_type": "display_data"
    }
   ],
   "execution_count": 5
  },
  {
   "cell_type": "markdown",
   "metadata": {},
   "source": [
    "# 1. 데이터의 유형\n",
    "\n",
    "<u>선형대수</u>에서 다루는 데이터는 개수나 형태에 따라 크게 **스칼라(scalar), 벡터(vector), 행렬(matrix), 텐서(tensor)** 유형으로 나뉜다. \n",
    "\n",
    "- 스칼라는 숫자 하나로 이루어진 데이터이고, \n",
    "- 벡터는 여러 숫자로 이루어진 데이터 레코드(data record)이며, \n",
    "- 행렬은 이러한 벡터, 즉 데이터 레코드가 여럿인 데이터 집합이라고 볼 수 있다. \n",
    "- 텐서는 같은 크기의 행렬이 여러 개 있는 것이라고 생각하면 된다."
   ]
  },
  {
   "cell_type": "markdown",
   "metadata": {},
   "source": [
    "#### 데이터의 형태\n",
    "\n",
    "<p><img src='https://blog.kakaocdn.net/dn/br1FDr/btr7s3bSOVP/Zs35uUgIpN7Rj4A7iYN0mk/img.png' width='600'></p>\n",
    "\n",
    "- 범주형\n",
    "    - 명목형: 성별, 혈액형\n",
    "    - 순위형: 1등, 2등. 1위, 2위. A학점, B학점\n",
    "- 수치형\n",
    "    - 이산형: 나이, 방문자 수, 뉴스 글자 수, 상품의 주문량\n",
    "    - 연속형: 키, 몸무게, 시간"
   ]
  },
  {
   "cell_type": "markdown",
   "metadata": {},
   "source": [
    "## [1] 데이터 유형\n",
    "\n",
    "데이터 분석의 연습에서 많이 사용되는 벤치마크 데이터셋(benchmark dataset) 중 하나인 붓꽃 데이터셋(iris dataset)을 살펴보며 데이터 유형을 알아보자. 이 데이터는 통계학자 피셔(Fisher)의 연구 결과에서 나온 것이다. 붓꽃 150송이에 대해 꽃받침의 길이, 꽃받침의 폭, 꽃잎의 길이, 꽃잎의 폭을 각각 측정한 것으로 150송이 중 50송이는 세토사(setosa)라는 종이고, 50송이는 베르시칼라(versicolor), 나머지 50송이는 버지니카(virginica)라는 종이다. 이 데이터셋은 붓꽃 크기를 이용하여 붓꽃의 종을 측정하는 예측(prediction) 문제로 활용된다. 이 데이터는 사이킷런 패키지에 포함되어 있다. 다음 코드는 붓꽃 데이터셋에서 첫 번째 꽃의 크기를 보여준다.\n",
    "\n",
    "- [Scikit-learn 이용 - 붗꽃데이터]\n",
    "  - scikit-learn.org\n",
    "  - 2007, 데이비드 카나푸\n",
    "  \n"
   ]
  },
  {
   "cell_type": "code",
   "metadata": {
    "ExecuteTime": {
     "end_time": "2025-07-14T00:41:40.825887Z",
     "start_time": "2025-07-14T00:41:40.787243Z"
    }
   },
   "source": [
    "# 사이킷런 패키지 임포트\n",
    "from sklearn.datasets import load_iris\n",
    "# 데이터 로드\n",
    "iris = load_iris()\n",
    "# 첫 번째 꽃의 데이터\n",
    "type(iris)\n",
    "iris.keys()"
   ],
   "outputs": [
    {
     "data": {
      "text/plain": [
       "dict_keys(['data', 'target', 'frame', 'target_names', 'DESCR', 'feature_names', 'filename', 'data_module'])"
      ]
     },
     "execution_count": 6,
     "metadata": {},
     "output_type": "execute_result"
    }
   ],
   "execution_count": 6
  },
  {
   "metadata": {
    "ExecuteTime": {
     "end_time": "2025-07-14T00:41:40.867123Z",
     "start_time": "2025-07-14T00:41:40.865492Z"
    }
   },
   "cell_type": "code",
   "source": [
    "iris['data'].shape\n",
    "data = iris['data']"
   ],
   "outputs": [],
   "execution_count": 7
  },
  {
   "metadata": {
    "ExecuteTime": {
     "end_time": "2025-07-14T00:41:40.931348Z",
     "start_time": "2025-07-14T00:41:40.929258Z"
    }
   },
   "cell_type": "code",
   "source": "iris['data'][0]",
   "outputs": [
    {
     "data": {
      "text/plain": [
       "array([5.1, 3.5, 1.4, 0.2])"
      ]
     },
     "execution_count": 8,
     "metadata": {},
     "output_type": "execute_result"
    }
   ],
   "execution_count": 8
  },
  {
   "metadata": {
    "ExecuteTime": {
     "end_time": "2025-07-14T00:41:40.986175Z",
     "start_time": "2025-07-14T00:41:40.983679Z"
    }
   },
   "cell_type": "code",
   "source": "iris['data'][-1]",
   "outputs": [
    {
     "data": {
      "text/plain": [
       "array([5.9, 3. , 5.1, 1.8])"
      ]
     },
     "execution_count": 9,
     "metadata": {},
     "output_type": "execute_result"
    }
   ],
   "execution_count": 9
  },
  {
   "cell_type": "markdown",
   "metadata": {},
   "source": [
    "### 스칼라\n",
    "\n",
    "스칼라는 하나의 숫자만으로 이루어진 데이터를 말한다. 예를 들어 어떤 붓꽃 한 송이의 꽃잎 길이를 측정하면 숫자가 하나 나올 것이다. 이렇게 수치로 측정한 한 데이터는 스칼라이다.\n",
    "\n",
    "스칼라는 보통 𝑥와 같이 알파벳 소문자로 표기하며 실수(real number)인 숫자 중의 하나이므로 실수 집합 𝐑의 원소라는 의미에서 다음처럼 표기한다.\n",
    "\n",
    "$$\n",
    "x \\in R\n",
    "$$"
   ]
  },
  {
   "cell_type": "code",
   "metadata": {
    "ExecuteTime": {
     "end_time": "2025-07-14T00:41:41.023707Z",
     "start_time": "2025-07-14T00:41:41.021349Z"
    }
   },
   "source": [
    "# 첫 번째 꽃의 한 데이터\n",
    "data[0,:1]"
   ],
   "outputs": [
    {
     "data": {
      "text/plain": [
       "array([5.1])"
      ]
     },
     "execution_count": 10,
     "metadata": {},
     "output_type": "execute_result"
    }
   ],
   "execution_count": 10
  },
  {
   "metadata": {
    "ExecuteTime": {
     "end_time": "2025-07-14T00:41:41.048217Z",
     "start_time": "2025-07-14T00:41:41.045835Z"
    }
   },
   "cell_type": "code",
   "source": [
    "# 첫 번쩨 꽃의 전체 데이터\n",
    "data[0,:]"
   ],
   "outputs": [
    {
     "data": {
      "text/plain": [
       "array([5.1, 3.5, 1.4, 0.2])"
      ]
     },
     "execution_count": 11,
     "metadata": {},
     "output_type": "execute_result"
    }
   ],
   "execution_count": 11
  },
  {
   "cell_type": "markdown",
   "metadata": {},
   "source": [
    "### 벡터 (배열)\n",
    "\n",
    "벡터는 여러 개의 숫자가 특정한 순서대로 모여 있는 것을 말한다. 사실 대부분의 데이터 레코드는 여러 개의 숫자로 이루어진 경우가 많다. \n",
    "\n",
    "예를 들어 붓꽃의 종을 알아내기 위해 붓꽃의 크기를 측정할 때, 꽃받침의 길이 𝑥1뿐 아니라 꽃받침의 폭 𝑥2, 꽃잎의 길이 𝑥3, 꽃잎의 폭 𝑥4라는 4개의 숫자를 측정할 수도 있다. 이렇게 측정된 4개의 숫자는 한 송이의 붓꽃에서 나온 데이터이므로 따로따로 다루기보다는 하나의 묶음(tuple)으로 묶어놓는 것이 좋다. \n",
    "\n",
    "이때 숫자의 순서가 바뀌면 어떤 숫자가 꽃잎의 길이이고 어떤 숫자가 꽃받침의 폭인지 알 수 없으므로 숫자의 순서를 유지하는 것이 중요하다. 이런 데이터 묶음을 선형대수에서는 벡터라고 부른다.\n",
    "\n",
    "붓꽃의 크기 벡터는 4개의 데이터 (𝑥1,𝑥2,𝑥3,𝑥4)가 하나로 묶여 있는데 이를 선형대수 기호로는 다음처럼 하나의 문자 𝑥로 표기한다.\n",
    "\n",
    "$$\n",
    "x = \\begin{bmatrix} x_1 \\\\ x_2 \\\\ x_3 \\\\ x_4 \\end{bmatrix}\n",
    "$$"
   ]
  },
  {
   "cell_type": "code",
   "metadata": {
    "ExecuteTime": {
     "end_time": "2025-07-14T00:41:41.067864Z",
     "start_time": "2025-07-14T00:41:41.065557Z"
    }
   },
   "source": [
    "# 2번째 꽃의 데이터\n",
    "data[1,:]"
   ],
   "outputs": [
    {
     "data": {
      "text/plain": [
       "array([4.9, 3. , 1.4, 0.2])"
      ]
     },
     "execution_count": 12,
     "metadata": {},
     "output_type": "execute_result"
    }
   ],
   "execution_count": 12
  },
  {
   "cell_type": "markdown",
   "metadata": {},
   "source": [
    "이때 벡터는 복수의 가로줄, 즉 **행(row)**을 가지고 하나의 세로줄, 즉 **열(column)**을 가지는 형태로 위에서 아래로 내려써서 표기해야 한다.\n",
    "\n",
    "하나의 벡터를 이루는 데이터의 개수가 𝑛개이면 이 벡터를 n-차원 벡터(n-dimensional vector)라고 하며 다음처럼 표기한다.\n",
    "\n",
    "\n",
    "$$\n",
    "x = \\begin{bmatrix} x_1 \\\\ x_2 \\\\ \\vdots \\\\ x_N \\end{bmatrix}\n",
    "$$\n",
    "\n",
    "또는 \n",
    "\n",
    "$$x \\in R^N\n",
    "$$"
   ]
  },
  {
   "cell_type": "markdown",
   "metadata": {},
   "source": [
    "위에서예로든붓꽃의크기벡터$𝑥$는실수4개로이루어져있으므로4차원벡터라고하고다음처럼표기한다.\n",
    " \n",
    "$$\n",
    "x \\in R^4\n",
    "$$"
   ]
  },
  {
   "cell_type": "markdown",
   "metadata": {},
   "source": [
    "벡터의원소가되는스칼라값은아래첨자(𝑠𝑢𝑏𝑠𝑐𝑟𝑖𝑝𝑡)를붙여서원소의위치를표시하는것이보통이다.하지만아래첨자가있다고무조건스칼라는아니다.벡터가여러개있으면서로다른벡터를구별하기위해벡터이름에아래첨자를붙일수도있다.따라서아래첨자를가진알파벳소문자기호는스칼라일수도있고벡터일수도있다.두경우는문맥에따라구별해야한다.책에따라서는벡터와스칼라와구별하기위해볼드체벡터기호$𝐱$나화살표벡터기호$𝑥⃗ $를사용하기도한다.\n",
    "\n",
    "\n",
    "$$\n",
    "x = \\vec{x} = \\begin{bmatrix} x_1 \\\\ x_2 \\\\ \\vdots \\\\ x_N \\end{bmatrix}\n",
    "$$\n",
    "\n",
    "하지만 데이터 사이언스 분야의 책이나 논문에서는 모든 값이 벡터나 행렬이므로 굳이 볼드체 기호를 사용하지 않기 때문에 독자 스스로 문맥을 보고 스칼라인지 벡터인지 결정할 수밖에 없다.\n",
    "\n"
   ]
  },
  {
   "cell_type": "markdown",
   "metadata": {},
   "source": [
    "#### 특징 벡터\n",
    "\n",
    "**데이터 벡터가 예측 문제에서 입력 데이터로 사용되면 특징 벡터(feature vector)**라고 한다.\n",
    "\n",
    "예를 들어 어떤 붓꽃 표본 한 송이를 꺾어 측정하였더니 꽃받침 길이가 5.1cm, 꽃받침 폭이 3.5cm, 꽃잎 길이가 1.4cm, 꽃잎 폭이 0.2cm였다면 이 데이터 레코드를 𝑥1이라고 이름 붙이고 다음처럼 표시한다.\n",
    "\n",
    "\n",
    "$$\n",
    "x_1 = \\begin{bmatrix} 5.1 \\\\ 3.5 \\\\ 1.4 \\\\ 0.2 \\end{bmatrix}\n",
    "$$\n",
    "\n",
    "\n",
    "또 다른 붓꽃은 다음과 같은 벡터로 나타낼 수 있다고 하자.\n",
    "\n",
    "\n",
    "$$\n",
    "x_2 = \\begin{bmatrix} 4.9 \\\\ 3.9 \\\\ 1.4 \\\\ 0.2 \\end{bmatrix}\n",
    "$$\n",
    "\n",
    "\n",
    "만약 이러한 붓꽃 크기 벡터를 이용하여 붓꽃 종을 결정하는 예측 문제를 풀고 있다면 붓꽃 크기 벡터는 특징 벡터이다.\n"
   ]
  },
  {
   "cell_type": "markdown",
   "metadata": {},
   "source": [
    "#### 넘파이를 사용한 벡터 표현\n",
    "\n",
    "넘파이는 선형대수 문제를 풀 때 사용하는 파이썬 패키지다. 넘파이를 사용하여 벡터를 표현할 때는 벡터를 다음처럼 열의 개수가 하나인 2차원 배열(array) 객체로 표현한다. 이때 배열의 차원은 벡터의 차원과 다른 의미다. 위에서 설명한 벡터의 차원은 원소 개수를 뜻한다. 배열은 원소 개수가 몇 개이든 한 줄로 나타낼 수 있다면 1차원 배열(1-dimensional array)이라고 한다. 원소를 가로와 세로가 있는 여러 줄의 직사각형 형태로 나타낼 수 있으면 2차원 배열(2-dimensional array)이라고 한다.\n",
    "\n",
    "예를 들어 위에서 예로 든 벡터 𝑥1을 넘파이의 2차원 배열로 표기하면 다음과 같다.\n"
   ]
  },
  {
   "cell_type": "code",
   "metadata": {
    "ExecuteTime": {
     "end_time": "2025-07-14T00:41:41.087987Z",
     "start_time": "2025-07-14T00:41:41.085544Z"
    }
   },
   "source": "np.array([[5.1], [3.5], [1.4], [0.2]])",
   "outputs": [
    {
     "data": {
      "text/plain": [
       "array([[5.1],\n",
       "       [3.5],\n",
       "       [1.4],\n",
       "       [0.2]])"
      ]
     },
     "execution_count": 13,
     "metadata": {},
     "output_type": "execute_result"
    }
   ],
   "execution_count": 13
  },
  {
   "cell_type": "markdown",
   "metadata": {},
   "source": [
    "하지만 넘파이는 1차원 배열 객체도 대부분 벡터로 인정한다. 이때는 벡터가 마치 하나의 행처럼 표시되어도 실제로는 열이라는 점에 주의한다."
   ]
  },
  {
   "cell_type": "code",
   "metadata": {
    "ExecuteTime": {
     "end_time": "2025-07-14T00:41:46.310346Z",
     "start_time": "2025-07-14T00:41:46.308286Z"
    }
   },
   "source": "a = np.array([5.1, 3.5, 1.4, 0.2])",
   "outputs": [],
   "execution_count": 16
  },
  {
   "metadata": {
    "ExecuteTime": {
     "end_time": "2025-07-14T00:41:51.626051Z",
     "start_time": "2025-07-14T00:41:51.623301Z"
    }
   },
   "cell_type": "code",
   "source": "a.shape # 행우선, 4행",
   "outputs": [
    {
     "data": {
      "text/plain": [
       "(4,)"
      ]
     },
     "execution_count": 18,
     "metadata": {},
     "output_type": "execute_result"
    }
   ],
   "execution_count": 18
  },
  {
   "cell_type": "markdown",
   "metadata": {},
   "source": [
    "그러나 벡터 데이터를 처리하는 프로그램에 따라서 두 가지 표현법 중 열 표기를 정확하게 요구하는 경우도 있으므로 주의해야 한다. 예를 들어 사이킷런 패키지에서 벡터를 요구하는 경우에는 반드시 열의 개수가 1개인 2차원 배열 객체를 넣어야 한다."
   ]
  },
  {
   "cell_type": "markdown",
   "metadata": {},
   "source": [
    "#### 연습 문제 2.1.1\n",
    "\n",
    "NumPy를 사용해서 붓꽃 데이터 𝑥2에 대한 벡터 변수 x2를 만든다.\n"
   ]
  },
  {
   "cell_type": "markdown",
   "metadata": {},
   "source": [
    "### 행렬 (다차원 배열)\n",
    "\n",
    "행렬은 복수의 차원을 가지는 데이터 레코드가 다시 여러 개 있는 경우의 데이터를 합쳐서 표기한 것이다. 예를 들어 앞서 말한 붓꽃 예에서 붓꽃 6 송이에 대해 꽃잎과 꽃받침의 크기를 측정하였다면 4차원 붓꽃 데이터가 6개가 있다. 즉, 4×6=24개의 실수 숫자가 있는 것이다. 이 숫자 집합을 행렬로 나타내면 다음과 같다. 행렬은 보통 X와 같이 알파벳 대문자로 표기한다.\n",
    "\n",
    "\n",
    "$$\n",
    "X = \\begin{bmatrix}\n",
    "x_{1,1} & x_{1,2} & x_{1,3} & x_{1,4} \\\\\n",
    "x_{2,1} & x_{2,2} & x_{2,3} & x_{2,4} \\\\\n",
    "x_{3,1} & x_{3,2} & x_{3,3} & x_{3,4} \\\\\n",
    "x_{4,1} & x_{4,2} & x_{4,3} & x_{4,4} \\\\\n",
    "x_{5,1} & x_{5,2} & x_{5,3} & x_{5,4} \\\\\n",
    "x_{6,1} & x_{6,2} & x_{6,3} & x_{6,4}\n",
    "\\end{bmatrix}$$\n",
    "\n",
    "행렬의 원소 하나하나는 x2,3처럼 두 개의 숫자 쌍을 아래첨자(subscript)로 붙여서 표기한다. 첫 번째 숫자가 행을 뜻하고 두 번째 숫자가 열을 뜻한다. 예를 들어 x2,3은 두 번째 행(위에서 아래로 두 번째), 세 번째 열(왼쪽에서 오른쪽으로 세 번째)의 숫자를 뜻한다. 행/열의 개수가 10보다 적을 때는 쉼표 없이 x23이라고 표기할 때도 있다."
   ]
  },
  {
   "cell_type": "code",
   "metadata": {
    "ExecuteTime": {
     "end_time": "2025-07-14T00:44:53.895992Z",
     "start_time": "2025-07-14T00:44:53.893572Z"
    }
   },
   "source": [
    "# 배열의 크기\n",
    "data.shape"
   ],
   "outputs": [
    {
     "data": {
      "text/plain": [
       "(150, 4)"
      ]
     },
     "execution_count": 19,
     "metadata": {},
     "output_type": "execute_result"
    }
   ],
   "execution_count": 19
  },
  {
   "cell_type": "code",
   "metadata": {
    "ExecuteTime": {
     "end_time": "2025-07-14T00:45:24.544343Z",
     "start_time": "2025-07-14T00:45:24.542142Z"
    }
   },
   "source": [
    "# 5번째 까지\n",
    "\n",
    "data[:5]"
   ],
   "outputs": [
    {
     "data": {
      "text/plain": [
       "array([[5.1, 3.5, 1.4, 0.2],\n",
       "       [4.9, 3. , 1.4, 0.2],\n",
       "       [4.7, 3.2, 1.3, 0.2],\n",
       "       [4.6, 3.1, 1.5, 0.2],\n",
       "       [5. , 3.6, 1.4, 0.2]])"
      ]
     },
     "execution_count": 20,
     "metadata": {},
     "output_type": "execute_result"
    }
   ],
   "execution_count": 20
  },
  {
   "metadata": {
    "ExecuteTime": {
     "end_time": "2025-07-14T00:45:44.694502Z",
     "start_time": "2025-07-14T00:45:44.690995Z"
    }
   },
   "cell_type": "code",
   "source": "data[:5, 1:2]",
   "outputs": [
    {
     "data": {
      "text/plain": [
       "array([[3.5],\n",
       "       [3. ],\n",
       "       [3.2],\n",
       "       [3.1],\n",
       "       [3.6]])"
      ]
     },
     "execution_count": 21,
     "metadata": {},
     "output_type": "execute_result"
    }
   ],
   "execution_count": 21
  },
  {
   "cell_type": "markdown",
   "metadata": {},
   "source": [
    "벡터는 열의 수가 1인 행렬이라고 볼 수 있으므로 벡터를 다른 말로 **열 벡터(column vector)**라고도 한다.\n",
    "\n",
    "데이터를 행렬로 묶어서 표시할 때는 붓꽃 하나에 대한 데이터 레코드, 즉 하나의 벡터가 열이 아닌 행(row)으로 표시한다. 붓꽃의 예에서는 하나의 데이터 레코드가 4차원 데이터였다는 점을 기억하자.\n",
    "\n",
    "**하나의 데이터 레코드를 단독으로 벡터로 나타낼 때는 하나의 열(column)**로 나타내고 **복수의 데이터 레코드 집합을 행렬로 나타낼 때는 하나의 데이터 레코드가 하나의 행(row)**으로 표기하는 것은 얼핏 보기에는 일관성이 없어 보지만 추후 다른 연산을 할 때 이런 모양이 필요하기 때문이다. 데이터 분석에서 쓰는 일반적인 관례이므로 외워두어야 한다."
   ]
  },
  {
   "cell_type": "markdown",
   "metadata": {},
   "source": [
    "#### 특정 행렬\n",
    "\n",
    "\n",
    "만약 이 데이터를 이용하여 붓꽃의 종을 결정하는 예측 문제를 풀고 있다면 이 행을 **특징 행렬(feature matrix)**이라고 하기도 한다. 이 행렬의 크기를 수식으로 표시할 때는 다음처럼 “행의 크기 곱하기 열의 크기”로 나타낸다.\n",
    "\n",
    "$$\n",
    "X \\in R^{6\\times 4}\n",
    "$$"
   ]
  },
  {
   "cell_type": "markdown",
   "metadata": {},
   "source": [
    "스칼라와 벡터도 수학적으로는 행렬에 속한다. 스칼라는 열과 행의 수가 각각 1인 행렬이고 벡터는 열의 수가 1인 행렬이다. 그래서 스칼라나 벡터의 크기를 표시할 때 다음처럼 쓸 수도 있다.\n",
    "\n",
    "스칼라는\n",
    "\n",
    "$$\n",
    "a \\in R^{1\\times 1}\n",
    "$$"
   ]
  },
  {
   "cell_type": "markdown",
   "metadata": {},
   "source": [
    "벡터는 (예를 들어 길이가 4인 붓꽃 벡터의 경우)\n",
    "\n",
    "$$\n",
    "x \\in R^{4\\times 1}\n",
    "$$\n",
    "\n",
    "로 써도 행렬이 아닌 벡터라는 뜻이다."
   ]
  },
  {
   "cell_type": "markdown",
   "metadata": {},
   "source": [
    "앞에서 예로 들었던 두 송이의 붓꽃 데이터를 하나의 행렬로 합치면 다음과 같다.\n",
    "\n",
    "$$\n",
    "X = \\begin{bmatrix} \n",
    "5.1 & 3.5 & 1.4 & 0.2 \\\\\n",
    "4.9 & 3.0 & 1.4 & 0.2 \n",
    "\\end{bmatrix}\n",
    "$$\n"
   ]
  },
  {
   "cell_type": "markdown",
   "metadata": {},
   "source": [
    "NumPy를 이용하여 행렬을 표기할 때는 2차원 ndarray 객체를 사용한다. 예를 들어 다음 행렬 A를 NumPy로 나타내면 다음과 같다.\n",
    "\n",
    "$$\n",
    "A = \\begin{bmatrix} \n",
    "111 & 12 & 13 \\\\\n",
    "21 & 22 & 23 \n",
    "\\end{bmatrix}\n",
    "$$\n"
   ]
  },
  {
   "cell_type": "code",
   "metadata": {
    "ExecuteTime": {
     "end_time": "2025-07-14T00:48:03.802961Z",
     "start_time": "2025-07-14T00:48:03.799427Z"
    }
   },
   "source": [
    "A = np.array([[111, 12, 13], [21, 22, 23]])\n",
    "A"
   ],
   "outputs": [
    {
     "data": {
      "text/plain": [
       "array([[111,  12,  13],\n",
       "       [ 21,  22,  23]])"
      ]
     },
     "execution_count": 24,
     "metadata": {},
     "output_type": "execute_result"
    }
   ],
   "execution_count": 24
  },
  {
   "cell_type": "markdown",
   "metadata": {},
   "source": [
    "####  연습 문제\n",
    "\n",
    "넘파이를 사용해서 붓꽃 데이터 X에 대한 행렬 변수 X를 만든다.\n",
    "\n",
    "\n"
   ]
  },
  {
   "cell_type": "code",
   "metadata": {},
   "source": [
    "\n",
    "x"
   ],
   "outputs": [],
   "execution_count": null
  },
  {
   "cell_type": "markdown",
   "metadata": {},
   "source": [
    "### 텐서\n",
    "\n",
    "텐서는 같은 크기의 행렬이 여러 개 같이 묶여 있는 것으로 2차원 이상의 다차원 행렬(배열)을 말한다\n",
    " - 3차원, 4차원, ..., n차원 텐서\n",
    "\n",
    "\n",
    "엄격하게 수학적 정의로는 텐서는 다차원 배열로 표현되는 사상(mapping)으로 다차원 배열 자체를 뜻하지 않는다. 하지만 데이터 사이언스 분야에서는 흔히 다차원 배열을 텐서라고 부르므로 여기에서는 이러한 정의를 따르도록 한다."
   ]
  },
  {
   "cell_type": "markdown",
   "metadata": {},
   "source": [
    "iris 데이터는 꽃잎 폭, 꽃잎 크기의 4가지 값의 벡터가 모여있는 2차원 텐서(행렬)이다."
   ]
  },
  {
   "cell_type": "code",
   "metadata": {},
   "source": [
    "# iris.data 크기\n",
    "\n"
   ],
   "outputs": [],
   "execution_count": null
  },
  {
   "cell_type": "markdown",
   "metadata": {},
   "source": [
    "#### 3D 텐서\n",
    "\n",
    "컬러 이미지는 2차원의 행렬처럼 보이지만 사실 빨강, 초록, 파랑의 밝기를 나타내는 3가지의 이미지가 겹친 것이다. 컬러 이미지에서는 각각의 색을 나타내는 행렬을 채널(channel)이라고 한다. 예제 이미지는 크기가 768 x 1024이고 3개의 채널이 있으므로 768 x 1024 x 3 크기의 3차원 텐서다."
   ]
  },
  {
   "cell_type": "code",
   "metadata": {},
   "source": [
    "import scipy.datasets\n",
    "\n",
    "# 너구리 얼굴 이미지 로드 (컬러)\n",
    "raccoon_face = scipy.datasets.face()"
   ],
   "outputs": [],
   "execution_count": null
  },
  {
   "cell_type": "code",
   "metadata": {},
   "source": [
    "# raccoon_face의 크기\n"
   ],
   "outputs": [],
   "execution_count": null
  },
  {
   "cell_type": "code",
   "metadata": {},
   "source": [
    "plt.subplot(221)\n",
    "plt.imshow(raccoon_face, cmap=plt.cm.gray)  # 컬러 이미지 출력\n",
    "plt.axis(\"off\")\n",
    "plt.title(\"RGB 컬러 이미지\")\n",
    "\n",
    "plt.subplot(222)\n",
    "plt.imshow(raccoon_face[:, :, 0], cmap=plt.cm.gray)  # red 채널 출력\n",
    "plt.axis(\"off\")\n",
    "plt.title(\"Red 채널\")\n",
    "\n",
    "plt.subplot(223)\n",
    "plt.imshow(raccoon_face[:, :, 1], cmap=plt.cm.gray)  # green 채널 출력\n",
    "plt.axis(\"off\")\n",
    "plt.title(\"Green 채널\")\n",
    "\n",
    "plt.subplot(224)\n",
    "plt.imshow(raccoon_face[:, :, 2], cmap=plt.cm.gray)  # blue 채널 출력\n",
    "plt.axis(\"off\")\n",
    "plt.title(\"Blue 채널\")\n",
    "\n",
    "plt.show()"
   ],
   "outputs": [],
   "execution_count": null
  },
  {
   "cell_type": "code",
   "metadata": {},
   "source": [],
   "outputs": [],
   "execution_count": null
  },
  {
   "cell_type": "markdown",
   "metadata": {},
   "source": [
    "### 범주형\n",
    "\n",
    "iris 데이터에서 스칼라 값의 벡터는 4가지 붗꽃 종류의 범주를 나타낸다"
   ]
  },
  {
   "cell_type": "code",
   "metadata": {},
   "source": [
    "# iris.target 의 unique\n",
    "\n"
   ],
   "outputs": [],
   "execution_count": null
  },
  {
   "cell_type": "code",
   "metadata": {},
   "source": [
    "iris.target_names"
   ],
   "outputs": [],
   "execution_count": null
  },
  {
   "cell_type": "code",
   "metadata": {},
   "source": [],
   "outputs": [],
   "execution_count": null
  },
  {
   "cell_type": "markdown",
   "metadata": {},
   "source": [
    "### 머신러닝 입력 데이터\n",
    "\n",
    "예측 문제의 입력 데이터는 대부분 벡터로 표시한다. 예를 들어 숫자 이미지를 입력받아 어떤 숫자인지 분류하는 문제를 생각해보자. 이미지는 원래 2차원 데이터이지만 예측 문제에서는 보통 1차원 벡터로 변환하여 사용한다. 다음은 사이킷런 패키지에서 제공하는 MNIST 숫자 이미지(digit image) 데이터셋이다. 이 데이터는 0부터 9까지의 숫자를 손으로 쓴 후에 8x8 해상도의 이미지로 스캔한 것이다. "
   ]
  },
  {
   "cell_type": "code",
   "metadata": {},
   "source": [
    "from sklearn.datasets import load_digits  # 패키지 임포트\n",
    "\n",
    "digits = load_digits()  # 데이터 로드"
   ],
   "outputs": [],
   "execution_count": null
  },
  {
   "cell_type": "code",
   "metadata": {},
   "source": [
    "digits.keys()"
   ],
   "outputs": [],
   "execution_count": null
  },
  {
   "cell_type": "code",
   "metadata": {},
   "source": [
    "print(digits['DESCR'])"
   ],
   "outputs": [],
   "execution_count": null
  },
  {
   "cell_type": "markdown",
   "metadata": {},
   "source": [
    "다음 코드는 그중 숫자 0과 1의 이미지 8개를 출력한다."
   ]
  },
  {
   "cell_type": "code",
   "metadata": {
    "school_cell_uuid": "d829f331f7ce4535800a6849fc891d78"
   },
   "source": [
    "samples = [0, 10, 20, 30, 1, 11, 21, 31]  # 선택된 이미지 번호\n",
    "d = []\n",
    "for i in range(8):\n",
    "    d.append(digits.images[samples[i]])\n",
    "\n",
    "plt.figure(figsize=(8, 2))\n",
    "for i in range(8):\n",
    "    plt.subplot(1, 8, i + 1)\n",
    "    plt.imshow(d[i], interpolation='nearest', cmap=plt.cm.bone_r)\n",
    "    plt.grid(False); plt.xticks([]); plt.yticks([])\n",
    "    plt.title(\"image {}\".format(i + 1))\n",
    "plt.suptitle(\"숫자 0과 1 이미지\")\n",
    "plt.tight_layout()\n",
    "plt.show()"
   ],
   "outputs": [],
   "execution_count": null
  },
  {
   "cell_type": "markdown",
   "metadata": {},
   "source": [
    "이 2차원 이미지를 64-크기의 1차원 벡터로 펼치면 다음과 같다. 같은 숫자에 대한 벡터가 서로 닮았다는 점에 주의하라."
   ]
  },
  {
   "cell_type": "code",
   "metadata": {
    "school_cell_uuid": "4718358916c74ce58b9e2e392ace4d1b"
   },
   "source": [
    "v = []\n",
    "for i in range(8):\n",
    "    v.append(d[i].reshape(64, 1))  # 벡터화\n",
    "    \n",
    "plt.figure(figsize=(8, 3))\n",
    "for i in range(8):\n",
    "    plt.subplot(1, 8, i + 1)\n",
    "    plt.imshow(v[i], aspect=0.4,\n",
    "               interpolation='nearest', cmap=plt.cm.bone_r)\n",
    "    plt.grid(False); plt.xticks([]); plt.yticks([])\n",
    "    plt.title(\"벡터 {}\".format(i + 1))\n",
    "plt.suptitle(\"벡터화된 이미지\", y=1.05)\n",
    "plt.tight_layout(w_pad=7)\n",
    "plt.show()"
   ],
   "outputs": [],
   "execution_count": null
  },
  {
   "cell_type": "markdown",
   "metadata": {},
   "source": []
  },
  {
   "cell_type": "markdown",
   "metadata": {},
   "source": [
    "## [2] 전치 연산\n",
    "\n",
    "이번에는 이러한 스칼라, 벡터, 행렬 데이터를 변형시키는 방법 즉, 연산(operation)에 대해서 알아보자."
   ]
  },
  {
   "cell_type": "markdown",
   "metadata": {},
   "source": [
    "전치(transpose) 연산은 행렬에서 가장 기본이 되는 연산으로 행렬의 행과 열을 바꾸는 연산을 말한다. 전치 연산은 벡터나 행렬에 T라는 위첨자(superscript)를 붙여서 표기한다. 책에 따라서는 프라임(prime)기호 ′를 붙이는 경우도 있다.\n",
    "\n",
    "x를 전치연산하면\n",
    "\n",
    "$$\n",
    "x \\rightarrow x^T \\\\\n",
    "\\text{or}\\\\\n",
    "x \\rightarrow x^{'}\n",
    "$$"
   ]
  },
  {
   "cell_type": "markdown",
   "metadata": {},
   "source": [
    "6×4 차원의 행렬을 전치 연산하면 4×6 차원의 행렬이 된다.\n",
    "\n",
    "$$\n",
    "X = \\begin{bmatrix}\n",
    "x_{1,1} & x_{1,2} & x_{1,3} & x_{1,4} \\\\\n",
    "x_{2,1} & x_{2,2} & x_{2,3} & x_{2,4} \\\\\n",
    "x_{3,1} & x_{3,2} & x_{3,3} & x_{3,4} \\\\\n",
    "x_{4,1} & x_{4,2} & x_{4,3} & x_{4,4} \\\\\n",
    "x_{5,1} & x_{5,2} & x_{5,3} & x_{5,4} \\\\\n",
    "x_{6,1} & x_{6,2} & x_{6,3} & x_{6,4}\n",
    "\\end{bmatrix}\n",
    "\\longrightarrow\n",
    "X^T = \\begin{bmatrix}\n",
    "x_{1,1} & x_{2,1} & x_{1,3} & x_{1,4} & x_{1,5} & x_{1,6}\\\\\n",
    "x_{1,2} & x_{2,2} & x_{2,3} & x_{2,4} & x_{2,5} & x_{2,6}\\\\\n",
    "x_{1,3} & x_{2,3} & x_{3,3} & x_{3,4} & x_{3,5} & x_{3,6} \\\\\n",
    "x_{1,4} & x_{2,4} & x_{4,3} & x_{4,4} & x_{4,5} & x_{4,6}\n",
    "\\end{bmatrix}\n",
    "$$"
   ]
  },
  {
   "cell_type": "markdown",
   "metadata": {},
   "source": [
    "전치 연산으로 만든 행렬을 원래 행렬에 대한 **전치행렬**이라고 한다. (열)벡터 x에 대해 전치 연산을 적용하여 만든 $x^T$ 는 행의 수가 1인 행렬이므로 **행 벡터(row vector)**라고 한다.\n",
    "\n",
    "$$\n",
    "x = \\begin{bmatrix}\n",
    "x_{1} \\\\ x_{2}\\\\ x_{3}\\\\ x_{4}\n",
    "\\end{bmatrix}\n",
    "\\longrightarrow\n",
    "x^T = \\begin{bmatrix}\n",
    "x_{1} & x_{2} & x_{3} & x_{4}\n",
    "\\end{bmatrix}\n",
    "$$"
   ]
  },
  {
   "cell_type": "markdown",
   "metadata": {},
   "source": [
    "NumPy에서는 ndarray 객체의 T라는 속성을 이용하여 전치 행렬을 구한다. 이때 T는 메서드(method)가 아닌 속성(attribute)이므로 소괄호 ()를 붙여서 호출하면 안 된다."
   ]
  },
  {
   "cell_type": "code",
   "metadata": {},
   "source": [
    "x1 = np.array([[5.1], [3.5], [1.4], [0.2]])\n",
    "x1"
   ],
   "outputs": [],
   "execution_count": null
  },
  {
   "cell_type": "code",
   "metadata": {},
   "source": [
    "# x1의 전치\n",
    "x1.T"
   ],
   "outputs": [],
   "execution_count": null
  },
  {
   "cell_type": "markdown",
   "metadata": {},
   "source": [
    "다만 1차원 ndarray는 전치 연산이 정의되지 않는다."
   ]
  },
  {
   "cell_type": "code",
   "metadata": {
    "school_cell_uuid": "e00eb467cc514d28bd6a0aad46c37e5b"
   },
   "source": [
    "x1 = np.array([5.1, 3.5, 1.4, 0.2])\n",
    "x1"
   ],
   "outputs": [],
   "execution_count": null
  },
  {
   "cell_type": "code",
   "metadata": {
    "school_cell_uuid": "0b1ebb68f6804663b57f0850c776d979"
   },
   "source": [
    "# x1의 전치\n"
   ],
   "outputs": [],
   "execution_count": null
  },
  {
   "cell_type": "markdown",
   "metadata": {},
   "source": [
    "## [3] 행렬의 행 표기법과 열 표기법\n",
    "\n",
    "전치 연산과 행 벡터, 열 벡터를 이용하면 다음처럼 행렬을 복수의 열 벡터 $c_i$, 또는 복수의 행 벡터 $r_j^T$ 을 합친(concatenated) 형태로 표기할 수도 있다.\n"
   ]
  },
  {
   "cell_type": "markdown",
   "metadata": {},
   "source": [
    "\n",
    "$$\n",
    "x = \\begin{bmatrix}\n",
    "c_{1} & c_{2} & \\cdots & c_{M}\n",
    "\\end{bmatrix}\n",
    "= \\begin{bmatrix}\n",
    "r_{1}^T \\\\ r_{2}^T \\\\ \\vdots \\\\ r_{M}^T\n",
    "\\end{bmatrix}\n",
    "$$"
   ]
  },
  {
   "cell_type": "markdown",
   "metadata": {},
   "source": [
    "위 식에서 행렬과 벡터의 크기는 다음과 같다.\n",
    "\n",
    "$$\n",
    "X \\in R^{N\\times M} \\\\\n",
    "C_{i} \\in R^{N\\times 1}\\ (i = 1, \\cdots, M) \\\\\n",
    "r_{j}^T \\in R^{1\\times M}\\ (i = 1, \\cdots, N)$$"
   ]
  },
  {
   "cell_type": "markdown",
   "metadata": {},
   "source": [
    "위의 식은 다음과 같은 명제를 수식으로 표현한 것이다.\n",
    "\n",
    "> “행렬 X의 각 열은 c1, c2, …, cM라고 이름 붙인다.”\n",
    "\n",
    "또는\n",
    "\n",
    "> “행렬 X는 열 벡터 c1, c2, …, cM으로 이루어져 있다.”\n",
    "\n",
    "행 관점에서는\n",
    "\n",
    "> “행렬 X의 각 행은 $r_1^T, r_2^T, \\cdots, r_N^T$라고 이름 붙인다.”\n",
    "\n",
    "또는\n",
    "\n",
    "> “행렬 X는 행 벡터 $r_1^T, r_2^T, \\cdots, r_N^T$으로 이루어져 있다.”\n"
   ]
  },
  {
   "cell_type": "markdown",
   "metadata": {},
   "source": [
    "모든 벡터는 기본적으로 열벡터이므로 ri를 전치 연산하여 rTi라고 행을 표현한 점에 주의한다.\n",
    "\n",
    "예를 들어 행렬\n",
    "\n",
    "$$\n",
    "X = \\begin{bmatrix}\n",
    "1 & 2 & 3 \\\\\n",
    "4 & 5 & 6\n",
    "\\end{bmatrix}\n",
    "$$\n",
    "\n",
    "은 열벡터\n",
    "\n",
    "$$\n",
    "c_1 = \\begin{bmatrix}1 \\\\ 4\\end{bmatrix},\n",
    "c_2 = \\begin{bmatrix}2 \\\\ 5\\end{bmatrix},\n",
    "c_1 = \\begin{bmatrix}3 \\\\ 6\\end{bmatrix}\n",
    "$$\n",
    "\n",
    "이 합쳐진 것이라고 보거나 또는 행 벡터"
   ]
  },
  {
   "cell_type": "markdown",
   "metadata": {},
   "source": [
    "\n",
    "$$\n",
    "r_1 = \\begin{bmatrix}1 & 2& 3\\end{bmatrix}^T, r_2 = \\begin{bmatrix}4 & 5 & 6\\end{bmatrix}^T\n",
    "$$\n",
    "\n",
    "로 구성되었다고 볼 수 있다.\n",
    "\n"
   ]
  },
  {
   "cell_type": "markdown",
   "metadata": {},
   "source": [
    "## [4] 특수한 벡터와 행렬\n",
    "\n",
    "몇 가지 특수한 벡터와 행렬은 별도의 기호나 이름이 붙는다.\n",
    "\n"
   ]
  },
  {
   "cell_type": "markdown",
   "metadata": {},
   "source": [
    "### 영벡터\n",
    "\n",
    "모든 원소가 0인 N차원 벡터는 **영벡터(zeros-vector)**라고 하며 다음처럼 표기한다.\n",
    "\n",
    "모든 원소가 0인 N차원 벡터는\n",
    "\n",
    "$$0_N = \\mathbf{0} = 0 = \\begin{bmatrix} 0 \\\\ 0 \\\\ \\vdots \\\\ 0\\end{bmatrix} \\\\\n",
    "0 \\in R^{N\\times 1}\n",
    "$$\n",
    "\n",
    "문맥에서 벡터의 크기를 알 수 있을 때는 크기를 나타내는 아래첨자를 생략할 수 있다."
   ]
  },
  {
   "cell_type": "markdown",
   "metadata": {},
   "source": [
    "NumPy에서 영벡터는 zeros() 명령으로 만든다."
   ]
  },
  {
   "cell_type": "code",
   "metadata": {},
   "source": [
    "\n"
   ],
   "outputs": [],
   "execution_count": null
  },
  {
   "cell_type": "markdown",
   "metadata": {},
   "source": [
    "### 일벡터\n",
    "\n",
    "모든 원소가 1인 N차원 벡터는 **일벡터(ones-vector)**라고 하며 다음처럼 표기한다.\n",
    "\n",
    "\n",
    "$$\n",
    "1_N = 1 = \\begin{bmatrix} 1 \\\\ 1 \\\\ \\vdots \\\\ 1\\end{bmatrix} \\\\\n",
    "1 \\in R^{N\\times 1}\n",
    "$$\n",
    "\n",
    "마찬가지로 문맥으로 벡터의 크기를 알 수 있을 때는 크기를 나타내는 아래 첨자 N을 생략할 수 있다.\n",
    "\n",
    "NumPy에서 일벡터는 ones() 명령으로 만든다."
   ]
  },
  {
   "cell_type": "code",
   "metadata": {},
   "source": [],
   "outputs": [],
   "execution_count": null
  },
  {
   "cell_type": "markdown",
   "metadata": {},
   "source": [
    "### 정방행렬 Square matrix\n",
    "\n",
    "행의 크기와 열의 크기가 같은 행렬,\n",
    "\n",
    "$ X = \\begin{pmatrix} 1 & 1 & 1 & 1\\\\ 1 & 1 & 1 & 1\\\\ 1 & 1 & 1 & 1 \\\\ 1 & 1 & 1 & 1\\end{pmatrix} $\n",
    "\n"
   ]
  },
  {
   "cell_type": "markdown",
   "metadata": {},
   "source": [
    "### 대각행렬\n",
    "\n",
    "행렬에서 행과 열이 같은 위치를 주 대각(main diagonal) 또는 간단히 **대각(diagonal)**이라고 한다. 대각 위치에 있지 않은 것들은 **비대각(off-diagonal)**이라고 한다. 모든 비대각 요소가 0인 행렬을 **대각행렬(diagonal matrix)**이라고 한다.\n",
    "\n",
    "$$ \n",
    "D = \\begin{bmatrix} d_{1} & 0 & \\cdots & 0 \\\\ \n",
    "0 & d_{2} & \\cdots & 0 \\\\\n",
    "\\vdots & \\vdots & \\ddots & \\vdots \\\\\n",
    "0 & 0 & \\cdots & d_{N} \\end{bmatrix}\\\\\n",
    "D \\in R^{NxN}\n",
    "$$\n"
   ]
  },
  {
   "cell_type": "markdown",
   "metadata": {},
   "source": [
    "대각행렬이 되려면 비대각성분이 0이기만 하면 되고 대각성분은 0이든 아니든 상관없다. 또한 반드시 정방행렬일 필요도 없다. \n",
    "\n",
    "<img src='https://media.geeksforgeeks.org/wp-content/uploads/20221124161458/dm.jpg' width=300>"
   ]
  },
  {
   "cell_type": "markdown",
   "metadata": {},
   "source": [
    "NumPy로 대각 정방행렬을 생성하려면 diag() 명령을 사용한다."
   ]
  },
  {
   "cell_type": "code",
   "metadata": {
    "school_cell_uuid": "31b719cb654a4b24ad9668cc69e61e06"
   },
   "source": [],
   "outputs": [],
   "execution_count": null
  },
  {
   "cell_type": "markdown",
   "metadata": {},
   "source": [
    "### 항등행렬, 단위행렬 Identity matrix\n",
    "\n",
    "대각행렬 중에서도 모든 대각성분의 값이 1인 대각행렬을 **항등행렬(identity matrix)**이라고 한다. 항등행렬은 보통 알파벳 대문자 I로 표기한다.\n",
    "\n",
    "\n",
    "$$\n",
    "I = \\begin{pmatrix} 1 & 0 & 0 \\\\ 0 & 1 & 0 \\\\ 0 & 0 & 1 \\end{pmatrix} \\\\\n",
    "I \\in R^{N\\times N}\n",
    "$$\n",
    "\n",
    "단위행렬은 항등행렬이라고 한다. 그러므로 단위행렬은 대각행렬 Diagonal 이기도 하다.\n",
    "\n",
    "NumPy로 항등행렬을 생성하려면 identity() 혹은 eye() 명령을 사용한다."
   ]
  },
  {
   "cell_type": "code",
   "metadata": {
    "school_cell_uuid": "a7ccde9759da483cb0de2d00d727501e"
   },
   "source": [],
   "outputs": [],
   "execution_count": null
  },
  {
   "cell_type": "code",
   "metadata": {
    "school_cell_uuid": "53ddcb3245394dc39475ebb5bb056dcd"
   },
   "source": [
    "np.eye(4)"
   ],
   "outputs": [],
   "execution_count": null
  },
  {
   "cell_type": "markdown",
   "metadata": {},
   "source": [
    "### 대칭행렬\n",
    "\n",
    "만약 전치연산을 통해서 얻은 전치행렬과 원래의 행렬이 같으면 **대칭행렬(symmetric matrix)**이라고 한다. 정방행렬만 대칭행렬이 될 수 있다.\n",
    "\n",
    "\n",
    "\n",
    "$S^{T}\\quad =\\quad S$\n",
    "\n",
    "$S\\quad =\\quad { S }^{ NxM }$\n",
    "\n",
    "\n"
   ]
  },
  {
   "cell_type": "markdown",
   "metadata": {},
   "source": [
    "### 연습 문제\n",
    "\n",
    "1. 영벡터, 일벡터, 정방행렬, 대각행렬, 항등행렬, 대칭행렬의 예를 하나씩 만들어본다.\n",
    "\n",
    "2. 위의 벡터와 행렬을 NumPy로 나타내 본다.\n"
   ]
  },
  {
   "cell_type": "markdown",
   "metadata": {},
   "source": [
    "## [5] 범주자료형의 요약"
   ]
  },
  {
   "cell_type": "markdown",
   "metadata": {},
   "source": [
    "- **도수 분포(Frequency distribution)**\n",
    "  - 도수(Frequency) : 각 범주에 속하는 관측값의 개수\n",
    "    - `value_counts()`\n",
    "  - 상대 도수(Relative frequency) : 도수를 자료의 전체 개수로 나눈 비율\n",
    "    - `(그 도수의 변량)/(총도수)`\n",
    "    - `value_counts(normalize=True)`\n",
    "  - 도수 분포표(Frequency table) : 범주형 자료에서 범주와 그 범주에 대응하는 도수, 상대 도수를 나열해 표로 만든 것\n",
    "- **막대 그래프(Bar chart)** : 각 범주에서 도수의 크기를 막대로 그림\n",
    "  - `plt.bar()`\n",
    "\n"
   ]
  },
  {
   "cell_type": "markdown",
   "metadata": {},
   "source": [
    "#### 도수 분포표\n"
   ]
  },
  {
   "cell_type": "code",
   "metadata": {},
   "source": [
    "df = pd.DataFrame(iris.data, columns=iris.feature_names)\n",
    "df.head()"
   ],
   "outputs": [],
   "execution_count": null
  },
  {
   "cell_type": "code",
   "metadata": {},
   "source": [
    "\n",
    "df.head()"
   ],
   "outputs": [],
   "execution_count": null
  },
  {
   "cell_type": "code",
   "metadata": {},
   "source": [
    "# species 를 target 이름으로 치환\n",
    "\n",
    "df.head()"
   ],
   "outputs": [],
   "execution_count": null
  },
  {
   "cell_type": "markdown",
   "metadata": {},
   "source": [
    "각 종류별 도수분포표를 출력한다"
   ]
  },
  {
   "cell_type": "code",
   "metadata": {},
   "source": [
    "# value counts\n",
    "\n",
    "species_counts"
   ],
   "outputs": [],
   "execution_count": null
  },
  {
   "cell_type": "code",
   "metadata": {},
   "source": [
    "# bar chart for value counts\n",
    "\n"
   ],
   "outputs": [],
   "execution_count": null
  },
  {
   "cell_type": "markdown",
   "metadata": {},
   "source": [
    "특정 종류의 도수를 찾는다"
   ]
  },
  {
   "cell_type": "code",
   "metadata": {},
   "source": [
    "# species 0의 value counts\n",
    "\n"
   ],
   "outputs": [],
   "execution_count": null
  },
  {
   "cell_type": "code",
   "metadata": {},
   "source": [
    "df.columns"
   ],
   "outputs": [],
   "execution_count": null
  },
  {
   "cell_type": "markdown",
   "metadata": {},
   "source": [
    "연속된 값을 pd.cut()을 이용해서 sepal length (cm) 를 5개 구간화해서 도수분포를 확인해 보자."
   ]
  },
  {
   "cell_type": "code",
   "metadata": {},
   "source": [
    "sepal_length = pd.cut(df['sepal length (cm)'], bins=5)\n",
    "sepal_length"
   ],
   "outputs": [],
   "execution_count": null
  },
  {
   "cell_type": "markdown",
   "metadata": {},
   "source": [
    "구간별 도수분포표"
   ]
  },
  {
   "cell_type": "code",
   "metadata": {},
   "source": [
    "sepal_length.value_counts().sort_index()"
   ],
   "outputs": [],
   "execution_count": null
  },
  {
   "cell_type": "markdown",
   "metadata": {},
   "source": [
    "어떤 범위의 도수분포표"
   ]
  },
  {
   "cell_type": "code",
   "metadata": {},
   "source": [
    "petal_width_bins = pd.cut(df['petal width (cm)'], \n",
    "                          bins=[0, 0.5, df['petal width (cm)'].max()],\n",
    "                          labels=['< 0.5cm', '>= 0.5cm'], right=True)\n",
    "petal_width_counts = petal_width_bins.value_counts().sort_index()\n",
    "petal_width_counts"
   ],
   "outputs": [],
   "execution_count": null
  },
  {
   "cell_type": "code",
   "metadata": {},
   "source": [
    "plt.bar(petal_width_counts.index, petal_width_counts.values, color=['skyblue', 'lightcoral', 'lightgreen'])"
   ],
   "outputs": [],
   "execution_count": null
  },
  {
   "cell_type": "markdown",
   "metadata": {},
   "source": [
    "## [6] 수치형 자료의 요약\n",
    "\n",
    "범주형 자료와 달리 수치로 구성되어 있기에 통계값을 사용한 요약이 가능하다.\n"
   ]
  },
  {
   "cell_type": "markdown",
   "metadata": {},
   "source": [
    "- **평균(Mean)** : 관측값의 산술평균\n",
    "  - `np.mean()`\n",
    "- **분산(Variance)** : 각 관측값이 자료의 평균으로부터 떨어진 정도 (자료가 얼마나 흩어졌는지 숫자로 표현)\n",
    "  ```\n",
    "  from statistics import variance\n",
    "  variance()\n",
    "  ```\n",
    "- **표준편차(Standard deviation, s)** : 분산의 양의 제곱근\n",
    "  ```\n",
    "  from statistics import stdev\n",
    "  stdev()\n",
    "  ```\n",
    "- **히스토그램(Histogram)** : 수치형 자료를 일정한 범위를 갖는 범주로 나누고 막대 그래프와 같은 방식으로 그림\n",
    "  - `plt.hist()`\n",
    "  - x축은 계급, y축은 빈도(도수, 상대 도수)\n",
    "  - 도수를 비교할 때, 범주형 자료는 막대 그래프, 수치형 자료는 히스토그램을 쓴다."
   ]
  },
  {
   "cell_type": "code",
   "metadata": {},
   "source": [
    "# species 1 의 평균\n",
    "\n"
   ],
   "outputs": [],
   "execution_count": null
  },
  {
   "cell_type": "code",
   "metadata": {},
   "source": [
    "# species 1 의 분산\n",
    "\n"
   ],
   "outputs": [],
   "execution_count": null
  },
  {
   "cell_type": "code",
   "metadata": {},
   "source": [
    "# species 1 의 표준편차\n",
    "\n"
   ],
   "outputs": [],
   "execution_count": null
  },
  {
   "cell_type": "code",
   "metadata": {},
   "source": [
    "feature = df[df['species'] == 1][df.columns[:-2]]\n",
    "feature[:10]"
   ],
   "outputs": [],
   "execution_count": null
  },
  {
   "cell_type": "code",
   "metadata": {},
   "source": [
    "plt.hist(feature, bins=15, alpha=0.7) # bins 개수 조정 가능\n",
    "plt.show()"
   ],
   "outputs": [],
   "execution_count": null
  },
  {
   "cell_type": "markdown",
   "metadata": {},
   "source": [
    "모든 종류 데이터에 대해 히스토그램을 그린다."
   ]
  },
  {
   "cell_type": "code",
   "metadata": {},
   "source": [
    "fig, axes = plt.subplots(nrows=2, ncols=2, figsize=(12, 10))\n",
    "axes = axes.flatten() # 2x2 배열을 1차원 배열로 평탄화하여 쉽게 접근\n",
    "\n",
    "# 각 특성에 대한 히스토그램 그리기\n",
    "features = iris.feature_names\n",
    "colors = ['skyblue', 'lightcoral', 'lightgreen', 'gold']\n",
    "\n",
    "for i, feature in enumerate(features):\n",
    "    ax = axes[i] # 현재 서브플롯 선택\n",
    "    ax.hist(df[feature], bins=15, color=colors[i], edgecolor='black', alpha=0.7) # bins 개수 조정 가능\n",
    "    ax.set_title(f'히스토그램: {feature}', fontsize=14)\n",
    "    ax.set_xlabel(feature, fontsize=12)\n",
    "    ax.set_ylabel('개수 (Count)', fontsize=12)\n",
    "    ax.grid(axis='y', linestyle='--', alpha=0.6)\n",
    "\n",
    "# 서브플롯 간의 간격 조정\n",
    "plt.tight_layout()"
   ],
   "outputs": [],
   "execution_count": null
  },
  {
   "cell_type": "markdown",
   "metadata": {},
   "source": [
    "# \"실습\": BMI 데이터로 학습 데이터 만들기\n"
   ]
  },
  {
   "cell_type": "markdown",
   "metadata": {},
   "source": [
    "### 머신러닝 학습 준비\n",
    "\n",
    "기계 학습은 기존 데이터를 사용하여 새로운 데이터의 정보를 유추할 수 있도록 한다. 이러한 기계 학습은 일반적으로 크게 몇 단계로 나눌 수 있다. 여기에서는 크게 3 단계로 나누어 보겠다.\n",
    "\n",
    " 1. 데이터 정리 및 이해\n",
    " 1. 모델의 학습\n",
    " 1. 모델의 평가\n",
    "\n",
    "가장 먼저 할 일은 데이터를 충분한 이해하는 것이다. 데이터를 이해해 유효한 데이터와 유효하지 않은 데이터를 판단한다. 이를 기반으로 데이터를 추상할 기법을 선택한다. 하지만 너무 부담을 가질 필요는 없다. 잘못된 판단이지만 나중에 좀 더 나은 결과를 얻게 하는 계기가 될 수 있다. 파이썬은 빠르고 쉽게 데이터를 처리할 수 있기 때문에 큰 문제가 되지 않는다. 이러한 특징 때문에 파이썬을 선택하기도 한다.\n",
    "\n",
    "다음은 데이터에 대해 모델을 학습하는 단계다. 데이터를 가장 잘 추상화 할 수 있는 기법을 선택하여 기계를 학습한다. 신경망(neural network), 서포트 벡터 머신(support vector machine), K평균(KMeans)등 다양한 모델을 생성한다. 모델에는 다른 매개 변수(parameter)가 있다. 입력 데이터와 모델이 같더라도 매개 변수를 변경해 다른 결과를 얻을 수도 있다.\n",
    "\n",
    "마지막으로 학습한 모델의 평가가 필요하다. 다양한 모델과 각 모델의 여러 조건으로 데이터를 예측할 수 있고, 이 예측이 얼마나 정확한지 평가해야 더 나은 모델이나 기법을 선택할 수 있다.\n",
    "\n",
    "기계 학습 알고리즘을 학습하는 방법에 따라 크게 두 가지로 나눌 수 있다. 지도 학습(supervised learning)은 데이터에 예측하고자 하는 목적 속성(target feature)이 있어 예측 모델(predictive model)을 구축한다. 하지만 비지도 학습(unsupervised learning)은 목적 속성 없이 기술 모델(descriptive model)을 구축한다. 전자의 대표적인 예는 스팸 메일 분류다. 스팸 메일과 햄 메일(정상 메일)로 구분할 수 있는 목적 속성을 가진 데이터를 가지고 학습한 후 스팸 메일을 분류한다. 후자의 예는 영화 추천과 같이 나와 기호가 같은 사용자가 본 영화를 찾아 추천해 주는 시스템이다. "
   ]
  },
  {
   "cell_type": "markdown",
   "metadata": {},
   "source": [
    "### BMI 2만명 데이터 만들기\n",
    "\n",
    "BMI 계산\n",
    "\n",
    "\n",
    "무작위로 2만명의 키, 몸무게 데이터를 만들고, 비만도 계산인 BMI를 활용해서 저체중, 정상, 비만 레이블을 붙인후에 이 데이터를 이용해서 SVM으로 학습 시켜보겠다.\n",
    "\n",
    "> BMI는 18.5 이상 25 미만일 때 표준 몸무게이다.\n",
    "> BMI = <몸무게kg> / <키m>  * <키m>\n"
   ]
  },
  {
   "cell_type": "markdown",
   "metadata": {},
   "source": [
    "### BMI 데이터 세트\n",
    "\n",
    "키, 몸무게를 기준으로 BMI 지수를 계산해 라벨로 thin, normal, fat 으로 라벨을 구분한다."
   ]
  },
  {
   "cell_type": "code",
   "metadata": {},
   "source": [
    "import random\n",
    "\n",
    "\n"
   ],
   "outputs": [],
   "execution_count": null
  },
  {
   "cell_type": "markdown",
   "metadata": {},
   "source": [
    "### target 데이터 파일 생성\n",
    "\n",
    "\n",
    "무작위로 생성하는 데이터는 레이블 *키(cm)*, *몸무게(kg)*, *저체중(thin)*, *정상(normal)*, *비만(fat)* 을 가진 csv 파일이다.\n",
    "\n",
    "```\n",
    "height,weight,label\n",
    "136,73,normal\n",
    "188,49,thin\n",
    "200,53,thin\n",
    "122,59,normal\n",
    "```"
   ]
  },
  {
   "cell_type": "code",
   "metadata": {},
   "source": [
    "# 데이터 파일\n",
    "with open('./data/bmi20000.csv', 'w', encoding='utf-8') as fp:\n",
    "\n",
    "\n",
    "\n",
    "\n",
    "\n",
    "\n",
    "\n",
    "\n",
    "\n",
    "\n",
    "print(\"OK\")"
   ],
   "outputs": [],
   "execution_count": null
  },
  {
   "cell_type": "code",
   "metadata": {},
   "source": [
    "df = pd.read_csv('./data/bmi20000.csv')\n",
    "df.head()"
   ],
   "outputs": [],
   "execution_count": null
  },
  {
   "cell_type": "code",
   "metadata": {},
   "source": [
    "df['label'].replace({'thin': 1, 'normal':2, 'fat': 3})"
   ],
   "outputs": [],
   "execution_count": null
  },
  {
   "cell_type": "code",
   "metadata": {},
   "source": [],
   "outputs": [],
   "execution_count": null
  },
  {
   "cell_type": "code",
   "metadata": {},
   "source": [],
   "outputs": [],
   "execution_count": null
  }
 ],
 "metadata": {
  "celltoolbar": "Edit Metadata",
  "kernelspec": {
   "display_name": "ML_P312",
   "language": "python",
   "name": "python3"
  },
  "language_info": {
   "codemirror_mode": {
    "name": "ipython",
    "version": 3
   },
   "file_extension": ".py",
   "mimetype": "text/x-python",
   "name": "python",
   "nbconvert_exporter": "python",
   "pygments_lexer": "ipython3",
   "version": "3.12.11"
  },
  "latex_envs": {
   "LaTeX_envs_menu_present": true,
   "autoclose": false,
   "autocomplete": true,
   "bibliofile": "biblio.bib",
   "cite_by": "apalike",
   "current_citInitial": 1,
   "eqLabelWithNumbers": true,
   "eqNumInitial": 1,
   "hotkeys": {
    "equation": "Ctrl-E",
    "itemize": "Ctrl-I"
   },
   "labels_anchors": false,
   "latex_user_defs": false,
   "report_style_numbering": false,
   "user_envs_cfg": false
  },
  "toc": {
   "base_numbering": 1,
   "nav_menu": {},
   "number_sections": false,
   "sideBar": true,
   "skip_h1_title": false,
   "title_cell": "Table of Contents",
   "title_sidebar": "Contents",
   "toc_cell": false,
   "toc_position": {},
   "toc_section_display": true,
   "toc_window_display": false
  }
 },
 "nbformat": 4,
 "nbformat_minor": 4
}
