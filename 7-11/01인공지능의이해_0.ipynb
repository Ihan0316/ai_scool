{
 "cells": [
  {
   "cell_type": "markdown",
   "metadata": {},
   "source": [
    "인공지능이란?\n",
    "\n",
    "~~~# 신경망과 머신러닝~~~\n",
    "\n"
   ]
  },
  {
   "cell_type": "markdown",
   "metadata": {},
   "source": [
    "`교안2-01인공지능의이해.pdf`\n"
   ]
  },
  {
   "cell_type": "markdown",
   "metadata": {},
   "source": [
    "## 1.AI (Artificial Intelligence)\n",
    "\n",
    "사전적의미\n",
    " - 철학적개념으로 인간이나 지성을 갖춘 존재 또는 시스템에 의해 만들어진 인공적인 지능을 의미\n",
    "\n",
    "컴퓨터과학관점\n",
    " - 수리적모델을 이용하여 지적능력을 연구하는 학문\n",
    "\n",
    "철학적 관점에서의 인공지능\n",
    " - 약인공지능(Weak AI)\n",
    " - 강인공지능(Strong AI) 혹은 범용인공지능(AGI)\n"
   ]
  },
  {
   "cell_type": "markdown",
   "metadata": {
    "tags": []
   },
   "source": [
    "#### (1) 인공지능\n",
    "\n",
    "기계가 사람의 행동을 모방 하게 하는 기술\n",
    "\n"
   ]
  },
  {
   "cell_type": "markdown",
   "metadata": {},
   "source": [
    "인공 신경을 구현한 Perceptron \n",
    "\n",
    " - 인공신경인 퍼셉트론은 다수의 입력을 받아 활성화 함수를 통해 출력\n",
    " - 수학적 모델을 컴퓨터 프로그램으로 구현.\n",
    "\n",
    "<img src='https://lh3.googleusercontent.com/proxy/4oDniY0UNTkwgtO0Uv8q1pieklvDNjDEqn0iUPwkYlDI8TNOyst-G83xZGu58RBt8WmQ7rcqrsgQEz5DAKxXKokNxXB9Kkew9tQaV4RrwItbOwI'>"
   ]
  },
  {
   "cell_type": "markdown",
   "metadata": {},
   "source": [
    "#### (2) 머신러닝\n",
    "\n",
    "머신러닝(Machine Learning, 기계학습)은 명시적인 프로그래밍 보다 스스로 학습할 수 있는 능력을 컴퓨터에 부여하는 기술이다.  기계가 일일이 코드로 명시하지 않은 동작을 데이터로부터 학습하여 실행 할 수 있도록 하는 알고리즘을 개발하는 분야\n"
   ]
  },
  {
   "cell_type": "markdown",
   "metadata": {},
   "source": [
    "### 다층 인공신경망 / Multi Layered Perceptron\n",
    "\n",
    "실제 값과 예측 값 사이의 차이를 줄여가는 학습\n",
    "\n",
    "<img src='https://i.imgur.com/DbwhpZ3.png' width=50%>"
   ]
  },
  {
   "cell_type": "markdown",
   "metadata": {},
   "source": [
    "\n",
    "#### (3) 딥러닝 (Deep Learning)\n",
    "\n",
    "- 기계학습의 한 분야인 인공 신경망에 기반하여 많은 데이터를 학습 하여 뛰어난 성능을 이끌어내는 연구 분야\n"
   ]
  },
  {
   "cell_type": "markdown",
   "metadata": {},
   "source": [
    "# 2. 머신러닝 개요\n",
    "\n",
    "머신러닝(Machine Learning)은 인공지능 연구 과제의 하나로 어느 정도 규모가 있는 데이터를 분석해서 그 결과로 어떤 패턴/규칙을 찾아내고 이를 기반으로 다른 데이터를 분석/분류해서 미래의 어떤 규칙을 얻고자 하는 인공지능 구현 방법의 하나이다.\n",
    "\n"
   ]
  },
  {
   "cell_type": "markdown",
   "metadata": {},
   "source": [
    "### 왜 머신 러닝인가?\n",
    "\n",
    "스팸 필터를 생각해 보면 블랙리스트에 등록된 이메일 주소를 걸러내는 결정을 수동적으로 처리하는 것으로 규칙 기반의 전문가 시스템이다. 직접 규칙을 정할 때의 문제는:\n",
    " - 결정에 필요한 로직은 한 분야/작업에 국한된다. 즉 작업 규칙이 변경되면 전체 시스템을 건드려야 할 수 잇다.\n",
    " - 규칙을 설계하려면 그 분야를 잘 알아야 한다.\n",
    " \n",
    "2000년 초에 얼굴인식은 규칙을 만들어 내는데 실패한 예이다. 컴퓨터가 인식하는 픽셀 방식이 사람이 인식하는 방식과 다르다는 점이 문제였다. 픽셀 패턴을 규칙화를 하려다 실패한 것이다. \n",
    "\n",
    "***\"머신러닝은 규칙이 나닌 학습을 통해 문제를 줄여 나가며 해답에 가까운 결과를 얻을 수 있다.\"***"
   ]
  },
  {
   "cell_type": "markdown",
   "metadata": {},
   "source": [
    "머신러닝 기반 응용프로그램\n",
    "\n",
    " - \"머신러닝은 규칙이 나닌 학습을 통해 문제를 줄여 나가며 해답에 가까운 결과를 얻을 수 있다.\"\n",
    " - 데이터 학습으로 어떤 패턴 규칙을 찾아내고\u000B\n",
    "이를 기반으로 다른 데이터를 분석 분류 하여 미래의 어떤 규칙 을 얻음\n",
    " \n",
    "<img src='https://i.imgur.com/dse08JL.jpeg' width=50%>"
   ]
  },
  {
   "cell_type": "markdown",
   "metadata": {},
   "source": [
    "\n",
    "### 어떻게 특징과 규칙을 찾을까?\n",
    "\n",
    "\n",
    "아래 같은 그래프에서 ? 에 어떤 것이 들어 갈까? 유치원생 이상에게 물어봐도 대부분 정답을 맞출 수 있다.\n",
    "\n",
    "<img src=\"https://i.imgur.com/6gSceJj.png\" width=\"300\">\n",
    "\n",
    "사람은 학습에 의해 빈 ? 공간에 들어갈 것을 무의식적으로 ***위치-관계***를 파악하는데 ,이렇듯 어떤 요소가 모여있는 것을 **특징량**이라고 하고 이 특징량을 기반으로 구분선을 그으면 어떤 위치의 특징량인지 판단이 되는 것이다. 컴퓨터도 계산을 통해 특징량 사이에 구분선을 긋고 점과 선 사이의 거리를 판단해 가까우 거리면 비슷한 데이터라고 판단하는 것이다.\n",
    "\n",
    "이렇게 특징량을 구하기 위해서 **특징을 추출**하고 이를 **분류** 혹은 **회귀 분석** 같은 통계적 방법을 이용해서 가려낸다."
   ]
  },
  {
   "cell_type": "markdown",
   "metadata": {
    "jp-MarkdownHeadingCollapsed": true,
    "tags": []
   },
   "source": [
    "#### 특징 추출 Feature Extraction\n",
    "\n",
    "머신러닝을 위해서 특징을 추출하기 위해서는 데이터를 벡터(Vector) 값으로 만들어 계산한다. 벡터는 크기와 방향을 가진 것으로, 이렇게 데이터를 벡터로 변환하는 것을 **특징추출**이라고 한다.\n",
    "\n",
    "#### 분류\n",
    "\n",
    "**분류**는 미리 정의된 가능성이 있는 여러 **클래스 레이블 Class Label** 중 하나를 예측하는 것이다. 1장에서 붓꽃을 세 품종 중 하나로 분류하는 예를 보았다. 분류는 딱 두 개의 클래스로 분류하는 **이진 분류 Binary classification**과 셋 이상의 클래스로 분류하는 **다중 분류 Multiclass classification**이 있다.\n",
    "\n",
    "\n",
    "#### 회귀\n",
    "\n",
    "**회귀**는 연속적인 숫자, 부동소수점 (수학으로 실수)을 예측하는 것이다. 어떤 사람의 교육 수준, 나이, 주거지를 바탕으로 연간 소득을 예측하는 것이 회귀 문제의 하나이다. 소득을 예측할 때 예측된 값은 어떤 양으로서 일정 범위안의 어떤 숫자도 될 수 있다. 옥수수 농장에서 전년도 수확량과 날씨, 고용 인원수 등으로 올해 수확량을 예측하는 예도 회귀 문제이다. 수확량 역시 어떤 숫자든 될 수 있다.\n",
    "\n",
    "머신런닝은 주로 반복 학습을 통해 결과를 도출해 주기 때문에 회귀분석(Regression Analysis)을 사용한다.   회귀분석은,\n",
    "하나 또는 그 이상의 독립변수(설명변수, 예측변수, 통제변수등으로 불리기도 함)가 한 단위 변할 때, 종속변수(목표변수)에 미치는 영향력을 예측할 때 주로 사용하는 통계분석 기법으로, *독립변수*는 입력 값이나 원인을 말하며, *종속변수*는 결과물이나 효과를 나타냅니다. $y=ax+b$라는 함수가 있을 때 x가 독립변수, y가 종속변수라고 이해하면 편합니다.\n",
    "\n",
    "\n",
    "회귀분석은 독립변수의 개수에 따라 크게\n",
    "\n",
    "- 단순 선형회귀분석: 하나의 종속변수와 하나의 독립변수 사이의 관계를 분석할 경우. $y=ax+b$\n",
    "- 다중 회귀분석은 하나의 종속변수와 여러 독립변수 사이의 관계를 규명하고자 할 경우.\n",
    "\n"
   ]
  },
  {
   "cell_type": "markdown",
   "metadata": {},
   "source": [
    "# 3. 머신러닝  학습\n",
    "\n",
    "학습은 분류에 따라 다르겠지만 크게 학습 **_데이터를 다루는 측면_**에서 관리를 통한 학습을 하는 1) **지도학습 Supervised Learning** 이 있고 스스로 학습하는 2) **비지도학습 Unsupervised Learning** , 3) 강화학습 그리고 **_학습을 위한 레이어의 수_**에 따라 깊이(Deep) 혹은 얇게(Shallow) 학습이 있다.\n",
    "\n",
    "<img src='https://image.slidesharecdn.com/lecture06-marcoaurelioranzato-deeplearning-150306074722-conversion-gate01/95/lecture-06-marco-aurelio-ranzato-deep-learning-13-638.jpg?cb=1425628479' width='400'>\n",
    "\n",
    "- [Ranzato's slide](https://www.slideshare.net/milkers/lecture-06-marco-aurelio-ranzato-deep-learning)\n",
    "\n"
   ]
  },
  {
   "cell_type": "markdown",
   "metadata": {},
   "source": [
    "학습 한다는 관점에서 다음 크게 세 가지 분류를 말하고 있다.\n",
    "\n",
    " - 1) 지도학습\n",
    " - 2) 비지도학습\n",
    " - 3) 강화학습\n",
    "\n",
    "데이터의 깊이에 따라서\n",
    " - 1) Deep\n",
    " - 2) Shallow"
   ]
  },
  {
   "cell_type": "markdown",
   "metadata": {},
   "source": [
    "<img src='https://i.imgur.com/8owsxVp.png'>"
   ]
  },
  {
   "cell_type": "markdown",
   "metadata": {},
   "source": [
    "### 1) 지도 학습 Supervised Learning\n",
    "\n",
    "지도학습(Supervised Learning)은 사람이 운영자로 학습데이터를 주면 컴퓨터가 학습을 한다. 즉 학습 데이터를 이용해 해석용 모델을 만들고 그것을 바탕으로 새로운 데이터를 추정(predict)하는 것이다. 지도 학습이란 레이블(Label)이라는 정답과 함께 학습하는 것을 말합니다. 자연어 처리는 대부분 지도 학습에 속합니다. 앞으로 우리가 풀게 될 자연어 처리의 많은 문제들은 레이블이 존재하는 경우가 많기 때문입니다.  보통 분류 Classifiction, 회귀 Regression 및 신경망을 활용한다. \n"
   ]
  },
  {
   "cell_type": "markdown",
   "metadata": {},
   "source": [
    "\n",
    "모델을 해석하기 위해서는 수치해석(numerical analysis) 방법으로 조금씩 기대값에 근접하는 최적값을 찾아가는 과정에서 변수를 조금씩 조정해 가는 반복적으로 수행하며 학습을 진행한다.\n",
    "\n",
    "<img src='https://kiwon.github.io/se.ProgrammingApplication/pages/week12/index_files/linear.png' width=400>\n",
    "\n",
    "\n"
   ]
  },
  {
   "cell_type": "markdown",
   "metadata": {},
   "source": [
    "이런 특징 추출에 많이 사용하는 머신러닝 알고리즘들은 알려진 사례를 바탕으로 일반화된 모델을 만들어 의사 결정 프로세스를 자동화 하는 것이다. 이 방식을 **지도학습(supervised learning)**이라고 한다. \n",
    "\n",
    "지도학습은 알고리즘에 입력과 기대되는 출력을 제공하고 알고기즘은 주어진 입력에서 원하는 출력을 만드는 방법을 찾는다. 이렇게 입력에 대해 기대되는 출력이 나오도록 학습하기 때문에 지도학습이라고 부른다.\n",
    "\n",
    "입력과 출력 데이터를 만드는 수작업을 거쳐야 하지만 지도학습은 분석하기 좋고 성능 측정도 좋다. \n"
   ]
  },
  {
   "cell_type": "markdown",
   "metadata": {},
   "source": [
    "\n",
    "\n",
    "지도학습의 예는\n",
    "\n",
    "- 편지 봉투에 손으로 쓴 우편번호 숫자 판별\n",
    "  - 여기서 입력은 손글씨 스캔 이미지이고 기대하는 출력은 우편번호 숫자이다. 머신러닝 모델 구축에 쓸 데이터셋을 만들려면 많은 편지봉투가 필요하고 운편번호를 확인해 원하는 출력 값을 기록해야 한다.\n",
    "\n",
    "\n",
    "- 의료 영상 이미지에 기반한 종양 판단\n",
    "   - 입력은 이미지이고 출력은 종양의 양성 여부 이다. 모델 구축에 의료 영상 데이터가 필요하고, 전문가 의견에 따라 양성 판단 값이 필요하다.\n",
    "\n",
    "- 의심되는 신용카드 거래 감지\n",
    "   - 입력은 신용카드 거래 내역이고 잘못된 거래 내역 기록해 데이터셋이 필요하다.\n"
   ]
  },
  {
   "cell_type": "markdown",
   "metadata": {},
   "source": [
    "\n",
    "### 2) 비지도 학습 Unsupervised Learning\n",
    "\n",
    "위와 다르게 입력이 제공되지 않는 **비지도 학습(Un-supervised learning) 또는 자율학습(Self Learning)** 이 있다. \n",
    "\n",
    "알고리즘 입력은 있지만 학습 데이터인 출력은 제공되지 않지만 컴퓨터가 명시되지 않은 데이터에 대해 , 어떤 패턴, 핵심 개념을 찾아내 학습을 통해 결과를 도출한다. 보통 어떤 영역을 알 수 없으므로 군집 Clustering을 통해 풀어 나간다.\n",
    "\n",
    "<img src='https://media.geeksforgeeks.org/wp-content/uploads/20231124111325/Unsupervised-learning.png' width=80%>"
   ]
  },
  {
   "cell_type": "markdown",
   "metadata": {},
   "source": [
    "\n",
    "예를 들어 텍스트 처리 분야의 토픽 모델링 알고리즘인 LSA나 LDA는 비지도 학습에 속합니다. LSA와 LDA는 온라인 웹 사이트 위키독스의 e-book( https://wikidocs.net/30707 )에서 볼 수 있습니다.\n",
    "\n"
   ]
  },
  {
   "cell_type": "markdown",
   "metadata": {},
   "source": [
    "#### 비지도학습 예\n",
    "\n",
    "***블로그 주제 구분***\n",
    "\n",
    "많은 양의 텍스트 데이터를 요약하고 그 안에 담긴 핵심 주제를 찾을 수 있다. 사전에 어떤 주제인지 얼마나 많은 주제가 나올지 모른다.\n",
    "\n",
    "\n",
    "***고객 취향이 비슷한 그룹으로 묶기***\n",
    "\n",
    "쇼핑몰/커뮤티티 같은 곳의 사용자 그룹을 묶을 수 있을 것이다.\n",
    "\n",
    "***비정상적 웹 사이트 접근 탐지***\n",
    "\n",
    "웹 트래픽에서 일상적인지 않은 접근 패턴을 찾아 부정행위, 버그 구별 등을 할 수 있다."
   ]
  },
  {
   "cell_type": "markdown",
   "metadata": {},
   "source": [
    "### 3) 강화 학습 Reinforcement Learning\n",
    "\n",
    "현재 상태를 관찰해서 어떠게 대응할지와 관련된 문제를 다룬다. \n",
    "\n",
    "강화학습은 *행동의 주체(Agent)* 와 *환경(상황, 상태)* 가 제시되는데 *행동의 주체*는 환경을 관찰하고 이를 기반으로 의사결정을 내려 행동한다. 이때 환경이 변환하면 행동의 주체가 어떤 보상을 받는다. 이를 기반으로 행동의 주체는 더 많은 보상을 얻을 수 있는 방향으로 행동을 학습하게 된다.\n",
    "\n",
    "<img src=\"https://mblogthumb-phinf.pstatic.net/MjAxNzEwMTZfMTc2/MDAxNTA4MTE5MzMzOTgx.5SwCUZzPqMUqDw3y_NuGFZbhNv7Yaby3DPn9GJLpckkg.jHIdTSJjmjvZnOp9FkGyyj-zdhTkKht6Okpi-2FJCzgg.PNG.linegamedev/1.png?type=w800\" width=\"400\">\n",
    "\n",
    "자동으로 먹이를 주는 기계를 사용하는 고양이의 행동에서 이런 모습을 확인할 수 있다. *고양이*는 배회하다 *자동으로 먹이주는 기계*에서 나오는 먹이 냄새를 맞고 기계 주변을 배회하면 몸으로 비비고 발로 처보기도 한다. 이런 여러 행동을 통해서 스위치가 눌려서 먹이가 나오는 경우가 생긴다. 이런 고양이 행동에 사료라는 *보상*이 생기는 것이다.\n",
    "\n",
    "결국 고양이는 스위치를 누르면 사료가 나오는 상황을 인식하고 스위치를 눌러 사룔르 얻게 된다. 고양이는 최선의 행위를 통해 사료를 얻는 방법을 학습하게되는데 이런 것을 컴퓨터로 구현한 것이 강화학습니다."
   ]
  },
  {
   "cell_type": "markdown",
   "metadata": {},
   "source": [
    "### 4) 자기지도 학습(Self-Supervised Learning, SSL)**\n",
    "\n",
    "레이블이 없는 데이터가 주어지면, 모델이 학습을 위해서 스스로 데이터로부터 레이블을 만들어서 학습하는 경우를 자기지도 학습이라고 합니다. 대표적인 예시로는 Word2Vec과 같은 워드 임베딩 알고리즘이나, BERT와 같은 언어 모델의 학습 방법을 들 수 있습니다.\n",
    "\n",
    " - 자동으로 레이블을 만들어 학습하는지에 대한 것은 Word2Vec과 BERT에 대한 설명을 참고할 수 있다"
   ]
  },
  {
   "cell_type": "markdown",
   "metadata": {},
   "source": [
    "### 5) 머신러닝의 학습 흐름\n",
    "\n",
    "머신러닝은 아래 같은 과정의 반복을 통해 학습을 한다.\n",
    "\n",
    "<img src='https://t1.daumcdn.net/cfile/tistory/234C864558B6755F17' width='600' alt='Image from http://prac.im.pwr.edu.pl/~szwabin/assets/bdata/8.pdf'>\n",
    "\n",
    "[그림링크](http://prac.im.pwr.edu.pl/~szwabin/assets/bdata/8.pdf)\n"
   ]
  },
  {
   "cell_type": "markdown",
   "metadata": {},
   "source": [
    "### 6) 분류(Classification)와 회귀(Regression)\n",
    "\n",
    "전부는 아니지만 머신 러닝의 많은 문제는 분류 또는 회귀 문제에 속합니다. 머신 러닝 기법 중 선형 회귀(Lineare Regression)과 로지스틱 회귀(Logistic Rgression)를 다루는데 선형 회귀는 대표적인 회귀 문제에 속하고, 로지스틱 회귀는 (이름은 회귀이지만) 대표적인 분류 문제에 속합니다.\n",
    "\n",
    "분류는 또한 이진 분류(Binary Classification)과 다중 클래스 분류(Multi-Class Classification)로 나뉩니다. 엄밀히는 다중 레이블 분류(Multi-lable Classification)라는 또 다른 문제가 존재하지만, 이 책에서는 이진 분류와 다중 클래스 분류만을 다룹니다."
   ]
  },
  {
   "cell_type": "markdown",
   "metadata": {},
   "source": [
    "1) 이진 분류 문제(Binary Classification)**\n",
    "\n",
    "이진 분류는 주어진 입력에 대해서 두 개의 선택지 중 하나의 답을 선택해야 하는 경우를 말합니다. 종합 시험 성적표를 보고 최종적으로 합격, 불합격인지 판단하는 문제, 메일을 보고나서 정상 메일, 스팸 메일인지를 판단하는 문제 등이 이에 속합니다.\n",
    "\n",
    "2) 다중 클래스 분류(Multi-class Classification)**\n",
    "\n",
    "다중 클래스 분류는 주어진 입력에 대해서 세 개 이상의 선택지 중에서 답을 선택해야 하는 경우를 말합니다. 예를 들어 서점 직원이 일을 하는데 과학, 영어, IT, 학습지, 만화라는 레이블이 붙어있는 5개의 책장이 있다고 합시다. 새 책이 입고되면, 이 책은 다섯 개의 책장 중에서 분야에 맞는 적절한 책장에 책을 넣어야 합니다. 이 경우는 현실에서의 다중 클래스 분류 문제라고 할 수 있겠습니다.\n",
    "\n",
    "3) 회귀 문제(Regression)\n",
    "\n",
    "회귀 문제는 분류 문제처럼 둘 중 하나를 선택해야 한다거나, 책이 입고되었을 때 5개의 책장 중 하나의 책장을 골라야하는 경우처럼 정답이 몇 개의 정해진 선택지 중에서 정해져 있는 경우가 아니라 어떠한 연속적인 값의 범위 내에서 예측값이 나오는 경우를 말합니다.\n",
    "\n",
    "예를 들어서 역과의 거리, 인구 밀도, 방의 개수 등을 입력하면 부동산 가격을 예측하는 머신 러닝 모델이 있다고 해봅시다. 머신 러닝 모델이 부동산 가격을 7억 8,456만 3,450원으로 예측하는 경우도 있을 것이고, 8억 1257만 300원으로 예측하는 경우도 있을 수 있습니다. 특정 값의 범위 내에서는 어떤 숫자도 나올 수 있습니다. 기존의 분류 문제와 같이 분리된(비연속적인) 답이 결과가 아니라 연속된 값을 결과로 가지는 이러한 문제를 회귀 문제라고 부릅니다. 회귀 문제의 예시로 시계열 데이터(Time Series Data)를 이용한 주가 예측, 생산량 예측, 지수 예측 등이 있습니다."
   ]
  },
  {
   "cell_type": "markdown",
   "metadata": {},
   "source": [
    "### 7)  샘플(sample)과 특성(feature)\n",
    " - <https://wikidocs.net/32012>\n",
    " \n",
    "많은 머신 러닝 문제가 1개 이상의 독립 변수 를 가지고 종속 변수 를 예측하는 문제입니다. 머신 러닝 모델 중 특히 인공 신경망은 독립 변수, 종속 변수, 가중치, 편향 등을 행렬 연산을 통해 연산하는 경우가 많습니다. 앞으로 인공 신경망을 배우게되면 훈련 데이터를 행렬로 표현하는 경우를 많이 보게 됩니다. 독립 변수 의 행렬을 X라고 하였을 때, 독립 변수의 개수가 n개이고 데이터의 개수가 m인 행렬 X는 다음과 같습니다.\n",
    "\n",
    "<img src='https://wikidocs.net/images/page/35821/n_x_m.PNG' width=300>\n",
    "\n",
    " 머신 러닝에서는 하나의 데이터. 행렬 관점에서는 하나의 행을 샘플(Sample)이라고 부릅니다. (데이터베이스에서 레코드라고 부르는 단위입니다.) 그리고 종속 변수 를 예측하기 위한 각각의 독립 변수 를 특성(Feature)이라고 부릅니다. 행렬 관점에서는 각 열에 해당됩니다."
   ]
  },
  {
   "cell_type": "markdown",
   "metadata": {},
   "source": [
    "### 8) 과대적합 과소적합\n",
    "\n",
    "<img src='https://miro.medium.com/v2/resize:fit:1400/0*tfkOPJnIqOo7a5MU.png' width=50%>"
   ]
  },
  {
   "cell_type": "markdown",
   "metadata": {},
   "source": [
    "**과적합(Overfitting)**\n",
    "\n",
    "훈련 데이터를 과하게 학습한 경우를 말합니다. 예를 들어 학생의 입장이 되어 하나의 문제지를 과하도록 많이 풀어서 문제 번호만 봐도 정답을 맞출 수 있게 되었다고 가정합시다. 그런데 너무 오랜 시간 하나의 문제지만 반복해서 푼 나머지 다른 문제를 풀거나 시험을 봤을 때 점수가 안 좋다면 그게 의미가 있을까요?"
   ]
  },
  {
   "cell_type": "markdown",
   "metadata": {},
   "source": [
    "과적합 상황에서는 훈련 데이터에 대해서는 오차가 낮지만, 테스트 데이터에 대해서는 오차가 커집니다. 아래의 그래프는 과적합 상황에서 발생할 수 있는 훈련 데이터에 대한 훈련 횟수에 따른 훈련 데이터의 오차와 테스트 데이터의 오차(또는 손실이라고도 부릅니다.)의 변화를 보여줍니다.\n"
   ]
  },
  {
   "cell_type": "markdown",
   "metadata": {},
   "source": [
    "\n",
    "<img src='https://wikidocs.net/images/page/32012/%EC%8A%A4%ED%8C%B8_%EB%A9%94%EC%9D%BC_%EC%98%A4%EC%B0%A8.png' width=400><https://wikidocs.net/32012>\n",
    "\n",
    " y축은 오차(loss), X축의 에포크(epoch)는 전체 훈련 데이터에 대한 훈련 횟수를 의미하며,  에포크가 3~4에서 테스트 데이터에 대한 정확도가 가장 높고, 에포크가 그 이상을 넘어가면 과적합이 발생합니다. 위의 그래프는 에포크가 증가할수록 테스트 데이터에 대한 오차가 점차 증가하는 양상을 보여줍니다. "
   ]
  },
  {
   "cell_type": "markdown",
   "metadata": {},
   "source": [
    "**과소적합(Underfitting)**\n",
    "\n",
    "테스트 데이터의 성능이 올라갈 여지가 있음에도 훈련을 덜 한 상태를 과소적합 이라고 합니다. 과소 적합은 훈련 자체가 부족한 상태이므로 훈련 횟수인 에포크가 지나치게 적으면 발생할 수 있습니다. 과대 적합과는 달리 과소 적합은 훈련 자체를 너무 적게한 상태이므로 훈련 데이터에 대해서도 정확도가 낮다는 특징이 있습니다."
   ]
  },
  {
   "cell_type": "markdown",
   "metadata": {},
   "source": [
    "## 머신러닝 개념 정리\n"
   ]
  },
  {
   "cell_type": "markdown",
   "metadata": {},
   "source": [
    "\n",
    "#### 1. Back Propagation (역전파)\n",
    "  - 신경망을 훈련시키기 위해 사용하는 기술 , 전방형(Feedforward networks)학습방식을 보완하기 위해 사용\n",
    "  - 입력 층 > 신경망 > 출력 층 순으로 진행된 학습에서 나온 결과값과 목표값의 오차를 계산하고, 오차를 출력층에서 입력층까지 거꾸로 전파하면서 가중치를 수정하는 과정\n",
    "  - 역전파 알고리즘에서 가중치 갱신을 위해 사용하는 방법으로 Gradient Descent가 있다.\n",
    "\n",
    "#### 2. Gradient Descent (경사하강)\n",
    "  - 기울기를 계산하고 낮은 기울기 방향으로 weight(가중치)를 갱신하면서 최적의 weight(가중치)를 찾아가는 알고리즘\n",
    "  - 파라미터 W에 대한 error를 계산하는 함수 ( = Loss function = Cost function )를 정의하고 함수의 결과값이 최소화 되는 방향을 찾아서 점점 나아가는것 \n",
    "\n",
    "#### 3. Stochastic Gradient Descent\n",
    "  - Gradient Descent가 모든 데이터에 대해 기울기를 게산하는 단점을 개선하는것을 개선한 알고리즘\n",
    "\n",
    "#### 4. Minibatch\n",
    "  - stochastic gradient descent를 수행하는 단위 (데이터 N의 크기)\n",
    "\n",
    "#### 5. Momentum\n",
    "  - Local Minima에 덜 빠지기 위해 Learning Rate에게 관성을 부여하는 개념 \n",
    "         \n",
    "#### 6. Regularization\n",
    "  - 빠르게 Overfitting 하는 문제를 막기위해 얻은 Gradient에 일종에 패널티를 두어 조금만 반영시키는 방식,\n",
    "  - Overfitting는 Weight의 절대값이 매우 클 때 일어나므로 Weight의 증가 속도를 늦춘다.\n",
    "  - witght decay, sparsity, dropout 등의 Regularization 방법들이 있다."
   ]
  },
  {
   "cell_type": "markdown",
   "metadata": {},
   "source": [
    "### 8. Cost Function (비용함수)\n",
    "  - Cross-Entropy\n",
    "     - 기대값과 실제 연산값의 차가 클수록 큰 결과가 나오고 항상 양수 이기때문에 비용함수로 사용가능\n",
    "     - MSE보다 빠른 속도로 학습 진행, 학습결과는 MSE와 비슷 \n",
    "  - MSE (Mean Square Error) - 평균제곱오차\n",
    "     - 활성함수로 Sigmoid함수 사용시 학습속도 저하를 발생시킴 (Cross-Entropy 사용을 통해 해결가능)"
   ]
  },
  {
   "cell_type": "markdown",
   "metadata": {},
   "source": [
    "\n",
    "### 9) Activation Function (활성함수)\n",
    "\n",
    "\n",
    "<img src='https://i.imgur.com/dC35wyD.png' width=500>"
   ]
  },
  {
   "cell_type": "markdown",
   "metadata": {},
   "source": [
    "##### Sigmoid (시그모이드) 함수 \n",
    "\n",
    " - 대표적인 활성함수 ( 0 ~ 1 까지로 매핑), 미분 가능\n",
    " - y = F(x) 로 결과값 y를 다음레이어로 보내는 함수 F를 의미한다. \n",
    " - 시그모이드 함수를 쓸 경우 0 또는 1 만이 아니라 [0,1]의 범위로 나타낼 수 있다.\n",
    "\n",
    "##### ReLU (Rectified Linear Unit)\n",
    "\n",
    "딥러닝 (히든레이어가 많은) 의경우 시그모이드를 사용시 1보다 작은 수가 계속 곱해지므로 레이어가 많을수록 역전파를 통한 가중치 조정이 어려워진다 이것에 대한 해결책은 렐루 이며  딥러닝 즉 히든레이어가 많아질경우 무조건 렐루를 쓰며 최종 레이어단에서는 시그모이드 또는 소프트맥스를 사용해서 출력범위를 축소한다\n",
    "\n",
    "\n",
    "##### Tanh (하이퍼볼릭 탄젠트) \n",
    "-1 ~ 1 까지로 매핑, 시그모이드의 범위를 확장\n",
    "\n",
    "\n",
    "##### Softmax\n",
    "\n",
    "가설(wx+b)의 결과 값이 여러게 나올경우, 여러 값의 총합이 1로 떨어지도록 0 ~ 1사이 값으로 표현\n",
    "  - 나온 값중에 가장 높은 확률의값만 뽑아낼때는 argmax 사용 \n",
    "  - DNN의 마지막 output 노드에서 Classification(분류)을 하고자 할 때 사용된다. \n",
    "  - 마지막 레이어에서 Softmax로 One of K coding을 함 (여러개의 시그모이드값들을 다 더한걸로 각각의 시그모이드값을 나누어 합치면 1이 되는 확률로 해석)\n",
    "\n",
    "\n"
   ]
  },
  {
   "cell_type": "markdown",
   "metadata": {},
   "source": [
    "\n",
    "## 인공지능(머신러닝)의 한계점\n",
    "\n",
    " 1) 학습되지 않은 상황에 대해 엉뚱한 결과 도출\n",
    "\n",
    " 2) 인공지능에 대한 법적.윤리적 책임 소재\n",
    "\n",
    " 3) 인간에 의해 시작-종료 시점 정의 필요\n",
    "\n",
    " 4) 단일 기능 수행만 가능, 점진적 학습 불가능\n",
    "\n",
    " 5) 강화학습과 딥러닝으로 극복하려 한다.\n"
   ]
  },
  {
   "cell_type": "markdown",
   "metadata": {},
   "source": [
    "---\n",
    "\n",
    "## 참조\n",
    "\n",
    "- [기계학습(Machine Learning)의 개념 설명](http://gdyoon.tistory.com/6)\n",
    " - [인공신경망, 현종열(slideshare)](https://www.slideshare.net/jongyeolhyun/ss-79143299)\n",
    " - [NVIDIA 미디어 테크 토크를 통해 딥 러닝에 대해 들어보다](http://playwares.com/webzine/55203945)\n",
    "- [머신러닝으로 의학 연구해요](http://www.bloter.net/archives/274798)\n",
    "\n",
    "\n",
    "\n",
    " - [인공지능의 장점과 한계, 이글루시큐리티,2017.06.07](http://www.igloosec.co.kr/ig/BLOG_인공지능의%20장점과%20한계?searchItem=&searchWord=&bbsCateId=1&gotoPage=1)\n",
    " - [쉽게읽는 머신러닝, 라온피플](https://laonple.blog.me/220834569716)"
   ]
  },
  {
   "cell_type": "markdown",
   "metadata": {},
   "source": [
    "---"
   ]
  },
  {
   "cell_type": "markdown",
   "metadata": {},
   "source": [
    "### 머신러닝 기본 개발환경\n",
    "\n",
    "```\n",
    "%pip install scikit-learn pandas matplotlib seaborn numpy scipy pooch pillow\n",
    "```"
   ]
  },
  {
   "cell_type": "code",
   "metadata": {
    "ExecuteTime": {
     "end_time": "2025-07-11T07:20:54.359064Z",
     "start_time": "2025-07-11T07:20:54.234294Z"
    }
   },
   "source": "! python --version",
   "outputs": [
    {
     "name": "stdout",
     "output_type": "stream",
     "text": [
      "Python 3.13.5\r\n"
     ]
    }
   ],
   "execution_count": 1
  },
  {
   "cell_type": "code",
   "metadata": {
    "ExecuteTime": {
     "end_time": "2025-07-11T07:20:54.630840Z",
     "start_time": "2025-07-11T07:20:54.449864Z"
    }
   },
   "source": [
    "import numpy as np\n",
    "import pandas as pd\n"
   ],
   "outputs": [],
   "execution_count": 2
  },
  {
   "cell_type": "code",
   "metadata": {
    "ExecuteTime": {
     "end_time": "2025-07-11T07:20:54.828362Z",
     "start_time": "2025-07-11T07:20:54.637617Z"
    }
   },
   "source": [
    "import matplotlib.pyplot as plt\n",
    "import matplotlib.font_manager as fm\n",
    "%matplotlib inline\n",
    "\n",
    "# plt.rcParams['font.family'] = 'Malgun Gothic'\n",
    "plt.rcParams['font.family'] = 'AppleGothic'  # Mac (AppleGothic 또는 AppleSDGothicNeo)\n",
    "# plt.rcParams['font.family'] = 'NanumGothic' # Linux (NanumGothic 또는 다른 설치된 한글 폰트)\n",
    "\n",
    "plt.rcParams['axes.unicode_minus'] = False #glypy 8722: Axes에 - 표시 안되는 것\n",
    "plt.title('한글 타이틀...')"
   ],
   "outputs": [
    {
     "data": {
      "text/plain": [
       "Text(0.5, 1.0, '한글 타이틀...')"
      ]
     },
     "execution_count": 3,
     "metadata": {},
     "output_type": "execute_result"
    },
    {
     "data": {
      "text/plain": [
       "<Figure size 640x480 with 1 Axes>"
      ],
      "image/png": "[encoded data removed]"
     },
     "metadata": {},
     "output_type": "display_data"
    }
   ],
   "execution_count": 3
  },
  {
   "cell_type": "code",
   "metadata": {
    "ExecuteTime": {
     "end_time": "2025-07-11T07:20:54.837318Z",
     "start_time": "2025-07-11T07:20:54.836088Z"
    }
   },
   "source": [],
   "outputs": [],
   "execution_count": null
  },
  {
   "cell_type": "markdown",
   "metadata": {},
   "source": [
    "# 5. 신경망과 MLP\n",
    "\n",
    "신경망을 이용한 계산과 다층신경망을 사용한 학습을 살펴본다."
   ]
  },
  {
   "cell_type": "markdown",
   "metadata": {},
   "source": [
    "> `교안2-01인공지능의이해.pdf`"
   ]
  },
  {
   "cell_type": "markdown",
   "metadata": {},
   "source": [
    "## 01. Neural Network \n",
    "\n",
    "신경망 개요\n",
    "\n",
    "- 신경망은 숫자로 구성된 행렬\n",
    "- 신경망의 각 계층에는 숫자로 구성\n",
    "-  숫자 행렬의 집합\n",
    "-  이 행렬에 입력을 넣어 가중되는 값을 계산"
   ]
  },
  {
   "cell_type": "markdown",
   "metadata": {},
   "source": [
    "기술적으로 신경망은 하나 이상의 입력에 대해 가중치를 연산 결과를 활성화 함수에 의해 출력하는 것이다.\n",
    "\n",
    "![image.png](https://i.imgur.com/Vy1wreM.jpg)"
   ]
  },
  {
   "cell_type": "markdown",
   "metadata": {},
   "source": [
    "#### 랜덤한 수 생성\n"
   ]
  },
  {
   "metadata": {
    "ExecuteTime": {
     "end_time": "2025-07-11T07:20:54.856624Z",
     "start_time": "2025-07-11T07:20:54.855100Z"
    }
   },
   "cell_type": "code",
   "source": "import numpy as np",
   "outputs": [],
   "execution_count": 4
  },
  {
   "cell_type": "code",
   "metadata": {
    "ExecuteTime": {
     "end_time": "2025-07-11T07:20:54.869158Z",
     "start_time": "2025-07-11T07:20:54.867729Z"
    }
   },
   "source": [
    "# 랜덤한 수 얻기 (균일 분포)\n",
    "rand = np.random.uniform(0, 1, size = (1,))"
   ],
   "outputs": [],
   "execution_count": 5
  },
  {
   "metadata": {
    "ExecuteTime": {
     "end_time": "2025-07-11T07:20:54.887111Z",
     "start_time": "2025-07-11T07:20:54.885167Z"
    }
   },
   "cell_type": "code",
   "source": "rand.shape",
   "outputs": [
    {
     "data": {
      "text/plain": [
       "(1,)"
      ]
     },
     "execution_count": 6,
     "metadata": {},
     "output_type": "execute_result"
    }
   ],
   "execution_count": 6
  },
  {
   "metadata": {
    "ExecuteTime": {
     "end_time": "2025-07-11T07:20:54.916975Z",
     "start_time": "2025-07-11T07:20:54.914971Z"
    }
   },
   "cell_type": "code",
   "source": "rand.dtype",
   "outputs": [
    {
     "data": {
      "text/plain": [
       "dtype('float64')"
      ]
     },
     "execution_count": 7,
     "metadata": {},
     "output_type": "execute_result"
    }
   ],
   "execution_count": 7
  },
  {
   "cell_type": "code",
   "metadata": {
    "ExecuteTime": {
     "end_time": "2025-07-11T07:20:54.950808Z",
     "start_time": "2025-07-11T07:20:54.948551Z"
    }
   },
   "source": [
    "# 랜덤한 수 여러 개 얻기 (균일 분포)\n",
    "rand = np.random.uniform(0, 1, size = (4))\n",
    "rand"
   ],
   "outputs": [
    {
     "data": {
      "text/plain": [
       "array([0.47250537, 0.67990819, 0.20719525, 0.11913897])"
      ]
     },
     "execution_count": 8,
     "metadata": {},
     "output_type": "execute_result"
    }
   ],
   "execution_count": 8
  },
  {
   "metadata": {
    "ExecuteTime": {
     "end_time": "2025-07-11T07:20:54.970626Z",
     "start_time": "2025-07-11T07:20:54.968525Z"
    }
   },
   "cell_type": "code",
   "source": [
    "rand = np.random.uniform(0, 1, size = (4,))\n",
    "rand"
   ],
   "outputs": [
    {
     "data": {
      "text/plain": [
       "array([0.99536666, 0.97772428, 0.14909312, 0.38188695])"
      ]
     },
     "execution_count": 9,
     "metadata": {},
     "output_type": "execute_result"
    }
   ],
   "execution_count": 9
  },
  {
   "cell_type": "code",
   "metadata": {
    "ExecuteTime": {
     "end_time": "2025-07-11T07:20:55.049356Z",
     "start_time": "2025-07-11T07:20:55.047041Z"
    }
   },
   "source": [
    "# 랜덤한 다차원 배열 얻기\n",
    "rand = np.random.uniform(0, 1, size = (4, 3)) # (4, 3) 행렬\n",
    "rand"
   ],
   "outputs": [
    {
     "data": {
      "text/plain": [
       "array([[0.10733229, 0.65198686, 0.98974986],\n",
       "       [0.46296479, 0.6340045 , 0.93167015],\n",
       "       [0.0083299 , 0.0504576 , 0.52337872],\n",
       "       [0.58189945, 0.10411501, 0.99879381]])"
      ]
     },
     "execution_count": 10,
     "metadata": {},
     "output_type": "execute_result"
    }
   ],
   "execution_count": 10
  },
  {
   "metadata": {
    "ExecuteTime": {
     "end_time": "2025-07-11T07:20:55.089615Z",
     "start_time": "2025-07-11T07:20:55.087750Z"
    }
   },
   "cell_type": "code",
   "source": "rand.shape",
   "outputs": [
    {
     "data": {
      "text/plain": [
       "(4, 3)"
      ]
     },
     "execution_count": 11,
     "metadata": {},
     "output_type": "execute_result"
    }
   ],
   "execution_count": 11
  },
  {
   "metadata": {},
   "cell_type": "markdown",
   "source": "ML 분야에서 2차원 데이터(행렬, 배열)의 컬럼읜 data의 feature 이다."
  },
  {
   "cell_type": "markdown",
   "metadata": {},
   "source": [
    "정규분포를 가진 랜덤수 얻기"
   ]
  },
  {
   "cell_type": "code",
   "metadata": {
    "ExecuteTime": {
     "end_time": "2025-07-11T07:20:55.175143Z",
     "start_time": "2025-07-11T07:20:55.172811Z"
    }
   },
   "source": [
    "# 랜덤한 수 여러 개 얻기 (정규 분포)\n",
    "rand = np.random.normal(0, 1, size = (4,))\n",
    "rand"
   ],
   "outputs": [
    {
     "data": {
      "text/plain": [
       "array([ 0.98076128, -0.74067399,  2.21186999,  2.14664616])"
      ]
     },
     "execution_count": 12,
     "metadata": {},
     "output_type": "execute_result"
    }
   ],
   "execution_count": 12
  },
  {
   "cell_type": "code",
   "metadata": {
    "ExecuteTime": {
     "end_time": "2025-07-11T07:20:55.210107Z",
     "start_time": "2025-07-11T07:20:55.208206Z"
    }
   },
   "source": [
    "# 랜덤한 다차원 배열 얻기 (정규분포)\n",
    "rand = np.random.normal(0, 1, size = (4, 3))\n",
    "rand"
   ],
   "outputs": [
    {
     "data": {
      "text/plain": [
       "array([[ 0.59933501,  0.50200805, -2.11918344],\n",
       "       [ 0.25379827,  0.93780448,  0.90153183],\n",
       "       [-0.15863372, -0.66935705, -0.81070795],\n",
       "       [-0.34038216, -1.14773943,  0.51985304]])"
      ]
     },
     "execution_count": 13,
     "metadata": {},
     "output_type": "execute_result"
    }
   ],
   "execution_count": 13
  },
  {
   "cell_type": "code",
   "metadata": {
    "ExecuteTime": {
     "end_time": "2025-07-11T07:20:55.244421Z",
     "start_time": "2025-07-11T07:20:55.242176Z"
    }
   },
   "source": [
    "# 파이썬에서 리스트에 정수를 곱하기\n",
    "list = [1,2,3]\n",
    "list"
   ],
   "outputs": [
    {
     "data": {
      "text/plain": [
       "[1, 2, 3]"
      ]
     },
     "execution_count": 14,
     "metadata": {},
     "output_type": "execute_result"
    }
   ],
   "execution_count": 14
  },
  {
   "metadata": {
    "ExecuteTime": {
     "end_time": "2025-07-11T07:20:55.303183Z",
     "start_time": "2025-07-11T07:20:55.301360Z"
    }
   },
   "cell_type": "code",
   "source": [
    "# 공간이 2배\n",
    "list + list"
   ],
   "outputs": [
    {
     "data": {
      "text/plain": [
       "[1, 2, 3, 1, 2, 3]"
      ]
     },
     "execution_count": 15,
     "metadata": {},
     "output_type": "execute_result"
    }
   ],
   "execution_count": 15
  },
  {
   "metadata": {
    "ExecuteTime": {
     "end_time": "2025-07-11T07:20:55.339976Z",
     "start_time": "2025-07-11T07:20:55.338303Z"
    }
   },
   "cell_type": "code",
   "source": [
    "# 타입 에러 발생\n",
    "# list + 2"
   ],
   "outputs": [],
   "execution_count": 16
  },
  {
   "cell_type": "code",
   "metadata": {
    "ExecuteTime": {
     "end_time": "2025-07-11T07:20:55.351939Z",
     "start_time": "2025-07-11T07:20:55.349855Z"
    }
   },
   "source": [
    "# 파이썬에서 리스트에 실수를 곱하기\n",
    "# numpy를 사용하면 가능\n",
    "rand * 2"
   ],
   "outputs": [
    {
     "data": {
      "text/plain": [
       "array([[ 1.19867002,  1.0040161 , -4.23836688],\n",
       "       [ 0.50759654,  1.87560895,  1.80306365],\n",
       "       [-0.31726745, -1.33871411, -1.62141589],\n",
       "       [-0.68076431, -2.29547887,  1.03970608]])"
      ]
     },
     "execution_count": 17,
     "metadata": {},
     "output_type": "execute_result"
    }
   ],
   "execution_count": 17
  },
  {
   "metadata": {
    "ExecuteTime": {
     "end_time": "2025-07-11T07:20:55.381981Z",
     "start_time": "2025-07-11T07:20:55.379582Z"
    }
   },
   "cell_type": "code",
   "source": "rand + rand",
   "outputs": [
    {
     "data": {
      "text/plain": [
       "array([[ 1.19867002,  1.0040161 , -4.23836688],\n",
       "       [ 0.50759654,  1.87560895,  1.80306365],\n",
       "       [-0.31726745, -1.33871411, -1.62141589],\n",
       "       [-0.68076431, -2.29547887,  1.03970608]])"
      ]
     },
     "execution_count": 18,
     "metadata": {},
     "output_type": "execute_result"
    }
   ],
   "execution_count": 18
  },
  {
   "cell_type": "code",
   "metadata": {
    "ExecuteTime": {
     "end_time": "2025-07-11T07:20:55.436494Z",
     "start_time": "2025-07-11T07:20:55.435094Z"
    }
   },
   "source": "# 넘파이 array 에 정수, 실수를 곱하기",
   "outputs": [],
   "execution_count": 19
  },
  {
   "cell_type": "markdown",
   "metadata": {},
   "source": [
    "####\t분포 데이터 그래프 그리기"
   ]
  },
  {
   "cell_type": "code",
   "metadata": {
    "ExecuteTime": {
     "end_time": "2025-07-11T07:20:55.526937Z",
     "start_time": "2025-07-11T07:20:55.496046Z"
    }
   },
   "source": [
    "# 간단한 꺾은선 그래프 그리기\n",
    "\n",
    "x = range(20) # 입력\n",
    "y = np.random.normal(0, 1, size = 20,) # 종속변수, 정답, 예측값\n",
    "\n",
    "plt.plot(x,y)\n",
    "plt.show()"
   ],
   "outputs": [
    {
     "data": {
      "text/plain": [
       "<Figure size 640x480 with 1 Axes>"
      ],
      "image/png": "[encoded data removed]"
     },
     "metadata": {},
     "output_type": "display_data"
    }
   ],
   "execution_count": 20
  },
  {
   "cell_type": "code",
   "metadata": {
    "ExecuteTime": {
     "end_time": "2025-07-11T07:20:55.567695Z",
     "start_time": "2025-07-11T07:20:55.535672Z"
    }
   },
   "source": [
    "# 간단한 점 그래프 그리기\n",
    "x = range(20) # 입력\n",
    "y = np.random.normal(0, 1, size = 20,) # 종속변수, 정답, 예측값\n",
    "\n",
    "# plt.plot(x,y,'bo')\n",
    "plt.scatter(x,y)    # 동일\n",
    "\n",
    "plt.show()"
   ],
   "outputs": [
    {
     "data": {
      "text/plain": [
       "<Figure size 640x480 with 1 Axes>"
      ],
      "image/png": "[encoded data removed]"
     },
     "metadata": {},
     "output_type": "display_data"
    }
   ],
   "execution_count": 21
  },
  {
   "cell_type": "code",
   "metadata": {
    "ExecuteTime": {
     "end_time": "2025-07-11T07:20:55.622849Z",
     "start_time": "2025-07-11T07:20:55.576137Z"
    }
   },
   "source": [
    "# 정규분포 그래프를 히스토그램으로 나타내기\n",
    "import matplotlib.pyplot as plt\n",
    "\n",
    "rand_norm = np.random.normal(0, 1, size = (100000))\n",
    "\n",
    "plt.hist(rand_norm, bins = 100)\n",
    "\n",
    "plt.show()"
   ],
   "outputs": [
    {
     "data": {
      "text/plain": [
       "<Figure size 640x480 with 1 Axes>"
      ],
      "image/png": "[encoded data removed]"
     },
     "metadata": {},
     "output_type": "display_data"
    }
   ],
   "execution_count": 22
  },
  {
   "cell_type": "markdown",
   "metadata": {},
   "source": "## 02. 뉴런 만들기\n"
  },
  {
   "cell_type": "markdown",
   "metadata": {},
   "source": "> \"신경망 첫걸음 - 원리\", 한빛미디어 참고"
  },
  {
   "cell_type": "markdown",
   "metadata": {},
   "source": [
    "\n",
    "인공신경 퍼셉트론은 다수의 입력을 받아 활성화 함수를 통해 출력\n",
    "\n",
    "<div align='center'>\n",
    "<img src='https://www.researchgate.net/profile/Nicola-Fronzetti/publication/335609766/figure/fig1/AS:799455209078784@1567616383497/Perceptron-Minsky-Papert-1969.ppm'>\n",
    " - https://www.researchgate.net/figure/Perceptron-Minsky-Papert-1969_fig1_335609766\n",
    "</div>"
   ]
  },
  {
   "cell_type": "markdown",
   "metadata": {},
   "source": [
    "신경망은 여러 뉴런을 사용해 구성한 형태\n",
    "<img src='https://i.imgur.com/aLfuOrG.jpeg'>"
   ]
  },
  {
   "cell_type": "markdown",
   "metadata": {},
   "source": [
    "### 활성화 함수\n",
    "\n",
    "퍼셉트론과 신경망은 다중 퍼셉트롤을 사용하며 활성화 함수 ( Activate function) 를 통해 출력을 내보낸다. 신경망( Neural Network) 은 활성화 함수로 Sigmoid 함수, Relu 함수 등을 사용합니다.\n",
    "\n",
    " - 간단한 뉴런은 입력에 가중치를 곱해 활성화 함수를 취한다.\n",
    " - 임계점을 넘어서는 경우 출력 신호를 생성하는 함수를 활성화 함수\n"
   ]
  },
  {
   "cell_type": "markdown",
   "metadata": {},
   "source": "<img src='https://i.imgur.com/MCgLzKd.png' width='500'>"
  },
  {
   "cell_type": "markdown",
   "metadata": {},
   "source": [
    "- 시그모이드 함수\n",
    "- softmax\n",
    "- ReLu"
   ]
  },
  {
   "cell_type": "markdown",
   "metadata": {},
   "source": [
    "#### 시그모이드 함수\n",
    " -  https://numpy.org/doc/stable/reference/generated/numpy.exp.html"
   ]
  },
  {
   "cell_type": "code",
   "metadata": {
    "ExecuteTime": {
     "end_time": "2025-07-11T07:20:55.633175Z",
     "start_time": "2025-07-11T07:20:55.631558Z"
    }
   },
   "source": [
    "# sigmoid 함수\n",
    "def sigmoid(x):\n",
    "    return 1 / (1 + np.exp(-x))"
   ],
   "outputs": [],
   "execution_count": 23
  },
  {
   "cell_type": "markdown",
   "metadata": {},
   "source": "뉴런에 임의의 수를 입력해서 시그모이드 입력에 x 값고 임의의 가중치 w로 정규분포한 값을 입력하면 출력은 시그모이드 계산 결과이다."
  },
  {
   "cell_type": "markdown",
   "metadata": {},
   "source": [
    "#### softmax\n",
    "\n",
    "활성화 함수로 softmax를 쓰는데 소프트맥스 함수는 여러 유닛의 출력값을 정규화하기 위한 것이다. \n",
    "\n",
    " - [참고 Softmax 함수](/my/nbconvert/html/%EC%8B%9C%EC%9E%91%ED%95%98%EC%84%B8%EC%9A%94_%ED%85%90%EC%84%9C%ED%94%8C%EB%A1%9C%EC%9A%B02/%EC%B0%B8%EA%B3%A0-%ED%99%9C%EC%84%B1%ED%99%94.ipynb?download=false#Softmax-%ED%95%A8%EC%88%98)\n",
    "\n"
   ]
  },
  {
   "cell_type": "markdown",
   "metadata": {},
   "source": "지수 함수는 큰 값을 강조하고 작은 값을 약화하는 효과가 가있다ㅣ. 소프트맥스는 분류 문제나 언어 RNN 에서 다음 토큰 예측, 강화 학습에서 에이전트 행동 확률을 구하는 등 결과 값으로 확률이 필요한 다양한 분야에서 쓰인다."
  },
  {
   "cell_type": "code",
   "metadata": {
    "ExecuteTime": {
     "end_time": "2025-07-11T07:20:55.666991Z",
     "start_time": "2025-07-11T07:20:55.641138Z"
    }
   },
   "source": [
    "#  SoftMax 그래프\n",
    "import matplotlib.pyplot as plt\n",
    "import math\n",
    "import numpy as np\n",
    "x = np.arange(-2, 2, 0.01)\n",
    "# softmax 계산\n",
    "\n",
    "plt.figure(figsize=(5,4))\n",
    "plt.axhline(0, color='gray')\n",
    "plt.axvline(0, color='gray')\n",
    "# plot x & e_x\n",
    "\n",
    "plt.xlabel('X')\n",
    "plt.ylabel('Y')\n",
    "plt.legend()\n",
    "plt.show()"
   ],
   "outputs": [
    {
     "name": "stderr",
     "output_type": "stream",
     "text": [
      "/var/folders/x_/xf7w4xhx6kl03__yxdgdfl9m0000gn/T/ipykernel_15859/234720356.py:15: UserWarning: No artists with labels found to put in legend.  Note that artists whose label start with an underscore are ignored when legend() is called with no argument.\n",
      "  plt.legend()\n"
     ]
    },
    {
     "data": {
      "text/plain": [
       "<Figure size 500x400 with 1 Axes>"
      ],
      "image/png": "[encoded data removed]"
     },
     "metadata": {},
     "output_type": "display_data"
    }
   ],
   "execution_count": 24
  },
  {
   "cell_type": "markdown",
   "metadata": {},
   "source": [
    "### 머신러닝의 손실 함수 (Loss Function)\n",
    "\n",
    "손실 함수는 머신러닝 모델의 예측값과 실제 정답(참값) 사이의 차이를 정량적으로 측정하는 함수입니다. 즉, \"우리 모델이 얼마나 틀렸는가?\"를 수치화하여 알려주는 지표입니다. 이 손실 함수의 값이 작을수록 모델의 예측이 정답에 가깝고, 모델의 성능이 좋다고 판단합니다.\n",
    "\n",
    "- 단, 손실함수는 머신러닝의 문제에 따라 종류가 달라진다. (회귀 문제, 분류 문제, ...)"
   ]
  },
  {
   "cell_type": "markdown",
   "metadata": {},
   "source": [
    "신경망을 통해 예측값을 도출했을 때 이 예측값과 실제 값과의 차이를 오차 혹은 손실이라 하고 이 손실을 계산하는 함수를 손실함수 Loss Function이라고 합니다.\n",
    "\n",
    "< 오차함수 >\n",
    "\n",
    "오차를 구할 수 있는 방법은 몇가지 있습니다.\n",
    "\n",
    "1. 실제값 - 추론값\n",
    "\n",
    "2. | 실제갑 - 추론값 | ( 오차를 구한후 절대값을 씌운다 )\n",
    "\n",
    "3. ( 실제값 - 추론값 ) 의 제곱 -> Mean square Err (MSE ) 오차 제곱 평균\n",
    "\n",
    "4. Cross Engropy\n",
    "\n",
    "\n",
    "우리는 이 손실함수를 통해 계산된값 즉 오차값을 줄여나가 오차가 0에 가깝게 되는 상태를 만들고 이 오차를 0에 수렴하게 만드는 Weight와 bias 를 찾는 과정을 학습(Training)이라고 합니다.\n"
   ]
  },
  {
   "cell_type": "markdown",
   "metadata": {},
   "source": [
    "정답과 출력의 차이를 비교하기 위해서 평균제곱오차(Mean Squared Error, MSE) 를 사용할 수 있다.\n",
    "\n",
    "제곱이라 민감도가 높다\n",
    "\n",
    "$$\n",
    "\\text{MSE} = \\frac{1}{n} \\sum_{i=1}^{n} (y_i - \\hat{y_i})^2\n",
    "$$"
   ]
  },
  {
   "cell_type": "markdown",
   "metadata": {},
   "source": [
    "손실 함수의 값을 최소화하는 모델의 파라미터(가중치, 편향 등)를 찾아가는 최적화 알고리즘(Learning Rate)을 사용한다.\n",
    "\n",
    " - Loss 함수의 크기를 작게 하는 ![image](https://user-images.githubusercontent.com/61646760/140510991-70ef4523-52e2-4360-87eb-093d55107db8.png) (y 절편), ![image](https://user-images.githubusercontent.com/61646760/140511012-753ddb9d-d758-4522-9853-280250a50d2a.png) (기울기)를 찾는 방법\n",
    "      1. **Gradient descent (경사 하강법)**\n",
    "      2. **Normal equation (least squres)**\n",
    "\n"
   ]
  },
  {
   "cell_type": "markdown",
   "metadata": {},
   "source": [
    "모든 포인트의 차이를 줄이기 위해서 경사하강법을 사용한다. \n",
    "\n",
    "<img src='https://i.imgur.com/lYTSGrk.png' width='700'>"
   ]
  },
  {
   "cell_type": "markdown",
   "metadata": {},
   "source": [
    "경사하강법에서 학습률을 통해서 차이를 줄이는 단계를 지정한다.\n",
    " - 오차를 줄이는 조정자(Moderate)를 사용하고 이를 학습률(Learning Rate)라고 한다.\n",
    " - 가중치, 입력 과 에러에 학습률을 곱해서 더해준다.\n"
   ]
  },
  {
   "cell_type": "markdown",
   "metadata": {},
   "source": [
    "\n",
    "손실함수를 최적화 하는 방법으로 경사하강법을 사용\n",
    " - 가중치에 입력, 에러 및 학습률을 곱해서 더해준다.\n",
    " \n",
    "```\n",
    "가중치 + 입력 x 학습률 x 에러\n",
    "  학습률(ɑ) : w 업데이트 정도\n",
    "```"
   ]
  },
  {
   "cell_type": "markdown",
   "metadata": {},
   "source": [
    "### 학습"
   ]
  },
  {
   "cell_type": "markdown",
   "metadata": {},
   "source": "#### x=1 일 때 y=0 을 얻는 뉴런의 학습"
  },
  {
   "cell_type": "code",
   "metadata": {
    "ExecuteTime": {
     "end_time": "2025-07-11T07:20:55.678409Z",
     "start_time": "2025-07-11T07:20:55.676783Z"
    }
   },
   "source": [
    "# 뉴런의 입력과 출력 정의\n",
    "x = 1 # 입력\n",
    "y = 0\n",
    "\n",
    "# 가중치 + 입력 x 학습률 x 에러\n",
    "w = np.random.normal(0, 1, size = (1,)) # 가중치"
   ],
   "outputs": [],
   "execution_count": 25
  },
  {
   "metadata": {
    "ExecuteTime": {
     "end_time": "2025-07-11T07:20:55.689004Z",
     "start_time": "2025-07-11T07:20:55.687498Z"
    }
   },
   "cell_type": "code",
   "source": [
    "# 출력\n",
    "output = sigmoid(x * w)\n",
    "print(x, y, \"---->\", output)"
   ],
   "outputs": [
    {
     "name": "stdout",
     "output_type": "stream",
     "text": [
      "1 0 ----> [0.77625214]\n"
     ]
    }
   ],
   "execution_count": 26
  },
  {
   "cell_type": "markdown",
   "metadata": {},
   "source": [
    "오차/에러/잔차를 비교해서 실제 값과 출력 값의 차이를 줄여야 한다.\n",
    "\n",
    "- 실제 출력과 기대 출력의 차이\n",
    "- 뉴런 학습은 이 에러가 0에 가까와 지게 해서 기대 값에 가깝운 값을 얻는 것.\n"
   ]
  },
  {
   "cell_type": "code",
   "metadata": {
    "ExecuteTime": {
     "end_time": "2025-07-11T07:20:55.717317Z",
     "start_time": "2025-07-11T07:20:55.715072Z"
    }
   },
   "source": [
    "# 오차(잔차/에러) = 기대출력 - 출력\n",
    "error = y - output\n",
    "error"
   ],
   "outputs": [
    {
     "data": {
      "text/plain": [
       "array([-0.77625214])"
      ]
     },
     "execution_count": 27,
     "metadata": {},
     "output_type": "execute_result"
    }
   ],
   "execution_count": 27
  },
  {
   "cell_type": "markdown",
   "metadata": {},
   "source": [
    "그러기 위해서 가중치의 변화가 중요하다\n",
    " - 가중치 w에 입력, 학습률과 에러를 곱해서 더해준다."
   ]
  },
  {
   "cell_type": "markdown",
   "metadata": {},
   "source": [
    "경사하강법에서 학습률을 통해서 차이를 줄이는 단계를 지정한다."
   ]
  },
  {
   "cell_type": "code",
   "metadata": {
    "ExecuteTime": {
     "end_time": "2025-07-11T07:20:55.745474Z",
     "start_time": "2025-07-11T07:20:55.739675Z"
    }
   },
   "source": [
    "# 경사 하강법 을 이용한 뉴런 학습이 손실을 줄이는 단계\n",
    "x, y = 1, 0    # 튜플, 패킹, 언패킹\n",
    "\n",
    "learning_rate = 0.1\n",
    "\n",
    "w = np.random.normal(0, 1, size = (1,)) # 가중치\n",
    "\n",
    "# 경사 하강법\n",
    "for i in range(1000):\n",
    "    output = sigmoid(x * w)\n",
    "    error = y - output\n",
    "\n",
    "    # 오차에 따른 가중치 재계산\n",
    "    w = w + x * learning_rate * error\n",
    "\n",
    "    if i % 100 == 99:\n",
    "        print(i, error, output)"
   ],
   "outputs": [
    {
     "name": "stdout",
     "output_type": "stream",
     "text": [
      "99 [-0.12935669] [0.12935669]\n",
      "199 [-0.05913822] [0.05913822]\n",
      "299 [-0.03779046] [0.03779046]\n",
      "399 [-0.02765889] [0.02765889]\n",
      "499 [-0.02177627] [0.02177627]\n",
      "599 [-0.01794247] [0.01794247]\n",
      "699 [-0.01524938] [0.01524938]\n",
      "799 [-0.01325534] [0.01325534]\n",
      "899 [-0.0117202] [0.0117202]\n",
      "999 [-0.01050229] [0.01050229]\n"
     ]
    }
   ],
   "execution_count": 28
  },
  {
   "cell_type": "markdown",
   "metadata": {},
   "source": [
    "#### x=0 일 때 y=1 을 얻는 뉴런의 학습\n",
    "\n",
    " - 경사하강법에 의해 가중치가 변화하지 않는다.\n"
   ]
  },
  {
   "cell_type": "code",
   "metadata": {
    "ExecuteTime": {
     "end_time": "2025-07-11T07:20:55.778800Z",
     "start_time": "2025-07-11T07:20:55.773342Z"
    }
   },
   "source": [
    "# x=0 일 때 y=1 을 얻는 뉴런의 학습\n",
    "x, y = 0, 1\n",
    "\n",
    "learning_rate = 0.1\n",
    "\n",
    "w = np.random.normal(0, 1, size = (1,)) # 가중치\n",
    "\n",
    "# 경사 하강법\n",
    "for i in range(1000):\n",
    "    output = sigmoid(x * w)\n",
    "    error = y - output\n",
    "\n",
    "    # 오차에 따른 가중치 재계산\n",
    "    w = w + x * learning_rate * error\n",
    "\n",
    "    if i % 100 == 99:\n",
    "        print(i, error, output)"
   ],
   "outputs": [
    {
     "name": "stdout",
     "output_type": "stream",
     "text": [
      "99 [0.5] [0.5]\n",
      "199 [0.5] [0.5]\n",
      "299 [0.5] [0.5]\n",
      "399 [0.5] [0.5]\n",
      "499 [0.5] [0.5]\n",
      "599 [0.5] [0.5]\n",
      "699 [0.5] [0.5]\n",
      "799 [0.5] [0.5]\n",
      "899 [0.5] [0.5]\n",
      "999 [0.5] [0.5]\n"
     ]
    }
   ],
   "execution_count": 29
  },
  {
   "cell_type": "markdown",
   "metadata": {},
   "source": [
    "### 편향\n",
    "\n",
    " - 입력이 0으로 치우쳐서 $x\\gt0$ 인 상태를 유지하고, 치우침을 방지할 편향(bias/일정한 값의 수준을 유지하기 위함)가 필요\n",
    "\n",
    "\n",
    "<img src='https://i.imgur.com/Lv4iHBC.png' width='500'>"
   ]
  },
  {
   "cell_type": "code",
   "metadata": {
    "ExecuteTime": {
     "end_time": "2025-07-11T07:20:55.800849Z",
     "start_time": "2025-07-11T07:20:55.792494Z"
    }
   },
   "source": [
    "# x=0 일 때 y=1 을 얻는 뉴런의 학습에 편향을 더함\n",
    "x, y = 0, 1\n",
    "\n",
    "learning_rate = 0.1\n",
    "\n",
    "w = np.random.normal(0, 1, size = (1,)) # 가중치\n",
    "\n",
    "# 편향 추가\n",
    "b = np.random.normal(0, 1, size = (1,))\n",
    "\n",
    "# 경사 하강법\n",
    "for i in range(1000):\n",
    "    output = sigmoid(x * w + 1 * b) # 편향\n",
    "    error = y - output\n",
    "\n",
    "    # 오차에 따른 가중치 재계산\n",
    "    w = w + x * learning_rate * error\n",
    "    # 오차에 따른 편향 재계산\n",
    "    b = b + 1 * learning_rate * error\n",
    "\n",
    "    if i % 100 == 99:\n",
    "        print(i, error, output)"
   ],
   "outputs": [
    {
     "name": "stdout",
     "output_type": "stream",
     "text": [
      "99 [0.11729079] [0.88270921]\n",
      "199 [0.05630047] [0.94369953]\n",
      "299 [0.03658749] [0.96341251]\n",
      "399 [0.02700273] [0.97299727]\n",
      "499 [0.02136521] [0.97863479]\n",
      "599 [0.01766147] [0.98233853]\n",
      "699 [0.01504541] [0.98495459]\n",
      "799 [0.01310066] [0.98689934]\n",
      "899 [0.01159893] [0.98840107]\n",
      "999 [0.0104047] [0.9895953]\n"
     ]
    }
   ],
   "execution_count": 30
  },
  {
   "cell_type": "markdown",
   "metadata": {},
   "source": [
    "### AND 학습\n",
    "\n",
    "<img src='https://i.imgur.com/eMBYIwy.jpeg' width=300>\n",
    "\n",
    "실제 논리대수 AND 연산에 신경망을 적용해 보자"
   ]
  },
  {
   "cell_type": "code",
   "metadata": {
    "ExecuteTime": {
     "end_time": "2025-07-11T07:20:55.811470Z",
     "start_time": "2025-07-11T07:20:55.809831Z"
    }
   },
   "source": [
    "# True, False 의 정수값 확인\n",
    "print(int(True))\n",
    "print(int(False))"
   ],
   "outputs": [
    {
     "name": "stdout",
     "output_type": "stream",
     "text": [
      "1\n",
      "0\n"
     ]
    }
   ],
   "execution_count": 31
  },
  {
   "cell_type": "markdown",
   "metadata": {},
   "source": [
    "AND 의 데이터를 준비하고 가중치와 편향을 초기화 한다."
   ]
  },
  {
   "cell_type": "code",
   "metadata": {
    "ExecuteTime": {
     "end_time": "2025-07-11T07:20:55.825924Z",
     "start_time": "2025-07-11T07:20:55.824121Z"
    }
   },
   "source": [
    "# 첫번째 신경망 네트워크 : AND\n",
    "x = np.array([[1,1], [1,0], [0,1], [0,0]]) # 4행 2열 함수\n",
    "y = np.array([[1], [0], [0], [0]])\n",
    "\n",
    "w = np.random.normal(0,1,size=(2,))\n",
    "b = np.random.normal(0,1,size=(1,))"
   ],
   "outputs": [],
   "execution_count": 32
  },
  {
   "metadata": {
    "ExecuteTime": {
     "end_time": "2025-07-11T07:20:55.852658Z",
     "start_time": "2025-07-11T07:20:55.850187Z"
    }
   },
   "cell_type": "code",
   "source": "x.shape, y.shape",
   "outputs": [
    {
     "data": {
      "text/plain": [
       "((4, 2), (4, 1))"
      ]
     },
     "execution_count": 33,
     "metadata": {},
     "output_type": "execute_result"
    }
   ],
   "execution_count": 33
  },
  {
   "metadata": {
    "ExecuteTime": {
     "end_time": "2025-07-11T07:20:55.881235Z",
     "start_time": "2025-07-11T07:20:55.879555Z"
    }
   },
   "cell_type": "code",
   "source": [
    "# 행우선\n",
    "for i in x:\n",
    "    for j in i:\n",
    "        print(j)"
   ],
   "outputs": [
    {
     "name": "stdout",
     "output_type": "stream",
     "text": [
      "1\n",
      "1\n",
      "1\n",
      "0\n",
      "0\n",
      "1\n",
      "0\n",
      "0\n"
     ]
    }
   ],
   "execution_count": 34
  },
  {
   "cell_type": "code",
   "metadata": {
    "ExecuteTime": {
     "end_time": "2025-07-11T07:20:55.920268Z",
     "start_time": "2025-07-11T07:20:55.917826Z"
    }
   },
   "source": [
    "w, b"
   ],
   "outputs": [
    {
     "data": {
      "text/plain": [
       "(array([1.33640005, 1.84293939]), array([1.0079927]))"
      ]
     },
     "execution_count": 35,
     "metadata": {},
     "output_type": "execute_result"
    }
   ],
   "execution_count": 35
  },
  {
   "cell_type": "markdown",
   "metadata": {},
   "source": [
    "수천번 반복해 나간다"
   ]
  },
  {
   "cell_type": "code",
   "metadata": {
    "ExecuteTime": {
     "end_time": "2025-07-11T07:20:55.983824Z",
     "start_time": "2025-07-11T07:20:55.937279Z"
    }
   },
   "source": [
    "# 경사하강법으로 수천번 반복한다\n",
    "learning_rate = 0.1\n",
    "\n",
    "# 가중치\n",
    "w = np.random.normal(0, 1, size = (1,))\n",
    "\n",
    "# 편향 추가\n",
    "b = np.random.normal(0, 1, size = (1,))\n",
    "\n",
    "# 경사 하강법\n",
    "for i in range(1000):\n",
    "    error_sum = 0\n",
    "    for j in range(4): # 행\n",
    "        # output = sigmoid(x * w + 1 * b) # 편향\n",
    "        output = sigmoid(np.sum(x[j] * w) + 1 * b) # 편향\n",
    "        # error = y - output\n",
    "        error = y[j][0] - output\n",
    "\n",
    "        # 오차에 따른 가중치 재계산\n",
    "        # w = w + x * learning_rate * error\n",
    "        w = w + x[j] * learning_rate * error\n",
    "        # 오차에 따른 편향 재계산\n",
    "        b = b + 1 * learning_rate * error\n",
    "\n",
    "        error_sum += error\n",
    "\n",
    "    if i % 100 == 99:\n",
    "        print(i, error_sum, output)"
   ],
   "outputs": [
    {
     "name": "stdout",
     "output_type": "stream",
     "text": [
      "99 [-0.19054824] [0.06781973]\n",
      "199 [-0.11801479] [0.01625712]\n",
      "299 [-0.08649327] [0.00601106]\n",
      "399 [-0.0683344] [0.00280206]\n",
      "499 [-0.05642823] [0.00150988]\n",
      "599 [-0.04800608] [0.00089857]\n",
      "699 [-0.04173543] [0.00057486]\n",
      "799 [-0.03688862] [0.00038854]\n",
      "899 [-0.03303296] [0.00027418]\n",
      "999 [-0.0298947] [0.00020031]\n"
     ]
    }
   ],
   "execution_count": 36
  },
  {
   "cell_type": "markdown",
   "metadata": {},
   "source": [
    "이렇게 학습한 네트워크가 정상적으로 동작하는지 확인해 보자."
   ]
  },
  {
   "cell_type": "code",
   "metadata": {
    "ExecuteTime": {
     "end_time": "2025-07-11T07:20:55.996441Z",
     "start_time": "2025-07-11T07:20:55.994373Z"
    }
   },
   "source": [
    "# AND 네트워크의 평가\n",
    "for i in range(4):\n",
    "    # w 와 b는 모델이 학습한 마지막 편향\n",
    "    sum_ = np.sum(x[i] * w) + b # 출력(예측한 정답)\n",
    "    print(\"x:\", x[i], \"---> y:\", y[i], \"---> predict:\", sigmoid(sum_))"
   ],
   "outputs": [
    {
     "name": "stdout",
     "output_type": "stream",
     "text": [
      "x: [1 1] ---> y: [1] ---> predict: [0.93027187]\n",
      "x: [1 0] ---> y: [0] ---> predict: [0.04901389]\n",
      "x: [0 1] ---> y: [0] ---> predict: [0.04930409]\n",
      "x: [0 0] ---> y: [0] ---> predict: [0.00020031]\n"
     ]
    }
   ],
   "execution_count": 37
  },
  {
   "cell_type": "markdown",
   "metadata": {},
   "source": [
    "### OR 학습\n"
   ]
  },
  {
   "cell_type": "markdown",
   "metadata": {},
   "source": [
    "\n",
    "<img src='https://i.imgur.com/bkfSEEB.jpeg' width=300>\n",
    "\n",
    "실제 논리대수 OR 연산에 신경망을 적용해 보자"
   ]
  },
  {
   "metadata": {
    "ExecuteTime": {
     "end_time": "2025-07-11T07:20:56.026472Z",
     "start_time": "2025-07-11T07:20:56.024720Z"
    }
   },
   "cell_type": "code",
   "source": [
    "# 두번째 신경망 네트워크 : OR\n",
    "x = np.array([[1,1], [1,0], [0,1], [0,0]]) # 4행 2열 함수\n",
    "y = np.array([[1], [1], [1], [0]])"
   ],
   "outputs": [],
   "execution_count": 38
  },
  {
   "cell_type": "code",
   "metadata": {
    "ExecuteTime": {
     "end_time": "2025-07-11T07:20:56.092531Z",
     "start_time": "2025-07-11T07:20:56.048710Z"
    }
   },
   "source": [
    "# 경사하강법으로 수천번 반복한다\n",
    "learning_rate = 0.1\n",
    "\n",
    "# 가중치\n",
    "w = np.random.normal(0, 1, size = (1,))\n",
    "\n",
    "# 편향 추가\n",
    "b = np.random.normal(0, 1, size = (1,))\n",
    "\n",
    "# 경사 하강법\n",
    "for i in range(1000):\n",
    "    error_sum = 0\n",
    "    for j in range(4): # 행\n",
    "        # output = sigmoid(x * w + 1 * b) # 편향\n",
    "        output = sigmoid(np.sum(x[j] * w) + 1 * b) # 편향\n",
    "        # error = y - output\n",
    "        error = y[j][0] - output\n",
    "\n",
    "        # 오차에 따른 가중치 재계산\n",
    "        # w = w + x * learning_rate * error\n",
    "        w = w + x[j] * learning_rate * error\n",
    "        # 오차에 따른 편향 재계산\n",
    "        b = b + 1 * learning_rate * error\n",
    "\n",
    "        error_sum += error\n",
    "\n",
    "    if i % 100 == 99:\n",
    "        print(i, error_sum, output)"
   ],
   "outputs": [
    {
     "name": "stdout",
     "output_type": "stream",
     "text": [
      "99 [-0.09967609] [0.38871175]\n",
      "199 [-0.05232237] [0.23573117]\n",
      "299 [-0.03538552] [0.16659194]\n",
      "399 [-0.02665749] [0.1279058]\n",
      "499 [-0.02133461] [0.10341713]\n",
      "599 [-0.01775604] [0.08661333]\n",
      "699 [-0.01518953] [0.07440785]\n",
      "799 [-0.01326155] [0.06516008]\n",
      "899 [-0.0117617] [0.05792156]\n",
      "999 [-0.01056256] [0.0521076]\n"
     ]
    }
   ],
   "execution_count": 39
  },
  {
   "cell_type": "code",
   "metadata": {
    "ExecuteTime": {
     "end_time": "2025-07-11T07:20:56.103763Z",
     "start_time": "2025-07-11T07:20:56.101644Z"
    }
   },
   "source": [
    "# OR 네트워크의 평가\n",
    "for i in range(4):\n",
    "    # w 와 b는 모델이 학습한 마지막 편향\n",
    "    sum_ = np.sum(x[i] * w) + b # 출력(예측한 정답)\n",
    "    print(\"x:\", x[i], \"---> y:\", y[i], \"---> predict:\", sigmoid(sum_))"
   ],
   "outputs": [
    {
     "name": "stdout",
     "output_type": "stream",
     "text": [
      "x: [1 1] ---> y: [1] ---> predict: [0.99997542]\n",
      "x: [1 0] ---> y: [1] ---> predict: [0.97927779]\n",
      "x: [0 1] ---> y: [1] ---> predict: [0.97920097]\n",
      "x: [0 0] ---> y: [0] ---> predict: [0.05185083]\n"
     ]
    }
   ],
   "execution_count": 40
  },
  {
   "cell_type": "markdown",
   "metadata": {},
   "source": [
    "평가를 해본 결과 중간 계산 값이 1보다 큰 값은 출력 Y 값은 1 근처 임을 알 수 있다."
   ]
  },
  {
   "cell_type": "markdown",
   "metadata": {},
   "source": [
    "### XOR 학습\n",
    "\n",
    "<img src='https://i.imgur.com/k9j9bqw.jpeg' width=500>"
   ]
  },
  {
   "cell_type": "code",
   "metadata": {
    "ExecuteTime": {
     "end_time": "2025-07-11T07:20:56.116086Z",
     "start_time": "2025-07-11T07:20:56.114609Z"
    }
   },
   "source": [
    "# 세번째 신경망 네트워크 : XOR\n",
    "x = np.array([[1,1], [1,0], [0,1], [0,0]]) # 4행 2열 함수\n",
    "y = np.array([[0], [1], [1], [0]])"
   ],
   "outputs": [],
   "execution_count": 41
  },
  {
   "cell_type": "code",
   "metadata": {
    "ExecuteTime": {
     "end_time": "2025-07-11T07:20:56.176314Z",
     "start_time": "2025-07-11T07:20:56.139104Z"
    }
   },
   "source": [
    "# 경사하강법으로 수천번 반복한다\n",
    "learning_rate = 0.1\n",
    "\n",
    "# 가중치\n",
    "w = np.random.normal(0, 1, size = (1,))\n",
    "\n",
    "# 편향 추가\n",
    "b = np.random.normal(0, 1, size = (1,))\n",
    "\n",
    "# 경사 하강법\n",
    "for i in range(1000):\n",
    "    error_sum = 0\n",
    "    for j in range(4): # 행\n",
    "        # output = sigmoid(x * w + 1 * b) # 편향\n",
    "        output = sigmoid(np.sum(x[j] * w) + 1 * b) # 편향\n",
    "        # error = y - output\n",
    "        error = y[j][0] - output\n",
    "\n",
    "        # 오차에 따른 가중치 재계산\n",
    "        # w = w + x * learning_rate * error\n",
    "        w = w + x[j] * learning_rate * error\n",
    "        # 오차에 따른 편향 재계산\n",
    "        b = b + 1 * learning_rate * error\n",
    "\n",
    "        error_sum += error\n",
    "\n",
    "    if i % 100 == 99:\n",
    "        print(i, error_sum, output)"
   ],
   "outputs": [
    {
     "name": "stdout",
     "output_type": "stream",
     "text": [
      "99 [-0.06031638] [0.60785871]\n",
      "199 [-0.0123441] [0.5323928]\n",
      "299 [-0.00249097] [0.51677094]\n",
      "399 [-0.00050227] [0.51361487]\n",
      "499 [-0.00010127] [0.51297838]\n",
      "599 [-2.0417791e-05] [0.51285004]\n",
      "699 [-4.11662307e-06] [0.51282417]\n",
      "799 [-8.29990788e-07] [0.51281895]\n",
      "899 [-1.67342173e-07] [0.5128179]\n",
      "999 [-3.37394135e-08] [0.51281769]\n"
     ]
    }
   ],
   "execution_count": 42
  },
  {
   "cell_type": "markdown",
   "metadata": {},
   "source": [
    "에러 값이 줄다가 어느 순간 변하지 않는다."
   ]
  },
  {
   "cell_type": "markdown",
   "metadata": {},
   "source": [
    "w, b 값을 확인해 보면 아래 같아서 w의 첫번째 입력이 영향을 크게 미치고, 편향도 거의 영향이 없을 것 으로 보인다. \n"
   ]
  },
  {
   "cell_type": "code",
   "metadata": {
    "ExecuteTime": {
     "end_time": "2025-07-11T07:20:56.188809Z",
     "start_time": "2025-07-11T07:20:56.187103Z"
    }
   },
   "source": [
    "print('w:', w)\n",
    "print('b:', b)"
   ],
   "outputs": [
    {
     "name": "stdout",
     "output_type": "stream",
     "text": [
      "w: [ 5.12815822e-02 -1.78593254e-07]\n",
      "b: [2.0900794e-07]\n"
     ]
    }
   ],
   "execution_count": 43
  },
  {
   "cell_type": "markdown",
   "metadata": {},
   "source": [
    "\n",
    "이렇게 얻은 값에 시그모이드를 취하면 최종값이 된다. 중간 합계와 최종 출력을 평가해 보면, 가중치 2 값으로 중간값 계산이 0에 가까와 지기 때문에 시그모이드 적용한 출력이 0.5에 가까와 지는 것이다."
   ]
  },
  {
   "cell_type": "code",
   "metadata": {
    "ExecuteTime": {
     "end_time": "2025-07-11T07:20:56.211027Z",
     "start_time": "2025-07-11T07:20:56.208858Z"
    }
   },
   "source": [
    "# XOR 네트워크의 평가\n",
    "for i in range(4):\n",
    "    # w 와 b는 모델이 학습한 마지막 편향\n",
    "    sum_ = np.sum(x[i] * w) + b # 출력(예측한 정답)\n",
    "    print(\"x:\", x[i], \"---> y:\", y[i], \"---> predict:\", sigmoid(sum_))"
   ],
   "outputs": [
    {
     "name": "stdout",
     "output_type": "stream",
     "text": [
      "x: [1 1] ---> y: [0] ---> predict: [0.51281759]\n",
      "x: [1 0] ---> y: [1] ---> predict: [0.51281764]\n",
      "x: [0 1] ---> y: [1] ---> predict: [0.50000001]\n",
      "x: [0 0] ---> y: [0] ---> predict: [0.50000005]\n"
     ]
    }
   ],
   "execution_count": 44
  },
  {
   "cell_type": "markdown",
   "metadata": {},
   "source": [
    "\n",
    "이것을 AND 중간값 평가와 비교하면, 2개의 가중치가 비슷해서 입력 2개는 거의 비슷한 중요도를 갖는다. 편향은 음수로 중간값 계산을 음수로 보내는 경향을 갖고 두 가중치를 합해야 음수 편향을 이겨낸다."
   ]
  },
  {
   "cell_type": "markdown",
   "metadata": {},
   "source": [
    "<img src='https://i.imgur.com/O6UEME6.jpeg' width=600>"
   ]
  },
  {
   "cell_type": "markdown",
   "metadata": {},
   "source": [
    "XOR의 문제는 인공지능의 겨울을 가져왔다. 하나의 퍼셉트론으론 XOR 문제를 해결 할 수 없다는 것이다."
   ]
  },
  {
   "cell_type": "markdown",
   "metadata": {},
   "source": [
    "## 03. MLP\n",
    "\n",
    "MLP Multi Layerd Perceptron 는 Perceptron을 여러개 사용하는 다층신경망 으로 학습 할 수 있다. \n",
    "\n",
    " - 퍼셉트론의 한계인 Xor 연산이 가능하다"
   ]
  },
  {
   "cell_type": "markdown",
   "metadata": {},
   "source": [
    "\n",
    "다층퍼셉트론을 이용해 단층퍼셉트론에서 불가능한 비선형 문제를 해결할 수 있고 XOR 게이트 문제도 풀 수 있다ㅏ. \n",
    "\n",
    "다음은 다층퍼셉트론의 입력-은닉층가지 신호 전달을 표현한 것이다. 입력층과 출력층 사이에 있는 층을 은닉층이라 부르고 여러 층을 둘 수 있다.\n",
    "\n",
    "<img src='https://i.imgur.com/DbwhpZ3.png' width=500>\n",
    "\n",
    "\n",
    "은닉층이 무수히 많은 신경망을 심층신경망이라고 한다."
   ]
  },
  {
   "cell_type": "markdown",
   "metadata": {},
   "source": [
    "#### MLP Ouput layer 계산\n",
    "\n",
    "이제 은닉층에서 출력층까지 신호 전달 과정도 살펴보자. 출력층 활성화 함수는 시그마 $\\sigma$ 로 표시하고 활성화 함수는 풀고자 하는 문제에 따라 고르는데 일반적으로 회귀 문제는 항등 함수, 2분류 문제인 경우 시그모이드 함수, 다중 분류 문제는 소프트맥스를 사용한다."
   ]
  },
  {
   "cell_type": "markdown",
   "metadata": {},
   "source": [
    "입력층과 은닉층을 함수로 표현하면\n",
    "\n",
    "<img src='https://i.imgur.com/ANhr9IF.jpeg' width=500>"
   ]
  },
  {
   "cell_type": "markdown",
   "metadata": {},
   "source": [
    "은닉층 첫번째 퍼셉트론을 수식으로 나타내면\n",
    "\n",
    "$$\n",
    "a_{a}^{(1)} = b_{1}^{(1)} + w_{11}^{(1)}x_1 + w_{12}^{(1)}x_2\n",
    "$$"
   ]
  },
  {
   "cell_type": "markdown",
   "metadata": {},
   "source": [
    "\n",
    "입력층에서 은닉층 세 개의 퍼셉트론까지 신호 전달 과정을 행렬 내적을 이용해 표현하면\n",
    "\n",
    "$$\\begin{align}\n",
    "A^{(1)} &= XW^{(1)} + B^{(1)}\n",
    "\\\\\n",
    "(a_{1}^{(1)} a_{2}^{(1)} a_{3}^{(1)}) &= (x_1 x_2) \\begin{bmatrix}\n",
    "w_{11}^{(1)} &  w_{21}^{(1)} &  w_{31}^{(1)}\\\\\n",
    "w_{12}^{(1)} &  w_{22}^{(1)} &  w_{32}^{(1)} \\end{bmatrix} \n",
    "+\n",
    "\\begin{pmatrix} b_{1}^{(1)} &  b_{2}^{(1)} &  b_{3}^{(1)}\\end{pmatrix}\n",
    "\\end{align}$$"
   ]
  },
  {
   "cell_type": "markdown",
   "metadata": {},
   "source": [
    "\n",
    "출력층 첫번째 퍼셉트론을 수식으로 나타내면\n",
    "\n",
    "$$\n",
    "a_{1}^{(2)} = b_{1}^{(2)} + w_{11}^{(2)}z_1^{(1)} + w_{12}^{(2)}z_2^{(1)} + w_{13}^{(2)}z_3^{(1)}\n",
    "$$\n",
    "\n",
    "\n",
    "은닉층에서 출력층 2 퍼셉트론까지 신호 전달 과정을 행렬 내적을 이용해 표현하면\n",
    "\n",
    "$$\\begin{align}\n",
    "A^{(2)} &= Z^{(1)}W^{(2)} + B^{(2)}\n",
    "\\\\\n",
    "(a_{1}^{(2)} a_{2}^{(2)}) &= (z_1^{(1)} z_2^{(1)}  z_3^{(1)})\n",
    "+ \\begin{bmatrix}\n",
    "w_{11}^{(2)} &  w_{21}^{(2)}\\\\\n",
    "w_{12}^{(2)} &  w_{22}^{(2)}\\\\\n",
    "w_{13}^{(2)} &  w_{23}^{(2)}\\end{bmatrix} \n",
    "\\begin{pmatrix} b_{1}^{(2)} &  b_{2}^{(2)}\\end{pmatrix}\n",
    "\\end{align}$$\n"
   ]
  },
  {
   "cell_type": "markdown",
   "metadata": {},
   "source": [
    "이런 과정을 거쳐 신경망이 학습한다. 대부분 신경망 라이브러리들이 이런 과정으로 학습한다. Python 기반의 대표 프레임워크로 \n",
    " - Scikit-learn, Pytorch, Keras 등이 있다."
   ]
  },
  {
   "cell_type": "markdown",
   "metadata": {},
   "source": [
    "## Scikit-learn MLP XOR 학습\n",
    "\n"
   ]
  },
  {
   "cell_type": "code",
   "metadata": {
    "ExecuteTime": {
     "end_time": "2025-07-11T07:20:56.691242Z",
     "start_time": "2025-07-11T07:20:56.230505Z"
    }
   },
   "source": "%pip install scikit-learn",
   "outputs": [
    {
     "name": "stdout",
     "output_type": "stream",
     "text": [
      "Defaulting to user installation because normal site-packages is not writeable\r\n",
      "Requirement already satisfied: scikit-learn in /Users/ihanjo/Library/Python/3.13/lib/python/site-packages (1.6.1)\r\n",
      "Requirement already satisfied: numpy>=1.19.5 in /Users/ihanjo/Library/Python/3.13/lib/python/site-packages (from scikit-learn) (1.26.4)\r\n",
      "Requirement already satisfied: scipy>=1.6.0 in /Users/ihanjo/Library/Python/3.13/lib/python/site-packages (from scikit-learn) (1.15.2)\r\n",
      "Requirement already satisfied: joblib>=1.2.0 in /Users/ihanjo/Library/Python/3.13/lib/python/site-packages (from scikit-learn) (1.4.2)\r\n",
      "Requirement already satisfied: threadpoolctl>=3.1.0 in /Users/ihanjo/Library/Python/3.13/lib/python/site-packages (from scikit-learn) (3.5.0)\r\n",
      "\r\n",
      "\u001B[1m[\u001B[0m\u001B[34;49mnotice\u001B[0m\u001B[1;39;49m]\u001B[0m\u001B[39;49m A new release of pip is available: \u001B[0m\u001B[31;49m24.3.1\u001B[0m\u001B[39;49m -> \u001B[0m\u001B[32;49m25.1.1\u001B[0m\r\n",
      "\u001B[1m[\u001B[0m\u001B[34;49mnotice\u001B[0m\u001B[1;39;49m]\u001B[0m\u001B[39;49m To update, run: \u001B[0m\u001B[32;49mpip3.13 install --upgrade pip\u001B[0m\r\n",
      "Note: you may need to restart the kernel to use updated packages.\n"
     ]
    }
   ],
   "execution_count": 45
  },
  {
   "cell_type": "markdown",
   "metadata": {},
   "source": [
    "데이터를 학습 시킨다. 학습을 위해 scikit-learn의 SVM() 알고리즘을 사용해서 머신러닝을 수행한다. \n",
    " - [SVM() API](http://scikit-learn.org/stable/modules/generated/sklearn.svm.SVC.html#sklearn.svm.SVC)\n",
    " - [Vector machines: Cassification](http://scikit-learn.org/stable/modules/svm.html#svm-classification)을 참조한다.\n"
   ]
  },
  {
   "cell_type": "code",
   "metadata": {
    "ExecuteTime": {
     "end_time": "2025-07-11T07:20:56.700145Z",
     "start_time": "2025-07-11T07:20:56.697576Z"
    }
   },
   "source": [
    "x = np.array([[1,1], [1,0], [0,1], [0,0]])\n",
    "y = np.array([[0], [1], [1], [0]])\n",
    "x, y"
   ],
   "outputs": [
    {
     "data": {
      "text/plain": [
       "(array([[1, 1],\n",
       "        [1, 0],\n",
       "        [0, 1],\n",
       "        [0, 0]]),\n",
       " array([[0],\n",
       "        [1],\n",
       "        [1],\n",
       "        [0]]))"
      ]
     },
     "execution_count": 46,
     "metadata": {},
     "output_type": "execute_result"
    }
   ],
   "execution_count": 46
  },
  {
   "cell_type": "markdown",
   "metadata": {},
   "source": [
    "\n",
    "\n",
    "머신러닝 객체애 fit()으로 데이터를 입력해 준다."
   ]
  },
  {
   "cell_type": "code",
   "metadata": {
    "ExecuteTime": {
     "end_time": "2025-07-11T07:20:57.156635Z",
     "start_time": "2025-07-11T07:20:56.717607Z"
    }
   },
   "source": [
    "# SVC 객체\n",
    "from sklearn import svm"
   ],
   "outputs": [],
   "execution_count": 47
  },
  {
   "metadata": {
    "ExecuteTime": {
     "end_time": "2025-07-11T07:20:57.165600Z",
     "start_time": "2025-07-11T07:20:57.164211Z"
    }
   },
   "cell_type": "code",
   "source": "clf = svm.SVC()",
   "outputs": [],
   "execution_count": 48
  },
  {
   "metadata": {
    "ExecuteTime": {
     "end_time": "2025-07-11T07:20:57.178435Z",
     "start_time": "2025-07-11T07:20:57.174322Z"
    }
   },
   "cell_type": "code",
   "source": "clf.fit(x, y)",
   "outputs": [
    {
     "name": "stderr",
     "output_type": "stream",
     "text": [
      "/Users/ihanjo/Library/Python/3.13/lib/python/site-packages/sklearn/utils/validation.py:1408: DataConversionWarning: A column-vector y was passed when a 1d array was expected. Please change the shape of y to (n_samples, ), for example using ravel().\n",
      "  y = column_or_1d(y, warn=True)\n"
     ]
    },
    {
     "data": {
      "text/plain": [
       "SVC()"
      ],
      "text/html": [
       "<style>#sk-container-id-1 {\n",
       "  /* Definition of color scheme common for light and dark mode */\n",
       "  --sklearn-color-text: #000;\n",
       "  --sklearn-color-text-muted: #666;\n",
       "  --sklearn-color-line: gray;\n",
       "  /* Definition of color scheme for unfitted estimators */\n",
       "  --sklearn-color-unfitted-level-0: #fff5e6;\n",
       "  --sklearn-color-unfitted-level-1: #f6e4d2;\n",
       "  --sklearn-color-unfitted-level-2: #ffe0b3;\n",
       "  --sklearn-color-unfitted-level-3: chocolate;\n",
       "  /* Definition of color scheme for fitted estimators */\n",
       "  --sklearn-color-fitted-level-0: #f0f8ff;\n",
       "  --sklearn-color-fitted-level-1: #d4ebff;\n",
       "  --sklearn-color-fitted-level-2: #b3dbfd;\n",
       "  --sklearn-color-fitted-level-3: cornflowerblue;\n",
       "\n",
       "  /* Specific color for light theme */\n",
       "  --sklearn-color-text-on-default-background: var(--sg-text-color, var(--theme-code-foreground, var(--jp-content-font-color1, black)));\n",
       "  --sklearn-color-background: var(--sg-background-color, var(--theme-background, var(--jp-layout-color0, white)));\n",
       "  --sklearn-color-border-box: var(--sg-text-color, var(--theme-code-foreground, var(--jp-content-font-color1, black)));\n",
       "  --sklearn-color-icon: #696969;\n",
       "\n",
       "  @media (prefers-color-scheme: dark) {\n",
       "    /* Redefinition of color scheme for dark theme */\n",
       "    --sklearn-color-text-on-default-background: var(--sg-text-color, var(--theme-code-foreground, var(--jp-content-font-color1, white)));\n",
       "    --sklearn-color-background: var(--sg-background-color, var(--theme-background, var(--jp-layout-color0, #111)));\n",
       "    --sklearn-color-border-box: var(--sg-text-color, var(--theme-code-foreground, var(--jp-content-font-color1, white)));\n",
       "    --sklearn-color-icon: #878787;\n",
       "  }\n",
       "}\n",
       "\n",
       "#sk-container-id-1 {\n",
       "  color: var(--sklearn-color-text);\n",
       "}\n",
       "\n",
       "#sk-container-id-1 pre {\n",
       "  padding: 0;\n",
       "}\n",
       "\n",
       "#sk-container-id-1 input.sk-hidden--visually {\n",
       "  border: 0;\n",
       "  clip: rect(1px 1px 1px 1px);\n",
       "  clip: rect(1px, 1px, 1px, 1px);\n",
       "  height: 1px;\n",
       "  margin: -1px;\n",
       "  overflow: hidden;\n",
       "  padding: 0;\n",
       "  position: absolute;\n",
       "  width: 1px;\n",
       "}\n",
       "\n",
       "#sk-container-id-1 div.sk-dashed-wrapped {\n",
       "  border: 1px dashed var(--sklearn-color-line);\n",
       "  margin: 0 0.4em 0.5em 0.4em;\n",
       "  box-sizing: border-box;\n",
       "  padding-bottom: 0.4em;\n",
       "  background-color: var(--sklearn-color-background);\n",
       "}\n",
       "\n",
       "#sk-container-id-1 div.sk-container {\n",
       "  /* jupyter's `normalize.less` sets `[hidden] { display: none; }`\n",
       "     but bootstrap.min.css set `[hidden] { display: none !important; }`\n",
       "     so we also need the `!important` here to be able to override the\n",
       "     default hidden behavior on the sphinx rendered scikit-learn.org.\n",
       "     See: https://github.com/scikit-learn/scikit-learn/issues/21755 */\n",
       "  display: inline-block !important;\n",
       "  position: relative;\n",
       "}\n",
       "\n",
       "#sk-container-id-1 div.sk-text-repr-fallback {\n",
       "  display: none;\n",
       "}\n",
       "\n",
       "div.sk-parallel-item,\n",
       "div.sk-serial,\n",
       "div.sk-item {\n",
       "  /* draw centered vertical line to link estimators */\n",
       "  background-image: linear-gradient(var(--sklearn-color-text-on-default-background), var(--sklearn-color-text-on-default-background));\n",
       "  background-size: 2px 100%;\n",
       "  background-repeat: no-repeat;\n",
       "  background-position: center center;\n",
       "}\n",
       "\n",
       "/* Parallel-specific style estimator block */\n",
       "\n",
       "#sk-container-id-1 div.sk-parallel-item::after {\n",
       "  content: \"\";\n",
       "  width: 100%;\n",
       "  border-bottom: 2px solid var(--sklearn-color-text-on-default-background);\n",
       "  flex-grow: 1;\n",
       "}\n",
       "\n",
       "#sk-container-id-1 div.sk-parallel {\n",
       "  display: flex;\n",
       "  align-items: stretch;\n",
       "  justify-content: center;\n",
       "  background-color: var(--sklearn-color-background);\n",
       "  position: relative;\n",
       "}\n",
       "\n",
       "#sk-container-id-1 div.sk-parallel-item {\n",
       "  display: flex;\n",
       "  flex-direction: column;\n",
       "}\n",
       "\n",
       "#sk-container-id-1 div.sk-parallel-item:first-child::after {\n",
       "  align-self: flex-end;\n",
       "  width: 50%;\n",
       "}\n",
       "\n",
       "#sk-container-id-1 div.sk-parallel-item:last-child::after {\n",
       "  align-self: flex-start;\n",
       "  width: 50%;\n",
       "}\n",
       "\n",
       "#sk-container-id-1 div.sk-parallel-item:only-child::after {\n",
       "  width: 0;\n",
       "}\n",
       "\n",
       "/* Serial-specific style estimator block */\n",
       "\n",
       "#sk-container-id-1 div.sk-serial {\n",
       "  display: flex;\n",
       "  flex-direction: column;\n",
       "  align-items: center;\n",
       "  background-color: var(--sklearn-color-background);\n",
       "  padding-right: 1em;\n",
       "  padding-left: 1em;\n",
       "}\n",
       "\n",
       "\n",
       "/* Toggleable style: style used for estimator/Pipeline/ColumnTransformer box that is\n",
       "clickable and can be expanded/collapsed.\n",
       "- Pipeline and ColumnTransformer use this feature and define the default style\n",
       "- Estimators will overwrite some part of the style using the `sk-estimator` class\n",
       "*/\n",
       "\n",
       "/* Pipeline and ColumnTransformer style (default) */\n",
       "\n",
       "#sk-container-id-1 div.sk-toggleable {\n",
       "  /* Default theme specific background. It is overwritten whether we have a\n",
       "  specific estimator or a Pipeline/ColumnTransformer */\n",
       "  background-color: var(--sklearn-color-background);\n",
       "}\n",
       "\n",
       "/* Toggleable label */\n",
       "#sk-container-id-1 label.sk-toggleable__label {\n",
       "  cursor: pointer;\n",
       "  display: flex;\n",
       "  width: 100%;\n",
       "  margin-bottom: 0;\n",
       "  padding: 0.5em;\n",
       "  box-sizing: border-box;\n",
       "  text-align: center;\n",
       "  align-items: start;\n",
       "  justify-content: space-between;\n",
       "  gap: 0.5em;\n",
       "}\n",
       "\n",
       "#sk-container-id-1 label.sk-toggleable__label .caption {\n",
       "  font-size: 0.6rem;\n",
       "  font-weight: lighter;\n",
       "  color: var(--sklearn-color-text-muted);\n",
       "}\n",
       "\n",
       "#sk-container-id-1 label.sk-toggleable__label-arrow:before {\n",
       "  /* Arrow on the left of the label */\n",
       "  content: \"▸\";\n",
       "  float: left;\n",
       "  margin-right: 0.25em;\n",
       "  color: var(--sklearn-color-icon);\n",
       "}\n",
       "\n",
       "#sk-container-id-1 label.sk-toggleable__label-arrow:hover:before {\n",
       "  color: var(--sklearn-color-text);\n",
       "}\n",
       "\n",
       "/* Toggleable content - dropdown */\n",
       "\n",
       "#sk-container-id-1 div.sk-toggleable__content {\n",
       "  max-height: 0;\n",
       "  max-width: 0;\n",
       "  overflow: hidden;\n",
       "  text-align: left;\n",
       "  /* unfitted */\n",
       "  background-color: var(--sklearn-color-unfitted-level-0);\n",
       "}\n",
       "\n",
       "#sk-container-id-1 div.sk-toggleable__content.fitted {\n",
       "  /* fitted */\n",
       "  background-color: var(--sklearn-color-fitted-level-0);\n",
       "}\n",
       "\n",
       "#sk-container-id-1 div.sk-toggleable__content pre {\n",
       "  margin: 0.2em;\n",
       "  border-radius: 0.25em;\n",
       "  color: var(--sklearn-color-text);\n",
       "  /* unfitted */\n",
       "  background-color: var(--sklearn-color-unfitted-level-0);\n",
       "}\n",
       "\n",
       "#sk-container-id-1 div.sk-toggleable__content.fitted pre {\n",
       "  /* unfitted */\n",
       "  background-color: var(--sklearn-color-fitted-level-0);\n",
       "}\n",
       "\n",
       "#sk-container-id-1 input.sk-toggleable__control:checked~div.sk-toggleable__content {\n",
       "  /* Expand drop-down */\n",
       "  max-height: 200px;\n",
       "  max-width: 100%;\n",
       "  overflow: auto;\n",
       "}\n",
       "\n",
       "#sk-container-id-1 input.sk-toggleable__control:checked~label.sk-toggleable__label-arrow:before {\n",
       "  content: \"▾\";\n",
       "}\n",
       "\n",
       "/* Pipeline/ColumnTransformer-specific style */\n",
       "\n",
       "#sk-container-id-1 div.sk-label input.sk-toggleable__control:checked~label.sk-toggleable__label {\n",
       "  color: var(--sklearn-color-text);\n",
       "  background-color: var(--sklearn-color-unfitted-level-2);\n",
       "}\n",
       "\n",
       "#sk-container-id-1 div.sk-label.fitted input.sk-toggleable__control:checked~label.sk-toggleable__label {\n",
       "  background-color: var(--sklearn-color-fitted-level-2);\n",
       "}\n",
       "\n",
       "/* Estimator-specific style */\n",
       "\n",
       "/* Colorize estimator box */\n",
       "#sk-container-id-1 div.sk-estimator input.sk-toggleable__control:checked~label.sk-toggleable__label {\n",
       "  /* unfitted */\n",
       "  background-color: var(--sklearn-color-unfitted-level-2);\n",
       "}\n",
       "\n",
       "#sk-container-id-1 div.sk-estimator.fitted input.sk-toggleable__control:checked~label.sk-toggleable__label {\n",
       "  /* fitted */\n",
       "  background-color: var(--sklearn-color-fitted-level-2);\n",
       "}\n",
       "\n",
       "#sk-container-id-1 div.sk-label label.sk-toggleable__label,\n",
       "#sk-container-id-1 div.sk-label label {\n",
       "  /* The background is the default theme color */\n",
       "  color: var(--sklearn-color-text-on-default-background);\n",
       "}\n",
       "\n",
       "/* On hover, darken the color of the background */\n",
       "#sk-container-id-1 div.sk-label:hover label.sk-toggleable__label {\n",
       "  color: var(--sklearn-color-text);\n",
       "  background-color: var(--sklearn-color-unfitted-level-2);\n",
       "}\n",
       "\n",
       "/* Label box, darken color on hover, fitted */\n",
       "#sk-container-id-1 div.sk-label.fitted:hover label.sk-toggleable__label.fitted {\n",
       "  color: var(--sklearn-color-text);\n",
       "  background-color: var(--sklearn-color-fitted-level-2);\n",
       "}\n",
       "\n",
       "/* Estimator label */\n",
       "\n",
       "#sk-container-id-1 div.sk-label label {\n",
       "  font-family: monospace;\n",
       "  font-weight: bold;\n",
       "  display: inline-block;\n",
       "  line-height: 1.2em;\n",
       "}\n",
       "\n",
       "#sk-container-id-1 div.sk-label-container {\n",
       "  text-align: center;\n",
       "}\n",
       "\n",
       "/* Estimator-specific */\n",
       "#sk-container-id-1 div.sk-estimator {\n",
       "  font-family: monospace;\n",
       "  border: 1px dotted var(--sklearn-color-border-box);\n",
       "  border-radius: 0.25em;\n",
       "  box-sizing: border-box;\n",
       "  margin-bottom: 0.5em;\n",
       "  /* unfitted */\n",
       "  background-color: var(--sklearn-color-unfitted-level-0);\n",
       "}\n",
       "\n",
       "#sk-container-id-1 div.sk-estimator.fitted {\n",
       "  /* fitted */\n",
       "  background-color: var(--sklearn-color-fitted-level-0);\n",
       "}\n",
       "\n",
       "/* on hover */\n",
       "#sk-container-id-1 div.sk-estimator:hover {\n",
       "  /* unfitted */\n",
       "  background-color: var(--sklearn-color-unfitted-level-2);\n",
       "}\n",
       "\n",
       "#sk-container-id-1 div.sk-estimator.fitted:hover {\n",
       "  /* fitted */\n",
       "  background-color: var(--sklearn-color-fitted-level-2);\n",
       "}\n",
       "\n",
       "/* Specification for estimator info (e.g. \"i\" and \"?\") */\n",
       "\n",
       "/* Common style for \"i\" and \"?\" */\n",
       "\n",
       ".sk-estimator-doc-link,\n",
       "a:link.sk-estimator-doc-link,\n",
       "a:visited.sk-estimator-doc-link {\n",
       "  float: right;\n",
       "  font-size: smaller;\n",
       "  line-height: 1em;\n",
       "  font-family: monospace;\n",
       "  background-color: var(--sklearn-color-background);\n",
       "  border-radius: 1em;\n",
       "  height: 1em;\n",
       "  width: 1em;\n",
       "  text-decoration: none !important;\n",
       "  margin-left: 0.5em;\n",
       "  text-align: center;\n",
       "  /* unfitted */\n",
       "  border: var(--sklearn-color-unfitted-level-1) 1pt solid;\n",
       "  color: var(--sklearn-color-unfitted-level-1);\n",
       "}\n",
       "\n",
       ".sk-estimator-doc-link.fitted,\n",
       "a:link.sk-estimator-doc-link.fitted,\n",
       "a:visited.sk-estimator-doc-link.fitted {\n",
       "  /* fitted */\n",
       "  border: var(--sklearn-color-fitted-level-1) 1pt solid;\n",
       "  color: var(--sklearn-color-fitted-level-1);\n",
       "}\n",
       "\n",
       "/* On hover */\n",
       "div.sk-estimator:hover .sk-estimator-doc-link:hover,\n",
       ".sk-estimator-doc-link:hover,\n",
       "div.sk-label-container:hover .sk-estimator-doc-link:hover,\n",
       ".sk-estimator-doc-link:hover {\n",
       "  /* unfitted */\n",
       "  background-color: var(--sklearn-color-unfitted-level-3);\n",
       "  color: var(--sklearn-color-background);\n",
       "  text-decoration: none;\n",
       "}\n",
       "\n",
       "div.sk-estimator.fitted:hover .sk-estimator-doc-link.fitted:hover,\n",
       ".sk-estimator-doc-link.fitted:hover,\n",
       "div.sk-label-container:hover .sk-estimator-doc-link.fitted:hover,\n",
       ".sk-estimator-doc-link.fitted:hover {\n",
       "  /* fitted */\n",
       "  background-color: var(--sklearn-color-fitted-level-3);\n",
       "  color: var(--sklearn-color-background);\n",
       "  text-decoration: none;\n",
       "}\n",
       "\n",
       "/* Span, style for the box shown on hovering the info icon */\n",
       ".sk-estimator-doc-link span {\n",
       "  display: none;\n",
       "  z-index: 9999;\n",
       "  position: relative;\n",
       "  font-weight: normal;\n",
       "  right: .2ex;\n",
       "  padding: .5ex;\n",
       "  margin: .5ex;\n",
       "  width: min-content;\n",
       "  min-width: 20ex;\n",
       "  max-width: 50ex;\n",
       "  color: var(--sklearn-color-text);\n",
       "  box-shadow: 2pt 2pt 4pt #999;\n",
       "  /* unfitted */\n",
       "  background: var(--sklearn-color-unfitted-level-0);\n",
       "  border: .5pt solid var(--sklearn-color-unfitted-level-3);\n",
       "}\n",
       "\n",
       ".sk-estimator-doc-link.fitted span {\n",
       "  /* fitted */\n",
       "  background: var(--sklearn-color-fitted-level-0);\n",
       "  border: var(--sklearn-color-fitted-level-3);\n",
       "}\n",
       "\n",
       ".sk-estimator-doc-link:hover span {\n",
       "  display: block;\n",
       "}\n",
       "\n",
       "/* \"?\"-specific style due to the `<a>` HTML tag */\n",
       "\n",
       "#sk-container-id-1 a.estimator_doc_link {\n",
       "  float: right;\n",
       "  font-size: 1rem;\n",
       "  line-height: 1em;\n",
       "  font-family: monospace;\n",
       "  background-color: var(--sklearn-color-background);\n",
       "  border-radius: 1rem;\n",
       "  height: 1rem;\n",
       "  width: 1rem;\n",
       "  text-decoration: none;\n",
       "  /* unfitted */\n",
       "  color: var(--sklearn-color-unfitted-level-1);\n",
       "  border: var(--sklearn-color-unfitted-level-1) 1pt solid;\n",
       "}\n",
       "\n",
       "#sk-container-id-1 a.estimator_doc_link.fitted {\n",
       "  /* fitted */\n",
       "  border: var(--sklearn-color-fitted-level-1) 1pt solid;\n",
       "  color: var(--sklearn-color-fitted-level-1);\n",
       "}\n",
       "\n",
       "/* On hover */\n",
       "#sk-container-id-1 a.estimator_doc_link:hover {\n",
       "  /* unfitted */\n",
       "  background-color: var(--sklearn-color-unfitted-level-3);\n",
       "  color: var(--sklearn-color-background);\n",
       "  text-decoration: none;\n",
       "}\n",
       "\n",
       "#sk-container-id-1 a.estimator_doc_link.fitted:hover {\n",
       "  /* fitted */\n",
       "  background-color: var(--sklearn-color-fitted-level-3);\n",
       "}\n",
       "</style><div id=\"sk-container-id-1\" class=\"sk-top-container\"><div class=\"sk-text-repr-fallback\"><pre>SVC()</pre><b>In a Jupyter environment, please rerun this cell to show the HTML representation or trust the notebook. <br />On GitHub, the HTML representation is unable to render, please try loading this page with nbviewer.org.</b></div><div class=\"sk-container\" hidden><div class=\"sk-item\"><div class=\"sk-estimator fitted sk-toggleable\"><input class=\"sk-toggleable__control sk-hidden--visually\" id=\"sk-estimator-id-1\" type=\"checkbox\" checked><label for=\"sk-estimator-id-1\" class=\"sk-toggleable__label fitted sk-toggleable__label-arrow\"><div><div>SVC</div></div><div><a class=\"sk-estimator-doc-link fitted\" rel=\"noreferrer\" target=\"_blank\" href=\"https://scikit-learn.org/1.6/modules/generated/sklearn.svm.SVC.html\">?<span>Documentation for SVC</span></a><span class=\"sk-estimator-doc-link fitted\">i<span>Fitted</span></span></div></label><div class=\"sk-toggleable__content fitted\"><pre>SVC()</pre></div> </div></div></div></div>"
      ]
     },
     "execution_count": 49,
     "metadata": {},
     "output_type": "execute_result"
    }
   ],
   "execution_count": 49
  },
  {
   "cell_type": "markdown",
   "metadata": {},
   "source": [
    "이제 학습의 결과를 예측해보기 위해 예측할 데이터를 전달하면 결과를 얻을 수 있다. 부가적으로 예측 결과와 해답을 맞춰 본다."
   ]
  },
  {
   "cell_type": "code",
   "metadata": {
    "ExecuteTime": {
     "end_time": "2025-07-11T07:20:57.286328Z",
     "start_time": "2025-07-11T07:20:57.284214Z"
    }
   },
   "source": [
    "pred = clf.predict(x) # 입력 데이터 예측\n",
    "print(\" 예측결과:\", pred)"
   ],
   "outputs": [
    {
     "name": "stdout",
     "output_type": "stream",
     "text": [
      " 예측결과: [0 1 1 0]\n"
     ]
    }
   ],
   "execution_count": 50
  },
  {
   "metadata": {
    "ExecuteTime": {
     "end_time": "2025-07-11T07:20:57.312671Z",
     "start_time": "2025-07-11T07:20:57.311046Z"
    }
   },
   "cell_type": "code",
   "source": "x_new = np.array([[1,0]]) # 새입력",
   "outputs": [],
   "execution_count": 51
  },
  {
   "cell_type": "code",
   "metadata": {
    "ExecuteTime": {
     "end_time": "2025-07-11T07:20:57.324065Z",
     "start_time": "2025-07-11T07:20:57.322136Z"
    }
   },
   "source": [
    "pred_new = clf.predict(x_new)\n",
    "print(\" 예측결과:\", pred_new)"
   ],
   "outputs": [
    {
     "name": "stdout",
     "output_type": "stream",
     "text": [
      " 예측결과: [1]\n"
     ]
    }
   ],
   "execution_count": 52
  },
  {
   "metadata": {
    "ExecuteTime": {
     "end_time": "2025-07-11T07:20:57.339081Z",
     "start_time": "2025-07-11T07:20:57.337516Z"
    }
   },
   "cell_type": "code",
   "source": "x_new2 = np.array([[0,0]])",
   "outputs": [],
   "execution_count": 53
  },
  {
   "cell_type": "code",
   "metadata": {
    "ExecuteTime": {
     "end_time": "2025-07-11T07:20:57.353011Z",
     "start_time": "2025-07-11T07:20:57.351048Z"
    }
   },
   "source": [
    "pred_new2 = clf.predict(x_new2)\n",
    "print(\" 예측결과:\", pred_new2)"
   ],
   "outputs": [
    {
     "name": "stdout",
     "output_type": "stream",
     "text": [
      " 예측결과: [0]\n"
     ]
    }
   ],
   "execution_count": 54
  },
  {
   "metadata": {
    "ExecuteTime": {
     "end_time": "2025-07-11T07:20:57.375860Z",
     "start_time": "2025-07-11T07:20:57.374508Z"
    }
   },
   "cell_type": "code",
   "source": "x_new3 = np.array([[1,1]])",
   "outputs": [],
   "execution_count": 55
  },
  {
   "cell_type": "code",
   "metadata": {
    "ExecuteTime": {
     "end_time": "2025-07-11T07:20:57.397461Z",
     "start_time": "2025-07-11T07:20:57.395614Z"
    }
   },
   "source": [
    "pred_new3 = clf.predict(x_new3)\n",
    "print(\" 예측결과:\", pred_new3)"
   ],
   "outputs": [
    {
     "name": "stdout",
     "output_type": "stream",
     "text": [
      " 예측결과: [0]\n"
     ]
    }
   ],
   "execution_count": 56
  }
 ],
 "metadata": {
  "kernelspec": {
   "display_name": "ML_P312",
   "language": "python",
   "name": "python3"
  },
  "language_info": {
   "codemirror_mode": {
    "name": "ipython",
    "version": 3
   },
   "file_extension": ".py",
   "mimetype": "text/x-python",
   "name": "python",
   "nbconvert_exporter": "python",
   "pygments_lexer": "ipython3",
   "version": "3.12.11"
  }
 },
 "nbformat": 4,
 "nbformat_minor": 4
}
