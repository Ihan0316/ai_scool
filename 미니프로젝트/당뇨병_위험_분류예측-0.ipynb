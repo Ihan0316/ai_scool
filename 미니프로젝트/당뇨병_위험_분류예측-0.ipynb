{
 "cells": [
  {
   "cell_type": "markdown",
   "id": "e26ee21b",
   "metadata": {},
   "source": [
    "# Pima-indian 당뇨병 데이터 예측\n",
    "\n",
    "1. 결과를 submission.csv 에 학습 라벨 병합해 제출\n",
    "1. 강사가 각 팀별 제출 submission.csv 를 accuracy 점수로 평가"
   ]
  },
  {
   "cell_type": "code",
   "id": "6070aeff-5ab7-4c5e-b0db-c640c3e2b8c7",
   "metadata": {
    "tags": [],
    "ExecuteTime": {
     "end_time": "2025-07-21T06:42:49.365956Z",
     "start_time": "2025-07-21T06:42:49.363752Z"
    }
   },
   "source": [
    "import pandas as pd\n",
    "import numpy as np\n",
    "import matplotlib.pyplot as plt\n",
    "import seaborn as sns\n",
    "from pandas import read_csv\n",
    "\n",
    "from sklearn.model_selection import train_test_split, cross_val_score, StratifiedKFold\n",
    "from sklearn.preprocessing import StandardScaler\n",
    "from sklearn.metrics import classification_report\n",
    "\n",
    "from xgboost import XGBClassifier"
   ],
   "outputs": [],
   "execution_count": 27
  },
  {
   "cell_type": "markdown",
   "id": "f688190e",
   "metadata": {},
   "source": [
    "### Data"
   ]
  },
  {
   "cell_type": "markdown",
   "id": "20a34558",
   "metadata": {},
   "source": [
    "- Pregnancies : 임신횟수\n",
    "- Glucose : 포도당 농도\n",
    "- BloodPressure : 혈압\n",
    "- SkinThickness : 피부 두께\n",
    "- Insulin : 인슐린\n",
    "- BMI : 체질량지수\n",
    "- DiabetesPedigreeFunction : 당뇨병 혈통 기능\n",
    "- Age : 나이\n",
    "- Outcome : 당뇨병 여부(0: 발병되지 않음, 1: 발병)"
   ]
  },
  {
   "cell_type": "code",
   "id": "b145e1c8-4b64-46bf-ae49-b54b828d1f23",
   "metadata": {
    "tags": [],
    "ExecuteTime": {
     "end_time": "2025-07-21T06:42:49.386751Z",
     "start_time": "2025-07-21T06:42:49.379939Z"
    }
   },
   "source": [
    "train = read_csv('data/1.diabetes_train.csv')\n",
    "test = read_csv('data/2.diabetes_test.csv')\n",
    "submission = read_csv('data/3.diabetes_submission.csv')\n",
    "\n",
    "print(train.info())\n",
    "print(test.info())"
   ],
   "outputs": [
    {
     "name": "stdout",
     "output_type": "stream",
     "text": [
      "<class 'pandas.core.frame.DataFrame'>\n",
      "RangeIndex: 652 entries, 0 to 651\n",
      "Data columns (total 10 columns):\n",
      " #   Column                    Non-Null Count  Dtype  \n",
      "---  ------                    --------------  -----  \n",
      " 0   Patient_ID                652 non-null    object \n",
      " 1   Pregnancies               652 non-null    int64  \n",
      " 2   Glucose                   652 non-null    int64  \n",
      " 3   BloodPressure             652 non-null    int64  \n",
      " 4   SkinThickness             652 non-null    int64  \n",
      " 5   Insulin                   652 non-null    int64  \n",
      " 6   BMI                       652 non-null    float64\n",
      " 7   DiabetesPedigreeFunction  652 non-null    float64\n",
      " 8   Age                       652 non-null    int64  \n",
      " 9   Outcome                   652 non-null    int64  \n",
      "dtypes: float64(2), int64(7), object(1)\n",
      "memory usage: 51.1+ KB\n",
      "None\n",
      "<class 'pandas.core.frame.DataFrame'>\n",
      "RangeIndex: 116 entries, 0 to 115\n",
      "Data columns (total 9 columns):\n",
      " #   Column                    Non-Null Count  Dtype  \n",
      "---  ------                    --------------  -----  \n",
      " 0   Patient_ID                116 non-null    object \n",
      " 1   Pregnancies               116 non-null    int64  \n",
      " 2   Glucose                   116 non-null    int64  \n",
      " 3   BloodPressure             116 non-null    int64  \n",
      " 4   SkinThickness             116 non-null    int64  \n",
      " 5   Insulin                   116 non-null    int64  \n",
      " 6   BMI                       116 non-null    float64\n",
      " 7   DiabetesPedigreeFunction  116 non-null    float64\n",
      " 8   Age                       116 non-null    int64  \n",
      "dtypes: float64(2), int64(6), object(1)\n",
      "memory usage: 8.3+ KB\n",
      "None\n"
     ]
    }
   ],
   "execution_count": 28
  },
  {
   "metadata": {
    "ExecuteTime": {
     "end_time": "2025-07-21T06:42:49.402801Z",
     "start_time": "2025-07-21T06:42:49.400129Z"
    }
   },
   "cell_type": "code",
   "source": "train.isnull().sum()",
   "id": "58c798760c13bf1c",
   "outputs": [
    {
     "data": {
      "text/plain": [
       "Patient_ID                  0\n",
       "Pregnancies                 0\n",
       "Glucose                     0\n",
       "BloodPressure               0\n",
       "SkinThickness               0\n",
       "Insulin                     0\n",
       "BMI                         0\n",
       "DiabetesPedigreeFunction    0\n",
       "Age                         0\n",
       "Outcome                     0\n",
       "dtype: int64"
      ]
     },
     "execution_count": 29,
     "metadata": {},
     "output_type": "execute_result"
    }
   ],
   "execution_count": 29
  },
  {
   "cell_type": "code",
   "id": "4353e450-4ea8-46e5-9304-3ec16c3aaa35",
   "metadata": {
    "tags": [],
    "ExecuteTime": {
     "end_time": "2025-07-21T06:42:49.525042Z",
     "start_time": "2025-07-21T06:42:49.431585Z"
    }
   },
   "source": [
    "# isnull().sum()으로 확인했을 때 결측치가 없었으나 0으로 처리된 것들이 있었으므로,\n",
    "# 0을 결측치로 간주하고 확인\n",
    "train_zero = train.replace(0, np.nan)\n",
    "\n",
    "# 히트맵 시각화\n",
    "plt.figure(figsize=(10, 6))\n",
    "sns.heatmap(train_zero.isnull())\n",
    "# plt.show(train_zero)"
   ],
   "outputs": [
    {
     "data": {
      "text/plain": [
       "<Axes: >"
      ]
     },
     "execution_count": 30,
     "metadata": {},
     "output_type": "execute_result"
    },
    {
     "data": {
      "text/plain": [
       "<Figure size 1000x600 with 2 Axes>"
      ],
      "image/png": "[encoded data removed]"
     },
     "metadata": {},
     "output_type": "display_data"
    }
   ],
   "execution_count": 30
  },
  {
   "cell_type": "code",
   "id": "1d689462",
   "metadata": {
    "ExecuteTime": {
     "end_time": "2025-07-21T06:42:49.553033Z",
     "start_time": "2025-07-21T06:42:49.550214Z"
    }
   },
   "source": [
    "train_zero.isna().sum()"
   ],
   "outputs": [
    {
     "data": {
      "text/plain": [
       "Patient_ID                    0\n",
       "Pregnancies                  93\n",
       "Glucose                       4\n",
       "BloodPressure                33\n",
       "SkinThickness               193\n",
       "Insulin                     316\n",
       "BMI                          11\n",
       "DiabetesPedigreeFunction      0\n",
       "Age                           0\n",
       "Outcome                     423\n",
       "dtype: int64"
      ]
     },
     "execution_count": 31,
     "metadata": {},
     "output_type": "execute_result"
    }
   ],
   "execution_count": 31
  },
  {
   "cell_type": "code",
   "id": "e09b480b-e362-4979-a389-f474803c3db7",
   "metadata": {
    "tags": [],
    "ExecuteTime": {
     "end_time": "2025-07-21T06:42:49.598082Z",
     "start_time": "2025-07-21T06:42:49.596570Z"
    }
   },
   "source": [
    "# Pregnancies와 Outcome은 0이 결측치가 아니므로 무시.\n",
    "# Glucose, BloodPressure, SkinThickness, Insulin, BMI만 처리해주면 될 듯 하다."
   ],
   "outputs": [],
   "execution_count": 32
  },
  {
   "cell_type": "code",
   "id": "d23cb154-4f36-49ae-b318-8e552a05c126",
   "metadata": {
    "tags": [],
    "ExecuteTime": {
     "end_time": "2025-07-21T06:42:49.773143Z",
     "start_time": "2025-07-21T06:42:49.647464Z"
    }
   },
   "source": [
    "# 박스플롯을 이용한 이상치 확인\n",
    "plt.figure(figsize=(15, 10))\n",
    "\n",
    "for i, column in enumerate(['Glucose', 'BloodPressure', 'SkinThickness', 'Insulin', 'BMI']):\n",
    "    plt.subplot(2, 3, i+1)\n",
    "    sns.boxplot(x=train[column])\n",
    "    plt.title(f'{column} Box Plot')\n",
    "\n",
    "plt.tight_layout()\n",
    "plt.show()"
   ],
   "outputs": [
    {
     "data": {
      "text/plain": [
       "<Figure size 1500x1000 with 5 Axes>"
      ],
      "image/png": "[encoded data removed]"
     },
     "metadata": {},
     "output_type": "display_data"
    }
   ],
   "execution_count": 33
  },
  {
   "cell_type": "code",
   "id": "46f81e3d-e7bd-4769-a2bb-72bdf4ac244d",
   "metadata": {
    "tags": [],
    "ExecuteTime": {
     "end_time": "2025-07-21T06:42:49.804624Z",
     "start_time": "2025-07-21T06:42:49.798691Z"
    }
   },
   "source": [
    "# Glucose, BloodPressure, SkinThickness, Insulin, BMI에 이상치도 존재한다.\n",
    "\n",
    "# 공복일 때 인슐린 수치가 0일 수도 있다는 정보를 찾아, 인슐린은 0을 결측치로 처리하면 안될듯.\n",
    "# 300부터 이상치로 잡히는데, 당뇨 환자의 경우 600까지도 잡히므로 수치가 많이 잡히는 500까지는 이상치로 처리하면 안될듯.\n",
    "insulin = train['Insulin'].median()\n",
    "train.loc[train['Insulin'] >= 500, 'Insulin'] = insulin\n",
    "test.loc[test['Insulin'] >= 500, 'Insulin'] = insulin\n",
    "\n",
    "# BMI는 50 이상이려면 170cm에 150kg이상이여야한다.\n",
    "# 실제 데이터일 수 있지만 예외적 케이스이므로 이상치 처리해주는게 맞을듯.\n",
    "bmi = train['BMI'].median()\n",
    "train.loc[(train['BMI'] == 0) | (train['BMI'] >= 50), 'BMI'] = bmi\n",
    "test.loc[(test['BMI'] == 0) | (test['BMI'] >= 50), 'BMI'] = bmi\n",
    "\n",
    "# BloodPressure은 저혈압, 고혈압이 이상치로 잡힌 듯 하다.\n",
    "# 당뇨에 영향이 있을 수 있으므로 0만 이상치라고 판단.\n",
    "bloodpressure = train['BloodPressure'].median()\n",
    "train.loc[train['BloodPressure'] == 0, 'BloodPressure'] = bloodpressure\n",
    "test.loc[test['BloodPressure'] == 0, 'BloodPressure'] = bloodpressure\n",
    "\n",
    "# Glucose는... 0일수가 있나? 값도 적고 Outcome도 달라서 이상치로 간주\n",
    "glucose = train['Glucose'].median()\n",
    "train.loc[train['Glucose'] == 0, 'Glucose'] = glucose\n",
    "test.loc[test['Glucose'] == 0, 'Glucose'] = glucose\n"
   ],
   "outputs": [
    {
     "name": "stderr",
     "output_type": "stream",
     "text": [
      "/var/folders/x_/xf7w4xhx6kl03__yxdgdfl9m0000gn/T/ipykernel_77458/831496475.py:6: FutureWarning: Setting an item of incompatible dtype is deprecated and will raise an error in a future version of pandas. Value '30.5' has dtype incompatible with int64, please explicitly cast to a compatible dtype first.\n",
      "  train.loc[train['Insulin'] >= 500, 'Insulin'] = insulin\n",
      "/var/folders/x_/xf7w4xhx6kl03__yxdgdfl9m0000gn/T/ipykernel_77458/831496475.py:7: FutureWarning: Setting an item of incompatible dtype is deprecated and will raise an error in a future version of pandas. Value '30.5' has dtype incompatible with int64, please explicitly cast to a compatible dtype first.\n",
      "  test.loc[test['Insulin'] >= 500, 'Insulin'] = insulin\n"
     ]
    }
   ],
   "execution_count": 34
  },
  {
   "cell_type": "code",
   "id": "440c3062-b187-4ea0-9119-2bb90d2ef0f2",
   "metadata": {
    "tags": [],
    "ExecuteTime": {
     "end_time": "2025-07-21T06:42:49.826680Z",
     "start_time": "2025-07-21T06:42:49.822604Z"
    }
   },
   "source": [
    "# SkinThickness가 90이상인 이상치가 99로 되어있다.\n",
    "# 대충 직감으로 9의 오타라고 생각하고 9로 바꿔주자.\n",
    "skin90 = train[train['SkinThickness'] >= 90]\n",
    "skin90"
   ],
   "outputs": [
    {
     "data": {
      "text/plain": [
       "      Patient_ID  Pregnancies  Glucose  BloodPressure  SkinThickness  Insulin  \\\n",
       "435  Patient_580            2      197             70             99      0.0   \n",
       "\n",
       "      BMI  DiabetesPedigreeFunction  Age  Outcome  \n",
       "435  34.7                     0.575   62        1  "
      ],
      "text/html": [
       "<div>\n",
       "<style scoped>\n",
       "    .dataframe tbody tr th:only-of-type {\n",
       "        vertical-align: middle;\n",
       "    }\n",
       "\n",
       "    .dataframe tbody tr th {\n",
       "        vertical-align: top;\n",
       "    }\n",
       "\n",
       "    .dataframe thead th {\n",
       "        text-align: right;\n",
       "    }\n",
       "</style>\n",
       "<table border=\"1\" class=\"dataframe\">\n",
       "  <thead>\n",
       "    <tr style=\"text-align: right;\">\n",
       "      <th></th>\n",
       "      <th>Patient_ID</th>\n",
       "      <th>Pregnancies</th>\n",
       "      <th>Glucose</th>\n",
       "      <th>BloodPressure</th>\n",
       "      <th>SkinThickness</th>\n",
       "      <th>Insulin</th>\n",
       "      <th>BMI</th>\n",
       "      <th>DiabetesPedigreeFunction</th>\n",
       "      <th>Age</th>\n",
       "      <th>Outcome</th>\n",
       "    </tr>\n",
       "  </thead>\n",
       "  <tbody>\n",
       "    <tr>\n",
       "      <th>435</th>\n",
       "      <td>Patient_580</td>\n",
       "      <td>2</td>\n",
       "      <td>197</td>\n",
       "      <td>70</td>\n",
       "      <td>99</td>\n",
       "      <td>0.0</td>\n",
       "      <td>34.7</td>\n",
       "      <td>0.575</td>\n",
       "      <td>62</td>\n",
       "      <td>1</td>\n",
       "    </tr>\n",
       "  </tbody>\n",
       "</table>\n",
       "</div>"
      ]
     },
     "execution_count": 35,
     "metadata": {},
     "output_type": "execute_result"
    }
   ],
   "execution_count": 35
  },
  {
   "cell_type": "code",
   "id": "f976707a-a038-4f97-a1d3-8b8aefe22c5f",
   "metadata": {
    "tags": [],
    "ExecuteTime": {
     "end_time": "2025-07-21T06:42:49.860410Z",
     "start_time": "2025-07-21T06:42:49.857674Z"
    }
   },
   "source": [
    "train.loc[train['SkinThickness'] >= 99, 'SkinThickness'] = 0\n",
    "test.loc[test['SkinThickness'] >= 99, 'SkinThickness'] = 0\n",
    "\n",
    "skin90 = train[train['SkinThickness'] >= 90]\n",
    "print (skin90) #잘 처리됐음"
   ],
   "outputs": [
    {
     "name": "stdout",
     "output_type": "stream",
     "text": [
      "Empty DataFrame\n",
      "Columns: [Patient_ID, Pregnancies, Glucose, BloodPressure, SkinThickness, Insulin, BMI, DiabetesPedigreeFunction, Age, Outcome]\n",
      "Index: []\n"
     ]
    }
   ],
   "execution_count": 36
  },
  {
   "cell_type": "code",
   "id": "73a3fa8b-e83d-4a28-b8f6-65bc8afb3e57",
   "metadata": {
    "tags": [],
    "ExecuteTime": {
     "end_time": "2025-07-21T06:42:50.027336Z",
     "start_time": "2025-07-21T06:42:49.886807Z"
    }
   },
   "source": [
    "# 다시 확인. 만약 결과가 이상하면 그 때 이상치를 다 없애는걸로...\n",
    "# + 4차 : 이상치를 모두 제거해봤는데 점수가 더 낮아진다. 이걸로 유지.\n",
    "\n",
    "plt.figure(figsize=(15, 10))\n",
    "\n",
    "for i, column in enumerate(['Glucose', 'BloodPressure', 'SkinThickness', 'Insulin', 'BMI']):\n",
    "    plt.subplot(2, 3, i+1)\n",
    "    sns.boxplot(x=train[column])\n",
    "    plt.title(f'{column} Box Plot')\n",
    "\n",
    "plt.tight_layout()\n",
    "plt.show()"
   ],
   "outputs": [
    {
     "data": {
      "text/plain": [
       "<Figure size 1500x1000 with 5 Axes>"
      ],
      "image/png": "[encoded data removed]"
     },
     "metadata": {},
     "output_type": "display_data"
    }
   ],
   "execution_count": 37
  },
  {
   "cell_type": "code",
   "id": "739e5559-9404-465b-b629-374898a8d6d3",
   "metadata": {
    "tags": [],
    "ExecuteTime": {
     "end_time": "2025-07-21T06:42:50.043199Z",
     "start_time": "2025-07-21T06:42:50.039475Z"
    }
   },
   "source": [
    "# feature와 target 분리\n",
    "X = train.drop(['Patient_ID','Outcome'], axis=1)\n",
    "y = train['Outcome']\n",
    "X_test = test.drop(['Patient_ID'], axis=1) # no label, only prediction용"
   ],
   "outputs": [],
   "execution_count": 38
  },
  {
   "cell_type": "code",
   "id": "bdb73b46-75d6-4dca-8572-92a5d5c64d48",
   "metadata": {
    "tags": [],
    "ExecuteTime": {
     "end_time": "2025-07-21T06:42:50.070650Z",
     "start_time": "2025-07-21T06:42:50.068192Z"
    }
   },
   "source": [
    "# 데이터 분할\n",
    "\n",
    "X_train, X_val, y_train, y_val = train_test_split(X, y, test_size=0.3, random_state=50)"
   ],
   "outputs": [],
   "execution_count": 39
  },
  {
   "cell_type": "code",
   "id": "43bdf79d-42df-457a-af17-3621ccd19473",
   "metadata": {
    "tags": [],
    "ExecuteTime": {
     "end_time": "2025-07-21T06:42:50.088189Z",
     "start_time": "2025-07-21T06:42:50.083511Z"
    }
   },
   "source": [
    "# 스케일러\n",
    "scaler = StandardScaler()\n",
    "X_train_scaled = scaler.fit_transform(X_train)\n",
    "X_val_scaled = scaler.fit_transform(X_val)\n",
    "X_test_scaled = scaler.transform(X_test)"
   ],
   "outputs": [],
   "execution_count": 40
  },
  {
   "cell_type": "code",
   "id": "40defd7a-3dd0-4b95-96d1-5842fac27322",
   "metadata": {
    "tags": [],
    "ExecuteTime": {
     "end_time": "2025-07-21T06:42:50.103045Z",
     "start_time": "2025-07-21T06:42:50.101201Z"
    }
   },
   "source": [
    "# xgboost 학습\n",
    "xgb_clf = XGBClassifier(max_depth=3, random_state=50)"
   ],
   "outputs": [],
   "execution_count": 41
  },
  {
   "cell_type": "code",
   "id": "4c0dc42a-de34-4123-88b0-2d75f465287d",
   "metadata": {
    "ExecuteTime": {
     "end_time": "2025-07-21T06:42:50.778442Z",
     "start_time": "2025-07-21T06:42:50.120712Z"
    }
   },
   "source": [
    "# 5-Fold CV\n",
    "kfold = StratifiedKFold(n_splits=5, shuffle=True, random_state=42)\n",
    "cross_val_scores = cross_val_score(xgb_clf, X_train_scaled, y_train, cv=kfold, scoring='accuracy')\n",
    "print(\"Cross-validation scores:\", cross_val_scores)\n",
    "print(\"Mean cross-validation :\", np.mean(cross_val_scores))\n",
    "\n",
    "xgb_clf.fit(X_train_scaled, y_train)\n"
   ],
   "outputs": [
    {
     "name": "stdout",
     "output_type": "stream",
     "text": [
      "Cross-validation scores: [0.81521739 0.65934066 0.76923077 0.79120879 0.73626374]\n",
      "Mean cross-validation : 0.7542522694696607\n"
     ]
    },
    {
     "data": {
      "text/plain": [
       "XGBClassifier(base_score=None, booster=None, callbacks=None,\n",
       "              colsample_bylevel=None, colsample_bynode=None,\n",
       "              colsample_bytree=None, device=None, early_stopping_rounds=None,\n",
       "              enable_categorical=False, eval_metric=None, feature_types=None,\n",
       "              feature_weights=None, gamma=None, grow_policy=None,\n",
       "              importance_type=None, interaction_constraints=None,\n",
       "              learning_rate=None, max_bin=None, max_cat_threshold=None,\n",
       "              max_cat_to_onehot=None, max_delta_step=None, max_depth=3,\n",
       "              max_leaves=None, min_child_weight=None, missing=nan,\n",
       "              monotone_constraints=None, multi_strategy=None, n_estimators=None,\n",
       "              n_jobs=None, num_parallel_tree=None, ...)"
      ],
      "text/html": [
       "<style>#sk-container-id-2 {\n",
       "  /* Definition of color scheme common for light and dark mode */\n",
       "  --sklearn-color-text: #000;\n",
       "  --sklearn-color-text-muted: #666;\n",
       "  --sklearn-color-line: gray;\n",
       "  /* Definition of color scheme for unfitted estimators */\n",
       "  --sklearn-color-unfitted-level-0: #fff5e6;\n",
       "  --sklearn-color-unfitted-level-1: #f6e4d2;\n",
       "  --sklearn-color-unfitted-level-2: #ffe0b3;\n",
       "  --sklearn-color-unfitted-level-3: chocolate;\n",
       "  /* Definition of color scheme for fitted estimators */\n",
       "  --sklearn-color-fitted-level-0: #f0f8ff;\n",
       "  --sklearn-color-fitted-level-1: #d4ebff;\n",
       "  --sklearn-color-fitted-level-2: #b3dbfd;\n",
       "  --sklearn-color-fitted-level-3: cornflowerblue;\n",
       "\n",
       "  /* Specific color for light theme */\n",
       "  --sklearn-color-text-on-default-background: var(--sg-text-color, var(--theme-code-foreground, var(--jp-content-font-color1, black)));\n",
       "  --sklearn-color-background: var(--sg-background-color, var(--theme-background, var(--jp-layout-color0, white)));\n",
       "  --sklearn-color-border-box: var(--sg-text-color, var(--theme-code-foreground, var(--jp-content-font-color1, black)));\n",
       "  --sklearn-color-icon: #696969;\n",
       "\n",
       "  @media (prefers-color-scheme: dark) {\n",
       "    /* Redefinition of color scheme for dark theme */\n",
       "    --sklearn-color-text-on-default-background: var(--sg-text-color, var(--theme-code-foreground, var(--jp-content-font-color1, white)));\n",
       "    --sklearn-color-background: var(--sg-background-color, var(--theme-background, var(--jp-layout-color0, #111)));\n",
       "    --sklearn-color-border-box: var(--sg-text-color, var(--theme-code-foreground, var(--jp-content-font-color1, white)));\n",
       "    --sklearn-color-icon: #878787;\n",
       "  }\n",
       "}\n",
       "\n",
       "#sk-container-id-2 {\n",
       "  color: var(--sklearn-color-text);\n",
       "}\n",
       "\n",
       "#sk-container-id-2 pre {\n",
       "  padding: 0;\n",
       "}\n",
       "\n",
       "#sk-container-id-2 input.sk-hidden--visually {\n",
       "  border: 0;\n",
       "  clip: rect(1px 1px 1px 1px);\n",
       "  clip: rect(1px, 1px, 1px, 1px);\n",
       "  height: 1px;\n",
       "  margin: -1px;\n",
       "  overflow: hidden;\n",
       "  padding: 0;\n",
       "  position: absolute;\n",
       "  width: 1px;\n",
       "}\n",
       "\n",
       "#sk-container-id-2 div.sk-dashed-wrapped {\n",
       "  border: 1px dashed var(--sklearn-color-line);\n",
       "  margin: 0 0.4em 0.5em 0.4em;\n",
       "  box-sizing: border-box;\n",
       "  padding-bottom: 0.4em;\n",
       "  background-color: var(--sklearn-color-background);\n",
       "}\n",
       "\n",
       "#sk-container-id-2 div.sk-container {\n",
       "  /* jupyter's `normalize.less` sets `[hidden] { display: none; }`\n",
       "     but bootstrap.min.css set `[hidden] { display: none !important; }`\n",
       "     so we also need the `!important` here to be able to override the\n",
       "     default hidden behavior on the sphinx rendered scikit-learn.org.\n",
       "     See: https://github.com/scikit-learn/scikit-learn/issues/21755 */\n",
       "  display: inline-block !important;\n",
       "  position: relative;\n",
       "}\n",
       "\n",
       "#sk-container-id-2 div.sk-text-repr-fallback {\n",
       "  display: none;\n",
       "}\n",
       "\n",
       "div.sk-parallel-item,\n",
       "div.sk-serial,\n",
       "div.sk-item {\n",
       "  /* draw centered vertical line to link estimators */\n",
       "  background-image: linear-gradient(var(--sklearn-color-text-on-default-background), var(--sklearn-color-text-on-default-background));\n",
       "  background-size: 2px 100%;\n",
       "  background-repeat: no-repeat;\n",
       "  background-position: center center;\n",
       "}\n",
       "\n",
       "/* Parallel-specific style estimator block */\n",
       "\n",
       "#sk-container-id-2 div.sk-parallel-item::after {\n",
       "  content: \"\";\n",
       "  width: 100%;\n",
       "  border-bottom: 2px solid var(--sklearn-color-text-on-default-background);\n",
       "  flex-grow: 1;\n",
       "}\n",
       "\n",
       "#sk-container-id-2 div.sk-parallel {\n",
       "  display: flex;\n",
       "  align-items: stretch;\n",
       "  justify-content: center;\n",
       "  background-color: var(--sklearn-color-background);\n",
       "  position: relative;\n",
       "}\n",
       "\n",
       "#sk-container-id-2 div.sk-parallel-item {\n",
       "  display: flex;\n",
       "  flex-direction: column;\n",
       "}\n",
       "\n",
       "#sk-container-id-2 div.sk-parallel-item:first-child::after {\n",
       "  align-self: flex-end;\n",
       "  width: 50%;\n",
       "}\n",
       "\n",
       "#sk-container-id-2 div.sk-parallel-item:last-child::after {\n",
       "  align-self: flex-start;\n",
       "  width: 50%;\n",
       "}\n",
       "\n",
       "#sk-container-id-2 div.sk-parallel-item:only-child::after {\n",
       "  width: 0;\n",
       "}\n",
       "\n",
       "/* Serial-specific style estimator block */\n",
       "\n",
       "#sk-container-id-2 div.sk-serial {\n",
       "  display: flex;\n",
       "  flex-direction: column;\n",
       "  align-items: center;\n",
       "  background-color: var(--sklearn-color-background);\n",
       "  padding-right: 1em;\n",
       "  padding-left: 1em;\n",
       "}\n",
       "\n",
       "\n",
       "/* Toggleable style: style used for estimator/Pipeline/ColumnTransformer box that is\n",
       "clickable and can be expanded/collapsed.\n",
       "- Pipeline and ColumnTransformer use this feature and define the default style\n",
       "- Estimators will overwrite some part of the style using the `sk-estimator` class\n",
       "*/\n",
       "\n",
       "/* Pipeline and ColumnTransformer style (default) */\n",
       "\n",
       "#sk-container-id-2 div.sk-toggleable {\n",
       "  /* Default theme specific background. It is overwritten whether we have a\n",
       "  specific estimator or a Pipeline/ColumnTransformer */\n",
       "  background-color: var(--sklearn-color-background);\n",
       "}\n",
       "\n",
       "/* Toggleable label */\n",
       "#sk-container-id-2 label.sk-toggleable__label {\n",
       "  cursor: pointer;\n",
       "  display: flex;\n",
       "  width: 100%;\n",
       "  margin-bottom: 0;\n",
       "  padding: 0.5em;\n",
       "  box-sizing: border-box;\n",
       "  text-align: center;\n",
       "  align-items: start;\n",
       "  justify-content: space-between;\n",
       "  gap: 0.5em;\n",
       "}\n",
       "\n",
       "#sk-container-id-2 label.sk-toggleable__label .caption {\n",
       "  font-size: 0.6rem;\n",
       "  font-weight: lighter;\n",
       "  color: var(--sklearn-color-text-muted);\n",
       "}\n",
       "\n",
       "#sk-container-id-2 label.sk-toggleable__label-arrow:before {\n",
       "  /* Arrow on the left of the label */\n",
       "  content: \"▸\";\n",
       "  float: left;\n",
       "  margin-right: 0.25em;\n",
       "  color: var(--sklearn-color-icon);\n",
       "}\n",
       "\n",
       "#sk-container-id-2 label.sk-toggleable__label-arrow:hover:before {\n",
       "  color: var(--sklearn-color-text);\n",
       "}\n",
       "\n",
       "/* Toggleable content - dropdown */\n",
       "\n",
       "#sk-container-id-2 div.sk-toggleable__content {\n",
       "  max-height: 0;\n",
       "  max-width: 0;\n",
       "  overflow: hidden;\n",
       "  text-align: left;\n",
       "  /* unfitted */\n",
       "  background-color: var(--sklearn-color-unfitted-level-0);\n",
       "}\n",
       "\n",
       "#sk-container-id-2 div.sk-toggleable__content.fitted {\n",
       "  /* fitted */\n",
       "  background-color: var(--sklearn-color-fitted-level-0);\n",
       "}\n",
       "\n",
       "#sk-container-id-2 div.sk-toggleable__content pre {\n",
       "  margin: 0.2em;\n",
       "  border-radius: 0.25em;\n",
       "  color: var(--sklearn-color-text);\n",
       "  /* unfitted */\n",
       "  background-color: var(--sklearn-color-unfitted-level-0);\n",
       "}\n",
       "\n",
       "#sk-container-id-2 div.sk-toggleable__content.fitted pre {\n",
       "  /* unfitted */\n",
       "  background-color: var(--sklearn-color-fitted-level-0);\n",
       "}\n",
       "\n",
       "#sk-container-id-2 input.sk-toggleable__control:checked~div.sk-toggleable__content {\n",
       "  /* Expand drop-down */\n",
       "  max-height: 200px;\n",
       "  max-width: 100%;\n",
       "  overflow: auto;\n",
       "}\n",
       "\n",
       "#sk-container-id-2 input.sk-toggleable__control:checked~label.sk-toggleable__label-arrow:before {\n",
       "  content: \"▾\";\n",
       "}\n",
       "\n",
       "/* Pipeline/ColumnTransformer-specific style */\n",
       "\n",
       "#sk-container-id-2 div.sk-label input.sk-toggleable__control:checked~label.sk-toggleable__label {\n",
       "  color: var(--sklearn-color-text);\n",
       "  background-color: var(--sklearn-color-unfitted-level-2);\n",
       "}\n",
       "\n",
       "#sk-container-id-2 div.sk-label.fitted input.sk-toggleable__control:checked~label.sk-toggleable__label {\n",
       "  background-color: var(--sklearn-color-fitted-level-2);\n",
       "}\n",
       "\n",
       "/* Estimator-specific style */\n",
       "\n",
       "/* Colorize estimator box */\n",
       "#sk-container-id-2 div.sk-estimator input.sk-toggleable__control:checked~label.sk-toggleable__label {\n",
       "  /* unfitted */\n",
       "  background-color: var(--sklearn-color-unfitted-level-2);\n",
       "}\n",
       "\n",
       "#sk-container-id-2 div.sk-estimator.fitted input.sk-toggleable__control:checked~label.sk-toggleable__label {\n",
       "  /* fitted */\n",
       "  background-color: var(--sklearn-color-fitted-level-2);\n",
       "}\n",
       "\n",
       "#sk-container-id-2 div.sk-label label.sk-toggleable__label,\n",
       "#sk-container-id-2 div.sk-label label {\n",
       "  /* The background is the default theme color */\n",
       "  color: var(--sklearn-color-text-on-default-background);\n",
       "}\n",
       "\n",
       "/* On hover, darken the color of the background */\n",
       "#sk-container-id-2 div.sk-label:hover label.sk-toggleable__label {\n",
       "  color: var(--sklearn-color-text);\n",
       "  background-color: var(--sklearn-color-unfitted-level-2);\n",
       "}\n",
       "\n",
       "/* Label box, darken color on hover, fitted */\n",
       "#sk-container-id-2 div.sk-label.fitted:hover label.sk-toggleable__label.fitted {\n",
       "  color: var(--sklearn-color-text);\n",
       "  background-color: var(--sklearn-color-fitted-level-2);\n",
       "}\n",
       "\n",
       "/* Estimator label */\n",
       "\n",
       "#sk-container-id-2 div.sk-label label {\n",
       "  font-family: monospace;\n",
       "  font-weight: bold;\n",
       "  display: inline-block;\n",
       "  line-height: 1.2em;\n",
       "}\n",
       "\n",
       "#sk-container-id-2 div.sk-label-container {\n",
       "  text-align: center;\n",
       "}\n",
       "\n",
       "/* Estimator-specific */\n",
       "#sk-container-id-2 div.sk-estimator {\n",
       "  font-family: monospace;\n",
       "  border: 1px dotted var(--sklearn-color-border-box);\n",
       "  border-radius: 0.25em;\n",
       "  box-sizing: border-box;\n",
       "  margin-bottom: 0.5em;\n",
       "  /* unfitted */\n",
       "  background-color: var(--sklearn-color-unfitted-level-0);\n",
       "}\n",
       "\n",
       "#sk-container-id-2 div.sk-estimator.fitted {\n",
       "  /* fitted */\n",
       "  background-color: var(--sklearn-color-fitted-level-0);\n",
       "}\n",
       "\n",
       "/* on hover */\n",
       "#sk-container-id-2 div.sk-estimator:hover {\n",
       "  /* unfitted */\n",
       "  background-color: var(--sklearn-color-unfitted-level-2);\n",
       "}\n",
       "\n",
       "#sk-container-id-2 div.sk-estimator.fitted:hover {\n",
       "  /* fitted */\n",
       "  background-color: var(--sklearn-color-fitted-level-2);\n",
       "}\n",
       "\n",
       "/* Specification for estimator info (e.g. \"i\" and \"?\") */\n",
       "\n",
       "/* Common style for \"i\" and \"?\" */\n",
       "\n",
       ".sk-estimator-doc-link,\n",
       "a:link.sk-estimator-doc-link,\n",
       "a:visited.sk-estimator-doc-link {\n",
       "  float: right;\n",
       "  font-size: smaller;\n",
       "  line-height: 1em;\n",
       "  font-family: monospace;\n",
       "  background-color: var(--sklearn-color-background);\n",
       "  border-radius: 1em;\n",
       "  height: 1em;\n",
       "  width: 1em;\n",
       "  text-decoration: none !important;\n",
       "  margin-left: 0.5em;\n",
       "  text-align: center;\n",
       "  /* unfitted */\n",
       "  border: var(--sklearn-color-unfitted-level-1) 1pt solid;\n",
       "  color: var(--sklearn-color-unfitted-level-1);\n",
       "}\n",
       "\n",
       ".sk-estimator-doc-link.fitted,\n",
       "a:link.sk-estimator-doc-link.fitted,\n",
       "a:visited.sk-estimator-doc-link.fitted {\n",
       "  /* fitted */\n",
       "  border: var(--sklearn-color-fitted-level-1) 1pt solid;\n",
       "  color: var(--sklearn-color-fitted-level-1);\n",
       "}\n",
       "\n",
       "/* On hover */\n",
       "div.sk-estimator:hover .sk-estimator-doc-link:hover,\n",
       ".sk-estimator-doc-link:hover,\n",
       "div.sk-label-container:hover .sk-estimator-doc-link:hover,\n",
       ".sk-estimator-doc-link:hover {\n",
       "  /* unfitted */\n",
       "  background-color: var(--sklearn-color-unfitted-level-3);\n",
       "  color: var(--sklearn-color-background);\n",
       "  text-decoration: none;\n",
       "}\n",
       "\n",
       "div.sk-estimator.fitted:hover .sk-estimator-doc-link.fitted:hover,\n",
       ".sk-estimator-doc-link.fitted:hover,\n",
       "div.sk-label-container:hover .sk-estimator-doc-link.fitted:hover,\n",
       ".sk-estimator-doc-link.fitted:hover {\n",
       "  /* fitted */\n",
       "  background-color: var(--sklearn-color-fitted-level-3);\n",
       "  color: var(--sklearn-color-background);\n",
       "  text-decoration: none;\n",
       "}\n",
       "\n",
       "/* Span, style for the box shown on hovering the info icon */\n",
       ".sk-estimator-doc-link span {\n",
       "  display: none;\n",
       "  z-index: 9999;\n",
       "  position: relative;\n",
       "  font-weight: normal;\n",
       "  right: .2ex;\n",
       "  padding: .5ex;\n",
       "  margin: .5ex;\n",
       "  width: min-content;\n",
       "  min-width: 20ex;\n",
       "  max-width: 50ex;\n",
       "  color: var(--sklearn-color-text);\n",
       "  box-shadow: 2pt 2pt 4pt #999;\n",
       "  /* unfitted */\n",
       "  background: var(--sklearn-color-unfitted-level-0);\n",
       "  border: .5pt solid var(--sklearn-color-unfitted-level-3);\n",
       "}\n",
       "\n",
       ".sk-estimator-doc-link.fitted span {\n",
       "  /* fitted */\n",
       "  background: var(--sklearn-color-fitted-level-0);\n",
       "  border: var(--sklearn-color-fitted-level-3);\n",
       "}\n",
       "\n",
       ".sk-estimator-doc-link:hover span {\n",
       "  display: block;\n",
       "}\n",
       "\n",
       "/* \"?\"-specific style due to the `<a>` HTML tag */\n",
       "\n",
       "#sk-container-id-2 a.estimator_doc_link {\n",
       "  float: right;\n",
       "  font-size: 1rem;\n",
       "  line-height: 1em;\n",
       "  font-family: monospace;\n",
       "  background-color: var(--sklearn-color-background);\n",
       "  border-radius: 1rem;\n",
       "  height: 1rem;\n",
       "  width: 1rem;\n",
       "  text-decoration: none;\n",
       "  /* unfitted */\n",
       "  color: var(--sklearn-color-unfitted-level-1);\n",
       "  border: var(--sklearn-color-unfitted-level-1) 1pt solid;\n",
       "}\n",
       "\n",
       "#sk-container-id-2 a.estimator_doc_link.fitted {\n",
       "  /* fitted */\n",
       "  border: var(--sklearn-color-fitted-level-1) 1pt solid;\n",
       "  color: var(--sklearn-color-fitted-level-1);\n",
       "}\n",
       "\n",
       "/* On hover */\n",
       "#sk-container-id-2 a.estimator_doc_link:hover {\n",
       "  /* unfitted */\n",
       "  background-color: var(--sklearn-color-unfitted-level-3);\n",
       "  color: var(--sklearn-color-background);\n",
       "  text-decoration: none;\n",
       "}\n",
       "\n",
       "#sk-container-id-2 a.estimator_doc_link.fitted:hover {\n",
       "  /* fitted */\n",
       "  background-color: var(--sklearn-color-fitted-level-3);\n",
       "}\n",
       "</style><div id=\"sk-container-id-2\" class=\"sk-top-container\"><div class=\"sk-text-repr-fallback\"><pre>XGBClassifier(base_score=None, booster=None, callbacks=None,\n",
       "              colsample_bylevel=None, colsample_bynode=None,\n",
       "              colsample_bytree=None, device=None, early_stopping_rounds=None,\n",
       "              enable_categorical=False, eval_metric=None, feature_types=None,\n",
       "              feature_weights=None, gamma=None, grow_policy=None,\n",
       "              importance_type=None, interaction_constraints=None,\n",
       "              learning_rate=None, max_bin=None, max_cat_threshold=None,\n",
       "              max_cat_to_onehot=None, max_delta_step=None, max_depth=3,\n",
       "              max_leaves=None, min_child_weight=None, missing=nan,\n",
       "              monotone_constraints=None, multi_strategy=None, n_estimators=None,\n",
       "              n_jobs=None, num_parallel_tree=None, ...)</pre><b>In a Jupyter environment, please rerun this cell to show the HTML representation or trust the notebook. <br />On GitHub, the HTML representation is unable to render, please try loading this page with nbviewer.org.</b></div><div class=\"sk-container\" hidden><div class=\"sk-item\"><div class=\"sk-estimator fitted sk-toggleable\"><input class=\"sk-toggleable__control sk-hidden--visually\" id=\"sk-estimator-id-2\" type=\"checkbox\" checked><label for=\"sk-estimator-id-2\" class=\"sk-toggleable__label fitted sk-toggleable__label-arrow\"><div><div>XGBClassifier</div></div><div><a class=\"sk-estimator-doc-link fitted\" rel=\"noreferrer\" target=\"_blank\" href=\"https://xgboost.readthedocs.io/en/release_3.0.0/python/python_api.html#xgboost.XGBClassifier\">?<span>Documentation for XGBClassifier</span></a><span class=\"sk-estimator-doc-link fitted\">i<span>Fitted</span></span></div></label><div class=\"sk-toggleable__content fitted\"><pre>XGBClassifier(base_score=None, booster=None, callbacks=None,\n",
       "              colsample_bylevel=None, colsample_bynode=None,\n",
       "              colsample_bytree=None, device=None, early_stopping_rounds=None,\n",
       "              enable_categorical=False, eval_metric=None, feature_types=None,\n",
       "              feature_weights=None, gamma=None, grow_policy=None,\n",
       "              importance_type=None, interaction_constraints=None,\n",
       "              learning_rate=None, max_bin=None, max_cat_threshold=None,\n",
       "              max_cat_to_onehot=None, max_delta_step=None, max_depth=3,\n",
       "              max_leaves=None, min_child_weight=None, missing=nan,\n",
       "              monotone_constraints=None, multi_strategy=None, n_estimators=None,\n",
       "              n_jobs=None, num_parallel_tree=None, ...)</pre></div> </div></div></div></div>"
      ]
     },
     "execution_count": 42,
     "metadata": {},
     "output_type": "execute_result"
    }
   ],
   "execution_count": 42
  },
  {
   "metadata": {
    "ExecuteTime": {
     "end_time": "2025-07-21T06:42:50.797486Z",
     "start_time": "2025-07-21T06:42:50.795330Z"
    }
   },
   "cell_type": "code",
   "source": "y_pred = xgb_clf.predict(X_val_scaled)",
   "id": "6544977fe1bc5f19",
   "outputs": [],
   "execution_count": 43
  },
  {
   "cell_type": "code",
   "id": "311f636e-8c63-42a8-b782-c4f79f73b470",
   "metadata": {
    "ExecuteTime": {
     "end_time": "2025-07-21T06:42:50.817599Z",
     "start_time": "2025-07-21T06:42:50.812715Z"
    }
   },
   "source": [
    "# classification_report\n",
    "print(classification_report(y_val, y_pred))"
   ],
   "outputs": [
    {
     "name": "stdout",
     "output_type": "stream",
     "text": [
      "              precision    recall  f1-score   support\n",
      "\n",
      "           0       0.82      0.78      0.80       132\n",
      "           1       0.59      0.66      0.62        64\n",
      "\n",
      "    accuracy                           0.74       196\n",
      "   macro avg       0.71      0.72      0.71       196\n",
      "weighted avg       0.75      0.74      0.74       196\n",
      "\n"
     ]
    }
   ],
   "execution_count": 44
  },
  {
   "cell_type": "code",
   "id": "72a6b6c5-c0d2-4820-ab26-ef0f0c23cb6a",
   "metadata": {
    "ExecuteTime": {
     "end_time": "2025-07-21T06:42:50.893078Z",
     "start_time": "2025-07-21T06:42:50.891200Z"
    }
   },
   "source": [
    "# 최종 테스트 데이터 예측 및 저장\n",
    "pred_test = xgb_clf.predict(X_test_scaled)"
   ],
   "outputs": [],
   "execution_count": 45
  },
  {
   "metadata": {
    "ExecuteTime": {
     "end_time": "2025-07-21T06:42:50.979160Z",
     "start_time": "2025-07-21T06:42:50.976613Z"
    }
   },
   "cell_type": "code",
   "source": [
    "submission['Outcome'] = pred_test\n",
    "submission.head()"
   ],
   "id": "9e185ae71dea218a",
   "outputs": [
    {
     "data": {
      "text/plain": [
       "    Patient_ID  Outcome\n",
       "0  Patient_227        0\n",
       "1  Patient_611        0\n",
       "2  Patient_506        0\n",
       "3  Patient_471        0\n",
       "4  Patient_475        0"
      ],
      "text/html": [
       "<div>\n",
       "<style scoped>\n",
       "    .dataframe tbody tr th:only-of-type {\n",
       "        vertical-align: middle;\n",
       "    }\n",
       "\n",
       "    .dataframe tbody tr th {\n",
       "        vertical-align: top;\n",
       "    }\n",
       "\n",
       "    .dataframe thead th {\n",
       "        text-align: right;\n",
       "    }\n",
       "</style>\n",
       "<table border=\"1\" class=\"dataframe\">\n",
       "  <thead>\n",
       "    <tr style=\"text-align: right;\">\n",
       "      <th></th>\n",
       "      <th>Patient_ID</th>\n",
       "      <th>Outcome</th>\n",
       "    </tr>\n",
       "  </thead>\n",
       "  <tbody>\n",
       "    <tr>\n",
       "      <th>0</th>\n",
       "      <td>Patient_227</td>\n",
       "      <td>0</td>\n",
       "    </tr>\n",
       "    <tr>\n",
       "      <th>1</th>\n",
       "      <td>Patient_611</td>\n",
       "      <td>0</td>\n",
       "    </tr>\n",
       "    <tr>\n",
       "      <th>2</th>\n",
       "      <td>Patient_506</td>\n",
       "      <td>0</td>\n",
       "    </tr>\n",
       "    <tr>\n",
       "      <th>3</th>\n",
       "      <td>Patient_471</td>\n",
       "      <td>0</td>\n",
       "    </tr>\n",
       "    <tr>\n",
       "      <th>4</th>\n",
       "      <td>Patient_475</td>\n",
       "      <td>0</td>\n",
       "    </tr>\n",
       "  </tbody>\n",
       "</table>\n",
       "</div>"
      ]
     },
     "execution_count": 46,
     "metadata": {},
     "output_type": "execute_result"
    }
   ],
   "execution_count": 46
  },
  {
   "metadata": {
    "ExecuteTime": {
     "end_time": "2025-07-21T06:42:51.016661Z",
     "start_time": "2025-07-21T06:42:51.014508Z"
    }
   },
   "cell_type": "code",
   "source": "submission.to_csv('submission.csv', index=False)",
   "id": "ba2e801f5cd92847",
   "outputs": [],
   "execution_count": 47
  },
  {
   "cell_type": "markdown",
   "id": "eaff3e04-c1f6-408a-a798-eb9787a41526",
   "metadata": {},
   "source": [
    "### Submission 점수 확인\n",
    "\n",
    "- 실제 사이트에 제출하는 것 처럼\n",
    "- 제출한 `submission.csv` 를 정답 레이블 데이터와 accuracy 평가"
   ]
  }
 ],
 "metadata": {
  "kernelspec": {
   "display_name": "DL_P312",
   "language": "python",
   "name": "python3"
  },
  "language_info": {
   "codemirror_mode": {
    "name": "ipython",
    "version": 3
   },
   "file_extension": ".py",
   "mimetype": "text/x-python",
   "name": "python",
   "nbconvert_exporter": "python",
   "pygments_lexer": "ipython3",
   "version": "3.12.8"
  }
 },
 "nbformat": 4,
 "nbformat_minor": 5
}
