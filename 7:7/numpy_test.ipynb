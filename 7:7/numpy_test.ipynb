{
 "cells": [
  {
   "cell_type": "code",
   "id": "initial_id",
   "metadata": {
    "collapsed": true,
    "ExecuteTime": {
     "end_time": "2025-07-07T04:02:05.263589Z",
     "start_time": "2025-07-07T04:02:05.207036Z"
    }
   },
   "source": [
    "import numpy as np\n",
    "print(np.__version__)"
   ],
   "outputs": [
    {
     "name": "stdout",
     "output_type": "stream",
     "text": [
      "1.26.4\n"
     ]
    }
   ],
   "execution_count": 1
  },
  {
   "metadata": {
    "ExecuteTime": {
     "end_time": "2025-07-07T04:02:05.429993Z",
     "start_time": "2025-07-07T04:02:05.425773Z"
    }
   },
   "cell_type": "code",
   "source": [
    "ar1 = np.array([1, 2, 3, 4, 5])\n",
    "print(ar1, type(ar1))"
   ],
   "id": "13a744d8692e6ba1",
   "outputs": [
    {
     "name": "stdout",
     "output_type": "stream",
     "text": [
      "[1 2 3 4 5] <class 'numpy.ndarray'>\n"
     ]
    }
   ],
   "execution_count": 2
  },
  {
   "metadata": {
    "ExecuteTime": {
     "end_time": "2025-07-07T04:02:05.611876Z",
     "start_time": "2025-07-07T04:02:05.607132Z"
    }
   },
   "cell_type": "code",
   "source": [
    "ar2 = np.array([[10, 20, 30], [40, 50, 60]])\n",
    "print(ar2, type(ar2))"
   ],
   "id": "8132f13adeaa97ce",
   "outputs": [
    {
     "name": "stdout",
     "output_type": "stream",
     "text": [
      "[[10 20 30]\n",
      " [40 50 60]] <class 'numpy.ndarray'>\n"
     ]
    }
   ],
   "execution_count": 3
  },
  {
   "metadata": {
    "ExecuteTime": {
     "end_time": "2025-07-07T04:02:05.711608Z",
     "start_time": "2025-07-07T04:02:05.709741Z"
    }
   },
   "cell_type": "code",
   "source": [
    "ar3 = np.arange(1, 11, 2)\n",
    "print(ar3, type(ar3))"
   ],
   "id": "c495663eeab20414",
   "outputs": [
    {
     "name": "stdout",
     "output_type": "stream",
     "text": [
      "[1 3 5 7 9] <class 'numpy.ndarray'>\n"
     ]
    }
   ],
   "execution_count": 4
  },
  {
   "metadata": {
    "ExecuteTime": {
     "end_time": "2025-07-07T04:02:05.806576Z",
     "start_time": "2025-07-07T04:02:05.804810Z"
    }
   },
   "cell_type": "code",
   "source": [
    "ar4 = np.array([1, 2, 3, 4, 5, 6]).reshape(3,2)\n",
    "print(ar4, type(ar4))"
   ],
   "id": "f8f5bf6283fe20b8",
   "outputs": [
    {
     "name": "stdout",
     "output_type": "stream",
     "text": [
      "[[1 2]\n",
      " [3 4]\n",
      " [5 6]] <class 'numpy.ndarray'>\n"
     ]
    }
   ],
   "execution_count": 5
  },
  {
   "metadata": {
    "ExecuteTime": {
     "end_time": "2025-07-07T04:02:05.846244Z",
     "start_time": "2025-07-07T04:02:05.844446Z"
    }
   },
   "cell_type": "code",
   "source": [
    "ar5 = np.zeros((2, 3))\n",
    "print(ar5, type(ar5))"
   ],
   "id": "82f934ebb28a04a",
   "outputs": [
    {
     "name": "stdout",
     "output_type": "stream",
     "text": [
      "[[0. 0. 0.]\n",
      " [0. 0. 0.]] <class 'numpy.ndarray'>\n"
     ]
    }
   ],
   "execution_count": 6
  },
  {
   "metadata": {
    "ExecuteTime": {
     "end_time": "2025-07-07T04:02:05.900780Z",
     "start_time": "2025-07-07T04:02:05.898949Z"
    }
   },
   "cell_type": "code",
   "source": [
    "ar6 = ar2[0:2, 0:2]\n",
    "print(ar6, type(ar6))"
   ],
   "id": "e49a1c95815a6ce",
   "outputs": [
    {
     "name": "stdout",
     "output_type": "stream",
     "text": [
      "[[10 20]\n",
      " [40 50]] <class 'numpy.ndarray'>\n"
     ]
    }
   ],
   "execution_count": 7
  },
  {
   "metadata": {
    "ExecuteTime": {
     "end_time": "2025-07-07T04:02:05.941209Z",
     "start_time": "2025-07-07T04:02:05.939396Z"
    }
   },
   "cell_type": "code",
   "source": [
    "ar7 = ar2[0, :]\n",
    "print(ar7, type(ar7))"
   ],
   "id": "2aab381f1506e01c",
   "outputs": [
    {
     "name": "stdout",
     "output_type": "stream",
     "text": [
      "[10 20 30] <class 'numpy.ndarray'>\n"
     ]
    }
   ],
   "execution_count": 8
  },
  {
   "metadata": {
    "ExecuteTime": {
     "end_time": "2025-07-07T04:02:05.974622Z",
     "start_time": "2025-07-07T04:02:05.972605Z"
    }
   },
   "cell_type": "code",
   "source": [
    "ar8 = ar1 + 1\n",
    "print(ar8, type(ar8))\n",
    "print(ar1 + ar8)\n",
    "print(ar8 - ar1)\n",
    "print(ar1 * 2)\n",
    "print(ar1 / 2)"
   ],
   "id": "dc13b62366a0a569",
   "outputs": [
    {
     "name": "stdout",
     "output_type": "stream",
     "text": [
      "[2 3 4 5 6] <class 'numpy.ndarray'>\n",
      "[ 3  5  7  9 11]\n",
      "[1 1 1 1 1]\n",
      "[ 2  4  6  8 10]\n",
      "[0.5 1.  1.5 2.  2.5]\n"
     ]
    }
   ],
   "execution_count": 9
  },
  {
   "metadata": {
    "ExecuteTime": {
     "end_time": "2025-07-07T04:02:06.008071Z",
     "start_time": "2025-07-07T04:02:06.006328Z"
    }
   },
   "cell_type": "code",
   "source": [
    "ar9 = np.dot(ar2, ar4)\n",
    "print(ar9, type(ar9))"
   ],
   "id": "d387621967b4ba9b",
   "outputs": [
    {
     "name": "stdout",
     "output_type": "stream",
     "text": [
      "[[220 280]\n",
      " [490 640]] <class 'numpy.ndarray'>\n"
     ]
    }
   ],
   "execution_count": 10
  }
 ],
 "metadata": {
  "kernelspec": {
   "display_name": "Python 3",
   "language": "python",
   "name": "python3"
  },
  "language_info": {
   "codemirror_mode": {
    "name": "ipython",
    "version": 2
   },
   "file_extension": ".py",
   "mimetype": "text/x-python",
   "name": "python",
   "nbconvert_exporter": "python",
   "pygments_lexer": "ipython2",
   "version": "2.7.6"
  }
 },
 "nbformat": 4,
 "nbformat_minor": 5
}
