{
 "cells": [
  {
   "metadata": {
    "ExecuteTime": {
     "end_time": "2025-07-07T04:07:15.584456Z",
     "start_time": "2025-07-07T04:07:15.582356Z"
    }
   },
   "cell_type": "code",
   "source": [
    "import pandas as pd\n",
    "print(pd.__version__)"
   ],
   "id": "ae5f2ff6da3a8a3",
   "outputs": [
    {
     "name": "stdout",
     "output_type": "stream",
     "text": [
      "2.2.3\n"
     ]
    }
   ],
   "execution_count": 16
  },
  {
   "metadata": {
    "ExecuteTime": {
     "end_time": "2025-07-07T04:07:15.617964Z",
     "start_time": "2025-07-07T04:07:15.616244Z"
    }
   },
   "cell_type": "code",
   "source": [
    "data1 = [10, 20, 30, 40, 50]\n",
    "print(data1, type(data1))"
   ],
   "id": "ab48e27c34d61bf1",
   "outputs": [
    {
     "name": "stdout",
     "output_type": "stream",
     "text": [
      "[10, 20, 30, 40, 50] <class 'list'>\n"
     ]
    }
   ],
   "execution_count": 17
  },
  {
   "metadata": {
    "ExecuteTime": {
     "end_time": "2025-07-07T04:07:15.636831Z",
     "start_time": "2025-07-07T04:07:15.635221Z"
    }
   },
   "cell_type": "code",
   "source": [
    "data2 = ['1반', '2반', '3반', '4반', '5반']\n",
    "print(data2, type(data2))"
   ],
   "id": "4204b30923c69fab",
   "outputs": [
    {
     "name": "stdout",
     "output_type": "stream",
     "text": [
      "['1반', '2반', '3반', '4반', '5반'] <class 'list'>\n"
     ]
    }
   ],
   "execution_count": 18
  },
  {
   "metadata": {
    "ExecuteTime": {
     "end_time": "2025-07-07T04:07:15.653362Z",
     "start_time": "2025-07-07T04:07:15.651486Z"
    }
   },
   "cell_type": "code",
   "source": [
    "sr1 = pd.Series(data1)\n",
    "print(sr1, type(sr1))"
   ],
   "id": "4c24b009220afb7e",
   "outputs": [
    {
     "name": "stdout",
     "output_type": "stream",
     "text": [
      "0    10\n",
      "1    20\n",
      "2    30\n",
      "3    40\n",
      "4    50\n",
      "dtype: int64 <class 'pandas.core.series.Series'>\n"
     ]
    }
   ],
   "execution_count": 19
  },
  {
   "metadata": {
    "ExecuteTime": {
     "end_time": "2025-07-07T04:07:15.670688Z",
     "start_time": "2025-07-07T04:07:15.668746Z"
    }
   },
   "cell_type": "code",
   "source": [
    "sr2 = pd.Series(data2)\n",
    "print(sr2, type(sr2))"
   ],
   "id": "d273d75fca94d4f6",
   "outputs": [
    {
     "name": "stdout",
     "output_type": "stream",
     "text": [
      "0    1반\n",
      "1    2반\n",
      "2    3반\n",
      "3    4반\n",
      "4    5반\n",
      "dtype: object <class 'pandas.core.series.Series'>\n"
     ]
    }
   ],
   "execution_count": 20
  },
  {
   "metadata": {
    "ExecuteTime": {
     "end_time": "2025-07-07T04:07:15.683820Z",
     "start_time": "2025-07-07T04:07:15.681843Z"
    }
   },
   "cell_type": "code",
   "source": [
    "sr3 = pd.Series([101, 102, 103, 104, 105])\n",
    "print(sr3, type(sr3))"
   ],
   "id": "35063379dd0b122c",
   "outputs": [
    {
     "name": "stdout",
     "output_type": "stream",
     "text": [
      "0    101\n",
      "1    102\n",
      "2    103\n",
      "3    104\n",
      "4    105\n",
      "dtype: int64 <class 'pandas.core.series.Series'>\n"
     ]
    }
   ],
   "execution_count": 21
  },
  {
   "metadata": {
    "ExecuteTime": {
     "end_time": "2025-07-07T04:07:15.701954Z",
     "start_time": "2025-07-07T04:07:15.700184Z"
    }
   },
   "cell_type": "code",
   "source": [
    "sr4 = pd.Series(['월', '화', '수', '목', '금'])\n",
    "print(sr4, type(sr4))"
   ],
   "id": "39f6d71e7f2451d7",
   "outputs": [
    {
     "name": "stdout",
     "output_type": "stream",
     "text": [
      "0    월\n",
      "1    화\n",
      "2    수\n",
      "3    목\n",
      "4    금\n",
      "dtype: object <class 'pandas.core.series.Series'>\n"
     ]
    }
   ],
   "execution_count": 22
  }
 ],
 "metadata": {
  "kernelspec": {
   "display_name": "Python 3",
   "language": "python",
   "name": "python3"
  },
  "language_info": {
   "codemirror_mode": {
    "name": "ipython",
    "version": 2
   },
   "file_extension": ".py",
   "mimetype": "text/x-python",
   "name": "python",
   "nbconvert_exporter": "python",
   "pygments_lexer": "ipython2",
   "version": "2.7.6"
  }
 },
 "nbformat": 4,
 "nbformat_minor": 5
}
