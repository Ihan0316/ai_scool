{
 "cells": [
  {
   "cell_type": "code",
   "id": "initial_id",
   "metadata": {
    "collapsed": true,
    "ExecuteTime": {
     "end_time": "2025-07-07T06:23:48.986695Z",
     "start_time": "2025-07-07T06:23:48.982667Z"
    }
   },
   "source": [
    "import os\n",
    "import urllib.request\n",
    "import datetime\n",
    "import json\n",
    "from dotenv import load_dotenv\n",
    "\n",
    "load_dotenv()\n",
    "\n",
    "client_id= os.getenv('NAVER_CLIENT_ID')\n",
    "client_secret= os.getenv('NAVER_CLIENT_SECRET')\n",
    "#[CODE 1]\n",
    "def getRequestUrl(url):\n",
    "    req = urllib.request.Request(url)\n",
    "    req.add_header(\"X-Naver-Client-Id\", client_id)\n",
    "    req.add_header(\"X-Naver-Client-Secret\", client_secret)\n",
    "    try:\n",
    "        response = urllib.request.urlopen(req)\n",
    "        if response.getcode() == 200:\n",
    "            print(\"[%s] Url Request Success\" % datetime.datetime.now())\n",
    "            return response.read().decode('utf-8')\n",
    "    except Exception as e:\n",
    "        print(e)\n",
    "        print(\"[%s] Error for URL : %s\" % (datetime.datetime.now(), url))\n",
    "        return None"
   ],
   "outputs": [],
   "execution_count": 36
  },
  {
   "metadata": {
    "ExecuteTime": {
     "end_time": "2025-07-07T06:23:49.005903Z",
     "start_time": "2025-07-07T06:23:49.003884Z"
    }
   },
   "cell_type": "code",
   "source": [
    "#[CODE 2]\n",
    "def getNaverSearch(node, srcText, start, display):\n",
    "    base = \"https://openapi.naver.com/v1/search\"\n",
    "    node = \"/%s.json\" % node\n",
    "    parameters = \"?query=%s&start=%s&display=%s\" % (urllib.parse.quote(srcText), start,display)\n",
    "    url = base + node + parameters\n",
    "    responseDecode = getRequestUrl(url) #[CODE 1]\n",
    "    if (responseDecode == None):\n",
    "        return None\n",
    "    else:\n",
    "        return json.loads(responseDecode)\n"
   ],
   "id": "99dd36c66fc143ec",
   "outputs": [],
   "execution_count": 37
  },
  {
   "metadata": {
    "ExecuteTime": {
     "end_time": "2025-07-07T06:23:49.015034Z",
     "start_time": "2025-07-07T06:23:49.012796Z"
    }
   },
   "cell_type": "code",
   "source": [
    "#[CODE 3]\n",
    "def getPostData(post, jsonResult, cnt):\n",
    "    title = post['title']\n",
    "    description = post['description']\n",
    "    org_link = post['originallink']\n",
    "    link = post['link']\n",
    "\n",
    "    pdate = datetime.datetime.strptime(post['pubDate'], '%a, %d %b %Y %H:%M:%S +0900')\n",
    "    pdate = pdate.strftime('%Y-%m-%d %H:%M:%S')\n",
    "\n",
    "    jsonResult.append({'cnt':cnt, 'title':title, 'description': description, 'org_link':org_link, 'link': link, 'pdate':pdate})\n",
    "    return\n",
    "\n",
    "def getPostData_Blog(post, jsonResult, cnt):\n",
    "    title = post['title']\n",
    "    description = post['description']\n",
    "    org_link = post['bloggerlink']\n",
    "    link = post['link']\n",
    "    pDate = datetime.datetime.strptime(post['postdate'], '%Y%m%d')\n",
    "    pDate = pDate.strftime('%Y-%m-%d %H:%M:%S')\n",
    "    jsonResult.append({'cnt':cnt, 'title':title, 'description': description, 'org_link':org_link, 'link': link, 'pDate':pDate})\n",
    "    return\n",
    "# \"title\"\n",
    "#\"description\"\n",
    "# \"link\":\"\n",
    "# \"bloggername\":\"하루집사의 IT한마당\",\n",
    "# \"bloggerlink\":\"blog.naver.com\\/dltmdgns2525\",\n",
    "# \"postdate\":\"20250218\"\n"
   ],
   "id": "ab254d04cdbe9e12",
   "outputs": [],
   "execution_count": 38
  },
  {
   "metadata": {
    "ExecuteTime": {
     "end_time": "2025-07-07T06:23:57.881030Z",
     "start_time": "2025-07-07T06:23:49.021927Z"
    }
   },
   "cell_type": "code",
   "source": [
    "#[CODE 0]\n",
    "def main():\n",
    "    node = 'news' #크롤링할 대상\n",
    "    srcText = input('검색어를 입력하세요: ')\n",
    "    cnt = 0\n",
    "    jsonResult = []\n",
    "    jsonResponse = getNaverSearch(node, srcText, 1, 100) #[CODE 2]\n",
    "    total = jsonResponse['total']\n",
    "    while ((jsonResponse != None) and (jsonResponse['display'] != 0)):\n",
    "        for post in jsonResponse['items']:\n",
    "            cnt += 1\n",
    "            getPostData(post, jsonResult, cnt) #[CODE 3]\n",
    "            # getPostData_Blog(post, jsonResult, cnt) #[CODE 3]\n",
    "        start = jsonResponse['start'] + jsonResponse['display']\n",
    "        jsonResponse = getNaverSearch(node, srcText, start, 100) #[CODE 2]\n",
    "\n",
    "    print('전체 검색 : %d 건' %total)\n",
    "\n",
    "    with open('%s_naver_%s.json' % (srcText, node), 'w', encoding='utf8') as outfile:\n",
    "        jsonFile = json.dumps(jsonResult, indent = 4, sort_keys = True, ensure_ascii = False)\n",
    "        outfile.write(jsonFile)\n",
    "\n",
    "    print(\"가져온 데이터 : %d 건\" %(cnt))\n",
    "    print('%s_naver_%s.json SAVED' % (srcText, node))\n",
    "\n",
    "if __name__ == '__main__':\n",
    "    main()"
   ],
   "id": "f2cbe6075213a167",
   "outputs": [
    {
     "name": "stdout",
     "output_type": "stream",
     "text": [
      "[2025-07-07 15:23:56.358128] Url Request Success\n",
      "[2025-07-07 15:23:56.487693] Url Request Success\n",
      "[2025-07-07 15:23:56.629789] Url Request Success\n",
      "[2025-07-07 15:23:56.773612] Url Request Success\n",
      "[2025-07-07 15:23:56.934956] Url Request Success\n",
      "[2025-07-07 15:23:57.102589] Url Request Success\n",
      "[2025-07-07 15:23:57.274494] Url Request Success\n",
      "[2025-07-07 15:23:57.445151] Url Request Success\n",
      "[2025-07-07 15:23:57.618430] Url Request Success\n",
      "[2025-07-07 15:23:57.809096] Url Request Success\n",
      "HTTP Error 400: Bad Request\n",
      "[2025-07-07 15:23:57.875520] Error for URL : https://openapi.naver.com/v1/search/news.json?query=%EC%9D%B8%EA%B3%B5%EC%A7%80%EB%8A%A5%EC%82%AC%EA%B4%80%ED%95%99%EA%B5%90&start=1001&display=100\n",
      "전체 검색 : 11981 건\n",
      "가져온 데이터 : 1000 건\n",
      "인공지능사관학교_naver_news.json SAVED\n"
     ]
    }
   ],
   "execution_count": 39
  }
 ],
 "metadata": {
  "kernelspec": {
   "display_name": "Python 3",
   "language": "python",
   "name": "python3"
  },
  "language_info": {
   "codemirror_mode": {
    "name": "ipython",
    "version": 2
   },
   "file_extension": ".py",
   "mimetype": "text/x-python",
   "name": "python",
   "nbconvert_exporter": "python",
   "pygments_lexer": "ipython2",
   "version": "2.7.6"
  }
 },
 "nbformat": 4,
 "nbformat_minor": 5
}
