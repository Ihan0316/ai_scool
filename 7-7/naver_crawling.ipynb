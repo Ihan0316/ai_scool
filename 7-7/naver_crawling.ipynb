{
 "cells": [
  {
   "metadata": {
    "ExecuteTime": {
     "end_time": "2025-07-07T05:38:34.050230Z",
     "start_time": "2025-07-07T05:38:21.281683Z"
    }
   },
   "cell_type": "code",
   "source": [
    "import os\n",
    "import urllib.request\n",
    "import datetime\n",
    "\n",
    "import json\n",
    "from dotenv import load_dotenv\n",
    "\n",
    "load_dotenv()\n",
    "\n",
    "def getRequestUrl(url):\n",
    "    req = urllib.request.Request(url)\n",
    "    req.add_header(\"X-Naver-Client-Id\", os.getenv('NAVER_CLIENT_ID'))\n",
    "    req.add_header(\"X-Naver-Client-Secret\", os.getenv('NAVER_CLIENT_SECRET'))\n",
    "\n",
    "    try:\n",
    "        response = urllib.request.urlopen(req)\n",
    "        if response.getcode() == 200:\n",
    "            print(\"[%s] Url Request Success\" % datetime.datetime.now())\n",
    "            return response.read().decode('utf-8')\n",
    "    except Exception as e:\n",
    "        print(e)\n",
    "        print(\"[%s] Error for URL : %s\" % (datetime.datetime.now(), url))\n",
    "        return None\n",
    "\n",
    "def getNaverSearch(node, srcText, start, display):\n",
    "    base = \"https://openapi.naver.com/v1/search\"\n",
    "    node = \"/%s.json\" % node\n",
    "    parameters = \"?query=%s&start=%s&display=%s\" % (urllib.parse.quote(srcText), start, display)\n",
    "\n",
    "    url = base + node + parameters\n",
    "    responsedecode = getRequestUrl(url) #[CODE 1]\n",
    "\n",
    "    if responsedecode == None:\n",
    "        return None\n",
    "    else:\n",
    "        return json.loads(responsedecode)\n",
    "\n",
    "def getPostData(post, jsonResult, cnt):\n",
    "    title = post['title']\n",
    "    description = post['description']\n",
    "    org_link = post['originallink']\n",
    "    link = post['link']\n",
    "\n",
    "    pdate = datetime.datetime.strptime(post['pubDate'], '%a, %d %b %Y %H:%M:%S +0900')\n",
    "    pdate = pdate.strftime('%Y-%m-%d %H:%M:%S')\n",
    "\n",
    "    jsonResult.append({'cnt':cnt, 'title':title, 'description': description,'org_link':org_link, 'link': link, 'pdate':pdate})\n",
    "    return\n",
    "\n",
    "def main():\n",
    "    node = 'news' #크롤링할 대상\n",
    "    srctext = input('검색어를 입력하세요: ')\n",
    "    cnt = 0\n",
    "    jsonresult = []\n",
    "\n",
    "    jsonresponse = getNaverSearch(node, srctext, 1, 100) #[CODE 2]\n",
    "    total = jsonresponse['total']\n",
    "\n",
    "    while ((jsonresponse != None) and (jsonresponse['display'] != 0)):\n",
    "        for post in jsonresponse['items']:\n",
    "            cnt += 1\n",
    "            getPostData(post, jsonresult, cnt) #[CODE 3]\n",
    "\n",
    "        start = jsonresponse['start'] + jsonresponse['display']\n",
    "        jsonresponse = getNaverSearch(node, srctext, start, 100) #[CODE 2]\n",
    "\n",
    "    print('전체 검색 : %d 건' %total)\n",
    "\n",
    "    with open('%s_naver_%s.json' % (srctext, node), 'w', encoding='utf8') as outfile:\n",
    "        jsonfile = json.dumps(jsonresult, indent=4, sort_keys=True, ensure_ascii=False)\n",
    "        outfile.write(jsonfile)\n",
    "\n",
    "    print(\"가져온 데이터 : %d 건\" %(cnt))\n",
    "    print('%s_naver_%s.json SAVED' % (srctext, node))\n",
    "\n",
    "\n",
    "if __name__ == '__main__':\n",
    "    main()"
   ],
   "id": "5455da1b78d63d77",
   "outputs": [
    {
     "name": "stdout",
     "output_type": "stream",
     "text": [
      "[2025-07-07 14:38:32.481415] Url Request Success\n",
      "[2025-07-07 14:38:32.611220] Url Request Success\n",
      "[2025-07-07 14:38:32.752202] Url Request Success\n",
      "[2025-07-07 14:38:32.908682] Url Request Success\n",
      "[2025-07-07 14:38:33.072626] Url Request Success\n",
      "[2025-07-07 14:38:33.242399] Url Request Success\n",
      "[2025-07-07 14:38:33.415141] Url Request Success\n",
      "[2025-07-07 14:38:33.591066] Url Request Success\n",
      "[2025-07-07 14:38:33.796354] Url Request Success\n",
      "[2025-07-07 14:38:33.973750] Url Request Success\n",
      "HTTP Error 400: Bad Request\n",
      "[2025-07-07 14:38:34.044617] Error for URL : https://openapi.naver.com/v1/search/news.json?query=%EC%9D%B8%EA%B3%B5%EC%A7%80%EB%8A%A5%EC%82%AC%EA%B4%80%ED%95%99%EA%B5%90&start=1001&display=100\n",
      "전체 검색 : 11980 건\n",
      "가져온 데이터 : 1000 건\n",
      "인공지능사관학교_naver_news.json SAVED\n"
     ]
    }
   ],
   "execution_count": 4
  }
 ],
 "metadata": {
  "kernelspec": {
   "display_name": "Python 3",
   "language": "python",
   "name": "python3"
  },
  "language_info": {
   "codemirror_mode": {
    "name": "ipython",
    "version": 2
   },
   "file_extension": ".py",
   "mimetype": "text/x-python",
   "name": "python",
   "nbconvert_exporter": "python",
   "pygments_lexer": "ipython2",
   "version": "2.7.6"
  }
 },
 "nbformat": 4,
 "nbformat_minor": 5
}
